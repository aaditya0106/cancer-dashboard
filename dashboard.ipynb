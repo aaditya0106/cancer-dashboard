{
 "cells": [
  {
   "cell_type": "code",
   "execution_count": 6,
   "id": "2021a631-e290-47f8-b4c7-e4ca2d3f1849",
   "metadata": {},
   "outputs": [],
   "source": [
    "import streamlit as st\n",
    "from streamlit_lottie import st_lottie\n",
    "import json\n",
    "\n",
    "import numpy as np\n",
    "import pandas as pd\n",
    "import plotly.express as px\n",
    "import plotly.graph_objects as go"
   ]
  },
  {
   "cell_type": "code",
   "execution_count": 8,
   "id": "b2506848-f5b0-426e-a152-88f823a94d97",
   "metadata": {},
   "outputs": [],
   "source": [
    "st.set_page_config(page_title=\"Breast Cancer Dashboard\", layout=\"wide\")"
   ]
  },
  {
   "cell_type": "code",
   "execution_count": 5,
   "id": "a4e7f93a-3ca0-41b5-b28c-d3dfa06d3cd4",
   "metadata": {
    "collapsed": true,
    "jupyter": {
     "outputs_hidden": true
    },
    "scrolled": true
   },
   "outputs": [
    {
     "name": "stderr",
     "output_type": "stream",
     "text": [
      "2024-11-27 19:51:48.548 \n",
      "  \u001b[33m\u001b[1mWarning:\u001b[0m to view this Streamlit app on a browser, run it with the following\n",
      "  command:\n",
      "\n",
      "    streamlit run /opt/anaconda3/lib/python3.12/site-packages/ipykernel_launcher.py [ARGUMENTS]\n"
     ]
    }
   ],
   "source": [
    "# Display lottie animation on the landing page\n",
    "with open('lottie.json', \"r\") as f:\n",
    "    lottie_animation = json.load(f)\n",
    "\n",
    "_, col, _ = st.columns([1,4,1])\n",
    "with col:\n",
    "    st_lottie(lottie_animation, height=550, width=900)\n",
    "    st.write(\"Explore data-driven insights and visualizations to understand breast cancer better.\")"
   ]
  },
  {
   "cell_type": "code",
   "execution_count": null,
   "id": "6b964a6e-a313-45ff-9af3-ba4edca2d18c",
   "metadata": {},
   "outputs": [],
   "source": [
    "# year vs no of patients with age when diagnosed\n",
    "df1 = pd.read_csv('patients by year and age.csv')\n",
    "fig = px.line(\n",
    "        df1,\n",
    "        x='Year of Diagnosis',\n",
    "        y='Number of Patients',\n",
    "        color='Age Group', \n",
    "        title='Number of Patients by Year and Age Group',\n",
    "        labels={'Number of Patients': 'Number of Patients', 'Year': 'Year'},\n",
    "        color_discrete_sequence=px.colors.qualitative.T10,\n",
    "        height=600,\n",
    "        width=800\n",
    "    )\n",
    "fig.update_layout(yaxis=dict(tickmode='auto',  nticks=15))\n",
    "\n",
    "st.title(\"Journey Begins\")\n",
    "_, col, _ = st.columns([1,4,1])\n",
    "with col:\n",
    "    st.plotly_chart(fig)"
   ]
  },
  {
   "cell_type": "code",
   "execution_count": null,
   "id": "e03e6a7d-9c0e-405a-9f6b-b8b8dc3a2d33",
   "metadata": {},
   "outputs": [],
   "source": [
    "st.title('Age Range Slider')"
   ]
  },
  {
   "cell_type": "code",
   "execution_count": null,
   "id": "6b9a0345-a748-43b2-ad3f-943ad386c483",
   "metadata": {},
   "outputs": [],
   "source": [
    "# select agr group range\n",
    "age_range = st.slider(\n",
    "    \"Select Age Group Range:\",\n",
    "    min_value=0,\n",
    "    max_value=100,\n",
    "    value=(20, 50),  # Default range\n",
    "    step=1\n",
    ")"
   ]
  },
  {
   "cell_type": "code",
   "execution_count": null,
   "id": "6307da4d-2e8f-46b3-b83a-f4d3e96742d0",
   "metadata": {},
   "outputs": [],
   "source": [
    "st.subheader('Tumor Sites Analysis')\n",
    "age_groups = st.multiselect(\n",
    "    \"Select an Age Group:\", \n",
    "    options =[f'{i}-{i+9} yrs' for i in range(5, 85, 10)], \n",
    "    default = '55-64 yrs'\n",
    ")"
   ]
  },
  {
   "cell_type": "code",
   "execution_count": null,
   "id": "6f53ab59-e72c-453e-ac28-594ebc144f2f",
   "metadata": {},
   "outputs": [],
   "source": [
    "alluvial_data = pd.read_csv('laterality vs tumor site alluvial.csv')\n",
    "al_data = alluvial_data[alluvial_data.age_group.isin(age_groups)].drop(columns = ['age_group'])"
   ]
  },
  {
   "cell_type": "code",
   "execution_count": null,
   "id": "b04bd0dc-9965-4f06-a4f5-5229d1fb3991",
   "metadata": {},
   "outputs": [],
   "source": [
    "labels = list(al_data.laterality.unique()) + list(al_data.tumor_site.unique())\n",
    "source = al_data.laterality.apply(lambda x: list(al_data.laterality.unique()).index(x))\n",
    "\n",
    "lateralityfig = go.Figure(data=[go.Sankey(\n",
    "    node=dict(\n",
    "        pad=20,\n",
    "        thickness=20,\n",
    "        line=dict(color=\"black\", width=0.5),\n",
    "        label=labels,\n",
    "        color='rgba(200,200,200,0.8)'\n",
    "    ),\n",
    "    link=dict(\n",
    "        source=source,\n",
    "        target=al_data['tumor_site'].apply(lambda x: len(al_data.laterality.unique()) + list(al_data.tumor_site.unique()).index(x)),\n",
    "        value=al_data['count'],\n",
    "        color=[px.colors.qualitative.Pastel[i % len(px.colors.qualitative.Pastel)] for i in source],\n",
    "    )\n",
    ")])\n",
    "lateralityfig.update_layout(\n",
    "    title_text=\"Laterality vs Tumor Site\",\n",
    "    font_size=14,\n",
    "    title_font_size=20,\n",
    "    #height=600,\n",
    "    plot_bgcolor='white',\n",
    "    margin=dict(l=60, r=60, t=30, b=30),\n",
    ")"
   ]
  },
  {
   "cell_type": "code",
   "execution_count": null,
   "id": "0492d88d-4dc1-4dad-a21c-6cba9b380574",
   "metadata": {},
   "outputs": [],
   "source": [
    "radar_data = pd.read_csv('age vs site radar data.csv')\n",
    "radar_data_melted = radar_data.melt(id_vars='age_group', var_name='tumor_site', value_name='count')"
   ]
  },
  {
   "cell_type": "code",
   "execution_count": null,
   "id": "bfb5c4a9-595f-4644-86fb-41c91e06a57b",
   "metadata": {},
   "outputs": [],
   "source": [
    "filtered_radar_data = radar_data_melted[radar_data_melted.age_group.isin(age_groups)]\n",
    "agefig = px.line_polar(\n",
    "    filtered_radar_data,\n",
    "    r='count',\n",
    "    theta='tumor_site',\n",
    "    color='age_group',\n",
    "    line_close=True,\n",
    "    title=\"Tumor Sites Across Age Groups\",\n",
    "    #height=600,\n",
    "    #width=600\n",
    ")\n",
    "agefig.update_traces(fill='toself')\n",
    "agefig.update_layout(\n",
    "    margin=dict(l=50, r=50, t=50, b=50),\n",
    "    polar=dict(\n",
    "        angularaxis=dict(tickfont=dict(size=10))\n",
    "    )\n",
    ")"
   ]
  },
  {
   "cell_type": "code",
   "execution_count": null,
   "id": "60bb17a5-c9ea-4e80-803f-dbe6a2590843",
   "metadata": {},
   "outputs": [],
   "source": [
    "col1, col2 = st.columns(2, gap = 'medium')\n",
    "with col1:\n",
    "    st.plotly_chart(lateralityfig, use_container_width=False)\n",
    "with col2:\n",
    "    st.plotly_chart(agefig, use_container_width=False)"
   ]
  }
 ],
 "metadata": {
  "kernelspec": {
   "display_name": "Python 3 (ipykernel)",
   "language": "python",
   "name": "python3"
  },
  "language_info": {
   "codemirror_mode": {
    "name": "ipython",
    "version": 3
   },
   "file_extension": ".py",
   "mimetype": "text/x-python",
   "name": "python",
   "nbconvert_exporter": "python",
   "pygments_lexer": "ipython3",
   "version": "3.12.4"
  }
 },
 "nbformat": 4,
 "nbformat_minor": 5
}
