{
 "cells": [
  {
   "cell_type": "markdown",
   "metadata": {},
   "source": [
    "<h1 style=\"color:#008000;font-size:26px\">SEER Breast Cancer Data Analysis</h1>\n",
    "\n",
    "<h3 style=\"color:#8B0000;\">Imported All the necessary libraries:</h3>"
   ]
  },
  {
   "cell_type": "code",
   "execution_count": 1,
   "metadata": {},
   "outputs": [],
   "source": [
    "import numpy as np\n",
    "import pandas as pd\n",
    "import matplotlib.pyplot as plt\n",
    "import seaborn as sns\n",
    "from sklearn.preprocessing import StandardScaler\n",
    "from sklearn.model_selection import train_test_split\n",
    "\n",
    "# Random Forest\n",
    "from sklearn.ensemble import RandomForestClassifier\n",
    "# K-Nearest Neighbors\n",
    "from sklearn.neighbors import KNeighborsClassifier\n",
    "\n",
    "#Gradient Boosting Classifier\n",
    "from sklearn.ensemble import GradientBoostingClassifier\n",
    "# XGBClassifier \n",
    "from xgboost import XGBClassifier\n",
    "#AdaBoostClassifier\n",
    "from sklearn.ensemble import AdaBoostClassifier\n",
    "#LogisticRegression\n",
    "from sklearn.linear_model import LogisticRegression\n",
    "\n",
    "from sklearn.metrics import confusion_matrix\n",
    "from sklearn.metrics import accuracy_score, classification_report\n"
   ]
  },
  {
   "cell_type": "markdown",
   "metadata": {},
   "source": [
    "<h3 style=\"color:#8B0000;\"> Read the Data set and store it in a pandas Data Frame:</h3>"
   ]
  },
  {
   "cell_type": "code",
   "execution_count": 2,
   "metadata": {},
   "outputs": [
    {
     "data": {
      "text/html": [
       "<div>\n",
       "<style scoped>\n",
       "    .dataframe tbody tr th:only-of-type {\n",
       "        vertical-align: middle;\n",
       "    }\n",
       "\n",
       "    .dataframe tbody tr th {\n",
       "        vertical-align: top;\n",
       "    }\n",
       "\n",
       "    .dataframe thead th {\n",
       "        text-align: right;\n",
       "    }\n",
       "</style>\n",
       "<table border=\"1\" class=\"dataframe\">\n",
       "  <thead>\n",
       "    <tr style=\"text-align: right;\">\n",
       "      <th></th>\n",
       "      <th>Age recode with &lt;1 year olds</th>\n",
       "      <th>Year of birth</th>\n",
       "      <th>Sequence number</th>\n",
       "      <th>Year of diagnosis</th>\n",
       "      <th>Primary Site - labeled</th>\n",
       "      <th>Laterality</th>\n",
       "      <th>Reason no cancer-directed surgery</th>\n",
       "      <th>Histology recode - broad groupings</th>\n",
       "      <th>ER Status Recode Breast Cancer (1990+)</th>\n",
       "      <th>PR Status Recode Breast Cancer (1990+)</th>\n",
       "      <th>Survival months</th>\n",
       "      <th>Breast - Adjusted AJCC 6th T (1988-2015)</th>\n",
       "      <th>Breast - Adjusted AJCC 6th N (1988-2015)</th>\n",
       "      <th>Breast - Adjusted AJCC 6th M (1988-2015)</th>\n",
       "      <th>Breast - Adjusted AJCC 6th Stage (1988-2015),,,,,</th>\n",
       "    </tr>\n",
       "  </thead>\n",
       "  <tbody>\n",
       "    <tr>\n",
       "      <th>0</th>\n",
       "      <td>60-64 years</td>\n",
       "      <td>1910</td>\n",
       "      <td>One primary only</td>\n",
       "      <td>1975</td>\n",
       "      <td>C50.9-Breast, NOS</td>\n",
       "      <td>Left - origin of primary</td>\n",
       "      <td>Surgery performed</td>\n",
       "      <td>8500-8549: ductal and lobular neoplasms</td>\n",
       "      <td>Not 1990+ Breast</td>\n",
       "      <td>Not 1990+ Breast</td>\n",
       "      <td>162.0</td>\n",
       "      <td>Blank(s)</td>\n",
       "      <td>Blank(s)</td>\n",
       "      <td>Blank(s)</td>\n",
       "      <td>Blank(s),,,,</td>\n",
       "    </tr>\n",
       "    <tr>\n",
       "      <th>1</th>\n",
       "      <td>35-39 years</td>\n",
       "      <td>1951</td>\n",
       "      <td>One primary only</td>\n",
       "      <td>1990</td>\n",
       "      <td>C50.4-Upper-outer quadrant of breast</td>\n",
       "      <td>Right - origin of primary</td>\n",
       "      <td>Surgery performed</td>\n",
       "      <td>8500-8549: ductal and lobular neoplasms</td>\n",
       "      <td>Positive</td>\n",
       "      <td>Positive</td>\n",
       "      <td>37.0</td>\n",
       "      <td>T1c</td>\n",
       "      <td>N0</td>\n",
       "      <td>M0</td>\n",
       "      <td>I,,,,,</td>\n",
       "    </tr>\n",
       "    <tr>\n",
       "      <th>2</th>\n",
       "      <td>55-59 years</td>\n",
       "      <td>1934</td>\n",
       "      <td>One primary only</td>\n",
       "      <td>1991</td>\n",
       "      <td>C50.4-Upper-outer quadrant of breast</td>\n",
       "      <td>Left - origin of primary</td>\n",
       "      <td>Surgery performed</td>\n",
       "      <td>8500-8549: ductal and lobular neoplasms</td>\n",
       "      <td>Positive</td>\n",
       "      <td>Positive</td>\n",
       "      <td>26.0</td>\n",
       "      <td>TX Adjusted</td>\n",
       "      <td>NX Adjusted</td>\n",
       "      <td>M0</td>\n",
       "      <td>UNK Stage,,,,,</td>\n",
       "    </tr>\n",
       "    <tr>\n",
       "      <th>3</th>\n",
       "      <td>60-64 years</td>\n",
       "      <td>1927</td>\n",
       "      <td>One primary only</td>\n",
       "      <td>1989</td>\n",
       "      <td>C50.2-Upper-inner quadrant of breast</td>\n",
       "      <td>Right - origin of primary</td>\n",
       "      <td>Surgery performed</td>\n",
       "      <td>8500-8549: ductal and lobular neoplasms</td>\n",
       "      <td>Not 1990+ Breast</td>\n",
       "      <td>Not 1990+ Breast</td>\n",
       "      <td>20.0</td>\n",
       "      <td>T2</td>\n",
       "      <td>N1</td>\n",
       "      <td>M0</td>\n",
       "      <td>IIB,,,,,</td>\n",
       "    </tr>\n",
       "    <tr>\n",
       "      <th>4</th>\n",
       "      <td>70-74 years</td>\n",
       "      <td>1907</td>\n",
       "      <td>One primary only</td>\n",
       "      <td>1982</td>\n",
       "      <td>C50.4-Upper-outer quadrant of breast</td>\n",
       "      <td>Left - origin of primary</td>\n",
       "      <td>Surgery performed</td>\n",
       "      <td>8500-8549: ductal and lobular neoplasms</td>\n",
       "      <td>Not 1990+ Breast</td>\n",
       "      <td>Not 1990+ Breast</td>\n",
       "      <td>116.0</td>\n",
       "      <td>Blank(s)</td>\n",
       "      <td>Blank(s)</td>\n",
       "      <td>Blank(s)</td>\n",
       "      <td>Blank(s),,,,,</td>\n",
       "    </tr>\n",
       "  </tbody>\n",
       "</table>\n",
       "</div>"
      ],
      "text/plain": [
       "  Age recode with <1 year olds  Year of birth   Sequence number  \\\n",
       "0                  60-64 years           1910  One primary only   \n",
       "1                  35-39 years           1951  One primary only   \n",
       "2                  55-59 years           1934  One primary only   \n",
       "3                  60-64 years           1927  One primary only   \n",
       "4                  70-74 years           1907  One primary only   \n",
       "\n",
       "   Year of diagnosis                Primary Site - labeled  \\\n",
       "0               1975                     C50.9-Breast, NOS   \n",
       "1               1990  C50.4-Upper-outer quadrant of breast   \n",
       "2               1991  C50.4-Upper-outer quadrant of breast   \n",
       "3               1989  C50.2-Upper-inner quadrant of breast   \n",
       "4               1982  C50.4-Upper-outer quadrant of breast   \n",
       "\n",
       "                  Laterality Reason no cancer-directed surgery  \\\n",
       "0   Left - origin of primary                 Surgery performed   \n",
       "1  Right - origin of primary                 Surgery performed   \n",
       "2   Left - origin of primary                 Surgery performed   \n",
       "3  Right - origin of primary                 Surgery performed   \n",
       "4   Left - origin of primary                 Surgery performed   \n",
       "\n",
       "        Histology recode - broad groupings  \\\n",
       "0  8500-8549: ductal and lobular neoplasms   \n",
       "1  8500-8549: ductal and lobular neoplasms   \n",
       "2  8500-8549: ductal and lobular neoplasms   \n",
       "3  8500-8549: ductal and lobular neoplasms   \n",
       "4  8500-8549: ductal and lobular neoplasms   \n",
       "\n",
       "  ER Status Recode Breast Cancer (1990+)  \\\n",
       "0                       Not 1990+ Breast   \n",
       "1                               Positive   \n",
       "2                               Positive   \n",
       "3                       Not 1990+ Breast   \n",
       "4                       Not 1990+ Breast   \n",
       "\n",
       "  PR Status Recode Breast Cancer (1990+)  Survival months  \\\n",
       "0                       Not 1990+ Breast            162.0   \n",
       "1                               Positive             37.0   \n",
       "2                               Positive             26.0   \n",
       "3                       Not 1990+ Breast             20.0   \n",
       "4                       Not 1990+ Breast            116.0   \n",
       "\n",
       "  Breast - Adjusted AJCC 6th T (1988-2015)  \\\n",
       "0                                 Blank(s)   \n",
       "1                                      T1c   \n",
       "2                              TX Adjusted   \n",
       "3                                       T2   \n",
       "4                                 Blank(s)   \n",
       "\n",
       "  Breast - Adjusted AJCC 6th N (1988-2015)  \\\n",
       "0                                 Blank(s)   \n",
       "1                                       N0   \n",
       "2                              NX Adjusted   \n",
       "3                                       N1   \n",
       "4                                 Blank(s)   \n",
       "\n",
       "  Breast - Adjusted AJCC 6th M (1988-2015)  \\\n",
       "0                                 Blank(s)   \n",
       "1                                       M0   \n",
       "2                                       M0   \n",
       "3                                       M0   \n",
       "4                                 Blank(s)   \n",
       "\n",
       "  Breast - Adjusted AJCC 6th Stage (1988-2015),,,,,  \n",
       "0                                      Blank(s),,,,  \n",
       "1                                            I,,,,,  \n",
       "2                                    UNK Stage,,,,,  \n",
       "3                                          IIB,,,,,  \n",
       "4                                     Blank(s),,,,,  "
      ]
     },
     "execution_count": 2,
     "metadata": {},
     "output_type": "execute_result"
    }
   ],
   "source": [
    "df = pd.read_csv(\"dataset/SEER_Breast_Cancer_2020.csv\", delimiter=';')\n",
    "df.head()"
   ]
  },
  {
   "cell_type": "markdown",
   "metadata": {},
   "source": [
    "<h3 style=\"color:#8B0000;\"> Display the column names of the data frame:</h3>"
   ]
  },
  {
   "cell_type": "code",
   "execution_count": 3,
   "metadata": {},
   "outputs": [
    {
     "data": {
      "text/plain": [
       "Index(['Age recode with <1 year olds', 'Year of birth', 'Sequence number',\n",
       "       'Year of diagnosis', 'Primary Site - labeled', 'Laterality',\n",
       "       'Reason no cancer-directed surgery',\n",
       "       'Histology recode - broad groupings',\n",
       "       'ER Status Recode Breast Cancer (1990+)',\n",
       "       'PR Status Recode Breast Cancer (1990+)', 'Survival months',\n",
       "       'Breast - Adjusted AJCC 6th T (1988-2015)',\n",
       "       'Breast - Adjusted AJCC 6th N (1988-2015)',\n",
       "       'Breast - Adjusted AJCC 6th M (1988-2015)',\n",
       "       'Breast - Adjusted AJCC 6th Stage (1988-2015),,,,,'],\n",
       "      dtype='object')"
      ]
     },
     "execution_count": 3,
     "metadata": {},
     "output_type": "execute_result"
    }
   ],
   "source": [
    "df.columns"
   ]
  },
  {
   "cell_type": "markdown",
   "metadata": {},
   "source": [
    "<h3 style=\"color:#8B0000;\"> 1. Compute the age at time of diagnosis:</h3>"
   ]
  },
  {
   "cell_type": "code",
   "execution_count": null,
   "metadata": {
    "execution": {
     "iopub.execute_input": "2023-12-17T22:32:47.706757Z",
     "iopub.status.busy": "2023-12-17T22:32:47.704711Z",
     "iopub.status.idle": "2023-12-17T22:32:47.723009Z",
     "shell.execute_reply": "2023-12-17T22:32:47.720902Z",
     "shell.execute_reply.started": "2023-12-17T22:32:47.706704Z"
    }
   },
   "outputs": [],
   "source": [
    "# Compute the age at the time of diagnosis\n",
    "df['Age at Diagnosis'] = df['Year of diagnosis'] - df['Year of birth']\n",
    "df['Age at Diagnosis']"
   ]
  },
  {
   "cell_type": "markdown",
   "metadata": {},
   "source": [
    "<h3 style=\"color:#8B0000;\"> 2. Compute the age of each patient (given in nominal way in the data set):</h3>"
   ]
  },
  {
   "cell_type": "code",
   "execution_count": 4,
   "metadata": {},
   "outputs": [
    {
     "data": {
      "text/plain": [
       "0         62\n",
       "1         37\n",
       "2         57\n",
       "3         62\n",
       "4         72\n",
       "          ..\n",
       "172563    82\n",
       "172564    57\n",
       "172565    67\n",
       "172566    82\n",
       "172567    67\n",
       "Name: Age, Length: 172568, dtype: int64"
      ]
     },
     "execution_count": 4,
     "metadata": {},
     "output_type": "execute_result"
    }
   ],
   "source": [
    "# Compute the age of each patient\n",
    "age_recode_map = {\n",
    "    '60-64 years': 62,\n",
    "    '35-39 years': 37,\n",
    "    '55-59 years': 57,\n",
    "    '70-74 years': 72,\n",
    "    '50-54 years': 52,\n",
    "    '80-84 years': 82,\n",
    "    '40-44 years': 42,\n",
    "    '45-49 years': 47,\n",
    "    '30-34 years': 32,\n",
    "    '75-79 years': 77,\n",
    "    '25-29 years': 27,\n",
    "    '65-69 years': 67,\n",
    "    '85+ years': 90,  # Adjusted to 90 for simplicity\n",
    "    '20-24 years': 22,\n",
    "    '15-19 years': 17\n",
    "}\n",
    "df['Age'] = df['Age recode with <1 year olds'].map(age_recode_map)\n",
    "df['Age']"
   ]
  },
  {
   "cell_type": "markdown",
   "metadata": {},
   "source": [
    "<h3 style=\"color:#8B0000;\"> 3. Filter all cases in which the ER and PR status is unknown (Not 1990+ Breast) Recode the column \"Laterality\" into the following: left, right and two-sided :</h3>"
   ]
  },
  {
   "cell_type": "code",
   "execution_count": 5,
   "metadata": {},
   "outputs": [
    {
     "data": {
      "text/html": [
       "<div>\n",
       "<style scoped>\n",
       "    .dataframe tbody tr th:only-of-type {\n",
       "        vertical-align: middle;\n",
       "    }\n",
       "\n",
       "    .dataframe tbody tr th {\n",
       "        vertical-align: top;\n",
       "    }\n",
       "\n",
       "    .dataframe thead th {\n",
       "        text-align: right;\n",
       "    }\n",
       "</style>\n",
       "<table border=\"1\" class=\"dataframe\">\n",
       "  <thead>\n",
       "    <tr style=\"text-align: right;\">\n",
       "      <th></th>\n",
       "      <th>Age recode with &lt;1 year olds</th>\n",
       "      <th>Year of birth</th>\n",
       "      <th>Sequence number</th>\n",
       "      <th>Year of diagnosis</th>\n",
       "      <th>Primary Site - labeled</th>\n",
       "      <th>Laterality</th>\n",
       "      <th>Reason no cancer-directed surgery</th>\n",
       "      <th>Histology recode - broad groupings</th>\n",
       "      <th>ER Status Recode Breast Cancer (1990+)</th>\n",
       "      <th>PR Status Recode Breast Cancer (1990+)</th>\n",
       "      <th>Survival months</th>\n",
       "      <th>Breast - Adjusted AJCC 6th T (1988-2015)</th>\n",
       "      <th>Breast - Adjusted AJCC 6th N (1988-2015)</th>\n",
       "      <th>Breast - Adjusted AJCC 6th M (1988-2015)</th>\n",
       "      <th>Breast - Adjusted AJCC 6th Stage (1988-2015),,,,,</th>\n",
       "      <th>Age</th>\n",
       "    </tr>\n",
       "  </thead>\n",
       "  <tbody>\n",
       "    <tr>\n",
       "      <th>0</th>\n",
       "      <td>60-64 years</td>\n",
       "      <td>1910</td>\n",
       "      <td>One primary only</td>\n",
       "      <td>1975</td>\n",
       "      <td>C50.9-Breast, NOS</td>\n",
       "      <td>Left - origin of primary</td>\n",
       "      <td>Surgery performed</td>\n",
       "      <td>8500-8549: ductal and lobular neoplasms</td>\n",
       "      <td>Not 1990+ Breast</td>\n",
       "      <td>Not 1990+ Breast</td>\n",
       "      <td>162.0</td>\n",
       "      <td>Blank(s)</td>\n",
       "      <td>Blank(s)</td>\n",
       "      <td>Blank(s)</td>\n",
       "      <td>Blank(s),,,,</td>\n",
       "      <td>62</td>\n",
       "    </tr>\n",
       "    <tr>\n",
       "      <th>3</th>\n",
       "      <td>60-64 years</td>\n",
       "      <td>1927</td>\n",
       "      <td>One primary only</td>\n",
       "      <td>1989</td>\n",
       "      <td>C50.2-Upper-inner quadrant of breast</td>\n",
       "      <td>Right - origin of primary</td>\n",
       "      <td>Surgery performed</td>\n",
       "      <td>8500-8549: ductal and lobular neoplasms</td>\n",
       "      <td>Not 1990+ Breast</td>\n",
       "      <td>Not 1990+ Breast</td>\n",
       "      <td>20.0</td>\n",
       "      <td>T2</td>\n",
       "      <td>N1</td>\n",
       "      <td>M0</td>\n",
       "      <td>IIB,,,,,</td>\n",
       "      <td>62</td>\n",
       "    </tr>\n",
       "    <tr>\n",
       "      <th>4</th>\n",
       "      <td>70-74 years</td>\n",
       "      <td>1907</td>\n",
       "      <td>One primary only</td>\n",
       "      <td>1982</td>\n",
       "      <td>C50.4-Upper-outer quadrant of breast</td>\n",
       "      <td>Left - origin of primary</td>\n",
       "      <td>Surgery performed</td>\n",
       "      <td>8500-8549: ductal and lobular neoplasms</td>\n",
       "      <td>Not 1990+ Breast</td>\n",
       "      <td>Not 1990+ Breast</td>\n",
       "      <td>116.0</td>\n",
       "      <td>Blank(s)</td>\n",
       "      <td>Blank(s)</td>\n",
       "      <td>Blank(s)</td>\n",
       "      <td>Blank(s),,,,,</td>\n",
       "      <td>72</td>\n",
       "    </tr>\n",
       "    <tr>\n",
       "      <th>5</th>\n",
       "      <td>60-64 years</td>\n",
       "      <td>1913</td>\n",
       "      <td>1st of 2 or more primaries</td>\n",
       "      <td>1977</td>\n",
       "      <td>C50.8-Overlapping lesion of breast</td>\n",
       "      <td>Left - origin of primary</td>\n",
       "      <td>Surgery performed</td>\n",
       "      <td>8500-8549: ductal and lobular neoplasms</td>\n",
       "      <td>Not 1990+ Breast</td>\n",
       "      <td>Not 1990+ Breast</td>\n",
       "      <td>208.0</td>\n",
       "      <td>Blank(s)</td>\n",
       "      <td>Blank(s)</td>\n",
       "      <td>Blank(s)</td>\n",
       "      <td>Blank(s),,,,,</td>\n",
       "      <td>62</td>\n",
       "    </tr>\n",
       "    <tr>\n",
       "      <th>6</th>\n",
       "      <td>50-54 years</td>\n",
       "      <td>1934</td>\n",
       "      <td>1st of 2 or more primaries</td>\n",
       "      <td>1986</td>\n",
       "      <td>C50.9-Breast, NOS</td>\n",
       "      <td>Left - origin of primary</td>\n",
       "      <td>Surgery performed</td>\n",
       "      <td>8500-8549: ductal and lobular neoplasms</td>\n",
       "      <td>Not 1990+ Breast</td>\n",
       "      <td>Not 1990+ Breast</td>\n",
       "      <td>153.0</td>\n",
       "      <td>Blank(s)</td>\n",
       "      <td>Blank(s)</td>\n",
       "      <td>Blank(s)</td>\n",
       "      <td>Blank(s),,,,</td>\n",
       "      <td>52</td>\n",
       "    </tr>\n",
       "  </tbody>\n",
       "</table>\n",
       "</div>"
      ],
      "text/plain": [
       "  Age recode with <1 year olds  Year of birth             Sequence number  \\\n",
       "0                  60-64 years           1910            One primary only   \n",
       "3                  60-64 years           1927            One primary only   \n",
       "4                  70-74 years           1907            One primary only   \n",
       "5                  60-64 years           1913  1st of 2 or more primaries   \n",
       "6                  50-54 years           1934  1st of 2 or more primaries   \n",
       "\n",
       "   Year of diagnosis                Primary Site - labeled  \\\n",
       "0               1975                     C50.9-Breast, NOS   \n",
       "3               1989  C50.2-Upper-inner quadrant of breast   \n",
       "4               1982  C50.4-Upper-outer quadrant of breast   \n",
       "5               1977    C50.8-Overlapping lesion of breast   \n",
       "6               1986                     C50.9-Breast, NOS   \n",
       "\n",
       "                  Laterality Reason no cancer-directed surgery  \\\n",
       "0   Left - origin of primary                 Surgery performed   \n",
       "3  Right - origin of primary                 Surgery performed   \n",
       "4   Left - origin of primary                 Surgery performed   \n",
       "5   Left - origin of primary                 Surgery performed   \n",
       "6   Left - origin of primary                 Surgery performed   \n",
       "\n",
       "        Histology recode - broad groupings  \\\n",
       "0  8500-8549: ductal and lobular neoplasms   \n",
       "3  8500-8549: ductal and lobular neoplasms   \n",
       "4  8500-8549: ductal and lobular neoplasms   \n",
       "5  8500-8549: ductal and lobular neoplasms   \n",
       "6  8500-8549: ductal and lobular neoplasms   \n",
       "\n",
       "  ER Status Recode Breast Cancer (1990+)  \\\n",
       "0                       Not 1990+ Breast   \n",
       "3                       Not 1990+ Breast   \n",
       "4                       Not 1990+ Breast   \n",
       "5                       Not 1990+ Breast   \n",
       "6                       Not 1990+ Breast   \n",
       "\n",
       "  PR Status Recode Breast Cancer (1990+)  Survival months  \\\n",
       "0                       Not 1990+ Breast            162.0   \n",
       "3                       Not 1990+ Breast             20.0   \n",
       "4                       Not 1990+ Breast            116.0   \n",
       "5                       Not 1990+ Breast            208.0   \n",
       "6                       Not 1990+ Breast            153.0   \n",
       "\n",
       "  Breast - Adjusted AJCC 6th T (1988-2015)  \\\n",
       "0                                 Blank(s)   \n",
       "3                                       T2   \n",
       "4                                 Blank(s)   \n",
       "5                                 Blank(s)   \n",
       "6                                 Blank(s)   \n",
       "\n",
       "  Breast - Adjusted AJCC 6th N (1988-2015)  \\\n",
       "0                                 Blank(s)   \n",
       "3                                       N1   \n",
       "4                                 Blank(s)   \n",
       "5                                 Blank(s)   \n",
       "6                                 Blank(s)   \n",
       "\n",
       "  Breast - Adjusted AJCC 6th M (1988-2015)  \\\n",
       "0                                 Blank(s)   \n",
       "3                                       M0   \n",
       "4                                 Blank(s)   \n",
       "5                                 Blank(s)   \n",
       "6                                 Blank(s)   \n",
       "\n",
       "  Breast - Adjusted AJCC 6th Stage (1988-2015),,,,,  Age  \n",
       "0                                      Blank(s),,,,   62  \n",
       "3                                          IIB,,,,,   62  \n",
       "4                                     Blank(s),,,,,   72  \n",
       "5                                     Blank(s),,,,,   62  \n",
       "6                                      Blank(s),,,,   52  "
      ]
     },
     "execution_count": 5,
     "metadata": {},
     "output_type": "execute_result"
    }
   ],
   "source": [
    "# Filter cases where the ER and PR status is unknown (Not 1990+ Breast)\n",
    "df_filtered = df[(df['ER Status Recode Breast Cancer (1990+)'] == 'Not 1990+ Breast') &\n",
    "                 (df['PR Status Recode Breast Cancer (1990+)'] == 'Not 1990+ Breast')]\n",
    "\n",
    "df_filtered.head()"
   ]
  },
  {
   "cell_type": "markdown",
   "metadata": {},
   "source": [
    "<h3 style=\"color:#8B0000;\"> 4.  Recode the column \"Laterality\" into the following: left, right and two-sided :</h3>"
   ]
  },
  {
   "cell_type": "code",
   "execution_count": 12,
   "metadata": {},
   "outputs": [
    {
     "data": {
      "text/plain": [
       "0          left\n",
       "1         right\n",
       "2          left\n",
       "3         right\n",
       "4          left\n",
       "          ...  \n",
       "172542      NaN\n",
       "172543    right\n",
       "172545    right\n",
       "172561      NaN\n",
       "172566     left\n",
       "Name: Laterality Recoded, Length: 158765, dtype: object"
      ]
     },
     "execution_count": 12,
     "metadata": {},
     "output_type": "execute_result"
    }
   ],
   "source": [
    "# Recode the column \"Laterality\" into left, right, and two-sided\n",
    "laterality_map = {\n",
    "    'Left - origin of primary': 'left',\n",
    "    'Right - origin of primary': 'right',\n",
    "    'Bilateral involvement, lateral origin unknown': 'two-sided'\n",
    "    # Add mappings for other values if needed\n",
    "}\n",
    "df['Laterality Recoded'] = df['Laterality'].map(laterality_map)\n",
    "df['Laterality Recoded']"
   ]
  },
  {
   "cell_type": "markdown",
   "metadata": {},
   "source": [
    "<h3 style=\"color:#8B0000;\"> 5. Filter out cases that are later than 2011:</h3>\n",
    "\n",
    "- Rule: A patient is labelled as \"healed\" if there is no cancer detected in the subsequent 5 years"
   ]
  },
  {
   "cell_type": "code",
   "execution_count": 13,
   "metadata": {},
   "outputs": [
    {
     "data": {
      "text/plain": [
       "count    158765.000000\n",
       "mean       1997.105962\n",
       "std          10.042873\n",
       "min        1975.000000\n",
       "25%        1990.000000\n",
       "50%        2000.000000\n",
       "75%        2005.000000\n",
       "max        2011.000000\n",
       "Name: Year of diagnosis, dtype: float64"
      ]
     },
     "execution_count": 13,
     "metadata": {},
     "output_type": "execute_result"
    }
   ],
   "source": [
    "df['Year of diagnosis'].describe()"
   ]
  },
  {
   "cell_type": "code",
   "execution_count": 7,
   "metadata": {},
   "outputs": [],
   "source": [
    "# Filter out cases that are later than 2011\n",
    "df = df[df['Year of diagnosis'] <= 2011]"
   ]
  },
  {
   "cell_type": "markdown",
   "metadata": {},
   "source": [
    "<h3 style=\"color:#8B0000;\">6. Classify patients as \"healed\" or \"not healed\" :</h3>"
   ]
  },
  {
   "cell_type": "code",
   "execution_count": 8,
   "metadata": {},
   "outputs": [],
   "source": [
    "# Classify patients as \"healed\" or \"not healed\"\n",
    "df['Healing Status'] = df['Survival months'].apply(lambda x: 'healed' if x > 60 else 'not healed')"
   ]
  },
  {
   "cell_type": "code",
   "execution_count": 15,
   "metadata": {},
   "outputs": [
    {
     "data": {
      "text/plain": [
       "Healing Status\n",
       "not healed    97881\n",
       "healed        60884\n",
       "Name: count, dtype: int64"
      ]
     },
     "execution_count": 15,
     "metadata": {},
     "output_type": "execute_result"
    }
   ],
   "source": [
    "# Check the distribution of \"healed\" and \"not healed\" patients\n",
    "healing_status_counts = df['Healing Status'].value_counts()\n",
    "healing_status_counts"
   ]
  },
  {
   "cell_type": "code",
   "execution_count": 18,
   "metadata": {},
   "outputs": [
    {
     "data": {
      "text/plain": [
       "Healing Status\n",
       "not healed    61.651497\n",
       "healed        38.348503\n",
       "Name: count, dtype: float64"
      ]
     },
     "execution_count": 18,
     "metadata": {},
     "output_type": "execute_result"
    }
   ],
   "source": [
    "healing_status_percent = (df['Healing Status'].value_counts()*100)/df.shape[0]\n",
    "healing_status_percent"
   ]
  },
  {
   "cell_type": "markdown",
   "metadata": {},
   "source": [
    "<h3 style=\"color:#8B0000;\"> 7. Check the distribution of “healed” and “not healed” patients in the data set.</h3>"
   ]
  },
  {
   "cell_type": "code",
   "execution_count": null,
   "metadata": {
    "execution": {
     "iopub.execute_input": "2023-12-17T22:32:53.629984Z",
     "iopub.status.busy": "2023-12-17T22:32:53.629598Z",
     "iopub.status.idle": "2023-12-17T22:32:53.661685Z",
     "shell.execute_reply": "2023-12-17T22:32:53.659874Z",
     "shell.execute_reply.started": "2023-12-17T22:32:53.629951Z"
    }
   },
   "outputs": [],
   "source": [
    "# Are the groups unbalanced?\n",
    "distribution = df['Healing Status'].value_counts()\n",
    "\n",
    "# Calculate the imbalance ratio\n",
    "imbalance_ratio = distribution['healed'] / distribution['not healed']\n",
    "\n",
    "# Display the distribution and imbalance ratio\n",
    "print(\"Distribution:\")\n",
    "print(distribution)\n",
    "print(\"Imbalance Ratio: \", imbalance_ratio)"
   ]
  },
  {
   "cell_type": "markdown",
   "metadata": {},
   "source": [
    "Based on the distribution you provided, we can see that there are 97881 patients classified as \"not healed\" and 60884 patients classified as \"healed\" in the dataset.\n",
    "\n",
    "To determine if the groups are unbalanced, we can compare the counts of \"healed\" and \"not healed\" patients. In this case, the counts are relatively close, with a difference of approximately 2,050 patients. However, to assess the balance more accurately, we can calculate the ratio between the two groups:\n",
    "\n",
    "Imbalance Ratio = Count of \"healed\" patients / Count of \"not healed\" patients\n",
    "\n",
    "Imbalance Ratio = 60884 / 97881 ≈ 0.6220\n",
    "\n",
    "The imbalance ratio of approximately 0.6220 suggests that the \"healed\" group is slightly smaller than the \"not healed\" group. However, the groups seem slighly imbalanced."
   ]
  },
  {
   "cell_type": "code",
   "execution_count": null,
   "metadata": {
    "execution": {
     "iopub.execute_input": "2023-12-17T22:32:54.274407Z",
     "iopub.status.busy": "2023-12-17T22:32:54.273265Z",
     "iopub.status.idle": "2023-12-17T22:32:55.017185Z",
     "shell.execute_reply": "2023-12-17T22:32:55.016333Z",
     "shell.execute_reply.started": "2023-12-17T22:32:54.274346Z"
    }
   },
   "outputs": [],
   "source": [
    "import matplotlib.pyplot as plt\n",
    "\n",
    "# Create a bar plot showing the count of healed and not healed patients for each year\n",
    "plt.figure(figsize=(10, 6))\n",
    "df.groupby(['Year of diagnosis', 'Healing Status']).size().unstack().plot(kind='bar', stacked=True)\n",
    "plt.xlabel('Year of Diagnosis')\n",
    "plt.ylabel('Count')\n",
    "plt.title('Distribution of Healing Status by Year of Diagnosis')\n",
    "plt.legend(loc='upper left')\n",
    "plt.show()\n"
   ]
  },
  {
   "cell_type": "code",
   "execution_count": null,
   "metadata": {
    "execution": {
     "iopub.execute_input": "2023-12-17T22:32:55.019615Z",
     "iopub.status.busy": "2023-12-17T22:32:55.018802Z",
     "iopub.status.idle": "2023-12-17T22:32:55.062674Z",
     "shell.execute_reply": "2023-12-17T22:32:55.061601Z",
     "shell.execute_reply.started": "2023-12-17T22:32:55.019581Z"
    }
   },
   "outputs": [],
   "source": [
    "yearly_proportions = df.groupby('Year of diagnosis')['Healing Status'].value_counts(normalize=True).unstack()\n",
    "print(yearly_proportions)\n"
   ]
  },
  {
   "cell_type": "markdown",
   "metadata": {},
   "source": [
    "Upsampling or Downsampling: Since the dataset contains a slight imbalance between the \"healed\" and \"not healed\" groups, upsampling or downsampling techniques may be worth considering to achieve a better balance. Upsampling involves increasing the number of instances in the minority class (in this case, the \"healed\" group), while downsampling involves decreasing the number of instances in the majority class (the \"not healed\" group). These techniques can help address class imbalance issues and improve the performance of machine learning models, especially if the class imbalance has a significant impact on the analysis.\n",
    "\n",
    "Connection to the Year of Diagnosis: To determine if there is a common pattern in the data related to the year of diagnosis,  we analyzed the distribution of healing status across different years. By examining the bar plot and proportions calculated , we can assess if certain years have a higher proportion of healed or not healed patients. This analysis provides insights into potential relationships between the year of diagnosis and the likelihood of healing.\n",
    "\n",
    "Interpreting the Connection: As there is a notable connection between the year of diagnosis and the healing status, it may imply that advancements in medical treatments, changes in diagnostic methods, or other factors have influenced the outcomes of cancer patients over time.\n",
    "\n",
    "Upsampling can be applied, it involves increasing the number of instances in the Minority class (the \"healed\" group). These techniques can help address class imbalance issues and improve the performance of machine learning models, especially if the class imbalance has a significant impact on the analysis."
   ]
  },
  {
   "cell_type": "markdown",
   "metadata": {},
   "source": [
    "<h3 style=\"color:#8B0000;\"> 8. Use only data points that have information in the column \"Histology recode\":</h3>"
   ]
  },
  {
   "cell_type": "code",
   "execution_count": null,
   "metadata": {
    "execution": {
     "iopub.execute_input": "2023-12-17T22:32:55.887854Z",
     "iopub.status.busy": "2023-12-17T22:32:55.886227Z",
     "iopub.status.idle": "2023-12-17T22:32:55.968544Z",
     "shell.execute_reply": "2023-12-17T22:32:55.967098Z",
     "shell.execute_reply.started": "2023-12-17T22:32:55.887802Z"
    }
   },
   "outputs": [],
   "source": [
    "df = df[df['Histology recode - broad groupings'].notnull()]"
   ]
  },
  {
   "cell_type": "markdown",
   "metadata": {},
   "source": [
    "<h3 style=\"color:#8B0000;\"> 9. Recode \"Reason no cancer-directed surgery\" into a binary variable:</h3>"
   ]
  },
  {
   "cell_type": "code",
   "execution_count": null,
   "metadata": {
    "execution": {
     "iopub.execute_input": "2023-12-17T22:32:56.86086Z",
     "iopub.status.busy": "2023-12-17T22:32:56.860217Z",
     "iopub.status.idle": "2023-12-17T22:32:56.934929Z",
     "shell.execute_reply": "2023-12-17T22:32:56.933402Z",
     "shell.execute_reply.started": "2023-12-17T22:32:56.860807Z"
    }
   },
   "outputs": [],
   "source": [
    "df['Surgery Performed'] = df['Reason no cancer-directed surgery'].apply(\n",
    "    lambda x: 'surgery performed' if x == 'Surgery performed' else 'surgery not performed'\n",
    ")\n",
    "\n",
    "# Display the updated DataFrame\n",
    "print(df.head())"
   ]
  },
  {
   "cell_type": "markdown",
   "metadata": {},
   "source": [
    "# Data Mining Problem: CRISP Life Cycle Model\n",
    "<h3 style=\"color:#8B0000;\">  Predicting the Survival/ Healing status of breast cancer patients based on their demographic information, diagnostic  and treatment details:</h3>"
   ]
  },
  {
   "cell_type": "markdown",
   "metadata": {},
   "source": [
    "\n",
    "\n",
    "The goal is to build a predictive model that can classify patients into two categories: \"healed\" and \"not healed.\" The model will utilize the available features such as age recode, year of birth, primary site, laterality, reason for no cancer-directed surgery, histology, ER/PR status, survival months, AJCC 6th stage, age at diagnosis, and surgery performed.\n",
    "\n",
    "The objective is to use historical data to train a model that can accurately predict whether a breast cancer patient is likely to be healed (no cancer detected in the subsequent 5 years) or not healed.\n",
    "\n",
    "By solving this data mining problem, we can gain insights into the factors that contribute to the healing status of breast cancer patients. This information can be valuable for healthcare professionals in making treatment decisions, monitoring patient progress, and providing personalized care."
   ]
  },
  {
   "cell_type": "markdown",
   "metadata": {},
   "source": [
    "# 10. EDA and Data Preprocessing:"
   ]
  },
  {
   "cell_type": "markdown",
   "metadata": {},
   "source": [
    "<h3 style=\"color:#8B0000;\"> Display the shape of the data frame:</h3>"
   ]
  },
  {
   "cell_type": "code",
   "execution_count": null,
   "metadata": {
    "execution": {
     "iopub.execute_input": "2023-12-17T22:32:59.346698Z",
     "iopub.status.busy": "2023-12-17T22:32:59.345859Z",
     "iopub.status.idle": "2023-12-17T22:32:59.356112Z",
     "shell.execute_reply": "2023-12-17T22:32:59.354347Z",
     "shell.execute_reply.started": "2023-12-17T22:32:59.346636Z"
    }
   },
   "outputs": [],
   "source": [
    "df.shape"
   ]
  },
  {
   "cell_type": "markdown",
   "metadata": {},
   "source": [
    "<h3 style=\"color:#8B0000;\"> Display the column names in the data frame:</h3>"
   ]
  },
  {
   "cell_type": "code",
   "execution_count": null,
   "metadata": {
    "execution": {
     "iopub.execute_input": "2023-12-17T22:33:00.2085Z",
     "iopub.status.busy": "2023-12-17T22:33:00.207106Z",
     "iopub.status.idle": "2023-12-17T22:33:00.216024Z",
     "shell.execute_reply": "2023-12-17T22:33:00.214868Z",
     "shell.execute_reply.started": "2023-12-17T22:33:00.208447Z"
    }
   },
   "outputs": [],
   "source": [
    "df.columns"
   ]
  },
  {
   "cell_type": "markdown",
   "metadata": {},
   "source": [
    "<h3 style=\"color:#8B0000;\"> Display the data types of each variable:</h3>"
   ]
  },
  {
   "cell_type": "code",
   "execution_count": null,
   "metadata": {
    "execution": {
     "iopub.execute_input": "2023-12-17T22:33:01.099222Z",
     "iopub.status.busy": "2023-12-17T22:33:01.098513Z",
     "iopub.status.idle": "2023-12-17T22:33:01.108872Z",
     "shell.execute_reply": "2023-12-17T22:33:01.107661Z",
     "shell.execute_reply.started": "2023-12-17T22:33:01.099182Z"
    }
   },
   "outputs": [],
   "source": [
    "df.dtypes"
   ]
  },
  {
   "cell_type": "markdown",
   "metadata": {},
   "source": [
    "<h3 style=\"color:#8B0000;\"> Display the general information about the dataset:</h3>"
   ]
  },
  {
   "cell_type": "code",
   "execution_count": null,
   "metadata": {
    "execution": {
     "iopub.execute_input": "2023-12-17T22:33:01.658205Z",
     "iopub.status.busy": "2023-12-17T22:33:01.657809Z",
     "iopub.status.idle": "2023-12-17T22:33:01.924087Z",
     "shell.execute_reply": "2023-12-17T22:33:01.922314Z",
     "shell.execute_reply.started": "2023-12-17T22:33:01.658175Z"
    }
   },
   "outputs": [],
   "source": [
    "df.info()"
   ]
  },
  {
   "cell_type": "markdown",
   "metadata": {},
   "source": [
    "<h3 style=\"color:#8B0000;\"> Check are there any missing values in the dataset:</h3>"
   ]
  },
  {
   "cell_type": "code",
   "execution_count": null,
   "metadata": {
    "execution": {
     "iopub.execute_input": "2023-12-17T22:33:02.023762Z",
     "iopub.status.busy": "2023-12-17T22:33:02.023314Z",
     "iopub.status.idle": "2023-12-17T22:33:02.278278Z",
     "shell.execute_reply": "2023-12-17T22:33:02.276965Z",
     "shell.execute_reply.started": "2023-12-17T22:33:02.023728Z"
    }
   },
   "outputs": [],
   "source": [
    "df.isnull().any()"
   ]
  },
  {
   "cell_type": "markdown",
   "metadata": {},
   "source": [
    "<h3 style=\"color:#8B0000;\"> Count  the number of  missing values in the dataset:</h3>"
   ]
  },
  {
   "cell_type": "code",
   "execution_count": null,
   "metadata": {
    "execution": {
     "iopub.execute_input": "2023-12-17T22:33:02.37646Z",
     "iopub.status.busy": "2023-12-17T22:33:02.375796Z",
     "iopub.status.idle": "2023-12-17T22:33:02.63669Z",
     "shell.execute_reply": "2023-12-17T22:33:02.635553Z",
     "shell.execute_reply.started": "2023-12-17T22:33:02.376423Z"
    }
   },
   "outputs": [],
   "source": [
    "df.isnull().sum()"
   ]
  },
  {
   "cell_type": "markdown",
   "metadata": {},
   "source": [
    "<h3 style=\"color:#8B0000;\"> Replace the previous values with the new values in Primary Site - labeled column :</h3>"
   ]
  },
  {
   "cell_type": "code",
   "execution_count": null,
   "metadata": {
    "execution": {
     "iopub.execute_input": "2023-12-17T22:33:02.749585Z",
     "iopub.status.busy": "2023-12-17T22:33:02.749147Z",
     "iopub.status.idle": "2023-12-17T22:33:02.885766Z",
     "shell.execute_reply": "2023-12-17T22:33:02.884753Z",
     "shell.execute_reply.started": "2023-12-17T22:33:02.74955Z"
    }
   },
   "outputs": [],
   "source": [
    "df['Primary Site - labeled'] = df['Primary Site - labeled'].replace(['C50.9-Breast, NOS', 'C50.4-Upper-outer quadrant of breast',\n",
    "       'C50.2-Upper-inner quadrant of breast',\n",
    "       'C50.8-Overlapping lesion of breast',\n",
    "       'C50.5-Lower-outer quadrant of breast',\n",
    "       'C50.6-Axillary tail of breast', 'C50.1-Central portion of breast',\n",
    "       'C50.3-Lower-inner quadrant of breast', 'C50.0-Nipple'], \n",
    "                                                                    \n",
    "        ['Breast, NOS', 'Upper-outer quadrant of breast',\n",
    "       'Upper-inner quadrant of breast',\n",
    "       'Overlapping lesion of breast',\n",
    "       'Lower-outer quadrant of breast',\n",
    "       'Axillary tail of breast', 'Central portion of breast',\n",
    "       'Lower-inner quadrant of breast', 'Nipple'])"
   ]
  },
  {
   "cell_type": "markdown",
   "metadata": {},
   "source": [
    "<h3 style=\"color:#8B0000;\"> Display unique values in the column 'Reason no cancer-directed surgery'</h3>"
   ]
  },
  {
   "cell_type": "code",
   "execution_count": null,
   "metadata": {
    "execution": {
     "iopub.execute_input": "2023-12-17T22:33:03.284569Z",
     "iopub.status.busy": "2023-12-17T22:33:03.283754Z",
     "iopub.status.idle": "2023-12-17T22:33:03.309426Z",
     "shell.execute_reply": "2023-12-17T22:33:03.308084Z",
     "shell.execute_reply.started": "2023-12-17T22:33:03.284523Z"
    }
   },
   "outputs": [],
   "source": [
    "df['Reason no cancer-directed surgery'].unique()"
   ]
  },
  {
   "cell_type": "markdown",
   "metadata": {},
   "source": [
    "<h3 style=\"color:#8B0000;\"> Replace the previous values with the new values in Reason no cancer-directed surgery column :</h3>"
   ]
  },
  {
   "cell_type": "code",
   "execution_count": null,
   "metadata": {
    "execution": {
     "iopub.execute_input": "2023-12-17T22:33:03.373884Z",
     "iopub.status.busy": "2023-12-17T22:33:03.373127Z",
     "iopub.status.idle": "2023-12-17T22:33:03.472731Z",
     "shell.execute_reply": "2023-12-17T22:33:03.470825Z",
     "shell.execute_reply.started": "2023-12-17T22:33:03.373837Z"
    }
   },
   "outputs": [],
   "source": [
    "df['Reason no cancer-directed surgery'] = df['Reason no cancer-directed surgery'].replace(['Surgery performed',\n",
    "       'Recommended but not performed, unknown reason', 'Not recommended',\n",
    "       'Recommended, unknown if performed',\n",
    "       'Recommended but not performed, patient refused',\n",
    "       'Not performed, patient died prior to recommended surgery'],\n",
    "        \n",
    "        ['Surgery performed',\n",
    "       'Recommended but not performed', 'Not recommended',\n",
    "       'Recommended, unknown if performed',\n",
    "       'patient refused',\n",
    "       'patient died prior to recommended surgery']\n",
    "                                               )"
   ]
  },
  {
   "cell_type": "markdown",
   "metadata": {},
   "source": [
    "<h3 style=\"color:#8B0000;\"> Replace the previous values with the new values in 'Histology recode - broad groupings column :</h3>"
   ]
  },
  {
   "cell_type": "code",
   "execution_count": null,
   "metadata": {
    "execution": {
     "iopub.execute_input": "2023-12-17T22:33:03.47614Z",
     "iopub.status.busy": "2023-12-17T22:33:03.47571Z",
     "iopub.status.idle": "2023-12-17T22:33:03.607205Z",
     "shell.execute_reply": "2023-12-17T22:33:03.605816Z",
     "shell.execute_reply.started": "2023-12-17T22:33:03.476103Z"
    }
   },
   "outputs": [],
   "source": [
    "df['Histology recode - broad groupings'] = df['Histology recode - broad groupings'].replace(['8500-8549: ductal and lobular neoplasms',\n",
    "       '8140-8389: adenomas and adenocarcinomas',\n",
    "       '8010-8049: epithelial neoplasms, NOS',\n",
    "       '8440-8499: cystic, mucinous and serous neoplasms',\n",
    "       '8050-8089: squamous cell neoplasms',\n",
    "       '8390-8429: adnexal and skin appendage neoplasms',\n",
    "       '8560-8579: complex epithelial neoplasms',\n",
    "       '8550-8559: acinar cell neoplasms',\n",
    "       '8120-8139: transitional cell papillomas and carcinomas'],\n",
    "    \n",
    "        ['ductal and lobular neoplasms',\n",
    "       'adenomas and adenocarcinomas',\n",
    "       'epithelial neoplasms, NOS',\n",
    "       'cystic, mucinous and serous neoplasms',\n",
    "       'squamous cell neoplasms',\n",
    "       'adnexal and skin appendage neoplasms',\n",
    "       'complex epithelial neoplasms',\n",
    "       'acinar cell neoplasms',\n",
    "       'transitional cell papillomas and carcinomas']\n",
    "                                               )"
   ]
  },
  {
   "cell_type": "markdown",
   "metadata": {},
   "source": [
    "<h3 style=\"color:#8B0000;\"> Replace the missing values in the respective columns with mode of each column :</h3>"
   ]
  },
  {
   "cell_type": "code",
   "execution_count": null,
   "metadata": {
    "execution": {
     "iopub.execute_input": "2023-12-17T22:33:03.611056Z",
     "iopub.status.busy": "2023-12-17T22:33:03.610645Z",
     "iopub.status.idle": "2023-12-17T22:33:03.854252Z",
     "shell.execute_reply": "2023-12-17T22:33:03.852306Z",
     "shell.execute_reply.started": "2023-12-17T22:33:03.611022Z"
    }
   },
   "outputs": [],
   "source": [
    "df['Breast - Adjusted AJCC 6th T (1988-2015)'] = df['Breast - Adjusted AJCC 6th T (1988-2015)'].fillna(df['Breast - Adjusted AJCC 6th T (1988-2015)'].mode()[0])\n",
    "df['Breast - Adjusted AJCC 6th N (1988-2015)'] = df['Breast - Adjusted AJCC 6th N (1988-2015)'].fillna(df['Breast - Adjusted AJCC 6th N (1988-2015)'].mode()[0])\n",
    "df['Breast - Adjusted AJCC 6th M (1988-2015)'] = df['Breast - Adjusted AJCC 6th M (1988-2015)'].fillna(df['Breast - Adjusted AJCC 6th M (1988-2015)'].mode()[0])\n",
    "df['Breast - Adjusted AJCC 6th Stage (1988-2015)'] = df['Breast - Adjusted AJCC 6th Stage (1988-2015)'].fillna(df['Breast - Adjusted AJCC 6th Stage (1988-2015)'].mode()[0])\n",
    "df['Laterality Recoded'] = df['Laterality Recoded'].fillna(df['Laterality Recoded'].mode()[0])"
   ]
  },
  {
   "cell_type": "markdown",
   "metadata": {},
   "source": [
    "<h3 style=\"color:#8B0000;\"> Replace the Blank(s) value in the respective columns with mode of each column :</h3>"
   ]
  },
  {
   "cell_type": "code",
   "execution_count": null,
   "metadata": {
    "execution": {
     "iopub.execute_input": "2023-12-17T22:33:03.857791Z",
     "iopub.status.busy": "2023-12-17T22:33:03.856718Z",
     "iopub.status.idle": "2023-12-17T22:33:04.085113Z",
     "shell.execute_reply": "2023-12-17T22:33:04.083917Z",
     "shell.execute_reply.started": "2023-12-17T22:33:03.857712Z"
    }
   },
   "outputs": [],
   "source": [
    "df['Breast - Adjusted AJCC 6th T (1988-2015)'] = df['Breast - Adjusted AJCC 6th T (1988-2015)'].replace('Blank(s)', df['Breast - Adjusted AJCC 6th T (1988-2015)'].mode()[0])\n",
    "df['Breast - Adjusted AJCC 6th N (1988-2015)'] = df['Breast - Adjusted AJCC 6th N (1988-2015)'].replace('Blank(s)', df['Breast - Adjusted AJCC 6th N (1988-2015)'].mode()[0])\n",
    "df['Breast - Adjusted AJCC 6th M (1988-2015)'] = df['Breast - Adjusted AJCC 6th M (1988-2015)'].replace('Blank(s)', df['Breast - Adjusted AJCC 6th M (1988-2015)'].mode()[0])\n",
    "df['Breast - Adjusted AJCC 6th Stage (1988-2015)'] = df['Breast - Adjusted AJCC 6th Stage (1988-2015)'].replace('Blank(s)', df['Breast - Adjusted AJCC 6th Stage (1988-2015)'].mode()[0])"
   ]
  },
  {
   "cell_type": "markdown",
   "metadata": {},
   "source": [
    "# Univariate Analysis:"
   ]
  },
  {
   "cell_type": "markdown",
   "metadata": {},
   "source": [
    "<h3 style=\"color:#8B0000;\">Distribution of Year of birth: </h3>"
   ]
  },
  {
   "cell_type": "code",
   "execution_count": null,
   "metadata": {
    "execution": {
     "iopub.execute_input": "2023-12-17T22:33:04.087728Z",
     "iopub.status.busy": "2023-12-17T22:33:04.08731Z",
     "iopub.status.idle": "2023-12-17T22:33:04.491679Z",
     "shell.execute_reply": "2023-12-17T22:33:04.490193Z",
     "shell.execute_reply.started": "2023-12-17T22:33:04.087693Z"
    }
   },
   "outputs": [],
   "source": [
    "# Histogram of 'Year of birth'\n",
    "plt.figure(figsize = (14, 7))\n",
    "plt.hist(df['Year of birth'], color = 'brown')\n",
    "plt.xlabel('Year of birth', fontsize = 15)\n",
    "plt.ylabel('Frequency', fontsize = 15)\n",
    "plt.title('Distribution of Year of birth', fontsize = 15)\n",
    "plt.show()"
   ]
  },
  {
   "cell_type": "markdown",
   "metadata": {},
   "source": [
    "Explanation: This graph shows the distribution of birth years for the patients in the dataset.\n",
    "Insights: The histogram provides insights into the birth year distribution, which can be helpful in analyzing the age distribution of patients and identifying any trends or patterns over time. It may reveal information about the cohort of patients included in the dataset and their birth year distribution. Most people fall with 1900 and 1980. "
   ]
  },
  {
   "cell_type": "markdown",
   "metadata": {},
   "source": [
    "<h3 style=\"color:#8B0000;\"> Bar chart of 'Primary Site - labeled:</h3>"
   ]
  },
  {
   "cell_type": "code",
   "execution_count": null,
   "metadata": {
    "execution": {
     "iopub.execute_input": "2023-12-17T22:33:04.494986Z",
     "iopub.status.busy": "2023-12-17T22:33:04.494498Z",
     "iopub.status.idle": "2023-12-17T22:33:04.927527Z",
     "shell.execute_reply": "2023-12-17T22:33:04.926503Z",
     "shell.execute_reply.started": "2023-12-17T22:33:04.494945Z"
    }
   },
   "outputs": [],
   "source": [
    "#  Bar chart of 'Primary Site - labeled'\n",
    "plt.figure(figsize = (14, 7))\n",
    "df['Primary Site - labeled'].value_counts().plot(kind='bar', color = 'brown')\n",
    "plt.xlabel('Primary Site - labeled', fontsize = 15)\n",
    "plt.ylabel('Count', fontsize = 15)\n",
    "plt.title('Count of Cases for each Primary Site', fontsize = 15)\n",
    "plt.xticks(rotation=90)\n",
    "plt.show()\n"
   ]
  },
  {
   "cell_type": "markdown",
   "metadata": {},
   "source": [
    "Explanation: This bar chart represents the count of cases for each primary site (labeled) category.\n",
    "Insights: The bar chart helps identify the primary sites with the highest and lowest occurrence of cancer cases. It provides insights into the relative frequencies of different primary sites, allowing for comparisons and highlighting the most common sites. Upper Outer Quadrant Breast has sufferred a lot, where as Nipple has got the least number of cancers."
   ]
  },
  {
   "cell_type": "markdown",
   "metadata": {},
   "source": [
    "<h3 style=\"color:#8B0000;\"> Distribution of Survival Months:</h3>"
   ]
  },
  {
   "cell_type": "code",
   "execution_count": null,
   "metadata": {
    "execution": {
     "iopub.execute_input": "2023-12-17T22:33:04.929871Z",
     "iopub.status.busy": "2023-12-17T22:33:04.928909Z",
     "iopub.status.idle": "2023-12-17T22:33:05.253446Z",
     "shell.execute_reply": "2023-12-17T22:33:05.252491Z",
     "shell.execute_reply.started": "2023-12-17T22:33:04.929819Z"
    }
   },
   "outputs": [],
   "source": [
    "plt.figure(figsize=(14, 7))\n",
    "df['Survival months'].plot(kind = 'box')\n",
    "plt.xlabel('Survival Months', fontsize = 15)\n",
    "plt.ylabel('Frequency', fontsize = 15)\n",
    "plt.title('Distribution of Survival Months', fontsize = 15)\n",
    "plt.show()"
   ]
  },
  {
   "cell_type": "markdown",
   "metadata": {},
   "source": [
    "Explanation: This histogram visualizes the distribution of survival months for the patients in the dataset.\n",
    "Insights: The histogram provides insights into the survival duration of patients with cancer. It helps identify the frequency of cases across different survival time ranges and may reveal patterns or notable peaks in the data. "
   ]
  },
  {
   "cell_type": "markdown",
   "metadata": {},
   "source": [
    "<h3 style=\"color:#8B0000;\"> Pie chart  to show the Distribution of Laterality Recoded:</h3>"
   ]
  },
  {
   "cell_type": "code",
   "execution_count": null,
   "metadata": {
    "execution": {
     "iopub.execute_input": "2023-12-17T22:33:05.256803Z",
     "iopub.status.busy": "2023-12-17T22:33:05.256165Z",
     "iopub.status.idle": "2023-12-17T22:33:05.534238Z",
     "shell.execute_reply": "2023-12-17T22:33:05.53279Z",
     "shell.execute_reply.started": "2023-12-17T22:33:05.256769Z"
    }
   },
   "outputs": [],
   "source": [
    "plt.figure(figsize=(14, 7))\n",
    "labels = df['Laterality Recoded'].value_counts().index\n",
    "sizes = df['Laterality Recoded'].value_counts().values\n",
    "plt.pie(sizes, labels=labels, autopct='%1.1f%%', startangle=90)\n",
    "plt.axis('equal')\n",
    "plt.title('Distribution of Laterality Recoded', fontsize = 15)\n",
    "plt.show()"
   ]
  },
  {
   "cell_type": "markdown",
   "metadata": {},
   "source": [
    "Explanation: This pie chart represents the proportion of cases for each laterality recoded category.\n",
    "Insights: The pie chart offers a visual representation of the relative frequencies of different laterality recoded categories. It allows for a quick assessment of the distribution and comparison between different laterality groups.\n",
    " It can be seen that 51.2% cancers has appeared in Left breast whereas 48.8% breast cancers has appeared in right side. "
   ]
  },
  {
   "cell_type": "markdown",
   "metadata": {},
   "source": [
    "<h3 style=\"color:#8B0000;\"> Line plot of 'Year of diagnosis:</h3>"
   ]
  },
  {
   "cell_type": "code",
   "execution_count": null,
   "metadata": {
    "execution": {
     "iopub.execute_input": "2023-12-17T22:33:05.535884Z",
     "iopub.status.busy": "2023-12-17T22:33:05.535546Z",
     "iopub.status.idle": "2023-12-17T22:33:05.931349Z",
     "shell.execute_reply": "2023-12-17T22:33:05.929263Z",
     "shell.execute_reply.started": "2023-12-17T22:33:05.535854Z"
    }
   },
   "outputs": [],
   "source": [
    "# Line plot of 'Year of diagnosis'\n",
    "plt.figure(figsize=(14, 7))\n",
    "year_counts = df['Year of diagnosis'].value_counts().sort_index()\n",
    "plt.plot(year_counts.index, year_counts.values, marker='o')\n",
    "plt.xlabel('Year of Diagnosis', fontsize = 15)\n",
    "plt.ylabel('Frequency', fontsize = 15)\n",
    "plt.title('Number of Cancer Cases by Year of Diagnosis', fontsize = 15)\n",
    "plt.xticks(rotation=45)\n",
    "plt.show()"
   ]
  },
  {
   "cell_type": "markdown",
   "metadata": {},
   "source": [
    "Explanation: This line plot displays the count of cases over time based on the year of diagnosis.\n",
    "Insights: The line plot helps identify trends and patterns in the number of cancer cases diagnosed over the years. It allows for the detection of any significant changes, increasing or decreasing trends, or possible seasonality in cancer diagnoses. As we can see there is a sudden increase in the frequency from the year 2000, it may be due to the  advancements in medical treatments, changes in diagnostic methods, or other factors have influenced the outcomes of cancer patients over time."
   ]
  },
  {
   "cell_type": "markdown",
   "metadata": {},
   "source": [
    "<h3 style=\"color:#8B0000;\"> A bar graph to show the Count of Cases for each PR Status:</h3>"
   ]
  },
  {
   "cell_type": "code",
   "execution_count": null,
   "metadata": {
    "execution": {
     "iopub.execute_input": "2023-12-17T22:33:05.933459Z",
     "iopub.status.busy": "2023-12-17T22:33:05.932986Z",
     "iopub.status.idle": "2023-12-17T22:33:06.306325Z",
     "shell.execute_reply": "2023-12-17T22:33:06.304973Z",
     "shell.execute_reply.started": "2023-12-17T22:33:05.933417Z"
    }
   },
   "outputs": [],
   "source": [
    "plt.figure(figsize=(14, 7))\n",
    "df['PR Status Recode Breast Cancer (1990+)'].value_counts().plot(kind='bar', color = ['brown','gray','black','blue'])\n",
    "plt.xlabel('PR Status Recode Breast Cancer (1990+)', fontsize = 15)\n",
    "plt.ylabel('Count', fontsize = 15)\n",
    "plt.title('Count of Cases for each PR Status', fontsize = 15)\n",
    "plt.show()"
   ]
  },
  {
   "cell_type": "markdown",
   "metadata": {},
   "source": [
    "Explanation:\n",
    "\n",
    "- This code generates a bar graph showing the count of cases for each PR status category.\n",
    "- The figure size of the plot is set to (14, 7) inches.\n",
    "- The value_counts() function counts the occurrences of each PR status category in the DataFrame column.\n",
    "- The plot() function with kind='bar' creates a bar graph to visualize the counts.\n",
    "- The color parameter assigns different colors to each PR status category.\n",
    "- The x-axis label is set to 'PR Status Recode Breast Cancer (1990+)' with a font size of 15.\n",
    "- The y-axis label is set to 'Count' with a font size of 15.\n",
    "- The title of the graph is 'Count of Cases for each PR Status' with a font size of 15.\n",
    "- Finally, the plot is displayed using plt.show().\n",
    "\n",
    "\n",
    "Insights:\n",
    "\n",
    "The bar graph provides a visual representation of the distribution of cases across different PR status categories.\n",
    "The height of each bar represents the count of cases for the corresponding PR status.\n",
    "By analyzing the graph, you can observe the relative frequencies of different PR status categories and identify any imbalances or patterns in the data.\n",
    "The color differentiation helps to distinguish between different PR status categories easily."
   ]
  },
  {
   "cell_type": "markdown",
   "metadata": {},
   "source": [
    "<h3 style=\"color:#8B0000;\"> A bar graph to show the Count of Cases for each ER Status:</h3>"
   ]
  },
  {
   "cell_type": "code",
   "execution_count": null,
   "metadata": {
    "execution": {
     "iopub.execute_input": "2023-12-17T22:33:06.308371Z",
     "iopub.status.busy": "2023-12-17T22:33:06.307925Z",
     "iopub.status.idle": "2023-12-17T22:33:06.686824Z",
     "shell.execute_reply": "2023-12-17T22:33:06.685676Z",
     "shell.execute_reply.started": "2023-12-17T22:33:06.30834Z"
    }
   },
   "outputs": [],
   "source": [
    "plt.figure(figsize=(14, 7))\n",
    "df['ER Status Recode Breast Cancer (1990+)'].value_counts().plot(kind='bar',color = ['brown','gray','black','pink'])\n",
    "plt.xlabel('ER Status Recode Breast Cancer (1990+)', fontsize = 15)\n",
    "plt.ylabel('Count', fontsize = 15)\n",
    "plt.title('Count of Cases for each ER Status', fontsize = 15)\n",
    "plt.show()"
   ]
  },
  {
   "cell_type": "markdown",
   "metadata": {},
   "source": [
    "Explanation:\n",
    "\n",
    "- This code generates a bar graph showing the count of cases for each ER status category.\n",
    "- The figure size of the plot is set to (14, 7) inches.\n",
    "- The value_counts() function counts the occurrences of each ER status category in the DataFrame column.\n",
    "- The plot() function with kind='bar' creates a bar graph to visualize the counts.\n",
    "- The color parameter assigns different colors to each ER status category.\n",
    "- The x-axis label is set to 'ER Status Recode Breast Cancer (1990+)' with a font size of 15.\n",
    "-The y-axis label is set to 'Count' with a font size of 15.\n",
    "-The title of the graph is 'Count of Cases for each ER Status' with a font size of 15.\n",
    "-Finally, the plot is displayed using plt.show().\n",
    "\n",
    "Insights:\n",
    "\n",
    "The bar graph provides a visual representation of the distribution of cases across different ER status categories.\n",
    "The height of each bar represents the count of cases for the corresponding ER status.\n",
    "By analyzing the graph, you can observe the relative frequencies of different ER status categories and identify any imbalances or patterns in the data.\n",
    "The color differentiation helps to distinguish between different ER status categories easily."
   ]
  },
  {
   "cell_type": "markdown",
   "metadata": {},
   "source": [
    "<h3 style=\"color:#8B0000;\"> Count of Cases for each Healing Status (Response Variable):</h3>"
   ]
  },
  {
   "cell_type": "code",
   "execution_count": null,
   "metadata": {
    "execution": {
     "iopub.execute_input": "2023-12-17T22:33:06.688414Z",
     "iopub.status.busy": "2023-12-17T22:33:06.688054Z",
     "iopub.status.idle": "2023-12-17T22:33:07.030602Z",
     "shell.execute_reply": "2023-12-17T22:33:07.029391Z",
     "shell.execute_reply.started": "2023-12-17T22:33:06.688356Z"
    }
   },
   "outputs": [],
   "source": [
    "plt.figure(figsize=(14, 7))\n",
    "df['Healing Status'].value_counts().plot(kind='bar',color = ['brown','green',])\n",
    "plt.xlabel('Healing Status', fontsize = 15)\n",
    "plt.ylabel('Count', fontsize = 15)\n",
    "plt.title('Count of Cases for each Healing Status', fontsize = 15)\n",
    "plt.show()"
   ]
  },
  {
   "cell_type": "markdown",
   "metadata": {},
   "source": [
    "Based on the distribution you provided, we can see that there are 97881 patients classified as \"not healed\" and 60884 patients classified as \"healed\" in the dataset. We have a class imbalance. "
   ]
  },
  {
   "cell_type": "markdown",
   "metadata": {},
   "source": [
    "# Multivariate Analysis:"
   ]
  },
  {
   "cell_type": "markdown",
   "metadata": {},
   "source": [
    "<h3 style=\"color:#8B0000;\"> Scatter Plot (Age vs. Survival Months with Hue):</h3>"
   ]
  },
  {
   "cell_type": "code",
   "execution_count": null,
   "metadata": {
    "execution": {
     "iopub.execute_input": "2023-12-17T22:33:07.032196Z",
     "iopub.status.busy": "2023-12-17T22:33:07.031872Z",
     "iopub.status.idle": "2023-12-17T22:33:13.001681Z",
     "shell.execute_reply": "2023-12-17T22:33:13.000264Z",
     "shell.execute_reply.started": "2023-12-17T22:33:07.032168Z"
    }
   },
   "outputs": [],
   "source": [
    "plt.figure(figsize=(14, 7))\n",
    "sns.scatterplot(x='Age', y='Survival months', hue='Healing Status', data=df)\n",
    "plt.xlabel('Age', fontsize=12)\n",
    "plt.ylabel('Survival Months', fontsize=12)\n",
    "plt.title('Age vs. Survival Months (with Healing Status)', fontsize=14)\n",
    "plt.show()\n"
   ]
  },
  {
   "cell_type": "markdown",
   "metadata": {},
   "source": [
    "Explanation:\n",
    "\n",
    "- This scatter plot visualizes the relationship between age and survival months, with the points colored based on the healing status.\n",
    "- The sns.scatterplot() function from the Seaborn library is used to create the scatter plot.\n",
    "- The x parameter is set to 'Age', indicating the variable to be plotted on the x-axis.\n",
    "- The y parameter is set to 'Survival months', indicating the variable to be plotted on the y-axis.\n",
    "- The hue parameter is set to 'Healing Status', which assigns different colors to points based on the healing status.\n",
    "- The data for the plot is provided through the data parameter, which is set to the DataFrame df.\n",
    "- The x-axis label is set to 'Age' with a font size of 12.\n",
    "- The y-axis label is set to 'Survival Months' with a font size of 12.\n",
    "- The title of the plot is 'Age vs. Survival Months (with Healing Status)' with a font size of 14.\n",
    "- Finally, the plot is displayed using plt.show().\n",
    "\n",
    "Insights:\n",
    "\n",
    "This scatter plot allows us to examine the relationship between age and survival months, while considering the healing status as well.\n",
    "The points are color-coded based on whether the case is healed or not healed.\n",
    "We can observe patterns or trends in the data, such as clusters or associations between age, survival months, and healing status.\n",
    "This plot helps identify any potential correlations between age, survival months, and the likelihood of healing."
   ]
  },
  {
   "cell_type": "markdown",
   "metadata": {},
   "source": [
    "\n",
    "<h3 style=\"color:#8B0000;\"> Box Plot (Healing Status vs. Survival Months):</h3>"
   ]
  },
  {
   "cell_type": "code",
   "execution_count": null,
   "metadata": {
    "execution": {
     "iopub.execute_input": "2023-12-17T22:33:13.003334Z",
     "iopub.status.busy": "2023-12-17T22:33:13.002996Z",
     "iopub.status.idle": "2023-12-17T22:33:13.454248Z",
     "shell.execute_reply": "2023-12-17T22:33:13.45309Z",
     "shell.execute_reply.started": "2023-12-17T22:33:13.003296Z"
    }
   },
   "outputs": [],
   "source": [
    "plt.figure(figsize=(14, 7))\n",
    "sns.boxplot(x='Healing Status', y='Survival months', data=df)\n",
    "plt.xlabel('Healing Status', fontsize=12)\n",
    "plt.ylabel('Survival Months', fontsize=12)\n",
    "plt.title('Healing Status vs. Survival Months', fontsize=14)\n",
    "plt.show()"
   ]
  },
  {
   "cell_type": "markdown",
   "metadata": {},
   "source": [
    "Explanation:\n",
    "\n",
    "- This box plot compares the distribution of survival months between different healing statuses.\n",
    "- The sns.boxplot() function is used to create the plot.\n",
    "- The x parameter is set to 'Healing Status', indicating the variable to be plotted on the x-axis.\n",
    "- The y parameter is set to 'Survival months', indicating the variable to be plotted on the y-axis.\n",
    "- The data for the plot is provided through the data parameter, which is set to the DataFrame df.\n",
    "- The x-axis label is set to 'Healing Status' with a font size of 12.\n",
    "- The y-axis label is set to 'Survival Months' with a font size of 12.\n",
    "- The title of the plot is 'Healing Status vs. Survival Months' with a font size of 14.\n",
    "- Finally, the plot is displayed using plt.show().\n",
    "\n",
    "Insights:\n",
    "\n",
    "The box plot allows us to compare the distribution of survival months for different healing statuses.\n",
    "We can observe differences in the central tendency, spread, and presence of outliers for each healing status.\n",
    "This plot helps identify any variations in survival months based on the healing status and provides insights into potential differences in patient outcomes.\n",
    "Note:\n",
    "These are just two examples of multivariate analysis using different types of graphs. You can explore other types of plots, combinations of variables, or customize these plots further based on your specific requirements and dataset."
   ]
  },
  {
   "cell_type": "markdown",
   "metadata": {},
   "source": [
    "\n",
    "<h3 style=\"color:#8B0000;\">Violin plot to show Healing Status vs. Age (with Laterality):</h3>"
   ]
  },
  {
   "cell_type": "code",
   "execution_count": null,
   "metadata": {
    "execution": {
     "iopub.execute_input": "2023-12-17T22:33:13.456756Z",
     "iopub.status.busy": "2023-12-17T22:33:13.455741Z",
     "iopub.status.idle": "2023-12-17T22:33:14.862154Z",
     "shell.execute_reply": "2023-12-17T22:33:14.860899Z",
     "shell.execute_reply.started": "2023-12-17T22:33:13.45672Z"
    }
   },
   "outputs": [],
   "source": [
    "plt.figure(figsize=(10, 7))\n",
    "sns.violinplot(x='Healing Status', y='Age', hue='Laterality Recoded', data=df)\n",
    "plt.xlabel('Healing Status', fontsize=12)\n",
    "plt.ylabel('Age', fontsize=12)\n",
    "plt.title('Healing Status vs. Age (with Laterality)', fontsize=14)\n",
    "plt.show()\n"
   ]
  },
  {
   "cell_type": "markdown",
   "metadata": {},
   "source": [
    "Explanation:\n",
    "\n",
    "This violin plot visualizes the distribution of age for different healing statuses, with the hue representing the laterality.\n",
    "- The sns.violinplot() function from the Seaborn library is used to create the plot.\n",
    "- The x parameter is set to 'Healing Status', indicating the variable to be plotted on the x-axis.\n",
    "- The y parameter is set to 'Age', indicating the variable to be plotted on the y-axis.\n",
    "- The hue parameter is set to 'Laterality', which assigns different colors to the violins based on the laterality.\n",
    "- The data for the plot is provided through the data parameter, which is set to the DataFrame df.\n",
    "- The x-axis label is set to 'Healing Status' with a font size of 12.\n",
    "- The y-axis label is set to 'Age' with a font size of 12.\n",
    "- The title of the plot is 'Healing Status vs. Age (with Laterality)' with a font size of 14.\n",
    "- Finally, the plot is displayed using plt.show().\n",
    "\n",
    "Insights:\n",
    "\n",
    "This violin plot allows us to compare the distribution of age for different healing statuses, while considering the laterality as well.\n",
    "The violins provide information about the distribution, including the median, quartiles, and density of the data.\n",
    "We can observe differences in age distribution among healing statuses, as well as variations based on laterality.\n",
    "This plot helps identify any potential relationships between age, healing status, and laterality."
   ]
  },
  {
   "cell_type": "markdown",
   "metadata": {},
   "source": [
    "<h3 style=\"color:#8B0000;\"> Scatter plot for Age at Diagnosis vs. Survival Months:</h3>"
   ]
  },
  {
   "cell_type": "code",
   "execution_count": null,
   "metadata": {
    "execution": {
     "iopub.execute_input": "2023-12-17T22:33:14.867813Z",
     "iopub.status.busy": "2023-12-17T22:33:14.867357Z",
     "iopub.status.idle": "2023-12-17T22:33:15.590909Z",
     "shell.execute_reply": "2023-12-17T22:33:15.589565Z",
     "shell.execute_reply.started": "2023-12-17T22:33:14.867779Z"
    }
   },
   "outputs": [],
   "source": [
    "plt.figure(figsize=(14, 7))\n",
    "plt.scatter(df['Age at Diagnosis'], df['Survival months'])\n",
    "plt.xlabel('Age at Diagnosis', fontsize = 15)\n",
    "plt.ylabel('Survival Months', fontsize = 15)\n",
    "plt.title('Age at Diagnosis vs. Survival Months', fontsize = 15)\n",
    "plt.show()"
   ]
  },
  {
   "cell_type": "markdown",
   "metadata": {},
   "source": [
    "Explanation:\n",
    "\n",
    "- The scatter plot visualizes the relationship between the age at diagnosis and survival months.\n",
    "- The plt.scatter() function is used to create the scatter plot.\n",
    "- The x-axis represents the age at diagnosis, which is obtained from the 'Age at Diagnosis' column in the DataFrame df.\n",
    "- The y-axis represents the survival months, which is obtained from the 'Survival months' column in df.\n",
    "- The plot is displayed with a figure size of 14x7 inches using plt.figure(figsize=(14, 7)).\n",
    "- The x-axis label is set to 'Age at Diagnosis' with a font size of 15 using plt.xlabel('Age at Diagnosis', fontsize=15).\n",
    "- The y-axis label is set to 'Survival Months' with a font size of 15 using plt.ylabel('Survival Months', fontsize=15).\n",
    "- The title of the plot is 'Age at Diagnosis vs. Survival Months' with a font size of 15 using plt.title('Age at Diagnosis vs. Survival Months', fontsize=15).\n",
    "- Finally, the plot is displayed using plt.show().\n",
    "\n",
    "Insights:\n",
    "\n",
    "The scatter plot allows us to observe the relationship between the age at diagnosis and the survival months for breast cancer patients.\n",
    "Each point in the plot represents an individual case, with the x-coordinate indicating the age at diagnosis and the y-coordinate indicating the corresponding survival months.\n",
    "By examining the scatter plot, we can identify any potential patterns or trends between age at diagnosis and survival months.\n",
    "We can look for any clusters or concentrations of points that may suggest a relationship between age and survival.\n",
    "Additionally, the scatter plot helps us identify any outliers or unusual cases that deviate from the general pattern.\n",
    "This plot can be useful for understanding the general relationship between age at diagnosis and survival months in the dataset and can potentially provide insights for further analysis or investigation."
   ]
  },
  {
   "cell_type": "markdown",
   "metadata": {},
   "source": [
    "<h3 style=\"color:#8B0000;\"> Drop the unnecesary Columns from the data frame :</h3>"
   ]
  },
  {
   "cell_type": "code",
   "execution_count": null,
   "metadata": {
    "execution": {
     "iopub.execute_input": "2023-12-17T22:33:15.59394Z",
     "iopub.status.busy": "2023-12-17T22:33:15.593477Z",
     "iopub.status.idle": "2023-12-17T22:33:15.643838Z",
     "shell.execute_reply": "2023-12-17T22:33:15.642579Z",
     "shell.execute_reply.started": "2023-12-17T22:33:15.593896Z"
    }
   },
   "outputs": [],
   "source": [
    "df.drop(['Age recode with <1 year olds','Laterality','Reason no cancer-directed surgery','Survival months','Histology recode - broad groupings',], axis = 1, inplace = True)"
   ]
  },
  {
   "cell_type": "markdown",
   "metadata": {},
   "source": [
    "<h3 style=\"color:#8B0000;\"> Print the columns having object data type :</h3>"
   ]
  },
  {
   "cell_type": "code",
   "execution_count": null,
   "metadata": {
    "execution": {
     "iopub.execute_input": "2023-12-17T22:33:15.645723Z",
     "iopub.status.busy": "2023-12-17T22:33:15.645236Z",
     "iopub.status.idle": "2023-12-17T22:33:15.720131Z",
     "shell.execute_reply": "2023-12-17T22:33:15.718953Z",
     "shell.execute_reply.started": "2023-12-17T22:33:15.645685Z"
    }
   },
   "outputs": [],
   "source": [
    "df.select_dtypes(include = 'object').columns"
   ]
  },
  {
   "cell_type": "markdown",
   "metadata": {},
   "source": [
    "<h3 style=\"color:#8B0000;\"> Assign numeric codes to the values of Laterality Recoded and Surgery Performed codes:</h3>"
   ]
  },
  {
   "cell_type": "code",
   "execution_count": null,
   "metadata": {
    "execution": {
     "iopub.execute_input": "2023-12-17T22:33:15.722788Z",
     "iopub.status.busy": "2023-12-17T22:33:15.72204Z",
     "iopub.status.idle": "2023-12-17T22:33:15.76311Z",
     "shell.execute_reply": "2023-12-17T22:33:15.761851Z",
     "shell.execute_reply.started": "2023-12-17T22:33:15.722743Z"
    }
   },
   "outputs": [],
   "source": [
    "df['Laterality Recoded'] = df['Laterality Recoded'].astype('category').cat.codes\n",
    "df['Surgery Performed'] = df['Surgery Performed'].astype('category').cat.codes"
   ]
  },
  {
   "cell_type": "markdown",
   "metadata": {},
   "source": [
    "<h3 style=\"color:#8B0000;\"> Get dummies variables for all the other remaining category type variables :</h3>"
   ]
  },
  {
   "cell_type": "code",
   "execution_count": null,
   "metadata": {
    "execution": {
     "iopub.execute_input": "2023-12-17T22:33:15.765913Z",
     "iopub.status.busy": "2023-12-17T22:33:15.76508Z",
     "iopub.status.idle": "2023-12-17T22:33:16.013098Z",
     "shell.execute_reply": "2023-12-17T22:33:16.011988Z",
     "shell.execute_reply.started": "2023-12-17T22:33:15.765864Z"
    }
   },
   "outputs": [],
   "source": [
    "df_dummy = pd.get_dummies(df, columns = ['Sequence number', 'Primary Site - labeled',\n",
    "       'ER Status Recode Breast Cancer (1990+)',\n",
    "       'PR Status Recode Breast Cancer (1990+)',\n",
    "       'Breast - Adjusted AJCC 6th T (1988-2015)',\n",
    "       'Breast - Adjusted AJCC 6th N (1988-2015)',\n",
    "       'Breast - Adjusted AJCC 6th M (1988-2015)',\n",
    "       'Breast - Adjusted AJCC 6th Stage (1988-2015)', ])\n",
    "df_dummy.head()"
   ]
  },
  {
   "cell_type": "markdown",
   "metadata": {},
   "source": [
    "\n",
    "<h3 style=\"color:#8B0000;\"> Store Features into 'X' matrix and Response into 'y' vector:</h3>"
   ]
  },
  {
   "cell_type": "code",
   "execution_count": null,
   "metadata": {
    "execution": {
     "iopub.execute_input": "2023-12-17T22:33:16.014666Z",
     "iopub.status.busy": "2023-12-17T22:33:16.014316Z",
     "iopub.status.idle": "2023-12-17T22:33:16.030075Z",
     "shell.execute_reply": "2023-12-17T22:33:16.028317Z",
     "shell.execute_reply.started": "2023-12-17T22:33:16.014638Z"
    }
   },
   "outputs": [],
   "source": [
    "X = df_dummy.loc[:, df_dummy.columns != 'Healing Status']\n",
    "\n",
    "y = df_dummy['Healing Status']"
   ]
  },
  {
   "cell_type": "markdown",
   "metadata": {},
   "source": [
    "## Feature Selection using SelectKbest Analysis:\n",
    "<h3 style=\"color:#8B0000;\">import SelectKBest and f_classif from sklear for feature seletion: </h3>"
   ]
  },
  {
   "cell_type": "code",
   "execution_count": null,
   "metadata": {
    "execution": {
     "iopub.execute_input": "2023-12-17T22:33:16.032808Z",
     "iopub.status.busy": "2023-12-17T22:33:16.032279Z",
     "iopub.status.idle": "2023-12-17T22:33:16.06309Z",
     "shell.execute_reply": "2023-12-17T22:33:16.061988Z",
     "shell.execute_reply.started": "2023-12-17T22:33:16.032764Z"
    }
   },
   "outputs": [],
   "source": [
    "from sklearn.feature_selection import SelectKBest\n",
    "from sklearn.feature_selection import f_classif"
   ]
  },
  {
   "cell_type": "markdown",
   "metadata": {},
   "source": [
    "<h3 style=\"color:#8B0000;\"> Initialized SelectKBest with f_classif test and k= 30 </h3>"
   ]
  },
  {
   "cell_type": "code",
   "execution_count": null,
   "metadata": {
    "execution": {
     "iopub.execute_input": "2023-12-17T22:33:16.064969Z",
     "iopub.status.busy": "2023-12-17T22:33:16.064591Z",
     "iopub.status.idle": "2023-12-17T22:33:16.070903Z",
     "shell.execute_reply": "2023-12-17T22:33:16.069676Z",
     "shell.execute_reply.started": "2023-12-17T22:33:16.064937Z"
    }
   },
   "outputs": [],
   "source": [
    "test = SelectKBest(score_func=f_classif, k=30)"
   ]
  },
  {
   "cell_type": "markdown",
   "metadata": {},
   "source": [
    "<h3 style=\"color:#8B0000;\"> Fit the SelectKBest  model: </h3>"
   ]
  },
  {
   "cell_type": "code",
   "execution_count": null,
   "metadata": {
    "execution": {
     "iopub.execute_input": "2023-12-17T22:33:16.073088Z",
     "iopub.status.busy": "2023-12-17T22:33:16.072648Z",
     "iopub.status.idle": "2023-12-17T22:33:16.513318Z",
     "shell.execute_reply": "2023-12-17T22:33:16.512458Z",
     "shell.execute_reply.started": "2023-12-17T22:33:16.073053Z"
    }
   },
   "outputs": [],
   "source": [
    "fit = test.fit(X, y)"
   ]
  },
  {
   "cell_type": "markdown",
   "metadata": {},
   "source": [
    "<h3 style=\"color:#8B0000;\">Transform the features:</h3>"
   ]
  },
  {
   "cell_type": "code",
   "execution_count": null,
   "metadata": {
    "execution": {
     "iopub.execute_input": "2023-12-17T22:33:16.515266Z",
     "iopub.status.busy": "2023-12-17T22:33:16.514748Z",
     "iopub.status.idle": "2023-12-17T22:33:16.591899Z",
     "shell.execute_reply": "2023-12-17T22:33:16.590707Z",
     "shell.execute_reply.started": "2023-12-17T22:33:16.515236Z"
    }
   },
   "outputs": [],
   "source": [
    "filtered_features= fit.transform(X)"
   ]
  },
  {
   "cell_type": "markdown",
   "metadata": {},
   "source": [
    "<h3 style=\"color:#8B0000;\">Show the supporting variables given by SelectKBest (True/false):</h3>"
   ]
  },
  {
   "cell_type": "code",
   "execution_count": null,
   "metadata": {
    "execution": {
     "iopub.execute_input": "2023-12-17T22:33:16.593875Z",
     "iopub.status.busy": "2023-12-17T22:33:16.593442Z",
     "iopub.status.idle": "2023-12-17T22:33:16.602591Z",
     "shell.execute_reply": "2023-12-17T22:33:16.601353Z",
     "shell.execute_reply.started": "2023-12-17T22:33:16.593837Z"
    }
   },
   "outputs": [],
   "source": [
    "test.get_support()"
   ]
  },
  {
   "cell_type": "markdown",
   "metadata": {},
   "source": [
    "\n",
    "<h3 style=\"color:#8B0000;\">Display the scores of the features assigned by the SelectkBest:</h3>"
   ]
  },
  {
   "cell_type": "code",
   "execution_count": null,
   "metadata": {
    "execution": {
     "iopub.execute_input": "2023-12-17T22:33:16.604583Z",
     "iopub.status.busy": "2023-12-17T22:33:16.604133Z",
     "iopub.status.idle": "2023-12-17T22:33:16.616619Z",
     "shell.execute_reply": "2023-12-17T22:33:16.615693Z",
     "shell.execute_reply.started": "2023-12-17T22:33:16.604503Z"
    }
   },
   "outputs": [],
   "source": [
    "test.scores_"
   ]
  },
  {
   "cell_type": "markdown",
   "metadata": {},
   "source": [
    "<h3 style=\"color:#8B0000;\">Find the Feature importance for each feature:</h3>"
   ]
  },
  {
   "cell_type": "code",
   "execution_count": null,
   "metadata": {
    "execution": {
     "iopub.execute_input": "2023-12-17T22:33:16.618639Z",
     "iopub.status.busy": "2023-12-17T22:33:16.618265Z",
     "iopub.status.idle": "2023-12-17T22:33:16.626598Z",
     "shell.execute_reply": "2023-12-17T22:33:16.62547Z",
     "shell.execute_reply.started": "2023-12-17T22:33:16.618595Z"
    }
   },
   "outputs": [],
   "source": [
    "feat_importances = pd.Series(test.scores_, index=X.columns)"
   ]
  },
  {
   "cell_type": "markdown",
   "metadata": {},
   "source": [
    "\n",
    "<h3 style=\"color:#8B0000;\">Display the feature importance using a bar chart:</h3>"
   ]
  },
  {
   "cell_type": "code",
   "execution_count": null,
   "metadata": {
    "execution": {
     "iopub.execute_input": "2023-12-17T22:33:16.629024Z",
     "iopub.status.busy": "2023-12-17T22:33:16.628098Z",
     "iopub.status.idle": "2023-12-17T22:33:17.034372Z",
     "shell.execute_reply": "2023-12-17T22:33:17.033176Z",
     "shell.execute_reply.started": "2023-12-17T22:33:16.628991Z"
    }
   },
   "outputs": [],
   "source": [
    "feat_importances.nlargest(15).plot(kind='barh',figsize = (12,7))\n",
    "plt.show()"
   ]
  },
  {
   "cell_type": "markdown",
   "metadata": {},
   "source": [
    "<h3 style=\"color:#8B0000;\">Getting the column names:</h3>"
   ]
  },
  {
   "cell_type": "code",
   "execution_count": null,
   "metadata": {
    "execution": {
     "iopub.execute_input": "2023-12-17T22:33:17.036492Z",
     "iopub.status.busy": "2023-12-17T22:33:17.036057Z",
     "iopub.status.idle": "2023-12-17T22:33:17.045856Z",
     "shell.execute_reply": "2023-12-17T22:33:17.044591Z",
     "shell.execute_reply.started": "2023-12-17T22:33:17.036455Z"
    }
   },
   "outputs": [],
   "source": [
    "column_names = X.columns[test.get_support()]\n",
    "column_names"
   ]
  },
  {
   "cell_type": "markdown",
   "metadata": {},
   "source": [
    "\n",
    "<h3 style=\"color:#8B0000;\">Selecting the  relevant columns given by SelectKbest only: </h3>"
   ]
  },
  {
   "cell_type": "code",
   "execution_count": null,
   "metadata": {
    "execution": {
     "iopub.execute_input": "2023-12-17T22:33:17.047505Z",
     "iopub.status.busy": "2023-12-17T22:33:17.047142Z",
     "iopub.status.idle": "2023-12-17T22:33:17.082604Z",
     "shell.execute_reply": "2023-12-17T22:33:17.081766Z",
     "shell.execute_reply.started": "2023-12-17T22:33:17.047474Z"
    }
   },
   "outputs": [],
   "source": [
    "X_Selectkbest = X[column_names]\n",
    "X_Selectkbest.head()"
   ]
  },
  {
   "cell_type": "markdown",
   "metadata": {},
   "source": [
    "# Handle Class Imbalance:\n",
    "\n",
    "\n",
    "<h3 style=\"color:#8B0000;\"> Use SMOTE for Over Sampling to have equal number intances for Survival/ Headled (yes/no):</h3>"
   ]
  },
  {
   "cell_type": "code",
   "execution_count": null,
   "metadata": {
    "execution": {
     "iopub.execute_input": "2023-12-17T22:33:17.084796Z",
     "iopub.status.busy": "2023-12-17T22:33:17.083703Z",
     "iopub.status.idle": "2023-12-17T22:34:30.60176Z",
     "shell.execute_reply": "2023-12-17T22:34:30.600595Z",
     "shell.execute_reply.started": "2023-12-17T22:33:17.08476Z"
    }
   },
   "outputs": [],
   "source": [
    "from imblearn.over_sampling import SMOTE\n",
    "oversample = SMOTE(random_state = 42)\n",
    "X_res, y = oversample.fit_resample(X_Selectkbest, y)"
   ]
  },
  {
   "cell_type": "markdown",
   "metadata": {},
   "source": [
    "\n",
    "<h3 style=\"color:#8B0000;\"> SHow we have equal number of instances after SMOTE:</h3>"
   ]
  },
  {
   "cell_type": "code",
   "execution_count": null,
   "metadata": {
    "execution": {
     "iopub.execute_input": "2023-12-17T22:34:30.603335Z",
     "iopub.status.busy": "2023-12-17T22:34:30.602876Z",
     "iopub.status.idle": "2023-12-17T22:34:30.646605Z",
     "shell.execute_reply": "2023-12-17T22:34:30.64523Z",
     "shell.execute_reply.started": "2023-12-17T22:34:30.603305Z"
    }
   },
   "outputs": [],
   "source": [
    "from collections import Counter\n",
    "counter = Counter(y)\n",
    "print(counter)"
   ]
  },
  {
   "cell_type": "markdown",
   "metadata": {},
   "source": [
    "\n",
    "<h3 style=\"color:#8B0000;\">11. Divide the dataset into training set and testing set (80 percent train and 20 percent test):  </h3>"
   ]
  },
  {
   "cell_type": "code",
   "execution_count": null,
   "metadata": {
    "execution": {
     "iopub.execute_input": "2023-12-17T22:34:30.648715Z",
     "iopub.status.busy": "2023-12-17T22:34:30.648252Z",
     "iopub.status.idle": "2023-12-17T22:34:30.732126Z",
     "shell.execute_reply": "2023-12-17T22:34:30.731162Z",
     "shell.execute_reply.started": "2023-12-17T22:34:30.648673Z"
    }
   },
   "outputs": [],
   "source": [
    "from sklearn.model_selection import train_test_split\n",
    "X_train, X_test, y_train, y_test = train_test_split(X_res, y, test_size=0.20, random_state=0)  "
   ]
  },
  {
   "cell_type": "markdown",
   "metadata": {},
   "source": [
    "\n",
    "<h3 style=\"color:#8B0000;\"> Scaled the dataset using StandardScaler:  </h3>"
   ]
  },
  {
   "cell_type": "code",
   "execution_count": null,
   "metadata": {
    "execution": {
     "iopub.execute_input": "2023-12-17T22:34:30.73452Z",
     "iopub.status.busy": "2023-12-17T22:34:30.733679Z",
     "iopub.status.idle": "2023-12-17T22:34:31.089167Z",
     "shell.execute_reply": "2023-12-17T22:34:31.087819Z",
     "shell.execute_reply.started": "2023-12-17T22:34:30.734252Z"
    }
   },
   "outputs": [],
   "source": [
    "from sklearn.preprocessing import StandardScaler\n",
    "scaler = StandardScaler()\n",
    "X_train_scaled = scaler.fit_transform(X_train)\n",
    "X_test_scaled = scaler.fit_transform(X_test)"
   ]
  },
  {
   "cell_type": "markdown",
   "metadata": {},
   "source": [
    "\n",
    "\n",
    "<h1 style=\"color:#008000;font-size:30px\">Random Forest Classifier:</h1>"
   ]
  },
  {
   "cell_type": "markdown",
   "metadata": {},
   "source": [
    "\n",
    "<h3 style=\"color:#8B0000;\"> Initialize the Random Forest Model : </h3>"
   ]
  },
  {
   "cell_type": "code",
   "execution_count": null,
   "metadata": {
    "execution": {
     "iopub.execute_input": "2023-12-17T22:34:31.091006Z",
     "iopub.status.busy": "2023-12-17T22:34:31.090599Z",
     "iopub.status.idle": "2023-12-17T22:34:31.095986Z",
     "shell.execute_reply": "2023-12-17T22:34:31.094796Z",
     "shell.execute_reply.started": "2023-12-17T22:34:31.090976Z"
    }
   },
   "outputs": [],
   "source": [
    "RF_classifier =  RandomForestClassifier(n_estimators = 100, random_state = 42)"
   ]
  },
  {
   "cell_type": "markdown",
   "metadata": {},
   "source": [
    "\n",
    "<h3 style=\"color:#8B0000;\"> Fit the random forest model on training set: </h3>"
   ]
  },
  {
   "cell_type": "code",
   "execution_count": null,
   "metadata": {
    "execution": {
     "iopub.execute_input": "2023-12-17T22:34:31.097497Z",
     "iopub.status.busy": "2023-12-17T22:34:31.097119Z",
     "iopub.status.idle": "2023-12-17T22:35:03.726083Z",
     "shell.execute_reply": "2023-12-17T22:35:03.724776Z",
     "shell.execute_reply.started": "2023-12-17T22:34:31.097468Z"
    }
   },
   "outputs": [],
   "source": [
    "RF_classifier.fit(X_train_scaled, y_train)\n",
    "\n",
    "y_pred_rf = RF_classifier.predict(X_test_scaled)"
   ]
  },
  {
   "cell_type": "markdown",
   "metadata": {},
   "source": [
    "\n",
    "<h3 style=\"color:#8B0000;\"> Evaluate the Model using different KPIS (Accuracy, Confusion Matrix, and Classification Report): </h3>"
   ]
  },
  {
   "cell_type": "code",
   "execution_count": null,
   "metadata": {
    "execution": {
     "iopub.execute_input": "2023-12-17T22:35:03.728564Z",
     "iopub.status.busy": "2023-12-17T22:35:03.72785Z",
     "iopub.status.idle": "2023-12-17T22:35:07.755633Z",
     "shell.execute_reply": "2023-12-17T22:35:07.754447Z",
     "shell.execute_reply.started": "2023-12-17T22:35:03.728529Z"
    }
   },
   "outputs": [],
   "source": [
    "accu_rf = accuracy_score(y_pred_rf, y_test)\n",
    "\n",
    "# Print the prediction accuracy\n",
    "print('Test Accuracy Random Forest Classifier :', accu_rf)\n",
    "\n",
    "print('Confuion Matrix Random Forest Classifier :\\n', confusion_matrix(y_pred_rf, y_test))\n",
    "\n",
    "print('Classification Report Random Forest Classifier :', classification_report(y_pred_rf, y_test))"
   ]
  },
  {
   "cell_type": "markdown",
   "metadata": {},
   "source": [
    "\n",
    "\n",
    "<h1 style=\"color:#008000;font-size:30px\">K-Nearest Neighbour CLassifier:</h1>"
   ]
  },
  {
   "cell_type": "markdown",
   "metadata": {},
   "source": [
    "\n",
    "<h3 style=\"color:#8B0000;\"> Initialize the K-Nearest Neighbour CLassifier : </h3>"
   ]
  },
  {
   "cell_type": "code",
   "execution_count": null,
   "metadata": {
    "execution": {
     "iopub.execute_input": "2023-12-17T22:35:07.757536Z",
     "iopub.status.busy": "2023-12-17T22:35:07.757167Z",
     "iopub.status.idle": "2023-12-17T22:35:07.762155Z",
     "shell.execute_reply": "2023-12-17T22:35:07.761251Z",
     "shell.execute_reply.started": "2023-12-17T22:35:07.757505Z"
    }
   },
   "outputs": [],
   "source": [
    "Knn_classifier = KNeighborsClassifier(n_neighbors=5, )"
   ]
  },
  {
   "cell_type": "markdown",
   "metadata": {},
   "source": [
    "\n",
    "<h3 style=\"color:#8B0000;\"> Fit the K-Nearest Neighbour CLassifier on training set: </h3>"
   ]
  },
  {
   "cell_type": "code",
   "execution_count": null,
   "metadata": {
    "execution": {
     "iopub.execute_input": "2023-12-17T22:35:07.770513Z",
     "iopub.status.busy": "2023-12-17T22:35:07.769822Z",
     "iopub.status.idle": "2023-12-17T22:35:27.543717Z",
     "shell.execute_reply": "2023-12-17T22:35:27.542475Z",
     "shell.execute_reply.started": "2023-12-17T22:35:07.770476Z"
    }
   },
   "outputs": [],
   "source": [
    "Knn_classifier.fit(X_train_scaled, y_train)\n",
    "\n",
    "y_pred_knn = Knn_classifier.predict(X_test_scaled)"
   ]
  },
  {
   "cell_type": "markdown",
   "metadata": {},
   "source": [
    "\n",
    "<h3 style=\"color:#8B0000;\"> Evaluate the Model using different KPIS (Accuracy, Confusion Matrix, and Classification Report): </h3>"
   ]
  },
  {
   "cell_type": "code",
   "execution_count": null,
   "metadata": {
    "execution": {
     "iopub.execute_input": "2023-12-17T22:35:27.545919Z",
     "iopub.status.busy": "2023-12-17T22:35:27.545338Z",
     "iopub.status.idle": "2023-12-17T22:35:31.52797Z",
     "shell.execute_reply": "2023-12-17T22:35:31.526467Z",
     "shell.execute_reply.started": "2023-12-17T22:35:27.545867Z"
    }
   },
   "outputs": [],
   "source": [
    "accu_knn = accuracy_score(y_pred_knn, y_test)\n",
    "\n",
    "print('Test accuracy K-nearest Neighbour Classifier :', accu_knn)\n",
    "\n",
    "print('Confuion Matrix K-nearest Neighbour Classifier :\\n', confusion_matrix(y_pred_knn, y_test))\n",
    "\n",
    "print('Classification Report K-nearest Neighbour Classifier :', classification_report(y_pred_knn, y_test))"
   ]
  },
  {
   "cell_type": "markdown",
   "metadata": {},
   "source": [
    "<h1 style=\"color:#008000;font-size:30px\">Gradient Boosting Classifier:</h1>"
   ]
  },
  {
   "cell_type": "markdown",
   "metadata": {},
   "source": [
    "\n",
    "<h3 style=\"color:#8B0000;\"> Initialize the Gradient Boosting Classifier : </h3>"
   ]
  },
  {
   "cell_type": "code",
   "execution_count": null,
   "metadata": {
    "execution": {
     "iopub.execute_input": "2023-12-17T22:35:31.529986Z",
     "iopub.status.busy": "2023-12-17T22:35:31.529647Z",
     "iopub.status.idle": "2023-12-17T22:35:31.536537Z",
     "shell.execute_reply": "2023-12-17T22:35:31.535134Z",
     "shell.execute_reply.started": "2023-12-17T22:35:31.529959Z"
    }
   },
   "outputs": [],
   "source": [
    "GBC_classifier = GradientBoostingClassifier(n_estimators=200)"
   ]
  },
  {
   "cell_type": "markdown",
   "metadata": {},
   "source": [
    "\n",
    "<h3 style=\"color:#8B0000;\"> Fit the Gradient Boosting Classifier model on training set: </h3>"
   ]
  },
  {
   "cell_type": "code",
   "execution_count": null,
   "metadata": {
    "execution": {
     "iopub.execute_input": "2023-12-17T22:35:31.5383Z",
     "iopub.status.busy": "2023-12-17T22:35:31.537941Z",
     "iopub.status.idle": "2023-12-17T22:36:12.8121Z",
     "shell.execute_reply": "2023-12-17T22:36:12.810779Z",
     "shell.execute_reply.started": "2023-12-17T22:35:31.53827Z"
    }
   },
   "outputs": [],
   "source": [
    "GBC_classifier.fit(X_train_scaled, pd.Series(y_train).astype('category').cat.codes)\n",
    "\n",
    "y_pred_GBC = GBC_classifier.predict(X_test_scaled)"
   ]
  },
  {
   "cell_type": "markdown",
   "metadata": {},
   "source": [
    "\n",
    "<h3 style=\"color:#8B0000;\"> Evaluate the Model using different KPIS (Accuracy, Confusion Matrix, and Classification Report): </h3>"
   ]
  },
  {
   "cell_type": "code",
   "execution_count": null,
   "metadata": {
    "execution": {
     "iopub.execute_input": "2023-12-17T22:36:12.814024Z",
     "iopub.status.busy": "2023-12-17T22:36:12.813585Z",
     "iopub.status.idle": "2023-12-17T22:36:12.930267Z",
     "shell.execute_reply": "2023-12-17T22:36:12.928921Z",
     "shell.execute_reply.started": "2023-12-17T22:36:12.813983Z"
    }
   },
   "outputs": [],
   "source": [
    "accu_GBC = accuracy_score(y_pred_GBC, pd.Series(y_test).astype('category').cat.codes)\n",
    "\n",
    "# Print the prediction accuracy\n",
    "print('Test Accuracy GBC Classifier :', accu_GBC)\n",
    "\n",
    "print('Confuion Matrix GBC Classifier :\\n', confusion_matrix(y_pred_GBC,  pd.Series(y_test).astype('category').cat.codes))\n",
    "\n",
    "print('Classification Report GBC Classifier :', classification_report(y_pred_GBC, pd.Series(y_test).astype('category').cat.codes))"
   ]
  },
  {
   "cell_type": "markdown",
   "metadata": {},
   "source": [
    "<h1 style=\"color:#008000;font-size:30px\">XGB Classifier:</h1>"
   ]
  },
  {
   "cell_type": "markdown",
   "metadata": {},
   "source": [
    "\n",
    "<h3 style=\"color:#8B0000;\"> Initialize the XGB Classifier Model : </h3>"
   ]
  },
  {
   "cell_type": "code",
   "execution_count": null,
   "metadata": {
    "execution": {
     "iopub.execute_input": "2023-12-17T22:36:12.932966Z",
     "iopub.status.busy": "2023-12-17T22:36:12.932466Z",
     "iopub.status.idle": "2023-12-17T22:36:12.938588Z",
     "shell.execute_reply": "2023-12-17T22:36:12.937488Z",
     "shell.execute_reply.started": "2023-12-17T22:36:12.932924Z"
    }
   },
   "outputs": [],
   "source": [
    "XGB_classifier = XGBClassifier()"
   ]
  },
  {
   "cell_type": "markdown",
   "metadata": {},
   "source": [
    "\n",
    "<h3 style=\"color:#8B0000;\"> Fit the XGB Classifier on training set: </h3>"
   ]
  },
  {
   "cell_type": "code",
   "execution_count": null,
   "metadata": {
    "execution": {
     "iopub.execute_input": "2023-12-17T22:36:12.940228Z",
     "iopub.status.busy": "2023-12-17T22:36:12.939916Z",
     "iopub.status.idle": "2023-12-17T22:36:14.612941Z",
     "shell.execute_reply": "2023-12-17T22:36:14.611997Z",
     "shell.execute_reply.started": "2023-12-17T22:36:12.940201Z"
    }
   },
   "outputs": [],
   "source": [
    "XGB_classifier.fit(X_train_scaled, pd.Series(y_train).astype('category').cat.codes)\n",
    "\n",
    "y_pred_XGB = XGB_classifier.predict(X_test_scaled)"
   ]
  },
  {
   "cell_type": "markdown",
   "metadata": {},
   "source": [
    "\n",
    "<h3 style=\"color:#8B0000;\"> Evaluate the Model using different KPIS (Accuracy, Confusion Matrix, and Classification Report): </h3>"
   ]
  },
  {
   "cell_type": "code",
   "execution_count": null,
   "metadata": {
    "execution": {
     "iopub.execute_input": "2023-12-17T22:36:14.6215Z",
     "iopub.status.busy": "2023-12-17T22:36:14.618058Z",
     "iopub.status.idle": "2023-12-17T22:36:14.730569Z",
     "shell.execute_reply": "2023-12-17T22:36:14.729264Z",
     "shell.execute_reply.started": "2023-12-17T22:36:14.621453Z"
    }
   },
   "outputs": [],
   "source": [
    "accu_XGB = accuracy_score(y_pred_XGB, pd.Series(y_test).astype('category').cat.codes)\n",
    "\n",
    "# Print the prediction accuracy\n",
    "print('Test Accuracy XGB Classifier :', accu_XGB)\n",
    "\n",
    "print('Confuion Matrix XGB Classifier :\\n', confusion_matrix(y_pred_XGB, pd.Series(y_test).astype('category').cat.codes))\n",
    "\n",
    "print('Classification Report XGB Classifier :', classification_report(y_pred_XGB, pd.Series(y_test).astype('category').cat.codes))"
   ]
  },
  {
   "cell_type": "markdown",
   "metadata": {},
   "source": [
    "<h1 style=\"color:#008000;font-size:30px\">AdaBoost Classifier:</h1>"
   ]
  },
  {
   "cell_type": "markdown",
   "metadata": {},
   "source": [
    "\n",
    "<h3 style=\"color:#8B0000;\"> Initialize the AdaBoost Classifier Model : </h3>"
   ]
  },
  {
   "cell_type": "code",
   "execution_count": null,
   "metadata": {
    "execution": {
     "iopub.execute_input": "2023-12-17T22:36:14.734119Z",
     "iopub.status.busy": "2023-12-17T22:36:14.732055Z",
     "iopub.status.idle": "2023-12-17T22:36:14.739496Z",
     "shell.execute_reply": "2023-12-17T22:36:14.738193Z",
     "shell.execute_reply.started": "2023-12-17T22:36:14.734076Z"
    }
   },
   "outputs": [],
   "source": [
    "ADC_classifier = AdaBoostClassifier(n_estimators= 5)"
   ]
  },
  {
   "cell_type": "markdown",
   "metadata": {},
   "source": [
    "\n",
    "<h3 style=\"color:#8B0000;\"> Fit the AdaBoost Classifie model on training set: </h3>"
   ]
  },
  {
   "cell_type": "code",
   "execution_count": null,
   "metadata": {
    "execution": {
     "iopub.execute_input": "2023-12-17T22:36:14.741184Z",
     "iopub.status.busy": "2023-12-17T22:36:14.740689Z",
     "iopub.status.idle": "2023-12-17T22:36:15.569543Z",
     "shell.execute_reply": "2023-12-17T22:36:15.568258Z",
     "shell.execute_reply.started": "2023-12-17T22:36:14.741147Z"
    }
   },
   "outputs": [],
   "source": [
    "ADC_classifier.fit(X_train_scaled, pd.Series(y_train).astype('category').cat.codes)\n",
    "\n",
    "y_pred_ADC = ADC_classifier.predict(X_test_scaled)"
   ]
  },
  {
   "cell_type": "markdown",
   "metadata": {},
   "source": [
    "\n",
    "<h3 style=\"color:#8B0000;\"> Evaluate the Model using different KPIS (Accuracy, Confusion Matrix, and Classification Report): </h3>"
   ]
  },
  {
   "cell_type": "code",
   "execution_count": null,
   "metadata": {
    "execution": {
     "iopub.execute_input": "2023-12-17T22:36:15.5716Z",
     "iopub.status.busy": "2023-12-17T22:36:15.571164Z",
     "iopub.status.idle": "2023-12-17T22:36:15.690898Z",
     "shell.execute_reply": "2023-12-17T22:36:15.689568Z",
     "shell.execute_reply.started": "2023-12-17T22:36:15.571566Z"
    }
   },
   "outputs": [],
   "source": [
    "accu_ADC = accuracy_score(y_pred_ADC, pd.Series(y_test).astype('category').cat.codes)\n",
    "\n",
    "# Print the prediction accuracy\n",
    "print('Test Accuracy ADC Classifier :', accu_ADC)\n",
    "\n",
    "print('Confuion Matrix ADC Classifier :\\n', confusion_matrix(y_pred_ADC, pd.Series(y_test).astype('category').cat.codes))\n",
    "\n",
    "print('Classification Report ADC Classifier :', classification_report(y_pred_ADC, pd.Series(y_test).astype('category').cat.codes))"
   ]
  },
  {
   "cell_type": "markdown",
   "metadata": {},
   "source": [
    "<h1 style=\"color:#008000;font-size:35px\">Model Performance Comparisions:</h1>"
   ]
  },
  {
   "cell_type": "markdown",
   "metadata": {},
   "source": [
    "  <h3 style=\"color:#8B0000;\">Horizontol Bar graph to Compare all Models With Default Parameters: </h3>\n",
    " XGB Classifier is outclassing all the other models with accuracy of 73% with default paramters."
   ]
  },
  {
   "cell_type": "markdown",
   "metadata": {},
   "source": [
    "\n",
    "<h3 style=\"color:#8B0000;\"> Make two  lists for the accuracies and models names </h3>"
   ]
  },
  {
   "cell_type": "code",
   "execution_count": null,
   "metadata": {
    "execution": {
     "iopub.execute_input": "2023-12-17T22:36:15.692676Z",
     "iopub.status.busy": "2023-12-17T22:36:15.692151Z",
     "iopub.status.idle": "2023-12-17T22:36:15.699206Z",
     "shell.execute_reply": "2023-12-17T22:36:15.697833Z",
     "shell.execute_reply.started": "2023-12-17T22:36:15.692641Z"
    }
   },
   "outputs": [],
   "source": [
    "Default_Accuracies = pd.Series([accu_rf, accu_knn, accu_GBC, accu_XGB, accu_ADC, ])\n",
    "Model_Names = ['RandomForestClassifier','KNeighborsClassifier','GradientBoostingClassifier','XGBClassifier', 'AdaBoostClassifier']"
   ]
  },
  {
   "cell_type": "markdown",
   "metadata": {},
   "source": [
    "\n",
    "<h3 style=\"color:#8B0000;\"> Comparision of Models With Default Parameters( In terms of Accuracy: </h3>"
   ]
  },
  {
   "cell_type": "code",
   "execution_count": null,
   "metadata": {
    "execution": {
     "iopub.execute_input": "2023-12-17T22:36:15.701235Z",
     "iopub.status.busy": "2023-12-17T22:36:15.700781Z",
     "iopub.status.idle": "2023-12-17T22:36:16.08796Z",
     "shell.execute_reply": "2023-12-17T22:36:16.086338Z",
     "shell.execute_reply.started": "2023-12-17T22:36:15.701192Z"
    }
   },
   "outputs": [],
   "source": [
    "ax = Default_Accuracies.plot(kind = 'barh',figsize=(15,9),color=['black','gray','green','brown','pink','yellow','blue','red'])\n",
    "ax.set_title('Comparision of Models With Default Parameters( In terms of Accuracy)',fontsize=15)\n",
    "ax.set_xticks([0.0,0.1,0.2,0.3,0.4,0.5,0.6,0.7,0.8,0.9,1.0])\n",
    "ax.set_yticklabels(Model_Names,fontsize=15,)\n",
    "ax.set_ylabel(\"Models\",fontsize=15)\n",
    "ax.set_xlabel(\"Accuracy\",fontsize=15)\n",
    "[ax.text(v, i, '{:.2f}%'.format(100*v)) for i, v in enumerate(Default_Accuracies)];\n",
    "plt.show()\n"
   ]
  },
  {
   "cell_type": "markdown",
   "metadata": {},
   "source": [
    "\n",
    "\n",
    "We trained five different classification models: RandomForestClassifier, KNeighborsClassifier, GradientBoostingClassifier, XGBClassifier, and AdaBoostClassifier.\n",
    "\n",
    "The accuracies of the models are as follows:\n",
    "- RandomForestClassifier: 0.710074\n",
    "- KNeighborsClassifier: 0.699976\n",
    "- GradientBoostingClassifier: 0.726398\n",
    "- XGBClassifier: 0.731682\n",
    "- AdaBoostClassifier: 0.690951\n",
    "\n",
    "The accuracy represents the proportion of correctly predicted instances in the test data.\n",
    "The models with higher accuracy values indicate better performance in predicting the healing status.\n",
    "Based on the accuracy values, the XGBClassifier achieved the highest accuracy of 0.731682, followed closely by the GradientBoostingClassifier with an accuracy of 0.726398.\n",
    "The RandomForestClassifier, KNeighborsClassifier, and AdaBoostClassifier achieved slightly lower accuracies but still performed reasonably well.\n",
    "\n",
    "\n",
    "It's important to note that accuracy alone might not provide a complete picture of model performance, and other evaluation metrics should be considered as well (e.g., precision, recall, F1-score) to assess the models' overall performance and suitability for the specific task.\n",
    "In summary, the EDA helped us understand the data distribution and identify patterns, outliers, and relationships between variables. The multivariate analysis provided insights into the associations between different variables and the healing status. The model results showed the accuracy of each model in predicting the healing status, with the XGBClassifier and GradientBoostingClassifier performing the best among the models considered.\n",
    "\n",
    "\n",
    "\n",
    "\n",
    "\n"
   ]
  },
  {
   "cell_type": "code",
   "execution_count": null,
   "metadata": {},
   "outputs": [],
   "source": []
  },
  {
   "cell_type": "code",
   "execution_count": 19,
   "metadata": {},
   "outputs": [
    {
     "data": {
      "text/html": [
       "<div>\n",
       "<style scoped>\n",
       "    .dataframe tbody tr th:only-of-type {\n",
       "        vertical-align: middle;\n",
       "    }\n",
       "\n",
       "    .dataframe tbody tr th {\n",
       "        vertical-align: top;\n",
       "    }\n",
       "\n",
       "    .dataframe thead th {\n",
       "        text-align: right;\n",
       "    }\n",
       "</style>\n",
       "<table border=\"1\" class=\"dataframe\">\n",
       "  <thead>\n",
       "    <tr style=\"text-align: right;\">\n",
       "      <th></th>\n",
       "      <th>Age recode with &lt;1 year olds</th>\n",
       "      <th>Year of birth</th>\n",
       "      <th>Sequence number</th>\n",
       "      <th>Year of diagnosis</th>\n",
       "      <th>Primary Site - labeled</th>\n",
       "      <th>Laterality</th>\n",
       "      <th>Reason no cancer-directed surgery</th>\n",
       "      <th>Histology recode - broad groupings</th>\n",
       "      <th>ER Status Recode Breast Cancer (1990+)</th>\n",
       "      <th>PR Status Recode Breast Cancer (1990+)</th>\n",
       "      <th>Survival months</th>\n",
       "      <th>Breast - Adjusted AJCC 6th T (1988-2015)</th>\n",
       "      <th>Breast - Adjusted AJCC 6th N (1988-2015)</th>\n",
       "      <th>Breast - Adjusted AJCC 6th M (1988-2015)</th>\n",
       "      <th>Breast - Adjusted AJCC 6th Stage (1988-2015),,,,,</th>\n",
       "      <th>Age</th>\n",
       "      <th>Laterality Recoded</th>\n",
       "      <th>Healing Status</th>\n",
       "    </tr>\n",
       "  </thead>\n",
       "  <tbody>\n",
       "    <tr>\n",
       "      <th>0</th>\n",
       "      <td>60-64 years</td>\n",
       "      <td>1910</td>\n",
       "      <td>One primary only</td>\n",
       "      <td>1975</td>\n",
       "      <td>C50.9-Breast, NOS</td>\n",
       "      <td>Left - origin of primary</td>\n",
       "      <td>Surgery performed</td>\n",
       "      <td>8500-8549: ductal and lobular neoplasms</td>\n",
       "      <td>Not 1990+ Breast</td>\n",
       "      <td>Not 1990+ Breast</td>\n",
       "      <td>162.0</td>\n",
       "      <td>Blank(s)</td>\n",
       "      <td>Blank(s)</td>\n",
       "      <td>Blank(s)</td>\n",
       "      <td>Blank(s),,,,</td>\n",
       "      <td>62</td>\n",
       "      <td>left</td>\n",
       "      <td>healed</td>\n",
       "    </tr>\n",
       "    <tr>\n",
       "      <th>1</th>\n",
       "      <td>35-39 years</td>\n",
       "      <td>1951</td>\n",
       "      <td>One primary only</td>\n",
       "      <td>1990</td>\n",
       "      <td>C50.4-Upper-outer quadrant of breast</td>\n",
       "      <td>Right - origin of primary</td>\n",
       "      <td>Surgery performed</td>\n",
       "      <td>8500-8549: ductal and lobular neoplasms</td>\n",
       "      <td>Positive</td>\n",
       "      <td>Positive</td>\n",
       "      <td>37.0</td>\n",
       "      <td>T1c</td>\n",
       "      <td>N0</td>\n",
       "      <td>M0</td>\n",
       "      <td>I,,,,,</td>\n",
       "      <td>37</td>\n",
       "      <td>right</td>\n",
       "      <td>not healed</td>\n",
       "    </tr>\n",
       "    <tr>\n",
       "      <th>2</th>\n",
       "      <td>55-59 years</td>\n",
       "      <td>1934</td>\n",
       "      <td>One primary only</td>\n",
       "      <td>1991</td>\n",
       "      <td>C50.4-Upper-outer quadrant of breast</td>\n",
       "      <td>Left - origin of primary</td>\n",
       "      <td>Surgery performed</td>\n",
       "      <td>8500-8549: ductal and lobular neoplasms</td>\n",
       "      <td>Positive</td>\n",
       "      <td>Positive</td>\n",
       "      <td>26.0</td>\n",
       "      <td>TX Adjusted</td>\n",
       "      <td>NX Adjusted</td>\n",
       "      <td>M0</td>\n",
       "      <td>UNK Stage,,,,,</td>\n",
       "      <td>57</td>\n",
       "      <td>left</td>\n",
       "      <td>not healed</td>\n",
       "    </tr>\n",
       "    <tr>\n",
       "      <th>3</th>\n",
       "      <td>60-64 years</td>\n",
       "      <td>1927</td>\n",
       "      <td>One primary only</td>\n",
       "      <td>1989</td>\n",
       "      <td>C50.2-Upper-inner quadrant of breast</td>\n",
       "      <td>Right - origin of primary</td>\n",
       "      <td>Surgery performed</td>\n",
       "      <td>8500-8549: ductal and lobular neoplasms</td>\n",
       "      <td>Not 1990+ Breast</td>\n",
       "      <td>Not 1990+ Breast</td>\n",
       "      <td>20.0</td>\n",
       "      <td>T2</td>\n",
       "      <td>N1</td>\n",
       "      <td>M0</td>\n",
       "      <td>IIB,,,,,</td>\n",
       "      <td>62</td>\n",
       "      <td>right</td>\n",
       "      <td>not healed</td>\n",
       "    </tr>\n",
       "    <tr>\n",
       "      <th>4</th>\n",
       "      <td>70-74 years</td>\n",
       "      <td>1907</td>\n",
       "      <td>One primary only</td>\n",
       "      <td>1982</td>\n",
       "      <td>C50.4-Upper-outer quadrant of breast</td>\n",
       "      <td>Left - origin of primary</td>\n",
       "      <td>Surgery performed</td>\n",
       "      <td>8500-8549: ductal and lobular neoplasms</td>\n",
       "      <td>Not 1990+ Breast</td>\n",
       "      <td>Not 1990+ Breast</td>\n",
       "      <td>116.0</td>\n",
       "      <td>Blank(s)</td>\n",
       "      <td>Blank(s)</td>\n",
       "      <td>Blank(s)</td>\n",
       "      <td>Blank(s),,,,,</td>\n",
       "      <td>72</td>\n",
       "      <td>left</td>\n",
       "      <td>healed</td>\n",
       "    </tr>\n",
       "  </tbody>\n",
       "</table>\n",
       "</div>"
      ],
      "text/plain": [
       "  Age recode with <1 year olds  Year of birth   Sequence number  \\\n",
       "0                  60-64 years           1910  One primary only   \n",
       "1                  35-39 years           1951  One primary only   \n",
       "2                  55-59 years           1934  One primary only   \n",
       "3                  60-64 years           1927  One primary only   \n",
       "4                  70-74 years           1907  One primary only   \n",
       "\n",
       "   Year of diagnosis                Primary Site - labeled  \\\n",
       "0               1975                     C50.9-Breast, NOS   \n",
       "1               1990  C50.4-Upper-outer quadrant of breast   \n",
       "2               1991  C50.4-Upper-outer quadrant of breast   \n",
       "3               1989  C50.2-Upper-inner quadrant of breast   \n",
       "4               1982  C50.4-Upper-outer quadrant of breast   \n",
       "\n",
       "                  Laterality Reason no cancer-directed surgery  \\\n",
       "0   Left - origin of primary                 Surgery performed   \n",
       "1  Right - origin of primary                 Surgery performed   \n",
       "2   Left - origin of primary                 Surgery performed   \n",
       "3  Right - origin of primary                 Surgery performed   \n",
       "4   Left - origin of primary                 Surgery performed   \n",
       "\n",
       "        Histology recode - broad groupings  \\\n",
       "0  8500-8549: ductal and lobular neoplasms   \n",
       "1  8500-8549: ductal and lobular neoplasms   \n",
       "2  8500-8549: ductal and lobular neoplasms   \n",
       "3  8500-8549: ductal and lobular neoplasms   \n",
       "4  8500-8549: ductal and lobular neoplasms   \n",
       "\n",
       "  ER Status Recode Breast Cancer (1990+)  \\\n",
       "0                       Not 1990+ Breast   \n",
       "1                               Positive   \n",
       "2                               Positive   \n",
       "3                       Not 1990+ Breast   \n",
       "4                       Not 1990+ Breast   \n",
       "\n",
       "  PR Status Recode Breast Cancer (1990+)  Survival months  \\\n",
       "0                       Not 1990+ Breast            162.0   \n",
       "1                               Positive             37.0   \n",
       "2                               Positive             26.0   \n",
       "3                       Not 1990+ Breast             20.0   \n",
       "4                       Not 1990+ Breast            116.0   \n",
       "\n",
       "  Breast - Adjusted AJCC 6th T (1988-2015)  \\\n",
       "0                                 Blank(s)   \n",
       "1                                      T1c   \n",
       "2                              TX Adjusted   \n",
       "3                                       T2   \n",
       "4                                 Blank(s)   \n",
       "\n",
       "  Breast - Adjusted AJCC 6th N (1988-2015)  \\\n",
       "0                                 Blank(s)   \n",
       "1                                       N0   \n",
       "2                              NX Adjusted   \n",
       "3                                       N1   \n",
       "4                                 Blank(s)   \n",
       "\n",
       "  Breast - Adjusted AJCC 6th M (1988-2015)  \\\n",
       "0                                 Blank(s)   \n",
       "1                                       M0   \n",
       "2                                       M0   \n",
       "3                                       M0   \n",
       "4                                 Blank(s)   \n",
       "\n",
       "  Breast - Adjusted AJCC 6th Stage (1988-2015),,,,,  Age Laterality Recoded  \\\n",
       "0                                      Blank(s),,,,   62               left   \n",
       "1                                            I,,,,,   37              right   \n",
       "2                                    UNK Stage,,,,,   57               left   \n",
       "3                                          IIB,,,,,   62              right   \n",
       "4                                     Blank(s),,,,,   72               left   \n",
       "\n",
       "  Healing Status  \n",
       "0         healed  \n",
       "1     not healed  \n",
       "2     not healed  \n",
       "3     not healed  \n",
       "4         healed  "
      ]
     },
     "execution_count": 19,
     "metadata": {},
     "output_type": "execute_result"
    }
   ],
   "source": [
    "df.head()"
   ]
  },
  {
   "cell_type": "code",
   "execution_count": 22,
   "metadata": {},
   "outputs": [
    {
     "name": "stdout",
     "output_type": "stream",
     "text": [
      "        Survival months Healing Status  event status\n",
      "0                 162.0         healed             0\n",
      "1                  37.0     not healed             1\n",
      "2                  26.0     not healed             1\n",
      "3                  20.0     not healed             1\n",
      "4                 116.0         healed             0\n",
      "...                 ...            ...           ...\n",
      "172542             77.0         healed             0\n",
      "172543            120.0         healed             0\n",
      "172545            151.0         healed             0\n",
      "172561             69.0         healed             0\n",
      "172566            178.0         healed             0\n",
      "\n",
      "[158765 rows x 3 columns]\n"
     ]
    }
   ],
   "source": [
    "# Example DataFrame (replace with your actual data)\n",
    "\n",
    "data=df.copy()\n",
    "# Map 'Healing Status' to event status\n",
    "data['event status'] = df['Healing Status'].apply(lambda x: 1 if x == 'not healed' else 0)\n",
    "\n",
    "# Verify the new column\n",
    "print(data[['Survival months', 'Healing Status', 'event status']])\n"
   ]
  },
  {
   "cell_type": "code",
   "execution_count": 24,
   "metadata": {},
   "outputs": [
    {
     "name": "stdout",
     "output_type": "stream",
     "text": [
      "Collecting lifelines\n",
      "  Downloading lifelines-0.30.0-py3-none-any.whl.metadata (3.2 kB)\n",
      "Requirement already satisfied: matplotlib in d:\\softwares\\anaconda\\lib\\site-packages (3.9.2)\n",
      "Requirement already satisfied: numpy>=1.14.0 in d:\\softwares\\anaconda\\lib\\site-packages (from lifelines) (1.26.4)\n",
      "Requirement already satisfied: scipy>=1.7.0 in d:\\softwares\\anaconda\\lib\\site-packages (from lifelines) (1.13.1)\n",
      "Requirement already satisfied: pandas>=2.1 in d:\\softwares\\anaconda\\lib\\site-packages (from lifelines) (2.2.2)\n",
      "Collecting autograd>=1.5 (from lifelines)\n",
      "  Downloading autograd-1.7.0-py3-none-any.whl.metadata (7.5 kB)\n",
      "Collecting autograd-gamma>=0.3 (from lifelines)\n",
      "  Downloading autograd-gamma-0.5.0.tar.gz (4.0 kB)\n",
      "  Preparing metadata (setup.py): started\n",
      "  Preparing metadata (setup.py): finished with status 'done'\n",
      "Collecting formulaic>=0.2.2 (from lifelines)\n",
      "  Downloading formulaic-1.0.2-py3-none-any.whl.metadata (6.8 kB)\n",
      "Requirement already satisfied: contourpy>=1.0.1 in d:\\softwares\\anaconda\\lib\\site-packages (from matplotlib) (1.2.0)\n",
      "Requirement already satisfied: cycler>=0.10 in d:\\softwares\\anaconda\\lib\\site-packages (from matplotlib) (0.11.0)\n",
      "Requirement already satisfied: fonttools>=4.22.0 in d:\\softwares\\anaconda\\lib\\site-packages (from matplotlib) (4.51.0)\n",
      "Requirement already satisfied: kiwisolver>=1.3.1 in d:\\softwares\\anaconda\\lib\\site-packages (from matplotlib) (1.4.4)\n",
      "Requirement already satisfied: packaging>=20.0 in d:\\softwares\\anaconda\\lib\\site-packages (from matplotlib) (24.1)\n",
      "Requirement already satisfied: pillow>=8 in d:\\softwares\\anaconda\\lib\\site-packages (from matplotlib) (10.4.0)\n",
      "Requirement already satisfied: pyparsing>=2.3.1 in d:\\softwares\\anaconda\\lib\\site-packages (from matplotlib) (3.1.2)\n",
      "Requirement already satisfied: python-dateutil>=2.7 in d:\\softwares\\anaconda\\lib\\site-packages (from matplotlib) (2.9.0.post0)\n",
      "Collecting interface-meta>=1.2.0 (from formulaic>=0.2.2->lifelines)\n",
      "  Downloading interface_meta-1.3.0-py3-none-any.whl.metadata (6.7 kB)\n",
      "Requirement already satisfied: typing-extensions>=4.2.0 in d:\\softwares\\anaconda\\lib\\site-packages (from formulaic>=0.2.2->lifelines) (4.11.0)\n",
      "Requirement already satisfied: wrapt>=1.0 in d:\\softwares\\anaconda\\lib\\site-packages (from formulaic>=0.2.2->lifelines) (1.14.1)\n",
      "Requirement already satisfied: pytz>=2020.1 in d:\\softwares\\anaconda\\lib\\site-packages (from pandas>=2.1->lifelines) (2024.1)\n",
      "Requirement already satisfied: tzdata>=2022.7 in d:\\softwares\\anaconda\\lib\\site-packages (from pandas>=2.1->lifelines) (2023.3)\n",
      "Requirement already satisfied: six>=1.5 in d:\\softwares\\anaconda\\lib\\site-packages (from python-dateutil>=2.7->matplotlib) (1.16.0)\n",
      "Downloading lifelines-0.30.0-py3-none-any.whl (349 kB)\n",
      "Downloading autograd-1.7.0-py3-none-any.whl (52 kB)\n",
      "Downloading formulaic-1.0.2-py3-none-any.whl (94 kB)\n",
      "Downloading interface_meta-1.3.0-py3-none-any.whl (14 kB)\n",
      "Building wheels for collected packages: autograd-gamma\n",
      "  Building wheel for autograd-gamma (setup.py): started\n",
      "  Building wheel for autograd-gamma (setup.py): finished with status 'done'\n",
      "  Created wheel for autograd-gamma: filename=autograd_gamma-0.5.0-py3-none-any.whl size=4048 sha256=f720d72a121975df25cde016ec4de258db28abd46d5a378cefb66a6037c12a57\n",
      "  Stored in directory: c:\\users\\sash\\appdata\\local\\pip\\cache\\wheels\\50\\37\\21\\0a719b9d89c635e89ff24bd93b862882ad675279552013b2fb\n",
      "Successfully built autograd-gamma\n",
      "Installing collected packages: interface-meta, autograd, autograd-gamma, formulaic, lifelines\n",
      "Successfully installed autograd-1.7.0 autograd-gamma-0.5.0 formulaic-1.0.2 interface-meta-1.3.0 lifelines-0.30.0\n",
      "Note: you may need to restart the kernel to use updated packages.\n"
     ]
    }
   ],
   "source": [
    "pip install lifelines matplotlib"
   ]
  },
  {
   "cell_type": "code",
   "execution_count": 25,
   "metadata": {},
   "outputs": [],
   "source": [
    "from lifelines import KaplanMeierFitter"
   ]
  },
  {
   "cell_type": "code",
   "execution_count": 43,
   "metadata": {},
   "outputs": [
    {
     "data": {
      "image/png": "[encoded data removed]",
      "text/plain": [
       "<Figure size 1000x600 with 1 Axes>"
      ]
     },
     "metadata": {},
     "output_type": "display_data"
    }
   ],
   "source": [
    "# Kaplan-Meier Fitting\n",
    "kmf = KaplanMeierFitter()\n",
    "\n",
    "# Fit the data\n",
    "time = data_cleaned['Survival months']  # Time to event\n",
    "event = data_cleaned['event status']    # Event occurred (1 = Event, 0 = Censored)\n",
    "\n",
    "kmf.fit(time, event_observed=event)\n",
    "\n",
    "# Plot the survival function\n",
    "plt.figure(figsize=(10, 6))\n",
    "kmf.plot_survival_function(ci_show=True)\n",
    "plt.title('Kaplan-Meier Survival Curve', fontsize=16)\n",
    "plt.xlabel('Time (Months)', fontsize=12)\n",
    "plt.ylabel('Survival Probability', fontsize=12)\n",
    "plt.grid(True)\n",
    "plt.show()"
   ]
  },
  {
   "cell_type": "code",
   "execution_count": 27,
   "metadata": {},
   "outputs": [
    {
     "name": "stdout",
     "output_type": "stream",
     "text": [
      "       Age recode with <1 year olds  Year of birth   Sequence number  \\\n",
      "186                     60-64 years           1916  One primary only   \n",
      "802                     50-54 years           1929  One primary only   \n",
      "6794                    80-84 years           1907  One primary only   \n",
      "7281                      85+ years           1897  One primary only   \n",
      "8800                    80-84 years           1906  One primary only   \n",
      "...                             ...            ...               ...   \n",
      "171177                  60-64 years           1946  One primary only   \n",
      "171180                  70-74 years           1936  One primary only   \n",
      "171263                  75-79 years           1935  One primary only   \n",
      "172420                  50-54 years           1950  One primary only   \n",
      "172528                  75-79 years           1933  One primary only   \n",
      "\n",
      "        Year of diagnosis                Primary Site - labeled  \\\n",
      "186                  1981  C50.2-Upper-inner quadrant of breast   \n",
      "802                  1980  C50.4-Upper-outer quadrant of breast   \n",
      "6794                 1988  C50.4-Upper-outer quadrant of breast   \n",
      "7281                 1988    C50.8-Overlapping lesion of breast   \n",
      "8800                 1988    C50.8-Overlapping lesion of breast   \n",
      "...                   ...                                   ...   \n",
      "171177               2011  C50.4-Upper-outer quadrant of breast   \n",
      "171180               2010       C50.1-Central portion of breast   \n",
      "171263               2011                     C50.9-Breast, NOS   \n",
      "172420               2001                     C50.9-Breast, NOS   \n",
      "172528               2010                     C50.9-Breast, NOS   \n",
      "\n",
      "                       Laterality  \\\n",
      "186      Left - origin of primary   \n",
      "802     Right - origin of primary   \n",
      "6794    Right - origin of primary   \n",
      "7281     Left - origin of primary   \n",
      "8800     Left - origin of primary   \n",
      "...                           ...   \n",
      "171177   Left - origin of primary   \n",
      "171180   Left - origin of primary   \n",
      "171263  Right - origin of primary   \n",
      "172420  Right - origin of primary   \n",
      "172528   Left - origin of primary   \n",
      "\n",
      "                        Reason no cancer-directed surgery  \\\n",
      "186                                               Unknown   \n",
      "802                                               Unknown   \n",
      "6794    Not recommended, contraindicated due to other ...   \n",
      "7281    Not recommended, contraindicated due to other ...   \n",
      "8800    Not recommended, contraindicated due to other ...   \n",
      "...                                                   ...   \n",
      "171177  Not recommended, contraindicated due to other ...   \n",
      "171180  Not recommended, contraindicated due to other ...   \n",
      "171263                                            Unknown   \n",
      "172420                                            Unknown   \n",
      "172528                                            Unknown   \n",
      "\n",
      "       Histology recode - broad groupings  \\\n",
      "186                                   NaN   \n",
      "802                                   NaN   \n",
      "6794                                  NaN   \n",
      "7281                                  NaN   \n",
      "8800                                  NaN   \n",
      "...                                   ...   \n",
      "171177                                NaN   \n",
      "171180                                NaN   \n",
      "171263                                NaN   \n",
      "172420                                NaN   \n",
      "172528                                NaN   \n",
      "\n",
      "       ER Status Recode Breast Cancer (1990+)  \\\n",
      "186                                       NaN   \n",
      "802                                       NaN   \n",
      "6794                                      NaN   \n",
      "7281                                      NaN   \n",
      "8800                                      NaN   \n",
      "...                                       ...   \n",
      "171177                                    NaN   \n",
      "171180                                    NaN   \n",
      "171263                                    NaN   \n",
      "172420                                    NaN   \n",
      "172528                                    NaN   \n",
      "\n",
      "       PR Status Recode Breast Cancer (1990+)  Survival months  \\\n",
      "186                                       NaN              NaN   \n",
      "802                                       NaN              NaN   \n",
      "6794                                      NaN              NaN   \n",
      "7281                                      NaN              NaN   \n",
      "8800                                      NaN              NaN   \n",
      "...                                       ...              ...   \n",
      "171177                                    NaN              NaN   \n",
      "171180                                    NaN              NaN   \n",
      "171263                                    NaN              NaN   \n",
      "172420                                    NaN              NaN   \n",
      "172528                                    NaN              NaN   \n",
      "\n",
      "       Breast - Adjusted AJCC 6th T (1988-2015)  \\\n",
      "186                                         NaN   \n",
      "802                                         NaN   \n",
      "6794                                        NaN   \n",
      "7281                                        NaN   \n",
      "8800                                        NaN   \n",
      "...                                         ...   \n",
      "171177                                      NaN   \n",
      "171180                                      NaN   \n",
      "171263                                      NaN   \n",
      "172420                                      NaN   \n",
      "172528                                      NaN   \n",
      "\n",
      "       Breast - Adjusted AJCC 6th N (1988-2015)  \\\n",
      "186                                         NaN   \n",
      "802                                         NaN   \n",
      "6794                                        NaN   \n",
      "7281                                        NaN   \n",
      "8800                                        NaN   \n",
      "...                                         ...   \n",
      "171177                                      NaN   \n",
      "171180                                      NaN   \n",
      "171263                                      NaN   \n",
      "172420                                      NaN   \n",
      "172528                                      NaN   \n",
      "\n",
      "       Breast - Adjusted AJCC 6th M (1988-2015)  \\\n",
      "186                                         NaN   \n",
      "802                                         NaN   \n",
      "6794                                        NaN   \n",
      "7281                                        NaN   \n",
      "8800                                        NaN   \n",
      "...                                         ...   \n",
      "171177                                      NaN   \n",
      "171180                                      NaN   \n",
      "171263                                      NaN   \n",
      "172420                                      NaN   \n",
      "172528                                      NaN   \n",
      "\n",
      "       Breast - Adjusted AJCC 6th Stage (1988-2015),,,,,  Age  \\\n",
      "186                                                ,,,,,   62   \n",
      "802                                                ,,,,,   52   \n",
      "6794                                                ,,,,   82   \n",
      "7281                                                ,,,,   90   \n",
      "8800                                                ,,,,   82   \n",
      "...                                                  ...  ...   \n",
      "171177                                              ,,,,   62   \n",
      "171180                                              ,,,,   72   \n",
      "171263                                              ,,,,   77   \n",
      "172420                                              ,,,,   52   \n",
      "172528                                              ,,,,   77   \n",
      "\n",
      "       Laterality Recoded Healing Status  event status  \n",
      "186                  left     not healed             1  \n",
      "802                 right     not healed             1  \n",
      "6794                right     not healed             1  \n",
      "7281                 left     not healed             1  \n",
      "8800                 left     not healed             1  \n",
      "...                   ...            ...           ...  \n",
      "171177               left     not healed             1  \n",
      "171180               left     not healed             1  \n",
      "171263              right     not healed             1  \n",
      "172420              right     not healed             1  \n",
      "172528               left     not healed             1  \n",
      "\n",
      "[2314 rows x 19 columns]\n"
     ]
    }
   ],
   "source": [
    "print(data[pd.isnull(data['Survival months']) | pd.isnull(data['event status'])])"
   ]
  },
  {
   "cell_type": "code",
   "execution_count": 28,
   "metadata": {},
   "outputs": [
    {
     "data": {
      "text/html": [
       "<div>\n",
       "<style scoped>\n",
       "    .dataframe tbody tr th:only-of-type {\n",
       "        vertical-align: middle;\n",
       "    }\n",
       "\n",
       "    .dataframe tbody tr th {\n",
       "        vertical-align: top;\n",
       "    }\n",
       "\n",
       "    .dataframe thead th {\n",
       "        text-align: right;\n",
       "    }\n",
       "</style>\n",
       "<table border=\"1\" class=\"dataframe\">\n",
       "  <thead>\n",
       "    <tr style=\"text-align: right;\">\n",
       "      <th></th>\n",
       "      <th>Age recode with &lt;1 year olds</th>\n",
       "      <th>Year of birth</th>\n",
       "      <th>Sequence number</th>\n",
       "      <th>Year of diagnosis</th>\n",
       "      <th>Primary Site - labeled</th>\n",
       "      <th>Laterality</th>\n",
       "      <th>Reason no cancer-directed surgery</th>\n",
       "      <th>Histology recode - broad groupings</th>\n",
       "      <th>ER Status Recode Breast Cancer (1990+)</th>\n",
       "      <th>PR Status Recode Breast Cancer (1990+)</th>\n",
       "      <th>Survival months</th>\n",
       "      <th>Breast - Adjusted AJCC 6th T (1988-2015)</th>\n",
       "      <th>Breast - Adjusted AJCC 6th N (1988-2015)</th>\n",
       "      <th>Breast - Adjusted AJCC 6th M (1988-2015)</th>\n",
       "      <th>Breast - Adjusted AJCC 6th Stage (1988-2015),,,,,</th>\n",
       "      <th>Age</th>\n",
       "      <th>Laterality Recoded</th>\n",
       "      <th>Healing Status</th>\n",
       "      <th>event status</th>\n",
       "    </tr>\n",
       "  </thead>\n",
       "  <tbody>\n",
       "    <tr>\n",
       "      <th>0</th>\n",
       "      <td>60-64 years</td>\n",
       "      <td>1910</td>\n",
       "      <td>One primary only</td>\n",
       "      <td>1975</td>\n",
       "      <td>C50.9-Breast, NOS</td>\n",
       "      <td>Left - origin of primary</td>\n",
       "      <td>Surgery performed</td>\n",
       "      <td>8500-8549: ductal and lobular neoplasms</td>\n",
       "      <td>Not 1990+ Breast</td>\n",
       "      <td>Not 1990+ Breast</td>\n",
       "      <td>162.0</td>\n",
       "      <td>Blank(s)</td>\n",
       "      <td>Blank(s)</td>\n",
       "      <td>Blank(s)</td>\n",
       "      <td>Blank(s),,,,</td>\n",
       "      <td>62</td>\n",
       "      <td>left</td>\n",
       "      <td>healed</td>\n",
       "      <td>0</td>\n",
       "    </tr>\n",
       "    <tr>\n",
       "      <th>1</th>\n",
       "      <td>35-39 years</td>\n",
       "      <td>1951</td>\n",
       "      <td>One primary only</td>\n",
       "      <td>1990</td>\n",
       "      <td>C50.4-Upper-outer quadrant of breast</td>\n",
       "      <td>Right - origin of primary</td>\n",
       "      <td>Surgery performed</td>\n",
       "      <td>8500-8549: ductal and lobular neoplasms</td>\n",
       "      <td>Positive</td>\n",
       "      <td>Positive</td>\n",
       "      <td>37.0</td>\n",
       "      <td>T1c</td>\n",
       "      <td>N0</td>\n",
       "      <td>M0</td>\n",
       "      <td>I,,,,,</td>\n",
       "      <td>37</td>\n",
       "      <td>right</td>\n",
       "      <td>not healed</td>\n",
       "      <td>1</td>\n",
       "    </tr>\n",
       "    <tr>\n",
       "      <th>2</th>\n",
       "      <td>55-59 years</td>\n",
       "      <td>1934</td>\n",
       "      <td>One primary only</td>\n",
       "      <td>1991</td>\n",
       "      <td>C50.4-Upper-outer quadrant of breast</td>\n",
       "      <td>Left - origin of primary</td>\n",
       "      <td>Surgery performed</td>\n",
       "      <td>8500-8549: ductal and lobular neoplasms</td>\n",
       "      <td>Positive</td>\n",
       "      <td>Positive</td>\n",
       "      <td>26.0</td>\n",
       "      <td>TX Adjusted</td>\n",
       "      <td>NX Adjusted</td>\n",
       "      <td>M0</td>\n",
       "      <td>UNK Stage,,,,,</td>\n",
       "      <td>57</td>\n",
       "      <td>left</td>\n",
       "      <td>not healed</td>\n",
       "      <td>1</td>\n",
       "    </tr>\n",
       "    <tr>\n",
       "      <th>3</th>\n",
       "      <td>60-64 years</td>\n",
       "      <td>1927</td>\n",
       "      <td>One primary only</td>\n",
       "      <td>1989</td>\n",
       "      <td>C50.2-Upper-inner quadrant of breast</td>\n",
       "      <td>Right - origin of primary</td>\n",
       "      <td>Surgery performed</td>\n",
       "      <td>8500-8549: ductal and lobular neoplasms</td>\n",
       "      <td>Not 1990+ Breast</td>\n",
       "      <td>Not 1990+ Breast</td>\n",
       "      <td>20.0</td>\n",
       "      <td>T2</td>\n",
       "      <td>N1</td>\n",
       "      <td>M0</td>\n",
       "      <td>IIB,,,,,</td>\n",
       "      <td>62</td>\n",
       "      <td>right</td>\n",
       "      <td>not healed</td>\n",
       "      <td>1</td>\n",
       "    </tr>\n",
       "    <tr>\n",
       "      <th>4</th>\n",
       "      <td>70-74 years</td>\n",
       "      <td>1907</td>\n",
       "      <td>One primary only</td>\n",
       "      <td>1982</td>\n",
       "      <td>C50.4-Upper-outer quadrant of breast</td>\n",
       "      <td>Left - origin of primary</td>\n",
       "      <td>Surgery performed</td>\n",
       "      <td>8500-8549: ductal and lobular neoplasms</td>\n",
       "      <td>Not 1990+ Breast</td>\n",
       "      <td>Not 1990+ Breast</td>\n",
       "      <td>116.0</td>\n",
       "      <td>Blank(s)</td>\n",
       "      <td>Blank(s)</td>\n",
       "      <td>Blank(s)</td>\n",
       "      <td>Blank(s),,,,,</td>\n",
       "      <td>72</td>\n",
       "      <td>left</td>\n",
       "      <td>healed</td>\n",
       "      <td>0</td>\n",
       "    </tr>\n",
       "  </tbody>\n",
       "</table>\n",
       "</div>"
      ],
      "text/plain": [
       "  Age recode with <1 year olds  Year of birth   Sequence number  \\\n",
       "0                  60-64 years           1910  One primary only   \n",
       "1                  35-39 years           1951  One primary only   \n",
       "2                  55-59 years           1934  One primary only   \n",
       "3                  60-64 years           1927  One primary only   \n",
       "4                  70-74 years           1907  One primary only   \n",
       "\n",
       "   Year of diagnosis                Primary Site - labeled  \\\n",
       "0               1975                     C50.9-Breast, NOS   \n",
       "1               1990  C50.4-Upper-outer quadrant of breast   \n",
       "2               1991  C50.4-Upper-outer quadrant of breast   \n",
       "3               1989  C50.2-Upper-inner quadrant of breast   \n",
       "4               1982  C50.4-Upper-outer quadrant of breast   \n",
       "\n",
       "                  Laterality Reason no cancer-directed surgery  \\\n",
       "0   Left - origin of primary                 Surgery performed   \n",
       "1  Right - origin of primary                 Surgery performed   \n",
       "2   Left - origin of primary                 Surgery performed   \n",
       "3  Right - origin of primary                 Surgery performed   \n",
       "4   Left - origin of primary                 Surgery performed   \n",
       "\n",
       "        Histology recode - broad groupings  \\\n",
       "0  8500-8549: ductal and lobular neoplasms   \n",
       "1  8500-8549: ductal and lobular neoplasms   \n",
       "2  8500-8549: ductal and lobular neoplasms   \n",
       "3  8500-8549: ductal and lobular neoplasms   \n",
       "4  8500-8549: ductal and lobular neoplasms   \n",
       "\n",
       "  ER Status Recode Breast Cancer (1990+)  \\\n",
       "0                       Not 1990+ Breast   \n",
       "1                               Positive   \n",
       "2                               Positive   \n",
       "3                       Not 1990+ Breast   \n",
       "4                       Not 1990+ Breast   \n",
       "\n",
       "  PR Status Recode Breast Cancer (1990+)  Survival months  \\\n",
       "0                       Not 1990+ Breast            162.0   \n",
       "1                               Positive             37.0   \n",
       "2                               Positive             26.0   \n",
       "3                       Not 1990+ Breast             20.0   \n",
       "4                       Not 1990+ Breast            116.0   \n",
       "\n",
       "  Breast - Adjusted AJCC 6th T (1988-2015)  \\\n",
       "0                                 Blank(s)   \n",
       "1                                      T1c   \n",
       "2                              TX Adjusted   \n",
       "3                                       T2   \n",
       "4                                 Blank(s)   \n",
       "\n",
       "  Breast - Adjusted AJCC 6th N (1988-2015)  \\\n",
       "0                                 Blank(s)   \n",
       "1                                       N0   \n",
       "2                              NX Adjusted   \n",
       "3                                       N1   \n",
       "4                                 Blank(s)   \n",
       "\n",
       "  Breast - Adjusted AJCC 6th M (1988-2015)  \\\n",
       "0                                 Blank(s)   \n",
       "1                                       M0   \n",
       "2                                       M0   \n",
       "3                                       M0   \n",
       "4                                 Blank(s)   \n",
       "\n",
       "  Breast - Adjusted AJCC 6th Stage (1988-2015),,,,,  Age Laterality Recoded  \\\n",
       "0                                      Blank(s),,,,   62               left   \n",
       "1                                            I,,,,,   37              right   \n",
       "2                                    UNK Stage,,,,,   57               left   \n",
       "3                                          IIB,,,,,   62              right   \n",
       "4                                     Blank(s),,,,,   72               left   \n",
       "\n",
       "  Healing Status  event status  \n",
       "0         healed             0  \n",
       "1     not healed             1  \n",
       "2     not healed             1  \n",
       "3     not healed             1  \n",
       "4         healed             0  "
      ]
     },
     "execution_count": 28,
     "metadata": {},
     "output_type": "execute_result"
    }
   ],
   "source": [
    "data.head()"
   ]
  },
  {
   "cell_type": "code",
   "execution_count": 33,
   "metadata": {},
   "outputs": [
    {
     "name": "stdout",
     "output_type": "stream",
     "text": [
      "Number of null values in 'Survival months': 2314\n"
     ]
    }
   ],
   "source": [
    "# Count the number of null values in 'Survival months'\n",
    "num_nulls = data['Survival months'].isnull().sum()\n",
    "\n",
    "print(f\"Number of null values in 'Survival months': {num_nulls}\")"
   ]
  },
  {
   "cell_type": "code",
   "execution_count": 34,
   "metadata": {},
   "outputs": [
    {
     "data": {
      "text/html": [
       "<div>\n",
       "<style scoped>\n",
       "    .dataframe tbody tr th:only-of-type {\n",
       "        vertical-align: middle;\n",
       "    }\n",
       "\n",
       "    .dataframe tbody tr th {\n",
       "        vertical-align: top;\n",
       "    }\n",
       "\n",
       "    .dataframe thead th {\n",
       "        text-align: right;\n",
       "    }\n",
       "</style>\n",
       "<table border=\"1\" class=\"dataframe\">\n",
       "  <thead>\n",
       "    <tr style=\"text-align: right;\">\n",
       "      <th></th>\n",
       "      <th>Year of birth</th>\n",
       "      <th>Year of diagnosis</th>\n",
       "      <th>Survival months</th>\n",
       "      <th>Age</th>\n",
       "      <th>event status</th>\n",
       "    </tr>\n",
       "  </thead>\n",
       "  <tbody>\n",
       "    <tr>\n",
       "      <th>count</th>\n",
       "      <td>158765.000000</td>\n",
       "      <td>158765.000000</td>\n",
       "      <td>156451.000000</td>\n",
       "      <td>158765.000000</td>\n",
       "      <td>158765.000000</td>\n",
       "    </tr>\n",
       "    <tr>\n",
       "      <th>mean</th>\n",
       "      <td>1936.598967</td>\n",
       "      <td>1997.105962</td>\n",
       "      <td>64.301609</td>\n",
       "      <td>60.055069</td>\n",
       "      <td>0.616515</td>\n",
       "    </tr>\n",
       "    <tr>\n",
       "      <th>std</th>\n",
       "      <td>17.260809</td>\n",
       "      <td>10.042873</td>\n",
       "      <td>61.920120</td>\n",
       "      <td>15.060672</td>\n",
       "      <td>0.486236</td>\n",
       "    </tr>\n",
       "    <tr>\n",
       "      <th>min</th>\n",
       "      <td>1874.000000</td>\n",
       "      <td>1975.000000</td>\n",
       "      <td>0.000000</td>\n",
       "      <td>17.000000</td>\n",
       "      <td>0.000000</td>\n",
       "    </tr>\n",
       "    <tr>\n",
       "      <th>25%</th>\n",
       "      <td>1924.000000</td>\n",
       "      <td>1990.000000</td>\n",
       "      <td>21.000000</td>\n",
       "      <td>47.000000</td>\n",
       "      <td>0.000000</td>\n",
       "    </tr>\n",
       "    <tr>\n",
       "      <th>50%</th>\n",
       "      <td>1937.000000</td>\n",
       "      <td>2000.000000</td>\n",
       "      <td>46.000000</td>\n",
       "      <td>57.000000</td>\n",
       "      <td>1.000000</td>\n",
       "    </tr>\n",
       "    <tr>\n",
       "      <th>75%</th>\n",
       "      <td>1950.000000</td>\n",
       "      <td>2005.000000</td>\n",
       "      <td>88.000000</td>\n",
       "      <td>72.000000</td>\n",
       "      <td>1.000000</td>\n",
       "    </tr>\n",
       "    <tr>\n",
       "      <th>max</th>\n",
       "      <td>1991.000000</td>\n",
       "      <td>2011.000000</td>\n",
       "      <td>492.000000</td>\n",
       "      <td>90.000000</td>\n",
       "      <td>1.000000</td>\n",
       "    </tr>\n",
       "  </tbody>\n",
       "</table>\n",
       "</div>"
      ],
      "text/plain": [
       "       Year of birth  Year of diagnosis  Survival months            Age  \\\n",
       "count  158765.000000      158765.000000    156451.000000  158765.000000   \n",
       "mean     1936.598967        1997.105962        64.301609      60.055069   \n",
       "std        17.260809          10.042873        61.920120      15.060672   \n",
       "min      1874.000000        1975.000000         0.000000      17.000000   \n",
       "25%      1924.000000        1990.000000        21.000000      47.000000   \n",
       "50%      1937.000000        2000.000000        46.000000      57.000000   \n",
       "75%      1950.000000        2005.000000        88.000000      72.000000   \n",
       "max      1991.000000        2011.000000       492.000000      90.000000   \n",
       "\n",
       "        event status  \n",
       "count  158765.000000  \n",
       "mean        0.616515  \n",
       "std         0.486236  \n",
       "min         0.000000  \n",
       "25%         0.000000  \n",
       "50%         1.000000  \n",
       "75%         1.000000  \n",
       "max         1.000000  "
      ]
     },
     "execution_count": 34,
     "metadata": {},
     "output_type": "execute_result"
    }
   ],
   "source": [
    "data.describe()"
   ]
  },
  {
   "cell_type": "code",
   "execution_count": 35,
   "metadata": {},
   "outputs": [
    {
     "name": "stdout",
     "output_type": "stream",
     "text": [
      "Number of null values in each column:\n",
      "Age recode with <1 year olds                            0\n",
      "Year of birth                                           0\n",
      "Sequence number                                         0\n",
      "Year of diagnosis                                       0\n",
      "Primary Site - labeled                                  0\n",
      "Laterality                                              0\n",
      "Reason no cancer-directed surgery                       0\n",
      "Histology recode - broad groupings                   2314\n",
      "ER Status Recode Breast Cancer (1990+)               2314\n",
      "PR Status Recode Breast Cancer (1990+)               2314\n",
      "Survival months                                      2314\n",
      "Breast - Adjusted AJCC 6th T (1988-2015)             2320\n",
      "Breast - Adjusted AJCC 6th N (1988-2015)             2320\n",
      "Breast - Adjusted AJCC 6th M (1988-2015)             2320\n",
      "Breast - Adjusted AJCC 6th Stage (1988-2015),,,,,       0\n",
      "Age                                                     0\n",
      "Laterality Recoded                                   2470\n",
      "Healing Status                                          0\n",
      "event status                                            0\n",
      "dtype: int64\n"
     ]
    }
   ],
   "source": [
    "# Count null values in each column\n",
    "null_counts = data.isnull().sum()\n",
    "\n",
    "print(\"Number of null values in each column:\")\n",
    "print(null_counts)"
   ]
  },
  {
   "cell_type": "code",
   "execution_count": 39,
   "metadata": {},
   "outputs": [
    {
     "name": "stdout",
     "output_type": "stream",
     "text": [
      "Data after dropping columns with null values:\n",
      "       Age recode with <1 year olds  Year of birth   Sequence number  \\\n",
      "0                       60-64 years           1910  One primary only   \n",
      "1                       35-39 years           1951  One primary only   \n",
      "2                       55-59 years           1934  One primary only   \n",
      "3                       60-64 years           1927  One primary only   \n",
      "4                       70-74 years           1907  One primary only   \n",
      "...                             ...            ...               ...   \n",
      "172538                  65-69 years           1943  One primary only   \n",
      "172540                  80-84 years           1917  One primary only   \n",
      "172543                  50-54 years           1951  One primary only   \n",
      "172545                  60-64 years           1940  One primary only   \n",
      "172566                  80-84 years           1918  One primary only   \n",
      "\n",
      "        Year of diagnosis                Primary Site - labeled  \\\n",
      "0                    1975                     C50.9-Breast, NOS   \n",
      "1                    1990  C50.4-Upper-outer quadrant of breast   \n",
      "2                    1991  C50.4-Upper-outer quadrant of breast   \n",
      "3                    1989  C50.2-Upper-inner quadrant of breast   \n",
      "4                    1982  C50.4-Upper-outer quadrant of breast   \n",
      "...                   ...                                   ...   \n",
      "172538               2009                     C50.9-Breast, NOS   \n",
      "172540               2000                     C50.9-Breast, NOS   \n",
      "172543               2005                     C50.9-Breast, NOS   \n",
      "172545               2004                     C50.9-Breast, NOS   \n",
      "172566               2001  C50.4-Upper-outer quadrant of breast   \n",
      "\n",
      "                       Laterality Reason no cancer-directed surgery  \\\n",
      "0        Left - origin of primary                 Surgery performed   \n",
      "1       Right - origin of primary                 Surgery performed   \n",
      "2        Left - origin of primary                 Surgery performed   \n",
      "3       Right - origin of primary                 Surgery performed   \n",
      "4        Left - origin of primary                 Surgery performed   \n",
      "...                           ...                               ...   \n",
      "172538   Left - origin of primary                 Surgery performed   \n",
      "172540   Left - origin of primary                 Surgery performed   \n",
      "172543  Right - origin of primary                 Surgery performed   \n",
      "172545  Right - origin of primary                 Surgery performed   \n",
      "172566   Left - origin of primary                 Surgery performed   \n",
      "\n",
      "             Histology recode - broad groupings  \\\n",
      "0       8500-8549: ductal and lobular neoplasms   \n",
      "1       8500-8549: ductal and lobular neoplasms   \n",
      "2       8500-8549: ductal and lobular neoplasms   \n",
      "3       8500-8549: ductal and lobular neoplasms   \n",
      "4       8500-8549: ductal and lobular neoplasms   \n",
      "...                                         ...   \n",
      "172538  8140-8389: adenomas and adenocarcinomas   \n",
      "172540       8050-8089: squamous cell neoplasms   \n",
      "172543     8010-8049: epithelial neoplasms, NOS   \n",
      "172545  8500-8549: ductal and lobular neoplasms   \n",
      "172566  8500-8549: ductal and lobular neoplasms   \n",
      "\n",
      "       ER Status Recode Breast Cancer (1990+)  \\\n",
      "0                            Not 1990+ Breast   \n",
      "1                                    Positive   \n",
      "2                                    Positive   \n",
      "3                            Not 1990+ Breast   \n",
      "4                            Not 1990+ Breast   \n",
      "...                                       ...   \n",
      "172538                               Positive   \n",
      "172540                               Positive   \n",
      "172543                               Positive   \n",
      "172545                                Unknown   \n",
      "172566                               Negative   \n",
      "\n",
      "       PR Status Recode Breast Cancer (1990+)  Survival months  \\\n",
      "0                            Not 1990+ Breast            162.0   \n",
      "1                                    Positive             37.0   \n",
      "2                                    Positive             26.0   \n",
      "3                            Not 1990+ Breast             20.0   \n",
      "4                            Not 1990+ Breast            116.0   \n",
      "...                                       ...              ...   \n",
      "172538                               Positive             83.0   \n",
      "172540                               Positive             48.0   \n",
      "172543                               Positive            120.0   \n",
      "172545                                Unknown            151.0   \n",
      "172566                               Negative            178.0   \n",
      "\n",
      "       Breast - Adjusted AJCC 6th T (1988-2015)  \\\n",
      "0                                      Blank(s)   \n",
      "1                                           T1c   \n",
      "2                                   TX Adjusted   \n",
      "3                                            T2   \n",
      "4                                      Blank(s)   \n",
      "...                                         ...   \n",
      "172538                                       T2   \n",
      "172540                              Any T, Mets   \n",
      "172543                                      T1c   \n",
      "172545                              TX Adjusted   \n",
      "172566                                      T1c   \n",
      "\n",
      "       Breast - Adjusted AJCC 6th N (1988-2015)  \\\n",
      "0                                      Blank(s)   \n",
      "1                                            N0   \n",
      "2                                   NX Adjusted   \n",
      "3                                            N1   \n",
      "4                                      Blank(s)   \n",
      "...                                         ...   \n",
      "172538                                       N2   \n",
      "172540                                       N2   \n",
      "172543                                       N0   \n",
      "172545                              NX Adjusted   \n",
      "172566                                       N0   \n",
      "\n",
      "       Breast - Adjusted AJCC 6th M (1988-2015)  \\\n",
      "0                                      Blank(s)   \n",
      "1                                            M0   \n",
      "2                                            M0   \n",
      "3                                            M0   \n",
      "4                                      Blank(s)   \n",
      "...                                         ...   \n",
      "172538                                       M0   \n",
      "172540                                       M1   \n",
      "172543                                       M0   \n",
      "172545                                       MX   \n",
      "172566                                       M0   \n",
      "\n",
      "       Breast - Adjusted AJCC 6th Stage (1988-2015),,,,,  Age  \\\n",
      "0                                           Blank(s),,,,   62   \n",
      "1                                                 I,,,,,   37   \n",
      "2                                         UNK Stage,,,,,   57   \n",
      "3                                               IIB,,,,,   62   \n",
      "4                                          Blank(s),,,,,   72   \n",
      "...                                                  ...  ...   \n",
      "172538                                          IIIA,,,,   67   \n",
      "172540                                             IV,,,   82   \n",
      "172543                                              I,,,   52   \n",
      "172545                                     UNK Stage,,,,   62   \n",
      "172566                                            I,,,,,   82   \n",
      "\n",
      "       Laterality Recoded Healing Status  event status  \n",
      "0                    left         healed             0  \n",
      "1                   right     not healed             1  \n",
      "2                    left     not healed             1  \n",
      "3                   right     not healed             1  \n",
      "4                    left         healed             0  \n",
      "...                   ...            ...           ...  \n",
      "172538               left         healed             0  \n",
      "172540               left     not healed             1  \n",
      "172543              right         healed             0  \n",
      "172545              right         healed             0  \n",
      "172566               left         healed             0  \n",
      "\n",
      "[154163 rows x 19 columns]\n",
      "Original dataset columns: Index(['Age recode with <1 year olds', 'Year of birth', 'Sequence number',\n",
      "       'Year of diagnosis', 'Primary Site - labeled', 'Laterality',\n",
      "       'Reason no cancer-directed surgery',\n",
      "       'Histology recode - broad groupings',\n",
      "       'ER Status Recode Breast Cancer (1990+)',\n",
      "       'PR Status Recode Breast Cancer (1990+)', 'Survival months',\n",
      "       'Breast - Adjusted AJCC 6th T (1988-2015)',\n",
      "       'Breast - Adjusted AJCC 6th N (1988-2015)',\n",
      "       'Breast - Adjusted AJCC 6th M (1988-2015)',\n",
      "       'Breast - Adjusted AJCC 6th Stage (1988-2015),,,,,', 'Age',\n",
      "       'Laterality Recoded', 'Healing Status', 'event status'],\n",
      "      dtype='object')\n",
      "Cleaned dataset columns: Index(['Age recode with <1 year olds', 'Year of birth', 'Sequence number',\n",
      "       'Year of diagnosis', 'Primary Site - labeled', 'Laterality',\n",
      "       'Reason no cancer-directed surgery',\n",
      "       'Histology recode - broad groupings',\n",
      "       'ER Status Recode Breast Cancer (1990+)',\n",
      "       'PR Status Recode Breast Cancer (1990+)', 'Survival months',\n",
      "       'Breast - Adjusted AJCC 6th T (1988-2015)',\n",
      "       'Breast - Adjusted AJCC 6th N (1988-2015)',\n",
      "       'Breast - Adjusted AJCC 6th M (1988-2015)',\n",
      "       'Breast - Adjusted AJCC 6th Stage (1988-2015),,,,,', 'Age',\n",
      "       'Laterality Recoded', 'Healing Status', 'event status'],\n",
      "      dtype='object')\n"
     ]
    }
   ],
   "source": [
    "# Drop columns where any value is null\n",
    "data_cleaned = data.dropna()\n",
    "\n",
    "print(\"Data after dropping columns with null values:\")\n",
    "print(data_cleaned)\n",
    "\n",
    "# Verify the remaining columns\n",
    "print(f\"Original dataset columns: {data.columns}\")\n",
    "print(f\"Cleaned dataset columns: {data_cleaned.columns}\")"
   ]
  },
  {
   "cell_type": "code",
   "execution_count": 40,
   "metadata": {},
   "outputs": [
    {
     "name": "stdout",
     "output_type": "stream",
     "text": [
      "Number of null values in each column:\n",
      "Age recode with <1 year olds                         0\n",
      "Year of birth                                        0\n",
      "Sequence number                                      0\n",
      "Year of diagnosis                                    0\n",
      "Primary Site - labeled                               0\n",
      "Laterality                                           0\n",
      "Reason no cancer-directed surgery                    0\n",
      "Histology recode - broad groupings                   0\n",
      "ER Status Recode Breast Cancer (1990+)               0\n",
      "PR Status Recode Breast Cancer (1990+)               0\n",
      "Survival months                                      0\n",
      "Breast - Adjusted AJCC 6th T (1988-2015)             0\n",
      "Breast - Adjusted AJCC 6th N (1988-2015)             0\n",
      "Breast - Adjusted AJCC 6th M (1988-2015)             0\n",
      "Breast - Adjusted AJCC 6th Stage (1988-2015),,,,,    0\n",
      "Age                                                  0\n",
      "Laterality Recoded                                   0\n",
      "Healing Status                                       0\n",
      "event status                                         0\n",
      "dtype: int64\n"
     ]
    }
   ],
   "source": [
    "# Count null values in each column\n",
    "null_counts = data_cleaned.isnull().sum()\n",
    "\n",
    "print(\"Number of null values in each column:\")\n",
    "print(null_counts)"
   ]
  },
  {
   "cell_type": "code",
   "execution_count": 46,
   "metadata": {},
   "outputs": [
    {
     "data": {
      "image/png": "[encoded data removed]",
      "text/plain": [
       "<Figure size 1000x600 with 1 Axes>"
      ]
     },
     "metadata": {},
     "output_type": "display_data"
    }
   ],
   "source": [
    "# Stratify by a categorical feature (e.g., Age at Diagnosis)\n",
    "groups = data_cleaned['Age'].unique()  # Unique categories\n",
    "\n",
    "plt.figure(figsize=(10, 6))\n",
    "\n",
    "# Loop through each group and fit the Kaplan-Meier curve\n",
    "for group in groups:\n",
    "    group_data = data_cleaned[data_cleaned['Age'] == group]\n",
    "    time = group_data['Survival months']\n",
    "    event = group_data['event status']\n",
    "    \n",
    "    # Fit the model for the group\n",
    "    kmf.fit(time, event_observed=event, label=f'Age: {group}')\n",
    "    kmf.plot_survival_function()\n",
    "\n",
    "# Add plot details\n",
    "plt.title('Kaplan-Meier Survival Curve by Age at Diagnosis', fontsize=16)\n",
    "plt.xlabel('Time (Months)', fontsize=12)\n",
    "plt.ylabel('Survival Probability', fontsize=12)\n",
    "plt.legend()\n",
    "plt.grid(True)\n",
    "plt.show()"
   ]
  },
  {
   "cell_type": "code",
   "execution_count": 49,
   "metadata": {},
   "outputs": [
    {
     "data": {
      "text/plain": [
       "array(['C50.9-Breast, NOS', 'C50.4-Upper-outer quadrant of breast',\n",
       "       'C50.2-Upper-inner quadrant of breast',\n",
       "       'C50.8-Overlapping lesion of breast',\n",
       "       'C50.5-Lower-outer quadrant of breast',\n",
       "       'C50.6-Axillary tail of breast', 'C50.1-Central portion of breast',\n",
       "       'C50.3-Lower-inner quadrant of breast', 'C50.0-Nipple'],\n",
       "      dtype=object)"
      ]
     },
     "execution_count": 49,
     "metadata": {},
     "output_type": "execute_result"
    }
   ],
   "source": [
    "groups2 = data_cleaned['Primary Site - labeled'].unique()\n",
    "groups2"
   ]
  },
  {
   "cell_type": "code",
   "execution_count": 51,
   "metadata": {},
   "outputs": [
    {
     "data": {
      "image/png": "[encoded data removed]",
      "text/plain": [
       "<Figure size 640x480 with 1 Axes>"
      ]
     },
     "metadata": {},
     "output_type": "display_data"
    }
   ],
   "source": [
    "# Loop through each group and fit the Kaplan-Meier curve\n",
    "for group2 in groups2:\n",
    "    group_data2 = data_cleaned[data_cleaned['Primary Site - labeled'] == group2]\n",
    "    time = group_data2['Survival months']\n",
    "    event = group_data2['event status']\n",
    "    \n",
    "    # Fit the model for the group\n",
    "    kmf.fit(time, event_observed=event, label=f'Site: {group2}')\n",
    "    kmf.plot_survival_function()\n",
    "\n",
    "# Add plot details\n",
    "plt.title('Kaplan-Meier Survival Curve by Primary Site', fontsize=16)\n",
    "plt.xlabel('Time (Months)', fontsize=12)\n",
    "plt.ylabel('Survival Probability', fontsize=12)\n",
    "plt.legend()\n",
    "plt.grid(True)\n",
    "plt.show()"
   ]
  },
  {
   "cell_type": "code",
   "execution_count": 54,
   "metadata": {},
   "outputs": [
    {
     "data": {
      "text/plain": [
       "array(['Not 1990+ Breast', 'Positive', 'Negative', 'Unknown',\n",
       "       'Borderline'], dtype=object)"
      ]
     },
     "execution_count": 54,
     "metadata": {},
     "output_type": "execute_result"
    }
   ],
   "source": [
    "groups3 = data_cleaned['ER Status Recode Breast Cancer (1990+)'].unique()\n",
    "groups3"
   ]
  },
  {
   "cell_type": "code",
   "execution_count": 55,
   "metadata": {},
   "outputs": [
    {
     "data": {
      "image/png": "[encoded data removed]",
      "text/plain": [
       "<Figure size 640x480 with 1 Axes>"
      ]
     },
     "metadata": {},
     "output_type": "display_data"
    }
   ],
   "source": [
    "# Loop through each group and fit the Kaplan-Meier curve\n",
    "for group3 in groups3:\n",
    "    group_data3 = data_cleaned[data_cleaned['ER Status Recode Breast Cancer (1990+)'] == group3]\n",
    "    time = group_data3['Survival months']\n",
    "    event = group_data3['event status']\n",
    "    \n",
    "    # Fit the model for the group\n",
    "    kmf.fit(time, event_observed=event, label=f'Site: {group3}')\n",
    "    kmf.plot_survival_function()\n",
    "\n",
    "# Add plot details\n",
    "plt.title('Kaplan-Meier Survival Curve by ER Status', fontsize=16)\n",
    "plt.xlabel('Time (Months)', fontsize=12)\n",
    "plt.ylabel('Survival Probability', fontsize=12)\n",
    "plt.legend()\n",
    "plt.grid(True)\n",
    "plt.show()"
   ]
  },
  {
   "cell_type": "code",
   "execution_count": 56,
   "metadata": {},
   "outputs": [
    {
     "data": {
      "text/plain": [
       "array(['Not 1990+ Breast', 'Positive', 'Negative', 'Unknown',\n",
       "       'Borderline'], dtype=object)"
      ]
     },
     "execution_count": 56,
     "metadata": {},
     "output_type": "execute_result"
    }
   ],
   "source": [
    "groups4 = data_cleaned['PR Status Recode Breast Cancer (1990+)'].unique()\n",
    "groups4"
   ]
  },
  {
   "cell_type": "code",
   "execution_count": 65,
   "metadata": {},
   "outputs": [
    {
     "data": {
      "text/plain": [
       "0         Not 1990+ Breast\n",
       "1                 Positive\n",
       "2                 Positive\n",
       "3         Not 1990+ Breast\n",
       "4         Not 1990+ Breast\n",
       "                ...       \n",
       "172538            Positive\n",
       "172540            Positive\n",
       "172543            Positive\n",
       "172545             Unknown\n",
       "172566            Negative\n",
       "Name: PR Status Recode Breast Cancer (1990+), Length: 154163, dtype: object"
      ]
     },
     "execution_count": 65,
     "metadata": {},
     "output_type": "execute_result"
    }
   ],
   "source": [
    "data_cleaned['PR Status Recode Breast Cancer (1990+)']"
   ]
  },
  {
   "cell_type": "code",
   "execution_count": 67,
   "metadata": {},
   "outputs": [
    {
     "data": {
      "image/png": "[encoded data removed]",
      "text/plain": [
       "<Figure size 640x480 with 1 Axes>"
      ]
     },
     "metadata": {},
     "output_type": "display_data"
    }
   ],
   "source": [
    "# Loop through each group and fit the Kaplan-Meier curve\n",
    "for group4 in groups4:\n",
    "    group_data4 = data_cleaned[data_cleaned['ER Status Recode Breast Cancer (1990+)'] == group4]\n",
    "    time = group_data4['Survival months']\n",
    "    event = group_data4['event status']\n",
    "    \n",
    "    # Fit the model for the group\n",
    "    kmf.fit(time, event_observed=event, label=f'Site: {group4}')\n",
    "    kmf.plot_survival_function()\n",
    "\n",
    "# Add plot details\n",
    "plt.title('Kaplan-Meier Survival Curve by PR Status', fontsize=16)\n",
    "plt.xlabel('Time (Months)', fontsize=12)\n",
    "plt.ylabel('Survival Probability', fontsize=12)\n",
    "plt.legend()\n",
    "plt.grid(True)\n",
    "plt.show()"
   ]
  },
  {
   "cell_type": "code",
   "execution_count": null,
   "metadata": {},
   "outputs": [],
   "source": []
  }
 ],
 "metadata": {
  "kaggle": {
   "accelerator": "none",
   "dataSources": [
    {
     "datasetId": 4182851,
     "sourceId": 7225616,
     "sourceType": "datasetVersion"
    }
   ],
   "dockerImageVersionId": 30626,
   "isGpuEnabled": false,
   "isInternetEnabled": false,
   "language": "python",
   "sourceType": "notebook"
  },
  "kernelspec": {
   "display_name": "Python 3 (ipykernel)",
   "language": "python",
   "name": "python3"
  },
  "language_info": {
   "codemirror_mode": {
    "name": "ipython",
    "version": 3
   },
   "file_extension": ".py",
   "mimetype": "text/x-python",
   "name": "python",
   "nbconvert_exporter": "python",
   "pygments_lexer": "ipython3",
   "version": "3.12.7"
  }
 },
 "nbformat": 4,
 "nbformat_minor": 4
}
