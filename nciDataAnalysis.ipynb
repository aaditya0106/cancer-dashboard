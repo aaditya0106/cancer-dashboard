{
 "cells": [
  {
   "cell_type": "markdown",
   "id": "742a2774-5860-4102-b33d-f2f7191b2f91",
   "metadata": {},
   "source": [
    "# NCI GDC Data Analysis"
   ]
  },
  {
   "cell_type": "markdown",
   "id": "76c0a1c4-b779-415d-9f7a-8af1c6e34abf",
   "metadata": {},
   "source": [
    "Datasets were pulled from https://portal.gdc.cancer.gov/analysis_page?app=CohortBuilder&tab=general_diagnosis \n",
    "They were filtered for Breast Cancer before pulled. Need to check with Arjita on the exact process of that"
   ]
  },
  {
   "cell_type": "markdown",
   "id": "811022e3-e799-49e6-905c-d49db468dd00",
   "metadata": {},
   "source": [
    "## Load Packages"
   ]
  },
  {
   "cell_type": "code",
   "execution_count": 1,
   "id": "ff741c11-700c-42ef-bcf6-3ac328f1296b",
   "metadata": {},
   "outputs": [
    {
     "name": "stderr",
     "output_type": "stream",
     "text": [
      "/Users/arjita/opt/anaconda3/envs/myenv/lib/python3.10/site-packages/pandas/core/arrays/masked.py:60: UserWarning: Pandas requires version '1.3.6' or newer of 'bottleneck' (version '1.3.5' currently installed).\n",
      "  from pandas.core import (\n"
     ]
    }
   ],
   "source": [
    "import pandas as pd\n",
    "import plotly.express as px\n",
    "import numpy as np\n",
    "import requests\n",
    "from io import StringIO\n",
    "import seaborn as sns\n",
    "import matplotlib.pyplot as plt\n",
    "\n",
    "pd.set_option('future.no_silent_downcasting', True)"
   ]
  },
  {
   "cell_type": "markdown",
   "id": "92ee3401-eea2-418d-867d-ca0c6074dfeb",
   "metadata": {},
   "source": [
    "## Import Data from Github"
   ]
  },
  {
   "cell_type": "markdown",
   "id": "d6a3303b-61b6-4bef-b6a4-c4beaf73c514",
   "metadata": {},
   "source": [
    "Pull in gene dataset. "
   ]
  },
  {
   "cell_type": "code",
   "execution_count": 2,
   "id": "3300318c-c4a1-4b00-a756-e8fb4556b80d",
   "metadata": {},
   "outputs": [
    {
     "name": "stdout",
     "output_type": "stream",
     "text": [
      "Data loaded successfully!\n"
     ]
    }
   ],
   "source": [
    "response = requests.get('https://raw.githubusercontent.com/aaditya0106/cancer-dashboard/main/Data/HierCluster.2024-11-19.tsv')\n",
    "if response.status_code == 200:\n",
    "    gene = pd.read_csv(StringIO(response.text), sep='\\t')\n",
    "    print(\"Data loaded successfully!\")\n",
    "else:\n",
    "    print(f\"Failed to fetch data: {response.status_code}\")"
   ]
  },
  {
   "cell_type": "markdown",
   "id": "6b3f3352-22db-41a4-aaf3-c3deab75544f",
   "metadata": {},
   "source": [
    "Pull in clinical dataset."
   ]
  },
  {
   "cell_type": "code",
   "execution_count": 3,
   "id": "6e3e8504-57d2-4d74-9044-8ca720d6b5b8",
   "metadata": {},
   "outputs": [
    {
     "name": "stdout",
     "output_type": "stream",
     "text": [
      "Data loaded successfully!\n"
     ]
    }
   ],
   "source": [
    "response = requests.get('https://raw.githubusercontent.com/aaditya0106/cancer-dashboard/main/Data/clinical.tsv')\n",
    "if response.status_code == 200:\n",
    "    clinical = pd.read_csv(StringIO(response.text), sep='\\t')\n",
    "    print(\"Data loaded successfully!\")\n",
    "else:\n",
    "    print(f\"Failed to fetch data: {response.status_code}\")"
   ]
  },
  {
   "cell_type": "markdown",
   "id": "8e9a229f-a002-4919-9ac3-77a2b0f061d7",
   "metadata": {},
   "source": [
    "## Basic gene data exploration"
   ]
  },
  {
   "cell_type": "code",
   "execution_count": 4,
   "id": "b64f6589-e3cc-46ff-a2e9-c7a829d4946e",
   "metadata": {},
   "outputs": [
    {
     "data": {
      "text/html": [
       "<div>\n",
       "<style scoped>\n",
       "    .dataframe tbody tr th:only-of-type {\n",
       "        vertical-align: middle;\n",
       "    }\n",
       "\n",
       "    .dataframe tbody tr th {\n",
       "        vertical-align: top;\n",
       "    }\n",
       "\n",
       "    .dataframe thead th {\n",
       "        text-align: right;\n",
       "    }\n",
       "</style>\n",
       "<table border=\"1\" class=\"dataframe\">\n",
       "  <thead>\n",
       "    <tr style=\"text-align: right;\">\n",
       "      <th></th>\n",
       "      <th>Case</th>\n",
       "      <th>ANO1</th>\n",
       "      <th>CTTN</th>\n",
       "      <th>GAB2</th>\n",
       "      <th>TSKU</th>\n",
       "      <th>PEG10</th>\n",
       "      <th>TSPAN12</th>\n",
       "      <th>VSIG2</th>\n",
       "      <th>INHBB</th>\n",
       "      <th>CLU</th>\n",
       "      <th>...</th>\n",
       "      <th>DSG2</th>\n",
       "      <th>PGGHG</th>\n",
       "      <th>MYH14</th>\n",
       "      <th>PTPRU</th>\n",
       "      <th>CEP170B</th>\n",
       "      <th>TRPM4</th>\n",
       "      <th>AGRN</th>\n",
       "      <th>LAMA5</th>\n",
       "      <th>SLC17A9</th>\n",
       "      <th>SMIM24</th>\n",
       "    </tr>\n",
       "  </thead>\n",
       "  <tbody>\n",
       "    <tr>\n",
       "      <th>0</th>\n",
       "      <td>TCGA-AC-A2QJ</td>\n",
       "      <td>-0.850784</td>\n",
       "      <td>-0.067790</td>\n",
       "      <td>-0.373197</td>\n",
       "      <td>0.353471</td>\n",
       "      <td>-0.424534</td>\n",
       "      <td>-0.627105</td>\n",
       "      <td>-0.225790</td>\n",
       "      <td>-0.428333</td>\n",
       "      <td>-0.396251</td>\n",
       "      <td>...</td>\n",
       "      <td>-1.360506</td>\n",
       "      <td>-0.405373</td>\n",
       "      <td>-1.069204</td>\n",
       "      <td>-0.642400</td>\n",
       "      <td>-0.293741</td>\n",
       "      <td>-0.317442</td>\n",
       "      <td>1.454789</td>\n",
       "      <td>-0.886521</td>\n",
       "      <td>2.645691</td>\n",
       "      <td>0.438836</td>\n",
       "    </tr>\n",
       "    <tr>\n",
       "      <th>1</th>\n",
       "      <td>TCGA-FA-A7DS</td>\n",
       "      <td>-0.903327</td>\n",
       "      <td>-0.984412</td>\n",
       "      <td>-0.434487</td>\n",
       "      <td>-0.533308</td>\n",
       "      <td>-0.510474</td>\n",
       "      <td>-0.649774</td>\n",
       "      <td>-0.417569</td>\n",
       "      <td>-0.591520</td>\n",
       "      <td>-0.415010</td>\n",
       "      <td>...</td>\n",
       "      <td>-1.479773</td>\n",
       "      <td>-0.243668</td>\n",
       "      <td>-1.159843</td>\n",
       "      <td>-1.038820</td>\n",
       "      <td>-1.792239</td>\n",
       "      <td>2.025728</td>\n",
       "      <td>-1.518411</td>\n",
       "      <td>-0.801080</td>\n",
       "      <td>4.244228</td>\n",
       "      <td>-0.274578</td>\n",
       "    </tr>\n",
       "    <tr>\n",
       "      <th>2</th>\n",
       "      <td>TCGA-A2-A4S1</td>\n",
       "      <td>-0.749352</td>\n",
       "      <td>-0.266099</td>\n",
       "      <td>-0.379331</td>\n",
       "      <td>0.198941</td>\n",
       "      <td>-0.155934</td>\n",
       "      <td>-0.530950</td>\n",
       "      <td>-0.325875</td>\n",
       "      <td>-0.373839</td>\n",
       "      <td>-0.306217</td>\n",
       "      <td>...</td>\n",
       "      <td>-1.429917</td>\n",
       "      <td>0.136463</td>\n",
       "      <td>-1.169063</td>\n",
       "      <td>-0.786902</td>\n",
       "      <td>-0.390244</td>\n",
       "      <td>-0.130008</td>\n",
       "      <td>0.732697</td>\n",
       "      <td>-0.683839</td>\n",
       "      <td>0.121208</td>\n",
       "      <td>-0.107634</td>\n",
       "    </tr>\n",
       "    <tr>\n",
       "      <th>3</th>\n",
       "      <td>TCGA-AR-A5QQ</td>\n",
       "      <td>0.292535</td>\n",
       "      <td>-0.049525</td>\n",
       "      <td>-0.475821</td>\n",
       "      <td>0.243683</td>\n",
       "      <td>-0.502936</td>\n",
       "      <td>-0.565909</td>\n",
       "      <td>-0.318526</td>\n",
       "      <td>-0.471878</td>\n",
       "      <td>-0.377541</td>\n",
       "      <td>...</td>\n",
       "      <td>-0.485598</td>\n",
       "      <td>-0.440984</td>\n",
       "      <td>-0.992049</td>\n",
       "      <td>-0.228702</td>\n",
       "      <td>-0.046550</td>\n",
       "      <td>-1.026940</td>\n",
       "      <td>1.468554</td>\n",
       "      <td>-0.556163</td>\n",
       "      <td>-0.100514</td>\n",
       "      <td>-0.221282</td>\n",
       "    </tr>\n",
       "    <tr>\n",
       "      <th>4</th>\n",
       "      <td>TCGA-E9-A5FL</td>\n",
       "      <td>-0.787100</td>\n",
       "      <td>0.226868</td>\n",
       "      <td>-0.429163</td>\n",
       "      <td>0.435614</td>\n",
       "      <td>-0.384482</td>\n",
       "      <td>-0.507950</td>\n",
       "      <td>0.562074</td>\n",
       "      <td>-0.480450</td>\n",
       "      <td>-0.251577</td>\n",
       "      <td>...</td>\n",
       "      <td>-0.915629</td>\n",
       "      <td>1.068320</td>\n",
       "      <td>-0.543074</td>\n",
       "      <td>-0.115328</td>\n",
       "      <td>0.107458</td>\n",
       "      <td>-0.455221</td>\n",
       "      <td>0.150628</td>\n",
       "      <td>0.788012</td>\n",
       "      <td>-0.333208</td>\n",
       "      <td>1.210650</td>\n",
       "    </tr>\n",
       "  </tbody>\n",
       "</table>\n",
       "<p>5 rows × 1001 columns</p>\n",
       "</div>"
      ],
      "text/plain": [
       "           Case      ANO1      CTTN      GAB2      TSKU     PEG10   TSPAN12  \\\n",
       "0  TCGA-AC-A2QJ -0.850784 -0.067790 -0.373197  0.353471 -0.424534 -0.627105   \n",
       "1  TCGA-FA-A7DS -0.903327 -0.984412 -0.434487 -0.533308 -0.510474 -0.649774   \n",
       "2  TCGA-A2-A4S1 -0.749352 -0.266099 -0.379331  0.198941 -0.155934 -0.530950   \n",
       "3  TCGA-AR-A5QQ  0.292535 -0.049525 -0.475821  0.243683 -0.502936 -0.565909   \n",
       "4  TCGA-E9-A5FL -0.787100  0.226868 -0.429163  0.435614 -0.384482 -0.507950   \n",
       "\n",
       "      VSIG2     INHBB       CLU  ...      DSG2     PGGHG     MYH14     PTPRU  \\\n",
       "0 -0.225790 -0.428333 -0.396251  ... -1.360506 -0.405373 -1.069204 -0.642400   \n",
       "1 -0.417569 -0.591520 -0.415010  ... -1.479773 -0.243668 -1.159843 -1.038820   \n",
       "2 -0.325875 -0.373839 -0.306217  ... -1.429917  0.136463 -1.169063 -0.786902   \n",
       "3 -0.318526 -0.471878 -0.377541  ... -0.485598 -0.440984 -0.992049 -0.228702   \n",
       "4  0.562074 -0.480450 -0.251577  ... -0.915629  1.068320 -0.543074 -0.115328   \n",
       "\n",
       "    CEP170B     TRPM4      AGRN     LAMA5   SLC17A9    SMIM24  \n",
       "0 -0.293741 -0.317442  1.454789 -0.886521  2.645691  0.438836  \n",
       "1 -1.792239  2.025728 -1.518411 -0.801080  4.244228 -0.274578  \n",
       "2 -0.390244 -0.130008  0.732697 -0.683839  0.121208 -0.107634  \n",
       "3 -0.046550 -1.026940  1.468554 -0.556163 -0.100514 -0.221282  \n",
       "4  0.107458 -0.455221  0.150628  0.788012 -0.333208  1.210650  \n",
       "\n",
       "[5 rows x 1001 columns]"
      ]
     },
     "execution_count": 4,
     "metadata": {},
     "output_type": "execute_result"
    }
   ],
   "source": [
    "gene.head()"
   ]
  },
  {
   "cell_type": "code",
   "execution_count": 5,
   "id": "bab12373-5843-4f4d-9817-3b165743c0c3",
   "metadata": {},
   "outputs": [
    {
     "data": {
      "text/plain": [
       "(1000, 1001)"
      ]
     },
     "execution_count": 5,
     "metadata": {},
     "output_type": "execute_result"
    }
   ],
   "source": [
    "gene.shape"
   ]
  },
  {
   "cell_type": "code",
   "execution_count": 6,
   "id": "6ffd19ba-c57f-4eed-9de4-1db49fa338c7",
   "metadata": {},
   "outputs": [
    {
     "data": {
      "text/plain": [
       "Case        object\n",
       "ANO1       float64\n",
       "CTTN       float64\n",
       "GAB2       float64\n",
       "TSKU       float64\n",
       "            ...   \n",
       "TRPM4      float64\n",
       "AGRN       float64\n",
       "LAMA5      float64\n",
       "SLC17A9    float64\n",
       "SMIM24     float64\n",
       "Length: 1001, dtype: object"
      ]
     },
     "execution_count": 6,
     "metadata": {},
     "output_type": "execute_result"
    }
   ],
   "source": [
    "gene.dtypes"
   ]
  },
  {
   "cell_type": "markdown",
   "id": "b9f559b0-426a-410b-add6-fe613d984899",
   "metadata": {},
   "source": [
    "Determine if any values are Null. There are no null values and there are no duplicate samples. "
   ]
  },
  {
   "cell_type": "code",
   "execution_count": 7,
   "id": "5dadf803-37b2-4a7d-9049-a66b0953d145",
   "metadata": {},
   "outputs": [
    {
     "data": {
      "text/plain": [
       "False    1001\n",
       "Name: count, dtype: int64"
      ]
     },
     "execution_count": 7,
     "metadata": {},
     "output_type": "execute_result"
    }
   ],
   "source": [
    "gene.isnull().any().value_counts()"
   ]
  },
  {
   "cell_type": "code",
   "execution_count": 8,
   "id": "ed3d3a0a-280e-4b0e-8ac0-d597fbabf688",
   "metadata": {},
   "outputs": [
    {
     "data": {
      "text/plain": [
       "0"
      ]
     },
     "execution_count": 8,
     "metadata": {},
     "output_type": "execute_result"
    }
   ],
   "source": [
    "gene['Case'].duplicated().sum()"
   ]
  },
  {
   "cell_type": "markdown",
   "id": "27c82bdc-7c89-4d00-9a3b-d8fa1362f2d7",
   "metadata": {},
   "source": [
    "## Basic clinical data exploration"
   ]
  },
  {
   "cell_type": "code",
   "execution_count": 9,
   "id": "a420f3df-8724-4c0a-b8a1-3b99397b9985",
   "metadata": {},
   "outputs": [
    {
     "data": {
      "text/html": [
       "<div>\n",
       "<style scoped>\n",
       "    .dataframe tbody tr th:only-of-type {\n",
       "        vertical-align: middle;\n",
       "    }\n",
       "\n",
       "    .dataframe tbody tr th {\n",
       "        vertical-align: top;\n",
       "    }\n",
       "\n",
       "    .dataframe thead th {\n",
       "        text-align: right;\n",
       "    }\n",
       "</style>\n",
       "<table border=\"1\" class=\"dataframe\">\n",
       "  <thead>\n",
       "    <tr style=\"text-align: right;\">\n",
       "      <th></th>\n",
       "      <th>case_id</th>\n",
       "      <th>case_submitter_id</th>\n",
       "      <th>project_id</th>\n",
       "      <th>age_at_index</th>\n",
       "      <th>age_is_obfuscated</th>\n",
       "      <th>cause_of_death</th>\n",
       "      <th>cause_of_death_source</th>\n",
       "      <th>country_of_birth</th>\n",
       "      <th>country_of_residence_at_enrollment</th>\n",
       "      <th>days_to_birth</th>\n",
       "      <th>...</th>\n",
       "      <th>treatment_dose_units</th>\n",
       "      <th>treatment_duration</th>\n",
       "      <th>treatment_effect</th>\n",
       "      <th>treatment_effect_indicator</th>\n",
       "      <th>treatment_frequency</th>\n",
       "      <th>treatment_intent_type</th>\n",
       "      <th>treatment_or_therapy</th>\n",
       "      <th>treatment_outcome</th>\n",
       "      <th>treatment_outcome_duration</th>\n",
       "      <th>treatment_type</th>\n",
       "    </tr>\n",
       "  </thead>\n",
       "  <tbody>\n",
       "    <tr>\n",
       "      <th>0</th>\n",
       "      <td>00016c8f-a0be-4319-9c42-4f3bcd90ac92</td>\n",
       "      <td>AD1602</td>\n",
       "      <td>FM-AD</td>\n",
       "      <td>'--</td>\n",
       "      <td>'--</td>\n",
       "      <td>'--</td>\n",
       "      <td>'--</td>\n",
       "      <td>'--</td>\n",
       "      <td>'--</td>\n",
       "      <td>'--</td>\n",
       "      <td>...</td>\n",
       "      <td>'--</td>\n",
       "      <td>'--</td>\n",
       "      <td>'--</td>\n",
       "      <td>'--</td>\n",
       "      <td>'--</td>\n",
       "      <td>'--</td>\n",
       "      <td>'--</td>\n",
       "      <td>'--</td>\n",
       "      <td>'--</td>\n",
       "      <td>'--</td>\n",
       "    </tr>\n",
       "    <tr>\n",
       "      <th>1</th>\n",
       "      <td>001cef41-ff86-4d3f-a140-a647ac4b10a1</td>\n",
       "      <td>TCGA-E2-A1IU</td>\n",
       "      <td>TCGA-BRCA</td>\n",
       "      <td>60</td>\n",
       "      <td>'--</td>\n",
       "      <td>'--</td>\n",
       "      <td>'--</td>\n",
       "      <td>'--</td>\n",
       "      <td>'--</td>\n",
       "      <td>-22279</td>\n",
       "      <td>...</td>\n",
       "      <td>'--</td>\n",
       "      <td>'--</td>\n",
       "      <td>'--</td>\n",
       "      <td>'--</td>\n",
       "      <td>'--</td>\n",
       "      <td>'--</td>\n",
       "      <td>no</td>\n",
       "      <td>'--</td>\n",
       "      <td>'--</td>\n",
       "      <td>Radiation Therapy, NOS</td>\n",
       "    </tr>\n",
       "    <tr>\n",
       "      <th>2</th>\n",
       "      <td>001cef41-ff86-4d3f-a140-a647ac4b10a1</td>\n",
       "      <td>TCGA-E2-A1IU</td>\n",
       "      <td>TCGA-BRCA</td>\n",
       "      <td>60</td>\n",
       "      <td>'--</td>\n",
       "      <td>'--</td>\n",
       "      <td>'--</td>\n",
       "      <td>'--</td>\n",
       "      <td>'--</td>\n",
       "      <td>-22279</td>\n",
       "      <td>...</td>\n",
       "      <td>'--</td>\n",
       "      <td>'--</td>\n",
       "      <td>'--</td>\n",
       "      <td>'--</td>\n",
       "      <td>'--</td>\n",
       "      <td>'--</td>\n",
       "      <td>yes</td>\n",
       "      <td>'--</td>\n",
       "      <td>'--</td>\n",
       "      <td>Pharmaceutical Therapy, NOS</td>\n",
       "    </tr>\n",
       "    <tr>\n",
       "      <th>3</th>\n",
       "      <td>002cdb51-32c0-40be-b92f-60961f091bdf</td>\n",
       "      <td>AD16494</td>\n",
       "      <td>FM-AD</td>\n",
       "      <td>'--</td>\n",
       "      <td>'--</td>\n",
       "      <td>'--</td>\n",
       "      <td>'--</td>\n",
       "      <td>'--</td>\n",
       "      <td>'--</td>\n",
       "      <td>'--</td>\n",
       "      <td>...</td>\n",
       "      <td>'--</td>\n",
       "      <td>'--</td>\n",
       "      <td>'--</td>\n",
       "      <td>'--</td>\n",
       "      <td>'--</td>\n",
       "      <td>'--</td>\n",
       "      <td>'--</td>\n",
       "      <td>'--</td>\n",
       "      <td>'--</td>\n",
       "      <td>'--</td>\n",
       "    </tr>\n",
       "    <tr>\n",
       "      <th>4</th>\n",
       "      <td>0045349c-69d9-4306-a403-c9c1fa836644</td>\n",
       "      <td>TCGA-A1-A0SB</td>\n",
       "      <td>TCGA-BRCA</td>\n",
       "      <td>70</td>\n",
       "      <td>'--</td>\n",
       "      <td>'--</td>\n",
       "      <td>'--</td>\n",
       "      <td>'--</td>\n",
       "      <td>'--</td>\n",
       "      <td>-25833</td>\n",
       "      <td>...</td>\n",
       "      <td>'--</td>\n",
       "      <td>'--</td>\n",
       "      <td>'--</td>\n",
       "      <td>'--</td>\n",
       "      <td>'--</td>\n",
       "      <td>'--</td>\n",
       "      <td>not reported</td>\n",
       "      <td>'--</td>\n",
       "      <td>'--</td>\n",
       "      <td>Radiation Therapy, NOS</td>\n",
       "    </tr>\n",
       "  </tbody>\n",
       "</table>\n",
       "<p>5 rows × 219 columns</p>\n",
       "</div>"
      ],
      "text/plain": [
       "                                case_id case_submitter_id project_id  \\\n",
       "0  00016c8f-a0be-4319-9c42-4f3bcd90ac92            AD1602      FM-AD   \n",
       "1  001cef41-ff86-4d3f-a140-a647ac4b10a1      TCGA-E2-A1IU  TCGA-BRCA   \n",
       "2  001cef41-ff86-4d3f-a140-a647ac4b10a1      TCGA-E2-A1IU  TCGA-BRCA   \n",
       "3  002cdb51-32c0-40be-b92f-60961f091bdf           AD16494      FM-AD   \n",
       "4  0045349c-69d9-4306-a403-c9c1fa836644      TCGA-A1-A0SB  TCGA-BRCA   \n",
       "\n",
       "  age_at_index age_is_obfuscated cause_of_death cause_of_death_source  \\\n",
       "0          '--               '--            '--                   '--   \n",
       "1           60               '--            '--                   '--   \n",
       "2           60               '--            '--                   '--   \n",
       "3          '--               '--            '--                   '--   \n",
       "4           70               '--            '--                   '--   \n",
       "\n",
       "  country_of_birth country_of_residence_at_enrollment days_to_birth  ...  \\\n",
       "0              '--                                '--           '--  ...   \n",
       "1              '--                                '--        -22279  ...   \n",
       "2              '--                                '--        -22279  ...   \n",
       "3              '--                                '--           '--  ...   \n",
       "4              '--                                '--        -25833  ...   \n",
       "\n",
       "  treatment_dose_units treatment_duration treatment_effect  \\\n",
       "0                  '--                '--              '--   \n",
       "1                  '--                '--              '--   \n",
       "2                  '--                '--              '--   \n",
       "3                  '--                '--              '--   \n",
       "4                  '--                '--              '--   \n",
       "\n",
       "  treatment_effect_indicator treatment_frequency treatment_intent_type  \\\n",
       "0                        '--                 '--                   '--   \n",
       "1                        '--                 '--                   '--   \n",
       "2                        '--                 '--                   '--   \n",
       "3                        '--                 '--                   '--   \n",
       "4                        '--                 '--                   '--   \n",
       "\n",
       "  treatment_or_therapy treatment_outcome treatment_outcome_duration  \\\n",
       "0                  '--               '--                        '--   \n",
       "1                   no               '--                        '--   \n",
       "2                  yes               '--                        '--   \n",
       "3                  '--               '--                        '--   \n",
       "4         not reported               '--                        '--   \n",
       "\n",
       "                treatment_type  \n",
       "0                          '--  \n",
       "1       Radiation Therapy, NOS  \n",
       "2  Pharmaceutical Therapy, NOS  \n",
       "3                          '--  \n",
       "4       Radiation Therapy, NOS  \n",
       "\n",
       "[5 rows x 219 columns]"
      ]
     },
     "execution_count": 9,
     "metadata": {},
     "output_type": "execute_result"
    }
   ],
   "source": [
    "clinical.head()"
   ]
  },
  {
   "cell_type": "code",
   "execution_count": 10,
   "id": "250c8557-59f2-4916-bfc9-bebc7c6739eb",
   "metadata": {},
   "outputs": [
    {
     "data": {
      "text/plain": [
       "Index(['case_id', 'case_submitter_id', 'project_id', 'age_at_index',\n",
       "       'age_is_obfuscated', 'cause_of_death', 'cause_of_death_source',\n",
       "       'country_of_birth', 'country_of_residence_at_enrollment',\n",
       "       'days_to_birth',\n",
       "       ...\n",
       "       'treatment_dose_units', 'treatment_duration', 'treatment_effect',\n",
       "       'treatment_effect_indicator', 'treatment_frequency',\n",
       "       'treatment_intent_type', 'treatment_or_therapy', 'treatment_outcome',\n",
       "       'treatment_outcome_duration', 'treatment_type'],\n",
       "      dtype='object', length=219)"
      ]
     },
     "execution_count": 10,
     "metadata": {},
     "output_type": "execute_result"
    }
   ],
   "source": [
    "clinical.columns"
   ]
  },
  {
   "cell_type": "code",
   "execution_count": 11,
   "id": "384f3028-6231-4b82-9c4a-23193073663e",
   "metadata": {},
   "outputs": [
    {
     "data": {
      "text/plain": [
       "(5268, 219)"
      ]
     },
     "execution_count": 11,
     "metadata": {},
     "output_type": "execute_result"
    }
   ],
   "source": [
    "clinical.shape"
   ]
  },
  {
   "cell_type": "markdown",
   "id": "b8070ab4-4563-4c1f-a18e-2f7eac71b866",
   "metadata": {},
   "source": [
    "Make sure tissue of origin is breast related. These are the types of tissues currently included. "
   ]
  },
  {
   "cell_type": "code",
   "execution_count": 12,
   "id": "2ae14074-83bc-409e-baba-4d608927e006",
   "metadata": {},
   "outputs": [
    {
     "name": "stdout",
     "output_type": "stream",
     "text": [
      "tissue_or_organ_of_origin\n",
      "Breast, NOS                       5175\n",
      "Not Reported                        72\n",
      "Lower-inner quadrant of breast       6\n",
      "Upper-inner quadrant of breast       4\n",
      "Upper-outer quadrant of breast       4\n",
      "Overlapping lesion of breast         4\n",
      "Lower-outer quadrant of breast       2\n",
      "'--                                  1\n",
      "Name: count, dtype: int64\n"
     ]
    }
   ],
   "source": [
    "# Generate the summary table of what tissue_or_organ_of_origin is\n",
    "summary_table = clinical['tissue_or_organ_of_origin'].value_counts()\n",
    "\n",
    "# Display the summary table\n",
    "print(summary_table)"
   ]
  },
  {
   "cell_type": "markdown",
   "id": "30303c58-fae4-4e0a-8e6f-ea8362155970",
   "metadata": {},
   "source": [
    "Remove rows where tissue or organ of origin are Not Reported or '--"
   ]
  },
  {
   "cell_type": "code",
   "execution_count": 13,
   "id": "bc8acb12-cf90-479a-a882-75b2ed477c9e",
   "metadata": {},
   "outputs": [
    {
     "name": "stdout",
     "output_type": "stream",
     "text": [
      "tissue_or_organ_of_origin\n",
      "Breast, NOS                       5175\n",
      "Lower-inner quadrant of breast       6\n",
      "Upper-inner quadrant of breast       4\n",
      "Upper-outer quadrant of breast       4\n",
      "Overlapping lesion of breast         4\n",
      "Lower-outer quadrant of breast       2\n",
      "Name: count, dtype: int64\n"
     ]
    }
   ],
   "source": [
    "clinicalBreast = clinical[~clinical['tissue_or_organ_of_origin'].isin(['Not Reported', \"'--\"])]\n",
    "\n",
    "# Check the result\n",
    "print(clinicalBreast['tissue_or_organ_of_origin'].value_counts())\n"
   ]
  },
  {
   "cell_type": "code",
   "execution_count": 14,
   "id": "180a9f42-3490-4859-a8f9-86fe5ae7b62f",
   "metadata": {},
   "outputs": [
    {
     "data": {
      "text/html": [
       "<div>\n",
       "<style scoped>\n",
       "    .dataframe tbody tr th:only-of-type {\n",
       "        vertical-align: middle;\n",
       "    }\n",
       "\n",
       "    .dataframe tbody tr th {\n",
       "        vertical-align: top;\n",
       "    }\n",
       "\n",
       "    .dataframe thead th {\n",
       "        text-align: right;\n",
       "    }\n",
       "</style>\n",
       "<table border=\"1\" class=\"dataframe\">\n",
       "  <thead>\n",
       "    <tr style=\"text-align: right;\">\n",
       "      <th></th>\n",
       "      <th>case_id</th>\n",
       "      <th>case_submitter_id</th>\n",
       "      <th>project_id</th>\n",
       "      <th>age_at_index</th>\n",
       "      <th>age_is_obfuscated</th>\n",
       "      <th>cause_of_death</th>\n",
       "      <th>cause_of_death_source</th>\n",
       "      <th>country_of_birth</th>\n",
       "      <th>country_of_residence_at_enrollment</th>\n",
       "      <th>days_to_birth</th>\n",
       "      <th>...</th>\n",
       "      <th>treatment_dose_units</th>\n",
       "      <th>treatment_duration</th>\n",
       "      <th>treatment_effect</th>\n",
       "      <th>treatment_effect_indicator</th>\n",
       "      <th>treatment_frequency</th>\n",
       "      <th>treatment_intent_type</th>\n",
       "      <th>treatment_or_therapy</th>\n",
       "      <th>treatment_outcome</th>\n",
       "      <th>treatment_outcome_duration</th>\n",
       "      <th>treatment_type</th>\n",
       "    </tr>\n",
       "  </thead>\n",
       "  <tbody>\n",
       "    <tr>\n",
       "      <th>0</th>\n",
       "      <td>00016c8f-a0be-4319-9c42-4f3bcd90ac92</td>\n",
       "      <td>AD1602</td>\n",
       "      <td>FM-AD</td>\n",
       "      <td>'--</td>\n",
       "      <td>'--</td>\n",
       "      <td>'--</td>\n",
       "      <td>'--</td>\n",
       "      <td>'--</td>\n",
       "      <td>'--</td>\n",
       "      <td>'--</td>\n",
       "      <td>...</td>\n",
       "      <td>'--</td>\n",
       "      <td>'--</td>\n",
       "      <td>'--</td>\n",
       "      <td>'--</td>\n",
       "      <td>'--</td>\n",
       "      <td>'--</td>\n",
       "      <td>'--</td>\n",
       "      <td>'--</td>\n",
       "      <td>'--</td>\n",
       "      <td>'--</td>\n",
       "    </tr>\n",
       "    <tr>\n",
       "      <th>1</th>\n",
       "      <td>001cef41-ff86-4d3f-a140-a647ac4b10a1</td>\n",
       "      <td>TCGA-E2-A1IU</td>\n",
       "      <td>TCGA-BRCA</td>\n",
       "      <td>60</td>\n",
       "      <td>'--</td>\n",
       "      <td>'--</td>\n",
       "      <td>'--</td>\n",
       "      <td>'--</td>\n",
       "      <td>'--</td>\n",
       "      <td>-22279</td>\n",
       "      <td>...</td>\n",
       "      <td>'--</td>\n",
       "      <td>'--</td>\n",
       "      <td>'--</td>\n",
       "      <td>'--</td>\n",
       "      <td>'--</td>\n",
       "      <td>'--</td>\n",
       "      <td>no</td>\n",
       "      <td>'--</td>\n",
       "      <td>'--</td>\n",
       "      <td>Radiation Therapy, NOS</td>\n",
       "    </tr>\n",
       "    <tr>\n",
       "      <th>2</th>\n",
       "      <td>001cef41-ff86-4d3f-a140-a647ac4b10a1</td>\n",
       "      <td>TCGA-E2-A1IU</td>\n",
       "      <td>TCGA-BRCA</td>\n",
       "      <td>60</td>\n",
       "      <td>'--</td>\n",
       "      <td>'--</td>\n",
       "      <td>'--</td>\n",
       "      <td>'--</td>\n",
       "      <td>'--</td>\n",
       "      <td>-22279</td>\n",
       "      <td>...</td>\n",
       "      <td>'--</td>\n",
       "      <td>'--</td>\n",
       "      <td>'--</td>\n",
       "      <td>'--</td>\n",
       "      <td>'--</td>\n",
       "      <td>'--</td>\n",
       "      <td>yes</td>\n",
       "      <td>'--</td>\n",
       "      <td>'--</td>\n",
       "      <td>Pharmaceutical Therapy, NOS</td>\n",
       "    </tr>\n",
       "    <tr>\n",
       "      <th>3</th>\n",
       "      <td>002cdb51-32c0-40be-b92f-60961f091bdf</td>\n",
       "      <td>AD16494</td>\n",
       "      <td>FM-AD</td>\n",
       "      <td>'--</td>\n",
       "      <td>'--</td>\n",
       "      <td>'--</td>\n",
       "      <td>'--</td>\n",
       "      <td>'--</td>\n",
       "      <td>'--</td>\n",
       "      <td>'--</td>\n",
       "      <td>...</td>\n",
       "      <td>'--</td>\n",
       "      <td>'--</td>\n",
       "      <td>'--</td>\n",
       "      <td>'--</td>\n",
       "      <td>'--</td>\n",
       "      <td>'--</td>\n",
       "      <td>'--</td>\n",
       "      <td>'--</td>\n",
       "      <td>'--</td>\n",
       "      <td>'--</td>\n",
       "    </tr>\n",
       "    <tr>\n",
       "      <th>4</th>\n",
       "      <td>0045349c-69d9-4306-a403-c9c1fa836644</td>\n",
       "      <td>TCGA-A1-A0SB</td>\n",
       "      <td>TCGA-BRCA</td>\n",
       "      <td>70</td>\n",
       "      <td>'--</td>\n",
       "      <td>'--</td>\n",
       "      <td>'--</td>\n",
       "      <td>'--</td>\n",
       "      <td>'--</td>\n",
       "      <td>-25833</td>\n",
       "      <td>...</td>\n",
       "      <td>'--</td>\n",
       "      <td>'--</td>\n",
       "      <td>'--</td>\n",
       "      <td>'--</td>\n",
       "      <td>'--</td>\n",
       "      <td>'--</td>\n",
       "      <td>not reported</td>\n",
       "      <td>'--</td>\n",
       "      <td>'--</td>\n",
       "      <td>Radiation Therapy, NOS</td>\n",
       "    </tr>\n",
       "  </tbody>\n",
       "</table>\n",
       "<p>5 rows × 219 columns</p>\n",
       "</div>"
      ],
      "text/plain": [
       "                                case_id case_submitter_id project_id  \\\n",
       "0  00016c8f-a0be-4319-9c42-4f3bcd90ac92            AD1602      FM-AD   \n",
       "1  001cef41-ff86-4d3f-a140-a647ac4b10a1      TCGA-E2-A1IU  TCGA-BRCA   \n",
       "2  001cef41-ff86-4d3f-a140-a647ac4b10a1      TCGA-E2-A1IU  TCGA-BRCA   \n",
       "3  002cdb51-32c0-40be-b92f-60961f091bdf           AD16494      FM-AD   \n",
       "4  0045349c-69d9-4306-a403-c9c1fa836644      TCGA-A1-A0SB  TCGA-BRCA   \n",
       "\n",
       "  age_at_index age_is_obfuscated cause_of_death cause_of_death_source  \\\n",
       "0          '--               '--            '--                   '--   \n",
       "1           60               '--            '--                   '--   \n",
       "2           60               '--            '--                   '--   \n",
       "3          '--               '--            '--                   '--   \n",
       "4           70               '--            '--                   '--   \n",
       "\n",
       "  country_of_birth country_of_residence_at_enrollment days_to_birth  ...  \\\n",
       "0              '--                                '--           '--  ...   \n",
       "1              '--                                '--        -22279  ...   \n",
       "2              '--                                '--        -22279  ...   \n",
       "3              '--                                '--           '--  ...   \n",
       "4              '--                                '--        -25833  ...   \n",
       "\n",
       "  treatment_dose_units treatment_duration treatment_effect  \\\n",
       "0                  '--                '--              '--   \n",
       "1                  '--                '--              '--   \n",
       "2                  '--                '--              '--   \n",
       "3                  '--                '--              '--   \n",
       "4                  '--                '--              '--   \n",
       "\n",
       "  treatment_effect_indicator treatment_frequency treatment_intent_type  \\\n",
       "0                        '--                 '--                   '--   \n",
       "1                        '--                 '--                   '--   \n",
       "2                        '--                 '--                   '--   \n",
       "3                        '--                 '--                   '--   \n",
       "4                        '--                 '--                   '--   \n",
       "\n",
       "  treatment_or_therapy treatment_outcome treatment_outcome_duration  \\\n",
       "0                  '--               '--                        '--   \n",
       "1                   no               '--                        '--   \n",
       "2                  yes               '--                        '--   \n",
       "3                  '--               '--                        '--   \n",
       "4         not reported               '--                        '--   \n",
       "\n",
       "                treatment_type  \n",
       "0                          '--  \n",
       "1       Radiation Therapy, NOS  \n",
       "2  Pharmaceutical Therapy, NOS  \n",
       "3                          '--  \n",
       "4       Radiation Therapy, NOS  \n",
       "\n",
       "[5 rows x 219 columns]"
      ]
     },
     "execution_count": 14,
     "metadata": {},
     "output_type": "execute_result"
    }
   ],
   "source": [
    "clinicalBreast.head()"
   ]
  },
  {
   "cell_type": "markdown",
   "id": "62b6d18a-5a97-4720-9c39-ec6dcd8cbf9b",
   "metadata": {},
   "source": [
    "Check that 73 invalid rows were removed"
   ]
  },
  {
   "cell_type": "code",
   "execution_count": 15,
   "id": "b5359fa3-d6c0-4e5a-b9bb-41e744709f5e",
   "metadata": {},
   "outputs": [
    {
     "data": {
      "text/plain": [
       "(5195, 219)"
      ]
     },
     "execution_count": 15,
     "metadata": {},
     "output_type": "execute_result"
    }
   ],
   "source": [
    "clinicalBreast.shape"
   ]
  },
  {
   "cell_type": "markdown",
   "id": "f498bbb5-61e2-44f5-a9eb-e3ecf5bfb2a8",
   "metadata": {},
   "source": [
    "Get number of duplicate case_submitter_id numbers. These are patients with multiple rows of data."
   ]
  },
  {
   "cell_type": "code",
   "execution_count": 16,
   "id": "b65eb323-8a64-4fa2-be57-937222c86430",
   "metadata": {},
   "outputs": [
    {
     "data": {
      "text/plain": [
       "1148"
      ]
     },
     "execution_count": 16,
     "metadata": {},
     "output_type": "execute_result"
    }
   ],
   "source": [
    "clinicalBreast['case_submitter_id'].duplicated().sum()"
   ]
  },
  {
   "cell_type": "markdown",
   "id": "baa461df-a4d3-41c1-b363-2ac9368b2266",
   "metadata": {},
   "source": [
    "Get a table of the duplicates"
   ]
  },
  {
   "cell_type": "code",
   "execution_count": 17,
   "id": "b767127a-4b63-4e30-9bdf-6cb04bca14f5",
   "metadata": {},
   "outputs": [],
   "source": [
    "# Identify all rows with duplicates\n",
    "all_duplicates = clinicalBreast[clinicalBreast['case_submitter_id'].duplicated(keep=False)]"
   ]
  },
  {
   "cell_type": "markdown",
   "id": "0600bc4f-8c0e-4af6-af9f-f9de2bb917c7",
   "metadata": {},
   "source": [
    "## Merge gene and clinicalBreast"
   ]
  },
  {
   "cell_type": "code",
   "execution_count": 18,
   "id": "d2703e51-2ec6-4ee4-8daa-1e6fec2b7d01",
   "metadata": {},
   "outputs": [],
   "source": [
    "geneClinical = gene.merge(clinicalBreast, left_on='Case', right_on='case_submitter_id', how='inner')"
   ]
  },
  {
   "cell_type": "code",
   "execution_count": 19,
   "id": "48282861-e8b7-42a9-b798-989c5907cc9f",
   "metadata": {},
   "outputs": [
    {
     "data": {
      "text/plain": [
       "(1854, 1220)"
      ]
     },
     "execution_count": 19,
     "metadata": {},
     "output_type": "execute_result"
    }
   ],
   "source": [
    "geneClinical.shape"
   ]
  },
  {
   "cell_type": "markdown",
   "id": "1e3973a5-a00c-48a3-804c-d713b1eaf9db",
   "metadata": {},
   "source": [
    "Check results for a duplicate case_submitter_id. We want to make sure each case_submitter_id/case always gets the same gene expression data"
   ]
  },
  {
   "cell_type": "code",
   "execution_count": 20,
   "id": "668810c3-5f05-44cc-b87f-7f7b877a1e39",
   "metadata": {},
   "outputs": [
    {
     "data": {
      "text/plain": [
       "855"
      ]
     },
     "execution_count": 20,
     "metadata": {},
     "output_type": "execute_result"
    }
   ],
   "source": [
    "geneClinical['case_submitter_id'].duplicated().sum()"
   ]
  },
  {
   "cell_type": "markdown",
   "id": "65b669ed-a6e5-428c-b161-3aade99007a5",
   "metadata": {},
   "source": [
    "Get a table of the duplicates"
   ]
  },
  {
   "cell_type": "code",
   "execution_count": 21,
   "id": "dda28813-7c51-44d7-b885-05ede3a62d68",
   "metadata": {},
   "outputs": [],
   "source": [
    "# Identify all rows with duplicates\n",
    "all_duplicatesMerge = geneClinical[geneClinical['case_submitter_id'].duplicated(keep=False)]"
   ]
  },
  {
   "cell_type": "code",
   "execution_count": 22,
   "id": "336c9763-462c-43db-b2f9-dbc3c100d81a",
   "metadata": {},
   "outputs": [
    {
     "data": {
      "text/html": [
       "<div>\n",
       "<style scoped>\n",
       "    .dataframe tbody tr th:only-of-type {\n",
       "        vertical-align: middle;\n",
       "    }\n",
       "\n",
       "    .dataframe tbody tr th {\n",
       "        vertical-align: top;\n",
       "    }\n",
       "\n",
       "    .dataframe thead th {\n",
       "        text-align: right;\n",
       "    }\n",
       "</style>\n",
       "<table border=\"1\" class=\"dataframe\">\n",
       "  <thead>\n",
       "    <tr style=\"text-align: right;\">\n",
       "      <th></th>\n",
       "      <th>Case</th>\n",
       "      <th>ANO1</th>\n",
       "      <th>CTTN</th>\n",
       "      <th>GAB2</th>\n",
       "      <th>TSKU</th>\n",
       "      <th>PEG10</th>\n",
       "      <th>TSPAN12</th>\n",
       "      <th>VSIG2</th>\n",
       "      <th>INHBB</th>\n",
       "      <th>CLU</th>\n",
       "      <th>...</th>\n",
       "      <th>treatment_dose_units</th>\n",
       "      <th>treatment_duration</th>\n",
       "      <th>treatment_effect</th>\n",
       "      <th>treatment_effect_indicator</th>\n",
       "      <th>treatment_frequency</th>\n",
       "      <th>treatment_intent_type</th>\n",
       "      <th>treatment_or_therapy</th>\n",
       "      <th>treatment_outcome</th>\n",
       "      <th>treatment_outcome_duration</th>\n",
       "      <th>treatment_type</th>\n",
       "    </tr>\n",
       "  </thead>\n",
       "  <tbody>\n",
       "    <tr>\n",
       "      <th>0</th>\n",
       "      <td>TCGA-AC-A2QJ</td>\n",
       "      <td>-0.850784</td>\n",
       "      <td>-0.067790</td>\n",
       "      <td>-0.373197</td>\n",
       "      <td>0.353471</td>\n",
       "      <td>-0.424534</td>\n",
       "      <td>-0.627105</td>\n",
       "      <td>-0.225790</td>\n",
       "      <td>-0.428333</td>\n",
       "      <td>-0.396251</td>\n",
       "      <td>...</td>\n",
       "      <td>'--</td>\n",
       "      <td>'--</td>\n",
       "      <td>'--</td>\n",
       "      <td>'--</td>\n",
       "      <td>'--</td>\n",
       "      <td>'--</td>\n",
       "      <td>yes</td>\n",
       "      <td>'--</td>\n",
       "      <td>'--</td>\n",
       "      <td>Radiation Therapy, NOS</td>\n",
       "    </tr>\n",
       "    <tr>\n",
       "      <th>1</th>\n",
       "      <td>TCGA-AC-A2QJ</td>\n",
       "      <td>-0.850784</td>\n",
       "      <td>-0.067790</td>\n",
       "      <td>-0.373197</td>\n",
       "      <td>0.353471</td>\n",
       "      <td>-0.424534</td>\n",
       "      <td>-0.627105</td>\n",
       "      <td>-0.225790</td>\n",
       "      <td>-0.428333</td>\n",
       "      <td>-0.396251</td>\n",
       "      <td>...</td>\n",
       "      <td>'--</td>\n",
       "      <td>'--</td>\n",
       "      <td>'--</td>\n",
       "      <td>'--</td>\n",
       "      <td>'--</td>\n",
       "      <td>'--</td>\n",
       "      <td>yes</td>\n",
       "      <td>'--</td>\n",
       "      <td>'--</td>\n",
       "      <td>Pharmaceutical Therapy, NOS</td>\n",
       "    </tr>\n",
       "    <tr>\n",
       "      <th>2</th>\n",
       "      <td>TCGA-FA-A7DS</td>\n",
       "      <td>-0.903327</td>\n",
       "      <td>-0.984412</td>\n",
       "      <td>-0.434487</td>\n",
       "      <td>-0.533308</td>\n",
       "      <td>-0.510474</td>\n",
       "      <td>-0.649774</td>\n",
       "      <td>-0.417569</td>\n",
       "      <td>-0.591520</td>\n",
       "      <td>-0.415010</td>\n",
       "      <td>...</td>\n",
       "      <td>'--</td>\n",
       "      <td>'--</td>\n",
       "      <td>'--</td>\n",
       "      <td>'--</td>\n",
       "      <td>'--</td>\n",
       "      <td>'--</td>\n",
       "      <td>no</td>\n",
       "      <td>'--</td>\n",
       "      <td>'--</td>\n",
       "      <td>Radiation Therapy, NOS</td>\n",
       "    </tr>\n",
       "    <tr>\n",
       "      <th>3</th>\n",
       "      <td>TCGA-FA-A7DS</td>\n",
       "      <td>-0.903327</td>\n",
       "      <td>-0.984412</td>\n",
       "      <td>-0.434487</td>\n",
       "      <td>-0.533308</td>\n",
       "      <td>-0.510474</td>\n",
       "      <td>-0.649774</td>\n",
       "      <td>-0.417569</td>\n",
       "      <td>-0.591520</td>\n",
       "      <td>-0.415010</td>\n",
       "      <td>...</td>\n",
       "      <td>'--</td>\n",
       "      <td>'--</td>\n",
       "      <td>'--</td>\n",
       "      <td>'--</td>\n",
       "      <td>'--</td>\n",
       "      <td>'--</td>\n",
       "      <td>yes</td>\n",
       "      <td>'--</td>\n",
       "      <td>'--</td>\n",
       "      <td>Pharmaceutical Therapy, NOS</td>\n",
       "    </tr>\n",
       "    <tr>\n",
       "      <th>4</th>\n",
       "      <td>TCGA-A2-A4S1</td>\n",
       "      <td>-0.749352</td>\n",
       "      <td>-0.266099</td>\n",
       "      <td>-0.379331</td>\n",
       "      <td>0.198941</td>\n",
       "      <td>-0.155934</td>\n",
       "      <td>-0.530950</td>\n",
       "      <td>-0.325875</td>\n",
       "      <td>-0.373839</td>\n",
       "      <td>-0.306217</td>\n",
       "      <td>...</td>\n",
       "      <td>'--</td>\n",
       "      <td>'--</td>\n",
       "      <td>'--</td>\n",
       "      <td>'--</td>\n",
       "      <td>'--</td>\n",
       "      <td>'--</td>\n",
       "      <td>yes</td>\n",
       "      <td>'--</td>\n",
       "      <td>'--</td>\n",
       "      <td>Radiation Therapy, NOS</td>\n",
       "    </tr>\n",
       "  </tbody>\n",
       "</table>\n",
       "<p>5 rows × 1220 columns</p>\n",
       "</div>"
      ],
      "text/plain": [
       "           Case      ANO1      CTTN      GAB2      TSKU     PEG10   TSPAN12  \\\n",
       "0  TCGA-AC-A2QJ -0.850784 -0.067790 -0.373197  0.353471 -0.424534 -0.627105   \n",
       "1  TCGA-AC-A2QJ -0.850784 -0.067790 -0.373197  0.353471 -0.424534 -0.627105   \n",
       "2  TCGA-FA-A7DS -0.903327 -0.984412 -0.434487 -0.533308 -0.510474 -0.649774   \n",
       "3  TCGA-FA-A7DS -0.903327 -0.984412 -0.434487 -0.533308 -0.510474 -0.649774   \n",
       "4  TCGA-A2-A4S1 -0.749352 -0.266099 -0.379331  0.198941 -0.155934 -0.530950   \n",
       "\n",
       "      VSIG2     INHBB       CLU  ...  treatment_dose_units  \\\n",
       "0 -0.225790 -0.428333 -0.396251  ...                   '--   \n",
       "1 -0.225790 -0.428333 -0.396251  ...                   '--   \n",
       "2 -0.417569 -0.591520 -0.415010  ...                   '--   \n",
       "3 -0.417569 -0.591520 -0.415010  ...                   '--   \n",
       "4 -0.325875 -0.373839 -0.306217  ...                   '--   \n",
       "\n",
       "   treatment_duration  treatment_effect  treatment_effect_indicator  \\\n",
       "0                 '--               '--                         '--   \n",
       "1                 '--               '--                         '--   \n",
       "2                 '--               '--                         '--   \n",
       "3                 '--               '--                         '--   \n",
       "4                 '--               '--                         '--   \n",
       "\n",
       "   treatment_frequency  treatment_intent_type  treatment_or_therapy  \\\n",
       "0                  '--                    '--                   yes   \n",
       "1                  '--                    '--                   yes   \n",
       "2                  '--                    '--                    no   \n",
       "3                  '--                    '--                   yes   \n",
       "4                  '--                    '--                   yes   \n",
       "\n",
       "   treatment_outcome  treatment_outcome_duration               treatment_type  \n",
       "0                '--                         '--       Radiation Therapy, NOS  \n",
       "1                '--                         '--  Pharmaceutical Therapy, NOS  \n",
       "2                '--                         '--       Radiation Therapy, NOS  \n",
       "3                '--                         '--  Pharmaceutical Therapy, NOS  \n",
       "4                '--                         '--       Radiation Therapy, NOS  \n",
       "\n",
       "[5 rows x 1220 columns]"
      ]
     },
     "execution_count": 22,
     "metadata": {},
     "output_type": "execute_result"
    }
   ],
   "source": [
    "all_duplicatesMerge.head()"
   ]
  },
  {
   "cell_type": "markdown",
   "id": "66fd243b-7615-475b-a5be-a548b8d9e47a",
   "metadata": {},
   "source": [
    "If I drop clinical columns, then drop duplicates. Do I get a table 1000 rows long?"
   ]
  },
  {
   "cell_type": "code",
   "execution_count": 23,
   "id": "40724d71-1a9b-4dff-8835-f8e9a9543ef9",
   "metadata": {},
   "outputs": [
    {
     "data": {
      "text/plain": [
       "(1854, 1001)"
      ]
     },
     "execution_count": 23,
     "metadata": {},
     "output_type": "execute_result"
    }
   ],
   "source": [
    "short = geneClinical.iloc[:, 0:1001]\n",
    "short.shape"
   ]
  },
  {
   "cell_type": "code",
   "execution_count": 24,
   "id": "8680237a-900b-494c-b768-0c32e5fc8baf",
   "metadata": {},
   "outputs": [
    {
     "data": {
      "text/plain": [
       "Index(['Case', 'ANO1', 'CTTN', 'GAB2', 'TSKU', 'PEG10', 'TSPAN12', 'VSIG2',\n",
       "       'INHBB', 'CLU',\n",
       "       ...\n",
       "       'DSG2', 'PGGHG', 'MYH14', 'PTPRU', 'CEP170B', 'TRPM4', 'AGRN', 'LAMA5',\n",
       "       'SLC17A9', 'SMIM24'],\n",
       "      dtype='object', length=1001)"
      ]
     },
     "execution_count": 24,
     "metadata": {},
     "output_type": "execute_result"
    }
   ],
   "source": [
    "short.columns"
   ]
  },
  {
   "cell_type": "code",
   "execution_count": 25,
   "id": "24b21bf7-ee86-4b1c-841e-1ea90b4e57d1",
   "metadata": {},
   "outputs": [
    {
     "data": {
      "text/plain": [
       "(999, 1001)"
      ]
     },
     "execution_count": 25,
     "metadata": {},
     "output_type": "execute_result"
    }
   ],
   "source": [
    "shortNoDup = short.drop_duplicates()\n",
    "shortNoDup.shape"
   ]
  },
  {
   "cell_type": "markdown",
   "id": "cffa16ea-f556-494a-a9f4-972dc6b7769d",
   "metadata": {},
   "source": [
    "I have less than the 1000 samples I started with. Check what happened to one sample. "
   ]
  },
  {
   "cell_type": "code",
   "execution_count": 26,
   "id": "65b52d9d-e438-46be-a0a8-19d71c1aa1c3",
   "metadata": {},
   "outputs": [
    {
     "name": "stdout",
     "output_type": "stream",
     "text": [
      "Index([697], dtype='int64')\n"
     ]
    }
   ],
   "source": [
    "# Get indices where 'Case' in 'gene' is not in 'shortNoDup'\n",
    "indices_not_in_shortNoDup = gene[~gene['Case'].isin(shortNoDup['Case'])].index\n",
    "\n",
    "# Print the result\n",
    "print(indices_not_in_shortNoDup)\n"
   ]
  },
  {
   "cell_type": "code",
   "execution_count": 27,
   "id": "64f8f8e3-12c7-411a-9f98-a6f8855a081e",
   "metadata": {},
   "outputs": [
    {
     "data": {
      "text/html": [
       "<div>\n",
       "<style scoped>\n",
       "    .dataframe tbody tr th:only-of-type {\n",
       "        vertical-align: middle;\n",
       "    }\n",
       "\n",
       "    .dataframe tbody tr th {\n",
       "        vertical-align: top;\n",
       "    }\n",
       "\n",
       "    .dataframe thead th {\n",
       "        text-align: right;\n",
       "    }\n",
       "</style>\n",
       "<table border=\"1\" class=\"dataframe\">\n",
       "  <thead>\n",
       "    <tr style=\"text-align: right;\">\n",
       "      <th></th>\n",
       "      <th>Case</th>\n",
       "      <th>ANO1</th>\n",
       "      <th>CTTN</th>\n",
       "      <th>GAB2</th>\n",
       "      <th>TSKU</th>\n",
       "      <th>PEG10</th>\n",
       "      <th>TSPAN12</th>\n",
       "      <th>VSIG2</th>\n",
       "      <th>INHBB</th>\n",
       "      <th>CLU</th>\n",
       "      <th>...</th>\n",
       "      <th>DSG2</th>\n",
       "      <th>PGGHG</th>\n",
       "      <th>MYH14</th>\n",
       "      <th>PTPRU</th>\n",
       "      <th>CEP170B</th>\n",
       "      <th>TRPM4</th>\n",
       "      <th>AGRN</th>\n",
       "      <th>LAMA5</th>\n",
       "      <th>SLC17A9</th>\n",
       "      <th>SMIM24</th>\n",
       "    </tr>\n",
       "  </thead>\n",
       "  <tbody>\n",
       "    <tr>\n",
       "      <th>697</th>\n",
       "      <td>TCGA-BH-A0B2</td>\n",
       "      <td>-0.335215</td>\n",
       "      <td>-0.533468</td>\n",
       "      <td>-0.303364</td>\n",
       "      <td>-0.265946</td>\n",
       "      <td>-0.48188</td>\n",
       "      <td>-0.443199</td>\n",
       "      <td>-0.26824</td>\n",
       "      <td>-0.563447</td>\n",
       "      <td>-0.012233</td>\n",
       "      <td>...</td>\n",
       "      <td>-0.189918</td>\n",
       "      <td>-0.225109</td>\n",
       "      <td>-0.636121</td>\n",
       "      <td>-0.661413</td>\n",
       "      <td>0.303512</td>\n",
       "      <td>-0.515584</td>\n",
       "      <td>0.059583</td>\n",
       "      <td>-0.343663</td>\n",
       "      <td>-0.444788</td>\n",
       "      <td>0.077625</td>\n",
       "    </tr>\n",
       "  </tbody>\n",
       "</table>\n",
       "<p>1 rows × 1001 columns</p>\n",
       "</div>"
      ],
      "text/plain": [
       "             Case      ANO1      CTTN      GAB2      TSKU    PEG10   TSPAN12  \\\n",
       "697  TCGA-BH-A0B2 -0.335215 -0.533468 -0.303364 -0.265946 -0.48188 -0.443199   \n",
       "\n",
       "       VSIG2     INHBB       CLU  ...      DSG2     PGGHG     MYH14     PTPRU  \\\n",
       "697 -0.26824 -0.563447 -0.012233  ... -0.189918 -0.225109 -0.636121 -0.661413   \n",
       "\n",
       "      CEP170B     TRPM4      AGRN     LAMA5   SLC17A9    SMIM24  \n",
       "697  0.303512 -0.515584  0.059583 -0.343663 -0.444788  0.077625  \n",
       "\n",
       "[1 rows x 1001 columns]"
      ]
     },
     "execution_count": 27,
     "metadata": {},
     "output_type": "execute_result"
    }
   ],
   "source": [
    "# print rows that do not have a case in the merged dataset\n",
    "gene.iloc[indices_not_in_shortNoDup, :]"
   ]
  },
  {
   "cell_type": "code",
   "execution_count": 28,
   "id": "60429d41-65bb-4954-a45c-23387f62e8bf",
   "metadata": {},
   "outputs": [
    {
     "data": {
      "text/html": [
       "<div>\n",
       "<style scoped>\n",
       "    .dataframe tbody tr th:only-of-type {\n",
       "        vertical-align: middle;\n",
       "    }\n",
       "\n",
       "    .dataframe tbody tr th {\n",
       "        vertical-align: top;\n",
       "    }\n",
       "\n",
       "    .dataframe thead th {\n",
       "        text-align: right;\n",
       "    }\n",
       "</style>\n",
       "<table border=\"1\" class=\"dataframe\">\n",
       "  <thead>\n",
       "    <tr style=\"text-align: right;\">\n",
       "      <th></th>\n",
       "      <th>Case</th>\n",
       "      <th>ANO1</th>\n",
       "      <th>CTTN</th>\n",
       "      <th>GAB2</th>\n",
       "      <th>TSKU</th>\n",
       "      <th>PEG10</th>\n",
       "      <th>TSPAN12</th>\n",
       "      <th>VSIG2</th>\n",
       "      <th>INHBB</th>\n",
       "      <th>CLU</th>\n",
       "      <th>...</th>\n",
       "      <th>DSG2</th>\n",
       "      <th>PGGHG</th>\n",
       "      <th>MYH14</th>\n",
       "      <th>PTPRU</th>\n",
       "      <th>CEP170B</th>\n",
       "      <th>TRPM4</th>\n",
       "      <th>AGRN</th>\n",
       "      <th>LAMA5</th>\n",
       "      <th>SLC17A9</th>\n",
       "      <th>SMIM24</th>\n",
       "    </tr>\n",
       "  </thead>\n",
       "  <tbody>\n",
       "    <tr>\n",
       "      <th>697</th>\n",
       "      <td>TCGA-BH-A0B2</td>\n",
       "      <td>-0.335215</td>\n",
       "      <td>-0.533468</td>\n",
       "      <td>-0.303364</td>\n",
       "      <td>-0.265946</td>\n",
       "      <td>-0.48188</td>\n",
       "      <td>-0.443199</td>\n",
       "      <td>-0.26824</td>\n",
       "      <td>-0.563447</td>\n",
       "      <td>-0.012233</td>\n",
       "      <td>...</td>\n",
       "      <td>-0.189918</td>\n",
       "      <td>-0.225109</td>\n",
       "      <td>-0.636121</td>\n",
       "      <td>-0.661413</td>\n",
       "      <td>0.303512</td>\n",
       "      <td>-0.515584</td>\n",
       "      <td>0.059583</td>\n",
       "      <td>-0.343663</td>\n",
       "      <td>-0.444788</td>\n",
       "      <td>0.077625</td>\n",
       "    </tr>\n",
       "  </tbody>\n",
       "</table>\n",
       "<p>1 rows × 1001 columns</p>\n",
       "</div>"
      ],
      "text/plain": [
       "             Case      ANO1      CTTN      GAB2      TSKU    PEG10   TSPAN12  \\\n",
       "697  TCGA-BH-A0B2 -0.335215 -0.533468 -0.303364 -0.265946 -0.48188 -0.443199   \n",
       "\n",
       "       VSIG2     INHBB       CLU  ...      DSG2     PGGHG     MYH14     PTPRU  \\\n",
       "697 -0.26824 -0.563447 -0.012233  ... -0.189918 -0.225109 -0.636121 -0.661413   \n",
       "\n",
       "      CEP170B     TRPM4      AGRN     LAMA5   SLC17A9    SMIM24  \n",
       "697  0.303512 -0.515584  0.059583 -0.343663 -0.444788  0.077625  \n",
       "\n",
       "[1 rows x 1001 columns]"
      ]
     },
     "execution_count": 28,
     "metadata": {},
     "output_type": "execute_result"
    }
   ],
   "source": [
    "gene[gene['Case'] == 'TCGA-BH-A0B2']"
   ]
  },
  {
   "cell_type": "code",
   "execution_count": 29,
   "id": "9c8aa8dc-c1a0-4e9c-9c4d-4164ee4b839f",
   "metadata": {},
   "outputs": [
    {
     "data": {
      "text/html": [
       "<div>\n",
       "<style scoped>\n",
       "    .dataframe tbody tr th:only-of-type {\n",
       "        vertical-align: middle;\n",
       "    }\n",
       "\n",
       "    .dataframe tbody tr th {\n",
       "        vertical-align: top;\n",
       "    }\n",
       "\n",
       "    .dataframe thead th {\n",
       "        text-align: right;\n",
       "    }\n",
       "</style>\n",
       "<table border=\"1\" class=\"dataframe\">\n",
       "  <thead>\n",
       "    <tr style=\"text-align: right;\">\n",
       "      <th></th>\n",
       "      <th>case_id</th>\n",
       "      <th>case_submitter_id</th>\n",
       "      <th>project_id</th>\n",
       "      <th>age_at_index</th>\n",
       "      <th>age_is_obfuscated</th>\n",
       "      <th>cause_of_death</th>\n",
       "      <th>cause_of_death_source</th>\n",
       "      <th>country_of_birth</th>\n",
       "      <th>country_of_residence_at_enrollment</th>\n",
       "      <th>days_to_birth</th>\n",
       "      <th>...</th>\n",
       "      <th>treatment_dose_units</th>\n",
       "      <th>treatment_duration</th>\n",
       "      <th>treatment_effect</th>\n",
       "      <th>treatment_effect_indicator</th>\n",
       "      <th>treatment_frequency</th>\n",
       "      <th>treatment_intent_type</th>\n",
       "      <th>treatment_or_therapy</th>\n",
       "      <th>treatment_outcome</th>\n",
       "      <th>treatment_outcome_duration</th>\n",
       "      <th>treatment_type</th>\n",
       "    </tr>\n",
       "  </thead>\n",
       "  <tbody>\n",
       "  </tbody>\n",
       "</table>\n",
       "<p>0 rows × 219 columns</p>\n",
       "</div>"
      ],
      "text/plain": [
       "Empty DataFrame\n",
       "Columns: [case_id, case_submitter_id, project_id, age_at_index, age_is_obfuscated, cause_of_death, cause_of_death_source, country_of_birth, country_of_residence_at_enrollment, days_to_birth, days_to_death, education_level, ethnicity, gender, marital_status, occupation_duration_years, population_group, premature_at_birth, race, vital_status, weeks_gestation_at_birth, year_of_birth, year_of_death, adrenal_hormone, age_at_diagnosis, ajcc_clinical_m, ajcc_clinical_n, ajcc_clinical_stage, ajcc_clinical_t, ajcc_pathologic_m, ajcc_pathologic_n, ajcc_pathologic_stage, ajcc_pathologic_t, ajcc_serum_tumor_markers, ajcc_staging_system_edition, ann_arbor_b_symptoms, ann_arbor_b_symptoms_described, ann_arbor_clinical_stage, ann_arbor_extranodal_involvement, ann_arbor_pathologic_stage, best_overall_response, burkitt_lymphoma_clinical_variant, calgb_risk_group, cancer_detection_method, child_pugh_classification, clark_level, classification_of_tumor, cog_liver_stage, cog_neuroblastoma_risk_group, cog_renal_stage, cog_rhabdomyosarcoma_risk_group, contiguous_organ_invaded, days_to_best_overall_response, days_to_diagnosis, days_to_last_follow_up, days_to_last_known_disease_status, days_to_recurrence, diagnosis_is_primary_disease, double_expressor_lymphoma, double_hit_lymphoma, eln_risk_classification, enneking_msts_grade, enneking_msts_metastasis, enneking_msts_stage, enneking_msts_tumor_site, ensat_clinical_m, ensat_pathologic_n, ensat_pathologic_stage, ensat_pathologic_t, esophageal_columnar_dysplasia_degree, esophageal_columnar_metaplasia_present, fab_morphology_code, figo_stage, figo_staging_edition_year, first_symptom_longest_duration, first_symptom_prior_to_diagnosis, gastric_esophageal_junction_involvement, gleason_grade_group, gleason_grade_tertiary, gleason_patterns_percent, gleason_score, goblet_cells_columnar_mucosa_present, icd_10_code, igcccg_stage, inpc_grade, inpc_histologic_group, inrg_stage, inss_stage, international_prognostic_index, irs_group, irs_stage, ishak_fibrosis_score, iss_stage, last_known_disease_status, laterality, margin_distance, margins_involved_site, masaoka_stage, max_tumor_bulk_site, medulloblastoma_molecular_classification, ...]\n",
       "Index: []\n",
       "\n",
       "[0 rows x 219 columns]"
      ]
     },
     "execution_count": 29,
     "metadata": {},
     "output_type": "execute_result"
    }
   ],
   "source": [
    "clinicalBreast[clinicalBreast['case_submitter_id'] == 'TCGA-BH-A0B2']"
   ]
  },
  {
   "cell_type": "code",
   "execution_count": 30,
   "id": "120c9af1-d989-4b35-a9c5-3f310cd86cbd",
   "metadata": {},
   "outputs": [
    {
     "data": {
      "text/html": [
       "<div>\n",
       "<style scoped>\n",
       "    .dataframe tbody tr th:only-of-type {\n",
       "        vertical-align: middle;\n",
       "    }\n",
       "\n",
       "    .dataframe tbody tr th {\n",
       "        vertical-align: top;\n",
       "    }\n",
       "\n",
       "    .dataframe thead th {\n",
       "        text-align: right;\n",
       "    }\n",
       "</style>\n",
       "<table border=\"1\" class=\"dataframe\">\n",
       "  <thead>\n",
       "    <tr style=\"text-align: right;\">\n",
       "      <th></th>\n",
       "      <th>case_id</th>\n",
       "      <th>case_submitter_id</th>\n",
       "      <th>project_id</th>\n",
       "      <th>age_at_index</th>\n",
       "      <th>age_is_obfuscated</th>\n",
       "      <th>cause_of_death</th>\n",
       "      <th>cause_of_death_source</th>\n",
       "      <th>country_of_birth</th>\n",
       "      <th>country_of_residence_at_enrollment</th>\n",
       "      <th>days_to_birth</th>\n",
       "      <th>...</th>\n",
       "      <th>treatment_dose_units</th>\n",
       "      <th>treatment_duration</th>\n",
       "      <th>treatment_effect</th>\n",
       "      <th>treatment_effect_indicator</th>\n",
       "      <th>treatment_frequency</th>\n",
       "      <th>treatment_intent_type</th>\n",
       "      <th>treatment_or_therapy</th>\n",
       "      <th>treatment_outcome</th>\n",
       "      <th>treatment_outcome_duration</th>\n",
       "      <th>treatment_type</th>\n",
       "    </tr>\n",
       "  </thead>\n",
       "  <tbody>\n",
       "    <tr>\n",
       "      <th>1810</th>\n",
       "      <td>57a1604c-60b7-4b30-a75e-f70939532c5c</td>\n",
       "      <td>TCGA-BH-A0B2</td>\n",
       "      <td>TCGA-BRCA</td>\n",
       "      <td>'--</td>\n",
       "      <td>'--</td>\n",
       "      <td>'--</td>\n",
       "      <td>'--</td>\n",
       "      <td>'--</td>\n",
       "      <td>'--</td>\n",
       "      <td>'--</td>\n",
       "      <td>...</td>\n",
       "      <td>'--</td>\n",
       "      <td>'--</td>\n",
       "      <td>'--</td>\n",
       "      <td>'--</td>\n",
       "      <td>'--</td>\n",
       "      <td>'--</td>\n",
       "      <td>'--</td>\n",
       "      <td>'--</td>\n",
       "      <td>'--</td>\n",
       "      <td>'--</td>\n",
       "    </tr>\n",
       "  </tbody>\n",
       "</table>\n",
       "<p>1 rows × 219 columns</p>\n",
       "</div>"
      ],
      "text/plain": [
       "                                   case_id case_submitter_id project_id  \\\n",
       "1810  57a1604c-60b7-4b30-a75e-f70939532c5c      TCGA-BH-A0B2  TCGA-BRCA   \n",
       "\n",
       "     age_at_index age_is_obfuscated cause_of_death cause_of_death_source  \\\n",
       "1810          '--               '--            '--                   '--   \n",
       "\n",
       "     country_of_birth country_of_residence_at_enrollment days_to_birth  ...  \\\n",
       "1810              '--                                '--           '--  ...   \n",
       "\n",
       "     treatment_dose_units treatment_duration treatment_effect  \\\n",
       "1810                  '--                '--              '--   \n",
       "\n",
       "     treatment_effect_indicator treatment_frequency treatment_intent_type  \\\n",
       "1810                        '--                 '--                   '--   \n",
       "\n",
       "     treatment_or_therapy treatment_outcome treatment_outcome_duration  \\\n",
       "1810                  '--               '--                        '--   \n",
       "\n",
       "     treatment_type  \n",
       "1810            '--  \n",
       "\n",
       "[1 rows x 219 columns]"
      ]
     },
     "execution_count": 30,
     "metadata": {},
     "output_type": "execute_result"
    }
   ],
   "source": [
    "clinical[clinical['case_submitter_id'] == 'TCGA-BH-A0B2']"
   ]
  },
  {
   "cell_type": "markdown",
   "id": "180033b2-9332-4f3e-93a4-c0b3fa208f74",
   "metadata": {},
   "source": [
    "Case 'TCGA-BH-A0B2' was in clinical. However, the tissue or ogan was equal to '-- so it got removed when I created breastClinical. It is rightfully not present in the merged data"
   ]
  },
  {
   "cell_type": "markdown",
   "id": "904aadb1-417d-4bcf-b134-90b424a7aafe",
   "metadata": {},
   "source": [
    "## Explore the merged data"
   ]
  },
  {
   "cell_type": "code",
   "execution_count": 31,
   "id": "aba937ae-cd27-4ec5-988f-800cd45d81b0",
   "metadata": {},
   "outputs": [],
   "source": [
    "geneClinical2 = geneClinical.replace(\"'--\", np.NaN)"
   ]
  },
  {
   "cell_type": "code",
   "execution_count": 32,
   "id": "fd4c172a-4584-4a6c-b456-07ba27603013",
   "metadata": {},
   "outputs": [],
   "source": [
    "# Report the number of nulls per column\n",
    "null_counts = geneClinical2.isnull().sum()\n"
   ]
  },
  {
   "cell_type": "code",
   "execution_count": 34,
   "id": "69c62bc8-43bc-4ceb-b24a-da449930532d",
   "metadata": {},
   "outputs": [
    {
     "name": "stdout",
     "output_type": "stream",
     "text": [
      "Columns removed: {'figo_staging_edition_year', 'ensat_pathologic_stage', 'weiss_assessment_score', 'goblet_cells_columnar_mucosa_present', 'treatment_outcome', 'ajcc_clinical_stage', 'education_level', 'mitosis_karyorrhexis_index', 'perineural_invasion_present', 'esophageal_columnar_dysplasia_degree', 'irs_group', 'uicc_pathologic_stage', 'number_of_cycles', 'non_nodal_tumor_deposits', 'wilms_tumor_histologic_subtype', 'first_symptom_longest_duration', 'days_to_treatment_start', 'tumor_regression_grade', 'chemo_concurrent_to_radiation', 'ajcc_clinical_n', 'therapeutic_level_achieved', 'metastasis_at_diagnosis', 'age_is_obfuscated', 'pregnant_at_diagnosis', 'double_hit_lymphoma', 'treatment_duration', 'treatment_anatomic_site', 'peritoneal_fluid_cytological_status', 'gleason_patterns_percent', 'clark_level', 'drug_category', 'figo_stage', 'ajcc_clinical_m', 'timepoint_category', 'margin_distance.1', 'reason_treatment_ended', 'residual_disease.1', 'residual_disease', 'ajcc_clinical_t', 'uicc_clinical_stage', 'regimen_or_line_of_therapy', 'method_of_diagnosis', 'lymph_nodes_positive', 'treatment_arm', 'anaplasia_present', 'uicc_pathologic_n', 'cog_liver_stage', 'largest_extrapelvic_peritoneal_focus', 'metastasis_at_diagnosis_site', 'uicc_staging_system_edition', 'country_of_birth', 'inrg_stage', 'igcccg_stage', 'gross_tumor_weight', 'ann_arbor_pathologic_stage', 'inss_stage', 'ann_arbor_b_symptoms', 'margin_distance', 'premature_at_birth', 'sites_of_involvement', 'cog_renal_stage', 'micropapillary_features', 'days_to_recurrence', 'mitotic_count', 'sites_of_involvement_count', 'margins_involved_site', 'embolic_agent', 'ovarian_surface_involvement', 'circumferential_resection_margin', 'occupation_duration_years', 'weiss_assessment_findings', 'transglottic_extension', 'treatment_intent_type', 'vascular_invasion_type', 'irs_stage', 'peripancreatic_lymph_nodes_tested', 'cog_rhabdomyosarcoma_risk_group', 'laterality', 'ensat_pathologic_n', 'ann_arbor_b_symptoms_described', 'uicc_clinical_m', 'lymph_nodes_tested', 'international_prognostic_index', 'inpc_grade', 'primary_gleason_grade', 'papillary_renal_cell_type', 'treatment_frequency', 'radiosensitizing_agent', 'prescribed_dose_units', 'reason_treatment_not_given', 'ensat_pathologic_t', 'cause_of_death', 'ovarian_specimen_status', 'margin_status', 'ann_arbor_clinical_stage', 'calgb_risk_group', 'prescribed_dose', 'uicc_clinical_n', 'tumor_burden', 'days_to_best_overall_response', 'marital_status', 'protocol_identifier', 'gleason_grade_tertiary', 'treatment_outcome_duration', 'iss_stage', 'vascular_invasion_present', 'enneking_msts_tumor_site', 'treatment_effect', 'days_to_treatment_end', 'initial_disease_status', 'country_of_residence_at_enrollment', 'anaplasia_present_type', 'days_to_last_known_disease_status', 'ensat_clinical_m', 'therapeutic_agents', 'breslow_thickness', 'ann_arbor_extranodal_involvement', 'non_nodal_regional_disease', 'weeks_gestation_at_birth', 'enneking_msts_stage', 'esophageal_columnar_metaplasia_present', 'gleason_score', 'ulceration_indicator', 'double_expressor_lymphoma', 'max_tumor_bulk_site', 'uicc_pathologic_m', 'who_cns_grade', 'medulloblastoma_molecular_classification', 'burkitt_lymphoma_clinical_variant', 'pretreatment', 'adrenal_hormone', 'lymph_node_involved_site', 'cancer_detection_method', 'ishak_fibrosis_score', 'clinical_trial_indicator', 'greatest_tumor_dimension', 'secondary_gleason_grade', 'uicc_clinical_t', 'ajcc_serum_tumor_markers', 'cog_neuroblastoma_risk_group', 'first_symptom_prior_to_diagnosis', 'contiguous_organ_invaded', 'masaoka_stage', 'pediatric_kidney_staging', 'tumor_focality', 'child_pugh_classification', 'supratentorial_localization', 'melanoma_known_primary', 'best_overall_response', 'tumor_stage', 'who_nte_grade', 'course_number', 'treatment_dose_max', 'cause_of_death_source', 'therapeutic_levels_achieved', 'tumor_of_origin', 'peripancreatic_lymph_nodes_positive', 'tumor_depth', 'treatment_effect_indicator', 'inpc_histologic_group', 'enneking_msts_grade', 'gastric_esophageal_junction_involvement', 'satellite_nodule_present', 'number_of_fractions', 'lymphatic_invasion_present', 'uicc_pathologic_t', 'percent_tumor_invasion', 'therapeutic_target_level', 'diagnosis_is_primary_disease', 'population_group', 'eln_risk_classification', 'treatment_dose', 'enneking_msts_metastasis', 'treatment_dose_units', 'primary_disease', 'fab_morphology_code', 'tumor_largest_dimension_diameter', 'tumor_confined_to_organ_of_origin', 'route_of_administration', 'margins_involved_site.1', 'treatment_anatomic_sites', 'lesions_treated_number', 'gleason_grade_group', 'tumor_grade_category'}\n",
      "Filtered DataFrame shape: (1854, 1036)\n"
     ]
    }
   ],
   "source": [
    "# Filter columns where the number of nulls is <= 1800 (Total number of rows is 1854)\n",
    "columns_to_keep = null_counts[null_counts <= 1800].index\n",
    "\n",
    "# Select only the columns to keep\n",
    "filtered_geneClinical = geneClinical2[columns_to_keep]\n",
    "\n",
    "print(f\"Columns removed: {set(geneClinical2.columns) - set(filtered_geneClinical.columns)}\")\n",
    "print(f\"Filtered DataFrame shape: {filtered_geneClinical.shape}\")\n"
   ]
  },
  {
   "cell_type": "markdown",
   "id": "e9cd9e69-8e5e-46cc-9fe2-3652f4509bda",
   "metadata": {},
   "source": [
    "There are 1854 rows. When we removed columns that had >1800 nulls then we removed 184 columns. Now checking if there are other columns that have a high percentage of nulls"
   ]
  },
  {
   "cell_type": "code",
   "execution_count": 35,
   "id": "7d4614fd-11dd-4205-b5e2-c0fa753075b2",
   "metadata": {},
   "outputs": [
    {
     "data": {
      "text/plain": [
       "year_of_death                  1690\n",
       "days_to_death                  1615\n",
       "ajcc_staging_system_edition     391\n",
       "days_to_last_follow_up          332\n",
       "ajcc_pathologic_stage           180\n",
       "                               ... \n",
       "COL7A1                            0\n",
       "ITGB4                             0\n",
       "RGS2                              0\n",
       "IGSF3                             0\n",
       "THBD                              0\n",
       "Length: 1036, dtype: int64"
      ]
     },
     "execution_count": 35,
     "metadata": {},
     "output_type": "execute_result"
    }
   ],
   "source": [
    "filtered_geneClinical.isnull().sum().sort_values(ascending = False)"
   ]
  },
  {
   "cell_type": "markdown",
   "id": "d32051ba-1625-4635-bd81-74ab7848b5b7",
   "metadata": {},
   "source": [
    "I am going to remove year_of_death and days_to_death as these are at best 87% null. After those that amount of nulls drops sharply so I will keep those clinical columns"
   ]
  },
  {
   "cell_type": "code",
   "execution_count": 36,
   "id": "d27e56f2-b8f5-434d-a397-30b8f26a0a60",
   "metadata": {},
   "outputs": [
    {
     "name": "stdout",
     "output_type": "stream",
     "text": [
      "(1854, 1034)\n"
     ]
    }
   ],
   "source": [
    "# Drop the specified columns from the DataFrame\n",
    "filtered_geneClinical2 = filtered_geneClinical.drop(['year_of_death', 'days_to_death'], axis=1)\n",
    "\n",
    "# Display the updated DataFrame shape\n",
    "print(filtered_geneClinical2.shape)\n"
   ]
  },
  {
   "cell_type": "markdown",
   "id": "a7883caa-02c4-48d6-8783-d50267517e4c",
   "metadata": {},
   "source": [
    "## Select 30 genes due to Tableau display limitations"
   ]
  },
  {
   "cell_type": "markdown",
   "id": "19710e98-61e2-43b8-a8d8-57e2b8a1a47a",
   "metadata": {},
   "source": [
    "Normalize gene expression values. "
   ]
  },
  {
   "cell_type": "code",
   "execution_count": 37,
   "id": "eefc5835-412f-4769-bf16-7f88123ed6ec",
   "metadata": {},
   "outputs": [
    {
     "data": {
      "text/html": [
       "<div>\n",
       "<style scoped>\n",
       "    .dataframe tbody tr th:only-of-type {\n",
       "        vertical-align: middle;\n",
       "    }\n",
       "\n",
       "    .dataframe tbody tr th {\n",
       "        vertical-align: top;\n",
       "    }\n",
       "\n",
       "    .dataframe thead th {\n",
       "        text-align: right;\n",
       "    }\n",
       "</style>\n",
       "<table border=\"1\" class=\"dataframe\">\n",
       "  <thead>\n",
       "    <tr style=\"text-align: right;\">\n",
       "      <th></th>\n",
       "      <th>ANO1</th>\n",
       "      <th>CTTN</th>\n",
       "      <th>GAB2</th>\n",
       "      <th>TSKU</th>\n",
       "      <th>PEG10</th>\n",
       "      <th>TSPAN12</th>\n",
       "      <th>VSIG2</th>\n",
       "      <th>INHBB</th>\n",
       "      <th>CLU</th>\n",
       "      <th>SCARA3</th>\n",
       "      <th>...</th>\n",
       "      <th>DSG2</th>\n",
       "      <th>PGGHG</th>\n",
       "      <th>MYH14</th>\n",
       "      <th>PTPRU</th>\n",
       "      <th>CEP170B</th>\n",
       "      <th>TRPM4</th>\n",
       "      <th>AGRN</th>\n",
       "      <th>LAMA5</th>\n",
       "      <th>SLC17A9</th>\n",
       "      <th>SMIM24</th>\n",
       "    </tr>\n",
       "  </thead>\n",
       "  <tbody>\n",
       "    <tr>\n",
       "      <th>0</th>\n",
       "      <td>-0.850784</td>\n",
       "      <td>-0.067790</td>\n",
       "      <td>-0.373197</td>\n",
       "      <td>0.353471</td>\n",
       "      <td>-0.424534</td>\n",
       "      <td>-0.627105</td>\n",
       "      <td>-0.225790</td>\n",
       "      <td>-0.428333</td>\n",
       "      <td>-0.396251</td>\n",
       "      <td>-0.612892</td>\n",
       "      <td>...</td>\n",
       "      <td>-1.360506</td>\n",
       "      <td>-0.405373</td>\n",
       "      <td>-1.069204</td>\n",
       "      <td>-0.642400</td>\n",
       "      <td>-0.293741</td>\n",
       "      <td>-0.317442</td>\n",
       "      <td>1.454789</td>\n",
       "      <td>-0.886521</td>\n",
       "      <td>2.645691</td>\n",
       "      <td>0.438836</td>\n",
       "    </tr>\n",
       "    <tr>\n",
       "      <th>1</th>\n",
       "      <td>-0.850784</td>\n",
       "      <td>-0.067790</td>\n",
       "      <td>-0.373197</td>\n",
       "      <td>0.353471</td>\n",
       "      <td>-0.424534</td>\n",
       "      <td>-0.627105</td>\n",
       "      <td>-0.225790</td>\n",
       "      <td>-0.428333</td>\n",
       "      <td>-0.396251</td>\n",
       "      <td>-0.612892</td>\n",
       "      <td>...</td>\n",
       "      <td>-1.360506</td>\n",
       "      <td>-0.405373</td>\n",
       "      <td>-1.069204</td>\n",
       "      <td>-0.642400</td>\n",
       "      <td>-0.293741</td>\n",
       "      <td>-0.317442</td>\n",
       "      <td>1.454789</td>\n",
       "      <td>-0.886521</td>\n",
       "      <td>2.645691</td>\n",
       "      <td>0.438836</td>\n",
       "    </tr>\n",
       "    <tr>\n",
       "      <th>2</th>\n",
       "      <td>-0.903327</td>\n",
       "      <td>-0.984412</td>\n",
       "      <td>-0.434487</td>\n",
       "      <td>-0.533308</td>\n",
       "      <td>-0.510474</td>\n",
       "      <td>-0.649774</td>\n",
       "      <td>-0.417569</td>\n",
       "      <td>-0.591520</td>\n",
       "      <td>-0.415010</td>\n",
       "      <td>-0.941964</td>\n",
       "      <td>...</td>\n",
       "      <td>-1.479773</td>\n",
       "      <td>-0.243668</td>\n",
       "      <td>-1.159843</td>\n",
       "      <td>-1.038820</td>\n",
       "      <td>-1.792239</td>\n",
       "      <td>2.025728</td>\n",
       "      <td>-1.518411</td>\n",
       "      <td>-0.801080</td>\n",
       "      <td>4.244228</td>\n",
       "      <td>-0.274578</td>\n",
       "    </tr>\n",
       "    <tr>\n",
       "      <th>3</th>\n",
       "      <td>-0.903327</td>\n",
       "      <td>-0.984412</td>\n",
       "      <td>-0.434487</td>\n",
       "      <td>-0.533308</td>\n",
       "      <td>-0.510474</td>\n",
       "      <td>-0.649774</td>\n",
       "      <td>-0.417569</td>\n",
       "      <td>-0.591520</td>\n",
       "      <td>-0.415010</td>\n",
       "      <td>-0.941964</td>\n",
       "      <td>...</td>\n",
       "      <td>-1.479773</td>\n",
       "      <td>-0.243668</td>\n",
       "      <td>-1.159843</td>\n",
       "      <td>-1.038820</td>\n",
       "      <td>-1.792239</td>\n",
       "      <td>2.025728</td>\n",
       "      <td>-1.518411</td>\n",
       "      <td>-0.801080</td>\n",
       "      <td>4.244228</td>\n",
       "      <td>-0.274578</td>\n",
       "    </tr>\n",
       "    <tr>\n",
       "      <th>4</th>\n",
       "      <td>-0.749352</td>\n",
       "      <td>-0.266099</td>\n",
       "      <td>-0.379331</td>\n",
       "      <td>0.198941</td>\n",
       "      <td>-0.155934</td>\n",
       "      <td>-0.530950</td>\n",
       "      <td>-0.325875</td>\n",
       "      <td>-0.373839</td>\n",
       "      <td>-0.306217</td>\n",
       "      <td>-0.559285</td>\n",
       "      <td>...</td>\n",
       "      <td>-1.429917</td>\n",
       "      <td>0.136463</td>\n",
       "      <td>-1.169063</td>\n",
       "      <td>-0.786902</td>\n",
       "      <td>-0.390244</td>\n",
       "      <td>-0.130008</td>\n",
       "      <td>0.732697</td>\n",
       "      <td>-0.683839</td>\n",
       "      <td>0.121208</td>\n",
       "      <td>-0.107634</td>\n",
       "    </tr>\n",
       "  </tbody>\n",
       "</table>\n",
       "<p>5 rows × 1000 columns</p>\n",
       "</div>"
      ],
      "text/plain": [
       "       ANO1      CTTN      GAB2      TSKU     PEG10   TSPAN12     VSIG2  \\\n",
       "0 -0.850784 -0.067790 -0.373197  0.353471 -0.424534 -0.627105 -0.225790   \n",
       "1 -0.850784 -0.067790 -0.373197  0.353471 -0.424534 -0.627105 -0.225790   \n",
       "2 -0.903327 -0.984412 -0.434487 -0.533308 -0.510474 -0.649774 -0.417569   \n",
       "3 -0.903327 -0.984412 -0.434487 -0.533308 -0.510474 -0.649774 -0.417569   \n",
       "4 -0.749352 -0.266099 -0.379331  0.198941 -0.155934 -0.530950 -0.325875   \n",
       "\n",
       "      INHBB       CLU    SCARA3  ...      DSG2     PGGHG     MYH14     PTPRU  \\\n",
       "0 -0.428333 -0.396251 -0.612892  ... -1.360506 -0.405373 -1.069204 -0.642400   \n",
       "1 -0.428333 -0.396251 -0.612892  ... -1.360506 -0.405373 -1.069204 -0.642400   \n",
       "2 -0.591520 -0.415010 -0.941964  ... -1.479773 -0.243668 -1.159843 -1.038820   \n",
       "3 -0.591520 -0.415010 -0.941964  ... -1.479773 -0.243668 -1.159843 -1.038820   \n",
       "4 -0.373839 -0.306217 -0.559285  ... -1.429917  0.136463 -1.169063 -0.786902   \n",
       "\n",
       "    CEP170B     TRPM4      AGRN     LAMA5   SLC17A9    SMIM24  \n",
       "0 -0.293741 -0.317442  1.454789 -0.886521  2.645691  0.438836  \n",
       "1 -0.293741 -0.317442  1.454789 -0.886521  2.645691  0.438836  \n",
       "2 -1.792239  2.025728 -1.518411 -0.801080  4.244228 -0.274578  \n",
       "3 -1.792239  2.025728 -1.518411 -0.801080  4.244228 -0.274578  \n",
       "4 -0.390244 -0.130008  0.732697 -0.683839  0.121208 -0.107634  \n",
       "\n",
       "[5 rows x 1000 columns]"
      ]
     },
     "execution_count": 37,
     "metadata": {},
     "output_type": "execute_result"
    }
   ],
   "source": [
    "# select only the columns with gene expression data\n",
    "df = filtered_geneClinical2.iloc[:, 1:1001]\n",
    "df.head()"
   ]
  },
  {
   "cell_type": "code",
   "execution_count": 38,
   "id": "04be52f8",
   "metadata": {},
   "outputs": [
    {
     "data": {
      "text/html": [
       "<div>\n",
       "<style scoped>\n",
       "    .dataframe tbody tr th:only-of-type {\n",
       "        vertical-align: middle;\n",
       "    }\n",
       "\n",
       "    .dataframe tbody tr th {\n",
       "        vertical-align: top;\n",
       "    }\n",
       "\n",
       "    .dataframe thead th {\n",
       "        text-align: right;\n",
       "    }\n",
       "</style>\n",
       "<table border=\"1\" class=\"dataframe\">\n",
       "  <thead>\n",
       "    <tr style=\"text-align: right;\">\n",
       "      <th></th>\n",
       "      <th>ANO1</th>\n",
       "      <th>CTTN</th>\n",
       "      <th>GAB2</th>\n",
       "      <th>TSKU</th>\n",
       "      <th>PEG10</th>\n",
       "      <th>TSPAN12</th>\n",
       "      <th>VSIG2</th>\n",
       "      <th>INHBB</th>\n",
       "      <th>CLU</th>\n",
       "      <th>SCARA3</th>\n",
       "      <th>...</th>\n",
       "      <th>DSG2</th>\n",
       "      <th>PGGHG</th>\n",
       "      <th>MYH14</th>\n",
       "      <th>PTPRU</th>\n",
       "      <th>CEP170B</th>\n",
       "      <th>TRPM4</th>\n",
       "      <th>AGRN</th>\n",
       "      <th>LAMA5</th>\n",
       "      <th>SLC17A9</th>\n",
       "      <th>SMIM24</th>\n",
       "    </tr>\n",
       "  </thead>\n",
       "  <tbody>\n",
       "    <tr>\n",
       "      <th>0</th>\n",
       "      <td>-0.850784</td>\n",
       "      <td>-0.067790</td>\n",
       "      <td>-0.373197</td>\n",
       "      <td>0.353471</td>\n",
       "      <td>-0.424534</td>\n",
       "      <td>-0.627105</td>\n",
       "      <td>-0.225790</td>\n",
       "      <td>-0.428333</td>\n",
       "      <td>-0.396251</td>\n",
       "      <td>-0.612892</td>\n",
       "      <td>...</td>\n",
       "      <td>-1.360506</td>\n",
       "      <td>-0.405373</td>\n",
       "      <td>-1.069204</td>\n",
       "      <td>-0.642400</td>\n",
       "      <td>-0.293741</td>\n",
       "      <td>-0.317442</td>\n",
       "      <td>1.454789</td>\n",
       "      <td>-0.886521</td>\n",
       "      <td>2.645691</td>\n",
       "      <td>0.438836</td>\n",
       "    </tr>\n",
       "    <tr>\n",
       "      <th>1</th>\n",
       "      <td>-0.850784</td>\n",
       "      <td>-0.067790</td>\n",
       "      <td>-0.373197</td>\n",
       "      <td>0.353471</td>\n",
       "      <td>-0.424534</td>\n",
       "      <td>-0.627105</td>\n",
       "      <td>-0.225790</td>\n",
       "      <td>-0.428333</td>\n",
       "      <td>-0.396251</td>\n",
       "      <td>-0.612892</td>\n",
       "      <td>...</td>\n",
       "      <td>-1.360506</td>\n",
       "      <td>-0.405373</td>\n",
       "      <td>-1.069204</td>\n",
       "      <td>-0.642400</td>\n",
       "      <td>-0.293741</td>\n",
       "      <td>-0.317442</td>\n",
       "      <td>1.454789</td>\n",
       "      <td>-0.886521</td>\n",
       "      <td>2.645691</td>\n",
       "      <td>0.438836</td>\n",
       "    </tr>\n",
       "    <tr>\n",
       "      <th>2</th>\n",
       "      <td>-0.903327</td>\n",
       "      <td>-0.984412</td>\n",
       "      <td>-0.434487</td>\n",
       "      <td>-0.533308</td>\n",
       "      <td>-0.510474</td>\n",
       "      <td>-0.649774</td>\n",
       "      <td>-0.417569</td>\n",
       "      <td>-0.591520</td>\n",
       "      <td>-0.415010</td>\n",
       "      <td>-0.941964</td>\n",
       "      <td>...</td>\n",
       "      <td>-1.479773</td>\n",
       "      <td>-0.243668</td>\n",
       "      <td>-1.159843</td>\n",
       "      <td>-1.038820</td>\n",
       "      <td>-1.792239</td>\n",
       "      <td>2.025728</td>\n",
       "      <td>-1.518411</td>\n",
       "      <td>-0.801080</td>\n",
       "      <td>4.244228</td>\n",
       "      <td>-0.274578</td>\n",
       "    </tr>\n",
       "    <tr>\n",
       "      <th>3</th>\n",
       "      <td>-0.903327</td>\n",
       "      <td>-0.984412</td>\n",
       "      <td>-0.434487</td>\n",
       "      <td>-0.533308</td>\n",
       "      <td>-0.510474</td>\n",
       "      <td>-0.649774</td>\n",
       "      <td>-0.417569</td>\n",
       "      <td>-0.591520</td>\n",
       "      <td>-0.415010</td>\n",
       "      <td>-0.941964</td>\n",
       "      <td>...</td>\n",
       "      <td>-1.479773</td>\n",
       "      <td>-0.243668</td>\n",
       "      <td>-1.159843</td>\n",
       "      <td>-1.038820</td>\n",
       "      <td>-1.792239</td>\n",
       "      <td>2.025728</td>\n",
       "      <td>-1.518411</td>\n",
       "      <td>-0.801080</td>\n",
       "      <td>4.244228</td>\n",
       "      <td>-0.274578</td>\n",
       "    </tr>\n",
       "    <tr>\n",
       "      <th>4</th>\n",
       "      <td>-0.749352</td>\n",
       "      <td>-0.266099</td>\n",
       "      <td>-0.379331</td>\n",
       "      <td>0.198941</td>\n",
       "      <td>-0.155934</td>\n",
       "      <td>-0.530950</td>\n",
       "      <td>-0.325875</td>\n",
       "      <td>-0.373839</td>\n",
       "      <td>-0.306217</td>\n",
       "      <td>-0.559285</td>\n",
       "      <td>...</td>\n",
       "      <td>-1.429917</td>\n",
       "      <td>0.136463</td>\n",
       "      <td>-1.169063</td>\n",
       "      <td>-0.786902</td>\n",
       "      <td>-0.390244</td>\n",
       "      <td>-0.130008</td>\n",
       "      <td>0.732697</td>\n",
       "      <td>-0.683839</td>\n",
       "      <td>0.121208</td>\n",
       "      <td>-0.107634</td>\n",
       "    </tr>\n",
       "    <tr>\n",
       "      <th>...</th>\n",
       "      <td>...</td>\n",
       "      <td>...</td>\n",
       "      <td>...</td>\n",
       "      <td>...</td>\n",
       "      <td>...</td>\n",
       "      <td>...</td>\n",
       "      <td>...</td>\n",
       "      <td>...</td>\n",
       "      <td>...</td>\n",
       "      <td>...</td>\n",
       "      <td>...</td>\n",
       "      <td>...</td>\n",
       "      <td>...</td>\n",
       "      <td>...</td>\n",
       "      <td>...</td>\n",
       "      <td>...</td>\n",
       "      <td>...</td>\n",
       "      <td>...</td>\n",
       "      <td>...</td>\n",
       "      <td>...</td>\n",
       "      <td>...</td>\n",
       "    </tr>\n",
       "    <tr>\n",
       "      <th>1849</th>\n",
       "      <td>-0.577276</td>\n",
       "      <td>-0.437856</td>\n",
       "      <td>0.104747</td>\n",
       "      <td>-0.360682</td>\n",
       "      <td>-0.397765</td>\n",
       "      <td>-0.035058</td>\n",
       "      <td>-0.335168</td>\n",
       "      <td>1.239598</td>\n",
       "      <td>-0.256468</td>\n",
       "      <td>-0.536369</td>\n",
       "      <td>...</td>\n",
       "      <td>-0.255819</td>\n",
       "      <td>-0.408291</td>\n",
       "      <td>-0.804534</td>\n",
       "      <td>-0.238473</td>\n",
       "      <td>1.191062</td>\n",
       "      <td>-0.546254</td>\n",
       "      <td>1.930648</td>\n",
       "      <td>1.327399</td>\n",
       "      <td>-0.333002</td>\n",
       "      <td>-0.294545</td>\n",
       "    </tr>\n",
       "    <tr>\n",
       "      <th>1850</th>\n",
       "      <td>-0.570485</td>\n",
       "      <td>-0.094027</td>\n",
       "      <td>0.898617</td>\n",
       "      <td>-0.496092</td>\n",
       "      <td>0.028231</td>\n",
       "      <td>1.127175</td>\n",
       "      <td>-0.327414</td>\n",
       "      <td>-0.614096</td>\n",
       "      <td>-0.469461</td>\n",
       "      <td>-0.811686</td>\n",
       "      <td>...</td>\n",
       "      <td>-0.921805</td>\n",
       "      <td>-0.416384</td>\n",
       "      <td>-1.094392</td>\n",
       "      <td>-0.957513</td>\n",
       "      <td>-1.642254</td>\n",
       "      <td>-0.618281</td>\n",
       "      <td>-1.266342</td>\n",
       "      <td>-1.116794</td>\n",
       "      <td>3.498732</td>\n",
       "      <td>-0.016055</td>\n",
       "    </tr>\n",
       "    <tr>\n",
       "      <th>1851</th>\n",
       "      <td>0.932538</td>\n",
       "      <td>0.324994</td>\n",
       "      <td>0.465619</td>\n",
       "      <td>-0.448832</td>\n",
       "      <td>-0.404929</td>\n",
       "      <td>0.472066</td>\n",
       "      <td>-0.143123</td>\n",
       "      <td>-0.609882</td>\n",
       "      <td>-0.396159</td>\n",
       "      <td>-0.387849</td>\n",
       "      <td>...</td>\n",
       "      <td>-1.403157</td>\n",
       "      <td>-0.158240</td>\n",
       "      <td>-1.033908</td>\n",
       "      <td>-0.291036</td>\n",
       "      <td>0.039150</td>\n",
       "      <td>1.579099</td>\n",
       "      <td>3.366505</td>\n",
       "      <td>1.233683</td>\n",
       "      <td>0.138862</td>\n",
       "      <td>0.015622</td>\n",
       "    </tr>\n",
       "    <tr>\n",
       "      <th>1852</th>\n",
       "      <td>0.883997</td>\n",
       "      <td>0.204858</td>\n",
       "      <td>0.495980</td>\n",
       "      <td>-0.501540</td>\n",
       "      <td>-0.464307</td>\n",
       "      <td>0.829832</td>\n",
       "      <td>0.406161</td>\n",
       "      <td>-0.664142</td>\n",
       "      <td>-0.397878</td>\n",
       "      <td>-0.752201</td>\n",
       "      <td>...</td>\n",
       "      <td>-1.185030</td>\n",
       "      <td>-0.242768</td>\n",
       "      <td>-0.958054</td>\n",
       "      <td>-0.548833</td>\n",
       "      <td>-0.750321</td>\n",
       "      <td>0.418194</td>\n",
       "      <td>-0.662466</td>\n",
       "      <td>-0.178567</td>\n",
       "      <td>-0.293042</td>\n",
       "      <td>0.285554</td>\n",
       "    </tr>\n",
       "    <tr>\n",
       "      <th>1853</th>\n",
       "      <td>0.236649</td>\n",
       "      <td>-0.029823</td>\n",
       "      <td>0.357136</td>\n",
       "      <td>-0.525540</td>\n",
       "      <td>-0.494430</td>\n",
       "      <td>0.966632</td>\n",
       "      <td>2.203618</td>\n",
       "      <td>-0.685446</td>\n",
       "      <td>-0.452506</td>\n",
       "      <td>-0.857732</td>\n",
       "      <td>...</td>\n",
       "      <td>-1.304596</td>\n",
       "      <td>-0.383088</td>\n",
       "      <td>-1.157533</td>\n",
       "      <td>-0.520354</td>\n",
       "      <td>-1.056266</td>\n",
       "      <td>-0.166234</td>\n",
       "      <td>-0.606801</td>\n",
       "      <td>-0.104663</td>\n",
       "      <td>0.122595</td>\n",
       "      <td>-0.324721</td>\n",
       "    </tr>\n",
       "  </tbody>\n",
       "</table>\n",
       "<p>1854 rows × 1000 columns</p>\n",
       "</div>"
      ],
      "text/plain": [
       "          ANO1      CTTN      GAB2      TSKU     PEG10   TSPAN12     VSIG2  \\\n",
       "0    -0.850784 -0.067790 -0.373197  0.353471 -0.424534 -0.627105 -0.225790   \n",
       "1    -0.850784 -0.067790 -0.373197  0.353471 -0.424534 -0.627105 -0.225790   \n",
       "2    -0.903327 -0.984412 -0.434487 -0.533308 -0.510474 -0.649774 -0.417569   \n",
       "3    -0.903327 -0.984412 -0.434487 -0.533308 -0.510474 -0.649774 -0.417569   \n",
       "4    -0.749352 -0.266099 -0.379331  0.198941 -0.155934 -0.530950 -0.325875   \n",
       "...        ...       ...       ...       ...       ...       ...       ...   \n",
       "1849 -0.577276 -0.437856  0.104747 -0.360682 -0.397765 -0.035058 -0.335168   \n",
       "1850 -0.570485 -0.094027  0.898617 -0.496092  0.028231  1.127175 -0.327414   \n",
       "1851  0.932538  0.324994  0.465619 -0.448832 -0.404929  0.472066 -0.143123   \n",
       "1852  0.883997  0.204858  0.495980 -0.501540 -0.464307  0.829832  0.406161   \n",
       "1853  0.236649 -0.029823  0.357136 -0.525540 -0.494430  0.966632  2.203618   \n",
       "\n",
       "         INHBB       CLU    SCARA3  ...      DSG2     PGGHG     MYH14  \\\n",
       "0    -0.428333 -0.396251 -0.612892  ... -1.360506 -0.405373 -1.069204   \n",
       "1    -0.428333 -0.396251 -0.612892  ... -1.360506 -0.405373 -1.069204   \n",
       "2    -0.591520 -0.415010 -0.941964  ... -1.479773 -0.243668 -1.159843   \n",
       "3    -0.591520 -0.415010 -0.941964  ... -1.479773 -0.243668 -1.159843   \n",
       "4    -0.373839 -0.306217 -0.559285  ... -1.429917  0.136463 -1.169063   \n",
       "...        ...       ...       ...  ...       ...       ...       ...   \n",
       "1849  1.239598 -0.256468 -0.536369  ... -0.255819 -0.408291 -0.804534   \n",
       "1850 -0.614096 -0.469461 -0.811686  ... -0.921805 -0.416384 -1.094392   \n",
       "1851 -0.609882 -0.396159 -0.387849  ... -1.403157 -0.158240 -1.033908   \n",
       "1852 -0.664142 -0.397878 -0.752201  ... -1.185030 -0.242768 -0.958054   \n",
       "1853 -0.685446 -0.452506 -0.857732  ... -1.304596 -0.383088 -1.157533   \n",
       "\n",
       "         PTPRU   CEP170B     TRPM4      AGRN     LAMA5   SLC17A9    SMIM24  \n",
       "0    -0.642400 -0.293741 -0.317442  1.454789 -0.886521  2.645691  0.438836  \n",
       "1    -0.642400 -0.293741 -0.317442  1.454789 -0.886521  2.645691  0.438836  \n",
       "2    -1.038820 -1.792239  2.025728 -1.518411 -0.801080  4.244228 -0.274578  \n",
       "3    -1.038820 -1.792239  2.025728 -1.518411 -0.801080  4.244228 -0.274578  \n",
       "4    -0.786902 -0.390244 -0.130008  0.732697 -0.683839  0.121208 -0.107634  \n",
       "...        ...       ...       ...       ...       ...       ...       ...  \n",
       "1849 -0.238473  1.191062 -0.546254  1.930648  1.327399 -0.333002 -0.294545  \n",
       "1850 -0.957513 -1.642254 -0.618281 -1.266342 -1.116794  3.498732 -0.016055  \n",
       "1851 -0.291036  0.039150  1.579099  3.366505  1.233683  0.138862  0.015622  \n",
       "1852 -0.548833 -0.750321  0.418194 -0.662466 -0.178567 -0.293042  0.285554  \n",
       "1853 -0.520354 -1.056266 -0.166234 -0.606801 -0.104663  0.122595 -0.324721  \n",
       "\n",
       "[1854 rows x 1000 columns]"
      ]
     },
     "execution_count": 38,
     "metadata": {},
     "output_type": "execute_result"
    }
   ],
   "source": [
    "df"
   ]
  },
  {
   "cell_type": "markdown",
   "id": "5f828827-187d-4482-bd98-d31f1c1616ee",
   "metadata": {},
   "source": [
    "Check how the values within expression are distributed. It appears they have already had a zscale normalization"
   ]
  },
  {
   "cell_type": "code",
   "execution_count": 39,
   "id": "7903ba41-605f-400a-b61f-af7fbd02bd98",
   "metadata": {},
   "outputs": [
    {
     "data": {
      "text/html": [
       "<div>\n",
       "<style scoped>\n",
       "    .dataframe tbody tr th:only-of-type {\n",
       "        vertical-align: middle;\n",
       "    }\n",
       "\n",
       "    .dataframe tbody tr th {\n",
       "        vertical-align: top;\n",
       "    }\n",
       "\n",
       "    .dataframe thead th {\n",
       "        text-align: right;\n",
       "    }\n",
       "</style>\n",
       "<table border=\"1\" class=\"dataframe\">\n",
       "  <thead>\n",
       "    <tr style=\"text-align: right;\">\n",
       "      <th></th>\n",
       "      <th>ANO1</th>\n",
       "      <th>CTTN</th>\n",
       "      <th>GAB2</th>\n",
       "      <th>TSKU</th>\n",
       "      <th>PEG10</th>\n",
       "      <th>TSPAN12</th>\n",
       "      <th>VSIG2</th>\n",
       "      <th>INHBB</th>\n",
       "      <th>CLU</th>\n",
       "      <th>SCARA3</th>\n",
       "      <th>...</th>\n",
       "      <th>DSG2</th>\n",
       "      <th>PGGHG</th>\n",
       "      <th>MYH14</th>\n",
       "      <th>PTPRU</th>\n",
       "      <th>CEP170B</th>\n",
       "      <th>TRPM4</th>\n",
       "      <th>AGRN</th>\n",
       "      <th>LAMA5</th>\n",
       "      <th>SLC17A9</th>\n",
       "      <th>SMIM24</th>\n",
       "    </tr>\n",
       "  </thead>\n",
       "  <tbody>\n",
       "    <tr>\n",
       "      <th>count</th>\n",
       "      <td>1854.000000</td>\n",
       "      <td>1854.000000</td>\n",
       "      <td>1854.000000</td>\n",
       "      <td>1854.000000</td>\n",
       "      <td>1854.000000</td>\n",
       "      <td>1854.000000</td>\n",
       "      <td>1854.000000</td>\n",
       "      <td>1854.000000</td>\n",
       "      <td>1854.000000</td>\n",
       "      <td>1854.000000</td>\n",
       "      <td>...</td>\n",
       "      <td>1854.000000</td>\n",
       "      <td>1854.000000</td>\n",
       "      <td>1854.000000</td>\n",
       "      <td>1854.000000</td>\n",
       "      <td>1854.000000</td>\n",
       "      <td>1854.000000</td>\n",
       "      <td>1854.000000</td>\n",
       "      <td>1854.000000</td>\n",
       "      <td>1854.000000</td>\n",
       "      <td>1854.000000</td>\n",
       "    </tr>\n",
       "    <tr>\n",
       "      <th>mean</th>\n",
       "      <td>-0.042017</td>\n",
       "      <td>-0.031159</td>\n",
       "      <td>-0.002537</td>\n",
       "      <td>0.035314</td>\n",
       "      <td>0.015311</td>\n",
       "      <td>0.015453</td>\n",
       "      <td>0.003831</td>\n",
       "      <td>0.042372</td>\n",
       "      <td>0.023642</td>\n",
       "      <td>0.041370</td>\n",
       "      <td>...</td>\n",
       "      <td>0.006282</td>\n",
       "      <td>-0.038562</td>\n",
       "      <td>-0.025868</td>\n",
       "      <td>-0.004840</td>\n",
       "      <td>-0.077585</td>\n",
       "      <td>-0.083749</td>\n",
       "      <td>0.000017</td>\n",
       "      <td>-0.028731</td>\n",
       "      <td>-0.016722</td>\n",
       "      <td>-0.015515</td>\n",
       "    </tr>\n",
       "    <tr>\n",
       "      <th>std</th>\n",
       "      <td>0.946605</td>\n",
       "      <td>0.995601</td>\n",
       "      <td>1.027498</td>\n",
       "      <td>1.030280</td>\n",
       "      <td>1.018445</td>\n",
       "      <td>1.028501</td>\n",
       "      <td>1.028194</td>\n",
       "      <td>1.025184</td>\n",
       "      <td>1.034444</td>\n",
       "      <td>1.023584</td>\n",
       "      <td>...</td>\n",
       "      <td>1.015433</td>\n",
       "      <td>0.930549</td>\n",
       "      <td>0.971065</td>\n",
       "      <td>1.014431</td>\n",
       "      <td>0.935817</td>\n",
       "      <td>0.887914</td>\n",
       "      <td>1.006107</td>\n",
       "      <td>0.998272</td>\n",
       "      <td>1.012380</td>\n",
       "      <td>0.993762</td>\n",
       "    </tr>\n",
       "    <tr>\n",
       "      <th>min</th>\n",
       "      <td>-0.907599</td>\n",
       "      <td>-0.984412</td>\n",
       "      <td>-0.590751</td>\n",
       "      <td>-0.567719</td>\n",
       "      <td>-0.512177</td>\n",
       "      <td>-0.717005</td>\n",
       "      <td>-0.449186</td>\n",
       "      <td>-0.702381</td>\n",
       "      <td>-0.478979</td>\n",
       "      <td>-1.011691</td>\n",
       "      <td>...</td>\n",
       "      <td>-1.497170</td>\n",
       "      <td>-0.613398</td>\n",
       "      <td>-1.183664</td>\n",
       "      <td>-1.065260</td>\n",
       "      <td>-1.855873</td>\n",
       "      <td>-1.235358</td>\n",
       "      <td>-1.546819</td>\n",
       "      <td>-1.222995</td>\n",
       "      <td>-0.644641</td>\n",
       "      <td>-0.324721</td>\n",
       "    </tr>\n",
       "    <tr>\n",
       "      <th>25%</th>\n",
       "      <td>-0.587943</td>\n",
       "      <td>-0.459994</td>\n",
       "      <td>-0.351897</td>\n",
       "      <td>-0.364749</td>\n",
       "      <td>-0.491793</td>\n",
       "      <td>-0.466247</td>\n",
       "      <td>-0.416510</td>\n",
       "      <td>-0.478546</td>\n",
       "      <td>-0.334958</td>\n",
       "      <td>-0.580430</td>\n",
       "      <td>...</td>\n",
       "      <td>-0.614631</td>\n",
       "      <td>-0.514711</td>\n",
       "      <td>-0.608853</td>\n",
       "      <td>-0.629637</td>\n",
       "      <td>-0.688554</td>\n",
       "      <td>-0.630372</td>\n",
       "      <td>-0.691374</td>\n",
       "      <td>-0.605792</td>\n",
       "      <td>-0.490890</td>\n",
       "      <td>-0.253259</td>\n",
       "    </tr>\n",
       "    <tr>\n",
       "      <th>50%</th>\n",
       "      <td>-0.305595</td>\n",
       "      <td>-0.295415</td>\n",
       "      <td>-0.215921</td>\n",
       "      <td>-0.230250</td>\n",
       "      <td>-0.400690</td>\n",
       "      <td>-0.278502</td>\n",
       "      <td>-0.337263</td>\n",
       "      <td>-0.199083</td>\n",
       "      <td>-0.193071</td>\n",
       "      <td>-0.264849</td>\n",
       "      <td>...</td>\n",
       "      <td>-0.216286</td>\n",
       "      <td>-0.382874</td>\n",
       "      <td>-0.233680</td>\n",
       "      <td>-0.314676</td>\n",
       "      <td>-0.240961</td>\n",
       "      <td>-0.289620</td>\n",
       "      <td>-0.202239</td>\n",
       "      <td>-0.242559</td>\n",
       "      <td>-0.342845</td>\n",
       "      <td>-0.174742</td>\n",
       "    </tr>\n",
       "    <tr>\n",
       "      <th>75%</th>\n",
       "      <td>0.138393</td>\n",
       "      <td>-0.037386</td>\n",
       "      <td>-0.000003</td>\n",
       "      <td>0.032448</td>\n",
       "      <td>0.032737</td>\n",
       "      <td>0.068806</td>\n",
       "      <td>-0.087156</td>\n",
       "      <td>0.240975</td>\n",
       "      <td>0.087120</td>\n",
       "      <td>0.319227</td>\n",
       "      <td>...</td>\n",
       "      <td>0.361930</td>\n",
       "      <td>-0.011131</td>\n",
       "      <td>0.299686</td>\n",
       "      <td>0.258888</td>\n",
       "      <td>0.328498</td>\n",
       "      <td>0.218534</td>\n",
       "      <td>0.403774</td>\n",
       "      <td>0.271820</td>\n",
       "      <td>0.001558</td>\n",
       "      <td>-0.032232</td>\n",
       "    </tr>\n",
       "    <tr>\n",
       "      <th>max</th>\n",
       "      <td>9.833553</td>\n",
       "      <td>10.155726</td>\n",
       "      <td>18.408778</td>\n",
       "      <td>13.079163</td>\n",
       "      <td>7.136821</td>\n",
       "      <td>12.479516</td>\n",
       "      <td>8.994755</td>\n",
       "      <td>19.363065</td>\n",
       "      <td>25.873620</td>\n",
       "      <td>9.439862</td>\n",
       "      <td>...</td>\n",
       "      <td>6.738533</td>\n",
       "      <td>10.197265</td>\n",
       "      <td>12.509559</td>\n",
       "      <td>7.723142</td>\n",
       "      <td>7.667126</td>\n",
       "      <td>12.393779</td>\n",
       "      <td>5.619156</td>\n",
       "      <td>11.469196</td>\n",
       "      <td>10.522581</td>\n",
       "      <td>25.593419</td>\n",
       "    </tr>\n",
       "  </tbody>\n",
       "</table>\n",
       "<p>8 rows × 1000 columns</p>\n",
       "</div>"
      ],
      "text/plain": [
       "              ANO1         CTTN         GAB2         TSKU        PEG10  \\\n",
       "count  1854.000000  1854.000000  1854.000000  1854.000000  1854.000000   \n",
       "mean     -0.042017    -0.031159    -0.002537     0.035314     0.015311   \n",
       "std       0.946605     0.995601     1.027498     1.030280     1.018445   \n",
       "min      -0.907599    -0.984412    -0.590751    -0.567719    -0.512177   \n",
       "25%      -0.587943    -0.459994    -0.351897    -0.364749    -0.491793   \n",
       "50%      -0.305595    -0.295415    -0.215921    -0.230250    -0.400690   \n",
       "75%       0.138393    -0.037386    -0.000003     0.032448     0.032737   \n",
       "max       9.833553    10.155726    18.408778    13.079163     7.136821   \n",
       "\n",
       "           TSPAN12        VSIG2        INHBB          CLU       SCARA3  ...  \\\n",
       "count  1854.000000  1854.000000  1854.000000  1854.000000  1854.000000  ...   \n",
       "mean      0.015453     0.003831     0.042372     0.023642     0.041370  ...   \n",
       "std       1.028501     1.028194     1.025184     1.034444     1.023584  ...   \n",
       "min      -0.717005    -0.449186    -0.702381    -0.478979    -1.011691  ...   \n",
       "25%      -0.466247    -0.416510    -0.478546    -0.334958    -0.580430  ...   \n",
       "50%      -0.278502    -0.337263    -0.199083    -0.193071    -0.264849  ...   \n",
       "75%       0.068806    -0.087156     0.240975     0.087120     0.319227  ...   \n",
       "max      12.479516     8.994755    19.363065    25.873620     9.439862  ...   \n",
       "\n",
       "              DSG2        PGGHG        MYH14        PTPRU      CEP170B  \\\n",
       "count  1854.000000  1854.000000  1854.000000  1854.000000  1854.000000   \n",
       "mean      0.006282    -0.038562    -0.025868    -0.004840    -0.077585   \n",
       "std       1.015433     0.930549     0.971065     1.014431     0.935817   \n",
       "min      -1.497170    -0.613398    -1.183664    -1.065260    -1.855873   \n",
       "25%      -0.614631    -0.514711    -0.608853    -0.629637    -0.688554   \n",
       "50%      -0.216286    -0.382874    -0.233680    -0.314676    -0.240961   \n",
       "75%       0.361930    -0.011131     0.299686     0.258888     0.328498   \n",
       "max       6.738533    10.197265    12.509559     7.723142     7.667126   \n",
       "\n",
       "             TRPM4         AGRN        LAMA5      SLC17A9       SMIM24  \n",
       "count  1854.000000  1854.000000  1854.000000  1854.000000  1854.000000  \n",
       "mean     -0.083749     0.000017    -0.028731    -0.016722    -0.015515  \n",
       "std       0.887914     1.006107     0.998272     1.012380     0.993762  \n",
       "min      -1.235358    -1.546819    -1.222995    -0.644641    -0.324721  \n",
       "25%      -0.630372    -0.691374    -0.605792    -0.490890    -0.253259  \n",
       "50%      -0.289620    -0.202239    -0.242559    -0.342845    -0.174742  \n",
       "75%       0.218534     0.403774     0.271820     0.001558    -0.032232  \n",
       "max      12.393779     5.619156    11.469196    10.522581    25.593419  \n",
       "\n",
       "[8 rows x 1000 columns]"
      ]
     },
     "execution_count": 39,
     "metadata": {},
     "output_type": "execute_result"
    }
   ],
   "source": [
    "df.describe()"
   ]
  },
  {
   "cell_type": "code",
   "execution_count": 65,
   "id": "64f254a7-3313-49c5-81f0-5119dd28ed86",
   "metadata": {},
   "outputs": [],
   "source": [
    "# # Step 4: Concatenate all three DataFrames (columns) into a single dataset\n",
    "# #combined_df = pd.concat([filtered_geneClinical2.iloc[:, 0], lowest_columns_df, closest_columns_df, highest_columns_df, filtered_geneClinical2.iloc[:, 1001:]], axis=1)\n",
    "# combined_df = pd.concat([filtered_geneClinical2.iloc[:, 0], lowest_columns_df, closest_columns_df, highest_columns_df], axis=1)\n",
    "\n",
    "# combined_df = combined_df.iloc[1:100, :]\n",
    "# # Check the combined dataset\n",
    "# print(\"Combined Dataset:\")\n",
    "# print(combined_df.head())\n"
   ]
  },
  {
   "cell_type": "code",
   "execution_count": 66,
   "id": "1b6ad748-815d-44bd-90ce-607d3df16615",
   "metadata": {},
   "outputs": [],
   "source": [
    "# reshaped_df = combined_df.melt(id_vars=['Case'], var_name='Gene', value_name='Expression')"
   ]
  },
  {
   "cell_type": "code",
   "execution_count": 67,
   "id": "2287487b-8be9-40c7-a31f-39f3db8b7d6d",
   "metadata": {},
   "outputs": [],
   "source": [
    "# reshaped_dfNoDup = reshaped_df.drop_duplicates()"
   ]
  },
  {
   "cell_type": "code",
   "execution_count": 68,
   "id": "1adc6198-4c31-4ad2-8e69-8f4508a40dfa",
   "metadata": {},
   "outputs": [],
   "source": [
    "# a = x[x['Case'] == 'TCGA-AN-A0FL']\n",
    "# a[a['Gene'] == \"GMPR\"]"
   ]
  },
  {
   "cell_type": "code",
   "execution_count": 69,
   "id": "374107f3-3579-4b8d-a255-e9dfe485124d",
   "metadata": {},
   "outputs": [],
   "source": [
    "# reshaped_dfNoDup.to_csv('gene.csv')\n"
   ]
  },
  {
   "cell_type": "code",
   "execution_count": 70,
   "id": "bb4c319b-1c4e-4494-94f8-f0176a3e38ae",
   "metadata": {},
   "outputs": [],
   "source": [
    "## Output to csv to plot in Tableau"
   ]
  },
  {
   "cell_type": "code",
   "execution_count": 71,
   "id": "a093a469-73e9-40b1-9769-81dc9e1ff382",
   "metadata": {},
   "outputs": [],
   "source": [
    "# filtered_geneClinical2.to_csv('nciClean.csv')"
   ]
  },
  {
   "cell_type": "code",
   "execution_count": 72,
   "id": "d160f6e2-df51-4de3-ad38-cf843dc02691",
   "metadata": {},
   "outputs": [],
   "source": [
    "# geneColumns = geneClinical.iloc[:, 0:51]"
   ]
  },
  {
   "cell_type": "code",
   "execution_count": 73,
   "id": "011efcec-2c4c-4463-9bbe-803324dfebf7",
   "metadata": {},
   "outputs": [],
   "source": [
    "# geneColumns.drop_duplicates()\n",
    "# # geneColumns.head()\n",
    "# geneColumns.set_index(geneColumns.columns[0], inplace=True)"
   ]
  },
  {
   "cell_type": "code",
   "execution_count": 74,
   "id": "054879e0-ec6c-479c-885b-5d90ec29625e",
   "metadata": {},
   "outputs": [],
   "source": [
    "# # Create the heatmap\n",
    "# plt.figure(figsize=(10, 8))\n",
    "# sns.heatmap(geneColumns, annot=True, fmt=\".2f\", cmap='coolwarm', cbar=True)\n",
    "# plt.title(\"Heatmap Example\")\n",
    "# plt.show()"
   ]
  },
  {
   "cell_type": "markdown",
   "id": "9258ab7e-b714-432f-a5fb-3f4cc4721d16",
   "metadata": {},
   "source": [
    "Concatenate 30 genes with clinical data. Reduce down to 100 samples"
   ]
  },
  {
   "cell_type": "code",
   "execution_count": 40,
   "id": "956e177d-d9ea-461a-aad9-b2e705b71f5c",
   "metadata": {},
   "outputs": [
    {
     "name": "stdout",
     "output_type": "stream",
     "text": [
      "Combined Dataset:\n",
      "           Case      ANO1      CTTN      GAB2      TSKU     PEG10   TSPAN12  \\\n",
      "1  TCGA-AC-A2QJ -0.850784 -0.067790 -0.373197  0.353471 -0.424534 -0.627105   \n",
      "2  TCGA-FA-A7DS -0.903327 -0.984412 -0.434487 -0.533308 -0.510474 -0.649774   \n",
      "3  TCGA-FA-A7DS -0.903327 -0.984412 -0.434487 -0.533308 -0.510474 -0.649774   \n",
      "4  TCGA-A2-A4S1 -0.749352 -0.266099 -0.379331  0.198941 -0.155934 -0.530950   \n",
      "5  TCGA-A2-A4S1 -0.749352 -0.266099 -0.379331  0.198941 -0.155934 -0.530950   \n",
      "\n",
      "      VSIG2     INHBB       CLU  ...  prior_malignancy  prior_treatment  \\\n",
      "1 -0.225790 -0.428333 -0.396251  ...                no               No   \n",
      "2 -0.417569 -0.591520 -0.415010  ...                no               No   \n",
      "3 -0.417569 -0.591520 -0.415010  ...                no               No   \n",
      "4 -0.325875 -0.373839 -0.306217  ...                no               No   \n",
      "5 -0.325875 -0.373839 -0.306217  ...                no               No   \n",
      "\n",
      "   progression_or_recurrence  site_of_resection_or_biopsy  \\\n",
      "1               not reported                  Breast, NOS   \n",
      "2               not reported                  Breast, NOS   \n",
      "3               not reported                  Breast, NOS   \n",
      "4               not reported                  Breast, NOS   \n",
      "5               not reported                  Breast, NOS   \n",
      "\n",
      "   synchronous_malignancy  tissue_or_organ_of_origin   tumor_grade  \\\n",
      "1                      No                Breast, NOS  Not Reported   \n",
      "2                      No                Breast, NOS  Not Reported   \n",
      "3                      No                Breast, NOS  Not Reported   \n",
      "4                      No                Breast, NOS  Not Reported   \n",
      "5                      No                Breast, NOS  Not Reported   \n",
      "\n",
      "   year_of_diagnosis  treatment_or_therapy               treatment_type  \n",
      "1               2011                   yes  Pharmaceutical Therapy, NOS  \n",
      "2               2013                    no       Radiation Therapy, NOS  \n",
      "3               2013                   yes  Pharmaceutical Therapy, NOS  \n",
      "4               2012                   yes       Radiation Therapy, NOS  \n",
      "5               2012                    no  Pharmaceutical Therapy, NOS  \n",
      "\n",
      "[5 rows x 63 columns]\n"
     ]
    }
   ],
   "source": [
    "combined_df = pd.concat([filtered_geneClinical2.iloc[:, 0:31], filtered_geneClinical2.iloc[:, 1002:]], axis=1)\n",
    "\n",
    "#reduce to 100 samples\n",
    "combined_df = combined_df.iloc[1:100, :]\n",
    "# Check the combined dataset\n",
    "print(\"Combined Dataset:\")\n",
    "print(combined_df.head())\n"
   ]
  },
  {
   "cell_type": "code",
   "execution_count": 41,
   "id": "f41b20b4-d110-4e22-8020-f27d7a1b369f",
   "metadata": {},
   "outputs": [
    {
     "data": {
      "text/plain": [
       "Index(['Case', 'ANO1', 'CTTN', 'GAB2', 'TSKU', 'PEG10', 'TSPAN12', 'VSIG2',\n",
       "       'INHBB', 'CLU', 'SCARA3', 'ACKR3', 'SERPINF2', 'ERBB2', 'GRB7', 'ABCC3',\n",
       "       'ITGA3', 'F2RL1', 'TMEM45B', 'GATM', 'HOXB7', 'PRR15L', 'APOC1', 'UCP2',\n",
       "       'DUSP10', 'MGST1', 'AQP3', 'RAMP3', 'CA2', 'SERPINA1', 'H2AW',\n",
       "       'case_submitter_id', 'project_id', 'age_at_index', 'days_to_birth',\n",
       "       'ethnicity', 'gender', 'race', 'vital_status', 'year_of_birth',\n",
       "       'age_at_diagnosis', 'ajcc_pathologic_m', 'ajcc_pathologic_n',\n",
       "       'ajcc_pathologic_stage', 'ajcc_pathologic_t',\n",
       "       'ajcc_staging_system_edition', 'classification_of_tumor',\n",
       "       'days_to_diagnosis', 'days_to_last_follow_up', 'icd_10_code',\n",
       "       'last_known_disease_status', 'morphology', 'primary_diagnosis',\n",
       "       'prior_malignancy', 'prior_treatment', 'progression_or_recurrence',\n",
       "       'site_of_resection_or_biopsy', 'synchronous_malignancy',\n",
       "       'tissue_or_organ_of_origin', 'tumor_grade', 'year_of_diagnosis',\n",
       "       'treatment_or_therapy', 'treatment_type'],\n",
       "      dtype='object')"
      ]
     },
     "execution_count": 41,
     "metadata": {},
     "output_type": "execute_result"
    }
   ],
   "source": [
    "combined_df.columns"
   ]
  },
  {
   "cell_type": "code",
   "execution_count": 42,
   "id": "d6cb78c6-e2c1-4eb0-bc05-f8ebb4bf4742",
   "metadata": {},
   "outputs": [
    {
     "name": "stdout",
     "output_type": "stream",
     "text": [
      "           Case case_submitter_id project_id age_at_index days_to_birth  \\\n",
      "0  TCGA-AC-A2QJ      TCGA-AC-A2QJ  TCGA-BRCA           48        -17569   \n",
      "1  TCGA-FA-A7DS      TCGA-FA-A7DS  TCGA-DLBC           54        -20087   \n",
      "2  TCGA-FA-A7DS      TCGA-FA-A7DS  TCGA-DLBC           54        -20087   \n",
      "3  TCGA-A2-A4S1      TCGA-A2-A4S1  TCGA-BRCA           66        -24353   \n",
      "4  TCGA-A2-A4S1      TCGA-A2-A4S1  TCGA-BRCA           66        -24353   \n",
      "\n",
      "                ethnicity  gender   race vital_status year_of_birth  ...  \\\n",
      "0      hispanic or latino  female  white         Dead          1963  ...   \n",
      "1  not hispanic or latino  female  asian        Alive          1959  ...   \n",
      "2  not hispanic or latino  female  asian        Alive          1959  ...   \n",
      "3  not hispanic or latino  female  white        Alive          1946  ...   \n",
      "4  not hispanic or latino  female  white        Alive          1946  ...   \n",
      "\n",
      "  progression_or_recurrence site_of_resection_or_biopsy  \\\n",
      "0              not reported                 Breast, NOS   \n",
      "1              not reported                 Breast, NOS   \n",
      "2              not reported                 Breast, NOS   \n",
      "3              not reported                 Breast, NOS   \n",
      "4              not reported                 Breast, NOS   \n",
      "\n",
      "  synchronous_malignancy tissue_or_organ_of_origin   tumor_grade  \\\n",
      "0                     No               Breast, NOS  Not Reported   \n",
      "1                     No               Breast, NOS  Not Reported   \n",
      "2                     No               Breast, NOS  Not Reported   \n",
      "3                     No               Breast, NOS  Not Reported   \n",
      "4                     No               Breast, NOS  Not Reported   \n",
      "\n",
      "  year_of_diagnosis treatment_or_therapy               treatment_type  Gene  \\\n",
      "0              2011                  yes  Pharmaceutical Therapy, NOS  ANO1   \n",
      "1              2013                   no       Radiation Therapy, NOS  ANO1   \n",
      "2              2013                  yes  Pharmaceutical Therapy, NOS  ANO1   \n",
      "3              2012                  yes       Radiation Therapy, NOS  ANO1   \n",
      "4              2012                   no  Pharmaceutical Therapy, NOS  ANO1   \n",
      "\n",
      "  Expression  \n",
      "0  -0.850784  \n",
      "1  -0.903327  \n",
      "2  -0.903327  \n",
      "3  -0.749352  \n",
      "4  -0.749352  \n",
      "\n",
      "[5 rows x 35 columns]\n"
     ]
    }
   ],
   "source": [
    "# List of all columns except the gene expression columns\n",
    "id_vars = [\n",
    "    'Case', 'case_submitter_id', 'project_id', 'age_at_index', 'days_to_birth', 'ethnicity', \n",
    "    'gender', 'race', 'vital_status', 'year_of_birth', 'age_at_diagnosis', 'ajcc_pathologic_m',\n",
    "    'ajcc_pathologic_n', 'ajcc_pathologic_stage', 'ajcc_pathologic_t', 'ajcc_staging_system_edition',\n",
    "    'classification_of_tumor', 'days_to_diagnosis', 'days_to_last_follow_up', 'icd_10_code',\n",
    "    'last_known_disease_status', 'morphology', 'primary_diagnosis', 'prior_malignancy', 'prior_treatment',\n",
    "    'progression_or_recurrence', 'site_of_resection_or_biopsy', 'synchronous_malignancy', \n",
    "    'tissue_or_organ_of_origin', 'tumor_grade', 'year_of_diagnosis', 'treatment_or_therapy', 'treatment_type'\n",
    "]\n",
    "\n",
    "# Use melt to reshape the DataFrame\n",
    "reshaped_df = combined_df.melt(id_vars=id_vars, var_name='Gene', value_name='Expression')\n",
    "\n",
    "# Check the reshaped DataFrame\n",
    "print(reshaped_df.head())\n"
   ]
  },
  {
   "cell_type": "code",
   "execution_count": 43,
   "id": "081a7379-fe0f-49b6-8a22-e5042c39827e",
   "metadata": {},
   "outputs": [],
   "source": [
    "reshaped_df_drop = reshaped_df.drop(columns='case_submitter_id')"
   ]
  },
  {
   "cell_type": "code",
   "execution_count": 44,
   "id": "50f32ad7-de72-4f62-9ee0-ff59228c1d59",
   "metadata": {},
   "outputs": [
    {
     "data": {
      "text/plain": [
       "0"
      ]
     },
     "execution_count": 44,
     "metadata": {},
     "output_type": "execute_result"
    }
   ],
   "source": [
    "reshaped_df_drop.duplicated().sum()"
   ]
  },
  {
   "cell_type": "code",
   "execution_count": 81,
   "id": "67badb08-28db-448f-928f-1d839cffad42",
   "metadata": {},
   "outputs": [],
   "source": [
    "#reshaped_df_drop.to_csv(\"geneClinicalClean.csv\")"
   ]
  },
  {
   "cell_type": "code",
   "execution_count": 45,
   "id": "39ef2c48",
   "metadata": {},
   "outputs": [
    {
     "data": {
      "text/html": [
       "<div>\n",
       "<style scoped>\n",
       "    .dataframe tbody tr th:only-of-type {\n",
       "        vertical-align: middle;\n",
       "    }\n",
       "\n",
       "    .dataframe tbody tr th {\n",
       "        vertical-align: top;\n",
       "    }\n",
       "\n",
       "    .dataframe thead th {\n",
       "        text-align: right;\n",
       "    }\n",
       "</style>\n",
       "<table border=\"1\" class=\"dataframe\">\n",
       "  <thead>\n",
       "    <tr style=\"text-align: right;\">\n",
       "      <th></th>\n",
       "      <th>Case</th>\n",
       "      <th>case_submitter_id</th>\n",
       "      <th>project_id</th>\n",
       "      <th>age_at_index</th>\n",
       "      <th>days_to_birth</th>\n",
       "      <th>ethnicity</th>\n",
       "      <th>gender</th>\n",
       "      <th>race</th>\n",
       "      <th>vital_status</th>\n",
       "      <th>year_of_birth</th>\n",
       "      <th>...</th>\n",
       "      <th>progression_or_recurrence</th>\n",
       "      <th>site_of_resection_or_biopsy</th>\n",
       "      <th>synchronous_malignancy</th>\n",
       "      <th>tissue_or_organ_of_origin</th>\n",
       "      <th>tumor_grade</th>\n",
       "      <th>year_of_diagnosis</th>\n",
       "      <th>treatment_or_therapy</th>\n",
       "      <th>treatment_type</th>\n",
       "      <th>Gene</th>\n",
       "      <th>Expression</th>\n",
       "    </tr>\n",
       "  </thead>\n",
       "  <tbody>\n",
       "    <tr>\n",
       "      <th>0</th>\n",
       "      <td>TCGA-AC-A2QJ</td>\n",
       "      <td>TCGA-AC-A2QJ</td>\n",
       "      <td>TCGA-BRCA</td>\n",
       "      <td>48</td>\n",
       "      <td>-17569</td>\n",
       "      <td>hispanic or latino</td>\n",
       "      <td>female</td>\n",
       "      <td>white</td>\n",
       "      <td>Dead</td>\n",
       "      <td>1963</td>\n",
       "      <td>...</td>\n",
       "      <td>not reported</td>\n",
       "      <td>Breast, NOS</td>\n",
       "      <td>No</td>\n",
       "      <td>Breast, NOS</td>\n",
       "      <td>Not Reported</td>\n",
       "      <td>2011</td>\n",
       "      <td>yes</td>\n",
       "      <td>Pharmaceutical Therapy, NOS</td>\n",
       "      <td>ANO1</td>\n",
       "      <td>-0.850784</td>\n",
       "    </tr>\n",
       "    <tr>\n",
       "      <th>1</th>\n",
       "      <td>TCGA-FA-A7DS</td>\n",
       "      <td>TCGA-FA-A7DS</td>\n",
       "      <td>TCGA-DLBC</td>\n",
       "      <td>54</td>\n",
       "      <td>-20087</td>\n",
       "      <td>not hispanic or latino</td>\n",
       "      <td>female</td>\n",
       "      <td>asian</td>\n",
       "      <td>Alive</td>\n",
       "      <td>1959</td>\n",
       "      <td>...</td>\n",
       "      <td>not reported</td>\n",
       "      <td>Breast, NOS</td>\n",
       "      <td>No</td>\n",
       "      <td>Breast, NOS</td>\n",
       "      <td>Not Reported</td>\n",
       "      <td>2013</td>\n",
       "      <td>no</td>\n",
       "      <td>Radiation Therapy, NOS</td>\n",
       "      <td>ANO1</td>\n",
       "      <td>-0.903327</td>\n",
       "    </tr>\n",
       "    <tr>\n",
       "      <th>2</th>\n",
       "      <td>TCGA-FA-A7DS</td>\n",
       "      <td>TCGA-FA-A7DS</td>\n",
       "      <td>TCGA-DLBC</td>\n",
       "      <td>54</td>\n",
       "      <td>-20087</td>\n",
       "      <td>not hispanic or latino</td>\n",
       "      <td>female</td>\n",
       "      <td>asian</td>\n",
       "      <td>Alive</td>\n",
       "      <td>1959</td>\n",
       "      <td>...</td>\n",
       "      <td>not reported</td>\n",
       "      <td>Breast, NOS</td>\n",
       "      <td>No</td>\n",
       "      <td>Breast, NOS</td>\n",
       "      <td>Not Reported</td>\n",
       "      <td>2013</td>\n",
       "      <td>yes</td>\n",
       "      <td>Pharmaceutical Therapy, NOS</td>\n",
       "      <td>ANO1</td>\n",
       "      <td>-0.903327</td>\n",
       "    </tr>\n",
       "    <tr>\n",
       "      <th>3</th>\n",
       "      <td>TCGA-A2-A4S1</td>\n",
       "      <td>TCGA-A2-A4S1</td>\n",
       "      <td>TCGA-BRCA</td>\n",
       "      <td>66</td>\n",
       "      <td>-24353</td>\n",
       "      <td>not hispanic or latino</td>\n",
       "      <td>female</td>\n",
       "      <td>white</td>\n",
       "      <td>Alive</td>\n",
       "      <td>1946</td>\n",
       "      <td>...</td>\n",
       "      <td>not reported</td>\n",
       "      <td>Breast, NOS</td>\n",
       "      <td>No</td>\n",
       "      <td>Breast, NOS</td>\n",
       "      <td>Not Reported</td>\n",
       "      <td>2012</td>\n",
       "      <td>yes</td>\n",
       "      <td>Radiation Therapy, NOS</td>\n",
       "      <td>ANO1</td>\n",
       "      <td>-0.749352</td>\n",
       "    </tr>\n",
       "    <tr>\n",
       "      <th>4</th>\n",
       "      <td>TCGA-A2-A4S1</td>\n",
       "      <td>TCGA-A2-A4S1</td>\n",
       "      <td>TCGA-BRCA</td>\n",
       "      <td>66</td>\n",
       "      <td>-24353</td>\n",
       "      <td>not hispanic or latino</td>\n",
       "      <td>female</td>\n",
       "      <td>white</td>\n",
       "      <td>Alive</td>\n",
       "      <td>1946</td>\n",
       "      <td>...</td>\n",
       "      <td>not reported</td>\n",
       "      <td>Breast, NOS</td>\n",
       "      <td>No</td>\n",
       "      <td>Breast, NOS</td>\n",
       "      <td>Not Reported</td>\n",
       "      <td>2012</td>\n",
       "      <td>no</td>\n",
       "      <td>Pharmaceutical Therapy, NOS</td>\n",
       "      <td>ANO1</td>\n",
       "      <td>-0.749352</td>\n",
       "    </tr>\n",
       "    <tr>\n",
       "      <th>...</th>\n",
       "      <td>...</td>\n",
       "      <td>...</td>\n",
       "      <td>...</td>\n",
       "      <td>...</td>\n",
       "      <td>...</td>\n",
       "      <td>...</td>\n",
       "      <td>...</td>\n",
       "      <td>...</td>\n",
       "      <td>...</td>\n",
       "      <td>...</td>\n",
       "      <td>...</td>\n",
       "      <td>...</td>\n",
       "      <td>...</td>\n",
       "      <td>...</td>\n",
       "      <td>...</td>\n",
       "      <td>...</td>\n",
       "      <td>...</td>\n",
       "      <td>...</td>\n",
       "      <td>...</td>\n",
       "      <td>...</td>\n",
       "      <td>...</td>\n",
       "    </tr>\n",
       "    <tr>\n",
       "      <th>2965</th>\n",
       "      <td>TCGA-EW-A1P1</td>\n",
       "      <td>TCGA-EW-A1P1</td>\n",
       "      <td>TCGA-BRCA</td>\n",
       "      <td>68</td>\n",
       "      <td>-24923</td>\n",
       "      <td>hispanic or latino</td>\n",
       "      <td>female</td>\n",
       "      <td>white</td>\n",
       "      <td>Alive</td>\n",
       "      <td>1940</td>\n",
       "      <td>...</td>\n",
       "      <td>not reported</td>\n",
       "      <td>Breast, NOS</td>\n",
       "      <td>No</td>\n",
       "      <td>Breast, NOS</td>\n",
       "      <td>Not Reported</td>\n",
       "      <td>2008</td>\n",
       "      <td>yes</td>\n",
       "      <td>Pharmaceutical Therapy, NOS</td>\n",
       "      <td>H2AW</td>\n",
       "      <td>-0.120367</td>\n",
       "    </tr>\n",
       "    <tr>\n",
       "      <th>2966</th>\n",
       "      <td>TCGA-A2-A0CO</td>\n",
       "      <td>TCGA-A2-A0CO</td>\n",
       "      <td>TCGA-BRCA</td>\n",
       "      <td>85</td>\n",
       "      <td>-31404</td>\n",
       "      <td>not hispanic or latino</td>\n",
       "      <td>female</td>\n",
       "      <td>white</td>\n",
       "      <td>Dead</td>\n",
       "      <td>1917</td>\n",
       "      <td>...</td>\n",
       "      <td>not reported</td>\n",
       "      <td>Breast, NOS</td>\n",
       "      <td>No</td>\n",
       "      <td>Breast, NOS</td>\n",
       "      <td>Not Reported</td>\n",
       "      <td>2002</td>\n",
       "      <td>yes</td>\n",
       "      <td>Pharmaceutical Therapy, NOS</td>\n",
       "      <td>H2AW</td>\n",
       "      <td>-0.021195</td>\n",
       "    </tr>\n",
       "    <tr>\n",
       "      <th>2967</th>\n",
       "      <td>TCGA-A2-A0CO</td>\n",
       "      <td>TCGA-A2-A0CO</td>\n",
       "      <td>TCGA-BRCA</td>\n",
       "      <td>85</td>\n",
       "      <td>-31404</td>\n",
       "      <td>not hispanic or latino</td>\n",
       "      <td>female</td>\n",
       "      <td>white</td>\n",
       "      <td>Dead</td>\n",
       "      <td>1917</td>\n",
       "      <td>...</td>\n",
       "      <td>not reported</td>\n",
       "      <td>Breast, NOS</td>\n",
       "      <td>No</td>\n",
       "      <td>Breast, NOS</td>\n",
       "      <td>Not Reported</td>\n",
       "      <td>2002</td>\n",
       "      <td>yes</td>\n",
       "      <td>Radiation Therapy, NOS</td>\n",
       "      <td>H2AW</td>\n",
       "      <td>-0.021195</td>\n",
       "    </tr>\n",
       "    <tr>\n",
       "      <th>2968</th>\n",
       "      <td>TCGA-AR-A2LN</td>\n",
       "      <td>TCGA-AR-A2LN</td>\n",
       "      <td>TCGA-BRCA</td>\n",
       "      <td>65</td>\n",
       "      <td>-23992</td>\n",
       "      <td>not hispanic or latino</td>\n",
       "      <td>female</td>\n",
       "      <td>white</td>\n",
       "      <td>Alive</td>\n",
       "      <td>1945</td>\n",
       "      <td>...</td>\n",
       "      <td>not reported</td>\n",
       "      <td>Breast, NOS</td>\n",
       "      <td>No</td>\n",
       "      <td>Breast, NOS</td>\n",
       "      <td>Not Reported</td>\n",
       "      <td>2010</td>\n",
       "      <td>yes</td>\n",
       "      <td>Pharmaceutical Therapy, NOS</td>\n",
       "      <td>H2AW</td>\n",
       "      <td>-0.652839</td>\n",
       "    </tr>\n",
       "    <tr>\n",
       "      <th>2969</th>\n",
       "      <td>TCGA-AR-A2LN</td>\n",
       "      <td>TCGA-AR-A2LN</td>\n",
       "      <td>TCGA-BRCA</td>\n",
       "      <td>65</td>\n",
       "      <td>-23992</td>\n",
       "      <td>not hispanic or latino</td>\n",
       "      <td>female</td>\n",
       "      <td>white</td>\n",
       "      <td>Alive</td>\n",
       "      <td>1945</td>\n",
       "      <td>...</td>\n",
       "      <td>not reported</td>\n",
       "      <td>Breast, NOS</td>\n",
       "      <td>No</td>\n",
       "      <td>Breast, NOS</td>\n",
       "      <td>Not Reported</td>\n",
       "      <td>2010</td>\n",
       "      <td>no</td>\n",
       "      <td>Radiation Therapy, NOS</td>\n",
       "      <td>H2AW</td>\n",
       "      <td>-0.652839</td>\n",
       "    </tr>\n",
       "  </tbody>\n",
       "</table>\n",
       "<p>2970 rows × 35 columns</p>\n",
       "</div>"
      ],
      "text/plain": [
       "              Case case_submitter_id project_id age_at_index days_to_birth  \\\n",
       "0     TCGA-AC-A2QJ      TCGA-AC-A2QJ  TCGA-BRCA           48        -17569   \n",
       "1     TCGA-FA-A7DS      TCGA-FA-A7DS  TCGA-DLBC           54        -20087   \n",
       "2     TCGA-FA-A7DS      TCGA-FA-A7DS  TCGA-DLBC           54        -20087   \n",
       "3     TCGA-A2-A4S1      TCGA-A2-A4S1  TCGA-BRCA           66        -24353   \n",
       "4     TCGA-A2-A4S1      TCGA-A2-A4S1  TCGA-BRCA           66        -24353   \n",
       "...            ...               ...        ...          ...           ...   \n",
       "2965  TCGA-EW-A1P1      TCGA-EW-A1P1  TCGA-BRCA           68        -24923   \n",
       "2966  TCGA-A2-A0CO      TCGA-A2-A0CO  TCGA-BRCA           85        -31404   \n",
       "2967  TCGA-A2-A0CO      TCGA-A2-A0CO  TCGA-BRCA           85        -31404   \n",
       "2968  TCGA-AR-A2LN      TCGA-AR-A2LN  TCGA-BRCA           65        -23992   \n",
       "2969  TCGA-AR-A2LN      TCGA-AR-A2LN  TCGA-BRCA           65        -23992   \n",
       "\n",
       "                   ethnicity  gender   race vital_status year_of_birth  ...  \\\n",
       "0         hispanic or latino  female  white         Dead          1963  ...   \n",
       "1     not hispanic or latino  female  asian        Alive          1959  ...   \n",
       "2     not hispanic or latino  female  asian        Alive          1959  ...   \n",
       "3     not hispanic or latino  female  white        Alive          1946  ...   \n",
       "4     not hispanic or latino  female  white        Alive          1946  ...   \n",
       "...                      ...     ...    ...          ...           ...  ...   \n",
       "2965      hispanic or latino  female  white        Alive          1940  ...   \n",
       "2966  not hispanic or latino  female  white         Dead          1917  ...   \n",
       "2967  not hispanic or latino  female  white         Dead          1917  ...   \n",
       "2968  not hispanic or latino  female  white        Alive          1945  ...   \n",
       "2969  not hispanic or latino  female  white        Alive          1945  ...   \n",
       "\n",
       "     progression_or_recurrence site_of_resection_or_biopsy  \\\n",
       "0                 not reported                 Breast, NOS   \n",
       "1                 not reported                 Breast, NOS   \n",
       "2                 not reported                 Breast, NOS   \n",
       "3                 not reported                 Breast, NOS   \n",
       "4                 not reported                 Breast, NOS   \n",
       "...                        ...                         ...   \n",
       "2965              not reported                 Breast, NOS   \n",
       "2966              not reported                 Breast, NOS   \n",
       "2967              not reported                 Breast, NOS   \n",
       "2968              not reported                 Breast, NOS   \n",
       "2969              not reported                 Breast, NOS   \n",
       "\n",
       "     synchronous_malignancy tissue_or_organ_of_origin   tumor_grade  \\\n",
       "0                        No               Breast, NOS  Not Reported   \n",
       "1                        No               Breast, NOS  Not Reported   \n",
       "2                        No               Breast, NOS  Not Reported   \n",
       "3                        No               Breast, NOS  Not Reported   \n",
       "4                        No               Breast, NOS  Not Reported   \n",
       "...                     ...                       ...           ...   \n",
       "2965                     No               Breast, NOS  Not Reported   \n",
       "2966                     No               Breast, NOS  Not Reported   \n",
       "2967                     No               Breast, NOS  Not Reported   \n",
       "2968                     No               Breast, NOS  Not Reported   \n",
       "2969                     No               Breast, NOS  Not Reported   \n",
       "\n",
       "     year_of_diagnosis treatment_or_therapy               treatment_type  \\\n",
       "0                 2011                  yes  Pharmaceutical Therapy, NOS   \n",
       "1                 2013                   no       Radiation Therapy, NOS   \n",
       "2                 2013                  yes  Pharmaceutical Therapy, NOS   \n",
       "3                 2012                  yes       Radiation Therapy, NOS   \n",
       "4                 2012                   no  Pharmaceutical Therapy, NOS   \n",
       "...                ...                  ...                          ...   \n",
       "2965              2008                  yes  Pharmaceutical Therapy, NOS   \n",
       "2966              2002                  yes  Pharmaceutical Therapy, NOS   \n",
       "2967              2002                  yes       Radiation Therapy, NOS   \n",
       "2968              2010                  yes  Pharmaceutical Therapy, NOS   \n",
       "2969              2010                   no       Radiation Therapy, NOS   \n",
       "\n",
       "      Gene Expression  \n",
       "0     ANO1  -0.850784  \n",
       "1     ANO1  -0.903327  \n",
       "2     ANO1  -0.903327  \n",
       "3     ANO1  -0.749352  \n",
       "4     ANO1  -0.749352  \n",
       "...    ...        ...  \n",
       "2965  H2AW  -0.120367  \n",
       "2966  H2AW  -0.021195  \n",
       "2967  H2AW  -0.021195  \n",
       "2968  H2AW  -0.652839  \n",
       "2969  H2AW  -0.652839  \n",
       "\n",
       "[2970 rows x 35 columns]"
      ]
     },
     "execution_count": 45,
     "metadata": {},
     "output_type": "execute_result"
    }
   ],
   "source": [
    "reshaped_df"
   ]
  },
  {
   "cell_type": "code",
   "execution_count": 46,
   "id": "d41cc30f-adf9-4a02-b220-be5f98ad5039",
   "metadata": {},
   "outputs": [
    {
     "data": {
      "text/plain": [
       "ajcc_pathologic_stage\n",
       "Stage IIA     1380\n",
       "Stage IIB      660\n",
       "Stage IIIA     240\n",
       "Stage I        120\n",
       "Stage IIIC     120\n",
       "Stage IIIB      90\n",
       "Stage IA        60\n",
       "Stage IV        30\n",
       "Name: count, dtype: int64"
      ]
     },
     "execution_count": 46,
     "metadata": {},
     "output_type": "execute_result"
    }
   ],
   "source": [
    "reshaped_df['ajcc_pathologic_stage'].value_counts()"
   ]
  },
  {
   "cell_type": "code",
   "execution_count": 47,
   "id": "98a88d9c-cd8b-453b-80e9-c99e3c7e6982",
   "metadata": {},
   "outputs": [
    {
     "name": "stdout",
     "output_type": "stream",
     "text": [
      "Cancer Stage\n",
      "Stage II     2040\n",
      "Stage III     450\n",
      "Stage I        60\n",
      "Stage IV       30\n",
      "Name: count, dtype: int64\n"
     ]
    }
   ],
   "source": [
    "# reshaped_df['Cancer Stage'] = reshapied_df['ajcc_pathologic_stage'].apply(\n",
    "#     lambda x: 'Stage I' if 'I' in x and 'Stage IIA' not in x and 'Stage IIB' not in x\n",
    "#     else 'Stage II' if 'II' in x\n",
    "#     else 'Stage III' if 'III' in x\n",
    "#     else 'Stage IV'\n",
    "# )\n",
    "\n",
    "# reshaped_df['Cancer Stage'].value_counts()\n",
    "\n",
    "reshaped_df['Cancer Stage'] = reshaped_df['ajcc_pathologic_stage'].apply(\n",
    "    lambda x: (\n",
    "        'Stage I' if isinstance(x, str) and ('Stage I' in x and 'Stage IA' in x)\n",
    "        else 'Stage II' if isinstance(x, str) and ('Stage IIA' in x or 'Stage IIB' in x)\n",
    "        else 'Stage III' if isinstance(x, str) and ('Stage IIIA' in x or 'Stage IIIB' in x or 'Stage IIIC' in x)\n",
    "        else 'Stage IV' if isinstance(x, str) and 'Stage IV' in x\n",
    "        else None  # Handle missing or unexpected values\n",
    "    )\n",
    ")\n",
    "\n",
    "# Display the counts for each stage\n",
    "stage_counts = reshaped_df['Cancer Stage'].value_counts()\n",
    "print(stage_counts)\n",
    "\n"
   ]
  },
  {
   "cell_type": "code",
   "execution_count": 50,
   "id": "77360547",
   "metadata": {},
   "outputs": [],
   "source": [
    "unique_expression = reshaped_df.groupby(['Case', 'Gene'])['Expression'].first().unstack()"
   ]
  },
  {
   "cell_type": "code",
   "execution_count": 51,
   "id": "4f635185",
   "metadata": {},
   "outputs": [],
   "source": [
    "unique_expression = unique_expression.astype(float).fillna(0)  # To Ensure all values are numeric"
   ]
  },
  {
   "cell_type": "code",
   "execution_count": 52,
   "id": "be2f8eba",
   "metadata": {},
   "outputs": [
    {
     "data": {
      "text/html": [
       "<div>\n",
       "<style scoped>\n",
       "    .dataframe tbody tr th:only-of-type {\n",
       "        vertical-align: middle;\n",
       "    }\n",
       "\n",
       "    .dataframe tbody tr th {\n",
       "        vertical-align: top;\n",
       "    }\n",
       "\n",
       "    .dataframe thead th {\n",
       "        text-align: right;\n",
       "    }\n",
       "</style>\n",
       "<table border=\"1\" class=\"dataframe\">\n",
       "  <thead>\n",
       "    <tr style=\"text-align: right;\">\n",
       "      <th>Gene</th>\n",
       "      <th>ABCC3</th>\n",
       "      <th>ACKR3</th>\n",
       "      <th>ANO1</th>\n",
       "      <th>APOC1</th>\n",
       "      <th>AQP3</th>\n",
       "      <th>CA2</th>\n",
       "      <th>CLU</th>\n",
       "      <th>CTTN</th>\n",
       "      <th>DUSP10</th>\n",
       "      <th>ERBB2</th>\n",
       "      <th>...</th>\n",
       "      <th>PRR15L</th>\n",
       "      <th>RAMP3</th>\n",
       "      <th>SCARA3</th>\n",
       "      <th>SERPINA1</th>\n",
       "      <th>SERPINF2</th>\n",
       "      <th>TMEM45B</th>\n",
       "      <th>TSKU</th>\n",
       "      <th>TSPAN12</th>\n",
       "      <th>UCP2</th>\n",
       "      <th>VSIG2</th>\n",
       "    </tr>\n",
       "    <tr>\n",
       "      <th>Case</th>\n",
       "      <th></th>\n",
       "      <th></th>\n",
       "      <th></th>\n",
       "      <th></th>\n",
       "      <th></th>\n",
       "      <th></th>\n",
       "      <th></th>\n",
       "      <th></th>\n",
       "      <th></th>\n",
       "      <th></th>\n",
       "      <th></th>\n",
       "      <th></th>\n",
       "      <th></th>\n",
       "      <th></th>\n",
       "      <th></th>\n",
       "      <th></th>\n",
       "      <th></th>\n",
       "      <th></th>\n",
       "      <th></th>\n",
       "      <th></th>\n",
       "      <th></th>\n",
       "    </tr>\n",
       "  </thead>\n",
       "  <tbody>\n",
       "    <tr>\n",
       "      <th>ER-B1PU</th>\n",
       "      <td>-0.045023</td>\n",
       "      <td>-0.586864</td>\n",
       "      <td>-0.907599</td>\n",
       "      <td>-0.228153</td>\n",
       "      <td>-0.393294</td>\n",
       "      <td>0.079816</td>\n",
       "      <td>0.080477</td>\n",
       "      <td>-0.685137</td>\n",
       "      <td>-0.610679</td>\n",
       "      <td>-0.439791</td>\n",
       "      <td>...</td>\n",
       "      <td>-0.658016</td>\n",
       "      <td>-0.392005</td>\n",
       "      <td>-0.414537</td>\n",
       "      <td>-0.309348</td>\n",
       "      <td>-0.181082</td>\n",
       "      <td>-0.551756</td>\n",
       "      <td>-0.539980</td>\n",
       "      <td>0.251338</td>\n",
       "      <td>-0.869466</td>\n",
       "      <td>-0.319394</td>\n",
       "    </tr>\n",
       "    <tr>\n",
       "      <th>MBCProject_1037</th>\n",
       "      <td>0.961252</td>\n",
       "      <td>-0.721009</td>\n",
       "      <td>-0.631017</td>\n",
       "      <td>0.980195</td>\n",
       "      <td>-0.355389</td>\n",
       "      <td>-0.084171</td>\n",
       "      <td>-0.361796</td>\n",
       "      <td>-0.524917</td>\n",
       "      <td>0.559878</td>\n",
       "      <td>1.288808</td>\n",
       "      <td>...</td>\n",
       "      <td>-0.656139</td>\n",
       "      <td>-0.378329</td>\n",
       "      <td>-0.505737</td>\n",
       "      <td>-0.285743</td>\n",
       "      <td>-0.251205</td>\n",
       "      <td>-0.145836</td>\n",
       "      <td>-0.423794</td>\n",
       "      <td>-0.211445</td>\n",
       "      <td>-0.390667</td>\n",
       "      <td>-0.444638</td>\n",
       "    </tr>\n",
       "    <tr>\n",
       "      <th>MBCProject_1542</th>\n",
       "      <td>0.286342</td>\n",
       "      <td>-0.717298</td>\n",
       "      <td>-0.699201</td>\n",
       "      <td>-0.082009</td>\n",
       "      <td>-0.370838</td>\n",
       "      <td>-0.119778</td>\n",
       "      <td>-0.149715</td>\n",
       "      <td>-0.758737</td>\n",
       "      <td>-0.529960</td>\n",
       "      <td>-0.389757</td>\n",
       "      <td>...</td>\n",
       "      <td>-0.606829</td>\n",
       "      <td>-0.195101</td>\n",
       "      <td>-0.597529</td>\n",
       "      <td>-0.321613</td>\n",
       "      <td>0.067656</td>\n",
       "      <td>-0.384368</td>\n",
       "      <td>-0.521514</td>\n",
       "      <td>-0.329936</td>\n",
       "      <td>0.223387</td>\n",
       "      <td>0.125454</td>\n",
       "    </tr>\n",
       "    <tr>\n",
       "      <th>MBCProject_1819</th>\n",
       "      <td>0.880671</td>\n",
       "      <td>-0.697784</td>\n",
       "      <td>-0.556719</td>\n",
       "      <td>-0.388686</td>\n",
       "      <td>-0.361625</td>\n",
       "      <td>-0.029711</td>\n",
       "      <td>-0.177128</td>\n",
       "      <td>-0.449316</td>\n",
       "      <td>-0.556900</td>\n",
       "      <td>-0.357524</td>\n",
       "      <td>...</td>\n",
       "      <td>-0.636253</td>\n",
       "      <td>-0.208991</td>\n",
       "      <td>-0.595553</td>\n",
       "      <td>-0.307013</td>\n",
       "      <td>0.346663</td>\n",
       "      <td>-0.478453</td>\n",
       "      <td>-0.477323</td>\n",
       "      <td>0.677203</td>\n",
       "      <td>-0.405091</td>\n",
       "      <td>-0.264097</td>\n",
       "    </tr>\n",
       "    <tr>\n",
       "      <th>MBCProject_3159</th>\n",
       "      <td>0.160918</td>\n",
       "      <td>0.420206</td>\n",
       "      <td>-0.621328</td>\n",
       "      <td>-0.419311</td>\n",
       "      <td>-0.345664</td>\n",
       "      <td>-0.119353</td>\n",
       "      <td>-0.342870</td>\n",
       "      <td>-0.378176</td>\n",
       "      <td>-0.788626</td>\n",
       "      <td>-0.418767</td>\n",
       "      <td>...</td>\n",
       "      <td>-0.656412</td>\n",
       "      <td>-0.104212</td>\n",
       "      <td>-0.496912</td>\n",
       "      <td>-0.325692</td>\n",
       "      <td>0.527588</td>\n",
       "      <td>-0.525519</td>\n",
       "      <td>-0.530285</td>\n",
       "      <td>-0.342842</td>\n",
       "      <td>-0.554920</td>\n",
       "      <td>-0.006699</td>\n",
       "    </tr>\n",
       "    <tr>\n",
       "      <th>MBCProject_4424</th>\n",
       "      <td>-0.363664</td>\n",
       "      <td>-0.851063</td>\n",
       "      <td>-0.903833</td>\n",
       "      <td>-0.750162</td>\n",
       "      <td>-0.287691</td>\n",
       "      <td>-0.131517</td>\n",
       "      <td>-0.437617</td>\n",
       "      <td>-0.281002</td>\n",
       "      <td>-0.808958</td>\n",
       "      <td>3.304599</td>\n",
       "      <td>...</td>\n",
       "      <td>-0.614746</td>\n",
       "      <td>-0.403834</td>\n",
       "      <td>-0.715864</td>\n",
       "      <td>-0.336051</td>\n",
       "      <td>-0.296450</td>\n",
       "      <td>-0.230278</td>\n",
       "      <td>-0.523506</td>\n",
       "      <td>-0.717005</td>\n",
       "      <td>-0.885184</td>\n",
       "      <td>-0.449186</td>\n",
       "    </tr>\n",
       "    <tr>\n",
       "      <th>MBCproject_0093</th>\n",
       "      <td>2.462503</td>\n",
       "      <td>-0.821065</td>\n",
       "      <td>1.088591</td>\n",
       "      <td>-0.530109</td>\n",
       "      <td>-0.080048</td>\n",
       "      <td>-0.125738</td>\n",
       "      <td>0.067390</td>\n",
       "      <td>1.721424</td>\n",
       "      <td>3.252885</td>\n",
       "      <td>4.305067</td>\n",
       "      <td>...</td>\n",
       "      <td>-0.655327</td>\n",
       "      <td>-0.403834</td>\n",
       "      <td>-0.965292</td>\n",
       "      <td>0.046882</td>\n",
       "      <td>1.040081</td>\n",
       "      <td>0.369532</td>\n",
       "      <td>-0.567719</td>\n",
       "      <td>2.806989</td>\n",
       "      <td>-0.876076</td>\n",
       "      <td>-0.449186</td>\n",
       "    </tr>\n",
       "    <tr>\n",
       "      <th>MBCproject_0280</th>\n",
       "      <td>0.417540</td>\n",
       "      <td>-0.687530</td>\n",
       "      <td>-0.100600</td>\n",
       "      <td>-0.454301</td>\n",
       "      <td>-0.077728</td>\n",
       "      <td>-0.120369</td>\n",
       "      <td>-0.271881</td>\n",
       "      <td>-0.467759</td>\n",
       "      <td>-0.541961</td>\n",
       "      <td>-0.265922</td>\n",
       "      <td>...</td>\n",
       "      <td>-0.610674</td>\n",
       "      <td>-0.178937</td>\n",
       "      <td>-0.658638</td>\n",
       "      <td>-0.274270</td>\n",
       "      <td>-0.000253</td>\n",
       "      <td>-0.414623</td>\n",
       "      <td>-0.545889</td>\n",
       "      <td>0.477848</td>\n",
       "      <td>-0.278416</td>\n",
       "      <td>-0.366658</td>\n",
       "    </tr>\n",
       "    <tr>\n",
       "      <th>TCGA-A1-A0SK</th>\n",
       "      <td>-0.439030</td>\n",
       "      <td>0.642108</td>\n",
       "      <td>-0.723427</td>\n",
       "      <td>-0.655918</td>\n",
       "      <td>-0.182672</td>\n",
       "      <td>-0.124400</td>\n",
       "      <td>-0.475469</td>\n",
       "      <td>-0.365973</td>\n",
       "      <td>-1.008591</td>\n",
       "      <td>-0.443459</td>\n",
       "      <td>...</td>\n",
       "      <td>-0.365946</td>\n",
       "      <td>-0.385397</td>\n",
       "      <td>-0.940958</td>\n",
       "      <td>-0.335134</td>\n",
       "      <td>-0.314658</td>\n",
       "      <td>0.002762</td>\n",
       "      <td>-0.411867</td>\n",
       "      <td>0.331586</td>\n",
       "      <td>-0.333276</td>\n",
       "      <td>0.379878</td>\n",
       "    </tr>\n",
       "    <tr>\n",
       "      <th>TCGA-A2-A0CO</th>\n",
       "      <td>-0.135141</td>\n",
       "      <td>1.102262</td>\n",
       "      <td>-0.364764</td>\n",
       "      <td>-0.249296</td>\n",
       "      <td>-0.279686</td>\n",
       "      <td>-0.058934</td>\n",
       "      <td>-0.008221</td>\n",
       "      <td>-0.415492</td>\n",
       "      <td>0.606770</td>\n",
       "      <td>-0.198106</td>\n",
       "      <td>...</td>\n",
       "      <td>-0.384279</td>\n",
       "      <td>1.151161</td>\n",
       "      <td>0.263677</td>\n",
       "      <td>-0.244249</td>\n",
       "      <td>0.272964</td>\n",
       "      <td>-0.135457</td>\n",
       "      <td>-0.245206</td>\n",
       "      <td>-0.015422</td>\n",
       "      <td>0.310716</td>\n",
       "      <td>1.642877</td>\n",
       "    </tr>\n",
       "    <tr>\n",
       "      <th>TCGA-A2-A0CY</th>\n",
       "      <td>-0.394692</td>\n",
       "      <td>-0.187349</td>\n",
       "      <td>-0.841837</td>\n",
       "      <td>-0.321912</td>\n",
       "      <td>-0.252250</td>\n",
       "      <td>-0.127375</td>\n",
       "      <td>-0.401543</td>\n",
       "      <td>0.388442</td>\n",
       "      <td>-0.562318</td>\n",
       "      <td>-0.343360</td>\n",
       "      <td>...</td>\n",
       "      <td>0.361426</td>\n",
       "      <td>-0.231111</td>\n",
       "      <td>-0.961812</td>\n",
       "      <td>-0.168951</td>\n",
       "      <td>0.905212</td>\n",
       "      <td>0.383326</td>\n",
       "      <td>0.007494</td>\n",
       "      <td>0.914992</td>\n",
       "      <td>1.642996</td>\n",
       "      <td>1.421842</td>\n",
       "    </tr>\n",
       "    <tr>\n",
       "      <th>TCGA-A2-A0EP</th>\n",
       "      <td>-0.115946</td>\n",
       "      <td>1.212979</td>\n",
       "      <td>-0.619284</td>\n",
       "      <td>0.904926</td>\n",
       "      <td>0.332508</td>\n",
       "      <td>0.019685</td>\n",
       "      <td>0.025580</td>\n",
       "      <td>-0.473239</td>\n",
       "      <td>1.299873</td>\n",
       "      <td>-0.396269</td>\n",
       "      <td>...</td>\n",
       "      <td>-0.478607</td>\n",
       "      <td>0.275688</td>\n",
       "      <td>0.394857</td>\n",
       "      <td>-0.081585</td>\n",
       "      <td>0.167814</td>\n",
       "      <td>-0.379444</td>\n",
       "      <td>-0.138733</td>\n",
       "      <td>-0.168319</td>\n",
       "      <td>0.996595</td>\n",
       "      <td>-0.160842</td>\n",
       "    </tr>\n",
       "    <tr>\n",
       "      <th>TCGA-A2-A3XV</th>\n",
       "      <td>-0.250183</td>\n",
       "      <td>-0.632422</td>\n",
       "      <td>-0.833125</td>\n",
       "      <td>1.641562</td>\n",
       "      <td>-0.020663</td>\n",
       "      <td>-0.118802</td>\n",
       "      <td>0.287453</td>\n",
       "      <td>0.359432</td>\n",
       "      <td>2.061959</td>\n",
       "      <td>0.341771</td>\n",
       "      <td>...</td>\n",
       "      <td>4.529586</td>\n",
       "      <td>0.104619</td>\n",
       "      <td>-0.773845</td>\n",
       "      <td>-0.042301</td>\n",
       "      <td>-0.007335</td>\n",
       "      <td>3.877364</td>\n",
       "      <td>4.311347</td>\n",
       "      <td>-0.617122</td>\n",
       "      <td>0.038000</td>\n",
       "      <td>-0.382976</td>\n",
       "    </tr>\n",
       "    <tr>\n",
       "      <th>TCGA-A2-A3XW</th>\n",
       "      <td>-0.030133</td>\n",
       "      <td>0.735423</td>\n",
       "      <td>-0.124290</td>\n",
       "      <td>-0.351197</td>\n",
       "      <td>8.758104</td>\n",
       "      <td>-0.076570</td>\n",
       "      <td>0.127374</td>\n",
       "      <td>-0.124086</td>\n",
       "      <td>-0.678827</td>\n",
       "      <td>-0.215715</td>\n",
       "      <td>...</td>\n",
       "      <td>-0.238395</td>\n",
       "      <td>0.542523</td>\n",
       "      <td>0.849549</td>\n",
       "      <td>-0.266792</td>\n",
       "      <td>0.481394</td>\n",
       "      <td>-0.088185</td>\n",
       "      <td>0.181951</td>\n",
       "      <td>-0.373456</td>\n",
       "      <td>-0.344161</td>\n",
       "      <td>0.068387</td>\n",
       "    </tr>\n",
       "    <tr>\n",
       "      <th>TCGA-A2-A3Y0</th>\n",
       "      <td>-0.275593</td>\n",
       "      <td>-0.601858</td>\n",
       "      <td>-0.735628</td>\n",
       "      <td>0.190535</td>\n",
       "      <td>-0.129125</td>\n",
       "      <td>-0.025380</td>\n",
       "      <td>0.414085</td>\n",
       "      <td>-0.653264</td>\n",
       "      <td>-0.041365</td>\n",
       "      <td>-0.394371</td>\n",
       "      <td>...</td>\n",
       "      <td>-0.490742</td>\n",
       "      <td>-0.237391</td>\n",
       "      <td>1.727561</td>\n",
       "      <td>-0.256051</td>\n",
       "      <td>-0.260171</td>\n",
       "      <td>-0.424121</td>\n",
       "      <td>-0.183552</td>\n",
       "      <td>-0.235961</td>\n",
       "      <td>-0.049574</td>\n",
       "      <td>-0.413969</td>\n",
       "    </tr>\n",
       "    <tr>\n",
       "      <th>TCGA-A2-A4S1</th>\n",
       "      <td>-0.103397</td>\n",
       "      <td>0.814382</td>\n",
       "      <td>-0.749352</td>\n",
       "      <td>-0.582861</td>\n",
       "      <td>-0.383935</td>\n",
       "      <td>-0.116029</td>\n",
       "      <td>-0.306217</td>\n",
       "      <td>-0.266099</td>\n",
       "      <td>-0.208981</td>\n",
       "      <td>-0.446667</td>\n",
       "      <td>...</td>\n",
       "      <td>-0.658142</td>\n",
       "      <td>0.324065</td>\n",
       "      <td>-0.559285</td>\n",
       "      <td>-0.241879</td>\n",
       "      <td>-0.047396</td>\n",
       "      <td>-0.554266</td>\n",
       "      <td>0.198941</td>\n",
       "      <td>-0.530950</td>\n",
       "      <td>-0.618350</td>\n",
       "      <td>-0.325875</td>\n",
       "    </tr>\n",
       "    <tr>\n",
       "      <th>TCGA-A7-A56D</th>\n",
       "      <td>-0.189467</td>\n",
       "      <td>-0.021546</td>\n",
       "      <td>-0.710597</td>\n",
       "      <td>1.207250</td>\n",
       "      <td>-0.376387</td>\n",
       "      <td>-0.124772</td>\n",
       "      <td>0.251970</td>\n",
       "      <td>-0.098352</td>\n",
       "      <td>-0.370015</td>\n",
       "      <td>-0.312215</td>\n",
       "      <td>...</td>\n",
       "      <td>-0.250242</td>\n",
       "      <td>0.086635</td>\n",
       "      <td>-0.097092</td>\n",
       "      <td>-0.194487</td>\n",
       "      <td>-0.228747</td>\n",
       "      <td>-0.272216</td>\n",
       "      <td>0.271468</td>\n",
       "      <td>0.124932</td>\n",
       "      <td>1.069881</td>\n",
       "      <td>-0.406273</td>\n",
       "    </tr>\n",
       "    <tr>\n",
       "      <th>TCGA-A7-A5ZV</th>\n",
       "      <td>0.531223</td>\n",
       "      <td>-0.218859</td>\n",
       "      <td>-0.425023</td>\n",
       "      <td>-0.442964</td>\n",
       "      <td>-0.279946</td>\n",
       "      <td>1.043246</td>\n",
       "      <td>0.031156</td>\n",
       "      <td>0.544617</td>\n",
       "      <td>-0.673193</td>\n",
       "      <td>-0.249538</td>\n",
       "      <td>...</td>\n",
       "      <td>-0.628340</td>\n",
       "      <td>-0.336230</td>\n",
       "      <td>-0.042994</td>\n",
       "      <td>0.476562</td>\n",
       "      <td>-0.212107</td>\n",
       "      <td>-0.582663</td>\n",
       "      <td>3.961472</td>\n",
       "      <td>0.068806</td>\n",
       "      <td>-0.839912</td>\n",
       "      <td>-0.449186</td>\n",
       "    </tr>\n",
       "    <tr>\n",
       "      <th>TCGA-A8-A08H</th>\n",
       "      <td>0.073792</td>\n",
       "      <td>-0.145904</td>\n",
       "      <td>-0.675051</td>\n",
       "      <td>2.310054</td>\n",
       "      <td>-0.295886</td>\n",
       "      <td>-0.100048</td>\n",
       "      <td>-0.215795</td>\n",
       "      <td>-0.492488</td>\n",
       "      <td>-0.566420</td>\n",
       "      <td>-0.398771</td>\n",
       "      <td>...</td>\n",
       "      <td>-0.514646</td>\n",
       "      <td>0.176464</td>\n",
       "      <td>2.480271</td>\n",
       "      <td>0.116285</td>\n",
       "      <td>0.060560</td>\n",
       "      <td>-0.479394</td>\n",
       "      <td>-0.141984</td>\n",
       "      <td>0.259300</td>\n",
       "      <td>1.529957</td>\n",
       "      <td>-0.290785</td>\n",
       "    </tr>\n",
       "    <tr>\n",
       "      <th>TCGA-AC-A2QH</th>\n",
       "      <td>-0.384539</td>\n",
       "      <td>-0.612590</td>\n",
       "      <td>-0.524205</td>\n",
       "      <td>-0.699997</td>\n",
       "      <td>-0.389579</td>\n",
       "      <td>-0.124449</td>\n",
       "      <td>-0.453882</td>\n",
       "      <td>-0.713976</td>\n",
       "      <td>-0.633403</td>\n",
       "      <td>-0.436859</td>\n",
       "      <td>...</td>\n",
       "      <td>-0.658549</td>\n",
       "      <td>-0.402982</td>\n",
       "      <td>-0.453426</td>\n",
       "      <td>-0.333665</td>\n",
       "      <td>-0.330913</td>\n",
       "      <td>-0.560144</td>\n",
       "      <td>-0.439763</td>\n",
       "      <td>-0.330347</td>\n",
       "      <td>-0.965637</td>\n",
       "      <td>-0.353777</td>\n",
       "    </tr>\n",
       "    <tr>\n",
       "      <th>TCGA-AC-A2QJ</th>\n",
       "      <td>-0.167629</td>\n",
       "      <td>-0.380088</td>\n",
       "      <td>-0.850784</td>\n",
       "      <td>1.938465</td>\n",
       "      <td>-0.342240</td>\n",
       "      <td>-0.078571</td>\n",
       "      <td>-0.396251</td>\n",
       "      <td>-0.067790</td>\n",
       "      <td>-0.850014</td>\n",
       "      <td>-0.396764</td>\n",
       "      <td>...</td>\n",
       "      <td>-0.633045</td>\n",
       "      <td>-0.177620</td>\n",
       "      <td>-0.612892</td>\n",
       "      <td>-0.048635</td>\n",
       "      <td>0.407104</td>\n",
       "      <td>-0.493200</td>\n",
       "      <td>0.353471</td>\n",
       "      <td>-0.627105</td>\n",
       "      <td>0.254409</td>\n",
       "      <td>-0.225790</td>\n",
       "    </tr>\n",
       "    <tr>\n",
       "      <th>TCGA-AC-A62X</th>\n",
       "      <td>-0.444272</td>\n",
       "      <td>-0.501576</td>\n",
       "      <td>-0.503457</td>\n",
       "      <td>-0.729336</td>\n",
       "      <td>-0.354278</td>\n",
       "      <td>0.052602</td>\n",
       "      <td>5.118661</td>\n",
       "      <td>-0.277719</td>\n",
       "      <td>-0.756647</td>\n",
       "      <td>-0.318760</td>\n",
       "      <td>...</td>\n",
       "      <td>-0.420188</td>\n",
       "      <td>-0.236800</td>\n",
       "      <td>3.464160</td>\n",
       "      <td>-0.310833</td>\n",
       "      <td>0.211381</td>\n",
       "      <td>-0.567288</td>\n",
       "      <td>-0.112874</td>\n",
       "      <td>-0.266007</td>\n",
       "      <td>-0.866130</td>\n",
       "      <td>-0.050075</td>\n",
       "    </tr>\n",
       "    <tr>\n",
       "      <th>TCGA-AN-A0FL</th>\n",
       "      <td>-0.393471</td>\n",
       "      <td>-0.111375</td>\n",
       "      <td>-0.127918</td>\n",
       "      <td>-0.396482</td>\n",
       "      <td>0.465743</td>\n",
       "      <td>0.266569</td>\n",
       "      <td>0.199961</td>\n",
       "      <td>-0.468673</td>\n",
       "      <td>-1.004084</td>\n",
       "      <td>-0.372375</td>\n",
       "      <td>...</td>\n",
       "      <td>-0.238395</td>\n",
       "      <td>-0.219731</td>\n",
       "      <td>2.811869</td>\n",
       "      <td>-0.332611</td>\n",
       "      <td>-0.333086</td>\n",
       "      <td>-0.502143</td>\n",
       "      <td>-0.212636</td>\n",
       "      <td>-0.154244</td>\n",
       "      <td>0.070923</td>\n",
       "      <td>0.768099</td>\n",
       "    </tr>\n",
       "    <tr>\n",
       "      <th>TCGA-AO-A1KO</th>\n",
       "      <td>-0.321170</td>\n",
       "      <td>-0.388797</td>\n",
       "      <td>1.651503</td>\n",
       "      <td>-0.608153</td>\n",
       "      <td>-0.170202</td>\n",
       "      <td>-0.070206</td>\n",
       "      <td>0.139061</td>\n",
       "      <td>-0.713551</td>\n",
       "      <td>-0.402715</td>\n",
       "      <td>-0.373733</td>\n",
       "      <td>...</td>\n",
       "      <td>-0.050282</td>\n",
       "      <td>-0.320886</td>\n",
       "      <td>1.765059</td>\n",
       "      <td>-0.113389</td>\n",
       "      <td>0.932538</td>\n",
       "      <td>-0.500321</td>\n",
       "      <td>-0.221494</td>\n",
       "      <td>1.242491</td>\n",
       "      <td>-0.817774</td>\n",
       "      <td>0.300533</td>\n",
       "    </tr>\n",
       "    <tr>\n",
       "      <th>TCGA-AO-A1KR</th>\n",
       "      <td>-0.365353</td>\n",
       "      <td>-0.497606</td>\n",
       "      <td>-0.731165</td>\n",
       "      <td>-0.525712</td>\n",
       "      <td>-0.338950</td>\n",
       "      <td>-0.110697</td>\n",
       "      <td>-0.326256</td>\n",
       "      <td>-0.040782</td>\n",
       "      <td>0.015871</td>\n",
       "      <td>-0.290263</td>\n",
       "      <td>...</td>\n",
       "      <td>-0.440125</td>\n",
       "      <td>-0.167119</td>\n",
       "      <td>-0.710846</td>\n",
       "      <td>-0.266027</td>\n",
       "      <td>0.146869</td>\n",
       "      <td>-0.493695</td>\n",
       "      <td>0.440933</td>\n",
       "      <td>-0.416345</td>\n",
       "      <td>-0.310770</td>\n",
       "      <td>-0.213581</td>\n",
       "    </tr>\n",
       "    <tr>\n",
       "      <th>TCGA-AQ-A54N</th>\n",
       "      <td>-0.435303</td>\n",
       "      <td>-0.757258</td>\n",
       "      <td>-0.726302</td>\n",
       "      <td>0.217615</td>\n",
       "      <td>-0.382010</td>\n",
       "      <td>-0.047834</td>\n",
       "      <td>-0.375108</td>\n",
       "      <td>-0.358603</td>\n",
       "      <td>-1.024758</td>\n",
       "      <td>-0.389483</td>\n",
       "      <td>...</td>\n",
       "      <td>0.163642</td>\n",
       "      <td>-0.379865</td>\n",
       "      <td>-0.821481</td>\n",
       "      <td>-0.305977</td>\n",
       "      <td>-0.013098</td>\n",
       "      <td>-0.499488</td>\n",
       "      <td>-0.406804</td>\n",
       "      <td>-0.442188</td>\n",
       "      <td>0.259932</td>\n",
       "      <td>-0.395522</td>\n",
       "    </tr>\n",
       "    <tr>\n",
       "      <th>TCGA-AR-A0TP</th>\n",
       "      <td>-0.399190</td>\n",
       "      <td>-0.340705</td>\n",
       "      <td>0.350559</td>\n",
       "      <td>-0.624517</td>\n",
       "      <td>-0.375994</td>\n",
       "      <td>-0.035525</td>\n",
       "      <td>-0.436572</td>\n",
       "      <td>-0.346230</td>\n",
       "      <td>0.023353</td>\n",
       "      <td>-0.383645</td>\n",
       "      <td>...</td>\n",
       "      <td>-0.600856</td>\n",
       "      <td>-0.383321</td>\n",
       "      <td>-0.532519</td>\n",
       "      <td>-0.328591</td>\n",
       "      <td>-0.338711</td>\n",
       "      <td>-0.545565</td>\n",
       "      <td>-0.519798</td>\n",
       "      <td>-0.593332</td>\n",
       "      <td>-0.644024</td>\n",
       "      <td>-0.441988</td>\n",
       "    </tr>\n",
       "    <tr>\n",
       "      <th>TCGA-AR-A2LN</th>\n",
       "      <td>0.306051</td>\n",
       "      <td>0.062351</td>\n",
       "      <td>0.015874</td>\n",
       "      <td>-0.585819</td>\n",
       "      <td>-0.209388</td>\n",
       "      <td>-0.006791</td>\n",
       "      <td>-0.013715</td>\n",
       "      <td>-0.419164</td>\n",
       "      <td>0.674361</td>\n",
       "      <td>-0.294640</td>\n",
       "      <td>...</td>\n",
       "      <td>-0.167868</td>\n",
       "      <td>0.058634</td>\n",
       "      <td>0.469112</td>\n",
       "      <td>-0.266856</td>\n",
       "      <td>0.157830</td>\n",
       "      <td>0.271501</td>\n",
       "      <td>-0.186017</td>\n",
       "      <td>-0.119207</td>\n",
       "      <td>-0.220548</td>\n",
       "      <td>1.528222</td>\n",
       "    </tr>\n",
       "    <tr>\n",
       "      <th>TCGA-AR-A5QQ</th>\n",
       "      <td>-0.075693</td>\n",
       "      <td>0.247975</td>\n",
       "      <td>0.292535</td>\n",
       "      <td>0.749260</td>\n",
       "      <td>1.634453</td>\n",
       "      <td>-0.073009</td>\n",
       "      <td>-0.377541</td>\n",
       "      <td>-0.049525</td>\n",
       "      <td>1.315153</td>\n",
       "      <td>-0.406650</td>\n",
       "      <td>...</td>\n",
       "      <td>-0.619105</td>\n",
       "      <td>-0.074309</td>\n",
       "      <td>-0.333236</td>\n",
       "      <td>-0.098862</td>\n",
       "      <td>-0.018131</td>\n",
       "      <td>-0.412704</td>\n",
       "      <td>0.243683</td>\n",
       "      <td>-0.565909</td>\n",
       "      <td>-0.426750</td>\n",
       "      <td>-0.318526</td>\n",
       "    </tr>\n",
       "    <tr>\n",
       "      <th>TCGA-B6-A0IA</th>\n",
       "      <td>-0.227187</td>\n",
       "      <td>-0.459872</td>\n",
       "      <td>-0.802794</td>\n",
       "      <td>-0.651634</td>\n",
       "      <td>12.665834</td>\n",
       "      <td>29.992341</td>\n",
       "      <td>-0.255102</td>\n",
       "      <td>-0.329685</td>\n",
       "      <td>3.287865</td>\n",
       "      <td>-0.343857</td>\n",
       "      <td>...</td>\n",
       "      <td>0.444473</td>\n",
       "      <td>7.312175</td>\n",
       "      <td>-0.631899</td>\n",
       "      <td>13.479399</td>\n",
       "      <td>-0.265741</td>\n",
       "      <td>-0.403629</td>\n",
       "      <td>-0.428885</td>\n",
       "      <td>-0.687086</td>\n",
       "      <td>-0.538587</td>\n",
       "      <td>-0.134339</td>\n",
       "    </tr>\n",
       "    <tr>\n",
       "      <th>TCGA-B6-A1KF</th>\n",
       "      <td>-0.447916</td>\n",
       "      <td>0.145687</td>\n",
       "      <td>-0.609225</td>\n",
       "      <td>-0.673356</td>\n",
       "      <td>-0.317845</td>\n",
       "      <td>-0.071277</td>\n",
       "      <td>-0.063551</td>\n",
       "      <td>-0.596616</td>\n",
       "      <td>0.080727</td>\n",
       "      <td>0.475906</td>\n",
       "      <td>...</td>\n",
       "      <td>-0.343210</td>\n",
       "      <td>-0.342421</td>\n",
       "      <td>2.048435</td>\n",
       "      <td>-0.337941</td>\n",
       "      <td>-0.233176</td>\n",
       "      <td>-0.557887</td>\n",
       "      <td>-0.316177</td>\n",
       "      <td>-0.192978</td>\n",
       "      <td>-0.906184</td>\n",
       "      <td>-0.439662</td>\n",
       "    </tr>\n",
       "    <tr>\n",
       "      <th>TCGA-BH-A0BO</th>\n",
       "      <td>-0.233604</td>\n",
       "      <td>1.021274</td>\n",
       "      <td>-0.114253</td>\n",
       "      <td>-0.566322</td>\n",
       "      <td>0.584879</td>\n",
       "      <td>0.616901</td>\n",
       "      <td>-0.028761</td>\n",
       "      <td>-0.357910</td>\n",
       "      <td>0.349648</td>\n",
       "      <td>-0.305391</td>\n",
       "      <td>...</td>\n",
       "      <td>-0.365515</td>\n",
       "      <td>-0.173432</td>\n",
       "      <td>0.582944</td>\n",
       "      <td>-0.140122</td>\n",
       "      <td>0.176932</td>\n",
       "      <td>0.116374</td>\n",
       "      <td>-0.358599</td>\n",
       "      <td>-0.387152</td>\n",
       "      <td>-0.079254</td>\n",
       "      <td>-0.114561</td>\n",
       "    </tr>\n",
       "    <tr>\n",
       "      <th>TCGA-BH-A0DL</th>\n",
       "      <td>-0.282165</td>\n",
       "      <td>-0.625533</td>\n",
       "      <td>-0.323849</td>\n",
       "      <td>0.924510</td>\n",
       "      <td>0.310677</td>\n",
       "      <td>0.041665</td>\n",
       "      <td>-0.415354</td>\n",
       "      <td>0.589115</td>\n",
       "      <td>0.324746</td>\n",
       "      <td>-0.403157</td>\n",
       "      <td>...</td>\n",
       "      <td>-0.520483</td>\n",
       "      <td>-0.280647</td>\n",
       "      <td>-0.639185</td>\n",
       "      <td>-0.149054</td>\n",
       "      <td>-0.251095</td>\n",
       "      <td>0.456630</td>\n",
       "      <td>0.305841</td>\n",
       "      <td>-0.641228</td>\n",
       "      <td>-0.622365</td>\n",
       "      <td>-0.437208</td>\n",
       "    </tr>\n",
       "    <tr>\n",
       "      <th>TCGA-BH-A1EN</th>\n",
       "      <td>-0.113633</td>\n",
       "      <td>-0.442515</td>\n",
       "      <td>-0.739922</td>\n",
       "      <td>0.123634</td>\n",
       "      <td>0.325245</td>\n",
       "      <td>-0.119330</td>\n",
       "      <td>-0.201063</td>\n",
       "      <td>-0.612000</td>\n",
       "      <td>1.252208</td>\n",
       "      <td>3.504357</td>\n",
       "      <td>...</td>\n",
       "      <td>0.342845</td>\n",
       "      <td>-0.238801</td>\n",
       "      <td>-0.388562</td>\n",
       "      <td>-0.273317</td>\n",
       "      <td>-0.341310</td>\n",
       "      <td>0.516803</td>\n",
       "      <td>1.631370</td>\n",
       "      <td>0.805931</td>\n",
       "      <td>0.679023</td>\n",
       "      <td>-0.431225</td>\n",
       "    </tr>\n",
       "    <tr>\n",
       "      <th>TCGA-BH-A208</th>\n",
       "      <td>-0.240672</td>\n",
       "      <td>0.992661</td>\n",
       "      <td>0.221172</td>\n",
       "      <td>0.397554</td>\n",
       "      <td>0.621924</td>\n",
       "      <td>-0.108811</td>\n",
       "      <td>-0.340924</td>\n",
       "      <td>0.148430</td>\n",
       "      <td>-0.007765</td>\n",
       "      <td>-0.348159</td>\n",
       "      <td>...</td>\n",
       "      <td>0.031642</td>\n",
       "      <td>-0.180727</td>\n",
       "      <td>0.256296</td>\n",
       "      <td>-0.307333</td>\n",
       "      <td>-0.176131</td>\n",
       "      <td>0.855622</td>\n",
       "      <td>-0.010511</td>\n",
       "      <td>0.026850</td>\n",
       "      <td>1.604911</td>\n",
       "      <td>4.231891</td>\n",
       "    </tr>\n",
       "    <tr>\n",
       "      <th>TCGA-BH-A42U</th>\n",
       "      <td>0.248814</td>\n",
       "      <td>0.293264</td>\n",
       "      <td>0.437514</td>\n",
       "      <td>-0.416557</td>\n",
       "      <td>-0.034525</td>\n",
       "      <td>-0.105983</td>\n",
       "      <td>0.443604</td>\n",
       "      <td>-0.146845</td>\n",
       "      <td>0.274803</td>\n",
       "      <td>-0.258274</td>\n",
       "      <td>...</td>\n",
       "      <td>-0.137457</td>\n",
       "      <td>0.697938</td>\n",
       "      <td>1.109150</td>\n",
       "      <td>-0.184519</td>\n",
       "      <td>1.386212</td>\n",
       "      <td>-0.048118</td>\n",
       "      <td>0.175849</td>\n",
       "      <td>-0.084486</td>\n",
       "      <td>0.503401</td>\n",
       "      <td>2.101798</td>\n",
       "    </tr>\n",
       "    <tr>\n",
       "      <th>TCGA-BH-A5IZ</th>\n",
       "      <td>-0.347002</td>\n",
       "      <td>-0.550433</td>\n",
       "      <td>-0.316998</td>\n",
       "      <td>-0.085914</td>\n",
       "      <td>0.328698</td>\n",
       "      <td>-0.124134</td>\n",
       "      <td>-0.399127</td>\n",
       "      <td>-0.596864</td>\n",
       "      <td>-0.900666</td>\n",
       "      <td>-0.320365</td>\n",
       "      <td>...</td>\n",
       "      <td>-0.003724</td>\n",
       "      <td>-0.204242</td>\n",
       "      <td>4.204471</td>\n",
       "      <td>-0.312108</td>\n",
       "      <td>-0.279603</td>\n",
       "      <td>-0.558961</td>\n",
       "      <td>-0.309682</td>\n",
       "      <td>-0.200908</td>\n",
       "      <td>-0.835165</td>\n",
       "      <td>-0.119236</td>\n",
       "    </tr>\n",
       "    <tr>\n",
       "      <th>TCGA-D8-A27H</th>\n",
       "      <td>1.034222</td>\n",
       "      <td>-0.129992</td>\n",
       "      <td>-0.321547</td>\n",
       "      <td>-0.594889</td>\n",
       "      <td>-0.347228</td>\n",
       "      <td>-0.119755</td>\n",
       "      <td>-0.437845</td>\n",
       "      <td>0.108413</td>\n",
       "      <td>0.036810</td>\n",
       "      <td>-0.346192</td>\n",
       "      <td>...</td>\n",
       "      <td>-0.442437</td>\n",
       "      <td>-0.323761</td>\n",
       "      <td>-0.531952</td>\n",
       "      <td>-0.001515</td>\n",
       "      <td>-0.214692</td>\n",
       "      <td>-0.465190</td>\n",
       "      <td>-0.152680</td>\n",
       "      <td>-0.199692</td>\n",
       "      <td>-0.627879</td>\n",
       "      <td>-0.425728</td>\n",
       "    </tr>\n",
       "    <tr>\n",
       "      <th>TCGA-E2-A1LG</th>\n",
       "      <td>-0.149195</td>\n",
       "      <td>-0.722603</td>\n",
       "      <td>-0.454703</td>\n",
       "      <td>-0.196861</td>\n",
       "      <td>2.210209</td>\n",
       "      <td>-0.127807</td>\n",
       "      <td>-0.448009</td>\n",
       "      <td>-0.645491</td>\n",
       "      <td>-1.077221</td>\n",
       "      <td>-0.230314</td>\n",
       "      <td>...</td>\n",
       "      <td>1.545184</td>\n",
       "      <td>-0.324276</td>\n",
       "      <td>-0.079022</td>\n",
       "      <td>-0.323266</td>\n",
       "      <td>-0.293658</td>\n",
       "      <td>-0.451588</td>\n",
       "      <td>-0.335731</td>\n",
       "      <td>0.799170</td>\n",
       "      <td>-0.766366</td>\n",
       "      <td>0.543742</td>\n",
       "    </tr>\n",
       "    <tr>\n",
       "      <th>TCGA-E2-A1LL</th>\n",
       "      <td>-0.124511</td>\n",
       "      <td>-0.142044</td>\n",
       "      <td>-0.809046</td>\n",
       "      <td>-0.629879</td>\n",
       "      <td>4.591011</td>\n",
       "      <td>0.021764</td>\n",
       "      <td>-0.221348</td>\n",
       "      <td>-0.187651</td>\n",
       "      <td>2.762885</td>\n",
       "      <td>-0.388571</td>\n",
       "      <td>...</td>\n",
       "      <td>-0.601369</td>\n",
       "      <td>-0.174525</td>\n",
       "      <td>-0.512671</td>\n",
       "      <td>-0.284129</td>\n",
       "      <td>-0.234482</td>\n",
       "      <td>-0.551020</td>\n",
       "      <td>-0.091823</td>\n",
       "      <td>-0.360582</td>\n",
       "      <td>-0.803116</td>\n",
       "      <td>-0.366184</td>\n",
       "    </tr>\n",
       "    <tr>\n",
       "      <th>TCGA-E2-A1LS</th>\n",
       "      <td>-0.439122</td>\n",
       "      <td>-0.154343</td>\n",
       "      <td>0.628657</td>\n",
       "      <td>-0.520353</td>\n",
       "      <td>-0.338071</td>\n",
       "      <td>-0.096165</td>\n",
       "      <td>0.147904</td>\n",
       "      <td>1.915933</td>\n",
       "      <td>-0.385599</td>\n",
       "      <td>-0.420830</td>\n",
       "      <td>...</td>\n",
       "      <td>-0.564343</td>\n",
       "      <td>-0.282750</td>\n",
       "      <td>0.022755</td>\n",
       "      <td>-0.329686</td>\n",
       "      <td>-0.310780</td>\n",
       "      <td>-0.566274</td>\n",
       "      <td>1.104726</td>\n",
       "      <td>2.002064</td>\n",
       "      <td>-0.930874</td>\n",
       "      <td>1.129551</td>\n",
       "    </tr>\n",
       "    <tr>\n",
       "      <th>TCGA-E2-A572</th>\n",
       "      <td>-0.404266</td>\n",
       "      <td>-0.760343</td>\n",
       "      <td>-0.709358</td>\n",
       "      <td>-0.360184</td>\n",
       "      <td>2.694874</td>\n",
       "      <td>-0.131025</td>\n",
       "      <td>2.243135</td>\n",
       "      <td>-0.751639</td>\n",
       "      <td>-0.901489</td>\n",
       "      <td>-0.241119</td>\n",
       "      <td>...</td>\n",
       "      <td>0.713217</td>\n",
       "      <td>0.106910</td>\n",
       "      <td>0.017737</td>\n",
       "      <td>0.437218</td>\n",
       "      <td>-0.067007</td>\n",
       "      <td>-0.410761</td>\n",
       "      <td>-0.116146</td>\n",
       "      <td>-0.622003</td>\n",
       "      <td>-0.792739</td>\n",
       "      <td>-0.399711</td>\n",
       "    </tr>\n",
       "    <tr>\n",
       "      <th>TCGA-E2-A574</th>\n",
       "      <td>-0.431916</td>\n",
       "      <td>-0.761234</td>\n",
       "      <td>-0.777730</td>\n",
       "      <td>-0.118416</td>\n",
       "      <td>-0.347696</td>\n",
       "      <td>-0.129472</td>\n",
       "      <td>-0.380274</td>\n",
       "      <td>-0.290538</td>\n",
       "      <td>-0.219932</td>\n",
       "      <td>-0.361626</td>\n",
       "      <td>...</td>\n",
       "      <td>0.444245</td>\n",
       "      <td>-0.358285</td>\n",
       "      <td>-0.768097</td>\n",
       "      <td>-0.329610</td>\n",
       "      <td>0.480789</td>\n",
       "      <td>-0.311812</td>\n",
       "      <td>-0.304163</td>\n",
       "      <td>-0.072480</td>\n",
       "      <td>-0.068780</td>\n",
       "      <td>0.100236</td>\n",
       "    </tr>\n",
       "    <tr>\n",
       "      <th>TCGA-E9-A1ND</th>\n",
       "      <td>-0.205844</td>\n",
       "      <td>-0.541174</td>\n",
       "      <td>-0.837801</td>\n",
       "      <td>0.066299</td>\n",
       "      <td>-0.119110</td>\n",
       "      <td>-0.032315</td>\n",
       "      <td>0.486192</td>\n",
       "      <td>-0.329768</td>\n",
       "      <td>0.115922</td>\n",
       "      <td>-0.386315</td>\n",
       "      <td>...</td>\n",
       "      <td>-0.305696</td>\n",
       "      <td>-0.251918</td>\n",
       "      <td>1.357762</td>\n",
       "      <td>0.051117</td>\n",
       "      <td>-0.268629</td>\n",
       "      <td>0.084779</td>\n",
       "      <td>0.231096</td>\n",
       "      <td>-0.140912</td>\n",
       "      <td>-0.483880</td>\n",
       "      <td>0.043412</td>\n",
       "    </tr>\n",
       "    <tr>\n",
       "      <th>TCGA-E9-A5FL</th>\n",
       "      <td>0.083890</td>\n",
       "      <td>1.988702</td>\n",
       "      <td>-0.787100</td>\n",
       "      <td>0.026428</td>\n",
       "      <td>0.616720</td>\n",
       "      <td>-0.117247</td>\n",
       "      <td>-0.251577</td>\n",
       "      <td>0.226868</td>\n",
       "      <td>0.429646</td>\n",
       "      <td>-0.380382</td>\n",
       "      <td>...</td>\n",
       "      <td>-0.438231</td>\n",
       "      <td>-0.250077</td>\n",
       "      <td>-0.340385</td>\n",
       "      <td>-0.330109</td>\n",
       "      <td>0.254233</td>\n",
       "      <td>-0.562642</td>\n",
       "      <td>0.435614</td>\n",
       "      <td>-0.507950</td>\n",
       "      <td>-0.535512</td>\n",
       "      <td>0.562074</td>\n",
       "    </tr>\n",
       "    <tr>\n",
       "      <th>TCGA-EW-A1P1</th>\n",
       "      <td>-0.101405</td>\n",
       "      <td>1.692410</td>\n",
       "      <td>-0.193081</td>\n",
       "      <td>0.705422</td>\n",
       "      <td>1.124956</td>\n",
       "      <td>-0.114477</td>\n",
       "      <td>0.117766</td>\n",
       "      <td>-0.443808</td>\n",
       "      <td>1.145030</td>\n",
       "      <td>-0.339720</td>\n",
       "      <td>...</td>\n",
       "      <td>-0.455590</td>\n",
       "      <td>0.262175</td>\n",
       "      <td>0.640221</td>\n",
       "      <td>-0.308264</td>\n",
       "      <td>0.237951</td>\n",
       "      <td>-0.042808</td>\n",
       "      <td>-0.229626</td>\n",
       "      <td>0.334555</td>\n",
       "      <td>-0.159784</td>\n",
       "      <td>-0.016722</td>\n",
       "    </tr>\n",
       "    <tr>\n",
       "      <th>TCGA-EW-A1PB</th>\n",
       "      <td>-0.108290</td>\n",
       "      <td>-0.804724</td>\n",
       "      <td>-0.897525</td>\n",
       "      <td>1.995592</td>\n",
       "      <td>-0.374709</td>\n",
       "      <td>-0.120597</td>\n",
       "      <td>3.710967</td>\n",
       "      <td>0.137495</td>\n",
       "      <td>-0.934291</td>\n",
       "      <td>-0.375026</td>\n",
       "      <td>...</td>\n",
       "      <td>-0.438951</td>\n",
       "      <td>-0.263960</td>\n",
       "      <td>7.727967</td>\n",
       "      <td>0.036250</td>\n",
       "      <td>-0.156286</td>\n",
       "      <td>-0.581287</td>\n",
       "      <td>0.146682</td>\n",
       "      <td>-0.646172</td>\n",
       "      <td>-0.307571</td>\n",
       "      <td>-0.445275</td>\n",
       "    </tr>\n",
       "    <tr>\n",
       "      <th>TCGA-FA-A7DS</th>\n",
       "      <td>-0.429694</td>\n",
       "      <td>-0.582658</td>\n",
       "      <td>-0.903327</td>\n",
       "      <td>-0.410182</td>\n",
       "      <td>-0.305717</td>\n",
       "      <td>-0.128180</td>\n",
       "      <td>-0.415010</td>\n",
       "      <td>-0.984412</td>\n",
       "      <td>0.073789</td>\n",
       "      <td>-0.443794</td>\n",
       "      <td>...</td>\n",
       "      <td>-0.660395</td>\n",
       "      <td>0.253522</td>\n",
       "      <td>-0.941964</td>\n",
       "      <td>-0.225547</td>\n",
       "      <td>-0.181604</td>\n",
       "      <td>-0.576544</td>\n",
       "      <td>-0.533308</td>\n",
       "      <td>-0.649774</td>\n",
       "      <td>3.461367</td>\n",
       "      <td>-0.417569</td>\n",
       "    </tr>\n",
       "    <tr>\n",
       "      <th>TCGA-GM-A4E0</th>\n",
       "      <td>0.191395</td>\n",
       "      <td>0.818380</td>\n",
       "      <td>-0.471396</td>\n",
       "      <td>0.122166</td>\n",
       "      <td>-0.305680</td>\n",
       "      <td>-0.120805</td>\n",
       "      <td>0.045211</td>\n",
       "      <td>-0.336259</td>\n",
       "      <td>-0.604957</td>\n",
       "      <td>-0.340323</td>\n",
       "      <td>...</td>\n",
       "      <td>-0.407743</td>\n",
       "      <td>1.357415</td>\n",
       "      <td>-0.026780</td>\n",
       "      <td>-0.232962</td>\n",
       "      <td>0.777550</td>\n",
       "      <td>-0.253510</td>\n",
       "      <td>-0.161169</td>\n",
       "      <td>1.620350</td>\n",
       "      <td>1.253225</td>\n",
       "      <td>4.693184</td>\n",
       "    </tr>\n",
       "    <tr>\n",
       "      <th>TCGA-LL-A8F5</th>\n",
       "      <td>0.089223</td>\n",
       "      <td>-0.263571</td>\n",
       "      <td>-0.707258</td>\n",
       "      <td>0.470243</td>\n",
       "      <td>-0.320025</td>\n",
       "      <td>-0.104649</td>\n",
       "      <td>1.860124</td>\n",
       "      <td>-0.464017</td>\n",
       "      <td>-0.863054</td>\n",
       "      <td>-0.387405</td>\n",
       "      <td>...</td>\n",
       "      <td>-0.636458</td>\n",
       "      <td>-0.215256</td>\n",
       "      <td>1.389331</td>\n",
       "      <td>-0.223424</td>\n",
       "      <td>-0.281955</td>\n",
       "      <td>-0.565248</td>\n",
       "      <td>-0.477193</td>\n",
       "      <td>-0.129238</td>\n",
       "      <td>-0.663693</td>\n",
       "      <td>-0.403438</td>\n",
       "    </tr>\n",
       "    <tr>\n",
       "      <th>TCGA-OL-A5RW</th>\n",
       "      <td>-0.375708</td>\n",
       "      <td>-0.569853</td>\n",
       "      <td>-0.560770</td>\n",
       "      <td>-0.125100</td>\n",
       "      <td>1.362750</td>\n",
       "      <td>-0.122821</td>\n",
       "      <td>-0.080842</td>\n",
       "      <td>-0.286449</td>\n",
       "      <td>-0.574143</td>\n",
       "      <td>-0.343834</td>\n",
       "      <td>...</td>\n",
       "      <td>2.015335</td>\n",
       "      <td>-0.265781</td>\n",
       "      <td>1.605953</td>\n",
       "      <td>-0.279590</td>\n",
       "      <td>-0.285778</td>\n",
       "      <td>-0.148539</td>\n",
       "      <td>-0.426853</td>\n",
       "      <td>0.286359</td>\n",
       "      <td>-0.026296</td>\n",
       "      <td>0.460149</td>\n",
       "    </tr>\n",
       "    <tr>\n",
       "      <th>TCGA-OL-A66P</th>\n",
       "      <td>-0.317186</td>\n",
       "      <td>-0.221944</td>\n",
       "      <td>-0.842354</td>\n",
       "      <td>7.917478</td>\n",
       "      <td>0.708078</td>\n",
       "      <td>-0.116200</td>\n",
       "      <td>-0.279337</td>\n",
       "      <td>-0.143627</td>\n",
       "      <td>2.436134</td>\n",
       "      <td>-0.065792</td>\n",
       "      <td>...</td>\n",
       "      <td>-0.100058</td>\n",
       "      <td>0.486343</td>\n",
       "      <td>-0.625996</td>\n",
       "      <td>0.027407</td>\n",
       "      <td>0.086469</td>\n",
       "      <td>0.967400</td>\n",
       "      <td>1.851881</td>\n",
       "      <td>-0.426707</td>\n",
       "      <td>3.495846</td>\n",
       "      <td>-0.269051</td>\n",
       "    </tr>\n",
       "    <tr>\n",
       "      <th>TCGA-OL-A6VQ</th>\n",
       "      <td>-0.293319</td>\n",
       "      <td>-0.255741</td>\n",
       "      <td>0.665188</td>\n",
       "      <td>-0.480948</td>\n",
       "      <td>-0.142485</td>\n",
       "      <td>-0.013737</td>\n",
       "      <td>-0.192784</td>\n",
       "      <td>-0.292674</td>\n",
       "      <td>3.284978</td>\n",
       "      <td>-0.234889</td>\n",
       "      <td>...</td>\n",
       "      <td>-0.062314</td>\n",
       "      <td>-0.085097</td>\n",
       "      <td>0.490662</td>\n",
       "      <td>1.257708</td>\n",
       "      <td>0.445253</td>\n",
       "      <td>-0.344964</td>\n",
       "      <td>-0.252100</td>\n",
       "      <td>-0.214778</td>\n",
       "      <td>0.407804</td>\n",
       "      <td>0.168668</td>\n",
       "    </tr>\n",
       "    <tr>\n",
       "      <th>TCGA-PL-A8LV</th>\n",
       "      <td>-0.347223</td>\n",
       "      <td>-0.570155</td>\n",
       "      <td>-0.641578</td>\n",
       "      <td>0.119339</td>\n",
       "      <td>0.361756</td>\n",
       "      <td>-0.128703</td>\n",
       "      <td>0.011064</td>\n",
       "      <td>-0.654995</td>\n",
       "      <td>-0.224059</td>\n",
       "      <td>-0.366139</td>\n",
       "      <td>...</td>\n",
       "      <td>0.891468</td>\n",
       "      <td>-0.125136</td>\n",
       "      <td>2.511702</td>\n",
       "      <td>-0.295254</td>\n",
       "      <td>-0.097702</td>\n",
       "      <td>-0.470162</td>\n",
       "      <td>-0.468907</td>\n",
       "      <td>-0.247256</td>\n",
       "      <td>-0.508598</td>\n",
       "      <td>-0.357249</td>\n",
       "    </tr>\n",
       "  </tbody>\n",
       "</table>\n",
       "<p>54 rows × 30 columns</p>\n",
       "</div>"
      ],
      "text/plain": [
       "Gene                ABCC3     ACKR3      ANO1     APOC1       AQP3        CA2  \\\n",
       "Case                                                                            \n",
       "ER-B1PU         -0.045023 -0.586864 -0.907599 -0.228153  -0.393294   0.079816   \n",
       "MBCProject_1037  0.961252 -0.721009 -0.631017  0.980195  -0.355389  -0.084171   \n",
       "MBCProject_1542  0.286342 -0.717298 -0.699201 -0.082009  -0.370838  -0.119778   \n",
       "MBCProject_1819  0.880671 -0.697784 -0.556719 -0.388686  -0.361625  -0.029711   \n",
       "MBCProject_3159  0.160918  0.420206 -0.621328 -0.419311  -0.345664  -0.119353   \n",
       "MBCProject_4424 -0.363664 -0.851063 -0.903833 -0.750162  -0.287691  -0.131517   \n",
       "MBCproject_0093  2.462503 -0.821065  1.088591 -0.530109  -0.080048  -0.125738   \n",
       "MBCproject_0280  0.417540 -0.687530 -0.100600 -0.454301  -0.077728  -0.120369   \n",
       "TCGA-A1-A0SK    -0.439030  0.642108 -0.723427 -0.655918  -0.182672  -0.124400   \n",
       "TCGA-A2-A0CO    -0.135141  1.102262 -0.364764 -0.249296  -0.279686  -0.058934   \n",
       "TCGA-A2-A0CY    -0.394692 -0.187349 -0.841837 -0.321912  -0.252250  -0.127375   \n",
       "TCGA-A2-A0EP    -0.115946  1.212979 -0.619284  0.904926   0.332508   0.019685   \n",
       "TCGA-A2-A3XV    -0.250183 -0.632422 -0.833125  1.641562  -0.020663  -0.118802   \n",
       "TCGA-A2-A3XW    -0.030133  0.735423 -0.124290 -0.351197   8.758104  -0.076570   \n",
       "TCGA-A2-A3Y0    -0.275593 -0.601858 -0.735628  0.190535  -0.129125  -0.025380   \n",
       "TCGA-A2-A4S1    -0.103397  0.814382 -0.749352 -0.582861  -0.383935  -0.116029   \n",
       "TCGA-A7-A56D    -0.189467 -0.021546 -0.710597  1.207250  -0.376387  -0.124772   \n",
       "TCGA-A7-A5ZV     0.531223 -0.218859 -0.425023 -0.442964  -0.279946   1.043246   \n",
       "TCGA-A8-A08H     0.073792 -0.145904 -0.675051  2.310054  -0.295886  -0.100048   \n",
       "TCGA-AC-A2QH    -0.384539 -0.612590 -0.524205 -0.699997  -0.389579  -0.124449   \n",
       "TCGA-AC-A2QJ    -0.167629 -0.380088 -0.850784  1.938465  -0.342240  -0.078571   \n",
       "TCGA-AC-A62X    -0.444272 -0.501576 -0.503457 -0.729336  -0.354278   0.052602   \n",
       "TCGA-AN-A0FL    -0.393471 -0.111375 -0.127918 -0.396482   0.465743   0.266569   \n",
       "TCGA-AO-A1KO    -0.321170 -0.388797  1.651503 -0.608153  -0.170202  -0.070206   \n",
       "TCGA-AO-A1KR    -0.365353 -0.497606 -0.731165 -0.525712  -0.338950  -0.110697   \n",
       "TCGA-AQ-A54N    -0.435303 -0.757258 -0.726302  0.217615  -0.382010  -0.047834   \n",
       "TCGA-AR-A0TP    -0.399190 -0.340705  0.350559 -0.624517  -0.375994  -0.035525   \n",
       "TCGA-AR-A2LN     0.306051  0.062351  0.015874 -0.585819  -0.209388  -0.006791   \n",
       "TCGA-AR-A5QQ    -0.075693  0.247975  0.292535  0.749260   1.634453  -0.073009   \n",
       "TCGA-B6-A0IA    -0.227187 -0.459872 -0.802794 -0.651634  12.665834  29.992341   \n",
       "TCGA-B6-A1KF    -0.447916  0.145687 -0.609225 -0.673356  -0.317845  -0.071277   \n",
       "TCGA-BH-A0BO    -0.233604  1.021274 -0.114253 -0.566322   0.584879   0.616901   \n",
       "TCGA-BH-A0DL    -0.282165 -0.625533 -0.323849  0.924510   0.310677   0.041665   \n",
       "TCGA-BH-A1EN    -0.113633 -0.442515 -0.739922  0.123634   0.325245  -0.119330   \n",
       "TCGA-BH-A208    -0.240672  0.992661  0.221172  0.397554   0.621924  -0.108811   \n",
       "TCGA-BH-A42U     0.248814  0.293264  0.437514 -0.416557  -0.034525  -0.105983   \n",
       "TCGA-BH-A5IZ    -0.347002 -0.550433 -0.316998 -0.085914   0.328698  -0.124134   \n",
       "TCGA-D8-A27H     1.034222 -0.129992 -0.321547 -0.594889  -0.347228  -0.119755   \n",
       "TCGA-E2-A1LG    -0.149195 -0.722603 -0.454703 -0.196861   2.210209  -0.127807   \n",
       "TCGA-E2-A1LL    -0.124511 -0.142044 -0.809046 -0.629879   4.591011   0.021764   \n",
       "TCGA-E2-A1LS    -0.439122 -0.154343  0.628657 -0.520353  -0.338071  -0.096165   \n",
       "TCGA-E2-A572    -0.404266 -0.760343 -0.709358 -0.360184   2.694874  -0.131025   \n",
       "TCGA-E2-A574    -0.431916 -0.761234 -0.777730 -0.118416  -0.347696  -0.129472   \n",
       "TCGA-E9-A1ND    -0.205844 -0.541174 -0.837801  0.066299  -0.119110  -0.032315   \n",
       "TCGA-E9-A5FL     0.083890  1.988702 -0.787100  0.026428   0.616720  -0.117247   \n",
       "TCGA-EW-A1P1    -0.101405  1.692410 -0.193081  0.705422   1.124956  -0.114477   \n",
       "TCGA-EW-A1PB    -0.108290 -0.804724 -0.897525  1.995592  -0.374709  -0.120597   \n",
       "TCGA-FA-A7DS    -0.429694 -0.582658 -0.903327 -0.410182  -0.305717  -0.128180   \n",
       "TCGA-GM-A4E0     0.191395  0.818380 -0.471396  0.122166  -0.305680  -0.120805   \n",
       "TCGA-LL-A8F5     0.089223 -0.263571 -0.707258  0.470243  -0.320025  -0.104649   \n",
       "TCGA-OL-A5RW    -0.375708 -0.569853 -0.560770 -0.125100   1.362750  -0.122821   \n",
       "TCGA-OL-A66P    -0.317186 -0.221944 -0.842354  7.917478   0.708078  -0.116200   \n",
       "TCGA-OL-A6VQ    -0.293319 -0.255741  0.665188 -0.480948  -0.142485  -0.013737   \n",
       "TCGA-PL-A8LV    -0.347223 -0.570155 -0.641578  0.119339   0.361756  -0.128703   \n",
       "\n",
       "Gene                  CLU      CTTN    DUSP10     ERBB2  ...    PRR15L  \\\n",
       "Case                                                     ...             \n",
       "ER-B1PU          0.080477 -0.685137 -0.610679 -0.439791  ... -0.658016   \n",
       "MBCProject_1037 -0.361796 -0.524917  0.559878  1.288808  ... -0.656139   \n",
       "MBCProject_1542 -0.149715 -0.758737 -0.529960 -0.389757  ... -0.606829   \n",
       "MBCProject_1819 -0.177128 -0.449316 -0.556900 -0.357524  ... -0.636253   \n",
       "MBCProject_3159 -0.342870 -0.378176 -0.788626 -0.418767  ... -0.656412   \n",
       "MBCProject_4424 -0.437617 -0.281002 -0.808958  3.304599  ... -0.614746   \n",
       "MBCproject_0093  0.067390  1.721424  3.252885  4.305067  ... -0.655327   \n",
       "MBCproject_0280 -0.271881 -0.467759 -0.541961 -0.265922  ... -0.610674   \n",
       "TCGA-A1-A0SK    -0.475469 -0.365973 -1.008591 -0.443459  ... -0.365946   \n",
       "TCGA-A2-A0CO    -0.008221 -0.415492  0.606770 -0.198106  ... -0.384279   \n",
       "TCGA-A2-A0CY    -0.401543  0.388442 -0.562318 -0.343360  ...  0.361426   \n",
       "TCGA-A2-A0EP     0.025580 -0.473239  1.299873 -0.396269  ... -0.478607   \n",
       "TCGA-A2-A3XV     0.287453  0.359432  2.061959  0.341771  ...  4.529586   \n",
       "TCGA-A2-A3XW     0.127374 -0.124086 -0.678827 -0.215715  ... -0.238395   \n",
       "TCGA-A2-A3Y0     0.414085 -0.653264 -0.041365 -0.394371  ... -0.490742   \n",
       "TCGA-A2-A4S1    -0.306217 -0.266099 -0.208981 -0.446667  ... -0.658142   \n",
       "TCGA-A7-A56D     0.251970 -0.098352 -0.370015 -0.312215  ... -0.250242   \n",
       "TCGA-A7-A5ZV     0.031156  0.544617 -0.673193 -0.249538  ... -0.628340   \n",
       "TCGA-A8-A08H    -0.215795 -0.492488 -0.566420 -0.398771  ... -0.514646   \n",
       "TCGA-AC-A2QH    -0.453882 -0.713976 -0.633403 -0.436859  ... -0.658549   \n",
       "TCGA-AC-A2QJ    -0.396251 -0.067790 -0.850014 -0.396764  ... -0.633045   \n",
       "TCGA-AC-A62X     5.118661 -0.277719 -0.756647 -0.318760  ... -0.420188   \n",
       "TCGA-AN-A0FL     0.199961 -0.468673 -1.004084 -0.372375  ... -0.238395   \n",
       "TCGA-AO-A1KO     0.139061 -0.713551 -0.402715 -0.373733  ... -0.050282   \n",
       "TCGA-AO-A1KR    -0.326256 -0.040782  0.015871 -0.290263  ... -0.440125   \n",
       "TCGA-AQ-A54N    -0.375108 -0.358603 -1.024758 -0.389483  ...  0.163642   \n",
       "TCGA-AR-A0TP    -0.436572 -0.346230  0.023353 -0.383645  ... -0.600856   \n",
       "TCGA-AR-A2LN    -0.013715 -0.419164  0.674361 -0.294640  ... -0.167868   \n",
       "TCGA-AR-A5QQ    -0.377541 -0.049525  1.315153 -0.406650  ... -0.619105   \n",
       "TCGA-B6-A0IA    -0.255102 -0.329685  3.287865 -0.343857  ...  0.444473   \n",
       "TCGA-B6-A1KF    -0.063551 -0.596616  0.080727  0.475906  ... -0.343210   \n",
       "TCGA-BH-A0BO    -0.028761 -0.357910  0.349648 -0.305391  ... -0.365515   \n",
       "TCGA-BH-A0DL    -0.415354  0.589115  0.324746 -0.403157  ... -0.520483   \n",
       "TCGA-BH-A1EN    -0.201063 -0.612000  1.252208  3.504357  ...  0.342845   \n",
       "TCGA-BH-A208    -0.340924  0.148430 -0.007765 -0.348159  ...  0.031642   \n",
       "TCGA-BH-A42U     0.443604 -0.146845  0.274803 -0.258274  ... -0.137457   \n",
       "TCGA-BH-A5IZ    -0.399127 -0.596864 -0.900666 -0.320365  ... -0.003724   \n",
       "TCGA-D8-A27H    -0.437845  0.108413  0.036810 -0.346192  ... -0.442437   \n",
       "TCGA-E2-A1LG    -0.448009 -0.645491 -1.077221 -0.230314  ...  1.545184   \n",
       "TCGA-E2-A1LL    -0.221348 -0.187651  2.762885 -0.388571  ... -0.601369   \n",
       "TCGA-E2-A1LS     0.147904  1.915933 -0.385599 -0.420830  ... -0.564343   \n",
       "TCGA-E2-A572     2.243135 -0.751639 -0.901489 -0.241119  ...  0.713217   \n",
       "TCGA-E2-A574    -0.380274 -0.290538 -0.219932 -0.361626  ...  0.444245   \n",
       "TCGA-E9-A1ND     0.486192 -0.329768  0.115922 -0.386315  ... -0.305696   \n",
       "TCGA-E9-A5FL    -0.251577  0.226868  0.429646 -0.380382  ... -0.438231   \n",
       "TCGA-EW-A1P1     0.117766 -0.443808  1.145030 -0.339720  ... -0.455590   \n",
       "TCGA-EW-A1PB     3.710967  0.137495 -0.934291 -0.375026  ... -0.438951   \n",
       "TCGA-FA-A7DS    -0.415010 -0.984412  0.073789 -0.443794  ... -0.660395   \n",
       "TCGA-GM-A4E0     0.045211 -0.336259 -0.604957 -0.340323  ... -0.407743   \n",
       "TCGA-LL-A8F5     1.860124 -0.464017 -0.863054 -0.387405  ... -0.636458   \n",
       "TCGA-OL-A5RW    -0.080842 -0.286449 -0.574143 -0.343834  ...  2.015335   \n",
       "TCGA-OL-A66P    -0.279337 -0.143627  2.436134 -0.065792  ... -0.100058   \n",
       "TCGA-OL-A6VQ    -0.192784 -0.292674  3.284978 -0.234889  ... -0.062314   \n",
       "TCGA-PL-A8LV     0.011064 -0.654995 -0.224059 -0.366139  ...  0.891468   \n",
       "\n",
       "Gene                RAMP3    SCARA3   SERPINA1  SERPINF2   TMEM45B      TSKU  \\\n",
       "Case                                                                           \n",
       "ER-B1PU         -0.392005 -0.414537  -0.309348 -0.181082 -0.551756 -0.539980   \n",
       "MBCProject_1037 -0.378329 -0.505737  -0.285743 -0.251205 -0.145836 -0.423794   \n",
       "MBCProject_1542 -0.195101 -0.597529  -0.321613  0.067656 -0.384368 -0.521514   \n",
       "MBCProject_1819 -0.208991 -0.595553  -0.307013  0.346663 -0.478453 -0.477323   \n",
       "MBCProject_3159 -0.104212 -0.496912  -0.325692  0.527588 -0.525519 -0.530285   \n",
       "MBCProject_4424 -0.403834 -0.715864  -0.336051 -0.296450 -0.230278 -0.523506   \n",
       "MBCproject_0093 -0.403834 -0.965292   0.046882  1.040081  0.369532 -0.567719   \n",
       "MBCproject_0280 -0.178937 -0.658638  -0.274270 -0.000253 -0.414623 -0.545889   \n",
       "TCGA-A1-A0SK    -0.385397 -0.940958  -0.335134 -0.314658  0.002762 -0.411867   \n",
       "TCGA-A2-A0CO     1.151161  0.263677  -0.244249  0.272964 -0.135457 -0.245206   \n",
       "TCGA-A2-A0CY    -0.231111 -0.961812  -0.168951  0.905212  0.383326  0.007494   \n",
       "TCGA-A2-A0EP     0.275688  0.394857  -0.081585  0.167814 -0.379444 -0.138733   \n",
       "TCGA-A2-A3XV     0.104619 -0.773845  -0.042301 -0.007335  3.877364  4.311347   \n",
       "TCGA-A2-A3XW     0.542523  0.849549  -0.266792  0.481394 -0.088185  0.181951   \n",
       "TCGA-A2-A3Y0    -0.237391  1.727561  -0.256051 -0.260171 -0.424121 -0.183552   \n",
       "TCGA-A2-A4S1     0.324065 -0.559285  -0.241879 -0.047396 -0.554266  0.198941   \n",
       "TCGA-A7-A56D     0.086635 -0.097092  -0.194487 -0.228747 -0.272216  0.271468   \n",
       "TCGA-A7-A5ZV    -0.336230 -0.042994   0.476562 -0.212107 -0.582663  3.961472   \n",
       "TCGA-A8-A08H     0.176464  2.480271   0.116285  0.060560 -0.479394 -0.141984   \n",
       "TCGA-AC-A2QH    -0.402982 -0.453426  -0.333665 -0.330913 -0.560144 -0.439763   \n",
       "TCGA-AC-A2QJ    -0.177620 -0.612892  -0.048635  0.407104 -0.493200  0.353471   \n",
       "TCGA-AC-A62X    -0.236800  3.464160  -0.310833  0.211381 -0.567288 -0.112874   \n",
       "TCGA-AN-A0FL    -0.219731  2.811869  -0.332611 -0.333086 -0.502143 -0.212636   \n",
       "TCGA-AO-A1KO    -0.320886  1.765059  -0.113389  0.932538 -0.500321 -0.221494   \n",
       "TCGA-AO-A1KR    -0.167119 -0.710846  -0.266027  0.146869 -0.493695  0.440933   \n",
       "TCGA-AQ-A54N    -0.379865 -0.821481  -0.305977 -0.013098 -0.499488 -0.406804   \n",
       "TCGA-AR-A0TP    -0.383321 -0.532519  -0.328591 -0.338711 -0.545565 -0.519798   \n",
       "TCGA-AR-A2LN     0.058634  0.469112  -0.266856  0.157830  0.271501 -0.186017   \n",
       "TCGA-AR-A5QQ    -0.074309 -0.333236  -0.098862 -0.018131 -0.412704  0.243683   \n",
       "TCGA-B6-A0IA     7.312175 -0.631899  13.479399 -0.265741 -0.403629 -0.428885   \n",
       "TCGA-B6-A1KF    -0.342421  2.048435  -0.337941 -0.233176 -0.557887 -0.316177   \n",
       "TCGA-BH-A0BO    -0.173432  0.582944  -0.140122  0.176932  0.116374 -0.358599   \n",
       "TCGA-BH-A0DL    -0.280647 -0.639185  -0.149054 -0.251095  0.456630  0.305841   \n",
       "TCGA-BH-A1EN    -0.238801 -0.388562  -0.273317 -0.341310  0.516803  1.631370   \n",
       "TCGA-BH-A208    -0.180727  0.256296  -0.307333 -0.176131  0.855622 -0.010511   \n",
       "TCGA-BH-A42U     0.697938  1.109150  -0.184519  1.386212 -0.048118  0.175849   \n",
       "TCGA-BH-A5IZ    -0.204242  4.204471  -0.312108 -0.279603 -0.558961 -0.309682   \n",
       "TCGA-D8-A27H    -0.323761 -0.531952  -0.001515 -0.214692 -0.465190 -0.152680   \n",
       "TCGA-E2-A1LG    -0.324276 -0.079022  -0.323266 -0.293658 -0.451588 -0.335731   \n",
       "TCGA-E2-A1LL    -0.174525 -0.512671  -0.284129 -0.234482 -0.551020 -0.091823   \n",
       "TCGA-E2-A1LS    -0.282750  0.022755  -0.329686 -0.310780 -0.566274  1.104726   \n",
       "TCGA-E2-A572     0.106910  0.017737   0.437218 -0.067007 -0.410761 -0.116146   \n",
       "TCGA-E2-A574    -0.358285 -0.768097  -0.329610  0.480789 -0.311812 -0.304163   \n",
       "TCGA-E9-A1ND    -0.251918  1.357762   0.051117 -0.268629  0.084779  0.231096   \n",
       "TCGA-E9-A5FL    -0.250077 -0.340385  -0.330109  0.254233 -0.562642  0.435614   \n",
       "TCGA-EW-A1P1     0.262175  0.640221  -0.308264  0.237951 -0.042808 -0.229626   \n",
       "TCGA-EW-A1PB    -0.263960  7.727967   0.036250 -0.156286 -0.581287  0.146682   \n",
       "TCGA-FA-A7DS     0.253522 -0.941964  -0.225547 -0.181604 -0.576544 -0.533308   \n",
       "TCGA-GM-A4E0     1.357415 -0.026780  -0.232962  0.777550 -0.253510 -0.161169   \n",
       "TCGA-LL-A8F5    -0.215256  1.389331  -0.223424 -0.281955 -0.565248 -0.477193   \n",
       "TCGA-OL-A5RW    -0.265781  1.605953  -0.279590 -0.285778 -0.148539 -0.426853   \n",
       "TCGA-OL-A66P     0.486343 -0.625996   0.027407  0.086469  0.967400  1.851881   \n",
       "TCGA-OL-A6VQ    -0.085097  0.490662   1.257708  0.445253 -0.344964 -0.252100   \n",
       "TCGA-PL-A8LV    -0.125136  2.511702  -0.295254 -0.097702 -0.470162 -0.468907   \n",
       "\n",
       "Gene              TSPAN12      UCP2     VSIG2  \n",
       "Case                                           \n",
       "ER-B1PU          0.251338 -0.869466 -0.319394  \n",
       "MBCProject_1037 -0.211445 -0.390667 -0.444638  \n",
       "MBCProject_1542 -0.329936  0.223387  0.125454  \n",
       "MBCProject_1819  0.677203 -0.405091 -0.264097  \n",
       "MBCProject_3159 -0.342842 -0.554920 -0.006699  \n",
       "MBCProject_4424 -0.717005 -0.885184 -0.449186  \n",
       "MBCproject_0093  2.806989 -0.876076 -0.449186  \n",
       "MBCproject_0280  0.477848 -0.278416 -0.366658  \n",
       "TCGA-A1-A0SK     0.331586 -0.333276  0.379878  \n",
       "TCGA-A2-A0CO    -0.015422  0.310716  1.642877  \n",
       "TCGA-A2-A0CY     0.914992  1.642996  1.421842  \n",
       "TCGA-A2-A0EP    -0.168319  0.996595 -0.160842  \n",
       "TCGA-A2-A3XV    -0.617122  0.038000 -0.382976  \n",
       "TCGA-A2-A3XW    -0.373456 -0.344161  0.068387  \n",
       "TCGA-A2-A3Y0    -0.235961 -0.049574 -0.413969  \n",
       "TCGA-A2-A4S1    -0.530950 -0.618350 -0.325875  \n",
       "TCGA-A7-A56D     0.124932  1.069881 -0.406273  \n",
       "TCGA-A7-A5ZV     0.068806 -0.839912 -0.449186  \n",
       "TCGA-A8-A08H     0.259300  1.529957 -0.290785  \n",
       "TCGA-AC-A2QH    -0.330347 -0.965637 -0.353777  \n",
       "TCGA-AC-A2QJ    -0.627105  0.254409 -0.225790  \n",
       "TCGA-AC-A62X    -0.266007 -0.866130 -0.050075  \n",
       "TCGA-AN-A0FL    -0.154244  0.070923  0.768099  \n",
       "TCGA-AO-A1KO     1.242491 -0.817774  0.300533  \n",
       "TCGA-AO-A1KR    -0.416345 -0.310770 -0.213581  \n",
       "TCGA-AQ-A54N    -0.442188  0.259932 -0.395522  \n",
       "TCGA-AR-A0TP    -0.593332 -0.644024 -0.441988  \n",
       "TCGA-AR-A2LN    -0.119207 -0.220548  1.528222  \n",
       "TCGA-AR-A5QQ    -0.565909 -0.426750 -0.318526  \n",
       "TCGA-B6-A0IA    -0.687086 -0.538587 -0.134339  \n",
       "TCGA-B6-A1KF    -0.192978 -0.906184 -0.439662  \n",
       "TCGA-BH-A0BO    -0.387152 -0.079254 -0.114561  \n",
       "TCGA-BH-A0DL    -0.641228 -0.622365 -0.437208  \n",
       "TCGA-BH-A1EN     0.805931  0.679023 -0.431225  \n",
       "TCGA-BH-A208     0.026850  1.604911  4.231891  \n",
       "TCGA-BH-A42U    -0.084486  0.503401  2.101798  \n",
       "TCGA-BH-A5IZ    -0.200908 -0.835165 -0.119236  \n",
       "TCGA-D8-A27H    -0.199692 -0.627879 -0.425728  \n",
       "TCGA-E2-A1LG     0.799170 -0.766366  0.543742  \n",
       "TCGA-E2-A1LL    -0.360582 -0.803116 -0.366184  \n",
       "TCGA-E2-A1LS     2.002064 -0.930874  1.129551  \n",
       "TCGA-E2-A572    -0.622003 -0.792739 -0.399711  \n",
       "TCGA-E2-A574    -0.072480 -0.068780  0.100236  \n",
       "TCGA-E9-A1ND    -0.140912 -0.483880  0.043412  \n",
       "TCGA-E9-A5FL    -0.507950 -0.535512  0.562074  \n",
       "TCGA-EW-A1P1     0.334555 -0.159784 -0.016722  \n",
       "TCGA-EW-A1PB    -0.646172 -0.307571 -0.445275  \n",
       "TCGA-FA-A7DS    -0.649774  3.461367 -0.417569  \n",
       "TCGA-GM-A4E0     1.620350  1.253225  4.693184  \n",
       "TCGA-LL-A8F5    -0.129238 -0.663693 -0.403438  \n",
       "TCGA-OL-A5RW     0.286359 -0.026296  0.460149  \n",
       "TCGA-OL-A66P    -0.426707  3.495846 -0.269051  \n",
       "TCGA-OL-A6VQ    -0.214778  0.407804  0.168668  \n",
       "TCGA-PL-A8LV    -0.247256 -0.508598 -0.357249  \n",
       "\n",
       "[54 rows x 30 columns]"
      ]
     },
     "execution_count": 52,
     "metadata": {},
     "output_type": "execute_result"
    }
   ],
   "source": [
    "unique_expression"
   ]
  },
  {
   "cell_type": "code",
   "execution_count": 180,
   "id": "ea3567bc-0085-47a2-a152-9d04c2bafe08",
   "metadata": {},
   "outputs": [
    {
     "ename": "InvalidIndexError",
     "evalue": "Reindexing only valid with uniquely valued Index objects",
     "output_type": "error",
     "traceback": [
      "\u001b[1;31m---------------------------------------------------------------------------\u001b[0m",
      "\u001b[1;31mInvalidIndexError\u001b[0m                         Traceback (most recent call last)",
      "Cell \u001b[1;32mIn[180], line 6\u001b[0m\n\u001b[0;32m      3\u001b[0m     unique_expression\u001b[38;5;241m.\u001b[39mreset_index(inplace\u001b[38;5;241m=\u001b[39m\u001b[38;5;28;01mTrue\u001b[39;00m)\n\u001b[0;32m      5\u001b[0m \u001b[38;5;66;03m# Add the 'Cancer Stage' column to unique_expression by mapping from reshaped_df\u001b[39;00m\n\u001b[1;32m----> 6\u001b[0m unique_expression[\u001b[38;5;124m'\u001b[39m\u001b[38;5;124mCancer Stage\u001b[39m\u001b[38;5;124m'\u001b[39m] \u001b[38;5;241m=\u001b[39m unique_expression[\u001b[38;5;124m'\u001b[39m\u001b[38;5;124mCase\u001b[39m\u001b[38;5;124m'\u001b[39m]\u001b[38;5;241m.\u001b[39mmap(\n\u001b[0;32m      7\u001b[0m     reshaped_df\u001b[38;5;241m.\u001b[39mset_index(\u001b[38;5;124m'\u001b[39m\u001b[38;5;124mCase\u001b[39m\u001b[38;5;124m'\u001b[39m)[\u001b[38;5;124m'\u001b[39m\u001b[38;5;124mCancer Stage\u001b[39m\u001b[38;5;124m'\u001b[39m]\n\u001b[0;32m      8\u001b[0m )\n\u001b[0;32m     10\u001b[0m \u001b[38;5;66;03m# Display the updated unique_expression DataFrame\u001b[39;00m\n\u001b[0;32m     11\u001b[0m \u001b[38;5;28mprint\u001b[39m(unique_expression\u001b[38;5;241m.\u001b[39mhead())\n",
      "File \u001b[1;32m~\\anaconda3\\Lib\\site-packages\\pandas\\core\\series.py:4700\u001b[0m, in \u001b[0;36mSeries.map\u001b[1;34m(self, arg, na_action)\u001b[0m\n\u001b[0;32m   4620\u001b[0m \u001b[38;5;28;01mdef\u001b[39;00m \u001b[38;5;21mmap\u001b[39m(\n\u001b[0;32m   4621\u001b[0m     \u001b[38;5;28mself\u001b[39m,\n\u001b[0;32m   4622\u001b[0m     arg: Callable \u001b[38;5;241m|\u001b[39m Mapping \u001b[38;5;241m|\u001b[39m Series,\n\u001b[0;32m   4623\u001b[0m     na_action: Literal[\u001b[38;5;124m\"\u001b[39m\u001b[38;5;124mignore\u001b[39m\u001b[38;5;124m\"\u001b[39m] \u001b[38;5;241m|\u001b[39m \u001b[38;5;28;01mNone\u001b[39;00m \u001b[38;5;241m=\u001b[39m \u001b[38;5;28;01mNone\u001b[39;00m,\n\u001b[0;32m   4624\u001b[0m ) \u001b[38;5;241m-\u001b[39m\u001b[38;5;241m>\u001b[39m Series:\n\u001b[0;32m   4625\u001b[0m \u001b[38;5;250m    \u001b[39m\u001b[38;5;124;03m\"\"\"\u001b[39;00m\n\u001b[0;32m   4626\u001b[0m \u001b[38;5;124;03m    Map values of Series according to an input mapping or function.\u001b[39;00m\n\u001b[0;32m   4627\u001b[0m \n\u001b[1;32m   (...)\u001b[0m\n\u001b[0;32m   4698\u001b[0m \u001b[38;5;124;03m    dtype: object\u001b[39;00m\n\u001b[0;32m   4699\u001b[0m \u001b[38;5;124;03m    \"\"\"\u001b[39;00m\n\u001b[1;32m-> 4700\u001b[0m     new_values \u001b[38;5;241m=\u001b[39m \u001b[38;5;28mself\u001b[39m\u001b[38;5;241m.\u001b[39m_map_values(arg, na_action\u001b[38;5;241m=\u001b[39mna_action)\n\u001b[0;32m   4701\u001b[0m     \u001b[38;5;28;01mreturn\u001b[39;00m \u001b[38;5;28mself\u001b[39m\u001b[38;5;241m.\u001b[39m_constructor(new_values, index\u001b[38;5;241m=\u001b[39m\u001b[38;5;28mself\u001b[39m\u001b[38;5;241m.\u001b[39mindex, copy\u001b[38;5;241m=\u001b[39m\u001b[38;5;28;01mFalse\u001b[39;00m)\u001b[38;5;241m.\u001b[39m__finalize__(\n\u001b[0;32m   4702\u001b[0m         \u001b[38;5;28mself\u001b[39m, method\u001b[38;5;241m=\u001b[39m\u001b[38;5;124m\"\u001b[39m\u001b[38;5;124mmap\u001b[39m\u001b[38;5;124m\"\u001b[39m\n\u001b[0;32m   4703\u001b[0m     )\n",
      "File \u001b[1;32m~\\anaconda3\\Lib\\site-packages\\pandas\\core\\base.py:921\u001b[0m, in \u001b[0;36mIndexOpsMixin._map_values\u001b[1;34m(self, mapper, na_action, convert)\u001b[0m\n\u001b[0;32m    918\u001b[0m \u001b[38;5;28;01mif\u001b[39;00m \u001b[38;5;28misinstance\u001b[39m(arr, ExtensionArray):\n\u001b[0;32m    919\u001b[0m     \u001b[38;5;28;01mreturn\u001b[39;00m arr\u001b[38;5;241m.\u001b[39mmap(mapper, na_action\u001b[38;5;241m=\u001b[39mna_action)\n\u001b[1;32m--> 921\u001b[0m \u001b[38;5;28;01mreturn\u001b[39;00m algorithms\u001b[38;5;241m.\u001b[39mmap_array(arr, mapper, na_action\u001b[38;5;241m=\u001b[39mna_action, convert\u001b[38;5;241m=\u001b[39mconvert)\n",
      "File \u001b[1;32m~\\anaconda3\\Lib\\site-packages\\pandas\\core\\algorithms.py:1732\u001b[0m, in \u001b[0;36mmap_array\u001b[1;34m(arr, mapper, na_action, convert)\u001b[0m\n\u001b[0;32m   1728\u001b[0m     mapper \u001b[38;5;241m=\u001b[39m mapper[mapper\u001b[38;5;241m.\u001b[39mindex\u001b[38;5;241m.\u001b[39mnotna()]\n\u001b[0;32m   1730\u001b[0m \u001b[38;5;66;03m# Since values were input this means we came from either\u001b[39;00m\n\u001b[0;32m   1731\u001b[0m \u001b[38;5;66;03m# a dict or a series and mapper should be an index\u001b[39;00m\n\u001b[1;32m-> 1732\u001b[0m indexer \u001b[38;5;241m=\u001b[39m mapper\u001b[38;5;241m.\u001b[39mindex\u001b[38;5;241m.\u001b[39mget_indexer(arr)\n\u001b[0;32m   1733\u001b[0m new_values \u001b[38;5;241m=\u001b[39m take_nd(mapper\u001b[38;5;241m.\u001b[39m_values, indexer)\n\u001b[0;32m   1735\u001b[0m \u001b[38;5;28;01mreturn\u001b[39;00m new_values\n",
      "File \u001b[1;32m~\\anaconda3\\Lib\\site-packages\\pandas\\core\\indexes\\base.py:3885\u001b[0m, in \u001b[0;36mIndex.get_indexer\u001b[1;34m(self, target, method, limit, tolerance)\u001b[0m\n\u001b[0;32m   3882\u001b[0m \u001b[38;5;28mself\u001b[39m\u001b[38;5;241m.\u001b[39m_check_indexing_method(method, limit, tolerance)\n\u001b[0;32m   3884\u001b[0m \u001b[38;5;28;01mif\u001b[39;00m \u001b[38;5;129;01mnot\u001b[39;00m \u001b[38;5;28mself\u001b[39m\u001b[38;5;241m.\u001b[39m_index_as_unique:\n\u001b[1;32m-> 3885\u001b[0m     \u001b[38;5;28;01mraise\u001b[39;00m InvalidIndexError(\u001b[38;5;28mself\u001b[39m\u001b[38;5;241m.\u001b[39m_requires_unique_msg)\n\u001b[0;32m   3887\u001b[0m \u001b[38;5;28;01mif\u001b[39;00m \u001b[38;5;28mlen\u001b[39m(target) \u001b[38;5;241m==\u001b[39m \u001b[38;5;241m0\u001b[39m:\n\u001b[0;32m   3888\u001b[0m     \u001b[38;5;28;01mreturn\u001b[39;00m np\u001b[38;5;241m.\u001b[39marray([], dtype\u001b[38;5;241m=\u001b[39mnp\u001b[38;5;241m.\u001b[39mintp)\n",
      "\u001b[1;31mInvalidIndexError\u001b[0m: Reindexing only valid with uniquely valued Index objects"
     ]
    }
   ],
   "source": [
    "# # If 'Case' is the index in unique_expression, reset the index first\n",
    "# if 'Case' not in unique_expression.columns:\n",
    "#     unique_expression.reset_index(inplace=True)\n",
    "\n",
    "# # Add the 'Cancer Stage' column to unique_expression by mapping from reshaped_df\n",
    "# unique_expression['Cancer Stage'] = unique_expression['Case'].map(\n",
    "#     reshaped_df.set_index('Case')['Cancer Stage']\n",
    "# )\n",
    "\n",
    "# # Display the updated unique_expression DataFrame\n",
    "# print(unique_expression.head())\n"
   ]
  },
  {
   "cell_type": "code",
   "execution_count": 178,
   "id": "8b7bdb6d-9120-4ce5-baed-3093de0daf9f",
   "metadata": {},
   "outputs": [
    {
     "data": {
      "text/plain": [
       "Index(['ER-B1PU', 'MBCProject_1037', 'MBCProject_1542', 'MBCProject_1819',\n",
       "       'MBCProject_3159', 'MBCProject_4424', 'MBCproject_0093',\n",
       "       'MBCproject_0280', 'TCGA-A1-A0SK', 'TCGA-A2-A0CO', 'TCGA-A2-A0CY',\n",
       "       'TCGA-A2-A0EP', 'TCGA-A2-A3XV', 'TCGA-A2-A3XW', 'TCGA-A2-A3Y0',\n",
       "       'TCGA-A2-A4S1', 'TCGA-A7-A56D', 'TCGA-A7-A5ZV', 'TCGA-A8-A08H',\n",
       "       'TCGA-AC-A2QH', 'TCGA-AC-A2QJ', 'TCGA-AC-A62X', 'TCGA-AN-A0FL',\n",
       "       'TCGA-AO-A1KO', 'TCGA-AO-A1KR', 'TCGA-AQ-A54N', 'TCGA-AR-A0TP',\n",
       "       'TCGA-AR-A2LN', 'TCGA-AR-A5QQ', 'TCGA-B6-A0IA', 'TCGA-B6-A1KF',\n",
       "       'TCGA-BH-A0BO', 'TCGA-BH-A0DL', 'TCGA-BH-A1EN', 'TCGA-BH-A208',\n",
       "       'TCGA-BH-A42U', 'TCGA-BH-A5IZ', 'TCGA-D8-A27H', 'TCGA-E2-A1LG',\n",
       "       'TCGA-E2-A1LL', 'TCGA-E2-A1LS', 'TCGA-E2-A572', 'TCGA-E2-A574',\n",
       "       'TCGA-E9-A1ND', 'TCGA-E9-A5FL', 'TCGA-EW-A1P1', 'TCGA-EW-A1PB',\n",
       "       'TCGA-FA-A7DS', 'TCGA-GM-A4E0', 'TCGA-LL-A8F5', 'TCGA-OL-A5RW',\n",
       "       'TCGA-OL-A66P', 'TCGA-OL-A6VQ', 'TCGA-PL-A8LV'],\n",
       "      dtype='object', name='Case')"
      ]
     },
     "execution_count": 178,
     "metadata": {},
     "output_type": "execute_result"
    }
   ],
   "source": [
    "# unique_expression.index"
   ]
  },
  {
   "cell_type": "code",
   "execution_count": 53,
   "id": "5d8e17b8",
   "metadata": {},
   "outputs": [
    {
     "data": {
      "image/png": "[encoded data removed]",
      "text/plain": [
       "<Figure size 1200x800 with 2 Axes>"
      ]
     },
     "metadata": {},
     "output_type": "display_data"
    }
   ],
   "source": [
    "import matplotlib.pyplot as plt\n",
    "import seaborn as sns\n",
    "\n",
    "# Use seaborn for a static heatmap as an alternative\n",
    "plt.figure(figsize=(12, 8))\n",
    "sns.heatmap(\n",
    "    unique_expression,\n",
    "    cmap=\"viridis\",\n",
    "    cbar_kws={'label': 'Expression Level'},\n",
    "    xticklabels=True,\n",
    "    yticklabels=True\n",
    ")\n",
    "\n",
    "plt.title(\"Heatmap of Gene Expression Levels\")\n",
    "plt.xlabel(\"Genes\")\n",
    "plt.ylabel(\"Cases\")\n",
    "plt.show()\n"
   ]
  },
  {
   "cell_type": "code",
   "execution_count": 54,
   "id": "99ee7e5f",
   "metadata": {},
   "outputs": [],
   "source": [
    "unique_expression.reset_index(inplace=True)\n",
    "unique_expression_melted = unique_expression.melt(id_vars='Case', var_name='Gene', value_name='Expression')"
   ]
  },
  {
   "cell_type": "code",
   "execution_count": 55,
   "id": "c6400f1b",
   "metadata": {},
   "outputs": [
    {
     "data": {
      "text/html": [
       "<div>\n",
       "<style scoped>\n",
       "    .dataframe tbody tr th:only-of-type {\n",
       "        vertical-align: middle;\n",
       "    }\n",
       "\n",
       "    .dataframe tbody tr th {\n",
       "        vertical-align: top;\n",
       "    }\n",
       "\n",
       "    .dataframe thead th {\n",
       "        text-align: right;\n",
       "    }\n",
       "</style>\n",
       "<table border=\"1\" class=\"dataframe\">\n",
       "  <thead>\n",
       "    <tr style=\"text-align: right;\">\n",
       "      <th>Gene</th>\n",
       "      <th>Case</th>\n",
       "      <th>ABCC3</th>\n",
       "      <th>ACKR3</th>\n",
       "      <th>ANO1</th>\n",
       "      <th>APOC1</th>\n",
       "      <th>AQP3</th>\n",
       "      <th>CA2</th>\n",
       "      <th>CLU</th>\n",
       "      <th>CTTN</th>\n",
       "      <th>DUSP10</th>\n",
       "      <th>...</th>\n",
       "      <th>PRR15L</th>\n",
       "      <th>RAMP3</th>\n",
       "      <th>SCARA3</th>\n",
       "      <th>SERPINA1</th>\n",
       "      <th>SERPINF2</th>\n",
       "      <th>TMEM45B</th>\n",
       "      <th>TSKU</th>\n",
       "      <th>TSPAN12</th>\n",
       "      <th>UCP2</th>\n",
       "      <th>VSIG2</th>\n",
       "    </tr>\n",
       "  </thead>\n",
       "  <tbody>\n",
       "    <tr>\n",
       "      <th>0</th>\n",
       "      <td>ER-B1PU</td>\n",
       "      <td>-0.045023</td>\n",
       "      <td>-0.586864</td>\n",
       "      <td>-0.907599</td>\n",
       "      <td>-0.228153</td>\n",
       "      <td>-0.393294</td>\n",
       "      <td>0.079816</td>\n",
       "      <td>0.080477</td>\n",
       "      <td>-0.685137</td>\n",
       "      <td>-0.610679</td>\n",
       "      <td>...</td>\n",
       "      <td>-0.658016</td>\n",
       "      <td>-0.392005</td>\n",
       "      <td>-0.414537</td>\n",
       "      <td>-0.309348</td>\n",
       "      <td>-0.181082</td>\n",
       "      <td>-0.551756</td>\n",
       "      <td>-0.539980</td>\n",
       "      <td>0.251338</td>\n",
       "      <td>-0.869466</td>\n",
       "      <td>-0.319394</td>\n",
       "    </tr>\n",
       "    <tr>\n",
       "      <th>1</th>\n",
       "      <td>MBCProject_1037</td>\n",
       "      <td>0.961252</td>\n",
       "      <td>-0.721009</td>\n",
       "      <td>-0.631017</td>\n",
       "      <td>0.980195</td>\n",
       "      <td>-0.355389</td>\n",
       "      <td>-0.084171</td>\n",
       "      <td>-0.361796</td>\n",
       "      <td>-0.524917</td>\n",
       "      <td>0.559878</td>\n",
       "      <td>...</td>\n",
       "      <td>-0.656139</td>\n",
       "      <td>-0.378329</td>\n",
       "      <td>-0.505737</td>\n",
       "      <td>-0.285743</td>\n",
       "      <td>-0.251205</td>\n",
       "      <td>-0.145836</td>\n",
       "      <td>-0.423794</td>\n",
       "      <td>-0.211445</td>\n",
       "      <td>-0.390667</td>\n",
       "      <td>-0.444638</td>\n",
       "    </tr>\n",
       "    <tr>\n",
       "      <th>2</th>\n",
       "      <td>MBCProject_1542</td>\n",
       "      <td>0.286342</td>\n",
       "      <td>-0.717298</td>\n",
       "      <td>-0.699201</td>\n",
       "      <td>-0.082009</td>\n",
       "      <td>-0.370838</td>\n",
       "      <td>-0.119778</td>\n",
       "      <td>-0.149715</td>\n",
       "      <td>-0.758737</td>\n",
       "      <td>-0.529960</td>\n",
       "      <td>...</td>\n",
       "      <td>-0.606829</td>\n",
       "      <td>-0.195101</td>\n",
       "      <td>-0.597529</td>\n",
       "      <td>-0.321613</td>\n",
       "      <td>0.067656</td>\n",
       "      <td>-0.384368</td>\n",
       "      <td>-0.521514</td>\n",
       "      <td>-0.329936</td>\n",
       "      <td>0.223387</td>\n",
       "      <td>0.125454</td>\n",
       "    </tr>\n",
       "    <tr>\n",
       "      <th>3</th>\n",
       "      <td>MBCProject_1819</td>\n",
       "      <td>0.880671</td>\n",
       "      <td>-0.697784</td>\n",
       "      <td>-0.556719</td>\n",
       "      <td>-0.388686</td>\n",
       "      <td>-0.361625</td>\n",
       "      <td>-0.029711</td>\n",
       "      <td>-0.177128</td>\n",
       "      <td>-0.449316</td>\n",
       "      <td>-0.556900</td>\n",
       "      <td>...</td>\n",
       "      <td>-0.636253</td>\n",
       "      <td>-0.208991</td>\n",
       "      <td>-0.595553</td>\n",
       "      <td>-0.307013</td>\n",
       "      <td>0.346663</td>\n",
       "      <td>-0.478453</td>\n",
       "      <td>-0.477323</td>\n",
       "      <td>0.677203</td>\n",
       "      <td>-0.405091</td>\n",
       "      <td>-0.264097</td>\n",
       "    </tr>\n",
       "    <tr>\n",
       "      <th>4</th>\n",
       "      <td>MBCProject_3159</td>\n",
       "      <td>0.160918</td>\n",
       "      <td>0.420206</td>\n",
       "      <td>-0.621328</td>\n",
       "      <td>-0.419311</td>\n",
       "      <td>-0.345664</td>\n",
       "      <td>-0.119353</td>\n",
       "      <td>-0.342870</td>\n",
       "      <td>-0.378176</td>\n",
       "      <td>-0.788626</td>\n",
       "      <td>...</td>\n",
       "      <td>-0.656412</td>\n",
       "      <td>-0.104212</td>\n",
       "      <td>-0.496912</td>\n",
       "      <td>-0.325692</td>\n",
       "      <td>0.527588</td>\n",
       "      <td>-0.525519</td>\n",
       "      <td>-0.530285</td>\n",
       "      <td>-0.342842</td>\n",
       "      <td>-0.554920</td>\n",
       "      <td>-0.006699</td>\n",
       "    </tr>\n",
       "    <tr>\n",
       "      <th>5</th>\n",
       "      <td>MBCProject_4424</td>\n",
       "      <td>-0.363664</td>\n",
       "      <td>-0.851063</td>\n",
       "      <td>-0.903833</td>\n",
       "      <td>-0.750162</td>\n",
       "      <td>-0.287691</td>\n",
       "      <td>-0.131517</td>\n",
       "      <td>-0.437617</td>\n",
       "      <td>-0.281002</td>\n",
       "      <td>-0.808958</td>\n",
       "      <td>...</td>\n",
       "      <td>-0.614746</td>\n",
       "      <td>-0.403834</td>\n",
       "      <td>-0.715864</td>\n",
       "      <td>-0.336051</td>\n",
       "      <td>-0.296450</td>\n",
       "      <td>-0.230278</td>\n",
       "      <td>-0.523506</td>\n",
       "      <td>-0.717005</td>\n",
       "      <td>-0.885184</td>\n",
       "      <td>-0.449186</td>\n",
       "    </tr>\n",
       "    <tr>\n",
       "      <th>6</th>\n",
       "      <td>MBCproject_0093</td>\n",
       "      <td>2.462503</td>\n",
       "      <td>-0.821065</td>\n",
       "      <td>1.088591</td>\n",
       "      <td>-0.530109</td>\n",
       "      <td>-0.080048</td>\n",
       "      <td>-0.125738</td>\n",
       "      <td>0.067390</td>\n",
       "      <td>1.721424</td>\n",
       "      <td>3.252885</td>\n",
       "      <td>...</td>\n",
       "      <td>-0.655327</td>\n",
       "      <td>-0.403834</td>\n",
       "      <td>-0.965292</td>\n",
       "      <td>0.046882</td>\n",
       "      <td>1.040081</td>\n",
       "      <td>0.369532</td>\n",
       "      <td>-0.567719</td>\n",
       "      <td>2.806989</td>\n",
       "      <td>-0.876076</td>\n",
       "      <td>-0.449186</td>\n",
       "    </tr>\n",
       "    <tr>\n",
       "      <th>7</th>\n",
       "      <td>MBCproject_0280</td>\n",
       "      <td>0.417540</td>\n",
       "      <td>-0.687530</td>\n",
       "      <td>-0.100600</td>\n",
       "      <td>-0.454301</td>\n",
       "      <td>-0.077728</td>\n",
       "      <td>-0.120369</td>\n",
       "      <td>-0.271881</td>\n",
       "      <td>-0.467759</td>\n",
       "      <td>-0.541961</td>\n",
       "      <td>...</td>\n",
       "      <td>-0.610674</td>\n",
       "      <td>-0.178937</td>\n",
       "      <td>-0.658638</td>\n",
       "      <td>-0.274270</td>\n",
       "      <td>-0.000253</td>\n",
       "      <td>-0.414623</td>\n",
       "      <td>-0.545889</td>\n",
       "      <td>0.477848</td>\n",
       "      <td>-0.278416</td>\n",
       "      <td>-0.366658</td>\n",
       "    </tr>\n",
       "    <tr>\n",
       "      <th>8</th>\n",
       "      <td>TCGA-A1-A0SK</td>\n",
       "      <td>-0.439030</td>\n",
       "      <td>0.642108</td>\n",
       "      <td>-0.723427</td>\n",
       "      <td>-0.655918</td>\n",
       "      <td>-0.182672</td>\n",
       "      <td>-0.124400</td>\n",
       "      <td>-0.475469</td>\n",
       "      <td>-0.365973</td>\n",
       "      <td>-1.008591</td>\n",
       "      <td>...</td>\n",
       "      <td>-0.365946</td>\n",
       "      <td>-0.385397</td>\n",
       "      <td>-0.940958</td>\n",
       "      <td>-0.335134</td>\n",
       "      <td>-0.314658</td>\n",
       "      <td>0.002762</td>\n",
       "      <td>-0.411867</td>\n",
       "      <td>0.331586</td>\n",
       "      <td>-0.333276</td>\n",
       "      <td>0.379878</td>\n",
       "    </tr>\n",
       "    <tr>\n",
       "      <th>9</th>\n",
       "      <td>TCGA-A2-A0CO</td>\n",
       "      <td>-0.135141</td>\n",
       "      <td>1.102262</td>\n",
       "      <td>-0.364764</td>\n",
       "      <td>-0.249296</td>\n",
       "      <td>-0.279686</td>\n",
       "      <td>-0.058934</td>\n",
       "      <td>-0.008221</td>\n",
       "      <td>-0.415492</td>\n",
       "      <td>0.606770</td>\n",
       "      <td>...</td>\n",
       "      <td>-0.384279</td>\n",
       "      <td>1.151161</td>\n",
       "      <td>0.263677</td>\n",
       "      <td>-0.244249</td>\n",
       "      <td>0.272964</td>\n",
       "      <td>-0.135457</td>\n",
       "      <td>-0.245206</td>\n",
       "      <td>-0.015422</td>\n",
       "      <td>0.310716</td>\n",
       "      <td>1.642877</td>\n",
       "    </tr>\n",
       "    <tr>\n",
       "      <th>10</th>\n",
       "      <td>TCGA-A2-A0CY</td>\n",
       "      <td>-0.394692</td>\n",
       "      <td>-0.187349</td>\n",
       "      <td>-0.841837</td>\n",
       "      <td>-0.321912</td>\n",
       "      <td>-0.252250</td>\n",
       "      <td>-0.127375</td>\n",
       "      <td>-0.401543</td>\n",
       "      <td>0.388442</td>\n",
       "      <td>-0.562318</td>\n",
       "      <td>...</td>\n",
       "      <td>0.361426</td>\n",
       "      <td>-0.231111</td>\n",
       "      <td>-0.961812</td>\n",
       "      <td>-0.168951</td>\n",
       "      <td>0.905212</td>\n",
       "      <td>0.383326</td>\n",
       "      <td>0.007494</td>\n",
       "      <td>0.914992</td>\n",
       "      <td>1.642996</td>\n",
       "      <td>1.421842</td>\n",
       "    </tr>\n",
       "    <tr>\n",
       "      <th>11</th>\n",
       "      <td>TCGA-A2-A0EP</td>\n",
       "      <td>-0.115946</td>\n",
       "      <td>1.212979</td>\n",
       "      <td>-0.619284</td>\n",
       "      <td>0.904926</td>\n",
       "      <td>0.332508</td>\n",
       "      <td>0.019685</td>\n",
       "      <td>0.025580</td>\n",
       "      <td>-0.473239</td>\n",
       "      <td>1.299873</td>\n",
       "      <td>...</td>\n",
       "      <td>-0.478607</td>\n",
       "      <td>0.275688</td>\n",
       "      <td>0.394857</td>\n",
       "      <td>-0.081585</td>\n",
       "      <td>0.167814</td>\n",
       "      <td>-0.379444</td>\n",
       "      <td>-0.138733</td>\n",
       "      <td>-0.168319</td>\n",
       "      <td>0.996595</td>\n",
       "      <td>-0.160842</td>\n",
       "    </tr>\n",
       "    <tr>\n",
       "      <th>12</th>\n",
       "      <td>TCGA-A2-A3XV</td>\n",
       "      <td>-0.250183</td>\n",
       "      <td>-0.632422</td>\n",
       "      <td>-0.833125</td>\n",
       "      <td>1.641562</td>\n",
       "      <td>-0.020663</td>\n",
       "      <td>-0.118802</td>\n",
       "      <td>0.287453</td>\n",
       "      <td>0.359432</td>\n",
       "      <td>2.061959</td>\n",
       "      <td>...</td>\n",
       "      <td>4.529586</td>\n",
       "      <td>0.104619</td>\n",
       "      <td>-0.773845</td>\n",
       "      <td>-0.042301</td>\n",
       "      <td>-0.007335</td>\n",
       "      <td>3.877364</td>\n",
       "      <td>4.311347</td>\n",
       "      <td>-0.617122</td>\n",
       "      <td>0.038000</td>\n",
       "      <td>-0.382976</td>\n",
       "    </tr>\n",
       "    <tr>\n",
       "      <th>13</th>\n",
       "      <td>TCGA-A2-A3XW</td>\n",
       "      <td>-0.030133</td>\n",
       "      <td>0.735423</td>\n",
       "      <td>-0.124290</td>\n",
       "      <td>-0.351197</td>\n",
       "      <td>8.758104</td>\n",
       "      <td>-0.076570</td>\n",
       "      <td>0.127374</td>\n",
       "      <td>-0.124086</td>\n",
       "      <td>-0.678827</td>\n",
       "      <td>...</td>\n",
       "      <td>-0.238395</td>\n",
       "      <td>0.542523</td>\n",
       "      <td>0.849549</td>\n",
       "      <td>-0.266792</td>\n",
       "      <td>0.481394</td>\n",
       "      <td>-0.088185</td>\n",
       "      <td>0.181951</td>\n",
       "      <td>-0.373456</td>\n",
       "      <td>-0.344161</td>\n",
       "      <td>0.068387</td>\n",
       "    </tr>\n",
       "    <tr>\n",
       "      <th>14</th>\n",
       "      <td>TCGA-A2-A3Y0</td>\n",
       "      <td>-0.275593</td>\n",
       "      <td>-0.601858</td>\n",
       "      <td>-0.735628</td>\n",
       "      <td>0.190535</td>\n",
       "      <td>-0.129125</td>\n",
       "      <td>-0.025380</td>\n",
       "      <td>0.414085</td>\n",
       "      <td>-0.653264</td>\n",
       "      <td>-0.041365</td>\n",
       "      <td>...</td>\n",
       "      <td>-0.490742</td>\n",
       "      <td>-0.237391</td>\n",
       "      <td>1.727561</td>\n",
       "      <td>-0.256051</td>\n",
       "      <td>-0.260171</td>\n",
       "      <td>-0.424121</td>\n",
       "      <td>-0.183552</td>\n",
       "      <td>-0.235961</td>\n",
       "      <td>-0.049574</td>\n",
       "      <td>-0.413969</td>\n",
       "    </tr>\n",
       "    <tr>\n",
       "      <th>15</th>\n",
       "      <td>TCGA-A2-A4S1</td>\n",
       "      <td>-0.103397</td>\n",
       "      <td>0.814382</td>\n",
       "      <td>-0.749352</td>\n",
       "      <td>-0.582861</td>\n",
       "      <td>-0.383935</td>\n",
       "      <td>-0.116029</td>\n",
       "      <td>-0.306217</td>\n",
       "      <td>-0.266099</td>\n",
       "      <td>-0.208981</td>\n",
       "      <td>...</td>\n",
       "      <td>-0.658142</td>\n",
       "      <td>0.324065</td>\n",
       "      <td>-0.559285</td>\n",
       "      <td>-0.241879</td>\n",
       "      <td>-0.047396</td>\n",
       "      <td>-0.554266</td>\n",
       "      <td>0.198941</td>\n",
       "      <td>-0.530950</td>\n",
       "      <td>-0.618350</td>\n",
       "      <td>-0.325875</td>\n",
       "    </tr>\n",
       "    <tr>\n",
       "      <th>16</th>\n",
       "      <td>TCGA-A7-A56D</td>\n",
       "      <td>-0.189467</td>\n",
       "      <td>-0.021546</td>\n",
       "      <td>-0.710597</td>\n",
       "      <td>1.207250</td>\n",
       "      <td>-0.376387</td>\n",
       "      <td>-0.124772</td>\n",
       "      <td>0.251970</td>\n",
       "      <td>-0.098352</td>\n",
       "      <td>-0.370015</td>\n",
       "      <td>...</td>\n",
       "      <td>-0.250242</td>\n",
       "      <td>0.086635</td>\n",
       "      <td>-0.097092</td>\n",
       "      <td>-0.194487</td>\n",
       "      <td>-0.228747</td>\n",
       "      <td>-0.272216</td>\n",
       "      <td>0.271468</td>\n",
       "      <td>0.124932</td>\n",
       "      <td>1.069881</td>\n",
       "      <td>-0.406273</td>\n",
       "    </tr>\n",
       "    <tr>\n",
       "      <th>17</th>\n",
       "      <td>TCGA-A7-A5ZV</td>\n",
       "      <td>0.531223</td>\n",
       "      <td>-0.218859</td>\n",
       "      <td>-0.425023</td>\n",
       "      <td>-0.442964</td>\n",
       "      <td>-0.279946</td>\n",
       "      <td>1.043246</td>\n",
       "      <td>0.031156</td>\n",
       "      <td>0.544617</td>\n",
       "      <td>-0.673193</td>\n",
       "      <td>...</td>\n",
       "      <td>-0.628340</td>\n",
       "      <td>-0.336230</td>\n",
       "      <td>-0.042994</td>\n",
       "      <td>0.476562</td>\n",
       "      <td>-0.212107</td>\n",
       "      <td>-0.582663</td>\n",
       "      <td>3.961472</td>\n",
       "      <td>0.068806</td>\n",
       "      <td>-0.839912</td>\n",
       "      <td>-0.449186</td>\n",
       "    </tr>\n",
       "    <tr>\n",
       "      <th>18</th>\n",
       "      <td>TCGA-A8-A08H</td>\n",
       "      <td>0.073792</td>\n",
       "      <td>-0.145904</td>\n",
       "      <td>-0.675051</td>\n",
       "      <td>2.310054</td>\n",
       "      <td>-0.295886</td>\n",
       "      <td>-0.100048</td>\n",
       "      <td>-0.215795</td>\n",
       "      <td>-0.492488</td>\n",
       "      <td>-0.566420</td>\n",
       "      <td>...</td>\n",
       "      <td>-0.514646</td>\n",
       "      <td>0.176464</td>\n",
       "      <td>2.480271</td>\n",
       "      <td>0.116285</td>\n",
       "      <td>0.060560</td>\n",
       "      <td>-0.479394</td>\n",
       "      <td>-0.141984</td>\n",
       "      <td>0.259300</td>\n",
       "      <td>1.529957</td>\n",
       "      <td>-0.290785</td>\n",
       "    </tr>\n",
       "    <tr>\n",
       "      <th>19</th>\n",
       "      <td>TCGA-AC-A2QH</td>\n",
       "      <td>-0.384539</td>\n",
       "      <td>-0.612590</td>\n",
       "      <td>-0.524205</td>\n",
       "      <td>-0.699997</td>\n",
       "      <td>-0.389579</td>\n",
       "      <td>-0.124449</td>\n",
       "      <td>-0.453882</td>\n",
       "      <td>-0.713976</td>\n",
       "      <td>-0.633403</td>\n",
       "      <td>...</td>\n",
       "      <td>-0.658549</td>\n",
       "      <td>-0.402982</td>\n",
       "      <td>-0.453426</td>\n",
       "      <td>-0.333665</td>\n",
       "      <td>-0.330913</td>\n",
       "      <td>-0.560144</td>\n",
       "      <td>-0.439763</td>\n",
       "      <td>-0.330347</td>\n",
       "      <td>-0.965637</td>\n",
       "      <td>-0.353777</td>\n",
       "    </tr>\n",
       "    <tr>\n",
       "      <th>20</th>\n",
       "      <td>TCGA-AC-A2QJ</td>\n",
       "      <td>-0.167629</td>\n",
       "      <td>-0.380088</td>\n",
       "      <td>-0.850784</td>\n",
       "      <td>1.938465</td>\n",
       "      <td>-0.342240</td>\n",
       "      <td>-0.078571</td>\n",
       "      <td>-0.396251</td>\n",
       "      <td>-0.067790</td>\n",
       "      <td>-0.850014</td>\n",
       "      <td>...</td>\n",
       "      <td>-0.633045</td>\n",
       "      <td>-0.177620</td>\n",
       "      <td>-0.612892</td>\n",
       "      <td>-0.048635</td>\n",
       "      <td>0.407104</td>\n",
       "      <td>-0.493200</td>\n",
       "      <td>0.353471</td>\n",
       "      <td>-0.627105</td>\n",
       "      <td>0.254409</td>\n",
       "      <td>-0.225790</td>\n",
       "    </tr>\n",
       "    <tr>\n",
       "      <th>21</th>\n",
       "      <td>TCGA-AC-A62X</td>\n",
       "      <td>-0.444272</td>\n",
       "      <td>-0.501576</td>\n",
       "      <td>-0.503457</td>\n",
       "      <td>-0.729336</td>\n",
       "      <td>-0.354278</td>\n",
       "      <td>0.052602</td>\n",
       "      <td>5.118661</td>\n",
       "      <td>-0.277719</td>\n",
       "      <td>-0.756647</td>\n",
       "      <td>...</td>\n",
       "      <td>-0.420188</td>\n",
       "      <td>-0.236800</td>\n",
       "      <td>3.464160</td>\n",
       "      <td>-0.310833</td>\n",
       "      <td>0.211381</td>\n",
       "      <td>-0.567288</td>\n",
       "      <td>-0.112874</td>\n",
       "      <td>-0.266007</td>\n",
       "      <td>-0.866130</td>\n",
       "      <td>-0.050075</td>\n",
       "    </tr>\n",
       "    <tr>\n",
       "      <th>22</th>\n",
       "      <td>TCGA-AN-A0FL</td>\n",
       "      <td>-0.393471</td>\n",
       "      <td>-0.111375</td>\n",
       "      <td>-0.127918</td>\n",
       "      <td>-0.396482</td>\n",
       "      <td>0.465743</td>\n",
       "      <td>0.266569</td>\n",
       "      <td>0.199961</td>\n",
       "      <td>-0.468673</td>\n",
       "      <td>-1.004084</td>\n",
       "      <td>...</td>\n",
       "      <td>-0.238395</td>\n",
       "      <td>-0.219731</td>\n",
       "      <td>2.811869</td>\n",
       "      <td>-0.332611</td>\n",
       "      <td>-0.333086</td>\n",
       "      <td>-0.502143</td>\n",
       "      <td>-0.212636</td>\n",
       "      <td>-0.154244</td>\n",
       "      <td>0.070923</td>\n",
       "      <td>0.768099</td>\n",
       "    </tr>\n",
       "    <tr>\n",
       "      <th>23</th>\n",
       "      <td>TCGA-AO-A1KO</td>\n",
       "      <td>-0.321170</td>\n",
       "      <td>-0.388797</td>\n",
       "      <td>1.651503</td>\n",
       "      <td>-0.608153</td>\n",
       "      <td>-0.170202</td>\n",
       "      <td>-0.070206</td>\n",
       "      <td>0.139061</td>\n",
       "      <td>-0.713551</td>\n",
       "      <td>-0.402715</td>\n",
       "      <td>...</td>\n",
       "      <td>-0.050282</td>\n",
       "      <td>-0.320886</td>\n",
       "      <td>1.765059</td>\n",
       "      <td>-0.113389</td>\n",
       "      <td>0.932538</td>\n",
       "      <td>-0.500321</td>\n",
       "      <td>-0.221494</td>\n",
       "      <td>1.242491</td>\n",
       "      <td>-0.817774</td>\n",
       "      <td>0.300533</td>\n",
       "    </tr>\n",
       "    <tr>\n",
       "      <th>24</th>\n",
       "      <td>TCGA-AO-A1KR</td>\n",
       "      <td>-0.365353</td>\n",
       "      <td>-0.497606</td>\n",
       "      <td>-0.731165</td>\n",
       "      <td>-0.525712</td>\n",
       "      <td>-0.338950</td>\n",
       "      <td>-0.110697</td>\n",
       "      <td>-0.326256</td>\n",
       "      <td>-0.040782</td>\n",
       "      <td>0.015871</td>\n",
       "      <td>...</td>\n",
       "      <td>-0.440125</td>\n",
       "      <td>-0.167119</td>\n",
       "      <td>-0.710846</td>\n",
       "      <td>-0.266027</td>\n",
       "      <td>0.146869</td>\n",
       "      <td>-0.493695</td>\n",
       "      <td>0.440933</td>\n",
       "      <td>-0.416345</td>\n",
       "      <td>-0.310770</td>\n",
       "      <td>-0.213581</td>\n",
       "    </tr>\n",
       "    <tr>\n",
       "      <th>25</th>\n",
       "      <td>TCGA-AQ-A54N</td>\n",
       "      <td>-0.435303</td>\n",
       "      <td>-0.757258</td>\n",
       "      <td>-0.726302</td>\n",
       "      <td>0.217615</td>\n",
       "      <td>-0.382010</td>\n",
       "      <td>-0.047834</td>\n",
       "      <td>-0.375108</td>\n",
       "      <td>-0.358603</td>\n",
       "      <td>-1.024758</td>\n",
       "      <td>...</td>\n",
       "      <td>0.163642</td>\n",
       "      <td>-0.379865</td>\n",
       "      <td>-0.821481</td>\n",
       "      <td>-0.305977</td>\n",
       "      <td>-0.013098</td>\n",
       "      <td>-0.499488</td>\n",
       "      <td>-0.406804</td>\n",
       "      <td>-0.442188</td>\n",
       "      <td>0.259932</td>\n",
       "      <td>-0.395522</td>\n",
       "    </tr>\n",
       "    <tr>\n",
       "      <th>26</th>\n",
       "      <td>TCGA-AR-A0TP</td>\n",
       "      <td>-0.399190</td>\n",
       "      <td>-0.340705</td>\n",
       "      <td>0.350559</td>\n",
       "      <td>-0.624517</td>\n",
       "      <td>-0.375994</td>\n",
       "      <td>-0.035525</td>\n",
       "      <td>-0.436572</td>\n",
       "      <td>-0.346230</td>\n",
       "      <td>0.023353</td>\n",
       "      <td>...</td>\n",
       "      <td>-0.600856</td>\n",
       "      <td>-0.383321</td>\n",
       "      <td>-0.532519</td>\n",
       "      <td>-0.328591</td>\n",
       "      <td>-0.338711</td>\n",
       "      <td>-0.545565</td>\n",
       "      <td>-0.519798</td>\n",
       "      <td>-0.593332</td>\n",
       "      <td>-0.644024</td>\n",
       "      <td>-0.441988</td>\n",
       "    </tr>\n",
       "    <tr>\n",
       "      <th>27</th>\n",
       "      <td>TCGA-AR-A2LN</td>\n",
       "      <td>0.306051</td>\n",
       "      <td>0.062351</td>\n",
       "      <td>0.015874</td>\n",
       "      <td>-0.585819</td>\n",
       "      <td>-0.209388</td>\n",
       "      <td>-0.006791</td>\n",
       "      <td>-0.013715</td>\n",
       "      <td>-0.419164</td>\n",
       "      <td>0.674361</td>\n",
       "      <td>...</td>\n",
       "      <td>-0.167868</td>\n",
       "      <td>0.058634</td>\n",
       "      <td>0.469112</td>\n",
       "      <td>-0.266856</td>\n",
       "      <td>0.157830</td>\n",
       "      <td>0.271501</td>\n",
       "      <td>-0.186017</td>\n",
       "      <td>-0.119207</td>\n",
       "      <td>-0.220548</td>\n",
       "      <td>1.528222</td>\n",
       "    </tr>\n",
       "    <tr>\n",
       "      <th>28</th>\n",
       "      <td>TCGA-AR-A5QQ</td>\n",
       "      <td>-0.075693</td>\n",
       "      <td>0.247975</td>\n",
       "      <td>0.292535</td>\n",
       "      <td>0.749260</td>\n",
       "      <td>1.634453</td>\n",
       "      <td>-0.073009</td>\n",
       "      <td>-0.377541</td>\n",
       "      <td>-0.049525</td>\n",
       "      <td>1.315153</td>\n",
       "      <td>...</td>\n",
       "      <td>-0.619105</td>\n",
       "      <td>-0.074309</td>\n",
       "      <td>-0.333236</td>\n",
       "      <td>-0.098862</td>\n",
       "      <td>-0.018131</td>\n",
       "      <td>-0.412704</td>\n",
       "      <td>0.243683</td>\n",
       "      <td>-0.565909</td>\n",
       "      <td>-0.426750</td>\n",
       "      <td>-0.318526</td>\n",
       "    </tr>\n",
       "    <tr>\n",
       "      <th>29</th>\n",
       "      <td>TCGA-B6-A0IA</td>\n",
       "      <td>-0.227187</td>\n",
       "      <td>-0.459872</td>\n",
       "      <td>-0.802794</td>\n",
       "      <td>-0.651634</td>\n",
       "      <td>12.665834</td>\n",
       "      <td>29.992341</td>\n",
       "      <td>-0.255102</td>\n",
       "      <td>-0.329685</td>\n",
       "      <td>3.287865</td>\n",
       "      <td>...</td>\n",
       "      <td>0.444473</td>\n",
       "      <td>7.312175</td>\n",
       "      <td>-0.631899</td>\n",
       "      <td>13.479399</td>\n",
       "      <td>-0.265741</td>\n",
       "      <td>-0.403629</td>\n",
       "      <td>-0.428885</td>\n",
       "      <td>-0.687086</td>\n",
       "      <td>-0.538587</td>\n",
       "      <td>-0.134339</td>\n",
       "    </tr>\n",
       "    <tr>\n",
       "      <th>30</th>\n",
       "      <td>TCGA-B6-A1KF</td>\n",
       "      <td>-0.447916</td>\n",
       "      <td>0.145687</td>\n",
       "      <td>-0.609225</td>\n",
       "      <td>-0.673356</td>\n",
       "      <td>-0.317845</td>\n",
       "      <td>-0.071277</td>\n",
       "      <td>-0.063551</td>\n",
       "      <td>-0.596616</td>\n",
       "      <td>0.080727</td>\n",
       "      <td>...</td>\n",
       "      <td>-0.343210</td>\n",
       "      <td>-0.342421</td>\n",
       "      <td>2.048435</td>\n",
       "      <td>-0.337941</td>\n",
       "      <td>-0.233176</td>\n",
       "      <td>-0.557887</td>\n",
       "      <td>-0.316177</td>\n",
       "      <td>-0.192978</td>\n",
       "      <td>-0.906184</td>\n",
       "      <td>-0.439662</td>\n",
       "    </tr>\n",
       "    <tr>\n",
       "      <th>31</th>\n",
       "      <td>TCGA-BH-A0BO</td>\n",
       "      <td>-0.233604</td>\n",
       "      <td>1.021274</td>\n",
       "      <td>-0.114253</td>\n",
       "      <td>-0.566322</td>\n",
       "      <td>0.584879</td>\n",
       "      <td>0.616901</td>\n",
       "      <td>-0.028761</td>\n",
       "      <td>-0.357910</td>\n",
       "      <td>0.349648</td>\n",
       "      <td>...</td>\n",
       "      <td>-0.365515</td>\n",
       "      <td>-0.173432</td>\n",
       "      <td>0.582944</td>\n",
       "      <td>-0.140122</td>\n",
       "      <td>0.176932</td>\n",
       "      <td>0.116374</td>\n",
       "      <td>-0.358599</td>\n",
       "      <td>-0.387152</td>\n",
       "      <td>-0.079254</td>\n",
       "      <td>-0.114561</td>\n",
       "    </tr>\n",
       "    <tr>\n",
       "      <th>32</th>\n",
       "      <td>TCGA-BH-A0DL</td>\n",
       "      <td>-0.282165</td>\n",
       "      <td>-0.625533</td>\n",
       "      <td>-0.323849</td>\n",
       "      <td>0.924510</td>\n",
       "      <td>0.310677</td>\n",
       "      <td>0.041665</td>\n",
       "      <td>-0.415354</td>\n",
       "      <td>0.589115</td>\n",
       "      <td>0.324746</td>\n",
       "      <td>...</td>\n",
       "      <td>-0.520483</td>\n",
       "      <td>-0.280647</td>\n",
       "      <td>-0.639185</td>\n",
       "      <td>-0.149054</td>\n",
       "      <td>-0.251095</td>\n",
       "      <td>0.456630</td>\n",
       "      <td>0.305841</td>\n",
       "      <td>-0.641228</td>\n",
       "      <td>-0.622365</td>\n",
       "      <td>-0.437208</td>\n",
       "    </tr>\n",
       "    <tr>\n",
       "      <th>33</th>\n",
       "      <td>TCGA-BH-A1EN</td>\n",
       "      <td>-0.113633</td>\n",
       "      <td>-0.442515</td>\n",
       "      <td>-0.739922</td>\n",
       "      <td>0.123634</td>\n",
       "      <td>0.325245</td>\n",
       "      <td>-0.119330</td>\n",
       "      <td>-0.201063</td>\n",
       "      <td>-0.612000</td>\n",
       "      <td>1.252208</td>\n",
       "      <td>...</td>\n",
       "      <td>0.342845</td>\n",
       "      <td>-0.238801</td>\n",
       "      <td>-0.388562</td>\n",
       "      <td>-0.273317</td>\n",
       "      <td>-0.341310</td>\n",
       "      <td>0.516803</td>\n",
       "      <td>1.631370</td>\n",
       "      <td>0.805931</td>\n",
       "      <td>0.679023</td>\n",
       "      <td>-0.431225</td>\n",
       "    </tr>\n",
       "    <tr>\n",
       "      <th>34</th>\n",
       "      <td>TCGA-BH-A208</td>\n",
       "      <td>-0.240672</td>\n",
       "      <td>0.992661</td>\n",
       "      <td>0.221172</td>\n",
       "      <td>0.397554</td>\n",
       "      <td>0.621924</td>\n",
       "      <td>-0.108811</td>\n",
       "      <td>-0.340924</td>\n",
       "      <td>0.148430</td>\n",
       "      <td>-0.007765</td>\n",
       "      <td>...</td>\n",
       "      <td>0.031642</td>\n",
       "      <td>-0.180727</td>\n",
       "      <td>0.256296</td>\n",
       "      <td>-0.307333</td>\n",
       "      <td>-0.176131</td>\n",
       "      <td>0.855622</td>\n",
       "      <td>-0.010511</td>\n",
       "      <td>0.026850</td>\n",
       "      <td>1.604911</td>\n",
       "      <td>4.231891</td>\n",
       "    </tr>\n",
       "    <tr>\n",
       "      <th>35</th>\n",
       "      <td>TCGA-BH-A42U</td>\n",
       "      <td>0.248814</td>\n",
       "      <td>0.293264</td>\n",
       "      <td>0.437514</td>\n",
       "      <td>-0.416557</td>\n",
       "      <td>-0.034525</td>\n",
       "      <td>-0.105983</td>\n",
       "      <td>0.443604</td>\n",
       "      <td>-0.146845</td>\n",
       "      <td>0.274803</td>\n",
       "      <td>...</td>\n",
       "      <td>-0.137457</td>\n",
       "      <td>0.697938</td>\n",
       "      <td>1.109150</td>\n",
       "      <td>-0.184519</td>\n",
       "      <td>1.386212</td>\n",
       "      <td>-0.048118</td>\n",
       "      <td>0.175849</td>\n",
       "      <td>-0.084486</td>\n",
       "      <td>0.503401</td>\n",
       "      <td>2.101798</td>\n",
       "    </tr>\n",
       "    <tr>\n",
       "      <th>36</th>\n",
       "      <td>TCGA-BH-A5IZ</td>\n",
       "      <td>-0.347002</td>\n",
       "      <td>-0.550433</td>\n",
       "      <td>-0.316998</td>\n",
       "      <td>-0.085914</td>\n",
       "      <td>0.328698</td>\n",
       "      <td>-0.124134</td>\n",
       "      <td>-0.399127</td>\n",
       "      <td>-0.596864</td>\n",
       "      <td>-0.900666</td>\n",
       "      <td>...</td>\n",
       "      <td>-0.003724</td>\n",
       "      <td>-0.204242</td>\n",
       "      <td>4.204471</td>\n",
       "      <td>-0.312108</td>\n",
       "      <td>-0.279603</td>\n",
       "      <td>-0.558961</td>\n",
       "      <td>-0.309682</td>\n",
       "      <td>-0.200908</td>\n",
       "      <td>-0.835165</td>\n",
       "      <td>-0.119236</td>\n",
       "    </tr>\n",
       "    <tr>\n",
       "      <th>37</th>\n",
       "      <td>TCGA-D8-A27H</td>\n",
       "      <td>1.034222</td>\n",
       "      <td>-0.129992</td>\n",
       "      <td>-0.321547</td>\n",
       "      <td>-0.594889</td>\n",
       "      <td>-0.347228</td>\n",
       "      <td>-0.119755</td>\n",
       "      <td>-0.437845</td>\n",
       "      <td>0.108413</td>\n",
       "      <td>0.036810</td>\n",
       "      <td>...</td>\n",
       "      <td>-0.442437</td>\n",
       "      <td>-0.323761</td>\n",
       "      <td>-0.531952</td>\n",
       "      <td>-0.001515</td>\n",
       "      <td>-0.214692</td>\n",
       "      <td>-0.465190</td>\n",
       "      <td>-0.152680</td>\n",
       "      <td>-0.199692</td>\n",
       "      <td>-0.627879</td>\n",
       "      <td>-0.425728</td>\n",
       "    </tr>\n",
       "    <tr>\n",
       "      <th>38</th>\n",
       "      <td>TCGA-E2-A1LG</td>\n",
       "      <td>-0.149195</td>\n",
       "      <td>-0.722603</td>\n",
       "      <td>-0.454703</td>\n",
       "      <td>-0.196861</td>\n",
       "      <td>2.210209</td>\n",
       "      <td>-0.127807</td>\n",
       "      <td>-0.448009</td>\n",
       "      <td>-0.645491</td>\n",
       "      <td>-1.077221</td>\n",
       "      <td>...</td>\n",
       "      <td>1.545184</td>\n",
       "      <td>-0.324276</td>\n",
       "      <td>-0.079022</td>\n",
       "      <td>-0.323266</td>\n",
       "      <td>-0.293658</td>\n",
       "      <td>-0.451588</td>\n",
       "      <td>-0.335731</td>\n",
       "      <td>0.799170</td>\n",
       "      <td>-0.766366</td>\n",
       "      <td>0.543742</td>\n",
       "    </tr>\n",
       "    <tr>\n",
       "      <th>39</th>\n",
       "      <td>TCGA-E2-A1LL</td>\n",
       "      <td>-0.124511</td>\n",
       "      <td>-0.142044</td>\n",
       "      <td>-0.809046</td>\n",
       "      <td>-0.629879</td>\n",
       "      <td>4.591011</td>\n",
       "      <td>0.021764</td>\n",
       "      <td>-0.221348</td>\n",
       "      <td>-0.187651</td>\n",
       "      <td>2.762885</td>\n",
       "      <td>...</td>\n",
       "      <td>-0.601369</td>\n",
       "      <td>-0.174525</td>\n",
       "      <td>-0.512671</td>\n",
       "      <td>-0.284129</td>\n",
       "      <td>-0.234482</td>\n",
       "      <td>-0.551020</td>\n",
       "      <td>-0.091823</td>\n",
       "      <td>-0.360582</td>\n",
       "      <td>-0.803116</td>\n",
       "      <td>-0.366184</td>\n",
       "    </tr>\n",
       "    <tr>\n",
       "      <th>40</th>\n",
       "      <td>TCGA-E2-A1LS</td>\n",
       "      <td>-0.439122</td>\n",
       "      <td>-0.154343</td>\n",
       "      <td>0.628657</td>\n",
       "      <td>-0.520353</td>\n",
       "      <td>-0.338071</td>\n",
       "      <td>-0.096165</td>\n",
       "      <td>0.147904</td>\n",
       "      <td>1.915933</td>\n",
       "      <td>-0.385599</td>\n",
       "      <td>...</td>\n",
       "      <td>-0.564343</td>\n",
       "      <td>-0.282750</td>\n",
       "      <td>0.022755</td>\n",
       "      <td>-0.329686</td>\n",
       "      <td>-0.310780</td>\n",
       "      <td>-0.566274</td>\n",
       "      <td>1.104726</td>\n",
       "      <td>2.002064</td>\n",
       "      <td>-0.930874</td>\n",
       "      <td>1.129551</td>\n",
       "    </tr>\n",
       "    <tr>\n",
       "      <th>41</th>\n",
       "      <td>TCGA-E2-A572</td>\n",
       "      <td>-0.404266</td>\n",
       "      <td>-0.760343</td>\n",
       "      <td>-0.709358</td>\n",
       "      <td>-0.360184</td>\n",
       "      <td>2.694874</td>\n",
       "      <td>-0.131025</td>\n",
       "      <td>2.243135</td>\n",
       "      <td>-0.751639</td>\n",
       "      <td>-0.901489</td>\n",
       "      <td>...</td>\n",
       "      <td>0.713217</td>\n",
       "      <td>0.106910</td>\n",
       "      <td>0.017737</td>\n",
       "      <td>0.437218</td>\n",
       "      <td>-0.067007</td>\n",
       "      <td>-0.410761</td>\n",
       "      <td>-0.116146</td>\n",
       "      <td>-0.622003</td>\n",
       "      <td>-0.792739</td>\n",
       "      <td>-0.399711</td>\n",
       "    </tr>\n",
       "    <tr>\n",
       "      <th>42</th>\n",
       "      <td>TCGA-E2-A574</td>\n",
       "      <td>-0.431916</td>\n",
       "      <td>-0.761234</td>\n",
       "      <td>-0.777730</td>\n",
       "      <td>-0.118416</td>\n",
       "      <td>-0.347696</td>\n",
       "      <td>-0.129472</td>\n",
       "      <td>-0.380274</td>\n",
       "      <td>-0.290538</td>\n",
       "      <td>-0.219932</td>\n",
       "      <td>...</td>\n",
       "      <td>0.444245</td>\n",
       "      <td>-0.358285</td>\n",
       "      <td>-0.768097</td>\n",
       "      <td>-0.329610</td>\n",
       "      <td>0.480789</td>\n",
       "      <td>-0.311812</td>\n",
       "      <td>-0.304163</td>\n",
       "      <td>-0.072480</td>\n",
       "      <td>-0.068780</td>\n",
       "      <td>0.100236</td>\n",
       "    </tr>\n",
       "    <tr>\n",
       "      <th>43</th>\n",
       "      <td>TCGA-E9-A1ND</td>\n",
       "      <td>-0.205844</td>\n",
       "      <td>-0.541174</td>\n",
       "      <td>-0.837801</td>\n",
       "      <td>0.066299</td>\n",
       "      <td>-0.119110</td>\n",
       "      <td>-0.032315</td>\n",
       "      <td>0.486192</td>\n",
       "      <td>-0.329768</td>\n",
       "      <td>0.115922</td>\n",
       "      <td>...</td>\n",
       "      <td>-0.305696</td>\n",
       "      <td>-0.251918</td>\n",
       "      <td>1.357762</td>\n",
       "      <td>0.051117</td>\n",
       "      <td>-0.268629</td>\n",
       "      <td>0.084779</td>\n",
       "      <td>0.231096</td>\n",
       "      <td>-0.140912</td>\n",
       "      <td>-0.483880</td>\n",
       "      <td>0.043412</td>\n",
       "    </tr>\n",
       "    <tr>\n",
       "      <th>44</th>\n",
       "      <td>TCGA-E9-A5FL</td>\n",
       "      <td>0.083890</td>\n",
       "      <td>1.988702</td>\n",
       "      <td>-0.787100</td>\n",
       "      <td>0.026428</td>\n",
       "      <td>0.616720</td>\n",
       "      <td>-0.117247</td>\n",
       "      <td>-0.251577</td>\n",
       "      <td>0.226868</td>\n",
       "      <td>0.429646</td>\n",
       "      <td>...</td>\n",
       "      <td>-0.438231</td>\n",
       "      <td>-0.250077</td>\n",
       "      <td>-0.340385</td>\n",
       "      <td>-0.330109</td>\n",
       "      <td>0.254233</td>\n",
       "      <td>-0.562642</td>\n",
       "      <td>0.435614</td>\n",
       "      <td>-0.507950</td>\n",
       "      <td>-0.535512</td>\n",
       "      <td>0.562074</td>\n",
       "    </tr>\n",
       "    <tr>\n",
       "      <th>45</th>\n",
       "      <td>TCGA-EW-A1P1</td>\n",
       "      <td>-0.101405</td>\n",
       "      <td>1.692410</td>\n",
       "      <td>-0.193081</td>\n",
       "      <td>0.705422</td>\n",
       "      <td>1.124956</td>\n",
       "      <td>-0.114477</td>\n",
       "      <td>0.117766</td>\n",
       "      <td>-0.443808</td>\n",
       "      <td>1.145030</td>\n",
       "      <td>...</td>\n",
       "      <td>-0.455590</td>\n",
       "      <td>0.262175</td>\n",
       "      <td>0.640221</td>\n",
       "      <td>-0.308264</td>\n",
       "      <td>0.237951</td>\n",
       "      <td>-0.042808</td>\n",
       "      <td>-0.229626</td>\n",
       "      <td>0.334555</td>\n",
       "      <td>-0.159784</td>\n",
       "      <td>-0.016722</td>\n",
       "    </tr>\n",
       "    <tr>\n",
       "      <th>46</th>\n",
       "      <td>TCGA-EW-A1PB</td>\n",
       "      <td>-0.108290</td>\n",
       "      <td>-0.804724</td>\n",
       "      <td>-0.897525</td>\n",
       "      <td>1.995592</td>\n",
       "      <td>-0.374709</td>\n",
       "      <td>-0.120597</td>\n",
       "      <td>3.710967</td>\n",
       "      <td>0.137495</td>\n",
       "      <td>-0.934291</td>\n",
       "      <td>...</td>\n",
       "      <td>-0.438951</td>\n",
       "      <td>-0.263960</td>\n",
       "      <td>7.727967</td>\n",
       "      <td>0.036250</td>\n",
       "      <td>-0.156286</td>\n",
       "      <td>-0.581287</td>\n",
       "      <td>0.146682</td>\n",
       "      <td>-0.646172</td>\n",
       "      <td>-0.307571</td>\n",
       "      <td>-0.445275</td>\n",
       "    </tr>\n",
       "    <tr>\n",
       "      <th>47</th>\n",
       "      <td>TCGA-FA-A7DS</td>\n",
       "      <td>-0.429694</td>\n",
       "      <td>-0.582658</td>\n",
       "      <td>-0.903327</td>\n",
       "      <td>-0.410182</td>\n",
       "      <td>-0.305717</td>\n",
       "      <td>-0.128180</td>\n",
       "      <td>-0.415010</td>\n",
       "      <td>-0.984412</td>\n",
       "      <td>0.073789</td>\n",
       "      <td>...</td>\n",
       "      <td>-0.660395</td>\n",
       "      <td>0.253522</td>\n",
       "      <td>-0.941964</td>\n",
       "      <td>-0.225547</td>\n",
       "      <td>-0.181604</td>\n",
       "      <td>-0.576544</td>\n",
       "      <td>-0.533308</td>\n",
       "      <td>-0.649774</td>\n",
       "      <td>3.461367</td>\n",
       "      <td>-0.417569</td>\n",
       "    </tr>\n",
       "    <tr>\n",
       "      <th>48</th>\n",
       "      <td>TCGA-GM-A4E0</td>\n",
       "      <td>0.191395</td>\n",
       "      <td>0.818380</td>\n",
       "      <td>-0.471396</td>\n",
       "      <td>0.122166</td>\n",
       "      <td>-0.305680</td>\n",
       "      <td>-0.120805</td>\n",
       "      <td>0.045211</td>\n",
       "      <td>-0.336259</td>\n",
       "      <td>-0.604957</td>\n",
       "      <td>...</td>\n",
       "      <td>-0.407743</td>\n",
       "      <td>1.357415</td>\n",
       "      <td>-0.026780</td>\n",
       "      <td>-0.232962</td>\n",
       "      <td>0.777550</td>\n",
       "      <td>-0.253510</td>\n",
       "      <td>-0.161169</td>\n",
       "      <td>1.620350</td>\n",
       "      <td>1.253225</td>\n",
       "      <td>4.693184</td>\n",
       "    </tr>\n",
       "    <tr>\n",
       "      <th>49</th>\n",
       "      <td>TCGA-LL-A8F5</td>\n",
       "      <td>0.089223</td>\n",
       "      <td>-0.263571</td>\n",
       "      <td>-0.707258</td>\n",
       "      <td>0.470243</td>\n",
       "      <td>-0.320025</td>\n",
       "      <td>-0.104649</td>\n",
       "      <td>1.860124</td>\n",
       "      <td>-0.464017</td>\n",
       "      <td>-0.863054</td>\n",
       "      <td>...</td>\n",
       "      <td>-0.636458</td>\n",
       "      <td>-0.215256</td>\n",
       "      <td>1.389331</td>\n",
       "      <td>-0.223424</td>\n",
       "      <td>-0.281955</td>\n",
       "      <td>-0.565248</td>\n",
       "      <td>-0.477193</td>\n",
       "      <td>-0.129238</td>\n",
       "      <td>-0.663693</td>\n",
       "      <td>-0.403438</td>\n",
       "    </tr>\n",
       "    <tr>\n",
       "      <th>50</th>\n",
       "      <td>TCGA-OL-A5RW</td>\n",
       "      <td>-0.375708</td>\n",
       "      <td>-0.569853</td>\n",
       "      <td>-0.560770</td>\n",
       "      <td>-0.125100</td>\n",
       "      <td>1.362750</td>\n",
       "      <td>-0.122821</td>\n",
       "      <td>-0.080842</td>\n",
       "      <td>-0.286449</td>\n",
       "      <td>-0.574143</td>\n",
       "      <td>...</td>\n",
       "      <td>2.015335</td>\n",
       "      <td>-0.265781</td>\n",
       "      <td>1.605953</td>\n",
       "      <td>-0.279590</td>\n",
       "      <td>-0.285778</td>\n",
       "      <td>-0.148539</td>\n",
       "      <td>-0.426853</td>\n",
       "      <td>0.286359</td>\n",
       "      <td>-0.026296</td>\n",
       "      <td>0.460149</td>\n",
       "    </tr>\n",
       "    <tr>\n",
       "      <th>51</th>\n",
       "      <td>TCGA-OL-A66P</td>\n",
       "      <td>-0.317186</td>\n",
       "      <td>-0.221944</td>\n",
       "      <td>-0.842354</td>\n",
       "      <td>7.917478</td>\n",
       "      <td>0.708078</td>\n",
       "      <td>-0.116200</td>\n",
       "      <td>-0.279337</td>\n",
       "      <td>-0.143627</td>\n",
       "      <td>2.436134</td>\n",
       "      <td>...</td>\n",
       "      <td>-0.100058</td>\n",
       "      <td>0.486343</td>\n",
       "      <td>-0.625996</td>\n",
       "      <td>0.027407</td>\n",
       "      <td>0.086469</td>\n",
       "      <td>0.967400</td>\n",
       "      <td>1.851881</td>\n",
       "      <td>-0.426707</td>\n",
       "      <td>3.495846</td>\n",
       "      <td>-0.269051</td>\n",
       "    </tr>\n",
       "    <tr>\n",
       "      <th>52</th>\n",
       "      <td>TCGA-OL-A6VQ</td>\n",
       "      <td>-0.293319</td>\n",
       "      <td>-0.255741</td>\n",
       "      <td>0.665188</td>\n",
       "      <td>-0.480948</td>\n",
       "      <td>-0.142485</td>\n",
       "      <td>-0.013737</td>\n",
       "      <td>-0.192784</td>\n",
       "      <td>-0.292674</td>\n",
       "      <td>3.284978</td>\n",
       "      <td>...</td>\n",
       "      <td>-0.062314</td>\n",
       "      <td>-0.085097</td>\n",
       "      <td>0.490662</td>\n",
       "      <td>1.257708</td>\n",
       "      <td>0.445253</td>\n",
       "      <td>-0.344964</td>\n",
       "      <td>-0.252100</td>\n",
       "      <td>-0.214778</td>\n",
       "      <td>0.407804</td>\n",
       "      <td>0.168668</td>\n",
       "    </tr>\n",
       "    <tr>\n",
       "      <th>53</th>\n",
       "      <td>TCGA-PL-A8LV</td>\n",
       "      <td>-0.347223</td>\n",
       "      <td>-0.570155</td>\n",
       "      <td>-0.641578</td>\n",
       "      <td>0.119339</td>\n",
       "      <td>0.361756</td>\n",
       "      <td>-0.128703</td>\n",
       "      <td>0.011064</td>\n",
       "      <td>-0.654995</td>\n",
       "      <td>-0.224059</td>\n",
       "      <td>...</td>\n",
       "      <td>0.891468</td>\n",
       "      <td>-0.125136</td>\n",
       "      <td>2.511702</td>\n",
       "      <td>-0.295254</td>\n",
       "      <td>-0.097702</td>\n",
       "      <td>-0.470162</td>\n",
       "      <td>-0.468907</td>\n",
       "      <td>-0.247256</td>\n",
       "      <td>-0.508598</td>\n",
       "      <td>-0.357249</td>\n",
       "    </tr>\n",
       "  </tbody>\n",
       "</table>\n",
       "<p>54 rows × 31 columns</p>\n",
       "</div>"
      ],
      "text/plain": [
       "Gene             Case     ABCC3     ACKR3      ANO1     APOC1       AQP3  \\\n",
       "0             ER-B1PU -0.045023 -0.586864 -0.907599 -0.228153  -0.393294   \n",
       "1     MBCProject_1037  0.961252 -0.721009 -0.631017  0.980195  -0.355389   \n",
       "2     MBCProject_1542  0.286342 -0.717298 -0.699201 -0.082009  -0.370838   \n",
       "3     MBCProject_1819  0.880671 -0.697784 -0.556719 -0.388686  -0.361625   \n",
       "4     MBCProject_3159  0.160918  0.420206 -0.621328 -0.419311  -0.345664   \n",
       "5     MBCProject_4424 -0.363664 -0.851063 -0.903833 -0.750162  -0.287691   \n",
       "6     MBCproject_0093  2.462503 -0.821065  1.088591 -0.530109  -0.080048   \n",
       "7     MBCproject_0280  0.417540 -0.687530 -0.100600 -0.454301  -0.077728   \n",
       "8        TCGA-A1-A0SK -0.439030  0.642108 -0.723427 -0.655918  -0.182672   \n",
       "9        TCGA-A2-A0CO -0.135141  1.102262 -0.364764 -0.249296  -0.279686   \n",
       "10       TCGA-A2-A0CY -0.394692 -0.187349 -0.841837 -0.321912  -0.252250   \n",
       "11       TCGA-A2-A0EP -0.115946  1.212979 -0.619284  0.904926   0.332508   \n",
       "12       TCGA-A2-A3XV -0.250183 -0.632422 -0.833125  1.641562  -0.020663   \n",
       "13       TCGA-A2-A3XW -0.030133  0.735423 -0.124290 -0.351197   8.758104   \n",
       "14       TCGA-A2-A3Y0 -0.275593 -0.601858 -0.735628  0.190535  -0.129125   \n",
       "15       TCGA-A2-A4S1 -0.103397  0.814382 -0.749352 -0.582861  -0.383935   \n",
       "16       TCGA-A7-A56D -0.189467 -0.021546 -0.710597  1.207250  -0.376387   \n",
       "17       TCGA-A7-A5ZV  0.531223 -0.218859 -0.425023 -0.442964  -0.279946   \n",
       "18       TCGA-A8-A08H  0.073792 -0.145904 -0.675051  2.310054  -0.295886   \n",
       "19       TCGA-AC-A2QH -0.384539 -0.612590 -0.524205 -0.699997  -0.389579   \n",
       "20       TCGA-AC-A2QJ -0.167629 -0.380088 -0.850784  1.938465  -0.342240   \n",
       "21       TCGA-AC-A62X -0.444272 -0.501576 -0.503457 -0.729336  -0.354278   \n",
       "22       TCGA-AN-A0FL -0.393471 -0.111375 -0.127918 -0.396482   0.465743   \n",
       "23       TCGA-AO-A1KO -0.321170 -0.388797  1.651503 -0.608153  -0.170202   \n",
       "24       TCGA-AO-A1KR -0.365353 -0.497606 -0.731165 -0.525712  -0.338950   \n",
       "25       TCGA-AQ-A54N -0.435303 -0.757258 -0.726302  0.217615  -0.382010   \n",
       "26       TCGA-AR-A0TP -0.399190 -0.340705  0.350559 -0.624517  -0.375994   \n",
       "27       TCGA-AR-A2LN  0.306051  0.062351  0.015874 -0.585819  -0.209388   \n",
       "28       TCGA-AR-A5QQ -0.075693  0.247975  0.292535  0.749260   1.634453   \n",
       "29       TCGA-B6-A0IA -0.227187 -0.459872 -0.802794 -0.651634  12.665834   \n",
       "30       TCGA-B6-A1KF -0.447916  0.145687 -0.609225 -0.673356  -0.317845   \n",
       "31       TCGA-BH-A0BO -0.233604  1.021274 -0.114253 -0.566322   0.584879   \n",
       "32       TCGA-BH-A0DL -0.282165 -0.625533 -0.323849  0.924510   0.310677   \n",
       "33       TCGA-BH-A1EN -0.113633 -0.442515 -0.739922  0.123634   0.325245   \n",
       "34       TCGA-BH-A208 -0.240672  0.992661  0.221172  0.397554   0.621924   \n",
       "35       TCGA-BH-A42U  0.248814  0.293264  0.437514 -0.416557  -0.034525   \n",
       "36       TCGA-BH-A5IZ -0.347002 -0.550433 -0.316998 -0.085914   0.328698   \n",
       "37       TCGA-D8-A27H  1.034222 -0.129992 -0.321547 -0.594889  -0.347228   \n",
       "38       TCGA-E2-A1LG -0.149195 -0.722603 -0.454703 -0.196861   2.210209   \n",
       "39       TCGA-E2-A1LL -0.124511 -0.142044 -0.809046 -0.629879   4.591011   \n",
       "40       TCGA-E2-A1LS -0.439122 -0.154343  0.628657 -0.520353  -0.338071   \n",
       "41       TCGA-E2-A572 -0.404266 -0.760343 -0.709358 -0.360184   2.694874   \n",
       "42       TCGA-E2-A574 -0.431916 -0.761234 -0.777730 -0.118416  -0.347696   \n",
       "43       TCGA-E9-A1ND -0.205844 -0.541174 -0.837801  0.066299  -0.119110   \n",
       "44       TCGA-E9-A5FL  0.083890  1.988702 -0.787100  0.026428   0.616720   \n",
       "45       TCGA-EW-A1P1 -0.101405  1.692410 -0.193081  0.705422   1.124956   \n",
       "46       TCGA-EW-A1PB -0.108290 -0.804724 -0.897525  1.995592  -0.374709   \n",
       "47       TCGA-FA-A7DS -0.429694 -0.582658 -0.903327 -0.410182  -0.305717   \n",
       "48       TCGA-GM-A4E0  0.191395  0.818380 -0.471396  0.122166  -0.305680   \n",
       "49       TCGA-LL-A8F5  0.089223 -0.263571 -0.707258  0.470243  -0.320025   \n",
       "50       TCGA-OL-A5RW -0.375708 -0.569853 -0.560770 -0.125100   1.362750   \n",
       "51       TCGA-OL-A66P -0.317186 -0.221944 -0.842354  7.917478   0.708078   \n",
       "52       TCGA-OL-A6VQ -0.293319 -0.255741  0.665188 -0.480948  -0.142485   \n",
       "53       TCGA-PL-A8LV -0.347223 -0.570155 -0.641578  0.119339   0.361756   \n",
       "\n",
       "Gene        CA2       CLU      CTTN    DUSP10  ...    PRR15L     RAMP3  \\\n",
       "0      0.079816  0.080477 -0.685137 -0.610679  ... -0.658016 -0.392005   \n",
       "1     -0.084171 -0.361796 -0.524917  0.559878  ... -0.656139 -0.378329   \n",
       "2     -0.119778 -0.149715 -0.758737 -0.529960  ... -0.606829 -0.195101   \n",
       "3     -0.029711 -0.177128 -0.449316 -0.556900  ... -0.636253 -0.208991   \n",
       "4     -0.119353 -0.342870 -0.378176 -0.788626  ... -0.656412 -0.104212   \n",
       "5     -0.131517 -0.437617 -0.281002 -0.808958  ... -0.614746 -0.403834   \n",
       "6     -0.125738  0.067390  1.721424  3.252885  ... -0.655327 -0.403834   \n",
       "7     -0.120369 -0.271881 -0.467759 -0.541961  ... -0.610674 -0.178937   \n",
       "8     -0.124400 -0.475469 -0.365973 -1.008591  ... -0.365946 -0.385397   \n",
       "9     -0.058934 -0.008221 -0.415492  0.606770  ... -0.384279  1.151161   \n",
       "10    -0.127375 -0.401543  0.388442 -0.562318  ...  0.361426 -0.231111   \n",
       "11     0.019685  0.025580 -0.473239  1.299873  ... -0.478607  0.275688   \n",
       "12    -0.118802  0.287453  0.359432  2.061959  ...  4.529586  0.104619   \n",
       "13    -0.076570  0.127374 -0.124086 -0.678827  ... -0.238395  0.542523   \n",
       "14    -0.025380  0.414085 -0.653264 -0.041365  ... -0.490742 -0.237391   \n",
       "15    -0.116029 -0.306217 -0.266099 -0.208981  ... -0.658142  0.324065   \n",
       "16    -0.124772  0.251970 -0.098352 -0.370015  ... -0.250242  0.086635   \n",
       "17     1.043246  0.031156  0.544617 -0.673193  ... -0.628340 -0.336230   \n",
       "18    -0.100048 -0.215795 -0.492488 -0.566420  ... -0.514646  0.176464   \n",
       "19    -0.124449 -0.453882 -0.713976 -0.633403  ... -0.658549 -0.402982   \n",
       "20    -0.078571 -0.396251 -0.067790 -0.850014  ... -0.633045 -0.177620   \n",
       "21     0.052602  5.118661 -0.277719 -0.756647  ... -0.420188 -0.236800   \n",
       "22     0.266569  0.199961 -0.468673 -1.004084  ... -0.238395 -0.219731   \n",
       "23    -0.070206  0.139061 -0.713551 -0.402715  ... -0.050282 -0.320886   \n",
       "24    -0.110697 -0.326256 -0.040782  0.015871  ... -0.440125 -0.167119   \n",
       "25    -0.047834 -0.375108 -0.358603 -1.024758  ...  0.163642 -0.379865   \n",
       "26    -0.035525 -0.436572 -0.346230  0.023353  ... -0.600856 -0.383321   \n",
       "27    -0.006791 -0.013715 -0.419164  0.674361  ... -0.167868  0.058634   \n",
       "28    -0.073009 -0.377541 -0.049525  1.315153  ... -0.619105 -0.074309   \n",
       "29    29.992341 -0.255102 -0.329685  3.287865  ...  0.444473  7.312175   \n",
       "30    -0.071277 -0.063551 -0.596616  0.080727  ... -0.343210 -0.342421   \n",
       "31     0.616901 -0.028761 -0.357910  0.349648  ... -0.365515 -0.173432   \n",
       "32     0.041665 -0.415354  0.589115  0.324746  ... -0.520483 -0.280647   \n",
       "33    -0.119330 -0.201063 -0.612000  1.252208  ...  0.342845 -0.238801   \n",
       "34    -0.108811 -0.340924  0.148430 -0.007765  ...  0.031642 -0.180727   \n",
       "35    -0.105983  0.443604 -0.146845  0.274803  ... -0.137457  0.697938   \n",
       "36    -0.124134 -0.399127 -0.596864 -0.900666  ... -0.003724 -0.204242   \n",
       "37    -0.119755 -0.437845  0.108413  0.036810  ... -0.442437 -0.323761   \n",
       "38    -0.127807 -0.448009 -0.645491 -1.077221  ...  1.545184 -0.324276   \n",
       "39     0.021764 -0.221348 -0.187651  2.762885  ... -0.601369 -0.174525   \n",
       "40    -0.096165  0.147904  1.915933 -0.385599  ... -0.564343 -0.282750   \n",
       "41    -0.131025  2.243135 -0.751639 -0.901489  ...  0.713217  0.106910   \n",
       "42    -0.129472 -0.380274 -0.290538 -0.219932  ...  0.444245 -0.358285   \n",
       "43    -0.032315  0.486192 -0.329768  0.115922  ... -0.305696 -0.251918   \n",
       "44    -0.117247 -0.251577  0.226868  0.429646  ... -0.438231 -0.250077   \n",
       "45    -0.114477  0.117766 -0.443808  1.145030  ... -0.455590  0.262175   \n",
       "46    -0.120597  3.710967  0.137495 -0.934291  ... -0.438951 -0.263960   \n",
       "47    -0.128180 -0.415010 -0.984412  0.073789  ... -0.660395  0.253522   \n",
       "48    -0.120805  0.045211 -0.336259 -0.604957  ... -0.407743  1.357415   \n",
       "49    -0.104649  1.860124 -0.464017 -0.863054  ... -0.636458 -0.215256   \n",
       "50    -0.122821 -0.080842 -0.286449 -0.574143  ...  2.015335 -0.265781   \n",
       "51    -0.116200 -0.279337 -0.143627  2.436134  ... -0.100058  0.486343   \n",
       "52    -0.013737 -0.192784 -0.292674  3.284978  ... -0.062314 -0.085097   \n",
       "53    -0.128703  0.011064 -0.654995 -0.224059  ...  0.891468 -0.125136   \n",
       "\n",
       "Gene    SCARA3   SERPINA1  SERPINF2   TMEM45B      TSKU   TSPAN12      UCP2  \\\n",
       "0    -0.414537  -0.309348 -0.181082 -0.551756 -0.539980  0.251338 -0.869466   \n",
       "1    -0.505737  -0.285743 -0.251205 -0.145836 -0.423794 -0.211445 -0.390667   \n",
       "2    -0.597529  -0.321613  0.067656 -0.384368 -0.521514 -0.329936  0.223387   \n",
       "3    -0.595553  -0.307013  0.346663 -0.478453 -0.477323  0.677203 -0.405091   \n",
       "4    -0.496912  -0.325692  0.527588 -0.525519 -0.530285 -0.342842 -0.554920   \n",
       "5    -0.715864  -0.336051 -0.296450 -0.230278 -0.523506 -0.717005 -0.885184   \n",
       "6    -0.965292   0.046882  1.040081  0.369532 -0.567719  2.806989 -0.876076   \n",
       "7    -0.658638  -0.274270 -0.000253 -0.414623 -0.545889  0.477848 -0.278416   \n",
       "8    -0.940958  -0.335134 -0.314658  0.002762 -0.411867  0.331586 -0.333276   \n",
       "9     0.263677  -0.244249  0.272964 -0.135457 -0.245206 -0.015422  0.310716   \n",
       "10   -0.961812  -0.168951  0.905212  0.383326  0.007494  0.914992  1.642996   \n",
       "11    0.394857  -0.081585  0.167814 -0.379444 -0.138733 -0.168319  0.996595   \n",
       "12   -0.773845  -0.042301 -0.007335  3.877364  4.311347 -0.617122  0.038000   \n",
       "13    0.849549  -0.266792  0.481394 -0.088185  0.181951 -0.373456 -0.344161   \n",
       "14    1.727561  -0.256051 -0.260171 -0.424121 -0.183552 -0.235961 -0.049574   \n",
       "15   -0.559285  -0.241879 -0.047396 -0.554266  0.198941 -0.530950 -0.618350   \n",
       "16   -0.097092  -0.194487 -0.228747 -0.272216  0.271468  0.124932  1.069881   \n",
       "17   -0.042994   0.476562 -0.212107 -0.582663  3.961472  0.068806 -0.839912   \n",
       "18    2.480271   0.116285  0.060560 -0.479394 -0.141984  0.259300  1.529957   \n",
       "19   -0.453426  -0.333665 -0.330913 -0.560144 -0.439763 -0.330347 -0.965637   \n",
       "20   -0.612892  -0.048635  0.407104 -0.493200  0.353471 -0.627105  0.254409   \n",
       "21    3.464160  -0.310833  0.211381 -0.567288 -0.112874 -0.266007 -0.866130   \n",
       "22    2.811869  -0.332611 -0.333086 -0.502143 -0.212636 -0.154244  0.070923   \n",
       "23    1.765059  -0.113389  0.932538 -0.500321 -0.221494  1.242491 -0.817774   \n",
       "24   -0.710846  -0.266027  0.146869 -0.493695  0.440933 -0.416345 -0.310770   \n",
       "25   -0.821481  -0.305977 -0.013098 -0.499488 -0.406804 -0.442188  0.259932   \n",
       "26   -0.532519  -0.328591 -0.338711 -0.545565 -0.519798 -0.593332 -0.644024   \n",
       "27    0.469112  -0.266856  0.157830  0.271501 -0.186017 -0.119207 -0.220548   \n",
       "28   -0.333236  -0.098862 -0.018131 -0.412704  0.243683 -0.565909 -0.426750   \n",
       "29   -0.631899  13.479399 -0.265741 -0.403629 -0.428885 -0.687086 -0.538587   \n",
       "30    2.048435  -0.337941 -0.233176 -0.557887 -0.316177 -0.192978 -0.906184   \n",
       "31    0.582944  -0.140122  0.176932  0.116374 -0.358599 -0.387152 -0.079254   \n",
       "32   -0.639185  -0.149054 -0.251095  0.456630  0.305841 -0.641228 -0.622365   \n",
       "33   -0.388562  -0.273317 -0.341310  0.516803  1.631370  0.805931  0.679023   \n",
       "34    0.256296  -0.307333 -0.176131  0.855622 -0.010511  0.026850  1.604911   \n",
       "35    1.109150  -0.184519  1.386212 -0.048118  0.175849 -0.084486  0.503401   \n",
       "36    4.204471  -0.312108 -0.279603 -0.558961 -0.309682 -0.200908 -0.835165   \n",
       "37   -0.531952  -0.001515 -0.214692 -0.465190 -0.152680 -0.199692 -0.627879   \n",
       "38   -0.079022  -0.323266 -0.293658 -0.451588 -0.335731  0.799170 -0.766366   \n",
       "39   -0.512671  -0.284129 -0.234482 -0.551020 -0.091823 -0.360582 -0.803116   \n",
       "40    0.022755  -0.329686 -0.310780 -0.566274  1.104726  2.002064 -0.930874   \n",
       "41    0.017737   0.437218 -0.067007 -0.410761 -0.116146 -0.622003 -0.792739   \n",
       "42   -0.768097  -0.329610  0.480789 -0.311812 -0.304163 -0.072480 -0.068780   \n",
       "43    1.357762   0.051117 -0.268629  0.084779  0.231096 -0.140912 -0.483880   \n",
       "44   -0.340385  -0.330109  0.254233 -0.562642  0.435614 -0.507950 -0.535512   \n",
       "45    0.640221  -0.308264  0.237951 -0.042808 -0.229626  0.334555 -0.159784   \n",
       "46    7.727967   0.036250 -0.156286 -0.581287  0.146682 -0.646172 -0.307571   \n",
       "47   -0.941964  -0.225547 -0.181604 -0.576544 -0.533308 -0.649774  3.461367   \n",
       "48   -0.026780  -0.232962  0.777550 -0.253510 -0.161169  1.620350  1.253225   \n",
       "49    1.389331  -0.223424 -0.281955 -0.565248 -0.477193 -0.129238 -0.663693   \n",
       "50    1.605953  -0.279590 -0.285778 -0.148539 -0.426853  0.286359 -0.026296   \n",
       "51   -0.625996   0.027407  0.086469  0.967400  1.851881 -0.426707  3.495846   \n",
       "52    0.490662   1.257708  0.445253 -0.344964 -0.252100 -0.214778  0.407804   \n",
       "53    2.511702  -0.295254 -0.097702 -0.470162 -0.468907 -0.247256 -0.508598   \n",
       "\n",
       "Gene     VSIG2  \n",
       "0    -0.319394  \n",
       "1    -0.444638  \n",
       "2     0.125454  \n",
       "3    -0.264097  \n",
       "4    -0.006699  \n",
       "5    -0.449186  \n",
       "6    -0.449186  \n",
       "7    -0.366658  \n",
       "8     0.379878  \n",
       "9     1.642877  \n",
       "10    1.421842  \n",
       "11   -0.160842  \n",
       "12   -0.382976  \n",
       "13    0.068387  \n",
       "14   -0.413969  \n",
       "15   -0.325875  \n",
       "16   -0.406273  \n",
       "17   -0.449186  \n",
       "18   -0.290785  \n",
       "19   -0.353777  \n",
       "20   -0.225790  \n",
       "21   -0.050075  \n",
       "22    0.768099  \n",
       "23    0.300533  \n",
       "24   -0.213581  \n",
       "25   -0.395522  \n",
       "26   -0.441988  \n",
       "27    1.528222  \n",
       "28   -0.318526  \n",
       "29   -0.134339  \n",
       "30   -0.439662  \n",
       "31   -0.114561  \n",
       "32   -0.437208  \n",
       "33   -0.431225  \n",
       "34    4.231891  \n",
       "35    2.101798  \n",
       "36   -0.119236  \n",
       "37   -0.425728  \n",
       "38    0.543742  \n",
       "39   -0.366184  \n",
       "40    1.129551  \n",
       "41   -0.399711  \n",
       "42    0.100236  \n",
       "43    0.043412  \n",
       "44    0.562074  \n",
       "45   -0.016722  \n",
       "46   -0.445275  \n",
       "47   -0.417569  \n",
       "48    4.693184  \n",
       "49   -0.403438  \n",
       "50    0.460149  \n",
       "51   -0.269051  \n",
       "52    0.168668  \n",
       "53   -0.357249  \n",
       "\n",
       "[54 rows x 31 columns]"
      ]
     },
     "execution_count": 55,
     "metadata": {},
     "output_type": "execute_result"
    }
   ],
   "source": [
    "unique_expression"
   ]
  },
  {
   "cell_type": "code",
   "execution_count": 58,
   "id": "20c2dfdd-6704-41d1-951f-d24b8cd8af96",
   "metadata": {},
   "outputs": [
    {
     "name": "stdout",
     "output_type": "stream",
     "text": [
      "Gene             Case     ABCC3     ACKR3      ANO1     APOC1      AQP3  \\\n",
      "0             ER-B1PU -0.045023 -0.586864 -0.907599 -0.228153 -0.393294   \n",
      "1     MBCProject_1037  0.961252 -0.721009 -0.631017  0.980195 -0.355389   \n",
      "2     MBCProject_1542  0.286342 -0.717298 -0.699201 -0.082009 -0.370838   \n",
      "3     MBCProject_1819  0.880671 -0.697784 -0.556719 -0.388686 -0.361625   \n",
      "4     MBCProject_3159  0.160918  0.420206 -0.621328 -0.419311 -0.345664   \n",
      "\n",
      "Gene       CA2       CLU      CTTN    DUSP10  ...     RAMP3    SCARA3  \\\n",
      "0     0.079816  0.080477 -0.685137 -0.610679  ... -0.392005 -0.414537   \n",
      "1    -0.084171 -0.361796 -0.524917  0.559878  ... -0.378329 -0.505737   \n",
      "2    -0.119778 -0.149715 -0.758737 -0.529960  ... -0.195101 -0.597529   \n",
      "3    -0.029711 -0.177128 -0.449316 -0.556900  ... -0.208991 -0.595553   \n",
      "4    -0.119353 -0.342870 -0.378176 -0.788626  ... -0.104212 -0.496912   \n",
      "\n",
      "Gene  SERPINA1  SERPINF2   TMEM45B      TSKU   TSPAN12      UCP2     VSIG2  \\\n",
      "0    -0.309348 -0.181082 -0.551756 -0.539980  0.251338 -0.869466 -0.319394   \n",
      "1    -0.285743 -0.251205 -0.145836 -0.423794 -0.211445 -0.390667 -0.444638   \n",
      "2    -0.321613  0.067656 -0.384368 -0.521514 -0.329936  0.223387  0.125454   \n",
      "3    -0.307013  0.346663 -0.478453 -0.477323  0.677203 -0.405091 -0.264097   \n",
      "4    -0.325692  0.527588 -0.525519 -0.530285 -0.342842 -0.554920 -0.006699   \n",
      "\n",
      "Gene  Cancer Stage  \n",
      "0         Stage IV  \n",
      "1             None  \n",
      "2             None  \n",
      "3             None  \n",
      "4             None  \n",
      "\n",
      "[5 rows x 32 columns]\n"
     ]
    }
   ],
   "source": [
    "\n",
    "\n",
    "# Map the 'Cancer Stage' values from reshaped_df to unique_expression\n",
    "unique_expression['Cancer Stage'] = unique_expression['Case'].map(\n",
    "    reshaped_df.drop_duplicates(subset='Case').set_index('Case')['Cancer Stage']\n",
    ")\n",
    "\n",
    "# Display the updated unique_expression DataFrame\n",
    "print(unique_expression.head())\n"
   ]
  },
  {
   "cell_type": "code",
   "execution_count": 60,
   "id": "d67983b9",
   "metadata": {},
   "outputs": [
    {
     "data": {
      "application/vnd.plotly.v1+json": {
       "config": {
        "plotlyServerURL": "https://plot.ly"
       },
       "data": [
        {
         "coloraxis": "coloraxis",
         "histfunc": "sum",
         "hovertemplate": "Gene=%{x}<br>Case=%{y}<br>sum of Expression Level=%{z}<extra></extra>",
         "name": "",
         "type": "histogram2d",
         "x": [
          "ABCC3",
          "ABCC3",
          "ABCC3",
          "ABCC3",
          "ABCC3",
          "ABCC3",
          "ABCC3",
          "ABCC3",
          "ABCC3",
          "ABCC3",
          "ABCC3",
          "ABCC3",
          "ABCC3",
          "ABCC3",
          "ABCC3",
          "ABCC3",
          "ABCC3",
          "ABCC3",
          "ABCC3",
          "ABCC3",
          "ABCC3",
          "ABCC3",
          "ABCC3",
          "ABCC3",
          "ABCC3",
          "ABCC3",
          "ABCC3",
          "ABCC3",
          "ABCC3",
          "ABCC3",
          "ABCC3",
          "ABCC3",
          "ABCC3",
          "ABCC3",
          "ABCC3",
          "ABCC3",
          "ABCC3",
          "ABCC3",
          "ABCC3",
          "ABCC3",
          "ABCC3",
          "ABCC3",
          "ABCC3",
          "ABCC3",
          "ABCC3",
          "ABCC3",
          "ABCC3",
          "ABCC3",
          "ABCC3",
          "ABCC3",
          "ABCC3",
          "ABCC3",
          "ABCC3",
          "ABCC3",
          "ACKR3",
          "ACKR3",
          "ACKR3",
          "ACKR3",
          "ACKR3",
          "ACKR3",
          "ACKR3",
          "ACKR3",
          "ACKR3",
          "ACKR3",
          "ACKR3",
          "ACKR3",
          "ACKR3",
          "ACKR3",
          "ACKR3",
          "ACKR3",
          "ACKR3",
          "ACKR3",
          "ACKR3",
          "ACKR3",
          "ACKR3",
          "ACKR3",
          "ACKR3",
          "ACKR3",
          "ACKR3",
          "ACKR3",
          "ACKR3",
          "ACKR3",
          "ACKR3",
          "ACKR3",
          "ACKR3",
          "ACKR3",
          "ACKR3",
          "ACKR3",
          "ACKR3",
          "ACKR3",
          "ACKR3",
          "ACKR3",
          "ACKR3",
          "ACKR3",
          "ACKR3",
          "ACKR3",
          "ACKR3",
          "ACKR3",
          "ACKR3",
          "ACKR3",
          "ACKR3",
          "ACKR3",
          "ACKR3",
          "ACKR3",
          "ACKR3",
          "ACKR3",
          "ACKR3",
          "ACKR3",
          "ANO1",
          "ANO1",
          "ANO1",
          "ANO1",
          "ANO1",
          "ANO1",
          "ANO1",
          "ANO1",
          "ANO1",
          "ANO1",
          "ANO1",
          "ANO1",
          "ANO1",
          "ANO1",
          "ANO1",
          "ANO1",
          "ANO1",
          "ANO1",
          "ANO1",
          "ANO1",
          "ANO1",
          "ANO1",
          "ANO1",
          "ANO1",
          "ANO1",
          "ANO1",
          "ANO1",
          "ANO1",
          "ANO1",
          "ANO1",
          "ANO1",
          "ANO1",
          "ANO1",
          "ANO1",
          "ANO1",
          "ANO1",
          "ANO1",
          "ANO1",
          "ANO1",
          "ANO1",
          "ANO1",
          "ANO1",
          "ANO1",
          "ANO1",
          "ANO1",
          "ANO1",
          "ANO1",
          "ANO1",
          "ANO1",
          "ANO1",
          "ANO1",
          "ANO1",
          "ANO1",
          "ANO1",
          "APOC1",
          "APOC1",
          "APOC1",
          "APOC1",
          "APOC1",
          "APOC1",
          "APOC1",
          "APOC1",
          "APOC1",
          "APOC1",
          "APOC1",
          "APOC1",
          "APOC1",
          "APOC1",
          "APOC1",
          "APOC1",
          "APOC1",
          "APOC1",
          "APOC1",
          "APOC1",
          "APOC1",
          "APOC1",
          "APOC1",
          "APOC1",
          "APOC1",
          "APOC1",
          "APOC1",
          "APOC1",
          "APOC1",
          "APOC1",
          "APOC1",
          "APOC1",
          "APOC1",
          "APOC1",
          "APOC1",
          "APOC1",
          "APOC1",
          "APOC1",
          "APOC1",
          "APOC1",
          "APOC1",
          "APOC1",
          "APOC1",
          "APOC1",
          "APOC1",
          "APOC1",
          "APOC1",
          "APOC1",
          "APOC1",
          "APOC1",
          "APOC1",
          "APOC1",
          "APOC1",
          "APOC1",
          "AQP3",
          "AQP3",
          "AQP3",
          "AQP3",
          "AQP3",
          "AQP3",
          "AQP3",
          "AQP3",
          "AQP3",
          "AQP3",
          "AQP3",
          "AQP3",
          "AQP3",
          "AQP3",
          "AQP3",
          "AQP3",
          "AQP3",
          "AQP3",
          "AQP3",
          "AQP3",
          "AQP3",
          "AQP3",
          "AQP3",
          "AQP3",
          "AQP3",
          "AQP3",
          "AQP3",
          "AQP3",
          "AQP3",
          "AQP3",
          "AQP3",
          "AQP3",
          "AQP3",
          "AQP3",
          "AQP3",
          "AQP3",
          "AQP3",
          "AQP3",
          "AQP3",
          "AQP3",
          "AQP3",
          "AQP3",
          "AQP3",
          "AQP3",
          "AQP3",
          "AQP3",
          "AQP3",
          "AQP3",
          "AQP3",
          "AQP3",
          "AQP3",
          "AQP3",
          "AQP3",
          "AQP3",
          "CA2",
          "CA2",
          "CA2",
          "CA2",
          "CA2",
          "CA2",
          "CA2",
          "CA2",
          "CA2",
          "CA2",
          "CA2",
          "CA2",
          "CA2",
          "CA2",
          "CA2",
          "CA2",
          "CA2",
          "CA2",
          "CA2",
          "CA2",
          "CA2",
          "CA2",
          "CA2",
          "CA2",
          "CA2",
          "CA2",
          "CA2",
          "CA2",
          "CA2",
          "CA2",
          "CA2",
          "CA2",
          "CA2",
          "CA2",
          "CA2",
          "CA2",
          "CA2",
          "CA2",
          "CA2",
          "CA2",
          "CA2",
          "CA2",
          "CA2",
          "CA2",
          "CA2",
          "CA2",
          "CA2",
          "CA2",
          "CA2",
          "CA2",
          "CA2",
          "CA2",
          "CA2",
          "CA2",
          "CLU",
          "CLU",
          "CLU",
          "CLU",
          "CLU",
          "CLU",
          "CLU",
          "CLU",
          "CLU",
          "CLU",
          "CLU",
          "CLU",
          "CLU",
          "CLU",
          "CLU",
          "CLU",
          "CLU",
          "CLU",
          "CLU",
          "CLU",
          "CLU",
          "CLU",
          "CLU",
          "CLU",
          "CLU",
          "CLU",
          "CLU",
          "CLU",
          "CLU",
          "CLU",
          "CLU",
          "CLU",
          "CLU",
          "CLU",
          "CLU",
          "CLU",
          "CLU",
          "CLU",
          "CLU",
          "CLU",
          "CLU",
          "CLU",
          "CLU",
          "CLU",
          "CLU",
          "CLU",
          "CLU",
          "CLU",
          "CLU",
          "CLU",
          "CLU",
          "CLU",
          "CLU",
          "CLU",
          "CTTN",
          "CTTN",
          "CTTN",
          "CTTN",
          "CTTN",
          "CTTN",
          "CTTN",
          "CTTN",
          "CTTN",
          "CTTN",
          "CTTN",
          "CTTN",
          "CTTN",
          "CTTN",
          "CTTN",
          "CTTN",
          "CTTN",
          "CTTN",
          "CTTN",
          "CTTN",
          "CTTN",
          "CTTN",
          "CTTN",
          "CTTN",
          "CTTN",
          "CTTN",
          "CTTN",
          "CTTN",
          "CTTN",
          "CTTN",
          "CTTN",
          "CTTN",
          "CTTN",
          "CTTN",
          "CTTN",
          "CTTN",
          "CTTN",
          "CTTN",
          "CTTN",
          "CTTN",
          "CTTN",
          "CTTN",
          "CTTN",
          "CTTN",
          "CTTN",
          "CTTN",
          "CTTN",
          "CTTN",
          "CTTN",
          "CTTN",
          "CTTN",
          "CTTN",
          "CTTN",
          "CTTN",
          "DUSP10",
          "DUSP10",
          "DUSP10",
          "DUSP10",
          "DUSP10",
          "DUSP10",
          "DUSP10",
          "DUSP10",
          "DUSP10",
          "DUSP10",
          "DUSP10",
          "DUSP10",
          "DUSP10",
          "DUSP10",
          "DUSP10",
          "DUSP10",
          "DUSP10",
          "DUSP10",
          "DUSP10",
          "DUSP10",
          "DUSP10",
          "DUSP10",
          "DUSP10",
          "DUSP10",
          "DUSP10",
          "DUSP10",
          "DUSP10",
          "DUSP10",
          "DUSP10",
          "DUSP10",
          "DUSP10",
          "DUSP10",
          "DUSP10",
          "DUSP10",
          "DUSP10",
          "DUSP10",
          "DUSP10",
          "DUSP10",
          "DUSP10",
          "DUSP10",
          "DUSP10",
          "DUSP10",
          "DUSP10",
          "DUSP10",
          "DUSP10",
          "DUSP10",
          "DUSP10",
          "DUSP10",
          "DUSP10",
          "DUSP10",
          "DUSP10",
          "DUSP10",
          "DUSP10",
          "DUSP10",
          "ERBB2",
          "ERBB2",
          "ERBB2",
          "ERBB2",
          "ERBB2",
          "ERBB2",
          "ERBB2",
          "ERBB2",
          "ERBB2",
          "ERBB2",
          "ERBB2",
          "ERBB2",
          "ERBB2",
          "ERBB2",
          "ERBB2",
          "ERBB2",
          "ERBB2",
          "ERBB2",
          "ERBB2",
          "ERBB2",
          "ERBB2",
          "ERBB2",
          "ERBB2",
          "ERBB2",
          "ERBB2",
          "ERBB2",
          "ERBB2",
          "ERBB2",
          "ERBB2",
          "ERBB2",
          "ERBB2",
          "ERBB2",
          "ERBB2",
          "ERBB2",
          "ERBB2",
          "ERBB2",
          "ERBB2",
          "ERBB2",
          "ERBB2",
          "ERBB2",
          "ERBB2",
          "ERBB2",
          "ERBB2",
          "ERBB2",
          "ERBB2",
          "ERBB2",
          "ERBB2",
          "ERBB2",
          "ERBB2",
          "ERBB2",
          "ERBB2",
          "ERBB2",
          "ERBB2",
          "ERBB2",
          "F2RL1",
          "F2RL1",
          "F2RL1",
          "F2RL1",
          "F2RL1",
          "F2RL1",
          "F2RL1",
          "F2RL1",
          "F2RL1",
          "F2RL1",
          "F2RL1",
          "F2RL1",
          "F2RL1",
          "F2RL1",
          "F2RL1",
          "F2RL1",
          "F2RL1",
          "F2RL1",
          "F2RL1",
          "F2RL1",
          "F2RL1",
          "F2RL1",
          "F2RL1",
          "F2RL1",
          "F2RL1",
          "F2RL1",
          "F2RL1",
          "F2RL1",
          "F2RL1",
          "F2RL1",
          "F2RL1",
          "F2RL1",
          "F2RL1",
          "F2RL1",
          "F2RL1",
          "F2RL1",
          "F2RL1",
          "F2RL1",
          "F2RL1",
          "F2RL1",
          "F2RL1",
          "F2RL1",
          "F2RL1",
          "F2RL1",
          "F2RL1",
          "F2RL1",
          "F2RL1",
          "F2RL1",
          "F2RL1",
          "F2RL1",
          "F2RL1",
          "F2RL1",
          "F2RL1",
          "F2RL1",
          "GAB2",
          "GAB2",
          "GAB2",
          "GAB2",
          "GAB2",
          "GAB2",
          "GAB2",
          "GAB2",
          "GAB2",
          "GAB2",
          "GAB2",
          "GAB2",
          "GAB2",
          "GAB2",
          "GAB2",
          "GAB2",
          "GAB2",
          "GAB2",
          "GAB2",
          "GAB2",
          "GAB2",
          "GAB2",
          "GAB2",
          "GAB2",
          "GAB2",
          "GAB2",
          "GAB2",
          "GAB2",
          "GAB2",
          "GAB2",
          "GAB2",
          "GAB2",
          "GAB2",
          "GAB2",
          "GAB2",
          "GAB2",
          "GAB2",
          "GAB2",
          "GAB2",
          "GAB2",
          "GAB2",
          "GAB2",
          "GAB2",
          "GAB2",
          "GAB2",
          "GAB2",
          "GAB2",
          "GAB2",
          "GAB2",
          "GAB2",
          "GAB2",
          "GAB2",
          "GAB2",
          "GAB2",
          "GATM",
          "GATM",
          "GATM",
          "GATM",
          "GATM",
          "GATM",
          "GATM",
          "GATM",
          "GATM",
          "GATM",
          "GATM",
          "GATM",
          "GATM",
          "GATM",
          "GATM",
          "GATM",
          "GATM",
          "GATM",
          "GATM",
          "GATM",
          "GATM",
          "GATM",
          "GATM",
          "GATM",
          "GATM",
          "GATM",
          "GATM",
          "GATM",
          "GATM",
          "GATM",
          "GATM",
          "GATM",
          "GATM",
          "GATM",
          "GATM",
          "GATM",
          "GATM",
          "GATM",
          "GATM",
          "GATM",
          "GATM",
          "GATM",
          "GATM",
          "GATM",
          "GATM",
          "GATM",
          "GATM",
          "GATM",
          "GATM",
          "GATM",
          "GATM",
          "GATM",
          "GATM",
          "GATM",
          "GRB7",
          "GRB7",
          "GRB7",
          "GRB7",
          "GRB7",
          "GRB7",
          "GRB7",
          "GRB7",
          "GRB7",
          "GRB7",
          "GRB7",
          "GRB7",
          "GRB7",
          "GRB7",
          "GRB7",
          "GRB7",
          "GRB7",
          "GRB7",
          "GRB7",
          "GRB7",
          "GRB7",
          "GRB7",
          "GRB7",
          "GRB7",
          "GRB7",
          "GRB7",
          "GRB7",
          "GRB7",
          "GRB7",
          "GRB7",
          "GRB7",
          "GRB7",
          "GRB7",
          "GRB7",
          "GRB7",
          "GRB7",
          "GRB7",
          "GRB7",
          "GRB7",
          "GRB7",
          "GRB7",
          "GRB7",
          "GRB7",
          "GRB7",
          "GRB7",
          "GRB7",
          "GRB7",
          "GRB7",
          "GRB7",
          "GRB7",
          "GRB7",
          "GRB7",
          "GRB7",
          "GRB7",
          "H2AW",
          "H2AW",
          "H2AW",
          "H2AW",
          "H2AW",
          "H2AW",
          "H2AW",
          "H2AW",
          "H2AW",
          "H2AW",
          "H2AW",
          "H2AW",
          "H2AW",
          "H2AW",
          "H2AW",
          "H2AW",
          "H2AW",
          "H2AW",
          "H2AW",
          "H2AW",
          "H2AW",
          "H2AW",
          "H2AW",
          "H2AW",
          "H2AW",
          "H2AW",
          "H2AW",
          "H2AW",
          "H2AW",
          "H2AW",
          "H2AW",
          "H2AW",
          "H2AW",
          "H2AW",
          "H2AW",
          "H2AW",
          "H2AW",
          "H2AW",
          "H2AW",
          "H2AW",
          "H2AW",
          "H2AW",
          "H2AW",
          "H2AW",
          "H2AW",
          "H2AW",
          "H2AW",
          "H2AW",
          "H2AW",
          "H2AW",
          "H2AW",
          "H2AW",
          "H2AW",
          "H2AW",
          "HOXB7",
          "HOXB7",
          "HOXB7",
          "HOXB7",
          "HOXB7",
          "HOXB7",
          "HOXB7",
          "HOXB7",
          "HOXB7",
          "HOXB7",
          "HOXB7",
          "HOXB7",
          "HOXB7",
          "HOXB7",
          "HOXB7",
          "HOXB7",
          "HOXB7",
          "HOXB7",
          "HOXB7",
          "HOXB7",
          "HOXB7",
          "HOXB7",
          "HOXB7",
          "HOXB7",
          "HOXB7",
          "HOXB7",
          "HOXB7",
          "HOXB7",
          "HOXB7",
          "HOXB7",
          "HOXB7",
          "HOXB7",
          "HOXB7",
          "HOXB7",
          "HOXB7",
          "HOXB7",
          "HOXB7",
          "HOXB7",
          "HOXB7",
          "HOXB7",
          "HOXB7",
          "HOXB7",
          "HOXB7",
          "HOXB7",
          "HOXB7",
          "HOXB7",
          "HOXB7",
          "HOXB7",
          "HOXB7",
          "HOXB7",
          "HOXB7",
          "HOXB7",
          "HOXB7",
          "HOXB7",
          "INHBB",
          "INHBB",
          "INHBB",
          "INHBB",
          "INHBB",
          "INHBB",
          "INHBB",
          "INHBB",
          "INHBB",
          "INHBB",
          "INHBB",
          "INHBB",
          "INHBB",
          "INHBB",
          "INHBB",
          "INHBB",
          "INHBB",
          "INHBB",
          "INHBB",
          "INHBB",
          "INHBB",
          "INHBB",
          "INHBB",
          "INHBB",
          "INHBB",
          "INHBB",
          "INHBB",
          "INHBB",
          "INHBB",
          "INHBB",
          "INHBB",
          "INHBB",
          "INHBB",
          "INHBB",
          "INHBB",
          "INHBB",
          "INHBB",
          "INHBB",
          "INHBB",
          "INHBB",
          "INHBB",
          "INHBB",
          "INHBB",
          "INHBB",
          "INHBB",
          "INHBB",
          "INHBB",
          "INHBB",
          "INHBB",
          "INHBB",
          "INHBB",
          "INHBB",
          "INHBB",
          "INHBB",
          "ITGA3",
          "ITGA3",
          "ITGA3",
          "ITGA3",
          "ITGA3",
          "ITGA3",
          "ITGA3",
          "ITGA3",
          "ITGA3",
          "ITGA3",
          "ITGA3",
          "ITGA3",
          "ITGA3",
          "ITGA3",
          "ITGA3",
          "ITGA3",
          "ITGA3",
          "ITGA3",
          "ITGA3",
          "ITGA3",
          "ITGA3",
          "ITGA3",
          "ITGA3",
          "ITGA3",
          "ITGA3",
          "ITGA3",
          "ITGA3",
          "ITGA3",
          "ITGA3",
          "ITGA3",
          "ITGA3",
          "ITGA3",
          "ITGA3",
          "ITGA3",
          "ITGA3",
          "ITGA3",
          "ITGA3",
          "ITGA3",
          "ITGA3",
          "ITGA3",
          "ITGA3",
          "ITGA3",
          "ITGA3",
          "ITGA3",
          "ITGA3",
          "ITGA3",
          "ITGA3",
          "ITGA3",
          "ITGA3",
          "ITGA3",
          "ITGA3",
          "ITGA3",
          "ITGA3",
          "ITGA3",
          "MGST1",
          "MGST1",
          "MGST1",
          "MGST1",
          "MGST1",
          "MGST1",
          "MGST1",
          "MGST1",
          "MGST1",
          "MGST1",
          "MGST1",
          "MGST1",
          "MGST1",
          "MGST1",
          "MGST1",
          "MGST1",
          "MGST1",
          "MGST1",
          "MGST1",
          "MGST1",
          "MGST1",
          "MGST1",
          "MGST1",
          "MGST1",
          "MGST1",
          "MGST1",
          "MGST1",
          "MGST1",
          "MGST1",
          "MGST1",
          "MGST1",
          "MGST1",
          "MGST1",
          "MGST1",
          "MGST1",
          "MGST1",
          "MGST1",
          "MGST1",
          "MGST1",
          "MGST1",
          "MGST1",
          "MGST1",
          "MGST1",
          "MGST1",
          "MGST1",
          "MGST1",
          "MGST1",
          "MGST1",
          "MGST1",
          "MGST1",
          "MGST1",
          "MGST1",
          "MGST1",
          "MGST1",
          "PEG10",
          "PEG10",
          "PEG10",
          "PEG10",
          "PEG10",
          "PEG10",
          "PEG10",
          "PEG10",
          "PEG10",
          "PEG10",
          "PEG10",
          "PEG10",
          "PEG10",
          "PEG10",
          "PEG10",
          "PEG10",
          "PEG10",
          "PEG10",
          "PEG10",
          "PEG10",
          "PEG10",
          "PEG10",
          "PEG10",
          "PEG10",
          "PEG10",
          "PEG10",
          "PEG10",
          "PEG10",
          "PEG10",
          "PEG10",
          "PEG10",
          "PEG10",
          "PEG10",
          "PEG10",
          "PEG10",
          "PEG10",
          "PEG10",
          "PEG10",
          "PEG10",
          "PEG10",
          "PEG10",
          "PEG10",
          "PEG10",
          "PEG10",
          "PEG10",
          "PEG10",
          "PEG10",
          "PEG10",
          "PEG10",
          "PEG10",
          "PEG10",
          "PEG10",
          "PEG10",
          "PEG10",
          "PRR15L",
          "PRR15L",
          "PRR15L",
          "PRR15L",
          "PRR15L",
          "PRR15L",
          "PRR15L",
          "PRR15L",
          "PRR15L",
          "PRR15L",
          "PRR15L",
          "PRR15L",
          "PRR15L",
          "PRR15L",
          "PRR15L",
          "PRR15L",
          "PRR15L",
          "PRR15L",
          "PRR15L",
          "PRR15L",
          "PRR15L",
          "PRR15L",
          "PRR15L",
          "PRR15L",
          "PRR15L",
          "PRR15L",
          "PRR15L",
          "PRR15L",
          "PRR15L",
          "PRR15L",
          "PRR15L",
          "PRR15L",
          "PRR15L",
          "PRR15L",
          "PRR15L",
          "PRR15L",
          "PRR15L",
          "PRR15L",
          "PRR15L",
          "PRR15L",
          "PRR15L",
          "PRR15L",
          "PRR15L",
          "PRR15L",
          "PRR15L",
          "PRR15L",
          "PRR15L",
          "PRR15L",
          "PRR15L",
          "PRR15L",
          "PRR15L",
          "PRR15L",
          "PRR15L",
          "PRR15L",
          "RAMP3",
          "RAMP3",
          "RAMP3",
          "RAMP3",
          "RAMP3",
          "RAMP3",
          "RAMP3",
          "RAMP3",
          "RAMP3",
          "RAMP3",
          "RAMP3",
          "RAMP3",
          "RAMP3",
          "RAMP3",
          "RAMP3",
          "RAMP3",
          "RAMP3",
          "RAMP3",
          "RAMP3",
          "RAMP3",
          "RAMP3",
          "RAMP3",
          "RAMP3",
          "RAMP3",
          "RAMP3",
          "RAMP3",
          "RAMP3",
          "RAMP3",
          "RAMP3",
          "RAMP3",
          "RAMP3",
          "RAMP3",
          "RAMP3",
          "RAMP3",
          "RAMP3",
          "RAMP3",
          "RAMP3",
          "RAMP3",
          "RAMP3",
          "RAMP3",
          "RAMP3",
          "RAMP3",
          "RAMP3",
          "RAMP3",
          "RAMP3",
          "RAMP3",
          "RAMP3",
          "RAMP3",
          "RAMP3",
          "RAMP3",
          "RAMP3",
          "RAMP3",
          "RAMP3",
          "RAMP3",
          "SCARA3",
          "SCARA3",
          "SCARA3",
          "SCARA3",
          "SCARA3",
          "SCARA3",
          "SCARA3",
          "SCARA3",
          "SCARA3",
          "SCARA3",
          "SCARA3",
          "SCARA3",
          "SCARA3",
          "SCARA3",
          "SCARA3",
          "SCARA3",
          "SCARA3",
          "SCARA3",
          "SCARA3",
          "SCARA3",
          "SCARA3",
          "SCARA3",
          "SCARA3",
          "SCARA3",
          "SCARA3",
          "SCARA3",
          "SCARA3",
          "SCARA3",
          "SCARA3",
          "SCARA3",
          "SCARA3",
          "SCARA3",
          "SCARA3",
          "SCARA3",
          "SCARA3",
          "SCARA3",
          "SCARA3",
          "SCARA3",
          "SCARA3",
          "SCARA3",
          "SCARA3",
          "SCARA3",
          "SCARA3",
          "SCARA3",
          "SCARA3",
          "SCARA3",
          "SCARA3",
          "SCARA3",
          "SCARA3",
          "SCARA3",
          "SCARA3",
          "SCARA3",
          "SCARA3",
          "SCARA3",
          "SERPINA1",
          "SERPINA1",
          "SERPINA1",
          "SERPINA1",
          "SERPINA1",
          "SERPINA1",
          "SERPINA1",
          "SERPINA1",
          "SERPINA1",
          "SERPINA1",
          "SERPINA1",
          "SERPINA1",
          "SERPINA1",
          "SERPINA1",
          "SERPINA1",
          "SERPINA1",
          "SERPINA1",
          "SERPINA1",
          "SERPINA1",
          "SERPINA1",
          "SERPINA1",
          "SERPINA1",
          "SERPINA1",
          "SERPINA1",
          "SERPINA1",
          "SERPINA1",
          "SERPINA1",
          "SERPINA1",
          "SERPINA1",
          "SERPINA1",
          "SERPINA1",
          "SERPINA1",
          "SERPINA1",
          "SERPINA1",
          "SERPINA1",
          "SERPINA1",
          "SERPINA1",
          "SERPINA1",
          "SERPINA1",
          "SERPINA1",
          "SERPINA1",
          "SERPINA1",
          "SERPINA1",
          "SERPINA1",
          "SERPINA1",
          "SERPINA1",
          "SERPINA1",
          "SERPINA1",
          "SERPINA1",
          "SERPINA1",
          "SERPINA1",
          "SERPINA1",
          "SERPINA1",
          "SERPINA1",
          "SERPINF2",
          "SERPINF2",
          "SERPINF2",
          "SERPINF2",
          "SERPINF2",
          "SERPINF2",
          "SERPINF2",
          "SERPINF2",
          "SERPINF2",
          "SERPINF2",
          "SERPINF2",
          "SERPINF2",
          "SERPINF2",
          "SERPINF2",
          "SERPINF2",
          "SERPINF2",
          "SERPINF2",
          "SERPINF2",
          "SERPINF2",
          "SERPINF2",
          "SERPINF2",
          "SERPINF2",
          "SERPINF2",
          "SERPINF2",
          "SERPINF2",
          "SERPINF2",
          "SERPINF2",
          "SERPINF2",
          "SERPINF2",
          "SERPINF2",
          "SERPINF2",
          "SERPINF2",
          "SERPINF2",
          "SERPINF2",
          "SERPINF2",
          "SERPINF2",
          "SERPINF2",
          "SERPINF2",
          "SERPINF2",
          "SERPINF2",
          "SERPINF2",
          "SERPINF2",
          "SERPINF2",
          "SERPINF2",
          "SERPINF2",
          "SERPINF2",
          "SERPINF2",
          "SERPINF2",
          "SERPINF2",
          "SERPINF2",
          "SERPINF2",
          "SERPINF2",
          "SERPINF2",
          "SERPINF2",
          "TMEM45B",
          "TMEM45B",
          "TMEM45B",
          "TMEM45B",
          "TMEM45B",
          "TMEM45B",
          "TMEM45B",
          "TMEM45B",
          "TMEM45B",
          "TMEM45B",
          "TMEM45B",
          "TMEM45B",
          "TMEM45B",
          "TMEM45B",
          "TMEM45B",
          "TMEM45B",
          "TMEM45B",
          "TMEM45B",
          "TMEM45B",
          "TMEM45B",
          "TMEM45B",
          "TMEM45B",
          "TMEM45B",
          "TMEM45B",
          "TMEM45B",
          "TMEM45B",
          "TMEM45B",
          "TMEM45B",
          "TMEM45B",
          "TMEM45B",
          "TMEM45B",
          "TMEM45B",
          "TMEM45B",
          "TMEM45B",
          "TMEM45B",
          "TMEM45B",
          "TMEM45B",
          "TMEM45B",
          "TMEM45B",
          "TMEM45B",
          "TMEM45B",
          "TMEM45B",
          "TMEM45B",
          "TMEM45B",
          "TMEM45B",
          "TMEM45B",
          "TMEM45B",
          "TMEM45B",
          "TMEM45B",
          "TMEM45B",
          "TMEM45B",
          "TMEM45B",
          "TMEM45B",
          "TMEM45B",
          "TSKU",
          "TSKU",
          "TSKU",
          "TSKU",
          "TSKU",
          "TSKU",
          "TSKU",
          "TSKU",
          "TSKU",
          "TSKU",
          "TSKU",
          "TSKU",
          "TSKU",
          "TSKU",
          "TSKU",
          "TSKU",
          "TSKU",
          "TSKU",
          "TSKU",
          "TSKU",
          "TSKU",
          "TSKU",
          "TSKU",
          "TSKU",
          "TSKU",
          "TSKU",
          "TSKU",
          "TSKU",
          "TSKU",
          "TSKU",
          "TSKU",
          "TSKU",
          "TSKU",
          "TSKU",
          "TSKU",
          "TSKU",
          "TSKU",
          "TSKU",
          "TSKU",
          "TSKU",
          "TSKU",
          "TSKU",
          "TSKU",
          "TSKU",
          "TSKU",
          "TSKU",
          "TSKU",
          "TSKU",
          "TSKU",
          "TSKU",
          "TSKU",
          "TSKU",
          "TSKU",
          "TSKU",
          "TSPAN12",
          "TSPAN12",
          "TSPAN12",
          "TSPAN12",
          "TSPAN12",
          "TSPAN12",
          "TSPAN12",
          "TSPAN12",
          "TSPAN12",
          "TSPAN12",
          "TSPAN12",
          "TSPAN12",
          "TSPAN12",
          "TSPAN12",
          "TSPAN12",
          "TSPAN12",
          "TSPAN12",
          "TSPAN12",
          "TSPAN12",
          "TSPAN12",
          "TSPAN12",
          "TSPAN12",
          "TSPAN12",
          "TSPAN12",
          "TSPAN12",
          "TSPAN12",
          "TSPAN12",
          "TSPAN12",
          "TSPAN12",
          "TSPAN12",
          "TSPAN12",
          "TSPAN12",
          "TSPAN12",
          "TSPAN12",
          "TSPAN12",
          "TSPAN12",
          "TSPAN12",
          "TSPAN12",
          "TSPAN12",
          "TSPAN12",
          "TSPAN12",
          "TSPAN12",
          "TSPAN12",
          "TSPAN12",
          "TSPAN12",
          "TSPAN12",
          "TSPAN12",
          "TSPAN12",
          "TSPAN12",
          "TSPAN12",
          "TSPAN12",
          "TSPAN12",
          "TSPAN12",
          "TSPAN12",
          "UCP2",
          "UCP2",
          "UCP2",
          "UCP2",
          "UCP2",
          "UCP2",
          "UCP2",
          "UCP2",
          "UCP2",
          "UCP2",
          "UCP2",
          "UCP2",
          "UCP2",
          "UCP2",
          "UCP2",
          "UCP2",
          "UCP2",
          "UCP2",
          "UCP2",
          "UCP2",
          "UCP2",
          "UCP2",
          "UCP2",
          "UCP2",
          "UCP2",
          "UCP2",
          "UCP2",
          "UCP2",
          "UCP2",
          "UCP2",
          "UCP2",
          "UCP2",
          "UCP2",
          "UCP2",
          "UCP2",
          "UCP2",
          "UCP2",
          "UCP2",
          "UCP2",
          "UCP2",
          "UCP2",
          "UCP2",
          "UCP2",
          "UCP2",
          "UCP2",
          "UCP2",
          "UCP2",
          "UCP2",
          "UCP2",
          "UCP2",
          "UCP2",
          "UCP2",
          "UCP2",
          "UCP2",
          "VSIG2",
          "VSIG2",
          "VSIG2",
          "VSIG2",
          "VSIG2",
          "VSIG2",
          "VSIG2",
          "VSIG2",
          "VSIG2",
          "VSIG2",
          "VSIG2",
          "VSIG2",
          "VSIG2",
          "VSIG2",
          "VSIG2",
          "VSIG2",
          "VSIG2",
          "VSIG2",
          "VSIG2",
          "VSIG2",
          "VSIG2",
          "VSIG2",
          "VSIG2",
          "VSIG2",
          "VSIG2",
          "VSIG2",
          "VSIG2",
          "VSIG2",
          "VSIG2",
          "VSIG2",
          "VSIG2",
          "VSIG2",
          "VSIG2",
          "VSIG2",
          "VSIG2",
          "VSIG2",
          "VSIG2",
          "VSIG2",
          "VSIG2",
          "VSIG2",
          "VSIG2",
          "VSIG2",
          "VSIG2",
          "VSIG2",
          "VSIG2",
          "VSIG2",
          "VSIG2",
          "VSIG2",
          "VSIG2",
          "VSIG2",
          "VSIG2",
          "VSIG2",
          "VSIG2",
          "VSIG2"
         ],
         "xaxis": "x",
         "xbingroup": "x",
         "y": [
          "ER-B1PU",
          "MBCProject_1037",
          "MBCProject_1542",
          "MBCProject_1819",
          "MBCProject_3159",
          "MBCProject_4424",
          "MBCproject_0093",
          "MBCproject_0280",
          "TCGA-A1-A0SK",
          "TCGA-A2-A0CO",
          "TCGA-A2-A0CY",
          "TCGA-A2-A0EP",
          "TCGA-A2-A3XV",
          "TCGA-A2-A3XW",
          "TCGA-A2-A3Y0",
          "TCGA-A2-A4S1",
          "TCGA-A7-A56D",
          "TCGA-A7-A5ZV",
          "TCGA-A8-A08H",
          "TCGA-AC-A2QH",
          "TCGA-AC-A2QJ",
          "TCGA-AC-A62X",
          "TCGA-AN-A0FL",
          "TCGA-AO-A1KO",
          "TCGA-AO-A1KR",
          "TCGA-AQ-A54N",
          "TCGA-AR-A0TP",
          "TCGA-AR-A2LN",
          "TCGA-AR-A5QQ",
          "TCGA-B6-A0IA",
          "TCGA-B6-A1KF",
          "TCGA-BH-A0BO",
          "TCGA-BH-A0DL",
          "TCGA-BH-A1EN",
          "TCGA-BH-A208",
          "TCGA-BH-A42U",
          "TCGA-BH-A5IZ",
          "TCGA-D8-A27H",
          "TCGA-E2-A1LG",
          "TCGA-E2-A1LL",
          "TCGA-E2-A1LS",
          "TCGA-E2-A572",
          "TCGA-E2-A574",
          "TCGA-E9-A1ND",
          "TCGA-E9-A5FL",
          "TCGA-EW-A1P1",
          "TCGA-EW-A1PB",
          "TCGA-FA-A7DS",
          "TCGA-GM-A4E0",
          "TCGA-LL-A8F5",
          "TCGA-OL-A5RW",
          "TCGA-OL-A66P",
          "TCGA-OL-A6VQ",
          "TCGA-PL-A8LV",
          "ER-B1PU",
          "MBCProject_1037",
          "MBCProject_1542",
          "MBCProject_1819",
          "MBCProject_3159",
          "MBCProject_4424",
          "MBCproject_0093",
          "MBCproject_0280",
          "TCGA-A1-A0SK",
          "TCGA-A2-A0CO",
          "TCGA-A2-A0CY",
          "TCGA-A2-A0EP",
          "TCGA-A2-A3XV",
          "TCGA-A2-A3XW",
          "TCGA-A2-A3Y0",
          "TCGA-A2-A4S1",
          "TCGA-A7-A56D",
          "TCGA-A7-A5ZV",
          "TCGA-A8-A08H",
          "TCGA-AC-A2QH",
          "TCGA-AC-A2QJ",
          "TCGA-AC-A62X",
          "TCGA-AN-A0FL",
          "TCGA-AO-A1KO",
          "TCGA-AO-A1KR",
          "TCGA-AQ-A54N",
          "TCGA-AR-A0TP",
          "TCGA-AR-A2LN",
          "TCGA-AR-A5QQ",
          "TCGA-B6-A0IA",
          "TCGA-B6-A1KF",
          "TCGA-BH-A0BO",
          "TCGA-BH-A0DL",
          "TCGA-BH-A1EN",
          "TCGA-BH-A208",
          "TCGA-BH-A42U",
          "TCGA-BH-A5IZ",
          "TCGA-D8-A27H",
          "TCGA-E2-A1LG",
          "TCGA-E2-A1LL",
          "TCGA-E2-A1LS",
          "TCGA-E2-A572",
          "TCGA-E2-A574",
          "TCGA-E9-A1ND",
          "TCGA-E9-A5FL",
          "TCGA-EW-A1P1",
          "TCGA-EW-A1PB",
          "TCGA-FA-A7DS",
          "TCGA-GM-A4E0",
          "TCGA-LL-A8F5",
          "TCGA-OL-A5RW",
          "TCGA-OL-A66P",
          "TCGA-OL-A6VQ",
          "TCGA-PL-A8LV",
          "ER-B1PU",
          "MBCProject_1037",
          "MBCProject_1542",
          "MBCProject_1819",
          "MBCProject_3159",
          "MBCProject_4424",
          "MBCproject_0093",
          "MBCproject_0280",
          "TCGA-A1-A0SK",
          "TCGA-A2-A0CO",
          "TCGA-A2-A0CY",
          "TCGA-A2-A0EP",
          "TCGA-A2-A3XV",
          "TCGA-A2-A3XW",
          "TCGA-A2-A3Y0",
          "TCGA-A2-A4S1",
          "TCGA-A7-A56D",
          "TCGA-A7-A5ZV",
          "TCGA-A8-A08H",
          "TCGA-AC-A2QH",
          "TCGA-AC-A2QJ",
          "TCGA-AC-A62X",
          "TCGA-AN-A0FL",
          "TCGA-AO-A1KO",
          "TCGA-AO-A1KR",
          "TCGA-AQ-A54N",
          "TCGA-AR-A0TP",
          "TCGA-AR-A2LN",
          "TCGA-AR-A5QQ",
          "TCGA-B6-A0IA",
          "TCGA-B6-A1KF",
          "TCGA-BH-A0BO",
          "TCGA-BH-A0DL",
          "TCGA-BH-A1EN",
          "TCGA-BH-A208",
          "TCGA-BH-A42U",
          "TCGA-BH-A5IZ",
          "TCGA-D8-A27H",
          "TCGA-E2-A1LG",
          "TCGA-E2-A1LL",
          "TCGA-E2-A1LS",
          "TCGA-E2-A572",
          "TCGA-E2-A574",
          "TCGA-E9-A1ND",
          "TCGA-E9-A5FL",
          "TCGA-EW-A1P1",
          "TCGA-EW-A1PB",
          "TCGA-FA-A7DS",
          "TCGA-GM-A4E0",
          "TCGA-LL-A8F5",
          "TCGA-OL-A5RW",
          "TCGA-OL-A66P",
          "TCGA-OL-A6VQ",
          "TCGA-PL-A8LV",
          "ER-B1PU",
          "MBCProject_1037",
          "MBCProject_1542",
          "MBCProject_1819",
          "MBCProject_3159",
          "MBCProject_4424",
          "MBCproject_0093",
          "MBCproject_0280",
          "TCGA-A1-A0SK",
          "TCGA-A2-A0CO",
          "TCGA-A2-A0CY",
          "TCGA-A2-A0EP",
          "TCGA-A2-A3XV",
          "TCGA-A2-A3XW",
          "TCGA-A2-A3Y0",
          "TCGA-A2-A4S1",
          "TCGA-A7-A56D",
          "TCGA-A7-A5ZV",
          "TCGA-A8-A08H",
          "TCGA-AC-A2QH",
          "TCGA-AC-A2QJ",
          "TCGA-AC-A62X",
          "TCGA-AN-A0FL",
          "TCGA-AO-A1KO",
          "TCGA-AO-A1KR",
          "TCGA-AQ-A54N",
          "TCGA-AR-A0TP",
          "TCGA-AR-A2LN",
          "TCGA-AR-A5QQ",
          "TCGA-B6-A0IA",
          "TCGA-B6-A1KF",
          "TCGA-BH-A0BO",
          "TCGA-BH-A0DL",
          "TCGA-BH-A1EN",
          "TCGA-BH-A208",
          "TCGA-BH-A42U",
          "TCGA-BH-A5IZ",
          "TCGA-D8-A27H",
          "TCGA-E2-A1LG",
          "TCGA-E2-A1LL",
          "TCGA-E2-A1LS",
          "TCGA-E2-A572",
          "TCGA-E2-A574",
          "TCGA-E9-A1ND",
          "TCGA-E9-A5FL",
          "TCGA-EW-A1P1",
          "TCGA-EW-A1PB",
          "TCGA-FA-A7DS",
          "TCGA-GM-A4E0",
          "TCGA-LL-A8F5",
          "TCGA-OL-A5RW",
          "TCGA-OL-A66P",
          "TCGA-OL-A6VQ",
          "TCGA-PL-A8LV",
          "ER-B1PU",
          "MBCProject_1037",
          "MBCProject_1542",
          "MBCProject_1819",
          "MBCProject_3159",
          "MBCProject_4424",
          "MBCproject_0093",
          "MBCproject_0280",
          "TCGA-A1-A0SK",
          "TCGA-A2-A0CO",
          "TCGA-A2-A0CY",
          "TCGA-A2-A0EP",
          "TCGA-A2-A3XV",
          "TCGA-A2-A3XW",
          "TCGA-A2-A3Y0",
          "TCGA-A2-A4S1",
          "TCGA-A7-A56D",
          "TCGA-A7-A5ZV",
          "TCGA-A8-A08H",
          "TCGA-AC-A2QH",
          "TCGA-AC-A2QJ",
          "TCGA-AC-A62X",
          "TCGA-AN-A0FL",
          "TCGA-AO-A1KO",
          "TCGA-AO-A1KR",
          "TCGA-AQ-A54N",
          "TCGA-AR-A0TP",
          "TCGA-AR-A2LN",
          "TCGA-AR-A5QQ",
          "TCGA-B6-A0IA",
          "TCGA-B6-A1KF",
          "TCGA-BH-A0BO",
          "TCGA-BH-A0DL",
          "TCGA-BH-A1EN",
          "TCGA-BH-A208",
          "TCGA-BH-A42U",
          "TCGA-BH-A5IZ",
          "TCGA-D8-A27H",
          "TCGA-E2-A1LG",
          "TCGA-E2-A1LL",
          "TCGA-E2-A1LS",
          "TCGA-E2-A572",
          "TCGA-E2-A574",
          "TCGA-E9-A1ND",
          "TCGA-E9-A5FL",
          "TCGA-EW-A1P1",
          "TCGA-EW-A1PB",
          "TCGA-FA-A7DS",
          "TCGA-GM-A4E0",
          "TCGA-LL-A8F5",
          "TCGA-OL-A5RW",
          "TCGA-OL-A66P",
          "TCGA-OL-A6VQ",
          "TCGA-PL-A8LV",
          "ER-B1PU",
          "MBCProject_1037",
          "MBCProject_1542",
          "MBCProject_1819",
          "MBCProject_3159",
          "MBCProject_4424",
          "MBCproject_0093",
          "MBCproject_0280",
          "TCGA-A1-A0SK",
          "TCGA-A2-A0CO",
          "TCGA-A2-A0CY",
          "TCGA-A2-A0EP",
          "TCGA-A2-A3XV",
          "TCGA-A2-A3XW",
          "TCGA-A2-A3Y0",
          "TCGA-A2-A4S1",
          "TCGA-A7-A56D",
          "TCGA-A7-A5ZV",
          "TCGA-A8-A08H",
          "TCGA-AC-A2QH",
          "TCGA-AC-A2QJ",
          "TCGA-AC-A62X",
          "TCGA-AN-A0FL",
          "TCGA-AO-A1KO",
          "TCGA-AO-A1KR",
          "TCGA-AQ-A54N",
          "TCGA-AR-A0TP",
          "TCGA-AR-A2LN",
          "TCGA-AR-A5QQ",
          "TCGA-B6-A0IA",
          "TCGA-B6-A1KF",
          "TCGA-BH-A0BO",
          "TCGA-BH-A0DL",
          "TCGA-BH-A1EN",
          "TCGA-BH-A208",
          "TCGA-BH-A42U",
          "TCGA-BH-A5IZ",
          "TCGA-D8-A27H",
          "TCGA-E2-A1LG",
          "TCGA-E2-A1LL",
          "TCGA-E2-A1LS",
          "TCGA-E2-A572",
          "TCGA-E2-A574",
          "TCGA-E9-A1ND",
          "TCGA-E9-A5FL",
          "TCGA-EW-A1P1",
          "TCGA-EW-A1PB",
          "TCGA-FA-A7DS",
          "TCGA-GM-A4E0",
          "TCGA-LL-A8F5",
          "TCGA-OL-A5RW",
          "TCGA-OL-A66P",
          "TCGA-OL-A6VQ",
          "TCGA-PL-A8LV",
          "ER-B1PU",
          "MBCProject_1037",
          "MBCProject_1542",
          "MBCProject_1819",
          "MBCProject_3159",
          "MBCProject_4424",
          "MBCproject_0093",
          "MBCproject_0280",
          "TCGA-A1-A0SK",
          "TCGA-A2-A0CO",
          "TCGA-A2-A0CY",
          "TCGA-A2-A0EP",
          "TCGA-A2-A3XV",
          "TCGA-A2-A3XW",
          "TCGA-A2-A3Y0",
          "TCGA-A2-A4S1",
          "TCGA-A7-A56D",
          "TCGA-A7-A5ZV",
          "TCGA-A8-A08H",
          "TCGA-AC-A2QH",
          "TCGA-AC-A2QJ",
          "TCGA-AC-A62X",
          "TCGA-AN-A0FL",
          "TCGA-AO-A1KO",
          "TCGA-AO-A1KR",
          "TCGA-AQ-A54N",
          "TCGA-AR-A0TP",
          "TCGA-AR-A2LN",
          "TCGA-AR-A5QQ",
          "TCGA-B6-A0IA",
          "TCGA-B6-A1KF",
          "TCGA-BH-A0BO",
          "TCGA-BH-A0DL",
          "TCGA-BH-A1EN",
          "TCGA-BH-A208",
          "TCGA-BH-A42U",
          "TCGA-BH-A5IZ",
          "TCGA-D8-A27H",
          "TCGA-E2-A1LG",
          "TCGA-E2-A1LL",
          "TCGA-E2-A1LS",
          "TCGA-E2-A572",
          "TCGA-E2-A574",
          "TCGA-E9-A1ND",
          "TCGA-E9-A5FL",
          "TCGA-EW-A1P1",
          "TCGA-EW-A1PB",
          "TCGA-FA-A7DS",
          "TCGA-GM-A4E0",
          "TCGA-LL-A8F5",
          "TCGA-OL-A5RW",
          "TCGA-OL-A66P",
          "TCGA-OL-A6VQ",
          "TCGA-PL-A8LV",
          "ER-B1PU",
          "MBCProject_1037",
          "MBCProject_1542",
          "MBCProject_1819",
          "MBCProject_3159",
          "MBCProject_4424",
          "MBCproject_0093",
          "MBCproject_0280",
          "TCGA-A1-A0SK",
          "TCGA-A2-A0CO",
          "TCGA-A2-A0CY",
          "TCGA-A2-A0EP",
          "TCGA-A2-A3XV",
          "TCGA-A2-A3XW",
          "TCGA-A2-A3Y0",
          "TCGA-A2-A4S1",
          "TCGA-A7-A56D",
          "TCGA-A7-A5ZV",
          "TCGA-A8-A08H",
          "TCGA-AC-A2QH",
          "TCGA-AC-A2QJ",
          "TCGA-AC-A62X",
          "TCGA-AN-A0FL",
          "TCGA-AO-A1KO",
          "TCGA-AO-A1KR",
          "TCGA-AQ-A54N",
          "TCGA-AR-A0TP",
          "TCGA-AR-A2LN",
          "TCGA-AR-A5QQ",
          "TCGA-B6-A0IA",
          "TCGA-B6-A1KF",
          "TCGA-BH-A0BO",
          "TCGA-BH-A0DL",
          "TCGA-BH-A1EN",
          "TCGA-BH-A208",
          "TCGA-BH-A42U",
          "TCGA-BH-A5IZ",
          "TCGA-D8-A27H",
          "TCGA-E2-A1LG",
          "TCGA-E2-A1LL",
          "TCGA-E2-A1LS",
          "TCGA-E2-A572",
          "TCGA-E2-A574",
          "TCGA-E9-A1ND",
          "TCGA-E9-A5FL",
          "TCGA-EW-A1P1",
          "TCGA-EW-A1PB",
          "TCGA-FA-A7DS",
          "TCGA-GM-A4E0",
          "TCGA-LL-A8F5",
          "TCGA-OL-A5RW",
          "TCGA-OL-A66P",
          "TCGA-OL-A6VQ",
          "TCGA-PL-A8LV",
          "ER-B1PU",
          "MBCProject_1037",
          "MBCProject_1542",
          "MBCProject_1819",
          "MBCProject_3159",
          "MBCProject_4424",
          "MBCproject_0093",
          "MBCproject_0280",
          "TCGA-A1-A0SK",
          "TCGA-A2-A0CO",
          "TCGA-A2-A0CY",
          "TCGA-A2-A0EP",
          "TCGA-A2-A3XV",
          "TCGA-A2-A3XW",
          "TCGA-A2-A3Y0",
          "TCGA-A2-A4S1",
          "TCGA-A7-A56D",
          "TCGA-A7-A5ZV",
          "TCGA-A8-A08H",
          "TCGA-AC-A2QH",
          "TCGA-AC-A2QJ",
          "TCGA-AC-A62X",
          "TCGA-AN-A0FL",
          "TCGA-AO-A1KO",
          "TCGA-AO-A1KR",
          "TCGA-AQ-A54N",
          "TCGA-AR-A0TP",
          "TCGA-AR-A2LN",
          "TCGA-AR-A5QQ",
          "TCGA-B6-A0IA",
          "TCGA-B6-A1KF",
          "TCGA-BH-A0BO",
          "TCGA-BH-A0DL",
          "TCGA-BH-A1EN",
          "TCGA-BH-A208",
          "TCGA-BH-A42U",
          "TCGA-BH-A5IZ",
          "TCGA-D8-A27H",
          "TCGA-E2-A1LG",
          "TCGA-E2-A1LL",
          "TCGA-E2-A1LS",
          "TCGA-E2-A572",
          "TCGA-E2-A574",
          "TCGA-E9-A1ND",
          "TCGA-E9-A5FL",
          "TCGA-EW-A1P1",
          "TCGA-EW-A1PB",
          "TCGA-FA-A7DS",
          "TCGA-GM-A4E0",
          "TCGA-LL-A8F5",
          "TCGA-OL-A5RW",
          "TCGA-OL-A66P",
          "TCGA-OL-A6VQ",
          "TCGA-PL-A8LV",
          "ER-B1PU",
          "MBCProject_1037",
          "MBCProject_1542",
          "MBCProject_1819",
          "MBCProject_3159",
          "MBCProject_4424",
          "MBCproject_0093",
          "MBCproject_0280",
          "TCGA-A1-A0SK",
          "TCGA-A2-A0CO",
          "TCGA-A2-A0CY",
          "TCGA-A2-A0EP",
          "TCGA-A2-A3XV",
          "TCGA-A2-A3XW",
          "TCGA-A2-A3Y0",
          "TCGA-A2-A4S1",
          "TCGA-A7-A56D",
          "TCGA-A7-A5ZV",
          "TCGA-A8-A08H",
          "TCGA-AC-A2QH",
          "TCGA-AC-A2QJ",
          "TCGA-AC-A62X",
          "TCGA-AN-A0FL",
          "TCGA-AO-A1KO",
          "TCGA-AO-A1KR",
          "TCGA-AQ-A54N",
          "TCGA-AR-A0TP",
          "TCGA-AR-A2LN",
          "TCGA-AR-A5QQ",
          "TCGA-B6-A0IA",
          "TCGA-B6-A1KF",
          "TCGA-BH-A0BO",
          "TCGA-BH-A0DL",
          "TCGA-BH-A1EN",
          "TCGA-BH-A208",
          "TCGA-BH-A42U",
          "TCGA-BH-A5IZ",
          "TCGA-D8-A27H",
          "TCGA-E2-A1LG",
          "TCGA-E2-A1LL",
          "TCGA-E2-A1LS",
          "TCGA-E2-A572",
          "TCGA-E2-A574",
          "TCGA-E9-A1ND",
          "TCGA-E9-A5FL",
          "TCGA-EW-A1P1",
          "TCGA-EW-A1PB",
          "TCGA-FA-A7DS",
          "TCGA-GM-A4E0",
          "TCGA-LL-A8F5",
          "TCGA-OL-A5RW",
          "TCGA-OL-A66P",
          "TCGA-OL-A6VQ",
          "TCGA-PL-A8LV",
          "ER-B1PU",
          "MBCProject_1037",
          "MBCProject_1542",
          "MBCProject_1819",
          "MBCProject_3159",
          "MBCProject_4424",
          "MBCproject_0093",
          "MBCproject_0280",
          "TCGA-A1-A0SK",
          "TCGA-A2-A0CO",
          "TCGA-A2-A0CY",
          "TCGA-A2-A0EP",
          "TCGA-A2-A3XV",
          "TCGA-A2-A3XW",
          "TCGA-A2-A3Y0",
          "TCGA-A2-A4S1",
          "TCGA-A7-A56D",
          "TCGA-A7-A5ZV",
          "TCGA-A8-A08H",
          "TCGA-AC-A2QH",
          "TCGA-AC-A2QJ",
          "TCGA-AC-A62X",
          "TCGA-AN-A0FL",
          "TCGA-AO-A1KO",
          "TCGA-AO-A1KR",
          "TCGA-AQ-A54N",
          "TCGA-AR-A0TP",
          "TCGA-AR-A2LN",
          "TCGA-AR-A5QQ",
          "TCGA-B6-A0IA",
          "TCGA-B6-A1KF",
          "TCGA-BH-A0BO",
          "TCGA-BH-A0DL",
          "TCGA-BH-A1EN",
          "TCGA-BH-A208",
          "TCGA-BH-A42U",
          "TCGA-BH-A5IZ",
          "TCGA-D8-A27H",
          "TCGA-E2-A1LG",
          "TCGA-E2-A1LL",
          "TCGA-E2-A1LS",
          "TCGA-E2-A572",
          "TCGA-E2-A574",
          "TCGA-E9-A1ND",
          "TCGA-E9-A5FL",
          "TCGA-EW-A1P1",
          "TCGA-EW-A1PB",
          "TCGA-FA-A7DS",
          "TCGA-GM-A4E0",
          "TCGA-LL-A8F5",
          "TCGA-OL-A5RW",
          "TCGA-OL-A66P",
          "TCGA-OL-A6VQ",
          "TCGA-PL-A8LV",
          "ER-B1PU",
          "MBCProject_1037",
          "MBCProject_1542",
          "MBCProject_1819",
          "MBCProject_3159",
          "MBCProject_4424",
          "MBCproject_0093",
          "MBCproject_0280",
          "TCGA-A1-A0SK",
          "TCGA-A2-A0CO",
          "TCGA-A2-A0CY",
          "TCGA-A2-A0EP",
          "TCGA-A2-A3XV",
          "TCGA-A2-A3XW",
          "TCGA-A2-A3Y0",
          "TCGA-A2-A4S1",
          "TCGA-A7-A56D",
          "TCGA-A7-A5ZV",
          "TCGA-A8-A08H",
          "TCGA-AC-A2QH",
          "TCGA-AC-A2QJ",
          "TCGA-AC-A62X",
          "TCGA-AN-A0FL",
          "TCGA-AO-A1KO",
          "TCGA-AO-A1KR",
          "TCGA-AQ-A54N",
          "TCGA-AR-A0TP",
          "TCGA-AR-A2LN",
          "TCGA-AR-A5QQ",
          "TCGA-B6-A0IA",
          "TCGA-B6-A1KF",
          "TCGA-BH-A0BO",
          "TCGA-BH-A0DL",
          "TCGA-BH-A1EN",
          "TCGA-BH-A208",
          "TCGA-BH-A42U",
          "TCGA-BH-A5IZ",
          "TCGA-D8-A27H",
          "TCGA-E2-A1LG",
          "TCGA-E2-A1LL",
          "TCGA-E2-A1LS",
          "TCGA-E2-A572",
          "TCGA-E2-A574",
          "TCGA-E9-A1ND",
          "TCGA-E9-A5FL",
          "TCGA-EW-A1P1",
          "TCGA-EW-A1PB",
          "TCGA-FA-A7DS",
          "TCGA-GM-A4E0",
          "TCGA-LL-A8F5",
          "TCGA-OL-A5RW",
          "TCGA-OL-A66P",
          "TCGA-OL-A6VQ",
          "TCGA-PL-A8LV",
          "ER-B1PU",
          "MBCProject_1037",
          "MBCProject_1542",
          "MBCProject_1819",
          "MBCProject_3159",
          "MBCProject_4424",
          "MBCproject_0093",
          "MBCproject_0280",
          "TCGA-A1-A0SK",
          "TCGA-A2-A0CO",
          "TCGA-A2-A0CY",
          "TCGA-A2-A0EP",
          "TCGA-A2-A3XV",
          "TCGA-A2-A3XW",
          "TCGA-A2-A3Y0",
          "TCGA-A2-A4S1",
          "TCGA-A7-A56D",
          "TCGA-A7-A5ZV",
          "TCGA-A8-A08H",
          "TCGA-AC-A2QH",
          "TCGA-AC-A2QJ",
          "TCGA-AC-A62X",
          "TCGA-AN-A0FL",
          "TCGA-AO-A1KO",
          "TCGA-AO-A1KR",
          "TCGA-AQ-A54N",
          "TCGA-AR-A0TP",
          "TCGA-AR-A2LN",
          "TCGA-AR-A5QQ",
          "TCGA-B6-A0IA",
          "TCGA-B6-A1KF",
          "TCGA-BH-A0BO",
          "TCGA-BH-A0DL",
          "TCGA-BH-A1EN",
          "TCGA-BH-A208",
          "TCGA-BH-A42U",
          "TCGA-BH-A5IZ",
          "TCGA-D8-A27H",
          "TCGA-E2-A1LG",
          "TCGA-E2-A1LL",
          "TCGA-E2-A1LS",
          "TCGA-E2-A572",
          "TCGA-E2-A574",
          "TCGA-E9-A1ND",
          "TCGA-E9-A5FL",
          "TCGA-EW-A1P1",
          "TCGA-EW-A1PB",
          "TCGA-FA-A7DS",
          "TCGA-GM-A4E0",
          "TCGA-LL-A8F5",
          "TCGA-OL-A5RW",
          "TCGA-OL-A66P",
          "TCGA-OL-A6VQ",
          "TCGA-PL-A8LV",
          "ER-B1PU",
          "MBCProject_1037",
          "MBCProject_1542",
          "MBCProject_1819",
          "MBCProject_3159",
          "MBCProject_4424",
          "MBCproject_0093",
          "MBCproject_0280",
          "TCGA-A1-A0SK",
          "TCGA-A2-A0CO",
          "TCGA-A2-A0CY",
          "TCGA-A2-A0EP",
          "TCGA-A2-A3XV",
          "TCGA-A2-A3XW",
          "TCGA-A2-A3Y0",
          "TCGA-A2-A4S1",
          "TCGA-A7-A56D",
          "TCGA-A7-A5ZV",
          "TCGA-A8-A08H",
          "TCGA-AC-A2QH",
          "TCGA-AC-A2QJ",
          "TCGA-AC-A62X",
          "TCGA-AN-A0FL",
          "TCGA-AO-A1KO",
          "TCGA-AO-A1KR",
          "TCGA-AQ-A54N",
          "TCGA-AR-A0TP",
          "TCGA-AR-A2LN",
          "TCGA-AR-A5QQ",
          "TCGA-B6-A0IA",
          "TCGA-B6-A1KF",
          "TCGA-BH-A0BO",
          "TCGA-BH-A0DL",
          "TCGA-BH-A1EN",
          "TCGA-BH-A208",
          "TCGA-BH-A42U",
          "TCGA-BH-A5IZ",
          "TCGA-D8-A27H",
          "TCGA-E2-A1LG",
          "TCGA-E2-A1LL",
          "TCGA-E2-A1LS",
          "TCGA-E2-A572",
          "TCGA-E2-A574",
          "TCGA-E9-A1ND",
          "TCGA-E9-A5FL",
          "TCGA-EW-A1P1",
          "TCGA-EW-A1PB",
          "TCGA-FA-A7DS",
          "TCGA-GM-A4E0",
          "TCGA-LL-A8F5",
          "TCGA-OL-A5RW",
          "TCGA-OL-A66P",
          "TCGA-OL-A6VQ",
          "TCGA-PL-A8LV",
          "ER-B1PU",
          "MBCProject_1037",
          "MBCProject_1542",
          "MBCProject_1819",
          "MBCProject_3159",
          "MBCProject_4424",
          "MBCproject_0093",
          "MBCproject_0280",
          "TCGA-A1-A0SK",
          "TCGA-A2-A0CO",
          "TCGA-A2-A0CY",
          "TCGA-A2-A0EP",
          "TCGA-A2-A3XV",
          "TCGA-A2-A3XW",
          "TCGA-A2-A3Y0",
          "TCGA-A2-A4S1",
          "TCGA-A7-A56D",
          "TCGA-A7-A5ZV",
          "TCGA-A8-A08H",
          "TCGA-AC-A2QH",
          "TCGA-AC-A2QJ",
          "TCGA-AC-A62X",
          "TCGA-AN-A0FL",
          "TCGA-AO-A1KO",
          "TCGA-AO-A1KR",
          "TCGA-AQ-A54N",
          "TCGA-AR-A0TP",
          "TCGA-AR-A2LN",
          "TCGA-AR-A5QQ",
          "TCGA-B6-A0IA",
          "TCGA-B6-A1KF",
          "TCGA-BH-A0BO",
          "TCGA-BH-A0DL",
          "TCGA-BH-A1EN",
          "TCGA-BH-A208",
          "TCGA-BH-A42U",
          "TCGA-BH-A5IZ",
          "TCGA-D8-A27H",
          "TCGA-E2-A1LG",
          "TCGA-E2-A1LL",
          "TCGA-E2-A1LS",
          "TCGA-E2-A572",
          "TCGA-E2-A574",
          "TCGA-E9-A1ND",
          "TCGA-E9-A5FL",
          "TCGA-EW-A1P1",
          "TCGA-EW-A1PB",
          "TCGA-FA-A7DS",
          "TCGA-GM-A4E0",
          "TCGA-LL-A8F5",
          "TCGA-OL-A5RW",
          "TCGA-OL-A66P",
          "TCGA-OL-A6VQ",
          "TCGA-PL-A8LV",
          "ER-B1PU",
          "MBCProject_1037",
          "MBCProject_1542",
          "MBCProject_1819",
          "MBCProject_3159",
          "MBCProject_4424",
          "MBCproject_0093",
          "MBCproject_0280",
          "TCGA-A1-A0SK",
          "TCGA-A2-A0CO",
          "TCGA-A2-A0CY",
          "TCGA-A2-A0EP",
          "TCGA-A2-A3XV",
          "TCGA-A2-A3XW",
          "TCGA-A2-A3Y0",
          "TCGA-A2-A4S1",
          "TCGA-A7-A56D",
          "TCGA-A7-A5ZV",
          "TCGA-A8-A08H",
          "TCGA-AC-A2QH",
          "TCGA-AC-A2QJ",
          "TCGA-AC-A62X",
          "TCGA-AN-A0FL",
          "TCGA-AO-A1KO",
          "TCGA-AO-A1KR",
          "TCGA-AQ-A54N",
          "TCGA-AR-A0TP",
          "TCGA-AR-A2LN",
          "TCGA-AR-A5QQ",
          "TCGA-B6-A0IA",
          "TCGA-B6-A1KF",
          "TCGA-BH-A0BO",
          "TCGA-BH-A0DL",
          "TCGA-BH-A1EN",
          "TCGA-BH-A208",
          "TCGA-BH-A42U",
          "TCGA-BH-A5IZ",
          "TCGA-D8-A27H",
          "TCGA-E2-A1LG",
          "TCGA-E2-A1LL",
          "TCGA-E2-A1LS",
          "TCGA-E2-A572",
          "TCGA-E2-A574",
          "TCGA-E9-A1ND",
          "TCGA-E9-A5FL",
          "TCGA-EW-A1P1",
          "TCGA-EW-A1PB",
          "TCGA-FA-A7DS",
          "TCGA-GM-A4E0",
          "TCGA-LL-A8F5",
          "TCGA-OL-A5RW",
          "TCGA-OL-A66P",
          "TCGA-OL-A6VQ",
          "TCGA-PL-A8LV",
          "ER-B1PU",
          "MBCProject_1037",
          "MBCProject_1542",
          "MBCProject_1819",
          "MBCProject_3159",
          "MBCProject_4424",
          "MBCproject_0093",
          "MBCproject_0280",
          "TCGA-A1-A0SK",
          "TCGA-A2-A0CO",
          "TCGA-A2-A0CY",
          "TCGA-A2-A0EP",
          "TCGA-A2-A3XV",
          "TCGA-A2-A3XW",
          "TCGA-A2-A3Y0",
          "TCGA-A2-A4S1",
          "TCGA-A7-A56D",
          "TCGA-A7-A5ZV",
          "TCGA-A8-A08H",
          "TCGA-AC-A2QH",
          "TCGA-AC-A2QJ",
          "TCGA-AC-A62X",
          "TCGA-AN-A0FL",
          "TCGA-AO-A1KO",
          "TCGA-AO-A1KR",
          "TCGA-AQ-A54N",
          "TCGA-AR-A0TP",
          "TCGA-AR-A2LN",
          "TCGA-AR-A5QQ",
          "TCGA-B6-A0IA",
          "TCGA-B6-A1KF",
          "TCGA-BH-A0BO",
          "TCGA-BH-A0DL",
          "TCGA-BH-A1EN",
          "TCGA-BH-A208",
          "TCGA-BH-A42U",
          "TCGA-BH-A5IZ",
          "TCGA-D8-A27H",
          "TCGA-E2-A1LG",
          "TCGA-E2-A1LL",
          "TCGA-E2-A1LS",
          "TCGA-E2-A572",
          "TCGA-E2-A574",
          "TCGA-E9-A1ND",
          "TCGA-E9-A5FL",
          "TCGA-EW-A1P1",
          "TCGA-EW-A1PB",
          "TCGA-FA-A7DS",
          "TCGA-GM-A4E0",
          "TCGA-LL-A8F5",
          "TCGA-OL-A5RW",
          "TCGA-OL-A66P",
          "TCGA-OL-A6VQ",
          "TCGA-PL-A8LV",
          "ER-B1PU",
          "MBCProject_1037",
          "MBCProject_1542",
          "MBCProject_1819",
          "MBCProject_3159",
          "MBCProject_4424",
          "MBCproject_0093",
          "MBCproject_0280",
          "TCGA-A1-A0SK",
          "TCGA-A2-A0CO",
          "TCGA-A2-A0CY",
          "TCGA-A2-A0EP",
          "TCGA-A2-A3XV",
          "TCGA-A2-A3XW",
          "TCGA-A2-A3Y0",
          "TCGA-A2-A4S1",
          "TCGA-A7-A56D",
          "TCGA-A7-A5ZV",
          "TCGA-A8-A08H",
          "TCGA-AC-A2QH",
          "TCGA-AC-A2QJ",
          "TCGA-AC-A62X",
          "TCGA-AN-A0FL",
          "TCGA-AO-A1KO",
          "TCGA-AO-A1KR",
          "TCGA-AQ-A54N",
          "TCGA-AR-A0TP",
          "TCGA-AR-A2LN",
          "TCGA-AR-A5QQ",
          "TCGA-B6-A0IA",
          "TCGA-B6-A1KF",
          "TCGA-BH-A0BO",
          "TCGA-BH-A0DL",
          "TCGA-BH-A1EN",
          "TCGA-BH-A208",
          "TCGA-BH-A42U",
          "TCGA-BH-A5IZ",
          "TCGA-D8-A27H",
          "TCGA-E2-A1LG",
          "TCGA-E2-A1LL",
          "TCGA-E2-A1LS",
          "TCGA-E2-A572",
          "TCGA-E2-A574",
          "TCGA-E9-A1ND",
          "TCGA-E9-A5FL",
          "TCGA-EW-A1P1",
          "TCGA-EW-A1PB",
          "TCGA-FA-A7DS",
          "TCGA-GM-A4E0",
          "TCGA-LL-A8F5",
          "TCGA-OL-A5RW",
          "TCGA-OL-A66P",
          "TCGA-OL-A6VQ",
          "TCGA-PL-A8LV",
          "ER-B1PU",
          "MBCProject_1037",
          "MBCProject_1542",
          "MBCProject_1819",
          "MBCProject_3159",
          "MBCProject_4424",
          "MBCproject_0093",
          "MBCproject_0280",
          "TCGA-A1-A0SK",
          "TCGA-A2-A0CO",
          "TCGA-A2-A0CY",
          "TCGA-A2-A0EP",
          "TCGA-A2-A3XV",
          "TCGA-A2-A3XW",
          "TCGA-A2-A3Y0",
          "TCGA-A2-A4S1",
          "TCGA-A7-A56D",
          "TCGA-A7-A5ZV",
          "TCGA-A8-A08H",
          "TCGA-AC-A2QH",
          "TCGA-AC-A2QJ",
          "TCGA-AC-A62X",
          "TCGA-AN-A0FL",
          "TCGA-AO-A1KO",
          "TCGA-AO-A1KR",
          "TCGA-AQ-A54N",
          "TCGA-AR-A0TP",
          "TCGA-AR-A2LN",
          "TCGA-AR-A5QQ",
          "TCGA-B6-A0IA",
          "TCGA-B6-A1KF",
          "TCGA-BH-A0BO",
          "TCGA-BH-A0DL",
          "TCGA-BH-A1EN",
          "TCGA-BH-A208",
          "TCGA-BH-A42U",
          "TCGA-BH-A5IZ",
          "TCGA-D8-A27H",
          "TCGA-E2-A1LG",
          "TCGA-E2-A1LL",
          "TCGA-E2-A1LS",
          "TCGA-E2-A572",
          "TCGA-E2-A574",
          "TCGA-E9-A1ND",
          "TCGA-E9-A5FL",
          "TCGA-EW-A1P1",
          "TCGA-EW-A1PB",
          "TCGA-FA-A7DS",
          "TCGA-GM-A4E0",
          "TCGA-LL-A8F5",
          "TCGA-OL-A5RW",
          "TCGA-OL-A66P",
          "TCGA-OL-A6VQ",
          "TCGA-PL-A8LV",
          "ER-B1PU",
          "MBCProject_1037",
          "MBCProject_1542",
          "MBCProject_1819",
          "MBCProject_3159",
          "MBCProject_4424",
          "MBCproject_0093",
          "MBCproject_0280",
          "TCGA-A1-A0SK",
          "TCGA-A2-A0CO",
          "TCGA-A2-A0CY",
          "TCGA-A2-A0EP",
          "TCGA-A2-A3XV",
          "TCGA-A2-A3XW",
          "TCGA-A2-A3Y0",
          "TCGA-A2-A4S1",
          "TCGA-A7-A56D",
          "TCGA-A7-A5ZV",
          "TCGA-A8-A08H",
          "TCGA-AC-A2QH",
          "TCGA-AC-A2QJ",
          "TCGA-AC-A62X",
          "TCGA-AN-A0FL",
          "TCGA-AO-A1KO",
          "TCGA-AO-A1KR",
          "TCGA-AQ-A54N",
          "TCGA-AR-A0TP",
          "TCGA-AR-A2LN",
          "TCGA-AR-A5QQ",
          "TCGA-B6-A0IA",
          "TCGA-B6-A1KF",
          "TCGA-BH-A0BO",
          "TCGA-BH-A0DL",
          "TCGA-BH-A1EN",
          "TCGA-BH-A208",
          "TCGA-BH-A42U",
          "TCGA-BH-A5IZ",
          "TCGA-D8-A27H",
          "TCGA-E2-A1LG",
          "TCGA-E2-A1LL",
          "TCGA-E2-A1LS",
          "TCGA-E2-A572",
          "TCGA-E2-A574",
          "TCGA-E9-A1ND",
          "TCGA-E9-A5FL",
          "TCGA-EW-A1P1",
          "TCGA-EW-A1PB",
          "TCGA-FA-A7DS",
          "TCGA-GM-A4E0",
          "TCGA-LL-A8F5",
          "TCGA-OL-A5RW",
          "TCGA-OL-A66P",
          "TCGA-OL-A6VQ",
          "TCGA-PL-A8LV",
          "ER-B1PU",
          "MBCProject_1037",
          "MBCProject_1542",
          "MBCProject_1819",
          "MBCProject_3159",
          "MBCProject_4424",
          "MBCproject_0093",
          "MBCproject_0280",
          "TCGA-A1-A0SK",
          "TCGA-A2-A0CO",
          "TCGA-A2-A0CY",
          "TCGA-A2-A0EP",
          "TCGA-A2-A3XV",
          "TCGA-A2-A3XW",
          "TCGA-A2-A3Y0",
          "TCGA-A2-A4S1",
          "TCGA-A7-A56D",
          "TCGA-A7-A5ZV",
          "TCGA-A8-A08H",
          "TCGA-AC-A2QH",
          "TCGA-AC-A2QJ",
          "TCGA-AC-A62X",
          "TCGA-AN-A0FL",
          "TCGA-AO-A1KO",
          "TCGA-AO-A1KR",
          "TCGA-AQ-A54N",
          "TCGA-AR-A0TP",
          "TCGA-AR-A2LN",
          "TCGA-AR-A5QQ",
          "TCGA-B6-A0IA",
          "TCGA-B6-A1KF",
          "TCGA-BH-A0BO",
          "TCGA-BH-A0DL",
          "TCGA-BH-A1EN",
          "TCGA-BH-A208",
          "TCGA-BH-A42U",
          "TCGA-BH-A5IZ",
          "TCGA-D8-A27H",
          "TCGA-E2-A1LG",
          "TCGA-E2-A1LL",
          "TCGA-E2-A1LS",
          "TCGA-E2-A572",
          "TCGA-E2-A574",
          "TCGA-E9-A1ND",
          "TCGA-E9-A5FL",
          "TCGA-EW-A1P1",
          "TCGA-EW-A1PB",
          "TCGA-FA-A7DS",
          "TCGA-GM-A4E0",
          "TCGA-LL-A8F5",
          "TCGA-OL-A5RW",
          "TCGA-OL-A66P",
          "TCGA-OL-A6VQ",
          "TCGA-PL-A8LV",
          "ER-B1PU",
          "MBCProject_1037",
          "MBCProject_1542",
          "MBCProject_1819",
          "MBCProject_3159",
          "MBCProject_4424",
          "MBCproject_0093",
          "MBCproject_0280",
          "TCGA-A1-A0SK",
          "TCGA-A2-A0CO",
          "TCGA-A2-A0CY",
          "TCGA-A2-A0EP",
          "TCGA-A2-A3XV",
          "TCGA-A2-A3XW",
          "TCGA-A2-A3Y0",
          "TCGA-A2-A4S1",
          "TCGA-A7-A56D",
          "TCGA-A7-A5ZV",
          "TCGA-A8-A08H",
          "TCGA-AC-A2QH",
          "TCGA-AC-A2QJ",
          "TCGA-AC-A62X",
          "TCGA-AN-A0FL",
          "TCGA-AO-A1KO",
          "TCGA-AO-A1KR",
          "TCGA-AQ-A54N",
          "TCGA-AR-A0TP",
          "TCGA-AR-A2LN",
          "TCGA-AR-A5QQ",
          "TCGA-B6-A0IA",
          "TCGA-B6-A1KF",
          "TCGA-BH-A0BO",
          "TCGA-BH-A0DL",
          "TCGA-BH-A1EN",
          "TCGA-BH-A208",
          "TCGA-BH-A42U",
          "TCGA-BH-A5IZ",
          "TCGA-D8-A27H",
          "TCGA-E2-A1LG",
          "TCGA-E2-A1LL",
          "TCGA-E2-A1LS",
          "TCGA-E2-A572",
          "TCGA-E2-A574",
          "TCGA-E9-A1ND",
          "TCGA-E9-A5FL",
          "TCGA-EW-A1P1",
          "TCGA-EW-A1PB",
          "TCGA-FA-A7DS",
          "TCGA-GM-A4E0",
          "TCGA-LL-A8F5",
          "TCGA-OL-A5RW",
          "TCGA-OL-A66P",
          "TCGA-OL-A6VQ",
          "TCGA-PL-A8LV",
          "ER-B1PU",
          "MBCProject_1037",
          "MBCProject_1542",
          "MBCProject_1819",
          "MBCProject_3159",
          "MBCProject_4424",
          "MBCproject_0093",
          "MBCproject_0280",
          "TCGA-A1-A0SK",
          "TCGA-A2-A0CO",
          "TCGA-A2-A0CY",
          "TCGA-A2-A0EP",
          "TCGA-A2-A3XV",
          "TCGA-A2-A3XW",
          "TCGA-A2-A3Y0",
          "TCGA-A2-A4S1",
          "TCGA-A7-A56D",
          "TCGA-A7-A5ZV",
          "TCGA-A8-A08H",
          "TCGA-AC-A2QH",
          "TCGA-AC-A2QJ",
          "TCGA-AC-A62X",
          "TCGA-AN-A0FL",
          "TCGA-AO-A1KO",
          "TCGA-AO-A1KR",
          "TCGA-AQ-A54N",
          "TCGA-AR-A0TP",
          "TCGA-AR-A2LN",
          "TCGA-AR-A5QQ",
          "TCGA-B6-A0IA",
          "TCGA-B6-A1KF",
          "TCGA-BH-A0BO",
          "TCGA-BH-A0DL",
          "TCGA-BH-A1EN",
          "TCGA-BH-A208",
          "TCGA-BH-A42U",
          "TCGA-BH-A5IZ",
          "TCGA-D8-A27H",
          "TCGA-E2-A1LG",
          "TCGA-E2-A1LL",
          "TCGA-E2-A1LS",
          "TCGA-E2-A572",
          "TCGA-E2-A574",
          "TCGA-E9-A1ND",
          "TCGA-E9-A5FL",
          "TCGA-EW-A1P1",
          "TCGA-EW-A1PB",
          "TCGA-FA-A7DS",
          "TCGA-GM-A4E0",
          "TCGA-LL-A8F5",
          "TCGA-OL-A5RW",
          "TCGA-OL-A66P",
          "TCGA-OL-A6VQ",
          "TCGA-PL-A8LV",
          "ER-B1PU",
          "MBCProject_1037",
          "MBCProject_1542",
          "MBCProject_1819",
          "MBCProject_3159",
          "MBCProject_4424",
          "MBCproject_0093",
          "MBCproject_0280",
          "TCGA-A1-A0SK",
          "TCGA-A2-A0CO",
          "TCGA-A2-A0CY",
          "TCGA-A2-A0EP",
          "TCGA-A2-A3XV",
          "TCGA-A2-A3XW",
          "TCGA-A2-A3Y0",
          "TCGA-A2-A4S1",
          "TCGA-A7-A56D",
          "TCGA-A7-A5ZV",
          "TCGA-A8-A08H",
          "TCGA-AC-A2QH",
          "TCGA-AC-A2QJ",
          "TCGA-AC-A62X",
          "TCGA-AN-A0FL",
          "TCGA-AO-A1KO",
          "TCGA-AO-A1KR",
          "TCGA-AQ-A54N",
          "TCGA-AR-A0TP",
          "TCGA-AR-A2LN",
          "TCGA-AR-A5QQ",
          "TCGA-B6-A0IA",
          "TCGA-B6-A1KF",
          "TCGA-BH-A0BO",
          "TCGA-BH-A0DL",
          "TCGA-BH-A1EN",
          "TCGA-BH-A208",
          "TCGA-BH-A42U",
          "TCGA-BH-A5IZ",
          "TCGA-D8-A27H",
          "TCGA-E2-A1LG",
          "TCGA-E2-A1LL",
          "TCGA-E2-A1LS",
          "TCGA-E2-A572",
          "TCGA-E2-A574",
          "TCGA-E9-A1ND",
          "TCGA-E9-A5FL",
          "TCGA-EW-A1P1",
          "TCGA-EW-A1PB",
          "TCGA-FA-A7DS",
          "TCGA-GM-A4E0",
          "TCGA-LL-A8F5",
          "TCGA-OL-A5RW",
          "TCGA-OL-A66P",
          "TCGA-OL-A6VQ",
          "TCGA-PL-A8LV",
          "ER-B1PU",
          "MBCProject_1037",
          "MBCProject_1542",
          "MBCProject_1819",
          "MBCProject_3159",
          "MBCProject_4424",
          "MBCproject_0093",
          "MBCproject_0280",
          "TCGA-A1-A0SK",
          "TCGA-A2-A0CO",
          "TCGA-A2-A0CY",
          "TCGA-A2-A0EP",
          "TCGA-A2-A3XV",
          "TCGA-A2-A3XW",
          "TCGA-A2-A3Y0",
          "TCGA-A2-A4S1",
          "TCGA-A7-A56D",
          "TCGA-A7-A5ZV",
          "TCGA-A8-A08H",
          "TCGA-AC-A2QH",
          "TCGA-AC-A2QJ",
          "TCGA-AC-A62X",
          "TCGA-AN-A0FL",
          "TCGA-AO-A1KO",
          "TCGA-AO-A1KR",
          "TCGA-AQ-A54N",
          "TCGA-AR-A0TP",
          "TCGA-AR-A2LN",
          "TCGA-AR-A5QQ",
          "TCGA-B6-A0IA",
          "TCGA-B6-A1KF",
          "TCGA-BH-A0BO",
          "TCGA-BH-A0DL",
          "TCGA-BH-A1EN",
          "TCGA-BH-A208",
          "TCGA-BH-A42U",
          "TCGA-BH-A5IZ",
          "TCGA-D8-A27H",
          "TCGA-E2-A1LG",
          "TCGA-E2-A1LL",
          "TCGA-E2-A1LS",
          "TCGA-E2-A572",
          "TCGA-E2-A574",
          "TCGA-E9-A1ND",
          "TCGA-E9-A5FL",
          "TCGA-EW-A1P1",
          "TCGA-EW-A1PB",
          "TCGA-FA-A7DS",
          "TCGA-GM-A4E0",
          "TCGA-LL-A8F5",
          "TCGA-OL-A5RW",
          "TCGA-OL-A66P",
          "TCGA-OL-A6VQ",
          "TCGA-PL-A8LV",
          "ER-B1PU",
          "MBCProject_1037",
          "MBCProject_1542",
          "MBCProject_1819",
          "MBCProject_3159",
          "MBCProject_4424",
          "MBCproject_0093",
          "MBCproject_0280",
          "TCGA-A1-A0SK",
          "TCGA-A2-A0CO",
          "TCGA-A2-A0CY",
          "TCGA-A2-A0EP",
          "TCGA-A2-A3XV",
          "TCGA-A2-A3XW",
          "TCGA-A2-A3Y0",
          "TCGA-A2-A4S1",
          "TCGA-A7-A56D",
          "TCGA-A7-A5ZV",
          "TCGA-A8-A08H",
          "TCGA-AC-A2QH",
          "TCGA-AC-A2QJ",
          "TCGA-AC-A62X",
          "TCGA-AN-A0FL",
          "TCGA-AO-A1KO",
          "TCGA-AO-A1KR",
          "TCGA-AQ-A54N",
          "TCGA-AR-A0TP",
          "TCGA-AR-A2LN",
          "TCGA-AR-A5QQ",
          "TCGA-B6-A0IA",
          "TCGA-B6-A1KF",
          "TCGA-BH-A0BO",
          "TCGA-BH-A0DL",
          "TCGA-BH-A1EN",
          "TCGA-BH-A208",
          "TCGA-BH-A42U",
          "TCGA-BH-A5IZ",
          "TCGA-D8-A27H",
          "TCGA-E2-A1LG",
          "TCGA-E2-A1LL",
          "TCGA-E2-A1LS",
          "TCGA-E2-A572",
          "TCGA-E2-A574",
          "TCGA-E9-A1ND",
          "TCGA-E9-A5FL",
          "TCGA-EW-A1P1",
          "TCGA-EW-A1PB",
          "TCGA-FA-A7DS",
          "TCGA-GM-A4E0",
          "TCGA-LL-A8F5",
          "TCGA-OL-A5RW",
          "TCGA-OL-A66P",
          "TCGA-OL-A6VQ",
          "TCGA-PL-A8LV",
          "ER-B1PU",
          "MBCProject_1037",
          "MBCProject_1542",
          "MBCProject_1819",
          "MBCProject_3159",
          "MBCProject_4424",
          "MBCproject_0093",
          "MBCproject_0280",
          "TCGA-A1-A0SK",
          "TCGA-A2-A0CO",
          "TCGA-A2-A0CY",
          "TCGA-A2-A0EP",
          "TCGA-A2-A3XV",
          "TCGA-A2-A3XW",
          "TCGA-A2-A3Y0",
          "TCGA-A2-A4S1",
          "TCGA-A7-A56D",
          "TCGA-A7-A5ZV",
          "TCGA-A8-A08H",
          "TCGA-AC-A2QH",
          "TCGA-AC-A2QJ",
          "TCGA-AC-A62X",
          "TCGA-AN-A0FL",
          "TCGA-AO-A1KO",
          "TCGA-AO-A1KR",
          "TCGA-AQ-A54N",
          "TCGA-AR-A0TP",
          "TCGA-AR-A2LN",
          "TCGA-AR-A5QQ",
          "TCGA-B6-A0IA",
          "TCGA-B6-A1KF",
          "TCGA-BH-A0BO",
          "TCGA-BH-A0DL",
          "TCGA-BH-A1EN",
          "TCGA-BH-A208",
          "TCGA-BH-A42U",
          "TCGA-BH-A5IZ",
          "TCGA-D8-A27H",
          "TCGA-E2-A1LG",
          "TCGA-E2-A1LL",
          "TCGA-E2-A1LS",
          "TCGA-E2-A572",
          "TCGA-E2-A574",
          "TCGA-E9-A1ND",
          "TCGA-E9-A5FL",
          "TCGA-EW-A1P1",
          "TCGA-EW-A1PB",
          "TCGA-FA-A7DS",
          "TCGA-GM-A4E0",
          "TCGA-LL-A8F5",
          "TCGA-OL-A5RW",
          "TCGA-OL-A66P",
          "TCGA-OL-A6VQ",
          "TCGA-PL-A8LV",
          "ER-B1PU",
          "MBCProject_1037",
          "MBCProject_1542",
          "MBCProject_1819",
          "MBCProject_3159",
          "MBCProject_4424",
          "MBCproject_0093",
          "MBCproject_0280",
          "TCGA-A1-A0SK",
          "TCGA-A2-A0CO",
          "TCGA-A2-A0CY",
          "TCGA-A2-A0EP",
          "TCGA-A2-A3XV",
          "TCGA-A2-A3XW",
          "TCGA-A2-A3Y0",
          "TCGA-A2-A4S1",
          "TCGA-A7-A56D",
          "TCGA-A7-A5ZV",
          "TCGA-A8-A08H",
          "TCGA-AC-A2QH",
          "TCGA-AC-A2QJ",
          "TCGA-AC-A62X",
          "TCGA-AN-A0FL",
          "TCGA-AO-A1KO",
          "TCGA-AO-A1KR",
          "TCGA-AQ-A54N",
          "TCGA-AR-A0TP",
          "TCGA-AR-A2LN",
          "TCGA-AR-A5QQ",
          "TCGA-B6-A0IA",
          "TCGA-B6-A1KF",
          "TCGA-BH-A0BO",
          "TCGA-BH-A0DL",
          "TCGA-BH-A1EN",
          "TCGA-BH-A208",
          "TCGA-BH-A42U",
          "TCGA-BH-A5IZ",
          "TCGA-D8-A27H",
          "TCGA-E2-A1LG",
          "TCGA-E2-A1LL",
          "TCGA-E2-A1LS",
          "TCGA-E2-A572",
          "TCGA-E2-A574",
          "TCGA-E9-A1ND",
          "TCGA-E9-A5FL",
          "TCGA-EW-A1P1",
          "TCGA-EW-A1PB",
          "TCGA-FA-A7DS",
          "TCGA-GM-A4E0",
          "TCGA-LL-A8F5",
          "TCGA-OL-A5RW",
          "TCGA-OL-A66P",
          "TCGA-OL-A6VQ",
          "TCGA-PL-A8LV",
          "ER-B1PU",
          "MBCProject_1037",
          "MBCProject_1542",
          "MBCProject_1819",
          "MBCProject_3159",
          "MBCProject_4424",
          "MBCproject_0093",
          "MBCproject_0280",
          "TCGA-A1-A0SK",
          "TCGA-A2-A0CO",
          "TCGA-A2-A0CY",
          "TCGA-A2-A0EP",
          "TCGA-A2-A3XV",
          "TCGA-A2-A3XW",
          "TCGA-A2-A3Y0",
          "TCGA-A2-A4S1",
          "TCGA-A7-A56D",
          "TCGA-A7-A5ZV",
          "TCGA-A8-A08H",
          "TCGA-AC-A2QH",
          "TCGA-AC-A2QJ",
          "TCGA-AC-A62X",
          "TCGA-AN-A0FL",
          "TCGA-AO-A1KO",
          "TCGA-AO-A1KR",
          "TCGA-AQ-A54N",
          "TCGA-AR-A0TP",
          "TCGA-AR-A2LN",
          "TCGA-AR-A5QQ",
          "TCGA-B6-A0IA",
          "TCGA-B6-A1KF",
          "TCGA-BH-A0BO",
          "TCGA-BH-A0DL",
          "TCGA-BH-A1EN",
          "TCGA-BH-A208",
          "TCGA-BH-A42U",
          "TCGA-BH-A5IZ",
          "TCGA-D8-A27H",
          "TCGA-E2-A1LG",
          "TCGA-E2-A1LL",
          "TCGA-E2-A1LS",
          "TCGA-E2-A572",
          "TCGA-E2-A574",
          "TCGA-E9-A1ND",
          "TCGA-E9-A5FL",
          "TCGA-EW-A1P1",
          "TCGA-EW-A1PB",
          "TCGA-FA-A7DS",
          "TCGA-GM-A4E0",
          "TCGA-LL-A8F5",
          "TCGA-OL-A5RW",
          "TCGA-OL-A66P",
          "TCGA-OL-A6VQ",
          "TCGA-PL-A8LV",
          "ER-B1PU",
          "MBCProject_1037",
          "MBCProject_1542",
          "MBCProject_1819",
          "MBCProject_3159",
          "MBCProject_4424",
          "MBCproject_0093",
          "MBCproject_0280",
          "TCGA-A1-A0SK",
          "TCGA-A2-A0CO",
          "TCGA-A2-A0CY",
          "TCGA-A2-A0EP",
          "TCGA-A2-A3XV",
          "TCGA-A2-A3XW",
          "TCGA-A2-A3Y0",
          "TCGA-A2-A4S1",
          "TCGA-A7-A56D",
          "TCGA-A7-A5ZV",
          "TCGA-A8-A08H",
          "TCGA-AC-A2QH",
          "TCGA-AC-A2QJ",
          "TCGA-AC-A62X",
          "TCGA-AN-A0FL",
          "TCGA-AO-A1KO",
          "TCGA-AO-A1KR",
          "TCGA-AQ-A54N",
          "TCGA-AR-A0TP",
          "TCGA-AR-A2LN",
          "TCGA-AR-A5QQ",
          "TCGA-B6-A0IA",
          "TCGA-B6-A1KF",
          "TCGA-BH-A0BO",
          "TCGA-BH-A0DL",
          "TCGA-BH-A1EN",
          "TCGA-BH-A208",
          "TCGA-BH-A42U",
          "TCGA-BH-A5IZ",
          "TCGA-D8-A27H",
          "TCGA-E2-A1LG",
          "TCGA-E2-A1LL",
          "TCGA-E2-A1LS",
          "TCGA-E2-A572",
          "TCGA-E2-A574",
          "TCGA-E9-A1ND",
          "TCGA-E9-A5FL",
          "TCGA-EW-A1P1",
          "TCGA-EW-A1PB",
          "TCGA-FA-A7DS",
          "TCGA-GM-A4E0",
          "TCGA-LL-A8F5",
          "TCGA-OL-A5RW",
          "TCGA-OL-A66P",
          "TCGA-OL-A6VQ",
          "TCGA-PL-A8LV"
         ],
         "yaxis": "y",
         "ybingroup": "y",
         "z": [
          -0.0450227497352147,
          0.9612520180304112,
          0.2863416273929558,
          0.8806714572516462,
          0.1609175898080542,
          -0.3636638804246329,
          2.4625032994883376,
          0.4175397789821686,
          -0.4390302969196956,
          -0.1351411554273013,
          -0.3946917108452556,
          -0.1159461277913481,
          -0.2501828036022254,
          -0.0301330630659099,
          -0.2755925771537886,
          -0.1033972981508181,
          -0.1894673981578472,
          0.5312228120972547,
          0.0737918091802051,
          -0.3845388172224128,
          -0.1676285790541012,
          -0.4442719806978541,
          -0.3934707932576985,
          -0.3211704404787565,
          -0.3653529694179449,
          -0.4353032853366268,
          -0.3991898282730974,
          0.306050725592091,
          -0.0756925667279071,
          -0.2271873257313201,
          -0.4479163737975544,
          -0.2336040279396087,
          -0.2821653364973288,
          -0.1136328102570294,
          -0.24067249818336,
          0.248814476280676,
          -0.3470024862786477,
          1.0342224985077868,
          -0.1491954774314354,
          -0.1245109105672182,
          -0.4391220952345496,
          -0.4042662750845188,
          -0.4319159275185174,
          -0.2058442175277853,
          0.0838896238141355,
          -0.1014052747184882,
          -0.1082901483325317,
          -0.4296944082990527,
          0.1913946303395533,
          0.0892231059071479,
          -0.3757078193334663,
          -0.3171863936140967,
          -0.2933188317520792,
          -0.3472228022342971,
          -0.5868639962875303,
          -0.7210088021969022,
          -0.7172975248795472,
          -0.6977844534731877,
          0.4202062237954348,
          -0.8510629557742562,
          -0.8210648386727916,
          -0.6875303317000515,
          0.6421076182415507,
          1.1022620200846176,
          -0.187349116715734,
          1.2129790442913977,
          -0.6324219871787943,
          0.7354228754714,
          -0.6018575566496444,
          0.8143823622188583,
          -0.0215457407421699,
          -0.2188592356872321,
          -0.1459037709109613,
          -0.612590020832573,
          -0.3800881187303676,
          -0.5015760944404046,
          -0.1113751463880145,
          -0.3887972495017605,
          -0.4976064022579892,
          -0.7572583597573781,
          -0.3407045936574588,
          0.062351119384525,
          0.2479754653270738,
          -0.4598723337705715,
          0.145687164272153,
          1.0212737017370053,
          -0.6255327568400598,
          -0.4425145523025869,
          0.9926611281673532,
          0.2932640449760407,
          -0.5504329985026505,
          -0.1299920130495906,
          -0.7226032768962103,
          -0.1420440425009121,
          -0.1543434904400574,
          -0.7603428435722464,
          -0.7612335501284115,
          -0.5411740488694272,
          1.988701981882001,
          1.6924100954302372,
          -0.8047242220991931,
          -0.5826578819945281,
          0.818379545344365,
          -0.2635705055312772,
          -0.5698526007024989,
          -0.2219437195021005,
          -0.2557410849388128,
          -0.5701550010765056,
          -0.9075989683782968,
          -0.6310170699261951,
          -0.6992013457895409,
          -0.556719307954858,
          -0.621328336278013,
          -0.9038327913883156,
          1.0885908914674456,
          -0.100600083549949,
          -0.7234269236246976,
          -0.364764080336278,
          -0.8418368759269964,
          -0.6192842680508464,
          -0.8331252518159764,
          -0.1242903101827526,
          -0.7356276898377677,
          -0.7493521479344583,
          -0.7105972133417302,
          -0.4250229121759758,
          -0.6750506422484194,
          -0.5242051457699813,
          -0.8507843540642279,
          -0.5034574788927693,
          -0.1279179697287683,
          1.6515033214550594,
          -0.7311651819132572,
          -0.7263020965156574,
          0.3505587188751138,
          0.0158743682515342,
          0.292534884712373,
          -0.802793675302232,
          -0.6092249066471891,
          -0.1142534110673061,
          -0.3238490223606284,
          -0.7399217306006984,
          0.2211721950672241,
          0.4375139802531368,
          -0.3169980244563884,
          -0.3215466378190396,
          -0.4547030823316122,
          -0.8090456788541887,
          0.6286568217814327,
          -0.7093580437754443,
          -0.7777295053738785,
          -0.8378011514784878,
          -0.7871000232724101,
          -0.1930810678277854,
          -0.8975246321158323,
          -0.9033273899035764,
          -0.4713963061868068,
          -0.707257819827751,
          -0.5607700072621736,
          -0.8423535085558407,
          0.6651879898413091,
          -0.6415780890998896,
          -0.2281527558056896,
          0.9801950480152828,
          -0.0820089131215804,
          -0.3886858546491845,
          -0.4193112917458819,
          -0.7501621836212538,
          -0.530108564173151,
          -0.4543008627359828,
          -0.655918020051769,
          -0.249295855235835,
          -0.3219124203703141,
          0.904926488327884,
          1.641561689597251,
          -0.3511972887919092,
          0.1905345270861646,
          -0.5828606701083567,
          1.207250224511066,
          -0.4429643145921833,
          2.310053745115361,
          -0.6999965009450768,
          1.9384648654854548,
          -0.7293360121115811,
          -0.3964815529228769,
          -0.60815297530193,
          -0.5257116446328021,
          0.2176154714630944,
          -0.6245166559773629,
          -0.5858186640327673,
          0.749260236630956,
          -0.6516340288508988,
          -0.6733563413770801,
          -0.5663221326492149,
          0.9245104481032907,
          0.1236335930691731,
          0.3975540304486264,
          -0.4165572974024653,
          -0.0859140479577478,
          -0.5948893596876711,
          -0.1968606772211017,
          -0.629878930677772,
          -0.5203530127820536,
          -0.3601841989046192,
          -0.1184155526296563,
          0.0662987822609276,
          0.0264277927256173,
          0.7054221838152479,
          1.995592033863046,
          -0.4101823104964084,
          0.1221655246559497,
          0.4702434525763175,
          -0.1251001817568645,
          7.917477656284377,
          -0.4809483080033007,
          0.119338673319321,
          -0.3932940413523283,
          -0.3553890802713233,
          -0.3708377923095451,
          -0.3616254821994002,
          -0.3456642101401024,
          -0.2876913767115371,
          -0.0800479570689546,
          -0.0777284317198466,
          -0.1826716534678504,
          -0.2796862602032697,
          -0.2522497637915243,
          0.3325077788203277,
          -0.0206629060300815,
          8.758104047899899,
          -0.1291251965795025,
          -0.383934848370472,
          -0.3763872108063888,
          -0.2799463652885919,
          -0.2958862169290984,
          -0.3895791287219625,
          -0.3422400031933321,
          -0.3542782785540064,
          0.4657427837018126,
          -0.170201909671524,
          -0.3389504388789638,
          -0.3820100707390881,
          -0.3759939931185783,
          -0.209387505790262,
          1.6344529201879403,
          12.665834414050805,
          -0.3178452062499421,
          0.5848785629289236,
          0.3106773120122314,
          0.3252447268201852,
          0.6219236471984517,
          -0.0345249770478382,
          0.3286980043353151,
          -0.3472279007118626,
          2.2102092968177325,
          4.591010966940955,
          -0.3380706716786094,
          2.6948739655108738,
          -0.3476960898654425,
          -0.1191096207646863,
          0.6167200154620952,
          1.1249561720020855,
          -0.3747087679911041,
          -0.3057166591243618,
          -0.305679938406434,
          -0.3200254988769072,
          1.3627503611232457,
          0.7080781016067148,
          -0.1424854177855789,
          0.3617558306498462,
          0.0798157409647502,
          -0.084170949052594,
          -0.1197776365406977,
          -0.0297111041145289,
          -0.1193534750918003,
          -0.1315169117941376,
          -0.1257384886467744,
          -0.1203692598665567,
          -0.124399923222158,
          -0.058933907638734,
          -0.127375266115356,
          0.0196853488270441,
          -0.1188022346468949,
          -0.0765696483069399,
          -0.0253799695328111,
          -0.1160290885562339,
          -0.1247718410838077,
          1.043246256787819,
          -0.1000484812115886,
          -0.1244493428317166,
          -0.0785710012951797,
          0.0526019151685453,
          0.2665690567135611,
          -0.0702060969824027,
          -0.110696571485974,
          -0.0478339809340983,
          -0.0355251093807742,
          -0.006791136394546,
          -0.0730088948387989,
          29.99234122199717,
          -0.0712769493220958,
          0.6169010259434234,
          0.0416649319765685,
          -0.11933031847475,
          -0.1088112839807547,
          -0.1059825055296191,
          -0.124134469319386,
          -0.1197547623214163,
          -0.1278070523040139,
          0.0217640788039643,
          -0.0961649470935875,
          -0.1310249748807026,
          -0.1294723519472551,
          -0.0323153763393838,
          -0.1172470701335273,
          -0.1144773128160931,
          -0.1205971548660642,
          -0.1281795349612015,
          -0.1208049996239793,
          -0.1046493056626119,
          -0.1228210372962022,
          -0.1162002216041912,
          -0.0137369919185683,
          -0.1287025356292162,
          0.0804774203546002,
          -0.3617955036610599,
          -0.1497148363847487,
          -0.1771282516899997,
          -0.3428699766889587,
          -0.4376174823462539,
          0.0673896381832983,
          -0.2718805669780303,
          -0.4754685362904562,
          -0.0082210497239747,
          -0.4015434019729746,
          0.0255795921950123,
          0.2874531825655451,
          0.1273742797972558,
          0.4140848772795784,
          -0.3062172607410545,
          0.2519696138550912,
          0.0311558040752857,
          -0.2157947230296455,
          -0.4538818036353133,
          -0.3962509583060883,
          5.118660513372862,
          0.1999608568839234,
          0.1390605725694293,
          -0.3262564022141923,
          -0.3751081915649797,
          -0.4365723125902976,
          -0.0137151279101517,
          -0.3775407548022938,
          -0.255101985171881,
          -0.0635514116753108,
          -0.0287611327367813,
          -0.4153544416153983,
          -0.2010628240871953,
          -0.3409239260991074,
          0.443604170903733,
          -0.3991274874574368,
          -0.4378450148771966,
          -0.4480088745358267,
          -0.2213479966710272,
          0.1479043735769967,
          2.2431353169445245,
          -0.3802737349747713,
          0.4861923041535241,
          -0.251576895814447,
          0.1177664874459539,
          3.7109669125787415,
          -0.4150099980604265,
          0.0452106180016738,
          1.8601244060234117,
          -0.0808416641973848,
          -0.2793373444758349,
          -0.1927839697052367,
          0.0110640896384944,
          -0.6851369257850618,
          -0.5249170740503519,
          -0.7587367243818135,
          -0.4493158545755166,
          -0.3781762610220947,
          -0.2810021686591677,
          1.721424428424171,
          -0.4677593787032814,
          -0.365973403596262,
          -0.415492042078335,
          0.3884420619830899,
          -0.4732387441703069,
          0.3594324780845415,
          -0.1240859635990923,
          -0.6532644485584039,
          -0.2660986952737187,
          -0.0983519784349451,
          0.5446170000512826,
          -0.4924876448676309,
          -0.713976218617907,
          -0.0677897407020477,
          -0.2777185562275572,
          -0.4686729401851694,
          -0.7135514926658013,
          -0.0407815776815831,
          -0.3586028055877841,
          -0.3462296570962487,
          -0.4191643188246083,
          -0.0495245213371953,
          -0.3296853792071457,
          -0.5966156229841395,
          -0.3579096207791586,
          0.5891150572315762,
          -0.611999918202161,
          0.1484298271329533,
          -0.1468448636741965,
          -0.5968640475976353,
          0.1084134301170968,
          -0.6454911622651466,
          -0.1876506098651931,
          1.915932887094216,
          -0.7516385920784601,
          -0.2905384683385247,
          -0.3297675196035435,
          0.2268678954199671,
          -0.4438084411682577,
          0.1374951372905309,
          -0.9844124549240764,
          -0.336258614343274,
          -0.4640169821064245,
          -0.2864494793373551,
          -0.1436273642445647,
          -0.2926741186448681,
          -0.6549954071556654,
          -0.6106790148125798,
          0.5598778447071422,
          -0.5299596864798837,
          -0.5568998889096166,
          -0.7886261413879211,
          -0.8089578919058493,
          3.2528852981154097,
          -0.5419612428254601,
          -1.0085913750423432,
          0.6067700015679179,
          -0.562318313082514,
          1.2998725403945253,
          2.061958708469071,
          -0.6788270926693714,
          -0.0413646805714656,
          -0.2089813535835259,
          -0.370014894422907,
          -0.6731934507139055,
          -0.5664201108208756,
          -0.6334034806778855,
          -0.8500138488981537,
          -0.7566473108721761,
          -1.0040844614779705,
          -0.4027153375037342,
          0.0158705897221539,
          -1.0247580284740954,
          0.0233525726337951,
          0.6743610451639445,
          1.3151530029568783,
          3.2878645177175487,
          0.0807271014926062,
          0.3496480507465474,
          0.3247460873164324,
          1.252208131490416,
          -0.0077653867516765,
          0.2748029018910113,
          -0.9006659870190943,
          0.0368100139790986,
          -1.0772205279425229,
          2.762885046685516,
          -0.3855991938547685,
          -0.9014888785406792,
          -0.2199321407553862,
          0.1159215388773135,
          0.4296457665141616,
          1.1450296757713747,
          -0.9342906005780092,
          0.0737894929721674,
          -0.6049567537701741,
          -0.8630535145478835,
          -0.5741426312542107,
          2.436133813268501,
          3.284978067457221,
          -0.2240592582328736,
          -0.439791300460454,
          1.2888082501309044,
          -0.3897572992572986,
          -0.3575241749454227,
          -0.4187672953167443,
          3.3045987499348333,
          4.305066600069553,
          -0.2659224095644599,
          -0.4434587599648266,
          -0.1981059493457533,
          -0.343359907616671,
          -0.3962689392209943,
          0.3417712100198875,
          -0.2157152803294597,
          -0.3943709771272061,
          -0.4466666934697811,
          -0.3122148193134369,
          -0.249537867316677,
          -0.3987705471917734,
          -0.4368587141976356,
          -0.3967643800780822,
          -0.3187596114534433,
          -0.3723745081450487,
          -0.3737328264800015,
          -0.2902634741268137,
          -0.3894828729089488,
          -0.3836453271969043,
          -0.2946400218467208,
          -0.4066497144282859,
          -0.3438567298144385,
          0.4759058823115033,
          -0.3053914568030419,
          -0.4031567642964379,
          3.504356635758755,
          -0.3481591455845398,
          -0.2582739262214428,
          -0.3203647293231536,
          -0.3461916560098777,
          -0.230313749078503,
          -0.3885707276135111,
          -0.4208296369514065,
          -0.2411185958744358,
          -0.36162629631698,
          -0.3863149982837031,
          -0.3803821400647653,
          -0.3397196144789976,
          -0.3750257613561193,
          -0.4437939653030793,
          -0.3403227999090953,
          -0.3874048760799177,
          -0.3438341679166716,
          -0.0657919301145568,
          -0.2348892098562744,
          -0.3661391363172757,
          -1.0393936982713026,
          -0.8404958719193221,
          -0.7032195827590276,
          -0.9102762549115444,
          -0.8928311591634888,
          -0.1881145617084477,
          -1.09267837848135,
          -0.8677612511582048,
          -0.1551824932044653,
          -0.3191604595301509,
          -0.5198087291629738,
          -0.2535336707636561,
          0.5495934413109432,
          2.824279650500435,
          -0.6911741595044176,
          -0.9510408153840416,
          -0.6558686085857338,
          -0.9795522728906426,
          0.3749941411794687,
          -0.8970737589797676,
          -0.8399321698458304,
          -0.38371918121003,
          0.704611511521131,
          1.3192544513382527,
          -0.5627094238087024,
          -0.4003928951733077,
          -0.5859102144124089,
          0.7685768625973348,
          7.145827425598264,
          -0.2572719055668108,
          0.1451223693156343,
          3.5370364196352773,
          1.1303252511280175,
          -0.5257424351997275,
          1.1039202592644644,
          0.3031369610743825,
          -0.6271494713678464,
          1.0029879195792857,
          -0.7707451574572834,
          8.716420076466575,
          -0.4855415768007218,
          -0.9525539104234138,
          0.5565062088437612,
          -0.511086181288946,
          5.180613654755656,
          1.3406454616007493,
          -0.6764882370634526,
          -1.0791495287175517,
          -0.6374741198717977,
          -0.1205296499498243,
          0.5429476905497792,
          1.3802232808658956,
          0.0277239953784643,
          2.302410204567956,
          0.3375400538113337,
          -0.2394356458272463,
          -0.3662669639362036,
          -0.1580799231591171,
          0.1132321038776882,
          -0.2662102028097161,
          0.1382038363353565,
          -0.1246035619648849,
          0.8768981214269705,
          -0.1093840650707267,
          -0.0746274371849688,
          -0.0314315002918064,
          -0.5521799770699082,
          -0.2958261680106231,
          -0.4501636240686364,
          -0.3793309097680991,
          -0.5438451796291589,
          -0.4591777466926443,
          -0.0054538440050822,
          0.0732956214695837,
          -0.3731973872000241,
          -0.3228489399638989,
          -0.3708720048419467,
          0.0312297158908802,
          -0.5107672687827995,
          -0.0793239257115352,
          1.0893374765723391,
          -0.0833802808923387,
          -0.4758212136824791,
          0.0720218867509739,
          0.6291861125354845,
          -0.0008161432347593,
          -0.4618231957236031,
          6.731851640555477,
          -0.0305823438127332,
          -0.3206868569287203,
          -0.3606755951201524,
          0.0290284410182059,
          -0.266099159270145,
          -0.5237724268584516,
          0.9270963332860293,
          -0.5624874303312738,
          -0.3660775367216411,
          -0.2839510412494301,
          -0.4291633311438644,
          -0.1460676249666892,
          -0.4462966961023953,
          -0.4344868890703618,
          0.072622828259241,
          -0.5127529885492477,
          -0.4383930088740986,
          -0.4058180599422672,
          0.1173015230043237,
          -0.3626613148866005,
          4.192184532320589,
          -0.5189823438573368,
          -0.256025756597304,
          -0.0586602708886746,
          -0.3992771735711342,
          -0.981926932924142,
          -0.8363349908304637,
          0.3018933939592373,
          -0.825506537263938,
          0.6081919945832025,
          -0.299395969059066,
          -0.0019236860557324,
          -0.1773784727508448,
          0.4734285060560501,
          -0.0180253709163734,
          -0.3910994352005808,
          -0.8359402034608507,
          -0.6963264701070254,
          -0.3476164263475009,
          -0.6281974497509676,
          -0.6646306841466739,
          -0.859176260072354,
          0.1810320606620256,
          0.0965757626626906,
          -0.7468310543196494,
          -0.5022602788444467,
          -0.7545576071249307,
          0.4336395790186339,
          -0.801593702304527,
          -0.0049973877191472,
          -0.9007135311751988,
          0.3042339190790853,
          3.0584962022814364,
          -0.3611519933056581,
          -0.0849136309679336,
          0.4430862767915144,
          -0.7287272335131141,
          -0.4996095636484743,
          1.1625580588132278,
          -0.8248015598182007,
          -0.7966870592821949,
          -0.532292318032858,
          -0.8660568399427506,
          0.2082159909696579,
          -0.5688101497220529,
          -0.5205614933357884,
          -0.8205716951437765,
          3.007230242427416,
          1.4803618913516263,
          -0.799422371771656,
          -0.7572083223209032,
          -0.0331682864508118,
          0.3212379750702703,
          -0.6416766185134658,
          -0.4049447273249227,
          1.289972416297452,
          -0.3479800208576595,
          -0.3228804003055121,
          -0.3967016092496389,
          9.5035818010422,
          -0.3008469944462409,
          -0.2799039120086436,
          -0.2195726826760244,
          -0.1919084985827568,
          -0.0556948542130813,
          -0.3497238558137638,
          0.0444442709374575,
          -0.1219503447664384,
          -0.2686440618370854,
          -0.4049907973286554,
          -0.2232736396425511,
          -0.2926311771139099,
          -0.3654234893080064,
          -0.4057364488705513,
          -0.3822151525203573,
          -0.1139597585634673,
          -0.3014766178305878,
          -0.2529614913071882,
          -0.2992874395050674,
          -0.10835116218312,
          -0.2660692605173579,
          -0.0821066167233934,
          -0.3308215039118816,
          -0.2719576895129705,
          3.430785769380694,
          -0.3256599571973849,
          -0.2820589644054731,
          -0.1842267520344382,
          -0.3187306873767003,
          -0.0871811423197282,
          -0.3031556135221794,
          -0.2690177407562506,
          -0.1568679950029541,
          -0.2622761635433659,
          -0.3102828137292712,
          -0.1062711868294104,
          -0.2407853599502798,
          -0.3459444092112481,
          -0.3702079445104688,
          -0.301790576374544,
          -0.3312787913563394,
          -0.3684333962185427,
          -0.2872461055664879,
          -0.3282757096315414,
          0.0089004099094641,
          -0.2321907448094799,
          -0.2702872253035516,
          -0.2506153337096898,
          -0.5480575980063314,
          -0.7127772266318415,
          -0.7798126950630466,
          -0.7520752671200046,
          -0.7853859155804511,
          -0.2356757732479729,
          -0.8099828779938444,
          -0.7054146243465835,
          0.0941052760261206,
          -0.021195247145637,
          0.4573216273220168,
          -0.5060976008208221,
          1.0970356620362152,
          0.5459864991898153,
          0.4082041030650935,
          -0.7618786665582673,
          -0.2924494388217348,
          0.2898998311729165,
          -0.6180204145880922,
          -0.7168948152392168,
          -0.5195239957036601,
          -0.7754900312418274,
          1.502553802540694,
          -0.588630321686426,
          0.6671899716541776,
          6.241411738632133,
          -0.0728138847949309,
          -0.6528389690326848,
          -0.5599720658223988,
          1.3123807209027951,
          1.9212088199790545,
          -0.6668685263091814,
          0.2537221508012799,
          -0.8013375503514061,
          -0.7169591525612071,
          -0.420850649183755,
          -0.6436467741533294,
          0.2911061559602334,
          0.1796497877773926,
          0.0344484942106712,
          -0.8078235566245471,
          -0.8051495366793276,
          0.3260252374704359,
          -0.2396888137071141,
          0.7359384212833726,
          -0.1203672079109666,
          0.718020477109091,
          -0.7678017212639938,
          -0.7208274340458704,
          0.2253654761340821,
          0.7517452970798497,
          -0.1994860296284634,
          -0.145511037561277,
          0.4274811731664189,
          -0.6646824969422698,
          -0.5366245152663766,
          -0.6645559688008492,
          -0.6187067713733715,
          -0.6045586246508934,
          -0.6874230547230334,
          -0.6874230547230334,
          -0.637099362112593,
          -0.5090298778783887,
          0.5381630307512101,
          1.266182951368352,
          0.4576566251328164,
          0.1651810749600922,
          0.1892789346215489,
          -0.2337391498222355,
          1.318807155640984,
          2.4718236007313945,
          0.4872642102252219,
          0.0249188789162727,
          -0.0792597917060721,
          2.373856311596967,
          0.1291550623301724,
          -0.5302060877288621,
          -0.5106862462751667,
          -0.4798708925601107,
          -0.0780750282000434,
          0.1117516916056932,
          -0.1055201323299887,
          1.926119229342934,
          -0.5703385136757939,
          -0.3702860195316156,
          -0.5099270774266434,
          -0.2692590498864732,
          -0.487152011970947,
          -0.185071825608573,
          0.0694452821379904,
          0.0474178829725061,
          1.1918534195629429,
          1.2679198376733063,
          0.6192790719600846,
          0.0367090011850044,
          -0.3943493715181394,
          -0.5514628154875121,
          -0.336917097871527,
          4.425613647755756,
          -0.0972152852294772,
          -0.0914985137489313,
          -0.313486386592106,
          0.6177032214714834,
          1.023478971007142,
          0.6169670577395822,
          0.5482277692732983,
          -0.3989733999591445,
          1.294237691088778,
          -0.6777640265111423,
          -0.4575043086013055,
          -0.6614381009174026,
          -0.6652942427578252,
          -0.6245898600800514,
          -0.5357792125540329,
          -0.6838108867036318,
          -0.6451718679218118,
          0.1963564730027411,
          1.1979684236431671,
          -0.4957314484558976,
          0.0347507020340694,
          -0.600915775654175,
          -0.3613395329833355,
          -0.6680102559736029,
          -0.3738391630357272,
          0.1675070403173501,
          -0.2050225262106615,
          -0.2457806322267694,
          -0.6813396131402649,
          -0.4283325358859101,
          -0.2140002929722647,
          -0.1990831126948403,
          -0.0108126581330295,
          1.830757718100632,
          1.357108890308287,
          0.7798754969480565,
          0.8371982989504999,
          -0.4718782862355744,
          0.8444748266648578,
          -0.5569641156370978,
          0.5997650205532081,
          -0.3457657341262726,
          0.1579681631331467,
          1.060191937855559,
          2.480959343438147,
          0.0283098706937969,
          3.935041188047669,
          3.83559928879132,
          -0.5295532745670967,
          -0.6325468834133073,
          -0.4249658733503089,
          -0.6030109858492033,
          -0.1956746653405348,
          -0.4804501433297646,
          0.2454536349802583,
          -0.5317798084780528,
          -0.591520160705529,
          1.1403232816107194,
          -0.3306276912356971,
          -0.1144091622205446,
          0.3711244618632576,
          0.4407260313049416,
          -0.1090786132058427,
          -0.7417816372910724,
          -0.4310385627068288,
          -0.5699542040014511,
          -0.7767391017258044,
          -0.6604978385795516,
          -0.6079982803917097,
          -0.0032124217157343,
          -0.3875906524824078,
          -0.2760834012210243,
          0.46760904710161,
          -0.0889315279293313,
          -0.5149744942716319,
          -0.7346941969357137,
          1.5029274895097426,
          -0.8001828699510647,
          0.4735740831095044,
          -0.2566133064517058,
          -0.5875234526984513,
          -0.0551417260818806,
          -0.8808240016571826,
          -0.263564972087613,
          -0.6152395987624465,
          0.1010535111749124,
          -0.0649446608262656,
          -0.6338950452150572,
          -0.7816088883301248,
          -0.3066689196894239,
          0.0943643433299443,
          13.542705478615307,
          -0.0284574678857156,
          -0.6068487211003551,
          0.1578344988494525,
          -0.7467690953189173,
          -0.7575586596913151,
          -0.4930785578481164,
          0.8539876920681996,
          -0.6166607074927036,
          1.9338221391604364,
          -0.2028103109571312,
          5.846668520788075,
          -0.8864088684506133,
          0.2130404997783572,
          -0.3515017320522483,
          -0.5204959995293187,
          1.1131363732609432,
          0.7140763694976009,
          -0.3280760671229147,
          -0.6759037434132942,
          0.0209011684588192,
          -0.0562550787813815,
          -0.356462035136203,
          -0.6394980153044147,
          0.5775141566734678,
          -0.4351570625301853,
          -1.0296388407134636,
          -1.0123363553143383,
          -0.9858048858717136,
          -0.972028358374216,
          -0.8728204992714662,
          -0.9948850953202084,
          -1.0341367926357927,
          -0.886076315686445,
          1.0198006336298917,
          -0.3819188864385691,
          -0.191591547048195,
          -0.1151164460622661,
          4.289305847540146,
          -0.7681228576130181,
          2.303864244814936,
          -0.9019456058203514,
          -0.7994349507084824,
          -0.357227262820844,
          -0.370284713109149,
          -1.072034641136828,
          -1.0180740955283791,
          0.9024521922428196,
          -0.2733084729314796,
          -0.5268451785864704,
          0.1198928633613885,
          1.1272406869896052,
          0.253517245442048,
          -0.2510319569060085,
          -0.7668334777896382,
          2.814870264586226,
          0.5520979393114989,
          -0.4065262044524579,
          -0.1639244315303624,
          1.5002681881997448,
          0.1632507394991211,
          -0.2699759220033593,
          0.3391766980929754,
          -0.9269645335470884,
          0.5436525014683606,
          0.017357412483685,
          1.561617872026794,
          -0.7038224776516956,
          0.946653124418916,
          1.6492213127191244,
          0.818801196624465,
          0.1317006070516483,
          0.0134545589413775,
          -0.8591381956841387,
          1.5689177454883911,
          -0.7274578016448827,
          0.0423912176699227,
          1.61364930705334,
          0.037908143207094,
          -0.8860217650016098,
          0.063543149276796,
          -0.4609374169972302,
          -0.486008422044291,
          -0.4920309299798842,
          -0.4595904768714431,
          -0.4965819779584452,
          -0.4198155019957517,
          -0.4847647422663659,
          -0.4112327448469941,
          -0.1102743868653467,
          -0.4989478547521048,
          -0.4861010526504612,
          -0.5116503960736473,
          0.1474953306230566,
          -0.5081896558857457,
          -0.1559336830346397,
          -0.4735609945233487,
          0.4194223455102333,
          -0.4441287583136495,
          -0.2675049703649065,
          -0.4245335887723246,
          -0.4863835000725541,
          0.5792359562408682,
          -0.0724309879084839,
          -0.4713317858371533,
          -0.4731752867533939,
          0.6123901205771785,
          -0.44128150607481,
          -0.5029355264210075,
          -0.5078905045838518,
          -0.4338376498215882,
          -0.481764118040261,
          -0.5021139992416943,
          -0.4993457107982786,
          -0.4761835036521357,
          -0.4499994127965045,
          -0.2843424812045074,
          0.2887737089124786,
          -0.4918593355782902,
          0.7363298716329638,
          -0.3159416661847793,
          -0.5104887171602007,
          -0.2877531097530052,
          -0.3026499334666132,
          -0.3844822406126498,
          -0.3626457141089104,
          -0.5119738439279793,
          -0.5104735318149269,
          -0.4919033730795842,
          -0.4571593030931061,
          -0.2320122628564295,
          -0.5076946136298196,
          -0.3850015794210141,
          -0.3892549946322083,
          -0.6580161852053816,
          -0.6561385560972252,
          -0.6068286733406155,
          -0.6362533824847709,
          -0.6564118445223914,
          -0.6147461732553231,
          -0.6553265552368392,
          -0.6106743723307243,
          -0.3659455706462651,
          -0.3842794883777398,
          0.3614263187119605,
          -0.4786072493432048,
          4.529585792868733,
          -0.2383945880372119,
          -0.4907420418620962,
          -0.6581420158471847,
          -0.2502423294044898,
          -0.6283398147776198,
          -0.5146459315971386,
          -0.6585489993292668,
          -0.6330447011187907,
          -0.420188407782314,
          -0.2383945880372119,
          -0.0502817107490579,
          -0.4401247000930007,
          0.1636421769389673,
          -0.6008556500625222,
          -0.1678684794103241,
          -0.6191050253315354,
          0.4444725761982619,
          -0.3432095465554583,
          -0.3655149939188449,
          -0.5204832937145378,
          0.3428446719044358,
          0.0316419014799058,
          -0.137456786169525,
          -0.0037243732818921,
          -0.4424368381361335,
          1.5451839797864355,
          -0.6013688031486256,
          -0.5643431367980485,
          0.7132173355331193,
          0.4442445081599936,
          -0.305696286467894,
          -0.4382313421546189,
          -0.4555900724121192,
          -0.4389509361374307,
          -0.6603951707769724,
          -0.4077429708664711,
          -0.6364578572777012,
          2.015334640664061,
          -0.1000575601010948,
          -0.0623142658714841,
          0.8914682362699513,
          -0.3920045337602731,
          -0.3783286262175423,
          -0.1951005216057346,
          -0.2089914469582733,
          -0.104211912270759,
          -0.4038343874944738,
          -0.4038343874944738,
          -0.1789373810198217,
          -0.3853970945778008,
          1.1511608533538862,
          -0.2311111620050782,
          0.2756877528093083,
          0.1046188084872628,
          0.542522917683411,
          -0.2373912317293747,
          0.3240648229186791,
          0.0866347963588333,
          -0.3362296887350822,
          0.1764638134238552,
          -0.4029820646447852,
          -0.1776201547975757,
          -0.2368004170267496,
          -0.2197307148643497,
          -0.3208859403433017,
          -0.1671191498699349,
          -0.3798647444443674,
          -0.3833205261803776,
          0.058634053649177,
          -0.0743089399283886,
          7.312174635230574,
          -0.3424206519796385,
          -0.1734321502497876,
          -0.2806466163510713,
          -0.2388014386261322,
          -0.1807272590041678,
          0.6979381780319709,
          -0.204241684168645,
          -0.3237605928636151,
          -0.3242758607681996,
          -0.1745246731752975,
          -0.2827503041118936,
          0.1069103946944937,
          -0.3582854795681606,
          -0.2519175250244084,
          -0.2500772825080353,
          0.2621745614469726,
          -0.2639604594710312,
          0.2535215474252476,
          1.3574152345889856,
          -0.2152560199034845,
          -0.2657813310135478,
          0.486343219304618,
          -0.0850966352691064,
          -0.1251364382306142,
          -0.4145372401334277,
          -0.5057368082598307,
          -0.597529250910515,
          -0.595553002496244,
          -0.49691242947089,
          -0.7158635690033002,
          -0.9652918960375336,
          -0.6586382888335391,
          -0.9409582633887704,
          0.2636768461067497,
          -0.9618119803515348,
          0.3948567788922966,
          -0.7738449790011303,
          0.8495485770940107,
          1.7275613780169892,
          -0.5592845479021658,
          -0.0970915981106314,
          -0.0429939458660645,
          2.4802714370907744,
          -0.4534263719725175,
          -0.6128924342353698,
          3.464159598712221,
          2.8118687362366326,
          1.7650585435816797,
          -0.7108456165079339,
          -0.8214811581694719,
          -0.532519270465408,
          0.469112164962428,
          -0.3332360988471996,
          -0.6318987885500111,
          2.048435381419325,
          0.5829440736244392,
          -0.6391851305295844,
          -0.3885624620623785,
          0.2562959878986678,
          1.109150287269535,
          4.204470847082558,
          -0.5319521730943564,
          -0.0790218136966663,
          -0.512670862478599,
          0.0227549796382915,
          0.017737027142925,
          -0.7680966738309245,
          1.3577623377848302,
          -0.3403849626762147,
          0.6402209081006595,
          7.727967106808423,
          -0.9419635723647256,
          -0.0267801164846321,
          1.3893307581067074,
          1.6059533614640418,
          -0.6259958204604277,
          0.4906618650623919,
          2.5117023792620934,
          -0.3093480907244263,
          -0.2857425669570561,
          -0.321612591909338,
          -0.3070126172574023,
          -0.3256918333173447,
          -0.3360505986027104,
          0.0468821474303036,
          -0.2742696188599614,
          -0.3351343040629356,
          -0.2442487271209533,
          -0.1689512599974634,
          -0.0815845675745878,
          -0.042301459753551,
          -0.2667923158051632,
          -0.2560508359080313,
          -0.2418792926303595,
          -0.1944873373354497,
          0.4765622424070103,
          0.1162847645780219,
          -0.3336654897935461,
          -0.0486351906493002,
          -0.3108325793123865,
          -0.3326107387730641,
          -0.1133890661476122,
          -0.2660268865816308,
          -0.3059774591351336,
          -0.3285909291563043,
          -0.2668556661760529,
          -0.0988622383156728,
          13.479399329963131,
          -0.3379413132802927,
          -0.1401216164698233,
          -0.1490540187652617,
          -0.2733167509101884,
          -0.3073332876914931,
          -0.1845191238211355,
          -0.3121080769860716,
          -0.0015149235429479,
          -0.3232662325185395,
          -0.2841287652408882,
          -0.3296861721664271,
          0.4372177435049052,
          -0.3296097598633953,
          0.0511168258308024,
          -0.330108725671227,
          -0.3082639503566243,
          0.0362497346665589,
          -0.2255466526797621,
          -0.2329619115568848,
          -0.2234240887066558,
          -0.2795897438214764,
          0.0274068066062946,
          1.2577081704799211,
          -0.2952536128463935,
          -0.1810818367738206,
          -0.2512048016101046,
          0.0676559676964421,
          0.3466625789140399,
          0.5275878045241895,
          -0.2964498603101192,
          1.0400809223098264,
          -0.0002528772460113,
          -0.3146579021699427,
          0.2729640167336817,
          0.9052121409508463,
          0.1678139502229486,
          -0.0073353104467735,
          0.4813938372982476,
          -0.2601712995652443,
          -0.0473957529978807,
          -0.2287472998298238,
          -0.212107019882402,
          0.0605597821982027,
          -0.3309131177880027,
          0.4071039263263694,
          0.2113812286307439,
          -0.3330859807894015,
          0.932537956038059,
          0.1468692011651607,
          -0.0130975230897237,
          -0.3387106704575797,
          0.1578297822544956,
          -0.0181308639663818,
          -0.2657409800435136,
          -0.2331755396174848,
          0.1769317234503376,
          -0.2510947832302869,
          -0.341309854680772,
          -0.1761310096820256,
          1.3862124975136767,
          -0.2796032959005393,
          -0.2146924518081171,
          -0.293658143922246,
          -0.2344820078778196,
          -0.31077975428137,
          -0.0670065292003794,
          0.4807887362092504,
          -0.2686289625137273,
          0.2542333875697244,
          0.2379506673567099,
          -0.1562864444224143,
          -0.1816044240779544,
          0.7775495634699238,
          -0.2819549387691419,
          -0.2857780774678057,
          0.0864691106452628,
          0.4452527995281446,
          -0.0977016571695079,
          -0.551756013349462,
          -0.1458359912132365,
          -0.3843675576625452,
          -0.4784526622433097,
          -0.5255193512973094,
          -0.2302784587288354,
          0.3695321855462513,
          -0.4146229908570009,
          0.0027619939975066,
          -0.1354571828577391,
          0.3833263459536159,
          -0.3794436578845884,
          3.877364247213613,
          -0.0881853313129913,
          -0.4241208073404618,
          -0.5542662367656754,
          -0.27221608551413,
          -0.5826631391615885,
          -0.4793939960243897,
          -0.560143538706521,
          -0.4932002248135629,
          -0.567288020737282,
          -0.5021428957338229,
          -0.5003205700807065,
          -0.4936950284677204,
          -0.499487851735905,
          -0.5455649334815899,
          0.2715007201140361,
          -0.4127041181494148,
          -0.4036286950292589,
          -0.5578867513082907,
          0.1163737403447766,
          0.4566296970597681,
          0.5168026487580355,
          0.8556224680377896,
          -0.048118303708048,
          -0.5589608372892666,
          -0.4651895106355287,
          -0.4515884443371037,
          -0.5510198420591302,
          -0.5662742766653497,
          -0.4107611086782112,
          -0.3118124462285334,
          0.0847787167695532,
          -0.5626416937409255,
          -0.042808215712212,
          -0.5812873436353947,
          -0.5765444695845685,
          -0.2535100937106174,
          -0.5652484642116087,
          -0.1485393087383893,
          0.9673998203501344,
          -0.3449642910570814,
          -0.4701616839407205,
          -0.53997963969725,
          -0.4237941365121184,
          -0.5215138194170229,
          -0.4773225711202847,
          -0.5302849350841717,
          -0.5235059908423286,
          -0.5677190874797232,
          -0.5458886227384113,
          -0.411866928726514,
          -0.2452057999867505,
          0.0074940942578941,
          -0.1387328773297797,
          4.311347277249848,
          0.1819511081864166,
          -0.1835517688671924,
          0.1989411723659437,
          0.2714677322812384,
          3.9614717237826422,
          -0.1419843076620086,
          -0.4397632873191558,
          0.3534705134030474,
          -0.1128743730565434,
          -0.2126358827064273,
          -0.2214943917362018,
          0.4409333934761682,
          -0.4068040723325914,
          -0.5197977315691025,
          -0.1860166589357911,
          0.2436826016046656,
          -0.4288847998850583,
          -0.3161771552898673,
          -0.3585986879934375,
          0.3058411307721077,
          1.631370027331622,
          -0.0105109246557617,
          0.1758494625049217,
          -0.3096822394765574,
          -0.1526800635197071,
          -0.3357314201773404,
          -0.091822503727714,
          1.1047257068731695,
          -0.1161456655166417,
          -0.3041625541416374,
          0.2310959711737954,
          0.4356143156327296,
          -0.2296259468859543,
          0.1466819277286351,
          -0.533307950945902,
          -0.1611691369711098,
          -0.4771934672891333,
          -0.4268529042040137,
          1.8518813571510369,
          -0.2520999445702364,
          -0.468906987541999,
          0.2513379565564039,
          -0.2114445733499622,
          -0.3299362362673452,
          0.677203406575032,
          -0.3428422072850098,
          -0.7170047893222227,
          2.806988763350561,
          0.4778480158248154,
          0.3315856098853341,
          -0.0154223036336836,
          0.9149923682995176,
          -0.1683193580767379,
          -0.6171217357791468,
          -0.3734563710943537,
          -0.2359611792488795,
          -0.530950289143455,
          0.1249321057811873,
          0.0688061387973903,
          0.2592995347606914,
          -0.3303469526032807,
          -0.6271053020988089,
          -0.2660066589007743,
          -0.1542444251798724,
          1.2424912558616006,
          -0.4163446346353076,
          -0.4421881702349394,
          -0.5933317818591922,
          -0.1192071623681465,
          -0.5659085680444239,
          -0.6870856839275389,
          -0.1929781350150174,
          -0.3871521812195865,
          -0.6412276253421285,
          0.8059313843264989,
          0.0268498854033669,
          -0.084485835199448,
          -0.2009081196550023,
          -0.1996917674293472,
          0.7991703615657151,
          -0.3605819936409918,
          2.002063728827798,
          -0.6220029414639183,
          -0.0724802807644112,
          -0.140911941044121,
          -0.5079501743310687,
          0.3345554049297905,
          -0.6461720181555055,
          -0.6497736844860166,
          1.6203502849222324,
          -0.1292381190342628,
          0.2863594225859784,
          -0.4267073237266024,
          -0.2147776943839001,
          -0.2472558784871049,
          -0.8694662725312171,
          -0.3906665881352352,
          0.2233869801833502,
          -0.4050913254367231,
          -0.5549199187758553,
          -0.885184317749507,
          -0.8760763338167173,
          -0.278416491535798,
          -0.3332756461763027,
          0.3107159040318437,
          1.642995768160635,
          0.9965948272311748,
          0.0380004821491027,
          -0.3441607190421544,
          -0.0495735574142956,
          -0.6183500604211011,
          1.0698812007810254,
          -0.8399120902478894,
          1.529956947244355,
          -0.9656371007535572,
          0.2544086315493336,
          -0.8661297961224101,
          0.0709233929089882,
          -0.8177742709438283,
          -0.3107701532998842,
          0.2599317981516361,
          -0.6440243189540231,
          -0.2205482189741557,
          -0.4267502015346865,
          -0.5385874716669152,
          -0.9061836390619692,
          -0.0792535227618511,
          -0.6223654428560597,
          0.6790232295207999,
          1.6049107526969162,
          0.5034010449980683,
          -0.8351645858749904,
          -0.6278789338380368,
          -0.7663660875526455,
          -0.8031157061511482,
          -0.930874209528496,
          -0.7927386033523696,
          -0.0687796637598206,
          -0.4838799017448387,
          -0.5355122370068887,
          -0.1597837107285029,
          -0.3075707481790176,
          3.461367025422819,
          1.2532245303232683,
          -0.6636932424717701,
          -0.0262956275152484,
          3.4958464209723523,
          0.4078043035816902,
          -0.5085978864689533,
          -0.3193937094248416,
          -0.4446381386094928,
          0.1254543194976886,
          -0.2640972870773769,
          -0.0066992691975185,
          -0.4491863792923211,
          -0.4491863792923211,
          -0.3666583785054289,
          0.3798780425798705,
          1.642877030362106,
          1.4218417916818575,
          -0.1608418077588167,
          -0.3829764939323701,
          0.0683872080294281,
          -0.41396934011205,
          -0.3258746630695842,
          -0.4062732076589181,
          -0.4491863792923211,
          -0.2907849283359063,
          -0.353777483136503,
          -0.2257902217843446,
          -0.0500753660912602,
          0.7680987390314621,
          0.3005326529578072,
          -0.2135805680429098,
          -0.3955217684875505,
          -0.4419878914940534,
          1.5282220165077045,
          -0.3185257245617064,
          -0.1343393366044228,
          -0.4396616920608511,
          -0.1145608548564493,
          -0.4372081881810558,
          -0.4312248791911773,
          4.231890706990191,
          2.101797987198935,
          -0.1192363999858708,
          -0.4257276417246545,
          0.5437420116082825,
          -0.3661838801135816,
          1.1295507823039652,
          -0.3997112420936162,
          0.1002364659407347,
          0.0434123902341521,
          0.5620738519176974,
          -0.0167216010838526,
          -0.4452746608424586,
          -0.4175685840111839,
          4.693184155786256,
          -0.4034377904393433,
          0.4601492827226113,
          -0.2690505873630016,
          0.1686683925503118,
          -0.3572494225890436
         ]
        }
       ],
       "layout": {
        "coloraxis": {
         "cmax": 30,
         "cmin": -2,
         "colorbar": {
          "title": {
           "text": "sum of Expression Level"
          }
         },
         "colorscale": [
          [
           0,
           "rgb(247,251,255)"
          ],
          [
           0.125,
           "rgb(222,235,247)"
          ],
          [
           0.25,
           "rgb(198,219,239)"
          ],
          [
           0.375,
           "rgb(158,202,225)"
          ],
          [
           0.5,
           "rgb(107,174,214)"
          ],
          [
           0.625,
           "rgb(66,146,198)"
          ],
          [
           0.75,
           "rgb(33,113,181)"
          ],
          [
           0.875,
           "rgb(8,81,156)"
          ],
          [
           1,
           "rgb(8,48,107)"
          ]
         ]
        },
        "legend": {
         "tracegroupgap": 0
        },
        "template": {
         "data": {
          "bar": [
           {
            "error_x": {
             "color": "#2a3f5f"
            },
            "error_y": {
             "color": "#2a3f5f"
            },
            "marker": {
             "line": {
              "color": "#E5ECF6",
              "width": 0.5
             },
             "pattern": {
              "fillmode": "overlay",
              "size": 10,
              "solidity": 0.2
             }
            },
            "type": "bar"
           }
          ],
          "barpolar": [
           {
            "marker": {
             "line": {
              "color": "#E5ECF6",
              "width": 0.5
             },
             "pattern": {
              "fillmode": "overlay",
              "size": 10,
              "solidity": 0.2
             }
            },
            "type": "barpolar"
           }
          ],
          "carpet": [
           {
            "aaxis": {
             "endlinecolor": "#2a3f5f",
             "gridcolor": "white",
             "linecolor": "white",
             "minorgridcolor": "white",
             "startlinecolor": "#2a3f5f"
            },
            "baxis": {
             "endlinecolor": "#2a3f5f",
             "gridcolor": "white",
             "linecolor": "white",
             "minorgridcolor": "white",
             "startlinecolor": "#2a3f5f"
            },
            "type": "carpet"
           }
          ],
          "choropleth": [
           {
            "colorbar": {
             "outlinewidth": 0,
             "ticks": ""
            },
            "type": "choropleth"
           }
          ],
          "contour": [
           {
            "colorbar": {
             "outlinewidth": 0,
             "ticks": ""
            },
            "colorscale": [
             [
              0,
              "#0d0887"
             ],
             [
              0.1111111111111111,
              "#46039f"
             ],
             [
              0.2222222222222222,
              "#7201a8"
             ],
             [
              0.3333333333333333,
              "#9c179e"
             ],
             [
              0.4444444444444444,
              "#bd3786"
             ],
             [
              0.5555555555555556,
              "#d8576b"
             ],
             [
              0.6666666666666666,
              "#ed7953"
             ],
             [
              0.7777777777777778,
              "#fb9f3a"
             ],
             [
              0.8888888888888888,
              "#fdca26"
             ],
             [
              1,
              "#f0f921"
             ]
            ],
            "type": "contour"
           }
          ],
          "contourcarpet": [
           {
            "colorbar": {
             "outlinewidth": 0,
             "ticks": ""
            },
            "type": "contourcarpet"
           }
          ],
          "heatmap": [
           {
            "colorbar": {
             "outlinewidth": 0,
             "ticks": ""
            },
            "colorscale": [
             [
              0,
              "#0d0887"
             ],
             [
              0.1111111111111111,
              "#46039f"
             ],
             [
              0.2222222222222222,
              "#7201a8"
             ],
             [
              0.3333333333333333,
              "#9c179e"
             ],
             [
              0.4444444444444444,
              "#bd3786"
             ],
             [
              0.5555555555555556,
              "#d8576b"
             ],
             [
              0.6666666666666666,
              "#ed7953"
             ],
             [
              0.7777777777777778,
              "#fb9f3a"
             ],
             [
              0.8888888888888888,
              "#fdca26"
             ],
             [
              1,
              "#f0f921"
             ]
            ],
            "type": "heatmap"
           }
          ],
          "heatmapgl": [
           {
            "colorbar": {
             "outlinewidth": 0,
             "ticks": ""
            },
            "colorscale": [
             [
              0,
              "#0d0887"
             ],
             [
              0.1111111111111111,
              "#46039f"
             ],
             [
              0.2222222222222222,
              "#7201a8"
             ],
             [
              0.3333333333333333,
              "#9c179e"
             ],
             [
              0.4444444444444444,
              "#bd3786"
             ],
             [
              0.5555555555555556,
              "#d8576b"
             ],
             [
              0.6666666666666666,
              "#ed7953"
             ],
             [
              0.7777777777777778,
              "#fb9f3a"
             ],
             [
              0.8888888888888888,
              "#fdca26"
             ],
             [
              1,
              "#f0f921"
             ]
            ],
            "type": "heatmapgl"
           }
          ],
          "histogram": [
           {
            "marker": {
             "pattern": {
              "fillmode": "overlay",
              "size": 10,
              "solidity": 0.2
             }
            },
            "type": "histogram"
           }
          ],
          "histogram2d": [
           {
            "colorbar": {
             "outlinewidth": 0,
             "ticks": ""
            },
            "colorscale": [
             [
              0,
              "#0d0887"
             ],
             [
              0.1111111111111111,
              "#46039f"
             ],
             [
              0.2222222222222222,
              "#7201a8"
             ],
             [
              0.3333333333333333,
              "#9c179e"
             ],
             [
              0.4444444444444444,
              "#bd3786"
             ],
             [
              0.5555555555555556,
              "#d8576b"
             ],
             [
              0.6666666666666666,
              "#ed7953"
             ],
             [
              0.7777777777777778,
              "#fb9f3a"
             ],
             [
              0.8888888888888888,
              "#fdca26"
             ],
             [
              1,
              "#f0f921"
             ]
            ],
            "type": "histogram2d"
           }
          ],
          "histogram2dcontour": [
           {
            "colorbar": {
             "outlinewidth": 0,
             "ticks": ""
            },
            "colorscale": [
             [
              0,
              "#0d0887"
             ],
             [
              0.1111111111111111,
              "#46039f"
             ],
             [
              0.2222222222222222,
              "#7201a8"
             ],
             [
              0.3333333333333333,
              "#9c179e"
             ],
             [
              0.4444444444444444,
              "#bd3786"
             ],
             [
              0.5555555555555556,
              "#d8576b"
             ],
             [
              0.6666666666666666,
              "#ed7953"
             ],
             [
              0.7777777777777778,
              "#fb9f3a"
             ],
             [
              0.8888888888888888,
              "#fdca26"
             ],
             [
              1,
              "#f0f921"
             ]
            ],
            "type": "histogram2dcontour"
           }
          ],
          "mesh3d": [
           {
            "colorbar": {
             "outlinewidth": 0,
             "ticks": ""
            },
            "type": "mesh3d"
           }
          ],
          "parcoords": [
           {
            "line": {
             "colorbar": {
              "outlinewidth": 0,
              "ticks": ""
             }
            },
            "type": "parcoords"
           }
          ],
          "pie": [
           {
            "automargin": true,
            "type": "pie"
           }
          ],
          "scatter": [
           {
            "fillpattern": {
             "fillmode": "overlay",
             "size": 10,
             "solidity": 0.2
            },
            "type": "scatter"
           }
          ],
          "scatter3d": [
           {
            "line": {
             "colorbar": {
              "outlinewidth": 0,
              "ticks": ""
             }
            },
            "marker": {
             "colorbar": {
              "outlinewidth": 0,
              "ticks": ""
             }
            },
            "type": "scatter3d"
           }
          ],
          "scattercarpet": [
           {
            "marker": {
             "colorbar": {
              "outlinewidth": 0,
              "ticks": ""
             }
            },
            "type": "scattercarpet"
           }
          ],
          "scattergeo": [
           {
            "marker": {
             "colorbar": {
              "outlinewidth": 0,
              "ticks": ""
             }
            },
            "type": "scattergeo"
           }
          ],
          "scattergl": [
           {
            "marker": {
             "colorbar": {
              "outlinewidth": 0,
              "ticks": ""
             }
            },
            "type": "scattergl"
           }
          ],
          "scattermapbox": [
           {
            "marker": {
             "colorbar": {
              "outlinewidth": 0,
              "ticks": ""
             }
            },
            "type": "scattermapbox"
           }
          ],
          "scatterpolar": [
           {
            "marker": {
             "colorbar": {
              "outlinewidth": 0,
              "ticks": ""
             }
            },
            "type": "scatterpolar"
           }
          ],
          "scatterpolargl": [
           {
            "marker": {
             "colorbar": {
              "outlinewidth": 0,
              "ticks": ""
             }
            },
            "type": "scatterpolargl"
           }
          ],
          "scatterternary": [
           {
            "marker": {
             "colorbar": {
              "outlinewidth": 0,
              "ticks": ""
             }
            },
            "type": "scatterternary"
           }
          ],
          "surface": [
           {
            "colorbar": {
             "outlinewidth": 0,
             "ticks": ""
            },
            "colorscale": [
             [
              0,
              "#0d0887"
             ],
             [
              0.1111111111111111,
              "#46039f"
             ],
             [
              0.2222222222222222,
              "#7201a8"
             ],
             [
              0.3333333333333333,
              "#9c179e"
             ],
             [
              0.4444444444444444,
              "#bd3786"
             ],
             [
              0.5555555555555556,
              "#d8576b"
             ],
             [
              0.6666666666666666,
              "#ed7953"
             ],
             [
              0.7777777777777778,
              "#fb9f3a"
             ],
             [
              0.8888888888888888,
              "#fdca26"
             ],
             [
              1,
              "#f0f921"
             ]
            ],
            "type": "surface"
           }
          ],
          "table": [
           {
            "cells": {
             "fill": {
              "color": "#EBF0F8"
             },
             "line": {
              "color": "white"
             }
            },
            "header": {
             "fill": {
              "color": "#C8D4E3"
             },
             "line": {
              "color": "white"
             }
            },
            "type": "table"
           }
          ]
         },
         "layout": {
          "annotationdefaults": {
           "arrowcolor": "#2a3f5f",
           "arrowhead": 0,
           "arrowwidth": 1
          },
          "autotypenumbers": "strict",
          "coloraxis": {
           "colorbar": {
            "outlinewidth": 0,
            "ticks": ""
           }
          },
          "colorscale": {
           "diverging": [
            [
             0,
             "#8e0152"
            ],
            [
             0.1,
             "#c51b7d"
            ],
            [
             0.2,
             "#de77ae"
            ],
            [
             0.3,
             "#f1b6da"
            ],
            [
             0.4,
             "#fde0ef"
            ],
            [
             0.5,
             "#f7f7f7"
            ],
            [
             0.6,
             "#e6f5d0"
            ],
            [
             0.7,
             "#b8e186"
            ],
            [
             0.8,
             "#7fbc41"
            ],
            [
             0.9,
             "#4d9221"
            ],
            [
             1,
             "#276419"
            ]
           ],
           "sequential": [
            [
             0,
             "#0d0887"
            ],
            [
             0.1111111111111111,
             "#46039f"
            ],
            [
             0.2222222222222222,
             "#7201a8"
            ],
            [
             0.3333333333333333,
             "#9c179e"
            ],
            [
             0.4444444444444444,
             "#bd3786"
            ],
            [
             0.5555555555555556,
             "#d8576b"
            ],
            [
             0.6666666666666666,
             "#ed7953"
            ],
            [
             0.7777777777777778,
             "#fb9f3a"
            ],
            [
             0.8888888888888888,
             "#fdca26"
            ],
            [
             1,
             "#f0f921"
            ]
           ],
           "sequentialminus": [
            [
             0,
             "#0d0887"
            ],
            [
             0.1111111111111111,
             "#46039f"
            ],
            [
             0.2222222222222222,
             "#7201a8"
            ],
            [
             0.3333333333333333,
             "#9c179e"
            ],
            [
             0.4444444444444444,
             "#bd3786"
            ],
            [
             0.5555555555555556,
             "#d8576b"
            ],
            [
             0.6666666666666666,
             "#ed7953"
            ],
            [
             0.7777777777777778,
             "#fb9f3a"
            ],
            [
             0.8888888888888888,
             "#fdca26"
            ],
            [
             1,
             "#f0f921"
            ]
           ]
          },
          "colorway": [
           "#636efa",
           "#EF553B",
           "#00cc96",
           "#ab63fa",
           "#FFA15A",
           "#19d3f3",
           "#FF6692",
           "#B6E880",
           "#FF97FF",
           "#FECB52"
          ],
          "font": {
           "color": "#2a3f5f"
          },
          "geo": {
           "bgcolor": "white",
           "lakecolor": "white",
           "landcolor": "#E5ECF6",
           "showlakes": true,
           "showland": true,
           "subunitcolor": "white"
          },
          "hoverlabel": {
           "align": "left"
          },
          "hovermode": "closest",
          "mapbox": {
           "style": "light"
          },
          "paper_bgcolor": "white",
          "plot_bgcolor": "#E5ECF6",
          "polar": {
           "angularaxis": {
            "gridcolor": "white",
            "linecolor": "white",
            "ticks": ""
           },
           "bgcolor": "#E5ECF6",
           "radialaxis": {
            "gridcolor": "white",
            "linecolor": "white",
            "ticks": ""
           }
          },
          "scene": {
           "xaxis": {
            "backgroundcolor": "#E5ECF6",
            "gridcolor": "white",
            "gridwidth": 2,
            "linecolor": "white",
            "showbackground": true,
            "ticks": "",
            "zerolinecolor": "white"
           },
           "yaxis": {
            "backgroundcolor": "#E5ECF6",
            "gridcolor": "white",
            "gridwidth": 2,
            "linecolor": "white",
            "showbackground": true,
            "ticks": "",
            "zerolinecolor": "white"
           },
           "zaxis": {
            "backgroundcolor": "#E5ECF6",
            "gridcolor": "white",
            "gridwidth": 2,
            "linecolor": "white",
            "showbackground": true,
            "ticks": "",
            "zerolinecolor": "white"
           }
          },
          "shapedefaults": {
           "line": {
            "color": "#2a3f5f"
           }
          },
          "ternary": {
           "aaxis": {
            "gridcolor": "white",
            "linecolor": "white",
            "ticks": ""
           },
           "baxis": {
            "gridcolor": "white",
            "linecolor": "white",
            "ticks": ""
           },
           "bgcolor": "#E5ECF6",
           "caxis": {
            "gridcolor": "white",
            "linecolor": "white",
            "ticks": ""
           }
          },
          "title": {
           "x": 0.05
          },
          "xaxis": {
           "automargin": true,
           "gridcolor": "white",
           "linecolor": "white",
           "ticks": "",
           "title": {
            "standoff": 15
           },
           "zerolinecolor": "white",
           "zerolinewidth": 2
          },
          "yaxis": {
           "automargin": true,
           "gridcolor": "white",
           "linecolor": "white",
           "ticks": "",
           "title": {
            "standoff": 15
           },
           "zerolinecolor": "white",
           "zerolinewidth": 2
          }
         }
        },
        "title": {
         "text": "Heatmap of Gene Expression Levels"
        },
        "xaxis": {
         "anchor": "y",
         "domain": [
          0,
          1
         ],
         "title": {
          "text": "Gene"
         }
        },
        "yaxis": {
         "anchor": "x",
         "domain": [
          0,
          1
         ],
         "title": {
          "text": "Case"
         }
        }
       }
      },
      "text/html": [
       "<div>                            <div id=\"7dffe0cd-52d5-493d-b411-3062a1a108bb\" class=\"plotly-graph-div\" style=\"height:525px; width:100%;\"></div>            <script type=\"text/javascript\">                require([\"plotly\"], function(Plotly) {                    window.PLOTLYENV=window.PLOTLYENV || {};                                    if (document.getElementById(\"7dffe0cd-52d5-493d-b411-3062a1a108bb\")) {                    Plotly.newPlot(                        \"7dffe0cd-52d5-493d-b411-3062a1a108bb\",                        [{\"coloraxis\":\"coloraxis\",\"histfunc\":\"sum\",\"hovertemplate\":\"Gene=%{x}\\u003cbr\\u003eCase=%{y}\\u003cbr\\u003esum of Expression Level=%{z}\\u003cextra\\u003e\\u003c\\u002fextra\\u003e\",\"name\":\"\",\"x\":[\"ABCC3\",\"ABCC3\",\"ABCC3\",\"ABCC3\",\"ABCC3\",\"ABCC3\",\"ABCC3\",\"ABCC3\",\"ABCC3\",\"ABCC3\",\"ABCC3\",\"ABCC3\",\"ABCC3\",\"ABCC3\",\"ABCC3\",\"ABCC3\",\"ABCC3\",\"ABCC3\",\"ABCC3\",\"ABCC3\",\"ABCC3\",\"ABCC3\",\"ABCC3\",\"ABCC3\",\"ABCC3\",\"ABCC3\",\"ABCC3\",\"ABCC3\",\"ABCC3\",\"ABCC3\",\"ABCC3\",\"ABCC3\",\"ABCC3\",\"ABCC3\",\"ABCC3\",\"ABCC3\",\"ABCC3\",\"ABCC3\",\"ABCC3\",\"ABCC3\",\"ABCC3\",\"ABCC3\",\"ABCC3\",\"ABCC3\",\"ABCC3\",\"ABCC3\",\"ABCC3\",\"ABCC3\",\"ABCC3\",\"ABCC3\",\"ABCC3\",\"ABCC3\",\"ABCC3\",\"ABCC3\",\"ACKR3\",\"ACKR3\",\"ACKR3\",\"ACKR3\",\"ACKR3\",\"ACKR3\",\"ACKR3\",\"ACKR3\",\"ACKR3\",\"ACKR3\",\"ACKR3\",\"ACKR3\",\"ACKR3\",\"ACKR3\",\"ACKR3\",\"ACKR3\",\"ACKR3\",\"ACKR3\",\"ACKR3\",\"ACKR3\",\"ACKR3\",\"ACKR3\",\"ACKR3\",\"ACKR3\",\"ACKR3\",\"ACKR3\",\"ACKR3\",\"ACKR3\",\"ACKR3\",\"ACKR3\",\"ACKR3\",\"ACKR3\",\"ACKR3\",\"ACKR3\",\"ACKR3\",\"ACKR3\",\"ACKR3\",\"ACKR3\",\"ACKR3\",\"ACKR3\",\"ACKR3\",\"ACKR3\",\"ACKR3\",\"ACKR3\",\"ACKR3\",\"ACKR3\",\"ACKR3\",\"ACKR3\",\"ACKR3\",\"ACKR3\",\"ACKR3\",\"ACKR3\",\"ACKR3\",\"ACKR3\",\"ANO1\",\"ANO1\",\"ANO1\",\"ANO1\",\"ANO1\",\"ANO1\",\"ANO1\",\"ANO1\",\"ANO1\",\"ANO1\",\"ANO1\",\"ANO1\",\"ANO1\",\"ANO1\",\"ANO1\",\"ANO1\",\"ANO1\",\"ANO1\",\"ANO1\",\"ANO1\",\"ANO1\",\"ANO1\",\"ANO1\",\"ANO1\",\"ANO1\",\"ANO1\",\"ANO1\",\"ANO1\",\"ANO1\",\"ANO1\",\"ANO1\",\"ANO1\",\"ANO1\",\"ANO1\",\"ANO1\",\"ANO1\",\"ANO1\",\"ANO1\",\"ANO1\",\"ANO1\",\"ANO1\",\"ANO1\",\"ANO1\",\"ANO1\",\"ANO1\",\"ANO1\",\"ANO1\",\"ANO1\",\"ANO1\",\"ANO1\",\"ANO1\",\"ANO1\",\"ANO1\",\"ANO1\",\"APOC1\",\"APOC1\",\"APOC1\",\"APOC1\",\"APOC1\",\"APOC1\",\"APOC1\",\"APOC1\",\"APOC1\",\"APOC1\",\"APOC1\",\"APOC1\",\"APOC1\",\"APOC1\",\"APOC1\",\"APOC1\",\"APOC1\",\"APOC1\",\"APOC1\",\"APOC1\",\"APOC1\",\"APOC1\",\"APOC1\",\"APOC1\",\"APOC1\",\"APOC1\",\"APOC1\",\"APOC1\",\"APOC1\",\"APOC1\",\"APOC1\",\"APOC1\",\"APOC1\",\"APOC1\",\"APOC1\",\"APOC1\",\"APOC1\",\"APOC1\",\"APOC1\",\"APOC1\",\"APOC1\",\"APOC1\",\"APOC1\",\"APOC1\",\"APOC1\",\"APOC1\",\"APOC1\",\"APOC1\",\"APOC1\",\"APOC1\",\"APOC1\",\"APOC1\",\"APOC1\",\"APOC1\",\"AQP3\",\"AQP3\",\"AQP3\",\"AQP3\",\"AQP3\",\"AQP3\",\"AQP3\",\"AQP3\",\"AQP3\",\"AQP3\",\"AQP3\",\"AQP3\",\"AQP3\",\"AQP3\",\"AQP3\",\"AQP3\",\"AQP3\",\"AQP3\",\"AQP3\",\"AQP3\",\"AQP3\",\"AQP3\",\"AQP3\",\"AQP3\",\"AQP3\",\"AQP3\",\"AQP3\",\"AQP3\",\"AQP3\",\"AQP3\",\"AQP3\",\"AQP3\",\"AQP3\",\"AQP3\",\"AQP3\",\"AQP3\",\"AQP3\",\"AQP3\",\"AQP3\",\"AQP3\",\"AQP3\",\"AQP3\",\"AQP3\",\"AQP3\",\"AQP3\",\"AQP3\",\"AQP3\",\"AQP3\",\"AQP3\",\"AQP3\",\"AQP3\",\"AQP3\",\"AQP3\",\"AQP3\",\"CA2\",\"CA2\",\"CA2\",\"CA2\",\"CA2\",\"CA2\",\"CA2\",\"CA2\",\"CA2\",\"CA2\",\"CA2\",\"CA2\",\"CA2\",\"CA2\",\"CA2\",\"CA2\",\"CA2\",\"CA2\",\"CA2\",\"CA2\",\"CA2\",\"CA2\",\"CA2\",\"CA2\",\"CA2\",\"CA2\",\"CA2\",\"CA2\",\"CA2\",\"CA2\",\"CA2\",\"CA2\",\"CA2\",\"CA2\",\"CA2\",\"CA2\",\"CA2\",\"CA2\",\"CA2\",\"CA2\",\"CA2\",\"CA2\",\"CA2\",\"CA2\",\"CA2\",\"CA2\",\"CA2\",\"CA2\",\"CA2\",\"CA2\",\"CA2\",\"CA2\",\"CA2\",\"CA2\",\"CLU\",\"CLU\",\"CLU\",\"CLU\",\"CLU\",\"CLU\",\"CLU\",\"CLU\",\"CLU\",\"CLU\",\"CLU\",\"CLU\",\"CLU\",\"CLU\",\"CLU\",\"CLU\",\"CLU\",\"CLU\",\"CLU\",\"CLU\",\"CLU\",\"CLU\",\"CLU\",\"CLU\",\"CLU\",\"CLU\",\"CLU\",\"CLU\",\"CLU\",\"CLU\",\"CLU\",\"CLU\",\"CLU\",\"CLU\",\"CLU\",\"CLU\",\"CLU\",\"CLU\",\"CLU\",\"CLU\",\"CLU\",\"CLU\",\"CLU\",\"CLU\",\"CLU\",\"CLU\",\"CLU\",\"CLU\",\"CLU\",\"CLU\",\"CLU\",\"CLU\",\"CLU\",\"CLU\",\"CTTN\",\"CTTN\",\"CTTN\",\"CTTN\",\"CTTN\",\"CTTN\",\"CTTN\",\"CTTN\",\"CTTN\",\"CTTN\",\"CTTN\",\"CTTN\",\"CTTN\",\"CTTN\",\"CTTN\",\"CTTN\",\"CTTN\",\"CTTN\",\"CTTN\",\"CTTN\",\"CTTN\",\"CTTN\",\"CTTN\",\"CTTN\",\"CTTN\",\"CTTN\",\"CTTN\",\"CTTN\",\"CTTN\",\"CTTN\",\"CTTN\",\"CTTN\",\"CTTN\",\"CTTN\",\"CTTN\",\"CTTN\",\"CTTN\",\"CTTN\",\"CTTN\",\"CTTN\",\"CTTN\",\"CTTN\",\"CTTN\",\"CTTN\",\"CTTN\",\"CTTN\",\"CTTN\",\"CTTN\",\"CTTN\",\"CTTN\",\"CTTN\",\"CTTN\",\"CTTN\",\"CTTN\",\"DUSP10\",\"DUSP10\",\"DUSP10\",\"DUSP10\",\"DUSP10\",\"DUSP10\",\"DUSP10\",\"DUSP10\",\"DUSP10\",\"DUSP10\",\"DUSP10\",\"DUSP10\",\"DUSP10\",\"DUSP10\",\"DUSP10\",\"DUSP10\",\"DUSP10\",\"DUSP10\",\"DUSP10\",\"DUSP10\",\"DUSP10\",\"DUSP10\",\"DUSP10\",\"DUSP10\",\"DUSP10\",\"DUSP10\",\"DUSP10\",\"DUSP10\",\"DUSP10\",\"DUSP10\",\"DUSP10\",\"DUSP10\",\"DUSP10\",\"DUSP10\",\"DUSP10\",\"DUSP10\",\"DUSP10\",\"DUSP10\",\"DUSP10\",\"DUSP10\",\"DUSP10\",\"DUSP10\",\"DUSP10\",\"DUSP10\",\"DUSP10\",\"DUSP10\",\"DUSP10\",\"DUSP10\",\"DUSP10\",\"DUSP10\",\"DUSP10\",\"DUSP10\",\"DUSP10\",\"DUSP10\",\"ERBB2\",\"ERBB2\",\"ERBB2\",\"ERBB2\",\"ERBB2\",\"ERBB2\",\"ERBB2\",\"ERBB2\",\"ERBB2\",\"ERBB2\",\"ERBB2\",\"ERBB2\",\"ERBB2\",\"ERBB2\",\"ERBB2\",\"ERBB2\",\"ERBB2\",\"ERBB2\",\"ERBB2\",\"ERBB2\",\"ERBB2\",\"ERBB2\",\"ERBB2\",\"ERBB2\",\"ERBB2\",\"ERBB2\",\"ERBB2\",\"ERBB2\",\"ERBB2\",\"ERBB2\",\"ERBB2\",\"ERBB2\",\"ERBB2\",\"ERBB2\",\"ERBB2\",\"ERBB2\",\"ERBB2\",\"ERBB2\",\"ERBB2\",\"ERBB2\",\"ERBB2\",\"ERBB2\",\"ERBB2\",\"ERBB2\",\"ERBB2\",\"ERBB2\",\"ERBB2\",\"ERBB2\",\"ERBB2\",\"ERBB2\",\"ERBB2\",\"ERBB2\",\"ERBB2\",\"ERBB2\",\"F2RL1\",\"F2RL1\",\"F2RL1\",\"F2RL1\",\"F2RL1\",\"F2RL1\",\"F2RL1\",\"F2RL1\",\"F2RL1\",\"F2RL1\",\"F2RL1\",\"F2RL1\",\"F2RL1\",\"F2RL1\",\"F2RL1\",\"F2RL1\",\"F2RL1\",\"F2RL1\",\"F2RL1\",\"F2RL1\",\"F2RL1\",\"F2RL1\",\"F2RL1\",\"F2RL1\",\"F2RL1\",\"F2RL1\",\"F2RL1\",\"F2RL1\",\"F2RL1\",\"F2RL1\",\"F2RL1\",\"F2RL1\",\"F2RL1\",\"F2RL1\",\"F2RL1\",\"F2RL1\",\"F2RL1\",\"F2RL1\",\"F2RL1\",\"F2RL1\",\"F2RL1\",\"F2RL1\",\"F2RL1\",\"F2RL1\",\"F2RL1\",\"F2RL1\",\"F2RL1\",\"F2RL1\",\"F2RL1\",\"F2RL1\",\"F2RL1\",\"F2RL1\",\"F2RL1\",\"F2RL1\",\"GAB2\",\"GAB2\",\"GAB2\",\"GAB2\",\"GAB2\",\"GAB2\",\"GAB2\",\"GAB2\",\"GAB2\",\"GAB2\",\"GAB2\",\"GAB2\",\"GAB2\",\"GAB2\",\"GAB2\",\"GAB2\",\"GAB2\",\"GAB2\",\"GAB2\",\"GAB2\",\"GAB2\",\"GAB2\",\"GAB2\",\"GAB2\",\"GAB2\",\"GAB2\",\"GAB2\",\"GAB2\",\"GAB2\",\"GAB2\",\"GAB2\",\"GAB2\",\"GAB2\",\"GAB2\",\"GAB2\",\"GAB2\",\"GAB2\",\"GAB2\",\"GAB2\",\"GAB2\",\"GAB2\",\"GAB2\",\"GAB2\",\"GAB2\",\"GAB2\",\"GAB2\",\"GAB2\",\"GAB2\",\"GAB2\",\"GAB2\",\"GAB2\",\"GAB2\",\"GAB2\",\"GAB2\",\"GATM\",\"GATM\",\"GATM\",\"GATM\",\"GATM\",\"GATM\",\"GATM\",\"GATM\",\"GATM\",\"GATM\",\"GATM\",\"GATM\",\"GATM\",\"GATM\",\"GATM\",\"GATM\",\"GATM\",\"GATM\",\"GATM\",\"GATM\",\"GATM\",\"GATM\",\"GATM\",\"GATM\",\"GATM\",\"GATM\",\"GATM\",\"GATM\",\"GATM\",\"GATM\",\"GATM\",\"GATM\",\"GATM\",\"GATM\",\"GATM\",\"GATM\",\"GATM\",\"GATM\",\"GATM\",\"GATM\",\"GATM\",\"GATM\",\"GATM\",\"GATM\",\"GATM\",\"GATM\",\"GATM\",\"GATM\",\"GATM\",\"GATM\",\"GATM\",\"GATM\",\"GATM\",\"GATM\",\"GRB7\",\"GRB7\",\"GRB7\",\"GRB7\",\"GRB7\",\"GRB7\",\"GRB7\",\"GRB7\",\"GRB7\",\"GRB7\",\"GRB7\",\"GRB7\",\"GRB7\",\"GRB7\",\"GRB7\",\"GRB7\",\"GRB7\",\"GRB7\",\"GRB7\",\"GRB7\",\"GRB7\",\"GRB7\",\"GRB7\",\"GRB7\",\"GRB7\",\"GRB7\",\"GRB7\",\"GRB7\",\"GRB7\",\"GRB7\",\"GRB7\",\"GRB7\",\"GRB7\",\"GRB7\",\"GRB7\",\"GRB7\",\"GRB7\",\"GRB7\",\"GRB7\",\"GRB7\",\"GRB7\",\"GRB7\",\"GRB7\",\"GRB7\",\"GRB7\",\"GRB7\",\"GRB7\",\"GRB7\",\"GRB7\",\"GRB7\",\"GRB7\",\"GRB7\",\"GRB7\",\"GRB7\",\"H2AW\",\"H2AW\",\"H2AW\",\"H2AW\",\"H2AW\",\"H2AW\",\"H2AW\",\"H2AW\",\"H2AW\",\"H2AW\",\"H2AW\",\"H2AW\",\"H2AW\",\"H2AW\",\"H2AW\",\"H2AW\",\"H2AW\",\"H2AW\",\"H2AW\",\"H2AW\",\"H2AW\",\"H2AW\",\"H2AW\",\"H2AW\",\"H2AW\",\"H2AW\",\"H2AW\",\"H2AW\",\"H2AW\",\"H2AW\",\"H2AW\",\"H2AW\",\"H2AW\",\"H2AW\",\"H2AW\",\"H2AW\",\"H2AW\",\"H2AW\",\"H2AW\",\"H2AW\",\"H2AW\",\"H2AW\",\"H2AW\",\"H2AW\",\"H2AW\",\"H2AW\",\"H2AW\",\"H2AW\",\"H2AW\",\"H2AW\",\"H2AW\",\"H2AW\",\"H2AW\",\"H2AW\",\"HOXB7\",\"HOXB7\",\"HOXB7\",\"HOXB7\",\"HOXB7\",\"HOXB7\",\"HOXB7\",\"HOXB7\",\"HOXB7\",\"HOXB7\",\"HOXB7\",\"HOXB7\",\"HOXB7\",\"HOXB7\",\"HOXB7\",\"HOXB7\",\"HOXB7\",\"HOXB7\",\"HOXB7\",\"HOXB7\",\"HOXB7\",\"HOXB7\",\"HOXB7\",\"HOXB7\",\"HOXB7\",\"HOXB7\",\"HOXB7\",\"HOXB7\",\"HOXB7\",\"HOXB7\",\"HOXB7\",\"HOXB7\",\"HOXB7\",\"HOXB7\",\"HOXB7\",\"HOXB7\",\"HOXB7\",\"HOXB7\",\"HOXB7\",\"HOXB7\",\"HOXB7\",\"HOXB7\",\"HOXB7\",\"HOXB7\",\"HOXB7\",\"HOXB7\",\"HOXB7\",\"HOXB7\",\"HOXB7\",\"HOXB7\",\"HOXB7\",\"HOXB7\",\"HOXB7\",\"HOXB7\",\"INHBB\",\"INHBB\",\"INHBB\",\"INHBB\",\"INHBB\",\"INHBB\",\"INHBB\",\"INHBB\",\"INHBB\",\"INHBB\",\"INHBB\",\"INHBB\",\"INHBB\",\"INHBB\",\"INHBB\",\"INHBB\",\"INHBB\",\"INHBB\",\"INHBB\",\"INHBB\",\"INHBB\",\"INHBB\",\"INHBB\",\"INHBB\",\"INHBB\",\"INHBB\",\"INHBB\",\"INHBB\",\"INHBB\",\"INHBB\",\"INHBB\",\"INHBB\",\"INHBB\",\"INHBB\",\"INHBB\",\"INHBB\",\"INHBB\",\"INHBB\",\"INHBB\",\"INHBB\",\"INHBB\",\"INHBB\",\"INHBB\",\"INHBB\",\"INHBB\",\"INHBB\",\"INHBB\",\"INHBB\",\"INHBB\",\"INHBB\",\"INHBB\",\"INHBB\",\"INHBB\",\"INHBB\",\"ITGA3\",\"ITGA3\",\"ITGA3\",\"ITGA3\",\"ITGA3\",\"ITGA3\",\"ITGA3\",\"ITGA3\",\"ITGA3\",\"ITGA3\",\"ITGA3\",\"ITGA3\",\"ITGA3\",\"ITGA3\",\"ITGA3\",\"ITGA3\",\"ITGA3\",\"ITGA3\",\"ITGA3\",\"ITGA3\",\"ITGA3\",\"ITGA3\",\"ITGA3\",\"ITGA3\",\"ITGA3\",\"ITGA3\",\"ITGA3\",\"ITGA3\",\"ITGA3\",\"ITGA3\",\"ITGA3\",\"ITGA3\",\"ITGA3\",\"ITGA3\",\"ITGA3\",\"ITGA3\",\"ITGA3\",\"ITGA3\",\"ITGA3\",\"ITGA3\",\"ITGA3\",\"ITGA3\",\"ITGA3\",\"ITGA3\",\"ITGA3\",\"ITGA3\",\"ITGA3\",\"ITGA3\",\"ITGA3\",\"ITGA3\",\"ITGA3\",\"ITGA3\",\"ITGA3\",\"ITGA3\",\"MGST1\",\"MGST1\",\"MGST1\",\"MGST1\",\"MGST1\",\"MGST1\",\"MGST1\",\"MGST1\",\"MGST1\",\"MGST1\",\"MGST1\",\"MGST1\",\"MGST1\",\"MGST1\",\"MGST1\",\"MGST1\",\"MGST1\",\"MGST1\",\"MGST1\",\"MGST1\",\"MGST1\",\"MGST1\",\"MGST1\",\"MGST1\",\"MGST1\",\"MGST1\",\"MGST1\",\"MGST1\",\"MGST1\",\"MGST1\",\"MGST1\",\"MGST1\",\"MGST1\",\"MGST1\",\"MGST1\",\"MGST1\",\"MGST1\",\"MGST1\",\"MGST1\",\"MGST1\",\"MGST1\",\"MGST1\",\"MGST1\",\"MGST1\",\"MGST1\",\"MGST1\",\"MGST1\",\"MGST1\",\"MGST1\",\"MGST1\",\"MGST1\",\"MGST1\",\"MGST1\",\"MGST1\",\"PEG10\",\"PEG10\",\"PEG10\",\"PEG10\",\"PEG10\",\"PEG10\",\"PEG10\",\"PEG10\",\"PEG10\",\"PEG10\",\"PEG10\",\"PEG10\",\"PEG10\",\"PEG10\",\"PEG10\",\"PEG10\",\"PEG10\",\"PEG10\",\"PEG10\",\"PEG10\",\"PEG10\",\"PEG10\",\"PEG10\",\"PEG10\",\"PEG10\",\"PEG10\",\"PEG10\",\"PEG10\",\"PEG10\",\"PEG10\",\"PEG10\",\"PEG10\",\"PEG10\",\"PEG10\",\"PEG10\",\"PEG10\",\"PEG10\",\"PEG10\",\"PEG10\",\"PEG10\",\"PEG10\",\"PEG10\",\"PEG10\",\"PEG10\",\"PEG10\",\"PEG10\",\"PEG10\",\"PEG10\",\"PEG10\",\"PEG10\",\"PEG10\",\"PEG10\",\"PEG10\",\"PEG10\",\"PRR15L\",\"PRR15L\",\"PRR15L\",\"PRR15L\",\"PRR15L\",\"PRR15L\",\"PRR15L\",\"PRR15L\",\"PRR15L\",\"PRR15L\",\"PRR15L\",\"PRR15L\",\"PRR15L\",\"PRR15L\",\"PRR15L\",\"PRR15L\",\"PRR15L\",\"PRR15L\",\"PRR15L\",\"PRR15L\",\"PRR15L\",\"PRR15L\",\"PRR15L\",\"PRR15L\",\"PRR15L\",\"PRR15L\",\"PRR15L\",\"PRR15L\",\"PRR15L\",\"PRR15L\",\"PRR15L\",\"PRR15L\",\"PRR15L\",\"PRR15L\",\"PRR15L\",\"PRR15L\",\"PRR15L\",\"PRR15L\",\"PRR15L\",\"PRR15L\",\"PRR15L\",\"PRR15L\",\"PRR15L\",\"PRR15L\",\"PRR15L\",\"PRR15L\",\"PRR15L\",\"PRR15L\",\"PRR15L\",\"PRR15L\",\"PRR15L\",\"PRR15L\",\"PRR15L\",\"PRR15L\",\"RAMP3\",\"RAMP3\",\"RAMP3\",\"RAMP3\",\"RAMP3\",\"RAMP3\",\"RAMP3\",\"RAMP3\",\"RAMP3\",\"RAMP3\",\"RAMP3\",\"RAMP3\",\"RAMP3\",\"RAMP3\",\"RAMP3\",\"RAMP3\",\"RAMP3\",\"RAMP3\",\"RAMP3\",\"RAMP3\",\"RAMP3\",\"RAMP3\",\"RAMP3\",\"RAMP3\",\"RAMP3\",\"RAMP3\",\"RAMP3\",\"RAMP3\",\"RAMP3\",\"RAMP3\",\"RAMP3\",\"RAMP3\",\"RAMP3\",\"RAMP3\",\"RAMP3\",\"RAMP3\",\"RAMP3\",\"RAMP3\",\"RAMP3\",\"RAMP3\",\"RAMP3\",\"RAMP3\",\"RAMP3\",\"RAMP3\",\"RAMP3\",\"RAMP3\",\"RAMP3\",\"RAMP3\",\"RAMP3\",\"RAMP3\",\"RAMP3\",\"RAMP3\",\"RAMP3\",\"RAMP3\",\"SCARA3\",\"SCARA3\",\"SCARA3\",\"SCARA3\",\"SCARA3\",\"SCARA3\",\"SCARA3\",\"SCARA3\",\"SCARA3\",\"SCARA3\",\"SCARA3\",\"SCARA3\",\"SCARA3\",\"SCARA3\",\"SCARA3\",\"SCARA3\",\"SCARA3\",\"SCARA3\",\"SCARA3\",\"SCARA3\",\"SCARA3\",\"SCARA3\",\"SCARA3\",\"SCARA3\",\"SCARA3\",\"SCARA3\",\"SCARA3\",\"SCARA3\",\"SCARA3\",\"SCARA3\",\"SCARA3\",\"SCARA3\",\"SCARA3\",\"SCARA3\",\"SCARA3\",\"SCARA3\",\"SCARA3\",\"SCARA3\",\"SCARA3\",\"SCARA3\",\"SCARA3\",\"SCARA3\",\"SCARA3\",\"SCARA3\",\"SCARA3\",\"SCARA3\",\"SCARA3\",\"SCARA3\",\"SCARA3\",\"SCARA3\",\"SCARA3\",\"SCARA3\",\"SCARA3\",\"SCARA3\",\"SERPINA1\",\"SERPINA1\",\"SERPINA1\",\"SERPINA1\",\"SERPINA1\",\"SERPINA1\",\"SERPINA1\",\"SERPINA1\",\"SERPINA1\",\"SERPINA1\",\"SERPINA1\",\"SERPINA1\",\"SERPINA1\",\"SERPINA1\",\"SERPINA1\",\"SERPINA1\",\"SERPINA1\",\"SERPINA1\",\"SERPINA1\",\"SERPINA1\",\"SERPINA1\",\"SERPINA1\",\"SERPINA1\",\"SERPINA1\",\"SERPINA1\",\"SERPINA1\",\"SERPINA1\",\"SERPINA1\",\"SERPINA1\",\"SERPINA1\",\"SERPINA1\",\"SERPINA1\",\"SERPINA1\",\"SERPINA1\",\"SERPINA1\",\"SERPINA1\",\"SERPINA1\",\"SERPINA1\",\"SERPINA1\",\"SERPINA1\",\"SERPINA1\",\"SERPINA1\",\"SERPINA1\",\"SERPINA1\",\"SERPINA1\",\"SERPINA1\",\"SERPINA1\",\"SERPINA1\",\"SERPINA1\",\"SERPINA1\",\"SERPINA1\",\"SERPINA1\",\"SERPINA1\",\"SERPINA1\",\"SERPINF2\",\"SERPINF2\",\"SERPINF2\",\"SERPINF2\",\"SERPINF2\",\"SERPINF2\",\"SERPINF2\",\"SERPINF2\",\"SERPINF2\",\"SERPINF2\",\"SERPINF2\",\"SERPINF2\",\"SERPINF2\",\"SERPINF2\",\"SERPINF2\",\"SERPINF2\",\"SERPINF2\",\"SERPINF2\",\"SERPINF2\",\"SERPINF2\",\"SERPINF2\",\"SERPINF2\",\"SERPINF2\",\"SERPINF2\",\"SERPINF2\",\"SERPINF2\",\"SERPINF2\",\"SERPINF2\",\"SERPINF2\",\"SERPINF2\",\"SERPINF2\",\"SERPINF2\",\"SERPINF2\",\"SERPINF2\",\"SERPINF2\",\"SERPINF2\",\"SERPINF2\",\"SERPINF2\",\"SERPINF2\",\"SERPINF2\",\"SERPINF2\",\"SERPINF2\",\"SERPINF2\",\"SERPINF2\",\"SERPINF2\",\"SERPINF2\",\"SERPINF2\",\"SERPINF2\",\"SERPINF2\",\"SERPINF2\",\"SERPINF2\",\"SERPINF2\",\"SERPINF2\",\"SERPINF2\",\"TMEM45B\",\"TMEM45B\",\"TMEM45B\",\"TMEM45B\",\"TMEM45B\",\"TMEM45B\",\"TMEM45B\",\"TMEM45B\",\"TMEM45B\",\"TMEM45B\",\"TMEM45B\",\"TMEM45B\",\"TMEM45B\",\"TMEM45B\",\"TMEM45B\",\"TMEM45B\",\"TMEM45B\",\"TMEM45B\",\"TMEM45B\",\"TMEM45B\",\"TMEM45B\",\"TMEM45B\",\"TMEM45B\",\"TMEM45B\",\"TMEM45B\",\"TMEM45B\",\"TMEM45B\",\"TMEM45B\",\"TMEM45B\",\"TMEM45B\",\"TMEM45B\",\"TMEM45B\",\"TMEM45B\",\"TMEM45B\",\"TMEM45B\",\"TMEM45B\",\"TMEM45B\",\"TMEM45B\",\"TMEM45B\",\"TMEM45B\",\"TMEM45B\",\"TMEM45B\",\"TMEM45B\",\"TMEM45B\",\"TMEM45B\",\"TMEM45B\",\"TMEM45B\",\"TMEM45B\",\"TMEM45B\",\"TMEM45B\",\"TMEM45B\",\"TMEM45B\",\"TMEM45B\",\"TMEM45B\",\"TSKU\",\"TSKU\",\"TSKU\",\"TSKU\",\"TSKU\",\"TSKU\",\"TSKU\",\"TSKU\",\"TSKU\",\"TSKU\",\"TSKU\",\"TSKU\",\"TSKU\",\"TSKU\",\"TSKU\",\"TSKU\",\"TSKU\",\"TSKU\",\"TSKU\",\"TSKU\",\"TSKU\",\"TSKU\",\"TSKU\",\"TSKU\",\"TSKU\",\"TSKU\",\"TSKU\",\"TSKU\",\"TSKU\",\"TSKU\",\"TSKU\",\"TSKU\",\"TSKU\",\"TSKU\",\"TSKU\",\"TSKU\",\"TSKU\",\"TSKU\",\"TSKU\",\"TSKU\",\"TSKU\",\"TSKU\",\"TSKU\",\"TSKU\",\"TSKU\",\"TSKU\",\"TSKU\",\"TSKU\",\"TSKU\",\"TSKU\",\"TSKU\",\"TSKU\",\"TSKU\",\"TSKU\",\"TSPAN12\",\"TSPAN12\",\"TSPAN12\",\"TSPAN12\",\"TSPAN12\",\"TSPAN12\",\"TSPAN12\",\"TSPAN12\",\"TSPAN12\",\"TSPAN12\",\"TSPAN12\",\"TSPAN12\",\"TSPAN12\",\"TSPAN12\",\"TSPAN12\",\"TSPAN12\",\"TSPAN12\",\"TSPAN12\",\"TSPAN12\",\"TSPAN12\",\"TSPAN12\",\"TSPAN12\",\"TSPAN12\",\"TSPAN12\",\"TSPAN12\",\"TSPAN12\",\"TSPAN12\",\"TSPAN12\",\"TSPAN12\",\"TSPAN12\",\"TSPAN12\",\"TSPAN12\",\"TSPAN12\",\"TSPAN12\",\"TSPAN12\",\"TSPAN12\",\"TSPAN12\",\"TSPAN12\",\"TSPAN12\",\"TSPAN12\",\"TSPAN12\",\"TSPAN12\",\"TSPAN12\",\"TSPAN12\",\"TSPAN12\",\"TSPAN12\",\"TSPAN12\",\"TSPAN12\",\"TSPAN12\",\"TSPAN12\",\"TSPAN12\",\"TSPAN12\",\"TSPAN12\",\"TSPAN12\",\"UCP2\",\"UCP2\",\"UCP2\",\"UCP2\",\"UCP2\",\"UCP2\",\"UCP2\",\"UCP2\",\"UCP2\",\"UCP2\",\"UCP2\",\"UCP2\",\"UCP2\",\"UCP2\",\"UCP2\",\"UCP2\",\"UCP2\",\"UCP2\",\"UCP2\",\"UCP2\",\"UCP2\",\"UCP2\",\"UCP2\",\"UCP2\",\"UCP2\",\"UCP2\",\"UCP2\",\"UCP2\",\"UCP2\",\"UCP2\",\"UCP2\",\"UCP2\",\"UCP2\",\"UCP2\",\"UCP2\",\"UCP2\",\"UCP2\",\"UCP2\",\"UCP2\",\"UCP2\",\"UCP2\",\"UCP2\",\"UCP2\",\"UCP2\",\"UCP2\",\"UCP2\",\"UCP2\",\"UCP2\",\"UCP2\",\"UCP2\",\"UCP2\",\"UCP2\",\"UCP2\",\"UCP2\",\"VSIG2\",\"VSIG2\",\"VSIG2\",\"VSIG2\",\"VSIG2\",\"VSIG2\",\"VSIG2\",\"VSIG2\",\"VSIG2\",\"VSIG2\",\"VSIG2\",\"VSIG2\",\"VSIG2\",\"VSIG2\",\"VSIG2\",\"VSIG2\",\"VSIG2\",\"VSIG2\",\"VSIG2\",\"VSIG2\",\"VSIG2\",\"VSIG2\",\"VSIG2\",\"VSIG2\",\"VSIG2\",\"VSIG2\",\"VSIG2\",\"VSIG2\",\"VSIG2\",\"VSIG2\",\"VSIG2\",\"VSIG2\",\"VSIG2\",\"VSIG2\",\"VSIG2\",\"VSIG2\",\"VSIG2\",\"VSIG2\",\"VSIG2\",\"VSIG2\",\"VSIG2\",\"VSIG2\",\"VSIG2\",\"VSIG2\",\"VSIG2\",\"VSIG2\",\"VSIG2\",\"VSIG2\",\"VSIG2\",\"VSIG2\",\"VSIG2\",\"VSIG2\",\"VSIG2\",\"VSIG2\"],\"xaxis\":\"x\",\"xbingroup\":\"x\",\"y\":[\"ER-B1PU\",\"MBCProject_1037\",\"MBCProject_1542\",\"MBCProject_1819\",\"MBCProject_3159\",\"MBCProject_4424\",\"MBCproject_0093\",\"MBCproject_0280\",\"TCGA-A1-A0SK\",\"TCGA-A2-A0CO\",\"TCGA-A2-A0CY\",\"TCGA-A2-A0EP\",\"TCGA-A2-A3XV\",\"TCGA-A2-A3XW\",\"TCGA-A2-A3Y0\",\"TCGA-A2-A4S1\",\"TCGA-A7-A56D\",\"TCGA-A7-A5ZV\",\"TCGA-A8-A08H\",\"TCGA-AC-A2QH\",\"TCGA-AC-A2QJ\",\"TCGA-AC-A62X\",\"TCGA-AN-A0FL\",\"TCGA-AO-A1KO\",\"TCGA-AO-A1KR\",\"TCGA-AQ-A54N\",\"TCGA-AR-A0TP\",\"TCGA-AR-A2LN\",\"TCGA-AR-A5QQ\",\"TCGA-B6-A0IA\",\"TCGA-B6-A1KF\",\"TCGA-BH-A0BO\",\"TCGA-BH-A0DL\",\"TCGA-BH-A1EN\",\"TCGA-BH-A208\",\"TCGA-BH-A42U\",\"TCGA-BH-A5IZ\",\"TCGA-D8-A27H\",\"TCGA-E2-A1LG\",\"TCGA-E2-A1LL\",\"TCGA-E2-A1LS\",\"TCGA-E2-A572\",\"TCGA-E2-A574\",\"TCGA-E9-A1ND\",\"TCGA-E9-A5FL\",\"TCGA-EW-A1P1\",\"TCGA-EW-A1PB\",\"TCGA-FA-A7DS\",\"TCGA-GM-A4E0\",\"TCGA-LL-A8F5\",\"TCGA-OL-A5RW\",\"TCGA-OL-A66P\",\"TCGA-OL-A6VQ\",\"TCGA-PL-A8LV\",\"ER-B1PU\",\"MBCProject_1037\",\"MBCProject_1542\",\"MBCProject_1819\",\"MBCProject_3159\",\"MBCProject_4424\",\"MBCproject_0093\",\"MBCproject_0280\",\"TCGA-A1-A0SK\",\"TCGA-A2-A0CO\",\"TCGA-A2-A0CY\",\"TCGA-A2-A0EP\",\"TCGA-A2-A3XV\",\"TCGA-A2-A3XW\",\"TCGA-A2-A3Y0\",\"TCGA-A2-A4S1\",\"TCGA-A7-A56D\",\"TCGA-A7-A5ZV\",\"TCGA-A8-A08H\",\"TCGA-AC-A2QH\",\"TCGA-AC-A2QJ\",\"TCGA-AC-A62X\",\"TCGA-AN-A0FL\",\"TCGA-AO-A1KO\",\"TCGA-AO-A1KR\",\"TCGA-AQ-A54N\",\"TCGA-AR-A0TP\",\"TCGA-AR-A2LN\",\"TCGA-AR-A5QQ\",\"TCGA-B6-A0IA\",\"TCGA-B6-A1KF\",\"TCGA-BH-A0BO\",\"TCGA-BH-A0DL\",\"TCGA-BH-A1EN\",\"TCGA-BH-A208\",\"TCGA-BH-A42U\",\"TCGA-BH-A5IZ\",\"TCGA-D8-A27H\",\"TCGA-E2-A1LG\",\"TCGA-E2-A1LL\",\"TCGA-E2-A1LS\",\"TCGA-E2-A572\",\"TCGA-E2-A574\",\"TCGA-E9-A1ND\",\"TCGA-E9-A5FL\",\"TCGA-EW-A1P1\",\"TCGA-EW-A1PB\",\"TCGA-FA-A7DS\",\"TCGA-GM-A4E0\",\"TCGA-LL-A8F5\",\"TCGA-OL-A5RW\",\"TCGA-OL-A66P\",\"TCGA-OL-A6VQ\",\"TCGA-PL-A8LV\",\"ER-B1PU\",\"MBCProject_1037\",\"MBCProject_1542\",\"MBCProject_1819\",\"MBCProject_3159\",\"MBCProject_4424\",\"MBCproject_0093\",\"MBCproject_0280\",\"TCGA-A1-A0SK\",\"TCGA-A2-A0CO\",\"TCGA-A2-A0CY\",\"TCGA-A2-A0EP\",\"TCGA-A2-A3XV\",\"TCGA-A2-A3XW\",\"TCGA-A2-A3Y0\",\"TCGA-A2-A4S1\",\"TCGA-A7-A56D\",\"TCGA-A7-A5ZV\",\"TCGA-A8-A08H\",\"TCGA-AC-A2QH\",\"TCGA-AC-A2QJ\",\"TCGA-AC-A62X\",\"TCGA-AN-A0FL\",\"TCGA-AO-A1KO\",\"TCGA-AO-A1KR\",\"TCGA-AQ-A54N\",\"TCGA-AR-A0TP\",\"TCGA-AR-A2LN\",\"TCGA-AR-A5QQ\",\"TCGA-B6-A0IA\",\"TCGA-B6-A1KF\",\"TCGA-BH-A0BO\",\"TCGA-BH-A0DL\",\"TCGA-BH-A1EN\",\"TCGA-BH-A208\",\"TCGA-BH-A42U\",\"TCGA-BH-A5IZ\",\"TCGA-D8-A27H\",\"TCGA-E2-A1LG\",\"TCGA-E2-A1LL\",\"TCGA-E2-A1LS\",\"TCGA-E2-A572\",\"TCGA-E2-A574\",\"TCGA-E9-A1ND\",\"TCGA-E9-A5FL\",\"TCGA-EW-A1P1\",\"TCGA-EW-A1PB\",\"TCGA-FA-A7DS\",\"TCGA-GM-A4E0\",\"TCGA-LL-A8F5\",\"TCGA-OL-A5RW\",\"TCGA-OL-A66P\",\"TCGA-OL-A6VQ\",\"TCGA-PL-A8LV\",\"ER-B1PU\",\"MBCProject_1037\",\"MBCProject_1542\",\"MBCProject_1819\",\"MBCProject_3159\",\"MBCProject_4424\",\"MBCproject_0093\",\"MBCproject_0280\",\"TCGA-A1-A0SK\",\"TCGA-A2-A0CO\",\"TCGA-A2-A0CY\",\"TCGA-A2-A0EP\",\"TCGA-A2-A3XV\",\"TCGA-A2-A3XW\",\"TCGA-A2-A3Y0\",\"TCGA-A2-A4S1\",\"TCGA-A7-A56D\",\"TCGA-A7-A5ZV\",\"TCGA-A8-A08H\",\"TCGA-AC-A2QH\",\"TCGA-AC-A2QJ\",\"TCGA-AC-A62X\",\"TCGA-AN-A0FL\",\"TCGA-AO-A1KO\",\"TCGA-AO-A1KR\",\"TCGA-AQ-A54N\",\"TCGA-AR-A0TP\",\"TCGA-AR-A2LN\",\"TCGA-AR-A5QQ\",\"TCGA-B6-A0IA\",\"TCGA-B6-A1KF\",\"TCGA-BH-A0BO\",\"TCGA-BH-A0DL\",\"TCGA-BH-A1EN\",\"TCGA-BH-A208\",\"TCGA-BH-A42U\",\"TCGA-BH-A5IZ\",\"TCGA-D8-A27H\",\"TCGA-E2-A1LG\",\"TCGA-E2-A1LL\",\"TCGA-E2-A1LS\",\"TCGA-E2-A572\",\"TCGA-E2-A574\",\"TCGA-E9-A1ND\",\"TCGA-E9-A5FL\",\"TCGA-EW-A1P1\",\"TCGA-EW-A1PB\",\"TCGA-FA-A7DS\",\"TCGA-GM-A4E0\",\"TCGA-LL-A8F5\",\"TCGA-OL-A5RW\",\"TCGA-OL-A66P\",\"TCGA-OL-A6VQ\",\"TCGA-PL-A8LV\",\"ER-B1PU\",\"MBCProject_1037\",\"MBCProject_1542\",\"MBCProject_1819\",\"MBCProject_3159\",\"MBCProject_4424\",\"MBCproject_0093\",\"MBCproject_0280\",\"TCGA-A1-A0SK\",\"TCGA-A2-A0CO\",\"TCGA-A2-A0CY\",\"TCGA-A2-A0EP\",\"TCGA-A2-A3XV\",\"TCGA-A2-A3XW\",\"TCGA-A2-A3Y0\",\"TCGA-A2-A4S1\",\"TCGA-A7-A56D\",\"TCGA-A7-A5ZV\",\"TCGA-A8-A08H\",\"TCGA-AC-A2QH\",\"TCGA-AC-A2QJ\",\"TCGA-AC-A62X\",\"TCGA-AN-A0FL\",\"TCGA-AO-A1KO\",\"TCGA-AO-A1KR\",\"TCGA-AQ-A54N\",\"TCGA-AR-A0TP\",\"TCGA-AR-A2LN\",\"TCGA-AR-A5QQ\",\"TCGA-B6-A0IA\",\"TCGA-B6-A1KF\",\"TCGA-BH-A0BO\",\"TCGA-BH-A0DL\",\"TCGA-BH-A1EN\",\"TCGA-BH-A208\",\"TCGA-BH-A42U\",\"TCGA-BH-A5IZ\",\"TCGA-D8-A27H\",\"TCGA-E2-A1LG\",\"TCGA-E2-A1LL\",\"TCGA-E2-A1LS\",\"TCGA-E2-A572\",\"TCGA-E2-A574\",\"TCGA-E9-A1ND\",\"TCGA-E9-A5FL\",\"TCGA-EW-A1P1\",\"TCGA-EW-A1PB\",\"TCGA-FA-A7DS\",\"TCGA-GM-A4E0\",\"TCGA-LL-A8F5\",\"TCGA-OL-A5RW\",\"TCGA-OL-A66P\",\"TCGA-OL-A6VQ\",\"TCGA-PL-A8LV\",\"ER-B1PU\",\"MBCProject_1037\",\"MBCProject_1542\",\"MBCProject_1819\",\"MBCProject_3159\",\"MBCProject_4424\",\"MBCproject_0093\",\"MBCproject_0280\",\"TCGA-A1-A0SK\",\"TCGA-A2-A0CO\",\"TCGA-A2-A0CY\",\"TCGA-A2-A0EP\",\"TCGA-A2-A3XV\",\"TCGA-A2-A3XW\",\"TCGA-A2-A3Y0\",\"TCGA-A2-A4S1\",\"TCGA-A7-A56D\",\"TCGA-A7-A5ZV\",\"TCGA-A8-A08H\",\"TCGA-AC-A2QH\",\"TCGA-AC-A2QJ\",\"TCGA-AC-A62X\",\"TCGA-AN-A0FL\",\"TCGA-AO-A1KO\",\"TCGA-AO-A1KR\",\"TCGA-AQ-A54N\",\"TCGA-AR-A0TP\",\"TCGA-AR-A2LN\",\"TCGA-AR-A5QQ\",\"TCGA-B6-A0IA\",\"TCGA-B6-A1KF\",\"TCGA-BH-A0BO\",\"TCGA-BH-A0DL\",\"TCGA-BH-A1EN\",\"TCGA-BH-A208\",\"TCGA-BH-A42U\",\"TCGA-BH-A5IZ\",\"TCGA-D8-A27H\",\"TCGA-E2-A1LG\",\"TCGA-E2-A1LL\",\"TCGA-E2-A1LS\",\"TCGA-E2-A572\",\"TCGA-E2-A574\",\"TCGA-E9-A1ND\",\"TCGA-E9-A5FL\",\"TCGA-EW-A1P1\",\"TCGA-EW-A1PB\",\"TCGA-FA-A7DS\",\"TCGA-GM-A4E0\",\"TCGA-LL-A8F5\",\"TCGA-OL-A5RW\",\"TCGA-OL-A66P\",\"TCGA-OL-A6VQ\",\"TCGA-PL-A8LV\",\"ER-B1PU\",\"MBCProject_1037\",\"MBCProject_1542\",\"MBCProject_1819\",\"MBCProject_3159\",\"MBCProject_4424\",\"MBCproject_0093\",\"MBCproject_0280\",\"TCGA-A1-A0SK\",\"TCGA-A2-A0CO\",\"TCGA-A2-A0CY\",\"TCGA-A2-A0EP\",\"TCGA-A2-A3XV\",\"TCGA-A2-A3XW\",\"TCGA-A2-A3Y0\",\"TCGA-A2-A4S1\",\"TCGA-A7-A56D\",\"TCGA-A7-A5ZV\",\"TCGA-A8-A08H\",\"TCGA-AC-A2QH\",\"TCGA-AC-A2QJ\",\"TCGA-AC-A62X\",\"TCGA-AN-A0FL\",\"TCGA-AO-A1KO\",\"TCGA-AO-A1KR\",\"TCGA-AQ-A54N\",\"TCGA-AR-A0TP\",\"TCGA-AR-A2LN\",\"TCGA-AR-A5QQ\",\"TCGA-B6-A0IA\",\"TCGA-B6-A1KF\",\"TCGA-BH-A0BO\",\"TCGA-BH-A0DL\",\"TCGA-BH-A1EN\",\"TCGA-BH-A208\",\"TCGA-BH-A42U\",\"TCGA-BH-A5IZ\",\"TCGA-D8-A27H\",\"TCGA-E2-A1LG\",\"TCGA-E2-A1LL\",\"TCGA-E2-A1LS\",\"TCGA-E2-A572\",\"TCGA-E2-A574\",\"TCGA-E9-A1ND\",\"TCGA-E9-A5FL\",\"TCGA-EW-A1P1\",\"TCGA-EW-A1PB\",\"TCGA-FA-A7DS\",\"TCGA-GM-A4E0\",\"TCGA-LL-A8F5\",\"TCGA-OL-A5RW\",\"TCGA-OL-A66P\",\"TCGA-OL-A6VQ\",\"TCGA-PL-A8LV\",\"ER-B1PU\",\"MBCProject_1037\",\"MBCProject_1542\",\"MBCProject_1819\",\"MBCProject_3159\",\"MBCProject_4424\",\"MBCproject_0093\",\"MBCproject_0280\",\"TCGA-A1-A0SK\",\"TCGA-A2-A0CO\",\"TCGA-A2-A0CY\",\"TCGA-A2-A0EP\",\"TCGA-A2-A3XV\",\"TCGA-A2-A3XW\",\"TCGA-A2-A3Y0\",\"TCGA-A2-A4S1\",\"TCGA-A7-A56D\",\"TCGA-A7-A5ZV\",\"TCGA-A8-A08H\",\"TCGA-AC-A2QH\",\"TCGA-AC-A2QJ\",\"TCGA-AC-A62X\",\"TCGA-AN-A0FL\",\"TCGA-AO-A1KO\",\"TCGA-AO-A1KR\",\"TCGA-AQ-A54N\",\"TCGA-AR-A0TP\",\"TCGA-AR-A2LN\",\"TCGA-AR-A5QQ\",\"TCGA-B6-A0IA\",\"TCGA-B6-A1KF\",\"TCGA-BH-A0BO\",\"TCGA-BH-A0DL\",\"TCGA-BH-A1EN\",\"TCGA-BH-A208\",\"TCGA-BH-A42U\",\"TCGA-BH-A5IZ\",\"TCGA-D8-A27H\",\"TCGA-E2-A1LG\",\"TCGA-E2-A1LL\",\"TCGA-E2-A1LS\",\"TCGA-E2-A572\",\"TCGA-E2-A574\",\"TCGA-E9-A1ND\",\"TCGA-E9-A5FL\",\"TCGA-EW-A1P1\",\"TCGA-EW-A1PB\",\"TCGA-FA-A7DS\",\"TCGA-GM-A4E0\",\"TCGA-LL-A8F5\",\"TCGA-OL-A5RW\",\"TCGA-OL-A66P\",\"TCGA-OL-A6VQ\",\"TCGA-PL-A8LV\",\"ER-B1PU\",\"MBCProject_1037\",\"MBCProject_1542\",\"MBCProject_1819\",\"MBCProject_3159\",\"MBCProject_4424\",\"MBCproject_0093\",\"MBCproject_0280\",\"TCGA-A1-A0SK\",\"TCGA-A2-A0CO\",\"TCGA-A2-A0CY\",\"TCGA-A2-A0EP\",\"TCGA-A2-A3XV\",\"TCGA-A2-A3XW\",\"TCGA-A2-A3Y0\",\"TCGA-A2-A4S1\",\"TCGA-A7-A56D\",\"TCGA-A7-A5ZV\",\"TCGA-A8-A08H\",\"TCGA-AC-A2QH\",\"TCGA-AC-A2QJ\",\"TCGA-AC-A62X\",\"TCGA-AN-A0FL\",\"TCGA-AO-A1KO\",\"TCGA-AO-A1KR\",\"TCGA-AQ-A54N\",\"TCGA-AR-A0TP\",\"TCGA-AR-A2LN\",\"TCGA-AR-A5QQ\",\"TCGA-B6-A0IA\",\"TCGA-B6-A1KF\",\"TCGA-BH-A0BO\",\"TCGA-BH-A0DL\",\"TCGA-BH-A1EN\",\"TCGA-BH-A208\",\"TCGA-BH-A42U\",\"TCGA-BH-A5IZ\",\"TCGA-D8-A27H\",\"TCGA-E2-A1LG\",\"TCGA-E2-A1LL\",\"TCGA-E2-A1LS\",\"TCGA-E2-A572\",\"TCGA-E2-A574\",\"TCGA-E9-A1ND\",\"TCGA-E9-A5FL\",\"TCGA-EW-A1P1\",\"TCGA-EW-A1PB\",\"TCGA-FA-A7DS\",\"TCGA-GM-A4E0\",\"TCGA-LL-A8F5\",\"TCGA-OL-A5RW\",\"TCGA-OL-A66P\",\"TCGA-OL-A6VQ\",\"TCGA-PL-A8LV\",\"ER-B1PU\",\"MBCProject_1037\",\"MBCProject_1542\",\"MBCProject_1819\",\"MBCProject_3159\",\"MBCProject_4424\",\"MBCproject_0093\",\"MBCproject_0280\",\"TCGA-A1-A0SK\",\"TCGA-A2-A0CO\",\"TCGA-A2-A0CY\",\"TCGA-A2-A0EP\",\"TCGA-A2-A3XV\",\"TCGA-A2-A3XW\",\"TCGA-A2-A3Y0\",\"TCGA-A2-A4S1\",\"TCGA-A7-A56D\",\"TCGA-A7-A5ZV\",\"TCGA-A8-A08H\",\"TCGA-AC-A2QH\",\"TCGA-AC-A2QJ\",\"TCGA-AC-A62X\",\"TCGA-AN-A0FL\",\"TCGA-AO-A1KO\",\"TCGA-AO-A1KR\",\"TCGA-AQ-A54N\",\"TCGA-AR-A0TP\",\"TCGA-AR-A2LN\",\"TCGA-AR-A5QQ\",\"TCGA-B6-A0IA\",\"TCGA-B6-A1KF\",\"TCGA-BH-A0BO\",\"TCGA-BH-A0DL\",\"TCGA-BH-A1EN\",\"TCGA-BH-A208\",\"TCGA-BH-A42U\",\"TCGA-BH-A5IZ\",\"TCGA-D8-A27H\",\"TCGA-E2-A1LG\",\"TCGA-E2-A1LL\",\"TCGA-E2-A1LS\",\"TCGA-E2-A572\",\"TCGA-E2-A574\",\"TCGA-E9-A1ND\",\"TCGA-E9-A5FL\",\"TCGA-EW-A1P1\",\"TCGA-EW-A1PB\",\"TCGA-FA-A7DS\",\"TCGA-GM-A4E0\",\"TCGA-LL-A8F5\",\"TCGA-OL-A5RW\",\"TCGA-OL-A66P\",\"TCGA-OL-A6VQ\",\"TCGA-PL-A8LV\",\"ER-B1PU\",\"MBCProject_1037\",\"MBCProject_1542\",\"MBCProject_1819\",\"MBCProject_3159\",\"MBCProject_4424\",\"MBCproject_0093\",\"MBCproject_0280\",\"TCGA-A1-A0SK\",\"TCGA-A2-A0CO\",\"TCGA-A2-A0CY\",\"TCGA-A2-A0EP\",\"TCGA-A2-A3XV\",\"TCGA-A2-A3XW\",\"TCGA-A2-A3Y0\",\"TCGA-A2-A4S1\",\"TCGA-A7-A56D\",\"TCGA-A7-A5ZV\",\"TCGA-A8-A08H\",\"TCGA-AC-A2QH\",\"TCGA-AC-A2QJ\",\"TCGA-AC-A62X\",\"TCGA-AN-A0FL\",\"TCGA-AO-A1KO\",\"TCGA-AO-A1KR\",\"TCGA-AQ-A54N\",\"TCGA-AR-A0TP\",\"TCGA-AR-A2LN\",\"TCGA-AR-A5QQ\",\"TCGA-B6-A0IA\",\"TCGA-B6-A1KF\",\"TCGA-BH-A0BO\",\"TCGA-BH-A0DL\",\"TCGA-BH-A1EN\",\"TCGA-BH-A208\",\"TCGA-BH-A42U\",\"TCGA-BH-A5IZ\",\"TCGA-D8-A27H\",\"TCGA-E2-A1LG\",\"TCGA-E2-A1LL\",\"TCGA-E2-A1LS\",\"TCGA-E2-A572\",\"TCGA-E2-A574\",\"TCGA-E9-A1ND\",\"TCGA-E9-A5FL\",\"TCGA-EW-A1P1\",\"TCGA-EW-A1PB\",\"TCGA-FA-A7DS\",\"TCGA-GM-A4E0\",\"TCGA-LL-A8F5\",\"TCGA-OL-A5RW\",\"TCGA-OL-A66P\",\"TCGA-OL-A6VQ\",\"TCGA-PL-A8LV\",\"ER-B1PU\",\"MBCProject_1037\",\"MBCProject_1542\",\"MBCProject_1819\",\"MBCProject_3159\",\"MBCProject_4424\",\"MBCproject_0093\",\"MBCproject_0280\",\"TCGA-A1-A0SK\",\"TCGA-A2-A0CO\",\"TCGA-A2-A0CY\",\"TCGA-A2-A0EP\",\"TCGA-A2-A3XV\",\"TCGA-A2-A3XW\",\"TCGA-A2-A3Y0\",\"TCGA-A2-A4S1\",\"TCGA-A7-A56D\",\"TCGA-A7-A5ZV\",\"TCGA-A8-A08H\",\"TCGA-AC-A2QH\",\"TCGA-AC-A2QJ\",\"TCGA-AC-A62X\",\"TCGA-AN-A0FL\",\"TCGA-AO-A1KO\",\"TCGA-AO-A1KR\",\"TCGA-AQ-A54N\",\"TCGA-AR-A0TP\",\"TCGA-AR-A2LN\",\"TCGA-AR-A5QQ\",\"TCGA-B6-A0IA\",\"TCGA-B6-A1KF\",\"TCGA-BH-A0BO\",\"TCGA-BH-A0DL\",\"TCGA-BH-A1EN\",\"TCGA-BH-A208\",\"TCGA-BH-A42U\",\"TCGA-BH-A5IZ\",\"TCGA-D8-A27H\",\"TCGA-E2-A1LG\",\"TCGA-E2-A1LL\",\"TCGA-E2-A1LS\",\"TCGA-E2-A572\",\"TCGA-E2-A574\",\"TCGA-E9-A1ND\",\"TCGA-E9-A5FL\",\"TCGA-EW-A1P1\",\"TCGA-EW-A1PB\",\"TCGA-FA-A7DS\",\"TCGA-GM-A4E0\",\"TCGA-LL-A8F5\",\"TCGA-OL-A5RW\",\"TCGA-OL-A66P\",\"TCGA-OL-A6VQ\",\"TCGA-PL-A8LV\",\"ER-B1PU\",\"MBCProject_1037\",\"MBCProject_1542\",\"MBCProject_1819\",\"MBCProject_3159\",\"MBCProject_4424\",\"MBCproject_0093\",\"MBCproject_0280\",\"TCGA-A1-A0SK\",\"TCGA-A2-A0CO\",\"TCGA-A2-A0CY\",\"TCGA-A2-A0EP\",\"TCGA-A2-A3XV\",\"TCGA-A2-A3XW\",\"TCGA-A2-A3Y0\",\"TCGA-A2-A4S1\",\"TCGA-A7-A56D\",\"TCGA-A7-A5ZV\",\"TCGA-A8-A08H\",\"TCGA-AC-A2QH\",\"TCGA-AC-A2QJ\",\"TCGA-AC-A62X\",\"TCGA-AN-A0FL\",\"TCGA-AO-A1KO\",\"TCGA-AO-A1KR\",\"TCGA-AQ-A54N\",\"TCGA-AR-A0TP\",\"TCGA-AR-A2LN\",\"TCGA-AR-A5QQ\",\"TCGA-B6-A0IA\",\"TCGA-B6-A1KF\",\"TCGA-BH-A0BO\",\"TCGA-BH-A0DL\",\"TCGA-BH-A1EN\",\"TCGA-BH-A208\",\"TCGA-BH-A42U\",\"TCGA-BH-A5IZ\",\"TCGA-D8-A27H\",\"TCGA-E2-A1LG\",\"TCGA-E2-A1LL\",\"TCGA-E2-A1LS\",\"TCGA-E2-A572\",\"TCGA-E2-A574\",\"TCGA-E9-A1ND\",\"TCGA-E9-A5FL\",\"TCGA-EW-A1P1\",\"TCGA-EW-A1PB\",\"TCGA-FA-A7DS\",\"TCGA-GM-A4E0\",\"TCGA-LL-A8F5\",\"TCGA-OL-A5RW\",\"TCGA-OL-A66P\",\"TCGA-OL-A6VQ\",\"TCGA-PL-A8LV\",\"ER-B1PU\",\"MBCProject_1037\",\"MBCProject_1542\",\"MBCProject_1819\",\"MBCProject_3159\",\"MBCProject_4424\",\"MBCproject_0093\",\"MBCproject_0280\",\"TCGA-A1-A0SK\",\"TCGA-A2-A0CO\",\"TCGA-A2-A0CY\",\"TCGA-A2-A0EP\",\"TCGA-A2-A3XV\",\"TCGA-A2-A3XW\",\"TCGA-A2-A3Y0\",\"TCGA-A2-A4S1\",\"TCGA-A7-A56D\",\"TCGA-A7-A5ZV\",\"TCGA-A8-A08H\",\"TCGA-AC-A2QH\",\"TCGA-AC-A2QJ\",\"TCGA-AC-A62X\",\"TCGA-AN-A0FL\",\"TCGA-AO-A1KO\",\"TCGA-AO-A1KR\",\"TCGA-AQ-A54N\",\"TCGA-AR-A0TP\",\"TCGA-AR-A2LN\",\"TCGA-AR-A5QQ\",\"TCGA-B6-A0IA\",\"TCGA-B6-A1KF\",\"TCGA-BH-A0BO\",\"TCGA-BH-A0DL\",\"TCGA-BH-A1EN\",\"TCGA-BH-A208\",\"TCGA-BH-A42U\",\"TCGA-BH-A5IZ\",\"TCGA-D8-A27H\",\"TCGA-E2-A1LG\",\"TCGA-E2-A1LL\",\"TCGA-E2-A1LS\",\"TCGA-E2-A572\",\"TCGA-E2-A574\",\"TCGA-E9-A1ND\",\"TCGA-E9-A5FL\",\"TCGA-EW-A1P1\",\"TCGA-EW-A1PB\",\"TCGA-FA-A7DS\",\"TCGA-GM-A4E0\",\"TCGA-LL-A8F5\",\"TCGA-OL-A5RW\",\"TCGA-OL-A66P\",\"TCGA-OL-A6VQ\",\"TCGA-PL-A8LV\",\"ER-B1PU\",\"MBCProject_1037\",\"MBCProject_1542\",\"MBCProject_1819\",\"MBCProject_3159\",\"MBCProject_4424\",\"MBCproject_0093\",\"MBCproject_0280\",\"TCGA-A1-A0SK\",\"TCGA-A2-A0CO\",\"TCGA-A2-A0CY\",\"TCGA-A2-A0EP\",\"TCGA-A2-A3XV\",\"TCGA-A2-A3XW\",\"TCGA-A2-A3Y0\",\"TCGA-A2-A4S1\",\"TCGA-A7-A56D\",\"TCGA-A7-A5ZV\",\"TCGA-A8-A08H\",\"TCGA-AC-A2QH\",\"TCGA-AC-A2QJ\",\"TCGA-AC-A62X\",\"TCGA-AN-A0FL\",\"TCGA-AO-A1KO\",\"TCGA-AO-A1KR\",\"TCGA-AQ-A54N\",\"TCGA-AR-A0TP\",\"TCGA-AR-A2LN\",\"TCGA-AR-A5QQ\",\"TCGA-B6-A0IA\",\"TCGA-B6-A1KF\",\"TCGA-BH-A0BO\",\"TCGA-BH-A0DL\",\"TCGA-BH-A1EN\",\"TCGA-BH-A208\",\"TCGA-BH-A42U\",\"TCGA-BH-A5IZ\",\"TCGA-D8-A27H\",\"TCGA-E2-A1LG\",\"TCGA-E2-A1LL\",\"TCGA-E2-A1LS\",\"TCGA-E2-A572\",\"TCGA-E2-A574\",\"TCGA-E9-A1ND\",\"TCGA-E9-A5FL\",\"TCGA-EW-A1P1\",\"TCGA-EW-A1PB\",\"TCGA-FA-A7DS\",\"TCGA-GM-A4E0\",\"TCGA-LL-A8F5\",\"TCGA-OL-A5RW\",\"TCGA-OL-A66P\",\"TCGA-OL-A6VQ\",\"TCGA-PL-A8LV\",\"ER-B1PU\",\"MBCProject_1037\",\"MBCProject_1542\",\"MBCProject_1819\",\"MBCProject_3159\",\"MBCProject_4424\",\"MBCproject_0093\",\"MBCproject_0280\",\"TCGA-A1-A0SK\",\"TCGA-A2-A0CO\",\"TCGA-A2-A0CY\",\"TCGA-A2-A0EP\",\"TCGA-A2-A3XV\",\"TCGA-A2-A3XW\",\"TCGA-A2-A3Y0\",\"TCGA-A2-A4S1\",\"TCGA-A7-A56D\",\"TCGA-A7-A5ZV\",\"TCGA-A8-A08H\",\"TCGA-AC-A2QH\",\"TCGA-AC-A2QJ\",\"TCGA-AC-A62X\",\"TCGA-AN-A0FL\",\"TCGA-AO-A1KO\",\"TCGA-AO-A1KR\",\"TCGA-AQ-A54N\",\"TCGA-AR-A0TP\",\"TCGA-AR-A2LN\",\"TCGA-AR-A5QQ\",\"TCGA-B6-A0IA\",\"TCGA-B6-A1KF\",\"TCGA-BH-A0BO\",\"TCGA-BH-A0DL\",\"TCGA-BH-A1EN\",\"TCGA-BH-A208\",\"TCGA-BH-A42U\",\"TCGA-BH-A5IZ\",\"TCGA-D8-A27H\",\"TCGA-E2-A1LG\",\"TCGA-E2-A1LL\",\"TCGA-E2-A1LS\",\"TCGA-E2-A572\",\"TCGA-E2-A574\",\"TCGA-E9-A1ND\",\"TCGA-E9-A5FL\",\"TCGA-EW-A1P1\",\"TCGA-EW-A1PB\",\"TCGA-FA-A7DS\",\"TCGA-GM-A4E0\",\"TCGA-LL-A8F5\",\"TCGA-OL-A5RW\",\"TCGA-OL-A66P\",\"TCGA-OL-A6VQ\",\"TCGA-PL-A8LV\",\"ER-B1PU\",\"MBCProject_1037\",\"MBCProject_1542\",\"MBCProject_1819\",\"MBCProject_3159\",\"MBCProject_4424\",\"MBCproject_0093\",\"MBCproject_0280\",\"TCGA-A1-A0SK\",\"TCGA-A2-A0CO\",\"TCGA-A2-A0CY\",\"TCGA-A2-A0EP\",\"TCGA-A2-A3XV\",\"TCGA-A2-A3XW\",\"TCGA-A2-A3Y0\",\"TCGA-A2-A4S1\",\"TCGA-A7-A56D\",\"TCGA-A7-A5ZV\",\"TCGA-A8-A08H\",\"TCGA-AC-A2QH\",\"TCGA-AC-A2QJ\",\"TCGA-AC-A62X\",\"TCGA-AN-A0FL\",\"TCGA-AO-A1KO\",\"TCGA-AO-A1KR\",\"TCGA-AQ-A54N\",\"TCGA-AR-A0TP\",\"TCGA-AR-A2LN\",\"TCGA-AR-A5QQ\",\"TCGA-B6-A0IA\",\"TCGA-B6-A1KF\",\"TCGA-BH-A0BO\",\"TCGA-BH-A0DL\",\"TCGA-BH-A1EN\",\"TCGA-BH-A208\",\"TCGA-BH-A42U\",\"TCGA-BH-A5IZ\",\"TCGA-D8-A27H\",\"TCGA-E2-A1LG\",\"TCGA-E2-A1LL\",\"TCGA-E2-A1LS\",\"TCGA-E2-A572\",\"TCGA-E2-A574\",\"TCGA-E9-A1ND\",\"TCGA-E9-A5FL\",\"TCGA-EW-A1P1\",\"TCGA-EW-A1PB\",\"TCGA-FA-A7DS\",\"TCGA-GM-A4E0\",\"TCGA-LL-A8F5\",\"TCGA-OL-A5RW\",\"TCGA-OL-A66P\",\"TCGA-OL-A6VQ\",\"TCGA-PL-A8LV\",\"ER-B1PU\",\"MBCProject_1037\",\"MBCProject_1542\",\"MBCProject_1819\",\"MBCProject_3159\",\"MBCProject_4424\",\"MBCproject_0093\",\"MBCproject_0280\",\"TCGA-A1-A0SK\",\"TCGA-A2-A0CO\",\"TCGA-A2-A0CY\",\"TCGA-A2-A0EP\",\"TCGA-A2-A3XV\",\"TCGA-A2-A3XW\",\"TCGA-A2-A3Y0\",\"TCGA-A2-A4S1\",\"TCGA-A7-A56D\",\"TCGA-A7-A5ZV\",\"TCGA-A8-A08H\",\"TCGA-AC-A2QH\",\"TCGA-AC-A2QJ\",\"TCGA-AC-A62X\",\"TCGA-AN-A0FL\",\"TCGA-AO-A1KO\",\"TCGA-AO-A1KR\",\"TCGA-AQ-A54N\",\"TCGA-AR-A0TP\",\"TCGA-AR-A2LN\",\"TCGA-AR-A5QQ\",\"TCGA-B6-A0IA\",\"TCGA-B6-A1KF\",\"TCGA-BH-A0BO\",\"TCGA-BH-A0DL\",\"TCGA-BH-A1EN\",\"TCGA-BH-A208\",\"TCGA-BH-A42U\",\"TCGA-BH-A5IZ\",\"TCGA-D8-A27H\",\"TCGA-E2-A1LG\",\"TCGA-E2-A1LL\",\"TCGA-E2-A1LS\",\"TCGA-E2-A572\",\"TCGA-E2-A574\",\"TCGA-E9-A1ND\",\"TCGA-E9-A5FL\",\"TCGA-EW-A1P1\",\"TCGA-EW-A1PB\",\"TCGA-FA-A7DS\",\"TCGA-GM-A4E0\",\"TCGA-LL-A8F5\",\"TCGA-OL-A5RW\",\"TCGA-OL-A66P\",\"TCGA-OL-A6VQ\",\"TCGA-PL-A8LV\",\"ER-B1PU\",\"MBCProject_1037\",\"MBCProject_1542\",\"MBCProject_1819\",\"MBCProject_3159\",\"MBCProject_4424\",\"MBCproject_0093\",\"MBCproject_0280\",\"TCGA-A1-A0SK\",\"TCGA-A2-A0CO\",\"TCGA-A2-A0CY\",\"TCGA-A2-A0EP\",\"TCGA-A2-A3XV\",\"TCGA-A2-A3XW\",\"TCGA-A2-A3Y0\",\"TCGA-A2-A4S1\",\"TCGA-A7-A56D\",\"TCGA-A7-A5ZV\",\"TCGA-A8-A08H\",\"TCGA-AC-A2QH\",\"TCGA-AC-A2QJ\",\"TCGA-AC-A62X\",\"TCGA-AN-A0FL\",\"TCGA-AO-A1KO\",\"TCGA-AO-A1KR\",\"TCGA-AQ-A54N\",\"TCGA-AR-A0TP\",\"TCGA-AR-A2LN\",\"TCGA-AR-A5QQ\",\"TCGA-B6-A0IA\",\"TCGA-B6-A1KF\",\"TCGA-BH-A0BO\",\"TCGA-BH-A0DL\",\"TCGA-BH-A1EN\",\"TCGA-BH-A208\",\"TCGA-BH-A42U\",\"TCGA-BH-A5IZ\",\"TCGA-D8-A27H\",\"TCGA-E2-A1LG\",\"TCGA-E2-A1LL\",\"TCGA-E2-A1LS\",\"TCGA-E2-A572\",\"TCGA-E2-A574\",\"TCGA-E9-A1ND\",\"TCGA-E9-A5FL\",\"TCGA-EW-A1P1\",\"TCGA-EW-A1PB\",\"TCGA-FA-A7DS\",\"TCGA-GM-A4E0\",\"TCGA-LL-A8F5\",\"TCGA-OL-A5RW\",\"TCGA-OL-A66P\",\"TCGA-OL-A6VQ\",\"TCGA-PL-A8LV\",\"ER-B1PU\",\"MBCProject_1037\",\"MBCProject_1542\",\"MBCProject_1819\",\"MBCProject_3159\",\"MBCProject_4424\",\"MBCproject_0093\",\"MBCproject_0280\",\"TCGA-A1-A0SK\",\"TCGA-A2-A0CO\",\"TCGA-A2-A0CY\",\"TCGA-A2-A0EP\",\"TCGA-A2-A3XV\",\"TCGA-A2-A3XW\",\"TCGA-A2-A3Y0\",\"TCGA-A2-A4S1\",\"TCGA-A7-A56D\",\"TCGA-A7-A5ZV\",\"TCGA-A8-A08H\",\"TCGA-AC-A2QH\",\"TCGA-AC-A2QJ\",\"TCGA-AC-A62X\",\"TCGA-AN-A0FL\",\"TCGA-AO-A1KO\",\"TCGA-AO-A1KR\",\"TCGA-AQ-A54N\",\"TCGA-AR-A0TP\",\"TCGA-AR-A2LN\",\"TCGA-AR-A5QQ\",\"TCGA-B6-A0IA\",\"TCGA-B6-A1KF\",\"TCGA-BH-A0BO\",\"TCGA-BH-A0DL\",\"TCGA-BH-A1EN\",\"TCGA-BH-A208\",\"TCGA-BH-A42U\",\"TCGA-BH-A5IZ\",\"TCGA-D8-A27H\",\"TCGA-E2-A1LG\",\"TCGA-E2-A1LL\",\"TCGA-E2-A1LS\",\"TCGA-E2-A572\",\"TCGA-E2-A574\",\"TCGA-E9-A1ND\",\"TCGA-E9-A5FL\",\"TCGA-EW-A1P1\",\"TCGA-EW-A1PB\",\"TCGA-FA-A7DS\",\"TCGA-GM-A4E0\",\"TCGA-LL-A8F5\",\"TCGA-OL-A5RW\",\"TCGA-OL-A66P\",\"TCGA-OL-A6VQ\",\"TCGA-PL-A8LV\",\"ER-B1PU\",\"MBCProject_1037\",\"MBCProject_1542\",\"MBCProject_1819\",\"MBCProject_3159\",\"MBCProject_4424\",\"MBCproject_0093\",\"MBCproject_0280\",\"TCGA-A1-A0SK\",\"TCGA-A2-A0CO\",\"TCGA-A2-A0CY\",\"TCGA-A2-A0EP\",\"TCGA-A2-A3XV\",\"TCGA-A2-A3XW\",\"TCGA-A2-A3Y0\",\"TCGA-A2-A4S1\",\"TCGA-A7-A56D\",\"TCGA-A7-A5ZV\",\"TCGA-A8-A08H\",\"TCGA-AC-A2QH\",\"TCGA-AC-A2QJ\",\"TCGA-AC-A62X\",\"TCGA-AN-A0FL\",\"TCGA-AO-A1KO\",\"TCGA-AO-A1KR\",\"TCGA-AQ-A54N\",\"TCGA-AR-A0TP\",\"TCGA-AR-A2LN\",\"TCGA-AR-A5QQ\",\"TCGA-B6-A0IA\",\"TCGA-B6-A1KF\",\"TCGA-BH-A0BO\",\"TCGA-BH-A0DL\",\"TCGA-BH-A1EN\",\"TCGA-BH-A208\",\"TCGA-BH-A42U\",\"TCGA-BH-A5IZ\",\"TCGA-D8-A27H\",\"TCGA-E2-A1LG\",\"TCGA-E2-A1LL\",\"TCGA-E2-A1LS\",\"TCGA-E2-A572\",\"TCGA-E2-A574\",\"TCGA-E9-A1ND\",\"TCGA-E9-A5FL\",\"TCGA-EW-A1P1\",\"TCGA-EW-A1PB\",\"TCGA-FA-A7DS\",\"TCGA-GM-A4E0\",\"TCGA-LL-A8F5\",\"TCGA-OL-A5RW\",\"TCGA-OL-A66P\",\"TCGA-OL-A6VQ\",\"TCGA-PL-A8LV\",\"ER-B1PU\",\"MBCProject_1037\",\"MBCProject_1542\",\"MBCProject_1819\",\"MBCProject_3159\",\"MBCProject_4424\",\"MBCproject_0093\",\"MBCproject_0280\",\"TCGA-A1-A0SK\",\"TCGA-A2-A0CO\",\"TCGA-A2-A0CY\",\"TCGA-A2-A0EP\",\"TCGA-A2-A3XV\",\"TCGA-A2-A3XW\",\"TCGA-A2-A3Y0\",\"TCGA-A2-A4S1\",\"TCGA-A7-A56D\",\"TCGA-A7-A5ZV\",\"TCGA-A8-A08H\",\"TCGA-AC-A2QH\",\"TCGA-AC-A2QJ\",\"TCGA-AC-A62X\",\"TCGA-AN-A0FL\",\"TCGA-AO-A1KO\",\"TCGA-AO-A1KR\",\"TCGA-AQ-A54N\",\"TCGA-AR-A0TP\",\"TCGA-AR-A2LN\",\"TCGA-AR-A5QQ\",\"TCGA-B6-A0IA\",\"TCGA-B6-A1KF\",\"TCGA-BH-A0BO\",\"TCGA-BH-A0DL\",\"TCGA-BH-A1EN\",\"TCGA-BH-A208\",\"TCGA-BH-A42U\",\"TCGA-BH-A5IZ\",\"TCGA-D8-A27H\",\"TCGA-E2-A1LG\",\"TCGA-E2-A1LL\",\"TCGA-E2-A1LS\",\"TCGA-E2-A572\",\"TCGA-E2-A574\",\"TCGA-E9-A1ND\",\"TCGA-E9-A5FL\",\"TCGA-EW-A1P1\",\"TCGA-EW-A1PB\",\"TCGA-FA-A7DS\",\"TCGA-GM-A4E0\",\"TCGA-LL-A8F5\",\"TCGA-OL-A5RW\",\"TCGA-OL-A66P\",\"TCGA-OL-A6VQ\",\"TCGA-PL-A8LV\",\"ER-B1PU\",\"MBCProject_1037\",\"MBCProject_1542\",\"MBCProject_1819\",\"MBCProject_3159\",\"MBCProject_4424\",\"MBCproject_0093\",\"MBCproject_0280\",\"TCGA-A1-A0SK\",\"TCGA-A2-A0CO\",\"TCGA-A2-A0CY\",\"TCGA-A2-A0EP\",\"TCGA-A2-A3XV\",\"TCGA-A2-A3XW\",\"TCGA-A2-A3Y0\",\"TCGA-A2-A4S1\",\"TCGA-A7-A56D\",\"TCGA-A7-A5ZV\",\"TCGA-A8-A08H\",\"TCGA-AC-A2QH\",\"TCGA-AC-A2QJ\",\"TCGA-AC-A62X\",\"TCGA-AN-A0FL\",\"TCGA-AO-A1KO\",\"TCGA-AO-A1KR\",\"TCGA-AQ-A54N\",\"TCGA-AR-A0TP\",\"TCGA-AR-A2LN\",\"TCGA-AR-A5QQ\",\"TCGA-B6-A0IA\",\"TCGA-B6-A1KF\",\"TCGA-BH-A0BO\",\"TCGA-BH-A0DL\",\"TCGA-BH-A1EN\",\"TCGA-BH-A208\",\"TCGA-BH-A42U\",\"TCGA-BH-A5IZ\",\"TCGA-D8-A27H\",\"TCGA-E2-A1LG\",\"TCGA-E2-A1LL\",\"TCGA-E2-A1LS\",\"TCGA-E2-A572\",\"TCGA-E2-A574\",\"TCGA-E9-A1ND\",\"TCGA-E9-A5FL\",\"TCGA-EW-A1P1\",\"TCGA-EW-A1PB\",\"TCGA-FA-A7DS\",\"TCGA-GM-A4E0\",\"TCGA-LL-A8F5\",\"TCGA-OL-A5RW\",\"TCGA-OL-A66P\",\"TCGA-OL-A6VQ\",\"TCGA-PL-A8LV\",\"ER-B1PU\",\"MBCProject_1037\",\"MBCProject_1542\",\"MBCProject_1819\",\"MBCProject_3159\",\"MBCProject_4424\",\"MBCproject_0093\",\"MBCproject_0280\",\"TCGA-A1-A0SK\",\"TCGA-A2-A0CO\",\"TCGA-A2-A0CY\",\"TCGA-A2-A0EP\",\"TCGA-A2-A3XV\",\"TCGA-A2-A3XW\",\"TCGA-A2-A3Y0\",\"TCGA-A2-A4S1\",\"TCGA-A7-A56D\",\"TCGA-A7-A5ZV\",\"TCGA-A8-A08H\",\"TCGA-AC-A2QH\",\"TCGA-AC-A2QJ\",\"TCGA-AC-A62X\",\"TCGA-AN-A0FL\",\"TCGA-AO-A1KO\",\"TCGA-AO-A1KR\",\"TCGA-AQ-A54N\",\"TCGA-AR-A0TP\",\"TCGA-AR-A2LN\",\"TCGA-AR-A5QQ\",\"TCGA-B6-A0IA\",\"TCGA-B6-A1KF\",\"TCGA-BH-A0BO\",\"TCGA-BH-A0DL\",\"TCGA-BH-A1EN\",\"TCGA-BH-A208\",\"TCGA-BH-A42U\",\"TCGA-BH-A5IZ\",\"TCGA-D8-A27H\",\"TCGA-E2-A1LG\",\"TCGA-E2-A1LL\",\"TCGA-E2-A1LS\",\"TCGA-E2-A572\",\"TCGA-E2-A574\",\"TCGA-E9-A1ND\",\"TCGA-E9-A5FL\",\"TCGA-EW-A1P1\",\"TCGA-EW-A1PB\",\"TCGA-FA-A7DS\",\"TCGA-GM-A4E0\",\"TCGA-LL-A8F5\",\"TCGA-OL-A5RW\",\"TCGA-OL-A66P\",\"TCGA-OL-A6VQ\",\"TCGA-PL-A8LV\",\"ER-B1PU\",\"MBCProject_1037\",\"MBCProject_1542\",\"MBCProject_1819\",\"MBCProject_3159\",\"MBCProject_4424\",\"MBCproject_0093\",\"MBCproject_0280\",\"TCGA-A1-A0SK\",\"TCGA-A2-A0CO\",\"TCGA-A2-A0CY\",\"TCGA-A2-A0EP\",\"TCGA-A2-A3XV\",\"TCGA-A2-A3XW\",\"TCGA-A2-A3Y0\",\"TCGA-A2-A4S1\",\"TCGA-A7-A56D\",\"TCGA-A7-A5ZV\",\"TCGA-A8-A08H\",\"TCGA-AC-A2QH\",\"TCGA-AC-A2QJ\",\"TCGA-AC-A62X\",\"TCGA-AN-A0FL\",\"TCGA-AO-A1KO\",\"TCGA-AO-A1KR\",\"TCGA-AQ-A54N\",\"TCGA-AR-A0TP\",\"TCGA-AR-A2LN\",\"TCGA-AR-A5QQ\",\"TCGA-B6-A0IA\",\"TCGA-B6-A1KF\",\"TCGA-BH-A0BO\",\"TCGA-BH-A0DL\",\"TCGA-BH-A1EN\",\"TCGA-BH-A208\",\"TCGA-BH-A42U\",\"TCGA-BH-A5IZ\",\"TCGA-D8-A27H\",\"TCGA-E2-A1LG\",\"TCGA-E2-A1LL\",\"TCGA-E2-A1LS\",\"TCGA-E2-A572\",\"TCGA-E2-A574\",\"TCGA-E9-A1ND\",\"TCGA-E9-A5FL\",\"TCGA-EW-A1P1\",\"TCGA-EW-A1PB\",\"TCGA-FA-A7DS\",\"TCGA-GM-A4E0\",\"TCGA-LL-A8F5\",\"TCGA-OL-A5RW\",\"TCGA-OL-A66P\",\"TCGA-OL-A6VQ\",\"TCGA-PL-A8LV\",\"ER-B1PU\",\"MBCProject_1037\",\"MBCProject_1542\",\"MBCProject_1819\",\"MBCProject_3159\",\"MBCProject_4424\",\"MBCproject_0093\",\"MBCproject_0280\",\"TCGA-A1-A0SK\",\"TCGA-A2-A0CO\",\"TCGA-A2-A0CY\",\"TCGA-A2-A0EP\",\"TCGA-A2-A3XV\",\"TCGA-A2-A3XW\",\"TCGA-A2-A3Y0\",\"TCGA-A2-A4S1\",\"TCGA-A7-A56D\",\"TCGA-A7-A5ZV\",\"TCGA-A8-A08H\",\"TCGA-AC-A2QH\",\"TCGA-AC-A2QJ\",\"TCGA-AC-A62X\",\"TCGA-AN-A0FL\",\"TCGA-AO-A1KO\",\"TCGA-AO-A1KR\",\"TCGA-AQ-A54N\",\"TCGA-AR-A0TP\",\"TCGA-AR-A2LN\",\"TCGA-AR-A5QQ\",\"TCGA-B6-A0IA\",\"TCGA-B6-A1KF\",\"TCGA-BH-A0BO\",\"TCGA-BH-A0DL\",\"TCGA-BH-A1EN\",\"TCGA-BH-A208\",\"TCGA-BH-A42U\",\"TCGA-BH-A5IZ\",\"TCGA-D8-A27H\",\"TCGA-E2-A1LG\",\"TCGA-E2-A1LL\",\"TCGA-E2-A1LS\",\"TCGA-E2-A572\",\"TCGA-E2-A574\",\"TCGA-E9-A1ND\",\"TCGA-E9-A5FL\",\"TCGA-EW-A1P1\",\"TCGA-EW-A1PB\",\"TCGA-FA-A7DS\",\"TCGA-GM-A4E0\",\"TCGA-LL-A8F5\",\"TCGA-OL-A5RW\",\"TCGA-OL-A66P\",\"TCGA-OL-A6VQ\",\"TCGA-PL-A8LV\",\"ER-B1PU\",\"MBCProject_1037\",\"MBCProject_1542\",\"MBCProject_1819\",\"MBCProject_3159\",\"MBCProject_4424\",\"MBCproject_0093\",\"MBCproject_0280\",\"TCGA-A1-A0SK\",\"TCGA-A2-A0CO\",\"TCGA-A2-A0CY\",\"TCGA-A2-A0EP\",\"TCGA-A2-A3XV\",\"TCGA-A2-A3XW\",\"TCGA-A2-A3Y0\",\"TCGA-A2-A4S1\",\"TCGA-A7-A56D\",\"TCGA-A7-A5ZV\",\"TCGA-A8-A08H\",\"TCGA-AC-A2QH\",\"TCGA-AC-A2QJ\",\"TCGA-AC-A62X\",\"TCGA-AN-A0FL\",\"TCGA-AO-A1KO\",\"TCGA-AO-A1KR\",\"TCGA-AQ-A54N\",\"TCGA-AR-A0TP\",\"TCGA-AR-A2LN\",\"TCGA-AR-A5QQ\",\"TCGA-B6-A0IA\",\"TCGA-B6-A1KF\",\"TCGA-BH-A0BO\",\"TCGA-BH-A0DL\",\"TCGA-BH-A1EN\",\"TCGA-BH-A208\",\"TCGA-BH-A42U\",\"TCGA-BH-A5IZ\",\"TCGA-D8-A27H\",\"TCGA-E2-A1LG\",\"TCGA-E2-A1LL\",\"TCGA-E2-A1LS\",\"TCGA-E2-A572\",\"TCGA-E2-A574\",\"TCGA-E9-A1ND\",\"TCGA-E9-A5FL\",\"TCGA-EW-A1P1\",\"TCGA-EW-A1PB\",\"TCGA-FA-A7DS\",\"TCGA-GM-A4E0\",\"TCGA-LL-A8F5\",\"TCGA-OL-A5RW\",\"TCGA-OL-A66P\",\"TCGA-OL-A6VQ\",\"TCGA-PL-A8LV\",\"ER-B1PU\",\"MBCProject_1037\",\"MBCProject_1542\",\"MBCProject_1819\",\"MBCProject_3159\",\"MBCProject_4424\",\"MBCproject_0093\",\"MBCproject_0280\",\"TCGA-A1-A0SK\",\"TCGA-A2-A0CO\",\"TCGA-A2-A0CY\",\"TCGA-A2-A0EP\",\"TCGA-A2-A3XV\",\"TCGA-A2-A3XW\",\"TCGA-A2-A3Y0\",\"TCGA-A2-A4S1\",\"TCGA-A7-A56D\",\"TCGA-A7-A5ZV\",\"TCGA-A8-A08H\",\"TCGA-AC-A2QH\",\"TCGA-AC-A2QJ\",\"TCGA-AC-A62X\",\"TCGA-AN-A0FL\",\"TCGA-AO-A1KO\",\"TCGA-AO-A1KR\",\"TCGA-AQ-A54N\",\"TCGA-AR-A0TP\",\"TCGA-AR-A2LN\",\"TCGA-AR-A5QQ\",\"TCGA-B6-A0IA\",\"TCGA-B6-A1KF\",\"TCGA-BH-A0BO\",\"TCGA-BH-A0DL\",\"TCGA-BH-A1EN\",\"TCGA-BH-A208\",\"TCGA-BH-A42U\",\"TCGA-BH-A5IZ\",\"TCGA-D8-A27H\",\"TCGA-E2-A1LG\",\"TCGA-E2-A1LL\",\"TCGA-E2-A1LS\",\"TCGA-E2-A572\",\"TCGA-E2-A574\",\"TCGA-E9-A1ND\",\"TCGA-E9-A5FL\",\"TCGA-EW-A1P1\",\"TCGA-EW-A1PB\",\"TCGA-FA-A7DS\",\"TCGA-GM-A4E0\",\"TCGA-LL-A8F5\",\"TCGA-OL-A5RW\",\"TCGA-OL-A66P\",\"TCGA-OL-A6VQ\",\"TCGA-PL-A8LV\",\"ER-B1PU\",\"MBCProject_1037\",\"MBCProject_1542\",\"MBCProject_1819\",\"MBCProject_3159\",\"MBCProject_4424\",\"MBCproject_0093\",\"MBCproject_0280\",\"TCGA-A1-A0SK\",\"TCGA-A2-A0CO\",\"TCGA-A2-A0CY\",\"TCGA-A2-A0EP\",\"TCGA-A2-A3XV\",\"TCGA-A2-A3XW\",\"TCGA-A2-A3Y0\",\"TCGA-A2-A4S1\",\"TCGA-A7-A56D\",\"TCGA-A7-A5ZV\",\"TCGA-A8-A08H\",\"TCGA-AC-A2QH\",\"TCGA-AC-A2QJ\",\"TCGA-AC-A62X\",\"TCGA-AN-A0FL\",\"TCGA-AO-A1KO\",\"TCGA-AO-A1KR\",\"TCGA-AQ-A54N\",\"TCGA-AR-A0TP\",\"TCGA-AR-A2LN\",\"TCGA-AR-A5QQ\",\"TCGA-B6-A0IA\",\"TCGA-B6-A1KF\",\"TCGA-BH-A0BO\",\"TCGA-BH-A0DL\",\"TCGA-BH-A1EN\",\"TCGA-BH-A208\",\"TCGA-BH-A42U\",\"TCGA-BH-A5IZ\",\"TCGA-D8-A27H\",\"TCGA-E2-A1LG\",\"TCGA-E2-A1LL\",\"TCGA-E2-A1LS\",\"TCGA-E2-A572\",\"TCGA-E2-A574\",\"TCGA-E9-A1ND\",\"TCGA-E9-A5FL\",\"TCGA-EW-A1P1\",\"TCGA-EW-A1PB\",\"TCGA-FA-A7DS\",\"TCGA-GM-A4E0\",\"TCGA-LL-A8F5\",\"TCGA-OL-A5RW\",\"TCGA-OL-A66P\",\"TCGA-OL-A6VQ\",\"TCGA-PL-A8LV\",\"ER-B1PU\",\"MBCProject_1037\",\"MBCProject_1542\",\"MBCProject_1819\",\"MBCProject_3159\",\"MBCProject_4424\",\"MBCproject_0093\",\"MBCproject_0280\",\"TCGA-A1-A0SK\",\"TCGA-A2-A0CO\",\"TCGA-A2-A0CY\",\"TCGA-A2-A0EP\",\"TCGA-A2-A3XV\",\"TCGA-A2-A3XW\",\"TCGA-A2-A3Y0\",\"TCGA-A2-A4S1\",\"TCGA-A7-A56D\",\"TCGA-A7-A5ZV\",\"TCGA-A8-A08H\",\"TCGA-AC-A2QH\",\"TCGA-AC-A2QJ\",\"TCGA-AC-A62X\",\"TCGA-AN-A0FL\",\"TCGA-AO-A1KO\",\"TCGA-AO-A1KR\",\"TCGA-AQ-A54N\",\"TCGA-AR-A0TP\",\"TCGA-AR-A2LN\",\"TCGA-AR-A5QQ\",\"TCGA-B6-A0IA\",\"TCGA-B6-A1KF\",\"TCGA-BH-A0BO\",\"TCGA-BH-A0DL\",\"TCGA-BH-A1EN\",\"TCGA-BH-A208\",\"TCGA-BH-A42U\",\"TCGA-BH-A5IZ\",\"TCGA-D8-A27H\",\"TCGA-E2-A1LG\",\"TCGA-E2-A1LL\",\"TCGA-E2-A1LS\",\"TCGA-E2-A572\",\"TCGA-E2-A574\",\"TCGA-E9-A1ND\",\"TCGA-E9-A5FL\",\"TCGA-EW-A1P1\",\"TCGA-EW-A1PB\",\"TCGA-FA-A7DS\",\"TCGA-GM-A4E0\",\"TCGA-LL-A8F5\",\"TCGA-OL-A5RW\",\"TCGA-OL-A66P\",\"TCGA-OL-A6VQ\",\"TCGA-PL-A8LV\"],\"yaxis\":\"y\",\"ybingroup\":\"y\",\"z\":[-0.0450227497352147,0.9612520180304112,0.2863416273929558,0.8806714572516462,0.1609175898080542,-0.3636638804246329,2.4625032994883376,0.4175397789821686,-0.4390302969196956,-0.1351411554273013,-0.3946917108452556,-0.1159461277913481,-0.2501828036022254,-0.0301330630659099,-0.2755925771537886,-0.1033972981508181,-0.1894673981578472,0.5312228120972547,0.0737918091802051,-0.3845388172224128,-0.1676285790541012,-0.4442719806978541,-0.3934707932576985,-0.3211704404787565,-0.3653529694179449,-0.4353032853366268,-0.3991898282730974,0.306050725592091,-0.0756925667279071,-0.2271873257313201,-0.4479163737975544,-0.2336040279396087,-0.2821653364973288,-0.1136328102570294,-0.24067249818336,0.248814476280676,-0.3470024862786477,1.0342224985077868,-0.1491954774314354,-0.1245109105672182,-0.4391220952345496,-0.4042662750845188,-0.4319159275185174,-0.2058442175277853,0.0838896238141355,-0.1014052747184882,-0.1082901483325317,-0.4296944082990527,0.1913946303395533,0.0892231059071479,-0.3757078193334663,-0.3171863936140967,-0.2933188317520792,-0.3472228022342971,-0.5868639962875303,-0.7210088021969022,-0.7172975248795472,-0.6977844534731877,0.4202062237954348,-0.8510629557742562,-0.8210648386727916,-0.6875303317000515,0.6421076182415507,1.1022620200846176,-0.187349116715734,1.2129790442913977,-0.6324219871787943,0.7354228754714,-0.6018575566496444,0.8143823622188583,-0.0215457407421699,-0.2188592356872321,-0.1459037709109613,-0.612590020832573,-0.3800881187303676,-0.5015760944404046,-0.1113751463880145,-0.3887972495017605,-0.4976064022579892,-0.7572583597573781,-0.3407045936574588,0.062351119384525,0.2479754653270738,-0.4598723337705715,0.145687164272153,1.0212737017370053,-0.6255327568400598,-0.4425145523025869,0.9926611281673532,0.2932640449760407,-0.5504329985026505,-0.1299920130495906,-0.7226032768962103,-0.1420440425009121,-0.1543434904400574,-0.7603428435722464,-0.7612335501284115,-0.5411740488694272,1.988701981882001,1.6924100954302372,-0.8047242220991931,-0.5826578819945281,0.818379545344365,-0.2635705055312772,-0.5698526007024989,-0.2219437195021005,-0.2557410849388128,-0.5701550010765056,-0.9075989683782968,-0.6310170699261951,-0.6992013457895409,-0.556719307954858,-0.621328336278013,-0.9038327913883156,1.0885908914674456,-0.100600083549949,-0.7234269236246976,-0.364764080336278,-0.8418368759269964,-0.6192842680508464,-0.8331252518159764,-0.1242903101827526,-0.7356276898377677,-0.7493521479344583,-0.7105972133417302,-0.4250229121759758,-0.6750506422484194,-0.5242051457699813,-0.8507843540642279,-0.5034574788927693,-0.1279179697287683,1.6515033214550594,-0.7311651819132572,-0.7263020965156574,0.3505587188751138,0.0158743682515342,0.292534884712373,-0.802793675302232,-0.6092249066471891,-0.1142534110673061,-0.3238490223606284,-0.7399217306006984,0.2211721950672241,0.4375139802531368,-0.3169980244563884,-0.3215466378190396,-0.4547030823316122,-0.8090456788541887,0.6286568217814327,-0.7093580437754443,-0.7777295053738785,-0.8378011514784878,-0.7871000232724101,-0.1930810678277854,-0.8975246321158323,-0.9033273899035764,-0.4713963061868068,-0.707257819827751,-0.5607700072621736,-0.8423535085558407,0.6651879898413091,-0.6415780890998896,-0.2281527558056896,0.9801950480152828,-0.0820089131215804,-0.3886858546491845,-0.4193112917458819,-0.7501621836212538,-0.530108564173151,-0.4543008627359828,-0.655918020051769,-0.249295855235835,-0.3219124203703141,0.904926488327884,1.641561689597251,-0.3511972887919092,0.1905345270861646,-0.5828606701083567,1.207250224511066,-0.4429643145921833,2.310053745115361,-0.6999965009450768,1.9384648654854548,-0.7293360121115811,-0.3964815529228769,-0.60815297530193,-0.5257116446328021,0.2176154714630944,-0.6245166559773629,-0.5858186640327673,0.749260236630956,-0.6516340288508988,-0.6733563413770801,-0.5663221326492149,0.9245104481032907,0.1236335930691731,0.3975540304486264,-0.4165572974024653,-0.0859140479577478,-0.5948893596876711,-0.1968606772211017,-0.629878930677772,-0.5203530127820536,-0.3601841989046192,-0.1184155526296563,0.0662987822609276,0.0264277927256173,0.7054221838152479,1.995592033863046,-0.4101823104964084,0.1221655246559497,0.4702434525763175,-0.1251001817568645,7.917477656284377,-0.4809483080033007,0.119338673319321,-0.3932940413523283,-0.3553890802713233,-0.3708377923095451,-0.3616254821994002,-0.3456642101401024,-0.2876913767115371,-0.0800479570689546,-0.0777284317198466,-0.1826716534678504,-0.2796862602032697,-0.2522497637915243,0.3325077788203277,-0.0206629060300815,8.758104047899899,-0.1291251965795025,-0.383934848370472,-0.3763872108063888,-0.2799463652885919,-0.2958862169290984,-0.3895791287219625,-0.3422400031933321,-0.3542782785540064,0.4657427837018126,-0.170201909671524,-0.3389504388789638,-0.3820100707390881,-0.3759939931185783,-0.209387505790262,1.6344529201879403,12.665834414050805,-0.3178452062499421,0.5848785629289236,0.3106773120122314,0.3252447268201852,0.6219236471984517,-0.0345249770478382,0.3286980043353151,-0.3472279007118626,2.2102092968177325,4.591010966940955,-0.3380706716786094,2.6948739655108738,-0.3476960898654425,-0.1191096207646863,0.6167200154620952,1.1249561720020855,-0.3747087679911041,-0.3057166591243618,-0.305679938406434,-0.3200254988769072,1.3627503611232457,0.7080781016067148,-0.1424854177855789,0.3617558306498462,0.0798157409647502,-0.084170949052594,-0.1197776365406977,-0.0297111041145289,-0.1193534750918003,-0.1315169117941376,-0.1257384886467744,-0.1203692598665567,-0.124399923222158,-0.058933907638734,-0.127375266115356,0.0196853488270441,-0.1188022346468949,-0.0765696483069399,-0.0253799695328111,-0.1160290885562339,-0.1247718410838077,1.043246256787819,-0.1000484812115886,-0.1244493428317166,-0.0785710012951797,0.0526019151685453,0.2665690567135611,-0.0702060969824027,-0.110696571485974,-0.0478339809340983,-0.0355251093807742,-0.006791136394546,-0.0730088948387989,29.99234122199717,-0.0712769493220958,0.6169010259434234,0.0416649319765685,-0.11933031847475,-0.1088112839807547,-0.1059825055296191,-0.124134469319386,-0.1197547623214163,-0.1278070523040139,0.0217640788039643,-0.0961649470935875,-0.1310249748807026,-0.1294723519472551,-0.0323153763393838,-0.1172470701335273,-0.1144773128160931,-0.1205971548660642,-0.1281795349612015,-0.1208049996239793,-0.1046493056626119,-0.1228210372962022,-0.1162002216041912,-0.0137369919185683,-0.1287025356292162,0.0804774203546002,-0.3617955036610599,-0.1497148363847487,-0.1771282516899997,-0.3428699766889587,-0.4376174823462539,0.0673896381832983,-0.2718805669780303,-0.4754685362904562,-0.0082210497239747,-0.4015434019729746,0.0255795921950123,0.2874531825655451,0.1273742797972558,0.4140848772795784,-0.3062172607410545,0.2519696138550912,0.0311558040752857,-0.2157947230296455,-0.4538818036353133,-0.3962509583060883,5.118660513372862,0.1999608568839234,0.1390605725694293,-0.3262564022141923,-0.3751081915649797,-0.4365723125902976,-0.0137151279101517,-0.3775407548022938,-0.255101985171881,-0.0635514116753108,-0.0287611327367813,-0.4153544416153983,-0.2010628240871953,-0.3409239260991074,0.443604170903733,-0.3991274874574368,-0.4378450148771966,-0.4480088745358267,-0.2213479966710272,0.1479043735769967,2.2431353169445245,-0.3802737349747713,0.4861923041535241,-0.251576895814447,0.1177664874459539,3.7109669125787415,-0.4150099980604265,0.0452106180016738,1.8601244060234117,-0.0808416641973848,-0.2793373444758349,-0.1927839697052367,0.0110640896384944,-0.6851369257850618,-0.5249170740503519,-0.7587367243818135,-0.4493158545755166,-0.3781762610220947,-0.2810021686591677,1.721424428424171,-0.4677593787032814,-0.365973403596262,-0.415492042078335,0.3884420619830899,-0.4732387441703069,0.3594324780845415,-0.1240859635990923,-0.6532644485584039,-0.2660986952737187,-0.0983519784349451,0.5446170000512826,-0.4924876448676309,-0.713976218617907,-0.0677897407020477,-0.2777185562275572,-0.4686729401851694,-0.7135514926658013,-0.0407815776815831,-0.3586028055877841,-0.3462296570962487,-0.4191643188246083,-0.0495245213371953,-0.3296853792071457,-0.5966156229841395,-0.3579096207791586,0.5891150572315762,-0.611999918202161,0.1484298271329533,-0.1468448636741965,-0.5968640475976353,0.1084134301170968,-0.6454911622651466,-0.1876506098651931,1.915932887094216,-0.7516385920784601,-0.2905384683385247,-0.3297675196035435,0.2268678954199671,-0.4438084411682577,0.1374951372905309,-0.9844124549240764,-0.336258614343274,-0.4640169821064245,-0.2864494793373551,-0.1436273642445647,-0.2926741186448681,-0.6549954071556654,-0.6106790148125798,0.5598778447071422,-0.5299596864798837,-0.5568998889096166,-0.7886261413879211,-0.8089578919058493,3.2528852981154097,-0.5419612428254601,-1.0085913750423432,0.6067700015679179,-0.562318313082514,1.2998725403945253,2.061958708469071,-0.6788270926693714,-0.0413646805714656,-0.2089813535835259,-0.370014894422907,-0.6731934507139055,-0.5664201108208756,-0.6334034806778855,-0.8500138488981537,-0.7566473108721761,-1.0040844614779705,-0.4027153375037342,0.0158705897221539,-1.0247580284740954,0.0233525726337951,0.6743610451639445,1.3151530029568783,3.2878645177175487,0.0807271014926062,0.3496480507465474,0.3247460873164324,1.252208131490416,-0.0077653867516765,0.2748029018910113,-0.9006659870190943,0.0368100139790986,-1.0772205279425229,2.762885046685516,-0.3855991938547685,-0.9014888785406792,-0.2199321407553862,0.1159215388773135,0.4296457665141616,1.1450296757713747,-0.9342906005780092,0.0737894929721674,-0.6049567537701741,-0.8630535145478835,-0.5741426312542107,2.436133813268501,3.284978067457221,-0.2240592582328736,-0.439791300460454,1.2888082501309044,-0.3897572992572986,-0.3575241749454227,-0.4187672953167443,3.3045987499348333,4.305066600069553,-0.2659224095644599,-0.4434587599648266,-0.1981059493457533,-0.343359907616671,-0.3962689392209943,0.3417712100198875,-0.2157152803294597,-0.3943709771272061,-0.4466666934697811,-0.3122148193134369,-0.249537867316677,-0.3987705471917734,-0.4368587141976356,-0.3967643800780822,-0.3187596114534433,-0.3723745081450487,-0.3737328264800015,-0.2902634741268137,-0.3894828729089488,-0.3836453271969043,-0.2946400218467208,-0.4066497144282859,-0.3438567298144385,0.4759058823115033,-0.3053914568030419,-0.4031567642964379,3.504356635758755,-0.3481591455845398,-0.2582739262214428,-0.3203647293231536,-0.3461916560098777,-0.230313749078503,-0.3885707276135111,-0.4208296369514065,-0.2411185958744358,-0.36162629631698,-0.3863149982837031,-0.3803821400647653,-0.3397196144789976,-0.3750257613561193,-0.4437939653030793,-0.3403227999090953,-0.3874048760799177,-0.3438341679166716,-0.0657919301145568,-0.2348892098562744,-0.3661391363172757,-1.0393936982713026,-0.8404958719193221,-0.7032195827590276,-0.9102762549115444,-0.8928311591634888,-0.1881145617084477,-1.09267837848135,-0.8677612511582048,-0.1551824932044653,-0.3191604595301509,-0.5198087291629738,-0.2535336707636561,0.5495934413109432,2.824279650500435,-0.6911741595044176,-0.9510408153840416,-0.6558686085857338,-0.9795522728906426,0.3749941411794687,-0.8970737589797676,-0.8399321698458304,-0.38371918121003,0.704611511521131,1.3192544513382527,-0.5627094238087024,-0.4003928951733077,-0.5859102144124089,0.7685768625973348,7.145827425598264,-0.2572719055668108,0.1451223693156343,3.5370364196352773,1.1303252511280175,-0.5257424351997275,1.1039202592644644,0.3031369610743825,-0.6271494713678464,1.0029879195792857,-0.7707451574572834,8.716420076466575,-0.4855415768007218,-0.9525539104234138,0.5565062088437612,-0.511086181288946,5.180613654755656,1.3406454616007493,-0.6764882370634526,-1.0791495287175517,-0.6374741198717977,-0.1205296499498243,0.5429476905497792,1.3802232808658956,0.0277239953784643,2.302410204567956,0.3375400538113337,-0.2394356458272463,-0.3662669639362036,-0.1580799231591171,0.1132321038776882,-0.2662102028097161,0.1382038363353565,-0.1246035619648849,0.8768981214269705,-0.1093840650707267,-0.0746274371849688,-0.0314315002918064,-0.5521799770699082,-0.2958261680106231,-0.4501636240686364,-0.3793309097680991,-0.5438451796291589,-0.4591777466926443,-0.0054538440050822,0.0732956214695837,-0.3731973872000241,-0.3228489399638989,-0.3708720048419467,0.0312297158908802,-0.5107672687827995,-0.0793239257115352,1.0893374765723391,-0.0833802808923387,-0.4758212136824791,0.0720218867509739,0.6291861125354845,-0.0008161432347593,-0.4618231957236031,6.731851640555477,-0.0305823438127332,-0.3206868569287203,-0.3606755951201524,0.0290284410182059,-0.266099159270145,-0.5237724268584516,0.9270963332860293,-0.5624874303312738,-0.3660775367216411,-0.2839510412494301,-0.4291633311438644,-0.1460676249666892,-0.4462966961023953,-0.4344868890703618,0.072622828259241,-0.5127529885492477,-0.4383930088740986,-0.4058180599422672,0.1173015230043237,-0.3626613148866005,4.192184532320589,-0.5189823438573368,-0.256025756597304,-0.0586602708886746,-0.3992771735711342,-0.981926932924142,-0.8363349908304637,0.3018933939592373,-0.825506537263938,0.6081919945832025,-0.299395969059066,-0.0019236860557324,-0.1773784727508448,0.4734285060560501,-0.0180253709163734,-0.3910994352005808,-0.8359402034608507,-0.6963264701070254,-0.3476164263475009,-0.6281974497509676,-0.6646306841466739,-0.859176260072354,0.1810320606620256,0.0965757626626906,-0.7468310543196494,-0.5022602788444467,-0.7545576071249307,0.4336395790186339,-0.801593702304527,-0.0049973877191472,-0.9007135311751988,0.3042339190790853,3.0584962022814364,-0.3611519933056581,-0.0849136309679336,0.4430862767915144,-0.7287272335131141,-0.4996095636484743,1.1625580588132278,-0.8248015598182007,-0.7966870592821949,-0.532292318032858,-0.8660568399427506,0.2082159909696579,-0.5688101497220529,-0.5205614933357884,-0.8205716951437765,3.007230242427416,1.4803618913516263,-0.799422371771656,-0.7572083223209032,-0.0331682864508118,0.3212379750702703,-0.6416766185134658,-0.4049447273249227,1.289972416297452,-0.3479800208576595,-0.3228804003055121,-0.3967016092496389,9.5035818010422,-0.3008469944462409,-0.2799039120086436,-0.2195726826760244,-0.1919084985827568,-0.0556948542130813,-0.3497238558137638,0.0444442709374575,-0.1219503447664384,-0.2686440618370854,-0.4049907973286554,-0.2232736396425511,-0.2926311771139099,-0.3654234893080064,-0.4057364488705513,-0.3822151525203573,-0.1139597585634673,-0.3014766178305878,-0.2529614913071882,-0.2992874395050674,-0.10835116218312,-0.2660692605173579,-0.0821066167233934,-0.3308215039118816,-0.2719576895129705,3.430785769380694,-0.3256599571973849,-0.2820589644054731,-0.1842267520344382,-0.3187306873767003,-0.0871811423197282,-0.3031556135221794,-0.2690177407562506,-0.1568679950029541,-0.2622761635433659,-0.3102828137292712,-0.1062711868294104,-0.2407853599502798,-0.3459444092112481,-0.3702079445104688,-0.301790576374544,-0.3312787913563394,-0.3684333962185427,-0.2872461055664879,-0.3282757096315414,0.0089004099094641,-0.2321907448094799,-0.2702872253035516,-0.2506153337096898,-0.5480575980063314,-0.7127772266318415,-0.7798126950630466,-0.7520752671200046,-0.7853859155804511,-0.2356757732479729,-0.8099828779938444,-0.7054146243465835,0.0941052760261206,-0.021195247145637,0.4573216273220168,-0.5060976008208221,1.0970356620362152,0.5459864991898153,0.4082041030650935,-0.7618786665582673,-0.2924494388217348,0.2898998311729165,-0.6180204145880922,-0.7168948152392168,-0.5195239957036601,-0.7754900312418274,1.502553802540694,-0.588630321686426,0.6671899716541776,6.241411738632133,-0.0728138847949309,-0.6528389690326848,-0.5599720658223988,1.3123807209027951,1.9212088199790545,-0.6668685263091814,0.2537221508012799,-0.8013375503514061,-0.7169591525612071,-0.420850649183755,-0.6436467741533294,0.2911061559602334,0.1796497877773926,0.0344484942106712,-0.8078235566245471,-0.8051495366793276,0.3260252374704359,-0.2396888137071141,0.7359384212833726,-0.1203672079109666,0.718020477109091,-0.7678017212639938,-0.7208274340458704,0.2253654761340821,0.7517452970798497,-0.1994860296284634,-0.145511037561277,0.4274811731664189,-0.6646824969422698,-0.5366245152663766,-0.6645559688008492,-0.6187067713733715,-0.6045586246508934,-0.6874230547230334,-0.6874230547230334,-0.637099362112593,-0.5090298778783887,0.5381630307512101,1.266182951368352,0.4576566251328164,0.1651810749600922,0.1892789346215489,-0.2337391498222355,1.318807155640984,2.4718236007313945,0.4872642102252219,0.0249188789162727,-0.0792597917060721,2.373856311596967,0.1291550623301724,-0.5302060877288621,-0.5106862462751667,-0.4798708925601107,-0.0780750282000434,0.1117516916056932,-0.1055201323299887,1.926119229342934,-0.5703385136757939,-0.3702860195316156,-0.5099270774266434,-0.2692590498864732,-0.487152011970947,-0.185071825608573,0.0694452821379904,0.0474178829725061,1.1918534195629429,1.2679198376733063,0.6192790719600846,0.0367090011850044,-0.3943493715181394,-0.5514628154875121,-0.336917097871527,4.425613647755756,-0.0972152852294772,-0.0914985137489313,-0.313486386592106,0.6177032214714834,1.023478971007142,0.6169670577395822,0.5482277692732983,-0.3989733999591445,1.294237691088778,-0.6777640265111423,-0.4575043086013055,-0.6614381009174026,-0.6652942427578252,-0.6245898600800514,-0.5357792125540329,-0.6838108867036318,-0.6451718679218118,0.1963564730027411,1.1979684236431671,-0.4957314484558976,0.0347507020340694,-0.600915775654175,-0.3613395329833355,-0.6680102559736029,-0.3738391630357272,0.1675070403173501,-0.2050225262106615,-0.2457806322267694,-0.6813396131402649,-0.4283325358859101,-0.2140002929722647,-0.1990831126948403,-0.0108126581330295,1.830757718100632,1.357108890308287,0.7798754969480565,0.8371982989504999,-0.4718782862355744,0.8444748266648578,-0.5569641156370978,0.5997650205532081,-0.3457657341262726,0.1579681631331467,1.060191937855559,2.480959343438147,0.0283098706937969,3.935041188047669,3.83559928879132,-0.5295532745670967,-0.6325468834133073,-0.4249658733503089,-0.6030109858492033,-0.1956746653405348,-0.4804501433297646,0.2454536349802583,-0.5317798084780528,-0.591520160705529,1.1403232816107194,-0.3306276912356971,-0.1144091622205446,0.3711244618632576,0.4407260313049416,-0.1090786132058427,-0.7417816372910724,-0.4310385627068288,-0.5699542040014511,-0.7767391017258044,-0.6604978385795516,-0.6079982803917097,-0.0032124217157343,-0.3875906524824078,-0.2760834012210243,0.46760904710161,-0.0889315279293313,-0.5149744942716319,-0.7346941969357137,1.5029274895097426,-0.8001828699510647,0.4735740831095044,-0.2566133064517058,-0.5875234526984513,-0.0551417260818806,-0.8808240016571826,-0.263564972087613,-0.6152395987624465,0.1010535111749124,-0.0649446608262656,-0.6338950452150572,-0.7816088883301248,-0.3066689196894239,0.0943643433299443,13.542705478615307,-0.0284574678857156,-0.6068487211003551,0.1578344988494525,-0.7467690953189173,-0.7575586596913151,-0.4930785578481164,0.8539876920681996,-0.6166607074927036,1.9338221391604364,-0.2028103109571312,5.846668520788075,-0.8864088684506133,0.2130404997783572,-0.3515017320522483,-0.5204959995293187,1.1131363732609432,0.7140763694976009,-0.3280760671229147,-0.6759037434132942,0.0209011684588192,-0.0562550787813815,-0.356462035136203,-0.6394980153044147,0.5775141566734678,-0.4351570625301853,-1.0296388407134636,-1.0123363553143383,-0.9858048858717136,-0.972028358374216,-0.8728204992714662,-0.9948850953202084,-1.0341367926357927,-0.886076315686445,1.0198006336298917,-0.3819188864385691,-0.191591547048195,-0.1151164460622661,4.289305847540146,-0.7681228576130181,2.303864244814936,-0.9019456058203514,-0.7994349507084824,-0.357227262820844,-0.370284713109149,-1.072034641136828,-1.0180740955283791,0.9024521922428196,-0.2733084729314796,-0.5268451785864704,0.1198928633613885,1.1272406869896052,0.253517245442048,-0.2510319569060085,-0.7668334777896382,2.814870264586226,0.5520979393114989,-0.4065262044524579,-0.1639244315303624,1.5002681881997448,0.1632507394991211,-0.2699759220033593,0.3391766980929754,-0.9269645335470884,0.5436525014683606,0.017357412483685,1.561617872026794,-0.7038224776516956,0.946653124418916,1.6492213127191244,0.818801196624465,0.1317006070516483,0.0134545589413775,-0.8591381956841387,1.5689177454883911,-0.7274578016448827,0.0423912176699227,1.61364930705334,0.037908143207094,-0.8860217650016098,0.063543149276796,-0.4609374169972302,-0.486008422044291,-0.4920309299798842,-0.4595904768714431,-0.4965819779584452,-0.4198155019957517,-0.4847647422663659,-0.4112327448469941,-0.1102743868653467,-0.4989478547521048,-0.4861010526504612,-0.5116503960736473,0.1474953306230566,-0.5081896558857457,-0.1559336830346397,-0.4735609945233487,0.4194223455102333,-0.4441287583136495,-0.2675049703649065,-0.4245335887723246,-0.4863835000725541,0.5792359562408682,-0.0724309879084839,-0.4713317858371533,-0.4731752867533939,0.6123901205771785,-0.44128150607481,-0.5029355264210075,-0.5078905045838518,-0.4338376498215882,-0.481764118040261,-0.5021139992416943,-0.4993457107982786,-0.4761835036521357,-0.4499994127965045,-0.2843424812045074,0.2887737089124786,-0.4918593355782902,0.7363298716329638,-0.3159416661847793,-0.5104887171602007,-0.2877531097530052,-0.3026499334666132,-0.3844822406126498,-0.3626457141089104,-0.5119738439279793,-0.5104735318149269,-0.4919033730795842,-0.4571593030931061,-0.2320122628564295,-0.5076946136298196,-0.3850015794210141,-0.3892549946322083,-0.6580161852053816,-0.6561385560972252,-0.6068286733406155,-0.6362533824847709,-0.6564118445223914,-0.6147461732553231,-0.6553265552368392,-0.6106743723307243,-0.3659455706462651,-0.3842794883777398,0.3614263187119605,-0.4786072493432048,4.529585792868733,-0.2383945880372119,-0.4907420418620962,-0.6581420158471847,-0.2502423294044898,-0.6283398147776198,-0.5146459315971386,-0.6585489993292668,-0.6330447011187907,-0.420188407782314,-0.2383945880372119,-0.0502817107490579,-0.4401247000930007,0.1636421769389673,-0.6008556500625222,-0.1678684794103241,-0.6191050253315354,0.4444725761982619,-0.3432095465554583,-0.3655149939188449,-0.5204832937145378,0.3428446719044358,0.0316419014799058,-0.137456786169525,-0.0037243732818921,-0.4424368381361335,1.5451839797864355,-0.6013688031486256,-0.5643431367980485,0.7132173355331193,0.4442445081599936,-0.305696286467894,-0.4382313421546189,-0.4555900724121192,-0.4389509361374307,-0.6603951707769724,-0.4077429708664711,-0.6364578572777012,2.015334640664061,-0.1000575601010948,-0.0623142658714841,0.8914682362699513,-0.3920045337602731,-0.3783286262175423,-0.1951005216057346,-0.2089914469582733,-0.104211912270759,-0.4038343874944738,-0.4038343874944738,-0.1789373810198217,-0.3853970945778008,1.1511608533538862,-0.2311111620050782,0.2756877528093083,0.1046188084872628,0.542522917683411,-0.2373912317293747,0.3240648229186791,0.0866347963588333,-0.3362296887350822,0.1764638134238552,-0.4029820646447852,-0.1776201547975757,-0.2368004170267496,-0.2197307148643497,-0.3208859403433017,-0.1671191498699349,-0.3798647444443674,-0.3833205261803776,0.058634053649177,-0.0743089399283886,7.312174635230574,-0.3424206519796385,-0.1734321502497876,-0.2806466163510713,-0.2388014386261322,-0.1807272590041678,0.6979381780319709,-0.204241684168645,-0.3237605928636151,-0.3242758607681996,-0.1745246731752975,-0.2827503041118936,0.1069103946944937,-0.3582854795681606,-0.2519175250244084,-0.2500772825080353,0.2621745614469726,-0.2639604594710312,0.2535215474252476,1.3574152345889856,-0.2152560199034845,-0.2657813310135478,0.486343219304618,-0.0850966352691064,-0.1251364382306142,-0.4145372401334277,-0.5057368082598307,-0.597529250910515,-0.595553002496244,-0.49691242947089,-0.7158635690033002,-0.9652918960375336,-0.6586382888335391,-0.9409582633887704,0.2636768461067497,-0.9618119803515348,0.3948567788922966,-0.7738449790011303,0.8495485770940107,1.7275613780169892,-0.5592845479021658,-0.0970915981106314,-0.0429939458660645,2.4802714370907744,-0.4534263719725175,-0.6128924342353698,3.464159598712221,2.8118687362366326,1.7650585435816797,-0.7108456165079339,-0.8214811581694719,-0.532519270465408,0.469112164962428,-0.3332360988471996,-0.6318987885500111,2.048435381419325,0.5829440736244392,-0.6391851305295844,-0.3885624620623785,0.2562959878986678,1.109150287269535,4.204470847082558,-0.5319521730943564,-0.0790218136966663,-0.512670862478599,0.0227549796382915,0.017737027142925,-0.7680966738309245,1.3577623377848302,-0.3403849626762147,0.6402209081006595,7.727967106808423,-0.9419635723647256,-0.0267801164846321,1.3893307581067074,1.6059533614640418,-0.6259958204604277,0.4906618650623919,2.5117023792620934,-0.3093480907244263,-0.2857425669570561,-0.321612591909338,-0.3070126172574023,-0.3256918333173447,-0.3360505986027104,0.0468821474303036,-0.2742696188599614,-0.3351343040629356,-0.2442487271209533,-0.1689512599974634,-0.0815845675745878,-0.042301459753551,-0.2667923158051632,-0.2560508359080313,-0.2418792926303595,-0.1944873373354497,0.4765622424070103,0.1162847645780219,-0.3336654897935461,-0.0486351906493002,-0.3108325793123865,-0.3326107387730641,-0.1133890661476122,-0.2660268865816308,-0.3059774591351336,-0.3285909291563043,-0.2668556661760529,-0.0988622383156728,13.479399329963131,-0.3379413132802927,-0.1401216164698233,-0.1490540187652617,-0.2733167509101884,-0.3073332876914931,-0.1845191238211355,-0.3121080769860716,-0.0015149235429479,-0.3232662325185395,-0.2841287652408882,-0.3296861721664271,0.4372177435049052,-0.3296097598633953,0.0511168258308024,-0.330108725671227,-0.3082639503566243,0.0362497346665589,-0.2255466526797621,-0.2329619115568848,-0.2234240887066558,-0.2795897438214764,0.0274068066062946,1.2577081704799211,-0.2952536128463935,-0.1810818367738206,-0.2512048016101046,0.0676559676964421,0.3466625789140399,0.5275878045241895,-0.2964498603101192,1.0400809223098264,-0.0002528772460113,-0.3146579021699427,0.2729640167336817,0.9052121409508463,0.1678139502229486,-0.0073353104467735,0.4813938372982476,-0.2601712995652443,-0.0473957529978807,-0.2287472998298238,-0.212107019882402,0.0605597821982027,-0.3309131177880027,0.4071039263263694,0.2113812286307439,-0.3330859807894015,0.932537956038059,0.1468692011651607,-0.0130975230897237,-0.3387106704575797,0.1578297822544956,-0.0181308639663818,-0.2657409800435136,-0.2331755396174848,0.1769317234503376,-0.2510947832302869,-0.341309854680772,-0.1761310096820256,1.3862124975136767,-0.2796032959005393,-0.2146924518081171,-0.293658143922246,-0.2344820078778196,-0.31077975428137,-0.0670065292003794,0.4807887362092504,-0.2686289625137273,0.2542333875697244,0.2379506673567099,-0.1562864444224143,-0.1816044240779544,0.7775495634699238,-0.2819549387691419,-0.2857780774678057,0.0864691106452628,0.4452527995281446,-0.0977016571695079,-0.551756013349462,-0.1458359912132365,-0.3843675576625452,-0.4784526622433097,-0.5255193512973094,-0.2302784587288354,0.3695321855462513,-0.4146229908570009,0.0027619939975066,-0.1354571828577391,0.3833263459536159,-0.3794436578845884,3.877364247213613,-0.0881853313129913,-0.4241208073404618,-0.5542662367656754,-0.27221608551413,-0.5826631391615885,-0.4793939960243897,-0.560143538706521,-0.4932002248135629,-0.567288020737282,-0.5021428957338229,-0.5003205700807065,-0.4936950284677204,-0.499487851735905,-0.5455649334815899,0.2715007201140361,-0.4127041181494148,-0.4036286950292589,-0.5578867513082907,0.1163737403447766,0.4566296970597681,0.5168026487580355,0.8556224680377896,-0.048118303708048,-0.5589608372892666,-0.4651895106355287,-0.4515884443371037,-0.5510198420591302,-0.5662742766653497,-0.4107611086782112,-0.3118124462285334,0.0847787167695532,-0.5626416937409255,-0.042808215712212,-0.5812873436353947,-0.5765444695845685,-0.2535100937106174,-0.5652484642116087,-0.1485393087383893,0.9673998203501344,-0.3449642910570814,-0.4701616839407205,-0.53997963969725,-0.4237941365121184,-0.5215138194170229,-0.4773225711202847,-0.5302849350841717,-0.5235059908423286,-0.5677190874797232,-0.5458886227384113,-0.411866928726514,-0.2452057999867505,0.0074940942578941,-0.1387328773297797,4.311347277249848,0.1819511081864166,-0.1835517688671924,0.1989411723659437,0.2714677322812384,3.9614717237826422,-0.1419843076620086,-0.4397632873191558,0.3534705134030474,-0.1128743730565434,-0.2126358827064273,-0.2214943917362018,0.4409333934761682,-0.4068040723325914,-0.5197977315691025,-0.1860166589357911,0.2436826016046656,-0.4288847998850583,-0.3161771552898673,-0.3585986879934375,0.3058411307721077,1.631370027331622,-0.0105109246557617,0.1758494625049217,-0.3096822394765574,-0.1526800635197071,-0.3357314201773404,-0.091822503727714,1.1047257068731695,-0.1161456655166417,-0.3041625541416374,0.2310959711737954,0.4356143156327296,-0.2296259468859543,0.1466819277286351,-0.533307950945902,-0.1611691369711098,-0.4771934672891333,-0.4268529042040137,1.8518813571510369,-0.2520999445702364,-0.468906987541999,0.2513379565564039,-0.2114445733499622,-0.3299362362673452,0.677203406575032,-0.3428422072850098,-0.7170047893222227,2.806988763350561,0.4778480158248154,0.3315856098853341,-0.0154223036336836,0.9149923682995176,-0.1683193580767379,-0.6171217357791468,-0.3734563710943537,-0.2359611792488795,-0.530950289143455,0.1249321057811873,0.0688061387973903,0.2592995347606914,-0.3303469526032807,-0.6271053020988089,-0.2660066589007743,-0.1542444251798724,1.2424912558616006,-0.4163446346353076,-0.4421881702349394,-0.5933317818591922,-0.1192071623681465,-0.5659085680444239,-0.6870856839275389,-0.1929781350150174,-0.3871521812195865,-0.6412276253421285,0.8059313843264989,0.0268498854033669,-0.084485835199448,-0.2009081196550023,-0.1996917674293472,0.7991703615657151,-0.3605819936409918,2.002063728827798,-0.6220029414639183,-0.0724802807644112,-0.140911941044121,-0.5079501743310687,0.3345554049297905,-0.6461720181555055,-0.6497736844860166,1.6203502849222324,-0.1292381190342628,0.2863594225859784,-0.4267073237266024,-0.2147776943839001,-0.2472558784871049,-0.8694662725312171,-0.3906665881352352,0.2233869801833502,-0.4050913254367231,-0.5549199187758553,-0.885184317749507,-0.8760763338167173,-0.278416491535798,-0.3332756461763027,0.3107159040318437,1.642995768160635,0.9965948272311748,0.0380004821491027,-0.3441607190421544,-0.0495735574142956,-0.6183500604211011,1.0698812007810254,-0.8399120902478894,1.529956947244355,-0.9656371007535572,0.2544086315493336,-0.8661297961224101,0.0709233929089882,-0.8177742709438283,-0.3107701532998842,0.2599317981516361,-0.6440243189540231,-0.2205482189741557,-0.4267502015346865,-0.5385874716669152,-0.9061836390619692,-0.0792535227618511,-0.6223654428560597,0.6790232295207999,1.6049107526969162,0.5034010449980683,-0.8351645858749904,-0.6278789338380368,-0.7663660875526455,-0.8031157061511482,-0.930874209528496,-0.7927386033523696,-0.0687796637598206,-0.4838799017448387,-0.5355122370068887,-0.1597837107285029,-0.3075707481790176,3.461367025422819,1.2532245303232683,-0.6636932424717701,-0.0262956275152484,3.4958464209723523,0.4078043035816902,-0.5085978864689533,-0.3193937094248416,-0.4446381386094928,0.1254543194976886,-0.2640972870773769,-0.0066992691975185,-0.4491863792923211,-0.4491863792923211,-0.3666583785054289,0.3798780425798705,1.642877030362106,1.4218417916818575,-0.1608418077588167,-0.3829764939323701,0.0683872080294281,-0.41396934011205,-0.3258746630695842,-0.4062732076589181,-0.4491863792923211,-0.2907849283359063,-0.353777483136503,-0.2257902217843446,-0.0500753660912602,0.7680987390314621,0.3005326529578072,-0.2135805680429098,-0.3955217684875505,-0.4419878914940534,1.5282220165077045,-0.3185257245617064,-0.1343393366044228,-0.4396616920608511,-0.1145608548564493,-0.4372081881810558,-0.4312248791911773,4.231890706990191,2.101797987198935,-0.1192363999858708,-0.4257276417246545,0.5437420116082825,-0.3661838801135816,1.1295507823039652,-0.3997112420936162,0.1002364659407347,0.0434123902341521,0.5620738519176974,-0.0167216010838526,-0.4452746608424586,-0.4175685840111839,4.693184155786256,-0.4034377904393433,0.4601492827226113,-0.2690505873630016,0.1686683925503118,-0.3572494225890436],\"type\":\"histogram2d\"}],                        {\"template\":{\"data\":{\"histogram2dcontour\":[{\"type\":\"histogram2dcontour\",\"colorbar\":{\"outlinewidth\":0,\"ticks\":\"\"},\"colorscale\":[[0.0,\"#0d0887\"],[0.1111111111111111,\"#46039f\"],[0.2222222222222222,\"#7201a8\"],[0.3333333333333333,\"#9c179e\"],[0.4444444444444444,\"#bd3786\"],[0.5555555555555556,\"#d8576b\"],[0.6666666666666666,\"#ed7953\"],[0.7777777777777778,\"#fb9f3a\"],[0.8888888888888888,\"#fdca26\"],[1.0,\"#f0f921\"]]}],\"choropleth\":[{\"type\":\"choropleth\",\"colorbar\":{\"outlinewidth\":0,\"ticks\":\"\"}}],\"histogram2d\":[{\"type\":\"histogram2d\",\"colorbar\":{\"outlinewidth\":0,\"ticks\":\"\"},\"colorscale\":[[0.0,\"#0d0887\"],[0.1111111111111111,\"#46039f\"],[0.2222222222222222,\"#7201a8\"],[0.3333333333333333,\"#9c179e\"],[0.4444444444444444,\"#bd3786\"],[0.5555555555555556,\"#d8576b\"],[0.6666666666666666,\"#ed7953\"],[0.7777777777777778,\"#fb9f3a\"],[0.8888888888888888,\"#fdca26\"],[1.0,\"#f0f921\"]]}],\"heatmap\":[{\"type\":\"heatmap\",\"colorbar\":{\"outlinewidth\":0,\"ticks\":\"\"},\"colorscale\":[[0.0,\"#0d0887\"],[0.1111111111111111,\"#46039f\"],[0.2222222222222222,\"#7201a8\"],[0.3333333333333333,\"#9c179e\"],[0.4444444444444444,\"#bd3786\"],[0.5555555555555556,\"#d8576b\"],[0.6666666666666666,\"#ed7953\"],[0.7777777777777778,\"#fb9f3a\"],[0.8888888888888888,\"#fdca26\"],[1.0,\"#f0f921\"]]}],\"heatmapgl\":[{\"type\":\"heatmapgl\",\"colorbar\":{\"outlinewidth\":0,\"ticks\":\"\"},\"colorscale\":[[0.0,\"#0d0887\"],[0.1111111111111111,\"#46039f\"],[0.2222222222222222,\"#7201a8\"],[0.3333333333333333,\"#9c179e\"],[0.4444444444444444,\"#bd3786\"],[0.5555555555555556,\"#d8576b\"],[0.6666666666666666,\"#ed7953\"],[0.7777777777777778,\"#fb9f3a\"],[0.8888888888888888,\"#fdca26\"],[1.0,\"#f0f921\"]]}],\"contourcarpet\":[{\"type\":\"contourcarpet\",\"colorbar\":{\"outlinewidth\":0,\"ticks\":\"\"}}],\"contour\":[{\"type\":\"contour\",\"colorbar\":{\"outlinewidth\":0,\"ticks\":\"\"},\"colorscale\":[[0.0,\"#0d0887\"],[0.1111111111111111,\"#46039f\"],[0.2222222222222222,\"#7201a8\"],[0.3333333333333333,\"#9c179e\"],[0.4444444444444444,\"#bd3786\"],[0.5555555555555556,\"#d8576b\"],[0.6666666666666666,\"#ed7953\"],[0.7777777777777778,\"#fb9f3a\"],[0.8888888888888888,\"#fdca26\"],[1.0,\"#f0f921\"]]}],\"surface\":[{\"type\":\"surface\",\"colorbar\":{\"outlinewidth\":0,\"ticks\":\"\"},\"colorscale\":[[0.0,\"#0d0887\"],[0.1111111111111111,\"#46039f\"],[0.2222222222222222,\"#7201a8\"],[0.3333333333333333,\"#9c179e\"],[0.4444444444444444,\"#bd3786\"],[0.5555555555555556,\"#d8576b\"],[0.6666666666666666,\"#ed7953\"],[0.7777777777777778,\"#fb9f3a\"],[0.8888888888888888,\"#fdca26\"],[1.0,\"#f0f921\"]]}],\"mesh3d\":[{\"type\":\"mesh3d\",\"colorbar\":{\"outlinewidth\":0,\"ticks\":\"\"}}],\"scatter\":[{\"fillpattern\":{\"fillmode\":\"overlay\",\"size\":10,\"solidity\":0.2},\"type\":\"scatter\"}],\"parcoords\":[{\"type\":\"parcoords\",\"line\":{\"colorbar\":{\"outlinewidth\":0,\"ticks\":\"\"}}}],\"scatterpolargl\":[{\"type\":\"scatterpolargl\",\"marker\":{\"colorbar\":{\"outlinewidth\":0,\"ticks\":\"\"}}}],\"bar\":[{\"error_x\":{\"color\":\"#2a3f5f\"},\"error_y\":{\"color\":\"#2a3f5f\"},\"marker\":{\"line\":{\"color\":\"#E5ECF6\",\"width\":0.5},\"pattern\":{\"fillmode\":\"overlay\",\"size\":10,\"solidity\":0.2}},\"type\":\"bar\"}],\"scattergeo\":[{\"type\":\"scattergeo\",\"marker\":{\"colorbar\":{\"outlinewidth\":0,\"ticks\":\"\"}}}],\"scatterpolar\":[{\"type\":\"scatterpolar\",\"marker\":{\"colorbar\":{\"outlinewidth\":0,\"ticks\":\"\"}}}],\"histogram\":[{\"marker\":{\"pattern\":{\"fillmode\":\"overlay\",\"size\":10,\"solidity\":0.2}},\"type\":\"histogram\"}],\"scattergl\":[{\"type\":\"scattergl\",\"marker\":{\"colorbar\":{\"outlinewidth\":0,\"ticks\":\"\"}}}],\"scatter3d\":[{\"type\":\"scatter3d\",\"line\":{\"colorbar\":{\"outlinewidth\":0,\"ticks\":\"\"}},\"marker\":{\"colorbar\":{\"outlinewidth\":0,\"ticks\":\"\"}}}],\"scattermapbox\":[{\"type\":\"scattermapbox\",\"marker\":{\"colorbar\":{\"outlinewidth\":0,\"ticks\":\"\"}}}],\"scatterternary\":[{\"type\":\"scatterternary\",\"marker\":{\"colorbar\":{\"outlinewidth\":0,\"ticks\":\"\"}}}],\"scattercarpet\":[{\"type\":\"scattercarpet\",\"marker\":{\"colorbar\":{\"outlinewidth\":0,\"ticks\":\"\"}}}],\"carpet\":[{\"aaxis\":{\"endlinecolor\":\"#2a3f5f\",\"gridcolor\":\"white\",\"linecolor\":\"white\",\"minorgridcolor\":\"white\",\"startlinecolor\":\"#2a3f5f\"},\"baxis\":{\"endlinecolor\":\"#2a3f5f\",\"gridcolor\":\"white\",\"linecolor\":\"white\",\"minorgridcolor\":\"white\",\"startlinecolor\":\"#2a3f5f\"},\"type\":\"carpet\"}],\"table\":[{\"cells\":{\"fill\":{\"color\":\"#EBF0F8\"},\"line\":{\"color\":\"white\"}},\"header\":{\"fill\":{\"color\":\"#C8D4E3\"},\"line\":{\"color\":\"white\"}},\"type\":\"table\"}],\"barpolar\":[{\"marker\":{\"line\":{\"color\":\"#E5ECF6\",\"width\":0.5},\"pattern\":{\"fillmode\":\"overlay\",\"size\":10,\"solidity\":0.2}},\"type\":\"barpolar\"}],\"pie\":[{\"automargin\":true,\"type\":\"pie\"}]},\"layout\":{\"autotypenumbers\":\"strict\",\"colorway\":[\"#636efa\",\"#EF553B\",\"#00cc96\",\"#ab63fa\",\"#FFA15A\",\"#19d3f3\",\"#FF6692\",\"#B6E880\",\"#FF97FF\",\"#FECB52\"],\"font\":{\"color\":\"#2a3f5f\"},\"hovermode\":\"closest\",\"hoverlabel\":{\"align\":\"left\"},\"paper_bgcolor\":\"white\",\"plot_bgcolor\":\"#E5ECF6\",\"polar\":{\"bgcolor\":\"#E5ECF6\",\"angularaxis\":{\"gridcolor\":\"white\",\"linecolor\":\"white\",\"ticks\":\"\"},\"radialaxis\":{\"gridcolor\":\"white\",\"linecolor\":\"white\",\"ticks\":\"\"}},\"ternary\":{\"bgcolor\":\"#E5ECF6\",\"aaxis\":{\"gridcolor\":\"white\",\"linecolor\":\"white\",\"ticks\":\"\"},\"baxis\":{\"gridcolor\":\"white\",\"linecolor\":\"white\",\"ticks\":\"\"},\"caxis\":{\"gridcolor\":\"white\",\"linecolor\":\"white\",\"ticks\":\"\"}},\"coloraxis\":{\"colorbar\":{\"outlinewidth\":0,\"ticks\":\"\"}},\"colorscale\":{\"sequential\":[[0.0,\"#0d0887\"],[0.1111111111111111,\"#46039f\"],[0.2222222222222222,\"#7201a8\"],[0.3333333333333333,\"#9c179e\"],[0.4444444444444444,\"#bd3786\"],[0.5555555555555556,\"#d8576b\"],[0.6666666666666666,\"#ed7953\"],[0.7777777777777778,\"#fb9f3a\"],[0.8888888888888888,\"#fdca26\"],[1.0,\"#f0f921\"]],\"sequentialminus\":[[0.0,\"#0d0887\"],[0.1111111111111111,\"#46039f\"],[0.2222222222222222,\"#7201a8\"],[0.3333333333333333,\"#9c179e\"],[0.4444444444444444,\"#bd3786\"],[0.5555555555555556,\"#d8576b\"],[0.6666666666666666,\"#ed7953\"],[0.7777777777777778,\"#fb9f3a\"],[0.8888888888888888,\"#fdca26\"],[1.0,\"#f0f921\"]],\"diverging\":[[0,\"#8e0152\"],[0.1,\"#c51b7d\"],[0.2,\"#de77ae\"],[0.3,\"#f1b6da\"],[0.4,\"#fde0ef\"],[0.5,\"#f7f7f7\"],[0.6,\"#e6f5d0\"],[0.7,\"#b8e186\"],[0.8,\"#7fbc41\"],[0.9,\"#4d9221\"],[1,\"#276419\"]]},\"xaxis\":{\"gridcolor\":\"white\",\"linecolor\":\"white\",\"ticks\":\"\",\"title\":{\"standoff\":15},\"zerolinecolor\":\"white\",\"automargin\":true,\"zerolinewidth\":2},\"yaxis\":{\"gridcolor\":\"white\",\"linecolor\":\"white\",\"ticks\":\"\",\"title\":{\"standoff\":15},\"zerolinecolor\":\"white\",\"automargin\":true,\"zerolinewidth\":2},\"scene\":{\"xaxis\":{\"backgroundcolor\":\"#E5ECF6\",\"gridcolor\":\"white\",\"linecolor\":\"white\",\"showbackground\":true,\"ticks\":\"\",\"zerolinecolor\":\"white\",\"gridwidth\":2},\"yaxis\":{\"backgroundcolor\":\"#E5ECF6\",\"gridcolor\":\"white\",\"linecolor\":\"white\",\"showbackground\":true,\"ticks\":\"\",\"zerolinecolor\":\"white\",\"gridwidth\":2},\"zaxis\":{\"backgroundcolor\":\"#E5ECF6\",\"gridcolor\":\"white\",\"linecolor\":\"white\",\"showbackground\":true,\"ticks\":\"\",\"zerolinecolor\":\"white\",\"gridwidth\":2}},\"shapedefaults\":{\"line\":{\"color\":\"#2a3f5f\"}},\"annotationdefaults\":{\"arrowcolor\":\"#2a3f5f\",\"arrowhead\":0,\"arrowwidth\":1},\"geo\":{\"bgcolor\":\"white\",\"landcolor\":\"#E5ECF6\",\"subunitcolor\":\"white\",\"showland\":true,\"showlakes\":true,\"lakecolor\":\"white\"},\"title\":{\"x\":0.05},\"mapbox\":{\"style\":\"light\"}}},\"xaxis\":{\"anchor\":\"y\",\"domain\":[0.0,1.0],\"title\":{\"text\":\"Gene\"}},\"yaxis\":{\"anchor\":\"x\",\"domain\":[0.0,1.0],\"title\":{\"text\":\"Case\"}},\"coloraxis\":{\"colorbar\":{\"title\":{\"text\":\"sum of Expression Level\"}},\"colorscale\":[[0.0,\"rgb(247,251,255)\"],[0.125,\"rgb(222,235,247)\"],[0.25,\"rgb(198,219,239)\"],[0.375,\"rgb(158,202,225)\"],[0.5,\"rgb(107,174,214)\"],[0.625,\"rgb(66,146,198)\"],[0.75,\"rgb(33,113,181)\"],[0.875,\"rgb(8,81,156)\"],[1.0,\"rgb(8,48,107)\"]],\"cmin\":-2,\"cmax\":30},\"legend\":{\"tracegroupgap\":0},\"title\":{\"text\":\"Heatmap of Gene Expression Levels\"}},                        {\"responsive\": true}                    ).then(function(){\n",
       "                            \n",
       "var gd = document.getElementById('7dffe0cd-52d5-493d-b411-3062a1a108bb');\n",
       "var x = new MutationObserver(function (mutations, observer) {{\n",
       "        var display = window.getComputedStyle(gd).display;\n",
       "        if (!display || display === 'none') {{\n",
       "            console.log([gd, 'removed!']);\n",
       "            Plotly.purge(gd);\n",
       "            observer.disconnect();\n",
       "        }}\n",
       "}});\n",
       "\n",
       "// Listen for the removal of the full notebook cells\n",
       "var notebookContainer = gd.closest('#notebook-container');\n",
       "if (notebookContainer) {{\n",
       "    x.observe(notebookContainer, {childList: true});\n",
       "}}\n",
       "\n",
       "// Listen for the clearing of the current output cell\n",
       "var outputEl = gd.closest('.output');\n",
       "if (outputEl) {{\n",
       "    x.observe(outputEl, {childList: true});\n",
       "}}\n",
       "\n",
       "                        })                };                });            </script>        </div>"
      ]
     },
     "metadata": {},
     "output_type": "display_data"
    }
   ],
   "source": [
    "heatmap = px.density_heatmap(\n",
    "    unique_expression_melted,\n",
    "    x=\"Gene\",\n",
    "    y=\"Case\",\n",
    "    z=\"Expression\",\n",
    "    color_continuous_scale=\"Blues\",\n",
    "    range_color=(-2, 30),\n",
    "    title=\"Heatmap of Gene Expression Levels\",\n",
    "    labels={'Expression': 'Expression Level'}\n",
    ")\n",
    "\n",
    "heatmap.show()\n",
    "\n",
    "# heatmap_file_path = 'heatmap.html'\n",
    "# heatmap.write_html(heatmap_file_path)"
   ]
  },
  {
   "cell_type": "code",
   "execution_count": 57,
   "id": "e76a90d8-8802-4867-8b94-4eb4993d8e60",
   "metadata": {},
   "outputs": [
    {
     "data": {
      "text/html": [
       "<div>\n",
       "<style scoped>\n",
       "    .dataframe tbody tr th:only-of-type {\n",
       "        vertical-align: middle;\n",
       "    }\n",
       "\n",
       "    .dataframe tbody tr th {\n",
       "        vertical-align: top;\n",
       "    }\n",
       "\n",
       "    .dataframe thead th {\n",
       "        text-align: right;\n",
       "    }\n",
       "</style>\n",
       "<table border=\"1\" class=\"dataframe\">\n",
       "  <thead>\n",
       "    <tr style=\"text-align: right;\">\n",
       "      <th></th>\n",
       "      <th>Case</th>\n",
       "      <th>Gene</th>\n",
       "      <th>Expression</th>\n",
       "      <th>Cancer Stage</th>\n",
       "    </tr>\n",
       "  </thead>\n",
       "  <tbody>\n",
       "    <tr>\n",
       "      <th>0</th>\n",
       "      <td>ER-B1PU</td>\n",
       "      <td>ABCC3</td>\n",
       "      <td>-0.045023</td>\n",
       "      <td>Stage IV</td>\n",
       "    </tr>\n",
       "    <tr>\n",
       "      <th>1</th>\n",
       "      <td>MBCProject_1037</td>\n",
       "      <td>ABCC3</td>\n",
       "      <td>0.961252</td>\n",
       "      <td>None</td>\n",
       "    </tr>\n",
       "    <tr>\n",
       "      <th>2</th>\n",
       "      <td>MBCProject_1542</td>\n",
       "      <td>ABCC3</td>\n",
       "      <td>0.286342</td>\n",
       "      <td>None</td>\n",
       "    </tr>\n",
       "    <tr>\n",
       "      <th>3</th>\n",
       "      <td>MBCProject_1819</td>\n",
       "      <td>ABCC3</td>\n",
       "      <td>0.880671</td>\n",
       "      <td>None</td>\n",
       "    </tr>\n",
       "    <tr>\n",
       "      <th>4</th>\n",
       "      <td>MBCProject_3159</td>\n",
       "      <td>ABCC3</td>\n",
       "      <td>0.160918</td>\n",
       "      <td>None</td>\n",
       "    </tr>\n",
       "    <tr>\n",
       "      <th>...</th>\n",
       "      <td>...</td>\n",
       "      <td>...</td>\n",
       "      <td>...</td>\n",
       "      <td>...</td>\n",
       "    </tr>\n",
       "    <tr>\n",
       "      <th>1615</th>\n",
       "      <td>TCGA-LL-A8F5</td>\n",
       "      <td>VSIG2</td>\n",
       "      <td>-0.403438</td>\n",
       "      <td>Stage II</td>\n",
       "    </tr>\n",
       "    <tr>\n",
       "      <th>1616</th>\n",
       "      <td>TCGA-OL-A5RW</td>\n",
       "      <td>VSIG2</td>\n",
       "      <td>0.460149</td>\n",
       "      <td>Stage II</td>\n",
       "    </tr>\n",
       "    <tr>\n",
       "      <th>1617</th>\n",
       "      <td>TCGA-OL-A66P</td>\n",
       "      <td>VSIG2</td>\n",
       "      <td>-0.269051</td>\n",
       "      <td>Stage II</td>\n",
       "    </tr>\n",
       "    <tr>\n",
       "      <th>1618</th>\n",
       "      <td>TCGA-OL-A6VQ</td>\n",
       "      <td>VSIG2</td>\n",
       "      <td>0.168668</td>\n",
       "      <td>Stage II</td>\n",
       "    </tr>\n",
       "    <tr>\n",
       "      <th>1619</th>\n",
       "      <td>TCGA-PL-A8LV</td>\n",
       "      <td>VSIG2</td>\n",
       "      <td>-0.357249</td>\n",
       "      <td>Stage III</td>\n",
       "    </tr>\n",
       "  </tbody>\n",
       "</table>\n",
       "<p>1620 rows × 4 columns</p>\n",
       "</div>"
      ],
      "text/plain": [
       "                 Case   Gene  Expression Cancer Stage\n",
       "0             ER-B1PU  ABCC3   -0.045023     Stage IV\n",
       "1     MBCProject_1037  ABCC3    0.961252         None\n",
       "2     MBCProject_1542  ABCC3    0.286342         None\n",
       "3     MBCProject_1819  ABCC3    0.880671         None\n",
       "4     MBCProject_3159  ABCC3    0.160918         None\n",
       "...               ...    ...         ...          ...\n",
       "1615     TCGA-LL-A8F5  VSIG2   -0.403438     Stage II\n",
       "1616     TCGA-OL-A5RW  VSIG2    0.460149     Stage II\n",
       "1617     TCGA-OL-A66P  VSIG2   -0.269051     Stage II\n",
       "1618     TCGA-OL-A6VQ  VSIG2    0.168668     Stage II\n",
       "1619     TCGA-PL-A8LV  VSIG2   -0.357249    Stage III\n",
       "\n",
       "[1620 rows x 4 columns]"
      ]
     },
     "execution_count": 57,
     "metadata": {},
     "output_type": "execute_result"
    }
   ],
   "source": [
    "# Add 'Cancer Stage' to unique_expression_melted\n",
    "unique_expression_melted = unique_expression_melted.merge(\n",
    "    reshaped_df[['Case', 'Cancer Stage']].drop_duplicates(),\n",
    "    on='Case',\n",
    "    how='left'\n",
    ")\n",
    "\n",
    "unique_expression_melted\n",
    "# # Create the heatmap with 'Cancer Stage' in the tooltip\n",
    "# heatmap = px.density_heatmap(\n",
    "#     unique_expression_melted,\n",
    "#     x=\"Gene\",\n",
    "#     y=\"Case\",\n",
    "#     z=\"Expression\",\n",
    "#     color_continuous_scale=\"Blues\",\n",
    "#     range_color=(-2, 30),\n",
    "#     title=\"Heatmap of Gene Expression Levels\",\n",
    "#     labels={'Expression': 'Expression Level'},\n",
    "#     hover_data={'Cancer Stage': True}  # Include 'Cancer Stage' in the tooltip\n",
    "# )\n",
    "\n",
    "# # Display the heatmap\n",
    "# heatmap.show()\n"
   ]
  },
  {
   "cell_type": "code",
   "execution_count": 91,
   "id": "76f139eb",
   "metadata": {},
   "outputs": [
    {
     "name": "stdout",
     "output_type": "stream",
     "text": [
      "Requirement already satisfied: ipywidgets in c:\\users\\sarah\\anaconda3\\lib\\site-packages (7.8.1)\n",
      "Requirement already satisfied: comm>=0.1.3 in c:\\users\\sarah\\anaconda3\\lib\\site-packages (from ipywidgets) (0.2.1)\n",
      "Requirement already satisfied: ipython-genutils~=0.2.0 in c:\\users\\sarah\\anaconda3\\lib\\site-packages (from ipywidgets) (0.2.0)\n",
      "Requirement already satisfied: traitlets>=4.3.1 in c:\\users\\sarah\\anaconda3\\lib\\site-packages (from ipywidgets) (5.14.3)\n",
      "Requirement already satisfied: widgetsnbextension~=3.6.6 in c:\\users\\sarah\\anaconda3\\lib\\site-packages (from ipywidgets) (3.6.6)\n",
      "Requirement already satisfied: ipython>=4.0.0 in c:\\users\\sarah\\anaconda3\\lib\\site-packages (from ipywidgets) (8.25.0)\n",
      "Requirement already satisfied: jupyterlab-widgets<3,>=1.0.0 in c:\\users\\sarah\\anaconda3\\lib\\site-packages (from ipywidgets) (1.0.0)\n",
      "Requirement already satisfied: decorator in c:\\users\\sarah\\anaconda3\\lib\\site-packages (from ipython>=4.0.0->ipywidgets) (5.1.1)\n",
      "Requirement already satisfied: jedi>=0.16 in c:\\users\\sarah\\anaconda3\\lib\\site-packages (from ipython>=4.0.0->ipywidgets) (0.18.1)\n",
      "Requirement already satisfied: matplotlib-inline in c:\\users\\sarah\\anaconda3\\lib\\site-packages (from ipython>=4.0.0->ipywidgets) (0.1.6)\n",
      "Requirement already satisfied: prompt-toolkit<3.1.0,>=3.0.41 in c:\\users\\sarah\\anaconda3\\lib\\site-packages (from ipython>=4.0.0->ipywidgets) (3.0.43)\n",
      "Requirement already satisfied: pygments>=2.4.0 in c:\\users\\sarah\\anaconda3\\lib\\site-packages (from ipython>=4.0.0->ipywidgets) (2.15.1)\n",
      "Requirement already satisfied: stack-data in c:\\users\\sarah\\anaconda3\\lib\\site-packages (from ipython>=4.0.0->ipywidgets) (0.2.0)\n",
      "Requirement already satisfied: colorama in c:\\users\\sarah\\anaconda3\\lib\\site-packages (from ipython>=4.0.0->ipywidgets) (0.4.6)\n",
      "Requirement already satisfied: notebook>=4.4.1 in c:\\users\\sarah\\anaconda3\\lib\\site-packages (from widgetsnbextension~=3.6.6->ipywidgets) (7.0.8)\n",
      "Requirement already satisfied: parso<0.9.0,>=0.8.0 in c:\\users\\sarah\\anaconda3\\lib\\site-packages (from jedi>=0.16->ipython>=4.0.0->ipywidgets) (0.8.3)\n",
      "Requirement already satisfied: jupyter-server<3,>=2.4.0 in c:\\users\\sarah\\anaconda3\\lib\\site-packages (from notebook>=4.4.1->widgetsnbextension~=3.6.6->ipywidgets) (2.14.1)\n",
      "Requirement already satisfied: jupyterlab-server<3,>=2.22.1 in c:\\users\\sarah\\anaconda3\\lib\\site-packages (from notebook>=4.4.1->widgetsnbextension~=3.6.6->ipywidgets) (2.25.1)\n",
      "Requirement already satisfied: jupyterlab<4.1,>=4.0.2 in c:\\users\\sarah\\anaconda3\\lib\\site-packages (from notebook>=4.4.1->widgetsnbextension~=3.6.6->ipywidgets) (4.0.11)\n",
      "Requirement already satisfied: notebook-shim<0.3,>=0.2 in c:\\users\\sarah\\anaconda3\\lib\\site-packages (from notebook>=4.4.1->widgetsnbextension~=3.6.6->ipywidgets) (0.2.3)\n",
      "Requirement already satisfied: tornado>=6.2.0 in c:\\users\\sarah\\anaconda3\\lib\\site-packages (from notebook>=4.4.1->widgetsnbextension~=3.6.6->ipywidgets) (6.4.1)\n",
      "Requirement already satisfied: wcwidth in c:\\users\\sarah\\anaconda3\\lib\\site-packages (from prompt-toolkit<3.1.0,>=3.0.41->ipython>=4.0.0->ipywidgets) (0.2.5)\n",
      "Requirement already satisfied: executing in c:\\users\\sarah\\anaconda3\\lib\\site-packages (from stack-data->ipython>=4.0.0->ipywidgets) (0.8.3)\n",
      "Requirement already satisfied: asttokens in c:\\users\\sarah\\anaconda3\\lib\\site-packages (from stack-data->ipython>=4.0.0->ipywidgets) (2.0.5)\n",
      "Requirement already satisfied: pure-eval in c:\\users\\sarah\\anaconda3\\lib\\site-packages (from stack-data->ipython>=4.0.0->ipywidgets) (0.2.2)\n",
      "Requirement already satisfied: anyio>=3.1.0 in c:\\users\\sarah\\anaconda3\\lib\\site-packages (from jupyter-server<3,>=2.4.0->notebook>=4.4.1->widgetsnbextension~=3.6.6->ipywidgets) (4.2.0)\n",
      "Requirement already satisfied: argon2-cffi>=21.1 in c:\\users\\sarah\\anaconda3\\lib\\site-packages (from jupyter-server<3,>=2.4.0->notebook>=4.4.1->widgetsnbextension~=3.6.6->ipywidgets) (21.3.0)\n",
      "Requirement already satisfied: jinja2>=3.0.3 in c:\\users\\sarah\\anaconda3\\lib\\site-packages (from jupyter-server<3,>=2.4.0->notebook>=4.4.1->widgetsnbextension~=3.6.6->ipywidgets) (3.1.4)\n",
      "Requirement already satisfied: jupyter-client>=7.4.4 in c:\\users\\sarah\\anaconda3\\lib\\site-packages (from jupyter-server<3,>=2.4.0->notebook>=4.4.1->widgetsnbextension~=3.6.6->ipywidgets) (8.6.0)\n",
      "Requirement already satisfied: jupyter-core!=5.0.*,>=4.12 in c:\\users\\sarah\\anaconda3\\lib\\site-packages (from jupyter-server<3,>=2.4.0->notebook>=4.4.1->widgetsnbextension~=3.6.6->ipywidgets) (5.7.2)\n",
      "Requirement already satisfied: jupyter-events>=0.9.0 in c:\\users\\sarah\\anaconda3\\lib\\site-packages (from jupyter-server<3,>=2.4.0->notebook>=4.4.1->widgetsnbextension~=3.6.6->ipywidgets) (0.10.0)\n",
      "Requirement already satisfied: jupyter-server-terminals>=0.4.4 in c:\\users\\sarah\\anaconda3\\lib\\site-packages (from jupyter-server<3,>=2.4.0->notebook>=4.4.1->widgetsnbextension~=3.6.6->ipywidgets) (0.4.4)\n",
      "Requirement already satisfied: nbconvert>=6.4.4 in c:\\users\\sarah\\anaconda3\\lib\\site-packages (from jupyter-server<3,>=2.4.0->notebook>=4.4.1->widgetsnbextension~=3.6.6->ipywidgets) (7.10.0)\n",
      "Requirement already satisfied: nbformat>=5.3.0 in c:\\users\\sarah\\anaconda3\\lib\\site-packages (from jupyter-server<3,>=2.4.0->notebook>=4.4.1->widgetsnbextension~=3.6.6->ipywidgets) (5.9.2)\n",
      "Requirement already satisfied: overrides>=5.0 in c:\\users\\sarah\\anaconda3\\lib\\site-packages (from jupyter-server<3,>=2.4.0->notebook>=4.4.1->widgetsnbextension~=3.6.6->ipywidgets) (7.4.0)\n",
      "Requirement already satisfied: packaging>=22.0 in c:\\users\\sarah\\anaconda3\\lib\\site-packages (from jupyter-server<3,>=2.4.0->notebook>=4.4.1->widgetsnbextension~=3.6.6->ipywidgets) (23.2)\n",
      "Requirement already satisfied: prometheus-client>=0.9 in c:\\users\\sarah\\anaconda3\\lib\\site-packages (from jupyter-server<3,>=2.4.0->notebook>=4.4.1->widgetsnbextension~=3.6.6->ipywidgets) (0.14.1)\n",
      "Requirement already satisfied: pywinpty>=2.0.1 in c:\\users\\sarah\\anaconda3\\lib\\site-packages (from jupyter-server<3,>=2.4.0->notebook>=4.4.1->widgetsnbextension~=3.6.6->ipywidgets) (2.0.10)\n",
      "Requirement already satisfied: pyzmq>=24 in c:\\users\\sarah\\anaconda3\\lib\\site-packages (from jupyter-server<3,>=2.4.0->notebook>=4.4.1->widgetsnbextension~=3.6.6->ipywidgets) (25.1.2)\n",
      "Requirement already satisfied: send2trash>=1.8.2 in c:\\users\\sarah\\anaconda3\\lib\\site-packages (from jupyter-server<3,>=2.4.0->notebook>=4.4.1->widgetsnbextension~=3.6.6->ipywidgets) (1.8.2)\n",
      "Requirement already satisfied: terminado>=0.8.3 in c:\\users\\sarah\\anaconda3\\lib\\site-packages (from jupyter-server<3,>=2.4.0->notebook>=4.4.1->widgetsnbextension~=3.6.6->ipywidgets) (0.17.1)\n",
      "Requirement already satisfied: websocket-client>=1.7 in c:\\users\\sarah\\anaconda3\\lib\\site-packages (from jupyter-server<3,>=2.4.0->notebook>=4.4.1->widgetsnbextension~=3.6.6->ipywidgets) (1.8.0)\n",
      "Requirement already satisfied: async-lru>=1.0.0 in c:\\users\\sarah\\anaconda3\\lib\\site-packages (from jupyterlab<4.1,>=4.0.2->notebook>=4.4.1->widgetsnbextension~=3.6.6->ipywidgets) (2.0.4)\n",
      "Requirement already satisfied: ipykernel in c:\\users\\sarah\\anaconda3\\lib\\site-packages (from jupyterlab<4.1,>=4.0.2->notebook>=4.4.1->widgetsnbextension~=3.6.6->ipywidgets) (6.28.0)\n",
      "Requirement already satisfied: jupyter-lsp>=2.0.0 in c:\\users\\sarah\\anaconda3\\lib\\site-packages (from jupyterlab<4.1,>=4.0.2->notebook>=4.4.1->widgetsnbextension~=3.6.6->ipywidgets) (2.2.0)\n",
      "Requirement already satisfied: babel>=2.10 in c:\\users\\sarah\\anaconda3\\lib\\site-packages (from jupyterlab-server<3,>=2.22.1->notebook>=4.4.1->widgetsnbextension~=3.6.6->ipywidgets) (2.11.0)\n",
      "Requirement already satisfied: json5>=0.9.0 in c:\\users\\sarah\\anaconda3\\lib\\site-packages (from jupyterlab-server<3,>=2.22.1->notebook>=4.4.1->widgetsnbextension~=3.6.6->ipywidgets) (0.9.6)\n",
      "Requirement already satisfied: jsonschema>=4.18.0 in c:\\users\\sarah\\anaconda3\\lib\\site-packages (from jupyterlab-server<3,>=2.22.1->notebook>=4.4.1->widgetsnbextension~=3.6.6->ipywidgets) (4.19.2)\n",
      "Requirement already satisfied: requests>=2.31 in c:\\users\\sarah\\anaconda3\\lib\\site-packages (from jupyterlab-server<3,>=2.22.1->notebook>=4.4.1->widgetsnbextension~=3.6.6->ipywidgets) (2.32.2)\n",
      "Requirement already satisfied: six in c:\\users\\sarah\\anaconda3\\lib\\site-packages (from asttokens->stack-data->ipython>=4.0.0->ipywidgets) (1.16.0)\n",
      "Requirement already satisfied: idna>=2.8 in c:\\users\\sarah\\anaconda3\\lib\\site-packages (from anyio>=3.1.0->jupyter-server<3,>=2.4.0->notebook>=4.4.1->widgetsnbextension~=3.6.6->ipywidgets) (3.7)\n",
      "Requirement already satisfied: sniffio>=1.1 in c:\\users\\sarah\\anaconda3\\lib\\site-packages (from anyio>=3.1.0->jupyter-server<3,>=2.4.0->notebook>=4.4.1->widgetsnbextension~=3.6.6->ipywidgets) (1.3.0)\n",
      "Requirement already satisfied: argon2-cffi-bindings in c:\\users\\sarah\\anaconda3\\lib\\site-packages (from argon2-cffi>=21.1->jupyter-server<3,>=2.4.0->notebook>=4.4.1->widgetsnbextension~=3.6.6->ipywidgets) (21.2.0)\n",
      "Requirement already satisfied: pytz>=2015.7 in c:\\users\\sarah\\anaconda3\\lib\\site-packages (from babel>=2.10->jupyterlab-server<3,>=2.22.1->notebook>=4.4.1->widgetsnbextension~=3.6.6->ipywidgets) (2024.1)\n",
      "Requirement already satisfied: MarkupSafe>=2.0 in c:\\users\\sarah\\anaconda3\\lib\\site-packages (from jinja2>=3.0.3->jupyter-server<3,>=2.4.0->notebook>=4.4.1->widgetsnbextension~=3.6.6->ipywidgets) (2.1.3)\n",
      "Requirement already satisfied: attrs>=22.2.0 in c:\\users\\sarah\\anaconda3\\lib\\site-packages (from jsonschema>=4.18.0->jupyterlab-server<3,>=2.22.1->notebook>=4.4.1->widgetsnbextension~=3.6.6->ipywidgets) (23.1.0)\n",
      "Requirement already satisfied: jsonschema-specifications>=2023.03.6 in c:\\users\\sarah\\anaconda3\\lib\\site-packages (from jsonschema>=4.18.0->jupyterlab-server<3,>=2.22.1->notebook>=4.4.1->widgetsnbextension~=3.6.6->ipywidgets) (2023.7.1)\n",
      "Requirement already satisfied: referencing>=0.28.4 in c:\\users\\sarah\\anaconda3\\lib\\site-packages (from jsonschema>=4.18.0->jupyterlab-server<3,>=2.22.1->notebook>=4.4.1->widgetsnbextension~=3.6.6->ipywidgets) (0.30.2)\n",
      "Requirement already satisfied: rpds-py>=0.7.1 in c:\\users\\sarah\\anaconda3\\lib\\site-packages (from jsonschema>=4.18.0->jupyterlab-server<3,>=2.22.1->notebook>=4.4.1->widgetsnbextension~=3.6.6->ipywidgets) (0.10.6)\n",
      "Requirement already satisfied: python-dateutil>=2.8.2 in c:\\users\\sarah\\anaconda3\\lib\\site-packages (from jupyter-client>=7.4.4->jupyter-server<3,>=2.4.0->notebook>=4.4.1->widgetsnbextension~=3.6.6->ipywidgets) (2.9.0.post0)\n",
      "Requirement already satisfied: platformdirs>=2.5 in c:\\users\\sarah\\anaconda3\\lib\\site-packages (from jupyter-core!=5.0.*,>=4.12->jupyter-server<3,>=2.4.0->notebook>=4.4.1->widgetsnbextension~=3.6.6->ipywidgets) (3.10.0)\n",
      "Requirement already satisfied: pywin32>=300 in c:\\users\\sarah\\anaconda3\\lib\\site-packages (from jupyter-core!=5.0.*,>=4.12->jupyter-server<3,>=2.4.0->notebook>=4.4.1->widgetsnbextension~=3.6.6->ipywidgets) (305.1)\n",
      "Requirement already satisfied: python-json-logger>=2.0.4 in c:\\users\\sarah\\anaconda3\\lib\\site-packages (from jupyter-events>=0.9.0->jupyter-server<3,>=2.4.0->notebook>=4.4.1->widgetsnbextension~=3.6.6->ipywidgets) (2.0.7)\n",
      "Requirement already satisfied: pyyaml>=5.3 in c:\\users\\sarah\\anaconda3\\lib\\site-packages (from jupyter-events>=0.9.0->jupyter-server<3,>=2.4.0->notebook>=4.4.1->widgetsnbextension~=3.6.6->ipywidgets) (6.0.1)\n",
      "Requirement already satisfied: rfc3339-validator in c:\\users\\sarah\\anaconda3\\lib\\site-packages (from jupyter-events>=0.9.0->jupyter-server<3,>=2.4.0->notebook>=4.4.1->widgetsnbextension~=3.6.6->ipywidgets) (0.1.4)\n",
      "Requirement already satisfied: rfc3986-validator>=0.1.1 in c:\\users\\sarah\\anaconda3\\lib\\site-packages (from jupyter-events>=0.9.0->jupyter-server<3,>=2.4.0->notebook>=4.4.1->widgetsnbextension~=3.6.6->ipywidgets) (0.1.1)\n",
      "Requirement already satisfied: beautifulsoup4 in c:\\users\\sarah\\anaconda3\\lib\\site-packages (from nbconvert>=6.4.4->jupyter-server<3,>=2.4.0->notebook>=4.4.1->widgetsnbextension~=3.6.6->ipywidgets) (4.12.3)\n",
      "Requirement already satisfied: bleach!=5.0.0 in c:\\users\\sarah\\anaconda3\\lib\\site-packages (from nbconvert>=6.4.4->jupyter-server<3,>=2.4.0->notebook>=4.4.1->widgetsnbextension~=3.6.6->ipywidgets) (4.1.0)\n",
      "Requirement already satisfied: defusedxml in c:\\users\\sarah\\anaconda3\\lib\\site-packages (from nbconvert>=6.4.4->jupyter-server<3,>=2.4.0->notebook>=4.4.1->widgetsnbextension~=3.6.6->ipywidgets) (0.7.1)\n",
      "Requirement already satisfied: jupyterlab-pygments in c:\\users\\sarah\\anaconda3\\lib\\site-packages (from nbconvert>=6.4.4->jupyter-server<3,>=2.4.0->notebook>=4.4.1->widgetsnbextension~=3.6.6->ipywidgets) (0.1.2)\n",
      "Requirement already satisfied: mistune<4,>=2.0.3 in c:\\users\\sarah\\anaconda3\\lib\\site-packages (from nbconvert>=6.4.4->jupyter-server<3,>=2.4.0->notebook>=4.4.1->widgetsnbextension~=3.6.6->ipywidgets) (2.0.4)\n",
      "Requirement already satisfied: nbclient>=0.5.0 in c:\\users\\sarah\\anaconda3\\lib\\site-packages (from nbconvert>=6.4.4->jupyter-server<3,>=2.4.0->notebook>=4.4.1->widgetsnbextension~=3.6.6->ipywidgets) (0.8.0)\n",
      "Requirement already satisfied: pandocfilters>=1.4.1 in c:\\users\\sarah\\anaconda3\\lib\\site-packages (from nbconvert>=6.4.4->jupyter-server<3,>=2.4.0->notebook>=4.4.1->widgetsnbextension~=3.6.6->ipywidgets) (1.5.0)\n",
      "Requirement already satisfied: tinycss2 in c:\\users\\sarah\\anaconda3\\lib\\site-packages (from nbconvert>=6.4.4->jupyter-server<3,>=2.4.0->notebook>=4.4.1->widgetsnbextension~=3.6.6->ipywidgets) (1.2.1)\n",
      "Requirement already satisfied: fastjsonschema in c:\\users\\sarah\\anaconda3\\lib\\site-packages (from nbformat>=5.3.0->jupyter-server<3,>=2.4.0->notebook>=4.4.1->widgetsnbextension~=3.6.6->ipywidgets) (2.16.2)\n",
      "Requirement already satisfied: charset-normalizer<4,>=2 in c:\\users\\sarah\\anaconda3\\lib\\site-packages (from requests>=2.31->jupyterlab-server<3,>=2.22.1->notebook>=4.4.1->widgetsnbextension~=3.6.6->ipywidgets) (2.0.4)\n",
      "Requirement already satisfied: urllib3<3,>=1.21.1 in c:\\users\\sarah\\anaconda3\\lib\\site-packages (from requests>=2.31->jupyterlab-server<3,>=2.22.1->notebook>=4.4.1->widgetsnbextension~=3.6.6->ipywidgets) (2.2.2)\n",
      "Requirement already satisfied: certifi>=2017.4.17 in c:\\users\\sarah\\anaconda3\\lib\\site-packages (from requests>=2.31->jupyterlab-server<3,>=2.22.1->notebook>=4.4.1->widgetsnbextension~=3.6.6->ipywidgets) (2024.8.30)\n",
      "Requirement already satisfied: debugpy>=1.6.5 in c:\\users\\sarah\\anaconda3\\lib\\site-packages (from ipykernel->jupyterlab<4.1,>=4.0.2->notebook>=4.4.1->widgetsnbextension~=3.6.6->ipywidgets) (1.6.7)\n",
      "Requirement already satisfied: nest-asyncio in c:\\users\\sarah\\anaconda3\\lib\\site-packages (from ipykernel->jupyterlab<4.1,>=4.0.2->notebook>=4.4.1->widgetsnbextension~=3.6.6->ipywidgets) (1.6.0)\n",
      "Requirement already satisfied: psutil in c:\\users\\sarah\\anaconda3\\lib\\site-packages (from ipykernel->jupyterlab<4.1,>=4.0.2->notebook>=4.4.1->widgetsnbextension~=3.6.6->ipywidgets) (5.9.0)\n",
      "Requirement already satisfied: webencodings in c:\\users\\sarah\\anaconda3\\lib\\site-packages (from bleach!=5.0.0->nbconvert>=6.4.4->jupyter-server<3,>=2.4.0->notebook>=4.4.1->widgetsnbextension~=3.6.6->ipywidgets) (0.5.1)\n",
      "Collecting fqdn (from jsonschema[format-nongpl]>=4.18.0->jupyter-events>=0.9.0->jupyter-server<3,>=2.4.0->notebook>=4.4.1->widgetsnbextension~=3.6.6->ipywidgets)\n",
      "  Downloading fqdn-1.5.1-py3-none-any.whl.metadata (1.4 kB)\n",
      "Collecting isoduration (from jsonschema[format-nongpl]>=4.18.0->jupyter-events>=0.9.0->jupyter-server<3,>=2.4.0->notebook>=4.4.1->widgetsnbextension~=3.6.6->ipywidgets)\n",
      "  Downloading isoduration-20.11.0-py3-none-any.whl.metadata (5.7 kB)\n",
      "Requirement already satisfied: jsonpointer>1.13 in c:\\users\\sarah\\anaconda3\\lib\\site-packages (from jsonschema[format-nongpl]>=4.18.0->jupyter-events>=0.9.0->jupyter-server<3,>=2.4.0->notebook>=4.4.1->widgetsnbextension~=3.6.6->ipywidgets) (2.1)\n",
      "Collecting uri-template (from jsonschema[format-nongpl]>=4.18.0->jupyter-events>=0.9.0->jupyter-server<3,>=2.4.0->notebook>=4.4.1->widgetsnbextension~=3.6.6->ipywidgets)\n",
      "  Downloading uri_template-1.3.0-py3-none-any.whl.metadata (8.8 kB)\n",
      "Collecting webcolors>=1.11 (from jsonschema[format-nongpl]>=4.18.0->jupyter-events>=0.9.0->jupyter-server<3,>=2.4.0->notebook>=4.4.1->widgetsnbextension~=3.6.6->ipywidgets)\n",
      "  Downloading webcolors-24.11.1-py3-none-any.whl.metadata (2.2 kB)\n",
      "Requirement already satisfied: cffi>=1.0.1 in c:\\users\\sarah\\anaconda3\\lib\\site-packages (from argon2-cffi-bindings->argon2-cffi>=21.1->jupyter-server<3,>=2.4.0->notebook>=4.4.1->widgetsnbextension~=3.6.6->ipywidgets) (1.16.0)\n",
      "Requirement already satisfied: soupsieve>1.2 in c:\\users\\sarah\\anaconda3\\lib\\site-packages (from beautifulsoup4->nbconvert>=6.4.4->jupyter-server<3,>=2.4.0->notebook>=4.4.1->widgetsnbextension~=3.6.6->ipywidgets) (2.5)\n",
      "Requirement already satisfied: pycparser in c:\\users\\sarah\\anaconda3\\lib\\site-packages (from cffi>=1.0.1->argon2-cffi-bindings->argon2-cffi>=21.1->jupyter-server<3,>=2.4.0->notebook>=4.4.1->widgetsnbextension~=3.6.6->ipywidgets) (2.21)\n",
      "Requirement already satisfied: arrow>=0.15.0 in c:\\users\\sarah\\anaconda3\\lib\\site-packages (from isoduration->jsonschema[format-nongpl]>=4.18.0->jupyter-events>=0.9.0->jupyter-server<3,>=2.4.0->notebook>=4.4.1->widgetsnbextension~=3.6.6->ipywidgets) (1.2.3)\n",
      "Downloading webcolors-24.11.1-py3-none-any.whl (14 kB)\n",
      "Downloading fqdn-1.5.1-py3-none-any.whl (9.1 kB)\n",
      "Downloading isoduration-20.11.0-py3-none-any.whl (11 kB)\n",
      "Downloading uri_template-1.3.0-py3-none-any.whl (11 kB)\n",
      "Installing collected packages: webcolors, uri-template, fqdn, isoduration\n",
      "Successfully installed fqdn-1.5.1 isoduration-20.11.0 uri-template-1.3.0 webcolors-24.11.1\n"
     ]
    }
   ],
   "source": [
    "!pip install ipywidgets"
   ]
  },
  {
   "cell_type": "code",
   "execution_count": 67,
   "id": "4cb4eefb",
   "metadata": {},
   "outputs": [
    {
     "name": "stderr",
     "output_type": "stream",
     "text": [
      "/tmp/ipykernel_8245/1359600432.py:9: UserWarning:\n",
      "\n",
      "Boolean Series key will be reindexed to match DataFrame index.\n",
      "\n"
     ]
    },
    {
     "data": {
      "application/vnd.plotly.v1+json": {
       "config": {
        "plotlyServerURL": "https://plot.ly"
       },
       "data": [
        {
         "alignmentgroup": "True",
         "hovertemplate": "AJCC Pathologic Stage=%{x}<br>Number of Cases=%{text}<extra></extra>",
         "legendgroup": "",
         "marker": {
          "color": "lightblue",
          "line": {
           "color": "black",
           "width": 1
          },
          "pattern": {
           "shape": ""
          }
         },
         "name": "",
         "offsetgroup": "",
         "orientation": "v",
         "showlegend": false,
         "text": [
          1,
          34,
          8
         ],
         "textposition": "outside",
         "type": "bar",
         "x": [
          "Stage I",
          "Stage II",
          "Stage III"
         ],
         "xaxis": "x",
         "y": [
          1,
          34,
          8
         ],
         "yaxis": "y"
        }
       ],
       "layout": {
        "barmode": "relative",
        "legend": {
         "tracegroupgap": 0
        },
        "template": {
         "data": {
          "bar": [
           {
            "error_x": {
             "color": "#2a3f5f"
            },
            "error_y": {
             "color": "#2a3f5f"
            },
            "marker": {
             "line": {
              "color": "#E5ECF6",
              "width": 0.5
             },
             "pattern": {
              "fillmode": "overlay",
              "size": 10,
              "solidity": 0.2
             }
            },
            "type": "bar"
           }
          ],
          "barpolar": [
           {
            "marker": {
             "line": {
              "color": "#E5ECF6",
              "width": 0.5
             },
             "pattern": {
              "fillmode": "overlay",
              "size": 10,
              "solidity": 0.2
             }
            },
            "type": "barpolar"
           }
          ],
          "carpet": [
           {
            "aaxis": {
             "endlinecolor": "#2a3f5f",
             "gridcolor": "white",
             "linecolor": "white",
             "minorgridcolor": "white",
             "startlinecolor": "#2a3f5f"
            },
            "baxis": {
             "endlinecolor": "#2a3f5f",
             "gridcolor": "white",
             "linecolor": "white",
             "minorgridcolor": "white",
             "startlinecolor": "#2a3f5f"
            },
            "type": "carpet"
           }
          ],
          "choropleth": [
           {
            "colorbar": {
             "outlinewidth": 0,
             "ticks": ""
            },
            "type": "choropleth"
           }
          ],
          "contour": [
           {
            "colorbar": {
             "outlinewidth": 0,
             "ticks": ""
            },
            "colorscale": [
             [
              0,
              "#0d0887"
             ],
             [
              0.1111111111111111,
              "#46039f"
             ],
             [
              0.2222222222222222,
              "#7201a8"
             ],
             [
              0.3333333333333333,
              "#9c179e"
             ],
             [
              0.4444444444444444,
              "#bd3786"
             ],
             [
              0.5555555555555556,
              "#d8576b"
             ],
             [
              0.6666666666666666,
              "#ed7953"
             ],
             [
              0.7777777777777778,
              "#fb9f3a"
             ],
             [
              0.8888888888888888,
              "#fdca26"
             ],
             [
              1,
              "#f0f921"
             ]
            ],
            "type": "contour"
           }
          ],
          "contourcarpet": [
           {
            "colorbar": {
             "outlinewidth": 0,
             "ticks": ""
            },
            "type": "contourcarpet"
           }
          ],
          "heatmap": [
           {
            "colorbar": {
             "outlinewidth": 0,
             "ticks": ""
            },
            "colorscale": [
             [
              0,
              "#0d0887"
             ],
             [
              0.1111111111111111,
              "#46039f"
             ],
             [
              0.2222222222222222,
              "#7201a8"
             ],
             [
              0.3333333333333333,
              "#9c179e"
             ],
             [
              0.4444444444444444,
              "#bd3786"
             ],
             [
              0.5555555555555556,
              "#d8576b"
             ],
             [
              0.6666666666666666,
              "#ed7953"
             ],
             [
              0.7777777777777778,
              "#fb9f3a"
             ],
             [
              0.8888888888888888,
              "#fdca26"
             ],
             [
              1,
              "#f0f921"
             ]
            ],
            "type": "heatmap"
           }
          ],
          "heatmapgl": [
           {
            "colorbar": {
             "outlinewidth": 0,
             "ticks": ""
            },
            "colorscale": [
             [
              0,
              "#0d0887"
             ],
             [
              0.1111111111111111,
              "#46039f"
             ],
             [
              0.2222222222222222,
              "#7201a8"
             ],
             [
              0.3333333333333333,
              "#9c179e"
             ],
             [
              0.4444444444444444,
              "#bd3786"
             ],
             [
              0.5555555555555556,
              "#d8576b"
             ],
             [
              0.6666666666666666,
              "#ed7953"
             ],
             [
              0.7777777777777778,
              "#fb9f3a"
             ],
             [
              0.8888888888888888,
              "#fdca26"
             ],
             [
              1,
              "#f0f921"
             ]
            ],
            "type": "heatmapgl"
           }
          ],
          "histogram": [
           {
            "marker": {
             "pattern": {
              "fillmode": "overlay",
              "size": 10,
              "solidity": 0.2
             }
            },
            "type": "histogram"
           }
          ],
          "histogram2d": [
           {
            "colorbar": {
             "outlinewidth": 0,
             "ticks": ""
            },
            "colorscale": [
             [
              0,
              "#0d0887"
             ],
             [
              0.1111111111111111,
              "#46039f"
             ],
             [
              0.2222222222222222,
              "#7201a8"
             ],
             [
              0.3333333333333333,
              "#9c179e"
             ],
             [
              0.4444444444444444,
              "#bd3786"
             ],
             [
              0.5555555555555556,
              "#d8576b"
             ],
             [
              0.6666666666666666,
              "#ed7953"
             ],
             [
              0.7777777777777778,
              "#fb9f3a"
             ],
             [
              0.8888888888888888,
              "#fdca26"
             ],
             [
              1,
              "#f0f921"
             ]
            ],
            "type": "histogram2d"
           }
          ],
          "histogram2dcontour": [
           {
            "colorbar": {
             "outlinewidth": 0,
             "ticks": ""
            },
            "colorscale": [
             [
              0,
              "#0d0887"
             ],
             [
              0.1111111111111111,
              "#46039f"
             ],
             [
              0.2222222222222222,
              "#7201a8"
             ],
             [
              0.3333333333333333,
              "#9c179e"
             ],
             [
              0.4444444444444444,
              "#bd3786"
             ],
             [
              0.5555555555555556,
              "#d8576b"
             ],
             [
              0.6666666666666666,
              "#ed7953"
             ],
             [
              0.7777777777777778,
              "#fb9f3a"
             ],
             [
              0.8888888888888888,
              "#fdca26"
             ],
             [
              1,
              "#f0f921"
             ]
            ],
            "type": "histogram2dcontour"
           }
          ],
          "mesh3d": [
           {
            "colorbar": {
             "outlinewidth": 0,
             "ticks": ""
            },
            "type": "mesh3d"
           }
          ],
          "parcoords": [
           {
            "line": {
             "colorbar": {
              "outlinewidth": 0,
              "ticks": ""
             }
            },
            "type": "parcoords"
           }
          ],
          "pie": [
           {
            "automargin": true,
            "type": "pie"
           }
          ],
          "scatter": [
           {
            "fillpattern": {
             "fillmode": "overlay",
             "size": 10,
             "solidity": 0.2
            },
            "type": "scatter"
           }
          ],
          "scatter3d": [
           {
            "line": {
             "colorbar": {
              "outlinewidth": 0,
              "ticks": ""
             }
            },
            "marker": {
             "colorbar": {
              "outlinewidth": 0,
              "ticks": ""
             }
            },
            "type": "scatter3d"
           }
          ],
          "scattercarpet": [
           {
            "marker": {
             "colorbar": {
              "outlinewidth": 0,
              "ticks": ""
             }
            },
            "type": "scattercarpet"
           }
          ],
          "scattergeo": [
           {
            "marker": {
             "colorbar": {
              "outlinewidth": 0,
              "ticks": ""
             }
            },
            "type": "scattergeo"
           }
          ],
          "scattergl": [
           {
            "marker": {
             "colorbar": {
              "outlinewidth": 0,
              "ticks": ""
             }
            },
            "type": "scattergl"
           }
          ],
          "scattermapbox": [
           {
            "marker": {
             "colorbar": {
              "outlinewidth": 0,
              "ticks": ""
             }
            },
            "type": "scattermapbox"
           }
          ],
          "scatterpolar": [
           {
            "marker": {
             "colorbar": {
              "outlinewidth": 0,
              "ticks": ""
             }
            },
            "type": "scatterpolar"
           }
          ],
          "scatterpolargl": [
           {
            "marker": {
             "colorbar": {
              "outlinewidth": 0,
              "ticks": ""
             }
            },
            "type": "scatterpolargl"
           }
          ],
          "scatterternary": [
           {
            "marker": {
             "colorbar": {
              "outlinewidth": 0,
              "ticks": ""
             }
            },
            "type": "scatterternary"
           }
          ],
          "surface": [
           {
            "colorbar": {
             "outlinewidth": 0,
             "ticks": ""
            },
            "colorscale": [
             [
              0,
              "#0d0887"
             ],
             [
              0.1111111111111111,
              "#46039f"
             ],
             [
              0.2222222222222222,
              "#7201a8"
             ],
             [
              0.3333333333333333,
              "#9c179e"
             ],
             [
              0.4444444444444444,
              "#bd3786"
             ],
             [
              0.5555555555555556,
              "#d8576b"
             ],
             [
              0.6666666666666666,
              "#ed7953"
             ],
             [
              0.7777777777777778,
              "#fb9f3a"
             ],
             [
              0.8888888888888888,
              "#fdca26"
             ],
             [
              1,
              "#f0f921"
             ]
            ],
            "type": "surface"
           }
          ],
          "table": [
           {
            "cells": {
             "fill": {
              "color": "#EBF0F8"
             },
             "line": {
              "color": "white"
             }
            },
            "header": {
             "fill": {
              "color": "#C8D4E3"
             },
             "line": {
              "color": "white"
             }
            },
            "type": "table"
           }
          ]
         },
         "layout": {
          "annotationdefaults": {
           "arrowcolor": "#2a3f5f",
           "arrowhead": 0,
           "arrowwidth": 1
          },
          "autotypenumbers": "strict",
          "coloraxis": {
           "colorbar": {
            "outlinewidth": 0,
            "ticks": ""
           }
          },
          "colorscale": {
           "diverging": [
            [
             0,
             "#8e0152"
            ],
            [
             0.1,
             "#c51b7d"
            ],
            [
             0.2,
             "#de77ae"
            ],
            [
             0.3,
             "#f1b6da"
            ],
            [
             0.4,
             "#fde0ef"
            ],
            [
             0.5,
             "#f7f7f7"
            ],
            [
             0.6,
             "#e6f5d0"
            ],
            [
             0.7,
             "#b8e186"
            ],
            [
             0.8,
             "#7fbc41"
            ],
            [
             0.9,
             "#4d9221"
            ],
            [
             1,
             "#276419"
            ]
           ],
           "sequential": [
            [
             0,
             "#0d0887"
            ],
            [
             0.1111111111111111,
             "#46039f"
            ],
            [
             0.2222222222222222,
             "#7201a8"
            ],
            [
             0.3333333333333333,
             "#9c179e"
            ],
            [
             0.4444444444444444,
             "#bd3786"
            ],
            [
             0.5555555555555556,
             "#d8576b"
            ],
            [
             0.6666666666666666,
             "#ed7953"
            ],
            [
             0.7777777777777778,
             "#fb9f3a"
            ],
            [
             0.8888888888888888,
             "#fdca26"
            ],
            [
             1,
             "#f0f921"
            ]
           ],
           "sequentialminus": [
            [
             0,
             "#0d0887"
            ],
            [
             0.1111111111111111,
             "#46039f"
            ],
            [
             0.2222222222222222,
             "#7201a8"
            ],
            [
             0.3333333333333333,
             "#9c179e"
            ],
            [
             0.4444444444444444,
             "#bd3786"
            ],
            [
             0.5555555555555556,
             "#d8576b"
            ],
            [
             0.6666666666666666,
             "#ed7953"
            ],
            [
             0.7777777777777778,
             "#fb9f3a"
            ],
            [
             0.8888888888888888,
             "#fdca26"
            ],
            [
             1,
             "#f0f921"
            ]
           ]
          },
          "colorway": [
           "#636efa",
           "#EF553B",
           "#00cc96",
           "#ab63fa",
           "#FFA15A",
           "#19d3f3",
           "#FF6692",
           "#B6E880",
           "#FF97FF",
           "#FECB52"
          ],
          "font": {
           "color": "#2a3f5f"
          },
          "geo": {
           "bgcolor": "white",
           "lakecolor": "white",
           "landcolor": "#E5ECF6",
           "showlakes": true,
           "showland": true,
           "subunitcolor": "white"
          },
          "hoverlabel": {
           "align": "left"
          },
          "hovermode": "closest",
          "mapbox": {
           "style": "light"
          },
          "paper_bgcolor": "white",
          "plot_bgcolor": "#E5ECF6",
          "polar": {
           "angularaxis": {
            "gridcolor": "white",
            "linecolor": "white",
            "ticks": ""
           },
           "bgcolor": "#E5ECF6",
           "radialaxis": {
            "gridcolor": "white",
            "linecolor": "white",
            "ticks": ""
           }
          },
          "scene": {
           "xaxis": {
            "backgroundcolor": "#E5ECF6",
            "gridcolor": "white",
            "gridwidth": 2,
            "linecolor": "white",
            "showbackground": true,
            "ticks": "",
            "zerolinecolor": "white"
           },
           "yaxis": {
            "backgroundcolor": "#E5ECF6",
            "gridcolor": "white",
            "gridwidth": 2,
            "linecolor": "white",
            "showbackground": true,
            "ticks": "",
            "zerolinecolor": "white"
           },
           "zaxis": {
            "backgroundcolor": "#E5ECF6",
            "gridcolor": "white",
            "gridwidth": 2,
            "linecolor": "white",
            "showbackground": true,
            "ticks": "",
            "zerolinecolor": "white"
           }
          },
          "shapedefaults": {
           "line": {
            "color": "#2a3f5f"
           }
          },
          "ternary": {
           "aaxis": {
            "gridcolor": "white",
            "linecolor": "white",
            "ticks": ""
           },
           "baxis": {
            "gridcolor": "white",
            "linecolor": "white",
            "ticks": ""
           },
           "bgcolor": "#E5ECF6",
           "caxis": {
            "gridcolor": "white",
            "linecolor": "white",
            "ticks": ""
           }
          },
          "title": {
           "x": 0.05
          },
          "xaxis": {
           "automargin": true,
           "gridcolor": "white",
           "linecolor": "white",
           "ticks": "",
           "title": {
            "standoff": 15
           },
           "zerolinecolor": "white",
           "zerolinewidth": 2
          },
          "yaxis": {
           "automargin": true,
           "gridcolor": "white",
           "linecolor": "white",
           "ticks": "",
           "title": {
            "standoff": 15
           },
           "zerolinecolor": "white",
           "zerolinewidth": 2
          }
         }
        },
        "title": {
         "text": "Distribution of Cases by AJCC Pathologic Stage"
        },
        "xaxis": {
         "anchor": "y",
         "domain": [
          0,
          1
         ],
         "tickangle": 45,
         "title": {
          "text": "AJCC Pathologic Stage"
         }
        },
        "yaxis": {
         "anchor": "x",
         "domain": [
          0,
          1
         ],
         "title": {
          "text": "Number of Cases"
         }
        }
       }
      },
      "text/html": [
       "<div>                            <div id=\"d43752b8-beb5-4751-b932-8f6f954c8ec8\" class=\"plotly-graph-div\" style=\"height:525px; width:100%;\"></div>            <script type=\"text/javascript\">                require([\"plotly\"], function(Plotly) {                    window.PLOTLYENV=window.PLOTLYENV || {};                                    if (document.getElementById(\"d43752b8-beb5-4751-b932-8f6f954c8ec8\")) {                    Plotly.newPlot(                        \"d43752b8-beb5-4751-b932-8f6f954c8ec8\",                        [{\"alignmentgroup\":\"True\",\"hovertemplate\":\"AJCC Pathologic Stage=%{x}\\u003cbr\\u003eNumber of Cases=%{text}\\u003cextra\\u003e\\u003c\\u002fextra\\u003e\",\"legendgroup\":\"\",\"marker\":{\"color\":\"lightblue\",\"pattern\":{\"shape\":\"\"},\"line\":{\"color\":\"black\",\"width\":1}},\"name\":\"\",\"offsetgroup\":\"\",\"orientation\":\"v\",\"showlegend\":false,\"text\":[1.0,34.0,8.0],\"textposition\":\"outside\",\"x\":[\"Stage I\",\"Stage II\",\"Stage III\"],\"xaxis\":\"x\",\"y\":[1,34,8],\"yaxis\":\"y\",\"type\":\"bar\"}],                        {\"template\":{\"data\":{\"histogram2dcontour\":[{\"type\":\"histogram2dcontour\",\"colorbar\":{\"outlinewidth\":0,\"ticks\":\"\"},\"colorscale\":[[0.0,\"#0d0887\"],[0.1111111111111111,\"#46039f\"],[0.2222222222222222,\"#7201a8\"],[0.3333333333333333,\"#9c179e\"],[0.4444444444444444,\"#bd3786\"],[0.5555555555555556,\"#d8576b\"],[0.6666666666666666,\"#ed7953\"],[0.7777777777777778,\"#fb9f3a\"],[0.8888888888888888,\"#fdca26\"],[1.0,\"#f0f921\"]]}],\"choropleth\":[{\"type\":\"choropleth\",\"colorbar\":{\"outlinewidth\":0,\"ticks\":\"\"}}],\"histogram2d\":[{\"type\":\"histogram2d\",\"colorbar\":{\"outlinewidth\":0,\"ticks\":\"\"},\"colorscale\":[[0.0,\"#0d0887\"],[0.1111111111111111,\"#46039f\"],[0.2222222222222222,\"#7201a8\"],[0.3333333333333333,\"#9c179e\"],[0.4444444444444444,\"#bd3786\"],[0.5555555555555556,\"#d8576b\"],[0.6666666666666666,\"#ed7953\"],[0.7777777777777778,\"#fb9f3a\"],[0.8888888888888888,\"#fdca26\"],[1.0,\"#f0f921\"]]}],\"heatmap\":[{\"type\":\"heatmap\",\"colorbar\":{\"outlinewidth\":0,\"ticks\":\"\"},\"colorscale\":[[0.0,\"#0d0887\"],[0.1111111111111111,\"#46039f\"],[0.2222222222222222,\"#7201a8\"],[0.3333333333333333,\"#9c179e\"],[0.4444444444444444,\"#bd3786\"],[0.5555555555555556,\"#d8576b\"],[0.6666666666666666,\"#ed7953\"],[0.7777777777777778,\"#fb9f3a\"],[0.8888888888888888,\"#fdca26\"],[1.0,\"#f0f921\"]]}],\"heatmapgl\":[{\"type\":\"heatmapgl\",\"colorbar\":{\"outlinewidth\":0,\"ticks\":\"\"},\"colorscale\":[[0.0,\"#0d0887\"],[0.1111111111111111,\"#46039f\"],[0.2222222222222222,\"#7201a8\"],[0.3333333333333333,\"#9c179e\"],[0.4444444444444444,\"#bd3786\"],[0.5555555555555556,\"#d8576b\"],[0.6666666666666666,\"#ed7953\"],[0.7777777777777778,\"#fb9f3a\"],[0.8888888888888888,\"#fdca26\"],[1.0,\"#f0f921\"]]}],\"contourcarpet\":[{\"type\":\"contourcarpet\",\"colorbar\":{\"outlinewidth\":0,\"ticks\":\"\"}}],\"contour\":[{\"type\":\"contour\",\"colorbar\":{\"outlinewidth\":0,\"ticks\":\"\"},\"colorscale\":[[0.0,\"#0d0887\"],[0.1111111111111111,\"#46039f\"],[0.2222222222222222,\"#7201a8\"],[0.3333333333333333,\"#9c179e\"],[0.4444444444444444,\"#bd3786\"],[0.5555555555555556,\"#d8576b\"],[0.6666666666666666,\"#ed7953\"],[0.7777777777777778,\"#fb9f3a\"],[0.8888888888888888,\"#fdca26\"],[1.0,\"#f0f921\"]]}],\"surface\":[{\"type\":\"surface\",\"colorbar\":{\"outlinewidth\":0,\"ticks\":\"\"},\"colorscale\":[[0.0,\"#0d0887\"],[0.1111111111111111,\"#46039f\"],[0.2222222222222222,\"#7201a8\"],[0.3333333333333333,\"#9c179e\"],[0.4444444444444444,\"#bd3786\"],[0.5555555555555556,\"#d8576b\"],[0.6666666666666666,\"#ed7953\"],[0.7777777777777778,\"#fb9f3a\"],[0.8888888888888888,\"#fdca26\"],[1.0,\"#f0f921\"]]}],\"mesh3d\":[{\"type\":\"mesh3d\",\"colorbar\":{\"outlinewidth\":0,\"ticks\":\"\"}}],\"scatter\":[{\"fillpattern\":{\"fillmode\":\"overlay\",\"size\":10,\"solidity\":0.2},\"type\":\"scatter\"}],\"parcoords\":[{\"type\":\"parcoords\",\"line\":{\"colorbar\":{\"outlinewidth\":0,\"ticks\":\"\"}}}],\"scatterpolargl\":[{\"type\":\"scatterpolargl\",\"marker\":{\"colorbar\":{\"outlinewidth\":0,\"ticks\":\"\"}}}],\"bar\":[{\"error_x\":{\"color\":\"#2a3f5f\"},\"error_y\":{\"color\":\"#2a3f5f\"},\"marker\":{\"line\":{\"color\":\"#E5ECF6\",\"width\":0.5},\"pattern\":{\"fillmode\":\"overlay\",\"size\":10,\"solidity\":0.2}},\"type\":\"bar\"}],\"scattergeo\":[{\"type\":\"scattergeo\",\"marker\":{\"colorbar\":{\"outlinewidth\":0,\"ticks\":\"\"}}}],\"scatterpolar\":[{\"type\":\"scatterpolar\",\"marker\":{\"colorbar\":{\"outlinewidth\":0,\"ticks\":\"\"}}}],\"histogram\":[{\"marker\":{\"pattern\":{\"fillmode\":\"overlay\",\"size\":10,\"solidity\":0.2}},\"type\":\"histogram\"}],\"scattergl\":[{\"type\":\"scattergl\",\"marker\":{\"colorbar\":{\"outlinewidth\":0,\"ticks\":\"\"}}}],\"scatter3d\":[{\"type\":\"scatter3d\",\"line\":{\"colorbar\":{\"outlinewidth\":0,\"ticks\":\"\"}},\"marker\":{\"colorbar\":{\"outlinewidth\":0,\"ticks\":\"\"}}}],\"scattermapbox\":[{\"type\":\"scattermapbox\",\"marker\":{\"colorbar\":{\"outlinewidth\":0,\"ticks\":\"\"}}}],\"scatterternary\":[{\"type\":\"scatterternary\",\"marker\":{\"colorbar\":{\"outlinewidth\":0,\"ticks\":\"\"}}}],\"scattercarpet\":[{\"type\":\"scattercarpet\",\"marker\":{\"colorbar\":{\"outlinewidth\":0,\"ticks\":\"\"}}}],\"carpet\":[{\"aaxis\":{\"endlinecolor\":\"#2a3f5f\",\"gridcolor\":\"white\",\"linecolor\":\"white\",\"minorgridcolor\":\"white\",\"startlinecolor\":\"#2a3f5f\"},\"baxis\":{\"endlinecolor\":\"#2a3f5f\",\"gridcolor\":\"white\",\"linecolor\":\"white\",\"minorgridcolor\":\"white\",\"startlinecolor\":\"#2a3f5f\"},\"type\":\"carpet\"}],\"table\":[{\"cells\":{\"fill\":{\"color\":\"#EBF0F8\"},\"line\":{\"color\":\"white\"}},\"header\":{\"fill\":{\"color\":\"#C8D4E3\"},\"line\":{\"color\":\"white\"}},\"type\":\"table\"}],\"barpolar\":[{\"marker\":{\"line\":{\"color\":\"#E5ECF6\",\"width\":0.5},\"pattern\":{\"fillmode\":\"overlay\",\"size\":10,\"solidity\":0.2}},\"type\":\"barpolar\"}],\"pie\":[{\"automargin\":true,\"type\":\"pie\"}]},\"layout\":{\"autotypenumbers\":\"strict\",\"colorway\":[\"#636efa\",\"#EF553B\",\"#00cc96\",\"#ab63fa\",\"#FFA15A\",\"#19d3f3\",\"#FF6692\",\"#B6E880\",\"#FF97FF\",\"#FECB52\"],\"font\":{\"color\":\"#2a3f5f\"},\"hovermode\":\"closest\",\"hoverlabel\":{\"align\":\"left\"},\"paper_bgcolor\":\"white\",\"plot_bgcolor\":\"#E5ECF6\",\"polar\":{\"bgcolor\":\"#E5ECF6\",\"angularaxis\":{\"gridcolor\":\"white\",\"linecolor\":\"white\",\"ticks\":\"\"},\"radialaxis\":{\"gridcolor\":\"white\",\"linecolor\":\"white\",\"ticks\":\"\"}},\"ternary\":{\"bgcolor\":\"#E5ECF6\",\"aaxis\":{\"gridcolor\":\"white\",\"linecolor\":\"white\",\"ticks\":\"\"},\"baxis\":{\"gridcolor\":\"white\",\"linecolor\":\"white\",\"ticks\":\"\"},\"caxis\":{\"gridcolor\":\"white\",\"linecolor\":\"white\",\"ticks\":\"\"}},\"coloraxis\":{\"colorbar\":{\"outlinewidth\":0,\"ticks\":\"\"}},\"colorscale\":{\"sequential\":[[0.0,\"#0d0887\"],[0.1111111111111111,\"#46039f\"],[0.2222222222222222,\"#7201a8\"],[0.3333333333333333,\"#9c179e\"],[0.4444444444444444,\"#bd3786\"],[0.5555555555555556,\"#d8576b\"],[0.6666666666666666,\"#ed7953\"],[0.7777777777777778,\"#fb9f3a\"],[0.8888888888888888,\"#fdca26\"],[1.0,\"#f0f921\"]],\"sequentialminus\":[[0.0,\"#0d0887\"],[0.1111111111111111,\"#46039f\"],[0.2222222222222222,\"#7201a8\"],[0.3333333333333333,\"#9c179e\"],[0.4444444444444444,\"#bd3786\"],[0.5555555555555556,\"#d8576b\"],[0.6666666666666666,\"#ed7953\"],[0.7777777777777778,\"#fb9f3a\"],[0.8888888888888888,\"#fdca26\"],[1.0,\"#f0f921\"]],\"diverging\":[[0,\"#8e0152\"],[0.1,\"#c51b7d\"],[0.2,\"#de77ae\"],[0.3,\"#f1b6da\"],[0.4,\"#fde0ef\"],[0.5,\"#f7f7f7\"],[0.6,\"#e6f5d0\"],[0.7,\"#b8e186\"],[0.8,\"#7fbc41\"],[0.9,\"#4d9221\"],[1,\"#276419\"]]},\"xaxis\":{\"gridcolor\":\"white\",\"linecolor\":\"white\",\"ticks\":\"\",\"title\":{\"standoff\":15},\"zerolinecolor\":\"white\",\"automargin\":true,\"zerolinewidth\":2},\"yaxis\":{\"gridcolor\":\"white\",\"linecolor\":\"white\",\"ticks\":\"\",\"title\":{\"standoff\":15},\"zerolinecolor\":\"white\",\"automargin\":true,\"zerolinewidth\":2},\"scene\":{\"xaxis\":{\"backgroundcolor\":\"#E5ECF6\",\"gridcolor\":\"white\",\"linecolor\":\"white\",\"showbackground\":true,\"ticks\":\"\",\"zerolinecolor\":\"white\",\"gridwidth\":2},\"yaxis\":{\"backgroundcolor\":\"#E5ECF6\",\"gridcolor\":\"white\",\"linecolor\":\"white\",\"showbackground\":true,\"ticks\":\"\",\"zerolinecolor\":\"white\",\"gridwidth\":2},\"zaxis\":{\"backgroundcolor\":\"#E5ECF6\",\"gridcolor\":\"white\",\"linecolor\":\"white\",\"showbackground\":true,\"ticks\":\"\",\"zerolinecolor\":\"white\",\"gridwidth\":2}},\"shapedefaults\":{\"line\":{\"color\":\"#2a3f5f\"}},\"annotationdefaults\":{\"arrowcolor\":\"#2a3f5f\",\"arrowhead\":0,\"arrowwidth\":1},\"geo\":{\"bgcolor\":\"white\",\"landcolor\":\"#E5ECF6\",\"subunitcolor\":\"white\",\"showland\":true,\"showlakes\":true,\"lakecolor\":\"white\"},\"title\":{\"x\":0.05},\"mapbox\":{\"style\":\"light\"}}},\"xaxis\":{\"anchor\":\"y\",\"domain\":[0.0,1.0],\"title\":{\"text\":\"AJCC Pathologic Stage\"},\"tickangle\":45},\"yaxis\":{\"anchor\":\"x\",\"domain\":[0.0,1.0],\"title\":{\"text\":\"Number of Cases\"}},\"legend\":{\"tracegroupgap\":0},\"title\":{\"text\":\"Distribution of Cases by AJCC Pathologic Stage\"},\"barmode\":\"relative\"},                        {\"responsive\": true}                    ).then(function(){\n",
       "                            \n",
       "var gd = document.getElementById('d43752b8-beb5-4751-b932-8f6f954c8ec8');\n",
       "var x = new MutationObserver(function (mutations, observer) {{\n",
       "        var display = window.getComputedStyle(gd).display;\n",
       "        if (!display || display === 'none') {{\n",
       "            console.log([gd, 'removed!']);\n",
       "            Plotly.purge(gd);\n",
       "            observer.disconnect();\n",
       "        }}\n",
       "}});\n",
       "\n",
       "// Listen for the removal of the full notebook cells\n",
       "var notebookContainer = gd.closest('#notebook-container');\n",
       "if (notebookContainer) {{\n",
       "    x.observe(notebookContainer, {childList: true});\n",
       "}}\n",
       "\n",
       "// Listen for the clearing of the current output cell\n",
       "var outputEl = gd.closest('.output');\n",
       "if (outputEl) {{\n",
       "    x.observe(outputEl, {childList: true});\n",
       "}}\n",
       "\n",
       "                        })                };                });            </script>        </div>"
      ]
     },
     "metadata": {},
     "output_type": "display_data"
    }
   ],
   "source": [
    "import plotly.express as px\n",
    "import pandas as pd\n",
    "\n",
    "# Filter out \"Unknown\" values for AJCC columns\n",
    "aggregated_data = reshaped_df.groupby(\n",
    "    ['Case', 'Cancer Stage', 'ajcc_pathologic_n', 'ajcc_pathologic_m', 'ajcc_pathologic_t'], as_index=False\n",
    ").agg({'Expression': 'mean'})\n",
    "\n",
    "filtered_data = aggregated_data[reshaped_df['ajcc_pathologic_stage'] != \"Unknown\"]\n",
    "\n",
    "sorted_stages = ['Stage I', 'Stage II', 'Stage III']\n",
    "filtered_data['Cancer Stage'] = pd.Categorical(filtered_data['Cancer Stage'], categories=sorted_stages, ordered=True)\n",
    "\n",
    "# Count cases by stage\n",
    "stage_counts = filtered_data['Cancer Stage'].value_counts().sort_index()\n",
    "\n",
    "# Create a DataFrame for Plotly\n",
    "plot_data = stage_counts.reset_index()\n",
    "plot_data.columns = ['Cancer Stage', 'Number of Cases']\n",
    "\n",
    "fig = px.bar(\n",
    "    plot_data,\n",
    "    x='Cancer Stage',\n",
    "    y='Number of Cases',\n",
    "    text='Number of Cases',\n",
    "    title='Distribution of Cases by AJCC Pathologic Stage',\n",
    "    labels={'Cancer Stage': 'AJCC Pathologic Stage', 'Number of Cases': 'Number of Cases'},\n",
    ")\n",
    "\n",
    "fig.update_traces(textposition='outside', marker_color='lightblue', marker_line_color='black', marker_line_width=1)\n",
    "fig.update_layout(xaxis_title='AJCC Pathologic Stage', yaxis_title='Number of Cases', xaxis_tickangle=45)\n",
    "\n",
    "fig.show()\n",
    "\n"
   ]
  },
  {
   "cell_type": "code",
   "execution_count": 68,
   "id": "82d32a3e",
   "metadata": {},
   "outputs": [
    {
     "name": "stderr",
     "output_type": "stream",
     "text": [
      "/tmp/ipykernel_8245/204871237.py:4: UserWarning:\n",
      "\n",
      "Boolean Series key will be reindexed to match DataFrame index.\n",
      "\n",
      "/Users/arjita/opt/anaconda3/envs/myenv/lib/python3.10/site-packages/plotly/express/_core.py:1992: FutureWarning:\n",
      "\n",
      "When grouping with a length-1 list-like, you will need to pass a length-1 tuple to get_group in a future version of pandas. Pass `(name,)` instead of `name` to silence this warning.\n",
      "\n"
     ]
    },
    {
     "data": {
      "application/vnd.plotly.v1+json": {
       "config": {
        "plotlyServerURL": "https://plot.ly"
       },
       "data": [
        {
         "alignmentgroup": "True",
         "hovertemplate": "AJCC Pathologic N Stage=%{x}<br>Expression Level=%{y}<extra></extra>",
         "legendgroup": "N0 (i-)",
         "marker": {
          "color": "rgb(102, 197, 204)"
         },
         "name": "N0 (i-)",
         "notched": false,
         "offsetgroup": "N0 (i-)",
         "orientation": "v",
         "showlegend": true,
         "type": "box",
         "x": [
          "N0 (i-)",
          "N0 (i-)",
          "N0 (i-)"
         ],
         "x0": " ",
         "xaxis": "x",
         "y": [
          -0.21197628567431465,
          2.1474874570520948,
          -0.16601989718794677
         ],
         "y0": " ",
         "yaxis": "y"
        },
        {
         "alignmentgroup": "True",
         "hovertemplate": "AJCC Pathologic N Stage=%{x}<br>Expression Level=%{y}<extra></extra>",
         "legendgroup": "N0",
         "marker": {
          "color": "rgb(246, 207, 113)"
         },
         "name": "N0",
         "notched": false,
         "offsetgroup": "N0",
         "orientation": "v",
         "showlegend": true,
         "type": "box",
         "x": [
          "N0",
          "N0",
          "N0",
          "N0",
          "N0",
          "N0",
          "N0",
          "N0",
          "N0",
          "N0",
          "N0",
          "N0",
          "N0",
          "N0",
          "N0",
          "N0",
          "N0",
          "N0",
          "N0",
          "N0",
          "N0",
          "N0",
          "N0",
          "N0"
         ],
         "x0": " ",
         "xaxis": "x",
         "y": [
          0.14314212742401528,
          0.5814353397606158,
          -0.2629990131614073,
          -0.0693976320454352,
          -0.03682495891215519,
          0.021252451629254716,
          -0.5119417816291925,
          -0.1978373182382978,
          -0.020288266489366363,
          0.03698271711328661,
          -0.22428235242189004,
          -0.02724397140535295,
          -0.22121059149519012,
          0.05238475523845328,
          -0.032243654070997545,
          0.29525023284420515,
          0.08244982786081073,
          0.11910637610189517,
          -0.0032470279826118387,
          -0.2148084858239752,
          0.3387983855975131,
          0.5488051200572505,
          0.13923564690460122,
          -0.021937440717893435
         ],
         "y0": " ",
         "yaxis": "y"
        },
        {
         "alignmentgroup": "True",
         "hovertemplate": "AJCC Pathologic N Stage=%{x}<br>Expression Level=%{y}<extra></extra>",
         "legendgroup": "N1",
         "marker": {
          "color": "rgb(248, 156, 116)"
         },
         "name": "N1",
         "notched": false,
         "offsetgroup": "N1",
         "orientation": "v",
         "showlegend": true,
         "type": "box",
         "x": [
          "N1",
          "N1",
          "N1",
          "N1",
          "N1"
         ],
         "x0": " ",
         "xaxis": "x",
         "y": [
          0.02433316406975836,
          0.6445969079331665,
          0.003702842217663882,
          -0.07819178401843524,
          0.044088578942768276
         ],
         "y0": " ",
         "yaxis": "y"
        },
        {
         "alignmentgroup": "True",
         "hovertemplate": "AJCC Pathologic N Stage=%{x}<br>Expression Level=%{y}<extra></extra>",
         "legendgroup": "N1a",
         "marker": {
          "color": "rgb(220, 176, 242)"
         },
         "name": "N1a",
         "notched": false,
         "offsetgroup": "N1a",
         "orientation": "v",
         "showlegend": true,
         "type": "box",
         "x": [
          "N1a",
          "N1a",
          "N1a",
          "N1a"
         ],
         "x0": " ",
         "xaxis": "x",
         "y": [
          0.4323018128783331,
          -0.13339983919182055,
          -0.1693806154575886,
          0.14312667792868183
         ],
         "y0": " ",
         "yaxis": "y"
        },
        {
         "alignmentgroup": "True",
         "hovertemplate": "AJCC Pathologic N Stage=%{x}<br>Expression Level=%{y}<extra></extra>",
         "legendgroup": "N0 (i+)",
         "marker": {
          "color": "rgb(135, 197, 95)"
         },
         "name": "N0 (i+)",
         "notched": false,
         "offsetgroup": "N0 (i+)",
         "orientation": "v",
         "showlegend": true,
         "type": "box",
         "x": [
          "N0 (i+)"
         ],
         "x0": " ",
         "xaxis": "x",
         "y": [
          0.01260861363486031
         ],
         "y0": " ",
         "yaxis": "y"
        },
        {
         "alignmentgroup": "True",
         "hovertemplate": "AJCC Pathologic N Stage=%{x}<br>Expression Level=%{y}<extra></extra>",
         "legendgroup": "NX",
         "marker": {
          "color": "rgb(158, 185, 243)"
         },
         "name": "NX",
         "notched": false,
         "offsetgroup": "NX",
         "orientation": "v",
         "showlegend": true,
         "type": "box",
         "x": [
          "NX"
         ],
         "x0": " ",
         "xaxis": "x",
         "y": [
          0.33511034627071495
         ],
         "y0": " ",
         "yaxis": "y"
        },
        {
         "alignmentgroup": "True",
         "hovertemplate": "AJCC Pathologic N Stage=%{x}<br>Expression Level=%{y}<extra></extra>",
         "legendgroup": "N1b",
         "marker": {
          "color": "rgb(254, 136, 177)"
         },
         "name": "N1b",
         "notched": false,
         "offsetgroup": "N1b",
         "orientation": "v",
         "showlegend": true,
         "type": "box",
         "x": [
          "N1b"
         ],
         "x0": " ",
         "xaxis": "x",
         "y": [
          0.2563253681226768
         ],
         "y0": " ",
         "yaxis": "y"
        },
        {
         "alignmentgroup": "True",
         "hovertemplate": "AJCC Pathologic N Stage=%{x}<br>Expression Level=%{y}<extra></extra>",
         "legendgroup": "N2a",
         "marker": {
          "color": "rgb(201, 219, 116)"
         },
         "name": "N2a",
         "notched": false,
         "offsetgroup": "N2a",
         "orientation": "v",
         "showlegend": true,
         "type": "box",
         "x": [
          "N2a"
         ],
         "x0": " ",
         "xaxis": "x",
         "y": [
          0.4907604060273919
         ],
         "y0": " ",
         "yaxis": "y"
        },
        {
         "alignmentgroup": "True",
         "hovertemplate": "AJCC Pathologic N Stage=%{x}<br>Expression Level=%{y}<extra></extra>",
         "legendgroup": "N2",
         "marker": {
          "color": "rgb(139, 224, 164)"
         },
         "name": "N2",
         "notched": false,
         "offsetgroup": "N2",
         "orientation": "v",
         "showlegend": true,
         "type": "box",
         "x": [
          "N2"
         ],
         "x0": " ",
         "xaxis": "x",
         "y": [
          -0.1744679010627891
         ],
         "y0": " ",
         "yaxis": "y"
        },
        {
         "alignmentgroup": "True",
         "hovertemplate": "AJCC Pathologic N Stage=%{x}<br>Expression Level=%{y}<extra></extra>",
         "legendgroup": "N3b",
         "marker": {
          "color": "rgb(180, 151, 231)"
         },
         "name": "N3b",
         "notched": false,
         "offsetgroup": "N3b",
         "orientation": "v",
         "showlegend": true,
         "type": "box",
         "x": [
          "N3b"
         ],
         "x0": " ",
         "xaxis": "x",
         "y": [
          0.15794763731046751
         ],
         "y0": " ",
         "yaxis": "y"
        },
        {
         "alignmentgroup": "True",
         "hovertemplate": "AJCC Pathologic N Stage=%{x}<br>Expression Level=%{y}<extra></extra>",
         "legendgroup": "N3a",
         "marker": {
          "color": "rgb(179, 179, 179)"
         },
         "name": "N3a",
         "notched": false,
         "offsetgroup": "N3a",
         "orientation": "v",
         "showlegend": true,
         "type": "box",
         "x": [
          "N3a"
         ],
         "x0": " ",
         "xaxis": "x",
         "y": [
          0.34602231832264235
         ],
         "y0": " ",
         "yaxis": "y"
        }
       ],
       "layout": {
        "boxmode": "overlay",
        "legend": {
         "title": {
          "text": "AJCC Pathologic N Stage"
         },
         "tracegroupgap": 0
        },
        "showlegend": false,
        "template": {
         "data": {
          "bar": [
           {
            "error_x": {
             "color": "#2a3f5f"
            },
            "error_y": {
             "color": "#2a3f5f"
            },
            "marker": {
             "line": {
              "color": "#E5ECF6",
              "width": 0.5
             },
             "pattern": {
              "fillmode": "overlay",
              "size": 10,
              "solidity": 0.2
             }
            },
            "type": "bar"
           }
          ],
          "barpolar": [
           {
            "marker": {
             "line": {
              "color": "#E5ECF6",
              "width": 0.5
             },
             "pattern": {
              "fillmode": "overlay",
              "size": 10,
              "solidity": 0.2
             }
            },
            "type": "barpolar"
           }
          ],
          "carpet": [
           {
            "aaxis": {
             "endlinecolor": "#2a3f5f",
             "gridcolor": "white",
             "linecolor": "white",
             "minorgridcolor": "white",
             "startlinecolor": "#2a3f5f"
            },
            "baxis": {
             "endlinecolor": "#2a3f5f",
             "gridcolor": "white",
             "linecolor": "white",
             "minorgridcolor": "white",
             "startlinecolor": "#2a3f5f"
            },
            "type": "carpet"
           }
          ],
          "choropleth": [
           {
            "colorbar": {
             "outlinewidth": 0,
             "ticks": ""
            },
            "type": "choropleth"
           }
          ],
          "contour": [
           {
            "colorbar": {
             "outlinewidth": 0,
             "ticks": ""
            },
            "colorscale": [
             [
              0,
              "#0d0887"
             ],
             [
              0.1111111111111111,
              "#46039f"
             ],
             [
              0.2222222222222222,
              "#7201a8"
             ],
             [
              0.3333333333333333,
              "#9c179e"
             ],
             [
              0.4444444444444444,
              "#bd3786"
             ],
             [
              0.5555555555555556,
              "#d8576b"
             ],
             [
              0.6666666666666666,
              "#ed7953"
             ],
             [
              0.7777777777777778,
              "#fb9f3a"
             ],
             [
              0.8888888888888888,
              "#fdca26"
             ],
             [
              1,
              "#f0f921"
             ]
            ],
            "type": "contour"
           }
          ],
          "contourcarpet": [
           {
            "colorbar": {
             "outlinewidth": 0,
             "ticks": ""
            },
            "type": "contourcarpet"
           }
          ],
          "heatmap": [
           {
            "colorbar": {
             "outlinewidth": 0,
             "ticks": ""
            },
            "colorscale": [
             [
              0,
              "#0d0887"
             ],
             [
              0.1111111111111111,
              "#46039f"
             ],
             [
              0.2222222222222222,
              "#7201a8"
             ],
             [
              0.3333333333333333,
              "#9c179e"
             ],
             [
              0.4444444444444444,
              "#bd3786"
             ],
             [
              0.5555555555555556,
              "#d8576b"
             ],
             [
              0.6666666666666666,
              "#ed7953"
             ],
             [
              0.7777777777777778,
              "#fb9f3a"
             ],
             [
              0.8888888888888888,
              "#fdca26"
             ],
             [
              1,
              "#f0f921"
             ]
            ],
            "type": "heatmap"
           }
          ],
          "heatmapgl": [
           {
            "colorbar": {
             "outlinewidth": 0,
             "ticks": ""
            },
            "colorscale": [
             [
              0,
              "#0d0887"
             ],
             [
              0.1111111111111111,
              "#46039f"
             ],
             [
              0.2222222222222222,
              "#7201a8"
             ],
             [
              0.3333333333333333,
              "#9c179e"
             ],
             [
              0.4444444444444444,
              "#bd3786"
             ],
             [
              0.5555555555555556,
              "#d8576b"
             ],
             [
              0.6666666666666666,
              "#ed7953"
             ],
             [
              0.7777777777777778,
              "#fb9f3a"
             ],
             [
              0.8888888888888888,
              "#fdca26"
             ],
             [
              1,
              "#f0f921"
             ]
            ],
            "type": "heatmapgl"
           }
          ],
          "histogram": [
           {
            "marker": {
             "pattern": {
              "fillmode": "overlay",
              "size": 10,
              "solidity": 0.2
             }
            },
            "type": "histogram"
           }
          ],
          "histogram2d": [
           {
            "colorbar": {
             "outlinewidth": 0,
             "ticks": ""
            },
            "colorscale": [
             [
              0,
              "#0d0887"
             ],
             [
              0.1111111111111111,
              "#46039f"
             ],
             [
              0.2222222222222222,
              "#7201a8"
             ],
             [
              0.3333333333333333,
              "#9c179e"
             ],
             [
              0.4444444444444444,
              "#bd3786"
             ],
             [
              0.5555555555555556,
              "#d8576b"
             ],
             [
              0.6666666666666666,
              "#ed7953"
             ],
             [
              0.7777777777777778,
              "#fb9f3a"
             ],
             [
              0.8888888888888888,
              "#fdca26"
             ],
             [
              1,
              "#f0f921"
             ]
            ],
            "type": "histogram2d"
           }
          ],
          "histogram2dcontour": [
           {
            "colorbar": {
             "outlinewidth": 0,
             "ticks": ""
            },
            "colorscale": [
             [
              0,
              "#0d0887"
             ],
             [
              0.1111111111111111,
              "#46039f"
             ],
             [
              0.2222222222222222,
              "#7201a8"
             ],
             [
              0.3333333333333333,
              "#9c179e"
             ],
             [
              0.4444444444444444,
              "#bd3786"
             ],
             [
              0.5555555555555556,
              "#d8576b"
             ],
             [
              0.6666666666666666,
              "#ed7953"
             ],
             [
              0.7777777777777778,
              "#fb9f3a"
             ],
             [
              0.8888888888888888,
              "#fdca26"
             ],
             [
              1,
              "#f0f921"
             ]
            ],
            "type": "histogram2dcontour"
           }
          ],
          "mesh3d": [
           {
            "colorbar": {
             "outlinewidth": 0,
             "ticks": ""
            },
            "type": "mesh3d"
           }
          ],
          "parcoords": [
           {
            "line": {
             "colorbar": {
              "outlinewidth": 0,
              "ticks": ""
             }
            },
            "type": "parcoords"
           }
          ],
          "pie": [
           {
            "automargin": true,
            "type": "pie"
           }
          ],
          "scatter": [
           {
            "fillpattern": {
             "fillmode": "overlay",
             "size": 10,
             "solidity": 0.2
            },
            "type": "scatter"
           }
          ],
          "scatter3d": [
           {
            "line": {
             "colorbar": {
              "outlinewidth": 0,
              "ticks": ""
             }
            },
            "marker": {
             "colorbar": {
              "outlinewidth": 0,
              "ticks": ""
             }
            },
            "type": "scatter3d"
           }
          ],
          "scattercarpet": [
           {
            "marker": {
             "colorbar": {
              "outlinewidth": 0,
              "ticks": ""
             }
            },
            "type": "scattercarpet"
           }
          ],
          "scattergeo": [
           {
            "marker": {
             "colorbar": {
              "outlinewidth": 0,
              "ticks": ""
             }
            },
            "type": "scattergeo"
           }
          ],
          "scattergl": [
           {
            "marker": {
             "colorbar": {
              "outlinewidth": 0,
              "ticks": ""
             }
            },
            "type": "scattergl"
           }
          ],
          "scattermapbox": [
           {
            "marker": {
             "colorbar": {
              "outlinewidth": 0,
              "ticks": ""
             }
            },
            "type": "scattermapbox"
           }
          ],
          "scatterpolar": [
           {
            "marker": {
             "colorbar": {
              "outlinewidth": 0,
              "ticks": ""
             }
            },
            "type": "scatterpolar"
           }
          ],
          "scatterpolargl": [
           {
            "marker": {
             "colorbar": {
              "outlinewidth": 0,
              "ticks": ""
             }
            },
            "type": "scatterpolargl"
           }
          ],
          "scatterternary": [
           {
            "marker": {
             "colorbar": {
              "outlinewidth": 0,
              "ticks": ""
             }
            },
            "type": "scatterternary"
           }
          ],
          "surface": [
           {
            "colorbar": {
             "outlinewidth": 0,
             "ticks": ""
            },
            "colorscale": [
             [
              0,
              "#0d0887"
             ],
             [
              0.1111111111111111,
              "#46039f"
             ],
             [
              0.2222222222222222,
              "#7201a8"
             ],
             [
              0.3333333333333333,
              "#9c179e"
             ],
             [
              0.4444444444444444,
              "#bd3786"
             ],
             [
              0.5555555555555556,
              "#d8576b"
             ],
             [
              0.6666666666666666,
              "#ed7953"
             ],
             [
              0.7777777777777778,
              "#fb9f3a"
             ],
             [
              0.8888888888888888,
              "#fdca26"
             ],
             [
              1,
              "#f0f921"
             ]
            ],
            "type": "surface"
           }
          ],
          "table": [
           {
            "cells": {
             "fill": {
              "color": "#EBF0F8"
             },
             "line": {
              "color": "white"
             }
            },
            "header": {
             "fill": {
              "color": "#C8D4E3"
             },
             "line": {
              "color": "white"
             }
            },
            "type": "table"
           }
          ]
         },
         "layout": {
          "annotationdefaults": {
           "arrowcolor": "#2a3f5f",
           "arrowhead": 0,
           "arrowwidth": 1
          },
          "autotypenumbers": "strict",
          "coloraxis": {
           "colorbar": {
            "outlinewidth": 0,
            "ticks": ""
           }
          },
          "colorscale": {
           "diverging": [
            [
             0,
             "#8e0152"
            ],
            [
             0.1,
             "#c51b7d"
            ],
            [
             0.2,
             "#de77ae"
            ],
            [
             0.3,
             "#f1b6da"
            ],
            [
             0.4,
             "#fde0ef"
            ],
            [
             0.5,
             "#f7f7f7"
            ],
            [
             0.6,
             "#e6f5d0"
            ],
            [
             0.7,
             "#b8e186"
            ],
            [
             0.8,
             "#7fbc41"
            ],
            [
             0.9,
             "#4d9221"
            ],
            [
             1,
             "#276419"
            ]
           ],
           "sequential": [
            [
             0,
             "#0d0887"
            ],
            [
             0.1111111111111111,
             "#46039f"
            ],
            [
             0.2222222222222222,
             "#7201a8"
            ],
            [
             0.3333333333333333,
             "#9c179e"
            ],
            [
             0.4444444444444444,
             "#bd3786"
            ],
            [
             0.5555555555555556,
             "#d8576b"
            ],
            [
             0.6666666666666666,
             "#ed7953"
            ],
            [
             0.7777777777777778,
             "#fb9f3a"
            ],
            [
             0.8888888888888888,
             "#fdca26"
            ],
            [
             1,
             "#f0f921"
            ]
           ],
           "sequentialminus": [
            [
             0,
             "#0d0887"
            ],
            [
             0.1111111111111111,
             "#46039f"
            ],
            [
             0.2222222222222222,
             "#7201a8"
            ],
            [
             0.3333333333333333,
             "#9c179e"
            ],
            [
             0.4444444444444444,
             "#bd3786"
            ],
            [
             0.5555555555555556,
             "#d8576b"
            ],
            [
             0.6666666666666666,
             "#ed7953"
            ],
            [
             0.7777777777777778,
             "#fb9f3a"
            ],
            [
             0.8888888888888888,
             "#fdca26"
            ],
            [
             1,
             "#f0f921"
            ]
           ]
          },
          "colorway": [
           "#636efa",
           "#EF553B",
           "#00cc96",
           "#ab63fa",
           "#FFA15A",
           "#19d3f3",
           "#FF6692",
           "#B6E880",
           "#FF97FF",
           "#FECB52"
          ],
          "font": {
           "color": "#2a3f5f"
          },
          "geo": {
           "bgcolor": "white",
           "lakecolor": "white",
           "landcolor": "#E5ECF6",
           "showlakes": true,
           "showland": true,
           "subunitcolor": "white"
          },
          "hoverlabel": {
           "align": "left"
          },
          "hovermode": "closest",
          "mapbox": {
           "style": "light"
          },
          "paper_bgcolor": "white",
          "plot_bgcolor": "#E5ECF6",
          "polar": {
           "angularaxis": {
            "gridcolor": "white",
            "linecolor": "white",
            "ticks": ""
           },
           "bgcolor": "#E5ECF6",
           "radialaxis": {
            "gridcolor": "white",
            "linecolor": "white",
            "ticks": ""
           }
          },
          "scene": {
           "xaxis": {
            "backgroundcolor": "#E5ECF6",
            "gridcolor": "white",
            "gridwidth": 2,
            "linecolor": "white",
            "showbackground": true,
            "ticks": "",
            "zerolinecolor": "white"
           },
           "yaxis": {
            "backgroundcolor": "#E5ECF6",
            "gridcolor": "white",
            "gridwidth": 2,
            "linecolor": "white",
            "showbackground": true,
            "ticks": "",
            "zerolinecolor": "white"
           },
           "zaxis": {
            "backgroundcolor": "#E5ECF6",
            "gridcolor": "white",
            "gridwidth": 2,
            "linecolor": "white",
            "showbackground": true,
            "ticks": "",
            "zerolinecolor": "white"
           }
          },
          "shapedefaults": {
           "line": {
            "color": "#2a3f5f"
           }
          },
          "ternary": {
           "aaxis": {
            "gridcolor": "white",
            "linecolor": "white",
            "ticks": ""
           },
           "baxis": {
            "gridcolor": "white",
            "linecolor": "white",
            "ticks": ""
           },
           "bgcolor": "#E5ECF6",
           "caxis": {
            "gridcolor": "white",
            "linecolor": "white",
            "ticks": ""
           }
          },
          "title": {
           "x": 0.05
          },
          "xaxis": {
           "automargin": true,
           "gridcolor": "white",
           "linecolor": "white",
           "ticks": "",
           "title": {
            "standoff": 15
           },
           "zerolinecolor": "white",
           "zerolinewidth": 2
          },
          "yaxis": {
           "automargin": true,
           "gridcolor": "white",
           "linecolor": "white",
           "ticks": "",
           "title": {
            "standoff": 15
           },
           "zerolinecolor": "white",
           "zerolinewidth": 2
          }
         }
        },
        "title": {
         "text": "Average Gene Expression Across AJCC Pathologic N Stages (Aggregated by Case)"
        },
        "xaxis": {
         "anchor": "y",
         "categoryarray": [
          "N0 (i-)",
          "N0",
          "N1",
          "N1a",
          "N0 (i+)",
          "NX",
          "N1b",
          "N2a",
          "N2",
          "N3b",
          "N3a"
         ],
         "categoryorder": "array",
         "domain": [
          0,
          1
         ],
         "tickangle": 45,
         "title": {
          "text": "AJCC Pathologic N Stage"
         }
        },
        "yaxis": {
         "anchor": "x",
         "domain": [
          0,
          1
         ],
         "title": {
          "text": "Expression Level"
         }
        }
       }
      },
      "text/html": [
       "<div>                            <div id=\"728a9049-c792-4677-b4a2-66d1c2129369\" class=\"plotly-graph-div\" style=\"height:525px; width:100%;\"></div>            <script type=\"text/javascript\">                require([\"plotly\"], function(Plotly) {                    window.PLOTLYENV=window.PLOTLYENV || {};                                    if (document.getElementById(\"728a9049-c792-4677-b4a2-66d1c2129369\")) {                    Plotly.newPlot(                        \"728a9049-c792-4677-b4a2-66d1c2129369\",                        [{\"alignmentgroup\":\"True\",\"hovertemplate\":\"AJCC Pathologic N Stage=%{x}\\u003cbr\\u003eExpression Level=%{y}\\u003cextra\\u003e\\u003c\\u002fextra\\u003e\",\"legendgroup\":\"N0 (i-)\",\"marker\":{\"color\":\"rgb(102, 197, 204)\"},\"name\":\"N0 (i-)\",\"notched\":false,\"offsetgroup\":\"N0 (i-)\",\"orientation\":\"v\",\"showlegend\":true,\"x\":[\"N0 (i-)\",\"N0 (i-)\",\"N0 (i-)\"],\"x0\":\" \",\"xaxis\":\"x\",\"y\":[-0.21197628567431465,2.1474874570520948,-0.16601989718794677],\"y0\":\" \",\"yaxis\":\"y\",\"type\":\"box\"},{\"alignmentgroup\":\"True\",\"hovertemplate\":\"AJCC Pathologic N Stage=%{x}\\u003cbr\\u003eExpression Level=%{y}\\u003cextra\\u003e\\u003c\\u002fextra\\u003e\",\"legendgroup\":\"N0\",\"marker\":{\"color\":\"rgb(246, 207, 113)\"},\"name\":\"N0\",\"notched\":false,\"offsetgroup\":\"N0\",\"orientation\":\"v\",\"showlegend\":true,\"x\":[\"N0\",\"N0\",\"N0\",\"N0\",\"N0\",\"N0\",\"N0\",\"N0\",\"N0\",\"N0\",\"N0\",\"N0\",\"N0\",\"N0\",\"N0\",\"N0\",\"N0\",\"N0\",\"N0\",\"N0\",\"N0\",\"N0\",\"N0\",\"N0\"],\"x0\":\" \",\"xaxis\":\"x\",\"y\":[0.14314212742401528,0.5814353397606158,-0.2629990131614073,-0.0693976320454352,-0.03682495891215519,0.021252451629254716,-0.5119417816291925,-0.1978373182382978,-0.020288266489366363,0.03698271711328661,-0.22428235242189004,-0.02724397140535295,-0.22121059149519012,0.05238475523845328,-0.032243654070997545,0.29525023284420515,0.08244982786081073,0.11910637610189517,-0.0032470279826118387,-0.2148084858239752,0.3387983855975131,0.5488051200572505,0.13923564690460122,-0.021937440717893435],\"y0\":\" \",\"yaxis\":\"y\",\"type\":\"box\"},{\"alignmentgroup\":\"True\",\"hovertemplate\":\"AJCC Pathologic N Stage=%{x}\\u003cbr\\u003eExpression Level=%{y}\\u003cextra\\u003e\\u003c\\u002fextra\\u003e\",\"legendgroup\":\"N1\",\"marker\":{\"color\":\"rgb(248, 156, 116)\"},\"name\":\"N1\",\"notched\":false,\"offsetgroup\":\"N1\",\"orientation\":\"v\",\"showlegend\":true,\"x\":[\"N1\",\"N1\",\"N1\",\"N1\",\"N1\"],\"x0\":\" \",\"xaxis\":\"x\",\"y\":[0.02433316406975836,0.6445969079331665,0.003702842217663882,-0.07819178401843524,0.044088578942768276],\"y0\":\" \",\"yaxis\":\"y\",\"type\":\"box\"},{\"alignmentgroup\":\"True\",\"hovertemplate\":\"AJCC Pathologic N Stage=%{x}\\u003cbr\\u003eExpression Level=%{y}\\u003cextra\\u003e\\u003c\\u002fextra\\u003e\",\"legendgroup\":\"N1a\",\"marker\":{\"color\":\"rgb(220, 176, 242)\"},\"name\":\"N1a\",\"notched\":false,\"offsetgroup\":\"N1a\",\"orientation\":\"v\",\"showlegend\":true,\"x\":[\"N1a\",\"N1a\",\"N1a\",\"N1a\"],\"x0\":\" \",\"xaxis\":\"x\",\"y\":[0.4323018128783331,-0.13339983919182055,-0.1693806154575886,0.14312667792868183],\"y0\":\" \",\"yaxis\":\"y\",\"type\":\"box\"},{\"alignmentgroup\":\"True\",\"hovertemplate\":\"AJCC Pathologic N Stage=%{x}\\u003cbr\\u003eExpression Level=%{y}\\u003cextra\\u003e\\u003c\\u002fextra\\u003e\",\"legendgroup\":\"N0 (i+)\",\"marker\":{\"color\":\"rgb(135, 197, 95)\"},\"name\":\"N0 (i+)\",\"notched\":false,\"offsetgroup\":\"N0 (i+)\",\"orientation\":\"v\",\"showlegend\":true,\"x\":[\"N0 (i+)\"],\"x0\":\" \",\"xaxis\":\"x\",\"y\":[0.01260861363486031],\"y0\":\" \",\"yaxis\":\"y\",\"type\":\"box\"},{\"alignmentgroup\":\"True\",\"hovertemplate\":\"AJCC Pathologic N Stage=%{x}\\u003cbr\\u003eExpression Level=%{y}\\u003cextra\\u003e\\u003c\\u002fextra\\u003e\",\"legendgroup\":\"NX\",\"marker\":{\"color\":\"rgb(158, 185, 243)\"},\"name\":\"NX\",\"notched\":false,\"offsetgroup\":\"NX\",\"orientation\":\"v\",\"showlegend\":true,\"x\":[\"NX\"],\"x0\":\" \",\"xaxis\":\"x\",\"y\":[0.33511034627071495],\"y0\":\" \",\"yaxis\":\"y\",\"type\":\"box\"},{\"alignmentgroup\":\"True\",\"hovertemplate\":\"AJCC Pathologic N Stage=%{x}\\u003cbr\\u003eExpression Level=%{y}\\u003cextra\\u003e\\u003c\\u002fextra\\u003e\",\"legendgroup\":\"N1b\",\"marker\":{\"color\":\"rgb(254, 136, 177)\"},\"name\":\"N1b\",\"notched\":false,\"offsetgroup\":\"N1b\",\"orientation\":\"v\",\"showlegend\":true,\"x\":[\"N1b\"],\"x0\":\" \",\"xaxis\":\"x\",\"y\":[0.2563253681226768],\"y0\":\" \",\"yaxis\":\"y\",\"type\":\"box\"},{\"alignmentgroup\":\"True\",\"hovertemplate\":\"AJCC Pathologic N Stage=%{x}\\u003cbr\\u003eExpression Level=%{y}\\u003cextra\\u003e\\u003c\\u002fextra\\u003e\",\"legendgroup\":\"N2a\",\"marker\":{\"color\":\"rgb(201, 219, 116)\"},\"name\":\"N2a\",\"notched\":false,\"offsetgroup\":\"N2a\",\"orientation\":\"v\",\"showlegend\":true,\"x\":[\"N2a\"],\"x0\":\" \",\"xaxis\":\"x\",\"y\":[0.4907604060273919],\"y0\":\" \",\"yaxis\":\"y\",\"type\":\"box\"},{\"alignmentgroup\":\"True\",\"hovertemplate\":\"AJCC Pathologic N Stage=%{x}\\u003cbr\\u003eExpression Level=%{y}\\u003cextra\\u003e\\u003c\\u002fextra\\u003e\",\"legendgroup\":\"N2\",\"marker\":{\"color\":\"rgb(139, 224, 164)\"},\"name\":\"N2\",\"notched\":false,\"offsetgroup\":\"N2\",\"orientation\":\"v\",\"showlegend\":true,\"x\":[\"N2\"],\"x0\":\" \",\"xaxis\":\"x\",\"y\":[-0.1744679010627891],\"y0\":\" \",\"yaxis\":\"y\",\"type\":\"box\"},{\"alignmentgroup\":\"True\",\"hovertemplate\":\"AJCC Pathologic N Stage=%{x}\\u003cbr\\u003eExpression Level=%{y}\\u003cextra\\u003e\\u003c\\u002fextra\\u003e\",\"legendgroup\":\"N3b\",\"marker\":{\"color\":\"rgb(180, 151, 231)\"},\"name\":\"N3b\",\"notched\":false,\"offsetgroup\":\"N3b\",\"orientation\":\"v\",\"showlegend\":true,\"x\":[\"N3b\"],\"x0\":\" \",\"xaxis\":\"x\",\"y\":[0.15794763731046751],\"y0\":\" \",\"yaxis\":\"y\",\"type\":\"box\"},{\"alignmentgroup\":\"True\",\"hovertemplate\":\"AJCC Pathologic N Stage=%{x}\\u003cbr\\u003eExpression Level=%{y}\\u003cextra\\u003e\\u003c\\u002fextra\\u003e\",\"legendgroup\":\"N3a\",\"marker\":{\"color\":\"rgb(179, 179, 179)\"},\"name\":\"N3a\",\"notched\":false,\"offsetgroup\":\"N3a\",\"orientation\":\"v\",\"showlegend\":true,\"x\":[\"N3a\"],\"x0\":\" \",\"xaxis\":\"x\",\"y\":[0.34602231832264235],\"y0\":\" \",\"yaxis\":\"y\",\"type\":\"box\"}],                        {\"template\":{\"data\":{\"histogram2dcontour\":[{\"type\":\"histogram2dcontour\",\"colorbar\":{\"outlinewidth\":0,\"ticks\":\"\"},\"colorscale\":[[0.0,\"#0d0887\"],[0.1111111111111111,\"#46039f\"],[0.2222222222222222,\"#7201a8\"],[0.3333333333333333,\"#9c179e\"],[0.4444444444444444,\"#bd3786\"],[0.5555555555555556,\"#d8576b\"],[0.6666666666666666,\"#ed7953\"],[0.7777777777777778,\"#fb9f3a\"],[0.8888888888888888,\"#fdca26\"],[1.0,\"#f0f921\"]]}],\"choropleth\":[{\"type\":\"choropleth\",\"colorbar\":{\"outlinewidth\":0,\"ticks\":\"\"}}],\"histogram2d\":[{\"type\":\"histogram2d\",\"colorbar\":{\"outlinewidth\":0,\"ticks\":\"\"},\"colorscale\":[[0.0,\"#0d0887\"],[0.1111111111111111,\"#46039f\"],[0.2222222222222222,\"#7201a8\"],[0.3333333333333333,\"#9c179e\"],[0.4444444444444444,\"#bd3786\"],[0.5555555555555556,\"#d8576b\"],[0.6666666666666666,\"#ed7953\"],[0.7777777777777778,\"#fb9f3a\"],[0.8888888888888888,\"#fdca26\"],[1.0,\"#f0f921\"]]}],\"heatmap\":[{\"type\":\"heatmap\",\"colorbar\":{\"outlinewidth\":0,\"ticks\":\"\"},\"colorscale\":[[0.0,\"#0d0887\"],[0.1111111111111111,\"#46039f\"],[0.2222222222222222,\"#7201a8\"],[0.3333333333333333,\"#9c179e\"],[0.4444444444444444,\"#bd3786\"],[0.5555555555555556,\"#d8576b\"],[0.6666666666666666,\"#ed7953\"],[0.7777777777777778,\"#fb9f3a\"],[0.8888888888888888,\"#fdca26\"],[1.0,\"#f0f921\"]]}],\"heatmapgl\":[{\"type\":\"heatmapgl\",\"colorbar\":{\"outlinewidth\":0,\"ticks\":\"\"},\"colorscale\":[[0.0,\"#0d0887\"],[0.1111111111111111,\"#46039f\"],[0.2222222222222222,\"#7201a8\"],[0.3333333333333333,\"#9c179e\"],[0.4444444444444444,\"#bd3786\"],[0.5555555555555556,\"#d8576b\"],[0.6666666666666666,\"#ed7953\"],[0.7777777777777778,\"#fb9f3a\"],[0.8888888888888888,\"#fdca26\"],[1.0,\"#f0f921\"]]}],\"contourcarpet\":[{\"type\":\"contourcarpet\",\"colorbar\":{\"outlinewidth\":0,\"ticks\":\"\"}}],\"contour\":[{\"type\":\"contour\",\"colorbar\":{\"outlinewidth\":0,\"ticks\":\"\"},\"colorscale\":[[0.0,\"#0d0887\"],[0.1111111111111111,\"#46039f\"],[0.2222222222222222,\"#7201a8\"],[0.3333333333333333,\"#9c179e\"],[0.4444444444444444,\"#bd3786\"],[0.5555555555555556,\"#d8576b\"],[0.6666666666666666,\"#ed7953\"],[0.7777777777777778,\"#fb9f3a\"],[0.8888888888888888,\"#fdca26\"],[1.0,\"#f0f921\"]]}],\"surface\":[{\"type\":\"surface\",\"colorbar\":{\"outlinewidth\":0,\"ticks\":\"\"},\"colorscale\":[[0.0,\"#0d0887\"],[0.1111111111111111,\"#46039f\"],[0.2222222222222222,\"#7201a8\"],[0.3333333333333333,\"#9c179e\"],[0.4444444444444444,\"#bd3786\"],[0.5555555555555556,\"#d8576b\"],[0.6666666666666666,\"#ed7953\"],[0.7777777777777778,\"#fb9f3a\"],[0.8888888888888888,\"#fdca26\"],[1.0,\"#f0f921\"]]}],\"mesh3d\":[{\"type\":\"mesh3d\",\"colorbar\":{\"outlinewidth\":0,\"ticks\":\"\"}}],\"scatter\":[{\"fillpattern\":{\"fillmode\":\"overlay\",\"size\":10,\"solidity\":0.2},\"type\":\"scatter\"}],\"parcoords\":[{\"type\":\"parcoords\",\"line\":{\"colorbar\":{\"outlinewidth\":0,\"ticks\":\"\"}}}],\"scatterpolargl\":[{\"type\":\"scatterpolargl\",\"marker\":{\"colorbar\":{\"outlinewidth\":0,\"ticks\":\"\"}}}],\"bar\":[{\"error_x\":{\"color\":\"#2a3f5f\"},\"error_y\":{\"color\":\"#2a3f5f\"},\"marker\":{\"line\":{\"color\":\"#E5ECF6\",\"width\":0.5},\"pattern\":{\"fillmode\":\"overlay\",\"size\":10,\"solidity\":0.2}},\"type\":\"bar\"}],\"scattergeo\":[{\"type\":\"scattergeo\",\"marker\":{\"colorbar\":{\"outlinewidth\":0,\"ticks\":\"\"}}}],\"scatterpolar\":[{\"type\":\"scatterpolar\",\"marker\":{\"colorbar\":{\"outlinewidth\":0,\"ticks\":\"\"}}}],\"histogram\":[{\"marker\":{\"pattern\":{\"fillmode\":\"overlay\",\"size\":10,\"solidity\":0.2}},\"type\":\"histogram\"}],\"scattergl\":[{\"type\":\"scattergl\",\"marker\":{\"colorbar\":{\"outlinewidth\":0,\"ticks\":\"\"}}}],\"scatter3d\":[{\"type\":\"scatter3d\",\"line\":{\"colorbar\":{\"outlinewidth\":0,\"ticks\":\"\"}},\"marker\":{\"colorbar\":{\"outlinewidth\":0,\"ticks\":\"\"}}}],\"scattermapbox\":[{\"type\":\"scattermapbox\",\"marker\":{\"colorbar\":{\"outlinewidth\":0,\"ticks\":\"\"}}}],\"scatterternary\":[{\"type\":\"scatterternary\",\"marker\":{\"colorbar\":{\"outlinewidth\":0,\"ticks\":\"\"}}}],\"scattercarpet\":[{\"type\":\"scattercarpet\",\"marker\":{\"colorbar\":{\"outlinewidth\":0,\"ticks\":\"\"}}}],\"carpet\":[{\"aaxis\":{\"endlinecolor\":\"#2a3f5f\",\"gridcolor\":\"white\",\"linecolor\":\"white\",\"minorgridcolor\":\"white\",\"startlinecolor\":\"#2a3f5f\"},\"baxis\":{\"endlinecolor\":\"#2a3f5f\",\"gridcolor\":\"white\",\"linecolor\":\"white\",\"minorgridcolor\":\"white\",\"startlinecolor\":\"#2a3f5f\"},\"type\":\"carpet\"}],\"table\":[{\"cells\":{\"fill\":{\"color\":\"#EBF0F8\"},\"line\":{\"color\":\"white\"}},\"header\":{\"fill\":{\"color\":\"#C8D4E3\"},\"line\":{\"color\":\"white\"}},\"type\":\"table\"}],\"barpolar\":[{\"marker\":{\"line\":{\"color\":\"#E5ECF6\",\"width\":0.5},\"pattern\":{\"fillmode\":\"overlay\",\"size\":10,\"solidity\":0.2}},\"type\":\"barpolar\"}],\"pie\":[{\"automargin\":true,\"type\":\"pie\"}]},\"layout\":{\"autotypenumbers\":\"strict\",\"colorway\":[\"#636efa\",\"#EF553B\",\"#00cc96\",\"#ab63fa\",\"#FFA15A\",\"#19d3f3\",\"#FF6692\",\"#B6E880\",\"#FF97FF\",\"#FECB52\"],\"font\":{\"color\":\"#2a3f5f\"},\"hovermode\":\"closest\",\"hoverlabel\":{\"align\":\"left\"},\"paper_bgcolor\":\"white\",\"plot_bgcolor\":\"#E5ECF6\",\"polar\":{\"bgcolor\":\"#E5ECF6\",\"angularaxis\":{\"gridcolor\":\"white\",\"linecolor\":\"white\",\"ticks\":\"\"},\"radialaxis\":{\"gridcolor\":\"white\",\"linecolor\":\"white\",\"ticks\":\"\"}},\"ternary\":{\"bgcolor\":\"#E5ECF6\",\"aaxis\":{\"gridcolor\":\"white\",\"linecolor\":\"white\",\"ticks\":\"\"},\"baxis\":{\"gridcolor\":\"white\",\"linecolor\":\"white\",\"ticks\":\"\"},\"caxis\":{\"gridcolor\":\"white\",\"linecolor\":\"white\",\"ticks\":\"\"}},\"coloraxis\":{\"colorbar\":{\"outlinewidth\":0,\"ticks\":\"\"}},\"colorscale\":{\"sequential\":[[0.0,\"#0d0887\"],[0.1111111111111111,\"#46039f\"],[0.2222222222222222,\"#7201a8\"],[0.3333333333333333,\"#9c179e\"],[0.4444444444444444,\"#bd3786\"],[0.5555555555555556,\"#d8576b\"],[0.6666666666666666,\"#ed7953\"],[0.7777777777777778,\"#fb9f3a\"],[0.8888888888888888,\"#fdca26\"],[1.0,\"#f0f921\"]],\"sequentialminus\":[[0.0,\"#0d0887\"],[0.1111111111111111,\"#46039f\"],[0.2222222222222222,\"#7201a8\"],[0.3333333333333333,\"#9c179e\"],[0.4444444444444444,\"#bd3786\"],[0.5555555555555556,\"#d8576b\"],[0.6666666666666666,\"#ed7953\"],[0.7777777777777778,\"#fb9f3a\"],[0.8888888888888888,\"#fdca26\"],[1.0,\"#f0f921\"]],\"diverging\":[[0,\"#8e0152\"],[0.1,\"#c51b7d\"],[0.2,\"#de77ae\"],[0.3,\"#f1b6da\"],[0.4,\"#fde0ef\"],[0.5,\"#f7f7f7\"],[0.6,\"#e6f5d0\"],[0.7,\"#b8e186\"],[0.8,\"#7fbc41\"],[0.9,\"#4d9221\"],[1,\"#276419\"]]},\"xaxis\":{\"gridcolor\":\"white\",\"linecolor\":\"white\",\"ticks\":\"\",\"title\":{\"standoff\":15},\"zerolinecolor\":\"white\",\"automargin\":true,\"zerolinewidth\":2},\"yaxis\":{\"gridcolor\":\"white\",\"linecolor\":\"white\",\"ticks\":\"\",\"title\":{\"standoff\":15},\"zerolinecolor\":\"white\",\"automargin\":true,\"zerolinewidth\":2},\"scene\":{\"xaxis\":{\"backgroundcolor\":\"#E5ECF6\",\"gridcolor\":\"white\",\"linecolor\":\"white\",\"showbackground\":true,\"ticks\":\"\",\"zerolinecolor\":\"white\",\"gridwidth\":2},\"yaxis\":{\"backgroundcolor\":\"#E5ECF6\",\"gridcolor\":\"white\",\"linecolor\":\"white\",\"showbackground\":true,\"ticks\":\"\",\"zerolinecolor\":\"white\",\"gridwidth\":2},\"zaxis\":{\"backgroundcolor\":\"#E5ECF6\",\"gridcolor\":\"white\",\"linecolor\":\"white\",\"showbackground\":true,\"ticks\":\"\",\"zerolinecolor\":\"white\",\"gridwidth\":2}},\"shapedefaults\":{\"line\":{\"color\":\"#2a3f5f\"}},\"annotationdefaults\":{\"arrowcolor\":\"#2a3f5f\",\"arrowhead\":0,\"arrowwidth\":1},\"geo\":{\"bgcolor\":\"white\",\"landcolor\":\"#E5ECF6\",\"subunitcolor\":\"white\",\"showland\":true,\"showlakes\":true,\"lakecolor\":\"white\"},\"title\":{\"x\":0.05},\"mapbox\":{\"style\":\"light\"}}},\"xaxis\":{\"anchor\":\"y\",\"domain\":[0.0,1.0],\"title\":{\"text\":\"AJCC Pathologic N Stage\"},\"categoryorder\":\"array\",\"categoryarray\":[\"N0 (i-)\",\"N0\",\"N1\",\"N1a\",\"N0 (i+)\",\"NX\",\"N1b\",\"N2a\",\"N2\",\"N3b\",\"N3a\"],\"tickangle\":45},\"yaxis\":{\"anchor\":\"x\",\"domain\":[0.0,1.0],\"title\":{\"text\":\"Expression Level\"}},\"legend\":{\"title\":{\"text\":\"AJCC Pathologic N Stage\"},\"tracegroupgap\":0},\"title\":{\"text\":\"Average Gene Expression Across AJCC Pathologic N Stages (Aggregated by Case)\"},\"boxmode\":\"overlay\",\"showlegend\":false},                        {\"responsive\": true}                    ).then(function(){\n",
       "                            \n",
       "var gd = document.getElementById('728a9049-c792-4677-b4a2-66d1c2129369');\n",
       "var x = new MutationObserver(function (mutations, observer) {{\n",
       "        var display = window.getComputedStyle(gd).display;\n",
       "        if (!display || display === 'none') {{\n",
       "            console.log([gd, 'removed!']);\n",
       "            Plotly.purge(gd);\n",
       "            observer.disconnect();\n",
       "        }}\n",
       "}});\n",
       "\n",
       "// Listen for the removal of the full notebook cells\n",
       "var notebookContainer = gd.closest('#notebook-container');\n",
       "if (notebookContainer) {{\n",
       "    x.observe(notebookContainer, {childList: true});\n",
       "}}\n",
       "\n",
       "// Listen for the clearing of the current output cell\n",
       "var outputEl = gd.closest('.output');\n",
       "if (outputEl) {{\n",
       "    x.observe(outputEl, {childList: true});\n",
       "}}\n",
       "\n",
       "                        })                };                });            </script>        </div>"
      ]
     },
     "metadata": {},
     "output_type": "display_data"
    }
   ],
   "source": [
    "import plotly.express as px\n",
    "\n",
    "# Filter out \"Unknown\" values for AJCC Pathologic N stages\n",
    "filtered_data_state_n = aggregated_data[reshaped_df['ajcc_pathologic_n'] != \"Unknown\"]\n",
    "\n",
    "fig = px.box(\n",
    "    filtered_data_state_n,\n",
    "    x='ajcc_pathologic_n',\n",
    "    y='Expression',\n",
    "    color='ajcc_pathologic_n',  # Optional: Assign a unique color to each category\n",
    "    title=\"Average Gene Expression Across AJCC Pathologic N Stages (Aggregated by Case)\",\n",
    "    labels={\n",
    "        'ajcc_pathologic_n': 'AJCC Pathologic N Stage',\n",
    "        'Expression': 'Expression Level'\n",
    "    },\n",
    "    color_discrete_sequence=px.colors.qualitative.Pastel \n",
    ")\n",
    "\n",
    "fig.update_layout(\n",
    "    xaxis_title=\"AJCC Pathologic N Stage\",\n",
    "    yaxis_title=\"Expression Level\",\n",
    "    xaxis_tickangle=45,\n",
    "    showlegend=False  \n",
    ")\n",
    "\n",
    "\n",
    "fig.show()\n"
   ]
  },
  {
   "cell_type": "code",
   "execution_count": 71,
   "id": "43f0eed2",
   "metadata": {},
   "outputs": [
    {
     "name": "stderr",
     "output_type": "stream",
     "text": [
      "/tmp/ipykernel_8245/3185326784.py:2: UserWarning:\n",
      "\n",
      "Boolean Series key will be reindexed to match DataFrame index.\n",
      "\n",
      "/Users/arjita/opt/anaconda3/envs/myenv/lib/python3.10/site-packages/plotly/express/_core.py:1992: FutureWarning:\n",
      "\n",
      "When grouping with a length-1 list-like, you will need to pass a length-1 tuple to get_group in a future version of pandas. Pass `(name,)` instead of `name` to silence this warning.\n",
      "\n"
     ]
    },
    {
     "data": {
      "application/vnd.plotly.v1+json": {
       "config": {
        "plotlyServerURL": "https://plot.ly"
       },
       "data": [
        {
         "alignmentgroup": "True",
         "hovertemplate": "AJCC Pathologic M Stage=%{x}<br>Expression Level=%{y}<extra></extra>",
         "legendgroup": "M0",
         "marker": {
          "color": "rgb(102, 197, 204)"
         },
         "name": "M0",
         "notched": false,
         "offsetgroup": "M0",
         "orientation": "v",
         "showlegend": true,
         "type": "box",
         "x": [
          "M0",
          "M0",
          "M0",
          "M0",
          "M0",
          "M0",
          "M0",
          "M0",
          "M0",
          "M0",
          "M0",
          "M0",
          "M0",
          "M0",
          "M0",
          "M0",
          "M0",
          "M0",
          "M0",
          "M0",
          "M0",
          "M0",
          "M0",
          "M0",
          "M0",
          "M0",
          "M0",
          "M0",
          "M0",
          "M0",
          "M0",
          "M0",
          "M0"
         ],
         "x0": " ",
         "xaxis": "x",
         "y": [
          -0.21197628567431465,
          0.14314212742401528,
          0.02433316406975836,
          0.5814353397606158,
          0.4323018128783331,
          -0.13339983919182055,
          -0.2629990131614073,
          -0.0693976320454352,
          -0.03682495891215519,
          0.021252451629254716,
          -0.1978373182382978,
          0.03698271711328661,
          0.01260861363486031,
          -0.22428235242189004,
          -0.02724397140535295,
          -0.22121059149519012,
          0.05238475523845328,
          0.6445969079331665,
          2.1474874570520948,
          0.003702842217663882,
          -0.032243654070997545,
          0.33511034627071495,
          0.2563253681226768,
          0.29525023284420515,
          0.08244982786081073,
          0.11910637610189517,
          -0.0032470279826118387,
          -0.1744679010627891,
          -0.2148084858239752,
          -0.07819178401843524,
          0.3387983855975131,
          0.34602231832264235,
          -0.021937440717893435
         ],
         "y0": " ",
         "yaxis": "y"
        },
        {
         "alignmentgroup": "True",
         "hovertemplate": "AJCC Pathologic M Stage=%{x}<br>Expression Level=%{y}<extra></extra>",
         "legendgroup": "MX",
         "marker": {
          "color": "rgb(246, 207, 113)"
         },
         "name": "MX",
         "notched": false,
         "offsetgroup": "MX",
         "orientation": "v",
         "showlegend": true,
         "type": "box",
         "x": [
          "MX",
          "MX",
          "MX",
          "MX",
          "MX",
          "MX",
          "MX",
          "MX",
          "MX"
         ],
         "x0": " ",
         "xaxis": "x",
         "y": [
          -0.5119417816291925,
          -0.020288266489366363,
          0.4907604060273919,
          0.15794763731046751,
          0.14312667792868183,
          -0.16601989718794677,
          0.044088578942768276,
          0.5488051200572505,
          0.13923564690460122
         ],
         "y0": " ",
         "yaxis": "y"
        },
        {
         "alignmentgroup": "True",
         "hovertemplate": "AJCC Pathologic M Stage=%{x}<br>Expression Level=%{y}<extra></extra>",
         "legendgroup": "cM0 (i+)",
         "marker": {
          "color": "rgb(248, 156, 116)"
         },
         "name": "cM0 (i+)",
         "notched": false,
         "offsetgroup": "cM0 (i+)",
         "orientation": "v",
         "showlegend": true,
         "type": "box",
         "x": [
          "cM0 (i+)"
         ],
         "x0": " ",
         "xaxis": "x",
         "y": [
          -0.1693806154575886
         ],
         "y0": " ",
         "yaxis": "y"
        }
       ],
       "layout": {
        "boxmode": "overlay",
        "legend": {
         "title": {
          "text": "AJCC Pathologic M Stage"
         },
         "tracegroupgap": 0
        },
        "showlegend": false,
        "template": {
         "data": {
          "bar": [
           {
            "error_x": {
             "color": "#2a3f5f"
            },
            "error_y": {
             "color": "#2a3f5f"
            },
            "marker": {
             "line": {
              "color": "#E5ECF6",
              "width": 0.5
             },
             "pattern": {
              "fillmode": "overlay",
              "size": 10,
              "solidity": 0.2
             }
            },
            "type": "bar"
           }
          ],
          "barpolar": [
           {
            "marker": {
             "line": {
              "color": "#E5ECF6",
              "width": 0.5
             },
             "pattern": {
              "fillmode": "overlay",
              "size": 10,
              "solidity": 0.2
             }
            },
            "type": "barpolar"
           }
          ],
          "carpet": [
           {
            "aaxis": {
             "endlinecolor": "#2a3f5f",
             "gridcolor": "white",
             "linecolor": "white",
             "minorgridcolor": "white",
             "startlinecolor": "#2a3f5f"
            },
            "baxis": {
             "endlinecolor": "#2a3f5f",
             "gridcolor": "white",
             "linecolor": "white",
             "minorgridcolor": "white",
             "startlinecolor": "#2a3f5f"
            },
            "type": "carpet"
           }
          ],
          "choropleth": [
           {
            "colorbar": {
             "outlinewidth": 0,
             "ticks": ""
            },
            "type": "choropleth"
           }
          ],
          "contour": [
           {
            "colorbar": {
             "outlinewidth": 0,
             "ticks": ""
            },
            "colorscale": [
             [
              0,
              "#0d0887"
             ],
             [
              0.1111111111111111,
              "#46039f"
             ],
             [
              0.2222222222222222,
              "#7201a8"
             ],
             [
              0.3333333333333333,
              "#9c179e"
             ],
             [
              0.4444444444444444,
              "#bd3786"
             ],
             [
              0.5555555555555556,
              "#d8576b"
             ],
             [
              0.6666666666666666,
              "#ed7953"
             ],
             [
              0.7777777777777778,
              "#fb9f3a"
             ],
             [
              0.8888888888888888,
              "#fdca26"
             ],
             [
              1,
              "#f0f921"
             ]
            ],
            "type": "contour"
           }
          ],
          "contourcarpet": [
           {
            "colorbar": {
             "outlinewidth": 0,
             "ticks": ""
            },
            "type": "contourcarpet"
           }
          ],
          "heatmap": [
           {
            "colorbar": {
             "outlinewidth": 0,
             "ticks": ""
            },
            "colorscale": [
             [
              0,
              "#0d0887"
             ],
             [
              0.1111111111111111,
              "#46039f"
             ],
             [
              0.2222222222222222,
              "#7201a8"
             ],
             [
              0.3333333333333333,
              "#9c179e"
             ],
             [
              0.4444444444444444,
              "#bd3786"
             ],
             [
              0.5555555555555556,
              "#d8576b"
             ],
             [
              0.6666666666666666,
              "#ed7953"
             ],
             [
              0.7777777777777778,
              "#fb9f3a"
             ],
             [
              0.8888888888888888,
              "#fdca26"
             ],
             [
              1,
              "#f0f921"
             ]
            ],
            "type": "heatmap"
           }
          ],
          "heatmapgl": [
           {
            "colorbar": {
             "outlinewidth": 0,
             "ticks": ""
            },
            "colorscale": [
             [
              0,
              "#0d0887"
             ],
             [
              0.1111111111111111,
              "#46039f"
             ],
             [
              0.2222222222222222,
              "#7201a8"
             ],
             [
              0.3333333333333333,
              "#9c179e"
             ],
             [
              0.4444444444444444,
              "#bd3786"
             ],
             [
              0.5555555555555556,
              "#d8576b"
             ],
             [
              0.6666666666666666,
              "#ed7953"
             ],
             [
              0.7777777777777778,
              "#fb9f3a"
             ],
             [
              0.8888888888888888,
              "#fdca26"
             ],
             [
              1,
              "#f0f921"
             ]
            ],
            "type": "heatmapgl"
           }
          ],
          "histogram": [
           {
            "marker": {
             "pattern": {
              "fillmode": "overlay",
              "size": 10,
              "solidity": 0.2
             }
            },
            "type": "histogram"
           }
          ],
          "histogram2d": [
           {
            "colorbar": {
             "outlinewidth": 0,
             "ticks": ""
            },
            "colorscale": [
             [
              0,
              "#0d0887"
             ],
             [
              0.1111111111111111,
              "#46039f"
             ],
             [
              0.2222222222222222,
              "#7201a8"
             ],
             [
              0.3333333333333333,
              "#9c179e"
             ],
             [
              0.4444444444444444,
              "#bd3786"
             ],
             [
              0.5555555555555556,
              "#d8576b"
             ],
             [
              0.6666666666666666,
              "#ed7953"
             ],
             [
              0.7777777777777778,
              "#fb9f3a"
             ],
             [
              0.8888888888888888,
              "#fdca26"
             ],
             [
              1,
              "#f0f921"
             ]
            ],
            "type": "histogram2d"
           }
          ],
          "histogram2dcontour": [
           {
            "colorbar": {
             "outlinewidth": 0,
             "ticks": ""
            },
            "colorscale": [
             [
              0,
              "#0d0887"
             ],
             [
              0.1111111111111111,
              "#46039f"
             ],
             [
              0.2222222222222222,
              "#7201a8"
             ],
             [
              0.3333333333333333,
              "#9c179e"
             ],
             [
              0.4444444444444444,
              "#bd3786"
             ],
             [
              0.5555555555555556,
              "#d8576b"
             ],
             [
              0.6666666666666666,
              "#ed7953"
             ],
             [
              0.7777777777777778,
              "#fb9f3a"
             ],
             [
              0.8888888888888888,
              "#fdca26"
             ],
             [
              1,
              "#f0f921"
             ]
            ],
            "type": "histogram2dcontour"
           }
          ],
          "mesh3d": [
           {
            "colorbar": {
             "outlinewidth": 0,
             "ticks": ""
            },
            "type": "mesh3d"
           }
          ],
          "parcoords": [
           {
            "line": {
             "colorbar": {
              "outlinewidth": 0,
              "ticks": ""
             }
            },
            "type": "parcoords"
           }
          ],
          "pie": [
           {
            "automargin": true,
            "type": "pie"
           }
          ],
          "scatter": [
           {
            "fillpattern": {
             "fillmode": "overlay",
             "size": 10,
             "solidity": 0.2
            },
            "type": "scatter"
           }
          ],
          "scatter3d": [
           {
            "line": {
             "colorbar": {
              "outlinewidth": 0,
              "ticks": ""
             }
            },
            "marker": {
             "colorbar": {
              "outlinewidth": 0,
              "ticks": ""
             }
            },
            "type": "scatter3d"
           }
          ],
          "scattercarpet": [
           {
            "marker": {
             "colorbar": {
              "outlinewidth": 0,
              "ticks": ""
             }
            },
            "type": "scattercarpet"
           }
          ],
          "scattergeo": [
           {
            "marker": {
             "colorbar": {
              "outlinewidth": 0,
              "ticks": ""
             }
            },
            "type": "scattergeo"
           }
          ],
          "scattergl": [
           {
            "marker": {
             "colorbar": {
              "outlinewidth": 0,
              "ticks": ""
             }
            },
            "type": "scattergl"
           }
          ],
          "scattermapbox": [
           {
            "marker": {
             "colorbar": {
              "outlinewidth": 0,
              "ticks": ""
             }
            },
            "type": "scattermapbox"
           }
          ],
          "scatterpolar": [
           {
            "marker": {
             "colorbar": {
              "outlinewidth": 0,
              "ticks": ""
             }
            },
            "type": "scatterpolar"
           }
          ],
          "scatterpolargl": [
           {
            "marker": {
             "colorbar": {
              "outlinewidth": 0,
              "ticks": ""
             }
            },
            "type": "scatterpolargl"
           }
          ],
          "scatterternary": [
           {
            "marker": {
             "colorbar": {
              "outlinewidth": 0,
              "ticks": ""
             }
            },
            "type": "scatterternary"
           }
          ],
          "surface": [
           {
            "colorbar": {
             "outlinewidth": 0,
             "ticks": ""
            },
            "colorscale": [
             [
              0,
              "#0d0887"
             ],
             [
              0.1111111111111111,
              "#46039f"
             ],
             [
              0.2222222222222222,
              "#7201a8"
             ],
             [
              0.3333333333333333,
              "#9c179e"
             ],
             [
              0.4444444444444444,
              "#bd3786"
             ],
             [
              0.5555555555555556,
              "#d8576b"
             ],
             [
              0.6666666666666666,
              "#ed7953"
             ],
             [
              0.7777777777777778,
              "#fb9f3a"
             ],
             [
              0.8888888888888888,
              "#fdca26"
             ],
             [
              1,
              "#f0f921"
             ]
            ],
            "type": "surface"
           }
          ],
          "table": [
           {
            "cells": {
             "fill": {
              "color": "#EBF0F8"
             },
             "line": {
              "color": "white"
             }
            },
            "header": {
             "fill": {
              "color": "#C8D4E3"
             },
             "line": {
              "color": "white"
             }
            },
            "type": "table"
           }
          ]
         },
         "layout": {
          "annotationdefaults": {
           "arrowcolor": "#2a3f5f",
           "arrowhead": 0,
           "arrowwidth": 1
          },
          "autotypenumbers": "strict",
          "coloraxis": {
           "colorbar": {
            "outlinewidth": 0,
            "ticks": ""
           }
          },
          "colorscale": {
           "diverging": [
            [
             0,
             "#8e0152"
            ],
            [
             0.1,
             "#c51b7d"
            ],
            [
             0.2,
             "#de77ae"
            ],
            [
             0.3,
             "#f1b6da"
            ],
            [
             0.4,
             "#fde0ef"
            ],
            [
             0.5,
             "#f7f7f7"
            ],
            [
             0.6,
             "#e6f5d0"
            ],
            [
             0.7,
             "#b8e186"
            ],
            [
             0.8,
             "#7fbc41"
            ],
            [
             0.9,
             "#4d9221"
            ],
            [
             1,
             "#276419"
            ]
           ],
           "sequential": [
            [
             0,
             "#0d0887"
            ],
            [
             0.1111111111111111,
             "#46039f"
            ],
            [
             0.2222222222222222,
             "#7201a8"
            ],
            [
             0.3333333333333333,
             "#9c179e"
            ],
            [
             0.4444444444444444,
             "#bd3786"
            ],
            [
             0.5555555555555556,
             "#d8576b"
            ],
            [
             0.6666666666666666,
             "#ed7953"
            ],
            [
             0.7777777777777778,
             "#fb9f3a"
            ],
            [
             0.8888888888888888,
             "#fdca26"
            ],
            [
             1,
             "#f0f921"
            ]
           ],
           "sequentialminus": [
            [
             0,
             "#0d0887"
            ],
            [
             0.1111111111111111,
             "#46039f"
            ],
            [
             0.2222222222222222,
             "#7201a8"
            ],
            [
             0.3333333333333333,
             "#9c179e"
            ],
            [
             0.4444444444444444,
             "#bd3786"
            ],
            [
             0.5555555555555556,
             "#d8576b"
            ],
            [
             0.6666666666666666,
             "#ed7953"
            ],
            [
             0.7777777777777778,
             "#fb9f3a"
            ],
            [
             0.8888888888888888,
             "#fdca26"
            ],
            [
             1,
             "#f0f921"
            ]
           ]
          },
          "colorway": [
           "#636efa",
           "#EF553B",
           "#00cc96",
           "#ab63fa",
           "#FFA15A",
           "#19d3f3",
           "#FF6692",
           "#B6E880",
           "#FF97FF",
           "#FECB52"
          ],
          "font": {
           "color": "#2a3f5f"
          },
          "geo": {
           "bgcolor": "white",
           "lakecolor": "white",
           "landcolor": "#E5ECF6",
           "showlakes": true,
           "showland": true,
           "subunitcolor": "white"
          },
          "hoverlabel": {
           "align": "left"
          },
          "hovermode": "closest",
          "mapbox": {
           "style": "light"
          },
          "paper_bgcolor": "white",
          "plot_bgcolor": "#E5ECF6",
          "polar": {
           "angularaxis": {
            "gridcolor": "white",
            "linecolor": "white",
            "ticks": ""
           },
           "bgcolor": "#E5ECF6",
           "radialaxis": {
            "gridcolor": "white",
            "linecolor": "white",
            "ticks": ""
           }
          },
          "scene": {
           "xaxis": {
            "backgroundcolor": "#E5ECF6",
            "gridcolor": "white",
            "gridwidth": 2,
            "linecolor": "white",
            "showbackground": true,
            "ticks": "",
            "zerolinecolor": "white"
           },
           "yaxis": {
            "backgroundcolor": "#E5ECF6",
            "gridcolor": "white",
            "gridwidth": 2,
            "linecolor": "white",
            "showbackground": true,
            "ticks": "",
            "zerolinecolor": "white"
           },
           "zaxis": {
            "backgroundcolor": "#E5ECF6",
            "gridcolor": "white",
            "gridwidth": 2,
            "linecolor": "white",
            "showbackground": true,
            "ticks": "",
            "zerolinecolor": "white"
           }
          },
          "shapedefaults": {
           "line": {
            "color": "#2a3f5f"
           }
          },
          "ternary": {
           "aaxis": {
            "gridcolor": "white",
            "linecolor": "white",
            "ticks": ""
           },
           "baxis": {
            "gridcolor": "white",
            "linecolor": "white",
            "ticks": ""
           },
           "bgcolor": "#E5ECF6",
           "caxis": {
            "gridcolor": "white",
            "linecolor": "white",
            "ticks": ""
           }
          },
          "title": {
           "x": 0.05
          },
          "xaxis": {
           "automargin": true,
           "gridcolor": "white",
           "linecolor": "white",
           "ticks": "",
           "title": {
            "standoff": 15
           },
           "zerolinecolor": "white",
           "zerolinewidth": 2
          },
          "yaxis": {
           "automargin": true,
           "gridcolor": "white",
           "linecolor": "white",
           "ticks": "",
           "title": {
            "standoff": 15
           },
           "zerolinecolor": "white",
           "zerolinewidth": 2
          }
         }
        },
        "title": {
         "text": "Average Gene Expression Across AJCC Pathologic M Stages (Aggregated by Case)"
        },
        "xaxis": {
         "anchor": "y",
         "categoryarray": [
          "M0",
          "MX",
          "cM0 (i+)"
         ],
         "categoryorder": "array",
         "domain": [
          0,
          1
         ],
         "tickangle": 45,
         "title": {
          "text": "AJCC Pathologic M Stage"
         }
        },
        "yaxis": {
         "anchor": "x",
         "domain": [
          0,
          1
         ],
         "title": {
          "text": "Expression Level"
         }
        }
       }
      },
      "text/html": [
       "<div>                            <div id=\"65f190cc-a7d3-452e-abc7-ca9b64568472\" class=\"plotly-graph-div\" style=\"height:525px; width:100%;\"></div>            <script type=\"text/javascript\">                require([\"plotly\"], function(Plotly) {                    window.PLOTLYENV=window.PLOTLYENV || {};                                    if (document.getElementById(\"65f190cc-a7d3-452e-abc7-ca9b64568472\")) {                    Plotly.newPlot(                        \"65f190cc-a7d3-452e-abc7-ca9b64568472\",                        [{\"alignmentgroup\":\"True\",\"hovertemplate\":\"AJCC Pathologic M Stage=%{x}\\u003cbr\\u003eExpression Level=%{y}\\u003cextra\\u003e\\u003c\\u002fextra\\u003e\",\"legendgroup\":\"M0\",\"marker\":{\"color\":\"rgb(102, 197, 204)\"},\"name\":\"M0\",\"notched\":false,\"offsetgroup\":\"M0\",\"orientation\":\"v\",\"showlegend\":true,\"x\":[\"M0\",\"M0\",\"M0\",\"M0\",\"M0\",\"M0\",\"M0\",\"M0\",\"M0\",\"M0\",\"M0\",\"M0\",\"M0\",\"M0\",\"M0\",\"M0\",\"M0\",\"M0\",\"M0\",\"M0\",\"M0\",\"M0\",\"M0\",\"M0\",\"M0\",\"M0\",\"M0\",\"M0\",\"M0\",\"M0\",\"M0\",\"M0\",\"M0\"],\"x0\":\" \",\"xaxis\":\"x\",\"y\":[-0.21197628567431465,0.14314212742401528,0.02433316406975836,0.5814353397606158,0.4323018128783331,-0.13339983919182055,-0.2629990131614073,-0.0693976320454352,-0.03682495891215519,0.021252451629254716,-0.1978373182382978,0.03698271711328661,0.01260861363486031,-0.22428235242189004,-0.02724397140535295,-0.22121059149519012,0.05238475523845328,0.6445969079331665,2.1474874570520948,0.003702842217663882,-0.032243654070997545,0.33511034627071495,0.2563253681226768,0.29525023284420515,0.08244982786081073,0.11910637610189517,-0.0032470279826118387,-0.1744679010627891,-0.2148084858239752,-0.07819178401843524,0.3387983855975131,0.34602231832264235,-0.021937440717893435],\"y0\":\" \",\"yaxis\":\"y\",\"type\":\"box\"},{\"alignmentgroup\":\"True\",\"hovertemplate\":\"AJCC Pathologic M Stage=%{x}\\u003cbr\\u003eExpression Level=%{y}\\u003cextra\\u003e\\u003c\\u002fextra\\u003e\",\"legendgroup\":\"MX\",\"marker\":{\"color\":\"rgb(246, 207, 113)\"},\"name\":\"MX\",\"notched\":false,\"offsetgroup\":\"MX\",\"orientation\":\"v\",\"showlegend\":true,\"x\":[\"MX\",\"MX\",\"MX\",\"MX\",\"MX\",\"MX\",\"MX\",\"MX\",\"MX\"],\"x0\":\" \",\"xaxis\":\"x\",\"y\":[-0.5119417816291925,-0.020288266489366363,0.4907604060273919,0.15794763731046751,0.14312667792868183,-0.16601989718794677,0.044088578942768276,0.5488051200572505,0.13923564690460122],\"y0\":\" \",\"yaxis\":\"y\",\"type\":\"box\"},{\"alignmentgroup\":\"True\",\"hovertemplate\":\"AJCC Pathologic M Stage=%{x}\\u003cbr\\u003eExpression Level=%{y}\\u003cextra\\u003e\\u003c\\u002fextra\\u003e\",\"legendgroup\":\"cM0 (i+)\",\"marker\":{\"color\":\"rgb(248, 156, 116)\"},\"name\":\"cM0 (i+)\",\"notched\":false,\"offsetgroup\":\"cM0 (i+)\",\"orientation\":\"v\",\"showlegend\":true,\"x\":[\"cM0 (i+)\"],\"x0\":\" \",\"xaxis\":\"x\",\"y\":[-0.1693806154575886],\"y0\":\" \",\"yaxis\":\"y\",\"type\":\"box\"}],                        {\"template\":{\"data\":{\"histogram2dcontour\":[{\"type\":\"histogram2dcontour\",\"colorbar\":{\"outlinewidth\":0,\"ticks\":\"\"},\"colorscale\":[[0.0,\"#0d0887\"],[0.1111111111111111,\"#46039f\"],[0.2222222222222222,\"#7201a8\"],[0.3333333333333333,\"#9c179e\"],[0.4444444444444444,\"#bd3786\"],[0.5555555555555556,\"#d8576b\"],[0.6666666666666666,\"#ed7953\"],[0.7777777777777778,\"#fb9f3a\"],[0.8888888888888888,\"#fdca26\"],[1.0,\"#f0f921\"]]}],\"choropleth\":[{\"type\":\"choropleth\",\"colorbar\":{\"outlinewidth\":0,\"ticks\":\"\"}}],\"histogram2d\":[{\"type\":\"histogram2d\",\"colorbar\":{\"outlinewidth\":0,\"ticks\":\"\"},\"colorscale\":[[0.0,\"#0d0887\"],[0.1111111111111111,\"#46039f\"],[0.2222222222222222,\"#7201a8\"],[0.3333333333333333,\"#9c179e\"],[0.4444444444444444,\"#bd3786\"],[0.5555555555555556,\"#d8576b\"],[0.6666666666666666,\"#ed7953\"],[0.7777777777777778,\"#fb9f3a\"],[0.8888888888888888,\"#fdca26\"],[1.0,\"#f0f921\"]]}],\"heatmap\":[{\"type\":\"heatmap\",\"colorbar\":{\"outlinewidth\":0,\"ticks\":\"\"},\"colorscale\":[[0.0,\"#0d0887\"],[0.1111111111111111,\"#46039f\"],[0.2222222222222222,\"#7201a8\"],[0.3333333333333333,\"#9c179e\"],[0.4444444444444444,\"#bd3786\"],[0.5555555555555556,\"#d8576b\"],[0.6666666666666666,\"#ed7953\"],[0.7777777777777778,\"#fb9f3a\"],[0.8888888888888888,\"#fdca26\"],[1.0,\"#f0f921\"]]}],\"heatmapgl\":[{\"type\":\"heatmapgl\",\"colorbar\":{\"outlinewidth\":0,\"ticks\":\"\"},\"colorscale\":[[0.0,\"#0d0887\"],[0.1111111111111111,\"#46039f\"],[0.2222222222222222,\"#7201a8\"],[0.3333333333333333,\"#9c179e\"],[0.4444444444444444,\"#bd3786\"],[0.5555555555555556,\"#d8576b\"],[0.6666666666666666,\"#ed7953\"],[0.7777777777777778,\"#fb9f3a\"],[0.8888888888888888,\"#fdca26\"],[1.0,\"#f0f921\"]]}],\"contourcarpet\":[{\"type\":\"contourcarpet\",\"colorbar\":{\"outlinewidth\":0,\"ticks\":\"\"}}],\"contour\":[{\"type\":\"contour\",\"colorbar\":{\"outlinewidth\":0,\"ticks\":\"\"},\"colorscale\":[[0.0,\"#0d0887\"],[0.1111111111111111,\"#46039f\"],[0.2222222222222222,\"#7201a8\"],[0.3333333333333333,\"#9c179e\"],[0.4444444444444444,\"#bd3786\"],[0.5555555555555556,\"#d8576b\"],[0.6666666666666666,\"#ed7953\"],[0.7777777777777778,\"#fb9f3a\"],[0.8888888888888888,\"#fdca26\"],[1.0,\"#f0f921\"]]}],\"surface\":[{\"type\":\"surface\",\"colorbar\":{\"outlinewidth\":0,\"ticks\":\"\"},\"colorscale\":[[0.0,\"#0d0887\"],[0.1111111111111111,\"#46039f\"],[0.2222222222222222,\"#7201a8\"],[0.3333333333333333,\"#9c179e\"],[0.4444444444444444,\"#bd3786\"],[0.5555555555555556,\"#d8576b\"],[0.6666666666666666,\"#ed7953\"],[0.7777777777777778,\"#fb9f3a\"],[0.8888888888888888,\"#fdca26\"],[1.0,\"#f0f921\"]]}],\"mesh3d\":[{\"type\":\"mesh3d\",\"colorbar\":{\"outlinewidth\":0,\"ticks\":\"\"}}],\"scatter\":[{\"fillpattern\":{\"fillmode\":\"overlay\",\"size\":10,\"solidity\":0.2},\"type\":\"scatter\"}],\"parcoords\":[{\"type\":\"parcoords\",\"line\":{\"colorbar\":{\"outlinewidth\":0,\"ticks\":\"\"}}}],\"scatterpolargl\":[{\"type\":\"scatterpolargl\",\"marker\":{\"colorbar\":{\"outlinewidth\":0,\"ticks\":\"\"}}}],\"bar\":[{\"error_x\":{\"color\":\"#2a3f5f\"},\"error_y\":{\"color\":\"#2a3f5f\"},\"marker\":{\"line\":{\"color\":\"#E5ECF6\",\"width\":0.5},\"pattern\":{\"fillmode\":\"overlay\",\"size\":10,\"solidity\":0.2}},\"type\":\"bar\"}],\"scattergeo\":[{\"type\":\"scattergeo\",\"marker\":{\"colorbar\":{\"outlinewidth\":0,\"ticks\":\"\"}}}],\"scatterpolar\":[{\"type\":\"scatterpolar\",\"marker\":{\"colorbar\":{\"outlinewidth\":0,\"ticks\":\"\"}}}],\"histogram\":[{\"marker\":{\"pattern\":{\"fillmode\":\"overlay\",\"size\":10,\"solidity\":0.2}},\"type\":\"histogram\"}],\"scattergl\":[{\"type\":\"scattergl\",\"marker\":{\"colorbar\":{\"outlinewidth\":0,\"ticks\":\"\"}}}],\"scatter3d\":[{\"type\":\"scatter3d\",\"line\":{\"colorbar\":{\"outlinewidth\":0,\"ticks\":\"\"}},\"marker\":{\"colorbar\":{\"outlinewidth\":0,\"ticks\":\"\"}}}],\"scattermapbox\":[{\"type\":\"scattermapbox\",\"marker\":{\"colorbar\":{\"outlinewidth\":0,\"ticks\":\"\"}}}],\"scatterternary\":[{\"type\":\"scatterternary\",\"marker\":{\"colorbar\":{\"outlinewidth\":0,\"ticks\":\"\"}}}],\"scattercarpet\":[{\"type\":\"scattercarpet\",\"marker\":{\"colorbar\":{\"outlinewidth\":0,\"ticks\":\"\"}}}],\"carpet\":[{\"aaxis\":{\"endlinecolor\":\"#2a3f5f\",\"gridcolor\":\"white\",\"linecolor\":\"white\",\"minorgridcolor\":\"white\",\"startlinecolor\":\"#2a3f5f\"},\"baxis\":{\"endlinecolor\":\"#2a3f5f\",\"gridcolor\":\"white\",\"linecolor\":\"white\",\"minorgridcolor\":\"white\",\"startlinecolor\":\"#2a3f5f\"},\"type\":\"carpet\"}],\"table\":[{\"cells\":{\"fill\":{\"color\":\"#EBF0F8\"},\"line\":{\"color\":\"white\"}},\"header\":{\"fill\":{\"color\":\"#C8D4E3\"},\"line\":{\"color\":\"white\"}},\"type\":\"table\"}],\"barpolar\":[{\"marker\":{\"line\":{\"color\":\"#E5ECF6\",\"width\":0.5},\"pattern\":{\"fillmode\":\"overlay\",\"size\":10,\"solidity\":0.2}},\"type\":\"barpolar\"}],\"pie\":[{\"automargin\":true,\"type\":\"pie\"}]},\"layout\":{\"autotypenumbers\":\"strict\",\"colorway\":[\"#636efa\",\"#EF553B\",\"#00cc96\",\"#ab63fa\",\"#FFA15A\",\"#19d3f3\",\"#FF6692\",\"#B6E880\",\"#FF97FF\",\"#FECB52\"],\"font\":{\"color\":\"#2a3f5f\"},\"hovermode\":\"closest\",\"hoverlabel\":{\"align\":\"left\"},\"paper_bgcolor\":\"white\",\"plot_bgcolor\":\"#E5ECF6\",\"polar\":{\"bgcolor\":\"#E5ECF6\",\"angularaxis\":{\"gridcolor\":\"white\",\"linecolor\":\"white\",\"ticks\":\"\"},\"radialaxis\":{\"gridcolor\":\"white\",\"linecolor\":\"white\",\"ticks\":\"\"}},\"ternary\":{\"bgcolor\":\"#E5ECF6\",\"aaxis\":{\"gridcolor\":\"white\",\"linecolor\":\"white\",\"ticks\":\"\"},\"baxis\":{\"gridcolor\":\"white\",\"linecolor\":\"white\",\"ticks\":\"\"},\"caxis\":{\"gridcolor\":\"white\",\"linecolor\":\"white\",\"ticks\":\"\"}},\"coloraxis\":{\"colorbar\":{\"outlinewidth\":0,\"ticks\":\"\"}},\"colorscale\":{\"sequential\":[[0.0,\"#0d0887\"],[0.1111111111111111,\"#46039f\"],[0.2222222222222222,\"#7201a8\"],[0.3333333333333333,\"#9c179e\"],[0.4444444444444444,\"#bd3786\"],[0.5555555555555556,\"#d8576b\"],[0.6666666666666666,\"#ed7953\"],[0.7777777777777778,\"#fb9f3a\"],[0.8888888888888888,\"#fdca26\"],[1.0,\"#f0f921\"]],\"sequentialminus\":[[0.0,\"#0d0887\"],[0.1111111111111111,\"#46039f\"],[0.2222222222222222,\"#7201a8\"],[0.3333333333333333,\"#9c179e\"],[0.4444444444444444,\"#bd3786\"],[0.5555555555555556,\"#d8576b\"],[0.6666666666666666,\"#ed7953\"],[0.7777777777777778,\"#fb9f3a\"],[0.8888888888888888,\"#fdca26\"],[1.0,\"#f0f921\"]],\"diverging\":[[0,\"#8e0152\"],[0.1,\"#c51b7d\"],[0.2,\"#de77ae\"],[0.3,\"#f1b6da\"],[0.4,\"#fde0ef\"],[0.5,\"#f7f7f7\"],[0.6,\"#e6f5d0\"],[0.7,\"#b8e186\"],[0.8,\"#7fbc41\"],[0.9,\"#4d9221\"],[1,\"#276419\"]]},\"xaxis\":{\"gridcolor\":\"white\",\"linecolor\":\"white\",\"ticks\":\"\",\"title\":{\"standoff\":15},\"zerolinecolor\":\"white\",\"automargin\":true,\"zerolinewidth\":2},\"yaxis\":{\"gridcolor\":\"white\",\"linecolor\":\"white\",\"ticks\":\"\",\"title\":{\"standoff\":15},\"zerolinecolor\":\"white\",\"automargin\":true,\"zerolinewidth\":2},\"scene\":{\"xaxis\":{\"backgroundcolor\":\"#E5ECF6\",\"gridcolor\":\"white\",\"linecolor\":\"white\",\"showbackground\":true,\"ticks\":\"\",\"zerolinecolor\":\"white\",\"gridwidth\":2},\"yaxis\":{\"backgroundcolor\":\"#E5ECF6\",\"gridcolor\":\"white\",\"linecolor\":\"white\",\"showbackground\":true,\"ticks\":\"\",\"zerolinecolor\":\"white\",\"gridwidth\":2},\"zaxis\":{\"backgroundcolor\":\"#E5ECF6\",\"gridcolor\":\"white\",\"linecolor\":\"white\",\"showbackground\":true,\"ticks\":\"\",\"zerolinecolor\":\"white\",\"gridwidth\":2}},\"shapedefaults\":{\"line\":{\"color\":\"#2a3f5f\"}},\"annotationdefaults\":{\"arrowcolor\":\"#2a3f5f\",\"arrowhead\":0,\"arrowwidth\":1},\"geo\":{\"bgcolor\":\"white\",\"landcolor\":\"#E5ECF6\",\"subunitcolor\":\"white\",\"showland\":true,\"showlakes\":true,\"lakecolor\":\"white\"},\"title\":{\"x\":0.05},\"mapbox\":{\"style\":\"light\"}}},\"xaxis\":{\"anchor\":\"y\",\"domain\":[0.0,1.0],\"title\":{\"text\":\"AJCC Pathologic M Stage\"},\"categoryorder\":\"array\",\"categoryarray\":[\"M0\",\"MX\",\"cM0 (i+)\"],\"tickangle\":45},\"yaxis\":{\"anchor\":\"x\",\"domain\":[0.0,1.0],\"title\":{\"text\":\"Expression Level\"}},\"legend\":{\"title\":{\"text\":\"AJCC Pathologic M Stage\"},\"tracegroupgap\":0},\"title\":{\"text\":\"Average Gene Expression Across AJCC Pathologic M Stages (Aggregated by Case)\"},\"boxmode\":\"overlay\",\"showlegend\":false},                        {\"responsive\": true}                    ).then(function(){\n",
       "                            \n",
       "var gd = document.getElementById('65f190cc-a7d3-452e-abc7-ca9b64568472');\n",
       "var x = new MutationObserver(function (mutations, observer) {{\n",
       "        var display = window.getComputedStyle(gd).display;\n",
       "        if (!display || display === 'none') {{\n",
       "            console.log([gd, 'removed!']);\n",
       "            Plotly.purge(gd);\n",
       "            observer.disconnect();\n",
       "        }}\n",
       "}});\n",
       "\n",
       "// Listen for the removal of the full notebook cells\n",
       "var notebookContainer = gd.closest('#notebook-container');\n",
       "if (notebookContainer) {{\n",
       "    x.observe(notebookContainer, {childList: true});\n",
       "}}\n",
       "\n",
       "// Listen for the clearing of the current output cell\n",
       "var outputEl = gd.closest('.output');\n",
       "if (outputEl) {{\n",
       "    x.observe(outputEl, {childList: true});\n",
       "}}\n",
       "\n",
       "                        })                };                });            </script>        </div>"
      ]
     },
     "metadata": {},
     "output_type": "display_data"
    }
   ],
   "source": [
    "# Filter out \"Unknown\" values for AJCC Pathologic M stages\n",
    "filtered_data_state_m = aggregated_data[reshaped_df['ajcc_pathologic_m'] != \"Unknown\"]\n",
    "\n",
    "fig = px.box(\n",
    "    filtered_data_state_m,\n",
    "    x='ajcc_pathologic_m',\n",
    "    y='Expression',\n",
    "    color='ajcc_pathologic_m', \n",
    "    title=\"Average Gene Expression Across AJCC Pathologic M Stages (Aggregated by Case)\",\n",
    "    labels={\n",
    "        'ajcc_pathologic_m': 'AJCC Pathologic M Stage',\n",
    "        'Expression': 'Expression Level'\n",
    "    },\n",
    "    color_discrete_sequence=px.colors.qualitative.Pastel \n",
    ")\n",
    "\n",
    "\n",
    "fig.update_layout(\n",
    "    xaxis_title=\"AJCC Pathologic M Stage\",\n",
    "    yaxis_title=\"Expression Level\",\n",
    "    xaxis_tickangle=45,\n",
    "    showlegend=False  # Hide legend if not needed\n",
    ")\n",
    "\n",
    "# Show the interactive plot\n",
    "fig.show()\n"
   ]
  },
  {
   "cell_type": "code",
   "execution_count": 72,
   "id": "14a75421",
   "metadata": {},
   "outputs": [
    {
     "name": "stderr",
     "output_type": "stream",
     "text": [
      "/tmp/ipykernel_8245/500203417.py:2: UserWarning:\n",
      "\n",
      "Boolean Series key will be reindexed to match DataFrame index.\n",
      "\n",
      "/Users/arjita/opt/anaconda3/envs/myenv/lib/python3.10/site-packages/plotly/express/_core.py:1992: FutureWarning:\n",
      "\n",
      "When grouping with a length-1 list-like, you will need to pass a length-1 tuple to get_group in a future version of pandas. Pass `(name,)` instead of `name` to silence this warning.\n",
      "\n"
     ]
    },
    {
     "data": {
      "application/vnd.plotly.v1+json": {
       "config": {
        "plotlyServerURL": "https://plot.ly"
       },
       "data": [
        {
         "alignmentgroup": "True",
         "hovertemplate": "AJCC Pathologic T Stage=%{x}<br>Expression Level=%{y}<extra></extra>",
         "legendgroup": "T2",
         "marker": {
          "color": "rgb(102, 197, 204)"
         },
         "name": "T2",
         "notched": false,
         "offsetgroup": "T2",
         "orientation": "v",
         "showlegend": true,
         "type": "box",
         "x": [
          "T2",
          "T2",
          "T2",
          "T2",
          "T2",
          "T2",
          "T2",
          "T2",
          "T2",
          "T2",
          "T2",
          "T2",
          "T2",
          "T2",
          "T2",
          "T2",
          "T2",
          "T2",
          "T2",
          "T2",
          "T2",
          "T2",
          "T2",
          "T2",
          "T2",
          "T2",
          "T2",
          "T2",
          "T2",
          "T2",
          "T2"
         ],
         "x0": " ",
         "xaxis": "x",
         "y": [
          -0.21197628567431465,
          0.02433316406975836,
          0.5814353397606158,
          0.4323018128783331,
          -0.13339983919182055,
          -0.2629990131614073,
          -0.0693976320454352,
          -0.03682495891215519,
          0.021252451629254716,
          -0.020288266489366363,
          0.03698271711328661,
          -0.22428235242189004,
          -0.02724397140535295,
          -0.22121059149519012,
          0.05238475523845328,
          2.1474874570520948,
          0.003702842217663882,
          -0.032243654070997545,
          0.33511034627071495,
          0.2563253681226768,
          0.29525023284420515,
          -0.1693806154575886,
          0.08244982786081073,
          0.11910637610189517,
          -0.1744679010627891,
          -0.2148084858239752,
          -0.07819178401843524,
          0.15794763731046751,
          -0.16601989718794677,
          0.5488051200572505,
          0.13923564690460122
         ],
         "y0": " ",
         "yaxis": "y"
        },
        {
         "alignmentgroup": "True",
         "hovertemplate": "AJCC Pathologic T Stage=%{x}<br>Expression Level=%{y}<extra></extra>",
         "legendgroup": "T3",
         "marker": {
          "color": "rgb(246, 207, 113)"
         },
         "name": "T3",
         "notched": false,
         "offsetgroup": "T3",
         "orientation": "v",
         "showlegend": true,
         "type": "box",
         "x": [
          "T3",
          "T3",
          "T3",
          "T3",
          "T3",
          "T3",
          "T3",
          "T3"
         ],
         "x0": " ",
         "xaxis": "x",
         "y": [
          0.14314212742401528,
          -0.5119417816291925,
          0.01260861363486031,
          0.6445969079331665,
          0.4907604060273919,
          0.3387983855975131,
          0.14312667792868183,
          0.34602231832264235
         ],
         "y0": " ",
         "yaxis": "y"
        },
        {
         "alignmentgroup": "True",
         "hovertemplate": "AJCC Pathologic T Stage=%{x}<br>Expression Level=%{y}<extra></extra>",
         "legendgroup": "T4b",
         "marker": {
          "color": "rgb(248, 156, 116)"
         },
         "name": "T4b",
         "notched": false,
         "offsetgroup": "T4b",
         "orientation": "v",
         "showlegend": true,
         "type": "box",
         "x": [
          "T4b"
         ],
         "x0": " ",
         "xaxis": "x",
         "y": [
          -0.1978373182382978
         ],
         "y0": " ",
         "yaxis": "y"
        },
        {
         "alignmentgroup": "True",
         "hovertemplate": "AJCC Pathologic T Stage=%{x}<br>Expression Level=%{y}<extra></extra>",
         "legendgroup": "T1c",
         "marker": {
          "color": "rgb(220, 176, 242)"
         },
         "name": "T1c",
         "notched": false,
         "offsetgroup": "T1c",
         "orientation": "v",
         "showlegend": true,
         "type": "box",
         "x": [
          "T1c",
          "T1c"
         ],
         "x0": " ",
         "xaxis": "x",
         "y": [
          -0.0032470279826118387,
          0.044088578942768276
         ],
         "y0": " ",
         "yaxis": "y"
        },
        {
         "alignmentgroup": "True",
         "hovertemplate": "AJCC Pathologic T Stage=%{x}<br>Expression Level=%{y}<extra></extra>",
         "legendgroup": "T4",
         "marker": {
          "color": "rgb(135, 197, 95)"
         },
         "name": "T4",
         "notched": false,
         "offsetgroup": "T4",
         "orientation": "v",
         "showlegend": true,
         "type": "box",
         "x": [
          "T4"
         ],
         "x0": " ",
         "xaxis": "x",
         "y": [
          -0.021937440717893435
         ],
         "y0": " ",
         "yaxis": "y"
        }
       ],
       "layout": {
        "boxmode": "overlay",
        "legend": {
         "title": {
          "text": "AJCC Pathologic T Stage"
         },
         "tracegroupgap": 0
        },
        "showlegend": false,
        "template": {
         "data": {
          "bar": [
           {
            "error_x": {
             "color": "#2a3f5f"
            },
            "error_y": {
             "color": "#2a3f5f"
            },
            "marker": {
             "line": {
              "color": "#E5ECF6",
              "width": 0.5
             },
             "pattern": {
              "fillmode": "overlay",
              "size": 10,
              "solidity": 0.2
             }
            },
            "type": "bar"
           }
          ],
          "barpolar": [
           {
            "marker": {
             "line": {
              "color": "#E5ECF6",
              "width": 0.5
             },
             "pattern": {
              "fillmode": "overlay",
              "size": 10,
              "solidity": 0.2
             }
            },
            "type": "barpolar"
           }
          ],
          "carpet": [
           {
            "aaxis": {
             "endlinecolor": "#2a3f5f",
             "gridcolor": "white",
             "linecolor": "white",
             "minorgridcolor": "white",
             "startlinecolor": "#2a3f5f"
            },
            "baxis": {
             "endlinecolor": "#2a3f5f",
             "gridcolor": "white",
             "linecolor": "white",
             "minorgridcolor": "white",
             "startlinecolor": "#2a3f5f"
            },
            "type": "carpet"
           }
          ],
          "choropleth": [
           {
            "colorbar": {
             "outlinewidth": 0,
             "ticks": ""
            },
            "type": "choropleth"
           }
          ],
          "contour": [
           {
            "colorbar": {
             "outlinewidth": 0,
             "ticks": ""
            },
            "colorscale": [
             [
              0,
              "#0d0887"
             ],
             [
              0.1111111111111111,
              "#46039f"
             ],
             [
              0.2222222222222222,
              "#7201a8"
             ],
             [
              0.3333333333333333,
              "#9c179e"
             ],
             [
              0.4444444444444444,
              "#bd3786"
             ],
             [
              0.5555555555555556,
              "#d8576b"
             ],
             [
              0.6666666666666666,
              "#ed7953"
             ],
             [
              0.7777777777777778,
              "#fb9f3a"
             ],
             [
              0.8888888888888888,
              "#fdca26"
             ],
             [
              1,
              "#f0f921"
             ]
            ],
            "type": "contour"
           }
          ],
          "contourcarpet": [
           {
            "colorbar": {
             "outlinewidth": 0,
             "ticks": ""
            },
            "type": "contourcarpet"
           }
          ],
          "heatmap": [
           {
            "colorbar": {
             "outlinewidth": 0,
             "ticks": ""
            },
            "colorscale": [
             [
              0,
              "#0d0887"
             ],
             [
              0.1111111111111111,
              "#46039f"
             ],
             [
              0.2222222222222222,
              "#7201a8"
             ],
             [
              0.3333333333333333,
              "#9c179e"
             ],
             [
              0.4444444444444444,
              "#bd3786"
             ],
             [
              0.5555555555555556,
              "#d8576b"
             ],
             [
              0.6666666666666666,
              "#ed7953"
             ],
             [
              0.7777777777777778,
              "#fb9f3a"
             ],
             [
              0.8888888888888888,
              "#fdca26"
             ],
             [
              1,
              "#f0f921"
             ]
            ],
            "type": "heatmap"
           }
          ],
          "heatmapgl": [
           {
            "colorbar": {
             "outlinewidth": 0,
             "ticks": ""
            },
            "colorscale": [
             [
              0,
              "#0d0887"
             ],
             [
              0.1111111111111111,
              "#46039f"
             ],
             [
              0.2222222222222222,
              "#7201a8"
             ],
             [
              0.3333333333333333,
              "#9c179e"
             ],
             [
              0.4444444444444444,
              "#bd3786"
             ],
             [
              0.5555555555555556,
              "#d8576b"
             ],
             [
              0.6666666666666666,
              "#ed7953"
             ],
             [
              0.7777777777777778,
              "#fb9f3a"
             ],
             [
              0.8888888888888888,
              "#fdca26"
             ],
             [
              1,
              "#f0f921"
             ]
            ],
            "type": "heatmapgl"
           }
          ],
          "histogram": [
           {
            "marker": {
             "pattern": {
              "fillmode": "overlay",
              "size": 10,
              "solidity": 0.2
             }
            },
            "type": "histogram"
           }
          ],
          "histogram2d": [
           {
            "colorbar": {
             "outlinewidth": 0,
             "ticks": ""
            },
            "colorscale": [
             [
              0,
              "#0d0887"
             ],
             [
              0.1111111111111111,
              "#46039f"
             ],
             [
              0.2222222222222222,
              "#7201a8"
             ],
             [
              0.3333333333333333,
              "#9c179e"
             ],
             [
              0.4444444444444444,
              "#bd3786"
             ],
             [
              0.5555555555555556,
              "#d8576b"
             ],
             [
              0.6666666666666666,
              "#ed7953"
             ],
             [
              0.7777777777777778,
              "#fb9f3a"
             ],
             [
              0.8888888888888888,
              "#fdca26"
             ],
             [
              1,
              "#f0f921"
             ]
            ],
            "type": "histogram2d"
           }
          ],
          "histogram2dcontour": [
           {
            "colorbar": {
             "outlinewidth": 0,
             "ticks": ""
            },
            "colorscale": [
             [
              0,
              "#0d0887"
             ],
             [
              0.1111111111111111,
              "#46039f"
             ],
             [
              0.2222222222222222,
              "#7201a8"
             ],
             [
              0.3333333333333333,
              "#9c179e"
             ],
             [
              0.4444444444444444,
              "#bd3786"
             ],
             [
              0.5555555555555556,
              "#d8576b"
             ],
             [
              0.6666666666666666,
              "#ed7953"
             ],
             [
              0.7777777777777778,
              "#fb9f3a"
             ],
             [
              0.8888888888888888,
              "#fdca26"
             ],
             [
              1,
              "#f0f921"
             ]
            ],
            "type": "histogram2dcontour"
           }
          ],
          "mesh3d": [
           {
            "colorbar": {
             "outlinewidth": 0,
             "ticks": ""
            },
            "type": "mesh3d"
           }
          ],
          "parcoords": [
           {
            "line": {
             "colorbar": {
              "outlinewidth": 0,
              "ticks": ""
             }
            },
            "type": "parcoords"
           }
          ],
          "pie": [
           {
            "automargin": true,
            "type": "pie"
           }
          ],
          "scatter": [
           {
            "fillpattern": {
             "fillmode": "overlay",
             "size": 10,
             "solidity": 0.2
            },
            "type": "scatter"
           }
          ],
          "scatter3d": [
           {
            "line": {
             "colorbar": {
              "outlinewidth": 0,
              "ticks": ""
             }
            },
            "marker": {
             "colorbar": {
              "outlinewidth": 0,
              "ticks": ""
             }
            },
            "type": "scatter3d"
           }
          ],
          "scattercarpet": [
           {
            "marker": {
             "colorbar": {
              "outlinewidth": 0,
              "ticks": ""
             }
            },
            "type": "scattercarpet"
           }
          ],
          "scattergeo": [
           {
            "marker": {
             "colorbar": {
              "outlinewidth": 0,
              "ticks": ""
             }
            },
            "type": "scattergeo"
           }
          ],
          "scattergl": [
           {
            "marker": {
             "colorbar": {
              "outlinewidth": 0,
              "ticks": ""
             }
            },
            "type": "scattergl"
           }
          ],
          "scattermapbox": [
           {
            "marker": {
             "colorbar": {
              "outlinewidth": 0,
              "ticks": ""
             }
            },
            "type": "scattermapbox"
           }
          ],
          "scatterpolar": [
           {
            "marker": {
             "colorbar": {
              "outlinewidth": 0,
              "ticks": ""
             }
            },
            "type": "scatterpolar"
           }
          ],
          "scatterpolargl": [
           {
            "marker": {
             "colorbar": {
              "outlinewidth": 0,
              "ticks": ""
             }
            },
            "type": "scatterpolargl"
           }
          ],
          "scatterternary": [
           {
            "marker": {
             "colorbar": {
              "outlinewidth": 0,
              "ticks": ""
             }
            },
            "type": "scatterternary"
           }
          ],
          "surface": [
           {
            "colorbar": {
             "outlinewidth": 0,
             "ticks": ""
            },
            "colorscale": [
             [
              0,
              "#0d0887"
             ],
             [
              0.1111111111111111,
              "#46039f"
             ],
             [
              0.2222222222222222,
              "#7201a8"
             ],
             [
              0.3333333333333333,
              "#9c179e"
             ],
             [
              0.4444444444444444,
              "#bd3786"
             ],
             [
              0.5555555555555556,
              "#d8576b"
             ],
             [
              0.6666666666666666,
              "#ed7953"
             ],
             [
              0.7777777777777778,
              "#fb9f3a"
             ],
             [
              0.8888888888888888,
              "#fdca26"
             ],
             [
              1,
              "#f0f921"
             ]
            ],
            "type": "surface"
           }
          ],
          "table": [
           {
            "cells": {
             "fill": {
              "color": "#EBF0F8"
             },
             "line": {
              "color": "white"
             }
            },
            "header": {
             "fill": {
              "color": "#C8D4E3"
             },
             "line": {
              "color": "white"
             }
            },
            "type": "table"
           }
          ]
         },
         "layout": {
          "annotationdefaults": {
           "arrowcolor": "#2a3f5f",
           "arrowhead": 0,
           "arrowwidth": 1
          },
          "autotypenumbers": "strict",
          "coloraxis": {
           "colorbar": {
            "outlinewidth": 0,
            "ticks": ""
           }
          },
          "colorscale": {
           "diverging": [
            [
             0,
             "#8e0152"
            ],
            [
             0.1,
             "#c51b7d"
            ],
            [
             0.2,
             "#de77ae"
            ],
            [
             0.3,
             "#f1b6da"
            ],
            [
             0.4,
             "#fde0ef"
            ],
            [
             0.5,
             "#f7f7f7"
            ],
            [
             0.6,
             "#e6f5d0"
            ],
            [
             0.7,
             "#b8e186"
            ],
            [
             0.8,
             "#7fbc41"
            ],
            [
             0.9,
             "#4d9221"
            ],
            [
             1,
             "#276419"
            ]
           ],
           "sequential": [
            [
             0,
             "#0d0887"
            ],
            [
             0.1111111111111111,
             "#46039f"
            ],
            [
             0.2222222222222222,
             "#7201a8"
            ],
            [
             0.3333333333333333,
             "#9c179e"
            ],
            [
             0.4444444444444444,
             "#bd3786"
            ],
            [
             0.5555555555555556,
             "#d8576b"
            ],
            [
             0.6666666666666666,
             "#ed7953"
            ],
            [
             0.7777777777777778,
             "#fb9f3a"
            ],
            [
             0.8888888888888888,
             "#fdca26"
            ],
            [
             1,
             "#f0f921"
            ]
           ],
           "sequentialminus": [
            [
             0,
             "#0d0887"
            ],
            [
             0.1111111111111111,
             "#46039f"
            ],
            [
             0.2222222222222222,
             "#7201a8"
            ],
            [
             0.3333333333333333,
             "#9c179e"
            ],
            [
             0.4444444444444444,
             "#bd3786"
            ],
            [
             0.5555555555555556,
             "#d8576b"
            ],
            [
             0.6666666666666666,
             "#ed7953"
            ],
            [
             0.7777777777777778,
             "#fb9f3a"
            ],
            [
             0.8888888888888888,
             "#fdca26"
            ],
            [
             1,
             "#f0f921"
            ]
           ]
          },
          "colorway": [
           "#636efa",
           "#EF553B",
           "#00cc96",
           "#ab63fa",
           "#FFA15A",
           "#19d3f3",
           "#FF6692",
           "#B6E880",
           "#FF97FF",
           "#FECB52"
          ],
          "font": {
           "color": "#2a3f5f"
          },
          "geo": {
           "bgcolor": "white",
           "lakecolor": "white",
           "landcolor": "#E5ECF6",
           "showlakes": true,
           "showland": true,
           "subunitcolor": "white"
          },
          "hoverlabel": {
           "align": "left"
          },
          "hovermode": "closest",
          "mapbox": {
           "style": "light"
          },
          "paper_bgcolor": "white",
          "plot_bgcolor": "#E5ECF6",
          "polar": {
           "angularaxis": {
            "gridcolor": "white",
            "linecolor": "white",
            "ticks": ""
           },
           "bgcolor": "#E5ECF6",
           "radialaxis": {
            "gridcolor": "white",
            "linecolor": "white",
            "ticks": ""
           }
          },
          "scene": {
           "xaxis": {
            "backgroundcolor": "#E5ECF6",
            "gridcolor": "white",
            "gridwidth": 2,
            "linecolor": "white",
            "showbackground": true,
            "ticks": "",
            "zerolinecolor": "white"
           },
           "yaxis": {
            "backgroundcolor": "#E5ECF6",
            "gridcolor": "white",
            "gridwidth": 2,
            "linecolor": "white",
            "showbackground": true,
            "ticks": "",
            "zerolinecolor": "white"
           },
           "zaxis": {
            "backgroundcolor": "#E5ECF6",
            "gridcolor": "white",
            "gridwidth": 2,
            "linecolor": "white",
            "showbackground": true,
            "ticks": "",
            "zerolinecolor": "white"
           }
          },
          "shapedefaults": {
           "line": {
            "color": "#2a3f5f"
           }
          },
          "ternary": {
           "aaxis": {
            "gridcolor": "white",
            "linecolor": "white",
            "ticks": ""
           },
           "baxis": {
            "gridcolor": "white",
            "linecolor": "white",
            "ticks": ""
           },
           "bgcolor": "#E5ECF6",
           "caxis": {
            "gridcolor": "white",
            "linecolor": "white",
            "ticks": ""
           }
          },
          "title": {
           "x": 0.05
          },
          "xaxis": {
           "automargin": true,
           "gridcolor": "white",
           "linecolor": "white",
           "ticks": "",
           "title": {
            "standoff": 15
           },
           "zerolinecolor": "white",
           "zerolinewidth": 2
          },
          "yaxis": {
           "automargin": true,
           "gridcolor": "white",
           "linecolor": "white",
           "ticks": "",
           "title": {
            "standoff": 15
           },
           "zerolinecolor": "white",
           "zerolinewidth": 2
          }
         }
        },
        "title": {
         "text": "Average Gene Expression Across AJCC Pathologic T Stages (Aggregated by Case)"
        },
        "xaxis": {
         "anchor": "y",
         "categoryarray": [
          "T2",
          "T3",
          "T4b",
          "T1c",
          "T4"
         ],
         "categoryorder": "array",
         "domain": [
          0,
          1
         ],
         "tickangle": 45,
         "title": {
          "text": "AJCC Pathologic T Stage"
         }
        },
        "yaxis": {
         "anchor": "x",
         "domain": [
          0,
          1
         ],
         "title": {
          "text": "Expression Level"
         }
        }
       }
      },
      "text/html": [
       "<div>                            <div id=\"41504417-5cc8-420a-8c6b-26c9348a2a37\" class=\"plotly-graph-div\" style=\"height:525px; width:100%;\"></div>            <script type=\"text/javascript\">                require([\"plotly\"], function(Plotly) {                    window.PLOTLYENV=window.PLOTLYENV || {};                                    if (document.getElementById(\"41504417-5cc8-420a-8c6b-26c9348a2a37\")) {                    Plotly.newPlot(                        \"41504417-5cc8-420a-8c6b-26c9348a2a37\",                        [{\"alignmentgroup\":\"True\",\"hovertemplate\":\"AJCC Pathologic T Stage=%{x}\\u003cbr\\u003eExpression Level=%{y}\\u003cextra\\u003e\\u003c\\u002fextra\\u003e\",\"legendgroup\":\"T2\",\"marker\":{\"color\":\"rgb(102, 197, 204)\"},\"name\":\"T2\",\"notched\":false,\"offsetgroup\":\"T2\",\"orientation\":\"v\",\"showlegend\":true,\"x\":[\"T2\",\"T2\",\"T2\",\"T2\",\"T2\",\"T2\",\"T2\",\"T2\",\"T2\",\"T2\",\"T2\",\"T2\",\"T2\",\"T2\",\"T2\",\"T2\",\"T2\",\"T2\",\"T2\",\"T2\",\"T2\",\"T2\",\"T2\",\"T2\",\"T2\",\"T2\",\"T2\",\"T2\",\"T2\",\"T2\",\"T2\"],\"x0\":\" \",\"xaxis\":\"x\",\"y\":[-0.21197628567431465,0.02433316406975836,0.5814353397606158,0.4323018128783331,-0.13339983919182055,-0.2629990131614073,-0.0693976320454352,-0.03682495891215519,0.021252451629254716,-0.020288266489366363,0.03698271711328661,-0.22428235242189004,-0.02724397140535295,-0.22121059149519012,0.05238475523845328,2.1474874570520948,0.003702842217663882,-0.032243654070997545,0.33511034627071495,0.2563253681226768,0.29525023284420515,-0.1693806154575886,0.08244982786081073,0.11910637610189517,-0.1744679010627891,-0.2148084858239752,-0.07819178401843524,0.15794763731046751,-0.16601989718794677,0.5488051200572505,0.13923564690460122],\"y0\":\" \",\"yaxis\":\"y\",\"type\":\"box\"},{\"alignmentgroup\":\"True\",\"hovertemplate\":\"AJCC Pathologic T Stage=%{x}\\u003cbr\\u003eExpression Level=%{y}\\u003cextra\\u003e\\u003c\\u002fextra\\u003e\",\"legendgroup\":\"T3\",\"marker\":{\"color\":\"rgb(246, 207, 113)\"},\"name\":\"T3\",\"notched\":false,\"offsetgroup\":\"T3\",\"orientation\":\"v\",\"showlegend\":true,\"x\":[\"T3\",\"T3\",\"T3\",\"T3\",\"T3\",\"T3\",\"T3\",\"T3\"],\"x0\":\" \",\"xaxis\":\"x\",\"y\":[0.14314212742401528,-0.5119417816291925,0.01260861363486031,0.6445969079331665,0.4907604060273919,0.3387983855975131,0.14312667792868183,0.34602231832264235],\"y0\":\" \",\"yaxis\":\"y\",\"type\":\"box\"},{\"alignmentgroup\":\"True\",\"hovertemplate\":\"AJCC Pathologic T Stage=%{x}\\u003cbr\\u003eExpression Level=%{y}\\u003cextra\\u003e\\u003c\\u002fextra\\u003e\",\"legendgroup\":\"T4b\",\"marker\":{\"color\":\"rgb(248, 156, 116)\"},\"name\":\"T4b\",\"notched\":false,\"offsetgroup\":\"T4b\",\"orientation\":\"v\",\"showlegend\":true,\"x\":[\"T4b\"],\"x0\":\" \",\"xaxis\":\"x\",\"y\":[-0.1978373182382978],\"y0\":\" \",\"yaxis\":\"y\",\"type\":\"box\"},{\"alignmentgroup\":\"True\",\"hovertemplate\":\"AJCC Pathologic T Stage=%{x}\\u003cbr\\u003eExpression Level=%{y}\\u003cextra\\u003e\\u003c\\u002fextra\\u003e\",\"legendgroup\":\"T1c\",\"marker\":{\"color\":\"rgb(220, 176, 242)\"},\"name\":\"T1c\",\"notched\":false,\"offsetgroup\":\"T1c\",\"orientation\":\"v\",\"showlegend\":true,\"x\":[\"T1c\",\"T1c\"],\"x0\":\" \",\"xaxis\":\"x\",\"y\":[-0.0032470279826118387,0.044088578942768276],\"y0\":\" \",\"yaxis\":\"y\",\"type\":\"box\"},{\"alignmentgroup\":\"True\",\"hovertemplate\":\"AJCC Pathologic T Stage=%{x}\\u003cbr\\u003eExpression Level=%{y}\\u003cextra\\u003e\\u003c\\u002fextra\\u003e\",\"legendgroup\":\"T4\",\"marker\":{\"color\":\"rgb(135, 197, 95)\"},\"name\":\"T4\",\"notched\":false,\"offsetgroup\":\"T4\",\"orientation\":\"v\",\"showlegend\":true,\"x\":[\"T4\"],\"x0\":\" \",\"xaxis\":\"x\",\"y\":[-0.021937440717893435],\"y0\":\" \",\"yaxis\":\"y\",\"type\":\"box\"}],                        {\"template\":{\"data\":{\"histogram2dcontour\":[{\"type\":\"histogram2dcontour\",\"colorbar\":{\"outlinewidth\":0,\"ticks\":\"\"},\"colorscale\":[[0.0,\"#0d0887\"],[0.1111111111111111,\"#46039f\"],[0.2222222222222222,\"#7201a8\"],[0.3333333333333333,\"#9c179e\"],[0.4444444444444444,\"#bd3786\"],[0.5555555555555556,\"#d8576b\"],[0.6666666666666666,\"#ed7953\"],[0.7777777777777778,\"#fb9f3a\"],[0.8888888888888888,\"#fdca26\"],[1.0,\"#f0f921\"]]}],\"choropleth\":[{\"type\":\"choropleth\",\"colorbar\":{\"outlinewidth\":0,\"ticks\":\"\"}}],\"histogram2d\":[{\"type\":\"histogram2d\",\"colorbar\":{\"outlinewidth\":0,\"ticks\":\"\"},\"colorscale\":[[0.0,\"#0d0887\"],[0.1111111111111111,\"#46039f\"],[0.2222222222222222,\"#7201a8\"],[0.3333333333333333,\"#9c179e\"],[0.4444444444444444,\"#bd3786\"],[0.5555555555555556,\"#d8576b\"],[0.6666666666666666,\"#ed7953\"],[0.7777777777777778,\"#fb9f3a\"],[0.8888888888888888,\"#fdca26\"],[1.0,\"#f0f921\"]]}],\"heatmap\":[{\"type\":\"heatmap\",\"colorbar\":{\"outlinewidth\":0,\"ticks\":\"\"},\"colorscale\":[[0.0,\"#0d0887\"],[0.1111111111111111,\"#46039f\"],[0.2222222222222222,\"#7201a8\"],[0.3333333333333333,\"#9c179e\"],[0.4444444444444444,\"#bd3786\"],[0.5555555555555556,\"#d8576b\"],[0.6666666666666666,\"#ed7953\"],[0.7777777777777778,\"#fb9f3a\"],[0.8888888888888888,\"#fdca26\"],[1.0,\"#f0f921\"]]}],\"heatmapgl\":[{\"type\":\"heatmapgl\",\"colorbar\":{\"outlinewidth\":0,\"ticks\":\"\"},\"colorscale\":[[0.0,\"#0d0887\"],[0.1111111111111111,\"#46039f\"],[0.2222222222222222,\"#7201a8\"],[0.3333333333333333,\"#9c179e\"],[0.4444444444444444,\"#bd3786\"],[0.5555555555555556,\"#d8576b\"],[0.6666666666666666,\"#ed7953\"],[0.7777777777777778,\"#fb9f3a\"],[0.8888888888888888,\"#fdca26\"],[1.0,\"#f0f921\"]]}],\"contourcarpet\":[{\"type\":\"contourcarpet\",\"colorbar\":{\"outlinewidth\":0,\"ticks\":\"\"}}],\"contour\":[{\"type\":\"contour\",\"colorbar\":{\"outlinewidth\":0,\"ticks\":\"\"},\"colorscale\":[[0.0,\"#0d0887\"],[0.1111111111111111,\"#46039f\"],[0.2222222222222222,\"#7201a8\"],[0.3333333333333333,\"#9c179e\"],[0.4444444444444444,\"#bd3786\"],[0.5555555555555556,\"#d8576b\"],[0.6666666666666666,\"#ed7953\"],[0.7777777777777778,\"#fb9f3a\"],[0.8888888888888888,\"#fdca26\"],[1.0,\"#f0f921\"]]}],\"surface\":[{\"type\":\"surface\",\"colorbar\":{\"outlinewidth\":0,\"ticks\":\"\"},\"colorscale\":[[0.0,\"#0d0887\"],[0.1111111111111111,\"#46039f\"],[0.2222222222222222,\"#7201a8\"],[0.3333333333333333,\"#9c179e\"],[0.4444444444444444,\"#bd3786\"],[0.5555555555555556,\"#d8576b\"],[0.6666666666666666,\"#ed7953\"],[0.7777777777777778,\"#fb9f3a\"],[0.8888888888888888,\"#fdca26\"],[1.0,\"#f0f921\"]]}],\"mesh3d\":[{\"type\":\"mesh3d\",\"colorbar\":{\"outlinewidth\":0,\"ticks\":\"\"}}],\"scatter\":[{\"fillpattern\":{\"fillmode\":\"overlay\",\"size\":10,\"solidity\":0.2},\"type\":\"scatter\"}],\"parcoords\":[{\"type\":\"parcoords\",\"line\":{\"colorbar\":{\"outlinewidth\":0,\"ticks\":\"\"}}}],\"scatterpolargl\":[{\"type\":\"scatterpolargl\",\"marker\":{\"colorbar\":{\"outlinewidth\":0,\"ticks\":\"\"}}}],\"bar\":[{\"error_x\":{\"color\":\"#2a3f5f\"},\"error_y\":{\"color\":\"#2a3f5f\"},\"marker\":{\"line\":{\"color\":\"#E5ECF6\",\"width\":0.5},\"pattern\":{\"fillmode\":\"overlay\",\"size\":10,\"solidity\":0.2}},\"type\":\"bar\"}],\"scattergeo\":[{\"type\":\"scattergeo\",\"marker\":{\"colorbar\":{\"outlinewidth\":0,\"ticks\":\"\"}}}],\"scatterpolar\":[{\"type\":\"scatterpolar\",\"marker\":{\"colorbar\":{\"outlinewidth\":0,\"ticks\":\"\"}}}],\"histogram\":[{\"marker\":{\"pattern\":{\"fillmode\":\"overlay\",\"size\":10,\"solidity\":0.2}},\"type\":\"histogram\"}],\"scattergl\":[{\"type\":\"scattergl\",\"marker\":{\"colorbar\":{\"outlinewidth\":0,\"ticks\":\"\"}}}],\"scatter3d\":[{\"type\":\"scatter3d\",\"line\":{\"colorbar\":{\"outlinewidth\":0,\"ticks\":\"\"}},\"marker\":{\"colorbar\":{\"outlinewidth\":0,\"ticks\":\"\"}}}],\"scattermapbox\":[{\"type\":\"scattermapbox\",\"marker\":{\"colorbar\":{\"outlinewidth\":0,\"ticks\":\"\"}}}],\"scatterternary\":[{\"type\":\"scatterternary\",\"marker\":{\"colorbar\":{\"outlinewidth\":0,\"ticks\":\"\"}}}],\"scattercarpet\":[{\"type\":\"scattercarpet\",\"marker\":{\"colorbar\":{\"outlinewidth\":0,\"ticks\":\"\"}}}],\"carpet\":[{\"aaxis\":{\"endlinecolor\":\"#2a3f5f\",\"gridcolor\":\"white\",\"linecolor\":\"white\",\"minorgridcolor\":\"white\",\"startlinecolor\":\"#2a3f5f\"},\"baxis\":{\"endlinecolor\":\"#2a3f5f\",\"gridcolor\":\"white\",\"linecolor\":\"white\",\"minorgridcolor\":\"white\",\"startlinecolor\":\"#2a3f5f\"},\"type\":\"carpet\"}],\"table\":[{\"cells\":{\"fill\":{\"color\":\"#EBF0F8\"},\"line\":{\"color\":\"white\"}},\"header\":{\"fill\":{\"color\":\"#C8D4E3\"},\"line\":{\"color\":\"white\"}},\"type\":\"table\"}],\"barpolar\":[{\"marker\":{\"line\":{\"color\":\"#E5ECF6\",\"width\":0.5},\"pattern\":{\"fillmode\":\"overlay\",\"size\":10,\"solidity\":0.2}},\"type\":\"barpolar\"}],\"pie\":[{\"automargin\":true,\"type\":\"pie\"}]},\"layout\":{\"autotypenumbers\":\"strict\",\"colorway\":[\"#636efa\",\"#EF553B\",\"#00cc96\",\"#ab63fa\",\"#FFA15A\",\"#19d3f3\",\"#FF6692\",\"#B6E880\",\"#FF97FF\",\"#FECB52\"],\"font\":{\"color\":\"#2a3f5f\"},\"hovermode\":\"closest\",\"hoverlabel\":{\"align\":\"left\"},\"paper_bgcolor\":\"white\",\"plot_bgcolor\":\"#E5ECF6\",\"polar\":{\"bgcolor\":\"#E5ECF6\",\"angularaxis\":{\"gridcolor\":\"white\",\"linecolor\":\"white\",\"ticks\":\"\"},\"radialaxis\":{\"gridcolor\":\"white\",\"linecolor\":\"white\",\"ticks\":\"\"}},\"ternary\":{\"bgcolor\":\"#E5ECF6\",\"aaxis\":{\"gridcolor\":\"white\",\"linecolor\":\"white\",\"ticks\":\"\"},\"baxis\":{\"gridcolor\":\"white\",\"linecolor\":\"white\",\"ticks\":\"\"},\"caxis\":{\"gridcolor\":\"white\",\"linecolor\":\"white\",\"ticks\":\"\"}},\"coloraxis\":{\"colorbar\":{\"outlinewidth\":0,\"ticks\":\"\"}},\"colorscale\":{\"sequential\":[[0.0,\"#0d0887\"],[0.1111111111111111,\"#46039f\"],[0.2222222222222222,\"#7201a8\"],[0.3333333333333333,\"#9c179e\"],[0.4444444444444444,\"#bd3786\"],[0.5555555555555556,\"#d8576b\"],[0.6666666666666666,\"#ed7953\"],[0.7777777777777778,\"#fb9f3a\"],[0.8888888888888888,\"#fdca26\"],[1.0,\"#f0f921\"]],\"sequentialminus\":[[0.0,\"#0d0887\"],[0.1111111111111111,\"#46039f\"],[0.2222222222222222,\"#7201a8\"],[0.3333333333333333,\"#9c179e\"],[0.4444444444444444,\"#bd3786\"],[0.5555555555555556,\"#d8576b\"],[0.6666666666666666,\"#ed7953\"],[0.7777777777777778,\"#fb9f3a\"],[0.8888888888888888,\"#fdca26\"],[1.0,\"#f0f921\"]],\"diverging\":[[0,\"#8e0152\"],[0.1,\"#c51b7d\"],[0.2,\"#de77ae\"],[0.3,\"#f1b6da\"],[0.4,\"#fde0ef\"],[0.5,\"#f7f7f7\"],[0.6,\"#e6f5d0\"],[0.7,\"#b8e186\"],[0.8,\"#7fbc41\"],[0.9,\"#4d9221\"],[1,\"#276419\"]]},\"xaxis\":{\"gridcolor\":\"white\",\"linecolor\":\"white\",\"ticks\":\"\",\"title\":{\"standoff\":15},\"zerolinecolor\":\"white\",\"automargin\":true,\"zerolinewidth\":2},\"yaxis\":{\"gridcolor\":\"white\",\"linecolor\":\"white\",\"ticks\":\"\",\"title\":{\"standoff\":15},\"zerolinecolor\":\"white\",\"automargin\":true,\"zerolinewidth\":2},\"scene\":{\"xaxis\":{\"backgroundcolor\":\"#E5ECF6\",\"gridcolor\":\"white\",\"linecolor\":\"white\",\"showbackground\":true,\"ticks\":\"\",\"zerolinecolor\":\"white\",\"gridwidth\":2},\"yaxis\":{\"backgroundcolor\":\"#E5ECF6\",\"gridcolor\":\"white\",\"linecolor\":\"white\",\"showbackground\":true,\"ticks\":\"\",\"zerolinecolor\":\"white\",\"gridwidth\":2},\"zaxis\":{\"backgroundcolor\":\"#E5ECF6\",\"gridcolor\":\"white\",\"linecolor\":\"white\",\"showbackground\":true,\"ticks\":\"\",\"zerolinecolor\":\"white\",\"gridwidth\":2}},\"shapedefaults\":{\"line\":{\"color\":\"#2a3f5f\"}},\"annotationdefaults\":{\"arrowcolor\":\"#2a3f5f\",\"arrowhead\":0,\"arrowwidth\":1},\"geo\":{\"bgcolor\":\"white\",\"landcolor\":\"#E5ECF6\",\"subunitcolor\":\"white\",\"showland\":true,\"showlakes\":true,\"lakecolor\":\"white\"},\"title\":{\"x\":0.05},\"mapbox\":{\"style\":\"light\"}}},\"xaxis\":{\"anchor\":\"y\",\"domain\":[0.0,1.0],\"title\":{\"text\":\"AJCC Pathologic T Stage\"},\"categoryorder\":\"array\",\"categoryarray\":[\"T2\",\"T3\",\"T4b\",\"T1c\",\"T4\"],\"tickangle\":45},\"yaxis\":{\"anchor\":\"x\",\"domain\":[0.0,1.0],\"title\":{\"text\":\"Expression Level\"}},\"legend\":{\"title\":{\"text\":\"AJCC Pathologic T Stage\"},\"tracegroupgap\":0},\"title\":{\"text\":\"Average Gene Expression Across AJCC Pathologic T Stages (Aggregated by Case)\"},\"boxmode\":\"overlay\",\"showlegend\":false},                        {\"responsive\": true}                    ).then(function(){\n",
       "                            \n",
       "var gd = document.getElementById('41504417-5cc8-420a-8c6b-26c9348a2a37');\n",
       "var x = new MutationObserver(function (mutations, observer) {{\n",
       "        var display = window.getComputedStyle(gd).display;\n",
       "        if (!display || display === 'none') {{\n",
       "            console.log([gd, 'removed!']);\n",
       "            Plotly.purge(gd);\n",
       "            observer.disconnect();\n",
       "        }}\n",
       "}});\n",
       "\n",
       "// Listen for the removal of the full notebook cells\n",
       "var notebookContainer = gd.closest('#notebook-container');\n",
       "if (notebookContainer) {{\n",
       "    x.observe(notebookContainer, {childList: true});\n",
       "}}\n",
       "\n",
       "// Listen for the clearing of the current output cell\n",
       "var outputEl = gd.closest('.output');\n",
       "if (outputEl) {{\n",
       "    x.observe(outputEl, {childList: true});\n",
       "}}\n",
       "\n",
       "                        })                };                });            </script>        </div>"
      ]
     },
     "metadata": {},
     "output_type": "display_data"
    }
   ],
   "source": [
    "# Filter out \"Unknown\" values for AJCC Pathologic T stages\n",
    "filtered_data_state_t = aggregated_data[reshaped_df['ajcc_pathologic_t'] != \"Unknown\"]\n",
    "\n",
    "fig = px.box(\n",
    "    filtered_data_state_t,\n",
    "    x='ajcc_pathologic_t',\n",
    "    y='Expression',\n",
    "    color='ajcc_pathologic_t',  \n",
    "    title=\"Average Gene Expression Across AJCC Pathologic T Stages (Aggregated by Case)\",\n",
    "    labels={\n",
    "        'ajcc_pathologic_t': 'AJCC Pathologic T Stage',\n",
    "        'Expression': 'Expression Level'\n",
    "    },\n",
    "    color_discrete_sequence=px.colors.qualitative.Pastel \n",
    ")\n",
    "\n",
    "\n",
    "fig.update_layout(\n",
    "    xaxis_title=\"AJCC Pathologic T Stage\",\n",
    "    yaxis_title=\"Expression Level\",\n",
    "    xaxis_tickangle=45,\n",
    "    showlegend=False \n",
    ")\n",
    "\n",
    "fig.show()\n"
   ]
  },
  {
   "cell_type": "code",
   "execution_count": 79,
   "id": "3aa74880",
   "metadata": {},
   "outputs": [
    {
     "name": "stderr",
     "output_type": "stream",
     "text": [
      "/tmp/ipykernel_8245/3001732399.py:10: SettingWithCopyWarning:\n",
      "\n",
      "\n",
      "A value is trying to be set on a copy of a slice from a DataFrame.\n",
      "Try using .loc[row_indexer,col_indexer] = value instead\n",
      "\n",
      "See the caveats in the documentation: https://pandas.pydata.org/pandas-docs/stable/user_guide/indexing.html#returning-a-view-versus-a-copy\n",
      "\n",
      "/Users/arjita/opt/anaconda3/envs/myenv/lib/python3.10/site-packages/plotly/express/_core.py:1992: FutureWarning:\n",
      "\n",
      "When grouping with a length-1 list-like, you will need to pass a length-1 tuple to get_group in a future version of pandas. Pass `(name,)` instead of `name` to silence this warning.\n",
      "\n"
     ]
    },
    {
     "data": {
      "application/vnd.plotly.v1+json": {
       "config": {
        "plotlyServerURL": "https://plot.ly"
       },
       "data": [
        {
         "alignmentgroup": "True",
         "box": {
          "visible": true
         },
         "hovertemplate": "Primary Diagnosis=%{x}<br>Expression Level=%{y}<extra></extra>",
         "legendgroup": "Infiltrating<br>duct<br>carcinoma,",
         "marker": {
          "color": "rgb(102,194,165)"
         },
         "name": "Infiltrating<br>duct<br>carcinoma,",
         "offsetgroup": "Infiltrating<br>duct<br>carcinoma,",
         "orientation": "v",
         "points": false,
         "scalegroup": "True",
         "showlegend": true,
         "type": "violin",
         "x": [
          "Infiltrating<br>duct<br>carcinoma,",
          "Infiltrating<br>duct<br>carcinoma,",
          "Infiltrating<br>duct<br>carcinoma,",
          "Infiltrating<br>duct<br>carcinoma,",
          "Infiltrating<br>duct<br>carcinoma,",
          "Infiltrating<br>duct<br>carcinoma,",
          "Infiltrating<br>duct<br>carcinoma,",
          "Infiltrating<br>duct<br>carcinoma,",
          "Infiltrating<br>duct<br>carcinoma,",
          "Infiltrating<br>duct<br>carcinoma,",
          "Infiltrating<br>duct<br>carcinoma,",
          "Infiltrating<br>duct<br>carcinoma,",
          "Infiltrating<br>duct<br>carcinoma,",
          "Infiltrating<br>duct<br>carcinoma,",
          "Infiltrating<br>duct<br>carcinoma,",
          "Infiltrating<br>duct<br>carcinoma,",
          "Infiltrating<br>duct<br>carcinoma,",
          "Infiltrating<br>duct<br>carcinoma,",
          "Infiltrating<br>duct<br>carcinoma,",
          "Infiltrating<br>duct<br>carcinoma,",
          "Infiltrating<br>duct<br>carcinoma,",
          "Infiltrating<br>duct<br>carcinoma,",
          "Infiltrating<br>duct<br>carcinoma,",
          "Infiltrating<br>duct<br>carcinoma,",
          "Infiltrating<br>duct<br>carcinoma,",
          "Infiltrating<br>duct<br>carcinoma,",
          "Infiltrating<br>duct<br>carcinoma,",
          "Infiltrating<br>duct<br>carcinoma,",
          "Infiltrating<br>duct<br>carcinoma,",
          "Infiltrating<br>duct<br>carcinoma,",
          "Infiltrating<br>duct<br>carcinoma,"
         ],
         "x0": " ",
         "xaxis": "x",
         "y": [
          -0.27444958153310955,
          -0.21672853120202878,
          -0.39641360387787616,
          -0.35901342484804455,
          0.02433316406975836,
          0.5814353397606158,
          0.4323018128783331,
          -0.13339983919182055,
          -0.0693976320454352,
          0.021252451629254716,
          -0.020288266489366363,
          0.03698271711328661,
          -0.22428235242189004,
          -0.02724397140535295,
          -0.22121059149519012,
          0.003702842217663882,
          0.08104609735956322,
          0.33511034627071495,
          0.2563253681226768,
          -0.1693806154575886,
          0.08244982786081073,
          0.4907604060273919,
          -0.0032470279826118387,
          -0.1744679010627891,
          -0.2148084858239752,
          -0.07819178401843524,
          0.15794763731046751,
          0.14312667792868183,
          -0.16601989718794677,
          0.044088578942768276,
          0.5488051200572505
         ],
         "y0": " ",
         "yaxis": "y"
        },
        {
         "alignmentgroup": "True",
         "box": {
          "visible": true
         },
         "hovertemplate": "Primary Diagnosis=%{x}<br>Expression Level=%{y}<extra></extra>",
         "legendgroup": "Infiltrating<br>duct<br>and",
         "marker": {
          "color": "rgb(252,141,98)"
         },
         "name": "Infiltrating<br>duct<br>and",
         "offsetgroup": "Infiltrating<br>duct<br>and",
         "orientation": "v",
         "points": false,
         "scalegroup": "True",
         "showlegend": true,
         "type": "violin",
         "x": [
          "Infiltrating<br>duct<br>and"
         ],
         "x0": " ",
         "xaxis": "x",
         "y": [
          -0.38173000413018393
         ],
         "y0": " ",
         "yaxis": "y"
        },
        {
         "alignmentgroup": "True",
         "box": {
          "visible": true
         },
         "hovertemplate": "Primary Diagnosis=%{x}<br>Expression Level=%{y}<extra></extra>",
         "legendgroup": "Large<br>cell<br>neuroendocrine",
         "marker": {
          "color": "rgb(141,160,203)"
         },
         "name": "Large<br>cell<br>neuroendocrine",
         "offsetgroup": "Large<br>cell<br>neuroendocrine",
         "orientation": "v",
         "points": false,
         "scalegroup": "True",
         "showlegend": true,
         "type": "violin",
         "x": [
          "Large<br>cell<br>neuroendocrine"
         ],
         "x0": " ",
         "xaxis": "x",
         "y": [
          -0.21197628567431465
         ],
         "y0": " ",
         "yaxis": "y"
        },
        {
         "alignmentgroup": "True",
         "box": {
          "visible": true
         },
         "hovertemplate": "Primary Diagnosis=%{x}<br>Expression Level=%{y}<extra></extra>",
         "legendgroup": "Lobular<br>carcinoma,<br>NOS",
         "marker": {
          "color": "rgb(231,138,195)"
         },
         "name": "Lobular<br>carcinoma,<br>NOS",
         "offsetgroup": "Lobular<br>carcinoma,<br>NOS",
         "orientation": "v",
         "points": false,
         "scalegroup": "True",
         "showlegend": true,
         "type": "violin",
         "x": [
          "Lobular<br>carcinoma,<br>NOS",
          "Lobular<br>carcinoma,<br>NOS",
          "Lobular<br>carcinoma,<br>NOS",
          "Lobular<br>carcinoma,<br>NOS",
          "Lobular<br>carcinoma,<br>NOS",
          "Lobular<br>carcinoma,<br>NOS",
          "Lobular<br>carcinoma,<br>NOS",
          "Lobular<br>carcinoma,<br>NOS"
         ],
         "x0": " ",
         "xaxis": "x",
         "y": [
          0.14314212742401528,
          0.028391384174915137,
          0.01260861363486031,
          0.05238475523845328,
          0.29525023284420515,
          0.11910637610189517,
          0.34602231832264235,
          0.13923564690460122
         ],
         "y0": " ",
         "yaxis": "y"
        },
        {
         "alignmentgroup": "True",
         "box": {
          "visible": true
         },
         "hovertemplate": "Primary Diagnosis=%{x}<br>Expression Level=%{y}<extra></extra>",
         "legendgroup": "Metaplastic<br>carcinoma,<br>NOS",
         "marker": {
          "color": "rgb(166,216,84)"
         },
         "name": "Metaplastic<br>carcinoma,<br>NOS",
         "offsetgroup": "Metaplastic<br>carcinoma,<br>NOS",
         "orientation": "v",
         "points": false,
         "scalegroup": "True",
         "showlegend": true,
         "type": "violin",
         "x": [
          "Metaplastic<br>carcinoma,<br>NOS",
          "Metaplastic<br>carcinoma,<br>NOS",
          "Metaplastic<br>carcinoma,<br>NOS",
          "Metaplastic<br>carcinoma,<br>NOS",
          "Metaplastic<br>carcinoma,<br>NOS",
          "Metaplastic<br>carcinoma,<br>NOS"
         ],
         "x0": " ",
         "xaxis": "x",
         "y": [
          -0.2629990131614073,
          -0.5119417816291925,
          -0.1978373182382978,
          0.6445969079331665,
          -0.032243654070997545,
          0.3387983855975131
         ],
         "y0": " ",
         "yaxis": "y"
        },
        {
         "alignmentgroup": "True",
         "box": {
          "visible": true
         },
         "hovertemplate": "Primary Diagnosis=%{x}<br>Expression Level=%{y}<extra></extra>",
         "legendgroup": "Carcinoma,<br>NOS",
         "marker": {
          "color": "rgb(255,217,47)"
         },
         "name": "Carcinoma,<br>NOS",
         "offsetgroup": "Carcinoma,<br>NOS",
         "orientation": "v",
         "points": false,
         "scalegroup": "True",
         "showlegend": true,
         "type": "violin",
         "x": [
          "Carcinoma,<br>NOS"
         ],
         "x0": " ",
         "xaxis": "x",
         "y": [
          -0.03682495891215519
         ],
         "y0": " ",
         "yaxis": "y"
        },
        {
         "alignmentgroup": "True",
         "box": {
          "visible": true
         },
         "hovertemplate": "Primary Diagnosis=%{x}<br>Expression Level=%{y}<extra></extra>",
         "legendgroup": "Infiltrating<br>duct<br>mixed",
         "marker": {
          "color": "rgb(229,196,148)"
         },
         "name": "Infiltrating<br>duct<br>mixed",
         "offsetgroup": "Infiltrating<br>duct<br>mixed",
         "orientation": "v",
         "points": false,
         "scalegroup": "True",
         "showlegend": true,
         "type": "violin",
         "x": [
          "Infiltrating<br>duct<br>mixed"
         ],
         "x0": " ",
         "xaxis": "x",
         "y": [
          2.1474874570520948
         ],
         "y0": " ",
         "yaxis": "y"
        },
        {
         "alignmentgroup": "True",
         "box": {
          "visible": true
         },
         "hovertemplate": "Primary Diagnosis=%{x}<br>Expression Level=%{y}<extra></extra>",
         "legendgroup": "Malignant<br>lymphoma,<br>large",
         "marker": {
          "color": "rgb(179,179,179)"
         },
         "name": "Malignant<br>lymphoma,<br>large",
         "offsetgroup": "Malignant<br>lymphoma,<br>large",
         "orientation": "v",
         "points": false,
         "scalegroup": "True",
         "showlegend": true,
         "type": "violin",
         "x": [
          "Malignant<br>lymphoma,<br>large"
         ],
         "x0": " ",
         "xaxis": "x",
         "y": [
          -0.25313881190755305
         ],
         "y0": " ",
         "yaxis": "y"
        },
        {
         "alignmentgroup": "True",
         "box": {
          "visible": true
         },
         "hovertemplate": "Primary Diagnosis=%{x}<br>Expression Level=%{y}<extra></extra>",
         "legendgroup": "Medullary<br>carcinoma,<br>NOS",
         "marker": {
          "color": "rgb(102,194,165)"
         },
         "name": "Medullary<br>carcinoma,<br>NOS",
         "offsetgroup": "Medullary<br>carcinoma,<br>NOS",
         "orientation": "v",
         "points": false,
         "scalegroup": "True",
         "showlegend": true,
         "type": "violin",
         "x": [
          "Medullary<br>carcinoma,<br>NOS"
         ],
         "x0": " ",
         "xaxis": "x",
         "y": [
          -0.021937440717893435
         ],
         "y0": " ",
         "yaxis": "y"
        }
       ],
       "layout": {
        "height": 700,
        "legend": {
         "title": {
          "text": "Primary Diagnosis"
         },
         "tracegroupgap": 0
        },
        "showlegend": false,
        "template": {
         "data": {
          "bar": [
           {
            "error_x": {
             "color": "#2a3f5f"
            },
            "error_y": {
             "color": "#2a3f5f"
            },
            "marker": {
             "line": {
              "color": "#E5ECF6",
              "width": 0.5
             },
             "pattern": {
              "fillmode": "overlay",
              "size": 10,
              "solidity": 0.2
             }
            },
            "type": "bar"
           }
          ],
          "barpolar": [
           {
            "marker": {
             "line": {
              "color": "#E5ECF6",
              "width": 0.5
             },
             "pattern": {
              "fillmode": "overlay",
              "size": 10,
              "solidity": 0.2
             }
            },
            "type": "barpolar"
           }
          ],
          "carpet": [
           {
            "aaxis": {
             "endlinecolor": "#2a3f5f",
             "gridcolor": "white",
             "linecolor": "white",
             "minorgridcolor": "white",
             "startlinecolor": "#2a3f5f"
            },
            "baxis": {
             "endlinecolor": "#2a3f5f",
             "gridcolor": "white",
             "linecolor": "white",
             "minorgridcolor": "white",
             "startlinecolor": "#2a3f5f"
            },
            "type": "carpet"
           }
          ],
          "choropleth": [
           {
            "colorbar": {
             "outlinewidth": 0,
             "ticks": ""
            },
            "type": "choropleth"
           }
          ],
          "contour": [
           {
            "colorbar": {
             "outlinewidth": 0,
             "ticks": ""
            },
            "colorscale": [
             [
              0,
              "#0d0887"
             ],
             [
              0.1111111111111111,
              "#46039f"
             ],
             [
              0.2222222222222222,
              "#7201a8"
             ],
             [
              0.3333333333333333,
              "#9c179e"
             ],
             [
              0.4444444444444444,
              "#bd3786"
             ],
             [
              0.5555555555555556,
              "#d8576b"
             ],
             [
              0.6666666666666666,
              "#ed7953"
             ],
             [
              0.7777777777777778,
              "#fb9f3a"
             ],
             [
              0.8888888888888888,
              "#fdca26"
             ],
             [
              1,
              "#f0f921"
             ]
            ],
            "type": "contour"
           }
          ],
          "contourcarpet": [
           {
            "colorbar": {
             "outlinewidth": 0,
             "ticks": ""
            },
            "type": "contourcarpet"
           }
          ],
          "heatmap": [
           {
            "colorbar": {
             "outlinewidth": 0,
             "ticks": ""
            },
            "colorscale": [
             [
              0,
              "#0d0887"
             ],
             [
              0.1111111111111111,
              "#46039f"
             ],
             [
              0.2222222222222222,
              "#7201a8"
             ],
             [
              0.3333333333333333,
              "#9c179e"
             ],
             [
              0.4444444444444444,
              "#bd3786"
             ],
             [
              0.5555555555555556,
              "#d8576b"
             ],
             [
              0.6666666666666666,
              "#ed7953"
             ],
             [
              0.7777777777777778,
              "#fb9f3a"
             ],
             [
              0.8888888888888888,
              "#fdca26"
             ],
             [
              1,
              "#f0f921"
             ]
            ],
            "type": "heatmap"
           }
          ],
          "heatmapgl": [
           {
            "colorbar": {
             "outlinewidth": 0,
             "ticks": ""
            },
            "colorscale": [
             [
              0,
              "#0d0887"
             ],
             [
              0.1111111111111111,
              "#46039f"
             ],
             [
              0.2222222222222222,
              "#7201a8"
             ],
             [
              0.3333333333333333,
              "#9c179e"
             ],
             [
              0.4444444444444444,
              "#bd3786"
             ],
             [
              0.5555555555555556,
              "#d8576b"
             ],
             [
              0.6666666666666666,
              "#ed7953"
             ],
             [
              0.7777777777777778,
              "#fb9f3a"
             ],
             [
              0.8888888888888888,
              "#fdca26"
             ],
             [
              1,
              "#f0f921"
             ]
            ],
            "type": "heatmapgl"
           }
          ],
          "histogram": [
           {
            "marker": {
             "pattern": {
              "fillmode": "overlay",
              "size": 10,
              "solidity": 0.2
             }
            },
            "type": "histogram"
           }
          ],
          "histogram2d": [
           {
            "colorbar": {
             "outlinewidth": 0,
             "ticks": ""
            },
            "colorscale": [
             [
              0,
              "#0d0887"
             ],
             [
              0.1111111111111111,
              "#46039f"
             ],
             [
              0.2222222222222222,
              "#7201a8"
             ],
             [
              0.3333333333333333,
              "#9c179e"
             ],
             [
              0.4444444444444444,
              "#bd3786"
             ],
             [
              0.5555555555555556,
              "#d8576b"
             ],
             [
              0.6666666666666666,
              "#ed7953"
             ],
             [
              0.7777777777777778,
              "#fb9f3a"
             ],
             [
              0.8888888888888888,
              "#fdca26"
             ],
             [
              1,
              "#f0f921"
             ]
            ],
            "type": "histogram2d"
           }
          ],
          "histogram2dcontour": [
           {
            "colorbar": {
             "outlinewidth": 0,
             "ticks": ""
            },
            "colorscale": [
             [
              0,
              "#0d0887"
             ],
             [
              0.1111111111111111,
              "#46039f"
             ],
             [
              0.2222222222222222,
              "#7201a8"
             ],
             [
              0.3333333333333333,
              "#9c179e"
             ],
             [
              0.4444444444444444,
              "#bd3786"
             ],
             [
              0.5555555555555556,
              "#d8576b"
             ],
             [
              0.6666666666666666,
              "#ed7953"
             ],
             [
              0.7777777777777778,
              "#fb9f3a"
             ],
             [
              0.8888888888888888,
              "#fdca26"
             ],
             [
              1,
              "#f0f921"
             ]
            ],
            "type": "histogram2dcontour"
           }
          ],
          "mesh3d": [
           {
            "colorbar": {
             "outlinewidth": 0,
             "ticks": ""
            },
            "type": "mesh3d"
           }
          ],
          "parcoords": [
           {
            "line": {
             "colorbar": {
              "outlinewidth": 0,
              "ticks": ""
             }
            },
            "type": "parcoords"
           }
          ],
          "pie": [
           {
            "automargin": true,
            "type": "pie"
           }
          ],
          "scatter": [
           {
            "fillpattern": {
             "fillmode": "overlay",
             "size": 10,
             "solidity": 0.2
            },
            "type": "scatter"
           }
          ],
          "scatter3d": [
           {
            "line": {
             "colorbar": {
              "outlinewidth": 0,
              "ticks": ""
             }
            },
            "marker": {
             "colorbar": {
              "outlinewidth": 0,
              "ticks": ""
             }
            },
            "type": "scatter3d"
           }
          ],
          "scattercarpet": [
           {
            "marker": {
             "colorbar": {
              "outlinewidth": 0,
              "ticks": ""
             }
            },
            "type": "scattercarpet"
           }
          ],
          "scattergeo": [
           {
            "marker": {
             "colorbar": {
              "outlinewidth": 0,
              "ticks": ""
             }
            },
            "type": "scattergeo"
           }
          ],
          "scattergl": [
           {
            "marker": {
             "colorbar": {
              "outlinewidth": 0,
              "ticks": ""
             }
            },
            "type": "scattergl"
           }
          ],
          "scattermapbox": [
           {
            "marker": {
             "colorbar": {
              "outlinewidth": 0,
              "ticks": ""
             }
            },
            "type": "scattermapbox"
           }
          ],
          "scatterpolar": [
           {
            "marker": {
             "colorbar": {
              "outlinewidth": 0,
              "ticks": ""
             }
            },
            "type": "scatterpolar"
           }
          ],
          "scatterpolargl": [
           {
            "marker": {
             "colorbar": {
              "outlinewidth": 0,
              "ticks": ""
             }
            },
            "type": "scatterpolargl"
           }
          ],
          "scatterternary": [
           {
            "marker": {
             "colorbar": {
              "outlinewidth": 0,
              "ticks": ""
             }
            },
            "type": "scatterternary"
           }
          ],
          "surface": [
           {
            "colorbar": {
             "outlinewidth": 0,
             "ticks": ""
            },
            "colorscale": [
             [
              0,
              "#0d0887"
             ],
             [
              0.1111111111111111,
              "#46039f"
             ],
             [
              0.2222222222222222,
              "#7201a8"
             ],
             [
              0.3333333333333333,
              "#9c179e"
             ],
             [
              0.4444444444444444,
              "#bd3786"
             ],
             [
              0.5555555555555556,
              "#d8576b"
             ],
             [
              0.6666666666666666,
              "#ed7953"
             ],
             [
              0.7777777777777778,
              "#fb9f3a"
             ],
             [
              0.8888888888888888,
              "#fdca26"
             ],
             [
              1,
              "#f0f921"
             ]
            ],
            "type": "surface"
           }
          ],
          "table": [
           {
            "cells": {
             "fill": {
              "color": "#EBF0F8"
             },
             "line": {
              "color": "white"
             }
            },
            "header": {
             "fill": {
              "color": "#C8D4E3"
             },
             "line": {
              "color": "white"
             }
            },
            "type": "table"
           }
          ]
         },
         "layout": {
          "annotationdefaults": {
           "arrowcolor": "#2a3f5f",
           "arrowhead": 0,
           "arrowwidth": 1
          },
          "autotypenumbers": "strict",
          "coloraxis": {
           "colorbar": {
            "outlinewidth": 0,
            "ticks": ""
           }
          },
          "colorscale": {
           "diverging": [
            [
             0,
             "#8e0152"
            ],
            [
             0.1,
             "#c51b7d"
            ],
            [
             0.2,
             "#de77ae"
            ],
            [
             0.3,
             "#f1b6da"
            ],
            [
             0.4,
             "#fde0ef"
            ],
            [
             0.5,
             "#f7f7f7"
            ],
            [
             0.6,
             "#e6f5d0"
            ],
            [
             0.7,
             "#b8e186"
            ],
            [
             0.8,
             "#7fbc41"
            ],
            [
             0.9,
             "#4d9221"
            ],
            [
             1,
             "#276419"
            ]
           ],
           "sequential": [
            [
             0,
             "#0d0887"
            ],
            [
             0.1111111111111111,
             "#46039f"
            ],
            [
             0.2222222222222222,
             "#7201a8"
            ],
            [
             0.3333333333333333,
             "#9c179e"
            ],
            [
             0.4444444444444444,
             "#bd3786"
            ],
            [
             0.5555555555555556,
             "#d8576b"
            ],
            [
             0.6666666666666666,
             "#ed7953"
            ],
            [
             0.7777777777777778,
             "#fb9f3a"
            ],
            [
             0.8888888888888888,
             "#fdca26"
            ],
            [
             1,
             "#f0f921"
            ]
           ],
           "sequentialminus": [
            [
             0,
             "#0d0887"
            ],
            [
             0.1111111111111111,
             "#46039f"
            ],
            [
             0.2222222222222222,
             "#7201a8"
            ],
            [
             0.3333333333333333,
             "#9c179e"
            ],
            [
             0.4444444444444444,
             "#bd3786"
            ],
            [
             0.5555555555555556,
             "#d8576b"
            ],
            [
             0.6666666666666666,
             "#ed7953"
            ],
            [
             0.7777777777777778,
             "#fb9f3a"
            ],
            [
             0.8888888888888888,
             "#fdca26"
            ],
            [
             1,
             "#f0f921"
            ]
           ]
          },
          "colorway": [
           "#636efa",
           "#EF553B",
           "#00cc96",
           "#ab63fa",
           "#FFA15A",
           "#19d3f3",
           "#FF6692",
           "#B6E880",
           "#FF97FF",
           "#FECB52"
          ],
          "font": {
           "color": "#2a3f5f"
          },
          "geo": {
           "bgcolor": "white",
           "lakecolor": "white",
           "landcolor": "#E5ECF6",
           "showlakes": true,
           "showland": true,
           "subunitcolor": "white"
          },
          "hoverlabel": {
           "align": "left"
          },
          "hovermode": "closest",
          "mapbox": {
           "style": "light"
          },
          "paper_bgcolor": "white",
          "plot_bgcolor": "#E5ECF6",
          "polar": {
           "angularaxis": {
            "gridcolor": "white",
            "linecolor": "white",
            "ticks": ""
           },
           "bgcolor": "#E5ECF6",
           "radialaxis": {
            "gridcolor": "white",
            "linecolor": "white",
            "ticks": ""
           }
          },
          "scene": {
           "xaxis": {
            "backgroundcolor": "#E5ECF6",
            "gridcolor": "white",
            "gridwidth": 2,
            "linecolor": "white",
            "showbackground": true,
            "ticks": "",
            "zerolinecolor": "white"
           },
           "yaxis": {
            "backgroundcolor": "#E5ECF6",
            "gridcolor": "white",
            "gridwidth": 2,
            "linecolor": "white",
            "showbackground": true,
            "ticks": "",
            "zerolinecolor": "white"
           },
           "zaxis": {
            "backgroundcolor": "#E5ECF6",
            "gridcolor": "white",
            "gridwidth": 2,
            "linecolor": "white",
            "showbackground": true,
            "ticks": "",
            "zerolinecolor": "white"
           }
          },
          "shapedefaults": {
           "line": {
            "color": "#2a3f5f"
           }
          },
          "ternary": {
           "aaxis": {
            "gridcolor": "white",
            "linecolor": "white",
            "ticks": ""
           },
           "baxis": {
            "gridcolor": "white",
            "linecolor": "white",
            "ticks": ""
           },
           "bgcolor": "#E5ECF6",
           "caxis": {
            "gridcolor": "white",
            "linecolor": "white",
            "ticks": ""
           }
          },
          "title": {
           "x": 0.05
          },
          "xaxis": {
           "automargin": true,
           "gridcolor": "white",
           "linecolor": "white",
           "ticks": "",
           "title": {
            "standoff": 15
           },
           "zerolinecolor": "white",
           "zerolinewidth": 2
          },
          "yaxis": {
           "automargin": true,
           "gridcolor": "white",
           "linecolor": "white",
           "ticks": "",
           "title": {
            "standoff": 15
           },
           "zerolinecolor": "white",
           "zerolinewidth": 2
          }
         }
        },
        "title": {
         "text": "Gene Expression Distribution Across Primary Diagnosis Categories (Aggregated by Case)"
        },
        "violinmode": "overlay",
        "width": 1200,
        "xaxis": {
         "anchor": "y",
         "categoryarray": [
          "Infiltrating<br>duct<br>carcinoma,",
          "Infiltrating<br>duct<br>and",
          "Large<br>cell<br>neuroendocrine",
          "Lobular<br>carcinoma,<br>NOS",
          "Metaplastic<br>carcinoma,<br>NOS",
          "Carcinoma,<br>NOS",
          "Infiltrating<br>duct<br>mixed",
          "Malignant<br>lymphoma,<br>large",
          "Medullary<br>carcinoma,<br>NOS"
         ],
         "categoryorder": "array",
         "domain": [
          0,
          1
         ],
         "tickangle": 0,
         "title": {
          "text": "Primary Diagnosis"
         }
        },
        "yaxis": {
         "anchor": "x",
         "domain": [
          0,
          1
         ],
         "title": {
          "text": "Expression Level"
         }
        }
       }
      },
      "text/html": [
       "<div>                            <div id=\"9d909df0-550a-459b-bfe5-2f74d04a321f\" class=\"plotly-graph-div\" style=\"height:700px; width:1200px;\"></div>            <script type=\"text/javascript\">                require([\"plotly\"], function(Plotly) {                    window.PLOTLYENV=window.PLOTLYENV || {};                                    if (document.getElementById(\"9d909df0-550a-459b-bfe5-2f74d04a321f\")) {                    Plotly.newPlot(                        \"9d909df0-550a-459b-bfe5-2f74d04a321f\",                        [{\"alignmentgroup\":\"True\",\"box\":{\"visible\":true},\"hovertemplate\":\"Primary Diagnosis=%{x}\\u003cbr\\u003eExpression Level=%{y}\\u003cextra\\u003e\\u003c\\u002fextra\\u003e\",\"legendgroup\":\"Infiltrating\\u003cbr\\u003educt\\u003cbr\\u003ecarcinoma,\",\"marker\":{\"color\":\"rgb(102,194,165)\"},\"name\":\"Infiltrating\\u003cbr\\u003educt\\u003cbr\\u003ecarcinoma,\",\"offsetgroup\":\"Infiltrating\\u003cbr\\u003educt\\u003cbr\\u003ecarcinoma,\",\"orientation\":\"v\",\"points\":false,\"scalegroup\":\"True\",\"showlegend\":true,\"x\":[\"Infiltrating\\u003cbr\\u003educt\\u003cbr\\u003ecarcinoma,\",\"Infiltrating\\u003cbr\\u003educt\\u003cbr\\u003ecarcinoma,\",\"Infiltrating\\u003cbr\\u003educt\\u003cbr\\u003ecarcinoma,\",\"Infiltrating\\u003cbr\\u003educt\\u003cbr\\u003ecarcinoma,\",\"Infiltrating\\u003cbr\\u003educt\\u003cbr\\u003ecarcinoma,\",\"Infiltrating\\u003cbr\\u003educt\\u003cbr\\u003ecarcinoma,\",\"Infiltrating\\u003cbr\\u003educt\\u003cbr\\u003ecarcinoma,\",\"Infiltrating\\u003cbr\\u003educt\\u003cbr\\u003ecarcinoma,\",\"Infiltrating\\u003cbr\\u003educt\\u003cbr\\u003ecarcinoma,\",\"Infiltrating\\u003cbr\\u003educt\\u003cbr\\u003ecarcinoma,\",\"Infiltrating\\u003cbr\\u003educt\\u003cbr\\u003ecarcinoma,\",\"Infiltrating\\u003cbr\\u003educt\\u003cbr\\u003ecarcinoma,\",\"Infiltrating\\u003cbr\\u003educt\\u003cbr\\u003ecarcinoma,\",\"Infiltrating\\u003cbr\\u003educt\\u003cbr\\u003ecarcinoma,\",\"Infiltrating\\u003cbr\\u003educt\\u003cbr\\u003ecarcinoma,\",\"Infiltrating\\u003cbr\\u003educt\\u003cbr\\u003ecarcinoma,\",\"Infiltrating\\u003cbr\\u003educt\\u003cbr\\u003ecarcinoma,\",\"Infiltrating\\u003cbr\\u003educt\\u003cbr\\u003ecarcinoma,\",\"Infiltrating\\u003cbr\\u003educt\\u003cbr\\u003ecarcinoma,\",\"Infiltrating\\u003cbr\\u003educt\\u003cbr\\u003ecarcinoma,\",\"Infiltrating\\u003cbr\\u003educt\\u003cbr\\u003ecarcinoma,\",\"Infiltrating\\u003cbr\\u003educt\\u003cbr\\u003ecarcinoma,\",\"Infiltrating\\u003cbr\\u003educt\\u003cbr\\u003ecarcinoma,\",\"Infiltrating\\u003cbr\\u003educt\\u003cbr\\u003ecarcinoma,\",\"Infiltrating\\u003cbr\\u003educt\\u003cbr\\u003ecarcinoma,\",\"Infiltrating\\u003cbr\\u003educt\\u003cbr\\u003ecarcinoma,\",\"Infiltrating\\u003cbr\\u003educt\\u003cbr\\u003ecarcinoma,\",\"Infiltrating\\u003cbr\\u003educt\\u003cbr\\u003ecarcinoma,\",\"Infiltrating\\u003cbr\\u003educt\\u003cbr\\u003ecarcinoma,\",\"Infiltrating\\u003cbr\\u003educt\\u003cbr\\u003ecarcinoma,\",\"Infiltrating\\u003cbr\\u003educt\\u003cbr\\u003ecarcinoma,\"],\"x0\":\" \",\"xaxis\":\"x\",\"y\":[-0.27444958153310955,-0.21672853120202878,-0.39641360387787616,-0.35901342484804455,0.02433316406975836,0.5814353397606158,0.4323018128783331,-0.13339983919182055,-0.0693976320454352,0.021252451629254716,-0.020288266489366363,0.03698271711328661,-0.22428235242189004,-0.02724397140535295,-0.22121059149519012,0.003702842217663882,0.08104609735956322,0.33511034627071495,0.2563253681226768,-0.1693806154575886,0.08244982786081073,0.4907604060273919,-0.0032470279826118387,-0.1744679010627891,-0.2148084858239752,-0.07819178401843524,0.15794763731046751,0.14312667792868183,-0.16601989718794677,0.044088578942768276,0.5488051200572505],\"y0\":\" \",\"yaxis\":\"y\",\"type\":\"violin\"},{\"alignmentgroup\":\"True\",\"box\":{\"visible\":true},\"hovertemplate\":\"Primary Diagnosis=%{x}\\u003cbr\\u003eExpression Level=%{y}\\u003cextra\\u003e\\u003c\\u002fextra\\u003e\",\"legendgroup\":\"Infiltrating\\u003cbr\\u003educt\\u003cbr\\u003eand\",\"marker\":{\"color\":\"rgb(252,141,98)\"},\"name\":\"Infiltrating\\u003cbr\\u003educt\\u003cbr\\u003eand\",\"offsetgroup\":\"Infiltrating\\u003cbr\\u003educt\\u003cbr\\u003eand\",\"orientation\":\"v\",\"points\":false,\"scalegroup\":\"True\",\"showlegend\":true,\"x\":[\"Infiltrating\\u003cbr\\u003educt\\u003cbr\\u003eand\"],\"x0\":\" \",\"xaxis\":\"x\",\"y\":[-0.38173000413018393],\"y0\":\" \",\"yaxis\":\"y\",\"type\":\"violin\"},{\"alignmentgroup\":\"True\",\"box\":{\"visible\":true},\"hovertemplate\":\"Primary Diagnosis=%{x}\\u003cbr\\u003eExpression Level=%{y}\\u003cextra\\u003e\\u003c\\u002fextra\\u003e\",\"legendgroup\":\"Large\\u003cbr\\u003ecell\\u003cbr\\u003eneuroendocrine\",\"marker\":{\"color\":\"rgb(141,160,203)\"},\"name\":\"Large\\u003cbr\\u003ecell\\u003cbr\\u003eneuroendocrine\",\"offsetgroup\":\"Large\\u003cbr\\u003ecell\\u003cbr\\u003eneuroendocrine\",\"orientation\":\"v\",\"points\":false,\"scalegroup\":\"True\",\"showlegend\":true,\"x\":[\"Large\\u003cbr\\u003ecell\\u003cbr\\u003eneuroendocrine\"],\"x0\":\" \",\"xaxis\":\"x\",\"y\":[-0.21197628567431465],\"y0\":\" \",\"yaxis\":\"y\",\"type\":\"violin\"},{\"alignmentgroup\":\"True\",\"box\":{\"visible\":true},\"hovertemplate\":\"Primary Diagnosis=%{x}\\u003cbr\\u003eExpression Level=%{y}\\u003cextra\\u003e\\u003c\\u002fextra\\u003e\",\"legendgroup\":\"Lobular\\u003cbr\\u003ecarcinoma,\\u003cbr\\u003eNOS\",\"marker\":{\"color\":\"rgb(231,138,195)\"},\"name\":\"Lobular\\u003cbr\\u003ecarcinoma,\\u003cbr\\u003eNOS\",\"offsetgroup\":\"Lobular\\u003cbr\\u003ecarcinoma,\\u003cbr\\u003eNOS\",\"orientation\":\"v\",\"points\":false,\"scalegroup\":\"True\",\"showlegend\":true,\"x\":[\"Lobular\\u003cbr\\u003ecarcinoma,\\u003cbr\\u003eNOS\",\"Lobular\\u003cbr\\u003ecarcinoma,\\u003cbr\\u003eNOS\",\"Lobular\\u003cbr\\u003ecarcinoma,\\u003cbr\\u003eNOS\",\"Lobular\\u003cbr\\u003ecarcinoma,\\u003cbr\\u003eNOS\",\"Lobular\\u003cbr\\u003ecarcinoma,\\u003cbr\\u003eNOS\",\"Lobular\\u003cbr\\u003ecarcinoma,\\u003cbr\\u003eNOS\",\"Lobular\\u003cbr\\u003ecarcinoma,\\u003cbr\\u003eNOS\",\"Lobular\\u003cbr\\u003ecarcinoma,\\u003cbr\\u003eNOS\"],\"x0\":\" \",\"xaxis\":\"x\",\"y\":[0.14314212742401528,0.028391384174915137,0.01260861363486031,0.05238475523845328,0.29525023284420515,0.11910637610189517,0.34602231832264235,0.13923564690460122],\"y0\":\" \",\"yaxis\":\"y\",\"type\":\"violin\"},{\"alignmentgroup\":\"True\",\"box\":{\"visible\":true},\"hovertemplate\":\"Primary Diagnosis=%{x}\\u003cbr\\u003eExpression Level=%{y}\\u003cextra\\u003e\\u003c\\u002fextra\\u003e\",\"legendgroup\":\"Metaplastic\\u003cbr\\u003ecarcinoma,\\u003cbr\\u003eNOS\",\"marker\":{\"color\":\"rgb(166,216,84)\"},\"name\":\"Metaplastic\\u003cbr\\u003ecarcinoma,\\u003cbr\\u003eNOS\",\"offsetgroup\":\"Metaplastic\\u003cbr\\u003ecarcinoma,\\u003cbr\\u003eNOS\",\"orientation\":\"v\",\"points\":false,\"scalegroup\":\"True\",\"showlegend\":true,\"x\":[\"Metaplastic\\u003cbr\\u003ecarcinoma,\\u003cbr\\u003eNOS\",\"Metaplastic\\u003cbr\\u003ecarcinoma,\\u003cbr\\u003eNOS\",\"Metaplastic\\u003cbr\\u003ecarcinoma,\\u003cbr\\u003eNOS\",\"Metaplastic\\u003cbr\\u003ecarcinoma,\\u003cbr\\u003eNOS\",\"Metaplastic\\u003cbr\\u003ecarcinoma,\\u003cbr\\u003eNOS\",\"Metaplastic\\u003cbr\\u003ecarcinoma,\\u003cbr\\u003eNOS\"],\"x0\":\" \",\"xaxis\":\"x\",\"y\":[-0.2629990131614073,-0.5119417816291925,-0.1978373182382978,0.6445969079331665,-0.032243654070997545,0.3387983855975131],\"y0\":\" \",\"yaxis\":\"y\",\"type\":\"violin\"},{\"alignmentgroup\":\"True\",\"box\":{\"visible\":true},\"hovertemplate\":\"Primary Diagnosis=%{x}\\u003cbr\\u003eExpression Level=%{y}\\u003cextra\\u003e\\u003c\\u002fextra\\u003e\",\"legendgroup\":\"Carcinoma,\\u003cbr\\u003eNOS\",\"marker\":{\"color\":\"rgb(255,217,47)\"},\"name\":\"Carcinoma,\\u003cbr\\u003eNOS\",\"offsetgroup\":\"Carcinoma,\\u003cbr\\u003eNOS\",\"orientation\":\"v\",\"points\":false,\"scalegroup\":\"True\",\"showlegend\":true,\"x\":[\"Carcinoma,\\u003cbr\\u003eNOS\"],\"x0\":\" \",\"xaxis\":\"x\",\"y\":[-0.03682495891215519],\"y0\":\" \",\"yaxis\":\"y\",\"type\":\"violin\"},{\"alignmentgroup\":\"True\",\"box\":{\"visible\":true},\"hovertemplate\":\"Primary Diagnosis=%{x}\\u003cbr\\u003eExpression Level=%{y}\\u003cextra\\u003e\\u003c\\u002fextra\\u003e\",\"legendgroup\":\"Infiltrating\\u003cbr\\u003educt\\u003cbr\\u003emixed\",\"marker\":{\"color\":\"rgb(229,196,148)\"},\"name\":\"Infiltrating\\u003cbr\\u003educt\\u003cbr\\u003emixed\",\"offsetgroup\":\"Infiltrating\\u003cbr\\u003educt\\u003cbr\\u003emixed\",\"orientation\":\"v\",\"points\":false,\"scalegroup\":\"True\",\"showlegend\":true,\"x\":[\"Infiltrating\\u003cbr\\u003educt\\u003cbr\\u003emixed\"],\"x0\":\" \",\"xaxis\":\"x\",\"y\":[2.1474874570520948],\"y0\":\" \",\"yaxis\":\"y\",\"type\":\"violin\"},{\"alignmentgroup\":\"True\",\"box\":{\"visible\":true},\"hovertemplate\":\"Primary Diagnosis=%{x}\\u003cbr\\u003eExpression Level=%{y}\\u003cextra\\u003e\\u003c\\u002fextra\\u003e\",\"legendgroup\":\"Malignant\\u003cbr\\u003elymphoma,\\u003cbr\\u003elarge\",\"marker\":{\"color\":\"rgb(179,179,179)\"},\"name\":\"Malignant\\u003cbr\\u003elymphoma,\\u003cbr\\u003elarge\",\"offsetgroup\":\"Malignant\\u003cbr\\u003elymphoma,\\u003cbr\\u003elarge\",\"orientation\":\"v\",\"points\":false,\"scalegroup\":\"True\",\"showlegend\":true,\"x\":[\"Malignant\\u003cbr\\u003elymphoma,\\u003cbr\\u003elarge\"],\"x0\":\" \",\"xaxis\":\"x\",\"y\":[-0.25313881190755305],\"y0\":\" \",\"yaxis\":\"y\",\"type\":\"violin\"},{\"alignmentgroup\":\"True\",\"box\":{\"visible\":true},\"hovertemplate\":\"Primary Diagnosis=%{x}\\u003cbr\\u003eExpression Level=%{y}\\u003cextra\\u003e\\u003c\\u002fextra\\u003e\",\"legendgroup\":\"Medullary\\u003cbr\\u003ecarcinoma,\\u003cbr\\u003eNOS\",\"marker\":{\"color\":\"rgb(102,194,165)\"},\"name\":\"Medullary\\u003cbr\\u003ecarcinoma,\\u003cbr\\u003eNOS\",\"offsetgroup\":\"Medullary\\u003cbr\\u003ecarcinoma,\\u003cbr\\u003eNOS\",\"orientation\":\"v\",\"points\":false,\"scalegroup\":\"True\",\"showlegend\":true,\"x\":[\"Medullary\\u003cbr\\u003ecarcinoma,\\u003cbr\\u003eNOS\"],\"x0\":\" \",\"xaxis\":\"x\",\"y\":[-0.021937440717893435],\"y0\":\" \",\"yaxis\":\"y\",\"type\":\"violin\"}],                        {\"template\":{\"data\":{\"histogram2dcontour\":[{\"type\":\"histogram2dcontour\",\"colorbar\":{\"outlinewidth\":0,\"ticks\":\"\"},\"colorscale\":[[0.0,\"#0d0887\"],[0.1111111111111111,\"#46039f\"],[0.2222222222222222,\"#7201a8\"],[0.3333333333333333,\"#9c179e\"],[0.4444444444444444,\"#bd3786\"],[0.5555555555555556,\"#d8576b\"],[0.6666666666666666,\"#ed7953\"],[0.7777777777777778,\"#fb9f3a\"],[0.8888888888888888,\"#fdca26\"],[1.0,\"#f0f921\"]]}],\"choropleth\":[{\"type\":\"choropleth\",\"colorbar\":{\"outlinewidth\":0,\"ticks\":\"\"}}],\"histogram2d\":[{\"type\":\"histogram2d\",\"colorbar\":{\"outlinewidth\":0,\"ticks\":\"\"},\"colorscale\":[[0.0,\"#0d0887\"],[0.1111111111111111,\"#46039f\"],[0.2222222222222222,\"#7201a8\"],[0.3333333333333333,\"#9c179e\"],[0.4444444444444444,\"#bd3786\"],[0.5555555555555556,\"#d8576b\"],[0.6666666666666666,\"#ed7953\"],[0.7777777777777778,\"#fb9f3a\"],[0.8888888888888888,\"#fdca26\"],[1.0,\"#f0f921\"]]}],\"heatmap\":[{\"type\":\"heatmap\",\"colorbar\":{\"outlinewidth\":0,\"ticks\":\"\"},\"colorscale\":[[0.0,\"#0d0887\"],[0.1111111111111111,\"#46039f\"],[0.2222222222222222,\"#7201a8\"],[0.3333333333333333,\"#9c179e\"],[0.4444444444444444,\"#bd3786\"],[0.5555555555555556,\"#d8576b\"],[0.6666666666666666,\"#ed7953\"],[0.7777777777777778,\"#fb9f3a\"],[0.8888888888888888,\"#fdca26\"],[1.0,\"#f0f921\"]]}],\"heatmapgl\":[{\"type\":\"heatmapgl\",\"colorbar\":{\"outlinewidth\":0,\"ticks\":\"\"},\"colorscale\":[[0.0,\"#0d0887\"],[0.1111111111111111,\"#46039f\"],[0.2222222222222222,\"#7201a8\"],[0.3333333333333333,\"#9c179e\"],[0.4444444444444444,\"#bd3786\"],[0.5555555555555556,\"#d8576b\"],[0.6666666666666666,\"#ed7953\"],[0.7777777777777778,\"#fb9f3a\"],[0.8888888888888888,\"#fdca26\"],[1.0,\"#f0f921\"]]}],\"contourcarpet\":[{\"type\":\"contourcarpet\",\"colorbar\":{\"outlinewidth\":0,\"ticks\":\"\"}}],\"contour\":[{\"type\":\"contour\",\"colorbar\":{\"outlinewidth\":0,\"ticks\":\"\"},\"colorscale\":[[0.0,\"#0d0887\"],[0.1111111111111111,\"#46039f\"],[0.2222222222222222,\"#7201a8\"],[0.3333333333333333,\"#9c179e\"],[0.4444444444444444,\"#bd3786\"],[0.5555555555555556,\"#d8576b\"],[0.6666666666666666,\"#ed7953\"],[0.7777777777777778,\"#fb9f3a\"],[0.8888888888888888,\"#fdca26\"],[1.0,\"#f0f921\"]]}],\"surface\":[{\"type\":\"surface\",\"colorbar\":{\"outlinewidth\":0,\"ticks\":\"\"},\"colorscale\":[[0.0,\"#0d0887\"],[0.1111111111111111,\"#46039f\"],[0.2222222222222222,\"#7201a8\"],[0.3333333333333333,\"#9c179e\"],[0.4444444444444444,\"#bd3786\"],[0.5555555555555556,\"#d8576b\"],[0.6666666666666666,\"#ed7953\"],[0.7777777777777778,\"#fb9f3a\"],[0.8888888888888888,\"#fdca26\"],[1.0,\"#f0f921\"]]}],\"mesh3d\":[{\"type\":\"mesh3d\",\"colorbar\":{\"outlinewidth\":0,\"ticks\":\"\"}}],\"scatter\":[{\"fillpattern\":{\"fillmode\":\"overlay\",\"size\":10,\"solidity\":0.2},\"type\":\"scatter\"}],\"parcoords\":[{\"type\":\"parcoords\",\"line\":{\"colorbar\":{\"outlinewidth\":0,\"ticks\":\"\"}}}],\"scatterpolargl\":[{\"type\":\"scatterpolargl\",\"marker\":{\"colorbar\":{\"outlinewidth\":0,\"ticks\":\"\"}}}],\"bar\":[{\"error_x\":{\"color\":\"#2a3f5f\"},\"error_y\":{\"color\":\"#2a3f5f\"},\"marker\":{\"line\":{\"color\":\"#E5ECF6\",\"width\":0.5},\"pattern\":{\"fillmode\":\"overlay\",\"size\":10,\"solidity\":0.2}},\"type\":\"bar\"}],\"scattergeo\":[{\"type\":\"scattergeo\",\"marker\":{\"colorbar\":{\"outlinewidth\":0,\"ticks\":\"\"}}}],\"scatterpolar\":[{\"type\":\"scatterpolar\",\"marker\":{\"colorbar\":{\"outlinewidth\":0,\"ticks\":\"\"}}}],\"histogram\":[{\"marker\":{\"pattern\":{\"fillmode\":\"overlay\",\"size\":10,\"solidity\":0.2}},\"type\":\"histogram\"}],\"scattergl\":[{\"type\":\"scattergl\",\"marker\":{\"colorbar\":{\"outlinewidth\":0,\"ticks\":\"\"}}}],\"scatter3d\":[{\"type\":\"scatter3d\",\"line\":{\"colorbar\":{\"outlinewidth\":0,\"ticks\":\"\"}},\"marker\":{\"colorbar\":{\"outlinewidth\":0,\"ticks\":\"\"}}}],\"scattermapbox\":[{\"type\":\"scattermapbox\",\"marker\":{\"colorbar\":{\"outlinewidth\":0,\"ticks\":\"\"}}}],\"scatterternary\":[{\"type\":\"scatterternary\",\"marker\":{\"colorbar\":{\"outlinewidth\":0,\"ticks\":\"\"}}}],\"scattercarpet\":[{\"type\":\"scattercarpet\",\"marker\":{\"colorbar\":{\"outlinewidth\":0,\"ticks\":\"\"}}}],\"carpet\":[{\"aaxis\":{\"endlinecolor\":\"#2a3f5f\",\"gridcolor\":\"white\",\"linecolor\":\"white\",\"minorgridcolor\":\"white\",\"startlinecolor\":\"#2a3f5f\"},\"baxis\":{\"endlinecolor\":\"#2a3f5f\",\"gridcolor\":\"white\",\"linecolor\":\"white\",\"minorgridcolor\":\"white\",\"startlinecolor\":\"#2a3f5f\"},\"type\":\"carpet\"}],\"table\":[{\"cells\":{\"fill\":{\"color\":\"#EBF0F8\"},\"line\":{\"color\":\"white\"}},\"header\":{\"fill\":{\"color\":\"#C8D4E3\"},\"line\":{\"color\":\"white\"}},\"type\":\"table\"}],\"barpolar\":[{\"marker\":{\"line\":{\"color\":\"#E5ECF6\",\"width\":0.5},\"pattern\":{\"fillmode\":\"overlay\",\"size\":10,\"solidity\":0.2}},\"type\":\"barpolar\"}],\"pie\":[{\"automargin\":true,\"type\":\"pie\"}]},\"layout\":{\"autotypenumbers\":\"strict\",\"colorway\":[\"#636efa\",\"#EF553B\",\"#00cc96\",\"#ab63fa\",\"#FFA15A\",\"#19d3f3\",\"#FF6692\",\"#B6E880\",\"#FF97FF\",\"#FECB52\"],\"font\":{\"color\":\"#2a3f5f\"},\"hovermode\":\"closest\",\"hoverlabel\":{\"align\":\"left\"},\"paper_bgcolor\":\"white\",\"plot_bgcolor\":\"#E5ECF6\",\"polar\":{\"bgcolor\":\"#E5ECF6\",\"angularaxis\":{\"gridcolor\":\"white\",\"linecolor\":\"white\",\"ticks\":\"\"},\"radialaxis\":{\"gridcolor\":\"white\",\"linecolor\":\"white\",\"ticks\":\"\"}},\"ternary\":{\"bgcolor\":\"#E5ECF6\",\"aaxis\":{\"gridcolor\":\"white\",\"linecolor\":\"white\",\"ticks\":\"\"},\"baxis\":{\"gridcolor\":\"white\",\"linecolor\":\"white\",\"ticks\":\"\"},\"caxis\":{\"gridcolor\":\"white\",\"linecolor\":\"white\",\"ticks\":\"\"}},\"coloraxis\":{\"colorbar\":{\"outlinewidth\":0,\"ticks\":\"\"}},\"colorscale\":{\"sequential\":[[0.0,\"#0d0887\"],[0.1111111111111111,\"#46039f\"],[0.2222222222222222,\"#7201a8\"],[0.3333333333333333,\"#9c179e\"],[0.4444444444444444,\"#bd3786\"],[0.5555555555555556,\"#d8576b\"],[0.6666666666666666,\"#ed7953\"],[0.7777777777777778,\"#fb9f3a\"],[0.8888888888888888,\"#fdca26\"],[1.0,\"#f0f921\"]],\"sequentialminus\":[[0.0,\"#0d0887\"],[0.1111111111111111,\"#46039f\"],[0.2222222222222222,\"#7201a8\"],[0.3333333333333333,\"#9c179e\"],[0.4444444444444444,\"#bd3786\"],[0.5555555555555556,\"#d8576b\"],[0.6666666666666666,\"#ed7953\"],[0.7777777777777778,\"#fb9f3a\"],[0.8888888888888888,\"#fdca26\"],[1.0,\"#f0f921\"]],\"diverging\":[[0,\"#8e0152\"],[0.1,\"#c51b7d\"],[0.2,\"#de77ae\"],[0.3,\"#f1b6da\"],[0.4,\"#fde0ef\"],[0.5,\"#f7f7f7\"],[0.6,\"#e6f5d0\"],[0.7,\"#b8e186\"],[0.8,\"#7fbc41\"],[0.9,\"#4d9221\"],[1,\"#276419\"]]},\"xaxis\":{\"gridcolor\":\"white\",\"linecolor\":\"white\",\"ticks\":\"\",\"title\":{\"standoff\":15},\"zerolinecolor\":\"white\",\"automargin\":true,\"zerolinewidth\":2},\"yaxis\":{\"gridcolor\":\"white\",\"linecolor\":\"white\",\"ticks\":\"\",\"title\":{\"standoff\":15},\"zerolinecolor\":\"white\",\"automargin\":true,\"zerolinewidth\":2},\"scene\":{\"xaxis\":{\"backgroundcolor\":\"#E5ECF6\",\"gridcolor\":\"white\",\"linecolor\":\"white\",\"showbackground\":true,\"ticks\":\"\",\"zerolinecolor\":\"white\",\"gridwidth\":2},\"yaxis\":{\"backgroundcolor\":\"#E5ECF6\",\"gridcolor\":\"white\",\"linecolor\":\"white\",\"showbackground\":true,\"ticks\":\"\",\"zerolinecolor\":\"white\",\"gridwidth\":2},\"zaxis\":{\"backgroundcolor\":\"#E5ECF6\",\"gridcolor\":\"white\",\"linecolor\":\"white\",\"showbackground\":true,\"ticks\":\"\",\"zerolinecolor\":\"white\",\"gridwidth\":2}},\"shapedefaults\":{\"line\":{\"color\":\"#2a3f5f\"}},\"annotationdefaults\":{\"arrowcolor\":\"#2a3f5f\",\"arrowhead\":0,\"arrowwidth\":1},\"geo\":{\"bgcolor\":\"white\",\"landcolor\":\"#E5ECF6\",\"subunitcolor\":\"white\",\"showland\":true,\"showlakes\":true,\"lakecolor\":\"white\"},\"title\":{\"x\":0.05},\"mapbox\":{\"style\":\"light\"}}},\"xaxis\":{\"anchor\":\"y\",\"domain\":[0.0,1.0],\"title\":{\"text\":\"Primary Diagnosis\"},\"categoryorder\":\"array\",\"categoryarray\":[\"Infiltrating\\u003cbr\\u003educt\\u003cbr\\u003ecarcinoma,\",\"Infiltrating\\u003cbr\\u003educt\\u003cbr\\u003eand\",\"Large\\u003cbr\\u003ecell\\u003cbr\\u003eneuroendocrine\",\"Lobular\\u003cbr\\u003ecarcinoma,\\u003cbr\\u003eNOS\",\"Metaplastic\\u003cbr\\u003ecarcinoma,\\u003cbr\\u003eNOS\",\"Carcinoma,\\u003cbr\\u003eNOS\",\"Infiltrating\\u003cbr\\u003educt\\u003cbr\\u003emixed\",\"Malignant\\u003cbr\\u003elymphoma,\\u003cbr\\u003elarge\",\"Medullary\\u003cbr\\u003ecarcinoma,\\u003cbr\\u003eNOS\"],\"tickangle\":0},\"yaxis\":{\"anchor\":\"x\",\"domain\":[0.0,1.0],\"title\":{\"text\":\"Expression Level\"}},\"legend\":{\"title\":{\"text\":\"Primary Diagnosis\"},\"tracegroupgap\":0},\"title\":{\"text\":\"Gene Expression Distribution Across Primary Diagnosis Categories (Aggregated by Case)\"},\"violinmode\":\"overlay\",\"showlegend\":false,\"width\":1200,\"height\":700},                        {\"responsive\": true}                    ).then(function(){\n",
       "                            \n",
       "var gd = document.getElementById('9d909df0-550a-459b-bfe5-2f74d04a321f');\n",
       "var x = new MutationObserver(function (mutations, observer) {{\n",
       "        var display = window.getComputedStyle(gd).display;\n",
       "        if (!display || display === 'none') {{\n",
       "            console.log([gd, 'removed!']);\n",
       "            Plotly.purge(gd);\n",
       "            observer.disconnect();\n",
       "        }}\n",
       "}});\n",
       "\n",
       "// Listen for the removal of the full notebook cells\n",
       "var notebookContainer = gd.closest('#notebook-container');\n",
       "if (notebookContainer) {{\n",
       "    x.observe(notebookContainer, {childList: true});\n",
       "}}\n",
       "\n",
       "// Listen for the clearing of the current output cell\n",
       "var outputEl = gd.closest('.output');\n",
       "if (outputEl) {{\n",
       "    x.observe(outputEl, {childList: true});\n",
       "}}\n",
       "\n",
       "                        })                };                });            </script>        </div>"
      ]
     },
     "metadata": {},
     "output_type": "display_data"
    }
   ],
   "source": [
    "import plotly.express as px\n",
    "\n",
    "# Aggregate data by case (mean expression for cases with multiple rows)\n",
    "aggregated_data = reshaped_df.groupby(['Case', 'primary_diagnosis'], as_index=False).agg({'Expression': 'mean'})\n",
    "\n",
    "# Remove \"Not Reported\" values from the primary diagnosis column\n",
    "filtered_data = aggregated_data[aggregated_data['primary_diagnosis'] != \"Not Reported\"]\n",
    "\n",
    "# Shorten or format long labels with line breaks\n",
    "filtered_data['primary_diagnosis'] = filtered_data['primary_diagnosis'].apply(\n",
    "    lambda x: '<br>'.join(x.split(' ', 3)[:3]) if len(x.split(' ')) > 3 else x.replace(' ', '<br>')\n",
    ")\n",
    "\n",
    "# Create a violin plot using Plotly\n",
    "fig = px.violin(\n",
    "    filtered_data,\n",
    "    x='primary_diagnosis',\n",
    "    y='Expression',\n",
    "    box=True,  \n",
    "    points=False,\n",
    "    color='primary_diagnosis',  \n",
    "    title=\"Gene Expression Distribution Across Primary Diagnosis Categories (Aggregated by Case)\",\n",
    "    labels={\n",
    "        'primary_diagnosis': 'Primary Diagnosis',\n",
    "        'Expression': 'Expression Level'\n",
    "    },\n",
    "    color_discrete_sequence=px.colors.qualitative.Set2 \n",
    ")\n",
    "\n",
    "\n",
    "fig.update_layout(\n",
    "    xaxis_title=\"Primary Diagnosis\",\n",
    "    yaxis_title=\"Expression Level\",\n",
    "    xaxis_tickangle=0,  \n",
    "    showlegend=False,  \n",
    "    width=1200, \n",
    "    height=700  \n",
    ")\n",
    "\n",
    "\n",
    "fig.show()\n",
    "\n"
   ]
  },
  {
   "cell_type": "code",
   "execution_count": null,
   "id": "1db56819",
   "metadata": {},
   "outputs": [],
   "source": []
  }
 ],
 "metadata": {
  "kernelspec": {
   "display_name": "Python 3 (ipykernel)",
   "language": "python",
   "name": "python3"
  },
  "language_info": {
   "codemirror_mode": {
    "name": "ipython",
    "version": 3
   },
   "file_extension": ".py",
   "mimetype": "text/x-python",
   "name": "python",
   "nbconvert_exporter": "python",
   "pygments_lexer": "ipython3",
   "version": "3.10.11"
  }
 },
 "nbformat": 4,
 "nbformat_minor": 5
}
