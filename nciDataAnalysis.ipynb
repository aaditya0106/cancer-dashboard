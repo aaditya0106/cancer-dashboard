{
 "cells": [
  {
   "cell_type": "markdown",
   "id": "742a2774-5860-4102-b33d-f2f7191b2f91",
   "metadata": {},
   "source": [
    "# NCI GDC Data Analysis"
   ]
  },
  {
   "cell_type": "markdown",
   "id": "76c0a1c4-b779-415d-9f7a-8af1c6e34abf",
   "metadata": {},
   "source": [
    "Datasets were pulled from https://portal.gdc.cancer.gov/analysis_page?app=CohortBuilder&tab=general_diagnosis \n",
    "They were filtered for Breast Cancer before pulled. Need to check with Arjita on the exact process of that"
   ]
  },
  {
   "cell_type": "markdown",
   "id": "811022e3-e799-49e6-905c-d49db468dd00",
   "metadata": {},
   "source": [
    "## Load Packages"
   ]
  },
  {
   "cell_type": "code",
   "execution_count": 163,
   "id": "ff741c11-700c-42ef-bcf6-3ac328f1296b",
   "metadata": {},
   "outputs": [],
   "source": [
    "import pandas as pd\n",
    "import plotly.express as px\n",
    "import numpy as np\n",
    "import requests\n",
    "from io import StringIO\n",
    "\n",
    "pd.set_option('future.no_silent_downcasting', True)"
   ]
  },
  {
   "cell_type": "markdown",
   "id": "92ee3401-eea2-418d-867d-ca0c6074dfeb",
   "metadata": {},
   "source": [
    "## Import Data from Github"
   ]
  },
  {
   "cell_type": "markdown",
   "id": "d6a3303b-61b6-4bef-b6a4-c4beaf73c514",
   "metadata": {},
   "source": [
    "Pull in gene dataset. "
   ]
  },
  {
   "cell_type": "code",
   "execution_count": 166,
   "id": "3300318c-c4a1-4b00-a756-e8fb4556b80d",
   "metadata": {},
   "outputs": [
    {
     "name": "stdout",
     "output_type": "stream",
     "text": [
      "Data loaded successfully!\n"
     ]
    }
   ],
   "source": [
    "response = requests.get('https://raw.githubusercontent.com/aaditya0106/cancer-dashboard/main/Data/HierCluster.2024-11-19.tsv')\n",
    "if response.status_code == 200:\n",
    "    gene = pd.read_csv(StringIO(response.text), sep='\\t')\n",
    "    print(\"Data loaded successfully!\")\n",
    "else:\n",
    "    print(f\"Failed to fetch data: {response.status_code}\")"
   ]
  },
  {
   "cell_type": "markdown",
   "id": "6b3f3352-22db-41a4-aaf3-c3deab75544f",
   "metadata": {},
   "source": [
    "Pull in clinical dataset."
   ]
  },
  {
   "cell_type": "code",
   "execution_count": 168,
   "id": "6e3e8504-57d2-4d74-9044-8ca720d6b5b8",
   "metadata": {},
   "outputs": [
    {
     "name": "stdout",
     "output_type": "stream",
     "text": [
      "Data loaded successfully!\n"
     ]
    }
   ],
   "source": [
    "response = requests.get('https://raw.githubusercontent.com/aaditya0106/cancer-dashboard/main/Data/clinical.tsv')\n",
    "if response.status_code == 200:\n",
    "    clinical = pd.read_csv(StringIO(response.text), sep='\\t')\n",
    "    print(\"Data loaded successfully!\")\n",
    "else:\n",
    "    print(f\"Failed to fetch data: {response.status_code}\")"
   ]
  },
  {
   "cell_type": "markdown",
   "id": "8e9a229f-a002-4919-9ac3-77a2b0f061d7",
   "metadata": {},
   "source": [
    "## Basic gene data exploration"
   ]
  },
  {
   "cell_type": "code",
   "execution_count": 170,
   "id": "b64f6589-e3cc-46ff-a2e9-c7a829d4946e",
   "metadata": {},
   "outputs": [
    {
     "data": {
      "text/html": [
       "<div>\n",
       "<style scoped>\n",
       "    .dataframe tbody tr th:only-of-type {\n",
       "        vertical-align: middle;\n",
       "    }\n",
       "\n",
       "    .dataframe tbody tr th {\n",
       "        vertical-align: top;\n",
       "    }\n",
       "\n",
       "    .dataframe thead th {\n",
       "        text-align: right;\n",
       "    }\n",
       "</style>\n",
       "<table border=\"1\" class=\"dataframe\">\n",
       "  <thead>\n",
       "    <tr style=\"text-align: right;\">\n",
       "      <th></th>\n",
       "      <th>Case</th>\n",
       "      <th>ANO1</th>\n",
       "      <th>CTTN</th>\n",
       "      <th>GAB2</th>\n",
       "      <th>TSKU</th>\n",
       "      <th>PEG10</th>\n",
       "      <th>TSPAN12</th>\n",
       "      <th>VSIG2</th>\n",
       "      <th>INHBB</th>\n",
       "      <th>CLU</th>\n",
       "      <th>...</th>\n",
       "      <th>DSG2</th>\n",
       "      <th>PGGHG</th>\n",
       "      <th>MYH14</th>\n",
       "      <th>PTPRU</th>\n",
       "      <th>CEP170B</th>\n",
       "      <th>TRPM4</th>\n",
       "      <th>AGRN</th>\n",
       "      <th>LAMA5</th>\n",
       "      <th>SLC17A9</th>\n",
       "      <th>SMIM24</th>\n",
       "    </tr>\n",
       "  </thead>\n",
       "  <tbody>\n",
       "    <tr>\n",
       "      <th>0</th>\n",
       "      <td>TCGA-AC-A2QJ</td>\n",
       "      <td>-0.850784</td>\n",
       "      <td>-0.067790</td>\n",
       "      <td>-0.373197</td>\n",
       "      <td>0.353471</td>\n",
       "      <td>-0.424534</td>\n",
       "      <td>-0.627105</td>\n",
       "      <td>-0.225790</td>\n",
       "      <td>-0.428333</td>\n",
       "      <td>-0.396251</td>\n",
       "      <td>...</td>\n",
       "      <td>-1.360506</td>\n",
       "      <td>-0.405373</td>\n",
       "      <td>-1.069204</td>\n",
       "      <td>-0.642400</td>\n",
       "      <td>-0.293741</td>\n",
       "      <td>-0.317442</td>\n",
       "      <td>1.454789</td>\n",
       "      <td>-0.886521</td>\n",
       "      <td>2.645691</td>\n",
       "      <td>0.438836</td>\n",
       "    </tr>\n",
       "    <tr>\n",
       "      <th>1</th>\n",
       "      <td>TCGA-FA-A7DS</td>\n",
       "      <td>-0.903327</td>\n",
       "      <td>-0.984412</td>\n",
       "      <td>-0.434487</td>\n",
       "      <td>-0.533308</td>\n",
       "      <td>-0.510474</td>\n",
       "      <td>-0.649774</td>\n",
       "      <td>-0.417569</td>\n",
       "      <td>-0.591520</td>\n",
       "      <td>-0.415010</td>\n",
       "      <td>...</td>\n",
       "      <td>-1.479773</td>\n",
       "      <td>-0.243668</td>\n",
       "      <td>-1.159843</td>\n",
       "      <td>-1.038820</td>\n",
       "      <td>-1.792239</td>\n",
       "      <td>2.025728</td>\n",
       "      <td>-1.518411</td>\n",
       "      <td>-0.801080</td>\n",
       "      <td>4.244228</td>\n",
       "      <td>-0.274578</td>\n",
       "    </tr>\n",
       "    <tr>\n",
       "      <th>2</th>\n",
       "      <td>TCGA-A2-A4S1</td>\n",
       "      <td>-0.749352</td>\n",
       "      <td>-0.266099</td>\n",
       "      <td>-0.379331</td>\n",
       "      <td>0.198941</td>\n",
       "      <td>-0.155934</td>\n",
       "      <td>-0.530950</td>\n",
       "      <td>-0.325875</td>\n",
       "      <td>-0.373839</td>\n",
       "      <td>-0.306217</td>\n",
       "      <td>...</td>\n",
       "      <td>-1.429917</td>\n",
       "      <td>0.136463</td>\n",
       "      <td>-1.169063</td>\n",
       "      <td>-0.786902</td>\n",
       "      <td>-0.390244</td>\n",
       "      <td>-0.130008</td>\n",
       "      <td>0.732697</td>\n",
       "      <td>-0.683839</td>\n",
       "      <td>0.121208</td>\n",
       "      <td>-0.107634</td>\n",
       "    </tr>\n",
       "    <tr>\n",
       "      <th>3</th>\n",
       "      <td>TCGA-AR-A5QQ</td>\n",
       "      <td>0.292535</td>\n",
       "      <td>-0.049525</td>\n",
       "      <td>-0.475821</td>\n",
       "      <td>0.243683</td>\n",
       "      <td>-0.502936</td>\n",
       "      <td>-0.565909</td>\n",
       "      <td>-0.318526</td>\n",
       "      <td>-0.471878</td>\n",
       "      <td>-0.377541</td>\n",
       "      <td>...</td>\n",
       "      <td>-0.485598</td>\n",
       "      <td>-0.440984</td>\n",
       "      <td>-0.992049</td>\n",
       "      <td>-0.228702</td>\n",
       "      <td>-0.046550</td>\n",
       "      <td>-1.026940</td>\n",
       "      <td>1.468554</td>\n",
       "      <td>-0.556163</td>\n",
       "      <td>-0.100514</td>\n",
       "      <td>-0.221282</td>\n",
       "    </tr>\n",
       "    <tr>\n",
       "      <th>4</th>\n",
       "      <td>TCGA-E9-A5FL</td>\n",
       "      <td>-0.787100</td>\n",
       "      <td>0.226868</td>\n",
       "      <td>-0.429163</td>\n",
       "      <td>0.435614</td>\n",
       "      <td>-0.384482</td>\n",
       "      <td>-0.507950</td>\n",
       "      <td>0.562074</td>\n",
       "      <td>-0.480450</td>\n",
       "      <td>-0.251577</td>\n",
       "      <td>...</td>\n",
       "      <td>-0.915629</td>\n",
       "      <td>1.068320</td>\n",
       "      <td>-0.543074</td>\n",
       "      <td>-0.115328</td>\n",
       "      <td>0.107458</td>\n",
       "      <td>-0.455221</td>\n",
       "      <td>0.150628</td>\n",
       "      <td>0.788012</td>\n",
       "      <td>-0.333208</td>\n",
       "      <td>1.210650</td>\n",
       "    </tr>\n",
       "  </tbody>\n",
       "</table>\n",
       "<p>5 rows × 1001 columns</p>\n",
       "</div>"
      ],
      "text/plain": [
       "           Case      ANO1      CTTN      GAB2      TSKU     PEG10   TSPAN12  \\\n",
       "0  TCGA-AC-A2QJ -0.850784 -0.067790 -0.373197  0.353471 -0.424534 -0.627105   \n",
       "1  TCGA-FA-A7DS -0.903327 -0.984412 -0.434487 -0.533308 -0.510474 -0.649774   \n",
       "2  TCGA-A2-A4S1 -0.749352 -0.266099 -0.379331  0.198941 -0.155934 -0.530950   \n",
       "3  TCGA-AR-A5QQ  0.292535 -0.049525 -0.475821  0.243683 -0.502936 -0.565909   \n",
       "4  TCGA-E9-A5FL -0.787100  0.226868 -0.429163  0.435614 -0.384482 -0.507950   \n",
       "\n",
       "      VSIG2     INHBB       CLU  ...      DSG2     PGGHG     MYH14     PTPRU  \\\n",
       "0 -0.225790 -0.428333 -0.396251  ... -1.360506 -0.405373 -1.069204 -0.642400   \n",
       "1 -0.417569 -0.591520 -0.415010  ... -1.479773 -0.243668 -1.159843 -1.038820   \n",
       "2 -0.325875 -0.373839 -0.306217  ... -1.429917  0.136463 -1.169063 -0.786902   \n",
       "3 -0.318526 -0.471878 -0.377541  ... -0.485598 -0.440984 -0.992049 -0.228702   \n",
       "4  0.562074 -0.480450 -0.251577  ... -0.915629  1.068320 -0.543074 -0.115328   \n",
       "\n",
       "    CEP170B     TRPM4      AGRN     LAMA5   SLC17A9    SMIM24  \n",
       "0 -0.293741 -0.317442  1.454789 -0.886521  2.645691  0.438836  \n",
       "1 -1.792239  2.025728 -1.518411 -0.801080  4.244228 -0.274578  \n",
       "2 -0.390244 -0.130008  0.732697 -0.683839  0.121208 -0.107634  \n",
       "3 -0.046550 -1.026940  1.468554 -0.556163 -0.100514 -0.221282  \n",
       "4  0.107458 -0.455221  0.150628  0.788012 -0.333208  1.210650  \n",
       "\n",
       "[5 rows x 1001 columns]"
      ]
     },
     "execution_count": 170,
     "metadata": {},
     "output_type": "execute_result"
    }
   ],
   "source": [
    "gene.head()"
   ]
  },
  {
   "cell_type": "code",
   "execution_count": 171,
   "id": "bab12373-5843-4f4d-9817-3b165743c0c3",
   "metadata": {},
   "outputs": [
    {
     "data": {
      "text/plain": [
       "(1000, 1001)"
      ]
     },
     "execution_count": 171,
     "metadata": {},
     "output_type": "execute_result"
    }
   ],
   "source": [
    "gene.shape"
   ]
  },
  {
   "cell_type": "code",
   "execution_count": 172,
   "id": "6ffd19ba-c57f-4eed-9de4-1db49fa338c7",
   "metadata": {},
   "outputs": [
    {
     "data": {
      "text/plain": [
       "Case        object\n",
       "ANO1       float64\n",
       "CTTN       float64\n",
       "GAB2       float64\n",
       "TSKU       float64\n",
       "            ...   \n",
       "TRPM4      float64\n",
       "AGRN       float64\n",
       "LAMA5      float64\n",
       "SLC17A9    float64\n",
       "SMIM24     float64\n",
       "Length: 1001, dtype: object"
      ]
     },
     "execution_count": 172,
     "metadata": {},
     "output_type": "execute_result"
    }
   ],
   "source": [
    "gene.dtypes"
   ]
  },
  {
   "cell_type": "markdown",
   "id": "b9f559b0-426a-410b-add6-fe613d984899",
   "metadata": {},
   "source": [
    "Determine if any values are Null. There are no null values and there are no duplicate samples. "
   ]
  },
  {
   "cell_type": "code",
   "execution_count": 174,
   "id": "5dadf803-37b2-4a7d-9049-a66b0953d145",
   "metadata": {},
   "outputs": [
    {
     "data": {
      "text/plain": [
       "False    1001\n",
       "Name: count, dtype: int64"
      ]
     },
     "execution_count": 174,
     "metadata": {},
     "output_type": "execute_result"
    }
   ],
   "source": [
    "gene.isnull().any().value_counts()"
   ]
  },
  {
   "cell_type": "code",
   "execution_count": 175,
   "id": "ed3d3a0a-280e-4b0e-8ac0-d597fbabf688",
   "metadata": {},
   "outputs": [
    {
     "data": {
      "text/plain": [
       "0"
      ]
     },
     "execution_count": 175,
     "metadata": {},
     "output_type": "execute_result"
    }
   ],
   "source": [
    "gene['Case'].duplicated().sum()"
   ]
  },
  {
   "cell_type": "markdown",
   "id": "27c82bdc-7c89-4d00-9a3b-d8fa1362f2d7",
   "metadata": {},
   "source": [
    "## Basic clinical data exploration"
   ]
  },
  {
   "cell_type": "markdown",
   "id": "2cf54464-676e-4346-b0af-2597f5e2fad4",
   "metadata": {},
   "source": [
    "clinical.head()"
   ]
  },
  {
   "cell_type": "code",
   "execution_count": 178,
   "id": "250c8557-59f2-4916-bfc9-bebc7c6739eb",
   "metadata": {},
   "outputs": [
    {
     "data": {
      "text/plain": [
       "Index(['case_id', 'case_submitter_id', 'project_id', 'age_at_index',\n",
       "       'age_is_obfuscated', 'cause_of_death', 'cause_of_death_source',\n",
       "       'country_of_birth', 'country_of_residence_at_enrollment',\n",
       "       'days_to_birth',\n",
       "       ...\n",
       "       'treatment_dose_units', 'treatment_duration', 'treatment_effect',\n",
       "       'treatment_effect_indicator', 'treatment_frequency',\n",
       "       'treatment_intent_type', 'treatment_or_therapy', 'treatment_outcome',\n",
       "       'treatment_outcome_duration', 'treatment_type'],\n",
       "      dtype='object', length=219)"
      ]
     },
     "execution_count": 178,
     "metadata": {},
     "output_type": "execute_result"
    }
   ],
   "source": [
    "clinical.columns"
   ]
  },
  {
   "cell_type": "code",
   "execution_count": 179,
   "id": "384f3028-6231-4b82-9c4a-23193073663e",
   "metadata": {},
   "outputs": [
    {
     "data": {
      "text/plain": [
       "(5268, 219)"
      ]
     },
     "execution_count": 179,
     "metadata": {},
     "output_type": "execute_result"
    }
   ],
   "source": [
    "clinical.shape"
   ]
  },
  {
   "cell_type": "markdown",
   "id": "b8070ab4-4563-4c1f-a18e-2f7eac71b866",
   "metadata": {},
   "source": [
    "Make sure tissue of origin is breast related. These are the types of tissues currently included. "
   ]
  },
  {
   "cell_type": "code",
   "execution_count": 181,
   "id": "2ae14074-83bc-409e-baba-4d608927e006",
   "metadata": {},
   "outputs": [
    {
     "name": "stdout",
     "output_type": "stream",
     "text": [
      "tissue_or_organ_of_origin\n",
      "Breast, NOS                       5175\n",
      "Not Reported                        72\n",
      "Lower-inner quadrant of breast       6\n",
      "Upper-inner quadrant of breast       4\n",
      "Upper-outer quadrant of breast       4\n",
      "Overlapping lesion of breast         4\n",
      "Lower-outer quadrant of breast       2\n",
      "'--                                  1\n",
      "Name: count, dtype: int64\n"
     ]
    }
   ],
   "source": [
    "# Generate the summary table of what tissue_or_organ_of_origin is\n",
    "summary_table = clinical['tissue_or_organ_of_origin'].value_counts()\n",
    "\n",
    "# Display the summary table\n",
    "print(summary_table)"
   ]
  },
  {
   "cell_type": "markdown",
   "id": "30303c58-fae4-4e0a-8e6f-ea8362155970",
   "metadata": {},
   "source": [
    "Remove rows where tissue or organ of origin are Not Reported or '--"
   ]
  },
  {
   "cell_type": "code",
   "execution_count": 183,
   "id": "bc8acb12-cf90-479a-a882-75b2ed477c9e",
   "metadata": {},
   "outputs": [
    {
     "name": "stdout",
     "output_type": "stream",
     "text": [
      "tissue_or_organ_of_origin\n",
      "Breast, NOS                       5175\n",
      "Lower-inner quadrant of breast       6\n",
      "Upper-inner quadrant of breast       4\n",
      "Upper-outer quadrant of breast       4\n",
      "Overlapping lesion of breast         4\n",
      "Lower-outer quadrant of breast       2\n",
      "Name: count, dtype: int64\n"
     ]
    }
   ],
   "source": [
    "clinicalBreast = clinical[~clinical['tissue_or_organ_of_origin'].isin(['Not Reported', \"'--\"])]\n",
    "\n",
    "# Check the result\n",
    "print(clinicalBreast['tissue_or_organ_of_origin'].value_counts())\n"
   ]
  },
  {
   "cell_type": "code",
   "execution_count": 184,
   "id": "180a9f42-3490-4859-a8f9-86fe5ae7b62f",
   "metadata": {},
   "outputs": [
    {
     "data": {
      "text/html": [
       "<div>\n",
       "<style scoped>\n",
       "    .dataframe tbody tr th:only-of-type {\n",
       "        vertical-align: middle;\n",
       "    }\n",
       "\n",
       "    .dataframe tbody tr th {\n",
       "        vertical-align: top;\n",
       "    }\n",
       "\n",
       "    .dataframe thead th {\n",
       "        text-align: right;\n",
       "    }\n",
       "</style>\n",
       "<table border=\"1\" class=\"dataframe\">\n",
       "  <thead>\n",
       "    <tr style=\"text-align: right;\">\n",
       "      <th></th>\n",
       "      <th>case_id</th>\n",
       "      <th>case_submitter_id</th>\n",
       "      <th>project_id</th>\n",
       "      <th>age_at_index</th>\n",
       "      <th>age_is_obfuscated</th>\n",
       "      <th>cause_of_death</th>\n",
       "      <th>cause_of_death_source</th>\n",
       "      <th>country_of_birth</th>\n",
       "      <th>country_of_residence_at_enrollment</th>\n",
       "      <th>days_to_birth</th>\n",
       "      <th>...</th>\n",
       "      <th>treatment_dose_units</th>\n",
       "      <th>treatment_duration</th>\n",
       "      <th>treatment_effect</th>\n",
       "      <th>treatment_effect_indicator</th>\n",
       "      <th>treatment_frequency</th>\n",
       "      <th>treatment_intent_type</th>\n",
       "      <th>treatment_or_therapy</th>\n",
       "      <th>treatment_outcome</th>\n",
       "      <th>treatment_outcome_duration</th>\n",
       "      <th>treatment_type</th>\n",
       "    </tr>\n",
       "  </thead>\n",
       "  <tbody>\n",
       "    <tr>\n",
       "      <th>0</th>\n",
       "      <td>00016c8f-a0be-4319-9c42-4f3bcd90ac92</td>\n",
       "      <td>AD1602</td>\n",
       "      <td>FM-AD</td>\n",
       "      <td>'--</td>\n",
       "      <td>'--</td>\n",
       "      <td>'--</td>\n",
       "      <td>'--</td>\n",
       "      <td>'--</td>\n",
       "      <td>'--</td>\n",
       "      <td>'--</td>\n",
       "      <td>...</td>\n",
       "      <td>'--</td>\n",
       "      <td>'--</td>\n",
       "      <td>'--</td>\n",
       "      <td>'--</td>\n",
       "      <td>'--</td>\n",
       "      <td>'--</td>\n",
       "      <td>'--</td>\n",
       "      <td>'--</td>\n",
       "      <td>'--</td>\n",
       "      <td>'--</td>\n",
       "    </tr>\n",
       "    <tr>\n",
       "      <th>1</th>\n",
       "      <td>001cef41-ff86-4d3f-a140-a647ac4b10a1</td>\n",
       "      <td>TCGA-E2-A1IU</td>\n",
       "      <td>TCGA-BRCA</td>\n",
       "      <td>60</td>\n",
       "      <td>'--</td>\n",
       "      <td>'--</td>\n",
       "      <td>'--</td>\n",
       "      <td>'--</td>\n",
       "      <td>'--</td>\n",
       "      <td>-22279</td>\n",
       "      <td>...</td>\n",
       "      <td>'--</td>\n",
       "      <td>'--</td>\n",
       "      <td>'--</td>\n",
       "      <td>'--</td>\n",
       "      <td>'--</td>\n",
       "      <td>'--</td>\n",
       "      <td>no</td>\n",
       "      <td>'--</td>\n",
       "      <td>'--</td>\n",
       "      <td>Radiation Therapy, NOS</td>\n",
       "    </tr>\n",
       "    <tr>\n",
       "      <th>2</th>\n",
       "      <td>001cef41-ff86-4d3f-a140-a647ac4b10a1</td>\n",
       "      <td>TCGA-E2-A1IU</td>\n",
       "      <td>TCGA-BRCA</td>\n",
       "      <td>60</td>\n",
       "      <td>'--</td>\n",
       "      <td>'--</td>\n",
       "      <td>'--</td>\n",
       "      <td>'--</td>\n",
       "      <td>'--</td>\n",
       "      <td>-22279</td>\n",
       "      <td>...</td>\n",
       "      <td>'--</td>\n",
       "      <td>'--</td>\n",
       "      <td>'--</td>\n",
       "      <td>'--</td>\n",
       "      <td>'--</td>\n",
       "      <td>'--</td>\n",
       "      <td>yes</td>\n",
       "      <td>'--</td>\n",
       "      <td>'--</td>\n",
       "      <td>Pharmaceutical Therapy, NOS</td>\n",
       "    </tr>\n",
       "    <tr>\n",
       "      <th>3</th>\n",
       "      <td>002cdb51-32c0-40be-b92f-60961f091bdf</td>\n",
       "      <td>AD16494</td>\n",
       "      <td>FM-AD</td>\n",
       "      <td>'--</td>\n",
       "      <td>'--</td>\n",
       "      <td>'--</td>\n",
       "      <td>'--</td>\n",
       "      <td>'--</td>\n",
       "      <td>'--</td>\n",
       "      <td>'--</td>\n",
       "      <td>...</td>\n",
       "      <td>'--</td>\n",
       "      <td>'--</td>\n",
       "      <td>'--</td>\n",
       "      <td>'--</td>\n",
       "      <td>'--</td>\n",
       "      <td>'--</td>\n",
       "      <td>'--</td>\n",
       "      <td>'--</td>\n",
       "      <td>'--</td>\n",
       "      <td>'--</td>\n",
       "    </tr>\n",
       "    <tr>\n",
       "      <th>4</th>\n",
       "      <td>0045349c-69d9-4306-a403-c9c1fa836644</td>\n",
       "      <td>TCGA-A1-A0SB</td>\n",
       "      <td>TCGA-BRCA</td>\n",
       "      <td>70</td>\n",
       "      <td>'--</td>\n",
       "      <td>'--</td>\n",
       "      <td>'--</td>\n",
       "      <td>'--</td>\n",
       "      <td>'--</td>\n",
       "      <td>-25833</td>\n",
       "      <td>...</td>\n",
       "      <td>'--</td>\n",
       "      <td>'--</td>\n",
       "      <td>'--</td>\n",
       "      <td>'--</td>\n",
       "      <td>'--</td>\n",
       "      <td>'--</td>\n",
       "      <td>not reported</td>\n",
       "      <td>'--</td>\n",
       "      <td>'--</td>\n",
       "      <td>Radiation Therapy, NOS</td>\n",
       "    </tr>\n",
       "  </tbody>\n",
       "</table>\n",
       "<p>5 rows × 219 columns</p>\n",
       "</div>"
      ],
      "text/plain": [
       "                                case_id case_submitter_id project_id  \\\n",
       "0  00016c8f-a0be-4319-9c42-4f3bcd90ac92            AD1602      FM-AD   \n",
       "1  001cef41-ff86-4d3f-a140-a647ac4b10a1      TCGA-E2-A1IU  TCGA-BRCA   \n",
       "2  001cef41-ff86-4d3f-a140-a647ac4b10a1      TCGA-E2-A1IU  TCGA-BRCA   \n",
       "3  002cdb51-32c0-40be-b92f-60961f091bdf           AD16494      FM-AD   \n",
       "4  0045349c-69d9-4306-a403-c9c1fa836644      TCGA-A1-A0SB  TCGA-BRCA   \n",
       "\n",
       "  age_at_index age_is_obfuscated cause_of_death cause_of_death_source  \\\n",
       "0          '--               '--            '--                   '--   \n",
       "1           60               '--            '--                   '--   \n",
       "2           60               '--            '--                   '--   \n",
       "3          '--               '--            '--                   '--   \n",
       "4           70               '--            '--                   '--   \n",
       "\n",
       "  country_of_birth country_of_residence_at_enrollment days_to_birth  ...  \\\n",
       "0              '--                                '--           '--  ...   \n",
       "1              '--                                '--        -22279  ...   \n",
       "2              '--                                '--        -22279  ...   \n",
       "3              '--                                '--           '--  ...   \n",
       "4              '--                                '--        -25833  ...   \n",
       "\n",
       "  treatment_dose_units treatment_duration treatment_effect  \\\n",
       "0                  '--                '--              '--   \n",
       "1                  '--                '--              '--   \n",
       "2                  '--                '--              '--   \n",
       "3                  '--                '--              '--   \n",
       "4                  '--                '--              '--   \n",
       "\n",
       "  treatment_effect_indicator treatment_frequency treatment_intent_type  \\\n",
       "0                        '--                 '--                   '--   \n",
       "1                        '--                 '--                   '--   \n",
       "2                        '--                 '--                   '--   \n",
       "3                        '--                 '--                   '--   \n",
       "4                        '--                 '--                   '--   \n",
       "\n",
       "  treatment_or_therapy treatment_outcome treatment_outcome_duration  \\\n",
       "0                  '--               '--                        '--   \n",
       "1                   no               '--                        '--   \n",
       "2                  yes               '--                        '--   \n",
       "3                  '--               '--                        '--   \n",
       "4         not reported               '--                        '--   \n",
       "\n",
       "                treatment_type  \n",
       "0                          '--  \n",
       "1       Radiation Therapy, NOS  \n",
       "2  Pharmaceutical Therapy, NOS  \n",
       "3                          '--  \n",
       "4       Radiation Therapy, NOS  \n",
       "\n",
       "[5 rows x 219 columns]"
      ]
     },
     "execution_count": 184,
     "metadata": {},
     "output_type": "execute_result"
    }
   ],
   "source": [
    "clinicalBreast.head()"
   ]
  },
  {
   "cell_type": "markdown",
   "id": "62b6d18a-5a97-4720-9c39-ec6dcd8cbf9b",
   "metadata": {},
   "source": [
    "Check that 73 invalid rows were removed"
   ]
  },
  {
   "cell_type": "code",
   "execution_count": 186,
   "id": "b5359fa3-d6c0-4e5a-b9bb-41e744709f5e",
   "metadata": {},
   "outputs": [
    {
     "data": {
      "text/plain": [
       "(5195, 219)"
      ]
     },
     "execution_count": 186,
     "metadata": {},
     "output_type": "execute_result"
    }
   ],
   "source": [
    "clinicalBreast.shape"
   ]
  },
  {
   "cell_type": "markdown",
   "id": "f498bbb5-61e2-44f5-a9eb-e3ecf5bfb2a8",
   "metadata": {},
   "source": [
    "Get number of duplicate case_submitter_id numbers. These are patients with multiple rows of data."
   ]
  },
  {
   "cell_type": "code",
   "execution_count": 188,
   "id": "b65eb323-8a64-4fa2-be57-937222c86430",
   "metadata": {},
   "outputs": [
    {
     "data": {
      "text/plain": [
       "1148"
      ]
     },
     "execution_count": 188,
     "metadata": {},
     "output_type": "execute_result"
    }
   ],
   "source": [
    "clinicalBreast['case_submitter_id'].duplicated().sum()"
   ]
  },
  {
   "cell_type": "markdown",
   "id": "baa461df-a4d3-41c1-b363-2ac9368b2266",
   "metadata": {},
   "source": [
    "Get a table of the duplicates"
   ]
  },
  {
   "cell_type": "code",
   "execution_count": 190,
   "id": "b767127a-4b63-4e30-9bdf-6cb04bca14f5",
   "metadata": {},
   "outputs": [],
   "source": [
    "# Identify all rows with duplicates\n",
    "all_duplicates = clinicalBreast[clinicalBreast['case_submitter_id'].duplicated(keep=False)]"
   ]
  },
  {
   "cell_type": "markdown",
   "id": "0600bc4f-8c0e-4af6-af9f-f9de2bb917c7",
   "metadata": {},
   "source": [
    "## Merge gene and clinicalBreast"
   ]
  },
  {
   "cell_type": "code",
   "execution_count": 192,
   "id": "d2703e51-2ec6-4ee4-8daa-1e6fec2b7d01",
   "metadata": {},
   "outputs": [],
   "source": [
    "geneClinical = gene.merge(clinicalBreast, left_on='Case', right_on='case_submitter_id', how='inner')"
   ]
  },
  {
   "cell_type": "code",
   "execution_count": 193,
   "id": "48282861-e8b7-42a9-b798-989c5907cc9f",
   "metadata": {},
   "outputs": [
    {
     "data": {
      "text/plain": [
       "(1854, 1220)"
      ]
     },
     "execution_count": 193,
     "metadata": {},
     "output_type": "execute_result"
    }
   ],
   "source": [
    "geneClinical.shape"
   ]
  },
  {
   "cell_type": "markdown",
   "id": "1e3973a5-a00c-48a3-804c-d713b1eaf9db",
   "metadata": {},
   "source": [
    "Check results for a duplicate case_submitter_id. We want to make sure each case_submitter_id/case always gets the same gene expression data"
   ]
  },
  {
   "cell_type": "code",
   "execution_count": 195,
   "id": "668810c3-5f05-44cc-b87f-7f7b877a1e39",
   "metadata": {},
   "outputs": [
    {
     "data": {
      "text/plain": [
       "855"
      ]
     },
     "execution_count": 195,
     "metadata": {},
     "output_type": "execute_result"
    }
   ],
   "source": [
    "geneClinical['case_submitter_id'].duplicated().sum()"
   ]
  },
  {
   "cell_type": "markdown",
   "id": "65b669ed-a6e5-428c-b161-3aade99007a5",
   "metadata": {},
   "source": [
    "Get a table of the duplicates"
   ]
  },
  {
   "cell_type": "code",
   "execution_count": 197,
   "id": "dda28813-7c51-44d7-b885-05ede3a62d68",
   "metadata": {},
   "outputs": [],
   "source": [
    "# Identify all rows with duplicates\n",
    "all_duplicatesMerge = geneClinical[geneClinical['case_submitter_id'].duplicated(keep=False)]"
   ]
  },
  {
   "cell_type": "code",
   "execution_count": 198,
   "id": "336c9763-462c-43db-b2f9-dbc3c100d81a",
   "metadata": {},
   "outputs": [
    {
     "data": {
      "text/html": [
       "<div>\n",
       "<style scoped>\n",
       "    .dataframe tbody tr th:only-of-type {\n",
       "        vertical-align: middle;\n",
       "    }\n",
       "\n",
       "    .dataframe tbody tr th {\n",
       "        vertical-align: top;\n",
       "    }\n",
       "\n",
       "    .dataframe thead th {\n",
       "        text-align: right;\n",
       "    }\n",
       "</style>\n",
       "<table border=\"1\" class=\"dataframe\">\n",
       "  <thead>\n",
       "    <tr style=\"text-align: right;\">\n",
       "      <th></th>\n",
       "      <th>Case</th>\n",
       "      <th>ANO1</th>\n",
       "      <th>CTTN</th>\n",
       "      <th>GAB2</th>\n",
       "      <th>TSKU</th>\n",
       "      <th>PEG10</th>\n",
       "      <th>TSPAN12</th>\n",
       "      <th>VSIG2</th>\n",
       "      <th>INHBB</th>\n",
       "      <th>CLU</th>\n",
       "      <th>...</th>\n",
       "      <th>treatment_dose_units</th>\n",
       "      <th>treatment_duration</th>\n",
       "      <th>treatment_effect</th>\n",
       "      <th>treatment_effect_indicator</th>\n",
       "      <th>treatment_frequency</th>\n",
       "      <th>treatment_intent_type</th>\n",
       "      <th>treatment_or_therapy</th>\n",
       "      <th>treatment_outcome</th>\n",
       "      <th>treatment_outcome_duration</th>\n",
       "      <th>treatment_type</th>\n",
       "    </tr>\n",
       "  </thead>\n",
       "  <tbody>\n",
       "    <tr>\n",
       "      <th>0</th>\n",
       "      <td>TCGA-AC-A2QJ</td>\n",
       "      <td>-0.850784</td>\n",
       "      <td>-0.067790</td>\n",
       "      <td>-0.373197</td>\n",
       "      <td>0.353471</td>\n",
       "      <td>-0.424534</td>\n",
       "      <td>-0.627105</td>\n",
       "      <td>-0.225790</td>\n",
       "      <td>-0.428333</td>\n",
       "      <td>-0.396251</td>\n",
       "      <td>...</td>\n",
       "      <td>'--</td>\n",
       "      <td>'--</td>\n",
       "      <td>'--</td>\n",
       "      <td>'--</td>\n",
       "      <td>'--</td>\n",
       "      <td>'--</td>\n",
       "      <td>yes</td>\n",
       "      <td>'--</td>\n",
       "      <td>'--</td>\n",
       "      <td>Radiation Therapy, NOS</td>\n",
       "    </tr>\n",
       "    <tr>\n",
       "      <th>1</th>\n",
       "      <td>TCGA-AC-A2QJ</td>\n",
       "      <td>-0.850784</td>\n",
       "      <td>-0.067790</td>\n",
       "      <td>-0.373197</td>\n",
       "      <td>0.353471</td>\n",
       "      <td>-0.424534</td>\n",
       "      <td>-0.627105</td>\n",
       "      <td>-0.225790</td>\n",
       "      <td>-0.428333</td>\n",
       "      <td>-0.396251</td>\n",
       "      <td>...</td>\n",
       "      <td>'--</td>\n",
       "      <td>'--</td>\n",
       "      <td>'--</td>\n",
       "      <td>'--</td>\n",
       "      <td>'--</td>\n",
       "      <td>'--</td>\n",
       "      <td>yes</td>\n",
       "      <td>'--</td>\n",
       "      <td>'--</td>\n",
       "      <td>Pharmaceutical Therapy, NOS</td>\n",
       "    </tr>\n",
       "    <tr>\n",
       "      <th>2</th>\n",
       "      <td>TCGA-FA-A7DS</td>\n",
       "      <td>-0.903327</td>\n",
       "      <td>-0.984412</td>\n",
       "      <td>-0.434487</td>\n",
       "      <td>-0.533308</td>\n",
       "      <td>-0.510474</td>\n",
       "      <td>-0.649774</td>\n",
       "      <td>-0.417569</td>\n",
       "      <td>-0.591520</td>\n",
       "      <td>-0.415010</td>\n",
       "      <td>...</td>\n",
       "      <td>'--</td>\n",
       "      <td>'--</td>\n",
       "      <td>'--</td>\n",
       "      <td>'--</td>\n",
       "      <td>'--</td>\n",
       "      <td>'--</td>\n",
       "      <td>no</td>\n",
       "      <td>'--</td>\n",
       "      <td>'--</td>\n",
       "      <td>Radiation Therapy, NOS</td>\n",
       "    </tr>\n",
       "    <tr>\n",
       "      <th>3</th>\n",
       "      <td>TCGA-FA-A7DS</td>\n",
       "      <td>-0.903327</td>\n",
       "      <td>-0.984412</td>\n",
       "      <td>-0.434487</td>\n",
       "      <td>-0.533308</td>\n",
       "      <td>-0.510474</td>\n",
       "      <td>-0.649774</td>\n",
       "      <td>-0.417569</td>\n",
       "      <td>-0.591520</td>\n",
       "      <td>-0.415010</td>\n",
       "      <td>...</td>\n",
       "      <td>'--</td>\n",
       "      <td>'--</td>\n",
       "      <td>'--</td>\n",
       "      <td>'--</td>\n",
       "      <td>'--</td>\n",
       "      <td>'--</td>\n",
       "      <td>yes</td>\n",
       "      <td>'--</td>\n",
       "      <td>'--</td>\n",
       "      <td>Pharmaceutical Therapy, NOS</td>\n",
       "    </tr>\n",
       "    <tr>\n",
       "      <th>4</th>\n",
       "      <td>TCGA-A2-A4S1</td>\n",
       "      <td>-0.749352</td>\n",
       "      <td>-0.266099</td>\n",
       "      <td>-0.379331</td>\n",
       "      <td>0.198941</td>\n",
       "      <td>-0.155934</td>\n",
       "      <td>-0.530950</td>\n",
       "      <td>-0.325875</td>\n",
       "      <td>-0.373839</td>\n",
       "      <td>-0.306217</td>\n",
       "      <td>...</td>\n",
       "      <td>'--</td>\n",
       "      <td>'--</td>\n",
       "      <td>'--</td>\n",
       "      <td>'--</td>\n",
       "      <td>'--</td>\n",
       "      <td>'--</td>\n",
       "      <td>yes</td>\n",
       "      <td>'--</td>\n",
       "      <td>'--</td>\n",
       "      <td>Radiation Therapy, NOS</td>\n",
       "    </tr>\n",
       "  </tbody>\n",
       "</table>\n",
       "<p>5 rows × 1220 columns</p>\n",
       "</div>"
      ],
      "text/plain": [
       "           Case      ANO1      CTTN      GAB2      TSKU     PEG10   TSPAN12  \\\n",
       "0  TCGA-AC-A2QJ -0.850784 -0.067790 -0.373197  0.353471 -0.424534 -0.627105   \n",
       "1  TCGA-AC-A2QJ -0.850784 -0.067790 -0.373197  0.353471 -0.424534 -0.627105   \n",
       "2  TCGA-FA-A7DS -0.903327 -0.984412 -0.434487 -0.533308 -0.510474 -0.649774   \n",
       "3  TCGA-FA-A7DS -0.903327 -0.984412 -0.434487 -0.533308 -0.510474 -0.649774   \n",
       "4  TCGA-A2-A4S1 -0.749352 -0.266099 -0.379331  0.198941 -0.155934 -0.530950   \n",
       "\n",
       "      VSIG2     INHBB       CLU  ...  treatment_dose_units  \\\n",
       "0 -0.225790 -0.428333 -0.396251  ...                   '--   \n",
       "1 -0.225790 -0.428333 -0.396251  ...                   '--   \n",
       "2 -0.417569 -0.591520 -0.415010  ...                   '--   \n",
       "3 -0.417569 -0.591520 -0.415010  ...                   '--   \n",
       "4 -0.325875 -0.373839 -0.306217  ...                   '--   \n",
       "\n",
       "   treatment_duration  treatment_effect  treatment_effect_indicator  \\\n",
       "0                 '--               '--                         '--   \n",
       "1                 '--               '--                         '--   \n",
       "2                 '--               '--                         '--   \n",
       "3                 '--               '--                         '--   \n",
       "4                 '--               '--                         '--   \n",
       "\n",
       "   treatment_frequency  treatment_intent_type  treatment_or_therapy  \\\n",
       "0                  '--                    '--                   yes   \n",
       "1                  '--                    '--                   yes   \n",
       "2                  '--                    '--                    no   \n",
       "3                  '--                    '--                   yes   \n",
       "4                  '--                    '--                   yes   \n",
       "\n",
       "   treatment_outcome  treatment_outcome_duration               treatment_type  \n",
       "0                '--                         '--       Radiation Therapy, NOS  \n",
       "1                '--                         '--  Pharmaceutical Therapy, NOS  \n",
       "2                '--                         '--       Radiation Therapy, NOS  \n",
       "3                '--                         '--  Pharmaceutical Therapy, NOS  \n",
       "4                '--                         '--       Radiation Therapy, NOS  \n",
       "\n",
       "[5 rows x 1220 columns]"
      ]
     },
     "execution_count": 198,
     "metadata": {},
     "output_type": "execute_result"
    }
   ],
   "source": [
    "all_duplicatesMerge.head()"
   ]
  },
  {
   "cell_type": "markdown",
   "id": "66fd243b-7615-475b-a5be-a548b8d9e47a",
   "metadata": {},
   "source": [
    "If I drop clinical columns, then drop duplicates. Do I get a table 1000 rows long?"
   ]
  },
  {
   "cell_type": "code",
   "execution_count": 200,
   "id": "40724d71-1a9b-4dff-8835-f8e9a9543ef9",
   "metadata": {},
   "outputs": [
    {
     "data": {
      "text/plain": [
       "(1854, 1001)"
      ]
     },
     "execution_count": 200,
     "metadata": {},
     "output_type": "execute_result"
    }
   ],
   "source": [
    "short = geneClinical.iloc[:, 0:1001]\n",
    "short.shape"
   ]
  },
  {
   "cell_type": "code",
   "execution_count": 201,
   "id": "8680237a-900b-494c-b768-0c32e5fc8baf",
   "metadata": {},
   "outputs": [
    {
     "data": {
      "text/plain": [
       "Index(['Case', 'ANO1', 'CTTN', 'GAB2', 'TSKU', 'PEG10', 'TSPAN12', 'VSIG2',\n",
       "       'INHBB', 'CLU',\n",
       "       ...\n",
       "       'DSG2', 'PGGHG', 'MYH14', 'PTPRU', 'CEP170B', 'TRPM4', 'AGRN', 'LAMA5',\n",
       "       'SLC17A9', 'SMIM24'],\n",
       "      dtype='object', length=1001)"
      ]
     },
     "execution_count": 201,
     "metadata": {},
     "output_type": "execute_result"
    }
   ],
   "source": [
    "short.columns"
   ]
  },
  {
   "cell_type": "code",
   "execution_count": 202,
   "id": "24b21bf7-ee86-4b1c-841e-1ea90b4e57d1",
   "metadata": {},
   "outputs": [
    {
     "data": {
      "text/plain": [
       "(999, 1001)"
      ]
     },
     "execution_count": 202,
     "metadata": {},
     "output_type": "execute_result"
    }
   ],
   "source": [
    "shortNoDup = short.drop_duplicates()\n",
    "shortNoDup.shape"
   ]
  },
  {
   "cell_type": "markdown",
   "id": "cffa16ea-f556-494a-a9f4-972dc6b7769d",
   "metadata": {},
   "source": [
    "I have less than the 1000 samples I started with. Check what happened to one sample. "
   ]
  },
  {
   "cell_type": "code",
   "execution_count": 204,
   "id": "65b52d9d-e438-46be-a0a8-19d71c1aa1c3",
   "metadata": {},
   "outputs": [
    {
     "name": "stdout",
     "output_type": "stream",
     "text": [
      "Index([697], dtype='int64')\n"
     ]
    }
   ],
   "source": [
    "# Get indices where 'Case' in 'gene' is not in 'shortNoDup'\n",
    "indices_not_in_shortNoDup = gene[~gene['Case'].isin(shortNoDup['Case'])].index\n",
    "\n",
    "# Print the result\n",
    "print(indices_not_in_shortNoDup)\n"
   ]
  },
  {
   "cell_type": "code",
   "execution_count": 205,
   "id": "64f8f8e3-12c7-411a-9f98-a6f8855a081e",
   "metadata": {},
   "outputs": [
    {
     "data": {
      "text/html": [
       "<div>\n",
       "<style scoped>\n",
       "    .dataframe tbody tr th:only-of-type {\n",
       "        vertical-align: middle;\n",
       "    }\n",
       "\n",
       "    .dataframe tbody tr th {\n",
       "        vertical-align: top;\n",
       "    }\n",
       "\n",
       "    .dataframe thead th {\n",
       "        text-align: right;\n",
       "    }\n",
       "</style>\n",
       "<table border=\"1\" class=\"dataframe\">\n",
       "  <thead>\n",
       "    <tr style=\"text-align: right;\">\n",
       "      <th></th>\n",
       "      <th>Case</th>\n",
       "      <th>ANO1</th>\n",
       "      <th>CTTN</th>\n",
       "      <th>GAB2</th>\n",
       "      <th>TSKU</th>\n",
       "      <th>PEG10</th>\n",
       "      <th>TSPAN12</th>\n",
       "      <th>VSIG2</th>\n",
       "      <th>INHBB</th>\n",
       "      <th>CLU</th>\n",
       "      <th>...</th>\n",
       "      <th>DSG2</th>\n",
       "      <th>PGGHG</th>\n",
       "      <th>MYH14</th>\n",
       "      <th>PTPRU</th>\n",
       "      <th>CEP170B</th>\n",
       "      <th>TRPM4</th>\n",
       "      <th>AGRN</th>\n",
       "      <th>LAMA5</th>\n",
       "      <th>SLC17A9</th>\n",
       "      <th>SMIM24</th>\n",
       "    </tr>\n",
       "  </thead>\n",
       "  <tbody>\n",
       "    <tr>\n",
       "      <th>697</th>\n",
       "      <td>TCGA-BH-A0B2</td>\n",
       "      <td>-0.335215</td>\n",
       "      <td>-0.533468</td>\n",
       "      <td>-0.303364</td>\n",
       "      <td>-0.265946</td>\n",
       "      <td>-0.48188</td>\n",
       "      <td>-0.443199</td>\n",
       "      <td>-0.26824</td>\n",
       "      <td>-0.563447</td>\n",
       "      <td>-0.012233</td>\n",
       "      <td>...</td>\n",
       "      <td>-0.189918</td>\n",
       "      <td>-0.225109</td>\n",
       "      <td>-0.636121</td>\n",
       "      <td>-0.661413</td>\n",
       "      <td>0.303512</td>\n",
       "      <td>-0.515584</td>\n",
       "      <td>0.059583</td>\n",
       "      <td>-0.343663</td>\n",
       "      <td>-0.444788</td>\n",
       "      <td>0.077625</td>\n",
       "    </tr>\n",
       "  </tbody>\n",
       "</table>\n",
       "<p>1 rows × 1001 columns</p>\n",
       "</div>"
      ],
      "text/plain": [
       "             Case      ANO1      CTTN      GAB2      TSKU    PEG10   TSPAN12  \\\n",
       "697  TCGA-BH-A0B2 -0.335215 -0.533468 -0.303364 -0.265946 -0.48188 -0.443199   \n",
       "\n",
       "       VSIG2     INHBB       CLU  ...      DSG2     PGGHG     MYH14     PTPRU  \\\n",
       "697 -0.26824 -0.563447 -0.012233  ... -0.189918 -0.225109 -0.636121 -0.661413   \n",
       "\n",
       "      CEP170B     TRPM4      AGRN     LAMA5   SLC17A9    SMIM24  \n",
       "697  0.303512 -0.515584  0.059583 -0.343663 -0.444788  0.077625  \n",
       "\n",
       "[1 rows x 1001 columns]"
      ]
     },
     "execution_count": 205,
     "metadata": {},
     "output_type": "execute_result"
    }
   ],
   "source": [
    "# print rows that do not have a case in the merged dataset\n",
    "gene.iloc[indices_not_in_shortNoDup, :]"
   ]
  },
  {
   "cell_type": "code",
   "execution_count": 206,
   "id": "60429d41-65bb-4954-a45c-23387f62e8bf",
   "metadata": {},
   "outputs": [
    {
     "data": {
      "text/html": [
       "<div>\n",
       "<style scoped>\n",
       "    .dataframe tbody tr th:only-of-type {\n",
       "        vertical-align: middle;\n",
       "    }\n",
       "\n",
       "    .dataframe tbody tr th {\n",
       "        vertical-align: top;\n",
       "    }\n",
       "\n",
       "    .dataframe thead th {\n",
       "        text-align: right;\n",
       "    }\n",
       "</style>\n",
       "<table border=\"1\" class=\"dataframe\">\n",
       "  <thead>\n",
       "    <tr style=\"text-align: right;\">\n",
       "      <th></th>\n",
       "      <th>Case</th>\n",
       "      <th>ANO1</th>\n",
       "      <th>CTTN</th>\n",
       "      <th>GAB2</th>\n",
       "      <th>TSKU</th>\n",
       "      <th>PEG10</th>\n",
       "      <th>TSPAN12</th>\n",
       "      <th>VSIG2</th>\n",
       "      <th>INHBB</th>\n",
       "      <th>CLU</th>\n",
       "      <th>...</th>\n",
       "      <th>DSG2</th>\n",
       "      <th>PGGHG</th>\n",
       "      <th>MYH14</th>\n",
       "      <th>PTPRU</th>\n",
       "      <th>CEP170B</th>\n",
       "      <th>TRPM4</th>\n",
       "      <th>AGRN</th>\n",
       "      <th>LAMA5</th>\n",
       "      <th>SLC17A9</th>\n",
       "      <th>SMIM24</th>\n",
       "    </tr>\n",
       "  </thead>\n",
       "  <tbody>\n",
       "    <tr>\n",
       "      <th>697</th>\n",
       "      <td>TCGA-BH-A0B2</td>\n",
       "      <td>-0.335215</td>\n",
       "      <td>-0.533468</td>\n",
       "      <td>-0.303364</td>\n",
       "      <td>-0.265946</td>\n",
       "      <td>-0.48188</td>\n",
       "      <td>-0.443199</td>\n",
       "      <td>-0.26824</td>\n",
       "      <td>-0.563447</td>\n",
       "      <td>-0.012233</td>\n",
       "      <td>...</td>\n",
       "      <td>-0.189918</td>\n",
       "      <td>-0.225109</td>\n",
       "      <td>-0.636121</td>\n",
       "      <td>-0.661413</td>\n",
       "      <td>0.303512</td>\n",
       "      <td>-0.515584</td>\n",
       "      <td>0.059583</td>\n",
       "      <td>-0.343663</td>\n",
       "      <td>-0.444788</td>\n",
       "      <td>0.077625</td>\n",
       "    </tr>\n",
       "  </tbody>\n",
       "</table>\n",
       "<p>1 rows × 1001 columns</p>\n",
       "</div>"
      ],
      "text/plain": [
       "             Case      ANO1      CTTN      GAB2      TSKU    PEG10   TSPAN12  \\\n",
       "697  TCGA-BH-A0B2 -0.335215 -0.533468 -0.303364 -0.265946 -0.48188 -0.443199   \n",
       "\n",
       "       VSIG2     INHBB       CLU  ...      DSG2     PGGHG     MYH14     PTPRU  \\\n",
       "697 -0.26824 -0.563447 -0.012233  ... -0.189918 -0.225109 -0.636121 -0.661413   \n",
       "\n",
       "      CEP170B     TRPM4      AGRN     LAMA5   SLC17A9    SMIM24  \n",
       "697  0.303512 -0.515584  0.059583 -0.343663 -0.444788  0.077625  \n",
       "\n",
       "[1 rows x 1001 columns]"
      ]
     },
     "execution_count": 206,
     "metadata": {},
     "output_type": "execute_result"
    }
   ],
   "source": [
    "gene[gene['Case'] == 'TCGA-BH-A0B2']"
   ]
  },
  {
   "cell_type": "code",
   "execution_count": 207,
   "id": "9c8aa8dc-c1a0-4e9c-9c4d-4164ee4b839f",
   "metadata": {},
   "outputs": [
    {
     "data": {
      "text/html": [
       "<div>\n",
       "<style scoped>\n",
       "    .dataframe tbody tr th:only-of-type {\n",
       "        vertical-align: middle;\n",
       "    }\n",
       "\n",
       "    .dataframe tbody tr th {\n",
       "        vertical-align: top;\n",
       "    }\n",
       "\n",
       "    .dataframe thead th {\n",
       "        text-align: right;\n",
       "    }\n",
       "</style>\n",
       "<table border=\"1\" class=\"dataframe\">\n",
       "  <thead>\n",
       "    <tr style=\"text-align: right;\">\n",
       "      <th></th>\n",
       "      <th>case_id</th>\n",
       "      <th>case_submitter_id</th>\n",
       "      <th>project_id</th>\n",
       "      <th>age_at_index</th>\n",
       "      <th>age_is_obfuscated</th>\n",
       "      <th>cause_of_death</th>\n",
       "      <th>cause_of_death_source</th>\n",
       "      <th>country_of_birth</th>\n",
       "      <th>country_of_residence_at_enrollment</th>\n",
       "      <th>days_to_birth</th>\n",
       "      <th>...</th>\n",
       "      <th>treatment_dose_units</th>\n",
       "      <th>treatment_duration</th>\n",
       "      <th>treatment_effect</th>\n",
       "      <th>treatment_effect_indicator</th>\n",
       "      <th>treatment_frequency</th>\n",
       "      <th>treatment_intent_type</th>\n",
       "      <th>treatment_or_therapy</th>\n",
       "      <th>treatment_outcome</th>\n",
       "      <th>treatment_outcome_duration</th>\n",
       "      <th>treatment_type</th>\n",
       "    </tr>\n",
       "  </thead>\n",
       "  <tbody>\n",
       "  </tbody>\n",
       "</table>\n",
       "<p>0 rows × 219 columns</p>\n",
       "</div>"
      ],
      "text/plain": [
       "Empty DataFrame\n",
       "Columns: [case_id, case_submitter_id, project_id, age_at_index, age_is_obfuscated, cause_of_death, cause_of_death_source, country_of_birth, country_of_residence_at_enrollment, days_to_birth, days_to_death, education_level, ethnicity, gender, marital_status, occupation_duration_years, population_group, premature_at_birth, race, vital_status, weeks_gestation_at_birth, year_of_birth, year_of_death, adrenal_hormone, age_at_diagnosis, ajcc_clinical_m, ajcc_clinical_n, ajcc_clinical_stage, ajcc_clinical_t, ajcc_pathologic_m, ajcc_pathologic_n, ajcc_pathologic_stage, ajcc_pathologic_t, ajcc_serum_tumor_markers, ajcc_staging_system_edition, ann_arbor_b_symptoms, ann_arbor_b_symptoms_described, ann_arbor_clinical_stage, ann_arbor_extranodal_involvement, ann_arbor_pathologic_stage, best_overall_response, burkitt_lymphoma_clinical_variant, calgb_risk_group, cancer_detection_method, child_pugh_classification, clark_level, classification_of_tumor, cog_liver_stage, cog_neuroblastoma_risk_group, cog_renal_stage, cog_rhabdomyosarcoma_risk_group, contiguous_organ_invaded, days_to_best_overall_response, days_to_diagnosis, days_to_last_follow_up, days_to_last_known_disease_status, days_to_recurrence, diagnosis_is_primary_disease, double_expressor_lymphoma, double_hit_lymphoma, eln_risk_classification, enneking_msts_grade, enneking_msts_metastasis, enneking_msts_stage, enneking_msts_tumor_site, ensat_clinical_m, ensat_pathologic_n, ensat_pathologic_stage, ensat_pathologic_t, esophageal_columnar_dysplasia_degree, esophageal_columnar_metaplasia_present, fab_morphology_code, figo_stage, figo_staging_edition_year, first_symptom_longest_duration, first_symptom_prior_to_diagnosis, gastric_esophageal_junction_involvement, gleason_grade_group, gleason_grade_tertiary, gleason_patterns_percent, gleason_score, goblet_cells_columnar_mucosa_present, icd_10_code, igcccg_stage, inpc_grade, inpc_histologic_group, inrg_stage, inss_stage, international_prognostic_index, irs_group, irs_stage, ishak_fibrosis_score, iss_stage, last_known_disease_status, laterality, margin_distance, margins_involved_site, masaoka_stage, max_tumor_bulk_site, medulloblastoma_molecular_classification, ...]\n",
       "Index: []\n",
       "\n",
       "[0 rows x 219 columns]"
      ]
     },
     "execution_count": 207,
     "metadata": {},
     "output_type": "execute_result"
    }
   ],
   "source": [
    "clinicalBreast[clinicalBreast['case_submitter_id'] == 'TCGA-BH-A0B2']"
   ]
  },
  {
   "cell_type": "code",
   "execution_count": 208,
   "id": "120c9af1-d989-4b35-a9c5-3f310cd86cbd",
   "metadata": {},
   "outputs": [
    {
     "data": {
      "text/html": [
       "<div>\n",
       "<style scoped>\n",
       "    .dataframe tbody tr th:only-of-type {\n",
       "        vertical-align: middle;\n",
       "    }\n",
       "\n",
       "    .dataframe tbody tr th {\n",
       "        vertical-align: top;\n",
       "    }\n",
       "\n",
       "    .dataframe thead th {\n",
       "        text-align: right;\n",
       "    }\n",
       "</style>\n",
       "<table border=\"1\" class=\"dataframe\">\n",
       "  <thead>\n",
       "    <tr style=\"text-align: right;\">\n",
       "      <th></th>\n",
       "      <th>case_id</th>\n",
       "      <th>case_submitter_id</th>\n",
       "      <th>project_id</th>\n",
       "      <th>age_at_index</th>\n",
       "      <th>age_is_obfuscated</th>\n",
       "      <th>cause_of_death</th>\n",
       "      <th>cause_of_death_source</th>\n",
       "      <th>country_of_birth</th>\n",
       "      <th>country_of_residence_at_enrollment</th>\n",
       "      <th>days_to_birth</th>\n",
       "      <th>...</th>\n",
       "      <th>treatment_dose_units</th>\n",
       "      <th>treatment_duration</th>\n",
       "      <th>treatment_effect</th>\n",
       "      <th>treatment_effect_indicator</th>\n",
       "      <th>treatment_frequency</th>\n",
       "      <th>treatment_intent_type</th>\n",
       "      <th>treatment_or_therapy</th>\n",
       "      <th>treatment_outcome</th>\n",
       "      <th>treatment_outcome_duration</th>\n",
       "      <th>treatment_type</th>\n",
       "    </tr>\n",
       "  </thead>\n",
       "  <tbody>\n",
       "    <tr>\n",
       "      <th>1810</th>\n",
       "      <td>57a1604c-60b7-4b30-a75e-f70939532c5c</td>\n",
       "      <td>TCGA-BH-A0B2</td>\n",
       "      <td>TCGA-BRCA</td>\n",
       "      <td>'--</td>\n",
       "      <td>'--</td>\n",
       "      <td>'--</td>\n",
       "      <td>'--</td>\n",
       "      <td>'--</td>\n",
       "      <td>'--</td>\n",
       "      <td>'--</td>\n",
       "      <td>...</td>\n",
       "      <td>'--</td>\n",
       "      <td>'--</td>\n",
       "      <td>'--</td>\n",
       "      <td>'--</td>\n",
       "      <td>'--</td>\n",
       "      <td>'--</td>\n",
       "      <td>'--</td>\n",
       "      <td>'--</td>\n",
       "      <td>'--</td>\n",
       "      <td>'--</td>\n",
       "    </tr>\n",
       "  </tbody>\n",
       "</table>\n",
       "<p>1 rows × 219 columns</p>\n",
       "</div>"
      ],
      "text/plain": [
       "                                   case_id case_submitter_id project_id  \\\n",
       "1810  57a1604c-60b7-4b30-a75e-f70939532c5c      TCGA-BH-A0B2  TCGA-BRCA   \n",
       "\n",
       "     age_at_index age_is_obfuscated cause_of_death cause_of_death_source  \\\n",
       "1810          '--               '--            '--                   '--   \n",
       "\n",
       "     country_of_birth country_of_residence_at_enrollment days_to_birth  ...  \\\n",
       "1810              '--                                '--           '--  ...   \n",
       "\n",
       "     treatment_dose_units treatment_duration treatment_effect  \\\n",
       "1810                  '--                '--              '--   \n",
       "\n",
       "     treatment_effect_indicator treatment_frequency treatment_intent_type  \\\n",
       "1810                        '--                 '--                   '--   \n",
       "\n",
       "     treatment_or_therapy treatment_outcome treatment_outcome_duration  \\\n",
       "1810                  '--               '--                        '--   \n",
       "\n",
       "     treatment_type  \n",
       "1810            '--  \n",
       "\n",
       "[1 rows x 219 columns]"
      ]
     },
     "execution_count": 208,
     "metadata": {},
     "output_type": "execute_result"
    }
   ],
   "source": [
    "clinical[clinical['case_submitter_id'] == 'TCGA-BH-A0B2']"
   ]
  },
  {
   "cell_type": "markdown",
   "id": "904aadb1-417d-4bcf-b134-90b424a7aafe",
   "metadata": {},
   "source": [
    "## Explore the merged data"
   ]
  },
  {
   "cell_type": "code",
   "execution_count": 210,
   "id": "aba937ae-cd27-4ec5-988f-800cd45d81b0",
   "metadata": {},
   "outputs": [],
   "source": [
    "geneClinical2 = geneClinical.replace(\"'--\", np.NaN)"
   ]
  },
  {
   "cell_type": "code",
   "execution_count": 211,
   "id": "fd4c172a-4584-4a6c-b456-07ba27603013",
   "metadata": {},
   "outputs": [],
   "source": [
    "# Report the number of nulls per column\n",
    "null_counts = geneClinical2.isnull().sum()\n"
   ]
  },
  {
   "cell_type": "code",
   "execution_count": 212,
   "id": "69c62bc8-43bc-4ceb-b24a-da449930532d",
   "metadata": {},
   "outputs": [
    {
     "name": "stdout",
     "output_type": "stream",
     "text": [
      "Columns removed: {'clark_level', 'tumor_stage', 'iss_stage', 'breslow_thickness', 'treatment_dose', 'metastasis_at_diagnosis_site', 'double_expressor_lymphoma', 'clinical_trial_indicator', 'route_of_administration', 'melanoma_known_primary', 'therapeutic_level_achieved', 'gleason_grade_tertiary', 'ann_arbor_clinical_stage', 'lymph_node_involved_site', 'secondary_gleason_grade', 'regimen_or_line_of_therapy', 'margin_distance', 'uicc_pathologic_stage', 'lymphatic_invasion_present', 'ajcc_clinical_stage', 'anaplasia_present_type', 'premature_at_birth', 'uicc_pathologic_m', 'tumor_of_origin', 'mitotic_count', 'pretreatment', 'prescribed_dose_units', 'uicc_pathologic_n', 'therapeutic_agents', 'inrg_stage', 'treatment_effect', 'enneking_msts_tumor_site', 'treatment_duration', 'treatment_outcome', 'eln_risk_classification', 'treatment_anatomic_sites', 'international_prognostic_index', 'therapeutic_target_level', 'best_overall_response', 'number_of_fractions', 'percent_tumor_invasion', 'medulloblastoma_molecular_classification', 'ensat_pathologic_n', 'satellite_nodule_present', 'supratentorial_localization', 'treatment_frequency', 'occupation_duration_years', 'gleason_patterns_percent', 'primary_gleason_grade', 'margins_involved_site', 'pregnant_at_diagnosis', 'metastasis_at_diagnosis', 'child_pugh_classification', 'masaoka_stage', 'non_nodal_tumor_deposits', 'age_is_obfuscated', 'lymph_nodes_positive', 'residual_disease', 'chemo_concurrent_to_radiation', 'vascular_invasion_type', 'calgb_risk_group', 'uicc_clinical_t', 'micropapillary_features', 'uicc_pathologic_t', 'country_of_birth', 'cog_liver_stage', 'method_of_diagnosis', 'timepoint_category', 'cog_rhabdomyosarcoma_risk_group', 'peritoneal_fluid_cytological_status', 'non_nodal_regional_disease', 'education_level', 'enneking_msts_stage', 'ensat_pathologic_stage', 'diagnosis_is_primary_disease', 'weiss_assessment_findings', 'ajcc_clinical_t', 'margin_distance.1', 'tumor_burden', 'course_number', 'margin_status', 'tumor_regression_grade', 'ajcc_clinical_m', 'largest_extrapelvic_peritoneal_focus', 'cause_of_death', 'days_to_recurrence', 'embolic_agent', 'tumor_confined_to_organ_of_origin', 'residual_disease.1', 'gross_tumor_weight', 'who_nte_grade', 'tumor_largest_dimension_diameter', 'prescribed_dose', 'enneking_msts_grade', 'ann_arbor_b_symptoms', 'days_to_treatment_start', 'max_tumor_bulk_site', 'margins_involved_site.1', 'gastric_esophageal_junction_involvement', 'reason_treatment_not_given', 'irs_stage', 'uicc_staging_system_edition', 'ensat_pathologic_t', 'figo_stage', 'ajcc_clinical_n', 'laterality', 'greatest_tumor_dimension', 'drug_category', 'uicc_clinical_stage', 'first_symptom_prior_to_diagnosis', 'peripancreatic_lymph_nodes_tested', 'mitosis_karyorrhexis_index', 'weeks_gestation_at_birth', 'vascular_invasion_present', 'ulceration_indicator', 'goblet_cells_columnar_mucosa_present', 'uicc_clinical_n', 'esophageal_columnar_metaplasia_present', 'sites_of_involvement_count', 'weiss_assessment_score', 'treatment_dose_max', 'figo_staging_edition_year', 'primary_disease', 'marital_status', 'treatment_intent_type', 'cog_renal_stage', 'days_to_last_known_disease_status', 'fab_morphology_code', 'esophageal_columnar_dysplasia_degree', 'who_cns_grade', 'lymph_nodes_tested', 'sites_of_involvement', 'protocol_identifier', 'inss_stage', 'pediatric_kidney_staging', 'ann_arbor_pathologic_stage', 'wilms_tumor_histologic_subtype', 'cog_neuroblastoma_risk_group', 'ensat_clinical_m', 'enneking_msts_metastasis', 'treatment_outcome_duration', 'gleason_grade_group', 'ann_arbor_extranodal_involvement', 'papillary_renal_cell_type', 'tumor_focality', 'treatment_arm', 'lesions_treated_number', 'radiosensitizing_agent', 'ovarian_surface_involvement', 'cause_of_death_source', 'ishak_fibrosis_score', 'uicc_clinical_m', 'ovarian_specimen_status', 'circumferential_resection_margin', 'transglottic_extension', 'tumor_depth', 'reason_treatment_ended', 'inpc_histologic_group', 'ann_arbor_b_symptoms_described', 'number_of_cycles', 'gleason_score', 'treatment_effect_indicator', 'days_to_best_overall_response', 'double_hit_lymphoma', 'igcccg_stage', 'treatment_dose_units', 'tumor_grade_category', 'contiguous_organ_invaded', 'days_to_treatment_end', 'burkitt_lymphoma_clinical_variant', 'therapeutic_levels_achieved', 'ajcc_serum_tumor_markers', 'country_of_residence_at_enrollment', 'inpc_grade', 'perineural_invasion_present', 'cancer_detection_method', 'peripancreatic_lymph_nodes_positive', 'initial_disease_status', 'treatment_anatomic_site', 'population_group', 'anaplasia_present', 'first_symptom_longest_duration', 'adrenal_hormone', 'irs_group'}\n",
      "Filtered DataFrame shape: (1854, 1036)\n"
     ]
    }
   ],
   "source": [
    "# Filter columns where the number of nulls is <= 1300\n",
    "columns_to_keep = null_counts[null_counts <= 1800].index\n",
    "\n",
    "# Select only the columns to keep\n",
    "filtered_geneClinical = geneClinical2[columns_to_keep]\n",
    "\n",
    "print(f\"Columns removed: {set(geneClinical2.columns) - set(filtered_geneClinical.columns)}\")\n",
    "print(f\"Filtered DataFrame shape: {filtered_geneClinical.shape}\")\n"
   ]
  },
  {
   "cell_type": "markdown",
   "id": "e9cd9e69-8e5e-46cc-9fe2-3652f4509bda",
   "metadata": {},
   "source": [
    "There are 1854 rows. When we removed columns that had >1800 nulls then we removed 184 columns. Now checking if there are other columns that have a high percentage of nulls"
   ]
  },
  {
   "cell_type": "code",
   "execution_count": 214,
   "id": "7d4614fd-11dd-4205-b5e2-c0fa753075b2",
   "metadata": {},
   "outputs": [
    {
     "data": {
      "text/plain": [
       "year_of_death                  1690\n",
       "days_to_death                  1615\n",
       "ajcc_staging_system_edition     391\n",
       "days_to_last_follow_up          332\n",
       "ajcc_pathologic_stage           180\n",
       "                               ... \n",
       "COL7A1                            0\n",
       "ITGB4                             0\n",
       "RGS2                              0\n",
       "IGSF3                             0\n",
       "THBD                              0\n",
       "Length: 1036, dtype: int64"
      ]
     },
     "execution_count": 214,
     "metadata": {},
     "output_type": "execute_result"
    }
   ],
   "source": [
    "filtered_geneClinical.isnull().sum().sort_values(ascending = False)"
   ]
  },
  {
   "cell_type": "markdown",
   "id": "d32051ba-1625-4635-bd81-74ab7848b5b7",
   "metadata": {},
   "source": [
    "I am going to remove year_of_death and days_to_death as these are at best 87% null. After those that amount of nulls drops sharply"
   ]
  },
  {
   "cell_type": "code",
   "execution_count": 216,
   "id": "d27e56f2-b8f5-434d-a397-30b8f26a0a60",
   "metadata": {},
   "outputs": [
    {
     "name": "stdout",
     "output_type": "stream",
     "text": [
      "(1854, 1034)\n"
     ]
    }
   ],
   "source": [
    "# Drop the specified columns from the DataFrame\n",
    "filtered_geneClinical2 = filtered_geneClinical.drop(['year_of_death', 'days_to_death'], axis=1)\n",
    "\n",
    "# Display the updated DataFrame\n",
    "print(filtered_geneClinical2.shape)\n"
   ]
  },
  {
   "cell_type": "code",
   "execution_count": 217,
   "id": "bb4c319b-1c4e-4494-94f8-f0176a3e38ae",
   "metadata": {},
   "outputs": [],
   "source": [
    "## Output to csv to plot in Tableau"
   ]
  },
  {
   "cell_type": "code",
   "execution_count": 253,
   "id": "a093a469-73e9-40b1-9769-81dc9e1ff382",
   "metadata": {},
   "outputs": [],
   "source": [
    "filtered_geneClinical2.to_csv('nciClean.csv')"
   ]
  },
  {
   "cell_type": "code",
   "execution_count": null,
   "id": "d160f6e2-df51-4de3-ad38-cf843dc02691",
   "metadata": {},
   "outputs": [],
   "source": []
  }
 ],
 "metadata": {
  "kernelspec": {
   "display_name": "Python 3 (ipykernel)",
   "language": "python",
   "name": "python3"
  },
  "language_info": {
   "codemirror_mode": {
    "name": "ipython",
    "version": 3
   },
   "file_extension": ".py",
   "mimetype": "text/x-python",
   "name": "python",
   "nbconvert_exporter": "python",
   "pygments_lexer": "ipython3",
   "version": "3.12.4"
  }
 },
 "nbformat": 4,
 "nbformat_minor": 5
}
