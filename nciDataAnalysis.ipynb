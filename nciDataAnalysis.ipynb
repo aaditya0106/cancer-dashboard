{
 "cells": [
  {
   "cell_type": "markdown",
   "id": "742a2774-5860-4102-b33d-f2f7191b2f91",
   "metadata": {},
   "source": [
    "# NCI GDC Data Analysis"
   ]
  },
  {
   "cell_type": "markdown",
   "id": "76c0a1c4-b779-415d-9f7a-8af1c6e34abf",
   "metadata": {},
   "source": [
    "Datasets were pulled from https://portal.gdc.cancer.gov/analysis_page?app=CohortBuilder&tab=general_diagnosis \n",
    "They were filtered for Breast Cancer before pulled. Need to check with Arjita on the exact process of that"
   ]
  },
  {
   "cell_type": "markdown",
   "id": "811022e3-e799-49e6-905c-d49db468dd00",
   "metadata": {},
   "source": [
    "## Load Packages"
   ]
  },
  {
   "cell_type": "code",
   "execution_count": 4,
   "id": "ff741c11-700c-42ef-bcf6-3ac328f1296b",
   "metadata": {},
   "outputs": [],
   "source": [
    "import pandas as pd\n",
    "import plotly.express as px\n",
    "import numpy as np\n",
    "import requests\n",
    "from io import StringIO\n",
    "import seaborn as sns\n",
    "import matplotlib.pyplot as plt\n",
    "\n",
    "\n",
    "pd.set_option('future.no_silent_downcasting', True)"
   ]
  },
  {
   "cell_type": "markdown",
   "id": "92ee3401-eea2-418d-867d-ca0c6074dfeb",
   "metadata": {},
   "source": [
    "## Import Data from Github"
   ]
  },
  {
   "cell_type": "markdown",
   "id": "d6a3303b-61b6-4bef-b6a4-c4beaf73c514",
   "metadata": {},
   "source": [
    "Pull in gene dataset. "
   ]
  },
  {
   "cell_type": "code",
   "execution_count": null,
   "id": "3300318c-c4a1-4b00-a756-e8fb4556b80d",
   "metadata": {},
   "outputs": [],
   "source": [
    "response = requests.get('https://raw.githubusercontent.com/aaditya0106/cancer-dashboard/main/Data/HierCluster.2024-11-19.tsv')\n",
    "if response.status_code == 200:\n",
    "    gene = pd.read_csv(StringIO(response.text), sep='\\t')\n",
    "    print(\"Data loaded successfully!\")\n",
    "else:\n",
    "    print(f\"Failed to fetch data: {response.status_code}\")"
   ]
  },
  {
   "cell_type": "markdown",
   "id": "6b3f3352-22db-41a4-aaf3-c3deab75544f",
   "metadata": {},
   "source": [
    "Pull in clinical dataset."
   ]
  },
  {
   "cell_type": "code",
   "execution_count": null,
   "id": "6e3e8504-57d2-4d74-9044-8ca720d6b5b8",
   "metadata": {},
   "outputs": [],
   "source": [
    "response = requests.get('https://raw.githubusercontent.com/aaditya0106/cancer-dashboard/main/Data/clinical.tsv')\n",
    "if response.status_code == 200:\n",
    "    clinical = pd.read_csv(StringIO(response.text), sep='\\t')\n",
    "    print(\"Data loaded successfully!\")\n",
    "else:\n",
    "    print(f\"Failed to fetch data: {response.status_code}\")"
   ]
  },
  {
   "cell_type": "markdown",
   "id": "8e9a229f-a002-4919-9ac3-77a2b0f061d7",
   "metadata": {},
   "source": [
    "## Basic gene data exploration"
   ]
  },
  {
   "cell_type": "code",
   "execution_count": null,
   "id": "b64f6589-e3cc-46ff-a2e9-c7a829d4946e",
   "metadata": {},
   "outputs": [],
   "source": [
    "gene.head()"
   ]
  },
  {
   "cell_type": "code",
   "execution_count": null,
   "id": "bab12373-5843-4f4d-9817-3b165743c0c3",
   "metadata": {},
   "outputs": [],
   "source": [
    "gene.shape"
   ]
  },
  {
   "cell_type": "code",
   "execution_count": null,
   "id": "6ffd19ba-c57f-4eed-9de4-1db49fa338c7",
   "metadata": {},
   "outputs": [],
   "source": [
    "gene.dtypes"
   ]
  },
  {
   "cell_type": "markdown",
   "id": "b9f559b0-426a-410b-add6-fe613d984899",
   "metadata": {},
   "source": [
    "Determine if any values are Null. There are no null values and there are no duplicate samples. "
   ]
  },
  {
   "cell_type": "code",
   "execution_count": null,
   "id": "5dadf803-37b2-4a7d-9049-a66b0953d145",
   "metadata": {},
   "outputs": [],
   "source": [
    "gene.isnull().any().value_counts()"
   ]
  },
  {
   "cell_type": "code",
   "execution_count": null,
   "id": "ed3d3a0a-280e-4b0e-8ac0-d597fbabf688",
   "metadata": {},
   "outputs": [],
   "source": [
    "gene['Case'].duplicated().sum()"
   ]
  },
  {
   "cell_type": "markdown",
   "id": "27c82bdc-7c89-4d00-9a3b-d8fa1362f2d7",
   "metadata": {},
   "source": [
    "## Basic clinical data exploration"
   ]
  },
  {
   "cell_type": "code",
   "execution_count": null,
   "id": "a420f3df-8724-4c0a-b8a1-3b99397b9985",
   "metadata": {},
   "outputs": [],
   "source": [
    "clinical.head()"
   ]
  },
  {
   "cell_type": "code",
   "execution_count": null,
   "id": "250c8557-59f2-4916-bfc9-bebc7c6739eb",
   "metadata": {},
   "outputs": [],
   "source": [
    "clinical.columns"
   ]
  },
  {
   "cell_type": "code",
   "execution_count": null,
   "id": "384f3028-6231-4b82-9c4a-23193073663e",
   "metadata": {},
   "outputs": [],
   "source": [
    "clinical.shape"
   ]
  },
  {
   "cell_type": "markdown",
   "id": "b8070ab4-4563-4c1f-a18e-2f7eac71b866",
   "metadata": {},
   "source": [
    "Make sure tissue of origin is breast related. These are the types of tissues currently included. "
   ]
  },
  {
   "cell_type": "code",
   "execution_count": null,
   "id": "2ae14074-83bc-409e-baba-4d608927e006",
   "metadata": {},
   "outputs": [],
   "source": [
    "# Generate the summary table of what tissue_or_organ_of_origin is\n",
    "summary_table = clinical['tissue_or_organ_of_origin'].value_counts()\n",
    "\n",
    "# Display the summary table\n",
    "print(summary_table)"
   ]
  },
  {
   "cell_type": "markdown",
   "id": "30303c58-fae4-4e0a-8e6f-ea8362155970",
   "metadata": {},
   "source": [
    "Remove rows where tissue or organ of origin are Not Reported or '--"
   ]
  },
  {
   "cell_type": "code",
   "execution_count": null,
   "id": "bc8acb12-cf90-479a-a882-75b2ed477c9e",
   "metadata": {},
   "outputs": [],
   "source": [
    "clinicalBreast = clinical[~clinical['tissue_or_organ_of_origin'].isin(['Not Reported', \"'--\"])]\n",
    "\n",
    "# Check the result\n",
    "print(clinicalBreast['tissue_or_organ_of_origin'].value_counts())\n"
   ]
  },
  {
   "cell_type": "code",
   "execution_count": null,
   "id": "180a9f42-3490-4859-a8f9-86fe5ae7b62f",
   "metadata": {},
   "outputs": [],
   "source": [
    "clinicalBreast.head()"
   ]
  },
  {
   "cell_type": "markdown",
   "id": "62b6d18a-5a97-4720-9c39-ec6dcd8cbf9b",
   "metadata": {},
   "source": [
    "Check that 73 invalid rows were removed"
   ]
  },
  {
   "cell_type": "code",
   "execution_count": null,
   "id": "b5359fa3-d6c0-4e5a-b9bb-41e744709f5e",
   "metadata": {},
   "outputs": [],
   "source": [
    "clinicalBreast.shape"
   ]
  },
  {
   "cell_type": "markdown",
   "id": "f498bbb5-61e2-44f5-a9eb-e3ecf5bfb2a8",
   "metadata": {},
   "source": [
    "Get number of duplicate case_submitter_id numbers. These are patients with multiple rows of data."
   ]
  },
  {
   "cell_type": "code",
   "execution_count": null,
   "id": "b65eb323-8a64-4fa2-be57-937222c86430",
   "metadata": {},
   "outputs": [],
   "source": [
    "clinicalBreast['case_submitter_id'].duplicated().sum()"
   ]
  },
  {
   "cell_type": "markdown",
   "id": "baa461df-a4d3-41c1-b363-2ac9368b2266",
   "metadata": {},
   "source": [
    "Get a table of the duplicates"
   ]
  },
  {
   "cell_type": "code",
   "execution_count": null,
   "id": "b767127a-4b63-4e30-9bdf-6cb04bca14f5",
   "metadata": {},
   "outputs": [],
   "source": [
    "# Identify all rows with duplicates\n",
    "all_duplicates = clinicalBreast[clinicalBreast['case_submitter_id'].duplicated(keep=False)]"
   ]
  },
  {
   "cell_type": "markdown",
   "id": "0600bc4f-8c0e-4af6-af9f-f9de2bb917c7",
   "metadata": {},
   "source": [
    "## Merge gene and clinicalBreast"
   ]
  },
  {
   "cell_type": "code",
   "execution_count": null,
   "id": "d2703e51-2ec6-4ee4-8daa-1e6fec2b7d01",
   "metadata": {},
   "outputs": [],
   "source": [
    "geneClinical = gene.merge(clinicalBreast, left_on='Case', right_on='case_submitter_id', how='inner')"
   ]
  },
  {
   "cell_type": "code",
   "execution_count": null,
   "id": "48282861-e8b7-42a9-b798-989c5907cc9f",
   "metadata": {},
   "outputs": [],
   "source": [
    "geneClinical.shape"
   ]
  },
  {
   "cell_type": "markdown",
   "id": "1e3973a5-a00c-48a3-804c-d713b1eaf9db",
   "metadata": {},
   "source": [
    "Check results for a duplicate case_submitter_id. We want to make sure each case_submitter_id/case always gets the same gene expression data"
   ]
  },
  {
   "cell_type": "code",
   "execution_count": null,
   "id": "668810c3-5f05-44cc-b87f-7f7b877a1e39",
   "metadata": {},
   "outputs": [],
   "source": [
    "geneClinical['case_submitter_id'].duplicated().sum()"
   ]
  },
  {
   "cell_type": "markdown",
   "id": "65b669ed-a6e5-428c-b161-3aade99007a5",
   "metadata": {},
   "source": [
    "Get a table of the duplicates"
   ]
  },
  {
   "cell_type": "code",
   "execution_count": null,
   "id": "dda28813-7c51-44d7-b885-05ede3a62d68",
   "metadata": {},
   "outputs": [],
   "source": [
    "# Identify all rows with duplicates\n",
    "all_duplicatesMerge = geneClinical[geneClinical['case_submitter_id'].duplicated(keep=False)]"
   ]
  },
  {
   "cell_type": "code",
   "execution_count": null,
   "id": "336c9763-462c-43db-b2f9-dbc3c100d81a",
   "metadata": {},
   "outputs": [],
   "source": [
    "all_duplicatesMerge.head()"
   ]
  },
  {
   "cell_type": "markdown",
   "id": "66fd243b-7615-475b-a5be-a548b8d9e47a",
   "metadata": {},
   "source": [
    "If I drop clinical columns, then drop duplicates. Do I get a table 1000 rows long?"
   ]
  },
  {
   "cell_type": "code",
   "execution_count": null,
   "id": "40724d71-1a9b-4dff-8835-f8e9a9543ef9",
   "metadata": {},
   "outputs": [],
   "source": [
    "short = geneClinical.iloc[:, 0:1001]\n",
    "short.shape"
   ]
  },
  {
   "cell_type": "code",
   "execution_count": null,
   "id": "8680237a-900b-494c-b768-0c32e5fc8baf",
   "metadata": {},
   "outputs": [],
   "source": [
    "short.columns"
   ]
  },
  {
   "cell_type": "code",
   "execution_count": null,
   "id": "24b21bf7-ee86-4b1c-841e-1ea90b4e57d1",
   "metadata": {},
   "outputs": [],
   "source": [
    "shortNoDup = short.drop_duplicates()\n",
    "shortNoDup.shape"
   ]
  },
  {
   "cell_type": "markdown",
   "id": "cffa16ea-f556-494a-a9f4-972dc6b7769d",
   "metadata": {},
   "source": [
    "I have less than the 1000 samples I started with. Check what happened to one sample. "
   ]
  },
  {
   "cell_type": "code",
   "execution_count": null,
   "id": "65b52d9d-e438-46be-a0a8-19d71c1aa1c3",
   "metadata": {},
   "outputs": [],
   "source": [
    "# Get indices where 'Case' in 'gene' is not in 'shortNoDup'\n",
    "indices_not_in_shortNoDup = gene[~gene['Case'].isin(shortNoDup['Case'])].index\n",
    "\n",
    "# Print the result\n",
    "print(indices_not_in_shortNoDup)\n"
   ]
  },
  {
   "cell_type": "code",
   "execution_count": null,
   "id": "64f8f8e3-12c7-411a-9f98-a6f8855a081e",
   "metadata": {},
   "outputs": [],
   "source": [
    "# print rows that do not have a case in the merged dataset\n",
    "gene.iloc[indices_not_in_shortNoDup, :]"
   ]
  },
  {
   "cell_type": "code",
   "execution_count": null,
   "id": "60429d41-65bb-4954-a45c-23387f62e8bf",
   "metadata": {},
   "outputs": [],
   "source": [
    "gene[gene['Case'] == 'TCGA-BH-A0B2']"
   ]
  },
  {
   "cell_type": "code",
   "execution_count": null,
   "id": "9c8aa8dc-c1a0-4e9c-9c4d-4164ee4b839f",
   "metadata": {},
   "outputs": [],
   "source": [
    "clinicalBreast[clinicalBreast['case_submitter_id'] == 'TCGA-BH-A0B2']"
   ]
  },
  {
   "cell_type": "code",
   "execution_count": null,
   "id": "120c9af1-d989-4b35-a9c5-3f310cd86cbd",
   "metadata": {},
   "outputs": [],
   "source": [
    "clinical[clinical['case_submitter_id'] == 'TCGA-BH-A0B2']"
   ]
  },
  {
   "cell_type": "markdown",
   "id": "180033b2-9332-4f3e-93a4-c0b3fa208f74",
   "metadata": {},
   "source": [
    "Case 'TCGA-BH-A0B2' was in clinical. However, the tissue or ogan was equal to '-- so it got removed when I created breastClinical. It is rightfully not present in the merged data"
   ]
  },
  {
   "cell_type": "markdown",
   "id": "904aadb1-417d-4bcf-b134-90b424a7aafe",
   "metadata": {},
   "source": [
    "## Explore the merged data"
   ]
  },
  {
   "cell_type": "code",
   "execution_count": null,
   "id": "aba937ae-cd27-4ec5-988f-800cd45d81b0",
   "metadata": {},
   "outputs": [],
   "source": [
    "geneClinical2 = geneClinical.replace(\"'--\", np.NaN)"
   ]
  },
  {
   "cell_type": "code",
   "execution_count": null,
   "id": "fd4c172a-4584-4a6c-b456-07ba27603013",
   "metadata": {},
   "outputs": [],
   "source": [
    "# Report the number of nulls per column\n",
    "null_counts = geneClinical2.isnull().sum()\n"
   ]
  },
  {
   "cell_type": "code",
   "execution_count": null,
   "id": "69c62bc8-43bc-4ceb-b24a-da449930532d",
   "metadata": {},
   "outputs": [],
   "source": [
    "# Filter columns where the number of nulls is <= 1800 (Total number of rows is 1854)\n",
    "columns_to_keep = null_counts[null_counts <= 1800].index\n",
    "\n",
    "# Select only the columns to keep\n",
    "filtered_geneClinical = geneClinical2[columns_to_keep]\n",
    "\n",
    "print(f\"Columns removed: {set(geneClinical2.columns) - set(filtered_geneClinical.columns)}\")\n",
    "print(f\"Filtered DataFrame shape: {filtered_geneClinical.shape}\")\n"
   ]
  },
  {
   "cell_type": "markdown",
   "id": "e9cd9e69-8e5e-46cc-9fe2-3652f4509bda",
   "metadata": {},
   "source": [
    "There are 1854 rows. When we removed columns that had >1800 nulls then we removed 184 columns. Now checking if there are other columns that have a high percentage of nulls"
   ]
  },
  {
   "cell_type": "code",
   "execution_count": null,
   "id": "7d4614fd-11dd-4205-b5e2-c0fa753075b2",
   "metadata": {},
   "outputs": [],
   "source": [
    "filtered_geneClinical.isnull().sum().sort_values(ascending = False)"
   ]
  },
  {
   "cell_type": "markdown",
   "id": "d32051ba-1625-4635-bd81-74ab7848b5b7",
   "metadata": {},
   "source": [
    "I am going to remove year_of_death and days_to_death as these are at best 87% null. After those that amount of nulls drops sharply so I will keep those clinical columns"
   ]
  },
  {
   "cell_type": "code",
   "execution_count": null,
   "id": "d27e56f2-b8f5-434d-a397-30b8f26a0a60",
   "metadata": {},
   "outputs": [],
   "source": [
    "# Drop the specified columns from the DataFrame\n",
    "filtered_geneClinical2 = filtered_geneClinical.drop(['year_of_death', 'days_to_death'], axis=1)\n",
    "\n",
    "# Display the updated DataFrame shape\n",
    "print(filtered_geneClinical2.shape)\n"
   ]
  },
  {
   "cell_type": "markdown",
   "id": "a7883caa-02c4-48d6-8783-d50267517e4c",
   "metadata": {},
   "source": [
    "## Normalize gene expresion values."
   ]
  },
  {
   "cell_type": "markdown",
   "id": "19710e98-61e2-43b8-a8d8-57e2b8a1a47a",
   "metadata": {},
   "source": [
    "Normalize gene expression values. "
   ]
  },
  {
   "cell_type": "code",
   "execution_count": null,
   "id": "eefc5835-412f-4769-bf16-7f88123ed6ec",
   "metadata": {},
   "outputs": [],
   "source": [
    "# select only the columns with gene expression data\n",
    "df = filtered_geneClinical2.iloc[:, 1:1001]\n",
    "df.head()"
   ]
  },
  {
   "cell_type": "code",
   "execution_count": null,
   "id": "04be52f8",
   "metadata": {},
   "outputs": [],
   "source": [
    "df"
   ]
  },
  {
   "cell_type": "markdown",
   "id": "5f828827-187d-4482-bd98-d31f1c1616ee",
   "metadata": {},
   "source": [
    "Check how the values within expression are distributed. It appears they have already had a zscale normalization"
   ]
  },
  {
   "cell_type": "code",
   "execution_count": null,
   "id": "7903ba41-605f-400a-b61f-af7fbd02bd98",
   "metadata": {},
   "outputs": [],
   "source": [
    "df.describe()"
   ]
  },
  {
   "cell_type": "markdown",
   "id": "9258ab7e-b714-432f-a5fb-3f4cc4721d16",
   "metadata": {},
   "source": [
    "Concatenate 30 genes with clinical data. Reduce down to 100 samples"
   ]
  },
  {
   "cell_type": "markdown",
   "id": "5b1e6ca3-47fd-4dc2-b6c2-7140538fd9ea",
   "metadata": {},
   "source": [
    "### Selected genes related to breast cancer from the following papers. Then filter to only include these columns\n",
    "https://pmc.ncbi.nlm.nih.gov/articles/PMC6147049/\n",
    "https://pmc.ncbi.nlm.nih.gov/articles/PMC9299843/"
   ]
  },
  {
   "cell_type": "code",
   "execution_count": null,
   "id": "2221198a-21a5-41d5-a9f6-0e61b6cbf922",
   "metadata": {},
   "outputs": [],
   "source": [
    "# estrogen receptor ESR1 and ESR2\n",
    "# List comprehension to find column names starting with 'ESR'\n",
    "esr_columns = [col for col in df.columns if col.startswith('ESR')]\n",
    "\n",
    "# Print the result\n",
    "print(esr_columns)\n",
    "\n",
    "# These are epithelial splicing regulatory proteins genes. Not of interest\n",
    "\n",
    "# HER2 - overexpression can lead to uncontrolled cell growth and development of cancer\n",
    "# did the same search type. not HER genes"
   ]
  },
  {
   "cell_type": "code",
   "execution_count": null,
   "id": "22ae72de-b223-4257-a221-b5070019eb48",
   "metadata": {},
   "outputs": [],
   "source": [
    "# no : WNT, ATM, PALB, MYC, DKK1, PTCH-1, GLI-1, SHH, SMOH, PIK3CA, PIK3R1, AKT\n",
    "# no: PTEN, LKB1, FANCN, OBSCN, ATR, FGFR, FOX, TSC\n",
    "#TP53INP1 breast paper\n",
    "# CDH1 (inherited mutations cause hereditary diffuse gastric cancer with an increased risk of invasive lobular breast cancer)\n",
    "# ALDH1A1, CD44, CCND1, CCND2, TOP2A, DUSP4\n",
    "# mutations of ERBB2, ERBB3, CDK6\n",
    "# LAMP5, LTF, MMP9, S100P, TPM1, CCL18, CDCA7, CDKN2D, E2F2, EPCAM, FOS, FOSB, HES6, LAPTM4B mammaprint paper\n",
    "# UBE2C, UHRF1 mammaprint paper\n",
    "interest_columns = [col for col in df.columns if col.startswith('LAP')]\n",
    "\n",
    "# Print the result\n",
    "print(interest_columns)"
   ]
  },
  {
   "cell_type": "code",
   "execution_count": null,
   "id": "2f5ea4ae-b859-4e01-8de8-e0240b2e7ef9",
   "metadata": {},
   "outputs": [],
   "source": [
    "# list of breast cancer related genes found in the dataset\n",
    "genesOfInterest = [\n",
    "    \"TP53INP1\", \"CDH1\", \"ALDH1A1\", \"CD44\", \"CCND1\", \"CCND2\", \"TOP2A\", \n",
    "    \"DUSP4\", \"ERBB2\", \"ERBB3\", \"CDK6\", \"LAMP5\", \"LTF\", \"MMP9\", \"S100P\", \n",
    "    \"TPM1\", \"CCL18\", \"CDCA7\", \"CDKN2D\", \"E2F2\", \"EPCAM\", \"FOS\", \"FOSB\", \n",
    "    \"HES6\", \"LAPTM4B\", \"UBE2C\", \"UHRF1\"\n",
    "]\n",
    "\n",
    "len(genesOfInterest)"
   ]
  },
  {
   "cell_type": "code",
   "execution_count": null,
   "id": "b12ff12b-2c14-47b3-86f6-2e48b1b6adee",
   "metadata": {},
   "outputs": [],
   "source": [
    "# Select columns from the dataframe\n",
    "selected_columns = filtered_geneClinical2[\n",
    "    ['Case'] + genesOfInterest + filtered_geneClinical2.columns[1002:].tolist()\n",
    "]\n",
    "\n",
    "# Display the resulting dataframe\n",
    "print(selected_columns.head())\n"
   ]
  },
  {
   "cell_type": "code",
   "execution_count": null,
   "id": "1dd698c2-409e-4339-95a1-07bb49548672",
   "metadata": {},
   "outputs": [],
   "source": [
    "selected_columns.columns"
   ]
  },
  {
   "cell_type": "code",
   "execution_count": null,
   "id": "956e177d-d9ea-461a-aad9-b2e705b71f5c",
   "metadata": {},
   "outputs": [],
   "source": [
    "# commenting out this is when I was selecting first 30 genes\n",
    "# combined_df = pd.concat([filtered_geneClinical2.iloc[:, 0:31], filtered_geneClinical2.iloc[:, 1002:]], axis=1)\n",
    "\n",
    "#reduce to 100 samples\n",
    "combined_df = selected_columns.iloc[:, :]\n",
    "# Check the combined dataset\n",
    "print(\"Combined Dataset:\")\n",
    "print(combined_df.head())\n"
   ]
  },
  {
   "cell_type": "code",
   "execution_count": null,
   "id": "f41b20b4-d110-4e22-8020-f27d7a1b369f",
   "metadata": {},
   "outputs": [],
   "source": [
    "combined_df.columns"
   ]
  },
  {
   "cell_type": "code",
   "execution_count": null,
   "id": "6cf68ff6-7f40-438e-bd28-90f2ace774ac",
   "metadata": {},
   "outputs": [],
   "source": [
    "# List of all columns except the gene expression columns\n",
    "\n",
    "# Create a list of column names not in genesOfInterest\n",
    "id_vars = [col for col in combined_df.columns if col not in genesOfInterest]\n",
    "\n",
    "# Display the list of column names\n",
    "print(id_vars)\n"
   ]
  },
  {
   "cell_type": "code",
   "execution_count": null,
   "id": "d6cb78c6-e2c1-4eb0-bc05-f8ebb4bf4742",
   "metadata": {},
   "outputs": [],
   "source": [
    "# Use melt to reshape the DataFrame\n",
    "reshaped_df = combined_df.melt(id_vars=id_vars, var_name='Gene', value_name='Expression')\n",
    "\n",
    "# Check the reshaped DataFrame\n",
    "print(reshaped_df.head())\n"
   ]
  },
  {
   "cell_type": "code",
   "execution_count": null,
   "id": "081a7379-fe0f-49b6-8a22-e5042c39827e",
   "metadata": {},
   "outputs": [],
   "source": [
    "reshaped_df_drop = reshaped_df.drop(columns='case_submitter_id')"
   ]
  },
  {
   "cell_type": "code",
   "execution_count": null,
   "id": "50f32ad7-de72-4f62-9ee0-ff59228c1d59",
   "metadata": {},
   "outputs": [],
   "source": [
    "reshaped_df_drop.duplicated().sum()"
   ]
  },
  {
   "cell_type": "code",
   "execution_count": null,
   "id": "67badb08-28db-448f-928f-1d839cffad42",
   "metadata": {},
   "outputs": [],
   "source": [
    "#reshaped_df_drop.to_csv(\"geneClinicalClean.csv\")"
   ]
  },
  {
   "cell_type": "code",
   "execution_count": null,
   "id": "39ef2c48",
   "metadata": {},
   "outputs": [],
   "source": [
    "reshaped_df_drop"
   ]
  },
  {
   "cell_type": "markdown",
   "id": "8aa82e2a-7062-4ac9-b937-a707668ca5fd",
   "metadata": {},
   "source": [
    "### Consolidate the sub-stages within a stage"
   ]
  },
  {
   "cell_type": "code",
   "execution_count": null,
   "id": "d41cc30f-adf9-4a02-b220-be5f98ad5039",
   "metadata": {},
   "outputs": [],
   "source": [
    "reshaped_df_drop['ajcc_pathologic_stage'].value_counts()"
   ]
  },
  {
   "cell_type": "code",
   "execution_count": null,
   "id": "77360547",
   "metadata": {},
   "outputs": [],
   "source": [
    "unique_expression = reshaped_df_drop.groupby(['Case', 'Gene'])['Expression'].first().unstack()"
   ]
  },
  {
   "cell_type": "code",
   "execution_count": null,
   "id": "98a88d9c-cd8b-453b-80e9-c99e3c7e6982",
   "metadata": {},
   "outputs": [],
   "source": [
    "reshaped_df_drop['Cancer Stage'] = reshaped_df_drop['ajcc_pathologic_stage'].apply(\n",
    "    lambda x: (\n",
    "        'Stage I' if isinstance(x, str) and ('Stage I' in x and 'Stage IA' in x)\n",
    "        else 'Stage II' if isinstance(x, str) and ('Stage IIA' in x or 'Stage IIB' in x)\n",
    "        else 'Stage III' if isinstance(x, str) and ('Stage IIIA' in x or 'Stage IIIB' in x or 'Stage IIIC' in x)\n",
    "        else 'Stage IV' if isinstance(x, str) and 'Stage IV' in x\n",
    "        else None  # Handle missing or unexpected values\n",
    "    )\n",
    ")\n",
    "\n",
    "# Display the counts for each stage\n",
    "stage_counts = reshaped_df_drop['Cancer Stage'].value_counts()\n",
    "print(stage_counts)\n",
    "\n"
   ]
  },
  {
   "cell_type": "code",
   "execution_count": null,
   "id": "b0e16715-35ba-4ea9-9204-2d6dd158e7bb",
   "metadata": {},
   "outputs": [],
   "source": [
    "reshaped_df_drop.to_csv(\"geneClinicalCleanStageGeneUpdate.csv\")"
   ]
  },
  {
   "cell_type": "code",
   "execution_count": null,
   "id": "4f635185",
   "metadata": {},
   "outputs": [],
   "source": [
    "unique_expression = unique_expression.astype(float).fillna(0)  # To Ensure all values are numeric"
   ]
  },
  {
   "cell_type": "code",
   "execution_count": null,
   "id": "be2f8eba",
   "metadata": {},
   "outputs": [],
   "source": [
    "unique_expression"
   ]
  },
  {
   "cell_type": "code",
   "execution_count": null,
   "id": "ea3567bc-0085-47a2-a152-9d04c2bafe08",
   "metadata": {},
   "outputs": [],
   "source": [
    "# # If 'Case' is the index in unique_expression, reset the index first\n",
    "# if 'Case' not in unique_expression.columns:\n",
    "#     unique_expression.reset_index(inplace=True)\n",
    "\n",
    "# # Add the 'Cancer Stage' column to unique_expression by mapping from reshaped_df\n",
    "# unique_expression['Cancer Stage'] = unique_expression['Case'].map(\n",
    "#     reshaped_df.set_index('Case')['Cancer Stage']\n",
    "# )\n",
    "\n",
    "# # Display the updated unique_expression DataFrame\n",
    "# print(unique_expression.head())\n"
   ]
  },
  {
   "cell_type": "code",
   "execution_count": null,
   "id": "8b7bdb6d-9120-4ce5-baed-3093de0daf9f",
   "metadata": {},
   "outputs": [],
   "source": [
    "# unique_expression.index"
   ]
  },
  {
   "cell_type": "code",
   "execution_count": null,
   "id": "5d8e17b8",
   "metadata": {},
   "outputs": [],
   "source": [
    "# Use seaborn for a static heatmap as an alternative\n",
    "plt.figure(figsize=(12, 8))\n",
    "sns.heatmap(\n",
    "    unique_expression,\n",
    "    cmap=\"viridis\",\n",
    "    cbar_kws={'label': 'Expression Level'},\n",
    "    xticklabels=True,\n",
    "    yticklabels=True\n",
    ")\n",
    "\n",
    "plt.title(\"Heatmap of Gene Expression Levels\")\n",
    "plt.xlabel(\"Genes\")\n",
    "plt.ylabel(\"Cases\")\n",
    "plt.show()\n"
   ]
  },
  {
   "cell_type": "code",
   "execution_count": null,
   "id": "99ee7e5f",
   "metadata": {},
   "outputs": [],
   "source": [
    "unique_expression.reset_index(inplace=True)\n",
    "unique_expression_melted = unique_expression.melt(id_vars='Case', var_name='Gene', value_name='Expression')"
   ]
  },
  {
   "cell_type": "code",
   "execution_count": null,
   "id": "c6400f1b",
   "metadata": {},
   "outputs": [],
   "source": [
    "unique_expression"
   ]
  },
  {
   "cell_type": "code",
   "execution_count": null,
   "id": "20c2dfdd-6704-41d1-951f-d24b8cd8af96",
   "metadata": {},
   "outputs": [],
   "source": [
    "\n",
    "\n",
    "# Map the 'Cancer Stage' values from reshaped_df to unique_expression\n",
    "unique_expression['Cancer Stage'] = unique_expression['Case'].map(\n",
    "    reshaped_df_drop.drop_duplicates(subset='Case').set_index('Case')['Cancer Stage']\n",
    ")\n",
    "\n",
    "# Display the updated unique_expression DataFrame\n",
    "print(unique_expression.head())\n"
   ]
  },
  {
   "cell_type": "code",
   "execution_count": null,
   "id": "d67983b9",
   "metadata": {},
   "outputs": [],
   "source": [
    "heatmap = px.density_heatmap(\n",
    "    unique_expression_melted,\n",
    "    x=\"Gene\",\n",
    "    y=\"Case\",\n",
    "    z=\"Expression\",\n",
    "    color_continuous_scale=\"Blues\",\n",
    "    range_color=(-2, 30),\n",
    "    title=\"Heatmap of Gene Expression Levels\",\n",
    "    labels={'Expression': 'Expression Level'}\n",
    ")\n",
    "\n",
    "heatmap.show()\n",
    "\n",
    "# heatmap_file_path = 'heatmap.html'\n",
    "# heatmap.write_html(heatmap_file_path)"
   ]
  },
  {
   "cell_type": "code",
   "execution_count": null,
   "id": "e76a90d8-8802-4867-8b94-4eb4993d8e60",
   "metadata": {},
   "outputs": [],
   "source": [
    "# Add 'Cancer Stage' to unique_expression_melted\n",
    "unique_expression_melted = unique_expression_melted.merge(\n",
    "    reshaped_df_drop[['Case', 'Cancer Stage']].drop_duplicates(),\n",
    "    on='Case',\n",
    "    how='left'\n",
    ")\n",
    "\n",
    "unique_expression_melted\n",
    "# # Create the heatmap with 'Cancer Stage' in the tooltip\n",
    "# heatmap = px.density_heatmap(\n",
    "#     unique_expression_melted,\n",
    "#     x=\"Gene\",\n",
    "#     y=\"Case\",\n",
    "#     z=\"Expression\",\n",
    "#     color_continuous_scale=\"Blues\",\n",
    "#     range_color=(-2, 30),\n",
    "#     title=\"Heatmap of Gene Expression Levels\",\n",
    "#     labels={'Expression': 'Expression Level'},\n",
    "#     hover_data={'Cancer Stage': True}  # Include 'Cancer Stage' in the tooltip\n",
    "# )\n",
    "\n",
    "# # Display the heatmap\n",
    "# heatmap.show()\n"
   ]
  },
  {
   "cell_type": "code",
   "execution_count": null,
   "id": "4cb4eefb",
   "metadata": {},
   "outputs": [],
   "source": [
    "# Filter out \"Unknown\" values for AJCC columns\n",
    "aggregated_data = reshaped_df_drop.groupby(\n",
    "    ['Case', 'Cancer Stage', 'ajcc_pathologic_n', 'ajcc_pathologic_m', 'ajcc_pathologic_t'], as_index=False\n",
    ").agg({'Expression': 'mean'})\n",
    "\n",
    "filtered_data = aggregated_data[reshaped_df_drop['ajcc_pathologic_stage'] != \"Unknown\"]\n",
    "\n",
    "sorted_stages = ['Stage I', 'Stage II', 'Stage III']\n",
    "filtered_data['Cancer Stage'] = pd.Categorical(filtered_data['Cancer Stage'], categories=sorted_stages, ordered=True)\n",
    "\n",
    "# Count cases by stage\n",
    "stage_counts = filtered_data['Cancer Stage'].value_counts().sort_index()\n",
    "\n",
    "# Create a DataFrame for Plotly\n",
    "plot_data = stage_counts.reset_index()\n",
    "plot_data.columns = ['Cancer Stage', 'Number of Cases']\n",
    "\n",
    "fig = px.bar(\n",
    "    plot_data,\n",
    "    x='Cancer Stage',\n",
    "    y='Number of Cases',\n",
    "    text='Number of Cases',\n",
    "    title='Distribution of Cases by AJCC Pathologic Stage',\n",
    "    labels={'Cancer Stage': 'AJCC Pathologic Stage', 'Number of Cases': 'Number of Cases'},\n",
    ")\n",
    "\n",
    "fig.update_traces(textposition='outside', marker_color='lightblue', marker_line_color='black', marker_line_width=1)\n",
    "fig.update_layout(xaxis_title='AJCC Pathologic Stage', yaxis_title='Number of Cases', xaxis_tickangle=45)\n",
    "\n",
    "fig.show()\n",
    "\n"
   ]
  },
  {
   "cell_type": "code",
   "execution_count": null,
   "id": "82d32a3e",
   "metadata": {},
   "outputs": [],
   "source": [
    "# Filter out \"Unknown\" values for AJCC Pathologic N stages\n",
    "filtered_data_state_n = aggregated_data[reshaped_df_drop['ajcc_pathologic_n'] != \"Unknown\"]\n",
    "\n",
    "fig = px.box(\n",
    "    filtered_data_state_n,\n",
    "    x='ajcc_pathologic_n',\n",
    "    y='Expression',\n",
    "    color='ajcc_pathologic_n',  # Optional: Assign a unique color to each category\n",
    "    title=\"Average Gene Expression Across AJCC Pathologic N Stages (Aggregated by Case)\",\n",
    "    labels={\n",
    "        'ajcc_pathologic_n': 'AJCC Pathologic N Stage',\n",
    "        'Expression': 'Expression Level'\n",
    "    },\n",
    "    color_discrete_sequence=px.colors.qualitative.Pastel \n",
    ")\n",
    "\n",
    "fig.update_layout(\n",
    "    xaxis_title=\"AJCC Pathologic N Stage\",\n",
    "    yaxis_title=\"Expression Level\",\n",
    "    xaxis_tickangle=45,\n",
    "    showlegend=False  \n",
    ")\n",
    "\n",
    "\n",
    "fig.show()\n"
   ]
  },
  {
   "cell_type": "code",
   "execution_count": null,
   "id": "43f0eed2",
   "metadata": {},
   "outputs": [],
   "source": [
    "# Filter out \"Unknown\" values for AJCC Pathologic M stages\n",
    "filtered_data_state_m = aggregated_data[reshaped_df_drop['ajcc_pathologic_m'] != \"Unknown\"]\n",
    "\n",
    "fig = px.box(\n",
    "    filtered_data_state_m,\n",
    "    x='ajcc_pathologic_m',\n",
    "    y='Expression',\n",
    "    color='ajcc_pathologic_m', \n",
    "    title=\"Average Gene Expression Across AJCC Pathologic M Stages (Aggregated by Case)\",\n",
    "    labels={\n",
    "        'ajcc_pathologic_m': 'AJCC Pathologic M Stage',\n",
    "        'Expression': 'Expression Level'\n",
    "    },\n",
    "    color_discrete_sequence=px.colors.qualitative.Pastel \n",
    ")\n",
    "\n",
    "\n",
    "fig.update_layout(\n",
    "    xaxis_title=\"AJCC Pathologic M Stage\",\n",
    "    yaxis_title=\"Expression Level\",\n",
    "    xaxis_tickangle=45,\n",
    "    showlegend=False  # Hide legend if not needed\n",
    ")\n",
    "\n",
    "# Show the interactive plot\n",
    "fig.show()\n"
   ]
  },
  {
   "cell_type": "code",
   "execution_count": null,
   "id": "14a75421",
   "metadata": {},
   "outputs": [],
   "source": [
    "# Filter out \"Unknown\" values for AJCC Pathologic T stages\n",
    "filtered_data_state_t = aggregated_data[reshaped_df_drop['ajcc_pathologic_t'] != \"Unknown\"]\n",
    "\n",
    "fig = px.box(\n",
    "    filtered_data_state_t,\n",
    "    x='ajcc_pathologic_t',\n",
    "    y='Expression',\n",
    "    color='ajcc_pathologic_t',  \n",
    "    title=\"Average Gene Expression Across AJCC Pathologic T Stages (Aggregated by Case)\",\n",
    "    labels={\n",
    "        'ajcc_pathologic_t': 'AJCC Pathologic T Stage',\n",
    "        'Expression': 'Expression Level'\n",
    "    },\n",
    "    color_discrete_sequence=px.colors.qualitative.Pastel \n",
    ")\n",
    "\n",
    "\n",
    "fig.update_layout(\n",
    "    xaxis_title=\"AJCC Pathologic T Stage\",\n",
    "    yaxis_title=\"Expression Level\",\n",
    "    xaxis_tickangle=45,\n",
    "    showlegend=False \n",
    ")\n",
    "\n",
    "fig.show()\n"
   ]
  },
  {
   "cell_type": "code",
   "execution_count": null,
   "id": "3aa74880",
   "metadata": {},
   "outputs": [],
   "source": [
    "# Aggregate data by case (mean expression for cases with multiple rows)\n",
    "aggregated_data = reshaped_df_drop.groupby(['Case', 'primary_diagnosis'], as_index=False).agg({'Expression': 'mean'})\n",
    "\n",
    "# Remove \"Not Reported\" values from the primary diagnosis column\n",
    "filtered_data = aggregated_data[aggregated_data['primary_diagnosis'] != \"Not Reported\"]\n",
    "\n",
    "# Shorten or format long labels with line breaks\n",
    "filtered_data['primary_diagnosis'] = filtered_data['primary_diagnosis'].apply(\n",
    "    lambda x: '<br>'.join(x.split(' ', 3)[:3]) if len(x.split(' ')) > 3 else x.replace(' ', '<br>')\n",
    ")\n",
    "\n",
    "# Create a violin plot using Plotly\n",
    "fig = px.violin(\n",
    "    filtered_data,\n",
    "    x='primary_diagnosis',\n",
    "    y='Expression',\n",
    "    box=True,  \n",
    "    points=False,\n",
    "    color='primary_diagnosis',  \n",
    "    title=\"Gene Expression Distribution Across Primary Diagnosis Categories (Aggregated by Case)\",\n",
    "    labels={\n",
    "        'primary_diagnosis': 'Primary Diagnosis',\n",
    "        'Expression': 'Expression Level'\n",
    "    },\n",
    "    color_discrete_sequence=px.colors.qualitative.Set2 \n",
    ")\n",
    "\n",
    "\n",
    "fig.update_layout(\n",
    "    xaxis_title=\"Primary Diagnosis\",\n",
    "    yaxis_title=\"Expression Level\",\n",
    "    xaxis_tickangle=0,  \n",
    "    showlegend=False,  \n",
    "    width=1200, \n",
    "    height=700  \n",
    ")\n",
    "\n",
    "\n",
    "fig.show()\n",
    "\n"
   ]
  },
  {
   "cell_type": "code",
   "execution_count": null,
   "id": "1db56819",
   "metadata": {},
   "outputs": [],
   "source": []
  }
 ],
 "metadata": {
  "kernelspec": {
   "display_name": "Python 3 (ipykernel)",
   "language": "python",
   "name": "python3"
  },
  "language_info": {
   "codemirror_mode": {
    "name": "ipython",
    "version": 3
   },
   "file_extension": ".py",
   "mimetype": "text/x-python",
   "name": "python",
   "nbconvert_exporter": "python",
   "pygments_lexer": "ipython3",
   "version": "3.12.4"
  }
 },
 "nbformat": 4,
 "nbformat_minor": 5
}
