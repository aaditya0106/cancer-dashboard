{
 "cells": [
  {
   "cell_type": "code",
   "execution_count": 81,
   "id": "5bda21d7-e7fc-40b6-bb8d-c563b8f7e64c",
   "metadata": {},
   "outputs": [],
   "source": [
    "import pandas as pd\n",
    "import numpy as np\n",
    "\n",
    "import seaborn as sns\n",
    "import matplotlib.pyplot as plt\n",
    "\n",
    "from scipy.stats import chi2_contingency"
   ]
  },
  {
   "cell_type": "code",
   "execution_count": 44,
   "id": "85e454dd-c04e-4f89-be28-02f51e2c29e1",
   "metadata": {},
   "outputs": [
    {
     "data": {
      "text/plain": [
       "(1522340, 13)"
      ]
     },
     "execution_count": 44,
     "metadata": {},
     "output_type": "execute_result"
    }
   ],
   "source": [
    "df = []\n",
    "for i in [1,2,3]:\n",
    "    df.append( pd.read_csv('riskfactor{}.csv'.format(i)) )\n",
    "df = pd.concat(df)\n",
    "df.shape"
   ]
  },
  {
   "cell_type": "code",
   "execution_count": 77,
   "id": "859d601d-68c4-45e1-b472-7a2f0e8c5ed9",
   "metadata": {},
   "outputs": [
    {
     "data": {
      "text/html": [
       "<div>\n",
       "<style scoped>\n",
       "    .dataframe tbody tr th:only-of-type {\n",
       "        vertical-align: middle;\n",
       "    }\n",
       "\n",
       "    .dataframe tbody tr th {\n",
       "        vertical-align: top;\n",
       "    }\n",
       "\n",
       "    .dataframe thead th {\n",
       "        text-align: right;\n",
       "    }\n",
       "</style>\n",
       "<table border=\"1\" class=\"dataframe\">\n",
       "  <thead>\n",
       "    <tr style=\"text-align: right;\">\n",
       "      <th></th>\n",
       "      <th>year</th>\n",
       "      <th>age_group_5_years</th>\n",
       "      <th>race_eth</th>\n",
       "      <th>first_degree_hx</th>\n",
       "      <th>age_menarche</th>\n",
       "      <th>age_first_birth</th>\n",
       "      <th>BIRADS_breast_density</th>\n",
       "      <th>current_hrt</th>\n",
       "      <th>menopaus</th>\n",
       "      <th>bmi_group</th>\n",
       "      <th>biophx</th>\n",
       "      <th>breast_cancer_history</th>\n",
       "      <th>count</th>\n",
       "    </tr>\n",
       "  </thead>\n",
       "  <tbody>\n",
       "    <tr>\n",
       "      <th>year</th>\n",
       "      <td>1.000000</td>\n",
       "      <td>0.031964</td>\n",
       "      <td>-0.015188</td>\n",
       "      <td>-0.021506</td>\n",
       "      <td>-0.016688</td>\n",
       "      <td>-0.027906</td>\n",
       "      <td>-0.169711</td>\n",
       "      <td>0.008089</td>\n",
       "      <td>-0.023082</td>\n",
       "      <td>-0.109039</td>\n",
       "      <td>0.090341</td>\n",
       "      <td>0.059117</td>\n",
       "      <td>-0.022107</td>\n",
       "    </tr>\n",
       "    <tr>\n",
       "      <th>age_group_5_years</th>\n",
       "      <td>0.031964</td>\n",
       "      <td>1.000000</td>\n",
       "      <td>-0.065071</td>\n",
       "      <td>-0.057153</td>\n",
       "      <td>-0.038233</td>\n",
       "      <td>-0.073843</td>\n",
       "      <td>-0.064939</td>\n",
       "      <td>0.181155</td>\n",
       "      <td>-0.090125</td>\n",
       "      <td>0.054039</td>\n",
       "      <td>0.050033</td>\n",
       "      <td>0.036120</td>\n",
       "      <td>-0.013721</td>\n",
       "    </tr>\n",
       "    <tr>\n",
       "      <th>race_eth</th>\n",
       "      <td>-0.015188</td>\n",
       "      <td>-0.065071</td>\n",
       "      <td>1.000000</td>\n",
       "      <td>0.007470</td>\n",
       "      <td>0.019438</td>\n",
       "      <td>0.031851</td>\n",
       "      <td>-0.004369</td>\n",
       "      <td>-0.065740</td>\n",
       "      <td>-0.000230</td>\n",
       "      <td>0.112384</td>\n",
       "      <td>-0.060776</td>\n",
       "      <td>-0.024709</td>\n",
       "      <td>-0.064949</td>\n",
       "    </tr>\n",
       "    <tr>\n",
       "      <th>first_degree_hx</th>\n",
       "      <td>-0.021506</td>\n",
       "      <td>-0.057153</td>\n",
       "      <td>0.007470</td>\n",
       "      <td>1.000000</td>\n",
       "      <td>0.118718</td>\n",
       "      <td>0.110587</td>\n",
       "      <td>0.021992</td>\n",
       "      <td>0.161881</td>\n",
       "      <td>0.061433</td>\n",
       "      <td>0.083855</td>\n",
       "      <td>0.069522</td>\n",
       "      <td>0.206235</td>\n",
       "      <td>-0.025301</td>\n",
       "    </tr>\n",
       "    <tr>\n",
       "      <th>age_menarche</th>\n",
       "      <td>-0.016688</td>\n",
       "      <td>-0.038233</td>\n",
       "      <td>0.019438</td>\n",
       "      <td>0.118718</td>\n",
       "      <td>1.000000</td>\n",
       "      <td>0.223545</td>\n",
       "      <td>0.114381</td>\n",
       "      <td>0.015277</td>\n",
       "      <td>0.032839</td>\n",
       "      <td>0.017435</td>\n",
       "      <td>0.007715</td>\n",
       "      <td>0.033692</td>\n",
       "      <td>0.075021</td>\n",
       "    </tr>\n",
       "    <tr>\n",
       "      <th>age_first_birth</th>\n",
       "      <td>-0.027906</td>\n",
       "      <td>-0.073843</td>\n",
       "      <td>0.031851</td>\n",
       "      <td>0.110587</td>\n",
       "      <td>0.223545</td>\n",
       "      <td>1.000000</td>\n",
       "      <td>0.133078</td>\n",
       "      <td>0.076792</td>\n",
       "      <td>0.097672</td>\n",
       "      <td>0.079263</td>\n",
       "      <td>0.109429</td>\n",
       "      <td>0.078734</td>\n",
       "      <td>0.063266</td>\n",
       "    </tr>\n",
       "    <tr>\n",
       "      <th>BIRADS_breast_density</th>\n",
       "      <td>-0.169711</td>\n",
       "      <td>-0.064939</td>\n",
       "      <td>-0.004369</td>\n",
       "      <td>0.021992</td>\n",
       "      <td>0.114381</td>\n",
       "      <td>0.133078</td>\n",
       "      <td>1.000000</td>\n",
       "      <td>0.003074</td>\n",
       "      <td>0.032377</td>\n",
       "      <td>0.000946</td>\n",
       "      <td>0.022421</td>\n",
       "      <td>-0.016639</td>\n",
       "      <td>-0.002763</td>\n",
       "    </tr>\n",
       "    <tr>\n",
       "      <th>current_hrt</th>\n",
       "      <td>0.008089</td>\n",
       "      <td>0.181155</td>\n",
       "      <td>-0.065740</td>\n",
       "      <td>0.161881</td>\n",
       "      <td>0.015277</td>\n",
       "      <td>0.076792</td>\n",
       "      <td>0.003074</td>\n",
       "      <td>1.000000</td>\n",
       "      <td>0.243283</td>\n",
       "      <td>0.137626</td>\n",
       "      <td>0.179479</td>\n",
       "      <td>0.481485</td>\n",
       "      <td>-0.052179</td>\n",
       "    </tr>\n",
       "    <tr>\n",
       "      <th>menopaus</th>\n",
       "      <td>-0.023082</td>\n",
       "      <td>-0.090125</td>\n",
       "      <td>-0.000230</td>\n",
       "      <td>0.061433</td>\n",
       "      <td>0.032839</td>\n",
       "      <td>0.097672</td>\n",
       "      <td>0.032377</td>\n",
       "      <td>0.243283</td>\n",
       "      <td>1.000000</td>\n",
       "      <td>0.085566</td>\n",
       "      <td>0.083364</td>\n",
       "      <td>0.128683</td>\n",
       "      <td>-0.025199</td>\n",
       "    </tr>\n",
       "    <tr>\n",
       "      <th>bmi_group</th>\n",
       "      <td>-0.109039</td>\n",
       "      <td>0.054039</td>\n",
       "      <td>0.112384</td>\n",
       "      <td>0.083855</td>\n",
       "      <td>0.017435</td>\n",
       "      <td>0.079263</td>\n",
       "      <td>0.000946</td>\n",
       "      <td>0.137626</td>\n",
       "      <td>0.085566</td>\n",
       "      <td>1.000000</td>\n",
       "      <td>0.081723</td>\n",
       "      <td>0.178907</td>\n",
       "      <td>0.018981</td>\n",
       "    </tr>\n",
       "    <tr>\n",
       "      <th>biophx</th>\n",
       "      <td>0.090341</td>\n",
       "      <td>0.050033</td>\n",
       "      <td>-0.060776</td>\n",
       "      <td>0.069522</td>\n",
       "      <td>0.007715</td>\n",
       "      <td>0.109429</td>\n",
       "      <td>0.022421</td>\n",
       "      <td>0.179479</td>\n",
       "      <td>0.083364</td>\n",
       "      <td>0.081723</td>\n",
       "      <td>1.000000</td>\n",
       "      <td>0.191848</td>\n",
       "      <td>-0.024083</td>\n",
       "    </tr>\n",
       "    <tr>\n",
       "      <th>breast_cancer_history</th>\n",
       "      <td>0.059117</td>\n",
       "      <td>0.036120</td>\n",
       "      <td>-0.024709</td>\n",
       "      <td>0.206235</td>\n",
       "      <td>0.033692</td>\n",
       "      <td>0.078734</td>\n",
       "      <td>-0.016639</td>\n",
       "      <td>0.481485</td>\n",
       "      <td>0.128683</td>\n",
       "      <td>0.178907</td>\n",
       "      <td>0.191848</td>\n",
       "      <td>1.000000</td>\n",
       "      <td>-0.039286</td>\n",
       "    </tr>\n",
       "    <tr>\n",
       "      <th>count</th>\n",
       "      <td>-0.022107</td>\n",
       "      <td>-0.013721</td>\n",
       "      <td>-0.064949</td>\n",
       "      <td>-0.025301</td>\n",
       "      <td>0.075021</td>\n",
       "      <td>0.063266</td>\n",
       "      <td>-0.002763</td>\n",
       "      <td>-0.052179</td>\n",
       "      <td>-0.025199</td>\n",
       "      <td>0.018981</td>\n",
       "      <td>-0.024083</td>\n",
       "      <td>-0.039286</td>\n",
       "      <td>1.000000</td>\n",
       "    </tr>\n",
       "  </tbody>\n",
       "</table>\n",
       "</div>"
      ],
      "text/plain": [
       "                           year  age_group_5_years  race_eth  first_degree_hx  \\\n",
       "year                   1.000000           0.031964 -0.015188        -0.021506   \n",
       "age_group_5_years      0.031964           1.000000 -0.065071        -0.057153   \n",
       "race_eth              -0.015188          -0.065071  1.000000         0.007470   \n",
       "first_degree_hx       -0.021506          -0.057153  0.007470         1.000000   \n",
       "age_menarche          -0.016688          -0.038233  0.019438         0.118718   \n",
       "age_first_birth       -0.027906          -0.073843  0.031851         0.110587   \n",
       "BIRADS_breast_density -0.169711          -0.064939 -0.004369         0.021992   \n",
       "current_hrt            0.008089           0.181155 -0.065740         0.161881   \n",
       "menopaus              -0.023082          -0.090125 -0.000230         0.061433   \n",
       "bmi_group             -0.109039           0.054039  0.112384         0.083855   \n",
       "biophx                 0.090341           0.050033 -0.060776         0.069522   \n",
       "breast_cancer_history  0.059117           0.036120 -0.024709         0.206235   \n",
       "count                 -0.022107          -0.013721 -0.064949        -0.025301   \n",
       "\n",
       "                       age_menarche  age_first_birth  BIRADS_breast_density  \\\n",
       "year                      -0.016688        -0.027906              -0.169711   \n",
       "age_group_5_years         -0.038233        -0.073843              -0.064939   \n",
       "race_eth                   0.019438         0.031851              -0.004369   \n",
       "first_degree_hx            0.118718         0.110587               0.021992   \n",
       "age_menarche               1.000000         0.223545               0.114381   \n",
       "age_first_birth            0.223545         1.000000               0.133078   \n",
       "BIRADS_breast_density      0.114381         0.133078               1.000000   \n",
       "current_hrt                0.015277         0.076792               0.003074   \n",
       "menopaus                   0.032839         0.097672               0.032377   \n",
       "bmi_group                  0.017435         0.079263               0.000946   \n",
       "biophx                     0.007715         0.109429               0.022421   \n",
       "breast_cancer_history      0.033692         0.078734              -0.016639   \n",
       "count                      0.075021         0.063266              -0.002763   \n",
       "\n",
       "                       current_hrt  menopaus  bmi_group    biophx  \\\n",
       "year                      0.008089 -0.023082  -0.109039  0.090341   \n",
       "age_group_5_years         0.181155 -0.090125   0.054039  0.050033   \n",
       "race_eth                 -0.065740 -0.000230   0.112384 -0.060776   \n",
       "first_degree_hx           0.161881  0.061433   0.083855  0.069522   \n",
       "age_menarche              0.015277  0.032839   0.017435  0.007715   \n",
       "age_first_birth           0.076792  0.097672   0.079263  0.109429   \n",
       "BIRADS_breast_density     0.003074  0.032377   0.000946  0.022421   \n",
       "current_hrt               1.000000  0.243283   0.137626  0.179479   \n",
       "menopaus                  0.243283  1.000000   0.085566  0.083364   \n",
       "bmi_group                 0.137626  0.085566   1.000000  0.081723   \n",
       "biophx                    0.179479  0.083364   0.081723  1.000000   \n",
       "breast_cancer_history     0.481485  0.128683   0.178907  0.191848   \n",
       "count                    -0.052179 -0.025199   0.018981 -0.024083   \n",
       "\n",
       "                       breast_cancer_history     count  \n",
       "year                                0.059117 -0.022107  \n",
       "age_group_5_years                   0.036120 -0.013721  \n",
       "race_eth                           -0.024709 -0.064949  \n",
       "first_degree_hx                     0.206235 -0.025301  \n",
       "age_menarche                        0.033692  0.075021  \n",
       "age_first_birth                     0.078734  0.063266  \n",
       "BIRADS_breast_density              -0.016639 -0.002763  \n",
       "current_hrt                         0.481485 -0.052179  \n",
       "menopaus                            0.128683 -0.025199  \n",
       "bmi_group                           0.178907  0.018981  \n",
       "biophx                              0.191848 -0.024083  \n",
       "breast_cancer_history               1.000000 -0.039286  \n",
       "count                              -0.039286  1.000000  "
      ]
     },
     "execution_count": 77,
     "metadata": {},
     "output_type": "execute_result"
    }
   ],
   "source": [
    "df.corr()"
   ]
  },
  {
   "cell_type": "code",
   "execution_count": 48,
   "id": "30312242-24f7-402e-8045-8408cf184ed5",
   "metadata": {},
   "outputs": [],
   "source": [
    "def cramers_v(x, y):\n",
    "    contingency_table = pd.crosstab(x, y)  # Create a contingency table\n",
    "    chi2, _, _, _ = chi2_contingency(contingency_table)  # Perform Chi-Square test\n",
    "    n = contingency_table.sum().sum()  # Total number of observations\n",
    "    phi2 = chi2 / n\n",
    "    r, k = contingency_table.shape\n",
    "    phi2corr = max(0, phi2 - ((k - 1) * (r - 1)) / (n - 1))  # Bias correction\n",
    "    rcorr = r - ((r - 1)**2 / (n - 1))\n",
    "    kcorr = k - ((k - 1)**2 / (n - 1))\n",
    "    return np.sqrt(phi2corr / min((kcorr - 1), (rcorr - 1)))"
   ]
  },
  {
   "cell_type": "code",
   "execution_count": 61,
   "id": "e8d2a9c4-96a8-45e9-981a-c825d975b87f",
   "metadata": {},
   "outputs": [],
   "source": [
    "categorical_columns = ['age_group_5_years', 'race_eth', 'first_degree_hx',\n",
    "       'age_menarche', 'age_first_birth', 'BIRADS_breast_density',\n",
    "       'current_hrt', 'menopaus', 'bmi_group', 'biophx',\n",
    "       'breast_cancer_history']\n",
    "\n",
    "corr_matrix = pd.DataFrame(index=categorical_columns, columns=categorical_columns)\n",
    "\n",
    "for col1 in categorical_columns:\n",
    "    for col2 in categorical_columns:\n",
    "        corr_matrix.loc[col1, col2] = 1.0  if col1 == col2 else cramers_v(df[col1], df[col2])\n",
    "\n",
    "corr_matrix = corr_matrix.astype(float)"
   ]
  },
  {
   "cell_type": "code",
   "execution_count": 73,
   "id": "c6493351-0091-412c-a6e4-272392c8ddc9",
   "metadata": {},
   "outputs": [
    {
     "data": {
      "image/png": "[encoded data removed]",
      "text/plain": [
       "<Figure size 900x700 with 2 Axes>"
      ]
     },
     "metadata": {},
     "output_type": "display_data"
    }
   ],
   "source": [
    "plt.figure(figsize=(9, 7))\n",
    "sns.heatmap(\n",
    "    corr_matrix,\n",
    "    annot=True,\n",
    "    fmt=\".2f\",\n",
    "    cmap=\"Blues\",\n",
    "    cbar=True,\n",
    "    xticklabels=corr_matrix.columns,\n",
    "    yticklabels=corr_matrix.index\n",
    ")\n",
    "\n",
    "plt.title(\"Correlation Matrix\", fontsize=16)\n",
    "plt.xticks(rotation=45)\n",
    "plt.tight_layout()\n",
    "plt.show()"
   ]
  },
  {
   "cell_type": "code",
   "execution_count": 4,
   "id": "900e322b-83c7-49c4-8e01-31ceea3d293e",
   "metadata": {},
   "outputs": [
    {
     "data": {
      "text/plain": [
       "age_group_5_years\n",
       "50-54 yrs    254196\n",
       "45-49 yrs    252910\n",
       "40-44 yrs    189193\n",
       "55-59 yrs    161787\n",
       "60-64 yrs    147137\n",
       "65-69 yrs    121621\n",
       "70-74 yrs     94178\n",
       "75-79 yrs     65772\n",
       "35-39 yrs     48629\n",
       "85+ yrs       41426\n",
       "30-34 yrs     19573\n",
       "18-29 yrs      5895\n",
       "Name: count, dtype: int64"
      ]
     },
     "execution_count": 4,
     "metadata": {},
     "output_type": "execute_result"
    }
   ],
   "source": [
    "# Age (years) in 5 year groups\n",
    "age_map = {\n",
    "    1 : '18-29 yrs',\n",
    "    2 : '30-34 yrs',\n",
    "    3 : '35-39 yrs',\n",
    "    5 : '40-44 yrs',\n",
    "    6 : '45-49 yrs',\n",
    "    7 : '50-54 yrs',\n",
    "    8 : '55-59 yrs',\n",
    "    9 : '60-64 yrs',\n",
    "    10 : '65-69 yrs',\n",
    "    11 : '70-74 yrs',\n",
    "    12 : '75-79 yrs',\n",
    "    13 : '85+ yrs',\n",
    "}\n",
    "df.age_group_5_years = df.age_group_5_years.map(age_map)\n",
    "df.age_group_5_years.value_counts()"
   ]
  },
  {
   "cell_type": "code",
   "execution_count": 5,
   "id": "5509b3f4-0a8f-451c-a8b3-58a15b5bdc71",
   "metadata": {},
   "outputs": [
    {
     "data": {
      "text/plain": [
       "race_eth\n",
       "Non-Hispanic white        721859\n",
       "Non-Hispanic black        255476\n",
       "Asian/Pacific Islander    179926\n",
       "Hispanic                  177069\n",
       "Unknown                    98329\n",
       "Other/mixed                73176\n",
       "Native American            16505\n",
       "Name: count, dtype: int64"
      ]
     },
     "execution_count": 5,
     "metadata": {},
     "output_type": "execute_result"
    }
   ],
   "source": [
    "# Race/ethnicity\n",
    "race_map = {\n",
    "    1 : 'Non-Hispanic white',\n",
    "    2 : 'Non-Hispanic black',\n",
    "    3 : 'Asian/Pacific Islander',\n",
    "    4 : 'Native American',\n",
    "    5 : 'Hispanic',\n",
    "    6 : 'Other/mixed',\n",
    "    9 : 'Unknown',\n",
    "}\n",
    "df.race_eth = df.race_eth.map(race_map)\n",
    "df.race_eth.value_counts()"
   ]
  },
  {
   "cell_type": "code",
   "execution_count": 6,
   "id": "2e818b79-833c-4b76-bffb-85adb465ebc6",
   "metadata": {},
   "outputs": [
    {
     "data": {
      "text/plain": [
       "first_degree_hx\n",
       "No         1021577\n",
       "Yes         412533\n",
       "Unknown      88230\n",
       "Name: count, dtype: int64"
      ]
     },
     "execution_count": 6,
     "metadata": {},
     "output_type": "execute_result"
    }
   ],
   "source": [
    "# History of breast cancer in a first degree relative\n",
    "first_degree_map = {\n",
    "    0 : 'No',\n",
    "    1 : 'Yes',\n",
    "    9 : 'Unknown',\n",
    "}\n",
    "df.first_degree_hx = df.first_degree_hx.map(first_degree_map)\n",
    "df.first_degree_hx.value_counts()"
   ]
  },
  {
   "cell_type": "code",
   "execution_count": 7,
   "id": "961ee938-c45b-400a-8100-e0f55ea7fe8a",
   "metadata": {},
   "outputs": [
    {
     "data": {
      "text/plain": [
       "age_menarche\n",
       "Unknown      688431\n",
       "Age 12-13    366212\n",
       "Age >14      256545\n",
       "Age <12      211152\n",
       "Name: count, dtype: int64"
      ]
     },
     "execution_count": 7,
     "metadata": {},
     "output_type": "execute_result"
    }
   ],
   "source": [
    "# Age (years) at menarche\n",
    "menarche_map = {\n",
    "    0 : 'Age >14',\n",
    "    1 : 'Age 12-13',\n",
    "    2 : 'Age <12',\n",
    "    9 : 'Unknown',\n",
    "}\n",
    "df.age_menarche = df.age_menarche.map(menarche_map)\n",
    "df.age_menarche.value_counts()"
   ]
  },
  {
   "cell_type": "code",
   "execution_count": 8,
   "id": "efddeab2-ff3d-4e8d-893d-fbb4b5c6b7f7",
   "metadata": {},
   "outputs": [
    {
     "data": {
      "text/plain": [
       "age_first_birth\n",
       "Unknown        331803\n",
       "Nulliparous    266471\n",
       "Age 20-24      257723\n",
       "Age < 20       234530\n",
       "Age >30        220720\n",
       "Age 25-29      211093\n",
       "Name: count, dtype: int64"
      ]
     },
     "execution_count": 8,
     "metadata": {},
     "output_type": "execute_result"
    }
   ],
   "source": [
    "# Age (years) at first birth\n",
    "first_birth_map = {\n",
    "    0 : 'Age < 20',\n",
    "    1 : 'Age 20-24',\n",
    "    2 : 'Age 25-29',\n",
    "    3 : 'Age >30',\n",
    "    4 : 'Nulliparous',\n",
    "    9 : 'Unknown',\n",
    "}\n",
    "df.age_first_birth = df.age_first_birth.map(first_birth_map)\n",
    "df.age_first_birth.value_counts()"
   ]
  },
  {
   "cell_type": "code",
   "execution_count": 9,
   "id": "af398ca5-4d76-42b6-a957-5663686e58c8",
   "metadata": {},
   "outputs": [
    {
     "data": {
      "text/plain": [
       "BIRADS_breast_density\n",
       "Scattered fibroglandular densities    514025\n",
       "Heterogeneously dense                 479803\n",
       "Almost entirely fat                   191893\n",
       "Unknown                               179011\n",
       "Extremely dense                       157608\n",
       "Name: count, dtype: int64"
      ]
     },
     "execution_count": 9,
     "metadata": {},
     "output_type": "execute_result"
    }
   ],
   "source": [
    "# BI-RADS breast density\n",
    "bdensity_map = {\n",
    "    1 : 'Almost entirely fat',\n",
    "    2 : 'Scattered fibroglandular densities',\n",
    "    3 : 'Heterogeneously dense',\n",
    "    4 : 'Extremely dense',\n",
    "    9 : 'Unknown',\n",
    "}\n",
    "df.BIRADS_breast_density = df.BIRADS_breast_density.map(bdensity_map)\n",
    "df.BIRADS_breast_density.value_counts()"
   ]
  },
  {
   "cell_type": "code",
   "execution_count": 10,
   "id": "912fdaff-435e-4ed8-ba66-18dbddd0f7db",
   "metadata": {},
   "outputs": [
    {
     "data": {
      "text/plain": [
       "current_hrt\n",
       "No         1087606\n",
       "Unknown     313776\n",
       "Yes         120958\n",
       "Name: count, dtype: int64"
      ]
     },
     "execution_count": 10,
     "metadata": {},
     "output_type": "execute_result"
    }
   ],
   "source": [
    "# Use of hormone replacement therapy\n",
    "current_hrt_map = {\n",
    "    0 : 'No',\n",
    "    1 : 'Yes',\n",
    "    9 : 'Unknown',\n",
    "}\n",
    "df.current_hrt = df.current_hrt.map(current_hrt_map)\n",
    "df.current_hrt.value_counts()"
   ]
  },
  {
   "cell_type": "code",
   "execution_count": 11,
   "id": "78861926-7d84-4686-8b83-05d0ad902886",
   "metadata": {},
   "outputs": [
    {
     "data": {
      "text/plain": [
       "menopaus\n",
       "Post-menopausal           881210\n",
       "Pre or peri-menopausal    343344\n",
       "Unknown                   168892\n",
       "Surgical menopause        128894\n",
       "Name: count, dtype: int64"
      ]
     },
     "execution_count": 11,
     "metadata": {},
     "output_type": "execute_result"
    }
   ],
   "source": [
    "# Menopausal status\n",
    "menopaus_map = {\n",
    "    1 : 'Pre or peri-menopausal',\n",
    "    2 : 'Post-menopausal',\n",
    "    3 : 'Surgical menopause',\n",
    "    9 : 'Unknown',\n",
    "}\n",
    "df.menopaus = df.menopaus.map(menopaus_map)\n",
    "df.menopaus.value_counts()"
   ]
  },
  {
   "cell_type": "code",
   "execution_count": 12,
   "id": "aa6de887-c3bd-4c89-97b3-ccf473eb869f",
   "metadata": {},
   "outputs": [
    {
     "data": {
      "text/plain": [
       "bmi_group\n",
       "Unknown     459438\n",
       "10-24.99    351790\n",
       "25-29.99    312333\n",
       "30-34.99    218781\n",
       "35+         179998\n",
       "Name: count, dtype: int64"
      ]
     },
     "execution_count": 12,
     "metadata": {},
     "output_type": "execute_result"
    }
   ],
   "source": [
    "# Body mass index (kg/m2)\n",
    "bmi_map = {\n",
    "    1 : '10-24.99',\n",
    "    2 : '25-29.99',\n",
    "    3 : '30-34.99',\n",
    "    4 : '35+',\n",
    "    9 : 'Unknown',\n",
    "}\n",
    "df.bmi_group = df.bmi_group.map(bmi_map)\n",
    "df.bmi_group.value_counts()"
   ]
  },
  {
   "cell_type": "code",
   "execution_count": 13,
   "id": "76e43027-e8ae-4da0-b0ba-6ec8cd39fd36",
   "metadata": {},
   "outputs": [
    {
     "data": {
      "text/plain": [
       "biophx\n",
       "No         898839\n",
       "Yes        559834\n",
       "Unknown     63667\n",
       "Name: count, dtype: int64"
      ]
     },
     "execution_count": 13,
     "metadata": {},
     "output_type": "execute_result"
    }
   ],
   "source": [
    "# Previous breast biopsy or aspiration\n",
    "biophx_map = {\n",
    "    0 : 'No',\n",
    "    1 : 'Yes',\n",
    "    9 : 'Unknown',\n",
    "}\n",
    "df.biophx = df.biophx.map(biophx_map)\n",
    "df.biophx.value_counts()"
   ]
  },
  {
   "cell_type": "code",
   "execution_count": 14,
   "id": "c5d3115e-fab4-4dc3-8304-485585dfce96",
   "metadata": {},
   "outputs": [
    {
     "data": {
      "text/plain": [
       "breast_cancer_history\n",
       "No         969662\n",
       "Unknown    330902\n",
       "Yes        221776\n",
       "Name: count, dtype: int64"
      ]
     },
     "execution_count": 14,
     "metadata": {},
     "output_type": "execute_result"
    }
   ],
   "source": [
    "# Prior breast cancer diagnosis\n",
    "history_map = {\n",
    "    0 : 'No',\n",
    "    1 : 'Yes',\n",
    "    9 : 'Unknown',\n",
    "}\n",
    "df.breast_cancer_history = df.breast_cancer_history.map(history_map)\n",
    "df.breast_cancer_history.value_counts()"
   ]
  },
  {
   "cell_type": "code",
   "execution_count": 15,
   "id": "149d70e2-7e59-4139-8ef6-8e10a36baad0",
   "metadata": {},
   "outputs": [
    {
     "data": {
      "text/plain": [
       "(1522223, 13)"
      ]
     },
     "execution_count": 15,
     "metadata": {},
     "output_type": "execute_result"
    }
   ],
   "source": [
    "unknown_idx = df[(df[df.columns.difference(['year', 'count', 'age_group_5_years'])] == 'Unknown').all(1)].index\n",
    "df = df.drop(index = unknown_idx)\n",
    "df.shape"
   ]
  },
  {
   "cell_type": "code",
   "execution_count": 32,
   "id": "787961f1-292a-4c65-8143-7f0f429d839a",
   "metadata": {},
   "outputs": [
    {
     "data": {
      "text/html": [
       "<div>\n",
       "<style scoped>\n",
       "    .dataframe tbody tr th:only-of-type {\n",
       "        vertical-align: middle;\n",
       "    }\n",
       "\n",
       "    .dataframe tbody tr th {\n",
       "        vertical-align: top;\n",
       "    }\n",
       "\n",
       "    .dataframe thead th {\n",
       "        text-align: right;\n",
       "    }\n",
       "</style>\n",
       "<table border=\"1\" class=\"dataframe\">\n",
       "  <thead>\n",
       "    <tr style=\"text-align: right;\">\n",
       "      <th></th>\n",
       "      <th>year</th>\n",
       "      <th>age_group_5_years</th>\n",
       "      <th>race_eth</th>\n",
       "      <th>first_degree_hx</th>\n",
       "      <th>age_menarche</th>\n",
       "      <th>age_first_birth</th>\n",
       "      <th>BIRADS_breast_density</th>\n",
       "      <th>current_hrt</th>\n",
       "      <th>menopaus</th>\n",
       "      <th>bmi_group</th>\n",
       "      <th>biophx</th>\n",
       "      <th>breast_cancer_history</th>\n",
       "      <th>count</th>\n",
       "    </tr>\n",
       "  </thead>\n",
       "  <tbody>\n",
       "    <tr>\n",
       "      <th>0</th>\n",
       "      <td>2005</td>\n",
       "      <td>18-29 yrs</td>\n",
       "      <td>Non-Hispanic white</td>\n",
       "      <td>No</td>\n",
       "      <td>Age &gt;14</td>\n",
       "      <td>Age &lt; 20</td>\n",
       "      <td>Scattered fibroglandular densities</td>\n",
       "      <td>No</td>\n",
       "      <td>Pre or peri-menopausal</td>\n",
       "      <td>Unknown</td>\n",
       "      <td>No</td>\n",
       "      <td>No</td>\n",
       "      <td>2</td>\n",
       "    </tr>\n",
       "    <tr>\n",
       "      <th>1</th>\n",
       "      <td>2005</td>\n",
       "      <td>18-29 yrs</td>\n",
       "      <td>Non-Hispanic white</td>\n",
       "      <td>No</td>\n",
       "      <td>Age &gt;14</td>\n",
       "      <td>Age &lt; 20</td>\n",
       "      <td>Extremely dense</td>\n",
       "      <td>No</td>\n",
       "      <td>Pre or peri-menopausal</td>\n",
       "      <td>10-24.99</td>\n",
       "      <td>No</td>\n",
       "      <td>No</td>\n",
       "      <td>1</td>\n",
       "    </tr>\n",
       "    <tr>\n",
       "      <th>2</th>\n",
       "      <td>2005</td>\n",
       "      <td>18-29 yrs</td>\n",
       "      <td>Non-Hispanic white</td>\n",
       "      <td>No</td>\n",
       "      <td>Age &gt;14</td>\n",
       "      <td>Age &lt; 20</td>\n",
       "      <td>Extremely dense</td>\n",
       "      <td>No</td>\n",
       "      <td>Pre or peri-menopausal</td>\n",
       "      <td>25-29.99</td>\n",
       "      <td>No</td>\n",
       "      <td>No</td>\n",
       "      <td>1</td>\n",
       "    </tr>\n",
       "    <tr>\n",
       "      <th>3</th>\n",
       "      <td>2005</td>\n",
       "      <td>18-29 yrs</td>\n",
       "      <td>Non-Hispanic white</td>\n",
       "      <td>No</td>\n",
       "      <td>Age &gt;14</td>\n",
       "      <td>Age &lt; 20</td>\n",
       "      <td>Extremely dense</td>\n",
       "      <td>No</td>\n",
       "      <td>Pre or peri-menopausal</td>\n",
       "      <td>Unknown</td>\n",
       "      <td>No</td>\n",
       "      <td>No</td>\n",
       "      <td>2</td>\n",
       "    </tr>\n",
       "    <tr>\n",
       "      <th>4</th>\n",
       "      <td>2005</td>\n",
       "      <td>18-29 yrs</td>\n",
       "      <td>Non-Hispanic white</td>\n",
       "      <td>No</td>\n",
       "      <td>Age &gt;14</td>\n",
       "      <td>Age 20-24</td>\n",
       "      <td>Extremely dense</td>\n",
       "      <td>No</td>\n",
       "      <td>Pre or peri-menopausal</td>\n",
       "      <td>35+</td>\n",
       "      <td>No</td>\n",
       "      <td>No</td>\n",
       "      <td>1</td>\n",
       "    </tr>\n",
       "  </tbody>\n",
       "</table>\n",
       "</div>"
      ],
      "text/plain": [
       "   year age_group_5_years            race_eth first_degree_hx age_menarche  \\\n",
       "0  2005         18-29 yrs  Non-Hispanic white              No      Age >14   \n",
       "1  2005         18-29 yrs  Non-Hispanic white              No      Age >14   \n",
       "2  2005         18-29 yrs  Non-Hispanic white              No      Age >14   \n",
       "3  2005         18-29 yrs  Non-Hispanic white              No      Age >14   \n",
       "4  2005         18-29 yrs  Non-Hispanic white              No      Age >14   \n",
       "\n",
       "  age_first_birth               BIRADS_breast_density current_hrt  \\\n",
       "0        Age < 20  Scattered fibroglandular densities          No   \n",
       "1        Age < 20                     Extremely dense          No   \n",
       "2        Age < 20                     Extremely dense          No   \n",
       "3        Age < 20                     Extremely dense          No   \n",
       "4       Age 20-24                     Extremely dense          No   \n",
       "\n",
       "                 menopaus bmi_group biophx breast_cancer_history  count  \n",
       "0  Pre or peri-menopausal   Unknown     No                    No      2  \n",
       "1  Pre or peri-menopausal  10-24.99     No                    No      1  \n",
       "2  Pre or peri-menopausal  25-29.99     No                    No      1  \n",
       "3  Pre or peri-menopausal   Unknown     No                    No      2  \n",
       "4  Pre or peri-menopausal       35+     No                    No      1  "
      ]
     },
     "execution_count": 32,
     "metadata": {},
     "output_type": "execute_result"
    }
   ],
   "source": [
    "df.head()"
   ]
  },
  {
   "cell_type": "code",
   "execution_count": null,
   "id": "7d30615c-ac19-4cb4-8d9a-e98922c87736",
   "metadata": {},
   "outputs": [],
   "source": []
  }
 ],
 "metadata": {
  "kernelspec": {
   "display_name": "Python 3 (ipykernel)",
   "language": "python",
   "name": "python3"
  },
  "language_info": {
   "codemirror_mode": {
    "name": "ipython",
    "version": 3
   },
   "file_extension": ".py",
   "mimetype": "text/x-python",
   "name": "python",
   "nbconvert_exporter": "python",
   "pygments_lexer": "ipython3",
   "version": "3.12.4"
  }
 },
 "nbformat": 4,
 "nbformat_minor": 5
}
