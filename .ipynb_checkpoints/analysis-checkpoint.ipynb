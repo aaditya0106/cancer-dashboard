{
 "cells": [
  {
   "cell_type": "code",
   "execution_count": 45,
   "id": "34fff5df-cdcd-47f1-aa59-e6e278504ae8",
   "metadata": {},
   "outputs": [],
   "source": [
    "import numpy as np\n",
    "import pandas as pd\n",
    "import plotly.express as px\n",
    "import matplotlib.pyplot as plt\n",
    "import seaborn as sns\n",
    "from sklearn.preprocessing import StandardScaler\n",
    "from sklearn.model_selection import train_test_split\n",
    "import streamlit as st\n",
    "\n",
    "# Random Forest\n",
    "from sklearn.ensemble import RandomForestClassifier\n",
    "# K-Nearest Neighbors\n",
    "from sklearn.neighbors import KNeighborsClassifier\n",
    "\n",
    "#Gradient Boosting Classifier\n",
    "from sklearn.ensemble import GradientBoostingClassifier\n",
    "# XGBClassifier \n",
    "from xgboost import XGBClassifier\n",
    "#AdaBoostClassifier\n",
    "from sklearn.ensemble import AdaBoostClassifier\n",
    "#LogisticRegression\n",
    "from sklearn.linear_model import LogisticRegression\n",
    "\n",
    "from sklearn.metrics import confusion_matrix\n",
    "from sklearn.metrics import accuracy_score, classification_report\n"
   ]
  },
  {
   "cell_type": "code",
   "execution_count": 47,
   "id": "f2e94181-538b-42e6-abd9-f8a7a248baf3",
   "metadata": {},
   "outputs": [],
   "source": [
    "df = pd.read_csv(\"SEER_Breast_Cancer_2020.csv\", delimiter=';')"
   ]
  },
  {
   "cell_type": "code",
   "execution_count": 49,
   "id": "489c1804-e3a0-41e8-b298-01dcd0b6ca71",
   "metadata": {},
   "outputs": [
    {
     "data": {
      "text/plain": [
       "Index(['Age recode with <1 year olds', 'Year of birth', 'Sequence number',\n",
       "       'Year of diagnosis', 'Primary Site - labeled', 'Laterality',\n",
       "       'Reason no cancer-directed surgery',\n",
       "       'Histology recode - broad groupings',\n",
       "       'ER Status Recode Breast Cancer (1990+)',\n",
       "       'PR Status Recode Breast Cancer (1990+)', 'Survival months',\n",
       "       'Breast - Adjusted AJCC 6th T (1988-2015)',\n",
       "       'Breast - Adjusted AJCC 6th N (1988-2015)',\n",
       "       'Breast - Adjusted AJCC 6th M (1988-2015)',\n",
       "       'Breast - Adjusted AJCC 6th Stage (1988-2015)'],\n",
       "      dtype='object')"
      ]
     },
     "execution_count": 49,
     "metadata": {},
     "output_type": "execute_result"
    }
   ],
   "source": [
    "df.columns"
   ]
  },
  {
   "cell_type": "code",
   "execution_count": 51,
   "id": "45a53746-6ced-46af-ab18-6a88ffa33402",
   "metadata": {},
   "outputs": [],
   "source": [
    "df = df.rename(columns = {'Age recode with <1 year olds' : 'Age Group'})\n",
    "map = {\n",
    "    '15-19 years' : '15-24 yrs',\n",
    "    '20-24 years' : '15-24 yrs',\n",
    "    '25-29 years' : '25-34 yrs',\n",
    "    '30-34 years' : '25-34 yrs',\n",
    "    '35-39 years' : '35-44 yrs',\n",
    "    '40-44 years' : '35-44 yrs',\n",
    "    '45-49 years' : '45-54 yrs',\n",
    "    '50-54 years' : '45-54 yrs',\n",
    "    '54-59 years' : '55-64 yrs',\n",
    "    '60-64 years' : '55-64 yrs',\n",
    "    '65-69 years' : '65-74 yrs',\n",
    "    '70-74 years' : '65-74 yrs',\n",
    "    '75-79 years' : '75-84 yrs',\n",
    "    '80-84 years' : '75-84 yrs',\n",
    "    '85+ years'   : '85+ years',\n",
    "}\n",
    "df['Age Group'] = df['Age Group'].map(map)"
   ]
  },
  {
   "cell_type": "code",
   "execution_count": 53,
   "id": "f443ed1b-8a2a-4952-98ed-bb082318c862",
   "metadata": {},
   "outputs": [
    {
     "data": {
      "text/plain": [
       "count    172568.000000\n",
       "mean         60.867791\n",
       "std          15.020049\n",
       "min          16.000000\n",
       "25%          50.000000\n",
       "50%          60.000000\n",
       "75%          72.000000\n",
       "max         109.000000\n",
       "Name: Age at Diagnosis, dtype: float64"
      ]
     },
     "execution_count": 53,
     "metadata": {},
     "output_type": "execute_result"
    }
   ],
   "source": [
    "df['Age at Diagnosis'] = df['Year of diagnosis'] - df['Year of birth']\n",
    "df['Age at Diagnosis'].describe()"
   ]
  },
  {
   "cell_type": "code",
   "execution_count": 55,
   "id": "6f00718b-ff21-4219-954a-3c42a4a865cd",
   "metadata": {},
   "outputs": [
    {
     "data": {
      "text/plain": [
       "ER Status Recode Breast Cancer (1990+)\n",
       "Positive            73064\n",
       "Not 1990+ Breast    37744\n",
       "Negative            37553\n",
       "Unknown             20993\n",
       "Borderline            472\n",
       "Name: count, dtype: int64"
      ]
     },
     "execution_count": 55,
     "metadata": {},
     "output_type": "execute_result"
    }
   ],
   "source": [
    "df['ER Status Recode Breast Cancer (1990+)'].value_counts()"
   ]
  },
  {
   "cell_type": "code",
   "execution_count": 59,
   "id": "95651e2c-6029-492e-9f32-40429ac4b0e3",
   "metadata": {},
   "outputs": [
    {
     "data": {
      "text/plain": [
       "count    172568.000000\n",
       "mean       1998.401117\n",
       "std          10.592512\n",
       "min        1975.000000\n",
       "25%        1991.000000\n",
       "50%        2001.000000\n",
       "75%        2007.000000\n",
       "max        2016.000000\n",
       "Name: Year of diagnosis, dtype: float64"
      ]
     },
     "execution_count": 59,
     "metadata": {},
     "output_type": "execute_result"
    }
   ],
   "source": [
    "df['Year of diagnosis'].describe()"
   ]
  },
  {
   "cell_type": "code",
   "execution_count": 63,
   "id": "97df5cb4-0812-49a2-907f-23b0412329eb",
   "metadata": {},
   "outputs": [],
   "source": [
    "# Recode the column \"Laterality\" into left, right, and two-sided\n",
    "laterality_map = {\n",
    "    'Left - origin of primary': 'left',\n",
    "    'Right - origin of primary': 'right',\n",
    "    'Bilateral involvement, lateral origin unknown': 'two-sided'\n",
    "    # Add mappings for other values if needed\n",
    "}\n",
    "df['Laterality Recoded'] = df['Laterality'].map(laterality_map)"
   ]
  },
  {
   "cell_type": "code",
   "execution_count": 67,
   "id": "0c5903f1-42bd-4b82-9f21-71902453c872",
   "metadata": {},
   "outputs": [],
   "source": [
    "# Filter out cases that are later than 2011\n",
    "df = df[df['Year of diagnosis'] <= 2011]"
   ]
  },
  {
   "cell_type": "code",
   "execution_count": 69,
   "id": "89416a4c-e53e-4a08-b416-9a0e609d64b6",
   "metadata": {},
   "outputs": [
    {
     "name": "stderr",
     "output_type": "stream",
     "text": [
      "/var/folders/v9/pj6tyjzj4ssfd95k4nfrdszr0000gn/T/ipykernel_40342/1196308561.py:3: SettingWithCopyWarning:\n",
      "\n",
      "\n",
      "A value is trying to be set on a copy of a slice from a DataFrame.\n",
      "Try using .loc[row_indexer,col_indexer] = value instead\n",
      "\n",
      "See the caveats in the documentation: https://pandas.pydata.org/pandas-docs/stable/user_guide/indexing.html#returning-a-view-versus-a-copy\n",
      "\n"
     ]
    }
   ],
   "source": [
    "# Classify patients as \"healed\" or \"not healed\".\n",
    "# If patient is alive after 60 months from diagnosis, we mark that person as healed.\n",
    "df['Healing Status'] = df['Survival months'].apply(lambda x: 'healed' if x > 60 else 'not healed')"
   ]
  },
  {
   "cell_type": "code",
   "execution_count": 71,
   "id": "df921e81-c0d2-43e3-932d-a2235bd75613",
   "metadata": {},
   "outputs": [
    {
     "data": {
      "text/plain": [
       "Healing Status\n",
       "not healed    61.651497\n",
       "healed        38.348503\n",
       "Name: count, dtype: float64"
      ]
     },
     "execution_count": 71,
     "metadata": {},
     "output_type": "execute_result"
    }
   ],
   "source": [
    "# Check the distribution of \"healed\" and \"not healed\" patients\n",
    "df['Healing Status'].value_counts()*100 / df.shape[0]"
   ]
  },
  {
   "cell_type": "code",
   "execution_count": 83,
   "id": "e3239e7c-82d7-4cb0-b973-e6b37927fb60",
   "metadata": {},
   "outputs": [],
   "source": [
    "df1 = df.groupby(['Year of diagnosis', 'Age Group'])['Age at Diagnosis'].count().reset_index()\n",
    "df1 = df1.rename(columns = {'Age at Diagnosis' : 'Number of Patients'})\n",
    "df1['Age Group'] = df1['Age Group'].astype(str)\n",
    "df1.to_csv('patients by year and age.csv')"
   ]
  },
  {
   "cell_type": "code",
   "execution_count": 79,
   "id": "1ce0e7a2-aebb-4e49-8762-ebbf94998fc4",
   "metadata": {},
   "outputs": [
    {
     "data": {
      "application/vnd.plotly.v1+json": {
       "config": {
        "plotlyServerURL": "https://plot.ly"
       },
       "data": [
        {
         "hovertemplate": "Age Group=15-24 yrs<br>Year of diagnosis=%{x}<br>Number of Patients=%{y}<extra></extra>",
         "legendgroup": "15-24 yrs",
         "line": {
          "color": "#4C78A8",
          "dash": "solid"
         },
         "marker": {
          "symbol": "circle"
         },
         "mode": "lines",
         "name": "15-24 yrs",
         "orientation": "v",
         "showlegend": true,
         "type": "scatter",
         "x": [
          1975,
          1976,
          1977,
          1978,
          1979,
          1980,
          1981,
          1982,
          1983,
          1984,
          1985,
          1986,
          1987,
          1989,
          1990,
          1991,
          1992,
          1993,
          1994,
          1995,
          1996,
          1997,
          1998,
          1999,
          2000,
          2001,
          2002,
          2003,
          2004,
          2005,
          2006,
          2007,
          2008,
          2009,
          2010,
          2011
         ],
         "xaxis": "x",
         "y": [
          2,
          2,
          6,
          4,
          5,
          3,
          5,
          3,
          10,
          3,
          4,
          4,
          3,
          2,
          3,
          3,
          3,
          6,
          10,
          7,
          5,
          6,
          2,
          2,
          9,
          12,
          13,
          13,
          10,
          6,
          15,
          10,
          9,
          9,
          1,
          9
         ],
         "yaxis": "y"
        },
        {
         "hovertemplate": "Age Group=25-34 yrs<br>Year of diagnosis=%{x}<br>Number of Patients=%{y}<extra></extra>",
         "legendgroup": "25-34 yrs",
         "line": {
          "color": "#F58518",
          "dash": "solid"
         },
         "marker": {
          "symbol": "circle"
         },
         "mode": "lines",
         "name": "25-34 yrs",
         "orientation": "v",
         "showlegend": true,
         "type": "scatter",
         "x": [
          1975,
          1976,
          1977,
          1978,
          1979,
          1980,
          1981,
          1982,
          1983,
          1984,
          1985,
          1986,
          1987,
          1988,
          1989,
          1990,
          1991,
          1992,
          1993,
          1994,
          1995,
          1996,
          1997,
          1998,
          1999,
          2000,
          2001,
          2002,
          2003,
          2004,
          2005,
          2006,
          2007,
          2008,
          2009,
          2010,
          2011
         ],
         "xaxis": "x",
         "y": [
          94,
          77,
          84,
          84,
          84,
          104,
          108,
          117,
          108,
          98,
          111,
          116,
          117,
          107,
          116,
          96,
          108,
          161,
          165,
          153,
          163,
          146,
          119,
          156,
          136,
          233,
          300,
          249,
          231,
          249,
          212,
          194,
          201,
          182,
          192,
          150,
          145
         ],
         "yaxis": "y"
        },
        {
         "hovertemplate": "Age Group=35-44 yrs<br>Year of diagnosis=%{x}<br>Number of Patients=%{y}<extra></extra>",
         "legendgroup": "35-44 yrs",
         "line": {
          "color": "#E45756",
          "dash": "solid"
         },
         "marker": {
          "symbol": "circle"
         },
         "mode": "lines",
         "name": "35-44 yrs",
         "orientation": "v",
         "showlegend": true,
         "type": "scatter",
         "x": [
          1975,
          1976,
          1977,
          1978,
          1979,
          1980,
          1981,
          1982,
          1983,
          1984,
          1985,
          1986,
          1987,
          1988,
          1989,
          1990,
          1991,
          1992,
          1993,
          1994,
          1995,
          1996,
          1997,
          1998,
          1999,
          2000,
          2001,
          2002,
          2003,
          2004,
          2005,
          2006,
          2007,
          2008,
          2009,
          2010,
          2011
         ],
         "xaxis": "x",
         "y": [
          289,
          268,
          273,
          290,
          278,
          305,
          317,
          335,
          342,
          389,
          393,
          378,
          440,
          388,
          379,
          427,
          409,
          575,
          520,
          620,
          610,
          598,
          537,
          558,
          518,
          1206,
          1096,
          1015,
          937,
          931,
          849,
          748,
          769,
          692,
          600,
          528,
          537
         ],
         "yaxis": "y"
        },
        {
         "hovertemplate": "Age Group=45-54 yrs<br>Year of diagnosis=%{x}<br>Number of Patients=%{y}<extra></extra>",
         "legendgroup": "45-54 yrs",
         "line": {
          "color": "#72B7B2",
          "dash": "solid"
         },
         "marker": {
          "symbol": "circle"
         },
         "mode": "lines",
         "name": "45-54 yrs",
         "orientation": "v",
         "showlegend": true,
         "type": "scatter",
         "x": [
          1975,
          1976,
          1977,
          1978,
          1979,
          1980,
          1981,
          1982,
          1983,
          1984,
          1985,
          1986,
          1987,
          1988,
          1989,
          1990,
          1991,
          1992,
          1993,
          1994,
          1995,
          1996,
          1997,
          1998,
          1999,
          2000,
          2001,
          2002,
          2003,
          2004,
          2005,
          2006,
          2007,
          2008,
          2009,
          2010,
          2011
         ],
         "xaxis": "x",
         "y": [
          636,
          613,
          634,
          611,
          593,
          534,
          553,
          539,
          500,
          512,
          563,
          522,
          524,
          494,
          512,
          511,
          561,
          801,
          866,
          872,
          965,
          911,
          902,
          882,
          867,
          1890,
          1830,
          1816,
          1653,
          1595,
          1404,
          1490,
          1395,
          1430,
          1296,
          1073,
          1001
         ],
         "yaxis": "y"
        },
        {
         "hovertemplate": "Age Group=55-64 yrs<br>Year of diagnosis=%{x}<br>Number of Patients=%{y}<extra></extra>",
         "legendgroup": "55-64 yrs",
         "line": {
          "color": "#54A24B",
          "dash": "solid"
         },
         "marker": {
          "symbol": "circle"
         },
         "mode": "lines",
         "name": "55-64 yrs",
         "orientation": "v",
         "showlegend": true,
         "type": "scatter",
         "x": [
          1975,
          1976,
          1977,
          1978,
          1979,
          1980,
          1981,
          1982,
          1983,
          1984,
          1985,
          1986,
          1987,
          1988,
          1989,
          1990,
          1991,
          1992,
          1993,
          1994,
          1995,
          1996,
          1997,
          1998,
          1999,
          2000,
          2001,
          2002,
          2003,
          2004,
          2005,
          2006,
          2007,
          2008,
          2009,
          2010,
          2011
         ],
         "xaxis": "x",
         "y": [
          318,
          284,
          304,
          338,
          316,
          341,
          354,
          350,
          374,
          355,
          385,
          380,
          379,
          331,
          336,
          338,
          324,
          457,
          434,
          409,
          416,
          392,
          366,
          354,
          350,
          798,
          811,
          744,
          778,
          813,
          708,
          766,
          754,
          758,
          693,
          711,
          649
         ],
         "yaxis": "y"
        },
        {
         "hovertemplate": "Age Group=65-74 yrs<br>Year of diagnosis=%{x}<br>Number of Patients=%{y}<extra></extra>",
         "legendgroup": "65-74 yrs",
         "line": {
          "color": "#EECA3B",
          "dash": "solid"
         },
         "marker": {
          "symbol": "circle"
         },
         "mode": "lines",
         "name": "65-74 yrs",
         "orientation": "v",
         "showlegend": true,
         "type": "scatter",
         "x": [
          1975,
          1976,
          1977,
          1978,
          1979,
          1980,
          1981,
          1982,
          1983,
          1984,
          1985,
          1986,
          1987,
          1988,
          1989,
          1990,
          1991,
          1992,
          1993,
          1994,
          1995,
          1996,
          1997,
          1998,
          1999,
          2000,
          2001,
          2002,
          2003,
          2004,
          2005,
          2006,
          2007,
          2008,
          2009,
          2010,
          2011
         ],
         "xaxis": "x",
         "y": [
          419,
          479,
          442,
          452,
          501,
          513,
          567,
          539,
          577,
          559,
          557,
          624,
          657,
          642,
          586,
          620,
          595,
          855,
          836,
          806,
          798,
          787,
          803,
          738,
          730,
          1590,
          1447,
          1465,
          1349,
          1346,
          1193,
          1231,
          1220,
          1203,
          1151,
          1030,
          1015
         ],
         "yaxis": "y"
        },
        {
         "hovertemplate": "Age Group=75-84 yrs<br>Year of diagnosis=%{x}<br>Number of Patients=%{y}<extra></extra>",
         "legendgroup": "75-84 yrs",
         "line": {
          "color": "#B279A2",
          "dash": "solid"
         },
         "marker": {
          "symbol": "circle"
         },
         "mode": "lines",
         "name": "75-84 yrs",
         "orientation": "v",
         "showlegend": true,
         "type": "scatter",
         "x": [
          1975,
          1976,
          1977,
          1978,
          1979,
          1980,
          1981,
          1982,
          1983,
          1984,
          1985,
          1986,
          1987,
          1988,
          1989,
          1990,
          1991,
          1992,
          1993,
          1994,
          1995,
          1996,
          1997,
          1998,
          1999,
          2000,
          2001,
          2002,
          2003,
          2004,
          2005,
          2006,
          2007,
          2008,
          2009,
          2010,
          2011
         ],
         "xaxis": "x",
         "y": [
          213,
          207,
          233,
          231,
          253,
          256,
          285,
          255,
          284,
          254,
          282,
          291,
          332,
          321,
          311,
          332,
          314,
          526,
          518,
          504,
          502,
          519,
          531,
          515,
          511,
          1296,
          1306,
          1294,
          1177,
          1200,
          1144,
          1115,
          1109,
          1022,
          976,
          921,
          763
         ],
         "yaxis": "y"
        },
        {
         "hovertemplate": "Age Group=85+ years<br>Year of diagnosis=%{x}<br>Number of Patients=%{y}<extra></extra>",
         "legendgroup": "85+ years",
         "line": {
          "color": "#FF9DA6",
          "dash": "solid"
         },
         "marker": {
          "symbol": "circle"
         },
         "mode": "lines",
         "name": "85+ years",
         "orientation": "v",
         "showlegend": true,
         "type": "scatter",
         "x": [
          1975,
          1976,
          1977,
          1978,
          1979,
          1980,
          1981,
          1982,
          1983,
          1984,
          1985,
          1986,
          1987,
          1988,
          1989,
          1990,
          1991,
          1992,
          1993,
          1994,
          1995,
          1996,
          1997,
          1998,
          1999,
          2000,
          2001,
          2002,
          2003,
          2004,
          2005,
          2006,
          2007,
          2008,
          2009,
          2010,
          2011
         ],
         "xaxis": "x",
         "y": [
          50,
          65,
          63,
          69,
          73,
          63,
          67,
          76,
          97,
          77,
          102,
          84,
          74,
          85,
          94,
          80,
          119,
          148,
          152,
          142,
          157,
          130,
          158,
          185,
          172,
          454,
          458,
          436,
          452,
          447,
          413,
          514,
          527,
          527,
          511,
          470,
          515
         ],
         "yaxis": "y"
        }
       ],
       "layout": {
        "autosize": true,
        "legend": {
         "title": {
          "text": "Age Group"
         },
         "tracegroupgap": 0
        },
        "template": {
         "data": {
          "candlestick": [
           {
            "decreasing": {
             "line": {
              "color": "#000033"
             }
            },
            "increasing": {
             "line": {
              "color": "#000032"
             }
            },
            "type": "candlestick"
           }
          ],
          "contour": [
           {
            "colorscale": [
             [
              0,
              "#000011"
             ],
             [
              0.1111111111111111,
              "#000012"
             ],
             [
              0.2222222222222222,
              "#000013"
             ],
             [
              0.3333333333333333,
              "#000014"
             ],
             [
              0.4444444444444444,
              "#000015"
             ],
             [
              0.5555555555555556,
              "#000016"
             ],
             [
              0.6666666666666666,
              "#000017"
             ],
             [
              0.7777777777777778,
              "#000018"
             ],
             [
              0.8888888888888888,
              "#000019"
             ],
             [
              1,
              "#000020"
             ]
            ],
            "type": "contour"
           }
          ],
          "contourcarpet": [
           {
            "colorscale": [
             [
              0,
              "#000011"
             ],
             [
              0.1111111111111111,
              "#000012"
             ],
             [
              0.2222222222222222,
              "#000013"
             ],
             [
              0.3333333333333333,
              "#000014"
             ],
             [
              0.4444444444444444,
              "#000015"
             ],
             [
              0.5555555555555556,
              "#000016"
             ],
             [
              0.6666666666666666,
              "#000017"
             ],
             [
              0.7777777777777778,
              "#000018"
             ],
             [
              0.8888888888888888,
              "#000019"
             ],
             [
              1,
              "#000020"
             ]
            ],
            "type": "contourcarpet"
           }
          ],
          "heatmap": [
           {
            "colorscale": [
             [
              0,
              "#000011"
             ],
             [
              0.1111111111111111,
              "#000012"
             ],
             [
              0.2222222222222222,
              "#000013"
             ],
             [
              0.3333333333333333,
              "#000014"
             ],
             [
              0.4444444444444444,
              "#000015"
             ],
             [
              0.5555555555555556,
              "#000016"
             ],
             [
              0.6666666666666666,
              "#000017"
             ],
             [
              0.7777777777777778,
              "#000018"
             ],
             [
              0.8888888888888888,
              "#000019"
             ],
             [
              1,
              "#000020"
             ]
            ],
            "type": "heatmap"
           }
          ],
          "histogram2d": [
           {
            "colorscale": [
             [
              0,
              "#000011"
             ],
             [
              0.1111111111111111,
              "#000012"
             ],
             [
              0.2222222222222222,
              "#000013"
             ],
             [
              0.3333333333333333,
              "#000014"
             ],
             [
              0.4444444444444444,
              "#000015"
             ],
             [
              0.5555555555555556,
              "#000016"
             ],
             [
              0.6666666666666666,
              "#000017"
             ],
             [
              0.7777777777777778,
              "#000018"
             ],
             [
              0.8888888888888888,
              "#000019"
             ],
             [
              1,
              "#000020"
             ]
            ],
            "type": "histogram2d"
           }
          ],
          "icicle": [
           {
            "textfont": {
             "color": "white"
            },
            "type": "icicle"
           }
          ],
          "sankey": [
           {
            "textfont": {
             "color": "#000036"
            },
            "type": "sankey"
           }
          ],
          "scatter": [
           {
            "marker": {
             "line": {
              "width": 0
             }
            },
            "type": "scatter"
           }
          ],
          "table": [
           {
            "cells": {
             "fill": {
              "color": "#000038"
             },
             "font": {
              "color": "#000037"
             },
             "line": {
              "color": "#000039"
             }
            },
            "header": {
             "fill": {
              "color": "#000040"
             },
             "font": {
              "color": "#000036"
             },
             "line": {
              "color": "#000039"
             }
            },
            "type": "table"
           }
          ],
          "waterfall": [
           {
            "connector": {
             "line": {
              "color": "#000036",
              "width": 2
             }
            },
            "decreasing": {
             "marker": {
              "color": "#000033"
             }
            },
            "increasing": {
             "marker": {
              "color": "#000032"
             }
            },
            "totals": {
             "marker": {
              "color": "#000034"
             }
            },
            "type": "waterfall"
           }
          ]
         },
         "layout": {
          "coloraxis": {
           "colorscale": [
            [
             0,
             "#000011"
            ],
            [
             0.1111111111111111,
             "#000012"
            ],
            [
             0.2222222222222222,
             "#000013"
            ],
            [
             0.3333333333333333,
             "#000014"
            ],
            [
             0.4444444444444444,
             "#000015"
            ],
            [
             0.5555555555555556,
             "#000016"
            ],
            [
             0.6666666666666666,
             "#000017"
            ],
            [
             0.7777777777777778,
             "#000018"
            ],
            [
             0.8888888888888888,
             "#000019"
            ],
            [
             1,
             "#000020"
            ]
           ]
          },
          "colorscale": {
           "diverging": [
            [
             0,
             "#000021"
            ],
            [
             0.1,
             "#000022"
            ],
            [
             0.2,
             "#000023"
            ],
            [
             0.3,
             "#000024"
            ],
            [
             0.4,
             "#000025"
            ],
            [
             0.5,
             "#000026"
            ],
            [
             0.6,
             "#000027"
            ],
            [
             0.7,
             "#000028"
            ],
            [
             0.8,
             "#000029"
            ],
            [
             0.9,
             "#000030"
            ],
            [
             1,
             "#000031"
            ]
           ],
           "sequential": [
            [
             0,
             "#000011"
            ],
            [
             0.1111111111111111,
             "#000012"
            ],
            [
             0.2222222222222222,
             "#000013"
            ],
            [
             0.3333333333333333,
             "#000014"
            ],
            [
             0.4444444444444444,
             "#000015"
            ],
            [
             0.5555555555555556,
             "#000016"
            ],
            [
             0.6666666666666666,
             "#000017"
            ],
            [
             0.7777777777777778,
             "#000018"
            ],
            [
             0.8888888888888888,
             "#000019"
            ],
            [
             1,
             "#000020"
            ]
           ],
           "sequentialminus": [
            [
             0,
             "#000011"
            ],
            [
             0.1111111111111111,
             "#000012"
            ],
            [
             0.2222222222222222,
             "#000013"
            ],
            [
             0.3333333333333333,
             "#000014"
            ],
            [
             0.4444444444444444,
             "#000015"
            ],
            [
             0.5555555555555556,
             "#000016"
            ],
            [
             0.6666666666666666,
             "#000017"
            ],
            [
             0.7777777777777778,
             "#000018"
            ],
            [
             0.8888888888888888,
             "#000019"
            ],
            [
             1,
             "#000020"
            ]
           ]
          },
          "colorway": [
           "#000001",
           "#000002",
           "#000003",
           "#000004",
           "#000005",
           "#000006",
           "#000007",
           "#000008",
           "#000009",
           "#000010"
          ]
         }
        },
        "title": {
         "text": "Number of Patients by Year and Age Group"
        },
        "xaxis": {
         "anchor": "y",
         "autorange": true,
         "domain": [
          0,
          1
         ],
         "range": [
          1975,
          2011
         ],
         "title": {
          "text": "Year of diagnosis"
         },
         "type": "linear"
        },
        "yaxis": {
         "anchor": "x",
         "autorange": true,
         "domain": [
          0,
          1
         ],
         "nticks": 15,
         "range": [
          -103.94444444444446,
          1994.9444444444443
         ],
         "tickmode": "auto",
         "title": {
          "text": "Number of Patients"
         },
         "type": "linear"
        }
       }
      },
      "image/png": "[encoded data removed]",
      "text/html": [
       "<div>                            <div id=\"d45c0d9f-3cc2-4cb1-9385-d05a69a9cbfd\" class=\"plotly-graph-div\" style=\"height:600px; width:100%;\"></div>            <script type=\"text/javascript\">                require([\"plotly\"], function(Plotly) {                    window.PLOTLYENV=window.PLOTLYENV || {};                                    if (document.getElementById(\"d45c0d9f-3cc2-4cb1-9385-d05a69a9cbfd\")) {                    Plotly.newPlot(                        \"d45c0d9f-3cc2-4cb1-9385-d05a69a9cbfd\",                        [{\"hovertemplate\":\"Age Group=15-24 yrs\\u003cbr\\u003eYear of diagnosis=%{x}\\u003cbr\\u003eNumber of Patients=%{y}\\u003cextra\\u003e\\u003c\\u002fextra\\u003e\",\"legendgroup\":\"15-24 yrs\",\"line\":{\"color\":\"#4C78A8\",\"dash\":\"solid\"},\"marker\":{\"symbol\":\"circle\"},\"mode\":\"lines\",\"name\":\"15-24 yrs\",\"orientation\":\"v\",\"showlegend\":true,\"x\":[1975,1976,1977,1978,1979,1980,1981,1982,1983,1984,1985,1986,1987,1989,1990,1991,1992,1993,1994,1995,1996,1997,1998,1999,2000,2001,2002,2003,2004,2005,2006,2007,2008,2009,2010,2011],\"xaxis\":\"x\",\"y\":[2,2,6,4,5,3,5,3,10,3,4,4,3,2,3,3,3,6,10,7,5,6,2,2,9,12,13,13,10,6,15,10,9,9,1,9],\"yaxis\":\"y\",\"type\":\"scatter\"},{\"hovertemplate\":\"Age Group=25-34 yrs\\u003cbr\\u003eYear of diagnosis=%{x}\\u003cbr\\u003eNumber of Patients=%{y}\\u003cextra\\u003e\\u003c\\u002fextra\\u003e\",\"legendgroup\":\"25-34 yrs\",\"line\":{\"color\":\"#F58518\",\"dash\":\"solid\"},\"marker\":{\"symbol\":\"circle\"},\"mode\":\"lines\",\"name\":\"25-34 yrs\",\"orientation\":\"v\",\"showlegend\":true,\"x\":[1975,1976,1977,1978,1979,1980,1981,1982,1983,1984,1985,1986,1987,1988,1989,1990,1991,1992,1993,1994,1995,1996,1997,1998,1999,2000,2001,2002,2003,2004,2005,2006,2007,2008,2009,2010,2011],\"xaxis\":\"x\",\"y\":[94,77,84,84,84,104,108,117,108,98,111,116,117,107,116,96,108,161,165,153,163,146,119,156,136,233,300,249,231,249,212,194,201,182,192,150,145],\"yaxis\":\"y\",\"type\":\"scatter\"},{\"hovertemplate\":\"Age Group=35-44 yrs\\u003cbr\\u003eYear of diagnosis=%{x}\\u003cbr\\u003eNumber of Patients=%{y}\\u003cextra\\u003e\\u003c\\u002fextra\\u003e\",\"legendgroup\":\"35-44 yrs\",\"line\":{\"color\":\"#E45756\",\"dash\":\"solid\"},\"marker\":{\"symbol\":\"circle\"},\"mode\":\"lines\",\"name\":\"35-44 yrs\",\"orientation\":\"v\",\"showlegend\":true,\"x\":[1975,1976,1977,1978,1979,1980,1981,1982,1983,1984,1985,1986,1987,1988,1989,1990,1991,1992,1993,1994,1995,1996,1997,1998,1999,2000,2001,2002,2003,2004,2005,2006,2007,2008,2009,2010,2011],\"xaxis\":\"x\",\"y\":[289,268,273,290,278,305,317,335,342,389,393,378,440,388,379,427,409,575,520,620,610,598,537,558,518,1206,1096,1015,937,931,849,748,769,692,600,528,537],\"yaxis\":\"y\",\"type\":\"scatter\"},{\"hovertemplate\":\"Age Group=45-54 yrs\\u003cbr\\u003eYear of diagnosis=%{x}\\u003cbr\\u003eNumber of Patients=%{y}\\u003cextra\\u003e\\u003c\\u002fextra\\u003e\",\"legendgroup\":\"45-54 yrs\",\"line\":{\"color\":\"#72B7B2\",\"dash\":\"solid\"},\"marker\":{\"symbol\":\"circle\"},\"mode\":\"lines\",\"name\":\"45-54 yrs\",\"orientation\":\"v\",\"showlegend\":true,\"x\":[1975,1976,1977,1978,1979,1980,1981,1982,1983,1984,1985,1986,1987,1988,1989,1990,1991,1992,1993,1994,1995,1996,1997,1998,1999,2000,2001,2002,2003,2004,2005,2006,2007,2008,2009,2010,2011],\"xaxis\":\"x\",\"y\":[636,613,634,611,593,534,553,539,500,512,563,522,524,494,512,511,561,801,866,872,965,911,902,882,867,1890,1830,1816,1653,1595,1404,1490,1395,1430,1296,1073,1001],\"yaxis\":\"y\",\"type\":\"scatter\"},{\"hovertemplate\":\"Age Group=55-64 yrs\\u003cbr\\u003eYear of diagnosis=%{x}\\u003cbr\\u003eNumber of Patients=%{y}\\u003cextra\\u003e\\u003c\\u002fextra\\u003e\",\"legendgroup\":\"55-64 yrs\",\"line\":{\"color\":\"#54A24B\",\"dash\":\"solid\"},\"marker\":{\"symbol\":\"circle\"},\"mode\":\"lines\",\"name\":\"55-64 yrs\",\"orientation\":\"v\",\"showlegend\":true,\"x\":[1975,1976,1977,1978,1979,1980,1981,1982,1983,1984,1985,1986,1987,1988,1989,1990,1991,1992,1993,1994,1995,1996,1997,1998,1999,2000,2001,2002,2003,2004,2005,2006,2007,2008,2009,2010,2011],\"xaxis\":\"x\",\"y\":[318,284,304,338,316,341,354,350,374,355,385,380,379,331,336,338,324,457,434,409,416,392,366,354,350,798,811,744,778,813,708,766,754,758,693,711,649],\"yaxis\":\"y\",\"type\":\"scatter\"},{\"hovertemplate\":\"Age Group=65-74 yrs\\u003cbr\\u003eYear of diagnosis=%{x}\\u003cbr\\u003eNumber of Patients=%{y}\\u003cextra\\u003e\\u003c\\u002fextra\\u003e\",\"legendgroup\":\"65-74 yrs\",\"line\":{\"color\":\"#EECA3B\",\"dash\":\"solid\"},\"marker\":{\"symbol\":\"circle\"},\"mode\":\"lines\",\"name\":\"65-74 yrs\",\"orientation\":\"v\",\"showlegend\":true,\"x\":[1975,1976,1977,1978,1979,1980,1981,1982,1983,1984,1985,1986,1987,1988,1989,1990,1991,1992,1993,1994,1995,1996,1997,1998,1999,2000,2001,2002,2003,2004,2005,2006,2007,2008,2009,2010,2011],\"xaxis\":\"x\",\"y\":[419,479,442,452,501,513,567,539,577,559,557,624,657,642,586,620,595,855,836,806,798,787,803,738,730,1590,1447,1465,1349,1346,1193,1231,1220,1203,1151,1030,1015],\"yaxis\":\"y\",\"type\":\"scatter\"},{\"hovertemplate\":\"Age Group=75-84 yrs\\u003cbr\\u003eYear of diagnosis=%{x}\\u003cbr\\u003eNumber of Patients=%{y}\\u003cextra\\u003e\\u003c\\u002fextra\\u003e\",\"legendgroup\":\"75-84 yrs\",\"line\":{\"color\":\"#B279A2\",\"dash\":\"solid\"},\"marker\":{\"symbol\":\"circle\"},\"mode\":\"lines\",\"name\":\"75-84 yrs\",\"orientation\":\"v\",\"showlegend\":true,\"x\":[1975,1976,1977,1978,1979,1980,1981,1982,1983,1984,1985,1986,1987,1988,1989,1990,1991,1992,1993,1994,1995,1996,1997,1998,1999,2000,2001,2002,2003,2004,2005,2006,2007,2008,2009,2010,2011],\"xaxis\":\"x\",\"y\":[213,207,233,231,253,256,285,255,284,254,282,291,332,321,311,332,314,526,518,504,502,519,531,515,511,1296,1306,1294,1177,1200,1144,1115,1109,1022,976,921,763],\"yaxis\":\"y\",\"type\":\"scatter\"},{\"hovertemplate\":\"Age Group=85+ years\\u003cbr\\u003eYear of diagnosis=%{x}\\u003cbr\\u003eNumber of Patients=%{y}\\u003cextra\\u003e\\u003c\\u002fextra\\u003e\",\"legendgroup\":\"85+ years\",\"line\":{\"color\":\"#FF9DA6\",\"dash\":\"solid\"},\"marker\":{\"symbol\":\"circle\"},\"mode\":\"lines\",\"name\":\"85+ years\",\"orientation\":\"v\",\"showlegend\":true,\"x\":[1975,1976,1977,1978,1979,1980,1981,1982,1983,1984,1985,1986,1987,1988,1989,1990,1991,1992,1993,1994,1995,1996,1997,1998,1999,2000,2001,2002,2003,2004,2005,2006,2007,2008,2009,2010,2011],\"xaxis\":\"x\",\"y\":[50,65,63,69,73,63,67,76,97,77,102,84,74,85,94,80,119,148,152,142,157,130,158,185,172,454,458,436,452,447,413,514,527,527,511,470,515],\"yaxis\":\"y\",\"type\":\"scatter\"}],                        {\"template\":{\"data\":{\"candlestick\":[{\"decreasing\":{\"line\":{\"color\":\"#000033\"}},\"increasing\":{\"line\":{\"color\":\"#000032\"}},\"type\":\"candlestick\"}],\"contourcarpet\":[{\"colorscale\":[[0.0,\"#000011\"],[0.1111111111111111,\"#000012\"],[0.2222222222222222,\"#000013\"],[0.3333333333333333,\"#000014\"],[0.4444444444444444,\"#000015\"],[0.5555555555555556,\"#000016\"],[0.6666666666666666,\"#000017\"],[0.7777777777777778,\"#000018\"],[0.8888888888888888,\"#000019\"],[1.0,\"#000020\"]],\"type\":\"contourcarpet\"}],\"contour\":[{\"colorscale\":[[0.0,\"#000011\"],[0.1111111111111111,\"#000012\"],[0.2222222222222222,\"#000013\"],[0.3333333333333333,\"#000014\"],[0.4444444444444444,\"#000015\"],[0.5555555555555556,\"#000016\"],[0.6666666666666666,\"#000017\"],[0.7777777777777778,\"#000018\"],[0.8888888888888888,\"#000019\"],[1.0,\"#000020\"]],\"type\":\"contour\"}],\"heatmap\":[{\"colorscale\":[[0.0,\"#000011\"],[0.1111111111111111,\"#000012\"],[0.2222222222222222,\"#000013\"],[0.3333333333333333,\"#000014\"],[0.4444444444444444,\"#000015\"],[0.5555555555555556,\"#000016\"],[0.6666666666666666,\"#000017\"],[0.7777777777777778,\"#000018\"],[0.8888888888888888,\"#000019\"],[1.0,\"#000020\"]],\"type\":\"heatmap\"}],\"histogram2d\":[{\"colorscale\":[[0.0,\"#000011\"],[0.1111111111111111,\"#000012\"],[0.2222222222222222,\"#000013\"],[0.3333333333333333,\"#000014\"],[0.4444444444444444,\"#000015\"],[0.5555555555555556,\"#000016\"],[0.6666666666666666,\"#000017\"],[0.7777777777777778,\"#000018\"],[0.8888888888888888,\"#000019\"],[1.0,\"#000020\"]],\"type\":\"histogram2d\"}],\"icicle\":[{\"textfont\":{\"color\":\"white\"},\"type\":\"icicle\"}],\"sankey\":[{\"textfont\":{\"color\":\"#000036\"},\"type\":\"sankey\"}],\"scatter\":[{\"marker\":{\"line\":{\"width\":0}},\"type\":\"scatter\"}],\"table\":[{\"cells\":{\"fill\":{\"color\":\"#000038\"},\"font\":{\"color\":\"#000037\"},\"line\":{\"color\":\"#000039\"}},\"header\":{\"fill\":{\"color\":\"#000040\"},\"font\":{\"color\":\"#000036\"},\"line\":{\"color\":\"#000039\"}},\"type\":\"table\"}],\"waterfall\":[{\"connector\":{\"line\":{\"color\":\"#000036\",\"width\":2}},\"decreasing\":{\"marker\":{\"color\":\"#000033\"}},\"increasing\":{\"marker\":{\"color\":\"#000032\"}},\"totals\":{\"marker\":{\"color\":\"#000034\"}},\"type\":\"waterfall\"}]},\"layout\":{\"coloraxis\":{\"colorscale\":[[0.0,\"#000011\"],[0.1111111111111111,\"#000012\"],[0.2222222222222222,\"#000013\"],[0.3333333333333333,\"#000014\"],[0.4444444444444444,\"#000015\"],[0.5555555555555556,\"#000016\"],[0.6666666666666666,\"#000017\"],[0.7777777777777778,\"#000018\"],[0.8888888888888888,\"#000019\"],[1.0,\"#000020\"]]},\"colorscale\":{\"diverging\":[[0.0,\"#000021\"],[0.1,\"#000022\"],[0.2,\"#000023\"],[0.3,\"#000024\"],[0.4,\"#000025\"],[0.5,\"#000026\"],[0.6,\"#000027\"],[0.7,\"#000028\"],[0.8,\"#000029\"],[0.9,\"#000030\"],[1.0,\"#000031\"]],\"sequential\":[[0.0,\"#000011\"],[0.1111111111111111,\"#000012\"],[0.2222222222222222,\"#000013\"],[0.3333333333333333,\"#000014\"],[0.4444444444444444,\"#000015\"],[0.5555555555555556,\"#000016\"],[0.6666666666666666,\"#000017\"],[0.7777777777777778,\"#000018\"],[0.8888888888888888,\"#000019\"],[1.0,\"#000020\"]],\"sequentialminus\":[[0.0,\"#000011\"],[0.1111111111111111,\"#000012\"],[0.2222222222222222,\"#000013\"],[0.3333333333333333,\"#000014\"],[0.4444444444444444,\"#000015\"],[0.5555555555555556,\"#000016\"],[0.6666666666666666,\"#000017\"],[0.7777777777777778,\"#000018\"],[0.8888888888888888,\"#000019\"],[1.0,\"#000020\"]]},\"colorway\":[\"#000001\",\"#000002\",\"#000003\",\"#000004\",\"#000005\",\"#000006\",\"#000007\",\"#000008\",\"#000009\",\"#000010\"]}},\"xaxis\":{\"anchor\":\"y\",\"domain\":[0.0,1.0],\"title\":{\"text\":\"Year of diagnosis\"}},\"yaxis\":{\"anchor\":\"x\",\"domain\":[0.0,1.0],\"title\":{\"text\":\"Number of Patients\"},\"tickmode\":\"auto\",\"nticks\":15},\"legend\":{\"title\":{\"text\":\"Age Group\"},\"tracegroupgap\":0},\"title\":{\"text\":\"Number of Patients by Year and Age Group\"},\"height\":600},                        {\"responsive\": true}                    ).then(function(){\n",
       "                            \n",
       "var gd = document.getElementById('d45c0d9f-3cc2-4cb1-9385-d05a69a9cbfd');\n",
       "var x = new MutationObserver(function (mutations, observer) {{\n",
       "        var display = window.getComputedStyle(gd).display;\n",
       "        if (!display || display === 'none') {{\n",
       "            console.log([gd, 'removed!']);\n",
       "            Plotly.purge(gd);\n",
       "            observer.disconnect();\n",
       "        }}\n",
       "}});\n",
       "\n",
       "// Listen for the removal of the full notebook cells\n",
       "var notebookContainer = gd.closest('#notebook-container');\n",
       "if (notebookContainer) {{\n",
       "    x.observe(notebookContainer, {childList: true});\n",
       "}}\n",
       "\n",
       "// Listen for the clearing of the current output cell\n",
       "var outputEl = gd.closest('.output');\n",
       "if (outputEl) {{\n",
       "    x.observe(outputEl, {childList: true});\n",
       "}}\n",
       "\n",
       "                        })                };                });            </script>        </div>"
      ]
     },
     "metadata": {},
     "output_type": "display_data"
    }
   ],
   "source": [
    "# year vs no of patients with age when diagnosed\n",
    "fig = px.line(\n",
    "        df1,\n",
    "        x='Year of diagnosis',\n",
    "        y='Number of Patients',\n",
    "        color='Age Group', \n",
    "        title='Number of Patients by Year and Age Group',\n",
    "        labels={'Number of Patients': 'Number of Patients', 'Year': 'Year'},\n",
    "        color_discrete_sequence=px.colors.qualitative.T10,\n",
    "        height=600\n",
    "    )\n",
    "fig.update_layout(yaxis=dict(tickmode='auto',  nticks=15))\n",
    "\n",
    "fig.show()"
   ]
  },
  {
   "cell_type": "code",
   "execution_count": 94,
   "id": "d9b39416-6aa4-4397-8c61-9f7dd68eaabd",
   "metadata": {},
   "outputs": [
    {
     "data": {
      "text/plain": [
       "Primary Site - labeled\n",
       "C50.4-Upper-outer quadrant of breast    46907\n",
       "C50.9-Breast, NOS                       38599\n",
       "C50.8-Overlapping lesion of breast      32473\n",
       "C50.2-Upper-inner quadrant of breast    12526\n",
       "C50.5-Lower-outer quadrant of breast     9532\n",
       "C50.1-Central portion of breast          9366\n",
       "C50.3-Lower-inner quadrant of breast     6978\n",
       "C50.0-Nipple                             1207\n",
       "C50.6-Axillary tail of breast            1177\n",
       "Name: count, dtype: int64"
      ]
     },
     "execution_count": 94,
     "metadata": {},
     "output_type": "execute_result"
    }
   ],
   "source": [
    "df['Primary Site - labeled'].value_counts()"
   ]
  },
  {
   "cell_type": "code",
   "execution_count": 96,
   "id": "6c0e0b79-8b7b-4776-a0b3-ad9ecfdebc6a",
   "metadata": {},
   "outputs": [
    {
     "data": {
      "text/plain": [
       "280660"
      ]
     },
     "execution_count": 96,
     "metadata": {},
     "output_type": "execute_result"
    }
   ],
   "source": [
    "with open('risk.txt', 'r') as file:\n",
    "    data = file.readlines()\n",
    "len(data)"
   ]
  },
  {
   "cell_type": "code",
   "execution_count": null,
   "id": "4576cfce-5735-46f3-8b33-2a626e0961c8",
   "metadata": {},
   "outputs": [],
   "source": []
  }
 ],
 "metadata": {
  "kernelspec": {
   "display_name": "Python 3 (ipykernel)",
   "language": "python",
   "name": "python3"
  },
  "language_info": {
   "codemirror_mode": {
    "name": "ipython",
    "version": 3
   },
   "file_extension": ".py",
   "mimetype": "text/x-python",
   "name": "python",
   "nbconvert_exporter": "python",
   "pygments_lexer": "ipython3",
   "version": "3.12.4"
  }
 },
 "nbformat": 4,
 "nbformat_minor": 5
}
