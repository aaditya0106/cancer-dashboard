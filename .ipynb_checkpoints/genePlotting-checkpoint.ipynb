{
 "cells": [
  {
   "cell_type": "markdown",
   "id": "a43d1370-244c-4bb0-913e-7abd79a0af13",
   "metadata": {},
   "source": [
    "# NCI Gene Plotting"
   ]
  },
  {
   "cell_type": "markdown",
   "id": "6bccaf9a-9956-45d7-87c5-c375e38318ad",
   "metadata": {},
   "source": [
    "## Load Packages"
   ]
  },
  {
   "cell_type": "code",
   "execution_count": 7,
   "id": "487d8d45-8fdc-411b-8c34-6a03ce4b143f",
   "metadata": {},
   "outputs": [],
   "source": [
    "import pandas as pd\n",
    "import plotly.express as px\n",
    "import numpy as np\n",
    "import requests\n",
    "from io import StringIO\n",
    "import seaborn as sns\n",
    "import matplotlib.pyplot as plt\n",
    "\n",
    "\n",
    "pd.set_option('future.no_silent_downcasting', True)"
   ]
  },
  {
   "cell_type": "markdown",
   "id": "da5d14f2-9253-4327-abdd-76d32e5396c1",
   "metadata": {},
   "source": [
    "## Load Data"
   ]
  },
  {
   "cell_type": "code",
   "execution_count": 11,
   "id": "2f30e29e-f0c3-47d3-8d83-03eba24acdb9",
   "metadata": {},
   "outputs": [
    {
     "name": "stdout",
     "output_type": "stream",
     "text": [
      "Failed to fetch data: 404\n"
     ]
    }
   ],
   "source": [
    "response = requests.get('https://raw.githubusercontent.com/aaditya0106/cancer-dashboard/data-processing/Data/geneClinicalCleanStageGeneUpdate.csv')\n",
    "if response.status_code == 200:\n",
    "    df = pd.read_csv(StringIO(response.text), sep='\\t')\n",
    "    print(\"Data loaded successfully!\")\n",
    "else:\n",
    "    print(f\"Failed to fetch data: {response.status_code}\")"
   ]
  }
 ],
 "metadata": {
  "kernelspec": {
   "display_name": "Python 3 (ipykernel)",
   "language": "python",
   "name": "python3"
  },
  "language_info": {
   "codemirror_mode": {
    "name": "ipython",
    "version": 3
   },
   "file_extension": ".py",
   "mimetype": "text/x-python",
   "name": "python",
   "nbconvert_exporter": "python",
   "pygments_lexer": "ipython3",
   "version": "3.12.4"
  }
 },
 "nbformat": 4,
 "nbformat_minor": 5
}
