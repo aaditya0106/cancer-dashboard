{
 "cells": [
  {
   "cell_type": "markdown",
   "id": "a43d1370-244c-4bb0-913e-7abd79a0af13",
   "metadata": {},
   "source": [
    "# NCI Gene Plotting"
   ]
  },
  {
   "cell_type": "markdown",
   "id": "6bccaf9a-9956-45d7-87c5-c375e38318ad",
   "metadata": {},
   "source": [
    "## Load Packages"
   ]
  },
  {
   "cell_type": "code",
   "execution_count": 178,
   "id": "487d8d45-8fdc-411b-8c34-6a03ce4b143f",
   "metadata": {},
   "outputs": [],
   "source": [
    "import pandas as pd\n",
    "import plotly.express as px\n",
    "import numpy as np\n",
    "import requests\n",
    "from io import StringIO\n",
    "import seaborn as sns\n",
    "import matplotlib.pyplot as plt\n",
    "\n",
    "\n",
    "pd.set_option('future.no_silent_downcasting', True)"
   ]
  },
  {
   "cell_type": "markdown",
   "id": "da5d14f2-9253-4327-abdd-76d32e5396c1",
   "metadata": {},
   "source": [
    "## Load Data"
   ]
  },
  {
   "cell_type": "code",
   "execution_count": 180,
   "id": "2f30e29e-f0c3-47d3-8d83-03eba24acdb9",
   "metadata": {},
   "outputs": [
    {
     "name": "stdout",
     "output_type": "stream",
     "text": [
      "Data loaded successfully!\n"
     ]
    }
   ],
   "source": [
    "response = requests.get('https://raw.githubusercontent.com/aaditya0106/cancer-dashboard/data-processing/geneClinicalCleanStageGeneUpdate.csv')\n",
    "if response.status_code == 200:\n",
    "    df = pd.read_csv(StringIO(response.text), sep=',')\n",
    "    print(\"Data loaded successfully!\")\n",
    "else:\n",
    "    print(f\"Failed to fetch data: {response.status_code}\")"
   ]
  },
  {
   "cell_type": "code",
   "execution_count": 181,
   "id": "51403119-4d2a-4680-b70b-6418f8c5f15c",
   "metadata": {},
   "outputs": [
    {
     "data": {
      "text/html": [
       "<div>\n",
       "<style scoped>\n",
       "    .dataframe tbody tr th:only-of-type {\n",
       "        vertical-align: middle;\n",
       "    }\n",
       "\n",
       "    .dataframe tbody tr th {\n",
       "        vertical-align: top;\n",
       "    }\n",
       "\n",
       "    .dataframe thead th {\n",
       "        text-align: right;\n",
       "    }\n",
       "</style>\n",
       "<table border=\"1\" class=\"dataframe\">\n",
       "  <thead>\n",
       "    <tr style=\"text-align: right;\">\n",
       "      <th></th>\n",
       "      <th>Unnamed: 0</th>\n",
       "      <th>Case</th>\n",
       "      <th>project_id</th>\n",
       "      <th>age_at_index</th>\n",
       "      <th>days_to_birth</th>\n",
       "      <th>ethnicity</th>\n",
       "      <th>gender</th>\n",
       "      <th>race</th>\n",
       "      <th>vital_status</th>\n",
       "      <th>year_of_birth</th>\n",
       "      <th>...</th>\n",
       "      <th>site_of_resection_or_biopsy</th>\n",
       "      <th>synchronous_malignancy</th>\n",
       "      <th>tissue_or_organ_of_origin</th>\n",
       "      <th>tumor_grade</th>\n",
       "      <th>year_of_diagnosis</th>\n",
       "      <th>treatment_or_therapy</th>\n",
       "      <th>treatment_type</th>\n",
       "      <th>Gene</th>\n",
       "      <th>Expression</th>\n",
       "      <th>Cancer Stage</th>\n",
       "    </tr>\n",
       "  </thead>\n",
       "  <tbody>\n",
       "    <tr>\n",
       "      <th>0</th>\n",
       "      <td>0</td>\n",
       "      <td>TCGA-AC-A2QJ</td>\n",
       "      <td>TCGA-BRCA</td>\n",
       "      <td>48.0</td>\n",
       "      <td>-17569.0</td>\n",
       "      <td>hispanic or latino</td>\n",
       "      <td>female</td>\n",
       "      <td>white</td>\n",
       "      <td>Dead</td>\n",
       "      <td>1963.0</td>\n",
       "      <td>...</td>\n",
       "      <td>Breast, NOS</td>\n",
       "      <td>No</td>\n",
       "      <td>Breast, NOS</td>\n",
       "      <td>Not Reported</td>\n",
       "      <td>2011.0</td>\n",
       "      <td>yes</td>\n",
       "      <td>Pharmaceutical Therapy, NOS</td>\n",
       "      <td>TP53INP1</td>\n",
       "      <td>-0.741622</td>\n",
       "      <td>Stage III</td>\n",
       "    </tr>\n",
       "    <tr>\n",
       "      <th>1</th>\n",
       "      <td>1</td>\n",
       "      <td>TCGA-FA-A7DS</td>\n",
       "      <td>TCGA-DLBC</td>\n",
       "      <td>54.0</td>\n",
       "      <td>-20087.0</td>\n",
       "      <td>not hispanic or latino</td>\n",
       "      <td>female</td>\n",
       "      <td>asian</td>\n",
       "      <td>Alive</td>\n",
       "      <td>1959.0</td>\n",
       "      <td>...</td>\n",
       "      <td>Breast, NOS</td>\n",
       "      <td>No</td>\n",
       "      <td>Breast, NOS</td>\n",
       "      <td>Not Reported</td>\n",
       "      <td>2013.0</td>\n",
       "      <td>no</td>\n",
       "      <td>Radiation Therapy, NOS</td>\n",
       "      <td>TP53INP1</td>\n",
       "      <td>-1.031957</td>\n",
       "      <td>NaN</td>\n",
       "    </tr>\n",
       "    <tr>\n",
       "      <th>2</th>\n",
       "      <td>2</td>\n",
       "      <td>TCGA-FA-A7DS</td>\n",
       "      <td>TCGA-DLBC</td>\n",
       "      <td>54.0</td>\n",
       "      <td>-20087.0</td>\n",
       "      <td>not hispanic or latino</td>\n",
       "      <td>female</td>\n",
       "      <td>asian</td>\n",
       "      <td>Alive</td>\n",
       "      <td>1959.0</td>\n",
       "      <td>...</td>\n",
       "      <td>Breast, NOS</td>\n",
       "      <td>No</td>\n",
       "      <td>Breast, NOS</td>\n",
       "      <td>Not Reported</td>\n",
       "      <td>2013.0</td>\n",
       "      <td>yes</td>\n",
       "      <td>Pharmaceutical Therapy, NOS</td>\n",
       "      <td>TP53INP1</td>\n",
       "      <td>-1.031957</td>\n",
       "      <td>NaN</td>\n",
       "    </tr>\n",
       "    <tr>\n",
       "      <th>3</th>\n",
       "      <td>3</td>\n",
       "      <td>TCGA-A2-A4S1</td>\n",
       "      <td>TCGA-BRCA</td>\n",
       "      <td>66.0</td>\n",
       "      <td>-24353.0</td>\n",
       "      <td>not hispanic or latino</td>\n",
       "      <td>female</td>\n",
       "      <td>white</td>\n",
       "      <td>Alive</td>\n",
       "      <td>1946.0</td>\n",
       "      <td>...</td>\n",
       "      <td>Breast, NOS</td>\n",
       "      <td>No</td>\n",
       "      <td>Breast, NOS</td>\n",
       "      <td>Not Reported</td>\n",
       "      <td>2012.0</td>\n",
       "      <td>yes</td>\n",
       "      <td>Radiation Therapy, NOS</td>\n",
       "      <td>TP53INP1</td>\n",
       "      <td>-0.884677</td>\n",
       "      <td>Stage II</td>\n",
       "    </tr>\n",
       "    <tr>\n",
       "      <th>4</th>\n",
       "      <td>4</td>\n",
       "      <td>TCGA-A2-A4S1</td>\n",
       "      <td>TCGA-BRCA</td>\n",
       "      <td>66.0</td>\n",
       "      <td>-24353.0</td>\n",
       "      <td>not hispanic or latino</td>\n",
       "      <td>female</td>\n",
       "      <td>white</td>\n",
       "      <td>Alive</td>\n",
       "      <td>1946.0</td>\n",
       "      <td>...</td>\n",
       "      <td>Breast, NOS</td>\n",
       "      <td>No</td>\n",
       "      <td>Breast, NOS</td>\n",
       "      <td>Not Reported</td>\n",
       "      <td>2012.0</td>\n",
       "      <td>no</td>\n",
       "      <td>Pharmaceutical Therapy, NOS</td>\n",
       "      <td>TP53INP1</td>\n",
       "      <td>-0.884677</td>\n",
       "      <td>Stage II</td>\n",
       "    </tr>\n",
       "  </tbody>\n",
       "</table>\n",
       "<p>5 rows × 36 columns</p>\n",
       "</div>"
      ],
      "text/plain": [
       "   Unnamed: 0          Case project_id  age_at_index  days_to_birth  \\\n",
       "0           0  TCGA-AC-A2QJ  TCGA-BRCA          48.0       -17569.0   \n",
       "1           1  TCGA-FA-A7DS  TCGA-DLBC          54.0       -20087.0   \n",
       "2           2  TCGA-FA-A7DS  TCGA-DLBC          54.0       -20087.0   \n",
       "3           3  TCGA-A2-A4S1  TCGA-BRCA          66.0       -24353.0   \n",
       "4           4  TCGA-A2-A4S1  TCGA-BRCA          66.0       -24353.0   \n",
       "\n",
       "                ethnicity  gender   race vital_status  year_of_birth  ...  \\\n",
       "0      hispanic or latino  female  white         Dead         1963.0  ...   \n",
       "1  not hispanic or latino  female  asian        Alive         1959.0  ...   \n",
       "2  not hispanic or latino  female  asian        Alive         1959.0  ...   \n",
       "3  not hispanic or latino  female  white        Alive         1946.0  ...   \n",
       "4  not hispanic or latino  female  white        Alive         1946.0  ...   \n",
       "\n",
       "   site_of_resection_or_biopsy synchronous_malignancy  \\\n",
       "0                  Breast, NOS                     No   \n",
       "1                  Breast, NOS                     No   \n",
       "2                  Breast, NOS                     No   \n",
       "3                  Breast, NOS                     No   \n",
       "4                  Breast, NOS                     No   \n",
       "\n",
       "  tissue_or_organ_of_origin   tumor_grade year_of_diagnosis  \\\n",
       "0               Breast, NOS  Not Reported            2011.0   \n",
       "1               Breast, NOS  Not Reported            2013.0   \n",
       "2               Breast, NOS  Not Reported            2013.0   \n",
       "3               Breast, NOS  Not Reported            2012.0   \n",
       "4               Breast, NOS  Not Reported            2012.0   \n",
       "\n",
       "  treatment_or_therapy               treatment_type      Gene  Expression  \\\n",
       "0                  yes  Pharmaceutical Therapy, NOS  TP53INP1   -0.741622   \n",
       "1                   no       Radiation Therapy, NOS  TP53INP1   -1.031957   \n",
       "2                  yes  Pharmaceutical Therapy, NOS  TP53INP1   -1.031957   \n",
       "3                  yes       Radiation Therapy, NOS  TP53INP1   -0.884677   \n",
       "4                   no  Pharmaceutical Therapy, NOS  TP53INP1   -0.884677   \n",
       "\n",
       "  Cancer Stage  \n",
       "0    Stage III  \n",
       "1          NaN  \n",
       "2          NaN  \n",
       "3     Stage II  \n",
       "4     Stage II  \n",
       "\n",
       "[5 rows x 36 columns]"
      ]
     },
     "execution_count": 181,
     "metadata": {},
     "output_type": "execute_result"
    }
   ],
   "source": [
    "df.head()"
   ]
  },
  {
   "cell_type": "code",
   "execution_count": 182,
   "id": "e74f5d00-ef70-4b7a-bd57-77de69b90996",
   "metadata": {},
   "outputs": [],
   "source": [
    "df = df.drop(columns = ['Unnamed: 0'])"
   ]
  },
  {
   "cell_type": "code",
   "execution_count": 183,
   "id": "14683f7f-4802-45be-bd76-441811ce2f41",
   "metadata": {},
   "outputs": [
    {
     "data": {
      "text/html": [
       "<div>\n",
       "<style scoped>\n",
       "    .dataframe tbody tr th:only-of-type {\n",
       "        vertical-align: middle;\n",
       "    }\n",
       "\n",
       "    .dataframe tbody tr th {\n",
       "        vertical-align: top;\n",
       "    }\n",
       "\n",
       "    .dataframe thead th {\n",
       "        text-align: right;\n",
       "    }\n",
       "</style>\n",
       "<table border=\"1\" class=\"dataframe\">\n",
       "  <thead>\n",
       "    <tr style=\"text-align: right;\">\n",
       "      <th></th>\n",
       "      <th>Case</th>\n",
       "      <th>project_id</th>\n",
       "      <th>age_at_index</th>\n",
       "      <th>days_to_birth</th>\n",
       "      <th>ethnicity</th>\n",
       "      <th>gender</th>\n",
       "      <th>race</th>\n",
       "      <th>vital_status</th>\n",
       "      <th>year_of_birth</th>\n",
       "      <th>age_at_diagnosis</th>\n",
       "      <th>...</th>\n",
       "      <th>site_of_resection_or_biopsy</th>\n",
       "      <th>synchronous_malignancy</th>\n",
       "      <th>tissue_or_organ_of_origin</th>\n",
       "      <th>tumor_grade</th>\n",
       "      <th>year_of_diagnosis</th>\n",
       "      <th>treatment_or_therapy</th>\n",
       "      <th>treatment_type</th>\n",
       "      <th>Gene</th>\n",
       "      <th>Expression</th>\n",
       "      <th>Cancer Stage</th>\n",
       "    </tr>\n",
       "  </thead>\n",
       "  <tbody>\n",
       "    <tr>\n",
       "      <th>0</th>\n",
       "      <td>TCGA-AC-A2QJ</td>\n",
       "      <td>TCGA-BRCA</td>\n",
       "      <td>48.0</td>\n",
       "      <td>-17569.0</td>\n",
       "      <td>hispanic or latino</td>\n",
       "      <td>female</td>\n",
       "      <td>white</td>\n",
       "      <td>Dead</td>\n",
       "      <td>1963.0</td>\n",
       "      <td>17569.0</td>\n",
       "      <td>...</td>\n",
       "      <td>Breast, NOS</td>\n",
       "      <td>No</td>\n",
       "      <td>Breast, NOS</td>\n",
       "      <td>Not Reported</td>\n",
       "      <td>2011.0</td>\n",
       "      <td>yes</td>\n",
       "      <td>Pharmaceutical Therapy, NOS</td>\n",
       "      <td>TP53INP1</td>\n",
       "      <td>-0.741622</td>\n",
       "      <td>Stage III</td>\n",
       "    </tr>\n",
       "    <tr>\n",
       "      <th>1</th>\n",
       "      <td>TCGA-FA-A7DS</td>\n",
       "      <td>TCGA-DLBC</td>\n",
       "      <td>54.0</td>\n",
       "      <td>-20087.0</td>\n",
       "      <td>not hispanic or latino</td>\n",
       "      <td>female</td>\n",
       "      <td>asian</td>\n",
       "      <td>Alive</td>\n",
       "      <td>1959.0</td>\n",
       "      <td>20087.0</td>\n",
       "      <td>...</td>\n",
       "      <td>Breast, NOS</td>\n",
       "      <td>No</td>\n",
       "      <td>Breast, NOS</td>\n",
       "      <td>Not Reported</td>\n",
       "      <td>2013.0</td>\n",
       "      <td>no</td>\n",
       "      <td>Radiation Therapy, NOS</td>\n",
       "      <td>TP53INP1</td>\n",
       "      <td>-1.031957</td>\n",
       "      <td>NaN</td>\n",
       "    </tr>\n",
       "    <tr>\n",
       "      <th>2</th>\n",
       "      <td>TCGA-FA-A7DS</td>\n",
       "      <td>TCGA-DLBC</td>\n",
       "      <td>54.0</td>\n",
       "      <td>-20087.0</td>\n",
       "      <td>not hispanic or latino</td>\n",
       "      <td>female</td>\n",
       "      <td>asian</td>\n",
       "      <td>Alive</td>\n",
       "      <td>1959.0</td>\n",
       "      <td>20087.0</td>\n",
       "      <td>...</td>\n",
       "      <td>Breast, NOS</td>\n",
       "      <td>No</td>\n",
       "      <td>Breast, NOS</td>\n",
       "      <td>Not Reported</td>\n",
       "      <td>2013.0</td>\n",
       "      <td>yes</td>\n",
       "      <td>Pharmaceutical Therapy, NOS</td>\n",
       "      <td>TP53INP1</td>\n",
       "      <td>-1.031957</td>\n",
       "      <td>NaN</td>\n",
       "    </tr>\n",
       "    <tr>\n",
       "      <th>3</th>\n",
       "      <td>TCGA-A2-A4S1</td>\n",
       "      <td>TCGA-BRCA</td>\n",
       "      <td>66.0</td>\n",
       "      <td>-24353.0</td>\n",
       "      <td>not hispanic or latino</td>\n",
       "      <td>female</td>\n",
       "      <td>white</td>\n",
       "      <td>Alive</td>\n",
       "      <td>1946.0</td>\n",
       "      <td>24353.0</td>\n",
       "      <td>...</td>\n",
       "      <td>Breast, NOS</td>\n",
       "      <td>No</td>\n",
       "      <td>Breast, NOS</td>\n",
       "      <td>Not Reported</td>\n",
       "      <td>2012.0</td>\n",
       "      <td>yes</td>\n",
       "      <td>Radiation Therapy, NOS</td>\n",
       "      <td>TP53INP1</td>\n",
       "      <td>-0.884677</td>\n",
       "      <td>Stage II</td>\n",
       "    </tr>\n",
       "    <tr>\n",
       "      <th>4</th>\n",
       "      <td>TCGA-A2-A4S1</td>\n",
       "      <td>TCGA-BRCA</td>\n",
       "      <td>66.0</td>\n",
       "      <td>-24353.0</td>\n",
       "      <td>not hispanic or latino</td>\n",
       "      <td>female</td>\n",
       "      <td>white</td>\n",
       "      <td>Alive</td>\n",
       "      <td>1946.0</td>\n",
       "      <td>24353.0</td>\n",
       "      <td>...</td>\n",
       "      <td>Breast, NOS</td>\n",
       "      <td>No</td>\n",
       "      <td>Breast, NOS</td>\n",
       "      <td>Not Reported</td>\n",
       "      <td>2012.0</td>\n",
       "      <td>no</td>\n",
       "      <td>Pharmaceutical Therapy, NOS</td>\n",
       "      <td>TP53INP1</td>\n",
       "      <td>-0.884677</td>\n",
       "      <td>Stage II</td>\n",
       "    </tr>\n",
       "  </tbody>\n",
       "</table>\n",
       "<p>5 rows × 35 columns</p>\n",
       "</div>"
      ],
      "text/plain": [
       "           Case project_id  age_at_index  days_to_birth  \\\n",
       "0  TCGA-AC-A2QJ  TCGA-BRCA          48.0       -17569.0   \n",
       "1  TCGA-FA-A7DS  TCGA-DLBC          54.0       -20087.0   \n",
       "2  TCGA-FA-A7DS  TCGA-DLBC          54.0       -20087.0   \n",
       "3  TCGA-A2-A4S1  TCGA-BRCA          66.0       -24353.0   \n",
       "4  TCGA-A2-A4S1  TCGA-BRCA          66.0       -24353.0   \n",
       "\n",
       "                ethnicity  gender   race vital_status  year_of_birth  \\\n",
       "0      hispanic or latino  female  white         Dead         1963.0   \n",
       "1  not hispanic or latino  female  asian        Alive         1959.0   \n",
       "2  not hispanic or latino  female  asian        Alive         1959.0   \n",
       "3  not hispanic or latino  female  white        Alive         1946.0   \n",
       "4  not hispanic or latino  female  white        Alive         1946.0   \n",
       "\n",
       "   age_at_diagnosis  ... site_of_resection_or_biopsy synchronous_malignancy  \\\n",
       "0           17569.0  ...                 Breast, NOS                     No   \n",
       "1           20087.0  ...                 Breast, NOS                     No   \n",
       "2           20087.0  ...                 Breast, NOS                     No   \n",
       "3           24353.0  ...                 Breast, NOS                     No   \n",
       "4           24353.0  ...                 Breast, NOS                     No   \n",
       "\n",
       "  tissue_or_organ_of_origin   tumor_grade year_of_diagnosis  \\\n",
       "0               Breast, NOS  Not Reported            2011.0   \n",
       "1               Breast, NOS  Not Reported            2013.0   \n",
       "2               Breast, NOS  Not Reported            2013.0   \n",
       "3               Breast, NOS  Not Reported            2012.0   \n",
       "4               Breast, NOS  Not Reported            2012.0   \n",
       "\n",
       "  treatment_or_therapy               treatment_type      Gene Expression  \\\n",
       "0                  yes  Pharmaceutical Therapy, NOS  TP53INP1  -0.741622   \n",
       "1                   no       Radiation Therapy, NOS  TP53INP1  -1.031957   \n",
       "2                  yes  Pharmaceutical Therapy, NOS  TP53INP1  -1.031957   \n",
       "3                  yes       Radiation Therapy, NOS  TP53INP1  -0.884677   \n",
       "4                   no  Pharmaceutical Therapy, NOS  TP53INP1  -0.884677   \n",
       "\n",
       "  Cancer Stage  \n",
       "0    Stage III  \n",
       "1          NaN  \n",
       "2          NaN  \n",
       "3     Stage II  \n",
       "4     Stage II  \n",
       "\n",
       "[5 rows x 35 columns]"
      ]
     },
     "execution_count": 183,
     "metadata": {},
     "output_type": "execute_result"
    }
   ],
   "source": [
    "df.head()"
   ]
  },
  {
   "cell_type": "code",
   "execution_count": 184,
   "id": "cbe27de3-c0de-450c-8a2c-8dc2ee09da2c",
   "metadata": {},
   "outputs": [
    {
     "data": {
      "text/plain": [
       "0"
      ]
     },
     "execution_count": 184,
     "metadata": {},
     "output_type": "execute_result"
    }
   ],
   "source": [
    "df.duplicated().sum()"
   ]
  },
  {
   "cell_type": "code",
   "execution_count": 185,
   "id": "69603703-a9da-4d67-9c53-ca69d590d6d4",
   "metadata": {},
   "outputs": [
    {
     "data": {
      "text/plain": [
       "1215"
      ]
     },
     "execution_count": 185,
     "metadata": {},
     "output_type": "execute_result"
    }
   ],
   "source": [
    "df[['Case', 'Gene']].duplicated().sum()"
   ]
  },
  {
   "cell_type": "code",
   "execution_count": 186,
   "id": "507e963e-e351-4f27-80ac-a128ad637723",
   "metadata": {},
   "outputs": [],
   "source": [
    "df_drop = df.drop(columns = ['treatment_or_therapy', 'treatment_type'])"
   ]
  },
  {
   "cell_type": "code",
   "execution_count": 187,
   "id": "1f0b4745-d56a-4a42-931a-c9149872bdc9",
   "metadata": {},
   "outputs": [
    {
     "data": {
      "text/plain": [
       "1215"
      ]
     },
     "execution_count": 187,
     "metadata": {},
     "output_type": "execute_result"
    }
   ],
   "source": [
    "df_drop.duplicated().sum()"
   ]
  },
  {
   "cell_type": "code",
   "execution_count": 188,
   "id": "83c3a981-2fc2-447e-9dbe-cd16665f0793",
   "metadata": {},
   "outputs": [],
   "source": [
    "df_drop_Clean = df_drop.drop_duplicates()"
   ]
  },
  {
   "cell_type": "code",
   "execution_count": 189,
   "id": "cec2f0fd-f611-4ef8-9fd3-a3f5369ebd71",
   "metadata": {},
   "outputs": [
    {
     "data": {
      "text/plain": [
       "0"
      ]
     },
     "execution_count": 189,
     "metadata": {},
     "output_type": "execute_result"
    }
   ],
   "source": [
    "df_drop_Clean[['Case', 'Gene']].duplicated().sum()"
   ]
  },
  {
   "cell_type": "code",
   "execution_count": 190,
   "id": "8d6b7a8c-fe79-4aa0-b60d-ff2b8880156d",
   "metadata": {},
   "outputs": [
    {
     "data": {
      "text/plain": [
       "(2673, 35)"
      ]
     },
     "execution_count": 190,
     "metadata": {},
     "output_type": "execute_result"
    }
   ],
   "source": [
    "df.shape"
   ]
  },
  {
   "cell_type": "code",
   "execution_count": 191,
   "id": "fb576ce0-d79b-4a01-825c-90eef3c95b1e",
   "metadata": {},
   "outputs": [
    {
     "data": {
      "text/plain": [
       "(1458, 33)"
      ]
     },
     "execution_count": 191,
     "metadata": {},
     "output_type": "execute_result"
    }
   ],
   "source": [
    "df_drop_Clean.shape"
   ]
  },
  {
   "cell_type": "markdown",
   "id": "1be83802-b10f-4f54-8a8d-24194a4271fe",
   "metadata": {},
   "source": [
    "## Trying pix.imshow before messing with the dataframe"
   ]
  },
  {
   "cell_type": "code",
   "execution_count": 193,
   "id": "a1ec4a03-5023-44d8-8edb-ef11a8f3cb98",
   "metadata": {},
   "outputs": [],
   "source": [
    "# Pivot the data to create a matrix for imshow\n",
    "heatmap_data = df_drop_Clean.pivot_table(\n",
    "    index='Case',\n",
    "    columns='Gene',\n",
    "    values='Expression',\n",
    "    aggfunc='mean'\n",
    ")"
   ]
  },
  {
   "cell_type": "code",
   "execution_count": 194,
   "id": "1e381fe2-dbb1-495d-8566-73f902d20232",
   "metadata": {},
   "outputs": [
    {
     "data": {
      "application/vnd.plotly.v1+json": {
       "config": {
        "plotlyServerURL": "https://plot.ly"
       },
       "data": [
        {
         "coloraxis": "coloraxis",
         "customdata": [
          [
           "Stage IV",
           "Stage IV",
           "Stage IV",
           "Stage IV",
           "Stage IV",
           "Stage IV",
           "Stage IV",
           "Stage IV",
           "Stage IV",
           "Stage IV",
           "Stage IV",
           "Stage IV",
           "Stage IV",
           "Stage IV",
           "Stage IV",
           "Stage IV",
           "Stage IV",
           "Stage IV",
           "Stage IV",
           "Stage IV",
           "Stage IV",
           "Stage IV",
           "Stage IV",
           "Stage IV",
           "Stage IV",
           "Stage IV",
           "Stage IV"
          ],
          [
           null,
           null,
           null,
           null,
           null,
           null,
           null,
           null,
           null,
           null,
           null,
           null,
           null,
           null,
           null,
           null,
           null,
           null,
           null,
           null,
           null,
           null,
           null,
           null,
           null,
           null,
           null
          ],
          [
           null,
           null,
           null,
           null,
           null,
           null,
           null,
           null,
           null,
           null,
           null,
           null,
           null,
           null,
           null,
           null,
           null,
           null,
           null,
           null,
           null,
           null,
           null,
           null,
           null,
           null,
           null
          ],
          [
           null,
           null,
           null,
           null,
           null,
           null,
           null,
           null,
           null,
           null,
           null,
           null,
           null,
           null,
           null,
           null,
           null,
           null,
           null,
           null,
           null,
           null,
           null,
           null,
           null,
           null,
           null
          ],
          [
           null,
           null,
           null,
           null,
           null,
           null,
           null,
           null,
           null,
           null,
           null,
           null,
           null,
           null,
           null,
           null,
           null,
           null,
           null,
           null,
           null,
           null,
           null,
           null,
           null,
           null,
           null
          ],
          [
           null,
           null,
           null,
           null,
           null,
           null,
           null,
           null,
           null,
           null,
           null,
           null,
           null,
           null,
           null,
           null,
           null,
           null,
           null,
           null,
           null,
           null,
           null,
           null,
           null,
           null,
           null
          ],
          [
           null,
           null,
           null,
           null,
           null,
           null,
           null,
           null,
           null,
           null,
           null,
           null,
           null,
           null,
           null,
           null,
           null,
           null,
           null,
           null,
           null,
           null,
           null,
           null,
           null,
           null,
           null
          ],
          [
           null,
           null,
           null,
           null,
           null,
           null,
           null,
           null,
           null,
           null,
           null,
           null,
           null,
           null,
           null,
           null,
           null,
           null,
           null,
           null,
           null,
           null,
           null,
           null,
           null,
           null,
           null
          ],
          [
           "Stage II",
           "Stage II",
           "Stage II",
           "Stage II",
           "Stage II",
           "Stage II",
           "Stage II",
           "Stage II",
           "Stage II",
           "Stage II",
           "Stage II",
           "Stage II",
           "Stage II",
           "Stage II",
           "Stage II",
           "Stage II",
           "Stage II",
           "Stage II",
           "Stage II",
           "Stage II",
           "Stage II",
           "Stage II",
           "Stage II",
           "Stage II",
           "Stage II",
           "Stage II",
           "Stage II"
          ],
          [
           "Stage II",
           "Stage II",
           "Stage II",
           "Stage II",
           "Stage II",
           "Stage II",
           "Stage II",
           "Stage II",
           "Stage II",
           "Stage II",
           "Stage II",
           "Stage II",
           "Stage II",
           "Stage II",
           "Stage II",
           "Stage II",
           "Stage II",
           "Stage II",
           "Stage II",
           "Stage II",
           "Stage II",
           "Stage II",
           "Stage II",
           "Stage II",
           "Stage II",
           "Stage II",
           "Stage II"
          ],
          [
           "Stage II",
           "Stage II",
           "Stage II",
           "Stage II",
           "Stage II",
           "Stage II",
           "Stage II",
           "Stage II",
           "Stage II",
           "Stage II",
           "Stage II",
           "Stage II",
           "Stage II",
           "Stage II",
           "Stage II",
           "Stage II",
           "Stage II",
           "Stage II",
           "Stage II",
           "Stage II",
           "Stage II",
           "Stage II",
           "Stage II",
           "Stage II",
           "Stage II",
           "Stage II",
           "Stage II"
          ],
          [
           null,
           null,
           null,
           null,
           null,
           null,
           null,
           null,
           null,
           null,
           null,
           null,
           null,
           null,
           null,
           null,
           null,
           null,
           null,
           null,
           null,
           null,
           null,
           null,
           null,
           null,
           null
          ],
          [
           "Stage II",
           "Stage II",
           "Stage II",
           "Stage II",
           "Stage II",
           "Stage II",
           "Stage II",
           "Stage II",
           "Stage II",
           "Stage II",
           "Stage II",
           "Stage II",
           "Stage II",
           "Stage II",
           "Stage II",
           "Stage II",
           "Stage II",
           "Stage II",
           "Stage II",
           "Stage II",
           "Stage II",
           "Stage II",
           "Stage II",
           "Stage II",
           "Stage II",
           "Stage II",
           "Stage II"
          ],
          [
           "Stage II",
           "Stage II",
           "Stage II",
           "Stage II",
           "Stage II",
           "Stage II",
           "Stage II",
           "Stage II",
           "Stage II",
           "Stage II",
           "Stage II",
           "Stage II",
           "Stage II",
           "Stage II",
           "Stage II",
           "Stage II",
           "Stage II",
           "Stage II",
           "Stage II",
           "Stage II",
           "Stage II",
           "Stage II",
           "Stage II",
           "Stage II",
           "Stage II",
           "Stage II",
           "Stage II"
          ],
          [
           "Stage II",
           "Stage II",
           "Stage II",
           "Stage II",
           "Stage II",
           "Stage II",
           "Stage II",
           "Stage II",
           "Stage II",
           "Stage II",
           "Stage II",
           "Stage II",
           "Stage II",
           "Stage II",
           "Stage II",
           "Stage II",
           "Stage II",
           "Stage II",
           "Stage II",
           "Stage II",
           "Stage II",
           "Stage II",
           "Stage II",
           "Stage II",
           "Stage II",
           "Stage II",
           "Stage II"
          ],
          [
           "Stage II",
           "Stage II",
           "Stage II",
           "Stage II",
           "Stage II",
           "Stage II",
           "Stage II",
           "Stage II",
           "Stage II",
           "Stage II",
           "Stage II",
           "Stage II",
           "Stage II",
           "Stage II",
           "Stage II",
           "Stage II",
           "Stage II",
           "Stage II",
           "Stage II",
           "Stage II",
           "Stage II",
           "Stage II",
           "Stage II",
           "Stage II",
           "Stage II",
           "Stage II",
           "Stage II"
          ],
          [
           "Stage II",
           "Stage II",
           "Stage II",
           "Stage II",
           "Stage II",
           "Stage II",
           "Stage II",
           "Stage II",
           "Stage II",
           "Stage II",
           "Stage II",
           "Stage II",
           "Stage II",
           "Stage II",
           "Stage II",
           "Stage II",
           "Stage II",
           "Stage II",
           "Stage II",
           "Stage II",
           "Stage II",
           "Stage II",
           "Stage II",
           "Stage II",
           "Stage II",
           "Stage II",
           "Stage II"
          ],
          [
           "Stage II",
           "Stage II",
           "Stage II",
           "Stage II",
           "Stage II",
           "Stage II",
           "Stage II",
           "Stage II",
           "Stage II",
           "Stage II",
           "Stage II",
           "Stage II",
           "Stage II",
           "Stage II",
           "Stage II",
           "Stage II",
           "Stage II",
           "Stage II",
           "Stage II",
           "Stage II",
           "Stage II",
           "Stage II",
           "Stage II",
           "Stage II",
           "Stage II",
           "Stage II",
           "Stage II"
          ],
          [
           "Stage II",
           "Stage II",
           "Stage II",
           "Stage II",
           "Stage II",
           "Stage II",
           "Stage II",
           "Stage II",
           "Stage II",
           "Stage II",
           "Stage II",
           "Stage II",
           "Stage II",
           "Stage II",
           "Stage II",
           "Stage II",
           "Stage II",
           "Stage II",
           "Stage II",
           "Stage II",
           "Stage II",
           "Stage II",
           "Stage II",
           "Stage II",
           "Stage II",
           "Stage II",
           "Stage II"
          ],
          [
           "Stage II",
           "Stage II",
           "Stage II",
           "Stage II",
           "Stage II",
           "Stage II",
           "Stage II",
           "Stage II",
           "Stage II",
           "Stage II",
           "Stage II",
           "Stage II",
           "Stage II",
           "Stage II",
           "Stage II",
           "Stage II",
           "Stage II",
           "Stage II",
           "Stage II",
           "Stage II",
           "Stage II",
           "Stage II",
           "Stage II",
           "Stage II",
           "Stage II",
           "Stage II",
           "Stage II"
          ],
          [
           "Stage III",
           "Stage III",
           "Stage III",
           "Stage III",
           "Stage III",
           "Stage III",
           "Stage III",
           "Stage III",
           "Stage III",
           "Stage III",
           "Stage III",
           "Stage III",
           "Stage III",
           "Stage III",
           "Stage III",
           "Stage III",
           "Stage III",
           "Stage III",
           "Stage III",
           "Stage III",
           "Stage III",
           "Stage III",
           "Stage III",
           "Stage III",
           "Stage III",
           "Stage III",
           "Stage III"
          ],
          [
           "Stage II",
           "Stage II",
           "Stage II",
           "Stage II",
           "Stage II",
           "Stage II",
           "Stage II",
           "Stage II",
           "Stage II",
           "Stage II",
           "Stage II",
           "Stage II",
           "Stage II",
           "Stage II",
           "Stage II",
           "Stage II",
           "Stage II",
           "Stage II",
           "Stage II",
           "Stage II",
           "Stage II",
           "Stage II",
           "Stage II",
           "Stage II",
           "Stage II",
           "Stage II",
           "Stage II"
          ],
          [
           "Stage II",
           "Stage II",
           "Stage II",
           "Stage II",
           "Stage II",
           "Stage II",
           "Stage II",
           "Stage II",
           "Stage II",
           "Stage II",
           "Stage II",
           "Stage II",
           "Stage II",
           "Stage II",
           "Stage II",
           "Stage II",
           "Stage II",
           "Stage II",
           "Stage II",
           "Stage II",
           "Stage II",
           "Stage II",
           "Stage II",
           "Stage II",
           "Stage II",
           "Stage II",
           "Stage II"
          ],
          [
           "Stage II",
           "Stage II",
           "Stage II",
           "Stage II",
           "Stage II",
           "Stage II",
           "Stage II",
           "Stage II",
           "Stage II",
           "Stage II",
           "Stage II",
           "Stage II",
           "Stage II",
           "Stage II",
           "Stage II",
           "Stage II",
           "Stage II",
           "Stage II",
           "Stage II",
           "Stage II",
           "Stage II",
           "Stage II",
           "Stage II",
           "Stage II",
           "Stage II",
           "Stage II",
           "Stage II"
          ],
          [
           "Stage II",
           "Stage II",
           "Stage II",
           "Stage II",
           "Stage II",
           "Stage II",
           "Stage II",
           "Stage II",
           "Stage II",
           "Stage II",
           "Stage II",
           "Stage II",
           "Stage II",
           "Stage II",
           "Stage II",
           "Stage II",
           "Stage II",
           "Stage II",
           "Stage II",
           "Stage II",
           "Stage II",
           "Stage II",
           "Stage II",
           "Stage II",
           "Stage II",
           "Stage II",
           "Stage II"
          ],
          [
           "Stage II",
           "Stage II",
           "Stage II",
           "Stage II",
           "Stage II",
           "Stage II",
           "Stage II",
           "Stage II",
           "Stage II",
           "Stage II",
           "Stage II",
           "Stage II",
           "Stage II",
           "Stage II",
           "Stage II",
           "Stage II",
           "Stage II",
           "Stage II",
           "Stage II",
           "Stage II",
           "Stage II",
           "Stage II",
           "Stage II",
           "Stage II",
           "Stage II",
           "Stage II",
           "Stage II"
          ],
          [
           "Stage II",
           "Stage II",
           "Stage II",
           "Stage II",
           "Stage II",
           "Stage II",
           "Stage II",
           "Stage II",
           "Stage II",
           "Stage II",
           "Stage II",
           "Stage II",
           "Stage II",
           "Stage II",
           "Stage II",
           "Stage II",
           "Stage II",
           "Stage II",
           "Stage II",
           "Stage II",
           "Stage II",
           "Stage II",
           "Stage II",
           "Stage II",
           "Stage II",
           "Stage II",
           "Stage II"
          ],
          [
           "Stage II",
           "Stage II",
           "Stage II",
           "Stage II",
           "Stage II",
           "Stage II",
           "Stage II",
           "Stage II",
           "Stage II",
           "Stage II",
           "Stage II",
           "Stage II",
           "Stage II",
           "Stage II",
           "Stage II",
           "Stage II",
           "Stage II",
           "Stage II",
           "Stage II",
           "Stage II",
           "Stage II",
           "Stage II",
           "Stage II",
           "Stage II",
           "Stage II",
           "Stage II",
           "Stage II"
          ],
          [
           "Stage III",
           "Stage III",
           "Stage III",
           "Stage III",
           "Stage III",
           "Stage III",
           "Stage III",
           "Stage III",
           "Stage III",
           "Stage III",
           "Stage III",
           "Stage III",
           "Stage III",
           "Stage III",
           "Stage III",
           "Stage III",
           "Stage III",
           "Stage III",
           "Stage III",
           "Stage III",
           "Stage III",
           "Stage III",
           "Stage III",
           "Stage III",
           "Stage III",
           "Stage III",
           "Stage III"
          ],
          [
           "Stage II",
           "Stage II",
           "Stage II",
           "Stage II",
           "Stage II",
           "Stage II",
           "Stage II",
           "Stage II",
           "Stage II",
           "Stage II",
           "Stage II",
           "Stage II",
           "Stage II",
           "Stage II",
           "Stage II",
           "Stage II",
           "Stage II",
           "Stage II",
           "Stage II",
           "Stage II",
           "Stage II",
           "Stage II",
           "Stage II",
           "Stage II",
           "Stage II",
           "Stage II",
           "Stage II"
          ],
          [
           "Stage II",
           "Stage II",
           "Stage II",
           "Stage II",
           "Stage II",
           "Stage II",
           "Stage II",
           "Stage II",
           "Stage II",
           "Stage II",
           "Stage II",
           "Stage II",
           "Stage II",
           "Stage II",
           "Stage II",
           "Stage II",
           "Stage II",
           "Stage II",
           "Stage II",
           "Stage II",
           "Stage II",
           "Stage II",
           "Stage II",
           "Stage II",
           "Stage II",
           "Stage II",
           "Stage II"
          ],
          [
           null,
           null,
           null,
           null,
           null,
           null,
           null,
           null,
           null,
           null,
           null,
           null,
           null,
           null,
           null,
           null,
           null,
           null,
           null,
           null,
           null,
           null,
           null,
           null,
           null,
           null,
           null
          ],
          [
           "Stage II",
           "Stage II",
           "Stage II",
           "Stage II",
           "Stage II",
           "Stage II",
           "Stage II",
           "Stage II",
           "Stage II",
           "Stage II",
           "Stage II",
           "Stage II",
           "Stage II",
           "Stage II",
           "Stage II",
           "Stage II",
           "Stage II",
           "Stage II",
           "Stage II",
           "Stage II",
           "Stage II",
           "Stage II",
           "Stage II",
           "Stage II",
           "Stage II",
           "Stage II",
           "Stage II"
          ],
          [
           "Stage II",
           "Stage II",
           "Stage II",
           "Stage II",
           "Stage II",
           "Stage II",
           "Stage II",
           "Stage II",
           "Stage II",
           "Stage II",
           "Stage II",
           "Stage II",
           "Stage II",
           "Stage II",
           "Stage II",
           "Stage II",
           "Stage II",
           "Stage II",
           "Stage II",
           "Stage II",
           "Stage II",
           "Stage II",
           "Stage II",
           "Stage II",
           "Stage II",
           "Stage II",
           "Stage II"
          ],
          [
           "Stage II",
           "Stage II",
           "Stage II",
           "Stage II",
           "Stage II",
           "Stage II",
           "Stage II",
           "Stage II",
           "Stage II",
           "Stage II",
           "Stage II",
           "Stage II",
           "Stage II",
           "Stage II",
           "Stage II",
           "Stage II",
           "Stage II",
           "Stage II",
           "Stage II",
           "Stage II",
           "Stage II",
           "Stage II",
           "Stage II",
           "Stage II",
           "Stage II",
           "Stage II",
           "Stage II"
          ],
          [
           "Stage II",
           "Stage II",
           "Stage II",
           "Stage II",
           "Stage II",
           "Stage II",
           "Stage II",
           "Stage II",
           "Stage II",
           "Stage II",
           "Stage II",
           "Stage II",
           "Stage II",
           "Stage II",
           "Stage II",
           "Stage II",
           "Stage II",
           "Stage II",
           "Stage II",
           "Stage II",
           "Stage II",
           "Stage II",
           "Stage II",
           "Stage II",
           "Stage II",
           "Stage II",
           "Stage II"
          ],
          [
           "Stage II",
           "Stage II",
           "Stage II",
           "Stage II",
           "Stage II",
           "Stage II",
           "Stage II",
           "Stage II",
           "Stage II",
           "Stage II",
           "Stage II",
           "Stage II",
           "Stage II",
           "Stage II",
           "Stage II",
           "Stage II",
           "Stage II",
           "Stage II",
           "Stage II",
           "Stage II",
           "Stage II",
           "Stage II",
           "Stage II",
           "Stage II",
           "Stage II",
           "Stage II",
           "Stage II"
          ],
          [
           "Stage II",
           "Stage II",
           "Stage II",
           "Stage II",
           "Stage II",
           "Stage II",
           "Stage II",
           "Stage II",
           "Stage II",
           "Stage II",
           "Stage II",
           "Stage II",
           "Stage II",
           "Stage II",
           "Stage II",
           "Stage II",
           "Stage II",
           "Stage II",
           "Stage II",
           "Stage II",
           "Stage II",
           "Stage II",
           "Stage II",
           "Stage II",
           "Stage II",
           "Stage II",
           "Stage II"
          ],
          [
           "Stage II",
           "Stage II",
           "Stage II",
           "Stage II",
           "Stage II",
           "Stage II",
           "Stage II",
           "Stage II",
           "Stage II",
           "Stage II",
           "Stage II",
           "Stage II",
           "Stage II",
           "Stage II",
           "Stage II",
           "Stage II",
           "Stage II",
           "Stage II",
           "Stage II",
           "Stage II",
           "Stage II",
           "Stage II",
           "Stage II",
           "Stage II",
           "Stage II",
           "Stage II",
           "Stage II"
          ],
          [
           "Stage III",
           "Stage III",
           "Stage III",
           "Stage III",
           "Stage III",
           "Stage III",
           "Stage III",
           "Stage III",
           "Stage III",
           "Stage III",
           "Stage III",
           "Stage III",
           "Stage III",
           "Stage III",
           "Stage III",
           "Stage III",
           "Stage III",
           "Stage III",
           "Stage III",
           "Stage III",
           "Stage III",
           "Stage III",
           "Stage III",
           "Stage III",
           "Stage III",
           "Stage III",
           "Stage III"
          ],
          [
           "Stage I",
           "Stage I",
           "Stage I",
           "Stage I",
           "Stage I",
           "Stage I",
           "Stage I",
           "Stage I",
           "Stage I",
           "Stage I",
           "Stage I",
           "Stage I",
           "Stage I",
           "Stage I",
           "Stage I",
           "Stage I",
           "Stage I",
           "Stage I",
           "Stage I",
           "Stage I",
           "Stage I",
           "Stage I",
           "Stage I",
           "Stage I",
           "Stage I",
           "Stage I",
           "Stage I"
          ],
          [
           "Stage III",
           "Stage III",
           "Stage III",
           "Stage III",
           "Stage III",
           "Stage III",
           "Stage III",
           "Stage III",
           "Stage III",
           "Stage III",
           "Stage III",
           "Stage III",
           "Stage III",
           "Stage III",
           "Stage III",
           "Stage III",
           "Stage III",
           "Stage III",
           "Stage III",
           "Stage III",
           "Stage III",
           "Stage III",
           "Stage III",
           "Stage III",
           "Stage III",
           "Stage III",
           "Stage III"
          ],
          [
           "Stage II",
           "Stage II",
           "Stage II",
           "Stage II",
           "Stage II",
           "Stage II",
           "Stage II",
           "Stage II",
           "Stage II",
           "Stage II",
           "Stage II",
           "Stage II",
           "Stage II",
           "Stage II",
           "Stage II",
           "Stage II",
           "Stage II",
           "Stage II",
           "Stage II",
           "Stage II",
           "Stage II",
           "Stage II",
           "Stage II",
           "Stage II",
           "Stage II",
           "Stage II",
           "Stage II"
          ],
          [
           "Stage II",
           "Stage II",
           "Stage II",
           "Stage II",
           "Stage II",
           "Stage II",
           "Stage II",
           "Stage II",
           "Stage II",
           "Stage II",
           "Stage II",
           "Stage II",
           "Stage II",
           "Stage II",
           "Stage II",
           "Stage II",
           "Stage II",
           "Stage II",
           "Stage II",
           "Stage II",
           "Stage II",
           "Stage II",
           "Stage II",
           "Stage II",
           "Stage II",
           "Stage II",
           "Stage II"
          ],
          [
           "Stage II",
           "Stage II",
           "Stage II",
           "Stage II",
           "Stage II",
           "Stage II",
           "Stage II",
           "Stage II",
           "Stage II",
           "Stage II",
           "Stage II",
           "Stage II",
           "Stage II",
           "Stage II",
           "Stage II",
           "Stage II",
           "Stage II",
           "Stage II",
           "Stage II",
           "Stage II",
           "Stage II",
           "Stage II",
           "Stage II",
           "Stage II",
           "Stage II",
           "Stage II",
           "Stage II"
          ],
          [
           "Stage III",
           "Stage III",
           "Stage III",
           "Stage III",
           "Stage III",
           "Stage III",
           "Stage III",
           "Stage III",
           "Stage III",
           "Stage III",
           "Stage III",
           "Stage III",
           "Stage III",
           "Stage III",
           "Stage III",
           "Stage III",
           "Stage III",
           "Stage III",
           "Stage III",
           "Stage III",
           "Stage III",
           "Stage III",
           "Stage III",
           "Stage III",
           "Stage III",
           "Stage III",
           "Stage III"
          ],
          [
           "Stage III",
           "Stage III",
           "Stage III",
           "Stage III",
           "Stage III",
           "Stage III",
           "Stage III",
           "Stage III",
           "Stage III",
           "Stage III",
           "Stage III",
           "Stage III",
           "Stage III",
           "Stage III",
           "Stage III",
           "Stage III",
           "Stage III",
           "Stage III",
           "Stage III",
           "Stage III",
           "Stage III",
           "Stage III",
           "Stage III",
           "Stage III",
           "Stage III",
           "Stage III",
           "Stage III"
          ],
          [
           null,
           null,
           null,
           null,
           null,
           null,
           null,
           null,
           null,
           null,
           null,
           null,
           null,
           null,
           null,
           null,
           null,
           null,
           null,
           null,
           null,
           null,
           null,
           null,
           null,
           null,
           null
          ],
          [
           "Stage III",
           "Stage III",
           "Stage III",
           "Stage III",
           "Stage III",
           "Stage III",
           "Stage III",
           "Stage III",
           "Stage III",
           "Stage III",
           "Stage III",
           "Stage III",
           "Stage III",
           "Stage III",
           "Stage III",
           "Stage III",
           "Stage III",
           "Stage III",
           "Stage III",
           "Stage III",
           "Stage III",
           "Stage III",
           "Stage III",
           "Stage III",
           "Stage III",
           "Stage III",
           "Stage III"
          ],
          [
           "Stage II",
           "Stage II",
           "Stage II",
           "Stage II",
           "Stage II",
           "Stage II",
           "Stage II",
           "Stage II",
           "Stage II",
           "Stage II",
           "Stage II",
           "Stage II",
           "Stage II",
           "Stage II",
           "Stage II",
           "Stage II",
           "Stage II",
           "Stage II",
           "Stage II",
           "Stage II",
           "Stage II",
           "Stage II",
           "Stage II",
           "Stage II",
           "Stage II",
           "Stage II",
           "Stage II"
          ],
          [
           "Stage II",
           "Stage II",
           "Stage II",
           "Stage II",
           "Stage II",
           "Stage II",
           "Stage II",
           "Stage II",
           "Stage II",
           "Stage II",
           "Stage II",
           "Stage II",
           "Stage II",
           "Stage II",
           "Stage II",
           "Stage II",
           "Stage II",
           "Stage II",
           "Stage II",
           "Stage II",
           "Stage II",
           "Stage II",
           "Stage II",
           "Stage II",
           "Stage II",
           "Stage II",
           "Stage II"
          ],
          [
           "Stage II",
           "Stage II",
           "Stage II",
           "Stage II",
           "Stage II",
           "Stage II",
           "Stage II",
           "Stage II",
           "Stage II",
           "Stage II",
           "Stage II",
           "Stage II",
           "Stage II",
           "Stage II",
           "Stage II",
           "Stage II",
           "Stage II",
           "Stage II",
           "Stage II",
           "Stage II",
           "Stage II",
           "Stage II",
           "Stage II",
           "Stage II",
           "Stage II",
           "Stage II",
           "Stage II"
          ],
          [
           "Stage II",
           "Stage II",
           "Stage II",
           "Stage II",
           "Stage II",
           "Stage II",
           "Stage II",
           "Stage II",
           "Stage II",
           "Stage II",
           "Stage II",
           "Stage II",
           "Stage II",
           "Stage II",
           "Stage II",
           "Stage II",
           "Stage II",
           "Stage II",
           "Stage II",
           "Stage II",
           "Stage II",
           "Stage II",
           "Stage II",
           "Stage II",
           "Stage II",
           "Stage II",
           "Stage II"
          ],
          [
           "Stage III",
           "Stage III",
           "Stage III",
           "Stage III",
           "Stage III",
           "Stage III",
           "Stage III",
           "Stage III",
           "Stage III",
           "Stage III",
           "Stage III",
           "Stage III",
           "Stage III",
           "Stage III",
           "Stage III",
           "Stage III",
           "Stage III",
           "Stage III",
           "Stage III",
           "Stage III",
           "Stage III",
           "Stage III",
           "Stage III",
           "Stage III",
           "Stage III",
           "Stage III",
           "Stage III"
          ]
         ],
         "hovertemplate": "Gene: %{x}<br>Case: %{y}<br>Expression: %{z:.2f}<br>Cancer Stage: %{customdata}",
         "name": "0",
         "type": "heatmap",
         "x": [
          "ALDH1A1",
          "CCL18",
          "CCND1",
          "CCND2",
          "CD44",
          "CDCA7",
          "CDH1",
          "CDK6",
          "CDKN2D",
          "DUSP4",
          "E2F2",
          "EPCAM",
          "ERBB2",
          "ERBB3",
          "FOS",
          "FOSB",
          "HES6",
          "LAMP5",
          "LAPTM4B",
          "LTF",
          "MMP9",
          "S100P",
          "TOP2A",
          "TP53INP1",
          "TPM1",
          "UBE2C",
          "UHRF1"
         ],
         "xaxis": "x",
         "y": [
          "ER-B1PU",
          "MBCProject_1037",
          "MBCProject_1542",
          "MBCProject_1819",
          "MBCProject_3159",
          "MBCProject_4424",
          "MBCproject_0093",
          "MBCproject_0280",
          "TCGA-A1-A0SK",
          "TCGA-A2-A0CO",
          "TCGA-A2-A0CY",
          "TCGA-A2-A0EP",
          "TCGA-A2-A3XV",
          "TCGA-A2-A3XW",
          "TCGA-A2-A3Y0",
          "TCGA-A2-A4S1",
          "TCGA-A7-A56D",
          "TCGA-A7-A5ZV",
          "TCGA-A8-A08H",
          "TCGA-AC-A2QH",
          "TCGA-AC-A2QJ",
          "TCGA-AC-A62X",
          "TCGA-AN-A0FL",
          "TCGA-AO-A1KO",
          "TCGA-AO-A1KR",
          "TCGA-AQ-A54N",
          "TCGA-AR-A0TP",
          "TCGA-AR-A2LN",
          "TCGA-AR-A5QQ",
          "TCGA-B6-A0IA",
          "TCGA-B6-A1KF",
          "TCGA-BH-A0BO",
          "TCGA-BH-A0DL",
          "TCGA-BH-A1EN",
          "TCGA-BH-A208",
          "TCGA-BH-A42U",
          "TCGA-BH-A5IZ",
          "TCGA-D8-A27H",
          "TCGA-E2-A1LG",
          "TCGA-E2-A1LL",
          "TCGA-E2-A1LS",
          "TCGA-E2-A572",
          "TCGA-E2-A574",
          "TCGA-E9-A1ND",
          "TCGA-E9-A5FL",
          "TCGA-EW-A1P1",
          "TCGA-EW-A1PB",
          "TCGA-FA-A7DS",
          "TCGA-GM-A4E0",
          "TCGA-LL-A8F5",
          "TCGA-OL-A5RW",
          "TCGA-OL-A66P",
          "TCGA-OL-A6VQ",
          "TCGA-PL-A8LV"
         ],
         "yaxis": "y",
         "z": [
          [
           -0.5566944595979659,
           -0.3566749274072618,
           -0.7632041996136092,
           -0.2519789353773842,
           -0.626668686802882,
           1.1555247498643957,
           -1.174174638507787,
           -0.3503900587123293,
           -1.0672338912926238,
           -0.7141915775305736,
           -0.3508485019921666,
           -1.527980563705272,
           -0.439791300460454,
           0.8381126800407499,
           -0.2028036880713876,
           -0.3244472254885024,
           0.3944872632204211,
           -0.6365193215491957,
           -0.3267711709355559,
           -0.3565342761726549,
           -0.0214792542792991,
           -0.4107433578797306,
           2.2224162336597715,
           -0.927297351509456,
           -0.1458939445609586,
           -0.1563554041025877,
           1.9288749336763145
          ],
          [
           0.0856806112011567,
           -0.2790706117131297,
           -0.7326076427500379,
           -0.3572923334875306,
           -0.2848672357263598,
           -0.2978452681020751,
           -0.6090577142588925,
           -0.4555013507312039,
           -0.6485909676242491,
           -0.6346630453775058,
           -0.4221901827069782,
           -1.231589511872716,
           1.2888082501309044,
           -1.1589881393035883,
           -0.595279937339628,
           -0.4265852789201523,
           -0.4049541420934286,
           -0.037017510705924,
           -0.485902308592791,
           -0.3518900135483375,
           -0.0472045625176738,
           -0.365459273646497,
           -0.6349040734414787,
           -0.9410295388003402,
           -0.5373388087254326,
           -0.810347598256902,
           -0.5226173471983421
          ],
          [
           -0.6227122468393758,
           -0.221353447620936,
           -0.6901944737795075,
           -0.3828137361983791,
           -0.3442897964382759,
           0.2220437998444813,
           -0.6101576302112979,
           -0.4378282143435801,
           -0.9848549409588592,
           -0.7076239682568463,
           -0.4266548109778664,
           -1.0975752542401318,
           -0.3897572992572986,
           -0.9597786764015775,
           -0.4366754950373282,
           -0.3586872553057402,
           -0.5807555283895611,
           -0.7575387241213031,
           -0.2869339466529045,
           -0.3505806138227534,
           -0.0333773035519297,
           -0.3652931946767392,
           0.558514284757405,
           -0.8573041879298001,
           -0.4942389266687165,
           -0.2838560129771326,
           -0.0498510907631983
          ],
          [
           0.4970907097242793,
           -0.1609535085084633,
           -0.7563123542463474,
           -0.3685439987055324,
           -0.1906703438856831,
           -0.1178062077068073,
           0.1162256946338891,
           -0.4265976255469056,
           -1.0344497341606258,
           -0.6932765871674448,
           -0.505971241500678,
           -1.2813101072507562,
           -0.3575241749454227,
           -0.8434174338653191,
           0.4523290171097132,
           0.1654454488509184,
           -0.6088690576992126,
           -0.6935459169437068,
           -0.5641034782210719,
           -0.3593765258491831,
           -0.0419892249302147,
           -0.4107988323903758,
           -0.5658309494283217,
           -0.6156586832140921,
           0.2654709543292605,
           -0.716404493765626,
           -0.7579436977191611
          ],
          [
           2.1745202174192984,
           -0.0803548697271812,
           -0.7517442383440759,
           -0.3664012585708238,
           0.3624788391959579,
           -0.4021284952173181,
           -1.1042261270824083,
           -0.4211327408199525,
           -1.0865046204457731,
           -0.675396448743078,
           -0.5628721590496516,
           -1.5304394742069611,
           -0.4187672953167443,
           -1.837480728246876,
           1.661520242108306,
           3.819801234031163,
           -0.6683030364960488,
           -0.687543117428495,
           -0.5384997276411857,
           -0.3630467190445038,
           -0.0731824898887046,
           -0.4102013615738613,
           -0.714392476043375,
           -0.4867742487650723,
           1.856873945177584,
           -0.8248417092137379,
           -0.9639637984544192
          ],
          [
           -0.6699469184634722,
           -0.3702503459507376,
           -0.6760761282944479,
           -0.406064746170749,
           -0.2196096970323396,
           0.0257824123109551,
           -0.8415524486985887,
           -0.497941946340065,
           -0.4595738157178258,
           -0.2160965030812484,
           -0.5763276249419141,
           -1.444595724078496,
           3.3045987499348333,
           -0.9885508132650352,
           -0.3167051127083799,
           -0.1761318429746183,
           -0.1118529397882324,
           -0.8600927248925021,
           -0.5788345663454063,
           -0.3427465295000753,
           -0.1261729915105028,
           -0.3204677227023182,
           -0.8650805063655885,
           -0.8506202791903731,
           -1.025424218095759,
           -0.9069740719388354,
           -1.0649762812245278
          ],
          [
           -0.656641587958459,
           -0.3702503459507376,
           -0.6737641824474342,
           -0.4190306034965177,
           -0.6954177116435885,
           -0.3992514112773814,
           0.0182220131512124,
           -0.5848285998429077,
           1.7511956672542093,
           -0.6597983767179757,
           -0.5909839218863469,
           -0.1289026576139232,
           4.305066600069553,
           -0.1746834555540584,
           -0.4367339440680693,
           -0.4553645504090239,
           -0.6755786483525666,
           -0.8600927248925021,
           -0.5779686321895816,
           -0.3346937986670067,
           -0.12949290591436,
           -0.2141220521088602,
           -0.4518166938313218,
           -0.959259415958471,
           -0.4099762886070228,
           -0.8932522340754524,
           0.120831394795275
          ],
          [
           -0.1711092742204005,
           -0.3292875445658341,
           -0.7277669324852405,
           -0.3615778137569478,
           0.5650107666107473,
           -0.2096294482206322,
           0.0087908189210126,
           -0.4039860382821728,
           -0.8737407366928273,
           -0.6868186356297861,
           -0.5540660646670722,
           -0.0173297753642916,
           -0.2659224095644599,
           1.2346552457232471,
           -0.4579914069406965,
           -0.3401955631523857,
           -0.650940459852048,
           -0.7845019161824288,
           -0.5375104531586472,
           -0.3235908637867905,
           -0.0711495816010131,
           -0.2595339689101024,
           -0.7020159184959455,
           -0.8083419944382563,
           -0.7038331512400968,
           -0.8156695671835239,
           -0.9230329940045768
          ],
          [
           -0.3368496904324549,
           -0.279861020697599,
           -0.752857397455601,
           -0.3573743958756684,
           0.6885131821973646,
           5.432796917708553,
           -0.9193407865932396,
           0.1754421524462477,
           4.217729410999117,
           -0.6237417276095973,
           2.844932414309519,
           1.4664360038846214,
           -0.4434587599648266,
           -1.287541877629507,
           -0.5877055424328135,
           -0.4472049244207454,
           7.808872586275318,
           -0.7307237493321579,
           1.2079320994128468,
           -0.3636319974780578,
           -0.1028408077304589,
           -0.4062037511856248,
           3.115722500540024,
           -0.4121410633603456,
           -0.9322780043875945,
           2.526082022279078,
           3.005164355220437
          ],
          [
           0.4847058267176445,
           -0.2122954760470911,
           -0.3898135544901828,
           0.2972372742993739,
           -0.3108198243631809,
           -0.3992514112773814,
           -1.1311696799537652,
           -0.3425436875217956,
           0.0545514707492653,
           0.5153561611671473,
           -0.4382012634025768,
           -1.1090918545792094,
           -0.1981059493457533,
           -0.4890699009156279,
           1.1559430201856082,
           5.172961206686411,
           -0.4299031334305364,
           -0.4365124644507946,
           -0.3691109279160819,
           -0.2279495185762736,
           -0.0849651452365417,
           0.7527949127099253,
           -0.8142096421422109,
           -0.385502214133958,
           -0.1698008004585623,
           -0.8237084823918231,
           -1.0102300415195746
          ],
          [
           5.732633497065054,
           -0.3513670714531616,
           -0.3279228505788241,
           -0.3213854796556902,
           -0.6412798833645822,
           -0.3670723339799359,
           0.410839352609035,
           -0.6546437556436627,
           3.070488919136135,
           0.4379259446123641,
           -0.1347604936811837,
           1.1216809016811375,
           -0.343359907616671,
           0.4378289291159511,
           -0.4778850590960301,
           -0.4271969728265885,
           0.2566038229881603,
           -0.7599472547909868,
           0.7749038617108958,
           -0.3610855636685284,
           0.029509266705822,
           0.1507120625314533,
           -0.5228174399099624,
           -0.5733462387920975,
           -1.0973324009025405,
           0.7180927773233845,
           0.7356440387134673
          ],
          [
           0.4371119560697905,
           2.4927379227871524,
           -0.561030309265068,
           0.4243883856972953,
           -0.0587301701112404,
           0.0759985927703114,
           -1.2133342791909656,
           0.009690694581044,
           0.7537475098015232,
           0.0680563282983329,
           -0.0900218393529052,
           -1.3118829004488757,
           -0.3962689392209943,
           -1.219439233218767,
           6.039599404438615,
           6.620743553642896,
           -0.3992466718215194,
           0.0971808776331192,
           -0.4561441155600091,
           1.417960915826019,
           0.5585067512886995,
           0.0225838946304196,
           -0.6882930852202419,
           -0.2554164979609014,
           -0.5794912344566011,
           -0.5561494326013665,
           -0.4664019287442451
          ],
          [
           -0.5292905674104753,
           -0.2116262246441828,
           -0.6455974076106428,
           -0.251842164730488,
           -0.3884440328103171,
           -0.6301042003349154,
           0.1801729359093746,
           -0.6047077447441639,
           0.0224506728070953,
           0.5150479340171167,
           -0.1157935211648592,
           0.487091503022488,
           0.3417712100198875,
           0.520161919448334,
           -0.3841058373115004,
           -0.0713208725336322,
           -0.2444103495934889,
           1.3610172043718154,
           -0.5488713731833967,
           1.145374977644016,
           -0.0896877195775851,
           1.79547582865216,
           -0.653822307141295,
           -0.8142630038837453,
           -0.6031166676832502,
           -0.1155116709680445,
           -0.3991290070729047
          ],
          [
           -0.3196305872310852,
           -0.1785848213299092,
           -0.1405421142381372,
           0.0080403004587234,
           0.1005203924681792,
           -0.0759114392583448,
           0.1892545557876793,
           -0.2290094539054152,
           1.9553321412355769,
           -0.4138094012128467,
           0.076185494483328,
           -1.0736303227017998,
           -0.2157152803294597,
           -0.7515411529148549,
           4.638046049825243,
           3.4178886796162424,
           -0.078356870444924,
           -0.0333738361030693,
           -0.2664773155002241,
           -0.2199993703015881,
           -0.0031194051144576,
           -0.2415343852977007,
           -0.7433832999647333,
           -0.895978627509807,
           -0.4913684154249783,
           -0.4267069486295157,
           -0.5795029173625752
          ],
          [
           -0.5087413899263546,
           1.6541659149430723,
           -0.6832515660676804,
           -0.216053845459291,
           -0.1405029924832375,
           4.307569388799322,
           0.0442002142558303,
           -0.3958889843059991,
           0.6955082228484324,
           -0.6686065602746172,
           1.29915494476887,
           -0.4347963588424224,
           -0.3943709771272061,
           -0.9548916810850662,
           -0.3797566299471205,
           -0.4313194190323885,
           -0.0717593738682369,
           -0.8109216449129593,
           0.3250696964024022,
           0.9241629580468654,
           -0.0669792867423711,
           -0.1802695072525031,
           -0.0741588145923424,
           -0.8422853197401847,
           -1.086985427367105,
           2.571920347702801,
           0.14588475872805
          ],
          [
           -0.6986529071120834,
           -0.3596980975376406,
           -0.5544228418783087,
           -0.2547690565740686,
           -0.2304641811754396,
           -0.5594164610721637,
           -1.2402822200248984,
           0.2865196947633555,
           1.0142098650044633,
           -0.6632570409880296,
           -0.3017375910123978,
           -1.482729921539646,
           -0.4466666934697811,
           -1.901177002372232,
           0.0583720590626971,
           -0.4066737154567066,
           -0.3793694176814794,
           -0.7875527216973616,
           -0.1155155605861526,
           -0.3627178970069074,
           0.314329541888781,
           -0.4091818020893938,
           -0.7593550256501675,
           -0.8846774700585611,
           0.3633825919322585,
           -0.6320700334878201,
           -0.9681135840441072
          ],
          [
           -0.6624261889035519,
           -0.2909267464801687,
           -0.4573596094557895,
           -0.0780613807840567,
           -0.7584109305236577,
           -0.4762908666229165,
           -0.4602926190418671,
           -0.4018301663256683,
           0.7481097964854423,
           -0.5219348926990348,
           -0.1707546347064814,
           -0.0561750356494074,
           -0.3122148193134369,
           0.7282802479273369,
           -0.597103846837371,
           -0.3935204428504313,
           1.27352244950441,
           3.818113733507808,
           -0.2881903167394989,
           -0.2835949779913658,
           0.1817959807162291,
           1.032968067318263,
           -0.7754369011679152,
           -0.7155984907199714,
           -0.5799180588408824,
           0.4279223548220803,
           -0.9559735280643368
          ],
          [
           -0.4645299767522162,
           -0.2228477244601881,
           -0.2822244089164109,
           -0.3699390593038746,
           -0.3501861327370167,
           0.5673602668816496,
           -0.6052767531724988,
           -0.5146374198636926,
           1.499206966005136,
           -0.6986587074025932,
           -0.2400949303343431,
           -1.445283521043191,
           -0.249537867316677,
           -1.1941545115811754,
           -0.2132323439793949,
           -0.4372880686648866,
           -0.2791496302831537,
           -0.8053264428956941,
           0.4217208776611722,
           -0.3640737842967135,
           -0.0798519468662984,
           -0.3469359555236558,
           -0.1192070362909343,
           -0.8047267627095203,
           -0.7703333283866982,
           0.5200103250345179,
           -0.3359027707281545
          ],
          [
           1.974798076897196,
           2.231337555865009,
           -0.5414695034238713,
           0.3265061927351809,
           0.083520180158718,
           -0.1626444543399741,
           -1.0401296950793362,
           0.3095073062065485,
           -0.3963630906587364,
           -0.6449530902323709,
           -0.2432971464734628,
           -1.4037583245933123,
           -0.3987705471917734,
           -1.5888860821463815,
           -0.3044375603716703,
           -0.3682000223597714,
           -0.5286112888509059,
           -0.7564517974601125,
           -0.1843751890560178,
           -0.25950729163123,
           -0.0443542805960281,
           -0.1763997294322752,
           -0.304580024921593,
           -0.3347694110870803,
           -0.4919781645453802,
           -0.4160042508669873,
           -0.1549618089914458
          ],
          [
           -0.1598244382240225,
           -0.3238412228042356,
           -0.6266666325439297,
           9.488279453989088,
           -0.3968521014900925,
           1.3846291571430451,
           -1.2388049392909497,
           1.3386102778160975,
           -1.0676609907862664,
           -0.4773308676225025,
           0.2163132411096153,
           -1.554234631776237,
           -0.4368587141976356,
           -1.8980971571727625,
           -0.6400114301737582,
           -0.4290283473101004,
           -0.6085441274609603,
           18.18156547803689,
           0.914356603145867,
           -0.3640988875813933,
           -0.082240912984997,
           -0.4129416645748649,
           0.1445987523819512,
           0.1123863608919137,
           1.7899141110017565,
           0.1790685428205132,
           -0.1727723794415978
          ],
          [
           -0.6404701485763816,
           -0.2207591985304226,
           -0.6790118203196909,
           -0.3011707780444179,
           -0.4064873365026036,
           -0.3338309487662061,
           -1.1886388258127565,
           -0.1076539173770651,
           0.8987734138627692,
           -0.6532515135024235,
           0.0444712384901232,
           -1.501650881591676,
           -0.3967643800780822,
           -1.8516726241660288,
           -0.0057412822345076,
           0.046361620593089,
           -0.188804896647364,
           2.5226453706406,
           0.865386240325799,
           -0.0827843668618094,
           29.585661147922472,
           -0.2676136074201659,
           -0.7094387933068389,
           -0.7416224658885582,
           -0.7643343351175133,
           0.8308558413312008,
           -0.8743181196908477
          ],
          [
           -0.7552417199798618,
           -0.365871364788605,
           -0.7123767418332372,
           1.4261239576951317,
           0.2130159177703728,
           1.585250433416321,
           -0.6354630103875828,
           -0.6178435227117027,
           -0.4644769179048418,
           -0.4976916418600957,
           -0.1587463241847824,
           1.4219369943850653,
           -0.3187596114534433,
           -0.809623726676634,
           -0.6082923401450133,
           -0.4342147701895196,
           -0.5717987557351294,
           -0.8123667633147695,
           0.097072125291759,
           0.0934045862491034,
           -0.1260264100384678,
           -0.397964924949362,
           -0.1644082438677391,
           -1.023673166791416,
           -1.0226053010083624,
           0.4896734232982215,
           -0.2482159969634418
          ],
          [
           0.3912018308457995,
           -0.3376589565108334,
           -0.6401455203601246,
           -0.2114583517235755,
           1.010963011926861,
           0.0019026156094808,
           0.1579976357040308,
           0.7972608022264014,
           0.6216200104482807,
           -0.0643479786979518,
           -0.3043855774351314,
           0.9349709269162512,
           -0.3723745081450487,
           0.5040936634076567,
           -0.6060645328579181,
           -0.4053613539847164,
           -0.0606269813576814,
           -0.7584280277531863,
           0.4528417686484053,
           -0.3585946050189704,
           0.0189452647664464,
           -0.2524194490603949,
           -0.629528149681075,
           -0.717391873388557,
           -1.0220190037772068,
           0.0671840793610459,
           -0.7941061150007284
          ],
          [
           0.4819893841004792,
           -0.2244285424291266,
           -0.4982786156668838,
           0.2242382210292586,
           -0.1518245915529917,
           -0.2880410512913678,
           -0.11334373142175,
           2.0070809940038656,
           -1.1174607917449817,
           0.1624775664985486,
           -0.538917119085852,
           -0.2952128361468752,
           -0.3737328264800015,
           -0.6212879244788674,
           -0.1617005312224965,
           0.2495070205384311,
           -0.6500363061456069,
           -0.76913672565378,
           -0.2542487600737642,
           3.893631215634151,
           -0.1288200345826248,
           -0.4118883379969612,
           -0.8163116681088571,
           -0.6331028879650329,
           -0.1150640909578685,
           -0.8732123069185299,
           -1.156039588605695
          ],
          [
           -0.7363463546676242,
           0.1163992733192085,
           -0.6159568949522416,
           24.11325499523676,
           -0.3811107243219535,
           1.4076900914923838,
           -0.7365967718412004,
           -0.5125066161857521,
           1.1503520995979453,
           -0.3653495730383363,
           0.6648082438251722,
           3.020550325575984,
           -0.2902634741268137,
           -0.0030195744360664,
           -0.4250853519799775,
           -0.1970221166883618,
           -0.5419899382259009,
           -0.7187675560590614,
           0.1713859480711999,
           -0.0751016770399473,
           -0.1248262092621242,
           -0.3899049264834399,
           -0.3208332446229391,
           -0.8239358837374818,
           -0.9991721732735324,
           3.886245489841407,
           2.3557100229013708
          ],
          [
           -0.7348272421296502,
           -0.3659002118318338,
           -0.545310962884251,
           -0.3835522976916191,
           -0.6651423306346794,
           0.4294151576691475,
           -0.7009986941156112,
           -0.4397334035144444,
           -0.2231144520575942,
           -0.5286269783218129,
           -0.0648351777971366,
           0.6400687446654104,
           -0.3894828729089488,
           0.430238898624375,
           -0.5984519212771573,
           -0.4237863158937324,
           0.3753587613685276,
           -0.8579559258881161,
           0.0881567462277129,
           -0.3043101465257487,
           -0.1280034406373516,
           -0.3486094940218169,
           -0.5286859781982121,
           -0.5251013983679879,
           -0.4044979272791041,
           1.171618545726434,
           -0.3671937005783489
          ],
          [
           -0.7166577581779224,
           -0.0570118423464319,
           -0.7267236895070434,
           -0.3021828808314505,
           1.0623911777711657,
           1.4669801520700014,
           0.0070312459280023,
           3.7392238379409455,
           0.2796158199191152,
           -0.3955143416249773,
           0.4453948572158725,
           2.5608751110318937,
           -0.3836453271969043,
           0.4936429527308054,
           -0.4955471572315286,
           -0.4207834548985005,
           -0.0184708147948672,
           -0.8317955773835515,
           0.4461218473998637,
           -0.3634908302413706,
           0.0521475275597427,
           -0.3913572560633758,
           0.0127524628204472,
           -0.9675829888520334,
           -0.3494797951074554,
           -0.0160395388221917,
           0.06069816634346
          ],
          [
           0.7071697554313864,
           -0.3406475101893376,
           -0.3437694600337886,
           0.2459665177995165,
           -0.364502413518753,
           -0.503180535753863,
           -0.9995088628583212,
           0.4443245083237694,
           -0.4929729961206691,
           1.174123528737672,
           -0.5481542810256205,
           -1.0675739287103532,
           -0.2946400218467208,
           1.0599576594087736,
           7.003061312565604,
           6.804748865894062,
           -0.5048348718518388,
           1.609207026303222,
           -0.3592164818448116,
           0.1827245679725782,
           -0.1208149708944139,
           0.0714562493845198,
           -0.7958543964742185,
           0.1364973945473427,
           -0.2494809393615434,
           -0.8639842030699498,
           -1.1291304199371583
          ],
          [
           -0.2156873697312912,
           13.070544816184867,
           -0.4369166034154096,
           -0.1162933356131341,
           2.250296105061365,
           1.2924075511606132,
           -0.7554737868435202,
           1.86910518878758,
           1.2629867780613444,
           -0.3610225380475231,
           -0.1032925620063725,
           -1.391405607436688,
           -0.4066497144282859,
           -1.791083110241885,
           0.2289742889444397,
           -0.2803274122733717,
           -0.3850486331500622,
           -0.3567592206859347,
           -0.3488371806961149,
           -0.3135476904122866,
           0.0422849855370737,
           -0.312664767621125,
           0.211217982908572,
           -0.8044307122372457,
           -0.2389651122235352,
           2.5059217772126683,
           1.5247992275301068
          ],
          [
           -0.6886926175158108,
           -0.3356685105280458,
           0.1530498699475881,
           -0.3313970910084989,
           0.99231602157089,
           -0.6004923671684903,
           -0.5601202303020034,
           -0.6716901850671864,
           2.032961745200037,
           2.1214152185175377,
           -0.0861422313382025,
           0.6671139973632053,
           -0.3438567298144385,
           0.1867734828560809,
           0.4017218230583468,
           -0.1328980591148709,
           0.5397028249158523,
           -0.7013520266013484,
           -0.2437010355823825,
           -0.3617022986872059,
           0.1063049632408269,
           0.8437210123668166,
           -0.3195695812688999,
           -0.176160370566043,
           1.2621152723818696,
           0.2887509087272724,
           -0.0377625849149767
          ],
          [
           -0.62969417786366,
           -0.3663386868889116,
           -0.5550811533359361,
           -0.2540487311670815,
           -0.3293203464794382,
           2.0431051453348585,
           1.280989737031667,
           -0.4225616326981007,
           2.3153940983559465,
           -0.646921002036412,
           0.2278904840741251,
           1.4359923362054554,
           0.4759058823115033,
           -0.7414634072621591,
           -0.5294550885268747,
           -0.4215174875862238,
           -0.5819563575309281,
           -0.5749226936019515,
           1.2860005718620426,
           -0.3616014206728443,
           0.0406699903824183,
           -0.4031867647557507,
           3.4911923757488013,
           -0.4657148122853954,
           -0.7772234934472397,
           1.8829240361604525,
           -0.8455273712207759
          ],
          [
           0.753700995633958,
           -0.2921556305217158,
           -0.3749229892403883,
           0.2958786858735375,
           0.3883324628059456,
           -0.5767232275416289,
           -0.3048987750265686,
           -0.2919057648225047,
           -0.5229382965946265,
           0.5222616348168695,
           -0.5377778691132806,
           -0.7561153247675042,
           -0.3053914568030419,
           -0.9791767026579112,
           1.7026542720349735,
           2.3811082878007386,
           -0.583835301952126,
           0.2911725837769769,
           -0.4542650894792461,
           0.261555374630404,
           -0.1186791437008255,
           -0.105017127594613,
           -0.778181467823056,
           -0.5558223281447752,
           0.3935182696136602,
           -0.8628369857934435,
           -1.0204885176978098
          ],
          [
           -0.2007806102453596,
           1.2709964091434964,
           -0.0402721665769126,
           -0.0737394283421338,
           0.9368164345226548,
           1.870590766013272,
           -0.0540725955981796,
           1.088478994304452,
           2.099162166714624,
           -0.6315363180382538,
           3.267286248735531,
           -1.0611932668053188,
           -0.4031567642964379,
           -1.2400561245540418,
           -0.411153500960241,
           -0.4171651927610357,
           -0.459019708258271,
           -0.7242268922436778,
           -0.1114895621976276,
           -0.2589337900472789,
           0.0282383741557311,
           0.8003358102961042,
           0.2239464079758914,
           -0.7828304143178367,
           -0.4454918296815089,
           0.2656862452876587,
           -0.1674111657605101
          ],
          [
           0.3818551729151125,
           -0.3083388217730756,
           -0.3538939445993044,
           -0.2886790589612231,
           1.4036601970033238,
           -0.3475081631883665,
           -0.5188221891900792,
           2.494959831416538,
           -0.5801012928237383,
           1.0821888537958757,
           -0.0568296374493373,
           2.885368412631244,
           3.504356635758755,
           -0.3872273793196895,
           -0.609817260370119,
           -0.441184373487095,
           0.0318792447325689,
           -0.4429352129032844,
           -0.2619579558048442,
           -0.3627344775714799,
           -0.1268884858234681,
           20.36264517390969,
           -0.7966407438882332,
           -0.2011424758033563,
           -0.6831907983255677,
           -0.6243053311895151,
           -0.5065079310893047
          ],
          [
           2.8432440332736246,
           -0.343076431229203,
           -0.3201849414408406,
           1.1459082563340046,
           0.3642008306628612,
           -0.5104839026783177,
           -0.4380617379772262,
           0.5705432908935367,
           0.0183846856276188,
           -0.5915794099929509,
           -0.0789064544853839,
           -0.3295706938251232,
           -0.3481591455845398,
           -1.4305951118944995,
           0.5258084409099132,
           0.2325686601838448,
           -0.1365052556904143,
           3.882094189246073,
           -0.2864244235101353,
           -0.3345802140517578,
           -0.1143859179268066,
           -0.1190669949615092,
           -0.700960315936276,
           -0.4922910354503405,
           0.5022037051363748,
           -0.5358968505346525,
           -1.0353865057154477
          ],
          [
           0.7216724160155908,
           -0.2728684974189366,
           -0.4300986020541347,
           0.2241743947273737,
           -0.5860573983914806,
           -0.306321600017427,
           -0.6331213010261452,
           -0.2786697137407099,
           0.708047863981776,
           -0.0881199976440559,
           -0.4727174585175116,
           -0.6700621819056012,
           -0.2582739262214428,
           -1.0075028194924818,
           0.999322023261113,
           5.578491281791636,
           -0.0628591108204578,
           0.6460911929737013,
           -0.2294046157818461,
           0.1508726990904993,
           -0.0456831300047428,
           -0.3617748702779905,
           -0.8130285911624068,
           -0.6722612562016421,
           0.3147339928798852,
           -0.7469400599571222,
           -0.9887336366636752
          ],
          [
           -0.6145105357969154,
           2.501790124952352,
           -0.4674613123598838,
           -0.3576935273850931,
           0.017265073994216,
           0.3653889742980953,
           -0.2842475604893186,
           2.594957194608356,
           2.031919622435549,
           1.0757664669293745,
           6.518674879914623,
           0.331815012837123,
           -0.3203647293231536,
           -1.131830902544721,
           -0.1411017439655291,
           -0.4342444280758922,
           1.97258866600164,
           -0.8204199017590453,
           0.1849925126650822,
           0.0269952722472297,
           -0.0654523964086729,
           1.7462164961160371,
           0.009790656218244,
           -0.91641749665337,
           -0.2056446679824959,
           0.450488958078235,
           1.7086785467651038
          ],
          [
           -0.5882141739326767,
           -0.3575345692954803,
           0.2064390862760782,
           -0.0851552183364112,
           0.1090393019780082,
           -0.3939620031108825,
           0.3794127646391109,
           1.6779846330156023,
           0.2457895400226294,
           -0.7045683702599091,
           -0.0351530974306807,
           0.6356354351813469,
           -0.3461916560098777,
           0.7777384861305516,
           -0.5835204419624377,
           -0.3915593151140391,
           0.3012040300386979,
           -0.3771267441439266,
           -0.26578746029357,
           -0.3628455828499703,
           -0.084681078660417,
           1.6071367639519705,
           -0.3707494769662678,
           -0.4354778111652106,
           1.5982699624594383,
           0.5956007511926112,
           -0.388277704381857
          ],
          [
           5.8915191985737385,
           -0.3028174976990823,
           0.0646036045641086,
           -0.3287437404587108,
           -0.8856621413267285,
           1.0205895130813654,
           -1.127412121334444,
           2.447054351080724,
           6.037549101470557,
           -0.3692616868656467,
           3.972913049314442,
           -0.1833040530540203,
           -0.230313749078503,
           -0.4192869913960642,
           -0.2466764297615517,
           -0.3894684341247664,
           -0.2844897881118213,
           -0.8145282651978191,
           -0.052964151860488,
           -0.3492915136668796,
           -0.115688517816593,
           1.3076784987016268,
           1.1165333352567863,
           -0.8198424166304561,
           -1.0748185872261622,
           0.2243136729695552,
           -0.4233833439666715
          ],
          [
           -0.0232390094402759,
           -0.0897070811419599,
           -0.2822699722392538,
           1.269320970050094,
           2.3023141024655973,
           1.793772624816962,
           0.0084748856155346,
           4.040920570458751,
           0.7754783320380534,
           1.3630608442611896,
           0.148912749489105,
           -0.2413334684241679,
           -0.3885707276135111,
           -1.5685383408285385,
           0.1555405752836656,
           -0.3090140028673286,
           1.7326771309581712,
           -0.6909644661233791,
           -0.3846109791807558,
           -0.1245354526278516,
           -0.1134414550378433,
           -0.3323840610635291,
           -0.0011202966159051,
           -1.051017982528612,
           -0.3963507409549648,
           1.5053048781892655,
           0.6680618162528335
          ],
          [
           -0.3677258398496004,
           -0.3692637770723125,
           -0.5125721442725293,
           -0.2653459866007153,
           0.9432927058786398,
           -0.4139909336158262,
           -0.1942489853996136,
           -0.4330903096949831,
           -0.9880838131307964,
           0.109080176478357,
           -0.3508485019921666,
           2.416633763310319,
           -0.4208296369514065,
           1.9554812874083047,
           -0.4990211278278871,
           1.5892241854716904,
           -0.6349199863660455,
           -0.7873798015467176,
           0.1176070137551819,
           -0.1466509660592914,
           -0.1286739729030438,
           -0.3005506505697876,
           -0.6123111189469869,
           -0.9115098907475896,
           -1.045438060378489,
           0.5520176870490443,
           -0.9679073835179116
          ],
          [
           -0.6467561314921358,
           -0.3658309789280847,
           0.2641661666115766,
           -0.3499614268138892,
           -0.7141537705237097,
           -0.6412805648708233,
           -0.087056910282614,
           -0.6743474225949709,
           1.0204455176116434,
           0.4036267830036791,
           -0.2869273413689691,
           0.753904377140754,
           -0.2411185958744358,
           0.27460482354457,
           -0.5266105690308055,
           -0.3691305385447137,
           0.5503125035648717,
           -0.4241239708010881,
           -0.2357298479849037,
           -0.3347519081222841,
           -0.1167951559512121,
           -0.3104368285786895,
           -0.8274551594778901,
           -0.72732664404469,
           -0.5083428928613976,
           -0.6401369296053023,
           -1.0863695858173297
          ],
          [
           -0.7147794466161911,
           -0.0556214148628035,
           -0.5890729633258389,
           -0.3988250199283719,
           -0.6825384030514747,
           0.8716229592374138,
           -0.4336649994759886,
           4.127355994947441,
           1.1849984105222244,
           -0.725901245509137,
           -0.3045087395943283,
           5.343513903785508,
           -0.36162629631698,
           -1.053069917443683,
           -0.5556709775073759,
           -0.3925306108927437,
           0.5115327859995481,
           -0.4078200708832292,
           1.1500557143811043,
           0.530848102771216,
           -0.1015145572840143,
           2.279311451593396,
           -0.217843151409966,
           -0.924462098909597,
           -0.7531008801685705,
           12.177654826426847,
           -0.3045860658121857
          ],
          [
           -0.5005471621968893,
           0.4553001065798595,
           -0.475636000937534,
           0.0542231888940387,
           0.052451099634604,
           0.4395734771186163,
           -0.471021187540396,
           0.7566752592312767,
           -0.3164271494286069,
           -0.4193308164100281,
           0.3739608048816633,
           -0.8703143408823345,
           -0.3863149982837031,
           -1.6314386999023465,
           -0.5330512026105514,
           -0.4157379069793513,
           -0.4938154985545884,
           -0.7419759105633469,
           -0.3109717003949976,
           9.201147213114254,
           -0.0670143727330178,
           0.8995455981848235,
           -0.0871258976296739,
           -0.5032904491509989,
           -0.3842870891267056,
           0.3094399929772423,
           0.9633409697650464
          ],
          [
           0.0403242511387916,
           6.59302203087767,
           -0.6718615209314751,
           0.4799993307253284,
           -0.0001468328268726,
           0.5895580760490071,
           0.2421324301378932,
           0.1612535067790206,
           -0.1894760959383113,
           -0.6499795637559457,
           -0.1016298728572142,
           -0.516055280578323,
           -0.3803821400647653,
           -1.3910377493325257,
           3.05035313933138,
           2.5100014619763256,
           -0.2076508504659947,
           -0.6449924089307496,
           0.1917719775196235,
           -0.3633953757761682,
           -0.1028543223342635,
           -0.3214080328858639,
           -0.1989646940384853,
           -0.8460599632616841,
           -0.972296308197356,
           2.13855762245708,
           0.4529688923649656
          ],
          [
           0.9438370122095348,
           -0.0479423319552955,
           -0.5890038327670426,
           0.4436365747371671,
           -0.0008593810200739,
           -0.3604107780882364,
           -0.5373774202701525,
           0.2373106639422129,
           -0.5102107316840803,
           -0.2078306807597568,
           -0.3175947190090003,
           -0.7108806778801272,
           -0.3397196144789976,
           -1.1517826088369143,
           2.1600209349706567,
           6.401539149673917,
           -0.5559336836674216,
           -0.5104234774117551,
           -0.0107383783543043,
           -0.2878814413297218,
           -0.0117032577002253,
           -0.0895655812879352,
           -0.7120701504121021,
           -0.5593749338120686,
           0.3829743002085564,
           -0.6375207145966842,
           -0.4453179249407369
          ],
          [
           -0.0291882432712578,
           2.948417356446653,
           -0.4779180949523403,
           -0.1596040404636272,
           -0.0217607946873123,
           0.5004569995706606,
           -0.6941256820672693,
           1.1840392721904405,
           0.8628799724170537,
           -0.7020225325495608,
           1.5046202168491192,
           -0.3476788029188773,
           -0.3750257613561193,
           -1.2516295753036084,
           -0.5922930419994458,
           -0.441922113410615,
           -0.5010063460011275,
           -0.7506219180955447,
           -0.0248000262226132,
           -0.1022480746714834,
           -0.0256856747134958,
           -0.3544987507668382,
           -0.2408644663634542,
           -0.776078186238654,
           -0.4711106734940875,
           1.978839794749136,
           0.0410060160917728
          ],
          [
           -0.6730150767913999,
           8.537456402774428,
           -0.7232208126698587,
           6.839041141651002,
           0.1407615516792232,
           7.96553817286465,
           -1.2290797515681522,
           0.7702873344915314,
           0.8945195029060898,
           -0.6260415763444406,
           1.6368040042072054,
           -1.5509817738269296,
           -0.4437939653030793,
           -1.8940752869122817,
           -0.5863994313997132,
           -0.4066996661072827,
           -0.4479862075593575,
           -0.8287077175506236,
           -0.5782025534988663,
           -0.3442699269796276,
           -0.1030063616270658,
           -0.4116764322575399,
           0.4650858089327427,
           -1.0319568867367876,
           -1.1884242291127354,
           2.074943025429345,
           1.6927495561164876
          ],
          [
           1.2068455307298918,
           -0.2769128528796151,
           -0.4351781269765916,
           0.2337483400101143,
           -0.4908609597797855,
           -0.450419242578409,
           -1.1770063370235535,
           -0.251420494941636,
           -0.4309581496437787,
           -0.3769940391197778,
           -0.5107129846297591,
           -1.147250772015835,
           -0.3403227999090953,
           -1.0279736008182936,
           2.733910911180001,
           1.2245063278038848,
           -0.480987817844456,
           0.615212594644423,
           -0.4468876366958789,
           2.44447541436647,
           -0.1191997158435314,
           -0.1695804993690459,
           -0.8035679444537166,
           -0.3326116586064646,
           -0.6323424120618983,
           -0.7633116899201429,
           -0.9533186962895672
          ],
          [
           -0.4984593178712995,
           0.2538958201649862,
           -0.6655635699102352,
           0.1002145984236992,
           -0.0271741816551057,
           0.924981800615778,
           -0.3405568215740311,
           -0.5054122933521387,
           5.041006394944393,
           -0.682346378231747,
           1.1268202935125902,
           -0.6433893283677603,
           -0.3874048760799177,
           -1.763491388454878,
           -0.1227509963524523,
           -0.3820205974094317,
           -0.3694095995089646,
           -0.22081927940112,
           0.864552714904097,
           -0.3639507472100728,
           0.5492240117588727,
           -0.1839804419087095,
           -0.2938404162710423,
           -0.633484337612002,
           -0.6588805699329288,
           3.321167671179986,
           0.6980897678800793
          ],
          [
           -0.6876374703835235,
           -0.3295587067721848,
           -0.4821437003587578,
           -0.0591596773829889,
           -0.7695365788402816,
           1.3446598217928478,
           -1.059587383795891,
           1.3233186278920543,
           2.823215396296875,
           -0.6955023428373767,
           21.20810244517118,
           1.203693055610932,
           -0.3438341679166716,
           -1.3052327237752728,
           0.4768462124006363,
           -0.1654698328236465,
           0.1491508059383062,
           -0.125070921701694,
           -0.178596056782272,
           -0.3033294138792136,
           -0.0936807652094046,
           4.726876596977318,
           -0.1420814848013379,
           -1.044140502326544,
           -0.692712265359536,
           2.18923104898764,
           0.0095088857153827
          ],
          [
           1.5892428247716104,
           0.7873295741434089,
           -0.5961203524503921,
           -0.0042690577619429,
           -0.5892816789657166,
           -0.4443331034746968,
           -0.3982190377863702,
           -0.2945128657931612,
           0.3208736310049804,
           2.15652644011765,
           0.0328016239062157,
           0.9675765745681624,
           -0.0657919301145568,
           -1.361977237450391,
           -0.2519248529834876,
           0.5811229697785502,
           0.1049602935359997,
           0.3114783500383104,
           -0.191166562631759,
           0.6928540254509703,
           0.0200713951180914,
           -0.3253439666442525,
           -0.7511366242725667,
           -0.1869946791956253,
           0.039357218972838,
           0.142519879245573,
           -0.7978692746037995
          ],
          [
           0.0020246552306602,
           -0.3556422032596706,
           -0.334813910371554,
           0.0903215216315339,
           -0.1936769014008854,
           -0.5961988726735079,
           -1.0946179516949734,
           -0.1296387976776978,
           -0.5307969272776486,
           0.1665289752878921,
           -0.4479002834393337,
           -0.5238493434340623,
           -0.2348892098562744,
           0.2419684614308417,
           7.75324023467453,
           12.770125009183827,
           -0.4230937258289023,
           0.8675772030699486,
           -0.4577186186272306,
           -0.2226001945612572,
           -0.1237671321370484,
           -0.3597739977108048,
           -0.6567351582624699,
           -0.3013954136164489,
           1.4609263182778347,
           -0.7355714165560364,
           -0.7142549612314516
          ],
          [
           -0.639579634329983,
           -0.0728661773049833,
           -0.6949275603334517,
           0.266445642661455,
           -0.2973388084079194,
           1.537623628502908,
           -0.6512245719608818,
           0.2942407245610692,
           1.817874440201676,
           -0.704520950698366,
           7.893718806268553,
           3.778003382576795,
           -0.3661391363172757,
           -0.1802394809139003,
           -0.080400177501202,
           -0.25155926249189,
           -0.1081515605524893,
           -0.6820837812438787,
           0.1184423254850639,
           -0.2783600133843353,
           -0.0744216750991,
           2.097977404882771,
           0.0114214856799943,
           -0.4705427122947942,
           0.2012925142180357,
           0.3716331598184764,
           -0.3738952176797084
          ]
         ]
        }
       ],
       "layout": {
        "autosize": true,
        "coloraxis": {
         "cmax": 30,
         "cmin": -2,
         "colorbar": {
          "title": {
           "text": "Expression Level"
          }
         },
         "colorscale": [
          [
           0,
           "rgb(247,251,255)"
          ],
          [
           0.125,
           "rgb(222,235,247)"
          ],
          [
           0.25,
           "rgb(198,219,239)"
          ],
          [
           0.375,
           "rgb(158,202,225)"
          ],
          [
           0.5,
           "rgb(107,174,214)"
          ],
          [
           0.625,
           "rgb(66,146,198)"
          ],
          [
           0.75,
           "rgb(33,113,181)"
          ],
          [
           0.875,
           "rgb(8,81,156)"
          ],
          [
           1,
           "rgb(8,48,107)"
          ]
         ]
        },
        "template": {
         "data": {
          "bar": [
           {
            "error_x": {
             "color": "#2a3f5f"
            },
            "error_y": {
             "color": "#2a3f5f"
            },
            "marker": {
             "line": {
              "color": "#E5ECF6",
              "width": 0.5
             },
             "pattern": {
              "fillmode": "overlay",
              "size": 10,
              "solidity": 0.2
             }
            },
            "type": "bar"
           }
          ],
          "barpolar": [
           {
            "marker": {
             "line": {
              "color": "#E5ECF6",
              "width": 0.5
             },
             "pattern": {
              "fillmode": "overlay",
              "size": 10,
              "solidity": 0.2
             }
            },
            "type": "barpolar"
           }
          ],
          "carpet": [
           {
            "aaxis": {
             "endlinecolor": "#2a3f5f",
             "gridcolor": "white",
             "linecolor": "white",
             "minorgridcolor": "white",
             "startlinecolor": "#2a3f5f"
            },
            "baxis": {
             "endlinecolor": "#2a3f5f",
             "gridcolor": "white",
             "linecolor": "white",
             "minorgridcolor": "white",
             "startlinecolor": "#2a3f5f"
            },
            "type": "carpet"
           }
          ],
          "choropleth": [
           {
            "colorbar": {
             "outlinewidth": 0,
             "ticks": ""
            },
            "type": "choropleth"
           }
          ],
          "contour": [
           {
            "colorbar": {
             "outlinewidth": 0,
             "ticks": ""
            },
            "colorscale": [
             [
              0,
              "#0d0887"
             ],
             [
              0.1111111111111111,
              "#46039f"
             ],
             [
              0.2222222222222222,
              "#7201a8"
             ],
             [
              0.3333333333333333,
              "#9c179e"
             ],
             [
              0.4444444444444444,
              "#bd3786"
             ],
             [
              0.5555555555555556,
              "#d8576b"
             ],
             [
              0.6666666666666666,
              "#ed7953"
             ],
             [
              0.7777777777777778,
              "#fb9f3a"
             ],
             [
              0.8888888888888888,
              "#fdca26"
             ],
             [
              1,
              "#f0f921"
             ]
            ],
            "type": "contour"
           }
          ],
          "contourcarpet": [
           {
            "colorbar": {
             "outlinewidth": 0,
             "ticks": ""
            },
            "type": "contourcarpet"
           }
          ],
          "heatmap": [
           {
            "colorbar": {
             "outlinewidth": 0,
             "ticks": ""
            },
            "colorscale": [
             [
              0,
              "#0d0887"
             ],
             [
              0.1111111111111111,
              "#46039f"
             ],
             [
              0.2222222222222222,
              "#7201a8"
             ],
             [
              0.3333333333333333,
              "#9c179e"
             ],
             [
              0.4444444444444444,
              "#bd3786"
             ],
             [
              0.5555555555555556,
              "#d8576b"
             ],
             [
              0.6666666666666666,
              "#ed7953"
             ],
             [
              0.7777777777777778,
              "#fb9f3a"
             ],
             [
              0.8888888888888888,
              "#fdca26"
             ],
             [
              1,
              "#f0f921"
             ]
            ],
            "type": "heatmap"
           }
          ],
          "heatmapgl": [
           {
            "colorbar": {
             "outlinewidth": 0,
             "ticks": ""
            },
            "colorscale": [
             [
              0,
              "#0d0887"
             ],
             [
              0.1111111111111111,
              "#46039f"
             ],
             [
              0.2222222222222222,
              "#7201a8"
             ],
             [
              0.3333333333333333,
              "#9c179e"
             ],
             [
              0.4444444444444444,
              "#bd3786"
             ],
             [
              0.5555555555555556,
              "#d8576b"
             ],
             [
              0.6666666666666666,
              "#ed7953"
             ],
             [
              0.7777777777777778,
              "#fb9f3a"
             ],
             [
              0.8888888888888888,
              "#fdca26"
             ],
             [
              1,
              "#f0f921"
             ]
            ],
            "type": "heatmapgl"
           }
          ],
          "histogram": [
           {
            "marker": {
             "pattern": {
              "fillmode": "overlay",
              "size": 10,
              "solidity": 0.2
             }
            },
            "type": "histogram"
           }
          ],
          "histogram2d": [
           {
            "colorbar": {
             "outlinewidth": 0,
             "ticks": ""
            },
            "colorscale": [
             [
              0,
              "#0d0887"
             ],
             [
              0.1111111111111111,
              "#46039f"
             ],
             [
              0.2222222222222222,
              "#7201a8"
             ],
             [
              0.3333333333333333,
              "#9c179e"
             ],
             [
              0.4444444444444444,
              "#bd3786"
             ],
             [
              0.5555555555555556,
              "#d8576b"
             ],
             [
              0.6666666666666666,
              "#ed7953"
             ],
             [
              0.7777777777777778,
              "#fb9f3a"
             ],
             [
              0.8888888888888888,
              "#fdca26"
             ],
             [
              1,
              "#f0f921"
             ]
            ],
            "type": "histogram2d"
           }
          ],
          "histogram2dcontour": [
           {
            "colorbar": {
             "outlinewidth": 0,
             "ticks": ""
            },
            "colorscale": [
             [
              0,
              "#0d0887"
             ],
             [
              0.1111111111111111,
              "#46039f"
             ],
             [
              0.2222222222222222,
              "#7201a8"
             ],
             [
              0.3333333333333333,
              "#9c179e"
             ],
             [
              0.4444444444444444,
              "#bd3786"
             ],
             [
              0.5555555555555556,
              "#d8576b"
             ],
             [
              0.6666666666666666,
              "#ed7953"
             ],
             [
              0.7777777777777778,
              "#fb9f3a"
             ],
             [
              0.8888888888888888,
              "#fdca26"
             ],
             [
              1,
              "#f0f921"
             ]
            ],
            "type": "histogram2dcontour"
           }
          ],
          "mesh3d": [
           {
            "colorbar": {
             "outlinewidth": 0,
             "ticks": ""
            },
            "type": "mesh3d"
           }
          ],
          "parcoords": [
           {
            "line": {
             "colorbar": {
              "outlinewidth": 0,
              "ticks": ""
             }
            },
            "type": "parcoords"
           }
          ],
          "pie": [
           {
            "automargin": true,
            "type": "pie"
           }
          ],
          "scatter": [
           {
            "fillpattern": {
             "fillmode": "overlay",
             "size": 10,
             "solidity": 0.2
            },
            "type": "scatter"
           }
          ],
          "scatter3d": [
           {
            "line": {
             "colorbar": {
              "outlinewidth": 0,
              "ticks": ""
             }
            },
            "marker": {
             "colorbar": {
              "outlinewidth": 0,
              "ticks": ""
             }
            },
            "type": "scatter3d"
           }
          ],
          "scattercarpet": [
           {
            "marker": {
             "colorbar": {
              "outlinewidth": 0,
              "ticks": ""
             }
            },
            "type": "scattercarpet"
           }
          ],
          "scattergeo": [
           {
            "marker": {
             "colorbar": {
              "outlinewidth": 0,
              "ticks": ""
             }
            },
            "type": "scattergeo"
           }
          ],
          "scattergl": [
           {
            "marker": {
             "colorbar": {
              "outlinewidth": 0,
              "ticks": ""
             }
            },
            "type": "scattergl"
           }
          ],
          "scattermapbox": [
           {
            "marker": {
             "colorbar": {
              "outlinewidth": 0,
              "ticks": ""
             }
            },
            "type": "scattermapbox"
           }
          ],
          "scatterpolar": [
           {
            "marker": {
             "colorbar": {
              "outlinewidth": 0,
              "ticks": ""
             }
            },
            "type": "scatterpolar"
           }
          ],
          "scatterpolargl": [
           {
            "marker": {
             "colorbar": {
              "outlinewidth": 0,
              "ticks": ""
             }
            },
            "type": "scatterpolargl"
           }
          ],
          "scatterternary": [
           {
            "marker": {
             "colorbar": {
              "outlinewidth": 0,
              "ticks": ""
             }
            },
            "type": "scatterternary"
           }
          ],
          "surface": [
           {
            "colorbar": {
             "outlinewidth": 0,
             "ticks": ""
            },
            "colorscale": [
             [
              0,
              "#0d0887"
             ],
             [
              0.1111111111111111,
              "#46039f"
             ],
             [
              0.2222222222222222,
              "#7201a8"
             ],
             [
              0.3333333333333333,
              "#9c179e"
             ],
             [
              0.4444444444444444,
              "#bd3786"
             ],
             [
              0.5555555555555556,
              "#d8576b"
             ],
             [
              0.6666666666666666,
              "#ed7953"
             ],
             [
              0.7777777777777778,
              "#fb9f3a"
             ],
             [
              0.8888888888888888,
              "#fdca26"
             ],
             [
              1,
              "#f0f921"
             ]
            ],
            "type": "surface"
           }
          ],
          "table": [
           {
            "cells": {
             "fill": {
              "color": "#EBF0F8"
             },
             "line": {
              "color": "white"
             }
            },
            "header": {
             "fill": {
              "color": "#C8D4E3"
             },
             "line": {
              "color": "white"
             }
            },
            "type": "table"
           }
          ]
         },
         "layout": {
          "annotationdefaults": {
           "arrowcolor": "#2a3f5f",
           "arrowhead": 0,
           "arrowwidth": 1
          },
          "autotypenumbers": "strict",
          "coloraxis": {
           "colorbar": {
            "outlinewidth": 0,
            "ticks": ""
           }
          },
          "colorscale": {
           "diverging": [
            [
             0,
             "#8e0152"
            ],
            [
             0.1,
             "#c51b7d"
            ],
            [
             0.2,
             "#de77ae"
            ],
            [
             0.3,
             "#f1b6da"
            ],
            [
             0.4,
             "#fde0ef"
            ],
            [
             0.5,
             "#f7f7f7"
            ],
            [
             0.6,
             "#e6f5d0"
            ],
            [
             0.7,
             "#b8e186"
            ],
            [
             0.8,
             "#7fbc41"
            ],
            [
             0.9,
             "#4d9221"
            ],
            [
             1,
             "#276419"
            ]
           ],
           "sequential": [
            [
             0,
             "#0d0887"
            ],
            [
             0.1111111111111111,
             "#46039f"
            ],
            [
             0.2222222222222222,
             "#7201a8"
            ],
            [
             0.3333333333333333,
             "#9c179e"
            ],
            [
             0.4444444444444444,
             "#bd3786"
            ],
            [
             0.5555555555555556,
             "#d8576b"
            ],
            [
             0.6666666666666666,
             "#ed7953"
            ],
            [
             0.7777777777777778,
             "#fb9f3a"
            ],
            [
             0.8888888888888888,
             "#fdca26"
            ],
            [
             1,
             "#f0f921"
            ]
           ],
           "sequentialminus": [
            [
             0,
             "#0d0887"
            ],
            [
             0.1111111111111111,
             "#46039f"
            ],
            [
             0.2222222222222222,
             "#7201a8"
            ],
            [
             0.3333333333333333,
             "#9c179e"
            ],
            [
             0.4444444444444444,
             "#bd3786"
            ],
            [
             0.5555555555555556,
             "#d8576b"
            ],
            [
             0.6666666666666666,
             "#ed7953"
            ],
            [
             0.7777777777777778,
             "#fb9f3a"
            ],
            [
             0.8888888888888888,
             "#fdca26"
            ],
            [
             1,
             "#f0f921"
            ]
           ]
          },
          "colorway": [
           "#636efa",
           "#EF553B",
           "#00cc96",
           "#ab63fa",
           "#FFA15A",
           "#19d3f3",
           "#FF6692",
           "#B6E880",
           "#FF97FF",
           "#FECB52"
          ],
          "font": {
           "color": "#2a3f5f"
          },
          "geo": {
           "bgcolor": "white",
           "lakecolor": "white",
           "landcolor": "#E5ECF6",
           "showlakes": true,
           "showland": true,
           "subunitcolor": "white"
          },
          "hoverlabel": {
           "align": "left"
          },
          "hovermode": "closest",
          "mapbox": {
           "style": "light"
          },
          "paper_bgcolor": "white",
          "plot_bgcolor": "#E5ECF6",
          "polar": {
           "angularaxis": {
            "gridcolor": "white",
            "linecolor": "white",
            "ticks": ""
           },
           "bgcolor": "#E5ECF6",
           "radialaxis": {
            "gridcolor": "white",
            "linecolor": "white",
            "ticks": ""
           }
          },
          "scene": {
           "xaxis": {
            "backgroundcolor": "#E5ECF6",
            "gridcolor": "white",
            "gridwidth": 2,
            "linecolor": "white",
            "showbackground": true,
            "ticks": "",
            "zerolinecolor": "white"
           },
           "yaxis": {
            "backgroundcolor": "#E5ECF6",
            "gridcolor": "white",
            "gridwidth": 2,
            "linecolor": "white",
            "showbackground": true,
            "ticks": "",
            "zerolinecolor": "white"
           },
           "zaxis": {
            "backgroundcolor": "#E5ECF6",
            "gridcolor": "white",
            "gridwidth": 2,
            "linecolor": "white",
            "showbackground": true,
            "ticks": "",
            "zerolinecolor": "white"
           }
          },
          "shapedefaults": {
           "line": {
            "color": "#2a3f5f"
           }
          },
          "ternary": {
           "aaxis": {
            "gridcolor": "white",
            "linecolor": "white",
            "ticks": ""
           },
           "baxis": {
            "gridcolor": "white",
            "linecolor": "white",
            "ticks": ""
           },
           "bgcolor": "#E5ECF6",
           "caxis": {
            "gridcolor": "white",
            "linecolor": "white",
            "ticks": ""
           }
          },
          "title": {
           "x": 0.05
          },
          "xaxis": {
           "automargin": true,
           "gridcolor": "white",
           "linecolor": "white",
           "ticks": "",
           "title": {
            "standoff": 15
           },
           "zerolinecolor": "white",
           "zerolinewidth": 2
          },
          "yaxis": {
           "automargin": true,
           "gridcolor": "white",
           "linecolor": "white",
           "ticks": "",
           "title": {
            "standoff": 15
           },
           "zerolinecolor": "white",
           "zerolinewidth": 2
          }
         }
        },
        "title": {
         "text": "Heatmap of Gene Expression Levels"
        },
        "xaxis": {
         "anchor": "y",
         "autorange": true,
         "constrain": "domain",
         "domain": [
          0.4323181049069374,
          0.5676818950930627
         ],
         "range": [
          -0.5,
          26.5
         ],
         "scaleanchor": "y",
         "title": {
          "text": "Gene"
         },
         "type": "category"
        },
        "yaxis": {
         "anchor": "x",
         "autorange": true,
         "constrain": "domain",
         "domain": [
          0,
          1
         ],
         "range": [
          53.5,
          -0.5
         ],
         "title": {
          "text": "Case"
         },
         "type": "category"
        }
       }
      },
      "image/png": "[encoded data removed]",
      "text/html": [
       "<div>                            <div id=\"fa95f0b0-71b4-4edc-8c47-ba357946ddea\" class=\"plotly-graph-div\" style=\"height:525px; width:100%;\"></div>            <script type=\"text/javascript\">                require([\"plotly\"], function(Plotly) {                    window.PLOTLYENV=window.PLOTLYENV || {};                                    if (document.getElementById(\"fa95f0b0-71b4-4edc-8c47-ba357946ddea\")) {                    Plotly.newPlot(                        \"fa95f0b0-71b4-4edc-8c47-ba357946ddea\",                        [{\"coloraxis\":\"coloraxis\",\"name\":\"0\",\"x\":[\"ALDH1A1\",\"CCL18\",\"CCND1\",\"CCND2\",\"CD44\",\"CDCA7\",\"CDH1\",\"CDK6\",\"CDKN2D\",\"DUSP4\",\"E2F2\",\"EPCAM\",\"ERBB2\",\"ERBB3\",\"FOS\",\"FOSB\",\"HES6\",\"LAMP5\",\"LAPTM4B\",\"LTF\",\"MMP9\",\"S100P\",\"TOP2A\",\"TP53INP1\",\"TPM1\",\"UBE2C\",\"UHRF1\"],\"y\":[\"ER-B1PU\",\"MBCProject_1037\",\"MBCProject_1542\",\"MBCProject_1819\",\"MBCProject_3159\",\"MBCProject_4424\",\"MBCproject_0093\",\"MBCproject_0280\",\"TCGA-A1-A0SK\",\"TCGA-A2-A0CO\",\"TCGA-A2-A0CY\",\"TCGA-A2-A0EP\",\"TCGA-A2-A3XV\",\"TCGA-A2-A3XW\",\"TCGA-A2-A3Y0\",\"TCGA-A2-A4S1\",\"TCGA-A7-A56D\",\"TCGA-A7-A5ZV\",\"TCGA-A8-A08H\",\"TCGA-AC-A2QH\",\"TCGA-AC-A2QJ\",\"TCGA-AC-A62X\",\"TCGA-AN-A0FL\",\"TCGA-AO-A1KO\",\"TCGA-AO-A1KR\",\"TCGA-AQ-A54N\",\"TCGA-AR-A0TP\",\"TCGA-AR-A2LN\",\"TCGA-AR-A5QQ\",\"TCGA-B6-A0IA\",\"TCGA-B6-A1KF\",\"TCGA-BH-A0BO\",\"TCGA-BH-A0DL\",\"TCGA-BH-A1EN\",\"TCGA-BH-A208\",\"TCGA-BH-A42U\",\"TCGA-BH-A5IZ\",\"TCGA-D8-A27H\",\"TCGA-E2-A1LG\",\"TCGA-E2-A1LL\",\"TCGA-E2-A1LS\",\"TCGA-E2-A572\",\"TCGA-E2-A574\",\"TCGA-E9-A1ND\",\"TCGA-E9-A5FL\",\"TCGA-EW-A1P1\",\"TCGA-EW-A1PB\",\"TCGA-FA-A7DS\",\"TCGA-GM-A4E0\",\"TCGA-LL-A8F5\",\"TCGA-OL-A5RW\",\"TCGA-OL-A66P\",\"TCGA-OL-A6VQ\",\"TCGA-PL-A8LV\"],\"z\":[[-0.5566944595979659,-0.3566749274072618,-0.7632041996136092,-0.2519789353773842,-0.626668686802882,1.1555247498643957,-1.174174638507787,-0.3503900587123293,-1.0672338912926238,-0.7141915775305736,-0.3508485019921666,-1.527980563705272,-0.439791300460454,0.8381126800407499,-0.2028036880713876,-0.3244472254885024,0.3944872632204211,-0.6365193215491957,-0.3267711709355559,-0.3565342761726549,-0.0214792542792991,-0.4107433578797306,2.2224162336597715,-0.927297351509456,-0.1458939445609586,-0.1563554041025877,1.9288749336763145],[0.0856806112011567,-0.2790706117131297,-0.7326076427500379,-0.3572923334875306,-0.2848672357263598,-0.2978452681020751,-0.6090577142588925,-0.4555013507312039,-0.6485909676242491,-0.6346630453775058,-0.4221901827069782,-1.231589511872716,1.2888082501309044,-1.1589881393035883,-0.595279937339628,-0.4265852789201523,-0.4049541420934286,-0.037017510705924,-0.485902308592791,-0.3518900135483375,-0.0472045625176738,-0.365459273646497,-0.6349040734414787,-0.9410295388003402,-0.5373388087254326,-0.810347598256902,-0.5226173471983421],[-0.6227122468393758,-0.221353447620936,-0.6901944737795075,-0.3828137361983791,-0.3442897964382759,0.2220437998444813,-0.6101576302112979,-0.4378282143435801,-0.9848549409588592,-0.7076239682568463,-0.4266548109778664,-1.0975752542401318,-0.3897572992572986,-0.9597786764015775,-0.4366754950373282,-0.3586872553057402,-0.5807555283895611,-0.7575387241213031,-0.2869339466529045,-0.3505806138227534,-0.0333773035519297,-0.3652931946767392,0.558514284757405,-0.8573041879298001,-0.4942389266687165,-0.2838560129771326,-0.0498510907631983],[0.4970907097242793,-0.1609535085084633,-0.7563123542463474,-0.3685439987055324,-0.1906703438856831,-0.1178062077068073,0.1162256946338891,-0.4265976255469056,-1.0344497341606258,-0.6932765871674448,-0.505971241500678,-1.2813101072507562,-0.3575241749454227,-0.8434174338653191,0.4523290171097132,0.1654454488509184,-0.6088690576992126,-0.6935459169437068,-0.5641034782210719,-0.3593765258491831,-0.0419892249302147,-0.4107988323903758,-0.5658309494283217,-0.6156586832140921,0.2654709543292605,-0.716404493765626,-0.7579436977191611],[2.1745202174192984,-0.0803548697271812,-0.7517442383440759,-0.3664012585708238,0.3624788391959579,-0.4021284952173181,-1.1042261270824083,-0.4211327408199525,-1.0865046204457731,-0.675396448743078,-0.5628721590496516,-1.5304394742069611,-0.4187672953167443,-1.837480728246876,1.661520242108306,3.819801234031163,-0.6683030364960488,-0.687543117428495,-0.5384997276411857,-0.3630467190445038,-0.0731824898887046,-0.4102013615738613,-0.714392476043375,-0.4867742487650723,1.856873945177584,-0.8248417092137379,-0.9639637984544192],[-0.6699469184634722,-0.3702503459507376,-0.6760761282944479,-0.406064746170749,-0.2196096970323396,0.0257824123109551,-0.8415524486985887,-0.497941946340065,-0.4595738157178258,-0.2160965030812484,-0.5763276249419141,-1.444595724078496,3.3045987499348333,-0.9885508132650352,-0.3167051127083799,-0.1761318429746183,-0.1118529397882324,-0.8600927248925021,-0.5788345663454063,-0.3427465295000753,-0.1261729915105028,-0.3204677227023182,-0.8650805063655885,-0.8506202791903731,-1.025424218095759,-0.9069740719388354,-1.0649762812245278],[-0.656641587958459,-0.3702503459507376,-0.6737641824474342,-0.4190306034965177,-0.6954177116435885,-0.3992514112773814,0.0182220131512124,-0.5848285998429077,1.7511956672542093,-0.6597983767179757,-0.5909839218863469,-0.1289026576139232,4.305066600069553,-0.1746834555540584,-0.4367339440680693,-0.4553645504090239,-0.6755786483525666,-0.8600927248925021,-0.5779686321895816,-0.3346937986670067,-0.12949290591436,-0.2141220521088602,-0.4518166938313218,-0.959259415958471,-0.4099762886070228,-0.8932522340754524,0.120831394795275],[-0.1711092742204005,-0.3292875445658341,-0.7277669324852405,-0.3615778137569478,0.5650107666107473,-0.2096294482206322,0.0087908189210126,-0.4039860382821728,-0.8737407366928273,-0.6868186356297861,-0.5540660646670722,-0.0173297753642916,-0.2659224095644599,1.2346552457232471,-0.4579914069406965,-0.3401955631523857,-0.650940459852048,-0.7845019161824288,-0.5375104531586472,-0.3235908637867905,-0.0711495816010131,-0.2595339689101024,-0.7020159184959455,-0.8083419944382563,-0.7038331512400968,-0.8156695671835239,-0.9230329940045768],[-0.3368496904324549,-0.279861020697599,-0.752857397455601,-0.3573743958756684,0.6885131821973646,5.432796917708553,-0.9193407865932396,0.1754421524462477,4.217729410999117,-0.6237417276095973,2.844932414309519,1.4664360038846214,-0.4434587599648266,-1.287541877629507,-0.5877055424328135,-0.4472049244207454,7.808872586275318,-0.7307237493321579,1.2079320994128468,-0.3636319974780578,-0.1028408077304589,-0.4062037511856248,3.115722500540024,-0.4121410633603456,-0.9322780043875945,2.526082022279078,3.005164355220437],[0.4847058267176445,-0.2122954760470911,-0.3898135544901828,0.2972372742993739,-0.3108198243631809,-0.3992514112773814,-1.1311696799537652,-0.3425436875217956,0.0545514707492653,0.5153561611671473,-0.4382012634025768,-1.1090918545792094,-0.1981059493457533,-0.4890699009156279,1.1559430201856082,5.172961206686411,-0.4299031334305364,-0.4365124644507946,-0.3691109279160819,-0.2279495185762736,-0.0849651452365417,0.7527949127099253,-0.8142096421422109,-0.385502214133958,-0.1698008004585623,-0.8237084823918231,-1.0102300415195746],[5.732633497065054,-0.3513670714531616,-0.3279228505788241,-0.3213854796556902,-0.6412798833645822,-0.3670723339799359,0.410839352609035,-0.6546437556436627,3.070488919136135,0.4379259446123641,-0.1347604936811837,1.1216809016811375,-0.343359907616671,0.4378289291159511,-0.4778850590960301,-0.4271969728265885,0.2566038229881603,-0.7599472547909868,0.7749038617108958,-0.3610855636685284,0.029509266705822,0.1507120625314533,-0.5228174399099624,-0.5733462387920975,-1.0973324009025405,0.7180927773233845,0.7356440387134673],[0.4371119560697905,2.4927379227871524,-0.561030309265068,0.4243883856972953,-0.0587301701112404,0.0759985927703114,-1.2133342791909656,0.009690694581044,0.7537475098015232,0.0680563282983329,-0.0900218393529052,-1.3118829004488757,-0.3962689392209943,-1.219439233218767,6.039599404438615,6.620743553642896,-0.3992466718215194,0.0971808776331192,-0.4561441155600091,1.417960915826019,0.5585067512886995,0.0225838946304196,-0.6882930852202419,-0.2554164979609014,-0.5794912344566011,-0.5561494326013665,-0.4664019287442451],[-0.5292905674104753,-0.2116262246441828,-0.6455974076106428,-0.251842164730488,-0.3884440328103171,-0.6301042003349154,0.1801729359093746,-0.6047077447441639,0.0224506728070953,0.5150479340171167,-0.1157935211648592,0.487091503022488,0.3417712100198875,0.520161919448334,-0.3841058373115004,-0.0713208725336322,-0.2444103495934889,1.3610172043718154,-0.5488713731833967,1.145374977644016,-0.0896877195775851,1.79547582865216,-0.653822307141295,-0.8142630038837453,-0.6031166676832502,-0.1155116709680445,-0.3991290070729047],[-0.3196305872310852,-0.1785848213299092,-0.1405421142381372,0.0080403004587234,0.1005203924681792,-0.0759114392583448,0.1892545557876793,-0.2290094539054152,1.9553321412355769,-0.4138094012128467,0.076185494483328,-1.0736303227017998,-0.2157152803294597,-0.7515411529148549,4.638046049825243,3.4178886796162424,-0.078356870444924,-0.0333738361030693,-0.2664773155002241,-0.2199993703015881,-0.0031194051144576,-0.2415343852977007,-0.7433832999647333,-0.895978627509807,-0.4913684154249783,-0.4267069486295157,-0.5795029173625752],[-0.5087413899263546,1.6541659149430723,-0.6832515660676804,-0.216053845459291,-0.1405029924832375,4.307569388799322,0.0442002142558303,-0.3958889843059991,0.6955082228484324,-0.6686065602746172,1.29915494476887,-0.4347963588424224,-0.3943709771272061,-0.9548916810850662,-0.3797566299471205,-0.4313194190323885,-0.0717593738682369,-0.8109216449129593,0.3250696964024022,0.9241629580468654,-0.0669792867423711,-0.1802695072525031,-0.0741588145923424,-0.8422853197401847,-1.086985427367105,2.571920347702801,0.14588475872805],[-0.6986529071120834,-0.3596980975376406,-0.5544228418783087,-0.2547690565740686,-0.2304641811754396,-0.5594164610721637,-1.2402822200248984,0.2865196947633555,1.0142098650044633,-0.6632570409880296,-0.3017375910123978,-1.482729921539646,-0.4466666934697811,-1.901177002372232,0.0583720590626971,-0.4066737154567066,-0.3793694176814794,-0.7875527216973616,-0.1155155605861526,-0.3627178970069074,0.314329541888781,-0.4091818020893938,-0.7593550256501675,-0.8846774700585611,0.3633825919322585,-0.6320700334878201,-0.9681135840441072],[-0.6624261889035519,-0.2909267464801687,-0.4573596094557895,-0.0780613807840567,-0.7584109305236577,-0.4762908666229165,-0.4602926190418671,-0.4018301663256683,0.7481097964854423,-0.5219348926990348,-0.1707546347064814,-0.0561750356494074,-0.3122148193134369,0.7282802479273369,-0.597103846837371,-0.3935204428504313,1.27352244950441,3.818113733507808,-0.2881903167394989,-0.2835949779913658,0.1817959807162291,1.032968067318263,-0.7754369011679152,-0.7155984907199714,-0.5799180588408824,0.4279223548220803,-0.9559735280643368],[-0.4645299767522162,-0.2228477244601881,-0.2822244089164109,-0.3699390593038746,-0.3501861327370167,0.5673602668816496,-0.6052767531724988,-0.5146374198636926,1.499206966005136,-0.6986587074025932,-0.2400949303343431,-1.445283521043191,-0.249537867316677,-1.1941545115811754,-0.2132323439793949,-0.4372880686648866,-0.2791496302831537,-0.8053264428956941,0.4217208776611722,-0.3640737842967135,-0.0798519468662984,-0.3469359555236558,-0.1192070362909343,-0.8047267627095203,-0.7703333283866982,0.5200103250345179,-0.3359027707281545],[1.974798076897196,2.231337555865009,-0.5414695034238713,0.3265061927351809,0.083520180158718,-0.1626444543399741,-1.0401296950793362,0.3095073062065485,-0.3963630906587364,-0.6449530902323709,-0.2432971464734628,-1.4037583245933123,-0.3987705471917734,-1.5888860821463815,-0.3044375603716703,-0.3682000223597714,-0.5286112888509059,-0.7564517974601125,-0.1843751890560178,-0.25950729163123,-0.0443542805960281,-0.1763997294322752,-0.304580024921593,-0.3347694110870803,-0.4919781645453802,-0.4160042508669873,-0.1549618089914458],[-0.1598244382240225,-0.3238412228042356,-0.6266666325439297,9.488279453989088,-0.3968521014900925,1.3846291571430451,-1.2388049392909497,1.3386102778160975,-1.0676609907862664,-0.4773308676225025,0.2163132411096153,-1.554234631776237,-0.4368587141976356,-1.8980971571727625,-0.6400114301737582,-0.4290283473101004,-0.6085441274609603,18.18156547803689,0.914356603145867,-0.3640988875813933,-0.082240912984997,-0.4129416645748649,0.1445987523819512,0.1123863608919137,1.7899141110017565,0.1790685428205132,-0.1727723794415978],[-0.6404701485763816,-0.2207591985304226,-0.6790118203196909,-0.3011707780444179,-0.4064873365026036,-0.3338309487662061,-1.1886388258127565,-0.1076539173770651,0.8987734138627692,-0.6532515135024235,0.0444712384901232,-1.501650881591676,-0.3967643800780822,-1.8516726241660288,-0.0057412822345076,0.046361620593089,-0.188804896647364,2.5226453706406,0.865386240325799,-0.0827843668618094,29.585661147922472,-0.2676136074201659,-0.7094387933068389,-0.7416224658885582,-0.7643343351175133,0.8308558413312008,-0.8743181196908477],[-0.7552417199798618,-0.365871364788605,-0.7123767418332372,1.4261239576951317,0.2130159177703728,1.585250433416321,-0.6354630103875828,-0.6178435227117027,-0.4644769179048418,-0.4976916418600957,-0.1587463241847824,1.4219369943850653,-0.3187596114534433,-0.809623726676634,-0.6082923401450133,-0.4342147701895196,-0.5717987557351294,-0.8123667633147695,0.097072125291759,0.0934045862491034,-0.1260264100384678,-0.397964924949362,-0.1644082438677391,-1.023673166791416,-1.0226053010083624,0.4896734232982215,-0.2482159969634418],[0.3912018308457995,-0.3376589565108334,-0.6401455203601246,-0.2114583517235755,1.010963011926861,0.0019026156094808,0.1579976357040308,0.7972608022264014,0.6216200104482807,-0.0643479786979518,-0.3043855774351314,0.9349709269162512,-0.3723745081450487,0.5040936634076567,-0.6060645328579181,-0.4053613539847164,-0.0606269813576814,-0.7584280277531863,0.4528417686484053,-0.3585946050189704,0.0189452647664464,-0.2524194490603949,-0.629528149681075,-0.717391873388557,-1.0220190037772068,0.0671840793610459,-0.7941061150007284],[0.4819893841004792,-0.2244285424291266,-0.4982786156668838,0.2242382210292586,-0.1518245915529917,-0.2880410512913678,-0.11334373142175,2.0070809940038656,-1.1174607917449817,0.1624775664985486,-0.538917119085852,-0.2952128361468752,-0.3737328264800015,-0.6212879244788674,-0.1617005312224965,0.2495070205384311,-0.6500363061456069,-0.76913672565378,-0.2542487600737642,3.893631215634151,-0.1288200345826248,-0.4118883379969612,-0.8163116681088571,-0.6331028879650329,-0.1150640909578685,-0.8732123069185299,-1.156039588605695],[-0.7363463546676242,0.1163992733192085,-0.6159568949522416,24.11325499523676,-0.3811107243219535,1.4076900914923838,-0.7365967718412004,-0.5125066161857521,1.1503520995979453,-0.3653495730383363,0.6648082438251722,3.020550325575984,-0.2902634741268137,-0.0030195744360664,-0.4250853519799775,-0.1970221166883618,-0.5419899382259009,-0.7187675560590614,0.1713859480711999,-0.0751016770399473,-0.1248262092621242,-0.3899049264834399,-0.3208332446229391,-0.8239358837374818,-0.9991721732735324,3.886245489841407,2.3557100229013708],[-0.7348272421296502,-0.3659002118318338,-0.545310962884251,-0.3835522976916191,-0.6651423306346794,0.4294151576691475,-0.7009986941156112,-0.4397334035144444,-0.2231144520575942,-0.5286269783218129,-0.0648351777971366,0.6400687446654104,-0.3894828729089488,0.430238898624375,-0.5984519212771573,-0.4237863158937324,0.3753587613685276,-0.8579559258881161,0.0881567462277129,-0.3043101465257487,-0.1280034406373516,-0.3486094940218169,-0.5286859781982121,-0.5251013983679879,-0.4044979272791041,1.171618545726434,-0.3671937005783489],[-0.7166577581779224,-0.0570118423464319,-0.7267236895070434,-0.3021828808314505,1.0623911777711657,1.4669801520700014,0.0070312459280023,3.7392238379409455,0.2796158199191152,-0.3955143416249773,0.4453948572158725,2.5608751110318937,-0.3836453271969043,0.4936429527308054,-0.4955471572315286,-0.4207834548985005,-0.0184708147948672,-0.8317955773835515,0.4461218473998637,-0.3634908302413706,0.0521475275597427,-0.3913572560633758,0.0127524628204472,-0.9675829888520334,-0.3494797951074554,-0.0160395388221917,0.06069816634346],[0.7071697554313864,-0.3406475101893376,-0.3437694600337886,0.2459665177995165,-0.364502413518753,-0.503180535753863,-0.9995088628583212,0.4443245083237694,-0.4929729961206691,1.174123528737672,-0.5481542810256205,-1.0675739287103532,-0.2946400218467208,1.0599576594087736,7.003061312565604,6.804748865894062,-0.5048348718518388,1.609207026303222,-0.3592164818448116,0.1827245679725782,-0.1208149708944139,0.0714562493845198,-0.7958543964742185,0.1364973945473427,-0.2494809393615434,-0.8639842030699498,-1.1291304199371583],[-0.2156873697312912,13.070544816184867,-0.4369166034154096,-0.1162933356131341,2.250296105061365,1.2924075511606132,-0.7554737868435202,1.86910518878758,1.2629867780613444,-0.3610225380475231,-0.1032925620063725,-1.391405607436688,-0.4066497144282859,-1.791083110241885,0.2289742889444397,-0.2803274122733717,-0.3850486331500622,-0.3567592206859347,-0.3488371806961149,-0.3135476904122866,0.0422849855370737,-0.312664767621125,0.211217982908572,-0.8044307122372457,-0.2389651122235352,2.5059217772126683,1.5247992275301068],[-0.6886926175158108,-0.3356685105280458,0.1530498699475881,-0.3313970910084989,0.99231602157089,-0.6004923671684903,-0.5601202303020034,-0.6716901850671864,2.032961745200037,2.1214152185175377,-0.0861422313382025,0.6671139973632053,-0.3438567298144385,0.1867734828560809,0.4017218230583468,-0.1328980591148709,0.5397028249158523,-0.7013520266013484,-0.2437010355823825,-0.3617022986872059,0.1063049632408269,0.8437210123668166,-0.3195695812688999,-0.176160370566043,1.2621152723818696,0.2887509087272724,-0.0377625849149767],[-0.62969417786366,-0.3663386868889116,-0.5550811533359361,-0.2540487311670815,-0.3293203464794382,2.0431051453348585,1.280989737031667,-0.4225616326981007,2.3153940983559465,-0.646921002036412,0.2278904840741251,1.4359923362054554,0.4759058823115033,-0.7414634072621591,-0.5294550885268747,-0.4215174875862238,-0.5819563575309281,-0.5749226936019515,1.2860005718620426,-0.3616014206728443,0.0406699903824183,-0.4031867647557507,3.4911923757488013,-0.4657148122853954,-0.7772234934472397,1.8829240361604525,-0.8455273712207759],[0.753700995633958,-0.2921556305217158,-0.3749229892403883,0.2958786858735375,0.3883324628059456,-0.5767232275416289,-0.3048987750265686,-0.2919057648225047,-0.5229382965946265,0.5222616348168695,-0.5377778691132806,-0.7561153247675042,-0.3053914568030419,-0.9791767026579112,1.7026542720349735,2.3811082878007386,-0.583835301952126,0.2911725837769769,-0.4542650894792461,0.261555374630404,-0.1186791437008255,-0.105017127594613,-0.778181467823056,-0.5558223281447752,0.3935182696136602,-0.8628369857934435,-1.0204885176978098],[-0.2007806102453596,1.2709964091434964,-0.0402721665769126,-0.0737394283421338,0.9368164345226548,1.870590766013272,-0.0540725955981796,1.088478994304452,2.099162166714624,-0.6315363180382538,3.267286248735531,-1.0611932668053188,-0.4031567642964379,-1.2400561245540418,-0.411153500960241,-0.4171651927610357,-0.459019708258271,-0.7242268922436778,-0.1114895621976276,-0.2589337900472789,0.0282383741557311,0.8003358102961042,0.2239464079758914,-0.7828304143178367,-0.4454918296815089,0.2656862452876587,-0.1674111657605101],[0.3818551729151125,-0.3083388217730756,-0.3538939445993044,-0.2886790589612231,1.4036601970033238,-0.3475081631883665,-0.5188221891900792,2.494959831416538,-0.5801012928237383,1.0821888537958757,-0.0568296374493373,2.885368412631244,3.504356635758755,-0.3872273793196895,-0.609817260370119,-0.441184373487095,0.0318792447325689,-0.4429352129032844,-0.2619579558048442,-0.3627344775714799,-0.1268884858234681,20.36264517390969,-0.7966407438882332,-0.2011424758033563,-0.6831907983255677,-0.6243053311895151,-0.5065079310893047],[2.8432440332736246,-0.343076431229203,-0.3201849414408406,1.1459082563340046,0.3642008306628612,-0.5104839026783177,-0.4380617379772262,0.5705432908935367,0.0183846856276188,-0.5915794099929509,-0.0789064544853839,-0.3295706938251232,-0.3481591455845398,-1.4305951118944995,0.5258084409099132,0.2325686601838448,-0.1365052556904143,3.882094189246073,-0.2864244235101353,-0.3345802140517578,-0.1143859179268066,-0.1190669949615092,-0.700960315936276,-0.4922910354503405,0.5022037051363748,-0.5358968505346525,-1.0353865057154477],[0.7216724160155908,-0.2728684974189366,-0.4300986020541347,0.2241743947273737,-0.5860573983914806,-0.306321600017427,-0.6331213010261452,-0.2786697137407099,0.708047863981776,-0.0881199976440559,-0.4727174585175116,-0.6700621819056012,-0.2582739262214428,-1.0075028194924818,0.999322023261113,5.578491281791636,-0.0628591108204578,0.6460911929737013,-0.2294046157818461,0.1508726990904993,-0.0456831300047428,-0.3617748702779905,-0.8130285911624068,-0.6722612562016421,0.3147339928798852,-0.7469400599571222,-0.9887336366636752],[-0.6145105357969154,2.501790124952352,-0.4674613123598838,-0.3576935273850931,0.017265073994216,0.3653889742980953,-0.2842475604893186,2.594957194608356,2.031919622435549,1.0757664669293745,6.518674879914623,0.331815012837123,-0.3203647293231536,-1.131830902544721,-0.1411017439655291,-0.4342444280758922,1.97258866600164,-0.8204199017590453,0.1849925126650822,0.0269952722472297,-0.0654523964086729,1.7462164961160371,0.009790656218244,-0.91641749665337,-0.2056446679824959,0.450488958078235,1.7086785467651038],[-0.5882141739326767,-0.3575345692954803,0.2064390862760782,-0.0851552183364112,0.1090393019780082,-0.3939620031108825,0.3794127646391109,1.6779846330156023,0.2457895400226294,-0.7045683702599091,-0.0351530974306807,0.6356354351813469,-0.3461916560098777,0.7777384861305516,-0.5835204419624377,-0.3915593151140391,0.3012040300386979,-0.3771267441439266,-0.26578746029357,-0.3628455828499703,-0.084681078660417,1.6071367639519705,-0.3707494769662678,-0.4354778111652106,1.5982699624594383,0.5956007511926112,-0.388277704381857],[5.8915191985737385,-0.3028174976990823,0.0646036045641086,-0.3287437404587108,-0.8856621413267285,1.0205895130813654,-1.127412121334444,2.447054351080724,6.037549101470557,-0.3692616868656467,3.972913049314442,-0.1833040530540203,-0.230313749078503,-0.4192869913960642,-0.2466764297615517,-0.3894684341247664,-0.2844897881118213,-0.8145282651978191,-0.052964151860488,-0.3492915136668796,-0.115688517816593,1.3076784987016268,1.1165333352567863,-0.8198424166304561,-1.0748185872261622,0.2243136729695552,-0.4233833439666715],[-0.0232390094402759,-0.0897070811419599,-0.2822699722392538,1.269320970050094,2.3023141024655973,1.793772624816962,0.0084748856155346,4.040920570458751,0.7754783320380534,1.3630608442611896,0.148912749489105,-0.2413334684241679,-0.3885707276135111,-1.5685383408285385,0.1555405752836656,-0.3090140028673286,1.7326771309581712,-0.6909644661233791,-0.3846109791807558,-0.1245354526278516,-0.1134414550378433,-0.3323840610635291,-0.0011202966159051,-1.051017982528612,-0.3963507409549648,1.5053048781892655,0.6680618162528335],[-0.3677258398496004,-0.3692637770723125,-0.5125721442725293,-0.2653459866007153,0.9432927058786398,-0.4139909336158262,-0.1942489853996136,-0.4330903096949831,-0.9880838131307964,0.109080176478357,-0.3508485019921666,2.416633763310319,-0.4208296369514065,1.9554812874083047,-0.4990211278278871,1.5892241854716904,-0.6349199863660455,-0.7873798015467176,0.1176070137551819,-0.1466509660592914,-0.1286739729030438,-0.3005506505697876,-0.6123111189469869,-0.9115098907475896,-1.045438060378489,0.5520176870490443,-0.9679073835179116],[-0.6467561314921358,-0.3658309789280847,0.2641661666115766,-0.3499614268138892,-0.7141537705237097,-0.6412805648708233,-0.087056910282614,-0.6743474225949709,1.0204455176116434,0.4036267830036791,-0.2869273413689691,0.753904377140754,-0.2411185958744358,0.27460482354457,-0.5266105690308055,-0.3691305385447137,0.5503125035648717,-0.4241239708010881,-0.2357298479849037,-0.3347519081222841,-0.1167951559512121,-0.3104368285786895,-0.8274551594778901,-0.72732664404469,-0.5083428928613976,-0.6401369296053023,-1.0863695858173297],[-0.7147794466161911,-0.0556214148628035,-0.5890729633258389,-0.3988250199283719,-0.6825384030514747,0.8716229592374138,-0.4336649994759886,4.127355994947441,1.1849984105222244,-0.725901245509137,-0.3045087395943283,5.343513903785508,-0.36162629631698,-1.053069917443683,-0.5556709775073759,-0.3925306108927437,0.5115327859995481,-0.4078200708832292,1.1500557143811043,0.530848102771216,-0.1015145572840143,2.279311451593396,-0.217843151409966,-0.924462098909597,-0.7531008801685705,12.177654826426847,-0.3045860658121857],[-0.5005471621968893,0.4553001065798595,-0.475636000937534,0.0542231888940387,0.052451099634604,0.4395734771186163,-0.471021187540396,0.7566752592312767,-0.3164271494286069,-0.4193308164100281,0.3739608048816633,-0.8703143408823345,-0.3863149982837031,-1.6314386999023465,-0.5330512026105514,-0.4157379069793513,-0.4938154985545884,-0.7419759105633469,-0.3109717003949976,9.201147213114254,-0.0670143727330178,0.8995455981848235,-0.0871258976296739,-0.5032904491509989,-0.3842870891267056,0.3094399929772423,0.9633409697650464],[0.0403242511387916,6.59302203087767,-0.6718615209314751,0.4799993307253284,-0.0001468328268726,0.5895580760490071,0.2421324301378932,0.1612535067790206,-0.1894760959383113,-0.6499795637559457,-0.1016298728572142,-0.516055280578323,-0.3803821400647653,-1.3910377493325257,3.05035313933138,2.5100014619763256,-0.2076508504659947,-0.6449924089307496,0.1917719775196235,-0.3633953757761682,-0.1028543223342635,-0.3214080328858639,-0.1989646940384853,-0.8460599632616841,-0.972296308197356,2.13855762245708,0.4529688923649656],[0.9438370122095348,-0.0479423319552955,-0.5890038327670426,0.4436365747371671,-0.0008593810200739,-0.3604107780882364,-0.5373774202701525,0.2373106639422129,-0.5102107316840803,-0.2078306807597568,-0.3175947190090003,-0.7108806778801272,-0.3397196144789976,-1.1517826088369143,2.1600209349706567,6.401539149673917,-0.5559336836674216,-0.5104234774117551,-0.0107383783543043,-0.2878814413297218,-0.0117032577002253,-0.0895655812879352,-0.7120701504121021,-0.5593749338120686,0.3829743002085564,-0.6375207145966842,-0.4453179249407369],[-0.0291882432712578,2.948417356446653,-0.4779180949523403,-0.1596040404636272,-0.0217607946873123,0.5004569995706606,-0.6941256820672693,1.1840392721904405,0.8628799724170537,-0.7020225325495608,1.5046202168491192,-0.3476788029188773,-0.3750257613561193,-1.2516295753036084,-0.5922930419994458,-0.441922113410615,-0.5010063460011275,-0.7506219180955447,-0.0248000262226132,-0.1022480746714834,-0.0256856747134958,-0.3544987507668382,-0.2408644663634542,-0.776078186238654,-0.4711106734940875,1.978839794749136,0.0410060160917728],[-0.6730150767913999,8.537456402774428,-0.7232208126698587,6.839041141651002,0.1407615516792232,7.96553817286465,-1.2290797515681522,0.7702873344915314,0.8945195029060898,-0.6260415763444406,1.6368040042072054,-1.5509817738269296,-0.4437939653030793,-1.8940752869122817,-0.5863994313997132,-0.4066996661072827,-0.4479862075593575,-0.8287077175506236,-0.5782025534988663,-0.3442699269796276,-0.1030063616270658,-0.4116764322575399,0.4650858089327427,-1.0319568867367876,-1.1884242291127354,2.074943025429345,1.6927495561164876],[1.2068455307298918,-0.2769128528796151,-0.4351781269765916,0.2337483400101143,-0.4908609597797855,-0.450419242578409,-1.1770063370235535,-0.251420494941636,-0.4309581496437787,-0.3769940391197778,-0.5107129846297591,-1.147250772015835,-0.3403227999090953,-1.0279736008182936,2.733910911180001,1.2245063278038848,-0.480987817844456,0.615212594644423,-0.4468876366958789,2.44447541436647,-0.1191997158435314,-0.1695804993690459,-0.8035679444537166,-0.3326116586064646,-0.6323424120618983,-0.7633116899201429,-0.9533186962895672],[-0.4984593178712995,0.2538958201649862,-0.6655635699102352,0.1002145984236992,-0.0271741816551057,0.924981800615778,-0.3405568215740311,-0.5054122933521387,5.041006394944393,-0.682346378231747,1.1268202935125902,-0.6433893283677603,-0.3874048760799177,-1.763491388454878,-0.1227509963524523,-0.3820205974094317,-0.3694095995089646,-0.22081927940112,0.864552714904097,-0.3639507472100728,0.5492240117588727,-0.1839804419087095,-0.2938404162710423,-0.633484337612002,-0.6588805699329288,3.321167671179986,0.6980897678800793],[-0.6876374703835235,-0.3295587067721848,-0.4821437003587578,-0.0591596773829889,-0.7695365788402816,1.3446598217928478,-1.059587383795891,1.3233186278920543,2.823215396296875,-0.6955023428373767,21.20810244517118,1.203693055610932,-0.3438341679166716,-1.3052327237752728,0.4768462124006363,-0.1654698328236465,0.1491508059383062,-0.125070921701694,-0.178596056782272,-0.3033294138792136,-0.0936807652094046,4.726876596977318,-0.1420814848013379,-1.044140502326544,-0.692712265359536,2.18923104898764,0.0095088857153827],[1.5892428247716104,0.7873295741434089,-0.5961203524503921,-0.0042690577619429,-0.5892816789657166,-0.4443331034746968,-0.3982190377863702,-0.2945128657931612,0.3208736310049804,2.15652644011765,0.0328016239062157,0.9675765745681624,-0.0657919301145568,-1.361977237450391,-0.2519248529834876,0.5811229697785502,0.1049602935359997,0.3114783500383104,-0.191166562631759,0.6928540254509703,0.0200713951180914,-0.3253439666442525,-0.7511366242725667,-0.1869946791956253,0.039357218972838,0.142519879245573,-0.7978692746037995],[0.0020246552306602,-0.3556422032596706,-0.334813910371554,0.0903215216315339,-0.1936769014008854,-0.5961988726735079,-1.0946179516949734,-0.1296387976776978,-0.5307969272776486,0.1665289752878921,-0.4479002834393337,-0.5238493434340623,-0.2348892098562744,0.2419684614308417,7.75324023467453,12.770125009183827,-0.4230937258289023,0.8675772030699486,-0.4577186186272306,-0.2226001945612572,-0.1237671321370484,-0.3597739977108048,-0.6567351582624699,-0.3013954136164489,1.4609263182778347,-0.7355714165560364,-0.7142549612314516],[-0.639579634329983,-0.0728661773049833,-0.6949275603334517,0.266445642661455,-0.2973388084079194,1.537623628502908,-0.6512245719608818,0.2942407245610692,1.817874440201676,-0.704520950698366,7.893718806268553,3.778003382576795,-0.3661391363172757,-0.1802394809139003,-0.080400177501202,-0.25155926249189,-0.1081515605524893,-0.6820837812438787,0.1184423254850639,-0.2783600133843353,-0.0744216750991,2.097977404882771,0.0114214856799943,-0.4705427122947942,0.2012925142180357,0.3716331598184764,-0.3738952176797084]],\"type\":\"heatmap\",\"xaxis\":\"x\",\"yaxis\":\"y\",\"hovertemplate\":\"Gene: %{x}\\u003cbr\\u003eCase: %{y}\\u003cbr\\u003eExpression: %{z:.2f}\\u003cbr\\u003eCancer Stage: %{customdata}\",\"customdata\":[[\"Stage IV\",\"Stage IV\",\"Stage IV\",\"Stage IV\",\"Stage IV\",\"Stage IV\",\"Stage IV\",\"Stage IV\",\"Stage IV\",\"Stage IV\",\"Stage IV\",\"Stage IV\",\"Stage IV\",\"Stage IV\",\"Stage IV\",\"Stage IV\",\"Stage IV\",\"Stage IV\",\"Stage IV\",\"Stage IV\",\"Stage IV\",\"Stage IV\",\"Stage IV\",\"Stage IV\",\"Stage IV\",\"Stage IV\",\"Stage IV\"],[null,null,null,null,null,null,null,null,null,null,null,null,null,null,null,null,null,null,null,null,null,null,null,null,null,null,null],[null,null,null,null,null,null,null,null,null,null,null,null,null,null,null,null,null,null,null,null,null,null,null,null,null,null,null],[null,null,null,null,null,null,null,null,null,null,null,null,null,null,null,null,null,null,null,null,null,null,null,null,null,null,null],[null,null,null,null,null,null,null,null,null,null,null,null,null,null,null,null,null,null,null,null,null,null,null,null,null,null,null],[null,null,null,null,null,null,null,null,null,null,null,null,null,null,null,null,null,null,null,null,null,null,null,null,null,null,null],[null,null,null,null,null,null,null,null,null,null,null,null,null,null,null,null,null,null,null,null,null,null,null,null,null,null,null],[null,null,null,null,null,null,null,null,null,null,null,null,null,null,null,null,null,null,null,null,null,null,null,null,null,null,null],[\"Stage II\",\"Stage II\",\"Stage II\",\"Stage II\",\"Stage II\",\"Stage II\",\"Stage II\",\"Stage II\",\"Stage II\",\"Stage II\",\"Stage II\",\"Stage II\",\"Stage II\",\"Stage II\",\"Stage II\",\"Stage II\",\"Stage II\",\"Stage II\",\"Stage II\",\"Stage II\",\"Stage II\",\"Stage II\",\"Stage II\",\"Stage II\",\"Stage II\",\"Stage II\",\"Stage II\"],[\"Stage II\",\"Stage II\",\"Stage II\",\"Stage II\",\"Stage II\",\"Stage II\",\"Stage II\",\"Stage II\",\"Stage II\",\"Stage II\",\"Stage II\",\"Stage II\",\"Stage II\",\"Stage II\",\"Stage II\",\"Stage II\",\"Stage II\",\"Stage II\",\"Stage II\",\"Stage II\",\"Stage II\",\"Stage II\",\"Stage II\",\"Stage II\",\"Stage II\",\"Stage II\",\"Stage II\"],[\"Stage II\",\"Stage II\",\"Stage II\",\"Stage II\",\"Stage II\",\"Stage II\",\"Stage II\",\"Stage II\",\"Stage II\",\"Stage II\",\"Stage II\",\"Stage II\",\"Stage II\",\"Stage II\",\"Stage II\",\"Stage II\",\"Stage II\",\"Stage II\",\"Stage II\",\"Stage II\",\"Stage II\",\"Stage II\",\"Stage II\",\"Stage II\",\"Stage II\",\"Stage II\",\"Stage II\"],[null,null,null,null,null,null,null,null,null,null,null,null,null,null,null,null,null,null,null,null,null,null,null,null,null,null,null],[\"Stage II\",\"Stage II\",\"Stage II\",\"Stage II\",\"Stage II\",\"Stage II\",\"Stage II\",\"Stage II\",\"Stage II\",\"Stage II\",\"Stage II\",\"Stage II\",\"Stage II\",\"Stage II\",\"Stage II\",\"Stage II\",\"Stage II\",\"Stage II\",\"Stage II\",\"Stage II\",\"Stage II\",\"Stage II\",\"Stage II\",\"Stage II\",\"Stage II\",\"Stage II\",\"Stage II\"],[\"Stage II\",\"Stage II\",\"Stage II\",\"Stage II\",\"Stage II\",\"Stage II\",\"Stage II\",\"Stage II\",\"Stage II\",\"Stage II\",\"Stage II\",\"Stage II\",\"Stage II\",\"Stage II\",\"Stage II\",\"Stage II\",\"Stage II\",\"Stage II\",\"Stage II\",\"Stage II\",\"Stage II\",\"Stage II\",\"Stage II\",\"Stage II\",\"Stage II\",\"Stage II\",\"Stage II\"],[\"Stage II\",\"Stage II\",\"Stage II\",\"Stage II\",\"Stage II\",\"Stage II\",\"Stage II\",\"Stage II\",\"Stage II\",\"Stage II\",\"Stage II\",\"Stage II\",\"Stage II\",\"Stage II\",\"Stage II\",\"Stage II\",\"Stage II\",\"Stage II\",\"Stage II\",\"Stage II\",\"Stage II\",\"Stage II\",\"Stage II\",\"Stage II\",\"Stage II\",\"Stage II\",\"Stage II\"],[\"Stage II\",\"Stage II\",\"Stage II\",\"Stage II\",\"Stage II\",\"Stage II\",\"Stage II\",\"Stage II\",\"Stage II\",\"Stage II\",\"Stage II\",\"Stage II\",\"Stage II\",\"Stage II\",\"Stage II\",\"Stage II\",\"Stage II\",\"Stage II\",\"Stage II\",\"Stage II\",\"Stage II\",\"Stage II\",\"Stage II\",\"Stage II\",\"Stage II\",\"Stage II\",\"Stage II\"],[\"Stage II\",\"Stage II\",\"Stage II\",\"Stage II\",\"Stage II\",\"Stage II\",\"Stage II\",\"Stage II\",\"Stage II\",\"Stage II\",\"Stage II\",\"Stage II\",\"Stage II\",\"Stage II\",\"Stage II\",\"Stage II\",\"Stage II\",\"Stage II\",\"Stage II\",\"Stage II\",\"Stage II\",\"Stage II\",\"Stage II\",\"Stage II\",\"Stage II\",\"Stage II\",\"Stage II\"],[\"Stage II\",\"Stage II\",\"Stage II\",\"Stage II\",\"Stage II\",\"Stage II\",\"Stage II\",\"Stage II\",\"Stage II\",\"Stage II\",\"Stage II\",\"Stage II\",\"Stage II\",\"Stage II\",\"Stage II\",\"Stage II\",\"Stage II\",\"Stage II\",\"Stage II\",\"Stage II\",\"Stage II\",\"Stage II\",\"Stage II\",\"Stage II\",\"Stage II\",\"Stage II\",\"Stage II\"],[\"Stage II\",\"Stage II\",\"Stage II\",\"Stage II\",\"Stage II\",\"Stage II\",\"Stage II\",\"Stage II\",\"Stage II\",\"Stage II\",\"Stage II\",\"Stage II\",\"Stage II\",\"Stage II\",\"Stage II\",\"Stage II\",\"Stage II\",\"Stage II\",\"Stage II\",\"Stage II\",\"Stage II\",\"Stage II\",\"Stage II\",\"Stage II\",\"Stage II\",\"Stage II\",\"Stage II\"],[\"Stage II\",\"Stage II\",\"Stage II\",\"Stage II\",\"Stage II\",\"Stage II\",\"Stage II\",\"Stage II\",\"Stage II\",\"Stage II\",\"Stage II\",\"Stage II\",\"Stage II\",\"Stage II\",\"Stage II\",\"Stage II\",\"Stage II\",\"Stage II\",\"Stage II\",\"Stage II\",\"Stage II\",\"Stage II\",\"Stage II\",\"Stage II\",\"Stage II\",\"Stage II\",\"Stage II\"],[\"Stage III\",\"Stage III\",\"Stage III\",\"Stage III\",\"Stage III\",\"Stage III\",\"Stage III\",\"Stage III\",\"Stage III\",\"Stage III\",\"Stage III\",\"Stage III\",\"Stage III\",\"Stage III\",\"Stage III\",\"Stage III\",\"Stage III\",\"Stage III\",\"Stage III\",\"Stage III\",\"Stage III\",\"Stage III\",\"Stage III\",\"Stage III\",\"Stage III\",\"Stage III\",\"Stage III\"],[\"Stage II\",\"Stage II\",\"Stage II\",\"Stage II\",\"Stage II\",\"Stage II\",\"Stage II\",\"Stage II\",\"Stage II\",\"Stage II\",\"Stage II\",\"Stage II\",\"Stage II\",\"Stage II\",\"Stage II\",\"Stage II\",\"Stage II\",\"Stage II\",\"Stage II\",\"Stage II\",\"Stage II\",\"Stage II\",\"Stage II\",\"Stage II\",\"Stage II\",\"Stage II\",\"Stage II\"],[\"Stage II\",\"Stage II\",\"Stage II\",\"Stage II\",\"Stage II\",\"Stage II\",\"Stage II\",\"Stage II\",\"Stage II\",\"Stage II\",\"Stage II\",\"Stage II\",\"Stage II\",\"Stage II\",\"Stage II\",\"Stage II\",\"Stage II\",\"Stage II\",\"Stage II\",\"Stage II\",\"Stage II\",\"Stage II\",\"Stage II\",\"Stage II\",\"Stage II\",\"Stage II\",\"Stage II\"],[\"Stage II\",\"Stage II\",\"Stage II\",\"Stage II\",\"Stage II\",\"Stage II\",\"Stage II\",\"Stage II\",\"Stage II\",\"Stage II\",\"Stage II\",\"Stage II\",\"Stage II\",\"Stage II\",\"Stage II\",\"Stage II\",\"Stage II\",\"Stage II\",\"Stage II\",\"Stage II\",\"Stage II\",\"Stage II\",\"Stage II\",\"Stage II\",\"Stage II\",\"Stage II\",\"Stage II\"],[\"Stage II\",\"Stage II\",\"Stage II\",\"Stage II\",\"Stage II\",\"Stage II\",\"Stage II\",\"Stage II\",\"Stage II\",\"Stage II\",\"Stage II\",\"Stage II\",\"Stage II\",\"Stage II\",\"Stage II\",\"Stage II\",\"Stage II\",\"Stage II\",\"Stage II\",\"Stage II\",\"Stage II\",\"Stage II\",\"Stage II\",\"Stage II\",\"Stage II\",\"Stage II\",\"Stage II\"],[\"Stage II\",\"Stage II\",\"Stage II\",\"Stage II\",\"Stage II\",\"Stage II\",\"Stage II\",\"Stage II\",\"Stage II\",\"Stage II\",\"Stage II\",\"Stage II\",\"Stage II\",\"Stage II\",\"Stage II\",\"Stage II\",\"Stage II\",\"Stage II\",\"Stage II\",\"Stage II\",\"Stage II\",\"Stage II\",\"Stage II\",\"Stage II\",\"Stage II\",\"Stage II\",\"Stage II\"],[\"Stage II\",\"Stage II\",\"Stage II\",\"Stage II\",\"Stage II\",\"Stage II\",\"Stage II\",\"Stage II\",\"Stage II\",\"Stage II\",\"Stage II\",\"Stage II\",\"Stage II\",\"Stage II\",\"Stage II\",\"Stage II\",\"Stage II\",\"Stage II\",\"Stage II\",\"Stage II\",\"Stage II\",\"Stage II\",\"Stage II\",\"Stage II\",\"Stage II\",\"Stage II\",\"Stage II\"],[\"Stage II\",\"Stage II\",\"Stage II\",\"Stage II\",\"Stage II\",\"Stage II\",\"Stage II\",\"Stage II\",\"Stage II\",\"Stage II\",\"Stage II\",\"Stage II\",\"Stage II\",\"Stage II\",\"Stage II\",\"Stage II\",\"Stage II\",\"Stage II\",\"Stage II\",\"Stage II\",\"Stage II\",\"Stage II\",\"Stage II\",\"Stage II\",\"Stage II\",\"Stage II\",\"Stage II\"],[\"Stage III\",\"Stage III\",\"Stage III\",\"Stage III\",\"Stage III\",\"Stage III\",\"Stage III\",\"Stage III\",\"Stage III\",\"Stage III\",\"Stage III\",\"Stage III\",\"Stage III\",\"Stage III\",\"Stage III\",\"Stage III\",\"Stage III\",\"Stage III\",\"Stage III\",\"Stage III\",\"Stage III\",\"Stage III\",\"Stage III\",\"Stage III\",\"Stage III\",\"Stage III\",\"Stage III\"],[\"Stage II\",\"Stage II\",\"Stage II\",\"Stage II\",\"Stage II\",\"Stage II\",\"Stage II\",\"Stage II\",\"Stage II\",\"Stage II\",\"Stage II\",\"Stage II\",\"Stage II\",\"Stage II\",\"Stage II\",\"Stage II\",\"Stage II\",\"Stage II\",\"Stage II\",\"Stage II\",\"Stage II\",\"Stage II\",\"Stage II\",\"Stage II\",\"Stage II\",\"Stage II\",\"Stage II\"],[\"Stage II\",\"Stage II\",\"Stage II\",\"Stage II\",\"Stage II\",\"Stage II\",\"Stage II\",\"Stage II\",\"Stage II\",\"Stage II\",\"Stage II\",\"Stage II\",\"Stage II\",\"Stage II\",\"Stage II\",\"Stage II\",\"Stage II\",\"Stage II\",\"Stage II\",\"Stage II\",\"Stage II\",\"Stage II\",\"Stage II\",\"Stage II\",\"Stage II\",\"Stage II\",\"Stage II\"],[null,null,null,null,null,null,null,null,null,null,null,null,null,null,null,null,null,null,null,null,null,null,null,null,null,null,null],[\"Stage II\",\"Stage II\",\"Stage II\",\"Stage II\",\"Stage II\",\"Stage II\",\"Stage II\",\"Stage II\",\"Stage II\",\"Stage II\",\"Stage II\",\"Stage II\",\"Stage II\",\"Stage II\",\"Stage II\",\"Stage II\",\"Stage II\",\"Stage II\",\"Stage II\",\"Stage II\",\"Stage II\",\"Stage II\",\"Stage II\",\"Stage II\",\"Stage II\",\"Stage II\",\"Stage II\"],[\"Stage II\",\"Stage II\",\"Stage II\",\"Stage II\",\"Stage II\",\"Stage II\",\"Stage II\",\"Stage II\",\"Stage II\",\"Stage II\",\"Stage II\",\"Stage II\",\"Stage II\",\"Stage II\",\"Stage II\",\"Stage II\",\"Stage II\",\"Stage II\",\"Stage II\",\"Stage II\",\"Stage II\",\"Stage II\",\"Stage II\",\"Stage II\",\"Stage II\",\"Stage II\",\"Stage II\"],[\"Stage II\",\"Stage II\",\"Stage II\",\"Stage II\",\"Stage II\",\"Stage II\",\"Stage II\",\"Stage II\",\"Stage II\",\"Stage II\",\"Stage II\",\"Stage II\",\"Stage II\",\"Stage II\",\"Stage II\",\"Stage II\",\"Stage II\",\"Stage II\",\"Stage II\",\"Stage II\",\"Stage II\",\"Stage II\",\"Stage II\",\"Stage II\",\"Stage II\",\"Stage II\",\"Stage II\"],[\"Stage II\",\"Stage II\",\"Stage II\",\"Stage II\",\"Stage II\",\"Stage II\",\"Stage II\",\"Stage II\",\"Stage II\",\"Stage II\",\"Stage II\",\"Stage II\",\"Stage II\",\"Stage II\",\"Stage II\",\"Stage II\",\"Stage II\",\"Stage II\",\"Stage II\",\"Stage II\",\"Stage II\",\"Stage II\",\"Stage II\",\"Stage II\",\"Stage II\",\"Stage II\",\"Stage II\"],[\"Stage II\",\"Stage II\",\"Stage II\",\"Stage II\",\"Stage II\",\"Stage II\",\"Stage II\",\"Stage II\",\"Stage II\",\"Stage II\",\"Stage II\",\"Stage II\",\"Stage II\",\"Stage II\",\"Stage II\",\"Stage II\",\"Stage II\",\"Stage II\",\"Stage II\",\"Stage II\",\"Stage II\",\"Stage II\",\"Stage II\",\"Stage II\",\"Stage II\",\"Stage II\",\"Stage II\"],[\"Stage II\",\"Stage II\",\"Stage II\",\"Stage II\",\"Stage II\",\"Stage II\",\"Stage II\",\"Stage II\",\"Stage II\",\"Stage II\",\"Stage II\",\"Stage II\",\"Stage II\",\"Stage II\",\"Stage II\",\"Stage II\",\"Stage II\",\"Stage II\",\"Stage II\",\"Stage II\",\"Stage II\",\"Stage II\",\"Stage II\",\"Stage II\",\"Stage II\",\"Stage II\",\"Stage II\"],[\"Stage II\",\"Stage II\",\"Stage II\",\"Stage II\",\"Stage II\",\"Stage II\",\"Stage II\",\"Stage II\",\"Stage II\",\"Stage II\",\"Stage II\",\"Stage II\",\"Stage II\",\"Stage II\",\"Stage II\",\"Stage II\",\"Stage II\",\"Stage II\",\"Stage II\",\"Stage II\",\"Stage II\",\"Stage II\",\"Stage II\",\"Stage II\",\"Stage II\",\"Stage II\",\"Stage II\"],[\"Stage III\",\"Stage III\",\"Stage III\",\"Stage III\",\"Stage III\",\"Stage III\",\"Stage III\",\"Stage III\",\"Stage III\",\"Stage III\",\"Stage III\",\"Stage III\",\"Stage III\",\"Stage III\",\"Stage III\",\"Stage III\",\"Stage III\",\"Stage III\",\"Stage III\",\"Stage III\",\"Stage III\",\"Stage III\",\"Stage III\",\"Stage III\",\"Stage III\",\"Stage III\",\"Stage III\"],[\"Stage I\",\"Stage I\",\"Stage I\",\"Stage I\",\"Stage I\",\"Stage I\",\"Stage I\",\"Stage I\",\"Stage I\",\"Stage I\",\"Stage I\",\"Stage I\",\"Stage I\",\"Stage I\",\"Stage I\",\"Stage I\",\"Stage I\",\"Stage I\",\"Stage I\",\"Stage I\",\"Stage I\",\"Stage I\",\"Stage I\",\"Stage I\",\"Stage I\",\"Stage I\",\"Stage I\"],[\"Stage III\",\"Stage III\",\"Stage III\",\"Stage III\",\"Stage III\",\"Stage III\",\"Stage III\",\"Stage III\",\"Stage III\",\"Stage III\",\"Stage III\",\"Stage III\",\"Stage III\",\"Stage III\",\"Stage III\",\"Stage III\",\"Stage III\",\"Stage III\",\"Stage III\",\"Stage III\",\"Stage III\",\"Stage III\",\"Stage III\",\"Stage III\",\"Stage III\",\"Stage III\",\"Stage III\"],[\"Stage II\",\"Stage II\",\"Stage II\",\"Stage II\",\"Stage II\",\"Stage II\",\"Stage II\",\"Stage II\",\"Stage II\",\"Stage II\",\"Stage II\",\"Stage II\",\"Stage II\",\"Stage II\",\"Stage II\",\"Stage II\",\"Stage II\",\"Stage II\",\"Stage II\",\"Stage II\",\"Stage II\",\"Stage II\",\"Stage II\",\"Stage II\",\"Stage II\",\"Stage II\",\"Stage II\"],[\"Stage II\",\"Stage II\",\"Stage II\",\"Stage II\",\"Stage II\",\"Stage II\",\"Stage II\",\"Stage II\",\"Stage II\",\"Stage II\",\"Stage II\",\"Stage II\",\"Stage II\",\"Stage II\",\"Stage II\",\"Stage II\",\"Stage II\",\"Stage II\",\"Stage II\",\"Stage II\",\"Stage II\",\"Stage II\",\"Stage II\",\"Stage II\",\"Stage II\",\"Stage II\",\"Stage II\"],[\"Stage II\",\"Stage II\",\"Stage II\",\"Stage II\",\"Stage II\",\"Stage II\",\"Stage II\",\"Stage II\",\"Stage II\",\"Stage II\",\"Stage II\",\"Stage II\",\"Stage II\",\"Stage II\",\"Stage II\",\"Stage II\",\"Stage II\",\"Stage II\",\"Stage II\",\"Stage II\",\"Stage II\",\"Stage II\",\"Stage II\",\"Stage II\",\"Stage II\",\"Stage II\",\"Stage II\"],[\"Stage III\",\"Stage III\",\"Stage III\",\"Stage III\",\"Stage III\",\"Stage III\",\"Stage III\",\"Stage III\",\"Stage III\",\"Stage III\",\"Stage III\",\"Stage III\",\"Stage III\",\"Stage III\",\"Stage III\",\"Stage III\",\"Stage III\",\"Stage III\",\"Stage III\",\"Stage III\",\"Stage III\",\"Stage III\",\"Stage III\",\"Stage III\",\"Stage III\",\"Stage III\",\"Stage III\"],[\"Stage III\",\"Stage III\",\"Stage III\",\"Stage III\",\"Stage III\",\"Stage III\",\"Stage III\",\"Stage III\",\"Stage III\",\"Stage III\",\"Stage III\",\"Stage III\",\"Stage III\",\"Stage III\",\"Stage III\",\"Stage III\",\"Stage III\",\"Stage III\",\"Stage III\",\"Stage III\",\"Stage III\",\"Stage III\",\"Stage III\",\"Stage III\",\"Stage III\",\"Stage III\",\"Stage III\"],[null,null,null,null,null,null,null,null,null,null,null,null,null,null,null,null,null,null,null,null,null,null,null,null,null,null,null],[\"Stage III\",\"Stage III\",\"Stage III\",\"Stage III\",\"Stage III\",\"Stage III\",\"Stage III\",\"Stage III\",\"Stage III\",\"Stage III\",\"Stage III\",\"Stage III\",\"Stage III\",\"Stage III\",\"Stage III\",\"Stage III\",\"Stage III\",\"Stage III\",\"Stage III\",\"Stage III\",\"Stage III\",\"Stage III\",\"Stage III\",\"Stage III\",\"Stage III\",\"Stage III\",\"Stage III\"],[\"Stage II\",\"Stage II\",\"Stage II\",\"Stage II\",\"Stage II\",\"Stage II\",\"Stage II\",\"Stage II\",\"Stage II\",\"Stage II\",\"Stage II\",\"Stage II\",\"Stage II\",\"Stage II\",\"Stage II\",\"Stage II\",\"Stage II\",\"Stage II\",\"Stage II\",\"Stage II\",\"Stage II\",\"Stage II\",\"Stage II\",\"Stage II\",\"Stage II\",\"Stage II\",\"Stage II\"],[\"Stage II\",\"Stage II\",\"Stage II\",\"Stage II\",\"Stage II\",\"Stage II\",\"Stage II\",\"Stage II\",\"Stage II\",\"Stage II\",\"Stage II\",\"Stage II\",\"Stage II\",\"Stage II\",\"Stage II\",\"Stage II\",\"Stage II\",\"Stage II\",\"Stage II\",\"Stage II\",\"Stage II\",\"Stage II\",\"Stage II\",\"Stage II\",\"Stage II\",\"Stage II\",\"Stage II\"],[\"Stage II\",\"Stage II\",\"Stage II\",\"Stage II\",\"Stage II\",\"Stage II\",\"Stage II\",\"Stage II\",\"Stage II\",\"Stage II\",\"Stage II\",\"Stage II\",\"Stage II\",\"Stage II\",\"Stage II\",\"Stage II\",\"Stage II\",\"Stage II\",\"Stage II\",\"Stage II\",\"Stage II\",\"Stage II\",\"Stage II\",\"Stage II\",\"Stage II\",\"Stage II\",\"Stage II\"],[\"Stage II\",\"Stage II\",\"Stage II\",\"Stage II\",\"Stage II\",\"Stage II\",\"Stage II\",\"Stage II\",\"Stage II\",\"Stage II\",\"Stage II\",\"Stage II\",\"Stage II\",\"Stage II\",\"Stage II\",\"Stage II\",\"Stage II\",\"Stage II\",\"Stage II\",\"Stage II\",\"Stage II\",\"Stage II\",\"Stage II\",\"Stage II\",\"Stage II\",\"Stage II\",\"Stage II\"],[\"Stage III\",\"Stage III\",\"Stage III\",\"Stage III\",\"Stage III\",\"Stage III\",\"Stage III\",\"Stage III\",\"Stage III\",\"Stage III\",\"Stage III\",\"Stage III\",\"Stage III\",\"Stage III\",\"Stage III\",\"Stage III\",\"Stage III\",\"Stage III\",\"Stage III\",\"Stage III\",\"Stage III\",\"Stage III\",\"Stage III\",\"Stage III\",\"Stage III\",\"Stage III\",\"Stage III\"]]}],                        {\"template\":{\"data\":{\"histogram2dcontour\":[{\"type\":\"histogram2dcontour\",\"colorbar\":{\"outlinewidth\":0,\"ticks\":\"\"},\"colorscale\":[[0.0,\"#0d0887\"],[0.1111111111111111,\"#46039f\"],[0.2222222222222222,\"#7201a8\"],[0.3333333333333333,\"#9c179e\"],[0.4444444444444444,\"#bd3786\"],[0.5555555555555556,\"#d8576b\"],[0.6666666666666666,\"#ed7953\"],[0.7777777777777778,\"#fb9f3a\"],[0.8888888888888888,\"#fdca26\"],[1.0,\"#f0f921\"]]}],\"choropleth\":[{\"type\":\"choropleth\",\"colorbar\":{\"outlinewidth\":0,\"ticks\":\"\"}}],\"histogram2d\":[{\"type\":\"histogram2d\",\"colorbar\":{\"outlinewidth\":0,\"ticks\":\"\"},\"colorscale\":[[0.0,\"#0d0887\"],[0.1111111111111111,\"#46039f\"],[0.2222222222222222,\"#7201a8\"],[0.3333333333333333,\"#9c179e\"],[0.4444444444444444,\"#bd3786\"],[0.5555555555555556,\"#d8576b\"],[0.6666666666666666,\"#ed7953\"],[0.7777777777777778,\"#fb9f3a\"],[0.8888888888888888,\"#fdca26\"],[1.0,\"#f0f921\"]]}],\"heatmap\":[{\"type\":\"heatmap\",\"colorbar\":{\"outlinewidth\":0,\"ticks\":\"\"},\"colorscale\":[[0.0,\"#0d0887\"],[0.1111111111111111,\"#46039f\"],[0.2222222222222222,\"#7201a8\"],[0.3333333333333333,\"#9c179e\"],[0.4444444444444444,\"#bd3786\"],[0.5555555555555556,\"#d8576b\"],[0.6666666666666666,\"#ed7953\"],[0.7777777777777778,\"#fb9f3a\"],[0.8888888888888888,\"#fdca26\"],[1.0,\"#f0f921\"]]}],\"heatmapgl\":[{\"type\":\"heatmapgl\",\"colorbar\":{\"outlinewidth\":0,\"ticks\":\"\"},\"colorscale\":[[0.0,\"#0d0887\"],[0.1111111111111111,\"#46039f\"],[0.2222222222222222,\"#7201a8\"],[0.3333333333333333,\"#9c179e\"],[0.4444444444444444,\"#bd3786\"],[0.5555555555555556,\"#d8576b\"],[0.6666666666666666,\"#ed7953\"],[0.7777777777777778,\"#fb9f3a\"],[0.8888888888888888,\"#fdca26\"],[1.0,\"#f0f921\"]]}],\"contourcarpet\":[{\"type\":\"contourcarpet\",\"colorbar\":{\"outlinewidth\":0,\"ticks\":\"\"}}],\"contour\":[{\"type\":\"contour\",\"colorbar\":{\"outlinewidth\":0,\"ticks\":\"\"},\"colorscale\":[[0.0,\"#0d0887\"],[0.1111111111111111,\"#46039f\"],[0.2222222222222222,\"#7201a8\"],[0.3333333333333333,\"#9c179e\"],[0.4444444444444444,\"#bd3786\"],[0.5555555555555556,\"#d8576b\"],[0.6666666666666666,\"#ed7953\"],[0.7777777777777778,\"#fb9f3a\"],[0.8888888888888888,\"#fdca26\"],[1.0,\"#f0f921\"]]}],\"surface\":[{\"type\":\"surface\",\"colorbar\":{\"outlinewidth\":0,\"ticks\":\"\"},\"colorscale\":[[0.0,\"#0d0887\"],[0.1111111111111111,\"#46039f\"],[0.2222222222222222,\"#7201a8\"],[0.3333333333333333,\"#9c179e\"],[0.4444444444444444,\"#bd3786\"],[0.5555555555555556,\"#d8576b\"],[0.6666666666666666,\"#ed7953\"],[0.7777777777777778,\"#fb9f3a\"],[0.8888888888888888,\"#fdca26\"],[1.0,\"#f0f921\"]]}],\"mesh3d\":[{\"type\":\"mesh3d\",\"colorbar\":{\"outlinewidth\":0,\"ticks\":\"\"}}],\"scatter\":[{\"fillpattern\":{\"fillmode\":\"overlay\",\"size\":10,\"solidity\":0.2},\"type\":\"scatter\"}],\"parcoords\":[{\"type\":\"parcoords\",\"line\":{\"colorbar\":{\"outlinewidth\":0,\"ticks\":\"\"}}}],\"scatterpolargl\":[{\"type\":\"scatterpolargl\",\"marker\":{\"colorbar\":{\"outlinewidth\":0,\"ticks\":\"\"}}}],\"bar\":[{\"error_x\":{\"color\":\"#2a3f5f\"},\"error_y\":{\"color\":\"#2a3f5f\"},\"marker\":{\"line\":{\"color\":\"#E5ECF6\",\"width\":0.5},\"pattern\":{\"fillmode\":\"overlay\",\"size\":10,\"solidity\":0.2}},\"type\":\"bar\"}],\"scattergeo\":[{\"type\":\"scattergeo\",\"marker\":{\"colorbar\":{\"outlinewidth\":0,\"ticks\":\"\"}}}],\"scatterpolar\":[{\"type\":\"scatterpolar\",\"marker\":{\"colorbar\":{\"outlinewidth\":0,\"ticks\":\"\"}}}],\"histogram\":[{\"marker\":{\"pattern\":{\"fillmode\":\"overlay\",\"size\":10,\"solidity\":0.2}},\"type\":\"histogram\"}],\"scattergl\":[{\"type\":\"scattergl\",\"marker\":{\"colorbar\":{\"outlinewidth\":0,\"ticks\":\"\"}}}],\"scatter3d\":[{\"type\":\"scatter3d\",\"line\":{\"colorbar\":{\"outlinewidth\":0,\"ticks\":\"\"}},\"marker\":{\"colorbar\":{\"outlinewidth\":0,\"ticks\":\"\"}}}],\"scattermapbox\":[{\"type\":\"scattermapbox\",\"marker\":{\"colorbar\":{\"outlinewidth\":0,\"ticks\":\"\"}}}],\"scatterternary\":[{\"type\":\"scatterternary\",\"marker\":{\"colorbar\":{\"outlinewidth\":0,\"ticks\":\"\"}}}],\"scattercarpet\":[{\"type\":\"scattercarpet\",\"marker\":{\"colorbar\":{\"outlinewidth\":0,\"ticks\":\"\"}}}],\"carpet\":[{\"aaxis\":{\"endlinecolor\":\"#2a3f5f\",\"gridcolor\":\"white\",\"linecolor\":\"white\",\"minorgridcolor\":\"white\",\"startlinecolor\":\"#2a3f5f\"},\"baxis\":{\"endlinecolor\":\"#2a3f5f\",\"gridcolor\":\"white\",\"linecolor\":\"white\",\"minorgridcolor\":\"white\",\"startlinecolor\":\"#2a3f5f\"},\"type\":\"carpet\"}],\"table\":[{\"cells\":{\"fill\":{\"color\":\"#EBF0F8\"},\"line\":{\"color\":\"white\"}},\"header\":{\"fill\":{\"color\":\"#C8D4E3\"},\"line\":{\"color\":\"white\"}},\"type\":\"table\"}],\"barpolar\":[{\"marker\":{\"line\":{\"color\":\"#E5ECF6\",\"width\":0.5},\"pattern\":{\"fillmode\":\"overlay\",\"size\":10,\"solidity\":0.2}},\"type\":\"barpolar\"}],\"pie\":[{\"automargin\":true,\"type\":\"pie\"}]},\"layout\":{\"autotypenumbers\":\"strict\",\"colorway\":[\"#636efa\",\"#EF553B\",\"#00cc96\",\"#ab63fa\",\"#FFA15A\",\"#19d3f3\",\"#FF6692\",\"#B6E880\",\"#FF97FF\",\"#FECB52\"],\"font\":{\"color\":\"#2a3f5f\"},\"hovermode\":\"closest\",\"hoverlabel\":{\"align\":\"left\"},\"paper_bgcolor\":\"white\",\"plot_bgcolor\":\"#E5ECF6\",\"polar\":{\"bgcolor\":\"#E5ECF6\",\"angularaxis\":{\"gridcolor\":\"white\",\"linecolor\":\"white\",\"ticks\":\"\"},\"radialaxis\":{\"gridcolor\":\"white\",\"linecolor\":\"white\",\"ticks\":\"\"}},\"ternary\":{\"bgcolor\":\"#E5ECF6\",\"aaxis\":{\"gridcolor\":\"white\",\"linecolor\":\"white\",\"ticks\":\"\"},\"baxis\":{\"gridcolor\":\"white\",\"linecolor\":\"white\",\"ticks\":\"\"},\"caxis\":{\"gridcolor\":\"white\",\"linecolor\":\"white\",\"ticks\":\"\"}},\"coloraxis\":{\"colorbar\":{\"outlinewidth\":0,\"ticks\":\"\"}},\"colorscale\":{\"sequential\":[[0.0,\"#0d0887\"],[0.1111111111111111,\"#46039f\"],[0.2222222222222222,\"#7201a8\"],[0.3333333333333333,\"#9c179e\"],[0.4444444444444444,\"#bd3786\"],[0.5555555555555556,\"#d8576b\"],[0.6666666666666666,\"#ed7953\"],[0.7777777777777778,\"#fb9f3a\"],[0.8888888888888888,\"#fdca26\"],[1.0,\"#f0f921\"]],\"sequentialminus\":[[0.0,\"#0d0887\"],[0.1111111111111111,\"#46039f\"],[0.2222222222222222,\"#7201a8\"],[0.3333333333333333,\"#9c179e\"],[0.4444444444444444,\"#bd3786\"],[0.5555555555555556,\"#d8576b\"],[0.6666666666666666,\"#ed7953\"],[0.7777777777777778,\"#fb9f3a\"],[0.8888888888888888,\"#fdca26\"],[1.0,\"#f0f921\"]],\"diverging\":[[0,\"#8e0152\"],[0.1,\"#c51b7d\"],[0.2,\"#de77ae\"],[0.3,\"#f1b6da\"],[0.4,\"#fde0ef\"],[0.5,\"#f7f7f7\"],[0.6,\"#e6f5d0\"],[0.7,\"#b8e186\"],[0.8,\"#7fbc41\"],[0.9,\"#4d9221\"],[1,\"#276419\"]]},\"xaxis\":{\"gridcolor\":\"white\",\"linecolor\":\"white\",\"ticks\":\"\",\"title\":{\"standoff\":15},\"zerolinecolor\":\"white\",\"automargin\":true,\"zerolinewidth\":2},\"yaxis\":{\"gridcolor\":\"white\",\"linecolor\":\"white\",\"ticks\":\"\",\"title\":{\"standoff\":15},\"zerolinecolor\":\"white\",\"automargin\":true,\"zerolinewidth\":2},\"scene\":{\"xaxis\":{\"backgroundcolor\":\"#E5ECF6\",\"gridcolor\":\"white\",\"linecolor\":\"white\",\"showbackground\":true,\"ticks\":\"\",\"zerolinecolor\":\"white\",\"gridwidth\":2},\"yaxis\":{\"backgroundcolor\":\"#E5ECF6\",\"gridcolor\":\"white\",\"linecolor\":\"white\",\"showbackground\":true,\"ticks\":\"\",\"zerolinecolor\":\"white\",\"gridwidth\":2},\"zaxis\":{\"backgroundcolor\":\"#E5ECF6\",\"gridcolor\":\"white\",\"linecolor\":\"white\",\"showbackground\":true,\"ticks\":\"\",\"zerolinecolor\":\"white\",\"gridwidth\":2}},\"shapedefaults\":{\"line\":{\"color\":\"#2a3f5f\"}},\"annotationdefaults\":{\"arrowcolor\":\"#2a3f5f\",\"arrowhead\":0,\"arrowwidth\":1},\"geo\":{\"bgcolor\":\"white\",\"landcolor\":\"#E5ECF6\",\"subunitcolor\":\"white\",\"showland\":true,\"showlakes\":true,\"lakecolor\":\"white\"},\"title\":{\"x\":0.05},\"mapbox\":{\"style\":\"light\"}}},\"xaxis\":{\"anchor\":\"y\",\"domain\":[0.0,1.0],\"scaleanchor\":\"y\",\"constrain\":\"domain\",\"title\":{\"text\":\"Gene\"}},\"yaxis\":{\"anchor\":\"x\",\"domain\":[0.0,1.0],\"autorange\":\"reversed\",\"constrain\":\"domain\",\"title\":{\"text\":\"Case\"}},\"coloraxis\":{\"colorbar\":{\"title\":{\"text\":\"Expression Level\"}},\"colorscale\":[[0.0,\"rgb(247,251,255)\"],[0.125,\"rgb(222,235,247)\"],[0.25,\"rgb(198,219,239)\"],[0.375,\"rgb(158,202,225)\"],[0.5,\"rgb(107,174,214)\"],[0.625,\"rgb(66,146,198)\"],[0.75,\"rgb(33,113,181)\"],[0.875,\"rgb(8,81,156)\"],[1.0,\"rgb(8,48,107)\"]],\"cmin\":-2,\"cmax\":30},\"title\":{\"text\":\"Heatmap of Gene Expression Levels\"}},                        {\"responsive\": true}                    ).then(function(){\n",
       "                            \n",
       "var gd = document.getElementById('fa95f0b0-71b4-4edc-8c47-ba357946ddea');\n",
       "var x = new MutationObserver(function (mutations, observer) {{\n",
       "        var display = window.getComputedStyle(gd).display;\n",
       "        if (!display || display === 'none') {{\n",
       "            console.log([gd, 'removed!']);\n",
       "            Plotly.purge(gd);\n",
       "            observer.disconnect();\n",
       "        }}\n",
       "}});\n",
       "\n",
       "// Listen for the removal of the full notebook cells\n",
       "var notebookContainer = gd.closest('#notebook-container');\n",
       "if (notebookContainer) {{\n",
       "    x.observe(notebookContainer, {childList: true});\n",
       "}}\n",
       "\n",
       "// Listen for the clearing of the current output cell\n",
       "var outputEl = gd.closest('.output');\n",
       "if (outputEl) {{\n",
       "    x.observe(outputEl, {childList: true});\n",
       "}}\n",
       "\n",
       "                        })                };                });            </script>        </div>"
      ]
     },
     "metadata": {},
     "output_type": "display_data"
    }
   ],
   "source": [
    "# Add Cancer Stage as hover information\n",
    "custom_hover_data = df_drop_Clean.set_index(['Case', 'Gene'])['Cancer Stage']\n",
    "\n",
    "# Create the heatmap\n",
    "fig = px.imshow(\n",
    "    heatmap_data.values,\n",
    "    labels=dict(x=\"Gene\", y=\"Case\", color=\"Expression Level\"),\n",
    "    x=heatmap_data.columns,\n",
    "    y=heatmap_data.index,\n",
    "    color_continuous_scale=\"Blues\",\n",
    "    range_color=(-2, 30),\n",
    "    title=\"Heatmap of Gene Expression Levels\"\n",
    ")\n",
    "\n",
    "# Customize hover with Cancer Stage\n",
    "fig.update_traces(\n",
    "    hovertemplate=(\n",
    "        \"Gene: %{x}<br>\"\n",
    "        \"Case: %{y}<br>\"\n",
    "        \"Expression: %{z:.2f}<br>\"\n",
    "        \"Cancer Stage: %{customdata}\"\n",
    "    ),\n",
    "    customdata=custom_hover_data.reset_index().pivot(index='Case', columns='Gene')['Cancer Stage'].values\n",
    ")\n",
    "\n",
    "fig.show()\n"
   ]
  },
  {
   "cell_type": "code",
   "execution_count": 195,
   "id": "9d639acd-9c84-4071-b14f-195359accc6e",
   "metadata": {},
   "outputs": [],
   "source": [
    "# df_drop_Clean['Cancer Stage'].fillna('Unknown', inplace=True)  # Replace NaNs with 'Unknown'\n"
   ]
  },
  {
   "cell_type": "code",
   "execution_count": 196,
   "id": "63d3bcef-571e-4ea7-a761-0cc0eae23546",
   "metadata": {},
   "outputs": [],
   "source": [
    "# filter by a list of genes and cases\n",
    "# case_list = [\n",
    "#     'TCGA-AC-A2QJ', 'TCGA-FA-A7DS', 'TCGA-A2-A4S1', 'TCGA-AR-A5QQ',\n",
    "#     'TCGA-E9-A5FL', 'TCGA-E2-A1LL', 'TCGA-E2-A572', 'TCGA-A7-A56D',\n",
    "#     'TCGA-E2-A1LS', 'TCGA-AC-A2QH'\n",
    "# ]\n",
    "\n",
    "# gene_list = [\n",
    "#     'TP53INP1', 'CDH1', 'ALDH1A1', 'CD44', 'CCND1', 'CCND2', 'TOP2A',\n",
    "#     'DUSP4', 'ERBB2', 'ERBB3', 'CDK6', 'LAMP5'\n",
    "# ]\n",
    "\n",
    "# # Filter the dataframe based on 'Case' and 'Gene' columns\n",
    "# filtered_df = df_drop_Clean[df_drop_Clean['Case'].isin(case_list) & df_drop_Clean['Gene'].isin(gene_list)]"
   ]
  },
  {
   "cell_type": "code",
   "execution_count": 197,
   "id": "98eabe05-d7a3-47c0-8506-daa91f8dc53b",
   "metadata": {},
   "outputs": [],
   "source": [
    "# Group data and calculate mean expression\n",
    "aggregated_data = df_drop_Clean.groupby(\n",
    "    ['Case', 'Cancer Stage', 'ajcc_pathologic_n', 'ajcc_pathologic_m', 'ajcc_pathologic_t', 'ajcc_pathologic_stage'], as_index=False\n",
    ").agg({'Expression': 'mean'})"
   ]
  },
  {
   "cell_type": "code",
   "execution_count": 198,
   "id": "14b7cce5-2c12-4907-8ec2-0bbedb8b8038",
   "metadata": {},
   "outputs": [
    {
     "data": {
      "text/html": [
       "<div>\n",
       "<style scoped>\n",
       "    .dataframe tbody tr th:only-of-type {\n",
       "        vertical-align: middle;\n",
       "    }\n",
       "\n",
       "    .dataframe tbody tr th {\n",
       "        vertical-align: top;\n",
       "    }\n",
       "\n",
       "    .dataframe thead th {\n",
       "        text-align: right;\n",
       "    }\n",
       "</style>\n",
       "<table border=\"1\" class=\"dataframe\">\n",
       "  <thead>\n",
       "    <tr style=\"text-align: right;\">\n",
       "      <th></th>\n",
       "      <th>Case</th>\n",
       "      <th>Cancer Stage</th>\n",
       "      <th>ajcc_pathologic_n</th>\n",
       "      <th>ajcc_pathologic_m</th>\n",
       "      <th>ajcc_pathologic_t</th>\n",
       "      <th>ajcc_pathologic_stage</th>\n",
       "      <th>Expression</th>\n",
       "    </tr>\n",
       "  </thead>\n",
       "  <tbody>\n",
       "    <tr>\n",
       "      <th>0</th>\n",
       "      <td>TCGA-A1-A0SK</td>\n",
       "      <td>Stage II</td>\n",
       "      <td>N0 (i-)</td>\n",
       "      <td>M0</td>\n",
       "      <td>T2</td>\n",
       "      <td>Stage IIA</td>\n",
       "      <td>0.870588</td>\n",
       "    </tr>\n",
       "    <tr>\n",
       "      <th>1</th>\n",
       "      <td>TCGA-A2-A0CO</td>\n",
       "      <td>Stage II</td>\n",
       "      <td>N0</td>\n",
       "      <td>M0</td>\n",
       "      <td>T3</td>\n",
       "      <td>Stage IIB</td>\n",
       "      <td>-0.049582</td>\n",
       "    </tr>\n",
       "    <tr>\n",
       "      <th>2</th>\n",
       "      <td>TCGA-A2-A0CY</td>\n",
       "      <td>Stage II</td>\n",
       "      <td>N1</td>\n",
       "      <td>M0</td>\n",
       "      <td>T2</td>\n",
       "      <td>Stage IIB</td>\n",
       "      <td>0.241313</td>\n",
       "    </tr>\n",
       "    <tr>\n",
       "      <th>3</th>\n",
       "      <td>TCGA-A2-A3XV</td>\n",
       "      <td>Stage II</td>\n",
       "      <td>N0</td>\n",
       "      <td>M0</td>\n",
       "      <td>T2</td>\n",
       "      <td>Stage IIA</td>\n",
       "      <td>-0.034559</td>\n",
       "    </tr>\n",
       "    <tr>\n",
       "      <th>4</th>\n",
       "      <td>TCGA-A2-A3XW</td>\n",
       "      <td>Stage II</td>\n",
       "      <td>N1a</td>\n",
       "      <td>M0</td>\n",
       "      <td>T2</td>\n",
       "      <td>Stage IIB</td>\n",
       "      <td>0.111374</td>\n",
       "    </tr>\n",
       "  </tbody>\n",
       "</table>\n",
       "</div>"
      ],
      "text/plain": [
       "           Case Cancer Stage ajcc_pathologic_n ajcc_pathologic_m  \\\n",
       "0  TCGA-A1-A0SK     Stage II           N0 (i-)                M0   \n",
       "1  TCGA-A2-A0CO     Stage II                N0                M0   \n",
       "2  TCGA-A2-A0CY     Stage II                N1                M0   \n",
       "3  TCGA-A2-A3XV     Stage II                N0                M0   \n",
       "4  TCGA-A2-A3XW     Stage II               N1a                M0   \n",
       "\n",
       "  ajcc_pathologic_t ajcc_pathologic_stage  Expression  \n",
       "0                T2             Stage IIA    0.870588  \n",
       "1                T3             Stage IIB   -0.049582  \n",
       "2                T2             Stage IIB    0.241313  \n",
       "3                T2             Stage IIA   -0.034559  \n",
       "4                T2             Stage IIB    0.111374  "
      ]
     },
     "execution_count": 198,
     "metadata": {},
     "output_type": "execute_result"
    }
   ],
   "source": [
    "#note this does not have expression information\n",
    "aggregated_data.head()"
   ]
  },
  {
   "cell_type": "code",
   "execution_count": 199,
   "id": "3e3231c1-f76e-4c1b-b28b-a6dce76cab4a",
   "metadata": {},
   "outputs": [
    {
     "data": {
      "application/vnd.plotly.v1+json": {
       "config": {
        "plotlyServerURL": "https://plot.ly"
       },
       "data": [
        {
         "alignmentgroup": "True",
         "hovertemplate": "AJCC Pathologic Stage=%{x}<br>Number of Cases=%{text}<extra></extra>",
         "legendgroup": "",
         "marker": {
          "color": "lightblue",
          "line": {
           "color": "black",
           "width": 1
          },
          "pattern": {
           "shape": ""
          }
         },
         "name": "",
         "offsetgroup": "",
         "orientation": "v",
         "showlegend": false,
         "text": [
          1,
          34,
          8
         ],
         "textposition": "outside",
         "type": "bar",
         "x": [
          "Stage I",
          "Stage II",
          "Stage III"
         ],
         "xaxis": "x",
         "y": [
          1,
          34,
          8
         ],
         "yaxis": "y"
        }
       ],
       "layout": {
        "autosize": true,
        "barmode": "relative",
        "legend": {
         "tracegroupgap": 0
        },
        "template": {
         "data": {
          "bar": [
           {
            "error_x": {
             "color": "#2a3f5f"
            },
            "error_y": {
             "color": "#2a3f5f"
            },
            "marker": {
             "line": {
              "color": "#E5ECF6",
              "width": 0.5
             },
             "pattern": {
              "fillmode": "overlay",
              "size": 10,
              "solidity": 0.2
             }
            },
            "type": "bar"
           }
          ],
          "barpolar": [
           {
            "marker": {
             "line": {
              "color": "#E5ECF6",
              "width": 0.5
             },
             "pattern": {
              "fillmode": "overlay",
              "size": 10,
              "solidity": 0.2
             }
            },
            "type": "barpolar"
           }
          ],
          "carpet": [
           {
            "aaxis": {
             "endlinecolor": "#2a3f5f",
             "gridcolor": "white",
             "linecolor": "white",
             "minorgridcolor": "white",
             "startlinecolor": "#2a3f5f"
            },
            "baxis": {
             "endlinecolor": "#2a3f5f",
             "gridcolor": "white",
             "linecolor": "white",
             "minorgridcolor": "white",
             "startlinecolor": "#2a3f5f"
            },
            "type": "carpet"
           }
          ],
          "choropleth": [
           {
            "colorbar": {
             "outlinewidth": 0,
             "ticks": ""
            },
            "type": "choropleth"
           }
          ],
          "contour": [
           {
            "colorbar": {
             "outlinewidth": 0,
             "ticks": ""
            },
            "colorscale": [
             [
              0,
              "#0d0887"
             ],
             [
              0.1111111111111111,
              "#46039f"
             ],
             [
              0.2222222222222222,
              "#7201a8"
             ],
             [
              0.3333333333333333,
              "#9c179e"
             ],
             [
              0.4444444444444444,
              "#bd3786"
             ],
             [
              0.5555555555555556,
              "#d8576b"
             ],
             [
              0.6666666666666666,
              "#ed7953"
             ],
             [
              0.7777777777777778,
              "#fb9f3a"
             ],
             [
              0.8888888888888888,
              "#fdca26"
             ],
             [
              1,
              "#f0f921"
             ]
            ],
            "type": "contour"
           }
          ],
          "contourcarpet": [
           {
            "colorbar": {
             "outlinewidth": 0,
             "ticks": ""
            },
            "type": "contourcarpet"
           }
          ],
          "heatmap": [
           {
            "colorbar": {
             "outlinewidth": 0,
             "ticks": ""
            },
            "colorscale": [
             [
              0,
              "#0d0887"
             ],
             [
              0.1111111111111111,
              "#46039f"
             ],
             [
              0.2222222222222222,
              "#7201a8"
             ],
             [
              0.3333333333333333,
              "#9c179e"
             ],
             [
              0.4444444444444444,
              "#bd3786"
             ],
             [
              0.5555555555555556,
              "#d8576b"
             ],
             [
              0.6666666666666666,
              "#ed7953"
             ],
             [
              0.7777777777777778,
              "#fb9f3a"
             ],
             [
              0.8888888888888888,
              "#fdca26"
             ],
             [
              1,
              "#f0f921"
             ]
            ],
            "type": "heatmap"
           }
          ],
          "heatmapgl": [
           {
            "colorbar": {
             "outlinewidth": 0,
             "ticks": ""
            },
            "colorscale": [
             [
              0,
              "#0d0887"
             ],
             [
              0.1111111111111111,
              "#46039f"
             ],
             [
              0.2222222222222222,
              "#7201a8"
             ],
             [
              0.3333333333333333,
              "#9c179e"
             ],
             [
              0.4444444444444444,
              "#bd3786"
             ],
             [
              0.5555555555555556,
              "#d8576b"
             ],
             [
              0.6666666666666666,
              "#ed7953"
             ],
             [
              0.7777777777777778,
              "#fb9f3a"
             ],
             [
              0.8888888888888888,
              "#fdca26"
             ],
             [
              1,
              "#f0f921"
             ]
            ],
            "type": "heatmapgl"
           }
          ],
          "histogram": [
           {
            "marker": {
             "pattern": {
              "fillmode": "overlay",
              "size": 10,
              "solidity": 0.2
             }
            },
            "type": "histogram"
           }
          ],
          "histogram2d": [
           {
            "colorbar": {
             "outlinewidth": 0,
             "ticks": ""
            },
            "colorscale": [
             [
              0,
              "#0d0887"
             ],
             [
              0.1111111111111111,
              "#46039f"
             ],
             [
              0.2222222222222222,
              "#7201a8"
             ],
             [
              0.3333333333333333,
              "#9c179e"
             ],
             [
              0.4444444444444444,
              "#bd3786"
             ],
             [
              0.5555555555555556,
              "#d8576b"
             ],
             [
              0.6666666666666666,
              "#ed7953"
             ],
             [
              0.7777777777777778,
              "#fb9f3a"
             ],
             [
              0.8888888888888888,
              "#fdca26"
             ],
             [
              1,
              "#f0f921"
             ]
            ],
            "type": "histogram2d"
           }
          ],
          "histogram2dcontour": [
           {
            "colorbar": {
             "outlinewidth": 0,
             "ticks": ""
            },
            "colorscale": [
             [
              0,
              "#0d0887"
             ],
             [
              0.1111111111111111,
              "#46039f"
             ],
             [
              0.2222222222222222,
              "#7201a8"
             ],
             [
              0.3333333333333333,
              "#9c179e"
             ],
             [
              0.4444444444444444,
              "#bd3786"
             ],
             [
              0.5555555555555556,
              "#d8576b"
             ],
             [
              0.6666666666666666,
              "#ed7953"
             ],
             [
              0.7777777777777778,
              "#fb9f3a"
             ],
             [
              0.8888888888888888,
              "#fdca26"
             ],
             [
              1,
              "#f0f921"
             ]
            ],
            "type": "histogram2dcontour"
           }
          ],
          "mesh3d": [
           {
            "colorbar": {
             "outlinewidth": 0,
             "ticks": ""
            },
            "type": "mesh3d"
           }
          ],
          "parcoords": [
           {
            "line": {
             "colorbar": {
              "outlinewidth": 0,
              "ticks": ""
             }
            },
            "type": "parcoords"
           }
          ],
          "pie": [
           {
            "automargin": true,
            "type": "pie"
           }
          ],
          "scatter": [
           {
            "fillpattern": {
             "fillmode": "overlay",
             "size": 10,
             "solidity": 0.2
            },
            "type": "scatter"
           }
          ],
          "scatter3d": [
           {
            "line": {
             "colorbar": {
              "outlinewidth": 0,
              "ticks": ""
             }
            },
            "marker": {
             "colorbar": {
              "outlinewidth": 0,
              "ticks": ""
             }
            },
            "type": "scatter3d"
           }
          ],
          "scattercarpet": [
           {
            "marker": {
             "colorbar": {
              "outlinewidth": 0,
              "ticks": ""
             }
            },
            "type": "scattercarpet"
           }
          ],
          "scattergeo": [
           {
            "marker": {
             "colorbar": {
              "outlinewidth": 0,
              "ticks": ""
             }
            },
            "type": "scattergeo"
           }
          ],
          "scattergl": [
           {
            "marker": {
             "colorbar": {
              "outlinewidth": 0,
              "ticks": ""
             }
            },
            "type": "scattergl"
           }
          ],
          "scattermapbox": [
           {
            "marker": {
             "colorbar": {
              "outlinewidth": 0,
              "ticks": ""
             }
            },
            "type": "scattermapbox"
           }
          ],
          "scatterpolar": [
           {
            "marker": {
             "colorbar": {
              "outlinewidth": 0,
              "ticks": ""
             }
            },
            "type": "scatterpolar"
           }
          ],
          "scatterpolargl": [
           {
            "marker": {
             "colorbar": {
              "outlinewidth": 0,
              "ticks": ""
             }
            },
            "type": "scatterpolargl"
           }
          ],
          "scatterternary": [
           {
            "marker": {
             "colorbar": {
              "outlinewidth": 0,
              "ticks": ""
             }
            },
            "type": "scatterternary"
           }
          ],
          "surface": [
           {
            "colorbar": {
             "outlinewidth": 0,
             "ticks": ""
            },
            "colorscale": [
             [
              0,
              "#0d0887"
             ],
             [
              0.1111111111111111,
              "#46039f"
             ],
             [
              0.2222222222222222,
              "#7201a8"
             ],
             [
              0.3333333333333333,
              "#9c179e"
             ],
             [
              0.4444444444444444,
              "#bd3786"
             ],
             [
              0.5555555555555556,
              "#d8576b"
             ],
             [
              0.6666666666666666,
              "#ed7953"
             ],
             [
              0.7777777777777778,
              "#fb9f3a"
             ],
             [
              0.8888888888888888,
              "#fdca26"
             ],
             [
              1,
              "#f0f921"
             ]
            ],
            "type": "surface"
           }
          ],
          "table": [
           {
            "cells": {
             "fill": {
              "color": "#EBF0F8"
             },
             "line": {
              "color": "white"
             }
            },
            "header": {
             "fill": {
              "color": "#C8D4E3"
             },
             "line": {
              "color": "white"
             }
            },
            "type": "table"
           }
          ]
         },
         "layout": {
          "annotationdefaults": {
           "arrowcolor": "#2a3f5f",
           "arrowhead": 0,
           "arrowwidth": 1
          },
          "autotypenumbers": "strict",
          "coloraxis": {
           "colorbar": {
            "outlinewidth": 0,
            "ticks": ""
           }
          },
          "colorscale": {
           "diverging": [
            [
             0,
             "#8e0152"
            ],
            [
             0.1,
             "#c51b7d"
            ],
            [
             0.2,
             "#de77ae"
            ],
            [
             0.3,
             "#f1b6da"
            ],
            [
             0.4,
             "#fde0ef"
            ],
            [
             0.5,
             "#f7f7f7"
            ],
            [
             0.6,
             "#e6f5d0"
            ],
            [
             0.7,
             "#b8e186"
            ],
            [
             0.8,
             "#7fbc41"
            ],
            [
             0.9,
             "#4d9221"
            ],
            [
             1,
             "#276419"
            ]
           ],
           "sequential": [
            [
             0,
             "#0d0887"
            ],
            [
             0.1111111111111111,
             "#46039f"
            ],
            [
             0.2222222222222222,
             "#7201a8"
            ],
            [
             0.3333333333333333,
             "#9c179e"
            ],
            [
             0.4444444444444444,
             "#bd3786"
            ],
            [
             0.5555555555555556,
             "#d8576b"
            ],
            [
             0.6666666666666666,
             "#ed7953"
            ],
            [
             0.7777777777777778,
             "#fb9f3a"
            ],
            [
             0.8888888888888888,
             "#fdca26"
            ],
            [
             1,
             "#f0f921"
            ]
           ],
           "sequentialminus": [
            [
             0,
             "#0d0887"
            ],
            [
             0.1111111111111111,
             "#46039f"
            ],
            [
             0.2222222222222222,
             "#7201a8"
            ],
            [
             0.3333333333333333,
             "#9c179e"
            ],
            [
             0.4444444444444444,
             "#bd3786"
            ],
            [
             0.5555555555555556,
             "#d8576b"
            ],
            [
             0.6666666666666666,
             "#ed7953"
            ],
            [
             0.7777777777777778,
             "#fb9f3a"
            ],
            [
             0.8888888888888888,
             "#fdca26"
            ],
            [
             1,
             "#f0f921"
            ]
           ]
          },
          "colorway": [
           "#636efa",
           "#EF553B",
           "#00cc96",
           "#ab63fa",
           "#FFA15A",
           "#19d3f3",
           "#FF6692",
           "#B6E880",
           "#FF97FF",
           "#FECB52"
          ],
          "font": {
           "color": "#2a3f5f"
          },
          "geo": {
           "bgcolor": "white",
           "lakecolor": "white",
           "landcolor": "#E5ECF6",
           "showlakes": true,
           "showland": true,
           "subunitcolor": "white"
          },
          "hoverlabel": {
           "align": "left"
          },
          "hovermode": "closest",
          "mapbox": {
           "style": "light"
          },
          "paper_bgcolor": "white",
          "plot_bgcolor": "#E5ECF6",
          "polar": {
           "angularaxis": {
            "gridcolor": "white",
            "linecolor": "white",
            "ticks": ""
           },
           "bgcolor": "#E5ECF6",
           "radialaxis": {
            "gridcolor": "white",
            "linecolor": "white",
            "ticks": ""
           }
          },
          "scene": {
           "xaxis": {
            "backgroundcolor": "#E5ECF6",
            "gridcolor": "white",
            "gridwidth": 2,
            "linecolor": "white",
            "showbackground": true,
            "ticks": "",
            "zerolinecolor": "white"
           },
           "yaxis": {
            "backgroundcolor": "#E5ECF6",
            "gridcolor": "white",
            "gridwidth": 2,
            "linecolor": "white",
            "showbackground": true,
            "ticks": "",
            "zerolinecolor": "white"
           },
           "zaxis": {
            "backgroundcolor": "#E5ECF6",
            "gridcolor": "white",
            "gridwidth": 2,
            "linecolor": "white",
            "showbackground": true,
            "ticks": "",
            "zerolinecolor": "white"
           }
          },
          "shapedefaults": {
           "line": {
            "color": "#2a3f5f"
           }
          },
          "ternary": {
           "aaxis": {
            "gridcolor": "white",
            "linecolor": "white",
            "ticks": ""
           },
           "baxis": {
            "gridcolor": "white",
            "linecolor": "white",
            "ticks": ""
           },
           "bgcolor": "#E5ECF6",
           "caxis": {
            "gridcolor": "white",
            "linecolor": "white",
            "ticks": ""
           }
          },
          "title": {
           "x": 0.05
          },
          "xaxis": {
           "automargin": true,
           "gridcolor": "white",
           "linecolor": "white",
           "ticks": "",
           "title": {
            "standoff": 15
           },
           "zerolinecolor": "white",
           "zerolinewidth": 2
          },
          "yaxis": {
           "automargin": true,
           "gridcolor": "white",
           "linecolor": "white",
           "ticks": "",
           "title": {
            "standoff": 15
           },
           "zerolinecolor": "white",
           "zerolinewidth": 2
          }
         }
        },
        "title": {
         "text": "Distribution of Cases by AJCC Pathologic Stage"
        },
        "xaxis": {
         "anchor": "y",
         "autorange": true,
         "domain": [
          0,
          1
         ],
         "range": [
          -0.5,
          2.5
         ],
         "tickangle": 45,
         "title": {
          "text": "AJCC Pathologic Stage"
         },
         "type": "category"
        },
        "yaxis": {
         "anchor": "x",
         "autorange": true,
         "domain": [
          0,
          1
         ],
         "range": [
          0,
          35.78947368421053
         ],
         "title": {
          "text": "Number of Cases"
         },
         "type": "linear"
        }
       }
      },
      "image/png": "[encoded data removed]",
      "text/html": [
       "<div>                            <div id=\"d424b7c9-3c28-4072-a62a-623a5543eae6\" class=\"plotly-graph-div\" style=\"height:525px; width:100%;\"></div>            <script type=\"text/javascript\">                require([\"plotly\"], function(Plotly) {                    window.PLOTLYENV=window.PLOTLYENV || {};                                    if (document.getElementById(\"d424b7c9-3c28-4072-a62a-623a5543eae6\")) {                    Plotly.newPlot(                        \"d424b7c9-3c28-4072-a62a-623a5543eae6\",                        [{\"alignmentgroup\":\"True\",\"hovertemplate\":\"AJCC Pathologic Stage=%{x}\\u003cbr\\u003eNumber of Cases=%{text}\\u003cextra\\u003e\\u003c\\u002fextra\\u003e\",\"legendgroup\":\"\",\"marker\":{\"color\":\"lightblue\",\"pattern\":{\"shape\":\"\"},\"line\":{\"color\":\"black\",\"width\":1}},\"name\":\"\",\"offsetgroup\":\"\",\"orientation\":\"v\",\"showlegend\":false,\"text\":[1.0,34.0,8.0],\"textposition\":\"outside\",\"x\":[\"Stage I\",\"Stage II\",\"Stage III\"],\"xaxis\":\"x\",\"y\":[1,34,8],\"yaxis\":\"y\",\"type\":\"bar\"}],                        {\"template\":{\"data\":{\"histogram2dcontour\":[{\"type\":\"histogram2dcontour\",\"colorbar\":{\"outlinewidth\":0,\"ticks\":\"\"},\"colorscale\":[[0.0,\"#0d0887\"],[0.1111111111111111,\"#46039f\"],[0.2222222222222222,\"#7201a8\"],[0.3333333333333333,\"#9c179e\"],[0.4444444444444444,\"#bd3786\"],[0.5555555555555556,\"#d8576b\"],[0.6666666666666666,\"#ed7953\"],[0.7777777777777778,\"#fb9f3a\"],[0.8888888888888888,\"#fdca26\"],[1.0,\"#f0f921\"]]}],\"choropleth\":[{\"type\":\"choropleth\",\"colorbar\":{\"outlinewidth\":0,\"ticks\":\"\"}}],\"histogram2d\":[{\"type\":\"histogram2d\",\"colorbar\":{\"outlinewidth\":0,\"ticks\":\"\"},\"colorscale\":[[0.0,\"#0d0887\"],[0.1111111111111111,\"#46039f\"],[0.2222222222222222,\"#7201a8\"],[0.3333333333333333,\"#9c179e\"],[0.4444444444444444,\"#bd3786\"],[0.5555555555555556,\"#d8576b\"],[0.6666666666666666,\"#ed7953\"],[0.7777777777777778,\"#fb9f3a\"],[0.8888888888888888,\"#fdca26\"],[1.0,\"#f0f921\"]]}],\"heatmap\":[{\"type\":\"heatmap\",\"colorbar\":{\"outlinewidth\":0,\"ticks\":\"\"},\"colorscale\":[[0.0,\"#0d0887\"],[0.1111111111111111,\"#46039f\"],[0.2222222222222222,\"#7201a8\"],[0.3333333333333333,\"#9c179e\"],[0.4444444444444444,\"#bd3786\"],[0.5555555555555556,\"#d8576b\"],[0.6666666666666666,\"#ed7953\"],[0.7777777777777778,\"#fb9f3a\"],[0.8888888888888888,\"#fdca26\"],[1.0,\"#f0f921\"]]}],\"heatmapgl\":[{\"type\":\"heatmapgl\",\"colorbar\":{\"outlinewidth\":0,\"ticks\":\"\"},\"colorscale\":[[0.0,\"#0d0887\"],[0.1111111111111111,\"#46039f\"],[0.2222222222222222,\"#7201a8\"],[0.3333333333333333,\"#9c179e\"],[0.4444444444444444,\"#bd3786\"],[0.5555555555555556,\"#d8576b\"],[0.6666666666666666,\"#ed7953\"],[0.7777777777777778,\"#fb9f3a\"],[0.8888888888888888,\"#fdca26\"],[1.0,\"#f0f921\"]]}],\"contourcarpet\":[{\"type\":\"contourcarpet\",\"colorbar\":{\"outlinewidth\":0,\"ticks\":\"\"}}],\"contour\":[{\"type\":\"contour\",\"colorbar\":{\"outlinewidth\":0,\"ticks\":\"\"},\"colorscale\":[[0.0,\"#0d0887\"],[0.1111111111111111,\"#46039f\"],[0.2222222222222222,\"#7201a8\"],[0.3333333333333333,\"#9c179e\"],[0.4444444444444444,\"#bd3786\"],[0.5555555555555556,\"#d8576b\"],[0.6666666666666666,\"#ed7953\"],[0.7777777777777778,\"#fb9f3a\"],[0.8888888888888888,\"#fdca26\"],[1.0,\"#f0f921\"]]}],\"surface\":[{\"type\":\"surface\",\"colorbar\":{\"outlinewidth\":0,\"ticks\":\"\"},\"colorscale\":[[0.0,\"#0d0887\"],[0.1111111111111111,\"#46039f\"],[0.2222222222222222,\"#7201a8\"],[0.3333333333333333,\"#9c179e\"],[0.4444444444444444,\"#bd3786\"],[0.5555555555555556,\"#d8576b\"],[0.6666666666666666,\"#ed7953\"],[0.7777777777777778,\"#fb9f3a\"],[0.8888888888888888,\"#fdca26\"],[1.0,\"#f0f921\"]]}],\"mesh3d\":[{\"type\":\"mesh3d\",\"colorbar\":{\"outlinewidth\":0,\"ticks\":\"\"}}],\"scatter\":[{\"fillpattern\":{\"fillmode\":\"overlay\",\"size\":10,\"solidity\":0.2},\"type\":\"scatter\"}],\"parcoords\":[{\"type\":\"parcoords\",\"line\":{\"colorbar\":{\"outlinewidth\":0,\"ticks\":\"\"}}}],\"scatterpolargl\":[{\"type\":\"scatterpolargl\",\"marker\":{\"colorbar\":{\"outlinewidth\":0,\"ticks\":\"\"}}}],\"bar\":[{\"error_x\":{\"color\":\"#2a3f5f\"},\"error_y\":{\"color\":\"#2a3f5f\"},\"marker\":{\"line\":{\"color\":\"#E5ECF6\",\"width\":0.5},\"pattern\":{\"fillmode\":\"overlay\",\"size\":10,\"solidity\":0.2}},\"type\":\"bar\"}],\"scattergeo\":[{\"type\":\"scattergeo\",\"marker\":{\"colorbar\":{\"outlinewidth\":0,\"ticks\":\"\"}}}],\"scatterpolar\":[{\"type\":\"scatterpolar\",\"marker\":{\"colorbar\":{\"outlinewidth\":0,\"ticks\":\"\"}}}],\"histogram\":[{\"marker\":{\"pattern\":{\"fillmode\":\"overlay\",\"size\":10,\"solidity\":0.2}},\"type\":\"histogram\"}],\"scattergl\":[{\"type\":\"scattergl\",\"marker\":{\"colorbar\":{\"outlinewidth\":0,\"ticks\":\"\"}}}],\"scatter3d\":[{\"type\":\"scatter3d\",\"line\":{\"colorbar\":{\"outlinewidth\":0,\"ticks\":\"\"}},\"marker\":{\"colorbar\":{\"outlinewidth\":0,\"ticks\":\"\"}}}],\"scattermapbox\":[{\"type\":\"scattermapbox\",\"marker\":{\"colorbar\":{\"outlinewidth\":0,\"ticks\":\"\"}}}],\"scatterternary\":[{\"type\":\"scatterternary\",\"marker\":{\"colorbar\":{\"outlinewidth\":0,\"ticks\":\"\"}}}],\"scattercarpet\":[{\"type\":\"scattercarpet\",\"marker\":{\"colorbar\":{\"outlinewidth\":0,\"ticks\":\"\"}}}],\"carpet\":[{\"aaxis\":{\"endlinecolor\":\"#2a3f5f\",\"gridcolor\":\"white\",\"linecolor\":\"white\",\"minorgridcolor\":\"white\",\"startlinecolor\":\"#2a3f5f\"},\"baxis\":{\"endlinecolor\":\"#2a3f5f\",\"gridcolor\":\"white\",\"linecolor\":\"white\",\"minorgridcolor\":\"white\",\"startlinecolor\":\"#2a3f5f\"},\"type\":\"carpet\"}],\"table\":[{\"cells\":{\"fill\":{\"color\":\"#EBF0F8\"},\"line\":{\"color\":\"white\"}},\"header\":{\"fill\":{\"color\":\"#C8D4E3\"},\"line\":{\"color\":\"white\"}},\"type\":\"table\"}],\"barpolar\":[{\"marker\":{\"line\":{\"color\":\"#E5ECF6\",\"width\":0.5},\"pattern\":{\"fillmode\":\"overlay\",\"size\":10,\"solidity\":0.2}},\"type\":\"barpolar\"}],\"pie\":[{\"automargin\":true,\"type\":\"pie\"}]},\"layout\":{\"autotypenumbers\":\"strict\",\"colorway\":[\"#636efa\",\"#EF553B\",\"#00cc96\",\"#ab63fa\",\"#FFA15A\",\"#19d3f3\",\"#FF6692\",\"#B6E880\",\"#FF97FF\",\"#FECB52\"],\"font\":{\"color\":\"#2a3f5f\"},\"hovermode\":\"closest\",\"hoverlabel\":{\"align\":\"left\"},\"paper_bgcolor\":\"white\",\"plot_bgcolor\":\"#E5ECF6\",\"polar\":{\"bgcolor\":\"#E5ECF6\",\"angularaxis\":{\"gridcolor\":\"white\",\"linecolor\":\"white\",\"ticks\":\"\"},\"radialaxis\":{\"gridcolor\":\"white\",\"linecolor\":\"white\",\"ticks\":\"\"}},\"ternary\":{\"bgcolor\":\"#E5ECF6\",\"aaxis\":{\"gridcolor\":\"white\",\"linecolor\":\"white\",\"ticks\":\"\"},\"baxis\":{\"gridcolor\":\"white\",\"linecolor\":\"white\",\"ticks\":\"\"},\"caxis\":{\"gridcolor\":\"white\",\"linecolor\":\"white\",\"ticks\":\"\"}},\"coloraxis\":{\"colorbar\":{\"outlinewidth\":0,\"ticks\":\"\"}},\"colorscale\":{\"sequential\":[[0.0,\"#0d0887\"],[0.1111111111111111,\"#46039f\"],[0.2222222222222222,\"#7201a8\"],[0.3333333333333333,\"#9c179e\"],[0.4444444444444444,\"#bd3786\"],[0.5555555555555556,\"#d8576b\"],[0.6666666666666666,\"#ed7953\"],[0.7777777777777778,\"#fb9f3a\"],[0.8888888888888888,\"#fdca26\"],[1.0,\"#f0f921\"]],\"sequentialminus\":[[0.0,\"#0d0887\"],[0.1111111111111111,\"#46039f\"],[0.2222222222222222,\"#7201a8\"],[0.3333333333333333,\"#9c179e\"],[0.4444444444444444,\"#bd3786\"],[0.5555555555555556,\"#d8576b\"],[0.6666666666666666,\"#ed7953\"],[0.7777777777777778,\"#fb9f3a\"],[0.8888888888888888,\"#fdca26\"],[1.0,\"#f0f921\"]],\"diverging\":[[0,\"#8e0152\"],[0.1,\"#c51b7d\"],[0.2,\"#de77ae\"],[0.3,\"#f1b6da\"],[0.4,\"#fde0ef\"],[0.5,\"#f7f7f7\"],[0.6,\"#e6f5d0\"],[0.7,\"#b8e186\"],[0.8,\"#7fbc41\"],[0.9,\"#4d9221\"],[1,\"#276419\"]]},\"xaxis\":{\"gridcolor\":\"white\",\"linecolor\":\"white\",\"ticks\":\"\",\"title\":{\"standoff\":15},\"zerolinecolor\":\"white\",\"automargin\":true,\"zerolinewidth\":2},\"yaxis\":{\"gridcolor\":\"white\",\"linecolor\":\"white\",\"ticks\":\"\",\"title\":{\"standoff\":15},\"zerolinecolor\":\"white\",\"automargin\":true,\"zerolinewidth\":2},\"scene\":{\"xaxis\":{\"backgroundcolor\":\"#E5ECF6\",\"gridcolor\":\"white\",\"linecolor\":\"white\",\"showbackground\":true,\"ticks\":\"\",\"zerolinecolor\":\"white\",\"gridwidth\":2},\"yaxis\":{\"backgroundcolor\":\"#E5ECF6\",\"gridcolor\":\"white\",\"linecolor\":\"white\",\"showbackground\":true,\"ticks\":\"\",\"zerolinecolor\":\"white\",\"gridwidth\":2},\"zaxis\":{\"backgroundcolor\":\"#E5ECF6\",\"gridcolor\":\"white\",\"linecolor\":\"white\",\"showbackground\":true,\"ticks\":\"\",\"zerolinecolor\":\"white\",\"gridwidth\":2}},\"shapedefaults\":{\"line\":{\"color\":\"#2a3f5f\"}},\"annotationdefaults\":{\"arrowcolor\":\"#2a3f5f\",\"arrowhead\":0,\"arrowwidth\":1},\"geo\":{\"bgcolor\":\"white\",\"landcolor\":\"#E5ECF6\",\"subunitcolor\":\"white\",\"showland\":true,\"showlakes\":true,\"lakecolor\":\"white\"},\"title\":{\"x\":0.05},\"mapbox\":{\"style\":\"light\"}}},\"xaxis\":{\"anchor\":\"y\",\"domain\":[0.0,1.0],\"title\":{\"text\":\"AJCC Pathologic Stage\"},\"tickangle\":45},\"yaxis\":{\"anchor\":\"x\",\"domain\":[0.0,1.0],\"title\":{\"text\":\"Number of Cases\"}},\"legend\":{\"tracegroupgap\":0},\"title\":{\"text\":\"Distribution of Cases by AJCC Pathologic Stage\"},\"barmode\":\"relative\"},                        {\"responsive\": true}                    ).then(function(){\n",
       "                            \n",
       "var gd = document.getElementById('d424b7c9-3c28-4072-a62a-623a5543eae6');\n",
       "var x = new MutationObserver(function (mutations, observer) {{\n",
       "        var display = window.getComputedStyle(gd).display;\n",
       "        if (!display || display === 'none') {{\n",
       "            console.log([gd, 'removed!']);\n",
       "            Plotly.purge(gd);\n",
       "            observer.disconnect();\n",
       "        }}\n",
       "}});\n",
       "\n",
       "// Listen for the removal of the full notebook cells\n",
       "var notebookContainer = gd.closest('#notebook-container');\n",
       "if (notebookContainer) {{\n",
       "    x.observe(notebookContainer, {childList: true});\n",
       "}}\n",
       "\n",
       "// Listen for the clearing of the current output cell\n",
       "var outputEl = gd.closest('.output');\n",
       "if (outputEl) {{\n",
       "    x.observe(outputEl, {childList: true});\n",
       "}}\n",
       "\n",
       "                        })                };                });            </script>        </div>"
      ]
     },
     "metadata": {},
     "output_type": "display_data"
    }
   ],
   "source": [
    "# Filter out \"Unknown\" values for the 'ajcc_pathologic_stage' column in the aggregated_data\n",
    "filtered_data = aggregated_data[aggregated_data['ajcc_pathologic_stage'] != \"Unknown\"]\n",
    "\n",
    "# Ensure 'Cancer Stage' is ordered correctly\n",
    "sorted_stages = ['Stage I', 'Stage II', 'Stage III']\n",
    "filtered_data['Cancer Stage'] = pd.Categorical(filtered_data['Cancer Stage'], categories=sorted_stages, ordered=True)\n",
    "\n",
    "# Count cases by stage\n",
    "stage_counts = filtered_data['Cancer Stage'].value_counts().sort_index()\n",
    "\n",
    "# Create a DataFrame for Plotly\n",
    "plot_data = stage_counts.reset_index()\n",
    "plot_data.columns = ['Cancer Stage', 'Number of Cases']\n",
    "\n",
    "# Create a bar plot using Plotly\n",
    "fig = px.bar(\n",
    "    plot_data,\n",
    "    x='Cancer Stage',\n",
    "    y='Number of Cases',\n",
    "    text='Number of Cases',\n",
    "    title='Distribution of Cases by AJCC Pathologic Stage',\n",
    "    labels={'Cancer Stage': 'AJCC Pathologic Stage', 'Number of Cases': 'Number of Cases'},\n",
    ")\n",
    "\n",
    "# Customize plot appearance\n",
    "fig.update_traces(textposition='outside', marker_color='lightblue', marker_line_color='black', marker_line_width=1)\n",
    "fig.update_layout(xaxis_title='AJCC Pathologic Stage', yaxis_title='Number of Cases', xaxis_tickangle=45)\n",
    "\n",
    "# Display the plot\n",
    "fig.show()\n"
   ]
  },
  {
   "cell_type": "code",
   "execution_count": 200,
   "id": "eaf0f6a0-e6e2-4581-80f5-515159a242a7",
   "metadata": {},
   "outputs": [
    {
     "data": {
      "application/vnd.plotly.v1+json": {
       "config": {
        "plotlyServerURL": "https://plot.ly"
       },
       "data": [
        {
         "alignmentgroup": "True",
         "hovertemplate": "AJCC Pathologic N Stage=%{x}<br>Expression Level=%{y}<extra></extra>",
         "legendgroup": "N0 (i-)",
         "marker": {
          "color": "rgb(102, 197, 204)"
         },
         "name": "N0 (i-)",
         "notched": false,
         "offsetgroup": "N0 (i-)",
         "orientation": "v",
         "showlegend": true,
         "type": "box",
         "x": [
          "N0 (i-)",
          "N0 (i-)",
          "N0 (i-)"
         ],
         "x0": " ",
         "xaxis": "x",
         "y": [
          0.8705877092106236,
          0.14832374891362665,
          0.15322288638076462
         ],
         "y0": " ",
         "yaxis": "y"
        },
        {
         "alignmentgroup": "True",
         "hovertemplate": "AJCC Pathologic N Stage=%{x}<br>Expression Level=%{y}<extra></extra>",
         "legendgroup": "N0",
         "marker": {
          "color": "rgb(246, 207, 113)"
         },
         "name": "N0",
         "notched": false,
         "offsetgroup": "N0",
         "orientation": "v",
         "showlegend": true,
         "type": "box",
         "x": [
          "N0",
          "N0",
          "N0",
          "N0",
          "N0",
          "N0",
          "N0",
          "N0",
          "N0",
          "N0",
          "N0",
          "N0",
          "N0",
          "N0",
          "N0",
          "N0",
          "N0",
          "N0",
          "N0",
          "N0",
          "N0",
          "N0",
          "N0",
          "N0"
         ],
         "x0": " ",
         "xaxis": "x",
         "y": [
          -0.049581670356946134,
          -0.03455853653728149,
          -0.45784027740236266,
          -0.037974141608749644,
          -0.30315187584912984,
          -0.21552716453507645,
          0.8466634271444605,
          0.8473383197307665,
          -0.20071051172881604,
          -0.09540479166268297,
          1.0603187936636547,
          -0.2367875562323537,
          0.15520710761673004,
          0.38744337381026245,
          0.16181513060980704,
          0.015515077682287578,
          0.08753503892490487,
          0.5061037368680184,
          -0.0987787432626727,
          0.7111021218767489,
          0.32932413730300325,
          0.0551027250564312,
          0.5524361984877707,
          0.4615712146052829
         ],
         "y0": " ",
         "yaxis": "y"
        },
        {
         "alignmentgroup": "True",
         "hovertemplate": "AJCC Pathologic N Stage=%{x}<br>Expression Level=%{y}<extra></extra>",
         "legendgroup": "N1",
         "marker": {
          "color": "rgb(248, 156, 116)"
         },
         "name": "N1",
         "notched": false,
         "offsetgroup": "N1",
         "orientation": "v",
         "showlegend": true,
         "type": "box",
         "x": [
          "N1",
          "N1",
          "N1",
          "N1",
          "N1"
         ],
         "x0": " ",
         "xaxis": "x",
         "y": [
          0.241313358082682,
          0.5792641979379572,
          0.20642703815213284,
          0.18138360470579093,
          0.9991603296976509
         ],
         "y0": " ",
         "yaxis": "y"
        },
        {
         "alignmentgroup": "True",
         "hovertemplate": "AJCC Pathologic N Stage=%{x}<br>Expression Level=%{y}<extra></extra>",
         "legendgroup": "N1a",
         "marker": {
          "color": "rgb(220, 176, 242)"
         },
         "name": "N1a",
         "notched": false,
         "offsetgroup": "N1a",
         "orientation": "v",
         "showlegend": true,
         "type": "box",
         "x": [
          "N1a",
          "N1a",
          "N1a",
          "N1a"
         ],
         "x0": " ",
         "xaxis": "x",
         "y": [
          0.11137376478146468,
          0.13429987657290962,
          0.5843681205673026,
          0.02519173439879645
         ],
         "y0": " ",
         "yaxis": "y"
        },
        {
         "alignmentgroup": "True",
         "hovertemplate": "AJCC Pathologic N Stage=%{x}<br>Expression Level=%{y}<extra></extra>",
         "legendgroup": "N0 (i+)",
         "marker": {
          "color": "rgb(135, 197, 95)"
         },
         "name": "N0 (i+)",
         "notched": false,
         "offsetgroup": "N0 (i+)",
         "orientation": "v",
         "showlegend": true,
         "type": "box",
         "x": [
          "N0 (i+)"
         ],
         "x0": " ",
         "xaxis": "x",
         "y": [
          -0.1175246246935252
         ],
         "y0": " ",
         "yaxis": "y"
        },
        {
         "alignmentgroup": "True",
         "hovertemplate": "AJCC Pathologic N Stage=%{x}<br>Expression Level=%{y}<extra></extra>",
         "legendgroup": "NX",
         "marker": {
          "color": "rgb(158, 185, 243)"
         },
         "name": "NX",
         "notched": false,
         "offsetgroup": "NX",
         "orientation": "v",
         "showlegend": true,
         "type": "box",
         "x": [
          "NX"
         ],
         "x0": " ",
         "xaxis": "x",
         "y": [
          0.8980817773556306
         ],
         "y0": " ",
         "yaxis": "y"
        },
        {
         "alignmentgroup": "True",
         "hovertemplate": "AJCC Pathologic N Stage=%{x}<br>Expression Level=%{y}<extra></extra>",
         "legendgroup": "N1b",
         "marker": {
          "color": "rgb(254, 136, 177)"
         },
         "name": "N1b",
         "notched": false,
         "offsetgroup": "N1b",
         "orientation": "v",
         "showlegend": true,
         "type": "box",
         "x": [
          "N1b"
         ],
         "x0": " ",
         "xaxis": "x",
         "y": [
          0.0718089166437936
         ],
         "y0": " ",
         "yaxis": "y"
        },
        {
         "alignmentgroup": "True",
         "hovertemplate": "AJCC Pathologic N Stage=%{x}<br>Expression Level=%{y}<extra></extra>",
         "legendgroup": "N2a",
         "marker": {
          "color": "rgb(201, 219, 116)"
         },
         "name": "N2a",
         "notched": false,
         "offsetgroup": "N2a",
         "orientation": "v",
         "showlegend": true,
         "type": "box",
         "x": [
          "N2a"
         ],
         "x0": " ",
         "xaxis": "x",
         "y": [
          0.3617311645626425
         ],
         "y0": " ",
         "yaxis": "y"
        },
        {
         "alignmentgroup": "True",
         "hovertemplate": "AJCC Pathologic N Stage=%{x}<br>Expression Level=%{y}<extra></extra>",
         "legendgroup": "N2",
         "marker": {
          "color": "rgb(139, 224, 164)"
         },
         "name": "N2",
         "notched": false,
         "offsetgroup": "N2",
         "orientation": "v",
         "showlegend": true,
         "type": "box",
         "x": [
          "N2"
         ],
         "x0": " ",
         "xaxis": "x",
         "y": [
          -0.2536141852626979
         ],
         "y0": " ",
         "yaxis": "y"
        },
        {
         "alignmentgroup": "True",
         "hovertemplate": "AJCC Pathologic N Stage=%{x}<br>Expression Level=%{y}<extra></extra>",
         "legendgroup": "N3b",
         "marker": {
          "color": "rgb(180, 151, 231)"
         },
         "name": "N3b",
         "notched": false,
         "offsetgroup": "N3b",
         "orientation": "v",
         "showlegend": true,
         "type": "box",
         "x": [
          "N3b"
         ],
         "x0": " ",
         "xaxis": "x",
         "y": [
          0.07315467835108935
         ],
         "y0": " ",
         "yaxis": "y"
        },
        {
         "alignmentgroup": "True",
         "hovertemplate": "AJCC Pathologic N Stage=%{x}<br>Expression Level=%{y}<extra></extra>",
         "legendgroup": "N3a",
         "marker": {
          "color": "rgb(179, 179, 179)"
         },
         "name": "N3a",
         "notched": false,
         "offsetgroup": "N3a",
         "orientation": "v",
         "showlegend": true,
         "type": "box",
         "x": [
          "N3a"
         ],
         "x0": " ",
         "xaxis": "x",
         "y": [
          -0.11700441898763135
         ],
         "y0": " ",
         "yaxis": "y"
        }
       ],
       "layout": {
        "autosize": true,
        "boxmode": "overlay",
        "legend": {
         "title": {
          "text": "AJCC Pathologic N Stage"
         },
         "tracegroupgap": 0
        },
        "showlegend": false,
        "template": {
         "data": {
          "bar": [
           {
            "error_x": {
             "color": "#2a3f5f"
            },
            "error_y": {
             "color": "#2a3f5f"
            },
            "marker": {
             "line": {
              "color": "#E5ECF6",
              "width": 0.5
             },
             "pattern": {
              "fillmode": "overlay",
              "size": 10,
              "solidity": 0.2
             }
            },
            "type": "bar"
           }
          ],
          "barpolar": [
           {
            "marker": {
             "line": {
              "color": "#E5ECF6",
              "width": 0.5
             },
             "pattern": {
              "fillmode": "overlay",
              "size": 10,
              "solidity": 0.2
             }
            },
            "type": "barpolar"
           }
          ],
          "carpet": [
           {
            "aaxis": {
             "endlinecolor": "#2a3f5f",
             "gridcolor": "white",
             "linecolor": "white",
             "minorgridcolor": "white",
             "startlinecolor": "#2a3f5f"
            },
            "baxis": {
             "endlinecolor": "#2a3f5f",
             "gridcolor": "white",
             "linecolor": "white",
             "minorgridcolor": "white",
             "startlinecolor": "#2a3f5f"
            },
            "type": "carpet"
           }
          ],
          "choropleth": [
           {
            "colorbar": {
             "outlinewidth": 0,
             "ticks": ""
            },
            "type": "choropleth"
           }
          ],
          "contour": [
           {
            "colorbar": {
             "outlinewidth": 0,
             "ticks": ""
            },
            "colorscale": [
             [
              0,
              "#0d0887"
             ],
             [
              0.1111111111111111,
              "#46039f"
             ],
             [
              0.2222222222222222,
              "#7201a8"
             ],
             [
              0.3333333333333333,
              "#9c179e"
             ],
             [
              0.4444444444444444,
              "#bd3786"
             ],
             [
              0.5555555555555556,
              "#d8576b"
             ],
             [
              0.6666666666666666,
              "#ed7953"
             ],
             [
              0.7777777777777778,
              "#fb9f3a"
             ],
             [
              0.8888888888888888,
              "#fdca26"
             ],
             [
              1,
              "#f0f921"
             ]
            ],
            "type": "contour"
           }
          ],
          "contourcarpet": [
           {
            "colorbar": {
             "outlinewidth": 0,
             "ticks": ""
            },
            "type": "contourcarpet"
           }
          ],
          "heatmap": [
           {
            "colorbar": {
             "outlinewidth": 0,
             "ticks": ""
            },
            "colorscale": [
             [
              0,
              "#0d0887"
             ],
             [
              0.1111111111111111,
              "#46039f"
             ],
             [
              0.2222222222222222,
              "#7201a8"
             ],
             [
              0.3333333333333333,
              "#9c179e"
             ],
             [
              0.4444444444444444,
              "#bd3786"
             ],
             [
              0.5555555555555556,
              "#d8576b"
             ],
             [
              0.6666666666666666,
              "#ed7953"
             ],
             [
              0.7777777777777778,
              "#fb9f3a"
             ],
             [
              0.8888888888888888,
              "#fdca26"
             ],
             [
              1,
              "#f0f921"
             ]
            ],
            "type": "heatmap"
           }
          ],
          "heatmapgl": [
           {
            "colorbar": {
             "outlinewidth": 0,
             "ticks": ""
            },
            "colorscale": [
             [
              0,
              "#0d0887"
             ],
             [
              0.1111111111111111,
              "#46039f"
             ],
             [
              0.2222222222222222,
              "#7201a8"
             ],
             [
              0.3333333333333333,
              "#9c179e"
             ],
             [
              0.4444444444444444,
              "#bd3786"
             ],
             [
              0.5555555555555556,
              "#d8576b"
             ],
             [
              0.6666666666666666,
              "#ed7953"
             ],
             [
              0.7777777777777778,
              "#fb9f3a"
             ],
             [
              0.8888888888888888,
              "#fdca26"
             ],
             [
              1,
              "#f0f921"
             ]
            ],
            "type": "heatmapgl"
           }
          ],
          "histogram": [
           {
            "marker": {
             "pattern": {
              "fillmode": "overlay",
              "size": 10,
              "solidity": 0.2
             }
            },
            "type": "histogram"
           }
          ],
          "histogram2d": [
           {
            "colorbar": {
             "outlinewidth": 0,
             "ticks": ""
            },
            "colorscale": [
             [
              0,
              "#0d0887"
             ],
             [
              0.1111111111111111,
              "#46039f"
             ],
             [
              0.2222222222222222,
              "#7201a8"
             ],
             [
              0.3333333333333333,
              "#9c179e"
             ],
             [
              0.4444444444444444,
              "#bd3786"
             ],
             [
              0.5555555555555556,
              "#d8576b"
             ],
             [
              0.6666666666666666,
              "#ed7953"
             ],
             [
              0.7777777777777778,
              "#fb9f3a"
             ],
             [
              0.8888888888888888,
              "#fdca26"
             ],
             [
              1,
              "#f0f921"
             ]
            ],
            "type": "histogram2d"
           }
          ],
          "histogram2dcontour": [
           {
            "colorbar": {
             "outlinewidth": 0,
             "ticks": ""
            },
            "colorscale": [
             [
              0,
              "#0d0887"
             ],
             [
              0.1111111111111111,
              "#46039f"
             ],
             [
              0.2222222222222222,
              "#7201a8"
             ],
             [
              0.3333333333333333,
              "#9c179e"
             ],
             [
              0.4444444444444444,
              "#bd3786"
             ],
             [
              0.5555555555555556,
              "#d8576b"
             ],
             [
              0.6666666666666666,
              "#ed7953"
             ],
             [
              0.7777777777777778,
              "#fb9f3a"
             ],
             [
              0.8888888888888888,
              "#fdca26"
             ],
             [
              1,
              "#f0f921"
             ]
            ],
            "type": "histogram2dcontour"
           }
          ],
          "mesh3d": [
           {
            "colorbar": {
             "outlinewidth": 0,
             "ticks": ""
            },
            "type": "mesh3d"
           }
          ],
          "parcoords": [
           {
            "line": {
             "colorbar": {
              "outlinewidth": 0,
              "ticks": ""
             }
            },
            "type": "parcoords"
           }
          ],
          "pie": [
           {
            "automargin": true,
            "type": "pie"
           }
          ],
          "scatter": [
           {
            "fillpattern": {
             "fillmode": "overlay",
             "size": 10,
             "solidity": 0.2
            },
            "type": "scatter"
           }
          ],
          "scatter3d": [
           {
            "line": {
             "colorbar": {
              "outlinewidth": 0,
              "ticks": ""
             }
            },
            "marker": {
             "colorbar": {
              "outlinewidth": 0,
              "ticks": ""
             }
            },
            "type": "scatter3d"
           }
          ],
          "scattercarpet": [
           {
            "marker": {
             "colorbar": {
              "outlinewidth": 0,
              "ticks": ""
             }
            },
            "type": "scattercarpet"
           }
          ],
          "scattergeo": [
           {
            "marker": {
             "colorbar": {
              "outlinewidth": 0,
              "ticks": ""
             }
            },
            "type": "scattergeo"
           }
          ],
          "scattergl": [
           {
            "marker": {
             "colorbar": {
              "outlinewidth": 0,
              "ticks": ""
             }
            },
            "type": "scattergl"
           }
          ],
          "scattermapbox": [
           {
            "marker": {
             "colorbar": {
              "outlinewidth": 0,
              "ticks": ""
             }
            },
            "type": "scattermapbox"
           }
          ],
          "scatterpolar": [
           {
            "marker": {
             "colorbar": {
              "outlinewidth": 0,
              "ticks": ""
             }
            },
            "type": "scatterpolar"
           }
          ],
          "scatterpolargl": [
           {
            "marker": {
             "colorbar": {
              "outlinewidth": 0,
              "ticks": ""
             }
            },
            "type": "scatterpolargl"
           }
          ],
          "scatterternary": [
           {
            "marker": {
             "colorbar": {
              "outlinewidth": 0,
              "ticks": ""
             }
            },
            "type": "scatterternary"
           }
          ],
          "surface": [
           {
            "colorbar": {
             "outlinewidth": 0,
             "ticks": ""
            },
            "colorscale": [
             [
              0,
              "#0d0887"
             ],
             [
              0.1111111111111111,
              "#46039f"
             ],
             [
              0.2222222222222222,
              "#7201a8"
             ],
             [
              0.3333333333333333,
              "#9c179e"
             ],
             [
              0.4444444444444444,
              "#bd3786"
             ],
             [
              0.5555555555555556,
              "#d8576b"
             ],
             [
              0.6666666666666666,
              "#ed7953"
             ],
             [
              0.7777777777777778,
              "#fb9f3a"
             ],
             [
              0.8888888888888888,
              "#fdca26"
             ],
             [
              1,
              "#f0f921"
             ]
            ],
            "type": "surface"
           }
          ],
          "table": [
           {
            "cells": {
             "fill": {
              "color": "#EBF0F8"
             },
             "line": {
              "color": "white"
             }
            },
            "header": {
             "fill": {
              "color": "#C8D4E3"
             },
             "line": {
              "color": "white"
             }
            },
            "type": "table"
           }
          ]
         },
         "layout": {
          "annotationdefaults": {
           "arrowcolor": "#2a3f5f",
           "arrowhead": 0,
           "arrowwidth": 1
          },
          "autotypenumbers": "strict",
          "coloraxis": {
           "colorbar": {
            "outlinewidth": 0,
            "ticks": ""
           }
          },
          "colorscale": {
           "diverging": [
            [
             0,
             "#8e0152"
            ],
            [
             0.1,
             "#c51b7d"
            ],
            [
             0.2,
             "#de77ae"
            ],
            [
             0.3,
             "#f1b6da"
            ],
            [
             0.4,
             "#fde0ef"
            ],
            [
             0.5,
             "#f7f7f7"
            ],
            [
             0.6,
             "#e6f5d0"
            ],
            [
             0.7,
             "#b8e186"
            ],
            [
             0.8,
             "#7fbc41"
            ],
            [
             0.9,
             "#4d9221"
            ],
            [
             1,
             "#276419"
            ]
           ],
           "sequential": [
            [
             0,
             "#0d0887"
            ],
            [
             0.1111111111111111,
             "#46039f"
            ],
            [
             0.2222222222222222,
             "#7201a8"
            ],
            [
             0.3333333333333333,
             "#9c179e"
            ],
            [
             0.4444444444444444,
             "#bd3786"
            ],
            [
             0.5555555555555556,
             "#d8576b"
            ],
            [
             0.6666666666666666,
             "#ed7953"
            ],
            [
             0.7777777777777778,
             "#fb9f3a"
            ],
            [
             0.8888888888888888,
             "#fdca26"
            ],
            [
             1,
             "#f0f921"
            ]
           ],
           "sequentialminus": [
            [
             0,
             "#0d0887"
            ],
            [
             0.1111111111111111,
             "#46039f"
            ],
            [
             0.2222222222222222,
             "#7201a8"
            ],
            [
             0.3333333333333333,
             "#9c179e"
            ],
            [
             0.4444444444444444,
             "#bd3786"
            ],
            [
             0.5555555555555556,
             "#d8576b"
            ],
            [
             0.6666666666666666,
             "#ed7953"
            ],
            [
             0.7777777777777778,
             "#fb9f3a"
            ],
            [
             0.8888888888888888,
             "#fdca26"
            ],
            [
             1,
             "#f0f921"
            ]
           ]
          },
          "colorway": [
           "#636efa",
           "#EF553B",
           "#00cc96",
           "#ab63fa",
           "#FFA15A",
           "#19d3f3",
           "#FF6692",
           "#B6E880",
           "#FF97FF",
           "#FECB52"
          ],
          "font": {
           "color": "#2a3f5f"
          },
          "geo": {
           "bgcolor": "white",
           "lakecolor": "white",
           "landcolor": "#E5ECF6",
           "showlakes": true,
           "showland": true,
           "subunitcolor": "white"
          },
          "hoverlabel": {
           "align": "left"
          },
          "hovermode": "closest",
          "mapbox": {
           "style": "light"
          },
          "paper_bgcolor": "white",
          "plot_bgcolor": "#E5ECF6",
          "polar": {
           "angularaxis": {
            "gridcolor": "white",
            "linecolor": "white",
            "ticks": ""
           },
           "bgcolor": "#E5ECF6",
           "radialaxis": {
            "gridcolor": "white",
            "linecolor": "white",
            "ticks": ""
           }
          },
          "scene": {
           "xaxis": {
            "backgroundcolor": "#E5ECF6",
            "gridcolor": "white",
            "gridwidth": 2,
            "linecolor": "white",
            "showbackground": true,
            "ticks": "",
            "zerolinecolor": "white"
           },
           "yaxis": {
            "backgroundcolor": "#E5ECF6",
            "gridcolor": "white",
            "gridwidth": 2,
            "linecolor": "white",
            "showbackground": true,
            "ticks": "",
            "zerolinecolor": "white"
           },
           "zaxis": {
            "backgroundcolor": "#E5ECF6",
            "gridcolor": "white",
            "gridwidth": 2,
            "linecolor": "white",
            "showbackground": true,
            "ticks": "",
            "zerolinecolor": "white"
           }
          },
          "shapedefaults": {
           "line": {
            "color": "#2a3f5f"
           }
          },
          "ternary": {
           "aaxis": {
            "gridcolor": "white",
            "linecolor": "white",
            "ticks": ""
           },
           "baxis": {
            "gridcolor": "white",
            "linecolor": "white",
            "ticks": ""
           },
           "bgcolor": "#E5ECF6",
           "caxis": {
            "gridcolor": "white",
            "linecolor": "white",
            "ticks": ""
           }
          },
          "title": {
           "x": 0.05
          },
          "xaxis": {
           "automargin": true,
           "gridcolor": "white",
           "linecolor": "white",
           "ticks": "",
           "title": {
            "standoff": 15
           },
           "zerolinecolor": "white",
           "zerolinewidth": 2
          },
          "yaxis": {
           "automargin": true,
           "gridcolor": "white",
           "linecolor": "white",
           "ticks": "",
           "title": {
            "standoff": 15
           },
           "zerolinecolor": "white",
           "zerolinewidth": 2
          }
         }
        },
        "title": {
         "text": "Average Gene Expression Across AJCC Pathologic N Stages (Aggregated by Case)"
        },
        "xaxis": {
         "anchor": "y",
         "autorange": true,
         "categoryarray": [
          "N0 (i-)",
          "N0",
          "N1",
          "N1a",
          "N0 (i+)",
          "NX",
          "N1b",
          "N2a",
          "N2",
          "N3b",
          "N3a"
         ],
         "categoryorder": "array",
         "domain": [
          0,
          1
         ],
         "range": [
          -0.5,
          10.5
         ],
         "tickangle": 45,
         "title": {
          "text": "AJCC Pathologic N Stage"
         },
         "type": "category"
        },
        "yaxis": {
         "anchor": "x",
         "autorange": true,
         "domain": [
          0,
          1
         ],
         "range": [
          -0.5421824480171414,
          1.1446609642784333
         ],
         "title": {
          "text": "Expression Level"
         },
         "type": "linear"
        }
       }
      },
      "image/png": "[encoded data removed]",
      "text/html": [
       "<div>                            <div id=\"e41d93c1-0e59-4955-8608-33767fa97e36\" class=\"plotly-graph-div\" style=\"height:525px; width:100%;\"></div>            <script type=\"text/javascript\">                require([\"plotly\"], function(Plotly) {                    window.PLOTLYENV=window.PLOTLYENV || {};                                    if (document.getElementById(\"e41d93c1-0e59-4955-8608-33767fa97e36\")) {                    Plotly.newPlot(                        \"e41d93c1-0e59-4955-8608-33767fa97e36\",                        [{\"alignmentgroup\":\"True\",\"hovertemplate\":\"AJCC Pathologic N Stage=%{x}\\u003cbr\\u003eExpression Level=%{y}\\u003cextra\\u003e\\u003c\\u002fextra\\u003e\",\"legendgroup\":\"N0 (i-)\",\"marker\":{\"color\":\"rgb(102, 197, 204)\"},\"name\":\"N0 (i-)\",\"notched\":false,\"offsetgroup\":\"N0 (i-)\",\"orientation\":\"v\",\"showlegend\":true,\"x\":[\"N0 (i-)\",\"N0 (i-)\",\"N0 (i-)\"],\"x0\":\" \",\"xaxis\":\"x\",\"y\":[0.8705877092106236,0.14832374891362665,0.15322288638076462],\"y0\":\" \",\"yaxis\":\"y\",\"type\":\"box\"},{\"alignmentgroup\":\"True\",\"hovertemplate\":\"AJCC Pathologic N Stage=%{x}\\u003cbr\\u003eExpression Level=%{y}\\u003cextra\\u003e\\u003c\\u002fextra\\u003e\",\"legendgroup\":\"N0\",\"marker\":{\"color\":\"rgb(246, 207, 113)\"},\"name\":\"N0\",\"notched\":false,\"offsetgroup\":\"N0\",\"orientation\":\"v\",\"showlegend\":true,\"x\":[\"N0\",\"N0\",\"N0\",\"N0\",\"N0\",\"N0\",\"N0\",\"N0\",\"N0\",\"N0\",\"N0\",\"N0\",\"N0\",\"N0\",\"N0\",\"N0\",\"N0\",\"N0\",\"N0\",\"N0\",\"N0\",\"N0\",\"N0\",\"N0\"],\"x0\":\" \",\"xaxis\":\"x\",\"y\":[-0.049581670356946134,-0.03455853653728149,-0.45784027740236266,-0.037974141608749644,-0.30315187584912984,-0.21552716453507645,0.8466634271444605,0.8473383197307665,-0.20071051172881604,-0.09540479166268297,1.0603187936636547,-0.2367875562323537,0.15520710761673004,0.38744337381026245,0.16181513060980704,0.015515077682287578,0.08753503892490487,0.5061037368680184,-0.0987787432626727,0.7111021218767489,0.32932413730300325,0.0551027250564312,0.5524361984877707,0.4615712146052829],\"y0\":\" \",\"yaxis\":\"y\",\"type\":\"box\"},{\"alignmentgroup\":\"True\",\"hovertemplate\":\"AJCC Pathologic N Stage=%{x}\\u003cbr\\u003eExpression Level=%{y}\\u003cextra\\u003e\\u003c\\u002fextra\\u003e\",\"legendgroup\":\"N1\",\"marker\":{\"color\":\"rgb(248, 156, 116)\"},\"name\":\"N1\",\"notched\":false,\"offsetgroup\":\"N1\",\"orientation\":\"v\",\"showlegend\":true,\"x\":[\"N1\",\"N1\",\"N1\",\"N1\",\"N1\"],\"x0\":\" \",\"xaxis\":\"x\",\"y\":[0.241313358082682,0.5792641979379572,0.20642703815213284,0.18138360470579093,0.9991603296976509],\"y0\":\" \",\"yaxis\":\"y\",\"type\":\"box\"},{\"alignmentgroup\":\"True\",\"hovertemplate\":\"AJCC Pathologic N Stage=%{x}\\u003cbr\\u003eExpression Level=%{y}\\u003cextra\\u003e\\u003c\\u002fextra\\u003e\",\"legendgroup\":\"N1a\",\"marker\":{\"color\":\"rgb(220, 176, 242)\"},\"name\":\"N1a\",\"notched\":false,\"offsetgroup\":\"N1a\",\"orientation\":\"v\",\"showlegend\":true,\"x\":[\"N1a\",\"N1a\",\"N1a\",\"N1a\"],\"x0\":\" \",\"xaxis\":\"x\",\"y\":[0.11137376478146468,0.13429987657290962,0.5843681205673026,0.02519173439879645],\"y0\":\" \",\"yaxis\":\"y\",\"type\":\"box\"},{\"alignmentgroup\":\"True\",\"hovertemplate\":\"AJCC Pathologic N Stage=%{x}\\u003cbr\\u003eExpression Level=%{y}\\u003cextra\\u003e\\u003c\\u002fextra\\u003e\",\"legendgroup\":\"N0 (i+)\",\"marker\":{\"color\":\"rgb(135, 197, 95)\"},\"name\":\"N0 (i+)\",\"notched\":false,\"offsetgroup\":\"N0 (i+)\",\"orientation\":\"v\",\"showlegend\":true,\"x\":[\"N0 (i+)\"],\"x0\":\" \",\"xaxis\":\"x\",\"y\":[-0.1175246246935252],\"y0\":\" \",\"yaxis\":\"y\",\"type\":\"box\"},{\"alignmentgroup\":\"True\",\"hovertemplate\":\"AJCC Pathologic N Stage=%{x}\\u003cbr\\u003eExpression Level=%{y}\\u003cextra\\u003e\\u003c\\u002fextra\\u003e\",\"legendgroup\":\"NX\",\"marker\":{\"color\":\"rgb(158, 185, 243)\"},\"name\":\"NX\",\"notched\":false,\"offsetgroup\":\"NX\",\"orientation\":\"v\",\"showlegend\":true,\"x\":[\"NX\"],\"x0\":\" \",\"xaxis\":\"x\",\"y\":[0.8980817773556306],\"y0\":\" \",\"yaxis\":\"y\",\"type\":\"box\"},{\"alignmentgroup\":\"True\",\"hovertemplate\":\"AJCC Pathologic N Stage=%{x}\\u003cbr\\u003eExpression Level=%{y}\\u003cextra\\u003e\\u003c\\u002fextra\\u003e\",\"legendgroup\":\"N1b\",\"marker\":{\"color\":\"rgb(254, 136, 177)\"},\"name\":\"N1b\",\"notched\":false,\"offsetgroup\":\"N1b\",\"orientation\":\"v\",\"showlegend\":true,\"x\":[\"N1b\"],\"x0\":\" \",\"xaxis\":\"x\",\"y\":[0.0718089166437936],\"y0\":\" \",\"yaxis\":\"y\",\"type\":\"box\"},{\"alignmentgroup\":\"True\",\"hovertemplate\":\"AJCC Pathologic N Stage=%{x}\\u003cbr\\u003eExpression Level=%{y}\\u003cextra\\u003e\\u003c\\u002fextra\\u003e\",\"legendgroup\":\"N2a\",\"marker\":{\"color\":\"rgb(201, 219, 116)\"},\"name\":\"N2a\",\"notched\":false,\"offsetgroup\":\"N2a\",\"orientation\":\"v\",\"showlegend\":true,\"x\":[\"N2a\"],\"x0\":\" \",\"xaxis\":\"x\",\"y\":[0.3617311645626425],\"y0\":\" \",\"yaxis\":\"y\",\"type\":\"box\"},{\"alignmentgroup\":\"True\",\"hovertemplate\":\"AJCC Pathologic N Stage=%{x}\\u003cbr\\u003eExpression Level=%{y}\\u003cextra\\u003e\\u003c\\u002fextra\\u003e\",\"legendgroup\":\"N2\",\"marker\":{\"color\":\"rgb(139, 224, 164)\"},\"name\":\"N2\",\"notched\":false,\"offsetgroup\":\"N2\",\"orientation\":\"v\",\"showlegend\":true,\"x\":[\"N2\"],\"x0\":\" \",\"xaxis\":\"x\",\"y\":[-0.2536141852626979],\"y0\":\" \",\"yaxis\":\"y\",\"type\":\"box\"},{\"alignmentgroup\":\"True\",\"hovertemplate\":\"AJCC Pathologic N Stage=%{x}\\u003cbr\\u003eExpression Level=%{y}\\u003cextra\\u003e\\u003c\\u002fextra\\u003e\",\"legendgroup\":\"N3b\",\"marker\":{\"color\":\"rgb(180, 151, 231)\"},\"name\":\"N3b\",\"notched\":false,\"offsetgroup\":\"N3b\",\"orientation\":\"v\",\"showlegend\":true,\"x\":[\"N3b\"],\"x0\":\" \",\"xaxis\":\"x\",\"y\":[0.07315467835108935],\"y0\":\" \",\"yaxis\":\"y\",\"type\":\"box\"},{\"alignmentgroup\":\"True\",\"hovertemplate\":\"AJCC Pathologic N Stage=%{x}\\u003cbr\\u003eExpression Level=%{y}\\u003cextra\\u003e\\u003c\\u002fextra\\u003e\",\"legendgroup\":\"N3a\",\"marker\":{\"color\":\"rgb(179, 179, 179)\"},\"name\":\"N3a\",\"notched\":false,\"offsetgroup\":\"N3a\",\"orientation\":\"v\",\"showlegend\":true,\"x\":[\"N3a\"],\"x0\":\" \",\"xaxis\":\"x\",\"y\":[-0.11700441898763135],\"y0\":\" \",\"yaxis\":\"y\",\"type\":\"box\"}],                        {\"template\":{\"data\":{\"histogram2dcontour\":[{\"type\":\"histogram2dcontour\",\"colorbar\":{\"outlinewidth\":0,\"ticks\":\"\"},\"colorscale\":[[0.0,\"#0d0887\"],[0.1111111111111111,\"#46039f\"],[0.2222222222222222,\"#7201a8\"],[0.3333333333333333,\"#9c179e\"],[0.4444444444444444,\"#bd3786\"],[0.5555555555555556,\"#d8576b\"],[0.6666666666666666,\"#ed7953\"],[0.7777777777777778,\"#fb9f3a\"],[0.8888888888888888,\"#fdca26\"],[1.0,\"#f0f921\"]]}],\"choropleth\":[{\"type\":\"choropleth\",\"colorbar\":{\"outlinewidth\":0,\"ticks\":\"\"}}],\"histogram2d\":[{\"type\":\"histogram2d\",\"colorbar\":{\"outlinewidth\":0,\"ticks\":\"\"},\"colorscale\":[[0.0,\"#0d0887\"],[0.1111111111111111,\"#46039f\"],[0.2222222222222222,\"#7201a8\"],[0.3333333333333333,\"#9c179e\"],[0.4444444444444444,\"#bd3786\"],[0.5555555555555556,\"#d8576b\"],[0.6666666666666666,\"#ed7953\"],[0.7777777777777778,\"#fb9f3a\"],[0.8888888888888888,\"#fdca26\"],[1.0,\"#f0f921\"]]}],\"heatmap\":[{\"type\":\"heatmap\",\"colorbar\":{\"outlinewidth\":0,\"ticks\":\"\"},\"colorscale\":[[0.0,\"#0d0887\"],[0.1111111111111111,\"#46039f\"],[0.2222222222222222,\"#7201a8\"],[0.3333333333333333,\"#9c179e\"],[0.4444444444444444,\"#bd3786\"],[0.5555555555555556,\"#d8576b\"],[0.6666666666666666,\"#ed7953\"],[0.7777777777777778,\"#fb9f3a\"],[0.8888888888888888,\"#fdca26\"],[1.0,\"#f0f921\"]]}],\"heatmapgl\":[{\"type\":\"heatmapgl\",\"colorbar\":{\"outlinewidth\":0,\"ticks\":\"\"},\"colorscale\":[[0.0,\"#0d0887\"],[0.1111111111111111,\"#46039f\"],[0.2222222222222222,\"#7201a8\"],[0.3333333333333333,\"#9c179e\"],[0.4444444444444444,\"#bd3786\"],[0.5555555555555556,\"#d8576b\"],[0.6666666666666666,\"#ed7953\"],[0.7777777777777778,\"#fb9f3a\"],[0.8888888888888888,\"#fdca26\"],[1.0,\"#f0f921\"]]}],\"contourcarpet\":[{\"type\":\"contourcarpet\",\"colorbar\":{\"outlinewidth\":0,\"ticks\":\"\"}}],\"contour\":[{\"type\":\"contour\",\"colorbar\":{\"outlinewidth\":0,\"ticks\":\"\"},\"colorscale\":[[0.0,\"#0d0887\"],[0.1111111111111111,\"#46039f\"],[0.2222222222222222,\"#7201a8\"],[0.3333333333333333,\"#9c179e\"],[0.4444444444444444,\"#bd3786\"],[0.5555555555555556,\"#d8576b\"],[0.6666666666666666,\"#ed7953\"],[0.7777777777777778,\"#fb9f3a\"],[0.8888888888888888,\"#fdca26\"],[1.0,\"#f0f921\"]]}],\"surface\":[{\"type\":\"surface\",\"colorbar\":{\"outlinewidth\":0,\"ticks\":\"\"},\"colorscale\":[[0.0,\"#0d0887\"],[0.1111111111111111,\"#46039f\"],[0.2222222222222222,\"#7201a8\"],[0.3333333333333333,\"#9c179e\"],[0.4444444444444444,\"#bd3786\"],[0.5555555555555556,\"#d8576b\"],[0.6666666666666666,\"#ed7953\"],[0.7777777777777778,\"#fb9f3a\"],[0.8888888888888888,\"#fdca26\"],[1.0,\"#f0f921\"]]}],\"mesh3d\":[{\"type\":\"mesh3d\",\"colorbar\":{\"outlinewidth\":0,\"ticks\":\"\"}}],\"scatter\":[{\"fillpattern\":{\"fillmode\":\"overlay\",\"size\":10,\"solidity\":0.2},\"type\":\"scatter\"}],\"parcoords\":[{\"type\":\"parcoords\",\"line\":{\"colorbar\":{\"outlinewidth\":0,\"ticks\":\"\"}}}],\"scatterpolargl\":[{\"type\":\"scatterpolargl\",\"marker\":{\"colorbar\":{\"outlinewidth\":0,\"ticks\":\"\"}}}],\"bar\":[{\"error_x\":{\"color\":\"#2a3f5f\"},\"error_y\":{\"color\":\"#2a3f5f\"},\"marker\":{\"line\":{\"color\":\"#E5ECF6\",\"width\":0.5},\"pattern\":{\"fillmode\":\"overlay\",\"size\":10,\"solidity\":0.2}},\"type\":\"bar\"}],\"scattergeo\":[{\"type\":\"scattergeo\",\"marker\":{\"colorbar\":{\"outlinewidth\":0,\"ticks\":\"\"}}}],\"scatterpolar\":[{\"type\":\"scatterpolar\",\"marker\":{\"colorbar\":{\"outlinewidth\":0,\"ticks\":\"\"}}}],\"histogram\":[{\"marker\":{\"pattern\":{\"fillmode\":\"overlay\",\"size\":10,\"solidity\":0.2}},\"type\":\"histogram\"}],\"scattergl\":[{\"type\":\"scattergl\",\"marker\":{\"colorbar\":{\"outlinewidth\":0,\"ticks\":\"\"}}}],\"scatter3d\":[{\"type\":\"scatter3d\",\"line\":{\"colorbar\":{\"outlinewidth\":0,\"ticks\":\"\"}},\"marker\":{\"colorbar\":{\"outlinewidth\":0,\"ticks\":\"\"}}}],\"scattermapbox\":[{\"type\":\"scattermapbox\",\"marker\":{\"colorbar\":{\"outlinewidth\":0,\"ticks\":\"\"}}}],\"scatterternary\":[{\"type\":\"scatterternary\",\"marker\":{\"colorbar\":{\"outlinewidth\":0,\"ticks\":\"\"}}}],\"scattercarpet\":[{\"type\":\"scattercarpet\",\"marker\":{\"colorbar\":{\"outlinewidth\":0,\"ticks\":\"\"}}}],\"carpet\":[{\"aaxis\":{\"endlinecolor\":\"#2a3f5f\",\"gridcolor\":\"white\",\"linecolor\":\"white\",\"minorgridcolor\":\"white\",\"startlinecolor\":\"#2a3f5f\"},\"baxis\":{\"endlinecolor\":\"#2a3f5f\",\"gridcolor\":\"white\",\"linecolor\":\"white\",\"minorgridcolor\":\"white\",\"startlinecolor\":\"#2a3f5f\"},\"type\":\"carpet\"}],\"table\":[{\"cells\":{\"fill\":{\"color\":\"#EBF0F8\"},\"line\":{\"color\":\"white\"}},\"header\":{\"fill\":{\"color\":\"#C8D4E3\"},\"line\":{\"color\":\"white\"}},\"type\":\"table\"}],\"barpolar\":[{\"marker\":{\"line\":{\"color\":\"#E5ECF6\",\"width\":0.5},\"pattern\":{\"fillmode\":\"overlay\",\"size\":10,\"solidity\":0.2}},\"type\":\"barpolar\"}],\"pie\":[{\"automargin\":true,\"type\":\"pie\"}]},\"layout\":{\"autotypenumbers\":\"strict\",\"colorway\":[\"#636efa\",\"#EF553B\",\"#00cc96\",\"#ab63fa\",\"#FFA15A\",\"#19d3f3\",\"#FF6692\",\"#B6E880\",\"#FF97FF\",\"#FECB52\"],\"font\":{\"color\":\"#2a3f5f\"},\"hovermode\":\"closest\",\"hoverlabel\":{\"align\":\"left\"},\"paper_bgcolor\":\"white\",\"plot_bgcolor\":\"#E5ECF6\",\"polar\":{\"bgcolor\":\"#E5ECF6\",\"angularaxis\":{\"gridcolor\":\"white\",\"linecolor\":\"white\",\"ticks\":\"\"},\"radialaxis\":{\"gridcolor\":\"white\",\"linecolor\":\"white\",\"ticks\":\"\"}},\"ternary\":{\"bgcolor\":\"#E5ECF6\",\"aaxis\":{\"gridcolor\":\"white\",\"linecolor\":\"white\",\"ticks\":\"\"},\"baxis\":{\"gridcolor\":\"white\",\"linecolor\":\"white\",\"ticks\":\"\"},\"caxis\":{\"gridcolor\":\"white\",\"linecolor\":\"white\",\"ticks\":\"\"}},\"coloraxis\":{\"colorbar\":{\"outlinewidth\":0,\"ticks\":\"\"}},\"colorscale\":{\"sequential\":[[0.0,\"#0d0887\"],[0.1111111111111111,\"#46039f\"],[0.2222222222222222,\"#7201a8\"],[0.3333333333333333,\"#9c179e\"],[0.4444444444444444,\"#bd3786\"],[0.5555555555555556,\"#d8576b\"],[0.6666666666666666,\"#ed7953\"],[0.7777777777777778,\"#fb9f3a\"],[0.8888888888888888,\"#fdca26\"],[1.0,\"#f0f921\"]],\"sequentialminus\":[[0.0,\"#0d0887\"],[0.1111111111111111,\"#46039f\"],[0.2222222222222222,\"#7201a8\"],[0.3333333333333333,\"#9c179e\"],[0.4444444444444444,\"#bd3786\"],[0.5555555555555556,\"#d8576b\"],[0.6666666666666666,\"#ed7953\"],[0.7777777777777778,\"#fb9f3a\"],[0.8888888888888888,\"#fdca26\"],[1.0,\"#f0f921\"]],\"diverging\":[[0,\"#8e0152\"],[0.1,\"#c51b7d\"],[0.2,\"#de77ae\"],[0.3,\"#f1b6da\"],[0.4,\"#fde0ef\"],[0.5,\"#f7f7f7\"],[0.6,\"#e6f5d0\"],[0.7,\"#b8e186\"],[0.8,\"#7fbc41\"],[0.9,\"#4d9221\"],[1,\"#276419\"]]},\"xaxis\":{\"gridcolor\":\"white\",\"linecolor\":\"white\",\"ticks\":\"\",\"title\":{\"standoff\":15},\"zerolinecolor\":\"white\",\"automargin\":true,\"zerolinewidth\":2},\"yaxis\":{\"gridcolor\":\"white\",\"linecolor\":\"white\",\"ticks\":\"\",\"title\":{\"standoff\":15},\"zerolinecolor\":\"white\",\"automargin\":true,\"zerolinewidth\":2},\"scene\":{\"xaxis\":{\"backgroundcolor\":\"#E5ECF6\",\"gridcolor\":\"white\",\"linecolor\":\"white\",\"showbackground\":true,\"ticks\":\"\",\"zerolinecolor\":\"white\",\"gridwidth\":2},\"yaxis\":{\"backgroundcolor\":\"#E5ECF6\",\"gridcolor\":\"white\",\"linecolor\":\"white\",\"showbackground\":true,\"ticks\":\"\",\"zerolinecolor\":\"white\",\"gridwidth\":2},\"zaxis\":{\"backgroundcolor\":\"#E5ECF6\",\"gridcolor\":\"white\",\"linecolor\":\"white\",\"showbackground\":true,\"ticks\":\"\",\"zerolinecolor\":\"white\",\"gridwidth\":2}},\"shapedefaults\":{\"line\":{\"color\":\"#2a3f5f\"}},\"annotationdefaults\":{\"arrowcolor\":\"#2a3f5f\",\"arrowhead\":0,\"arrowwidth\":1},\"geo\":{\"bgcolor\":\"white\",\"landcolor\":\"#E5ECF6\",\"subunitcolor\":\"white\",\"showland\":true,\"showlakes\":true,\"lakecolor\":\"white\"},\"title\":{\"x\":0.05},\"mapbox\":{\"style\":\"light\"}}},\"xaxis\":{\"anchor\":\"y\",\"domain\":[0.0,1.0],\"title\":{\"text\":\"AJCC Pathologic N Stage\"},\"categoryorder\":\"array\",\"categoryarray\":[\"N0 (i-)\",\"N0\",\"N1\",\"N1a\",\"N0 (i+)\",\"NX\",\"N1b\",\"N2a\",\"N2\",\"N3b\",\"N3a\"],\"tickangle\":45},\"yaxis\":{\"anchor\":\"x\",\"domain\":[0.0,1.0],\"title\":{\"text\":\"Expression Level\"}},\"legend\":{\"title\":{\"text\":\"AJCC Pathologic N Stage\"},\"tracegroupgap\":0},\"title\":{\"text\":\"Average Gene Expression Across AJCC Pathologic N Stages (Aggregated by Case)\"},\"boxmode\":\"overlay\",\"showlegend\":false},                        {\"responsive\": true}                    ).then(function(){\n",
       "                            \n",
       "var gd = document.getElementById('e41d93c1-0e59-4955-8608-33767fa97e36');\n",
       "var x = new MutationObserver(function (mutations, observer) {{\n",
       "        var display = window.getComputedStyle(gd).display;\n",
       "        if (!display || display === 'none') {{\n",
       "            console.log([gd, 'removed!']);\n",
       "            Plotly.purge(gd);\n",
       "            observer.disconnect();\n",
       "        }}\n",
       "}});\n",
       "\n",
       "// Listen for the removal of the full notebook cells\n",
       "var notebookContainer = gd.closest('#notebook-container');\n",
       "if (notebookContainer) {{\n",
       "    x.observe(notebookContainer, {childList: true});\n",
       "}}\n",
       "\n",
       "// Listen for the clearing of the current output cell\n",
       "var outputEl = gd.closest('.output');\n",
       "if (outputEl) {{\n",
       "    x.observe(outputEl, {childList: true});\n",
       "}}\n",
       "\n",
       "                        })                };                });            </script>        </div>"
      ]
     },
     "metadata": {},
     "output_type": "display_data"
    }
   ],
   "source": [
    "# Filter out \"Unknown\" and NaN values for AJCC Pathologic N stages\n",
    "filtered_data_state_n = aggregated_data[\n",
    "    (aggregated_data['ajcc_pathologic_n'] != \"Unknown\") & (aggregated_data['ajcc_pathologic_n']!= \"nan\")\n",
    "]\n",
    "\n",
    "# Create a box plot using Plotly\n",
    "fig = px.box(\n",
    "    filtered_data_state_n,\n",
    "    x='ajcc_pathologic_n',\n",
    "    y='Expression',\n",
    "    color='ajcc_pathologic_n',  # Optional: Assign a unique color to each category\n",
    "    title=\"Average Gene Expression Across AJCC Pathologic N Stages (Aggregated by Case)\",\n",
    "    labels={\n",
    "        'ajcc_pathologic_n': 'AJCC Pathologic N Stage',\n",
    "        'Expression': 'Expression Level'\n",
    "    },\n",
    "    color_discrete_sequence=px.colors.qualitative.Pastel \n",
    ")\n",
    "\n",
    "# Update layout\n",
    "fig.update_layout(\n",
    "    xaxis_title=\"AJCC Pathologic N Stage\",\n",
    "    yaxis_title=\"Expression Level\",\n",
    "    xaxis_tickangle=45,\n",
    "    showlegend=False  \n",
    ")\n",
    "\n",
    "# Display the plot\n",
    "fig.show()\n"
   ]
  },
  {
   "cell_type": "code",
   "execution_count": 201,
   "id": "371578aa-0604-40c2-9ea0-cfb715bb7947",
   "metadata": {},
   "outputs": [
    {
     "data": {
      "application/vnd.plotly.v1+json": {
       "config": {
        "plotlyServerURL": "https://plot.ly"
       },
       "data": [
        {
         "alignmentgroup": "True",
         "hovertemplate": "AJCC Pathologic M Stage=%{x}<br>Expression Level=%{y}<extra></extra>",
         "legendgroup": "M0",
         "marker": {
          "color": "rgb(102, 197, 204)"
         },
         "name": "M0",
         "notched": false,
         "offsetgroup": "M0",
         "orientation": "v",
         "showlegend": true,
         "type": "box",
         "x": [
          "M0",
          "M0",
          "M0",
          "M0",
          "M0",
          "M0",
          "M0",
          "M0",
          "M0",
          "M0",
          "M0",
          "M0",
          "M0",
          "M0",
          "M0",
          "M0",
          "M0",
          "M0",
          "M0",
          "M0",
          "M0",
          "M0",
          "M0",
          "M0",
          "M0",
          "M0",
          "M0",
          "M0",
          "M0",
          "M0",
          "M0",
          "M0",
          "M0"
         ],
         "x0": " ",
         "xaxis": "x",
         "y": [
          0.8705877092106236,
          -0.049581670356946134,
          0.241313358082682,
          -0.03455853653728149,
          0.11137376478146468,
          0.13429987657290962,
          -0.45784027740236266,
          -0.037974141608749644,
          -0.30315187584912984,
          -0.21552716453507645,
          0.8473383197307665,
          -0.09540479166268297,
          -0.1175246246935252,
          1.0603187936636547,
          -0.2367875562323537,
          0.15520710761673004,
          0.38744337381026245,
          0.5792641979379572,
          0.14832374891362665,
          0.20642703815213284,
          0.16181513060980704,
          0.8980817773556306,
          0.0718089166437936,
          0.015515077682287578,
          0.08753503892490487,
          0.5061037368680184,
          -0.0987787432626727,
          -0.2536141852626979,
          0.7111021218767489,
          0.18138360470579093,
          0.32932413730300325,
          -0.11700441898763135,
          0.4615712146052829
         ],
         "y0": " ",
         "yaxis": "y"
        },
        {
         "alignmentgroup": "True",
         "hovertemplate": "AJCC Pathologic M Stage=%{x}<br>Expression Level=%{y}<extra></extra>",
         "legendgroup": "MX",
         "marker": {
          "color": "rgb(246, 207, 113)"
         },
         "name": "MX",
         "notched": false,
         "offsetgroup": "MX",
         "orientation": "v",
         "showlegend": true,
         "type": "box",
         "x": [
          "MX",
          "MX",
          "MX",
          "MX",
          "MX",
          "MX",
          "MX",
          "MX",
          "MX"
         ],
         "x0": " ",
         "xaxis": "x",
         "y": [
          0.8466634271444605,
          -0.20071051172881604,
          0.3617311645626425,
          0.07315467835108935,
          0.02519173439879645,
          0.15322288638076462,
          0.9991603296976509,
          0.0551027250564312,
          0.5524361984877707
         ],
         "y0": " ",
         "yaxis": "y"
        },
        {
         "alignmentgroup": "True",
         "hovertemplate": "AJCC Pathologic M Stage=%{x}<br>Expression Level=%{y}<extra></extra>",
         "legendgroup": "cM0 (i+)",
         "marker": {
          "color": "rgb(248, 156, 116)"
         },
         "name": "cM0 (i+)",
         "notched": false,
         "offsetgroup": "cM0 (i+)",
         "orientation": "v",
         "showlegend": true,
         "type": "box",
         "x": [
          "cM0 (i+)"
         ],
         "x0": " ",
         "xaxis": "x",
         "y": [
          0.5843681205673026
         ],
         "y0": " ",
         "yaxis": "y"
        }
       ],
       "layout": {
        "autosize": true,
        "boxmode": "overlay",
        "legend": {
         "title": {
          "text": "AJCC Pathologic M Stage"
         },
         "tracegroupgap": 0
        },
        "showlegend": false,
        "template": {
         "data": {
          "bar": [
           {
            "error_x": {
             "color": "#2a3f5f"
            },
            "error_y": {
             "color": "#2a3f5f"
            },
            "marker": {
             "line": {
              "color": "#E5ECF6",
              "width": 0.5
             },
             "pattern": {
              "fillmode": "overlay",
              "size": 10,
              "solidity": 0.2
             }
            },
            "type": "bar"
           }
          ],
          "barpolar": [
           {
            "marker": {
             "line": {
              "color": "#E5ECF6",
              "width": 0.5
             },
             "pattern": {
              "fillmode": "overlay",
              "size": 10,
              "solidity": 0.2
             }
            },
            "type": "barpolar"
           }
          ],
          "carpet": [
           {
            "aaxis": {
             "endlinecolor": "#2a3f5f",
             "gridcolor": "white",
             "linecolor": "white",
             "minorgridcolor": "white",
             "startlinecolor": "#2a3f5f"
            },
            "baxis": {
             "endlinecolor": "#2a3f5f",
             "gridcolor": "white",
             "linecolor": "white",
             "minorgridcolor": "white",
             "startlinecolor": "#2a3f5f"
            },
            "type": "carpet"
           }
          ],
          "choropleth": [
           {
            "colorbar": {
             "outlinewidth": 0,
             "ticks": ""
            },
            "type": "choropleth"
           }
          ],
          "contour": [
           {
            "colorbar": {
             "outlinewidth": 0,
             "ticks": ""
            },
            "colorscale": [
             [
              0,
              "#0d0887"
             ],
             [
              0.1111111111111111,
              "#46039f"
             ],
             [
              0.2222222222222222,
              "#7201a8"
             ],
             [
              0.3333333333333333,
              "#9c179e"
             ],
             [
              0.4444444444444444,
              "#bd3786"
             ],
             [
              0.5555555555555556,
              "#d8576b"
             ],
             [
              0.6666666666666666,
              "#ed7953"
             ],
             [
              0.7777777777777778,
              "#fb9f3a"
             ],
             [
              0.8888888888888888,
              "#fdca26"
             ],
             [
              1,
              "#f0f921"
             ]
            ],
            "type": "contour"
           }
          ],
          "contourcarpet": [
           {
            "colorbar": {
             "outlinewidth": 0,
             "ticks": ""
            },
            "type": "contourcarpet"
           }
          ],
          "heatmap": [
           {
            "colorbar": {
             "outlinewidth": 0,
             "ticks": ""
            },
            "colorscale": [
             [
              0,
              "#0d0887"
             ],
             [
              0.1111111111111111,
              "#46039f"
             ],
             [
              0.2222222222222222,
              "#7201a8"
             ],
             [
              0.3333333333333333,
              "#9c179e"
             ],
             [
              0.4444444444444444,
              "#bd3786"
             ],
             [
              0.5555555555555556,
              "#d8576b"
             ],
             [
              0.6666666666666666,
              "#ed7953"
             ],
             [
              0.7777777777777778,
              "#fb9f3a"
             ],
             [
              0.8888888888888888,
              "#fdca26"
             ],
             [
              1,
              "#f0f921"
             ]
            ],
            "type": "heatmap"
           }
          ],
          "heatmapgl": [
           {
            "colorbar": {
             "outlinewidth": 0,
             "ticks": ""
            },
            "colorscale": [
             [
              0,
              "#0d0887"
             ],
             [
              0.1111111111111111,
              "#46039f"
             ],
             [
              0.2222222222222222,
              "#7201a8"
             ],
             [
              0.3333333333333333,
              "#9c179e"
             ],
             [
              0.4444444444444444,
              "#bd3786"
             ],
             [
              0.5555555555555556,
              "#d8576b"
             ],
             [
              0.6666666666666666,
              "#ed7953"
             ],
             [
              0.7777777777777778,
              "#fb9f3a"
             ],
             [
              0.8888888888888888,
              "#fdca26"
             ],
             [
              1,
              "#f0f921"
             ]
            ],
            "type": "heatmapgl"
           }
          ],
          "histogram": [
           {
            "marker": {
             "pattern": {
              "fillmode": "overlay",
              "size": 10,
              "solidity": 0.2
             }
            },
            "type": "histogram"
           }
          ],
          "histogram2d": [
           {
            "colorbar": {
             "outlinewidth": 0,
             "ticks": ""
            },
            "colorscale": [
             [
              0,
              "#0d0887"
             ],
             [
              0.1111111111111111,
              "#46039f"
             ],
             [
              0.2222222222222222,
              "#7201a8"
             ],
             [
              0.3333333333333333,
              "#9c179e"
             ],
             [
              0.4444444444444444,
              "#bd3786"
             ],
             [
              0.5555555555555556,
              "#d8576b"
             ],
             [
              0.6666666666666666,
              "#ed7953"
             ],
             [
              0.7777777777777778,
              "#fb9f3a"
             ],
             [
              0.8888888888888888,
              "#fdca26"
             ],
             [
              1,
              "#f0f921"
             ]
            ],
            "type": "histogram2d"
           }
          ],
          "histogram2dcontour": [
           {
            "colorbar": {
             "outlinewidth": 0,
             "ticks": ""
            },
            "colorscale": [
             [
              0,
              "#0d0887"
             ],
             [
              0.1111111111111111,
              "#46039f"
             ],
             [
              0.2222222222222222,
              "#7201a8"
             ],
             [
              0.3333333333333333,
              "#9c179e"
             ],
             [
              0.4444444444444444,
              "#bd3786"
             ],
             [
              0.5555555555555556,
              "#d8576b"
             ],
             [
              0.6666666666666666,
              "#ed7953"
             ],
             [
              0.7777777777777778,
              "#fb9f3a"
             ],
             [
              0.8888888888888888,
              "#fdca26"
             ],
             [
              1,
              "#f0f921"
             ]
            ],
            "type": "histogram2dcontour"
           }
          ],
          "mesh3d": [
           {
            "colorbar": {
             "outlinewidth": 0,
             "ticks": ""
            },
            "type": "mesh3d"
           }
          ],
          "parcoords": [
           {
            "line": {
             "colorbar": {
              "outlinewidth": 0,
              "ticks": ""
             }
            },
            "type": "parcoords"
           }
          ],
          "pie": [
           {
            "automargin": true,
            "type": "pie"
           }
          ],
          "scatter": [
           {
            "fillpattern": {
             "fillmode": "overlay",
             "size": 10,
             "solidity": 0.2
            },
            "type": "scatter"
           }
          ],
          "scatter3d": [
           {
            "line": {
             "colorbar": {
              "outlinewidth": 0,
              "ticks": ""
             }
            },
            "marker": {
             "colorbar": {
              "outlinewidth": 0,
              "ticks": ""
             }
            },
            "type": "scatter3d"
           }
          ],
          "scattercarpet": [
           {
            "marker": {
             "colorbar": {
              "outlinewidth": 0,
              "ticks": ""
             }
            },
            "type": "scattercarpet"
           }
          ],
          "scattergeo": [
           {
            "marker": {
             "colorbar": {
              "outlinewidth": 0,
              "ticks": ""
             }
            },
            "type": "scattergeo"
           }
          ],
          "scattergl": [
           {
            "marker": {
             "colorbar": {
              "outlinewidth": 0,
              "ticks": ""
             }
            },
            "type": "scattergl"
           }
          ],
          "scattermapbox": [
           {
            "marker": {
             "colorbar": {
              "outlinewidth": 0,
              "ticks": ""
             }
            },
            "type": "scattermapbox"
           }
          ],
          "scatterpolar": [
           {
            "marker": {
             "colorbar": {
              "outlinewidth": 0,
              "ticks": ""
             }
            },
            "type": "scatterpolar"
           }
          ],
          "scatterpolargl": [
           {
            "marker": {
             "colorbar": {
              "outlinewidth": 0,
              "ticks": ""
             }
            },
            "type": "scatterpolargl"
           }
          ],
          "scatterternary": [
           {
            "marker": {
             "colorbar": {
              "outlinewidth": 0,
              "ticks": ""
             }
            },
            "type": "scatterternary"
           }
          ],
          "surface": [
           {
            "colorbar": {
             "outlinewidth": 0,
             "ticks": ""
            },
            "colorscale": [
             [
              0,
              "#0d0887"
             ],
             [
              0.1111111111111111,
              "#46039f"
             ],
             [
              0.2222222222222222,
              "#7201a8"
             ],
             [
              0.3333333333333333,
              "#9c179e"
             ],
             [
              0.4444444444444444,
              "#bd3786"
             ],
             [
              0.5555555555555556,
              "#d8576b"
             ],
             [
              0.6666666666666666,
              "#ed7953"
             ],
             [
              0.7777777777777778,
              "#fb9f3a"
             ],
             [
              0.8888888888888888,
              "#fdca26"
             ],
             [
              1,
              "#f0f921"
             ]
            ],
            "type": "surface"
           }
          ],
          "table": [
           {
            "cells": {
             "fill": {
              "color": "#EBF0F8"
             },
             "line": {
              "color": "white"
             }
            },
            "header": {
             "fill": {
              "color": "#C8D4E3"
             },
             "line": {
              "color": "white"
             }
            },
            "type": "table"
           }
          ]
         },
         "layout": {
          "annotationdefaults": {
           "arrowcolor": "#2a3f5f",
           "arrowhead": 0,
           "arrowwidth": 1
          },
          "autotypenumbers": "strict",
          "coloraxis": {
           "colorbar": {
            "outlinewidth": 0,
            "ticks": ""
           }
          },
          "colorscale": {
           "diverging": [
            [
             0,
             "#8e0152"
            ],
            [
             0.1,
             "#c51b7d"
            ],
            [
             0.2,
             "#de77ae"
            ],
            [
             0.3,
             "#f1b6da"
            ],
            [
             0.4,
             "#fde0ef"
            ],
            [
             0.5,
             "#f7f7f7"
            ],
            [
             0.6,
             "#e6f5d0"
            ],
            [
             0.7,
             "#b8e186"
            ],
            [
             0.8,
             "#7fbc41"
            ],
            [
             0.9,
             "#4d9221"
            ],
            [
             1,
             "#276419"
            ]
           ],
           "sequential": [
            [
             0,
             "#0d0887"
            ],
            [
             0.1111111111111111,
             "#46039f"
            ],
            [
             0.2222222222222222,
             "#7201a8"
            ],
            [
             0.3333333333333333,
             "#9c179e"
            ],
            [
             0.4444444444444444,
             "#bd3786"
            ],
            [
             0.5555555555555556,
             "#d8576b"
            ],
            [
             0.6666666666666666,
             "#ed7953"
            ],
            [
             0.7777777777777778,
             "#fb9f3a"
            ],
            [
             0.8888888888888888,
             "#fdca26"
            ],
            [
             1,
             "#f0f921"
            ]
           ],
           "sequentialminus": [
            [
             0,
             "#0d0887"
            ],
            [
             0.1111111111111111,
             "#46039f"
            ],
            [
             0.2222222222222222,
             "#7201a8"
            ],
            [
             0.3333333333333333,
             "#9c179e"
            ],
            [
             0.4444444444444444,
             "#bd3786"
            ],
            [
             0.5555555555555556,
             "#d8576b"
            ],
            [
             0.6666666666666666,
             "#ed7953"
            ],
            [
             0.7777777777777778,
             "#fb9f3a"
            ],
            [
             0.8888888888888888,
             "#fdca26"
            ],
            [
             1,
             "#f0f921"
            ]
           ]
          },
          "colorway": [
           "#636efa",
           "#EF553B",
           "#00cc96",
           "#ab63fa",
           "#FFA15A",
           "#19d3f3",
           "#FF6692",
           "#B6E880",
           "#FF97FF",
           "#FECB52"
          ],
          "font": {
           "color": "#2a3f5f"
          },
          "geo": {
           "bgcolor": "white",
           "lakecolor": "white",
           "landcolor": "#E5ECF6",
           "showlakes": true,
           "showland": true,
           "subunitcolor": "white"
          },
          "hoverlabel": {
           "align": "left"
          },
          "hovermode": "closest",
          "mapbox": {
           "style": "light"
          },
          "paper_bgcolor": "white",
          "plot_bgcolor": "#E5ECF6",
          "polar": {
           "angularaxis": {
            "gridcolor": "white",
            "linecolor": "white",
            "ticks": ""
           },
           "bgcolor": "#E5ECF6",
           "radialaxis": {
            "gridcolor": "white",
            "linecolor": "white",
            "ticks": ""
           }
          },
          "scene": {
           "xaxis": {
            "backgroundcolor": "#E5ECF6",
            "gridcolor": "white",
            "gridwidth": 2,
            "linecolor": "white",
            "showbackground": true,
            "ticks": "",
            "zerolinecolor": "white"
           },
           "yaxis": {
            "backgroundcolor": "#E5ECF6",
            "gridcolor": "white",
            "gridwidth": 2,
            "linecolor": "white",
            "showbackground": true,
            "ticks": "",
            "zerolinecolor": "white"
           },
           "zaxis": {
            "backgroundcolor": "#E5ECF6",
            "gridcolor": "white",
            "gridwidth": 2,
            "linecolor": "white",
            "showbackground": true,
            "ticks": "",
            "zerolinecolor": "white"
           }
          },
          "shapedefaults": {
           "line": {
            "color": "#2a3f5f"
           }
          },
          "ternary": {
           "aaxis": {
            "gridcolor": "white",
            "linecolor": "white",
            "ticks": ""
           },
           "baxis": {
            "gridcolor": "white",
            "linecolor": "white",
            "ticks": ""
           },
           "bgcolor": "#E5ECF6",
           "caxis": {
            "gridcolor": "white",
            "linecolor": "white",
            "ticks": ""
           }
          },
          "title": {
           "x": 0.05
          },
          "xaxis": {
           "automargin": true,
           "gridcolor": "white",
           "linecolor": "white",
           "ticks": "",
           "title": {
            "standoff": 15
           },
           "zerolinecolor": "white",
           "zerolinewidth": 2
          },
          "yaxis": {
           "automargin": true,
           "gridcolor": "white",
           "linecolor": "white",
           "ticks": "",
           "title": {
            "standoff": 15
           },
           "zerolinecolor": "white",
           "zerolinewidth": 2
          }
         }
        },
        "title": {
         "text": "Average Gene Expression Across AJCC Pathologic M Stages (Aggregated by Case)"
        },
        "xaxis": {
         "anchor": "y",
         "autorange": true,
         "categoryarray": [
          "M0",
          "MX",
          "cM0 (i+)"
         ],
         "categoryorder": "array",
         "domain": [
          0,
          1
         ],
         "range": [
          -0.5,
          2.5
         ],
         "tickangle": 45,
         "title": {
          "text": "AJCC Pathologic M Stage"
         },
         "type": "category"
        },
        "yaxis": {
         "anchor": "x",
         "autorange": true,
         "domain": [
          0,
          1
         ],
         "range": [
          -0.5421824480171414,
          1.1446609642784333
         ],
         "title": {
          "text": "Expression Level"
         },
         "type": "linear"
        }
       }
      },
      "image/png": "[encoded data removed]",
      "text/html": [
       "<div>                            <div id=\"a882a735-4248-42c8-8d6f-6369eef65cfa\" class=\"plotly-graph-div\" style=\"height:525px; width:100%;\"></div>            <script type=\"text/javascript\">                require([\"plotly\"], function(Plotly) {                    window.PLOTLYENV=window.PLOTLYENV || {};                                    if (document.getElementById(\"a882a735-4248-42c8-8d6f-6369eef65cfa\")) {                    Plotly.newPlot(                        \"a882a735-4248-42c8-8d6f-6369eef65cfa\",                        [{\"alignmentgroup\":\"True\",\"hovertemplate\":\"AJCC Pathologic M Stage=%{x}\\u003cbr\\u003eExpression Level=%{y}\\u003cextra\\u003e\\u003c\\u002fextra\\u003e\",\"legendgroup\":\"M0\",\"marker\":{\"color\":\"rgb(102, 197, 204)\"},\"name\":\"M0\",\"notched\":false,\"offsetgroup\":\"M0\",\"orientation\":\"v\",\"showlegend\":true,\"x\":[\"M0\",\"M0\",\"M0\",\"M0\",\"M0\",\"M0\",\"M0\",\"M0\",\"M0\",\"M0\",\"M0\",\"M0\",\"M0\",\"M0\",\"M0\",\"M0\",\"M0\",\"M0\",\"M0\",\"M0\",\"M0\",\"M0\",\"M0\",\"M0\",\"M0\",\"M0\",\"M0\",\"M0\",\"M0\",\"M0\",\"M0\",\"M0\",\"M0\"],\"x0\":\" \",\"xaxis\":\"x\",\"y\":[0.8705877092106236,-0.049581670356946134,0.241313358082682,-0.03455853653728149,0.11137376478146468,0.13429987657290962,-0.45784027740236266,-0.037974141608749644,-0.30315187584912984,-0.21552716453507645,0.8473383197307665,-0.09540479166268297,-0.1175246246935252,1.0603187936636547,-0.2367875562323537,0.15520710761673004,0.38744337381026245,0.5792641979379572,0.14832374891362665,0.20642703815213284,0.16181513060980704,0.8980817773556306,0.0718089166437936,0.015515077682287578,0.08753503892490487,0.5061037368680184,-0.0987787432626727,-0.2536141852626979,0.7111021218767489,0.18138360470579093,0.32932413730300325,-0.11700441898763135,0.4615712146052829],\"y0\":\" \",\"yaxis\":\"y\",\"type\":\"box\"},{\"alignmentgroup\":\"True\",\"hovertemplate\":\"AJCC Pathologic M Stage=%{x}\\u003cbr\\u003eExpression Level=%{y}\\u003cextra\\u003e\\u003c\\u002fextra\\u003e\",\"legendgroup\":\"MX\",\"marker\":{\"color\":\"rgb(246, 207, 113)\"},\"name\":\"MX\",\"notched\":false,\"offsetgroup\":\"MX\",\"orientation\":\"v\",\"showlegend\":true,\"x\":[\"MX\",\"MX\",\"MX\",\"MX\",\"MX\",\"MX\",\"MX\",\"MX\",\"MX\"],\"x0\":\" \",\"xaxis\":\"x\",\"y\":[0.8466634271444605,-0.20071051172881604,0.3617311645626425,0.07315467835108935,0.02519173439879645,0.15322288638076462,0.9991603296976509,0.0551027250564312,0.5524361984877707],\"y0\":\" \",\"yaxis\":\"y\",\"type\":\"box\"},{\"alignmentgroup\":\"True\",\"hovertemplate\":\"AJCC Pathologic M Stage=%{x}\\u003cbr\\u003eExpression Level=%{y}\\u003cextra\\u003e\\u003c\\u002fextra\\u003e\",\"legendgroup\":\"cM0 (i+)\",\"marker\":{\"color\":\"rgb(248, 156, 116)\"},\"name\":\"cM0 (i+)\",\"notched\":false,\"offsetgroup\":\"cM0 (i+)\",\"orientation\":\"v\",\"showlegend\":true,\"x\":[\"cM0 (i+)\"],\"x0\":\" \",\"xaxis\":\"x\",\"y\":[0.5843681205673026],\"y0\":\" \",\"yaxis\":\"y\",\"type\":\"box\"}],                        {\"template\":{\"data\":{\"histogram2dcontour\":[{\"type\":\"histogram2dcontour\",\"colorbar\":{\"outlinewidth\":0,\"ticks\":\"\"},\"colorscale\":[[0.0,\"#0d0887\"],[0.1111111111111111,\"#46039f\"],[0.2222222222222222,\"#7201a8\"],[0.3333333333333333,\"#9c179e\"],[0.4444444444444444,\"#bd3786\"],[0.5555555555555556,\"#d8576b\"],[0.6666666666666666,\"#ed7953\"],[0.7777777777777778,\"#fb9f3a\"],[0.8888888888888888,\"#fdca26\"],[1.0,\"#f0f921\"]]}],\"choropleth\":[{\"type\":\"choropleth\",\"colorbar\":{\"outlinewidth\":0,\"ticks\":\"\"}}],\"histogram2d\":[{\"type\":\"histogram2d\",\"colorbar\":{\"outlinewidth\":0,\"ticks\":\"\"},\"colorscale\":[[0.0,\"#0d0887\"],[0.1111111111111111,\"#46039f\"],[0.2222222222222222,\"#7201a8\"],[0.3333333333333333,\"#9c179e\"],[0.4444444444444444,\"#bd3786\"],[0.5555555555555556,\"#d8576b\"],[0.6666666666666666,\"#ed7953\"],[0.7777777777777778,\"#fb9f3a\"],[0.8888888888888888,\"#fdca26\"],[1.0,\"#f0f921\"]]}],\"heatmap\":[{\"type\":\"heatmap\",\"colorbar\":{\"outlinewidth\":0,\"ticks\":\"\"},\"colorscale\":[[0.0,\"#0d0887\"],[0.1111111111111111,\"#46039f\"],[0.2222222222222222,\"#7201a8\"],[0.3333333333333333,\"#9c179e\"],[0.4444444444444444,\"#bd3786\"],[0.5555555555555556,\"#d8576b\"],[0.6666666666666666,\"#ed7953\"],[0.7777777777777778,\"#fb9f3a\"],[0.8888888888888888,\"#fdca26\"],[1.0,\"#f0f921\"]]}],\"heatmapgl\":[{\"type\":\"heatmapgl\",\"colorbar\":{\"outlinewidth\":0,\"ticks\":\"\"},\"colorscale\":[[0.0,\"#0d0887\"],[0.1111111111111111,\"#46039f\"],[0.2222222222222222,\"#7201a8\"],[0.3333333333333333,\"#9c179e\"],[0.4444444444444444,\"#bd3786\"],[0.5555555555555556,\"#d8576b\"],[0.6666666666666666,\"#ed7953\"],[0.7777777777777778,\"#fb9f3a\"],[0.8888888888888888,\"#fdca26\"],[1.0,\"#f0f921\"]]}],\"contourcarpet\":[{\"type\":\"contourcarpet\",\"colorbar\":{\"outlinewidth\":0,\"ticks\":\"\"}}],\"contour\":[{\"type\":\"contour\",\"colorbar\":{\"outlinewidth\":0,\"ticks\":\"\"},\"colorscale\":[[0.0,\"#0d0887\"],[0.1111111111111111,\"#46039f\"],[0.2222222222222222,\"#7201a8\"],[0.3333333333333333,\"#9c179e\"],[0.4444444444444444,\"#bd3786\"],[0.5555555555555556,\"#d8576b\"],[0.6666666666666666,\"#ed7953\"],[0.7777777777777778,\"#fb9f3a\"],[0.8888888888888888,\"#fdca26\"],[1.0,\"#f0f921\"]]}],\"surface\":[{\"type\":\"surface\",\"colorbar\":{\"outlinewidth\":0,\"ticks\":\"\"},\"colorscale\":[[0.0,\"#0d0887\"],[0.1111111111111111,\"#46039f\"],[0.2222222222222222,\"#7201a8\"],[0.3333333333333333,\"#9c179e\"],[0.4444444444444444,\"#bd3786\"],[0.5555555555555556,\"#d8576b\"],[0.6666666666666666,\"#ed7953\"],[0.7777777777777778,\"#fb9f3a\"],[0.8888888888888888,\"#fdca26\"],[1.0,\"#f0f921\"]]}],\"mesh3d\":[{\"type\":\"mesh3d\",\"colorbar\":{\"outlinewidth\":0,\"ticks\":\"\"}}],\"scatter\":[{\"fillpattern\":{\"fillmode\":\"overlay\",\"size\":10,\"solidity\":0.2},\"type\":\"scatter\"}],\"parcoords\":[{\"type\":\"parcoords\",\"line\":{\"colorbar\":{\"outlinewidth\":0,\"ticks\":\"\"}}}],\"scatterpolargl\":[{\"type\":\"scatterpolargl\",\"marker\":{\"colorbar\":{\"outlinewidth\":0,\"ticks\":\"\"}}}],\"bar\":[{\"error_x\":{\"color\":\"#2a3f5f\"},\"error_y\":{\"color\":\"#2a3f5f\"},\"marker\":{\"line\":{\"color\":\"#E5ECF6\",\"width\":0.5},\"pattern\":{\"fillmode\":\"overlay\",\"size\":10,\"solidity\":0.2}},\"type\":\"bar\"}],\"scattergeo\":[{\"type\":\"scattergeo\",\"marker\":{\"colorbar\":{\"outlinewidth\":0,\"ticks\":\"\"}}}],\"scatterpolar\":[{\"type\":\"scatterpolar\",\"marker\":{\"colorbar\":{\"outlinewidth\":0,\"ticks\":\"\"}}}],\"histogram\":[{\"marker\":{\"pattern\":{\"fillmode\":\"overlay\",\"size\":10,\"solidity\":0.2}},\"type\":\"histogram\"}],\"scattergl\":[{\"type\":\"scattergl\",\"marker\":{\"colorbar\":{\"outlinewidth\":0,\"ticks\":\"\"}}}],\"scatter3d\":[{\"type\":\"scatter3d\",\"line\":{\"colorbar\":{\"outlinewidth\":0,\"ticks\":\"\"}},\"marker\":{\"colorbar\":{\"outlinewidth\":0,\"ticks\":\"\"}}}],\"scattermapbox\":[{\"type\":\"scattermapbox\",\"marker\":{\"colorbar\":{\"outlinewidth\":0,\"ticks\":\"\"}}}],\"scatterternary\":[{\"type\":\"scatterternary\",\"marker\":{\"colorbar\":{\"outlinewidth\":0,\"ticks\":\"\"}}}],\"scattercarpet\":[{\"type\":\"scattercarpet\",\"marker\":{\"colorbar\":{\"outlinewidth\":0,\"ticks\":\"\"}}}],\"carpet\":[{\"aaxis\":{\"endlinecolor\":\"#2a3f5f\",\"gridcolor\":\"white\",\"linecolor\":\"white\",\"minorgridcolor\":\"white\",\"startlinecolor\":\"#2a3f5f\"},\"baxis\":{\"endlinecolor\":\"#2a3f5f\",\"gridcolor\":\"white\",\"linecolor\":\"white\",\"minorgridcolor\":\"white\",\"startlinecolor\":\"#2a3f5f\"},\"type\":\"carpet\"}],\"table\":[{\"cells\":{\"fill\":{\"color\":\"#EBF0F8\"},\"line\":{\"color\":\"white\"}},\"header\":{\"fill\":{\"color\":\"#C8D4E3\"},\"line\":{\"color\":\"white\"}},\"type\":\"table\"}],\"barpolar\":[{\"marker\":{\"line\":{\"color\":\"#E5ECF6\",\"width\":0.5},\"pattern\":{\"fillmode\":\"overlay\",\"size\":10,\"solidity\":0.2}},\"type\":\"barpolar\"}],\"pie\":[{\"automargin\":true,\"type\":\"pie\"}]},\"layout\":{\"autotypenumbers\":\"strict\",\"colorway\":[\"#636efa\",\"#EF553B\",\"#00cc96\",\"#ab63fa\",\"#FFA15A\",\"#19d3f3\",\"#FF6692\",\"#B6E880\",\"#FF97FF\",\"#FECB52\"],\"font\":{\"color\":\"#2a3f5f\"},\"hovermode\":\"closest\",\"hoverlabel\":{\"align\":\"left\"},\"paper_bgcolor\":\"white\",\"plot_bgcolor\":\"#E5ECF6\",\"polar\":{\"bgcolor\":\"#E5ECF6\",\"angularaxis\":{\"gridcolor\":\"white\",\"linecolor\":\"white\",\"ticks\":\"\"},\"radialaxis\":{\"gridcolor\":\"white\",\"linecolor\":\"white\",\"ticks\":\"\"}},\"ternary\":{\"bgcolor\":\"#E5ECF6\",\"aaxis\":{\"gridcolor\":\"white\",\"linecolor\":\"white\",\"ticks\":\"\"},\"baxis\":{\"gridcolor\":\"white\",\"linecolor\":\"white\",\"ticks\":\"\"},\"caxis\":{\"gridcolor\":\"white\",\"linecolor\":\"white\",\"ticks\":\"\"}},\"coloraxis\":{\"colorbar\":{\"outlinewidth\":0,\"ticks\":\"\"}},\"colorscale\":{\"sequential\":[[0.0,\"#0d0887\"],[0.1111111111111111,\"#46039f\"],[0.2222222222222222,\"#7201a8\"],[0.3333333333333333,\"#9c179e\"],[0.4444444444444444,\"#bd3786\"],[0.5555555555555556,\"#d8576b\"],[0.6666666666666666,\"#ed7953\"],[0.7777777777777778,\"#fb9f3a\"],[0.8888888888888888,\"#fdca26\"],[1.0,\"#f0f921\"]],\"sequentialminus\":[[0.0,\"#0d0887\"],[0.1111111111111111,\"#46039f\"],[0.2222222222222222,\"#7201a8\"],[0.3333333333333333,\"#9c179e\"],[0.4444444444444444,\"#bd3786\"],[0.5555555555555556,\"#d8576b\"],[0.6666666666666666,\"#ed7953\"],[0.7777777777777778,\"#fb9f3a\"],[0.8888888888888888,\"#fdca26\"],[1.0,\"#f0f921\"]],\"diverging\":[[0,\"#8e0152\"],[0.1,\"#c51b7d\"],[0.2,\"#de77ae\"],[0.3,\"#f1b6da\"],[0.4,\"#fde0ef\"],[0.5,\"#f7f7f7\"],[0.6,\"#e6f5d0\"],[0.7,\"#b8e186\"],[0.8,\"#7fbc41\"],[0.9,\"#4d9221\"],[1,\"#276419\"]]},\"xaxis\":{\"gridcolor\":\"white\",\"linecolor\":\"white\",\"ticks\":\"\",\"title\":{\"standoff\":15},\"zerolinecolor\":\"white\",\"automargin\":true,\"zerolinewidth\":2},\"yaxis\":{\"gridcolor\":\"white\",\"linecolor\":\"white\",\"ticks\":\"\",\"title\":{\"standoff\":15},\"zerolinecolor\":\"white\",\"automargin\":true,\"zerolinewidth\":2},\"scene\":{\"xaxis\":{\"backgroundcolor\":\"#E5ECF6\",\"gridcolor\":\"white\",\"linecolor\":\"white\",\"showbackground\":true,\"ticks\":\"\",\"zerolinecolor\":\"white\",\"gridwidth\":2},\"yaxis\":{\"backgroundcolor\":\"#E5ECF6\",\"gridcolor\":\"white\",\"linecolor\":\"white\",\"showbackground\":true,\"ticks\":\"\",\"zerolinecolor\":\"white\",\"gridwidth\":2},\"zaxis\":{\"backgroundcolor\":\"#E5ECF6\",\"gridcolor\":\"white\",\"linecolor\":\"white\",\"showbackground\":true,\"ticks\":\"\",\"zerolinecolor\":\"white\",\"gridwidth\":2}},\"shapedefaults\":{\"line\":{\"color\":\"#2a3f5f\"}},\"annotationdefaults\":{\"arrowcolor\":\"#2a3f5f\",\"arrowhead\":0,\"arrowwidth\":1},\"geo\":{\"bgcolor\":\"white\",\"landcolor\":\"#E5ECF6\",\"subunitcolor\":\"white\",\"showland\":true,\"showlakes\":true,\"lakecolor\":\"white\"},\"title\":{\"x\":0.05},\"mapbox\":{\"style\":\"light\"}}},\"xaxis\":{\"anchor\":\"y\",\"domain\":[0.0,1.0],\"title\":{\"text\":\"AJCC Pathologic M Stage\"},\"categoryorder\":\"array\",\"categoryarray\":[\"M0\",\"MX\",\"cM0 (i+)\"],\"tickangle\":45},\"yaxis\":{\"anchor\":\"x\",\"domain\":[0.0,1.0],\"title\":{\"text\":\"Expression Level\"}},\"legend\":{\"title\":{\"text\":\"AJCC Pathologic M Stage\"},\"tracegroupgap\":0},\"title\":{\"text\":\"Average Gene Expression Across AJCC Pathologic M Stages (Aggregated by Case)\"},\"boxmode\":\"overlay\",\"showlegend\":false},                        {\"responsive\": true}                    ).then(function(){\n",
       "                            \n",
       "var gd = document.getElementById('a882a735-4248-42c8-8d6f-6369eef65cfa');\n",
       "var x = new MutationObserver(function (mutations, observer) {{\n",
       "        var display = window.getComputedStyle(gd).display;\n",
       "        if (!display || display === 'none') {{\n",
       "            console.log([gd, 'removed!']);\n",
       "            Plotly.purge(gd);\n",
       "            observer.disconnect();\n",
       "        }}\n",
       "}});\n",
       "\n",
       "// Listen for the removal of the full notebook cells\n",
       "var notebookContainer = gd.closest('#notebook-container');\n",
       "if (notebookContainer) {{\n",
       "    x.observe(notebookContainer, {childList: true});\n",
       "}}\n",
       "\n",
       "// Listen for the clearing of the current output cell\n",
       "var outputEl = gd.closest('.output');\n",
       "if (outputEl) {{\n",
       "    x.observe(outputEl, {childList: true});\n",
       "}}\n",
       "\n",
       "                        })                };                });            </script>        </div>"
      ]
     },
     "metadata": {},
     "output_type": "display_data"
    }
   ],
   "source": [
    "# Filter out \"Unknown\" values for AJCC Pathologic M stages\n",
    "filtered_data_state_m = aggregated_data[\n",
    "    (aggregated_data['ajcc_pathologic_m'] != \"Unknown\") & (aggregated_data['ajcc_pathologic_m']!= \"nan\")\n",
    "]\n",
    "\n",
    "fig = px.box(\n",
    "    filtered_data_state_m,\n",
    "    x='ajcc_pathologic_m',\n",
    "    y='Expression',\n",
    "    color='ajcc_pathologic_m', \n",
    "    title=\"Average Gene Expression Across AJCC Pathologic M Stages (Aggregated by Case)\",\n",
    "    labels={\n",
    "        'ajcc_pathologic_m': 'AJCC Pathologic M Stage',\n",
    "        'Expression': 'Expression Level'\n",
    "    },\n",
    "    color_discrete_sequence=px.colors.qualitative.Pastel \n",
    ")\n",
    "\n",
    "\n",
    "fig.update_layout(\n",
    "    xaxis_title=\"AJCC Pathologic M Stage\",\n",
    "    yaxis_title=\"Expression Level\",\n",
    "    xaxis_tickangle=45,\n",
    "    showlegend=False  # Hide legend if not needed\n",
    ")\n",
    "\n",
    "# Show the interactive plot\n",
    "fig.show()"
   ]
  },
  {
   "cell_type": "code",
   "execution_count": 202,
   "id": "8dd05650-92c4-4a54-b434-2f8baca8cfb1",
   "metadata": {},
   "outputs": [
    {
     "data": {
      "application/vnd.plotly.v1+json": {
       "config": {
        "plotlyServerURL": "https://plot.ly"
       },
       "data": [
        {
         "alignmentgroup": "True",
         "hovertemplate": "AJCC Pathologic T Stage=%{x}<br>Expression Level=%{y}<extra></extra>",
         "legendgroup": "T2",
         "marker": {
          "color": "rgb(102, 197, 204)"
         },
         "name": "T2",
         "notched": false,
         "offsetgroup": "T2",
         "orientation": "v",
         "showlegend": true,
         "type": "box",
         "x": [
          "T2",
          "T2",
          "T2",
          "T2",
          "T2",
          "T2",
          "T2",
          "T2",
          "T2",
          "T2",
          "T2",
          "T2",
          "T2",
          "T2",
          "T2",
          "T2",
          "T2",
          "T2",
          "T2",
          "T2",
          "T2",
          "T2",
          "T2",
          "T2",
          "T2",
          "T2",
          "T2",
          "T2",
          "T2",
          "T2",
          "T2"
         ],
         "x0": " ",
         "xaxis": "x",
         "y": [
          0.8705877092106236,
          0.241313358082682,
          -0.03455853653728149,
          0.11137376478146468,
          0.13429987657290962,
          -0.45784027740236266,
          -0.037974141608749644,
          -0.30315187584912984,
          -0.21552716453507645,
          -0.20071051172881604,
          -0.09540479166268297,
          1.0603187936636547,
          -0.2367875562323537,
          0.15520710761673004,
          0.38744337381026245,
          0.14832374891362665,
          0.20642703815213284,
          0.16181513060980704,
          0.8980817773556306,
          0.0718089166437936,
          0.015515077682287578,
          0.5843681205673026,
          0.08753503892490487,
          0.5061037368680184,
          -0.2536141852626979,
          0.7111021218767489,
          0.18138360470579093,
          0.07315467835108935,
          0.15322288638076462,
          0.0551027250564312,
          0.5524361984877707
         ],
         "y0": " ",
         "yaxis": "y"
        },
        {
         "alignmentgroup": "True",
         "hovertemplate": "AJCC Pathologic T Stage=%{x}<br>Expression Level=%{y}<extra></extra>",
         "legendgroup": "T3",
         "marker": {
          "color": "rgb(246, 207, 113)"
         },
         "name": "T3",
         "notched": false,
         "offsetgroup": "T3",
         "orientation": "v",
         "showlegend": true,
         "type": "box",
         "x": [
          "T3",
          "T3",
          "T3",
          "T3",
          "T3",
          "T3",
          "T3",
          "T3"
         ],
         "x0": " ",
         "xaxis": "x",
         "y": [
          -0.049581670356946134,
          0.8466634271444605,
          -0.1175246246935252,
          0.5792641979379572,
          0.3617311645626425,
          0.32932413730300325,
          0.02519173439879645,
          -0.11700441898763135
         ],
         "y0": " ",
         "yaxis": "y"
        },
        {
         "alignmentgroup": "True",
         "hovertemplate": "AJCC Pathologic T Stage=%{x}<br>Expression Level=%{y}<extra></extra>",
         "legendgroup": "T4b",
         "marker": {
          "color": "rgb(248, 156, 116)"
         },
         "name": "T4b",
         "notched": false,
         "offsetgroup": "T4b",
         "orientation": "v",
         "showlegend": true,
         "type": "box",
         "x": [
          "T4b"
         ],
         "x0": " ",
         "xaxis": "x",
         "y": [
          0.8473383197307665
         ],
         "y0": " ",
         "yaxis": "y"
        },
        {
         "alignmentgroup": "True",
         "hovertemplate": "AJCC Pathologic T Stage=%{x}<br>Expression Level=%{y}<extra></extra>",
         "legendgroup": "T1c",
         "marker": {
          "color": "rgb(220, 176, 242)"
         },
         "name": "T1c",
         "notched": false,
         "offsetgroup": "T1c",
         "orientation": "v",
         "showlegend": true,
         "type": "box",
         "x": [
          "T1c",
          "T1c"
         ],
         "x0": " ",
         "xaxis": "x",
         "y": [
          -0.0987787432626727,
          0.9991603296976509
         ],
         "y0": " ",
         "yaxis": "y"
        },
        {
         "alignmentgroup": "True",
         "hovertemplate": "AJCC Pathologic T Stage=%{x}<br>Expression Level=%{y}<extra></extra>",
         "legendgroup": "T4",
         "marker": {
          "color": "rgb(135, 197, 95)"
         },
         "name": "T4",
         "notched": false,
         "offsetgroup": "T4",
         "orientation": "v",
         "showlegend": true,
         "type": "box",
         "x": [
          "T4"
         ],
         "x0": " ",
         "xaxis": "x",
         "y": [
          0.4615712146052829
         ],
         "y0": " ",
         "yaxis": "y"
        }
       ],
       "layout": {
        "autosize": true,
        "boxmode": "overlay",
        "legend": {
         "title": {
          "text": "AJCC Pathologic T Stage"
         },
         "tracegroupgap": 0
        },
        "showlegend": false,
        "template": {
         "data": {
          "bar": [
           {
            "error_x": {
             "color": "#2a3f5f"
            },
            "error_y": {
             "color": "#2a3f5f"
            },
            "marker": {
             "line": {
              "color": "#E5ECF6",
              "width": 0.5
             },
             "pattern": {
              "fillmode": "overlay",
              "size": 10,
              "solidity": 0.2
             }
            },
            "type": "bar"
           }
          ],
          "barpolar": [
           {
            "marker": {
             "line": {
              "color": "#E5ECF6",
              "width": 0.5
             },
             "pattern": {
              "fillmode": "overlay",
              "size": 10,
              "solidity": 0.2
             }
            },
            "type": "barpolar"
           }
          ],
          "carpet": [
           {
            "aaxis": {
             "endlinecolor": "#2a3f5f",
             "gridcolor": "white",
             "linecolor": "white",
             "minorgridcolor": "white",
             "startlinecolor": "#2a3f5f"
            },
            "baxis": {
             "endlinecolor": "#2a3f5f",
             "gridcolor": "white",
             "linecolor": "white",
             "minorgridcolor": "white",
             "startlinecolor": "#2a3f5f"
            },
            "type": "carpet"
           }
          ],
          "choropleth": [
           {
            "colorbar": {
             "outlinewidth": 0,
             "ticks": ""
            },
            "type": "choropleth"
           }
          ],
          "contour": [
           {
            "colorbar": {
             "outlinewidth": 0,
             "ticks": ""
            },
            "colorscale": [
             [
              0,
              "#0d0887"
             ],
             [
              0.1111111111111111,
              "#46039f"
             ],
             [
              0.2222222222222222,
              "#7201a8"
             ],
             [
              0.3333333333333333,
              "#9c179e"
             ],
             [
              0.4444444444444444,
              "#bd3786"
             ],
             [
              0.5555555555555556,
              "#d8576b"
             ],
             [
              0.6666666666666666,
              "#ed7953"
             ],
             [
              0.7777777777777778,
              "#fb9f3a"
             ],
             [
              0.8888888888888888,
              "#fdca26"
             ],
             [
              1,
              "#f0f921"
             ]
            ],
            "type": "contour"
           }
          ],
          "contourcarpet": [
           {
            "colorbar": {
             "outlinewidth": 0,
             "ticks": ""
            },
            "type": "contourcarpet"
           }
          ],
          "heatmap": [
           {
            "colorbar": {
             "outlinewidth": 0,
             "ticks": ""
            },
            "colorscale": [
             [
              0,
              "#0d0887"
             ],
             [
              0.1111111111111111,
              "#46039f"
             ],
             [
              0.2222222222222222,
              "#7201a8"
             ],
             [
              0.3333333333333333,
              "#9c179e"
             ],
             [
              0.4444444444444444,
              "#bd3786"
             ],
             [
              0.5555555555555556,
              "#d8576b"
             ],
             [
              0.6666666666666666,
              "#ed7953"
             ],
             [
              0.7777777777777778,
              "#fb9f3a"
             ],
             [
              0.8888888888888888,
              "#fdca26"
             ],
             [
              1,
              "#f0f921"
             ]
            ],
            "type": "heatmap"
           }
          ],
          "heatmapgl": [
           {
            "colorbar": {
             "outlinewidth": 0,
             "ticks": ""
            },
            "colorscale": [
             [
              0,
              "#0d0887"
             ],
             [
              0.1111111111111111,
              "#46039f"
             ],
             [
              0.2222222222222222,
              "#7201a8"
             ],
             [
              0.3333333333333333,
              "#9c179e"
             ],
             [
              0.4444444444444444,
              "#bd3786"
             ],
             [
              0.5555555555555556,
              "#d8576b"
             ],
             [
              0.6666666666666666,
              "#ed7953"
             ],
             [
              0.7777777777777778,
              "#fb9f3a"
             ],
             [
              0.8888888888888888,
              "#fdca26"
             ],
             [
              1,
              "#f0f921"
             ]
            ],
            "type": "heatmapgl"
           }
          ],
          "histogram": [
           {
            "marker": {
             "pattern": {
              "fillmode": "overlay",
              "size": 10,
              "solidity": 0.2
             }
            },
            "type": "histogram"
           }
          ],
          "histogram2d": [
           {
            "colorbar": {
             "outlinewidth": 0,
             "ticks": ""
            },
            "colorscale": [
             [
              0,
              "#0d0887"
             ],
             [
              0.1111111111111111,
              "#46039f"
             ],
             [
              0.2222222222222222,
              "#7201a8"
             ],
             [
              0.3333333333333333,
              "#9c179e"
             ],
             [
              0.4444444444444444,
              "#bd3786"
             ],
             [
              0.5555555555555556,
              "#d8576b"
             ],
             [
              0.6666666666666666,
              "#ed7953"
             ],
             [
              0.7777777777777778,
              "#fb9f3a"
             ],
             [
              0.8888888888888888,
              "#fdca26"
             ],
             [
              1,
              "#f0f921"
             ]
            ],
            "type": "histogram2d"
           }
          ],
          "histogram2dcontour": [
           {
            "colorbar": {
             "outlinewidth": 0,
             "ticks": ""
            },
            "colorscale": [
             [
              0,
              "#0d0887"
             ],
             [
              0.1111111111111111,
              "#46039f"
             ],
             [
              0.2222222222222222,
              "#7201a8"
             ],
             [
              0.3333333333333333,
              "#9c179e"
             ],
             [
              0.4444444444444444,
              "#bd3786"
             ],
             [
              0.5555555555555556,
              "#d8576b"
             ],
             [
              0.6666666666666666,
              "#ed7953"
             ],
             [
              0.7777777777777778,
              "#fb9f3a"
             ],
             [
              0.8888888888888888,
              "#fdca26"
             ],
             [
              1,
              "#f0f921"
             ]
            ],
            "type": "histogram2dcontour"
           }
          ],
          "mesh3d": [
           {
            "colorbar": {
             "outlinewidth": 0,
             "ticks": ""
            },
            "type": "mesh3d"
           }
          ],
          "parcoords": [
           {
            "line": {
             "colorbar": {
              "outlinewidth": 0,
              "ticks": ""
             }
            },
            "type": "parcoords"
           }
          ],
          "pie": [
           {
            "automargin": true,
            "type": "pie"
           }
          ],
          "scatter": [
           {
            "fillpattern": {
             "fillmode": "overlay",
             "size": 10,
             "solidity": 0.2
            },
            "type": "scatter"
           }
          ],
          "scatter3d": [
           {
            "line": {
             "colorbar": {
              "outlinewidth": 0,
              "ticks": ""
             }
            },
            "marker": {
             "colorbar": {
              "outlinewidth": 0,
              "ticks": ""
             }
            },
            "type": "scatter3d"
           }
          ],
          "scattercarpet": [
           {
            "marker": {
             "colorbar": {
              "outlinewidth": 0,
              "ticks": ""
             }
            },
            "type": "scattercarpet"
           }
          ],
          "scattergeo": [
           {
            "marker": {
             "colorbar": {
              "outlinewidth": 0,
              "ticks": ""
             }
            },
            "type": "scattergeo"
           }
          ],
          "scattergl": [
           {
            "marker": {
             "colorbar": {
              "outlinewidth": 0,
              "ticks": ""
             }
            },
            "type": "scattergl"
           }
          ],
          "scattermapbox": [
           {
            "marker": {
             "colorbar": {
              "outlinewidth": 0,
              "ticks": ""
             }
            },
            "type": "scattermapbox"
           }
          ],
          "scatterpolar": [
           {
            "marker": {
             "colorbar": {
              "outlinewidth": 0,
              "ticks": ""
             }
            },
            "type": "scatterpolar"
           }
          ],
          "scatterpolargl": [
           {
            "marker": {
             "colorbar": {
              "outlinewidth": 0,
              "ticks": ""
             }
            },
            "type": "scatterpolargl"
           }
          ],
          "scatterternary": [
           {
            "marker": {
             "colorbar": {
              "outlinewidth": 0,
              "ticks": ""
             }
            },
            "type": "scatterternary"
           }
          ],
          "surface": [
           {
            "colorbar": {
             "outlinewidth": 0,
             "ticks": ""
            },
            "colorscale": [
             [
              0,
              "#0d0887"
             ],
             [
              0.1111111111111111,
              "#46039f"
             ],
             [
              0.2222222222222222,
              "#7201a8"
             ],
             [
              0.3333333333333333,
              "#9c179e"
             ],
             [
              0.4444444444444444,
              "#bd3786"
             ],
             [
              0.5555555555555556,
              "#d8576b"
             ],
             [
              0.6666666666666666,
              "#ed7953"
             ],
             [
              0.7777777777777778,
              "#fb9f3a"
             ],
             [
              0.8888888888888888,
              "#fdca26"
             ],
             [
              1,
              "#f0f921"
             ]
            ],
            "type": "surface"
           }
          ],
          "table": [
           {
            "cells": {
             "fill": {
              "color": "#EBF0F8"
             },
             "line": {
              "color": "white"
             }
            },
            "header": {
             "fill": {
              "color": "#C8D4E3"
             },
             "line": {
              "color": "white"
             }
            },
            "type": "table"
           }
          ]
         },
         "layout": {
          "annotationdefaults": {
           "arrowcolor": "#2a3f5f",
           "arrowhead": 0,
           "arrowwidth": 1
          },
          "autotypenumbers": "strict",
          "coloraxis": {
           "colorbar": {
            "outlinewidth": 0,
            "ticks": ""
           }
          },
          "colorscale": {
           "diverging": [
            [
             0,
             "#8e0152"
            ],
            [
             0.1,
             "#c51b7d"
            ],
            [
             0.2,
             "#de77ae"
            ],
            [
             0.3,
             "#f1b6da"
            ],
            [
             0.4,
             "#fde0ef"
            ],
            [
             0.5,
             "#f7f7f7"
            ],
            [
             0.6,
             "#e6f5d0"
            ],
            [
             0.7,
             "#b8e186"
            ],
            [
             0.8,
             "#7fbc41"
            ],
            [
             0.9,
             "#4d9221"
            ],
            [
             1,
             "#276419"
            ]
           ],
           "sequential": [
            [
             0,
             "#0d0887"
            ],
            [
             0.1111111111111111,
             "#46039f"
            ],
            [
             0.2222222222222222,
             "#7201a8"
            ],
            [
             0.3333333333333333,
             "#9c179e"
            ],
            [
             0.4444444444444444,
             "#bd3786"
            ],
            [
             0.5555555555555556,
             "#d8576b"
            ],
            [
             0.6666666666666666,
             "#ed7953"
            ],
            [
             0.7777777777777778,
             "#fb9f3a"
            ],
            [
             0.8888888888888888,
             "#fdca26"
            ],
            [
             1,
             "#f0f921"
            ]
           ],
           "sequentialminus": [
            [
             0,
             "#0d0887"
            ],
            [
             0.1111111111111111,
             "#46039f"
            ],
            [
             0.2222222222222222,
             "#7201a8"
            ],
            [
             0.3333333333333333,
             "#9c179e"
            ],
            [
             0.4444444444444444,
             "#bd3786"
            ],
            [
             0.5555555555555556,
             "#d8576b"
            ],
            [
             0.6666666666666666,
             "#ed7953"
            ],
            [
             0.7777777777777778,
             "#fb9f3a"
            ],
            [
             0.8888888888888888,
             "#fdca26"
            ],
            [
             1,
             "#f0f921"
            ]
           ]
          },
          "colorway": [
           "#636efa",
           "#EF553B",
           "#00cc96",
           "#ab63fa",
           "#FFA15A",
           "#19d3f3",
           "#FF6692",
           "#B6E880",
           "#FF97FF",
           "#FECB52"
          ],
          "font": {
           "color": "#2a3f5f"
          },
          "geo": {
           "bgcolor": "white",
           "lakecolor": "white",
           "landcolor": "#E5ECF6",
           "showlakes": true,
           "showland": true,
           "subunitcolor": "white"
          },
          "hoverlabel": {
           "align": "left"
          },
          "hovermode": "closest",
          "mapbox": {
           "style": "light"
          },
          "paper_bgcolor": "white",
          "plot_bgcolor": "#E5ECF6",
          "polar": {
           "angularaxis": {
            "gridcolor": "white",
            "linecolor": "white",
            "ticks": ""
           },
           "bgcolor": "#E5ECF6",
           "radialaxis": {
            "gridcolor": "white",
            "linecolor": "white",
            "ticks": ""
           }
          },
          "scene": {
           "xaxis": {
            "backgroundcolor": "#E5ECF6",
            "gridcolor": "white",
            "gridwidth": 2,
            "linecolor": "white",
            "showbackground": true,
            "ticks": "",
            "zerolinecolor": "white"
           },
           "yaxis": {
            "backgroundcolor": "#E5ECF6",
            "gridcolor": "white",
            "gridwidth": 2,
            "linecolor": "white",
            "showbackground": true,
            "ticks": "",
            "zerolinecolor": "white"
           },
           "zaxis": {
            "backgroundcolor": "#E5ECF6",
            "gridcolor": "white",
            "gridwidth": 2,
            "linecolor": "white",
            "showbackground": true,
            "ticks": "",
            "zerolinecolor": "white"
           }
          },
          "shapedefaults": {
           "line": {
            "color": "#2a3f5f"
           }
          },
          "ternary": {
           "aaxis": {
            "gridcolor": "white",
            "linecolor": "white",
            "ticks": ""
           },
           "baxis": {
            "gridcolor": "white",
            "linecolor": "white",
            "ticks": ""
           },
           "bgcolor": "#E5ECF6",
           "caxis": {
            "gridcolor": "white",
            "linecolor": "white",
            "ticks": ""
           }
          },
          "title": {
           "x": 0.05
          },
          "xaxis": {
           "automargin": true,
           "gridcolor": "white",
           "linecolor": "white",
           "ticks": "",
           "title": {
            "standoff": 15
           },
           "zerolinecolor": "white",
           "zerolinewidth": 2
          },
          "yaxis": {
           "automargin": true,
           "gridcolor": "white",
           "linecolor": "white",
           "ticks": "",
           "title": {
            "standoff": 15
           },
           "zerolinecolor": "white",
           "zerolinewidth": 2
          }
         }
        },
        "title": {
         "text": "Average Gene Expression Across AJCC Pathologic T Stages (Aggregated by Case)"
        },
        "xaxis": {
         "anchor": "y",
         "autorange": true,
         "categoryarray": [
          "T2",
          "T3",
          "T4b",
          "T1c",
          "T4"
         ],
         "categoryorder": "array",
         "domain": [
          0,
          1
         ],
         "range": [
          -0.5,
          4.5
         ],
         "tickangle": 45,
         "title": {
          "text": "AJCC Pathologic T Stage"
         },
         "type": "category"
        },
        "yaxis": {
         "anchor": "x",
         "autorange": true,
         "domain": [
          0,
          1
         ],
         "range": [
          -0.5421824480171414,
          1.1446609642784333
         ],
         "title": {
          "text": "Expression Level"
         },
         "type": "linear"
        }
       }
      },
      "image/png": "[encoded data removed]",
      "text/html": [
       "<div>                            <div id=\"e1f068e2-1d05-4e88-8295-38973a5c4d91\" class=\"plotly-graph-div\" style=\"height:525px; width:100%;\"></div>            <script type=\"text/javascript\">                require([\"plotly\"], function(Plotly) {                    window.PLOTLYENV=window.PLOTLYENV || {};                                    if (document.getElementById(\"e1f068e2-1d05-4e88-8295-38973a5c4d91\")) {                    Plotly.newPlot(                        \"e1f068e2-1d05-4e88-8295-38973a5c4d91\",                        [{\"alignmentgroup\":\"True\",\"hovertemplate\":\"AJCC Pathologic T Stage=%{x}\\u003cbr\\u003eExpression Level=%{y}\\u003cextra\\u003e\\u003c\\u002fextra\\u003e\",\"legendgroup\":\"T2\",\"marker\":{\"color\":\"rgb(102, 197, 204)\"},\"name\":\"T2\",\"notched\":false,\"offsetgroup\":\"T2\",\"orientation\":\"v\",\"showlegend\":true,\"x\":[\"T2\",\"T2\",\"T2\",\"T2\",\"T2\",\"T2\",\"T2\",\"T2\",\"T2\",\"T2\",\"T2\",\"T2\",\"T2\",\"T2\",\"T2\",\"T2\",\"T2\",\"T2\",\"T2\",\"T2\",\"T2\",\"T2\",\"T2\",\"T2\",\"T2\",\"T2\",\"T2\",\"T2\",\"T2\",\"T2\",\"T2\"],\"x0\":\" \",\"xaxis\":\"x\",\"y\":[0.8705877092106236,0.241313358082682,-0.03455853653728149,0.11137376478146468,0.13429987657290962,-0.45784027740236266,-0.037974141608749644,-0.30315187584912984,-0.21552716453507645,-0.20071051172881604,-0.09540479166268297,1.0603187936636547,-0.2367875562323537,0.15520710761673004,0.38744337381026245,0.14832374891362665,0.20642703815213284,0.16181513060980704,0.8980817773556306,0.0718089166437936,0.015515077682287578,0.5843681205673026,0.08753503892490487,0.5061037368680184,-0.2536141852626979,0.7111021218767489,0.18138360470579093,0.07315467835108935,0.15322288638076462,0.0551027250564312,0.5524361984877707],\"y0\":\" \",\"yaxis\":\"y\",\"type\":\"box\"},{\"alignmentgroup\":\"True\",\"hovertemplate\":\"AJCC Pathologic T Stage=%{x}\\u003cbr\\u003eExpression Level=%{y}\\u003cextra\\u003e\\u003c\\u002fextra\\u003e\",\"legendgroup\":\"T3\",\"marker\":{\"color\":\"rgb(246, 207, 113)\"},\"name\":\"T3\",\"notched\":false,\"offsetgroup\":\"T3\",\"orientation\":\"v\",\"showlegend\":true,\"x\":[\"T3\",\"T3\",\"T3\",\"T3\",\"T3\",\"T3\",\"T3\",\"T3\"],\"x0\":\" \",\"xaxis\":\"x\",\"y\":[-0.049581670356946134,0.8466634271444605,-0.1175246246935252,0.5792641979379572,0.3617311645626425,0.32932413730300325,0.02519173439879645,-0.11700441898763135],\"y0\":\" \",\"yaxis\":\"y\",\"type\":\"box\"},{\"alignmentgroup\":\"True\",\"hovertemplate\":\"AJCC Pathologic T Stage=%{x}\\u003cbr\\u003eExpression Level=%{y}\\u003cextra\\u003e\\u003c\\u002fextra\\u003e\",\"legendgroup\":\"T4b\",\"marker\":{\"color\":\"rgb(248, 156, 116)\"},\"name\":\"T4b\",\"notched\":false,\"offsetgroup\":\"T4b\",\"orientation\":\"v\",\"showlegend\":true,\"x\":[\"T4b\"],\"x0\":\" \",\"xaxis\":\"x\",\"y\":[0.8473383197307665],\"y0\":\" \",\"yaxis\":\"y\",\"type\":\"box\"},{\"alignmentgroup\":\"True\",\"hovertemplate\":\"AJCC Pathologic T Stage=%{x}\\u003cbr\\u003eExpression Level=%{y}\\u003cextra\\u003e\\u003c\\u002fextra\\u003e\",\"legendgroup\":\"T1c\",\"marker\":{\"color\":\"rgb(220, 176, 242)\"},\"name\":\"T1c\",\"notched\":false,\"offsetgroup\":\"T1c\",\"orientation\":\"v\",\"showlegend\":true,\"x\":[\"T1c\",\"T1c\"],\"x0\":\" \",\"xaxis\":\"x\",\"y\":[-0.0987787432626727,0.9991603296976509],\"y0\":\" \",\"yaxis\":\"y\",\"type\":\"box\"},{\"alignmentgroup\":\"True\",\"hovertemplate\":\"AJCC Pathologic T Stage=%{x}\\u003cbr\\u003eExpression Level=%{y}\\u003cextra\\u003e\\u003c\\u002fextra\\u003e\",\"legendgroup\":\"T4\",\"marker\":{\"color\":\"rgb(135, 197, 95)\"},\"name\":\"T4\",\"notched\":false,\"offsetgroup\":\"T4\",\"orientation\":\"v\",\"showlegend\":true,\"x\":[\"T4\"],\"x0\":\" \",\"xaxis\":\"x\",\"y\":[0.4615712146052829],\"y0\":\" \",\"yaxis\":\"y\",\"type\":\"box\"}],                        {\"template\":{\"data\":{\"histogram2dcontour\":[{\"type\":\"histogram2dcontour\",\"colorbar\":{\"outlinewidth\":0,\"ticks\":\"\"},\"colorscale\":[[0.0,\"#0d0887\"],[0.1111111111111111,\"#46039f\"],[0.2222222222222222,\"#7201a8\"],[0.3333333333333333,\"#9c179e\"],[0.4444444444444444,\"#bd3786\"],[0.5555555555555556,\"#d8576b\"],[0.6666666666666666,\"#ed7953\"],[0.7777777777777778,\"#fb9f3a\"],[0.8888888888888888,\"#fdca26\"],[1.0,\"#f0f921\"]]}],\"choropleth\":[{\"type\":\"choropleth\",\"colorbar\":{\"outlinewidth\":0,\"ticks\":\"\"}}],\"histogram2d\":[{\"type\":\"histogram2d\",\"colorbar\":{\"outlinewidth\":0,\"ticks\":\"\"},\"colorscale\":[[0.0,\"#0d0887\"],[0.1111111111111111,\"#46039f\"],[0.2222222222222222,\"#7201a8\"],[0.3333333333333333,\"#9c179e\"],[0.4444444444444444,\"#bd3786\"],[0.5555555555555556,\"#d8576b\"],[0.6666666666666666,\"#ed7953\"],[0.7777777777777778,\"#fb9f3a\"],[0.8888888888888888,\"#fdca26\"],[1.0,\"#f0f921\"]]}],\"heatmap\":[{\"type\":\"heatmap\",\"colorbar\":{\"outlinewidth\":0,\"ticks\":\"\"},\"colorscale\":[[0.0,\"#0d0887\"],[0.1111111111111111,\"#46039f\"],[0.2222222222222222,\"#7201a8\"],[0.3333333333333333,\"#9c179e\"],[0.4444444444444444,\"#bd3786\"],[0.5555555555555556,\"#d8576b\"],[0.6666666666666666,\"#ed7953\"],[0.7777777777777778,\"#fb9f3a\"],[0.8888888888888888,\"#fdca26\"],[1.0,\"#f0f921\"]]}],\"heatmapgl\":[{\"type\":\"heatmapgl\",\"colorbar\":{\"outlinewidth\":0,\"ticks\":\"\"},\"colorscale\":[[0.0,\"#0d0887\"],[0.1111111111111111,\"#46039f\"],[0.2222222222222222,\"#7201a8\"],[0.3333333333333333,\"#9c179e\"],[0.4444444444444444,\"#bd3786\"],[0.5555555555555556,\"#d8576b\"],[0.6666666666666666,\"#ed7953\"],[0.7777777777777778,\"#fb9f3a\"],[0.8888888888888888,\"#fdca26\"],[1.0,\"#f0f921\"]]}],\"contourcarpet\":[{\"type\":\"contourcarpet\",\"colorbar\":{\"outlinewidth\":0,\"ticks\":\"\"}}],\"contour\":[{\"type\":\"contour\",\"colorbar\":{\"outlinewidth\":0,\"ticks\":\"\"},\"colorscale\":[[0.0,\"#0d0887\"],[0.1111111111111111,\"#46039f\"],[0.2222222222222222,\"#7201a8\"],[0.3333333333333333,\"#9c179e\"],[0.4444444444444444,\"#bd3786\"],[0.5555555555555556,\"#d8576b\"],[0.6666666666666666,\"#ed7953\"],[0.7777777777777778,\"#fb9f3a\"],[0.8888888888888888,\"#fdca26\"],[1.0,\"#f0f921\"]]}],\"surface\":[{\"type\":\"surface\",\"colorbar\":{\"outlinewidth\":0,\"ticks\":\"\"},\"colorscale\":[[0.0,\"#0d0887\"],[0.1111111111111111,\"#46039f\"],[0.2222222222222222,\"#7201a8\"],[0.3333333333333333,\"#9c179e\"],[0.4444444444444444,\"#bd3786\"],[0.5555555555555556,\"#d8576b\"],[0.6666666666666666,\"#ed7953\"],[0.7777777777777778,\"#fb9f3a\"],[0.8888888888888888,\"#fdca26\"],[1.0,\"#f0f921\"]]}],\"mesh3d\":[{\"type\":\"mesh3d\",\"colorbar\":{\"outlinewidth\":0,\"ticks\":\"\"}}],\"scatter\":[{\"fillpattern\":{\"fillmode\":\"overlay\",\"size\":10,\"solidity\":0.2},\"type\":\"scatter\"}],\"parcoords\":[{\"type\":\"parcoords\",\"line\":{\"colorbar\":{\"outlinewidth\":0,\"ticks\":\"\"}}}],\"scatterpolargl\":[{\"type\":\"scatterpolargl\",\"marker\":{\"colorbar\":{\"outlinewidth\":0,\"ticks\":\"\"}}}],\"bar\":[{\"error_x\":{\"color\":\"#2a3f5f\"},\"error_y\":{\"color\":\"#2a3f5f\"},\"marker\":{\"line\":{\"color\":\"#E5ECF6\",\"width\":0.5},\"pattern\":{\"fillmode\":\"overlay\",\"size\":10,\"solidity\":0.2}},\"type\":\"bar\"}],\"scattergeo\":[{\"type\":\"scattergeo\",\"marker\":{\"colorbar\":{\"outlinewidth\":0,\"ticks\":\"\"}}}],\"scatterpolar\":[{\"type\":\"scatterpolar\",\"marker\":{\"colorbar\":{\"outlinewidth\":0,\"ticks\":\"\"}}}],\"histogram\":[{\"marker\":{\"pattern\":{\"fillmode\":\"overlay\",\"size\":10,\"solidity\":0.2}},\"type\":\"histogram\"}],\"scattergl\":[{\"type\":\"scattergl\",\"marker\":{\"colorbar\":{\"outlinewidth\":0,\"ticks\":\"\"}}}],\"scatter3d\":[{\"type\":\"scatter3d\",\"line\":{\"colorbar\":{\"outlinewidth\":0,\"ticks\":\"\"}},\"marker\":{\"colorbar\":{\"outlinewidth\":0,\"ticks\":\"\"}}}],\"scattermapbox\":[{\"type\":\"scattermapbox\",\"marker\":{\"colorbar\":{\"outlinewidth\":0,\"ticks\":\"\"}}}],\"scatterternary\":[{\"type\":\"scatterternary\",\"marker\":{\"colorbar\":{\"outlinewidth\":0,\"ticks\":\"\"}}}],\"scattercarpet\":[{\"type\":\"scattercarpet\",\"marker\":{\"colorbar\":{\"outlinewidth\":0,\"ticks\":\"\"}}}],\"carpet\":[{\"aaxis\":{\"endlinecolor\":\"#2a3f5f\",\"gridcolor\":\"white\",\"linecolor\":\"white\",\"minorgridcolor\":\"white\",\"startlinecolor\":\"#2a3f5f\"},\"baxis\":{\"endlinecolor\":\"#2a3f5f\",\"gridcolor\":\"white\",\"linecolor\":\"white\",\"minorgridcolor\":\"white\",\"startlinecolor\":\"#2a3f5f\"},\"type\":\"carpet\"}],\"table\":[{\"cells\":{\"fill\":{\"color\":\"#EBF0F8\"},\"line\":{\"color\":\"white\"}},\"header\":{\"fill\":{\"color\":\"#C8D4E3\"},\"line\":{\"color\":\"white\"}},\"type\":\"table\"}],\"barpolar\":[{\"marker\":{\"line\":{\"color\":\"#E5ECF6\",\"width\":0.5},\"pattern\":{\"fillmode\":\"overlay\",\"size\":10,\"solidity\":0.2}},\"type\":\"barpolar\"}],\"pie\":[{\"automargin\":true,\"type\":\"pie\"}]},\"layout\":{\"autotypenumbers\":\"strict\",\"colorway\":[\"#636efa\",\"#EF553B\",\"#00cc96\",\"#ab63fa\",\"#FFA15A\",\"#19d3f3\",\"#FF6692\",\"#B6E880\",\"#FF97FF\",\"#FECB52\"],\"font\":{\"color\":\"#2a3f5f\"},\"hovermode\":\"closest\",\"hoverlabel\":{\"align\":\"left\"},\"paper_bgcolor\":\"white\",\"plot_bgcolor\":\"#E5ECF6\",\"polar\":{\"bgcolor\":\"#E5ECF6\",\"angularaxis\":{\"gridcolor\":\"white\",\"linecolor\":\"white\",\"ticks\":\"\"},\"radialaxis\":{\"gridcolor\":\"white\",\"linecolor\":\"white\",\"ticks\":\"\"}},\"ternary\":{\"bgcolor\":\"#E5ECF6\",\"aaxis\":{\"gridcolor\":\"white\",\"linecolor\":\"white\",\"ticks\":\"\"},\"baxis\":{\"gridcolor\":\"white\",\"linecolor\":\"white\",\"ticks\":\"\"},\"caxis\":{\"gridcolor\":\"white\",\"linecolor\":\"white\",\"ticks\":\"\"}},\"coloraxis\":{\"colorbar\":{\"outlinewidth\":0,\"ticks\":\"\"}},\"colorscale\":{\"sequential\":[[0.0,\"#0d0887\"],[0.1111111111111111,\"#46039f\"],[0.2222222222222222,\"#7201a8\"],[0.3333333333333333,\"#9c179e\"],[0.4444444444444444,\"#bd3786\"],[0.5555555555555556,\"#d8576b\"],[0.6666666666666666,\"#ed7953\"],[0.7777777777777778,\"#fb9f3a\"],[0.8888888888888888,\"#fdca26\"],[1.0,\"#f0f921\"]],\"sequentialminus\":[[0.0,\"#0d0887\"],[0.1111111111111111,\"#46039f\"],[0.2222222222222222,\"#7201a8\"],[0.3333333333333333,\"#9c179e\"],[0.4444444444444444,\"#bd3786\"],[0.5555555555555556,\"#d8576b\"],[0.6666666666666666,\"#ed7953\"],[0.7777777777777778,\"#fb9f3a\"],[0.8888888888888888,\"#fdca26\"],[1.0,\"#f0f921\"]],\"diverging\":[[0,\"#8e0152\"],[0.1,\"#c51b7d\"],[0.2,\"#de77ae\"],[0.3,\"#f1b6da\"],[0.4,\"#fde0ef\"],[0.5,\"#f7f7f7\"],[0.6,\"#e6f5d0\"],[0.7,\"#b8e186\"],[0.8,\"#7fbc41\"],[0.9,\"#4d9221\"],[1,\"#276419\"]]},\"xaxis\":{\"gridcolor\":\"white\",\"linecolor\":\"white\",\"ticks\":\"\",\"title\":{\"standoff\":15},\"zerolinecolor\":\"white\",\"automargin\":true,\"zerolinewidth\":2},\"yaxis\":{\"gridcolor\":\"white\",\"linecolor\":\"white\",\"ticks\":\"\",\"title\":{\"standoff\":15},\"zerolinecolor\":\"white\",\"automargin\":true,\"zerolinewidth\":2},\"scene\":{\"xaxis\":{\"backgroundcolor\":\"#E5ECF6\",\"gridcolor\":\"white\",\"linecolor\":\"white\",\"showbackground\":true,\"ticks\":\"\",\"zerolinecolor\":\"white\",\"gridwidth\":2},\"yaxis\":{\"backgroundcolor\":\"#E5ECF6\",\"gridcolor\":\"white\",\"linecolor\":\"white\",\"showbackground\":true,\"ticks\":\"\",\"zerolinecolor\":\"white\",\"gridwidth\":2},\"zaxis\":{\"backgroundcolor\":\"#E5ECF6\",\"gridcolor\":\"white\",\"linecolor\":\"white\",\"showbackground\":true,\"ticks\":\"\",\"zerolinecolor\":\"white\",\"gridwidth\":2}},\"shapedefaults\":{\"line\":{\"color\":\"#2a3f5f\"}},\"annotationdefaults\":{\"arrowcolor\":\"#2a3f5f\",\"arrowhead\":0,\"arrowwidth\":1},\"geo\":{\"bgcolor\":\"white\",\"landcolor\":\"#E5ECF6\",\"subunitcolor\":\"white\",\"showland\":true,\"showlakes\":true,\"lakecolor\":\"white\"},\"title\":{\"x\":0.05},\"mapbox\":{\"style\":\"light\"}}},\"xaxis\":{\"anchor\":\"y\",\"domain\":[0.0,1.0],\"title\":{\"text\":\"AJCC Pathologic T Stage\"},\"categoryorder\":\"array\",\"categoryarray\":[\"T2\",\"T3\",\"T4b\",\"T1c\",\"T4\"],\"tickangle\":45},\"yaxis\":{\"anchor\":\"x\",\"domain\":[0.0,1.0],\"title\":{\"text\":\"Expression Level\"}},\"legend\":{\"title\":{\"text\":\"AJCC Pathologic T Stage\"},\"tracegroupgap\":0},\"title\":{\"text\":\"Average Gene Expression Across AJCC Pathologic T Stages (Aggregated by Case)\"},\"boxmode\":\"overlay\",\"showlegend\":false},                        {\"responsive\": true}                    ).then(function(){\n",
       "                            \n",
       "var gd = document.getElementById('e1f068e2-1d05-4e88-8295-38973a5c4d91');\n",
       "var x = new MutationObserver(function (mutations, observer) {{\n",
       "        var display = window.getComputedStyle(gd).display;\n",
       "        if (!display || display === 'none') {{\n",
       "            console.log([gd, 'removed!']);\n",
       "            Plotly.purge(gd);\n",
       "            observer.disconnect();\n",
       "        }}\n",
       "}});\n",
       "\n",
       "// Listen for the removal of the full notebook cells\n",
       "var notebookContainer = gd.closest('#notebook-container');\n",
       "if (notebookContainer) {{\n",
       "    x.observe(notebookContainer, {childList: true});\n",
       "}}\n",
       "\n",
       "// Listen for the clearing of the current output cell\n",
       "var outputEl = gd.closest('.output');\n",
       "if (outputEl) {{\n",
       "    x.observe(outputEl, {childList: true});\n",
       "}}\n",
       "\n",
       "                        })                };                });            </script>        </div>"
      ]
     },
     "metadata": {},
     "output_type": "display_data"
    }
   ],
   "source": [
    "# Filter out \"Unknown\" values for AJCC Pathologic T stages\n",
    "filtered_data_state_t = aggregated_data[\n",
    "    (aggregated_data['ajcc_pathologic_t'] != \"Unknown\") & (aggregated_data['ajcc_pathologic_t']!= \"nan\")\n",
    "]\n",
    "\n",
    "\n",
    "fig = px.box(\n",
    "    filtered_data_state_t,\n",
    "    x='ajcc_pathologic_t',\n",
    "    y='Expression',\n",
    "    color='ajcc_pathologic_t',  \n",
    "    title=\"Average Gene Expression Across AJCC Pathologic T Stages (Aggregated by Case)\",\n",
    "    labels={\n",
    "        'ajcc_pathologic_t': 'AJCC Pathologic T Stage',\n",
    "        'Expression': 'Expression Level'\n",
    "    },\n",
    "    color_discrete_sequence=px.colors.qualitative.Pastel \n",
    ")\n",
    "\n",
    "\n",
    "fig.update_layout(\n",
    "    xaxis_title=\"AJCC Pathologic T Stage\",\n",
    "    yaxis_title=\"Expression Level\",\n",
    "    xaxis_tickangle=45,\n",
    "    showlegend=False \n",
    ")\n",
    "\n",
    "fig.show()"
   ]
  },
  {
   "cell_type": "code",
   "execution_count": 203,
   "id": "0f11f30f-ea28-4952-910c-f6272ec4aeb7",
   "metadata": {},
   "outputs": [
    {
     "name": "stderr",
     "output_type": "stream",
     "text": [
      "C:\\Users\\sarah\\AppData\\Local\\Temp\\ipykernel_24300\\1128557388.py:8: SettingWithCopyWarning:\n",
      "\n",
      "\n",
      "A value is trying to be set on a copy of a slice from a DataFrame.\n",
      "Try using .loc[row_indexer,col_indexer] = value instead\n",
      "\n",
      "See the caveats in the documentation: https://pandas.pydata.org/pandas-docs/stable/user_guide/indexing.html#returning-a-view-versus-a-copy\n",
      "\n"
     ]
    },
    {
     "data": {
      "application/vnd.plotly.v1+json": {
       "config": {
        "plotlyServerURL": "https://plot.ly"
       },
       "data": [
        {
         "alignmentgroup": "True",
         "box": {
          "visible": true
         },
         "hovertemplate": "Primary Diagnosis=%{x}<br>Expression Level=%{y}<extra></extra>",
         "legendgroup": "Infiltrating<br>duct<br>carcinoma,",
         "marker": {
          "color": "rgb(102,194,165)"
         },
         "name": "Infiltrating<br>duct<br>carcinoma,",
         "offsetgroup": "Infiltrating<br>duct<br>carcinoma,",
         "orientation": "v",
         "points": false,
         "scalegroup": "True",
         "showlegend": true,
         "type": "violin",
         "x": [
          "Infiltrating<br>duct<br>carcinoma,",
          "Infiltrating<br>duct<br>carcinoma,",
          "Infiltrating<br>duct<br>carcinoma,",
          "Infiltrating<br>duct<br>carcinoma,",
          "Infiltrating<br>duct<br>carcinoma,",
          "Infiltrating<br>duct<br>carcinoma,",
          "Infiltrating<br>duct<br>carcinoma,",
          "Infiltrating<br>duct<br>carcinoma,",
          "Infiltrating<br>duct<br>carcinoma,",
          "Infiltrating<br>duct<br>carcinoma,",
          "Infiltrating<br>duct<br>carcinoma,",
          "Infiltrating<br>duct<br>carcinoma,",
          "Infiltrating<br>duct<br>carcinoma,",
          "Infiltrating<br>duct<br>carcinoma,",
          "Infiltrating<br>duct<br>carcinoma,",
          "Infiltrating<br>duct<br>carcinoma,",
          "Infiltrating<br>duct<br>carcinoma,",
          "Infiltrating<br>duct<br>carcinoma,",
          "Infiltrating<br>duct<br>carcinoma,",
          "Infiltrating<br>duct<br>carcinoma,",
          "Infiltrating<br>duct<br>carcinoma,",
          "Infiltrating<br>duct<br>carcinoma,",
          "Infiltrating<br>duct<br>carcinoma,",
          "Infiltrating<br>duct<br>carcinoma,",
          "Infiltrating<br>duct<br>carcinoma,",
          "Infiltrating<br>duct<br>carcinoma,",
          "Infiltrating<br>duct<br>carcinoma,",
          "Infiltrating<br>duct<br>carcinoma,",
          "Infiltrating<br>duct<br>carcinoma,",
          "Infiltrating<br>duct<br>carcinoma,",
          "Infiltrating<br>duct<br>carcinoma,"
         ],
         "x0": " ",
         "xaxis": "x",
         "y": [
          -0.19071336574399944,
          -0.4406779828188568,
          -0.44259735891922786,
          -0.3916589760371441,
          0.241313358082682,
          -0.03455853653728149,
          0.11137376478146468,
          0.13429987657290962,
          -0.037974141608749644,
          -0.21552716453507645,
          -0.20071051172881604,
          -0.09540479166268297,
          1.0603187936636547,
          -0.2367875562323537,
          0.15520710761673004,
          0.20642703815213284,
          -0.09003516415881488,
          0.8980817773556306,
          0.0718089166437936,
          0.5843681205673026,
          0.08753503892490487,
          0.3617311645626425,
          -0.0987787432626727,
          -0.2536141852626979,
          0.7111021218767489,
          0.18138360470579093,
          0.07315467835108935,
          0.02519173439879645,
          0.15322288638076462,
          0.9991603296976509,
          0.0551027250564312
         ],
         "y0": " ",
         "yaxis": "y"
        },
        {
         "alignmentgroup": "True",
         "box": {
          "visible": true
         },
         "hovertemplate": "Primary Diagnosis=%{x}<br>Expression Level=%{y}<extra></extra>",
         "legendgroup": "Infiltrating<br>duct<br>and",
         "marker": {
          "color": "rgb(252,141,98)"
         },
         "name": "Infiltrating<br>duct<br>and",
         "offsetgroup": "Infiltrating<br>duct<br>and",
         "orientation": "v",
         "points": false,
         "scalegroup": "True",
         "showlegend": true,
         "type": "violin",
         "x": [
          "Infiltrating<br>duct<br>and"
         ],
         "x0": " ",
         "xaxis": "x",
         "y": [
          -0.18862972823659033
         ],
         "y0": " ",
         "yaxis": "y"
        },
        {
         "alignmentgroup": "True",
         "box": {
          "visible": true
         },
         "hovertemplate": "Primary Diagnosis=%{x}<br>Expression Level=%{y}<extra></extra>",
         "legendgroup": "Large<br>cell<br>neuroendocrine",
         "marker": {
          "color": "rgb(141,160,203)"
         },
         "name": "Large<br>cell<br>neuroendocrine",
         "offsetgroup": "Large<br>cell<br>neuroendocrine",
         "orientation": "v",
         "points": false,
         "scalegroup": "True",
         "showlegend": true,
         "type": "violin",
         "x": [
          "Large<br>cell<br>neuroendocrine"
         ],
         "x0": " ",
         "xaxis": "x",
         "y": [
          0.8705877092106236
         ],
         "y0": " ",
         "yaxis": "y"
        },
        {
         "alignmentgroup": "True",
         "box": {
          "visible": true
         },
         "hovertemplate": "Primary Diagnosis=%{x}<br>Expression Level=%{y}<extra></extra>",
         "legendgroup": "Lobular<br>carcinoma,<br>NOS",
         "marker": {
          "color": "rgb(231,138,195)"
         },
         "name": "Lobular<br>carcinoma,<br>NOS",
         "offsetgroup": "Lobular<br>carcinoma,<br>NOS",
         "orientation": "v",
         "points": false,
         "scalegroup": "True",
         "showlegend": true,
         "type": "violin",
         "x": [
          "Lobular<br>carcinoma,<br>NOS",
          "Lobular<br>carcinoma,<br>NOS",
          "Lobular<br>carcinoma,<br>NOS",
          "Lobular<br>carcinoma,<br>NOS",
          "Lobular<br>carcinoma,<br>NOS",
          "Lobular<br>carcinoma,<br>NOS",
          "Lobular<br>carcinoma,<br>NOS",
          "Lobular<br>carcinoma,<br>NOS"
         ],
         "x0": " ",
         "xaxis": "x",
         "y": [
          -0.049581670356946134,
          0.3987576351959821,
          -0.1175246246935252,
          0.38744337381026245,
          0.015515077682287578,
          0.5061037368680184,
          -0.11700441898763135,
          0.5524361984877707
         ],
         "y0": " ",
         "yaxis": "y"
        },
        {
         "alignmentgroup": "True",
         "box": {
          "visible": true
         },
         "hovertemplate": "Primary Diagnosis=%{x}<br>Expression Level=%{y}<extra></extra>",
         "legendgroup": "Metaplastic<br>carcinoma,<br>NOS",
         "marker": {
          "color": "rgb(166,216,84)"
         },
         "name": "Metaplastic<br>carcinoma,<br>NOS",
         "offsetgroup": "Metaplastic<br>carcinoma,<br>NOS",
         "orientation": "v",
         "points": false,
         "scalegroup": "True",
         "showlegend": true,
         "type": "violin",
         "x": [
          "Metaplastic<br>carcinoma,<br>NOS",
          "Metaplastic<br>carcinoma,<br>NOS",
          "Metaplastic<br>carcinoma,<br>NOS",
          "Metaplastic<br>carcinoma,<br>NOS",
          "Metaplastic<br>carcinoma,<br>NOS",
          "Metaplastic<br>carcinoma,<br>NOS"
         ],
         "x0": " ",
         "xaxis": "x",
         "y": [
          -0.45784027740236266,
          0.8466634271444605,
          0.8473383197307665,
          0.5792641979379572,
          0.16181513060980704,
          0.32932413730300325
         ],
         "y0": " ",
         "yaxis": "y"
        },
        {
         "alignmentgroup": "True",
         "box": {
          "visible": true
         },
         "hovertemplate": "Primary Diagnosis=%{x}<br>Expression Level=%{y}<extra></extra>",
         "legendgroup": "Carcinoma,<br>NOS",
         "marker": {
          "color": "rgb(255,217,47)"
         },
         "name": "Carcinoma,<br>NOS",
         "offsetgroup": "Carcinoma,<br>NOS",
         "orientation": "v",
         "points": false,
         "scalegroup": "True",
         "showlegend": true,
         "type": "violin",
         "x": [
          "Carcinoma,<br>NOS"
         ],
         "x0": " ",
         "xaxis": "x",
         "y": [
          -0.30315187584912984
         ],
         "y0": " ",
         "yaxis": "y"
        },
        {
         "alignmentgroup": "True",
         "box": {
          "visible": true
         },
         "hovertemplate": "Primary Diagnosis=%{x}<br>Expression Level=%{y}<extra></extra>",
         "legendgroup": "Infiltrating<br>duct<br>mixed",
         "marker": {
          "color": "rgb(229,196,148)"
         },
         "name": "Infiltrating<br>duct<br>mixed",
         "offsetgroup": "Infiltrating<br>duct<br>mixed",
         "orientation": "v",
         "points": false,
         "scalegroup": "True",
         "showlegend": true,
         "type": "violin",
         "x": [
          "Infiltrating<br>duct<br>mixed"
         ],
         "x0": " ",
         "xaxis": "x",
         "y": [
          0.14832374891362665
         ],
         "y0": " ",
         "yaxis": "y"
        },
        {
         "alignmentgroup": "True",
         "box": {
          "visible": true
         },
         "hovertemplate": "Primary Diagnosis=%{x}<br>Expression Level=%{y}<extra></extra>",
         "legendgroup": "Malignant<br>lymphoma,<br>large",
         "marker": {
          "color": "rgb(179,179,179)"
         },
         "name": "Malignant<br>lymphoma,<br>large",
         "offsetgroup": "Malignant<br>lymphoma,<br>large",
         "orientation": "v",
         "points": false,
         "scalegroup": "True",
         "showlegend": true,
         "type": "violin",
         "x": [
          "Malignant<br>lymphoma,<br>large"
         ],
         "x0": " ",
         "xaxis": "x",
         "y": [
          0.6648018090669245
         ],
         "y0": " ",
         "yaxis": "y"
        },
        {
         "alignmentgroup": "True",
         "box": {
          "visible": true
         },
         "hovertemplate": "Primary Diagnosis=%{x}<br>Expression Level=%{y}<extra></extra>",
         "legendgroup": "Medullary<br>carcinoma,<br>NOS",
         "marker": {
          "color": "rgb(102,194,165)"
         },
         "name": "Medullary<br>carcinoma,<br>NOS",
         "offsetgroup": "Medullary<br>carcinoma,<br>NOS",
         "orientation": "v",
         "points": false,
         "scalegroup": "True",
         "showlegend": true,
         "type": "violin",
         "x": [
          "Medullary<br>carcinoma,<br>NOS"
         ],
         "x0": " ",
         "xaxis": "x",
         "y": [
          0.4615712146052829
         ],
         "y0": " ",
         "yaxis": "y"
        }
       ],
       "layout": {
        "height": 700,
        "legend": {
         "title": {
          "text": "Primary Diagnosis"
         },
         "tracegroupgap": 0
        },
        "showlegend": false,
        "template": {
         "data": {
          "bar": [
           {
            "error_x": {
             "color": "#2a3f5f"
            },
            "error_y": {
             "color": "#2a3f5f"
            },
            "marker": {
             "line": {
              "color": "#E5ECF6",
              "width": 0.5
             },
             "pattern": {
              "fillmode": "overlay",
              "size": 10,
              "solidity": 0.2
             }
            },
            "type": "bar"
           }
          ],
          "barpolar": [
           {
            "marker": {
             "line": {
              "color": "#E5ECF6",
              "width": 0.5
             },
             "pattern": {
              "fillmode": "overlay",
              "size": 10,
              "solidity": 0.2
             }
            },
            "type": "barpolar"
           }
          ],
          "carpet": [
           {
            "aaxis": {
             "endlinecolor": "#2a3f5f",
             "gridcolor": "white",
             "linecolor": "white",
             "minorgridcolor": "white",
             "startlinecolor": "#2a3f5f"
            },
            "baxis": {
             "endlinecolor": "#2a3f5f",
             "gridcolor": "white",
             "linecolor": "white",
             "minorgridcolor": "white",
             "startlinecolor": "#2a3f5f"
            },
            "type": "carpet"
           }
          ],
          "choropleth": [
           {
            "colorbar": {
             "outlinewidth": 0,
             "ticks": ""
            },
            "type": "choropleth"
           }
          ],
          "contour": [
           {
            "colorbar": {
             "outlinewidth": 0,
             "ticks": ""
            },
            "colorscale": [
             [
              0,
              "#0d0887"
             ],
             [
              0.1111111111111111,
              "#46039f"
             ],
             [
              0.2222222222222222,
              "#7201a8"
             ],
             [
              0.3333333333333333,
              "#9c179e"
             ],
             [
              0.4444444444444444,
              "#bd3786"
             ],
             [
              0.5555555555555556,
              "#d8576b"
             ],
             [
              0.6666666666666666,
              "#ed7953"
             ],
             [
              0.7777777777777778,
              "#fb9f3a"
             ],
             [
              0.8888888888888888,
              "#fdca26"
             ],
             [
              1,
              "#f0f921"
             ]
            ],
            "type": "contour"
           }
          ],
          "contourcarpet": [
           {
            "colorbar": {
             "outlinewidth": 0,
             "ticks": ""
            },
            "type": "contourcarpet"
           }
          ],
          "heatmap": [
           {
            "colorbar": {
             "outlinewidth": 0,
             "ticks": ""
            },
            "colorscale": [
             [
              0,
              "#0d0887"
             ],
             [
              0.1111111111111111,
              "#46039f"
             ],
             [
              0.2222222222222222,
              "#7201a8"
             ],
             [
              0.3333333333333333,
              "#9c179e"
             ],
             [
              0.4444444444444444,
              "#bd3786"
             ],
             [
              0.5555555555555556,
              "#d8576b"
             ],
             [
              0.6666666666666666,
              "#ed7953"
             ],
             [
              0.7777777777777778,
              "#fb9f3a"
             ],
             [
              0.8888888888888888,
              "#fdca26"
             ],
             [
              1,
              "#f0f921"
             ]
            ],
            "type": "heatmap"
           }
          ],
          "heatmapgl": [
           {
            "colorbar": {
             "outlinewidth": 0,
             "ticks": ""
            },
            "colorscale": [
             [
              0,
              "#0d0887"
             ],
             [
              0.1111111111111111,
              "#46039f"
             ],
             [
              0.2222222222222222,
              "#7201a8"
             ],
             [
              0.3333333333333333,
              "#9c179e"
             ],
             [
              0.4444444444444444,
              "#bd3786"
             ],
             [
              0.5555555555555556,
              "#d8576b"
             ],
             [
              0.6666666666666666,
              "#ed7953"
             ],
             [
              0.7777777777777778,
              "#fb9f3a"
             ],
             [
              0.8888888888888888,
              "#fdca26"
             ],
             [
              1,
              "#f0f921"
             ]
            ],
            "type": "heatmapgl"
           }
          ],
          "histogram": [
           {
            "marker": {
             "pattern": {
              "fillmode": "overlay",
              "size": 10,
              "solidity": 0.2
             }
            },
            "type": "histogram"
           }
          ],
          "histogram2d": [
           {
            "colorbar": {
             "outlinewidth": 0,
             "ticks": ""
            },
            "colorscale": [
             [
              0,
              "#0d0887"
             ],
             [
              0.1111111111111111,
              "#46039f"
             ],
             [
              0.2222222222222222,
              "#7201a8"
             ],
             [
              0.3333333333333333,
              "#9c179e"
             ],
             [
              0.4444444444444444,
              "#bd3786"
             ],
             [
              0.5555555555555556,
              "#d8576b"
             ],
             [
              0.6666666666666666,
              "#ed7953"
             ],
             [
              0.7777777777777778,
              "#fb9f3a"
             ],
             [
              0.8888888888888888,
              "#fdca26"
             ],
             [
              1,
              "#f0f921"
             ]
            ],
            "type": "histogram2d"
           }
          ],
          "histogram2dcontour": [
           {
            "colorbar": {
             "outlinewidth": 0,
             "ticks": ""
            },
            "colorscale": [
             [
              0,
              "#0d0887"
             ],
             [
              0.1111111111111111,
              "#46039f"
             ],
             [
              0.2222222222222222,
              "#7201a8"
             ],
             [
              0.3333333333333333,
              "#9c179e"
             ],
             [
              0.4444444444444444,
              "#bd3786"
             ],
             [
              0.5555555555555556,
              "#d8576b"
             ],
             [
              0.6666666666666666,
              "#ed7953"
             ],
             [
              0.7777777777777778,
              "#fb9f3a"
             ],
             [
              0.8888888888888888,
              "#fdca26"
             ],
             [
              1,
              "#f0f921"
             ]
            ],
            "type": "histogram2dcontour"
           }
          ],
          "mesh3d": [
           {
            "colorbar": {
             "outlinewidth": 0,
             "ticks": ""
            },
            "type": "mesh3d"
           }
          ],
          "parcoords": [
           {
            "line": {
             "colorbar": {
              "outlinewidth": 0,
              "ticks": ""
             }
            },
            "type": "parcoords"
           }
          ],
          "pie": [
           {
            "automargin": true,
            "type": "pie"
           }
          ],
          "scatter": [
           {
            "fillpattern": {
             "fillmode": "overlay",
             "size": 10,
             "solidity": 0.2
            },
            "type": "scatter"
           }
          ],
          "scatter3d": [
           {
            "line": {
             "colorbar": {
              "outlinewidth": 0,
              "ticks": ""
             }
            },
            "marker": {
             "colorbar": {
              "outlinewidth": 0,
              "ticks": ""
             }
            },
            "type": "scatter3d"
           }
          ],
          "scattercarpet": [
           {
            "marker": {
             "colorbar": {
              "outlinewidth": 0,
              "ticks": ""
             }
            },
            "type": "scattercarpet"
           }
          ],
          "scattergeo": [
           {
            "marker": {
             "colorbar": {
              "outlinewidth": 0,
              "ticks": ""
             }
            },
            "type": "scattergeo"
           }
          ],
          "scattergl": [
           {
            "marker": {
             "colorbar": {
              "outlinewidth": 0,
              "ticks": ""
             }
            },
            "type": "scattergl"
           }
          ],
          "scattermapbox": [
           {
            "marker": {
             "colorbar": {
              "outlinewidth": 0,
              "ticks": ""
             }
            },
            "type": "scattermapbox"
           }
          ],
          "scatterpolar": [
           {
            "marker": {
             "colorbar": {
              "outlinewidth": 0,
              "ticks": ""
             }
            },
            "type": "scatterpolar"
           }
          ],
          "scatterpolargl": [
           {
            "marker": {
             "colorbar": {
              "outlinewidth": 0,
              "ticks": ""
             }
            },
            "type": "scatterpolargl"
           }
          ],
          "scatterternary": [
           {
            "marker": {
             "colorbar": {
              "outlinewidth": 0,
              "ticks": ""
             }
            },
            "type": "scatterternary"
           }
          ],
          "surface": [
           {
            "colorbar": {
             "outlinewidth": 0,
             "ticks": ""
            },
            "colorscale": [
             [
              0,
              "#0d0887"
             ],
             [
              0.1111111111111111,
              "#46039f"
             ],
             [
              0.2222222222222222,
              "#7201a8"
             ],
             [
              0.3333333333333333,
              "#9c179e"
             ],
             [
              0.4444444444444444,
              "#bd3786"
             ],
             [
              0.5555555555555556,
              "#d8576b"
             ],
             [
              0.6666666666666666,
              "#ed7953"
             ],
             [
              0.7777777777777778,
              "#fb9f3a"
             ],
             [
              0.8888888888888888,
              "#fdca26"
             ],
             [
              1,
              "#f0f921"
             ]
            ],
            "type": "surface"
           }
          ],
          "table": [
           {
            "cells": {
             "fill": {
              "color": "#EBF0F8"
             },
             "line": {
              "color": "white"
             }
            },
            "header": {
             "fill": {
              "color": "#C8D4E3"
             },
             "line": {
              "color": "white"
             }
            },
            "type": "table"
           }
          ]
         },
         "layout": {
          "annotationdefaults": {
           "arrowcolor": "#2a3f5f",
           "arrowhead": 0,
           "arrowwidth": 1
          },
          "autotypenumbers": "strict",
          "coloraxis": {
           "colorbar": {
            "outlinewidth": 0,
            "ticks": ""
           }
          },
          "colorscale": {
           "diverging": [
            [
             0,
             "#8e0152"
            ],
            [
             0.1,
             "#c51b7d"
            ],
            [
             0.2,
             "#de77ae"
            ],
            [
             0.3,
             "#f1b6da"
            ],
            [
             0.4,
             "#fde0ef"
            ],
            [
             0.5,
             "#f7f7f7"
            ],
            [
             0.6,
             "#e6f5d0"
            ],
            [
             0.7,
             "#b8e186"
            ],
            [
             0.8,
             "#7fbc41"
            ],
            [
             0.9,
             "#4d9221"
            ],
            [
             1,
             "#276419"
            ]
           ],
           "sequential": [
            [
             0,
             "#0d0887"
            ],
            [
             0.1111111111111111,
             "#46039f"
            ],
            [
             0.2222222222222222,
             "#7201a8"
            ],
            [
             0.3333333333333333,
             "#9c179e"
            ],
            [
             0.4444444444444444,
             "#bd3786"
            ],
            [
             0.5555555555555556,
             "#d8576b"
            ],
            [
             0.6666666666666666,
             "#ed7953"
            ],
            [
             0.7777777777777778,
             "#fb9f3a"
            ],
            [
             0.8888888888888888,
             "#fdca26"
            ],
            [
             1,
             "#f0f921"
            ]
           ],
           "sequentialminus": [
            [
             0,
             "#0d0887"
            ],
            [
             0.1111111111111111,
             "#46039f"
            ],
            [
             0.2222222222222222,
             "#7201a8"
            ],
            [
             0.3333333333333333,
             "#9c179e"
            ],
            [
             0.4444444444444444,
             "#bd3786"
            ],
            [
             0.5555555555555556,
             "#d8576b"
            ],
            [
             0.6666666666666666,
             "#ed7953"
            ],
            [
             0.7777777777777778,
             "#fb9f3a"
            ],
            [
             0.8888888888888888,
             "#fdca26"
            ],
            [
             1,
             "#f0f921"
            ]
           ]
          },
          "colorway": [
           "#636efa",
           "#EF553B",
           "#00cc96",
           "#ab63fa",
           "#FFA15A",
           "#19d3f3",
           "#FF6692",
           "#B6E880",
           "#FF97FF",
           "#FECB52"
          ],
          "font": {
           "color": "#2a3f5f"
          },
          "geo": {
           "bgcolor": "white",
           "lakecolor": "white",
           "landcolor": "#E5ECF6",
           "showlakes": true,
           "showland": true,
           "subunitcolor": "white"
          },
          "hoverlabel": {
           "align": "left"
          },
          "hovermode": "closest",
          "mapbox": {
           "style": "light"
          },
          "paper_bgcolor": "white",
          "plot_bgcolor": "#E5ECF6",
          "polar": {
           "angularaxis": {
            "gridcolor": "white",
            "linecolor": "white",
            "ticks": ""
           },
           "bgcolor": "#E5ECF6",
           "radialaxis": {
            "gridcolor": "white",
            "linecolor": "white",
            "ticks": ""
           }
          },
          "scene": {
           "xaxis": {
            "backgroundcolor": "#E5ECF6",
            "gridcolor": "white",
            "gridwidth": 2,
            "linecolor": "white",
            "showbackground": true,
            "ticks": "",
            "zerolinecolor": "white"
           },
           "yaxis": {
            "backgroundcolor": "#E5ECF6",
            "gridcolor": "white",
            "gridwidth": 2,
            "linecolor": "white",
            "showbackground": true,
            "ticks": "",
            "zerolinecolor": "white"
           },
           "zaxis": {
            "backgroundcolor": "#E5ECF6",
            "gridcolor": "white",
            "gridwidth": 2,
            "linecolor": "white",
            "showbackground": true,
            "ticks": "",
            "zerolinecolor": "white"
           }
          },
          "shapedefaults": {
           "line": {
            "color": "#2a3f5f"
           }
          },
          "ternary": {
           "aaxis": {
            "gridcolor": "white",
            "linecolor": "white",
            "ticks": ""
           },
           "baxis": {
            "gridcolor": "white",
            "linecolor": "white",
            "ticks": ""
           },
           "bgcolor": "#E5ECF6",
           "caxis": {
            "gridcolor": "white",
            "linecolor": "white",
            "ticks": ""
           }
          },
          "title": {
           "x": 0.05
          },
          "xaxis": {
           "automargin": true,
           "gridcolor": "white",
           "linecolor": "white",
           "ticks": "",
           "title": {
            "standoff": 15
           },
           "zerolinecolor": "white",
           "zerolinewidth": 2
          },
          "yaxis": {
           "automargin": true,
           "gridcolor": "white",
           "linecolor": "white",
           "ticks": "",
           "title": {
            "standoff": 15
           },
           "zerolinecolor": "white",
           "zerolinewidth": 2
          }
         }
        },
        "title": {
         "text": "Gene Expression Distribution Across Primary Diagnosis Categories (Aggregated by Case)"
        },
        "violinmode": "overlay",
        "width": 1200,
        "xaxis": {
         "anchor": "y",
         "autorange": true,
         "categoryarray": [
          "Infiltrating<br>duct<br>carcinoma,",
          "Infiltrating<br>duct<br>and",
          "Large<br>cell<br>neuroendocrine",
          "Lobular<br>carcinoma,<br>NOS",
          "Metaplastic<br>carcinoma,<br>NOS",
          "Carcinoma,<br>NOS",
          "Infiltrating<br>duct<br>mixed",
          "Malignant<br>lymphoma,<br>large",
          "Medullary<br>carcinoma,<br>NOS"
         ],
         "categoryorder": "array",
         "domain": [
          0,
          1
         ],
         "range": [
          -0.5,
          8.5
         ],
         "tickangle": 0,
         "title": {
          "text": "Primary Diagnosis"
         },
         "type": "category"
        },
        "yaxis": {
         "anchor": "x",
         "autorange": true,
         "domain": [
          0,
          1
         ],
         "range": [
          -1.3453411454596693,
          1.7348391877880733
         ],
         "title": {
          "text": "Expression Level"
         },
         "type": "linear"
        }
       }
      },
      "image/png": "[encoded data removed]",
      "text/html": [
       "<div>                            <div id=\"32c9e0b7-b270-4ddc-aea6-c3d6ab5d144e\" class=\"plotly-graph-div\" style=\"height:700px; width:1200px;\"></div>            <script type=\"text/javascript\">                require([\"plotly\"], function(Plotly) {                    window.PLOTLYENV=window.PLOTLYENV || {};                                    if (document.getElementById(\"32c9e0b7-b270-4ddc-aea6-c3d6ab5d144e\")) {                    Plotly.newPlot(                        \"32c9e0b7-b270-4ddc-aea6-c3d6ab5d144e\",                        [{\"alignmentgroup\":\"True\",\"box\":{\"visible\":true},\"hovertemplate\":\"Primary Diagnosis=%{x}\\u003cbr\\u003eExpression Level=%{y}\\u003cextra\\u003e\\u003c\\u002fextra\\u003e\",\"legendgroup\":\"Infiltrating\\u003cbr\\u003educt\\u003cbr\\u003ecarcinoma,\",\"marker\":{\"color\":\"rgb(102,194,165)\"},\"name\":\"Infiltrating\\u003cbr\\u003educt\\u003cbr\\u003ecarcinoma,\",\"offsetgroup\":\"Infiltrating\\u003cbr\\u003educt\\u003cbr\\u003ecarcinoma,\",\"orientation\":\"v\",\"points\":false,\"scalegroup\":\"True\",\"showlegend\":true,\"x\":[\"Infiltrating\\u003cbr\\u003educt\\u003cbr\\u003ecarcinoma,\",\"Infiltrating\\u003cbr\\u003educt\\u003cbr\\u003ecarcinoma,\",\"Infiltrating\\u003cbr\\u003educt\\u003cbr\\u003ecarcinoma,\",\"Infiltrating\\u003cbr\\u003educt\\u003cbr\\u003ecarcinoma,\",\"Infiltrating\\u003cbr\\u003educt\\u003cbr\\u003ecarcinoma,\",\"Infiltrating\\u003cbr\\u003educt\\u003cbr\\u003ecarcinoma,\",\"Infiltrating\\u003cbr\\u003educt\\u003cbr\\u003ecarcinoma,\",\"Infiltrating\\u003cbr\\u003educt\\u003cbr\\u003ecarcinoma,\",\"Infiltrating\\u003cbr\\u003educt\\u003cbr\\u003ecarcinoma,\",\"Infiltrating\\u003cbr\\u003educt\\u003cbr\\u003ecarcinoma,\",\"Infiltrating\\u003cbr\\u003educt\\u003cbr\\u003ecarcinoma,\",\"Infiltrating\\u003cbr\\u003educt\\u003cbr\\u003ecarcinoma,\",\"Infiltrating\\u003cbr\\u003educt\\u003cbr\\u003ecarcinoma,\",\"Infiltrating\\u003cbr\\u003educt\\u003cbr\\u003ecarcinoma,\",\"Infiltrating\\u003cbr\\u003educt\\u003cbr\\u003ecarcinoma,\",\"Infiltrating\\u003cbr\\u003educt\\u003cbr\\u003ecarcinoma,\",\"Infiltrating\\u003cbr\\u003educt\\u003cbr\\u003ecarcinoma,\",\"Infiltrating\\u003cbr\\u003educt\\u003cbr\\u003ecarcinoma,\",\"Infiltrating\\u003cbr\\u003educt\\u003cbr\\u003ecarcinoma,\",\"Infiltrating\\u003cbr\\u003educt\\u003cbr\\u003ecarcinoma,\",\"Infiltrating\\u003cbr\\u003educt\\u003cbr\\u003ecarcinoma,\",\"Infiltrating\\u003cbr\\u003educt\\u003cbr\\u003ecarcinoma,\",\"Infiltrating\\u003cbr\\u003educt\\u003cbr\\u003ecarcinoma,\",\"Infiltrating\\u003cbr\\u003educt\\u003cbr\\u003ecarcinoma,\",\"Infiltrating\\u003cbr\\u003educt\\u003cbr\\u003ecarcinoma,\",\"Infiltrating\\u003cbr\\u003educt\\u003cbr\\u003ecarcinoma,\",\"Infiltrating\\u003cbr\\u003educt\\u003cbr\\u003ecarcinoma,\",\"Infiltrating\\u003cbr\\u003educt\\u003cbr\\u003ecarcinoma,\",\"Infiltrating\\u003cbr\\u003educt\\u003cbr\\u003ecarcinoma,\",\"Infiltrating\\u003cbr\\u003educt\\u003cbr\\u003ecarcinoma,\",\"Infiltrating\\u003cbr\\u003educt\\u003cbr\\u003ecarcinoma,\"],\"x0\":\" \",\"xaxis\":\"x\",\"y\":[-0.19071336574399944,-0.4406779828188568,-0.44259735891922786,-0.3916589760371441,0.241313358082682,-0.03455853653728149,0.11137376478146468,0.13429987657290962,-0.037974141608749644,-0.21552716453507645,-0.20071051172881604,-0.09540479166268297,1.0603187936636547,-0.2367875562323537,0.15520710761673004,0.20642703815213284,-0.09003516415881488,0.8980817773556306,0.0718089166437936,0.5843681205673026,0.08753503892490487,0.3617311645626425,-0.0987787432626727,-0.2536141852626979,0.7111021218767489,0.18138360470579093,0.07315467835108935,0.02519173439879645,0.15322288638076462,0.9991603296976509,0.0551027250564312],\"y0\":\" \",\"yaxis\":\"y\",\"type\":\"violin\"},{\"alignmentgroup\":\"True\",\"box\":{\"visible\":true},\"hovertemplate\":\"Primary Diagnosis=%{x}\\u003cbr\\u003eExpression Level=%{y}\\u003cextra\\u003e\\u003c\\u002fextra\\u003e\",\"legendgroup\":\"Infiltrating\\u003cbr\\u003educt\\u003cbr\\u003eand\",\"marker\":{\"color\":\"rgb(252,141,98)\"},\"name\":\"Infiltrating\\u003cbr\\u003educt\\u003cbr\\u003eand\",\"offsetgroup\":\"Infiltrating\\u003cbr\\u003educt\\u003cbr\\u003eand\",\"orientation\":\"v\",\"points\":false,\"scalegroup\":\"True\",\"showlegend\":true,\"x\":[\"Infiltrating\\u003cbr\\u003educt\\u003cbr\\u003eand\"],\"x0\":\" \",\"xaxis\":\"x\",\"y\":[-0.18862972823659033],\"y0\":\" \",\"yaxis\":\"y\",\"type\":\"violin\"},{\"alignmentgroup\":\"True\",\"box\":{\"visible\":true},\"hovertemplate\":\"Primary Diagnosis=%{x}\\u003cbr\\u003eExpression Level=%{y}\\u003cextra\\u003e\\u003c\\u002fextra\\u003e\",\"legendgroup\":\"Large\\u003cbr\\u003ecell\\u003cbr\\u003eneuroendocrine\",\"marker\":{\"color\":\"rgb(141,160,203)\"},\"name\":\"Large\\u003cbr\\u003ecell\\u003cbr\\u003eneuroendocrine\",\"offsetgroup\":\"Large\\u003cbr\\u003ecell\\u003cbr\\u003eneuroendocrine\",\"orientation\":\"v\",\"points\":false,\"scalegroup\":\"True\",\"showlegend\":true,\"x\":[\"Large\\u003cbr\\u003ecell\\u003cbr\\u003eneuroendocrine\"],\"x0\":\" \",\"xaxis\":\"x\",\"y\":[0.8705877092106236],\"y0\":\" \",\"yaxis\":\"y\",\"type\":\"violin\"},{\"alignmentgroup\":\"True\",\"box\":{\"visible\":true},\"hovertemplate\":\"Primary Diagnosis=%{x}\\u003cbr\\u003eExpression Level=%{y}\\u003cextra\\u003e\\u003c\\u002fextra\\u003e\",\"legendgroup\":\"Lobular\\u003cbr\\u003ecarcinoma,\\u003cbr\\u003eNOS\",\"marker\":{\"color\":\"rgb(231,138,195)\"},\"name\":\"Lobular\\u003cbr\\u003ecarcinoma,\\u003cbr\\u003eNOS\",\"offsetgroup\":\"Lobular\\u003cbr\\u003ecarcinoma,\\u003cbr\\u003eNOS\",\"orientation\":\"v\",\"points\":false,\"scalegroup\":\"True\",\"showlegend\":true,\"x\":[\"Lobular\\u003cbr\\u003ecarcinoma,\\u003cbr\\u003eNOS\",\"Lobular\\u003cbr\\u003ecarcinoma,\\u003cbr\\u003eNOS\",\"Lobular\\u003cbr\\u003ecarcinoma,\\u003cbr\\u003eNOS\",\"Lobular\\u003cbr\\u003ecarcinoma,\\u003cbr\\u003eNOS\",\"Lobular\\u003cbr\\u003ecarcinoma,\\u003cbr\\u003eNOS\",\"Lobular\\u003cbr\\u003ecarcinoma,\\u003cbr\\u003eNOS\",\"Lobular\\u003cbr\\u003ecarcinoma,\\u003cbr\\u003eNOS\",\"Lobular\\u003cbr\\u003ecarcinoma,\\u003cbr\\u003eNOS\"],\"x0\":\" \",\"xaxis\":\"x\",\"y\":[-0.049581670356946134,0.3987576351959821,-0.1175246246935252,0.38744337381026245,0.015515077682287578,0.5061037368680184,-0.11700441898763135,0.5524361984877707],\"y0\":\" \",\"yaxis\":\"y\",\"type\":\"violin\"},{\"alignmentgroup\":\"True\",\"box\":{\"visible\":true},\"hovertemplate\":\"Primary Diagnosis=%{x}\\u003cbr\\u003eExpression Level=%{y}\\u003cextra\\u003e\\u003c\\u002fextra\\u003e\",\"legendgroup\":\"Metaplastic\\u003cbr\\u003ecarcinoma,\\u003cbr\\u003eNOS\",\"marker\":{\"color\":\"rgb(166,216,84)\"},\"name\":\"Metaplastic\\u003cbr\\u003ecarcinoma,\\u003cbr\\u003eNOS\",\"offsetgroup\":\"Metaplastic\\u003cbr\\u003ecarcinoma,\\u003cbr\\u003eNOS\",\"orientation\":\"v\",\"points\":false,\"scalegroup\":\"True\",\"showlegend\":true,\"x\":[\"Metaplastic\\u003cbr\\u003ecarcinoma,\\u003cbr\\u003eNOS\",\"Metaplastic\\u003cbr\\u003ecarcinoma,\\u003cbr\\u003eNOS\",\"Metaplastic\\u003cbr\\u003ecarcinoma,\\u003cbr\\u003eNOS\",\"Metaplastic\\u003cbr\\u003ecarcinoma,\\u003cbr\\u003eNOS\",\"Metaplastic\\u003cbr\\u003ecarcinoma,\\u003cbr\\u003eNOS\",\"Metaplastic\\u003cbr\\u003ecarcinoma,\\u003cbr\\u003eNOS\"],\"x0\":\" \",\"xaxis\":\"x\",\"y\":[-0.45784027740236266,0.8466634271444605,0.8473383197307665,0.5792641979379572,0.16181513060980704,0.32932413730300325],\"y0\":\" \",\"yaxis\":\"y\",\"type\":\"violin\"},{\"alignmentgroup\":\"True\",\"box\":{\"visible\":true},\"hovertemplate\":\"Primary Diagnosis=%{x}\\u003cbr\\u003eExpression Level=%{y}\\u003cextra\\u003e\\u003c\\u002fextra\\u003e\",\"legendgroup\":\"Carcinoma,\\u003cbr\\u003eNOS\",\"marker\":{\"color\":\"rgb(255,217,47)\"},\"name\":\"Carcinoma,\\u003cbr\\u003eNOS\",\"offsetgroup\":\"Carcinoma,\\u003cbr\\u003eNOS\",\"orientation\":\"v\",\"points\":false,\"scalegroup\":\"True\",\"showlegend\":true,\"x\":[\"Carcinoma,\\u003cbr\\u003eNOS\"],\"x0\":\" \",\"xaxis\":\"x\",\"y\":[-0.30315187584912984],\"y0\":\" \",\"yaxis\":\"y\",\"type\":\"violin\"},{\"alignmentgroup\":\"True\",\"box\":{\"visible\":true},\"hovertemplate\":\"Primary Diagnosis=%{x}\\u003cbr\\u003eExpression Level=%{y}\\u003cextra\\u003e\\u003c\\u002fextra\\u003e\",\"legendgroup\":\"Infiltrating\\u003cbr\\u003educt\\u003cbr\\u003emixed\",\"marker\":{\"color\":\"rgb(229,196,148)\"},\"name\":\"Infiltrating\\u003cbr\\u003educt\\u003cbr\\u003emixed\",\"offsetgroup\":\"Infiltrating\\u003cbr\\u003educt\\u003cbr\\u003emixed\",\"orientation\":\"v\",\"points\":false,\"scalegroup\":\"True\",\"showlegend\":true,\"x\":[\"Infiltrating\\u003cbr\\u003educt\\u003cbr\\u003emixed\"],\"x0\":\" \",\"xaxis\":\"x\",\"y\":[0.14832374891362665],\"y0\":\" \",\"yaxis\":\"y\",\"type\":\"violin\"},{\"alignmentgroup\":\"True\",\"box\":{\"visible\":true},\"hovertemplate\":\"Primary Diagnosis=%{x}\\u003cbr\\u003eExpression Level=%{y}\\u003cextra\\u003e\\u003c\\u002fextra\\u003e\",\"legendgroup\":\"Malignant\\u003cbr\\u003elymphoma,\\u003cbr\\u003elarge\",\"marker\":{\"color\":\"rgb(179,179,179)\"},\"name\":\"Malignant\\u003cbr\\u003elymphoma,\\u003cbr\\u003elarge\",\"offsetgroup\":\"Malignant\\u003cbr\\u003elymphoma,\\u003cbr\\u003elarge\",\"orientation\":\"v\",\"points\":false,\"scalegroup\":\"True\",\"showlegend\":true,\"x\":[\"Malignant\\u003cbr\\u003elymphoma,\\u003cbr\\u003elarge\"],\"x0\":\" \",\"xaxis\":\"x\",\"y\":[0.6648018090669245],\"y0\":\" \",\"yaxis\":\"y\",\"type\":\"violin\"},{\"alignmentgroup\":\"True\",\"box\":{\"visible\":true},\"hovertemplate\":\"Primary Diagnosis=%{x}\\u003cbr\\u003eExpression Level=%{y}\\u003cextra\\u003e\\u003c\\u002fextra\\u003e\",\"legendgroup\":\"Medullary\\u003cbr\\u003ecarcinoma,\\u003cbr\\u003eNOS\",\"marker\":{\"color\":\"rgb(102,194,165)\"},\"name\":\"Medullary\\u003cbr\\u003ecarcinoma,\\u003cbr\\u003eNOS\",\"offsetgroup\":\"Medullary\\u003cbr\\u003ecarcinoma,\\u003cbr\\u003eNOS\",\"orientation\":\"v\",\"points\":false,\"scalegroup\":\"True\",\"showlegend\":true,\"x\":[\"Medullary\\u003cbr\\u003ecarcinoma,\\u003cbr\\u003eNOS\"],\"x0\":\" \",\"xaxis\":\"x\",\"y\":[0.4615712146052829],\"y0\":\" \",\"yaxis\":\"y\",\"type\":\"violin\"}],                        {\"template\":{\"data\":{\"histogram2dcontour\":[{\"type\":\"histogram2dcontour\",\"colorbar\":{\"outlinewidth\":0,\"ticks\":\"\"},\"colorscale\":[[0.0,\"#0d0887\"],[0.1111111111111111,\"#46039f\"],[0.2222222222222222,\"#7201a8\"],[0.3333333333333333,\"#9c179e\"],[0.4444444444444444,\"#bd3786\"],[0.5555555555555556,\"#d8576b\"],[0.6666666666666666,\"#ed7953\"],[0.7777777777777778,\"#fb9f3a\"],[0.8888888888888888,\"#fdca26\"],[1.0,\"#f0f921\"]]}],\"choropleth\":[{\"type\":\"choropleth\",\"colorbar\":{\"outlinewidth\":0,\"ticks\":\"\"}}],\"histogram2d\":[{\"type\":\"histogram2d\",\"colorbar\":{\"outlinewidth\":0,\"ticks\":\"\"},\"colorscale\":[[0.0,\"#0d0887\"],[0.1111111111111111,\"#46039f\"],[0.2222222222222222,\"#7201a8\"],[0.3333333333333333,\"#9c179e\"],[0.4444444444444444,\"#bd3786\"],[0.5555555555555556,\"#d8576b\"],[0.6666666666666666,\"#ed7953\"],[0.7777777777777778,\"#fb9f3a\"],[0.8888888888888888,\"#fdca26\"],[1.0,\"#f0f921\"]]}],\"heatmap\":[{\"type\":\"heatmap\",\"colorbar\":{\"outlinewidth\":0,\"ticks\":\"\"},\"colorscale\":[[0.0,\"#0d0887\"],[0.1111111111111111,\"#46039f\"],[0.2222222222222222,\"#7201a8\"],[0.3333333333333333,\"#9c179e\"],[0.4444444444444444,\"#bd3786\"],[0.5555555555555556,\"#d8576b\"],[0.6666666666666666,\"#ed7953\"],[0.7777777777777778,\"#fb9f3a\"],[0.8888888888888888,\"#fdca26\"],[1.0,\"#f0f921\"]]}],\"heatmapgl\":[{\"type\":\"heatmapgl\",\"colorbar\":{\"outlinewidth\":0,\"ticks\":\"\"},\"colorscale\":[[0.0,\"#0d0887\"],[0.1111111111111111,\"#46039f\"],[0.2222222222222222,\"#7201a8\"],[0.3333333333333333,\"#9c179e\"],[0.4444444444444444,\"#bd3786\"],[0.5555555555555556,\"#d8576b\"],[0.6666666666666666,\"#ed7953\"],[0.7777777777777778,\"#fb9f3a\"],[0.8888888888888888,\"#fdca26\"],[1.0,\"#f0f921\"]]}],\"contourcarpet\":[{\"type\":\"contourcarpet\",\"colorbar\":{\"outlinewidth\":0,\"ticks\":\"\"}}],\"contour\":[{\"type\":\"contour\",\"colorbar\":{\"outlinewidth\":0,\"ticks\":\"\"},\"colorscale\":[[0.0,\"#0d0887\"],[0.1111111111111111,\"#46039f\"],[0.2222222222222222,\"#7201a8\"],[0.3333333333333333,\"#9c179e\"],[0.4444444444444444,\"#bd3786\"],[0.5555555555555556,\"#d8576b\"],[0.6666666666666666,\"#ed7953\"],[0.7777777777777778,\"#fb9f3a\"],[0.8888888888888888,\"#fdca26\"],[1.0,\"#f0f921\"]]}],\"surface\":[{\"type\":\"surface\",\"colorbar\":{\"outlinewidth\":0,\"ticks\":\"\"},\"colorscale\":[[0.0,\"#0d0887\"],[0.1111111111111111,\"#46039f\"],[0.2222222222222222,\"#7201a8\"],[0.3333333333333333,\"#9c179e\"],[0.4444444444444444,\"#bd3786\"],[0.5555555555555556,\"#d8576b\"],[0.6666666666666666,\"#ed7953\"],[0.7777777777777778,\"#fb9f3a\"],[0.8888888888888888,\"#fdca26\"],[1.0,\"#f0f921\"]]}],\"mesh3d\":[{\"type\":\"mesh3d\",\"colorbar\":{\"outlinewidth\":0,\"ticks\":\"\"}}],\"scatter\":[{\"fillpattern\":{\"fillmode\":\"overlay\",\"size\":10,\"solidity\":0.2},\"type\":\"scatter\"}],\"parcoords\":[{\"type\":\"parcoords\",\"line\":{\"colorbar\":{\"outlinewidth\":0,\"ticks\":\"\"}}}],\"scatterpolargl\":[{\"type\":\"scatterpolargl\",\"marker\":{\"colorbar\":{\"outlinewidth\":0,\"ticks\":\"\"}}}],\"bar\":[{\"error_x\":{\"color\":\"#2a3f5f\"},\"error_y\":{\"color\":\"#2a3f5f\"},\"marker\":{\"line\":{\"color\":\"#E5ECF6\",\"width\":0.5},\"pattern\":{\"fillmode\":\"overlay\",\"size\":10,\"solidity\":0.2}},\"type\":\"bar\"}],\"scattergeo\":[{\"type\":\"scattergeo\",\"marker\":{\"colorbar\":{\"outlinewidth\":0,\"ticks\":\"\"}}}],\"scatterpolar\":[{\"type\":\"scatterpolar\",\"marker\":{\"colorbar\":{\"outlinewidth\":0,\"ticks\":\"\"}}}],\"histogram\":[{\"marker\":{\"pattern\":{\"fillmode\":\"overlay\",\"size\":10,\"solidity\":0.2}},\"type\":\"histogram\"}],\"scattergl\":[{\"type\":\"scattergl\",\"marker\":{\"colorbar\":{\"outlinewidth\":0,\"ticks\":\"\"}}}],\"scatter3d\":[{\"type\":\"scatter3d\",\"line\":{\"colorbar\":{\"outlinewidth\":0,\"ticks\":\"\"}},\"marker\":{\"colorbar\":{\"outlinewidth\":0,\"ticks\":\"\"}}}],\"scattermapbox\":[{\"type\":\"scattermapbox\",\"marker\":{\"colorbar\":{\"outlinewidth\":0,\"ticks\":\"\"}}}],\"scatterternary\":[{\"type\":\"scatterternary\",\"marker\":{\"colorbar\":{\"outlinewidth\":0,\"ticks\":\"\"}}}],\"scattercarpet\":[{\"type\":\"scattercarpet\",\"marker\":{\"colorbar\":{\"outlinewidth\":0,\"ticks\":\"\"}}}],\"carpet\":[{\"aaxis\":{\"endlinecolor\":\"#2a3f5f\",\"gridcolor\":\"white\",\"linecolor\":\"white\",\"minorgridcolor\":\"white\",\"startlinecolor\":\"#2a3f5f\"},\"baxis\":{\"endlinecolor\":\"#2a3f5f\",\"gridcolor\":\"white\",\"linecolor\":\"white\",\"minorgridcolor\":\"white\",\"startlinecolor\":\"#2a3f5f\"},\"type\":\"carpet\"}],\"table\":[{\"cells\":{\"fill\":{\"color\":\"#EBF0F8\"},\"line\":{\"color\":\"white\"}},\"header\":{\"fill\":{\"color\":\"#C8D4E3\"},\"line\":{\"color\":\"white\"}},\"type\":\"table\"}],\"barpolar\":[{\"marker\":{\"line\":{\"color\":\"#E5ECF6\",\"width\":0.5},\"pattern\":{\"fillmode\":\"overlay\",\"size\":10,\"solidity\":0.2}},\"type\":\"barpolar\"}],\"pie\":[{\"automargin\":true,\"type\":\"pie\"}]},\"layout\":{\"autotypenumbers\":\"strict\",\"colorway\":[\"#636efa\",\"#EF553B\",\"#00cc96\",\"#ab63fa\",\"#FFA15A\",\"#19d3f3\",\"#FF6692\",\"#B6E880\",\"#FF97FF\",\"#FECB52\"],\"font\":{\"color\":\"#2a3f5f\"},\"hovermode\":\"closest\",\"hoverlabel\":{\"align\":\"left\"},\"paper_bgcolor\":\"white\",\"plot_bgcolor\":\"#E5ECF6\",\"polar\":{\"bgcolor\":\"#E5ECF6\",\"angularaxis\":{\"gridcolor\":\"white\",\"linecolor\":\"white\",\"ticks\":\"\"},\"radialaxis\":{\"gridcolor\":\"white\",\"linecolor\":\"white\",\"ticks\":\"\"}},\"ternary\":{\"bgcolor\":\"#E5ECF6\",\"aaxis\":{\"gridcolor\":\"white\",\"linecolor\":\"white\",\"ticks\":\"\"},\"baxis\":{\"gridcolor\":\"white\",\"linecolor\":\"white\",\"ticks\":\"\"},\"caxis\":{\"gridcolor\":\"white\",\"linecolor\":\"white\",\"ticks\":\"\"}},\"coloraxis\":{\"colorbar\":{\"outlinewidth\":0,\"ticks\":\"\"}},\"colorscale\":{\"sequential\":[[0.0,\"#0d0887\"],[0.1111111111111111,\"#46039f\"],[0.2222222222222222,\"#7201a8\"],[0.3333333333333333,\"#9c179e\"],[0.4444444444444444,\"#bd3786\"],[0.5555555555555556,\"#d8576b\"],[0.6666666666666666,\"#ed7953\"],[0.7777777777777778,\"#fb9f3a\"],[0.8888888888888888,\"#fdca26\"],[1.0,\"#f0f921\"]],\"sequentialminus\":[[0.0,\"#0d0887\"],[0.1111111111111111,\"#46039f\"],[0.2222222222222222,\"#7201a8\"],[0.3333333333333333,\"#9c179e\"],[0.4444444444444444,\"#bd3786\"],[0.5555555555555556,\"#d8576b\"],[0.6666666666666666,\"#ed7953\"],[0.7777777777777778,\"#fb9f3a\"],[0.8888888888888888,\"#fdca26\"],[1.0,\"#f0f921\"]],\"diverging\":[[0,\"#8e0152\"],[0.1,\"#c51b7d\"],[0.2,\"#de77ae\"],[0.3,\"#f1b6da\"],[0.4,\"#fde0ef\"],[0.5,\"#f7f7f7\"],[0.6,\"#e6f5d0\"],[0.7,\"#b8e186\"],[0.8,\"#7fbc41\"],[0.9,\"#4d9221\"],[1,\"#276419\"]]},\"xaxis\":{\"gridcolor\":\"white\",\"linecolor\":\"white\",\"ticks\":\"\",\"title\":{\"standoff\":15},\"zerolinecolor\":\"white\",\"automargin\":true,\"zerolinewidth\":2},\"yaxis\":{\"gridcolor\":\"white\",\"linecolor\":\"white\",\"ticks\":\"\",\"title\":{\"standoff\":15},\"zerolinecolor\":\"white\",\"automargin\":true,\"zerolinewidth\":2},\"scene\":{\"xaxis\":{\"backgroundcolor\":\"#E5ECF6\",\"gridcolor\":\"white\",\"linecolor\":\"white\",\"showbackground\":true,\"ticks\":\"\",\"zerolinecolor\":\"white\",\"gridwidth\":2},\"yaxis\":{\"backgroundcolor\":\"#E5ECF6\",\"gridcolor\":\"white\",\"linecolor\":\"white\",\"showbackground\":true,\"ticks\":\"\",\"zerolinecolor\":\"white\",\"gridwidth\":2},\"zaxis\":{\"backgroundcolor\":\"#E5ECF6\",\"gridcolor\":\"white\",\"linecolor\":\"white\",\"showbackground\":true,\"ticks\":\"\",\"zerolinecolor\":\"white\",\"gridwidth\":2}},\"shapedefaults\":{\"line\":{\"color\":\"#2a3f5f\"}},\"annotationdefaults\":{\"arrowcolor\":\"#2a3f5f\",\"arrowhead\":0,\"arrowwidth\":1},\"geo\":{\"bgcolor\":\"white\",\"landcolor\":\"#E5ECF6\",\"subunitcolor\":\"white\",\"showland\":true,\"showlakes\":true,\"lakecolor\":\"white\"},\"title\":{\"x\":0.05},\"mapbox\":{\"style\":\"light\"}}},\"xaxis\":{\"anchor\":\"y\",\"domain\":[0.0,1.0],\"title\":{\"text\":\"Primary Diagnosis\"},\"categoryorder\":\"array\",\"categoryarray\":[\"Infiltrating\\u003cbr\\u003educt\\u003cbr\\u003ecarcinoma,\",\"Infiltrating\\u003cbr\\u003educt\\u003cbr\\u003eand\",\"Large\\u003cbr\\u003ecell\\u003cbr\\u003eneuroendocrine\",\"Lobular\\u003cbr\\u003ecarcinoma,\\u003cbr\\u003eNOS\",\"Metaplastic\\u003cbr\\u003ecarcinoma,\\u003cbr\\u003eNOS\",\"Carcinoma,\\u003cbr\\u003eNOS\",\"Infiltrating\\u003cbr\\u003educt\\u003cbr\\u003emixed\",\"Malignant\\u003cbr\\u003elymphoma,\\u003cbr\\u003elarge\",\"Medullary\\u003cbr\\u003ecarcinoma,\\u003cbr\\u003eNOS\"],\"tickangle\":0},\"yaxis\":{\"anchor\":\"x\",\"domain\":[0.0,1.0],\"title\":{\"text\":\"Expression Level\"}},\"legend\":{\"title\":{\"text\":\"Primary Diagnosis\"},\"tracegroupgap\":0},\"title\":{\"text\":\"Gene Expression Distribution Across Primary Diagnosis Categories (Aggregated by Case)\"},\"violinmode\":\"overlay\",\"showlegend\":false,\"width\":1200,\"height\":700},                        {\"responsive\": true}                    ).then(function(){\n",
       "                            \n",
       "var gd = document.getElementById('32c9e0b7-b270-4ddc-aea6-c3d6ab5d144e');\n",
       "var x = new MutationObserver(function (mutations, observer) {{\n",
       "        var display = window.getComputedStyle(gd).display;\n",
       "        if (!display || display === 'none') {{\n",
       "            console.log([gd, 'removed!']);\n",
       "            Plotly.purge(gd);\n",
       "            observer.disconnect();\n",
       "        }}\n",
       "}});\n",
       "\n",
       "// Listen for the removal of the full notebook cells\n",
       "var notebookContainer = gd.closest('#notebook-container');\n",
       "if (notebookContainer) {{\n",
       "    x.observe(notebookContainer, {childList: true});\n",
       "}}\n",
       "\n",
       "// Listen for the clearing of the current output cell\n",
       "var outputEl = gd.closest('.output');\n",
       "if (outputEl) {{\n",
       "    x.observe(outputEl, {childList: true});\n",
       "}}\n",
       "\n",
       "                        })                };                });            </script>        </div>"
      ]
     },
     "metadata": {},
     "output_type": "display_data"
    }
   ],
   "source": [
    "# Aggregate data by case (mean expression for cases with multiple rows)\n",
    "aggregated_data = df_drop_Clean.groupby(['Case', 'primary_diagnosis'], as_index=False).agg({'Expression': 'mean'})\n",
    "\n",
    "# Remove \"Not Reported\" values from the primary diagnosis column\n",
    "filtered_data = aggregated_data[aggregated_data['primary_diagnosis'] != \"Not Reported\"]\n",
    "\n",
    "# Shorten or format long labels with line breaks\n",
    "filtered_data['primary_diagnosis'] = filtered_data['primary_diagnosis'].apply(\n",
    "    lambda x: '<br>'.join(x.split(' ', 3)[:3]) if len(x.split(' ')) > 3 else x.replace(' ', '<br>')\n",
    ")\n",
    "\n",
    "# Create a violin plot using Plotly\n",
    "fig = px.violin(\n",
    "    filtered_data,\n",
    "    x='primary_diagnosis',\n",
    "    y='Expression',\n",
    "    box=True,  \n",
    "    points=False,\n",
    "    color='primary_diagnosis',  \n",
    "    title=\"Gene Expression Distribution Across Primary Diagnosis Categories (Aggregated by Case)\",\n",
    "    labels={\n",
    "        'primary_diagnosis': 'Primary Diagnosis',\n",
    "        'Expression': 'Expression Level'\n",
    "    },\n",
    "    color_discrete_sequence=px.colors.qualitative.Set2 \n",
    ")\n",
    "\n",
    "\n",
    "fig.update_layout(\n",
    "    xaxis_title=\"Primary Diagnosis\",\n",
    "    yaxis_title=\"Expression Level\",\n",
    "    xaxis_tickangle=0,  \n",
    "    showlegend=False,  \n",
    "    width=1200, \n",
    "    height=700  \n",
    ")\n",
    "\n",
    "\n",
    "fig.show()\n",
    "\n"
   ]
  }
 ],
 "metadata": {
  "kernelspec": {
   "display_name": "Python 3 (ipykernel)",
   "language": "python",
   "name": "python3"
  },
  "language_info": {
   "codemirror_mode": {
    "name": "ipython",
    "version": 3
   },
   "file_extension": ".py",
   "mimetype": "text/x-python",
   "name": "python",
   "nbconvert_exporter": "python",
   "pygments_lexer": "ipython3",
   "version": "3.12.4"
  }
 },
 "nbformat": 4,
 "nbformat_minor": 5
}
